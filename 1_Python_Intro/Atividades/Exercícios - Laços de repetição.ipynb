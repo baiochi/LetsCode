{
 "cells": [
  {
   "cell_type": "markdown",
   "metadata": {},
   "source": [
    "### Questão 1\n",
    "\n",
    "Faça um programa para perguntar 10 números e informar a soma total destes números."
   ]
  },
  {
   "cell_type": "code",
   "execution_count": null,
   "metadata": {},
   "outputs": [],
   "source": [
    "soma = 0\n",
    "for i in range(10) :\n",
    "    soma += int(input(\"Digite o número {}: \".format(i+1)))\n",
    "print(\"A soma dos números = \", soma)"
   ]
  },
  {
   "cell_type": "markdown",
   "metadata": {},
   "source": [
    "### Questão 2\n",
    "\n",
    "Faça um programa que escreva todos os números múltiplos de 7 entre 1 e N, sendo N um valor introduzido pelo usuário. Por exemplos: 7, 14, 21, 28, 35."
   ]
  },
  {
   "cell_type": "code",
   "execution_count": null,
   "metadata": {},
   "outputs": [],
   "source": [
    "N = int(input(\"Digite um número inteiro: \"))\n",
    "\n",
    "for i in range(1,N+1) :\n",
    "    if (i)%7 == 0 :\n",
    "        print(i, end=\" \")\n",
    "\n",
    "\"\"\"i = 0\n",
    "while i < N :\n",
    "    if (i+1)%7 == 0 :\n",
    "        print(i+1, end=\" \")\n",
    "    i += 1\"\"\"\n",
    "\n",
    "[i for i in range(1,N+1) if (i)%7 == 0 ]\n",
    "    "
   ]
  },
  {
   "cell_type": "markdown",
   "metadata": {},
   "source": [
    "### Questão 3\n",
    "\n",
    "Faça um programa para somar os números compreendidos entre 1 e 1000."
   ]
  },
  {
   "cell_type": "code",
   "execution_count": null,
   "metadata": {},
   "outputs": [],
   "source": [
    "print('Olá, {nome}! Este é seu acesso de número {acessos}'.format(acessos = 32, nome = 'Rodrigo'))"
   ]
  },
  {
   "cell_type": "markdown",
   "metadata": {},
   "source": [
    "### Questão 4\n",
    "\n",
    "Faça a multiplicação entre dois números usando somente soma."
   ]
  },
  {
   "cell_type": "code",
   "execution_count": null,
   "metadata": {},
   "outputs": [],
   "source": []
  },
  {
   "cell_type": "markdown",
   "metadata": {},
   "source": [
    "### Questão 5\n",
    "\n",
    "Faça um programa, usando loops, que peça para um usuário digitar um número e que só finaliza quando o usuário digitar 0. Ao final imprima a soma de todos os números digitados"
   ]
  },
  {
   "cell_type": "code",
   "execution_count": null,
   "metadata": {},
   "outputs": [],
   "source": []
  },
  {
   "cell_type": "markdown",
   "metadata": {},
   "source": [
    "### Questão 6\n",
    "\n",
    "Faça um programa que lê uma indeterminada quantidade de números até que o 0 (zero) seja digitado. Ao final, mostre os três menores de forma decrescente."
   ]
  },
  {
   "cell_type": "code",
   "execution_count": null,
   "metadata": {},
   "outputs": [],
   "source": []
  },
  {
   "cell_type": "markdown",
   "metadata": {},
   "source": [
    "### Questão 7\n",
    "\n",
    "Informe, de forma decrescente todos os pares entre N (número fornecido pelo usuário) e -N."
   ]
  },
  {
   "cell_type": "code",
   "execution_count": null,
   "metadata": {},
   "outputs": [],
   "source": []
  },
  {
   "cell_type": "markdown",
   "metadata": {},
   "source": [
    "### Questão 8\n",
    "\n",
    "Faça um programa para simular uma situação simples de depósito, retirada e consulta em um banco. Exiba o seguinte menu com as opções:  \n",
    "\n",
    "1 - Depósito  \n",
    "2 - Retirada  \n",
    "3 - Saldo  \n",
    "4 - Sair do algoritmo  \n",
    "\n",
    "Se a escolha do usuário for depósito ou retirada, o algoritmo deverá pedir o valor da operação e atualizar automaticamente o valor existente na conta. O algoritmo deverá ser utilizado até que o usuário escolha a opção sair do algoritmo."
   ]
  },
  {
   "cell_type": "code",
   "execution_count": null,
   "metadata": {},
   "outputs": [],
   "source": []
  },
  {
   "cell_type": "code",
   "execution_count": null,
   "metadata": {},
   "outputs": [],
   "source": [
    "teste = [4,5,-2,3,5,-1,0,-34,-4,1,6,2,-9]\n",
    "\n",
    "lista_p = [item for item in teste if item >= 0]\n",
    "lista_n = [item for item in teste if item < 0]\n",
    "\n"
   ]
  },
  {
   "cell_type": "code",
   "execution_count": null,
   "metadata": {},
   "outputs": [],
   "source": [
    "lista = [1,3,2,5,6,8,2,10]\n",
    "\n",
    "\n",
    "#for item in lista :\n",
    "#    print(\"Elemento #{} = {}\".format( _X_ , item))\n",
    "\n",
    "\n",
    "for i in range(len(lista)) :\n",
    "    print(\"Elemento #{} = {}\".format(i+1, lista[i]))\n",
    "\n",
    "for i, item in enumerate(lista) :\n",
    "    print(\"Elemento #{} = {}\".format(i+1, item))\n",
    "\n",
    "type(enumerate(lista))"
   ]
  },
  {
   "cell_type": "markdown",
   "metadata": {},
   "source": [
    "Escreva um algoritmo que receba um numero e calcule seu fatorial"
   ]
  },
  {
   "cell_type": "code",
   "execution_count": null,
   "metadata": {
    "scrolled": true
   },
   "outputs": [],
   "source": [
    "\"\"\"n = 0\n",
    "while n == 0:\n",
    "    numero = int(input(\"Digite um número inteiro e positivo: \"))\n",
    "    if numero > 0:\n",
    "        break\n",
    "    else:\n",
    "        print(\"Valor incorreto!\")\"\"\"\n",
    "\n",
    "numero = int(input(\"Digite um número inteiro e positivo: \"))\n",
    "fatorial = 1\n",
    "\n",
    "for i in range(numero) :\n",
    "    fatorial *= i+1\n",
    "    \n",
    "print(\"Fatorial de {} = {}\".format(numero, fatorial))\n",
    "\n",
    "\"\"\"fatorial = int(input(\"Digite um número inteiro e positivo: \"))\n",
    "for i in range(fatorial,1,-1) :\n",
    "    fatorial *= i-1\n",
    "\n",
    "print(\"Fatorial = \", fatorial)\"\"\"\n",
    "\n"
   ]
  },
  {
   "cell_type": "code",
   "execution_count": null,
   "metadata": {},
   "outputs": [],
   "source": [
    "# numero divisiveis por 8 de 1 a 1000\n",
    "\n",
    "print(sum([list(str(numero)).count(\"6\") for numero in range(1, 1001)]))"
   ]
  },
  {
   "cell_type": "code",
   "execution_count": 6,
   "metadata": {},
   "outputs": [
    {
     "data": {
      "text/plain": [
       "'batata'"
      ]
     },
     "execution_count": 6,
     "metadata": {},
     "output_type": "execute_result"
    }
   ],
   "source": []
  }
 ],
 "metadata": {
  "kernelspec": {
   "display_name": "Python 3",
   "language": "python",
   "name": "python3"
  },
  "language_info": {
   "codemirror_mode": {
    "name": "ipython",
    "version": 3
   },
   "file_extension": ".py",
   "mimetype": "text/x-python",
   "name": "python",
   "nbconvert_exporter": "python",
   "pygments_lexer": "ipython3",
   "version": "3.8.5"
  }
 },
 "nbformat": 4,
 "nbformat_minor": 4
}
