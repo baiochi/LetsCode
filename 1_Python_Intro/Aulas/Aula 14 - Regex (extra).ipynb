{
 "cells": [
  {
   "cell_type": "markdown",
   "metadata": {},
   "source": [
    "# Regex\n",
    "\n",
    "<a href=\"https://docs.python.org/pt-br/3.8/howto/regex.html\">Documentação</a>"
   ]
  },
  {
   "cell_type": "code",
   "execution_count": 2,
   "metadata": {},
   "outputs": [],
   "source": [
    "# Importa biblioteca\n",
    "import re"
   ]
  },
  {
   "cell_type": "markdown",
   "metadata": {},
   "source": [
    "## Principais funções do re\n",
    "\n",
    "compile() : cria uma expressão regular<br>\n",
    "match()   : Determina se a RE combina com o início da string.<br>\n",
    "search()  : Varre toda a string, procurando qualquer local onde esta RE tem correspondência.<br>\n",
    "findall() : Encontra todas as substrings onde a RE corresponde, e as retorna como uma lista.<br>\n",
    "finditer(): Encontra todas as substrings onde a RE corresponde, e as retorna como um iterador.<br>\n",
    "\n",
    "match() e search() retornam *none* se não encontra o padrão; ou um objeto match com as informações (a substring, posição onde começa e termina e etc)."
   ]
  },
  {
   "cell_type": "code",
   "execution_count": 3,
   "metadata": {},
   "outputs": [
    {
     "name": "stdout",
     "output_type": "stream",
     "text": [
      "<re.Match object; span=(1, 2), match='A'>\n"
     ]
    }
   ],
   "source": [
    "p = re.search(\"A\", \"LARISSA\")\n",
    "print(p)"
   ]
  },
  {
   "cell_type": "markdown",
   "metadata": {},
   "source": [
    "## Objeto match\n",
    "\n",
    "### Atributos\n",
    "\n",
    "group() : Retorna a string que corresponde com a RE<br>\n",
    "start() : Retorna a posição inicial da string correspondente<br>\n",
    "end() : Retorna a posição final da string correspondente<br>\n",
    "span() : Retorna uma tupla contendo as posições (inicial, final) da string combinada<br>"
   ]
  },
  {
   "cell_type": "code",
   "execution_count": 4,
   "metadata": {},
   "outputs": [
    {
     "name": "stdout",
     "output_type": "stream",
     "text": [
      "Substring: 'A'; posição inicial: 1; posição final: 2\n"
     ]
    }
   ],
   "source": [
    "print(f\"Substring: '{p.group()}'; posição inicial: {p.start()}; posição final: {p.end()}\") "
   ]
  },
  {
   "cell_type": "markdown",
   "metadata": {},
   "source": [
    "## Padrões\n",
    "\n",
    "[a-z] : qualquer letra minúscula\n",
    "\n",
    "[a-zA-Z] : qualquer letra\n",
    "\n",
    "\\w : quaquer caracter alfa-numérico (equivale a [a-zA-Z0-9]\n",
    "\n",
    "\\+ : uma ou mais repetições\n",
    "\n",
    "\\* : repete o caracter anterior de 0 a n vezes.\n",
    "\n",
    "^ : na frente de um caracter, funciona como um não lógico, ou seja, considera que o padrão é não apresentar tal caracter.\n",
    "\n",
    "e muuuuitos outros mais..."
   ]
  },
  {
   "cell_type": "markdown",
   "metadata": {},
   "source": [
    "## Exemplos\n",
    "\n",
    "**Exemplo 1**\n",
    "\n",
    "Função que busca um texto que tenha um \"a\" seguido de um ou mais \"b's\"."
   ]
  },
  {
   "cell_type": "code",
   "execution_count": 19,
   "metadata": {},
   "outputs": [
    {
     "name": "stdout",
     "output_type": "stream",
     "text": [
      "Substring: 'ab'; posição inicial: 0; posição final: 2\n",
      "Não encontrou\n",
      "Substring: 'abbbb'; posição inicial: 0; posição final: 5\n"
     ]
    }
   ],
   "source": [
    "def verificaPadrao(texto):\n",
    "    p = re.search('a[b]*', texto)\n",
    "    if p:\n",
    "        print(f\"Substring: '{p.group()}'; posição inicial: {p.start()}; posição final: {p.end()}\") \n",
    "    else:\n",
    "        print(\"Não encontrou\")\n",
    "    return\n",
    "\n",
    "verificaPadrao(\"abc\")\n",
    "verificaPadrao(\"nome\")\n",
    "verificaPadrao(\"abbbbc\")"
   ]
  },
  {
   "cell_type": "markdown",
   "metadata": {},
   "source": [
    "**Exemplo 2** \n",
    "\n",
    "Usando findall()"
   ]
  },
  {
   "cell_type": "code",
   "execution_count": 11,
   "metadata": {},
   "outputs": [
    {
     "name": "stdout",
     "output_type": "stream",
     "text": [
      "['abb', 'ab']\n"
     ]
    }
   ],
   "source": [
    "result = re.findall('ab*', \"abbc abc\")\n",
    "print(result)"
   ]
  },
  {
   "cell_type": "markdown",
   "metadata": {},
   "source": [
    "**Exemplo 3**\n",
    "\n",
    "Identificando um CPF"
   ]
  },
  {
   "cell_type": "code",
   "execution_count": 18,
   "metadata": {},
   "outputs": [
    {
     "name": "stdout",
     "output_type": "stream",
     "text": [
      "<re.Match object; span=(0, 14), match='123.465.789-00'>\n",
      "<re.Match object; span=(0, 13), match='123.465.78900'>\n",
      "<re.Match object; span=(0, 11), match='12346578900'>\n",
      "None\n"
     ]
    }
   ],
   "source": [
    "p = re.compile(\"([0-9]{2}[\\.]?[0-9]{3}[\\.]?[0-9]{3}[\\/]?[0-9]{4}[-]?[0-9]{2})|([0-9]{3}[\\.]?[0-9]{3}[\\.]?[0-9]{3}[-]?[0-9]{2})\")\n",
    "\n",
    "print(p.match(\"123.465.789-00\"))\n",
    "print(p.match(\"123.465.78900\"))\n",
    "print(p.match(\"12346578900\"))\n",
    "print(p.match(\"aaa.aaa.aaa-45\"))"
   ]
  },
  {
   "cell_type": "markdown",
   "metadata": {},
   "source": [
    "Esta solução valida estes formatos: 00000000000, 00000000000000, 000.000.000-00, 00.000.000/0000-00 e até 000000000-00 ou 00000000/0000-00, por exemplo. Os pontos e traços são opcionais em cada uma das posições.\n",
    "\n",
    "- [0-9]{2} Faixa de caracteres: 0 a 9, quantidade: 2 caracteres;\n",
    "- [0-9]{3} Faixa de caracteres: 0 a 9, quantidade: 3 caracteres;\n",
    "- [0-9]{4} Faixa de caracteres: 0 a 9, quantidade: 4 caracteres;\n",
    "- [\\\\\\.]?Um ponto, opcional. Foi usado \\ no ponto, pois ele sozinho é caractere especial;\n",
    "- [-]? Um traço, opcional ;\n",
    "- [\\\\\\/]? Uma barra, opcional;\n",
    "- (grupo1)|(grupo2) Se um dos grupos validar, a expressão é válida."
   ]
  },
  {
   "cell_type": "markdown",
   "metadata": {},
   "source": [
    "**Exemplo 4**\n",
    "\n",
    "Verificar se uma string é uma data no formato \"DD/MM/YYYY\""
   ]
  },
  {
   "cell_type": "code",
   "execution_count": 4,
   "metadata": {},
   "outputs": [
    {
     "name": "stdout",
     "output_type": "stream",
     "text": [
      "None\n",
      "<re.Match object; span=(0, 10), match='31-02-4500'>\n"
     ]
    }
   ],
   "source": [
    "# Solução simples\n",
    "p = re.compile(\"^(0?[1-9]|[12][0-9]|3[01])[\\/\\-](0?[1-9]|1[012])[\\/\\-]\\d{4}$\")\n",
    "print(p.match(\"01/mar/2021\"))\n",
    "print(p.match(\"31-02-4500\")) # Mas aceita \"datas\" como: 31/02/4500"
   ]
  },
  {
   "cell_type": "code",
   "execution_count": 27,
   "metadata": {},
   "outputs": [
    {
     "name": "stdout",
     "output_type": "stream",
     "text": [
      "None\n",
      "<re.Match object; span=(0, 10), match='30/07/1921'>\n",
      "<re.Match object; span=(0, 10), match='30-07-2021'>\n",
      "None\n"
     ]
    }
   ],
   "source": [
    "# Solução mais robusta (também aceita dd-mm-yyyy)\n",
    "p = re.compile(\"^([1-9]|0[1-9]|1[0-9]|2[0-9]|3[0-1])(\\.|-|/)([1-9]|0[1-9]|1[0-2])(\\.|-|/)([0-9][0-9]|19[0-9][0-9]|20[0-9][0-9])$\")\n",
    "\n",
    "print(p.match(\"31-02-4500\"))\n",
    "print(p.match(\"30/07/1921\")) # dd/mm/yyyy\n",
    "print(p.match(\"30-07-2021\")) # dd-mm-yyyy\n",
    "print(p.match(\"07-30-2021\")) # mm-dd-yyyy não aceita"
   ]
  },
  {
   "cell_type": "code",
   "execution_count": null,
   "metadata": {},
   "outputs": [],
   "source": []
  }
 ],
 "metadata": {
  "kernelspec": {
   "display_name": "Python 3",
   "language": "python",
   "name": "python3"
  },
  "language_info": {
   "codemirror_mode": {
    "name": "ipython",
    "version": 3
   },
   "file_extension": ".py",
   "mimetype": "text/x-python",
   "name": "python",
   "nbconvert_exporter": "python",
   "pygments_lexer": "ipython3",
   "version": "3.8.5"
  }
 },
 "nbformat": 4,
 "nbformat_minor": 4
}
