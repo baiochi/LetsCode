{
 "cells": [
  {
   "cell_type": "markdown",
   "id": "b61aee28",
   "metadata": {},
   "source": [
    "# Formato YAML\n",
    "\n",
    "- Serialização/codificação de dados de forma legível\n",
    "\n",
    "# Infraestrutura como Código (IaC)\n",
    "\n",
    "- Configuração do modelo, jupyter notebook, servidores etc\n",
    "0 e.g. CloudFormation (AWS), inserting a YAML file\n",
    "\n",
    "Cloud Formation -> Sagemaker Model, Sagemaker EndpointCoinfig\n",
    "Terraform (OpenCV) -> Intância EC2"
   ]
  },
  {
   "cell_type": "markdown",
   "id": "7201d180",
   "metadata": {},
   "source": [
    "aws cloudformation create-stack --stack-name turma735 --template-body file://cfn.yaml -- capabillities CAPABILLITY_NAMED_IAM {\n",
    "\t\"StackID\": \"<INSERT CLOUDFORMATION ID>\"\n",
    "}"
   ]
  },
  {
   "cell_type": "markdown",
   "id": "202583b7",
   "metadata": {},
   "source": [
    "terraform init\n",
    "\n",
    "terraform plan\n",
    "\n",
    "terraform apply"
   ]
  },
  {
   "cell_type": "code",
   "execution_count": 1,
   "id": "ac7292a0",
   "metadata": {},
   "outputs": [],
   "source": [
    "#!pip install -q -U pip\n",
    "#!pip install -q scikit-learn==0.24.1\n",
    "#!pip install -q joblib"
   ]
  },
  {
   "cell_type": "code",
   "execution_count": 6,
   "id": "487ee9b1",
   "metadata": {},
   "outputs": [],
   "source": [
    "import pandas as pd\n",
    "from sklearn.datasets import load_boston\n",
    "from sklearn.model_selection import train_test_split\n",
    "from sklearn.ensemble import RandomForestRegressor"
   ]
  },
  {
   "cell_type": "code",
   "execution_count": 5,
   "id": "80865314",
   "metadata": {},
   "outputs": [],
   "source": [
    "# Utilizando Dataset Boston \n",
    "data = load_boston()\n",
    "\n",
    "#Split de Teste E treino\n",
    "X_train, X_test, y_train, y_test = train_test_split(data.data, data.target, test_size=0.25, random_state=42)\n",
    "\n",
    "#Treino - Dataframe\n",
    "trainX = pd.DataFrame(X_train, columns=data.feature_names)\n",
    "trainX['target'] = y_train\n",
    "\n",
    "# #Teste Dataframe\n",
    "testX = pd.DataFrame(X_test, columns=data.feature_names)\n",
    "testX['target'] = y_test"
   ]
  },
  {
   "cell_type": "code",
   "execution_count": 7,
   "id": "69ac17e2",
   "metadata": {},
   "outputs": [],
   "source": [
    "def train_model(n_estimators, min_samples_leaf):\n",
    "\n",
    "    #Features do Dataset\n",
    "    features = 'CRIM ZN INDUS CHAS NOX RM AGE DIS RAD TAX PTRATIO B LSTAT'\n",
    "\n",
    "    X_train = trainX[features.split()]\n",
    "    X_test = testX[features.split()]\n",
    "    y_train = trainX['target']\n",
    "    y_test = testX['target']\n",
    "\n",
    "    # Treino do Modelo\n",
    "    model = RandomForestRegressor(\n",
    "        n_estimators=n_estimators,\n",
    "        min_samples_leaf=min_samples_leaf,\n",
    "        n_jobs=-1\n",
    "    )\n",
    "\n",
    "    model.fit(X_train, y_train)"
   ]
  },
  {
   "cell_type": "code",
   "execution_count": 8,
   "id": "b1f6a615",
   "metadata": {},
   "outputs": [],
   "source": [
    "train_model(3, 2)"
   ]
  },
  {
   "cell_type": "code",
   "execution_count": null,
   "id": "8b0e1f15",
   "metadata": {},
   "outputs": [],
   "source": []
  }
 ],
 "metadata": {
  "kernelspec": {
   "display_name": "Python 3.9.12 ('base')",
   "language": "python",
   "name": "python3"
  },
  "language_info": {
   "codemirror_mode": {
    "name": "ipython",
    "version": 3
   },
   "file_extension": ".py",
   "mimetype": "text/x-python",
   "name": "python",
   "nbconvert_exporter": "python",
   "pygments_lexer": "ipython3",
   "version": "3.9.12"
  },
  "toc": {
   "base_numbering": 1,
   "nav_menu": {},
   "number_sections": true,
   "sideBar": true,
   "skip_h1_title": false,
   "title_cell": "Table of Contents",
   "title_sidebar": "Contents",
   "toc_cell": false,
   "toc_position": {},
   "toc_section_display": true,
   "toc_window_display": false
  },
  "vscode": {
   "interpreter": {
    "hash": "4cc37c5bde6f2c4a9abbb0f88e1ba241d8320ce9d430498035b829e5a00e7fb9"
   }
  }
 },
 "nbformat": 4,
 "nbformat_minor": 5
}
