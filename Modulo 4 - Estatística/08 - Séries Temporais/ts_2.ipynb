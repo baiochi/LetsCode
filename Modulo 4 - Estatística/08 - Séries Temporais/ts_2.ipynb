{
 "cells": [
  {
   "cell_type": "code",
   "execution_count": 1,
   "metadata": {},
   "outputs": [],
   "source": [
    "import numpy as np\n",
    "import pandas as pd\n",
    "import matplotlib.pyplot as plt\n",
    "import datetime as dt\n",
    "import seaborn as sns; sns.set()\n",
    "from pandas_datareader.data import DataReader\n",
    "\n",
    "%matplotlib inline\n",
    "\n",
    "# pra ignorar alguns avisos que podem aparecer\n",
    "import warnings\n",
    "warnings.filterwarnings(\"ignore\")"
   ]
  },
  {
   "cell_type": "markdown",
   "metadata": {},
   "source": [
    "Vamos escolher uma série temporal para usarmos"
   ]
  },
  {
   "cell_type": "code",
   "execution_count": 4,
   "metadata": {},
   "outputs": [],
   "source": [
    "stock = 'AAPL'\n",
    "\n",
    "df = DataReader(stock, data_source = 'yahoo', start = '2013')"
   ]
  },
  {
   "cell_type": "code",
   "execution_count": 5,
   "metadata": {},
   "outputs": [
    {
     "data": {
      "text/html": [
       "<div>\n",
       "<style scoped>\n",
       "    .dataframe tbody tr th:only-of-type {\n",
       "        vertical-align: middle;\n",
       "    }\n",
       "\n",
       "    .dataframe tbody tr th {\n",
       "        vertical-align: top;\n",
       "    }\n",
       "\n",
       "    .dataframe thead th {\n",
       "        text-align: right;\n",
       "    }\n",
       "</style>\n",
       "<table border=\"1\" class=\"dataframe\">\n",
       "  <thead>\n",
       "    <tr style=\"text-align: right;\">\n",
       "      <th></th>\n",
       "      <th>High</th>\n",
       "      <th>Low</th>\n",
       "      <th>Open</th>\n",
       "      <th>Close</th>\n",
       "      <th>Volume</th>\n",
       "      <th>Adj Close</th>\n",
       "    </tr>\n",
       "    <tr>\n",
       "      <th>Date</th>\n",
       "      <th></th>\n",
       "      <th></th>\n",
       "      <th></th>\n",
       "      <th></th>\n",
       "      <th></th>\n",
       "      <th></th>\n",
       "    </tr>\n",
       "  </thead>\n",
       "  <tbody>\n",
       "    <tr>\n",
       "      <th>2013-01-02</th>\n",
       "      <td>79.285713</td>\n",
       "      <td>77.375717</td>\n",
       "      <td>79.142860</td>\n",
       "      <td>78.432854</td>\n",
       "      <td>140124866.0</td>\n",
       "      <td>74.945374</td>\n",
       "    </tr>\n",
       "    <tr>\n",
       "      <th>2013-01-03</th>\n",
       "      <td>78.524284</td>\n",
       "      <td>77.285713</td>\n",
       "      <td>78.278572</td>\n",
       "      <td>77.442268</td>\n",
       "      <td>88240950.0</td>\n",
       "      <td>73.998848</td>\n",
       "    </tr>\n",
       "    <tr>\n",
       "      <th>2013-01-04</th>\n",
       "      <td>76.947128</td>\n",
       "      <td>75.118370</td>\n",
       "      <td>76.735718</td>\n",
       "      <td>75.285713</td>\n",
       "      <td>148581860.0</td>\n",
       "      <td>71.938156</td>\n",
       "    </tr>\n",
       "    <tr>\n",
       "      <th>2013-01-07</th>\n",
       "      <td>75.614288</td>\n",
       "      <td>73.599998</td>\n",
       "      <td>74.578568</td>\n",
       "      <td>74.842857</td>\n",
       "      <td>121038176.0</td>\n",
       "      <td>71.514961</td>\n",
       "    </tr>\n",
       "    <tr>\n",
       "      <th>2013-01-08</th>\n",
       "      <td>75.984283</td>\n",
       "      <td>74.464287</td>\n",
       "      <td>75.552856</td>\n",
       "      <td>75.044289</td>\n",
       "      <td>114676751.0</td>\n",
       "      <td>71.707466</td>\n",
       "    </tr>\n",
       "  </tbody>\n",
       "</table>\n",
       "</div>"
      ],
      "text/plain": [
       "                 High        Low       Open      Close       Volume  Adj Close\n",
       "Date                                                                          \n",
       "2013-01-02  79.285713  77.375717  79.142860  78.432854  140124866.0  74.945374\n",
       "2013-01-03  78.524284  77.285713  78.278572  77.442268   88240950.0  73.998848\n",
       "2013-01-04  76.947128  75.118370  76.735718  75.285713  148581860.0  71.938156\n",
       "2013-01-07  75.614288  73.599998  74.578568  74.842857  121038176.0  71.514961\n",
       "2013-01-08  75.984283  74.464287  75.552856  75.044289  114676751.0  71.707466"
      ]
     },
     "execution_count": 5,
     "metadata": {},
     "output_type": "execute_result"
    }
   ],
   "source": [
    "df.head()"
   ]
  },
  {
   "cell_type": "code",
   "execution_count": 6,
   "metadata": {},
   "outputs": [],
   "source": [
    "prices = df['Adj Close']\n",
    "\n",
    "idx = pd.date_range(prices.index[0], prices.index[-1])\n",
    "\n",
    "prices = prices.reindex(idx, method = 'ffill')"
   ]
  },
  {
   "cell_type": "code",
   "execution_count": 7,
   "metadata": {},
   "outputs": [
    {
     "data": {
      "text/plain": [
       "2013-01-02    74.945374\n",
       "2013-01-03    73.998848\n",
       "2013-01-04    71.938156\n",
       "2013-01-05    71.938156\n",
       "2013-01-06    71.938156\n",
       "Freq: D, Name: Adj Close, dtype: float64"
      ]
     },
     "execution_count": 7,
     "metadata": {},
     "output_type": "execute_result"
    }
   ],
   "source": [
    "prices.head()"
   ]
  },
  {
   "cell_type": "markdown",
   "metadata": {},
   "source": [
    "## Autocorrelação\n",
    "\n",
    "Um dos conceitos mais importantes que permeará nossos modelos autorregressivos será o de **autocorrelação**, que nada mais é que a **correlação da série temporal com uma cópia dela mesma**, mas de uma forma **defasada** (ou seja, tomando cópias intervalados por períodos denominados **lags**):\n",
    "\n",
    "<img src=\"https://i1.wp.com/www.business-science.io/assets/lag-explanation.PNG?w=584\" width=400>\n",
    "\n",
    "Para visualizar a autocorrelação, é muito comum que utilizemos os plots **ACF** e **PACF**:"
   ]
  },
  {
   "cell_type": "markdown",
   "metadata": {},
   "source": [
    "### Função de Autocorrelação - Auto Correlation Function (ACF)\n",
    "\n",
    "A função de autocorrelação, ACF, é calculada considerando **todos os instantes de tempo intermediários dentro do lag a partir do primeiro instante de tempo**.\n",
    "\n",
    "É muito comum visualizá-la com auxílio da biblioteca statsmodels:"
   ]
  },
  {
   "cell_type": "code",
   "execution_count": 8,
   "metadata": {},
   "outputs": [],
   "source": [
    "from statsmodels.graphics.tsaplots import plot_acf"
   ]
  },
  {
   "cell_type": "code",
   "execution_count": 10,
   "metadata": {},
   "outputs": [
    {
     "data": {
      "image/png": "[encoded data removed]",
      "text/plain": [
       "<Figure size 432x288 with 1 Axes>"
      ]
     },
     "metadata": {
      "needs_background": "light"
     },
     "output_type": "display_data"
    }
   ],
   "source": [
    "plot_acf(prices)\n",
    "plt.show()"
   ]
  },
  {
   "cell_type": "code",
   "execution_count": 12,
   "metadata": {},
   "outputs": [
    {
     "data": {
      "text/plain": [
       "<AxesSubplot:xlabel='Lag', ylabel='Autocorrelation'>"
      ]
     },
     "execution_count": 12,
     "metadata": {},
     "output_type": "execute_result"
    },
    {
     "data": {
      "image/png": "[encoded data removed]",
      "text/plain": [
       "<Figure size 432x288 with 1 Axes>"
      ]
     },
     "metadata": {
      "needs_background": "light"
     },
     "output_type": "display_data"
    }
   ],
   "source": [
    "from pandas.plotting import autocorrelation_plot\n",
    "\n",
    "autocorrelation_plot(prices)"
   ]
  },
  {
   "cell_type": "markdown",
   "metadata": {},
   "source": [
    "### Função de Autocorrelação Parcial - Partial Auto Correlation Function (PACF)\n",
    "\n",
    "A função de autocorrelação parcial, PACF, é calculada considerando **apenas os instantes de tempo do lag, sem considerar os instantes intermediários**.\n",
    "\n",
    "Também há um método do statsmodels para visualizarmos a PACF:"
   ]
  },
  {
   "cell_type": "code",
   "execution_count": 13,
   "metadata": {},
   "outputs": [],
   "source": [
    "from statsmodels.graphics.tsaplots import plot_pacf"
   ]
  },
  {
   "cell_type": "code",
   "execution_count": 14,
   "metadata": {},
   "outputs": [
    {
     "data": {
      "image/png": "[encoded data removed]",
      "text/plain": [
       "<Figure size 432x288 with 1 Axes>"
      ]
     },
     "metadata": {
      "needs_background": "light"
     },
     "output_type": "display_data"
    }
   ],
   "source": [
    "plot_pacf(prices)\n",
    "plt.show()"
   ]
  },
  {
   "cell_type": "markdown",
   "metadata": {},
   "source": [
    "### Estacionariedade\n",
    "\n",
    "Uma série temporal é dita **estacionária** quando ela se desenvolve no tempo aleatoriamente ao redor de uma **média constante**, e com **variância constante**, refletindo um equilíbrio estável:\n",
    "\n",
    "<img src=\"https://miro.medium.com/max/2580/1*tkx0_wwQ2JT7pSlTeg4yzg.png\" width=550><br>\n",
    "\n",
    "<img src=\"https://miro.medium.com/max/1147/1*xdblkZyg6YmmReAkZHUksw.png\" width=650>\n",
    "\n",
    "\n",
    "> -**Random walks** são exemplos de séries **não estacionárias**:\n",
    "\n",
    "<img src=\"https://3qeqpr26caki16dnhd19sv6by6v-wpengine.netdna-ssl.com/wp-content/uploads/2017/01/Random-Walk-Line-Plot.png\" width=450>\n",
    "\n",
    "> **Séries sazonais** também não são estacionárias:\n",
    "\n",
    "<img src=\"https://anomaly.io/wp-content/uploads/2015/12/multiplicative-model.png\" width=450>\n",
    "\n",
    "> - **White noise** é estacionário:\n",
    "\n",
    "<img src=\"https://www.researchgate.net/publication/279249485/figure/fig10/AS:272660147994627@1442018653078/An-example-of-a-stationary-time-series-specifically-a-series-of-uncorrelated-white.png\" width=500>\n",
    "\n",
    "Para avaliarmos se uma série temporal é ou não estacionária, fazemos o [teste de Dickey-Fuller](https://en.wikipedia.org/wiki/Dickey%E2%80%93Fuller_test)."
   ]
  },
  {
   "cell_type": "code",
   "execution_count": 22,
   "metadata": {},
   "outputs": [],
   "source": [
    "prices =  prices.loc[:'2019-11']"
   ]
  },
  {
   "cell_type": "code",
   "execution_count": 23,
   "metadata": {},
   "outputs": [
    {
     "data": {
      "text/plain": [
       "<AxesSubplot:ylabel='Adj Close'>"
      ]
     },
     "execution_count": 23,
     "metadata": {},
     "output_type": "execute_result"
    },
    {
     "data": {
      "image/png": "[encoded data removed]",
      "text/plain": [
       "<Figure size 432x288 with 1 Axes>"
      ]
     },
     "metadata": {
      "needs_background": "light"
     },
     "output_type": "display_data"
    }
   ],
   "source": [
    "sns.lineplot(x = prices.index, y = prices)"
   ]
  },
  {
   "cell_type": "code",
   "execution_count": 24,
   "metadata": {},
   "outputs": [
    {
     "data": {
      "text/plain": [
       "(0.6635963802616487,\n",
       " 0.9890826581502908,\n",
       " 13,\n",
       " 2510,\n",
       " {'1%': -3.4329579682301254,\n",
       "  '5%': -2.8626921885291017,\n",
       "  '10%': -2.5673833542324727},\n",
       " 9937.456625668972)"
      ]
     },
     "execution_count": 24,
     "metadata": {},
     "output_type": "execute_result"
    }
   ],
   "source": [
    "from statsmodels.tsa.stattools import adfuller\n",
    "\n",
    "adfuller(prices)"
   ]
  },
  {
   "cell_type": "markdown",
   "metadata": {},
   "source": [
    "Para **tornarmos uma série não-estacionária estacionária**, há um procedimento muito simples que modemos tentar fazer:\n",
    "tomar as variações entre diferentes instantes de tempo, o que fazemos com o método `diff()`, que é bem similar ao `pct_change()`, exceto pelo fato de que não há a divisão pelo instante anterior:\n",
    "\n",
    "> `diff()`: $P_t - P_{t-1}$\n",
    "\n",
    "> `pct_change()`: $\\frac{P_t - P_{t-1}}{P_{t-1}}$"
   ]
  },
  {
   "cell_type": "code",
   "execution_count": 25,
   "metadata": {},
   "outputs": [
    {
     "data": {
      "text/plain": [
       "2013-01-03   -0.946526\n",
       "2013-01-04   -2.060692\n",
       "2013-01-05    0.000000\n",
       "2013-01-06    0.000000\n",
       "2013-01-07   -0.423195\n",
       "                ...   \n",
       "2019-11-26   -2.053223\n",
       "2019-11-27    3.504303\n",
       "2019-11-28    0.000000\n",
       "2019-11-29   -0.582428\n",
       "2019-11-30    0.000000\n",
       "Freq: D, Name: Adj Close, Length: 2523, dtype: float64"
      ]
     },
     "execution_count": 25,
     "metadata": {},
     "output_type": "execute_result"
    }
   ],
   "source": [
    "difs = prices.diff().dropna()\n",
    "\n",
    "difs"
   ]
  },
  {
   "cell_type": "code",
   "execution_count": 26,
   "metadata": {},
   "outputs": [
    {
     "data": {
      "text/plain": [
       "<AxesSubplot:ylabel='Adj Close'>"
      ]
     },
     "execution_count": 26,
     "metadata": {},
     "output_type": "execute_result"
    },
    {
     "data": {
      "image/png": "[encoded data removed]",
      "text/plain": [
       "<Figure size 432x288 with 1 Axes>"
      ]
     },
     "metadata": {
      "needs_background": "light"
     },
     "output_type": "display_data"
    }
   ],
   "source": [
    "sns.lineplot(x = difs.index, y = difs)"
   ]
  },
  {
   "cell_type": "code",
   "execution_count": 27,
   "metadata": {},
   "outputs": [
    {
     "data": {
      "text/plain": [
       "(-13.224613016409505,\n",
       " 9.859472778662617e-25,\n",
       " 12,\n",
       " 2510,\n",
       " {'1%': -3.4329579682301254,\n",
       "  '5%': -2.8626921885291017,\n",
       "  '10%': -2.5673833542324727},\n",
       " 9932.834876934747)"
      ]
     },
     "execution_count": 27,
     "metadata": {},
     "output_type": "execute_result"
    }
   ],
   "source": [
    "adfuller(difs)"
   ]
  },
  {
   "cell_type": "markdown",
   "metadata": {},
   "source": [
    "Agora que conhecemos o importanto processo de estacionaridade, vamos introduzir dois procedimentos que são utilizados **para modelar processos estacionários**."
   ]
  },
  {
   "cell_type": "markdown",
   "metadata": {},
   "source": [
    "## Modelos AR\n",
    "\n",
    "O primeiro modelo que vamos tratar é o **Modelo AutoRegressivo** (daí o **AR**). \n",
    "\n",
    "O objetivo deste (e dos demais modelos que veremos) é **capturar o padrão por trás da série e prever o comportamento futuro a partir do passado**.\n",
    "\n",
    "Este modelo estabelece uma relação muito precisa entre diferentes instantes de tempo, expressa a seguir como o **modelo autorregressivo de ordem $p$ - $\\text{AR}(p)$:**\n",
    "\n",
    "\n",
    "$$R_t = \\mu + \\sum_{i=1}^p \\phi_i R_{t-i} + \\epsilon_t \\ , $$\n",
    "\n",
    "Ou seja,\n",
    "\n",
    "$$R_t = \\mu + \\phi_1 R_{t-1} + \\phi_2 R_{t-2} + \\cdots + \\phi_p R_{t-p} + \\epsilon_t \\ , $$\n",
    "\n",
    "Onde:\n",
    "\n",
    "- $R_t$ é o instante atual;\n",
    "- $p$ é o número de lags considerado no modelo (também chamado de **ordem** do modelo);\n",
    "- $R_{t-p}$ é o instante de tempo passados p lags;\n",
    "- $\\phi_p$ é o respectivo coeficiente da PACF.\n",
    "\n",
    "Um bom modelo será um que utiliza um número $p$ de lags da PACF fora do cone de confiança (ou seja, estatisticamente significantes).\n"
   ]
  },
  {
   "cell_type": "markdown",
   "metadata": {},
   "source": [
    "## Modelos MA\n",
    "\n",
    "Vamos tratar agora do **Modelo de Média Móvel** (**Moving Average**, daí o **MA**). \n",
    "\n",
    "Diferente dos modelos AR, os modelos MA estabelecem uma relação não entre os valores de diferentes instantes de tempo, mas sim entre **os ruídos de diferentes instantes de tempo**. Esta rellação é xpressa a seguir como o **modelo de média móvel de ordem $q$ - $\\text{MA}(q)$:**\n",
    "\n",
    "$$R_t = \\mu + \\sum_{i=1}^q \\theta_i \\epsilon_{t-i} + \\epsilon_t \\ , $$\n",
    "\n",
    "Ou seja,\n",
    "\n",
    "$$R_t = \\mu + \\theta_1 \\epsilon_{t-1} + \\theta_2\\epsilon_{t-2} + \\cdots + \\theta_q \\epsilon_{t-q} + \\epsilon_t \\ , $$\n",
    "\n",
    "Onde:\n",
    "\n",
    "- $R_t$ é o instante atual;\n",
    "- $q$ é o número de lags considerado no modelo (também chamado de **ordem** do modelo);\n",
    "- $\\epsilon_{t-q}$ é o ruído entre o instante atual e o instante após q lags;\n",
    "- $\\theta_q$ é o respectivo coeficiente da ACF.\n",
    "\n",
    "Um bom modelo será um que utiliza um número $q$ de lags da ACF fora do cone de confiança (ou seja, estatisticamente significantes).\n"
   ]
  },
  {
   "cell_type": "markdown",
   "metadata": {},
   "source": [
    "## Modelos ARIMA\n",
    "\n",
    "Por fim, chegamos ao modelo mais complexo que aprenderemos, o **AutoRegressive Integrated Moving Average**.\n",
    "\n",
    "Estes modelos se diferenciam do ARMA ao incorporar o procedimento de **diferenciação** da série temporal **original e não estacionária**. Este procedimento faz com que a série se torne estacionária para que o forecasting seja feito. Então, como passo final, a diferenciação é revertida com a **integração**, o que faz com que as predições sejam feitas em termos dos valores originais.\n",
    "\n",
    "Assim, poderemos com o ARIMA utilizar diretamente as séries de preços!\n",
    "\n",
    "Os modelos $\\text{ARIMA}(p, d, q)$ têm as seguintes componentes:\n",
    "\n",
    "- p: número de defasagens autoregressivas;\n",
    "- d: ordem da difereenciação das defasagens;\n",
    "- q: número de defasagens das médias móveis.\n",
    "\n",
    "Vamos à construção do modelo!"
   ]
  },
  {
   "cell_type": "code",
   "execution_count": 28,
   "metadata": {},
   "outputs": [],
   "source": [
    "from statsmodels.tsa.arima_model import ARIMA"
   ]
  },
  {
   "cell_type": "code",
   "execution_count": 29,
   "metadata": {},
   "outputs": [],
   "source": [
    "model = ARIMA(prices, order=(1, 1, 1)).fit()"
   ]
  },
  {
   "cell_type": "code",
   "execution_count": 30,
   "metadata": {},
   "outputs": [
    {
     "data": {
      "text/html": [
       "<table class=\"simpletable\">\n",
       "<caption>ARIMA Model Results</caption>\n",
       "<tr>\n",
       "  <th>Dep. Variable:</th>    <td>D.Adj Close</td>   <th>  No. Observations:  </th>   <td>2523</td>   \n",
       "</tr>\n",
       "<tr>\n",
       "  <th>Model:</th>          <td>ARIMA(1, 1, 1)</td>  <th>  Log Likelihood     </th> <td>-5031.156</td>\n",
       "</tr>\n",
       "<tr>\n",
       "  <th>Method:</th>             <td>css-mle</td>     <th>  S.D. of innovations</th>   <td>1.777</td>  \n",
       "</tr>\n",
       "<tr>\n",
       "  <th>Date:</th>          <td>Fri, 10 Dec 2021</td> <th>  AIC                </th> <td>10070.312</td>\n",
       "</tr>\n",
       "<tr>\n",
       "  <th>Time:</th>              <td>21:52:52</td>     <th>  BIC                </th> <td>10093.645</td>\n",
       "</tr>\n",
       "<tr>\n",
       "  <th>Sample:</th>           <td>01-03-2013</td>    <th>  HQIC               </th> <td>10078.779</td>\n",
       "</tr>\n",
       "<tr>\n",
       "  <th></th>                 <td>- 11-30-2019</td>   <th>                     </th>     <td> </td>    \n",
       "</tr>\n",
       "</table>\n",
       "<table class=\"simpletable\">\n",
       "<tr>\n",
       "          <td></td>             <th>coef</th>     <th>std err</th>      <th>z</th>      <th>P>|z|</th>  <th>[0.025</th>    <th>0.975]</th>  \n",
       "</tr>\n",
       "<tr>\n",
       "  <th>const</th>             <td>    0.0749</td> <td>    0.034</td> <td>    2.197</td> <td> 0.028</td> <td>    0.008</td> <td>    0.142</td>\n",
       "</tr>\n",
       "<tr>\n",
       "  <th>ar.L1.D.Adj Close</th> <td>    0.2242</td> <td>    0.318</td> <td>    0.705</td> <td> 0.481</td> <td>   -0.399</td> <td>    0.847</td>\n",
       "</tr>\n",
       "<tr>\n",
       "  <th>ma.L1.D.Adj Close</th> <td>   -0.2527</td> <td>    0.315</td> <td>   -0.802</td> <td> 0.423</td> <td>   -0.870</td> <td>    0.365</td>\n",
       "</tr>\n",
       "</table>\n",
       "<table class=\"simpletable\">\n",
       "<caption>Roots</caption>\n",
       "<tr>\n",
       "    <td></td>   <th>            Real</th>  <th>         Imaginary</th> <th>         Modulus</th>  <th>        Frequency</th>\n",
       "</tr>\n",
       "<tr>\n",
       "  <th>AR.1</th> <td>           4.4606</td> <td>          +0.0000j</td> <td>           4.4606</td> <td>           0.0000</td>\n",
       "</tr>\n",
       "<tr>\n",
       "  <th>MA.1</th> <td>           3.9578</td> <td>          +0.0000j</td> <td>           3.9578</td> <td>           0.0000</td>\n",
       "</tr>\n",
       "</table>"
      ],
      "text/plain": [
       "<class 'statsmodels.iolib.summary.Summary'>\n",
       "\"\"\"\n",
       "                             ARIMA Model Results                              \n",
       "==============================================================================\n",
       "Dep. Variable:            D.Adj Close   No. Observations:                 2523\n",
       "Model:                 ARIMA(1, 1, 1)   Log Likelihood               -5031.156\n",
       "Method:                       css-mle   S.D. of innovations              1.777\n",
       "Date:                Fri, 10 Dec 2021   AIC                          10070.312\n",
       "Time:                        21:52:52   BIC                          10093.645\n",
       "Sample:                    01-03-2013   HQIC                         10078.779\n",
       "                         - 11-30-2019                                         \n",
       "=====================================================================================\n",
       "                        coef    std err          z      P>|z|      [0.025      0.975]\n",
       "-------------------------------------------------------------------------------------\n",
       "const                 0.0749      0.034      2.197      0.028       0.008       0.142\n",
       "ar.L1.D.Adj Close     0.2242      0.318      0.705      0.481      -0.399       0.847\n",
       "ma.L1.D.Adj Close    -0.2527      0.315     -0.802      0.423      -0.870       0.365\n",
       "                                    Roots                                    \n",
       "=============================================================================\n",
       "                  Real          Imaginary           Modulus         Frequency\n",
       "-----------------------------------------------------------------------------\n",
       "AR.1            4.4606           +0.0000j            4.4606            0.0000\n",
       "MA.1            3.9578           +0.0000j            3.9578            0.0000\n",
       "-----------------------------------------------------------------------------\n",
       "\"\"\""
      ]
     },
     "execution_count": 30,
     "metadata": {},
     "output_type": "execute_result"
    }
   ],
   "source": [
    "model.summary()"
   ]
  },
  {
   "cell_type": "code",
   "execution_count": 31,
   "metadata": {},
   "outputs": [],
   "source": [
    "price_test = prices.iloc[-60:]"
   ]
  },
  {
   "cell_type": "code",
   "execution_count": 51,
   "metadata": {},
   "outputs": [],
   "source": [
    "preds = model.predict(start = price_test.index[0],\n",
    "                    end = price_test.index[-1],\n",
    "                    typ = 'levels')"
   ]
  },
  {
   "cell_type": "code",
   "execution_count": 46,
   "metadata": {},
   "outputs": [],
   "source": [
    "price_test_diff = price_test.diff().dropna()"
   ]
  },
  {
   "cell_type": "code",
   "execution_count": 47,
   "metadata": {},
   "outputs": [],
   "source": [
    "price_test_diff = price_test_diff * 0.033"
   ]
  },
  {
   "cell_type": "code",
   "execution_count": 52,
   "metadata": {},
   "outputs": [
    {
     "data": {
      "text/plain": [
       "<AxesSubplot:ylabel='Adj Close'>"
      ]
     },
     "execution_count": 52,
     "metadata": {},
     "output_type": "execute_result"
    },
    {
     "data": {
      "image/png": "[encoded data removed]",
      "text/plain": [
       "<Figure size 1008x576 with 1 Axes>"
      ]
     },
     "metadata": {
      "needs_background": "light"
     },
     "output_type": "display_data"
    }
   ],
   "source": [
    "plt.figure(figsize=(14,8))\n",
    "\n",
    "sns.lineplot(x = preds.index, y = preds)\n",
    "sns.lineplot(x = price_test.index, y = price_test)"
   ]
  }
 ],
 "metadata": {
  "interpreter": {
   "hash": "112989f40982219f9c2133127490be09f86560db102a13a350eb86b01002b443"
  },
  "kernelspec": {
   "display_name": "Python 3.8.8 64-bit ('base': conda)",
   "language": "python",
   "name": "python3"
  },
  "language_info": {
   "codemirror_mode": {
    "name": "ipython",
    "version": 3
   },
   "file_extension": ".py",
   "mimetype": "text/x-python",
   "name": "python",
   "nbconvert_exporter": "python",
   "pygments_lexer": "ipython3",
   "version": "3.8.8"
  },
  "orig_nbformat": 4
 },
 "nbformat": 4,
 "nbformat_minor": 2
}
