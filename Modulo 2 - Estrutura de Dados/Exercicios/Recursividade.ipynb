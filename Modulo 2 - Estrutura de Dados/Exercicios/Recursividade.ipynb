{
 "cells": [
  {
   "cell_type": "code",
   "execution_count": null,
   "metadata": {},
   "outputs": [],
   "source": [
    "# imports"
   ]
  },
  {
   "cell_type": "markdown",
   "metadata": {},
   "source": [
    "# <span style='color:SlateBlue'>Exercício 1</span>    \n",
    "### Desenvolva um script que calcule a soma dos N primeiros números naturais. Utilize a recursividade para obter o resultado."
   ]
  },
  {
   "cell_type": "code",
   "execution_count": null,
   "metadata": {},
   "outputs": [],
   "source": [
    "def calcuNaturalNumbers(n):\n",
    "    print(n)\n",
    "    if n==1:\n",
    "        return 1\n",
    "    return n + calcuNaturalNumbers(n-1)\n",
    "\n",
    "calcuNaturalNumbers(10)"
   ]
  },
  {
   "cell_type": "markdown",
   "metadata": {},
   "source": [
    "# <span style='color:SlateBlue'>Exercício 2</span>    \n",
    "### Dado um array de inteiros e o seu número de elementos, crie uma função recursiva que inverta a posição dos seus elementos."
   ]
  },
  {
   "cell_type": "code",
   "execution_count": 51,
   "metadata": {},
   "outputs": [
    {
     "data": {
      "text/plain": [
       "[7, 6, 5, 4, 3, 2, 1]"
      ]
     },
     "execution_count": 51,
     "metadata": {},
     "output_type": "execute_result"
    }
   ],
   "source": [
    "def invertPosition(array, index=0):\n",
    "    if index == 0 :\n",
    "        index = len(array)\n",
    "    if index == int(len(array)/2):\n",
    "        return array\n",
    "    array[-index], array[index-1] = array[index-1] , array[-index]\n",
    "    return invertPosition(array,index-1)\n",
    "\n",
    "# examples\n",
    "invertPosition([1,2,3,4,5,6,7])\n",
    "invertPosition([1,2,3])\n",
    "invertPosition([1,2,3,4,5,6])"
   ]
  },
  {
   "cell_type": "markdown",
   "metadata": {},
   "source": [
    "# <span style='color:SlateBlue'>Exercício 3</span>    \n",
    "### Desenvolva uma função recursiva que calcule e mostre o maior elemento de um array de tamanho N. Os elementos consistem em números inteiros."
   ]
  },
  {
   "cell_type": "code",
   "execution_count": 1,
   "metadata": {},
   "outputs": [
    {
     "data": {
      "text/plain": [
       "49"
      ]
     },
     "execution_count": 1,
     "metadata": {},
     "output_type": "execute_result"
    }
   ],
   "source": [
    "def recursive_max_element(array, maxValue=0):\n",
    "\n",
    "    # base case\n",
    "    if len(array) == 1:\n",
    "        return maxValue\n",
    "\n",
    "    # check greater value\n",
    "    if maxValue < array[0]:\n",
    "        maxValue = array[0]\n",
    "    \n",
    "    # enter recursive\n",
    "    return recursive_max_element(array[1:], maxValue)\n",
    "\n",
    "# example\n",
    "array = [2,3,5,1,2,8,7,2,9,12,4,3,49,0,1]\n",
    "recursive_max_element(array)"
   ]
  },
  {
   "cell_type": "markdown",
   "metadata": {},
   "source": [
    "# <span style='color:tomato'>DESAFIO: Super Dígito</span>    \n",
    "### O super dígito de um número inteiro x é obtido da seguinte forma:\n",
    "\n",
    "- Se x é composto por apenas um dígito, então, esse dígito é o super dígito de x.\n",
    "- Do contrário, o super dígito de x é igual ao super dígito da soma dos dígitos de x.\n",
    "- Perceba que, enquanto não chegarmos a um número composto por apenas um dígito, ainda não encontramos o super dígito de x.\n",
    "\n",
    "Por exemplificar, o super dígito de 9875 é:\n",
    "\n",
    "super_digit(9875) = 9 + 8 + 7 + 5 = 29  \n",
    "super_digit(29)   = 2 + 9 = 11  \n",
    "super_digit(11)   = 1 + 1 = 2  \n",
    "super_digit(2)    = 2  \n",
    "Portanto, no exemplo acima, se x for igual a 9875, o seu super dígito é igual a 2, pois calculamos o super dígito da soma dos seus dígitos, até que o resultado fosse apenas um número de apenas um dígito.\n",
    "\n",
    "Sabendo disso, o seu desafio é o seguinte:\n",
    "\n",
    "você irá receber dois números do usuário, n e k. A partir desses dois números, você formará um novo número p, que será a concatenação no número n, k vezes. Por exemplo, se n = 9875 e k = 4, p = 9875 9875 9875 9875; ou seja p é 9875, 4 vezes.\n",
    "\n",
    "Sabendo o valor de p, calcule o seu super dígito por meio de uma função recursiva.\n",
    "\n",
    "Exemplo de entrada\t\t\tExemplo de saída  \n",
    "148 3\t\t\t3  \n",
    "9875 4\t\t\t8  \n",
    "123 3\t\t\t9  "
   ]
  },
  {
   "cell_type": "code",
   "execution_count": 26,
   "metadata": {},
   "outputs": [],
   "source": [
    "# super digit recursive function\n",
    "def super_digit(number):\n",
    "    # split number digits into a list\n",
    "    array = [int(i) for i in str(number)]\n",
    "    # base case\n",
    "    if len(array)==1:\n",
    "        return array\n",
    "    # sum all digits in the array\n",
    "    array_sum = sum([element for element in array])\n",
    "    # enter recursion\n",
    "    return super_digit(array_sum)\n",
    "\n",
    "# user input\n",
    "n = int(input('Digite um número inteiro(n): '))\n",
    "k = int(input('Digite a sua frequência(k): '))\n",
    "\n",
    "# concatenate the given number k times\n",
    "p = int(str(n) * k)\n",
    "\n",
    "super_digit(p)"
   ]
  },
  {
   "cell_type": "code",
   "execution_count": 30,
   "metadata": {},
   "outputs": [
    {
     "data": {
      "text/plain": [
       "[8]"
      ]
     },
     "execution_count": 30,
     "metadata": {},
     "output_type": "execute_result"
    }
   ],
   "source": []
  }
 ],
 "metadata": {
  "interpreter": {
   "hash": "b3ba2566441a7c06988d0923437866b63cedc61552a5af99d1f4fb67d367b25f"
  },
  "kernelspec": {
   "display_name": "Python 3.8.8 64-bit (conda)",
   "name": "python3"
  },
  "language_info": {
   "codemirror_mode": {
    "name": "ipython",
    "version": 3
   },
   "file_extension": ".py",
   "mimetype": "text/x-python",
   "name": "python",
   "nbconvert_exporter": "python",
   "pygments_lexer": "ipython3",
   "version": "3.8.8"
  },
  "orig_nbformat": 4
 },
 "nbformat": 4,
 "nbformat_minor": 2
}
