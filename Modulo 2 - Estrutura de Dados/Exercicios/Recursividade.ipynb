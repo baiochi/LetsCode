{
 "cells": [
  {
   "cell_type": "code",
   "execution_count": null,
   "source": [
    "# imports"
   ],
   "outputs": [],
   "metadata": {}
  },
  {
   "cell_type": "markdown",
   "source": [
    "# <span style='color:SlateBlue'>Exercício 1</span>    \r\n",
    "### Desenvolva um script que calcule a soma dos N primeiros números naturais. Utilize a recursividade para obter o resultado."
   ],
   "metadata": {}
  },
  {
   "cell_type": "code",
   "execution_count": null,
   "source": [
    "def calcuNaturalNumbers(n):\r\n",
    "    print(n)\r\n",
    "    if n==1:\r\n",
    "        return 1\r\n",
    "    return n + calcuNaturalNumbers(n-1)\r\n",
    "\r\n",
    "calcuNaturalNumbers(10)"
   ],
   "outputs": [],
   "metadata": {}
  },
  {
   "cell_type": "markdown",
   "source": [
    "# <span style='color:SlateBlue'>Exercício 2</span>    \r\n",
    "### Dado um array de inteiros e o seu número de elementos, crie uma função recursiva que inverta a posição dos seus elementos."
   ],
   "metadata": {}
  },
  {
   "cell_type": "code",
   "execution_count": 51,
   "source": [
    "def invertPosition(array, index=0):\r\n",
    "    if index == 0 :\r\n",
    "        index = len(array)\r\n",
    "    if index == int(len(array)/2):\r\n",
    "        return array\r\n",
    "    array[-index], array[index-1] = array[index-1] , array[-index]\r\n",
    "    return invertPosition(array,index-1)\r\n",
    "\r\n",
    "# examples\r\n",
    "invertPosition([1,2,3,4,5,6,7])\r\n",
    "invertPosition([1,2,3])\r\n",
    "invertPosition([1,2,3,4,5,6])"
   ],
   "outputs": [
    {
     "output_type": "execute_result",
     "data": {
      "text/plain": [
       "[7, 6, 5, 4, 3, 2, 1]"
      ]
     },
     "metadata": {},
     "execution_count": 51
    }
   ],
   "metadata": {}
  },
  {
   "cell_type": "markdown",
   "source": [
    "# <span style='color:SlateBlue'>Exercício 3</span>    \r\n",
    "### Desenvolva uma função recursiva que calcule e mostre o maior elemento de um array de tamanho N. Os elementos consistem em números inteiros."
   ],
   "metadata": {}
  },
  {
   "cell_type": "code",
   "execution_count": null,
   "source": [
    "def arraySize(array):\r\n",
    "    pass\r\n",
    "\r\n",
    "\r\n"
   ],
   "outputs": [],
   "metadata": {}
  },
  {
   "cell_type": "markdown",
   "source": [
    "# <span style='color:tomato'>DESAFIO: Super Dígito</span>    \r\n",
    "### O super dígito de um número inteiro x é obtido da seguinte forma:\r\n",
    "\r\n",
    "- Se x é composto por apenas um dígito, então, esse dígito é o super dígito de x.\r\n",
    "- Do contrário, o super dígito de x é igual ao super dígito da soma dos dígitos de x.\r\n",
    "- Perceba que, enquanto não chegarmos a um número composto por apenas um dígito, ainda não encontramos o super dígito de x.\r\n",
    "\r\n",
    "Por exemplificar, o super dígito de 9875 é:\r\n",
    "\r\n",
    "super_digit(9875) = 9 + 8 + 7 + 5 = 29  \r\n",
    "super_digit(29)   = 2 + 9 = 11  \r\n",
    "super_digit(11)   = 1 + 1 = 2  \r\n",
    "super_digit(2)    = 2  \r\n",
    "Portanto, no exemplo acima, se x for igual a 9875, o seu super dígito é igual a 2, pois calculamos o super dígito da soma dos seus dígitos, até que o resultado fosse apenas um número de apenas um dígito.\r\n",
    "\r\n",
    "Sabendo disso, o seu desafio é o seguinte:\r\n",
    "\r\n",
    "você irá receber dois números do usuário, n e k. A partir desses dois números, você formará um novo número p, que será a concatenação no número n, k vezes. Por exemplo, se n = 9875 e k = 4, p = 9875 9875 9875 9875; ou seja p é 9875, 4 vezes.\r\n",
    "\r\n",
    "Sabendo o valor de p, calcule o seu super dígito por meio de uma função recursiva.\r\n",
    "\r\n",
    "Exemplo de entrada\t\t\tExemplo de saída  \r\n",
    "148 3\t\t\t3  \r\n",
    "9875 4\t\t\t8  \r\n",
    "123 3\t\t\t9  "
   ],
   "metadata": {}
  },
  {
   "cell_type": "code",
   "execution_count": null,
   "source": [],
   "outputs": [],
   "metadata": {}
  }
 ],
 "metadata": {
  "orig_nbformat": 4,
  "language_info": {
   "name": "python",
   "version": "3.8.8",
   "mimetype": "text/x-python",
   "codemirror_mode": {
    "name": "ipython",
    "version": 3
   },
   "pygments_lexer": "ipython3",
   "nbconvert_exporter": "python",
   "file_extension": ".py"
  },
  "kernelspec": {
   "name": "python3",
   "display_name": "Python 3.8.8 64-bit (conda)"
  },
  "interpreter": {
   "hash": "b3ba2566441a7c06988d0923437866b63cedc61552a5af99d1f4fb67d367b25f"
  }
 },
 "nbformat": 4,
 "nbformat_minor": 2
}