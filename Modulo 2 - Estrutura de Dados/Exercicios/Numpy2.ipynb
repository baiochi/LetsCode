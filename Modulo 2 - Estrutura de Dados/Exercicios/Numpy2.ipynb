{
 "cells": [
  {
   "cell_type": "code",
   "execution_count": null,
   "source": [
    "import numpy as np\r\n",
    "from scipy import stats\r\n",
    "import random"
   ],
   "outputs": [],
   "metadata": {}
  },
  {
   "cell_type": "markdown",
   "source": [
    "# <span style='color:SlateBlue'>Exercício 1</span>    \r\n",
    "### Crie uma lista do Python que contenha 10 inteiros aleatórios (entre 0 e 100). Em seguida, a partir da lista criada anteriormente, crie um array do Numpy, utilizando a função array."
   ],
   "metadata": {}
  },
  {
   "cell_type": "code",
   "execution_count": 132,
   "source": [
    "array = np.array(random.sample(range(0,100),10))\r\n",
    "array\r\n"
   ],
   "outputs": [
    {
     "output_type": "execute_result",
     "data": {
      "text/plain": [
       "array([24, 95, 77, 71, 68, 70, 16, 32, 84, 39])"
      ]
     },
     "metadata": {},
     "execution_count": 132
    }
   ],
   "metadata": {}
  },
  {
   "cell_type": "markdown",
   "source": [
    "# <span style='color:SlateBlue'>Exercício 2</span>    \r\n",
    "### Crie um array com 10 elementos (iniciando em zero), em que os elementos tenham um intervalo de 3 unidades entre si."
   ],
   "metadata": {}
  },
  {
   "cell_type": "code",
   "execution_count": null,
   "source": [
    "array = np.arange(0,30,3)\r\n",
    "array"
   ],
   "outputs": [],
   "metadata": {}
  },
  {
   "cell_type": "markdown",
   "source": [
    "# <span style='color:SlateBlue'>Exercício 3</span>    \r\n",
    "### Crie um array com 40 elementos entre 0 e π."
   ],
   "metadata": {}
  },
  {
   "cell_type": "code",
   "execution_count": null,
   "source": [
    "step = np.pi/39\r\n",
    "array = np.arange(0,np.pi+step,step)\r\n",
    "array"
   ],
   "outputs": [],
   "metadata": {}
  },
  {
   "cell_type": "markdown",
   "source": [
    "# <span style='color:SlateBlue'>Exercício 4</span>    \r\n",
    "### Crie um array com 40 elementos, todos iguais a 6."
   ],
   "metadata": {}
  },
  {
   "cell_type": "code",
   "execution_count": null,
   "source": [
    "array = np.array([6]*40)\r\n",
    "array"
   ],
   "outputs": [],
   "metadata": {}
  },
  {
   "cell_type": "markdown",
   "source": [
    "# <span style='color:SlateBlue'>Exercício 5</span>    \r\n",
    "### Divida o array obtido na Questão 4 por 3 e, em seguida, multiplique-o pelo array obtido na Questão 3."
   ],
   "metadata": {}
  },
  {
   "cell_type": "code",
   "execution_count": null,
   "source": [
    "step = np.pi/39\r\n",
    "pyArray = np.arange(0,np.pi+step,step)\r\n",
    "array = np.array([6]*40)\r\n",
    "array = array / 3\r\n",
    "array *= pyArray\r\n",
    "array"
   ],
   "outputs": [],
   "metadata": {}
  },
  {
   "cell_type": "markdown",
   "source": [
    "# <span style='color:SlateBlue'>Exercício 6</span>    \r\n",
    "### Crie um array com 40 números aleatórios, distribuídos uniformemente, entre [0, 5). Em seguida, some-o com o array obtido na Questão 5.\r\n",
    "\r\n",
    "OBS: Utilize a seed 17 para a criação do array aleatório."
   ],
   "metadata": {}
  },
  {
   "cell_type": "code",
   "execution_count": null,
   "source": [
    "random.seed(17)\r\n",
    "array = np.random.uniform(low = 0, high = 5, size=40) * array\r\n",
    "array"
   ],
   "outputs": [],
   "metadata": {}
  },
  {
   "cell_type": "markdown",
   "source": [
    "# <span style='color:SlateBlue'>Exercício 7</span>     \r\n",
    "### Para cada elemento do array da questão anterior, calcule:\r\n",
    "\r\n",
    "- O seno\r\n",
    "- O cosseno\r\n",
    "- O log na base 10\r\n",
    "- O valor arredondado para inteiro"
   ],
   "metadata": {}
  },
  {
   "cell_type": "code",
   "execution_count": null,
   "source": [
    "print(f'Sin values:\\n {np.sin(array)}')\r\n",
    "print(f'Cosin values:\\n {np.cos(array)}')\r\n",
    "print(f'Log10 values:\\n {np.log10(array)}')\r\n",
    "print(f'Int round values:\\n {np.round(array)}')"
   ],
   "outputs": [],
   "metadata": {}
  },
  {
   "cell_type": "markdown",
   "source": [
    "# <span style='color:SlateBlue'>Exercício 8</span>    \r\n",
    "### Lembra que você obteve o seno de um array na questão anterior? Agora, você deve obter um array apenas com os valores positivos do array resultante daquela operação"
   ],
   "metadata": {}
  },
  {
   "cell_type": "code",
   "execution_count": null,
   "source": [
    "array[np.sin(array)>0]"
   ],
   "outputs": [],
   "metadata": {}
  },
  {
   "cell_type": "markdown",
   "source": [
    "# <span style='color:SlateBlue'>Exercício 9</span>   \r\n",
    "### Para os dados contidos no array da Q6, obtenha:\r\n",
    "\r\n",
    "- O valor mínimo\r\n",
    "- O valor máximo\r\n",
    "- A posição do valor mínimo\r\n",
    "- A posição do valor máximo\r\n",
    "- A média dos dados\r\n",
    "- A mediana\r\n",
    "- A moda\r\n",
    "- A variância\r\n",
    "- O desvio padrão\r\n",
    "- O array ordenado (forma crescente)"
   ],
   "metadata": {}
  },
  {
   "cell_type": "code",
   "execution_count": null,
   "source": [
    "print(array)\r\n",
    "print(f'Minimum value: {np.min(array)}')\r\n",
    "print(f'Maximum value: {np.max(array)}')\r\n",
    "print(f'Minimum position: {np.where(array==np.min(array))[0]}')\r\n",
    "print(f'Maximum position: {np.where(array==np.max(array))[0]}')\r\n",
    "print(f'Mean: {np.mean(array)}')\r\n",
    "print(f'Median: {np.median(array)}')\r\n",
    "print(f'Mode: {stats.mode(array)[0]}')\r\n",
    "print(f'Variance: {np.var(array)}')\r\n",
    "print(f'Standart deviation: {np.std(array)}')\r\n",
    "print(f'Orderer array: {np.sort(array)}')"
   ],
   "outputs": [],
   "metadata": {}
  },
  {
   "cell_type": "markdown",
   "source": [
    "# <span style='color:SlateBlue'>Exercício 10</span>    \r\n",
    "### Crie outro array aleatório, porém, dessa vez, com 25 elementos inteiros, no intervalo [50, 100). Em seguida, converta esse array em uma matriz 5 x 5."
   ],
   "metadata": {}
  },
  {
   "cell_type": "code",
   "execution_count": null,
   "source": [
    "array = np.array(random.sample(range(50,100),25))\r\n",
    "array.reshape(5,5)"
   ],
   "outputs": [],
   "metadata": {}
  },
  {
   "cell_type": "markdown",
   "source": [
    "# <span style='color:SlateBlue'>Exercício 11</span>    \r\n",
    "### Construa a matriz ilustrada pela figura abaixo. Em seguida, obtenha os slices (fatiamentos) destacados em cada cor. Em outras palavras, utilizando o conceito de slices, crie um novo array que contenha os dados destacados em vermelho, azul, roxo e verde.\r\n",
    "<img src='E1-Q11.png'>"
   ],
   "metadata": {}
  },
  {
   "cell_type": "code",
   "execution_count": null,
   "source": [
    "array = np.array([[*range(i,i+6)] for i in range(0,56,10)])\r\n",
    "print(array)\r\n",
    "print(f'\\u001b[31;1mRed slice\\u001b[37m:\\n {array[0,3:5]}')\r\n",
    "print(f'\\u001b[36mBlue slice\\u001b[37m:\\n {array[:,2]}')\r\n",
    "print(f'\\033[1;35mPurple slice\\u001b[37m:\\n {array[2::2,::2]}')\r\n",
    "print(f'\\u001b[32mGreen slice\\u001b[37m:\\n {array[-2:,-2:]}')"
   ],
   "outputs": [],
   "metadata": {}
  },
  {
   "cell_type": "markdown",
   "source": [
    "# <span style='color:tomato'>Exercício 12 - DESAFIO</span>  \r\n",
    "### Nesse desafio, iremos praticar o conceito de indexação em imagens! Pois é, caso você ainda não saiba, as imagens são formadas com conjuntos de pixels, e esses pixels são números inteiros (entre 0 e 255). Sendo assim, quando carregamos uma imagem no Python, essa imagem será armazenada em um matriz (Numpy), ou seja, cada pixel dessa imagem será um elemento dessa matriz.  \r\n",
    "### No entanto, é importante que você também saiba que uma imagem colorida é composta por três matrizes, visto que uma imagem colorida é formada por 3 cores básicas: vermelho, verde e azul. Esse é o famoso padrão RGB. Portanto, sua imagem será armazenada em um array tridimensional.  \r\n",
    "\r\n",
    "### Sabendo disso, sua missão será carregar uma imagem colorida (em jpg) e exibir apenas a metade dessa imagem, tanto na horizontal quanto na vertical. Mas, calma... vamos te dar uma ajuda.  \r\n",
    " \r\n",
    "### Primeiro, você precisa instalar a biblioteca skimage para carregar a imagem, além da biblioteca do matplotlib para exibir a imagem (veremos essa biblioteca com mais detalhes nesse curso!), caso você ainda não tenha elas instaladas, claro. Para isso, utilize o comando pip install scikit-image matplotlib, se você estiver utilizando o pip, ou conda install scikit-image matplotlib, se estiver utilizando o Anaconda.  \r\n",
    "\r\n",
    "### Em seguida, observe o código abaixo; ele te mostra como você pode carregar uma imagem e exibi-la. Lembrando... Sua missão será carregar uma imagem colorida (em jpg) e exibir apenas a metade dessa imagem, tanto na horizontal quanto na vertical.  \r\n"
   ],
   "metadata": {}
  },
  {
   "cell_type": "code",
   "execution_count": null,
   "source": [
    "from skimage import io\r\n",
    "import numpy as np\r\n",
    "import matplotlib.pyplot as plt\r\n",
    "\r\n",
    "img = io.imread('images/numpy-logo.png') # Carregamento da imagem\r\n",
    "\r\n",
    "print(type(img))\r\n",
    "\r\n",
    "plt.imshow(img) # Exibição da imagem"
   ],
   "outputs": [],
   "metadata": {}
  },
  {
   "cell_type": "code",
   "execution_count": null,
   "source": [
    "print('Corte vertical, metade esquerda:')\r\n",
    "plt.imshow(img[:,:501])"
   ],
   "outputs": [],
   "metadata": {}
  },
  {
   "cell_type": "code",
   "execution_count": null,
   "source": [
    "print('Corte vertical, metade direita:')\r\n",
    "plt.imshow(img[:,500:])"
   ],
   "outputs": [],
   "metadata": {}
  },
  {
   "cell_type": "code",
   "execution_count": null,
   "source": [
    "print('Corte horizontal, metade superior:')\r\n",
    "plt.imshow(img[:501,:])"
   ],
   "outputs": [],
   "metadata": {}
  },
  {
   "cell_type": "code",
   "execution_count": null,
   "source": [
    "print('Corte horizontal, metade inferior:')\r\n",
    "plt.imshow(img[500:,:])"
   ],
   "outputs": [],
   "metadata": {}
  }
 ],
 "metadata": {
  "orig_nbformat": 4,
  "language_info": {
   "name": "python",
   "version": "3.8.8",
   "mimetype": "text/x-python",
   "codemirror_mode": {
    "name": "ipython",
    "version": 3
   },
   "pygments_lexer": "ipython3",
   "nbconvert_exporter": "python",
   "file_extension": ".py"
  },
  "kernelspec": {
   "name": "python3",
   "display_name": "Python 3.8.8 64-bit (conda)"
  },
  "interpreter": {
   "hash": "b3ba2566441a7c06988d0923437866b63cedc61552a5af99d1f4fb67d367b25f"
  }
 },
 "nbformat": 4,
 "nbformat_minor": 2
}