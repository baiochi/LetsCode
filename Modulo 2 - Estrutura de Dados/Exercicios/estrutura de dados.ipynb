{
 "cells": [
  {
   "cell_type": "markdown",
   "id": "black-heater",
   "metadata": {},
   "source": [
    "__Questão__  \n",
    "a) Crie um array (numpy) formado por 25 números inteiros aleatórios entre 1 e 100. Para isso, utilize a seed 101.\n",
    "\n",
    "b) Em seguida, obtenha apenas os elementos que são maiores ou iguais a 80."
   ]
  },
  {
   "cell_type": "markdown",
   "id": "powered-investment",
   "metadata": {},
   "source": [
    "__Questão__  \n",
    "a) Converta o array da questão anterior (o array com os 25 elementos) em uma matriz com dimensão 5x5.\n",
    "\n",
    "b) Em seguida, crie uma outra matriz 5x5, com todos os elementos iguais a média dos elementos da primeira.\n",
    "\n",
    "c) Por fim, subtraia a primeira matriz pela segunda matriz."
   ]
  },
  {
   "cell_type": "markdown",
   "id": "another-university",
   "metadata": {},
   "source": [
    "__Questão desafio__\n",
    "Crie uma função recursiva que verifique se uma palavra é um palindromo.  \n",
    "Depois, o objetivo de vocês é dado o csv: ```palindromo_exemplo.csv```, iterar nas frases (palindromas) e retornar __True__ para todas as frases do CSV."
   ]
  }
 ],
 "metadata": {
  "kernelspec": {
   "display_name": "Python 3",
   "language": "python",
   "name": "python3"
  },
  "language_info": {
   "codemirror_mode": {
    "name": "ipython",
    "version": 3
   },
   "file_extension": ".py",
   "mimetype": "text/x-python",
   "name": "python",
   "nbconvert_exporter": "python",
   "pygments_lexer": "ipython3",
   "version": "3.8.7"
  }
 },
 "nbformat": 4,
 "nbformat_minor": 5
}
