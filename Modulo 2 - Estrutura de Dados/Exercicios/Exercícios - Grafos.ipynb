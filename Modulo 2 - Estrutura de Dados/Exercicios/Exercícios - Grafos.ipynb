{
 "cells": [
  {
   "cell_type": "markdown",
   "id": "d4e6b3a3",
   "metadata": {},
   "source": [
    "## Exercício\n",
    "\n",
    "Implemente o grafo abaixo utilizando a representação computacional de sua escolha (matriz ou lista de adjacências). Justifique a sua escolha.\n",
    "\n",
    "![](https://www.gta.ufrj.br/ensino/eel878/redes1-2018-1/trabalhos-vf/p2p/images/graph-example.png)\n",
    "\n",
    "Após implementar, crie dois métodos:\n",
    "\n",
    "1. Verificar se um elemento v é adjacente a um elemento u;\n",
    "\n",
    "2. Remover uma aresta entre dois elementos, caso essa aresta exista."
   ]
  },
  {
   "cell_type": "code",
   "execution_count": null,
   "id": "a30095c5",
   "metadata": {},
   "outputs": [],
   "source": []
  }
 ],
 "metadata": {
  "kernelspec": {
   "display_name": "Python 3",
   "language": "python",
   "name": "python3"
  },
  "language_info": {
   "codemirror_mode": {
    "name": "ipython",
    "version": 3
   },
   "file_extension": ".py",
   "mimetype": "text/x-python",
   "name": "python",
   "nbconvert_exporter": "python",
   "pygments_lexer": "ipython3",
   "version": "3.8.3"
  }
 },
 "nbformat": 4,
 "nbformat_minor": 5
}
