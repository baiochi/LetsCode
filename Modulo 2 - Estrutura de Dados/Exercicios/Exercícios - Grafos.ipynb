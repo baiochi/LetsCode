{
 "cells": [
  {
   "cell_type": "markdown",
   "source": [
    "## Exercício\n",
    "\n",
    "Implemente o grafo abaixo utilizando a representação computacional de sua escolha (matriz ou lista de adjacências). Justifique a sua escolha.\n",
    "\n",
    "![](https://www.gta.ufrj.br/ensino/eel878/redes1-2018-1/trabalhos-vf/p2p/images/graph-example.png)\n",
    "\n",
    "Após implementar, crie dois métodos:\n",
    "\n",
    "1. Verificar se um elemento v é adjacente a um elemento u;\n",
    "\n",
    "2. Remover uma aresta entre dois elementos, caso essa aresta exista."
   ],
   "metadata": {}
  },
  {
   "cell_type": "code",
   "execution_count": 52,
   "source": [
    "class Graph():\r\n",
    "    def __init__(self) -> None:\r\n",
    "        self.adjMatrix = {}\r\n",
    "\r\n",
    "    def addVertex(self, number):\r\n",
    "        if isinstance(number,list):\r\n",
    "            for value in number:\r\n",
    "                self.adjMatrix[value] = {}\r\n",
    "        else:\r\n",
    "            self.adjMatrix[number] = {}\r\n",
    "\r\n",
    "    def connectVertex(self, origin, destiny, weight=1, both=False):\r\n",
    "        self.adjMatrix[origin][destiny] = weight\r\n",
    "        if both:\r\n",
    "            self.adjMatrix[destiny][origin] = weight\r\n",
    "    \r\n",
    "    def verifyNeighboor(self, nodeA, nodeB):\r\n",
    "        if nodeA in self.adjMatrix[nodeB] or nodeB in self.adjMatrix[nodeA]:\r\n",
    "            return True\r\n",
    "        else:\r\n",
    "            return False\r\n",
    "\r\n",
    "    def removeConnection(self, nodeA, nodeB):\r\n",
    "        if nodeA in self.adjMatrix[nodeB]:\r\n",
    "            self.adjMatrix[nodeB].pop(nodeA)\r\n",
    "            print(f'Removed connection from {nodeA} to {nodeB}')\r\n",
    "        if nodeB in self.adjMatrix[nodeA]:\r\n",
    "            self.adjMatrix[nodeA].pop(nodeB)\r\n",
    "            print(f'Removed connection from {nodeB} to {nodeA}')"
   ],
   "outputs": [],
   "metadata": {}
  },
  {
   "cell_type": "code",
   "execution_count": 53,
   "source": [
    "myGraph = Graph()\r\n",
    "myGraph.addVertex(1)\r\n",
    "myGraph.addVertex([2,3,4,5,6,7])\r\n",
    "myGraph.connectVertex(1,2)\r\n",
    "myGraph.connectVertex(2,3)\r\n",
    "myGraph.connectVertex(2,4)\r\n",
    "myGraph.connectVertex(3,1)\r\n",
    "myGraph.connectVertex(4,1)\r\n",
    "myGraph.connectVertex(4,3)\r\n",
    "myGraph.connectVertex(5,6)\r\n",
    "myGraph.connectVertex(5,7)\r\n",
    "myGraph.connectVertex(6,2)\r\n",
    "myGraph.connectVertex(7,4)\r\n",
    "myGraph.connectVertex(7,6)\r\n"
   ],
   "outputs": [],
   "metadata": {}
  },
  {
   "cell_type": "code",
   "execution_count": 55,
   "source": [
    "myGraph.removeConnection(3,4)\r\n",
    "\r\n"
   ],
   "outputs": [
    {
     "output_type": "stream",
     "name": "stdout",
     "text": [
      "Removed connection from 3 to 4\n"
     ]
    }
   ],
   "metadata": {}
  }
 ],
 "metadata": {
  "kernelspec": {
   "name": "python3",
   "display_name": "Python 3.8.8 64-bit (conda)"
  },
  "language_info": {
   "codemirror_mode": {
    "name": "ipython",
    "version": 3
   },
   "file_extension": ".py",
   "mimetype": "text/x-python",
   "name": "python",
   "nbconvert_exporter": "python",
   "pygments_lexer": "ipython3",
   "version": "3.8.8"
  },
  "interpreter": {
   "hash": "b3ba2566441a7c06988d0923437866b63cedc61552a5af99d1f4fb67d367b25f"
  }
 },
 "nbformat": 4,
 "nbformat_minor": 5
}