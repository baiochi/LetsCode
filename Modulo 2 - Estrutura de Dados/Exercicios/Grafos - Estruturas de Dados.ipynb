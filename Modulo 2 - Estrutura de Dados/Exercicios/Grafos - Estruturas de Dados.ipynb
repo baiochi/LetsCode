{
 "cells": [
  {
   "cell_type": "code",
   "execution_count": 1,
   "metadata": {},
   "outputs": [],
   "source": [
    "# imports"
   ]
  },
  {
   "cell_type": "markdown",
   "metadata": {},
   "source": [
    "# <span style='color:SlateBlue'>Exercício 1</span>    \n",
    "### Implemente o grafo ilustrado pela figura abaixo, utilizando a representação baseada em uma matriz de adjacências. Em seguida, exiba a matriz que representa o grafo.\n",
    "\n",
    "<img src='images/grafos-ex1.png' width=250 height=180></img>"
   ]
  },
  {
   "cell_type": "code",
   "execution_count": 10,
   "metadata": {},
   "outputs": [
    {
     "data": {
      "text/plain": [
       "Node 0, connections: {}\n",
       "Node 1, connections: {3: 1}\n",
       "Node 2, connections: {3: 1, 5: 1}\n",
       "Node 3, connections: {1: 1, 2: 1, 4: 1}\n",
       "Node 4, connections: {3: 1, 5: 1, 6: 1}\n",
       "Node 5, connections: {2: 1, 4: 1, 5: 1, 6: 1}\n",
       "Node 6, connections: {4: 1, 5: 1}"
      ]
     },
     "execution_count": 10,
     "metadata": {},
     "output_type": "execute_result"
    }
   ],
   "source": [
    "class Graph():\n",
    "    def __init__(self) -> None:\n",
    "        self.adj_matrix = {}\n",
    "    \n",
    "    def __repr__(self):\n",
    "        return ''.join([f'Node {key}, connections: {value}\\n' for key, value in self.adj_matrix.items()])\n",
    "\n",
    "    def add_nodes(self, number):\n",
    "        if isinstance(number,list):\n",
    "            for value in number:\n",
    "                self.adj_matrix[value] = {}\n",
    "        else:\n",
    "            self.adj_matrix[number] = {}\n",
    "\n",
    "    def connect_nodes(self, origin, destiny, weight=1, both=False):\n",
    "        self.adj_matrix[origin][destiny] = weight\n",
    "        if both:\n",
    "            self.adj_matrix[destiny][origin] = weight\n",
    "\n",
    "# instance Graph object\n",
    "my_graph = Graph()\n",
    "# add nodes\n",
    "my_graph.add_nodes([i for i in range(0,7)])\n",
    "# connect nodes\n",
    "my_graph.connect_nodes(1,3, both=True)\n",
    "my_graph.connect_nodes(2,3, both=True)\n",
    "my_graph.connect_nodes(2,5, both=True)\n",
    "my_graph.connect_nodes(3,4, both=True)\n",
    "my_graph.connect_nodes(4,5, both=True)\n",
    "my_graph.connect_nodes(4,6, both=True)\n",
    "my_graph.connect_nodes(5,5, both=True)\n",
    "my_graph.connect_nodes(5,6, both=True)\n",
    "# show adjacent matrix\n",
    "my_graph"
   ]
  },
  {
   "cell_type": "markdown",
   "metadata": {},
   "source": [
    "# <span style='color:SlateBlue'>Exercício 2</span>    \n",
    "### Implemente o grafo ilustrado pela figura abaixo, utilizando a representação baseada em uma lista de adjacências. Em seguida, observe a lista de adjacências que representa o grafo.\n",
    "\n",
    "<img src='images/grafos-ex2.png' width=300 height=200></img>"
   ]
  },
  {
   "cell_type": "code",
   "execution_count": 17,
   "metadata": {},
   "outputs": [
    {
     "data": {
      "text/plain": [
       "Node 1, connections: [2, 3, 4]\n",
       "Node 2, connections: [3]\n",
       "Node 3, connections: [2]\n",
       "Node 4, connections: [4]\n",
       "Node 5, connections: [2]"
      ]
     },
     "execution_count": 17,
     "metadata": {},
     "output_type": "execute_result"
    }
   ],
   "source": [
    "class Graph():\n",
    "    def __init__(self) -> None:\n",
    "        self.adj_list = []\n",
    "    \n",
    "    def __repr__(self):\n",
    "        return ''.join([f'Node {index+1}, connections: {value}\\n' for index, value in enumerate(self.adj_list)])\n",
    "\n",
    "    def add_nodes(self, size):\n",
    "        for index in range(1,size+1):\n",
    "            self.adj_list.append([])\n",
    "\n",
    "    def connect_nodes(self, origin, destiny, weight=1, both=False):\n",
    "        self.adj_list[origin-1].append(destiny)\n",
    "        if both:\n",
    "            self.adj_list[destiny-1].append(origin)\n",
    "\n",
    "# instance Graph object\n",
    "my_graph = Graph()\n",
    "# add nodes\n",
    "my_graph.add_nodes(5)\n",
    "# connect nodes\n",
    "my_graph.connect_nodes(1,2)\n",
    "my_graph.connect_nodes(1,3)\n",
    "my_graph.connect_nodes(1,4)\n",
    "my_graph.connect_nodes(2,3, both=True)\n",
    "my_graph.connect_nodes(4,4)\n",
    "my_graph.connect_nodes(5,2)\n",
    "# show adjacent matrix\n",
    "my_graph"
   ]
  },
  {
   "cell_type": "markdown",
   "metadata": {},
   "source": [
    "# <span style='color:SlateBlue'>Exercício 3</span>    \n",
    "Considere um determinado número de cidades (N) e uma determinada quantidade de rotas (M) que você sabe que existem entre aquelas cidades. Com base nisso, você deve criar um script em Python que recebe um número N de cidades e um número M de caminhos que existem entre elas. Em seguida, seu programa vai ler quais são esses M caminhos e a distância deles.\n",
    "\n",
    "Para exemplificar, vamos analisar a entrada abaixo:\n",
    "\n",
    "3 2  \n",
    "0 1 10  \n",
    "1 2 23  \n",
    "O exemplo acima é bem simples. Os dois primeiros números são o N e o M; ou seja, existem 3 cidades e 2 caminhos conhecidos entre elas. Em seguida, temos os dois caminhos:\n",
    "\n",
    "O primeiro vai da cidade 0 para a cidade 1, cuja distância é de 10.\n",
    "O segundo vai da cidade 1 para a cidade 2, cuja distância é de 23.\n",
    "Teste o seu programa para a entrada acima e, também, para a entrada abaixo:\n",
    "\n",
    "7 11  \n",
    "0 1 7  \n",
    "0 3 5  \n",
    "1 2 8  \n",
    "1 3 9  \n",
    "1 4 7  \n",
    "2 4 5  \n",
    "3 4 15  \n",
    "3 5 6  \n",
    "4 5 8  \n",
    "4 6 9  \n",
    "5 6 11  "
   ]
  },
  {
   "cell_type": "code",
   "execution_count": 22,
   "metadata": {},
   "outputs": [
    {
     "name": "stdout",
     "output_type": "stream",
     "text": [
      "Distance from city 0 to 1: 7\n",
      "Distance from city 0 to 3: 5\n",
      "Distance from city 1 to 2: 8\n",
      "Distance from city 1 to 3: 9\n",
      "Distance from city 1 to 4: 7\n",
      "Distance from city 2 to 4: 5\n",
      "Distance from city 3 to 4: 15\n",
      "Distance from city 3 to 5: 6\n",
      "Distance from city 4 to 5: 8\n",
      "Distance from city 4 to 6: 9\n",
      "Distance from city 5 to 6: 11\n"
     ]
    }
   ],
   "source": [
    "class Graph():\n",
    "    def __init__(self) -> None:\n",
    "        self.adj_matrix = {}\n",
    "    \n",
    "    def __repr__(self):\n",
    "        return ''.join([f'Node {key}, connections: {value}\\n' for key, value in self.adj_matrix.items()])\n",
    "\n",
    "    def add_nodes(self, number):\n",
    "        if isinstance(number,list):\n",
    "            for value in number:\n",
    "                self.adj_matrix[value] = {}\n",
    "        else:\n",
    "            self.adj_matrix[number] = {}\n",
    "\n",
    "    def connect_nodes(self, origin, destiny, distance=0, both=False):\n",
    "        self.adj_matrix[origin][destiny] = distance\n",
    "        if both:\n",
    "            self.adj_matrix[destiny][origin] = distance\n",
    "    \n",
    "    def show_distance_map(self):\n",
    "        for city_origin, pathways in self.adj_matrix.items():\n",
    "            for city_destiny, distance in pathways.items():\n",
    "                print(f'Distance from city {city_origin} to {city_destiny}: {distance}')\n",
    "        \n",
    "\n",
    "# instance Graph object\n",
    "my_graph = Graph()\n",
    "#m = 7 # cities number\n",
    "#n = 11 # pathways\n",
    "m = int(input('Digite a quantidade de cidades: '))\n",
    "n = int(input('Digite a quantidade de caminhos: '))\n",
    "# add cities\n",
    "my_graph.add_nodes([city for city in range(0,m+1)])\n",
    "\n",
    "# connect cities\n",
    "for pathway in range(n):\n",
    "    origin = int(input('Digite a origem: '))\n",
    "    destiny = int(input('Digite o destino: '))\n",
    "    distance = int(input('Digite a distancia: '))\n",
    "    my_graph.connect_nodes(origin, destiny, distance)\n",
    "\n",
    "#my_graph.connect_nodes(0, 1, 7 )\n",
    "#my_graph.connect_nodes(0, 3, 5 )\n",
    "#my_graph.connect_nodes(1, 2, 8 )\n",
    "#my_graph.connect_nodes(1, 3, 9 )\n",
    "#my_graph.connect_nodes(1, 4, 7 )\n",
    "#my_graph.connect_nodes(2, 4, 5 )\n",
    "#my_graph.connect_nodes(3, 4, 15)\n",
    "#my_graph.connect_nodes(3, 5, 6 )\n",
    "#my_graph.connect_nodes(4, 5, 8 )\n",
    "#my_graph.connect_nodes(4, 6, 9)\n",
    "#my_graph.connect_nodes(5, 6, 11)\n",
    " \n",
    "my_graph.show_distance_map()"
   ]
  },
  {
   "cell_type": "markdown",
   "metadata": {},
   "source": [
    "# <span style='color:SlateBlue'>Exercício 4</span>    \n",
    "### Implemente o grafo ponderado ilustrado pela figura abaixo, utilizando as representações baseadas em:\n",
    "\n",
    "- Matriz de adjacências;\n",
    "- Lista de adjacências.\n",
    "- Em seguida, exiba a matriz e a lista que representam o grafo.\n",
    "\n",
    "<img src='images/grafos-ex4.png' width=350 height=250></img>"
   ]
  },
  {
   "cell_type": "code",
   "execution_count": 24,
   "metadata": {},
   "outputs": [
    {
     "name": "stdout",
     "output_type": "stream",
     "text": [
      "Adjacent matrix graph:\n",
      "Node 0, connections: {1: 3, 3: 7, 4: 8}\n",
      "Node 1, connections: {0: 3, 2: 1, 3: 4}\n",
      "Node 2, connections: {1: 1, 3: 2}\n",
      "Node 3, connections: {0: 7, 1: 4, 2: 2, 4: 3}\n",
      "Node 4, connections: {0: 8, 3: 3}\n",
      "\n",
      "List matrix graph:\n",
      "Node 1, connections: [(0, 3), (2, 1), (3, 4)]\n",
      "Node 2, connections: [(1, 1), (3, 2)]\n",
      "Node 3, connections: [(0, 7), (1, 4), (2, 2), (4, 3)]\n",
      "Node 4, connections: [(0, 8), (3, 3)]\n",
      "Node 5, connections: [(1, 3), (3, 7), (4, 8)]\n",
      "\n"
     ]
    }
   ],
   "source": [
    "class Graph_matrix():\n",
    "    def __init__(self) -> None:\n",
    "        self.adj_matrix = {}\n",
    "    \n",
    "    def __repr__(self):\n",
    "        return ''.join([f'Node {key}, connections: {value}\\n' for key, value in self.adj_matrix.items()])\n",
    "\n",
    "    def add_nodes(self, number):\n",
    "        if isinstance(number,list):\n",
    "            for value in number:\n",
    "                self.adj_matrix[value] = {}\n",
    "        else:\n",
    "            self.adj_matrix[number] = {}\n",
    "\n",
    "    def connect_nodes(self, origin, destiny, distance=0, both=False):\n",
    "        self.adj_matrix[origin][destiny] = distance\n",
    "        if both:\n",
    "            self.adj_matrix[destiny][origin] = distance\n",
    "\n",
    "\n",
    "class Graph_list():\n",
    "    def __init__(self) -> None:\n",
    "        self.adj_list = []\n",
    "    \n",
    "    def __repr__(self):\n",
    "        return ''.join([f'Node {index+1}, connections: {value}\\n' for index, value in enumerate(self.adj_list)])\n",
    "\n",
    "    def add_nodes(self, size):\n",
    "        for _ in range(0,size):\n",
    "            self.adj_list.append([])\n",
    "\n",
    "    def connect_nodes(self, origin, destiny, distance, both=False):\n",
    "        self.adj_list[origin-1].append((destiny,distance))\n",
    "        if both:\n",
    "            self.adj_list[destiny-1].append((origin,distance))\n",
    "\n",
    "# for adj matrix graph\n",
    "matrix_graph = Graph_matrix()\n",
    "matrix_graph.add_nodes([0,1,2,3,4])\n",
    "matrix_graph.connect_nodes(0,1,3, both=True)\n",
    "matrix_graph.connect_nodes(0,3,7, both=True)\n",
    "matrix_graph.connect_nodes(0,4,8, both=True)\n",
    "matrix_graph.connect_nodes(1,2,1, both=True)\n",
    "matrix_graph.connect_nodes(1,3,4, both=True)\n",
    "matrix_graph.connect_nodes(2,3,2, both=True)\n",
    "matrix_graph.connect_nodes(3,4,3, both=True)\n",
    "\n",
    "# for adj list graph\n",
    "list_graph = Graph_list()\n",
    "list_graph.add_nodes(5)\n",
    "list_graph.connect_nodes(0,1,3, both=True)\n",
    "list_graph.connect_nodes(0,3,7, both=True)\n",
    "list_graph.connect_nodes(0,4,8, both=True)\n",
    "list_graph.connect_nodes(1,2,1, both=True)\n",
    "list_graph.connect_nodes(1,3,4, both=True)\n",
    "list_graph.connect_nodes(2,3,2, both=True)\n",
    "list_graph.connect_nodes(3,4,3, both=True)\n",
    "\n",
    "print(f'Adjacent matrix graph:\\n{matrix_graph}')\n",
    "print(f'List matrix graph:\\n{list_graph}')"
   ]
  },
  {
   "cell_type": "markdown",
   "metadata": {},
   "source": [
    "# <span style='color:SlateBlue'>Exercício 5</span>    \n",
    "### O grafo dos estados do Brasil é definido da seguinte forma:\n",
    "\n",
    "- Cada vértice é um dos estados estados da República Federativa do Brasil\n",
    "- Dois estados são adjacentes se têm uma fronteira comum\n",
    "### Com base nisso, faça um desenho desse grafo. Quantos vértices tem o grafo? Quantas arestas? Faça uma implementação computacional, utilizando a representação que você preferir (matriz ou lista de adjacências)."
   ]
  },
  {
   "cell_type": "code",
   "execution_count": null,
   "metadata": {},
   "outputs": [],
   "source": []
  }
 ],
 "metadata": {
  "interpreter": {
   "hash": "b3ba2566441a7c06988d0923437866b63cedc61552a5af99d1f4fb67d367b25f"
  },
  "kernelspec": {
   "display_name": "Python 3.8.8 64-bit (conda)",
   "name": "python3"
  },
  "language_info": {
   "codemirror_mode": {
    "name": "ipython",
    "version": 3
   },
   "file_extension": ".py",
   "mimetype": "text/x-python",
   "name": "python",
   "nbconvert_exporter": "python",
   "pygments_lexer": "ipython3",
   "version": "3.8.8"
  },
  "orig_nbformat": 4
 },
 "nbformat": 4,
 "nbformat_minor": 2
}
