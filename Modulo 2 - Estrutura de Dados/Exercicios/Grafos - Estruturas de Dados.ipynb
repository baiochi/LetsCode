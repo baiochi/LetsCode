{
 "cells": [
  {
   "cell_type": "code",
   "execution_count": 1,
   "source": [
    "# imports"
   ],
   "outputs": [],
   "metadata": {}
  },
  {
   "cell_type": "markdown",
   "source": [
    "# <span style='color:SlateBlue'>Exercício 1</span>    \r\n",
    "### Implemente o grafo ilustrado pela figura abaixo, utilizando a representação baseada em uma matriz de adjacências. Em seguida, exiba a matriz que representa o grafo.\r\n",
    "\r\n",
    "<img src='images/grafos-ex1.png' width=250 height=180></img>"
   ],
   "metadata": {}
  },
  {
   "cell_type": "code",
   "execution_count": null,
   "source": [],
   "outputs": [],
   "metadata": {}
  },
  {
   "cell_type": "markdown",
   "source": [
    "# <span style='color:SlateBlue'>Exercício 2</span>    \r\n",
    "### Implemente o grafo ilustrado pela figura abaixo, utilizando a representação baseada em uma lista de adjacências. Em seguida, observe a lista de adjacências que representa o grafo.\r\n",
    "\r\n",
    "<img src='images/grafos-ex2.png' width=300 height=200></img>"
   ],
   "metadata": {}
  },
  {
   "cell_type": "code",
   "execution_count": null,
   "source": [],
   "outputs": [],
   "metadata": {}
  },
  {
   "cell_type": "markdown",
   "source": [
    "# <span style='color:SlateBlue'>Exercício 3</span>    \r\n",
    "Considere um determinado número de cidades (N) e uma determinada quantidade de rotas (M) que você sabe que existem entre aquelas cidades. Com base nisso, você deve criar um script em Python que recebe um número N de cidades e um número M de caminhos que existem entre elas. Em seguida, seu programa vai ler quais são esses M caminhos e a distância deles.\r\n",
    "\r\n",
    "Para exemplificar, vamos analisar a entrada abaixo:\r\n",
    "\r\n",
    "3 2  \r\n",
    "0 1 10  \r\n",
    "1 2 23  \r\n",
    "O exemplo acima é bem simples. Os dois primeiros números são o N e o M; ou seja, existem 3 cidades e 2 caminhos conhecidos entre elas. Em seguida, temos os dois caminhos:\r\n",
    "\r\n",
    "O primeiro vai da cidade 0 para a cidade 1, cuja distância é de 10.\r\n",
    "O segundo vai da cidade 1 para a cidade 2, cuja distância é de 23.\r\n",
    "Teste o seu programa para a entrada acima e, também, para a entrada abaixo:\r\n",
    "\r\n",
    "7 11  \r\n",
    "0 1 7  \r\n",
    "0 3 5  \r\n",
    "1 2 8  \r\n",
    "1 3 9  \r\n",
    "1 4 7  \r\n",
    "2 4 5  \r\n",
    "3 4 15  \r\n",
    "3 5 6  \r\n",
    "4 5 8  \r\n",
    "4 6 9  \r\n",
    "5 6 11  "
   ],
   "metadata": {}
  },
  {
   "cell_type": "code",
   "execution_count": null,
   "source": [],
   "outputs": [],
   "metadata": {}
  },
  {
   "cell_type": "markdown",
   "source": [
    "# <span style='color:SlateBlue'>Exercício 4</span>    \r\n",
    "### Implemente o grafo ponderado ilustrado pela figura abaixo, utilizando as representações baseadas em:\r\n",
    "\r\n",
    "- Matriz de adjacências;\r\n",
    "- Lista de adjacências.\r\n",
    "- Em seguida, exiba a matriz e a lista que representam o grafo.\r\n",
    "\r\n",
    "<img src='images/grafos-ex4.png' width=350 height=250></img>"
   ],
   "metadata": {}
  },
  {
   "cell_type": "code",
   "execution_count": null,
   "source": [],
   "outputs": [],
   "metadata": {}
  },
  {
   "cell_type": "markdown",
   "source": [
    "# <span style='color:SlateBlue'>Exercício 5</span>    \r\n",
    "### O grafo dos estados do Brasil é definido da seguinte forma:\r\n",
    "\r\n",
    "- Cada vértice é um dos estados estados da República Federativa do Brasil\r\n",
    "- Dois estados são adjacentes se têm uma fronteira comum\r\n",
    "### Com base nisso, faça um desenho desse grafo. Quantos vértices tem o grafo? Quantas arestas? Faça uma implementação computacional, utilizando a representação que você preferir (matriz ou lista de adjacências)."
   ],
   "metadata": {}
  },
  {
   "cell_type": "code",
   "execution_count": null,
   "source": [],
   "outputs": [],
   "metadata": {}
  }
 ],
 "metadata": {
  "orig_nbformat": 4,
  "language_info": {
   "name": "python",
   "version": "3.8.8",
   "mimetype": "text/x-python",
   "codemirror_mode": {
    "name": "ipython",
    "version": 3
   },
   "pygments_lexer": "ipython3",
   "nbconvert_exporter": "python",
   "file_extension": ".py"
  },
  "kernelspec": {
   "name": "python3",
   "display_name": "Python 3.8.8 64-bit (conda)"
  },
  "interpreter": {
   "hash": "b3ba2566441a7c06988d0923437866b63cedc61552a5af99d1f4fb67d367b25f"
  }
 },
 "nbformat": 4,
 "nbformat_minor": 2
}