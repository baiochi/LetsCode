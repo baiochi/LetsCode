{
 "cells": [
  {
   "cell_type": "markdown",
   "source": [
    "<span style='color:LightSeaGreen'>Descrição</span>\r\n",
    "\r\n",
    "Para esse projeto nós criaremos uma rede social baseada no Instagram onde teremos um grafo direcionado, já que posso seguir alguém que não me segue. Além disso, teremos conexões que serão melhores amigos e outras que serão conexão comuns. Logo, teremos um grafo direcionado e ponderado.  \r\n",
    "O objetivo será criar algumas funções relacionadas ao grafo e a rede social:  \r\n",
    "- Exibir número de seguidores\r\n",
    "- Exibir quantidades de pessoas que o usuário segue\r\n",
    "- Ordenar a lista de Stories, ou seja, melhores amigos primeiro e depois conexões comuns ordenadas por ordem alfabética -> [melhores amigos em ordem alfabetica , amigos em ordem alfabetica]\r\n",
    "- Encontrar top k influencers, ou seja, k pessoas que mais tem seguidores da rede\r\n",
    "- Encontrar o caminho entre uma pessoa e outra na rede ✔"
   ],
   "metadata": {}
  },
  {
   "cell_type": "markdown",
   "source": [
    "# Table of contents\r\n",
    "1. [Environment imports](#imports)\r\n",
    "2. [Reading Files](#read)\r\n",
    "3. [Graph object](#graphobj)\r\n",
    "    - [Testing](#testing)\r\n",
    "4. [Creating the connection graph](#datagraph)\r\n",
    "5. [Show number of followers](#followers)\r\n",
    "6. [Show number of following users](#following)\r\n",
    "7. [Show top K influencers](#topk)\r\n",
    "5. [Testing](#methods)\r\n",
    "    - [Test 1](#test1)\r\n",
    "    - [Test 2](#test2)\r\n",
    "    - [Test 3](#test3)\r\n",
    "    - [Test 4](#test4)\r\n",
    "    - [Test 5](#test5)"
   ],
   "metadata": {}
  },
  {
   "cell_type": "markdown",
   "source": [
    "## <span style='color:LightSeaGreen'>Environment imports</span> <a id='imports'></a>"
   ],
   "metadata": {}
  },
  {
   "cell_type": "code",
   "execution_count": 388,
   "source": [
    "import math\r\n",
    "import numpy as np\r\n",
    "import pandas as pd\r\n",
    "import seaborn as sns\r\n",
    "import matplotlib.pyplot as plt\r\n"
   ],
   "outputs": [],
   "metadata": {}
  },
  {
   "cell_type": "markdown",
   "source": [
    "## <span style='color:LightSeaGreen'>Reading files</span> <a id='read'></a>"
   ],
   "metadata": {}
  },
  {
   "cell_type": "code",
   "execution_count": 389,
   "source": [
    "# show files in data directory\r\n",
    "!dir data\r\n"
   ],
   "outputs": [
    {
     "output_type": "stream",
     "name": "stdout",
     "text": [
      " Volume in drive C is BOOTCAMP\n",
      " Volume Serial Number is B076-BC51\n",
      "\n",
      " Directory of c:\\Users\\joaob\\OneDrive\\Documents\\GitHub\\LetsCode\\Modulo 2 - Estrutura de Dados\\Projetos\\data\n",
      "\n",
      "23/09/2021  14:24    <DIR>          .\n",
      "23/09/2021  14:24    <DIR>          ..\n",
      "21/09/2021  19:43            36.538 conexoes.csv\n",
      "21/09/2021  19:30             1.893 usuarios.csv\n",
      "               2 File(s)         38.431 bytes\n",
      "               2 Dir(s)  48.182.673.408 bytes free\n"
     ]
    }
   ],
   "metadata": {}
  },
  {
   "cell_type": "code",
   "execution_count": 390,
   "source": [
    "# read csv files in a pandas data frame\r\n",
    "connections = pd.read_csv('data/conexoes.csv', header=None)\r\n",
    "users = pd.read_csv('data/usuarios.csv', header=None)\r\n",
    "# rename data frame titles\r\n",
    "connections.columns = ['follower','following','weight']\r\n",
    "users.columns = ['Name','username']"
   ],
   "outputs": [],
   "metadata": {}
  },
  {
   "cell_type": "markdown",
   "source": [
    "### <span style='color:LightGreen'>User dataframe info</span>  "
   ],
   "metadata": {}
  },
  {
   "cell_type": "code",
   "execution_count": 391,
   "source": [
    "print(users.info())\r\n",
    "users.head()"
   ],
   "outputs": [
    {
     "output_type": "stream",
     "name": "stdout",
     "text": [
      "<class 'pandas.core.frame.DataFrame'>\n",
      "RangeIndex: 100 entries, 0 to 99\n",
      "Data columns (total 2 columns):\n",
      " #   Column    Non-Null Count  Dtype \n",
      "---  ------    --------------  ----- \n",
      " 0   Name      100 non-null    object\n",
      " 1   username  100 non-null    object\n",
      "dtypes: object(2)\n",
      "memory usage: 1.7+ KB\n",
      "None\n"
     ]
    },
    {
     "output_type": "execute_result",
     "data": {
      "text/html": [
       "<div>\n",
       "<style scoped>\n",
       "    .dataframe tbody tr th:only-of-type {\n",
       "        vertical-align: middle;\n",
       "    }\n",
       "\n",
       "    .dataframe tbody tr th {\n",
       "        vertical-align: top;\n",
       "    }\n",
       "\n",
       "    .dataframe thead th {\n",
       "        text-align: right;\n",
       "    }\n",
       "</style>\n",
       "<table border=\"1\" class=\"dataframe\">\n",
       "  <thead>\n",
       "    <tr style=\"text-align: right;\">\n",
       "      <th></th>\n",
       "      <th>Name</th>\n",
       "      <th>username</th>\n",
       "    </tr>\n",
       "  </thead>\n",
       "  <tbody>\n",
       "    <tr>\n",
       "      <th>0</th>\n",
       "      <td>Helena</td>\n",
       "      <td>helena42</td>\n",
       "    </tr>\n",
       "    <tr>\n",
       "      <th>1</th>\n",
       "      <td>Alice</td>\n",
       "      <td>alice43</td>\n",
       "    </tr>\n",
       "    <tr>\n",
       "      <th>2</th>\n",
       "      <td>Laura</td>\n",
       "      <td>laura29</td>\n",
       "    </tr>\n",
       "    <tr>\n",
       "      <th>3</th>\n",
       "      <td>Manuela</td>\n",
       "      <td>manuela19</td>\n",
       "    </tr>\n",
       "    <tr>\n",
       "      <th>4</th>\n",
       "      <td>Valentina</td>\n",
       "      <td>valentina26</td>\n",
       "    </tr>\n",
       "  </tbody>\n",
       "</table>\n",
       "</div>"
      ],
      "text/plain": [
       "        Name     username\n",
       "0     Helena     helena42\n",
       "1      Alice      alice43\n",
       "2      Laura      laura29\n",
       "3    Manuela    manuela19\n",
       "4  Valentina  valentina26"
      ]
     },
     "metadata": {},
     "execution_count": 391
    }
   ],
   "metadata": {}
  },
  {
   "cell_type": "markdown",
   "source": [
    "### <span style='color:LightGreen'>Connections dataframe info</span>  "
   ],
   "metadata": {}
  },
  {
   "cell_type": "code",
   "execution_count": 392,
   "source": [
    "print(connections.info())\r\n",
    "connections.head()"
   ],
   "outputs": [
    {
     "output_type": "stream",
     "name": "stdout",
     "text": [
      "<class 'pandas.core.frame.DataFrame'>\n",
      "RangeIndex: 1627 entries, 0 to 1626\n",
      "Data columns (total 3 columns):\n",
      " #   Column     Non-Null Count  Dtype \n",
      "---  ------     --------------  ----- \n",
      " 0   follower   1627 non-null   object\n",
      " 1   following  1627 non-null   object\n",
      " 2   weight     1627 non-null   int64 \n",
      "dtypes: int64(1), object(2)\n",
      "memory usage: 38.3+ KB\n",
      "None\n"
     ]
    },
    {
     "output_type": "execute_result",
     "data": {
      "text/html": [
       "<div>\n",
       "<style scoped>\n",
       "    .dataframe tbody tr th:only-of-type {\n",
       "        vertical-align: middle;\n",
       "    }\n",
       "\n",
       "    .dataframe tbody tr th {\n",
       "        vertical-align: top;\n",
       "    }\n",
       "\n",
       "    .dataframe thead th {\n",
       "        text-align: right;\n",
       "    }\n",
       "</style>\n",
       "<table border=\"1\" class=\"dataframe\">\n",
       "  <thead>\n",
       "    <tr style=\"text-align: right;\">\n",
       "      <th></th>\n",
       "      <th>follower</th>\n",
       "      <th>following</th>\n",
       "      <th>weight</th>\n",
       "    </tr>\n",
       "  </thead>\n",
       "  <tbody>\n",
       "    <tr>\n",
       "      <th>0</th>\n",
       "      <td>helena42</td>\n",
       "      <td>alice43</td>\n",
       "      <td>1</td>\n",
       "    </tr>\n",
       "    <tr>\n",
       "      <th>1</th>\n",
       "      <td>helena42</td>\n",
       "      <td>gustavo16</td>\n",
       "      <td>1</td>\n",
       "    </tr>\n",
       "    <tr>\n",
       "      <th>2</th>\n",
       "      <td>helena42</td>\n",
       "      <td>ana_clara30</td>\n",
       "      <td>1</td>\n",
       "    </tr>\n",
       "    <tr>\n",
       "      <th>3</th>\n",
       "      <td>helena42</td>\n",
       "      <td>mariana5</td>\n",
       "      <td>1</td>\n",
       "    </tr>\n",
       "    <tr>\n",
       "      <th>4</th>\n",
       "      <td>helena42</td>\n",
       "      <td>caua11</td>\n",
       "      <td>1</td>\n",
       "    </tr>\n",
       "  </tbody>\n",
       "</table>\n",
       "</div>"
      ],
      "text/plain": [
       "   follower    following  weight\n",
       "0  helena42      alice43       1\n",
       "1  helena42    gustavo16       1\n",
       "2  helena42  ana_clara30       1\n",
       "3  helena42     mariana5       1\n",
       "4  helena42       caua11       1"
      ]
     },
     "metadata": {},
     "execution_count": 392
    }
   ],
   "metadata": {}
  },
  {
   "cell_type": "code",
   "execution_count": 393,
   "source": [
    "# checking for outliers in Users data frame\r\n",
    "print(f'Unique username values: {users.nunique()[1]} {(users.nunique()[1]==len(users))}')\r\n",
    "users.where(users.username==users.username.str.len().max()).nunique()\r\n",
    "print(f'Connections weight values: {connections.weight.unique()}')\r\n",
    "# ploting\r\n",
    "#fig, ax = plt.subplots(figsize=(12, 6))\r\n",
    "#ax.set_xticklabels(ax.get_xticklabels(), rotation=45, horizontalalignment='right')\r\n",
    "#sns.barplot(x = 'username', y = 'following', data = following_count, ax=ax)\r\n",
    "#plt.show()"
   ],
   "outputs": [
    {
     "output_type": "stream",
     "name": "stdout",
     "text": [
      "Unique username values: 100 True\n",
      "Connections weight values: [1 2]\n"
     ]
    }
   ],
   "metadata": {}
  },
  {
   "cell_type": "markdown",
   "source": [
    "## <span style='color:LightSeaGreen'>Creating Graph object<span style='color:LightSeaGreen'> <a id='graphobj'></a>"
   ],
   "metadata": {}
  },
  {
   "cell_type": "code",
   "execution_count": 394,
   "source": [
    "class Graph():\r\n",
    "\r\n",
    "    def __init__(self) -> None:\r\n",
    "        self.adjMatrix = {}\r\n",
    "\r\n",
    "    def addNode(self, name):\r\n",
    "        self.adjMatrix[name] = {}\r\n",
    "\r\n",
    "    def connectNode(self, origin, destiny, weight=1):\r\n",
    "        self.adjMatrix[origin][destiny] = weight\r\n",
    "\r\n",
    "    # BFS algorithm to find path\r\n",
    "    def showPath(self, origin, destiny):\r\n",
    "        queue = [origin]\r\n",
    "        visited = []\r\n",
    "        predecessor = {origin: None}\r\n",
    "        \r\n",
    "        while len(queue) > 0:\r\n",
    "            currentNode = queue.pop(0)\r\n",
    "            visited.append(currentNode)\r\n",
    "            for adjacent in self.adjMatrix[currentNode].keys():\r\n",
    "\r\n",
    "                if adjacent not in queue + visited:\r\n",
    "                    predecessor[adjacent] = currentNode\r\n",
    "                    queue.append(adjacent)\r\n",
    "\r\n",
    "                if adjacent == destiny:\r\n",
    "                    path = [destiny]\r\n",
    "                    while currentNode is not None:\r\n",
    "                        path.append(currentNode)\r\n",
    "                        currentNode = predecessor[currentNode]\r\n",
    "                    path.reverse()\r\n",
    "                    result = ['->'] * (len(path) * 2 - 1)\r\n",
    "                    result[0::2] = path\r\n",
    "                    fullPath = ' '.join([str(elem) for elem in result])\r\n",
    "                    originName = users.loc[users['username']==origin].Name.item()\r\n",
    "                    destinyName = users.loc[users['username']==destiny].Name.item()\r\n",
    "                    return f'Path from {originName} to {destinyName}: {fullPath}'\r\n",
    "\r\n",
    "        return False\r\n",
    "\r\n",
    "    def djikstra(self, origin):\r\n",
    "        # create node dictionary with infinite values\r\n",
    "        distance = {node: math.inf for node in self.adjMatrix.keys()}\r\n",
    "        distance[origin] = 0\r\n",
    "\r\n",
    "        # create dicitionary with None\r\n",
    "        previous = {node: math.inf for node in self.adjMatrix.keys()}\r\n",
    "\r\n",
    "        # create aux dict for not know node\r\n",
    "        know = []\r\n",
    "        not_know = distance.copy() # to remove already visited nodes\r\n",
    "\r\n",
    "        while len(not_know) > 0:\r\n",
    "            # order dictionary\r\n",
    "            k = sorted(not_know.items(), key=lambda x: x[1])[0][0]\r\n",
    "            # remove the visited node\r\n",
    "            del not_know[k]\r\n",
    "            # mark node a visited\r\n",
    "            know.append(k)\r\n",
    "\r\n",
    "            for adj in self.adjMatrix[k]:\r\n",
    "                # if node was not visited\r\n",
    "                if adj not in know:\r\n",
    "                    newDist = distance[k] + self.adjMatrix[k][adj]\r\n",
    "                    if newDist < distance[adj]:\r\n",
    "                        distance[adj] = newDist\r\n",
    "                        not_know[adj] = newDist\r\n",
    "                        previous[adj] = k\r\n",
    "        \r\n",
    "        destino = 3\r\n",
    "\r\n",
    "        caminho_invertido = [str(destino)]\r\n",
    "        anterior = predecessores[destino]\r\n",
    "        while anterior is not None:\r\n",
    "            caminho_invertido.append(str(anterior))\r\n",
    "            anterior = predecessores[anterior]\r\n",
    "\r\n",
    "        ' -> '.join(reversed(caminho_invertido))\r\n",
    "\r\n",
    "        return distance, previous\r\n"
   ],
   "outputs": [],
   "metadata": {}
  },
  {
   "cell_type": "markdown",
   "source": [
    "## <span style='color:LightSeaGreen'>Creating the connection graph<span style='color:LightSeaGreen'> <a id='datagraph'></a>"
   ],
   "metadata": {}
  },
  {
   "cell_type": "code",
   "execution_count": 395,
   "source": [
    "# create graph object instance\r\n",
    "network = Graph()\r\n",
    "\r\n",
    "# add unique users by username ID\r\n",
    "for user in users['username']:\r\n",
    "    network.addNode(user)\r\n",
    "\r\n",
    "# connect the users\r\n",
    "for row in connections.iterrows():\r\n",
    "    # row[0] -> index;  row[1] -> tuple values\r\n",
    "    # row[1][0] -> follower;  row[1][1] -> following;  row[1][2] -> weight\r\n",
    "    network.connectNode(origin=row[1][0], destiny=row[1][1], weight=row[1][2])\r\n",
    "\r\n",
    "#print('Graph Matrix:')\r\n",
    "#print(network.adjMatrix)"
   ],
   "outputs": [],
   "metadata": {}
  },
  {
   "cell_type": "markdown",
   "source": [
    "## <span style='color:LightSeaGreen'>Show number of followers<span style='color:LightSeaGreen'> <a id='followers'></a>"
   ],
   "metadata": {}
  },
  {
   "cell_type": "code",
   "execution_count": 396,
   "source": [
    "def showFollowersNumber(username):\r\n",
    "    name =  users.loc[users['username']==username].Name.item()\r\n",
    "    followers = connections.following.value_counts()[username]\r\n",
    "    return f'{name} has {followers} followers.'"
   ],
   "outputs": [],
   "metadata": {}
  },
  {
   "cell_type": "markdown",
   "source": [
    "## <span style='color:LightSeaGreen'>Show number of following users<span style='color:LightSeaGreen'> <a id='following'></a>"
   ],
   "metadata": {}
  },
  {
   "cell_type": "code",
   "execution_count": 397,
   "source": [
    "def showFollowingNumber(username):\r\n",
    "    name =  users.loc[users['username']==username].Name.item()\r\n",
    "    followers = connections.follower.value_counts()[username]\r\n",
    "    return f'{name} is following {followers} users.'"
   ],
   "outputs": [],
   "metadata": {}
  },
  {
   "cell_type": "markdown",
   "source": [
    "## <span style='color:LightSeaGreen'>Order Stories<span style='color:LightSeaGreen'> <a id='stories'></a>"
   ],
   "metadata": {}
  },
  {
   "cell_type": "code",
   "execution_count": null,
   "source": [
    "connections.loc[connections['follower']=='helena42'].sort_values(by=['weight','following'], ascending=[False,True])['following']\r\n"
   ],
   "outputs": [],
   "metadata": {}
  },
  {
   "cell_type": "markdown",
   "source": [
    "## <span style='color:LightSeaGreen'>Function for top K influencers<span style='color:LightSeaGreen'> <a id='topk'></a>"
   ],
   "metadata": {}
  },
  {
   "cell_type": "code",
   "execution_count": 398,
   "source": [
    "def findInfluencers(number):\r\n",
    "    following = connections.following.sort_values()\r\n",
    "    following_count = following.value_counts().to_frame().reset_index()\r\n",
    "    following_count.columns = ['username','followers']\r\n",
    "    print(f'Top {number} Influceners:')\r\n",
    "    print(following_count[:number])"
   ],
   "outputs": [],
   "metadata": {}
  },
  {
   "cell_type": "markdown",
   "source": [
    "### Drafts <a id='testing'></a>"
   ],
   "metadata": {}
  },
  {
   "cell_type": "code",
   "execution_count": null,
   "source": [],
   "outputs": [],
   "metadata": {}
  },
  {
   "cell_type": "markdown",
   "source": [
    "## <span style='color:LightSeaGreen'>Testing<span style='color:LightSeaGreen'> <a id='methods'></a>"
   ],
   "metadata": {}
  },
  {
   "cell_type": "markdown",
   "source": [
    "### <span style='color:LightGreen'>1) Exibir número de seguidores</span> <a id='test1'></a>\r\n",
    "\r\n",
    "quantidade_seguidores('helena42') --> Seguidores da Helena: 18"
   ],
   "metadata": {}
  },
  {
   "cell_type": "code",
   "execution_count": 399,
   "source": [
    "showFollowersNumber('helena42')"
   ],
   "outputs": [
    {
     "output_type": "execute_result",
     "data": {
      "text/plain": [
       "'Helena has 18 followers.'"
      ]
     },
     "metadata": {},
     "execution_count": 399
    }
   ],
   "metadata": {}
  },
  {
   "cell_type": "markdown",
   "source": [
    "### <span style='color:LightGreen'>2) Exibir quantidades de pessoas que o usuário segue</span> <a id='test2'></a>\r\n",
    "\r\n",
    "quantidade_seguindo('helena42') --> Pessoas que a Helena segue: 16"
   ],
   "metadata": {}
  },
  {
   "cell_type": "code",
   "execution_count": 400,
   "source": [
    "showFollowingNumber('helena42')"
   ],
   "outputs": [
    {
     "output_type": "execute_result",
     "data": {
      "text/plain": [
       "'Helena is following 16 users.'"
      ]
     },
     "metadata": {},
     "execution_count": 400
    }
   ],
   "metadata": {}
  },
  {
   "cell_type": "markdown",
   "source": [
    "### <span style='color:LightGreen'>3) Ordenar a lista de Stories</span> <a id='test3'></a>\r\n",
    "\r\n",
    "stories('helena42') --> Ordem dos stories da Helena:  \r\n",
    " ['ana_julia22', 'pietro33', 'alice43', 'ana_clara30', 'calebe49', 'caua11', 'davi48', 'gustavo16', 'heloisa37', 'lavinia36','mariana5', 'matheus6', 'melissa42', 'nicolas4', 'rafael38', 'sophia31']"
   ],
   "metadata": {}
  },
  {
   "cell_type": "code",
   "execution_count": 1,
   "source": [
    "#stories('helena42')\r\n",
    "connections.loc[connections['follower']=='helena42'].sort_values(by=['weight','following'], ascending=[False,True])['following']"
   ],
   "outputs": [
    {
     "output_type": "error",
     "ename": "NameError",
     "evalue": "name 'connections' is not defined",
     "traceback": [
      "\u001b[1;31m---------------------------------------------------------------------------\u001b[0m",
      "\u001b[1;31mNameError\u001b[0m                                 Traceback (most recent call last)",
      "\u001b[1;32m<ipython-input-1-cd83588545fa>\u001b[0m in \u001b[0;36m<module>\u001b[1;34m\u001b[0m\n\u001b[0;32m      1\u001b[0m \u001b[1;31m#stories('helena42')\u001b[0m\u001b[1;33m\u001b[0m\u001b[1;33m\u001b[0m\u001b[1;33m\u001b[0m\u001b[0m\n\u001b[1;32m----> 2\u001b[1;33m \u001b[0mconnections\u001b[0m\u001b[1;33m.\u001b[0m\u001b[0mloc\u001b[0m\u001b[1;33m[\u001b[0m\u001b[0mconnections\u001b[0m\u001b[1;33m[\u001b[0m\u001b[1;34m'follower'\u001b[0m\u001b[1;33m]\u001b[0m\u001b[1;33m==\u001b[0m\u001b[1;34m'helena42'\u001b[0m\u001b[1;33m]\u001b[0m\u001b[1;33m.\u001b[0m\u001b[0msort_values\u001b[0m\u001b[1;33m(\u001b[0m\u001b[0mby\u001b[0m\u001b[1;33m=\u001b[0m\u001b[1;33m[\u001b[0m\u001b[1;34m'weight'\u001b[0m\u001b[1;33m,\u001b[0m\u001b[1;34m'following'\u001b[0m\u001b[1;33m]\u001b[0m\u001b[1;33m,\u001b[0m \u001b[0mascending\u001b[0m\u001b[1;33m=\u001b[0m\u001b[1;33m[\u001b[0m\u001b[1;32mFalse\u001b[0m\u001b[1;33m,\u001b[0m\u001b[1;32mTrue\u001b[0m\u001b[1;33m]\u001b[0m\u001b[1;33m)\u001b[0m\u001b[1;33m[\u001b[0m\u001b[1;34m'following'\u001b[0m\u001b[1;33m]\u001b[0m\u001b[1;33m\u001b[0m\u001b[1;33m\u001b[0m\u001b[0m\n\u001b[0m",
      "\u001b[1;31mNameError\u001b[0m: name 'connections' is not defined"
     ]
    }
   ],
   "metadata": {}
  },
  {
   "cell_type": "markdown",
   "source": [
    "### <span style='color:LightGreen'>4) Encontrar top k influencers</span> <a id='test4'></a>\r\n",
    "\r\n",
    "top_influencers(5) --> Top influences: {'maria_alice19': 24, 'henrique12': 22, 'miguel1': 22, 'isis3': 22, 'alice43': 22}\r\n"
   ],
   "metadata": {}
  },
  {
   "cell_type": "code",
   "execution_count": 401,
   "source": [
    "findInfluencers(5)"
   ],
   "outputs": [
    {
     "output_type": "stream",
     "name": "stdout",
     "text": [
      "Top 5 Influceners:\n",
      "        username  followers\n",
      "0  maria_alice19         24\n",
      "1        alice43         22\n",
      "2        miguel1         22\n",
      "3          isis3         22\n",
      "4     henrique12         22\n"
     ]
    }
   ],
   "metadata": {}
  },
  {
   "cell_type": "markdown",
   "source": [
    "### <span style='color:LightGreen'>5) Encontrar o caminho entre uma pessoa e outra na rede</span> <a id='test5'></a>"
   ],
   "metadata": {}
  },
  {
   "cell_type": "code",
   "execution_count": 402,
   "source": [
    "network.showPath('helena42', 'isadora45')"
   ],
   "outputs": [
    {
     "output_type": "execute_result",
     "data": {
      "text/plain": [
       "'Path from Helena to Isadora: helena42 -> ana_clara30 -> isadora45'"
      ]
     },
     "metadata": {},
     "execution_count": 402
    }
   ],
   "metadata": {}
  }
 ],
 "metadata": {
  "orig_nbformat": 4,
  "language_info": {
   "name": "python",
   "version": "3.8.8",
   "mimetype": "text/x-python",
   "codemirror_mode": {
    "name": "ipython",
    "version": 3
   },
   "pygments_lexer": "ipython3",
   "nbconvert_exporter": "python",
   "file_extension": ".py"
  },
  "kernelspec": {
   "name": "python3",
   "display_name": "Python 3.8.8 64-bit (conda)"
  },
  "interpreter": {
   "hash": "b3ba2566441a7c06988d0923437866b63cedc61552a5af99d1f4fb67d367b25f"
  }
 },
 "nbformat": 4,
 "nbformat_minor": 2
}