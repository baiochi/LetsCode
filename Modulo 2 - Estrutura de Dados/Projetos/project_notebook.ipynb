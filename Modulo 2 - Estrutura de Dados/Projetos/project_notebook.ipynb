{
 "cells": [
  {
   "cell_type": "markdown",
   "source": [
    "# <span style='color:SlateBlue'>Projeto Módulo 2</span>\r\n",
    "\r\n",
    "##  <span style='color:LightSeaGreen'>Sumário</span>\r\n",
    "1. [Descrição](#descr)\r\n",
    "2. [Preprando ambiente](#env)\r\n",
    "3. [Carregando arquivos](#load)\r\n",
    "4. [Objeto grafo](#obj)\r\n",
    "5. [Criando o grafo](#graph)\r\n",
    "6. [Funções](#functions)\r\n",
    "    - [Exibir número de seguidores](#followers)\r\n",
    "    - [Exibir pessoas que o usuário segue](#following)\r\n",
    "    - [Ordernar lista stories](#stories)\r\n",
    "    - [Encontrar top k influencers](#topk)\r\n",
    "    - [Encontrar o caminho](#path)\r\n",
    "7. [Testes](#methods)"
   ],
   "metadata": {}
  },
  {
   "cell_type": "markdown",
   "source": [
    "# <span style='color:LightSeaGreen'>Descrição</span> <a id='descr'></a>\r\n",
    "\r\n",
    "Para esse projeto nós criaremos uma rede social baseada no Instagram onde teremos um grafo direcionado, já que posso seguir alguém que não me segue. Além disso, teremos conexões que serão melhores amigos e outras que serão conexão comuns. Logo, teremos um grafo direcionado e ponderado.  \r\n",
    "O objetivo será criar algumas funções relacionadas ao grafo e a rede social:  \r\n",
    "- Exibir número de seguidores\r\n",
    "- Exibir quantidades de pessoas que o usuário segue\r\n",
    "- Ordenar a lista de Stories, ou seja, melhores amigos primeiro e depois conexões comuns ordenadas por ordem alfabética -> [melhores amigos em ordem alfabetica , amigos em ordem alfabetica]\r\n",
    "- Encontrar top k influencers, ou seja, k pessoas que mais tem seguidores da rede\r\n",
    "- Encontrar o caminho entre uma pessoa e outra na rede"
   ],
   "metadata": {}
  },
  {
   "cell_type": "markdown",
   "source": [
    "# <span style='color:LightSeaGreen'>Preprando ambiente</span> <a id='env'></a>"
   ],
   "metadata": {}
  },
  {
   "cell_type": "code",
   "execution_count": 48,
   "source": [
    "import pandas as pd\r\n",
    "import math"
   ],
   "outputs": [],
   "metadata": {}
  },
  {
   "cell_type": "markdown",
   "source": [
    "# <span style='color:LightSeaGreen'>Carregando arquivos</span> <a id='load'></a>"
   ],
   "metadata": {}
  },
  {
   "cell_type": "code",
   "execution_count": 49,
   "source": [
    "# show files in data directory\r\n",
    "#!dir data\r\n",
    "# read csv files in a pandas data frame\r\n",
    "connections = pd.read_csv('data/conexoes.csv', header=None)\r\n",
    "users = pd.read_csv('data/usuarios.csv', header=None)\r\n",
    "# rename data frame titles\r\n",
    "connections.columns = ['follower','following','weight']\r\n",
    "users.columns = ['name','username']\r\n",
    "# merging the two dataframes\r\n",
    "connections.insert(0,'name',None)\r\n",
    "for index, name in connections.follower.items():\r\n",
    "    connections['name'][index] = users[users.username == name]['name'].item()"
   ],
   "outputs": [
    {
     "output_type": "stream",
     "name": "stderr",
     "text": [
      "<ipython-input-49-a3a3a2398954>:12: SettingWithCopyWarning: \n",
      "A value is trying to be set on a copy of a slice from a DataFrame\n",
      "\n",
      "See the caveats in the documentation: https://pandas.pydata.org/pandas-docs/stable/user_guide/indexing.html#returning-a-view-versus-a-copy\n",
      "  connections['name'][index] = users[users.username == name]['name'].item()\n"
     ]
    }
   ],
   "metadata": {}
  },
  {
   "cell_type": "markdown",
   "source": [
    "# <span style='color:LightSeaGreen'>Objeto grafo</span> <a id='obj'></a>"
   ],
   "metadata": {}
  },
  {
   "cell_type": "code",
   "execution_count": 50,
   "source": [
    "class Graph():\r\n",
    "\r\n",
    "    def __init__(self) -> None:\r\n",
    "        self.network = {}\r\n",
    "        self.profiles = {}\r\n",
    "\r\n",
    "    def addNode(self, name, username):\r\n",
    "        self.network[username] = {}\r\n",
    "        self.profiles[username] = {\r\n",
    "            'Name': name,\r\n",
    "            'Followers': 0,\r\n",
    "            'Following': 0}\r\n",
    "\r\n",
    "    def connectNode(self, origin, destiny, weight=1):\r\n",
    "        # make connection\r\n",
    "        self.network[origin][destiny] = weight\r\n",
    "        # increase from origin +1 following\r\n",
    "        self.profiles[origin]['Following'] += 1\r\n",
    "        # increse from destiny + 1 follower\r\n",
    "        self.profiles[destiny]['Followers'] += 1\r\n",
    "    \r\n",
    "    def showFollowers(self, username):\r\n",
    "        return f'Seguidores de {self.profiles[username][\"Name\"]} : {self.profiles[username][\"Followers\"]}'\r\n",
    "\r\n",
    "    def showFollowing(self, username):\r\n",
    "        return f'Pessoas que {self.profiles[username][\"Name\"]} segue: {self.profiles[username][\"Following\"]}'\r\n",
    "    \r\n",
    "    # BFS algorithm to find path\r\n",
    "    def showPath(self, origin, destiny):\r\n",
    "        queue = [origin]\r\n",
    "        visited = []\r\n",
    "        predecessor = {origin: None}\r\n",
    "        \r\n",
    "        while len(queue) > 0:\r\n",
    "            currentNode = queue.pop(0)\r\n",
    "            visited.append(currentNode)\r\n",
    "            for adjacent in self.network[currentNode].keys():\r\n",
    "\r\n",
    "                if adjacent not in queue + visited:\r\n",
    "                    predecessor[adjacent] = currentNode\r\n",
    "                    queue.append(adjacent)\r\n",
    "\r\n",
    "                if adjacent == destiny:\r\n",
    "                    path = [destiny]\r\n",
    "                    while currentNode is not None:\r\n",
    "                        path.append(currentNode)\r\n",
    "                        currentNode = predecessor[currentNode]\r\n",
    "                    path.reverse()\r\n",
    "                    result = ['->'] * (len(path) * 2 - 1)\r\n",
    "                    result[0::2] = path\r\n",
    "                    fullPath = ' '.join([str(elem) for elem in result])\r\n",
    "                    #originName = users.loc[users['username']==origin].Name.item()\r\n",
    "                    #destinyName = users.loc[users['username']==destiny].Name.item()\r\n",
    "                    return f'Path from {self.profiles[origin][\"Name\"]} to {self.profiles[destiny][\"Name\"]}: {fullPath}'\r\n",
    "\r\n",
    "        return False\r\n",
    "    \r\n",
    "    def findInfluencers(self, k):\r\n",
    "        # add first node to queue\r\n",
    "        queue = [next(iter(self.profiles))]\r\n",
    "        # create visited nodes list\r\n",
    "        visited = []\r\n",
    "        # create influencers dicitonary\r\n",
    "        influencers = {}\r\n",
    "        # while the list is not empty\r\n",
    "        while len(queue) > 0:\r\n",
    "            # extract the first element of the queue\r\n",
    "            currentNode = queue.pop(0)\r\n",
    "            # add this element into the visited list\r\n",
    "            visited.append(currentNode)\r\n",
    "            currentFollowerNumber = self.profiles[currentNode]['Followers']\r\n",
    "            # verify if list is empty\r\n",
    "            if not influencers:\r\n",
    "                influencers[currentNode] = currentFollowerNumber\r\n",
    "            # get the last element from influencer dict\r\n",
    "            leastInfluencer = min(influencers.items(), key=lambda item: item[1])[1]\r\n",
    "            # verify if list is full and the new element is bigger\r\n",
    "            if len(influencers) == k and currentFollowerNumber > leastInfluencer:\r\n",
    "                influencers.popitem()\r\n",
    "            # add item and sort values\r\n",
    "            if len(influencers) < k :\r\n",
    "                influencers[currentNode] = currentFollowerNumber\r\n",
    "                influencers = {key: value for key, value in sorted(influencers.items(), reverse=True, key=lambda item: item[1])}\r\n",
    "            # visit the adjacent elements of this node\r\n",
    "            for adjacent in self.network[currentNode].keys():\r\n",
    "                # node not in visited list and in queue\r\n",
    "                if adjacent not in queue + visited:\r\n",
    "                    # add this adjacent node to queue\r\n",
    "                    queue.append(adjacent)\r\n",
    "        return f'Top {k} Influencers: {influencers}'\r\n",
    "\r\n",
    "    def storiesOrder(self, username):\r\n",
    "        firstSort = {key: value for key, value in sorted(self.network[username].items())}\r\n",
    "        secondSort = [key for key, value in sorted(firstSort.items(), reverse=True, key=lambda item: item[1])]\r\n",
    "        return f'Ordem dos Stories de {self.profiles[username][\"Name\"]}:\\n {secondSort}'\r\n"
   ],
   "outputs": [],
   "metadata": {}
  },
  {
   "cell_type": "markdown",
   "source": [
    "# <span style='color:LightSeaGreen'>Criando o grafo</span> <a id='graph'></a>"
   ],
   "metadata": {}
  },
  {
   "cell_type": "code",
   "execution_count": 62,
   "source": [
    "g = Graph()\r\n",
    "\r\n",
    "# add unique rows by rowname ID\r\n",
    "for row in users.iterrows():\r\n",
    "    # row[0] -> index;  row[1] -> tuple values\r\n",
    "    # row[1][0] -> name;  row[1][1] -> rowname\r\n",
    "    g.addNode(name = row[1][0], username = row[1][1])\r\n",
    "\r\n",
    "# connect the rows\r\n",
    "for row in connections.iterrows():\r\n",
    "    # row[0] -> index;  row[1] -> tuple values\r\n",
    "    # row[1][1] -> follower;  row[1][2] -> following;  row[1][3] -> weight\r\n",
    "    g.connectNode(origin=row[1][1], destiny=row[1][2], weight=row[1][3])"
   ],
   "outputs": [],
   "metadata": {}
  },
  {
   "cell_type": "markdown",
   "source": [
    "# <span style='color:LightSeaGreen'>Funções</span> <a id='functions'></a>"
   ],
   "metadata": {}
  },
  {
   "cell_type": "markdown",
   "source": [
    "## <span style='color:LightSeaGreen'>Exibir número de seguidores ✔</span> <a id='followers'></a> "
   ],
   "metadata": {}
  },
  {
   "cell_type": "code",
   "execution_count": 52,
   "source": [
    "def showFollowers(self, username):\r\n",
    "        return f'Seguidores de {self.profiles[username][\"Name\"]} : {self.profiles[username][\"Followers\"]}'\r\n"
   ],
   "outputs": [],
   "metadata": {}
  },
  {
   "cell_type": "markdown",
   "source": [
    "## <span style='color:LightSeaGreen'>Exibir pessoas que o usuário segue ✔</span> <a id='following'></a>"
   ],
   "metadata": {}
  },
  {
   "cell_type": "code",
   "execution_count": 53,
   "source": [
    "def showFollowing(self, username):\r\n",
    "        return f'Pessoas que {self.profiles[username][\"Name\"]} segue: {self.profiles[username][\"Following\"]}'"
   ],
   "outputs": [],
   "metadata": {}
  },
  {
   "cell_type": "markdown",
   "source": [
    "## <span style='color:LightSeaGreen'>Ordernar lista stories ✔</span> <a id='stories'></a>"
   ],
   "metadata": {}
  },
  {
   "cell_type": "code",
   "execution_count": 54,
   "source": [
    "def storiesOrder(self, username):\r\n",
    "    firstSort = {key: value for key, value in sorted(self.network[username].items())}\r\n",
    "    secondSort = [key for key, value in sorted(firstSort.items(), reverse=True, key=lambda item: item[1])]\r\n",
    "    return f'Ordem dos Stories de {self.profiles[username][\"Name\"]}:\\n {secondSort}'"
   ],
   "outputs": [],
   "metadata": {}
  },
  {
   "cell_type": "markdown",
   "source": [
    "## <span style='color:LightSeaGreen'>Encontrar top k influencers ✔</span> <a id='topk'></a>"
   ],
   "metadata": {}
  },
  {
   "cell_type": "code",
   "execution_count": 55,
   "source": [
    "def findInfluencers(self, k):\r\n",
    "    # add first node to queue\r\n",
    "    queue = [next(iter(self.profiles))]\r\n",
    "    # create visited nodes list\r\n",
    "    visited = []\r\n",
    "    # create influencers dicitonary\r\n",
    "    influencers = {}\r\n",
    "    # while the list is not empty\r\n",
    "    while len(queue) > 0:\r\n",
    "        # extract the first element of the queue\r\n",
    "        currentNode = queue.pop(0)\r\n",
    "        # add this element into the visited list\r\n",
    "        visited.append(currentNode)\r\n",
    "        currentFollowerNumber = self.profiles[currentNode]['Followers']\r\n",
    "        # verify if list is empty\r\n",
    "        if not influencers:\r\n",
    "            influencers[currentNode] = currentFollowerNumber\r\n",
    "        # get the last element from influencer dict\r\n",
    "        leastInfluencer = min(influencers.items(), key=lambda item: item[1])[1]\r\n",
    "        # verify if list is full and the new element is bigger\r\n",
    "        if len(influencers) == k and currentFollowerNumber > leastInfluencer:\r\n",
    "            influencers.popitem()\r\n",
    "        # add item and sort values\r\n",
    "        if len(influencers) < k :\r\n",
    "            influencers[currentNode] = currentFollowerNumber\r\n",
    "            influencers = {key: value for key, value in sorted(influencers.items(), reverse=True, key=lambda item: item[1])}\r\n",
    "        # visit the adjacent elements of this node\r\n",
    "        for adjacent in self.network[currentNode].keys():\r\n",
    "            # node not in visited list and in queue\r\n",
    "            if adjacent not in queue + visited:\r\n",
    "                # add this adjacent node to queue\r\n",
    "                queue.append(adjacent)\r\n",
    "    return f'Top {k} Influencers: {influencers}'"
   ],
   "outputs": [],
   "metadata": {}
  },
  {
   "cell_type": "markdown",
   "source": [
    "## <span style='color:LightSeaGreen'>Encontrar o caminho ✔</span> <a id='path'></a>"
   ],
   "metadata": {}
  },
  {
   "cell_type": "code",
   "execution_count": 56,
   "source": [
    "def showPath(self, origin, destiny):\r\n",
    "    queue = [origin]\r\n",
    "    visited = []\r\n",
    "    predecessor = {origin: None}\r\n",
    "    \r\n",
    "    while len(queue) > 0:\r\n",
    "        currentNode = queue.pop(0)\r\n",
    "        visited.append(currentNode)\r\n",
    "        for adjacent in self.network[currentNode].keys():\r\n",
    "\r\n",
    "            if adjacent not in queue + visited:\r\n",
    "                predecessor[adjacent] = currentNode\r\n",
    "                queue.append(adjacent)\r\n",
    "\r\n",
    "            if adjacent == destiny:\r\n",
    "                path = [destiny]\r\n",
    "                while currentNode is not None:\r\n",
    "                    path.append(currentNode)\r\n",
    "                    currentNode = predecessor[currentNode]\r\n",
    "                path.reverse()\r\n",
    "                result = ['->'] * (len(path) * 2 - 1)\r\n",
    "                result[0::2] = path\r\n",
    "                fullPath = ' '.join([str(elem) for elem in result])\r\n",
    "                #originName = users.loc[users['username']==origin].Name.item()\r\n",
    "                #destinyName = users.loc[users['username']==destiny].Name.item()\r\n",
    "                return f'Path from {self.profiles[origin][\"Name\"]} to {self.profiles[destiny][\"Name\"]}: {fullPath}'\r\n",
    "\r\n",
    "    return False"
   ],
   "outputs": [],
   "metadata": {}
  },
  {
   "cell_type": "markdown",
   "source": [
    "# <span style='color:LightSeaGreen'>Testes</span> <a id='methods'></a>"
   ],
   "metadata": {}
  },
  {
   "cell_type": "markdown",
   "source": [
    "quantidade_seguidores('helena42') --> Seguidores da Helena: 18"
   ],
   "metadata": {}
  },
  {
   "cell_type": "code",
   "execution_count": 57,
   "source": [
    "g.showFollowers('helena42')"
   ],
   "outputs": [
    {
     "output_type": "execute_result",
     "data": {
      "text/plain": [
       "'Seguidores de Helena : 18'"
      ]
     },
     "metadata": {},
     "execution_count": 57
    }
   ],
   "metadata": {}
  },
  {
   "cell_type": "markdown",
   "source": [
    "quantidade_seguindo('helena42') --> Pessoas que a Helena segue: 16"
   ],
   "metadata": {}
  },
  {
   "cell_type": "code",
   "execution_count": 58,
   "source": [
    "g.showFollowing('helena42')"
   ],
   "outputs": [
    {
     "output_type": "execute_result",
     "data": {
      "text/plain": [
       "'Pessoas que Helena segue: 16'"
      ]
     },
     "metadata": {},
     "execution_count": 58
    }
   ],
   "metadata": {}
  },
  {
   "cell_type": "markdown",
   "source": [
    "stories('helena42') --> Ordem dos stories da Helena:  \r\n",
    " ['ana_julia22', 'pietro33', 'alice43', 'ana_clara30', 'calebe49', 'caua11', 'davi48', 'gustavo16', 'heloisa37', 'lavinia36','mariana5', 'matheus6', 'melissa42', 'nicolas4', 'rafael38', 'sophia31']"
   ],
   "metadata": {}
  },
  {
   "cell_type": "code",
   "execution_count": 59,
   "source": [
    "g.storiesOrder('helena42')"
   ],
   "outputs": [
    {
     "output_type": "execute_result",
     "data": {
      "text/plain": [
       "\"Ordem dos Stories de Helena:\\n ['ana_julia22', 'pietro33', 'alice43', 'ana_clara30', 'calebe49', 'caua11', 'davi48', 'gustavo16', 'heloisa37', 'lavinia36', 'mariana5', 'matheus6', 'melissa42', 'nicolas4', 'rafael38', 'sophia31']\""
      ]
     },
     "metadata": {},
     "execution_count": 59
    }
   ],
   "metadata": {}
  },
  {
   "cell_type": "markdown",
   "source": [
    "top_influencers(5) --> Top influences: {'maria_alice19': 24, 'henrique12': 22, 'miguel1': 22, 'isis3': 22, 'alice43': 22}"
   ],
   "metadata": {}
  },
  {
   "cell_type": "code",
   "execution_count": 60,
   "source": [
    "g.findInfluencers(5)"
   ],
   "outputs": [
    {
     "output_type": "execute_result",
     "data": {
      "text/plain": [
       "\"Top 5 Influencers: {'maria_alice19': 24, 'alice43': 22, 'isis3': 22, 'miguel1': 22, 'henrique12': 22}\""
      ]
     },
     "metadata": {},
     "execution_count": 60
    }
   ],
   "metadata": {}
  },
  {
   "cell_type": "markdown",
   "source": [
    "mostrar o caminho ('helena42', 'isadora45')"
   ],
   "metadata": {}
  },
  {
   "cell_type": "code",
   "execution_count": 61,
   "source": [
    "g.showPath('helena42', 'isadora45')"
   ],
   "outputs": [
    {
     "output_type": "execute_result",
     "data": {
      "text/plain": [
       "'Path from Helena to Isadora: helena42 -> ana_clara30 -> isadora45'"
      ]
     },
     "metadata": {},
     "execution_count": 61
    }
   ],
   "metadata": {}
  }
 ],
 "metadata": {
  "orig_nbformat": 4,
  "language_info": {
   "name": "python",
   "version": "3.8.8",
   "mimetype": "text/x-python",
   "codemirror_mode": {
    "name": "ipython",
    "version": 3
   },
   "pygments_lexer": "ipython3",
   "nbconvert_exporter": "python",
   "file_extension": ".py"
  },
  "kernelspec": {
   "name": "python3",
   "display_name": "Python 3.8.8 64-bit (conda)"
  },
  "interpreter": {
   "hash": "b3ba2566441a7c06988d0923437866b63cedc61552a5af99d1f4fb67d367b25f"
  }
 },
 "nbformat": 4,
 "nbformat_minor": 2
}