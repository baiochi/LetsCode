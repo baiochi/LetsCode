{
 "cells": [
  {
   "cell_type": "markdown",
   "source": [
    "## Exercícios - Busca em Grafos\n",
    "\n",
    "Na aula, vimos como implementar o esqueleto e parte principal do BFS e DFS. Contudo, paramos na parte de verificar se um caminho existia.\n",
    "\n",
    "Agora, quero que vocês reimplementem os métodos de busca não só trazendo True ou False quando encontrarmos um caminho da origem para o destino, mas que tragam o caminho! Algo assim:\n",
    "\n",
    "```python\n",
    "g.busca_largura(2, 8)\n",
    "Output: '2 -> 6 -> 7 -> 8 '\n",
    "```\n",
    "\n",
    "Façam isso para BFS e DFS."
   ],
   "metadata": {}
  },
  {
   "cell_type": "code",
   "execution_count": 16,
   "source": [
    "\r\n",
    "# chave -> vertice\r\n",
    "# valor -> o anterior\r\n",
    "\r\n",
    "dicionario_anteriores = {2: None,\r\n",
    "                         6: 2,\r\n",
    "                         5: 6,\r\n",
    "                         8: 5}"
   ],
   "outputs": [],
   "metadata": {
    "ExecuteTime": {
     "end_time": "2021-09-22T22:24:24.560211Z",
     "start_time": "2021-09-22T22:24:24.543209Z"
    }
   }
  },
  {
   "cell_type": "code",
   "execution_count": 17,
   "source": [
    "dicionario_anteriores[dicionario_anteriores[dicionario_anteriores[8]]]"
   ],
   "outputs": [
    {
     "output_type": "execute_result",
     "data": {
      "text/plain": [
       "2"
      ]
     },
     "metadata": {},
     "execution_count": 17
    }
   ],
   "metadata": {
    "ExecuteTime": {
     "end_time": "2021-09-22T22:25:08.130357Z",
     "start_time": "2021-09-22T22:25:08.113361Z"
    }
   }
  },
  {
   "cell_type": "code",
   "execution_count": 18,
   "source": [
    "print(dicionario_anteriores)"
   ],
   "outputs": [
    {
     "output_type": "stream",
     "name": "stdout",
     "text": [
      "{2: None, 6: 2, 5: 6, 8: 5}\n"
     ]
    }
   ],
   "metadata": {}
  },
  {
   "cell_type": "code",
   "execution_count": 19,
   "source": [
    "anterior = dicionario_anteriores[8]\r\n",
    "caminho = [\"8\"]\r\n",
    "while anterior is not None:\r\n",
    "    caminho.append(str(anterior))\r\n",
    "    anterior = dicionario_anteriores[anterior]\r\n",
    "caminho"
   ],
   "outputs": [
    {
     "output_type": "execute_result",
     "data": {
      "text/plain": [
       "['8', '5', '6', '2']"
      ]
     },
     "metadata": {},
     "execution_count": 19
    }
   ],
   "metadata": {
    "ExecuteTime": {
     "end_time": "2021-09-22T22:27:38.273455Z",
     "start_time": "2021-09-22T22:27:38.263456Z"
    }
   }
  },
  {
   "cell_type": "code",
   "execution_count": 11,
   "source": [
    "' -> '.join(caminho[::-1])"
   ],
   "outputs": [
    {
     "output_type": "execute_result",
     "data": {
      "text/plain": [
       "'2 -> 6 -> 5 -> 8'"
      ]
     },
     "metadata": {},
     "execution_count": 11
    }
   ],
   "metadata": {
    "ExecuteTime": {
     "end_time": "2021-09-22T22:12:27.080302Z",
     "start_time": "2021-09-22T22:12:27.065302Z"
    }
   }
  },
  {
   "cell_type": "code",
   "execution_count": 2,
   "source": [
    "dicionario_anteriores[8]"
   ],
   "outputs": [
    {
     "output_type": "execute_result",
     "data": {
      "text/plain": [
       "7"
      ]
     },
     "metadata": {},
     "execution_count": 2
    }
   ],
   "metadata": {
    "ExecuteTime": {
     "end_time": "2021-09-22T22:07:23.144892Z",
     "start_time": "2021-09-22T22:07:23.128891Z"
    },
    "scrolled": true
   }
  },
  {
   "cell_type": "code",
   "execution_count": 4,
   "source": [
    "dicionario_anteriores[7]"
   ],
   "outputs": [
    {
     "output_type": "execute_result",
     "data": {
      "text/plain": [
       "6"
      ]
     },
     "metadata": {},
     "execution_count": 4
    }
   ],
   "metadata": {
    "ExecuteTime": {
     "end_time": "2021-09-22T22:08:09.997002Z",
     "start_time": "2021-09-22T22:08:09.978986Z"
    }
   }
  },
  {
   "cell_type": "code",
   "execution_count": 5,
   "source": [
    "dicionario_anteriores[6]"
   ],
   "outputs": [
    {
     "output_type": "execute_result",
     "data": {
      "text/plain": [
       "2"
      ]
     },
     "metadata": {},
     "execution_count": 5
    }
   ],
   "metadata": {
    "ExecuteTime": {
     "end_time": "2021-09-22T22:08:12.761549Z",
     "start_time": "2021-09-22T22:08:12.750550Z"
    }
   }
  },
  {
   "cell_type": "code",
   "execution_count": 6,
   "source": [
    "dicionario_anteriores[2]"
   ],
   "outputs": [],
   "metadata": {
    "ExecuteTime": {
     "end_time": "2021-09-22T22:08:21.167352Z",
     "start_time": "2021-09-22T22:08:21.153351Z"
    }
   }
  },
  {
   "cell_type": "markdown",
   "source": [
    "## Solução"
   ],
   "metadata": {}
  },
  {
   "cell_type": "code",
   "execution_count": 28,
   "source": [
    "class Grafo():\r\n",
    "    def __init__(self):\r\n",
    "        # Iniciamos a nossa matriz de adjacencia, que nem vimos la em cima\r\n",
    "        self.adjacencia = {}\r\n",
    "    \r\n",
    "    def adiciona(self, vertice):\r\n",
    "        # Para adicionar um vertice, simplesmente criamos a chave dele dentro nosso dicionario de adjacencia\r\n",
    "        self.adjacencia[vertice] = {}\r\n",
    "    \r\n",
    "    def conecta(self, origem, destino, peso = 1):\r\n",
    "        # Acessamos nosso vertice e criamos uma chave para a conexao dele, atribuindo o valor como sendo o peso\r\n",
    "        self.adjacencia[origem][destino] = peso\r\n",
    "        self.adjacencia[destino][origem] = peso\r\n",
    "    \r\n",
    "    def busca_profundidade(self, origem, visitados=None):\r\n",
    "        # Criando lista de visitados vazia na primeira iteracao\r\n",
    "        if visitados is None:\r\n",
    "            visitados = []\r\n",
    "\r\n",
    "        # Pegando os nós adjacentes, que são as chaves do meu dicionario interno\r\n",
    "        visitados.append(origem)\r\n",
    "        for adjacente in self.adjacencia[origem].keys():\r\n",
    "            if adjacente not in visitados:\r\n",
    "                self.busca_profundidade(adjacente, visitados)\r\n",
    "        return visitados\r\n",
    "    \r\n",
    "    def busca_profundidade_verifica_caminho(self, origem, destino, visitados=None):\r\n",
    "        # Criando lista de visitados vazia na primeira iteracao\r\n",
    "        if visitados is None:\r\n",
    "            visitados = []\r\n",
    "            \r\n",
    "        if origem == destino:\r\n",
    "            return True\r\n",
    "        \r\n",
    "        # Pegando os nós adjacentes, que são as chaves do meu dicionario interno\r\n",
    "        visitados.append(origem)\r\n",
    "        for adjacente in self.adjacencia[origem].keys():\r\n",
    "            if adjacente not in visitados:\r\n",
    "                if self.busca_profundidade_verifica_caminho(adjacente, destino, visitados):\r\n",
    "                    return True\r\n",
    "                \r\n",
    "        return False\r\n",
    "    \r\n",
    "    def busca_profundidade_exibe_caminho(self, origem, destino):\r\n",
    "        predecessor={origem: None}  \r\n",
    "        \r\n",
    "        if self._busca_profundidade_exibe_caminho(origem, destino, predecessor=predecessor):\r\n",
    "            pred = predecessor[destino]\r\n",
    "            caminho_invertido = [destino]\r\n",
    "            while pred is not None:\r\n",
    "                caminho_invertido.append(pred)\r\n",
    "                pred = predecessor[pred]\r\n",
    "\r\n",
    "            caminho = ''\r\n",
    "            for no in caminho_invertido[::-1]:\r\n",
    "                caminho += f'{no} -> '\r\n",
    "            return caminho[:-3]\r\n",
    "    \r\n",
    "    def _busca_profundidade_exibe_caminho(self, origem, destino, visitados=None, predecessor=None):\r\n",
    "        # Criando lista de visitados vazia na primeira iteracao\r\n",
    "        if visitados is None:\r\n",
    "            visitados = []\r\n",
    "        \r\n",
    "        if predecessor is None:\r\n",
    "            predecessor = {origem: None}\r\n",
    "            \r\n",
    "        if origem == destino:\r\n",
    "            return True\r\n",
    "        \r\n",
    "        # Pegando os nós adjacentes, que são as chaves do meu dicionario interno\r\n",
    "        visitados.append(origem)\r\n",
    "        for adjacente in self.adjacencia[origem].keys():\r\n",
    "            if adjacente not in visitados:\r\n",
    "                predecessor[adjacente] = origem\r\n",
    "                if self._busca_profundidade_exibe_caminho(adjacente, destino, visitados, predecessor):\r\n",
    "                    return True\r\n",
    "                \r\n",
    "        return False\r\n",
    "\r\n",
    "    def busca_largura(self, origem):\r\n",
    "        fila = [origem]\r\n",
    "        visitados = []\r\n",
    "        while len(fila) > 0:\r\n",
    "            primeiro_elemento = fila[0]\r\n",
    "            fila = fila[1:]\r\n",
    "            visitados.append(primeiro_elemento)\r\n",
    "            for adjacente in self.adjacencia[primeiro_elemento].keys():\r\n",
    "                if adjacente not in fila and adjacente not in visitados:\r\n",
    "                    fila.append(adjacente)\r\n",
    "        return visitados\r\n",
    "    \r\n",
    "    def busca_largura_verifica_caminho(self, origem, destino):\r\n",
    "        fila = [origem]\r\n",
    "        visitados = []\r\n",
    "        \r\n",
    "        # enquanto tiver elementos na minha fila\r\n",
    "        while len(fila) > 0:\r\n",
    "            primeiro_elemento = fila[0]\r\n",
    "            fila = fila[1:]\r\n",
    "            visitados.append(primeiro_elemento)\r\n",
    "            for adjacente in self.adjacencia[primeiro_elemento].keys():\r\n",
    "                if adjacente == destino:\r\n",
    "                    return True\r\n",
    "                if adjacente not in fila and adjacente not in visitados:\r\n",
    "                    fila.append(adjacente)\r\n",
    "        return False\r\n",
    "    \r\n",
    "    def busca_largura_exibe_caminho(self, origem, destino):\r\n",
    "        fila = [origem]\r\n",
    "        visitados = []\r\n",
    "        predecessor = {origem: None}\r\n",
    "        \r\n",
    "        # enquanto tiver elementos na minha fila\r\n",
    "        while len(fila) > 0:\r\n",
    "            primeiro_elemento = fila[0]\r\n",
    "            fila = fila[1:]\r\n",
    "            visitados.append(primeiro_elemento)\r\n",
    "            for adjacente in self.adjacencia[primeiro_elemento].keys():\r\n",
    "                \r\n",
    "                # se achou, monta o caminho\r\n",
    "                if adjacente == destino:\r\n",
    "                    pred = primeiro_elemento\r\n",
    "                    caminho_invertido = [destino]\r\n",
    "                    while pred is not None:\r\n",
    "                        caminho_invertido.append(pred)\r\n",
    "                        pred = predecessor[pred]\r\n",
    "                    \r\n",
    "                    caminho = ''\r\n",
    "                    for no in caminho_invertido[::-1]:\r\n",
    "                        caminho += f'{no} -> '\r\n",
    "                    return caminho[:-3]\r\n",
    "                \r\n",
    "                if adjacente not in fila and adjacente not in visitados:\r\n",
    "                    predecessor[adjacente] = primeiro_elemento\r\n",
    "                    fila.append(adjacente)\r\n",
    "        return False"
   ],
   "outputs": [],
   "metadata": {
    "ExecuteTime": {
     "end_time": "2021-09-22T22:31:12.783328Z",
     "start_time": "2021-09-22T22:31:12.745363Z"
    }
   }
  },
  {
   "cell_type": "code",
   "execution_count": 39,
   "source": [
    "def cria_grafo():\r\n",
    "    g = Grafo()\r\n",
    "    g.adiciona(1)\r\n",
    "    g.adiciona(2)\r\n",
    "    g.adiciona(3)\r\n",
    "    g.adiciona(4)\r\n",
    "    g.adiciona(5)\r\n",
    "    g.adiciona(6)\r\n",
    "    g.adiciona(7)\r\n",
    "    g.adiciona(8)\r\n",
    "    g.conecta(1, 2)\r\n",
    "    g.conecta(1, 5)\r\n",
    "    g.conecta(2, 6)\r\n",
    "    g.conecta(6, 3)\r\n",
    "    g.conecta(6, 7)\r\n",
    "    g.conecta(3, 7)\r\n",
    "    g.conecta(3, 4)\r\n",
    "    g.conecta(7, 4)\r\n",
    "    g.conecta(7, 8)\r\n",
    "    g.conecta(4, 8)\r\n",
    "    return g"
   ],
   "outputs": [],
   "metadata": {
    "ExecuteTime": {
     "end_time": "2021-09-22T22:32:26.656482Z",
     "start_time": "2021-09-22T22:32:26.651460Z"
    }
   }
  },
  {
   "cell_type": "code",
   "execution_count": 40,
   "source": [
    "g = cria_grafo()\r\n",
    "g.busca_profundidade_exibe_caminho(2, 8)"
   ],
   "outputs": [
    {
     "output_type": "execute_result",
     "data": {
      "text/plain": [
       "'2 -> 6 -> 3 -> 7 -> 4 -> 8 '"
      ]
     },
     "metadata": {},
     "execution_count": 40
    }
   ],
   "metadata": {
    "ExecuteTime": {
     "end_time": "2021-09-22T22:32:26.924460Z",
     "start_time": "2021-09-22T22:32:26.917458Z"
    }
   }
  },
  {
   "cell_type": "code",
   "execution_count": 41,
   "source": [
    "g.adjacencia"
   ],
   "outputs": [
    {
     "output_type": "execute_result",
     "data": {
      "text/plain": [
       "{1: {2: 1, 5: 1},\n",
       " 2: {1: 1, 6: 1},\n",
       " 3: {6: 1, 7: 1, 4: 1},\n",
       " 4: {3: 1, 7: 1, 8: 1},\n",
       " 5: {1: 1},\n",
       " 6: {2: 1, 3: 1, 7: 1},\n",
       " 7: {6: 1, 3: 1, 4: 1, 8: 1},\n",
       " 8: {7: 1, 4: 1}}"
      ]
     },
     "metadata": {},
     "execution_count": 41
    }
   ],
   "metadata": {
    "ExecuteTime": {
     "end_time": "2021-09-22T22:32:28.433981Z",
     "start_time": "2021-09-22T22:32:28.423937Z"
    }
   }
  },
  {
   "cell_type": "code",
   "execution_count": 42,
   "source": [
    "g.busca_largura_exibe_caminho(2, 8)"
   ],
   "outputs": [
    {
     "output_type": "execute_result",
     "data": {
      "text/plain": [
       "'2 -> 6 -> 7 -> 8 '"
      ]
     },
     "metadata": {},
     "execution_count": 42
    }
   ],
   "metadata": {
    "ExecuteTime": {
     "end_time": "2021-09-22T22:32:33.704730Z",
     "start_time": "2021-09-22T22:32:33.684727Z"
    }
   }
  }
 ],
 "metadata": {
  "kernelspec": {
   "name": "python3",
   "display_name": "Python 3.8.8 64-bit (conda)"
  },
  "language_info": {
   "codemirror_mode": {
    "name": "ipython",
    "version": 3
   },
   "file_extension": ".py",
   "mimetype": "text/x-python",
   "name": "python",
   "nbconvert_exporter": "python",
   "pygments_lexer": "ipython3",
   "version": "3.8.8"
  },
  "interpreter": {
   "hash": "b3ba2566441a7c06988d0923437866b63cedc61552a5af99d1f4fb67d367b25f"
  }
 },
 "nbformat": 4,
 "nbformat_minor": 5
}