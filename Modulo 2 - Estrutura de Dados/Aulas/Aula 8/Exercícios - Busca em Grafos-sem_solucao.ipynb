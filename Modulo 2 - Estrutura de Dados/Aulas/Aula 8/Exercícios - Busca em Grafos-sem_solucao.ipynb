{
 "cells": [
  {
   "cell_type": "markdown",
   "source": [
    "## Exercícios - Busca em Grafos\n",
    "\n",
    "Na aula, vimos como implementar o esqueleto e parte principal do BFS e DFS. Contudo, paramos na parte de verificar se um caminho existia.\n",
    "\n",
    "Agora, quero que vocês reimplementem os métodos de busca não só trazendo True ou False quando encontrarmos um caminho da origem para o destino, mas que tragam o caminho! Algo assim:\n",
    "\n",
    "```python\n",
    "g.busca_largura(2, 8)\n",
    "Output: '2 -> 6 -> 7 -> 8 '\n",
    "```\n",
    "\n",
    "Façam isso para BFS e DFS."
   ],
   "metadata": {}
  },
  {
   "cell_type": "markdown",
   "source": [
    "## Solução"
   ],
   "metadata": {}
  },
  {
   "cell_type": "code",
   "execution_count": 65,
   "source": [
    "class Graph():\r\n",
    "    def __init__(self) -> None:\r\n",
    "        self.adjMatrix = {}\r\n",
    "\r\n",
    "    def addVertex(self, number):\r\n",
    "        self.adjMatrix[number] = {}\r\n",
    "\r\n",
    "    def connectVertex(self, origin, destiny, weight=1):\r\n",
    "        self.adjMatrix[origin][destiny] = weight\r\n",
    "        self.adjMatrix[destiny][origin] = weight\r\n",
    "    \r\n",
    "    def deepSearch(self, origin, know=[]):\r\n",
    "        know.append(origin)\r\n",
    "        for adj in self.adjMatrix[origin].keys():\r\n",
    "            if adj in know:\r\n",
    "                pass\r\n",
    "            else:\r\n",
    "                self.deepSearch(adj,know)\r\n",
    "        return know\r\n",
    "    \r\n",
    "    def broadSearch(self, origin):\r\n",
    "        queue = [origin]\r\n",
    "        know = []\r\n",
    "\r\n",
    "        while len(queue) > 0:\r\n",
    "            firstElement = queue[0]\r\n",
    "            queue = queue[1:]\r\n",
    "            know.append(firstElement)\r\n",
    "            for adj in self.adjMatrix[firstElement].keys():\r\n",
    "                if adj not in know and adj not in queue:\r\n",
    "                    queue.append(adj)\r\n",
    "        return know\r\n",
    "    \r\n",
    "    def DS_VerifyPath(self, origin, destiny, know=[]):\r\n",
    "        \r\n",
    "        if origin == destiny:\r\n",
    "            return True\r\n",
    "        \r\n",
    "        know.append(origin)\r\n",
    "        for adj in self.adjMatrix[origin].keys():\r\n",
    "            print(adj, end=' ')\r\n",
    "            #dict[adj] = origin\r\n",
    "            if adj not in know:\r\n",
    "                if self.DS_VerifyPath(adj, destiny, know):\r\n",
    "                    return True\r\n",
    "\r\n",
    "    def BS_VerifyPath(self, origin, destiny):\r\n",
    "        queue = [origin]\r\n",
    "        know = []\r\n",
    "        \r\n",
    "        while len(queue) > 0:\r\n",
    "            print(f'begin: {queue}')\r\n",
    "            firstElement = queue[0]\r\n",
    "            #print(f'first {firstElement}, destiny {destiny}')\r\n",
    "            if firstElement == destiny:\r\n",
    "                return True\r\n",
    "            queue = queue[1:]\r\n",
    "            know.append(firstElement)\r\n",
    "            for adj in self.adjMatrix[firstElement].keys():\r\n",
    "                if adj not in know and adj not in queue:\r\n",
    "                    print(adj, end=' ')\r\n",
    "                    queue.append(adj)\r\n",
    "        return False\r\n",
    "\r\n",
    "def createGraph():\r\n",
    "    g = Graph()\r\n",
    "    g.addVertex(1)\r\n",
    "    g.addVertex(2)\r\n",
    "    g.addVertex(3)\r\n",
    "    g.addVertex(4)\r\n",
    "    g.addVertex(5)\r\n",
    "    g.addVertex(6)\r\n",
    "    g.addVertex(7)\r\n",
    "    g.addVertex(8)\r\n",
    "    g.connectVertex(1, 2)\r\n",
    "    g.connectVertex(1, 5)\r\n",
    "    g.connectVertex(2, 6)\r\n",
    "    g.connectVertex(6, 3)\r\n",
    "    g.connectVertex(6, 7)\r\n",
    "    g.connectVertex(3, 7)\r\n",
    "    g.connectVertex(3, 4)\r\n",
    "    g.connectVertex(7, 4)\r\n",
    "    g.connectVertex(7, 8)\r\n",
    "    g.connectVertex(4, 8)\r\n",
    "    return g"
   ],
   "outputs": [],
   "metadata": {}
  },
  {
   "cell_type": "code",
   "execution_count": 66,
   "source": [
    "g = createGraph()"
   ],
   "outputs": [],
   "metadata": {
    "ExecuteTime": {
     "end_time": "2021-09-20T03:24:29.663147Z",
     "start_time": "2021-09-20T03:24:29.646184Z"
    }
   }
  },
  {
   "cell_type": "code",
   "execution_count": 42,
   "source": [
    "\r\n",
    "g.DS_VerifyPath(2, 8)"
   ],
   "outputs": [
    {
     "output_type": "stream",
     "name": "stdout",
     "text": [
      "1 2 5 1 6 2 3 6 7 6 3 4 3 7 8 "
     ]
    },
    {
     "output_type": "execute_result",
     "data": {
      "text/plain": [
       "True"
      ]
     },
     "metadata": {},
     "execution_count": 42
    }
   ],
   "metadata": {
    "ExecuteTime": {
     "end_time": "2021-09-20T03:24:29.820017Z",
     "start_time": "2021-09-20T03:24:29.802980Z"
    }
   }
  },
  {
   "cell_type": "code",
   "execution_count": 67,
   "source": [
    "g.BS_VerifyPath(2, 8)\r\n",
    "#2 -> 6 -> 7 -> 8"
   ],
   "outputs": [
    {
     "output_type": "stream",
     "name": "stdout",
     "text": [
      "begin: [2]\n",
      "1 6 begin: [1, 6]\n",
      "5 begin: [6, 5]\n",
      "3 7 begin: [5, 3, 7]\n",
      "begin: [3, 7]\n",
      "4 begin: [7, 4]\n",
      "8 begin: [4, 8]\n",
      "begin: [8]\n"
     ]
    },
    {
     "output_type": "execute_result",
     "data": {
      "text/plain": [
       "True"
      ]
     },
     "metadata": {},
     "execution_count": 67
    }
   ],
   "metadata": {
    "ExecuteTime": {
     "end_time": "2021-09-20T03:24:38.568461Z",
     "start_time": "2021-09-20T03:24:38.548461Z"
    }
   }
  }
 ],
 "metadata": {
  "kernelspec": {
   "name": "python3",
   "display_name": "Python 3.8.8 64-bit (conda)"
  },
  "language_info": {
   "codemirror_mode": {
    "name": "ipython",
    "version": 3
   },
   "file_extension": ".py",
   "mimetype": "text/x-python",
   "name": "python",
   "nbconvert_exporter": "python",
   "pygments_lexer": "ipython3",
   "version": "3.8.8"
  },
  "interpreter": {
   "hash": "b3ba2566441a7c06988d0923437866b63cedc61552a5af99d1f4fb67d367b25f"
  }
 },
 "nbformat": 4,
 "nbformat_minor": 5
}