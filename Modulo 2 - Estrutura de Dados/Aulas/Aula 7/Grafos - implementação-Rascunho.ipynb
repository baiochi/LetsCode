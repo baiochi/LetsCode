{
 "cells": [
  {
   "cell_type": "markdown",
   "id": "f1718f67",
   "metadata": {},
   "source": [
    "## Implementando grafos\n",
    "\n",
    "Vimos nos slides que os grafos podem ser representados, principalmente, por duas estruturas principais:\n",
    "\n",
    "- Lista de adjacências\n",
    "- Matriz de adjacências\n",
    "\n",
    "Mas como implementar esses conceitos no Python?\n",
    "\n",
    "Existem várias formas, como usando lista de listas, usando arrays, etc. Faria muito sentido usar listas ou arrays se já conhecessemos o tamanho do nosso grafo, ou seja, quantos nós ele irá ter. Mas, e para um grafo que vamos criar e ir adicionando nós, temos como saber o tamanho prévio dele? A resposta é não. Dessa forma, faz mais sentido usar uma estrutura que nos permita ir adicionando um novo elemento e que saibamos procurar ele de forma rápida, sem precisar fazer uma busca para encontrar a posição dele.\n",
    "\n",
    "Essa estrutura é o dicionário (lembrando, não é a única forma de implementar)!\n",
    "\n",
    "Se tivéssemos o grafo abaixo, como ficaria a representação da matriz e lista de adjacências dele?\n",
    "\n",
    "![](https://www.thecshandbook.com/public_html/img/uploads/graph.png)"
   ]
  },
  {
   "cell_type": "code",
   "execution_count": 3,
   "id": "7e945eee",
   "metadata": {
    "ExecuteTime": {
     "end_time": "2021-09-17T23:37:45.870254Z",
     "start_time": "2021-09-17T23:37:45.852254Z"
    }
   },
   "outputs": [
    {
     "data": {
      "text/plain": [
       "{'1': [2, 5],\n",
       " '2': [1, 3, 5],\n",
       " '3': [2, 4],\n",
       " '4': [3, 5, 6],\n",
       " '5': [1, 2, 4],\n",
       " '6': [4]}"
      ]
     },
     "execution_count": 3,
     "metadata": {},
     "output_type": "execute_result"
    }
   ],
   "source": [
    "lista_adjacencia = {\n",
    "                    '1': [2, 5],\n",
    "                    '2': [1, 3, 5],\n",
    "                    '3': [2, 4],\n",
    "                    '4': [3, 5, 6],\n",
    "                    '5': [1, 2, 4],\n",
    "                    '6': [4],\n",
    "                    }\n",
    "\n",
    "lista_adjacencia"
   ]
  },
  {
   "cell_type": "code",
   "execution_count": null,
   "id": "b99a5f6d",
   "metadata": {},
   "outputs": [],
   "source": [
    "lista_adjacencia['5']"
   ]
  },
  {
   "cell_type": "code",
   "execution_count": 7,
   "id": "91cac8dd",
   "metadata": {
    "ExecuteTime": {
     "end_time": "2021-09-17T23:38:21.368929Z",
     "start_time": "2021-09-17T23:38:21.360947Z"
    }
   },
   "outputs": [
    {
     "data": {
      "text/plain": [
       "False"
      ]
     },
     "execution_count": 7,
     "metadata": {},
     "output_type": "execute_result"
    }
   ],
   "source": [
    "3 in lista_adjacencia['5']"
   ]
  },
  {
   "cell_type": "code",
   "execution_count": 13,
   "id": "06c03523",
   "metadata": {
    "ExecuteTime": {
     "end_time": "2021-09-17T23:40:26.315967Z",
     "start_time": "2021-09-17T23:40:26.297970Z"
    }
   },
   "outputs": [
    {
     "data": {
      "text/plain": [
       "1"
      ]
     },
     "execution_count": 13,
     "metadata": {},
     "output_type": "execute_result"
    }
   ],
   "source": [
    "a['chave1']['chave2']"
   ]
  },
  {
   "cell_type": "code",
   "execution_count": 43,
   "id": "f6ae8dee",
   "metadata": {
    "ExecuteTime": {
     "end_time": "2021-09-17T23:50:36.313746Z",
     "start_time": "2021-09-17T23:50:36.293754Z"
    }
   },
   "outputs": [],
   "source": [
    "matriz_adjacencia = {\n",
    "    '1': {\n",
    "        '2': 1,\n",
    "        '5': 1\n",
    "    },\n",
    "    '2': {\n",
    "        '1': 1,\n",
    "        '3': 1,\n",
    "        '5': 1\n",
    "    },\n",
    "    \"3\": {\n",
    "        \"2\": 1,\n",
    "        \"4\": 1   \n",
    "    },\n",
    "    \"4\": {\n",
    "        \"3\": 1,\n",
    "        \"5\": 1,\n",
    "        \"6\": 1,   \n",
    "    },\n",
    "    \"5\": \n",
    "    {\n",
    "        \"1\": 1,\n",
    "        \"2\": 1,\n",
    "        \"4\": 1,   \n",
    "    },\n",
    "    \"6\": {\n",
    "        \"4\": 1   \n",
    "    }\n",
    "}"
   ]
  },
  {
   "cell_type": "code",
   "execution_count": 89,
   "id": "ce7035e6",
   "metadata": {
    "ExecuteTime": {
     "end_time": "2021-09-18T00:06:32.587145Z",
     "start_time": "2021-09-18T00:06:32.581146Z"
    }
   },
   "outputs": [],
   "source": [
    "matriz_adjacencia['1']['2'] = 1"
   ]
  },
  {
   "cell_type": "code",
   "execution_count": 45,
   "id": "a0376435",
   "metadata": {
    "ExecuteTime": {
     "end_time": "2021-09-17T23:50:38.432155Z",
     "start_time": "2021-09-17T23:50:38.420157Z"
    }
   },
   "outputs": [
    {
     "data": {
      "text/plain": [
       "0"
      ]
     },
     "execution_count": 45,
     "metadata": {},
     "output_type": "execute_result"
    }
   ],
   "source": [
    "matriz_adjacencia['1'].get('101010101', 0)"
   ]
  },
  {
   "cell_type": "code",
   "execution_count": 46,
   "id": "392d1ef2",
   "metadata": {
    "ExecuteTime": {
     "end_time": "2021-09-17T23:50:38.605379Z",
     "start_time": "2021-09-17T23:50:38.584378Z"
    }
   },
   "outputs": [
    {
     "name": "stdout",
     "output_type": "stream",
     "text": [
      "    1 2 3 4 5 6 \n",
      "   ------------\n",
      "1 | 0 1 0 0 1 0 \n",
      "2 | 1 0 1 0 1 0 \n",
      "3 | 0 1 0 1 0 0 \n",
      "4 | 0 0 1 0 1 1 \n",
      "5 | 1 1 0 1 0 0 \n",
      "6 | 0 0 0 1 0 0 \n"
     ]
    }
   ],
   "source": [
    "linha_cabecalho = '    '\n",
    "for no in matriz_adjacencia:\n",
    "    linha_cabecalho += no + ' '\n",
    "print(linha_cabecalho)\n",
    "print('   ------------')\n",
    "\n",
    "for no1 in matriz_adjacencia:\n",
    "    linha = no1 + ' | '\n",
    "    for no2 in matriz_adjacencia:\n",
    "        linha += str(matriz_adjacencia[no1].get(no2, 0)) + ' '\n",
    "    print(linha)"
   ]
  },
  {
   "cell_type": "code",
   "execution_count": 56,
   "id": "2031173a",
   "metadata": {
    "ExecuteTime": {
     "end_time": "2021-09-17T23:55:47.744383Z",
     "start_time": "2021-09-17T23:55:47.735345Z"
    }
   },
   "outputs": [
    {
     "data": {
      "text/plain": [
       "0"
      ]
     },
     "execution_count": 56,
     "metadata": {},
     "output_type": "execute_result"
    }
   ],
   "source": [
    "matriz_adjacencia['1'].get('3', 0)"
   ]
  },
  {
   "cell_type": "code",
   "execution_count": 47,
   "id": "d70489f2",
   "metadata": {
    "ExecuteTime": {
     "end_time": "2021-09-17T23:50:56.116878Z",
     "start_time": "2021-09-17T23:50:56.108880Z"
    }
   },
   "outputs": [],
   "source": [
    "import numpy as np"
   ]
  },
  {
   "cell_type": "code",
   "execution_count": null,
   "id": "6ce496f4",
   "metadata": {},
   "outputs": [],
   "source": [
    " [2, 5],\n",
    "                    '2': [1, 3, 5],\n",
    "                    '3': [2, 4],\n",
    "                    '4': [3, 5, 6],\n",
    "                    '5': [1, 2, 4],\n",
    "                    '6': [4],"
   ]
  },
  {
   "cell_type": "code",
   "execution_count": 51,
   "id": "4e11de7b",
   "metadata": {
    "ExecuteTime": {
     "end_time": "2021-09-17T23:52:57.047124Z",
     "start_time": "2021-09-17T23:52:57.037125Z"
    }
   },
   "outputs": [],
   "source": [
    "matriz_adjacencia_np = np.zeros((6,6))\n",
    "matriz_adjacencia_np[0, [1, 4]] = 1\n",
    "matriz_adjacencia_np[1, [0, 2, 4]] = 1\n",
    "matriz_adjacencia_np[2, [1, 3]] = 1\n",
    "matriz_adjacencia_np[3, [2, 4, 5]] = 1\n",
    "matriz_adjacencia_np[4, [0, 1, 3]] = 1\n",
    "matriz_adjacencia_np[5, [3]] = 1"
   ]
  },
  {
   "cell_type": "code",
   "execution_count": 52,
   "id": "6be65d68",
   "metadata": {
    "ExecuteTime": {
     "end_time": "2021-09-17T23:52:57.962302Z",
     "start_time": "2021-09-17T23:52:57.949303Z"
    }
   },
   "outputs": [
    {
     "data": {
      "text/plain": [
       "array([[0., 1., 0., 0., 1., 0.],\n",
       "       [1., 0., 1., 0., 1., 0.],\n",
       "       [0., 1., 0., 1., 0., 0.],\n",
       "       [0., 0., 1., 0., 1., 1.],\n",
       "       [1., 1., 0., 1., 0., 0.],\n",
       "       [0., 0., 0., 1., 0., 0.]])"
      ]
     },
     "execution_count": 52,
     "metadata": {},
     "output_type": "execute_result"
    }
   ],
   "source": [
    "matriz_adjacencia_np"
   ]
  },
  {
   "cell_type": "markdown",
   "id": "19cc0efe",
   "metadata": {},
   "source": [
    "### Implementação"
   ]
  },
  {
   "cell_type": "code",
   "execution_count": 68,
   "id": "a56a244d",
   "metadata": {
    "ExecuteTime": {
     "end_time": "2021-09-18T00:00:51.107313Z",
     "start_time": "2021-09-18T00:00:51.091323Z"
    }
   },
   "outputs": [],
   "source": [
    "class Grafo():\n",
    "    def __init__(self):\n",
    "        self.matriz_adjacencia = {}\n",
    "    \n",
    "    def adiciona_vertice(self, numero):\n",
    "        self.matriz_adjacencia[numero] = {}\n",
    "    \n",
    "    def conecta_vertices(self, origem, destino, peso=1):\n",
    "        self.matriz_adjacencia[origem][destino] = peso\n",
    "#         self.matriz_adjacencia[destino][origem] = peso"
   ]
  },
  {
   "cell_type": "code",
   "execution_count": 69,
   "id": "f71ebf83",
   "metadata": {
    "ExecuteTime": {
     "end_time": "2021-09-18T00:00:52.065622Z",
     "start_time": "2021-09-18T00:00:52.055620Z"
    }
   },
   "outputs": [],
   "source": [
    "meu_grafo = Grafo()"
   ]
  },
  {
   "cell_type": "code",
   "execution_count": 70,
   "id": "30a0499e",
   "metadata": {
    "ExecuteTime": {
     "end_time": "2021-09-18T00:00:52.362622Z",
     "start_time": "2021-09-18T00:00:52.344623Z"
    }
   },
   "outputs": [
    {
     "data": {
      "text/plain": [
       "{}"
      ]
     },
     "execution_count": 70,
     "metadata": {},
     "output_type": "execute_result"
    }
   ],
   "source": [
    "meu_grafo.matriz_adjacencia"
   ]
  },
  {
   "cell_type": "code",
   "execution_count": 71,
   "id": "6e716ea4",
   "metadata": {
    "ExecuteTime": {
     "end_time": "2021-09-18T00:00:53.052670Z",
     "start_time": "2021-09-18T00:00:53.048665Z"
    }
   },
   "outputs": [],
   "source": [
    "meu_grafo.adiciona_vertice(1)\n",
    "meu_grafo.adiciona_vertice(2)"
   ]
  },
  {
   "cell_type": "code",
   "execution_count": 72,
   "id": "8f5ed392",
   "metadata": {
    "ExecuteTime": {
     "end_time": "2021-09-18T00:00:53.448714Z",
     "start_time": "2021-09-18T00:00:53.438666Z"
    }
   },
   "outputs": [
    {
     "data": {
      "text/plain": [
       "{1: {}, 2: {}}"
      ]
     },
     "execution_count": 72,
     "metadata": {},
     "output_type": "execute_result"
    }
   ],
   "source": [
    "meu_grafo.matriz_adjacencia"
   ]
  },
  {
   "cell_type": "code",
   "execution_count": 73,
   "id": "276bd3ba",
   "metadata": {
    "ExecuteTime": {
     "end_time": "2021-09-18T00:01:02.718661Z",
     "start_time": "2021-09-18T00:01:02.709664Z"
    }
   },
   "outputs": [],
   "source": [
    "meu_grafo.conecta_vertices(1,2)"
   ]
  },
  {
   "cell_type": "code",
   "execution_count": 74,
   "id": "cc7a0df4",
   "metadata": {
    "ExecuteTime": {
     "end_time": "2021-09-18T00:01:07.749846Z",
     "start_time": "2021-09-18T00:01:07.741842Z"
    }
   },
   "outputs": [
    {
     "data": {
      "text/plain": [
       "{1: {2: 1}, 2: {1: 1}}"
      ]
     },
     "execution_count": 74,
     "metadata": {},
     "output_type": "execute_result"
    }
   ],
   "source": [
    "meu_grafo.matriz_adjacencia"
   ]
  },
  {
   "cell_type": "code",
   "execution_count": 91,
   "id": "f176248e",
   "metadata": {
    "ExecuteTime": {
     "end_time": "2021-09-18T00:07:38.207643Z",
     "start_time": "2021-09-18T00:07:38.193643Z"
    }
   },
   "outputs": [],
   "source": [
    "meu_grafo_inicio = Grafo()"
   ]
  },
  {
   "cell_type": "code",
   "execution_count": 92,
   "id": "5ba11aba",
   "metadata": {
    "ExecuteTime": {
     "end_time": "2021-09-18T00:07:38.363778Z",
     "start_time": "2021-09-18T00:07:38.341836Z"
    }
   },
   "outputs": [
    {
     "data": {
      "text/plain": [
       "{1: {}, 2: {}, 3: {}, 4: {}, 5: {}, 6: {}}"
      ]
     },
     "execution_count": 92,
     "metadata": {},
     "output_type": "execute_result"
    }
   ],
   "source": [
    "meu_grafo_inicio.adiciona_vertice(1)\n",
    "meu_grafo_inicio.adiciona_vertice(2)\n",
    "meu_grafo_inicio.adiciona_vertice(3)\n",
    "meu_grafo_inicio.adiciona_vertice(4)\n",
    "meu_grafo_inicio.adiciona_vertice(5)\n",
    "meu_grafo_inicio.adiciona_vertice(6)\n",
    "meu_grafo_inicio.matriz_adjacencia"
   ]
  },
  {
   "cell_type": "code",
   "execution_count": 93,
   "id": "ec55c6d6",
   "metadata": {
    "ExecuteTime": {
     "end_time": "2021-09-18T00:07:38.490647Z",
     "start_time": "2021-09-18T00:07:38.472331Z"
    }
   },
   "outputs": [
    {
     "data": {
      "text/plain": [
       "{1: {2: 1, 5: 1},\n",
       " 2: {1: 1, 3: 1, 5: 1},\n",
       " 3: {2: 1, 4: 1},\n",
       " 4: {3: 1, 5: 1, 6: 1},\n",
       " 5: {1: 1, 2: 1, 4: 1},\n",
       " 6: {4: 1}}"
      ]
     },
     "execution_count": 93,
     "metadata": {},
     "output_type": "execute_result"
    }
   ],
   "source": [
    "meu_grafo_inicio.conecta_vertices(1, 2)\n",
    "meu_grafo_inicio.conecta_vertices(1, 5)\n",
    "meu_grafo_inicio.conecta_vertices(2, 3)\n",
    "meu_grafo_inicio.conecta_vertices(2, 5)\n",
    "meu_grafo_inicio.conecta_vertices(3, 4)\n",
    "meu_grafo_inicio.conecta_vertices(4, 5)\n",
    "meu_grafo_inicio.conecta_vertices(4, 6, 1)\n",
    "meu_grafo_inicio.matriz_adjacencia"
   ]
  },
  {
   "cell_type": "code",
   "execution_count": null,
   "id": "6bb1180c",
   "metadata": {},
   "outputs": [],
   "source": [
    "{'chave': valor}\n",
    "\n",
    "a = {}\n",
    "a['minha_nova_chave'] = valor"
   ]
  }
 ],
 "metadata": {
  "kernelspec": {
   "display_name": "Python 3",
   "language": "python",
   "name": "python3"
  },
  "language_info": {
   "codemirror_mode": {
    "name": "ipython",
    "version": 3
   },
   "file_extension": ".py",
   "mimetype": "text/x-python",
   "name": "python",
   "nbconvert_exporter": "python",
   "pygments_lexer": "ipython3",
   "version": "3.8.3"
  }
 },
 "nbformat": 4,
 "nbformat_minor": 5
}
