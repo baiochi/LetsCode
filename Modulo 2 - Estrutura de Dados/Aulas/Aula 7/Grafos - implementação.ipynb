{
 "cells": [
  {
   "cell_type": "markdown",
   "id": "f1718f67",
   "metadata": {},
   "source": [
    "## Implementando grafos\n",
    "\n",
    "Vimos nos slides que os grafos podem ser representados, principalmente, por duas estruturas principais:\n",
    "\n",
    "- Lista de adjacências\n",
    "- Matriz de adjacências\n",
    "\n",
    "Mas como implementar esses conceitos no Python?\n",
    "\n",
    "Existem várias formas, como usando lista de listas, usando arrays, etc. Faria muito sentido usar listas ou arrays se já conhecessemos o tamanho do nosso grafo, ou seja, quantos nós ele irá ter. Mas, e para um grafo que vamos criar e ir adicionando nós, temos como saber o tamanho prévio dele? A resposta é não. Dessa forma, faz mais sentido usar uma estrutura que nos permita ir adicionando um novo elemento e que saibamos procurar ele de forma rápida, sem precisar fazer uma busca para encontrar a posição dele.\n",
    "\n",
    "Essa estrutura é o dicionário (lembrando, não é a única forma de implementar)!\n",
    "\n",
    "Se tivéssemos o grafo abaixo, como ficaria a representação da matriz e lista de adjacências dele?\n",
    "\n",
    "![](https://www.thecshandbook.com/public_html/img/uploads/graph.png)"
   ]
  },
  {
   "cell_type": "code",
   "execution_count": 4,
   "id": "ee57384a",
   "metadata": {
    "ExecuteTime": {
     "end_time": "2021-09-17T04:18:56.031892Z",
     "start_time": "2021-09-17T04:18:56.009858Z"
    }
   },
   "outputs": [
    {
     "data": {
      "text/plain": [
       "{'1': [2, 5],\n",
       " '2': [1, 3, 5],\n",
       " '3': [2, 4],\n",
       " '4': [3, 5, 6],\n",
       " '5': [1, 2, 4],\n",
       " '6': [4]}"
      ]
     },
     "execution_count": 4,
     "metadata": {},
     "output_type": "execute_result"
    }
   ],
   "source": [
    "lista_adjacencia = {\n",
    "    \"1\": [2, 5],\n",
    "    \"2\": [1, 3, 5],\n",
    "    \"3\": [2, 4],\n",
    "    \"4\": [3, 5, 6],\n",
    "    \"5\": [1, 2, 4],\n",
    "    \"6\": [4]\n",
    "}\n",
    "\n",
    "lista_adjacencia"
   ]
  },
  {
   "cell_type": "code",
   "execution_count": 5,
   "id": "edc2197a",
   "metadata": {
    "ExecuteTime": {
     "end_time": "2021-09-17T04:19:01.210138Z",
     "start_time": "2021-09-17T04:19:01.191496Z"
    }
   },
   "outputs": [
    {
     "data": {
      "text/plain": [
       "[2, 5]"
      ]
     },
     "execution_count": 5,
     "metadata": {},
     "output_type": "execute_result"
    }
   ],
   "source": [
    "lista_adjacencia[\"1\"]"
   ]
  },
  {
   "cell_type": "code",
   "execution_count": 7,
   "id": "e028d0c9",
   "metadata": {
    "ExecuteTime": {
     "end_time": "2021-09-17T04:21:40.706683Z",
     "start_time": "2021-09-17T04:21:40.687681Z"
    }
   },
   "outputs": [],
   "source": [
    "matriz_adjacencia = {\n",
    "    \"1\": {\n",
    "        \"2\": 1,\n",
    "        \"5\": 1   \n",
    "    },\n",
    "    \"2\": {\n",
    "        \"1\": 1,\n",
    "        \"3\": 1,\n",
    "        \"5\": 1   \n",
    "    },\n",
    "    \"3\": {\n",
    "        \"2\": 1,\n",
    "        \"4\": 1   \n",
    "    },\n",
    "    \"4\": {\n",
    "        \"3\": 1,\n",
    "        \"5\": 1,\n",
    "        \"6\": 1,   \n",
    "    },\n",
    "    \"5\": \n",
    "    {\n",
    "        \"1\": 1,\n",
    "        \"2\": 1,\n",
    "        \"4\": 1,   \n",
    "    },\n",
    "    \"6\": {\n",
    "        \"4\": 1   \n",
    "    },\n",
    "}"
   ]
  },
  {
   "cell_type": "code",
   "execution_count": 9,
   "id": "02225b62",
   "metadata": {
    "ExecuteTime": {
     "end_time": "2021-09-17T04:21:58.634498Z",
     "start_time": "2021-09-17T04:21:58.619506Z"
    }
   },
   "outputs": [
    {
     "data": {
      "text/plain": [
       "0"
      ]
     },
     "execution_count": 9,
     "metadata": {},
     "output_type": "execute_result"
    }
   ],
   "source": [
    "matriz_adjacencia[\"1\"].get(\"3\", 0)"
   ]
  },
  {
   "cell_type": "code",
   "execution_count": 20,
   "id": "9948d89c",
   "metadata": {
    "ExecuteTime": {
     "end_time": "2021-09-17T04:25:47.034468Z",
     "start_time": "2021-09-17T04:25:47.019431Z"
    }
   },
   "outputs": [
    {
     "name": "stdout",
     "output_type": "stream",
     "text": [
      "    1 2 3 4 5 6 \n",
      "   ------------\n",
      "1 | 0 1 0 0 1 0 \n",
      "2 | 1 0 1 0 1 0 \n",
      "3 | 0 1 0 1 0 0 \n",
      "4 | 0 0 1 0 1 1 \n",
      "5 | 1 1 0 1 0 0 \n",
      "6 | 0 0 0 1 0 0 \n"
     ]
    }
   ],
   "source": [
    "primeira_linha = '    '\n",
    "for i in matriz_adjacencia:\n",
    "    primeira_linha += i + ' '\n",
    "print(primeira_linha)\n",
    "print('   ------------')\n",
    "\n",
    "for i in matriz_adjacencia:\n",
    "    linha = i + ' | '\n",
    "    for j in matriz_adjacencia:\n",
    "        linha += str(matriz_adjacencia[i].get(j, 0)) + ' '\n",
    "    print(linha)"
   ]
  },
  {
   "cell_type": "markdown",
   "id": "8e9ed437",
   "metadata": {},
   "source": [
    "E se quisessemos fazer em numpy? O ideal é que a gente saiba o tamanho da matriz que iremos construir, mas também da para fazer!"
   ]
  },
  {
   "cell_type": "code",
   "execution_count": 24,
   "id": "46cbc776",
   "metadata": {
    "ExecuteTime": {
     "end_time": "2021-09-17T04:29:02.003348Z",
     "start_time": "2021-09-17T04:29:01.985308Z"
    }
   },
   "outputs": [],
   "source": [
    "import numpy as np"
   ]
  },
  {
   "cell_type": "code",
   "execution_count": 25,
   "id": "02e0fed2",
   "metadata": {
    "ExecuteTime": {
     "end_time": "2021-09-17T04:29:02.378406Z",
     "start_time": "2021-09-17T04:29:02.368410Z"
    }
   },
   "outputs": [
    {
     "data": {
      "text/plain": [
       "array([[0., 1., 0., 0., 1., 0.],\n",
       "       [1., 0., 1., 0., 1., 0.],\n",
       "       [0., 1., 0., 1., 0., 0.],\n",
       "       [0., 0., 1., 0., 1., 1.],\n",
       "       [1., 1., 0., 1., 0., 0.],\n",
       "       [0., 0., 0., 1., 0., 0.]])"
      ]
     },
     "execution_count": 25,
     "metadata": {},
     "output_type": "execute_result"
    }
   ],
   "source": [
    "matriz_adjacencia_np = np.zeros((6,6))\n",
    "matriz_adjacencia_np[0, [1, 4]] = 1\n",
    "matriz_adjacencia_np[1, [0, 2, 4]] = 1\n",
    "matriz_adjacencia_np[2, [1, 3]] = 1\n",
    "matriz_adjacencia_np[3, [2, 4, 5]] = 1\n",
    "matriz_adjacencia_np[4, [0, 1, 3]] = 1\n",
    "matriz_adjacencia_np[5, [3]] = 1\n",
    "\n",
    "matriz_adjacencia_np"
   ]
  },
  {
   "cell_type": "markdown",
   "id": "19cc0efe",
   "metadata": {},
   "source": [
    "### Implementação"
   ]
  },
  {
   "cell_type": "code",
   "execution_count": 43,
   "id": "b1d3a0a5",
   "metadata": {
    "ExecuteTime": {
     "end_time": "2021-09-17T04:36:50.607954Z",
     "start_time": "2021-09-17T04:36:50.592953Z"
    }
   },
   "outputs": [],
   "source": [
    "class Grafo():\n",
    "    def __init__(self):\n",
    "        # Iniciamos a nossa matriz de adjacencia, que nem vimos la em cima\n",
    "        self.adjacencia = {}\n",
    "    \n",
    "    def adiciona(self, vertice):\n",
    "        # Para adicionar um vertice, simplesmente criamos a chave dele dentro nosso dicionario de adjacencia\n",
    "        self.adjacencia[vertice] = {}\n",
    "    \n",
    "    def conecta(self, origem, destino, peso = 1):\n",
    "        # Acessamos nosso vertice e criamos uma chave para a conexao dele, atribuindo o valor como sendo o peso\n",
    "        self.adjacencia[origem][destino] = peso\n",
    "#         self.adjacencia[destino][origem] = peso\n",
    "    \n",
    "    def exibir_matriz(self):\n",
    "        \n",
    "        primeira_linha = '    '\n",
    "        for i in self.adjacencia:\n",
    "            primeira_linha += str(i) + ' '\n",
    "        print(primeira_linha)\n",
    "        print('   ' + ('-' * len(primeira_linha)))\n",
    "\n",
    "        for i in self.adjacencia:\n",
    "            linha = str(i) + ' | '\n",
    "            for j in self.adjacencia:\n",
    "                linha += str(self.adjacencia[i].get(j, 0)) + ' '\n",
    "            print(linha)"
   ]
  },
  {
   "cell_type": "code",
   "execution_count": 44,
   "id": "f8989654",
   "metadata": {
    "ExecuteTime": {
     "end_time": "2021-09-17T04:36:50.987126Z",
     "start_time": "2021-09-17T04:36:50.969147Z"
    }
   },
   "outputs": [],
   "source": [
    "g = Grafo()\n",
    "g.adiciona(1)\n",
    "g.adiciona(2)\n",
    "g.adiciona(3)\n",
    "g.adiciona(4)\n",
    "g.adiciona(5)\n",
    "g.adiciona(6)\n",
    "g.adiciona(7)\n",
    "g.adiciona(8)\n",
    "g.conecta(1, 2)\n",
    "g.conecta(1, 5)\n",
    "g.conecta(2, 6)\n",
    "g.conecta(6, 3)\n",
    "g.conecta(6, 7)\n",
    "g.conecta(3, 7)\n",
    "g.conecta(3, 4)\n",
    "g.conecta(7, 4)\n",
    "g.conecta(7, 8)\n",
    "g.conecta(4, 8)"
   ]
  },
  {
   "cell_type": "code",
   "execution_count": 45,
   "id": "7a66ce78",
   "metadata": {
    "ExecuteTime": {
     "end_time": "2021-09-17T04:36:51.340221Z",
     "start_time": "2021-09-17T04:36:51.331222Z"
    }
   },
   "outputs": [
    {
     "data": {
      "text/plain": [
       "{1: {2: 1, 5: 1},\n",
       " 2: {6: 1},\n",
       " 3: {7: 1, 4: 1},\n",
       " 4: {8: 1},\n",
       " 5: {},\n",
       " 6: {3: 1, 7: 1},\n",
       " 7: {4: 1, 8: 1},\n",
       " 8: {}}"
      ]
     },
     "execution_count": 45,
     "metadata": {},
     "output_type": "execute_result"
    }
   ],
   "source": [
    "g.adjacencia"
   ]
  },
  {
   "cell_type": "code",
   "execution_count": 46,
   "id": "0058dd28",
   "metadata": {
    "ExecuteTime": {
     "end_time": "2021-09-17T04:36:51.800063Z",
     "start_time": "2021-09-17T04:36:51.790062Z"
    }
   },
   "outputs": [
    {
     "name": "stdout",
     "output_type": "stream",
     "text": [
      "    1 2 3 4 5 6 7 8 \n",
      "   --------------------\n",
      "1 | 0 1 0 0 1 0 0 0 \n",
      "2 | 0 0 0 0 0 1 0 0 \n",
      "3 | 0 0 0 1 0 0 1 0 \n",
      "4 | 0 0 0 0 0 0 0 1 \n",
      "5 | 0 0 0 0 0 0 0 0 \n",
      "6 | 0 0 1 0 0 0 1 0 \n",
      "7 | 0 0 0 1 0 0 0 1 \n",
      "8 | 0 0 0 0 0 0 0 0 \n"
     ]
    }
   ],
   "source": [
    "g.exibir_matriz()"
   ]
  }
 ],
 "metadata": {
  "kernelspec": {
   "display_name": "Python 3",
   "language": "python",
   "name": "python3"
  },
  "language_info": {
   "codemirror_mode": {
    "name": "ipython",
    "version": 3
   },
   "file_extension": ".py",
   "mimetype": "text/x-python",
   "name": "python",
   "nbconvert_exporter": "python",
   "pygments_lexer": "ipython3",
   "version": "3.8.3"
  }
 },
 "nbformat": 4,
 "nbformat_minor": 5
}
