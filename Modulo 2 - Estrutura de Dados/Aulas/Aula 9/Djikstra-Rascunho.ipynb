{
 "cells": [
  {
   "cell_type": "markdown",
   "source": [
    "## Implementação do algoritmo de Djikstra"
   ],
   "metadata": {}
  },
  {
   "cell_type": "code",
   "execution_count": 30,
   "source": [
    "import math"
   ],
   "outputs": [],
   "metadata": {
    "ExecuteTime": {
     "end_time": "2021-09-22T23:15:42.088118Z",
     "start_time": "2021-09-22T23:15:42.081107Z"
    }
   }
  },
  {
   "cell_type": "markdown",
   "source": [
    "1. Atribuir 0 para distância do nó origem e infinito para a estimativa da distância dos outros vértices.\n",
    "2. Atribuir None ao predecessor de todos os vértices.\n",
    "3. Enquanto houver vértice não visitado:  \n",
    "    a. Pegar o vértice não visitado (chamaremos de vértice k)  com a menor estimativa de distância. Marcar ele como visitado.  \n",
    "    b. Para cada vértice adjacente ao vértice k que ainda não foi visitado, fazemos:  \n",
    "\n",
    "        - Somamos a distância do adjacente até k com a distância que já havia no vértice k -> (k, adjacente) + d(k)\n",
    "        - Se essa soma for menor que a estimativa anterior para o vértice adjacente, substituímos a distância e o predecessor. Caso contrário, não fazemos nada.\n"
   ],
   "metadata": {}
  },
  {
   "cell_type": "code",
   "execution_count": 31,
   "source": [
    "class Grafo():\r\n",
    "    def __init__(self):\r\n",
    "        # Iniciamos a nossa matriz de adjacencia, que nem vimos la em cima\r\n",
    "        self.adjacencia = {}\r\n",
    "    \r\n",
    "    def adiciona(self, vertice):\r\n",
    "        # Para adicionar um vertice, simplesmente criamos a chave dele dentro nosso dicionario de adjacencia\r\n",
    "        self.adjacencia[vertice] = {}\r\n",
    "    \r\n",
    "    def conecta(self, origem, destino, peso = 1):\r\n",
    "        # Acessamos nosso vertice e criamos uma chave para a conexao dele, atribuindo o valor como sendo o peso\r\n",
    "        self.adjacencia[origem][destino] = peso\r\n",
    "        self.adjacencia[destino][origem] = peso\r\n",
    "    \r\n",
    "    def djikstra(self, origem):\r\n",
    "        # step 1\r\n",
    "        distancias = {vertice: math.inf for vertice in self.adjacencia.keys()}\r\n",
    "        distancias[origem] = 0\r\n",
    "        \r\n",
    "        # step 2\r\n",
    "        predecessores = {vertice: None for vertice in self.adjacencia.keys()}\r\n",
    "        \r\n",
    "        # step para criar variaveis auxiliares\r\n",
    "        visitados = []\r\n",
    "        nao_visitados = distancias.copy() # Para remover valores ja visitados e poder ordenar corretamente\r\n",
    "        \r\n",
    "        # step 3\r\n",
    "        while len(nao_visitados.keys()) > 0:\r\n",
    "            k = sorted(nao_visitados.items(), key=lambda x: x[1])[0][0]\r\n",
    "            del nao_visitados[k]\r\n",
    "            visitados.append(k)\r\n",
    "            \r\n",
    "            for adjacente in self.adjacencia[k]:\r\n",
    "                if adjacente not in visitados:\r\n",
    "                    nova_distancia = distancias[k] + self.adjacencia[k][adjacente]\r\n",
    "                    if nova_distancia < distancias[adjacente]:\r\n",
    "                        distancias[adjacente] = nova_distancia\r\n",
    "                        nao_visitados[adjacente] = nova_distancia\r\n",
    "                        predecessores[adjacente] = k\r\n",
    "                        \r\n",
    "        return distancias, predecessores"
   ],
   "outputs": [],
   "metadata": {
    "ExecuteTime": {
     "end_time": "2021-09-22T23:35:39.739167Z",
     "start_time": "2021-09-22T23:35:39.717170Z"
    }
   }
  },
  {
   "cell_type": "code",
   "execution_count": 32,
   "source": [
    "a = {1: 'bbbb',\r\n",
    "     2: 'cccc'}"
   ],
   "outputs": [],
   "metadata": {
    "ExecuteTime": {
     "end_time": "2021-09-22T23:16:38.607690Z",
     "start_time": "2021-09-22T23:16:38.589690Z"
    }
   }
  },
  {
   "cell_type": "code",
   "execution_count": 33,
   "source": [
    "a = {1: 2,\r\n",
    "     2: 0,\r\n",
    "     9: 15,\r\n",
    "     6: 12}"
   ],
   "outputs": [],
   "metadata": {
    "ExecuteTime": {
     "end_time": "2021-09-22T23:23:59.105391Z",
     "start_time": "2021-09-22T23:23:59.093395Z"
    }
   }
  },
  {
   "cell_type": "code",
   "execution_count": 34,
   "source": [
    "a.items()"
   ],
   "outputs": [
    {
     "output_type": "execute_result",
     "data": {
      "text/plain": [
       "dict_items([(1, 2), (2, 0), (9, 15), (6, 12)])"
      ]
     },
     "metadata": {},
     "execution_count": 34
    }
   ],
   "metadata": {
    "ExecuteTime": {
     "end_time": "2021-09-22T23:24:16.686949Z",
     "start_time": "2021-09-22T23:24:16.678948Z"
    }
   }
  },
  {
   "cell_type": "code",
   "execution_count": 35,
   "source": [
    "\"\"\"def sorted(lista):\r\n",
    "    for elemento in lista:\r\n",
    "        se o elemento eh uma tupla ou lista:\r\n",
    "            elemento[0]\"\"\""
   ],
   "outputs": [
    {
     "output_type": "execute_result",
     "data": {
      "text/plain": [
       "'def sorted(lista):\\n    for elemento in lista:\\n        se o elemento eh uma tupla ou lista:\\n            elemento[0]'"
      ]
     },
     "metadata": {},
     "execution_count": 35
    }
   ],
   "metadata": {}
  },
  {
   "cell_type": "code",
   "execution_count": 36,
   "source": [
    "sorted(a.items(), key=lambda x: x[1])[0][0]"
   ],
   "outputs": [
    {
     "output_type": "execute_result",
     "data": {
      "text/plain": [
       "2"
      ]
     },
     "metadata": {},
     "execution_count": 36
    }
   ],
   "metadata": {
    "ExecuteTime": {
     "end_time": "2021-09-22T23:29:25.018408Z",
     "start_time": "2021-09-22T23:29:24.994382Z"
    }
   }
  },
  {
   "cell_type": "code",
   "execution_count": 37,
   "source": [
    "{2: 0,\r\n",
    " 1: 2,\r\n",
    " 6: 12,\r\n",
    " 9: 15}"
   ],
   "outputs": [
    {
     "output_type": "execute_result",
     "data": {
      "text/plain": [
       "{2: 0, 1: 2, 6: 12, 9: 15}"
      ]
     },
     "metadata": {},
     "execution_count": 37
    }
   ],
   "metadata": {}
  },
  {
   "cell_type": "code",
   "execution_count": 38,
   "source": [
    "{vertice: 99 for vertice in a.keys()}"
   ],
   "outputs": [
    {
     "output_type": "execute_result",
     "data": {
      "text/plain": [
       "{1: 99, 2: 99, 9: 99, 6: 99}"
      ]
     },
     "metadata": {},
     "execution_count": 38
    }
   ],
   "metadata": {
    "ExecuteTime": {
     "end_time": "2021-09-22T23:17:23.187851Z",
     "start_time": "2021-09-22T23:17:23.168851Z"
    }
   }
  },
  {
   "cell_type": "code",
   "execution_count": 39,
   "source": [
    "#{vertice: math.inf for vertice in self.adjacencia.keys()}"
   ],
   "outputs": [],
   "metadata": {}
  },
  {
   "cell_type": "code",
   "execution_count": 40,
   "source": [
    "g = Grafo()\r\n",
    "g.adiciona(1)\r\n",
    "g.adiciona(2)\r\n",
    "g.adiciona(3)\r\n",
    "g.adiciona(4)\r\n",
    "g.adiciona(5)\r\n",
    "g.adiciona(6)\r\n",
    "g.adiciona(7)\r\n",
    "g.adiciona(8)\r\n",
    "g.conecta(1, 2, 4)\r\n",
    "g.conecta(1, 5, 5)\r\n",
    "g.conecta(2, 6, 2)\r\n",
    "g.conecta(6, 3, 5)\r\n",
    "g.conecta(6, 7, 3)\r\n",
    "g.conecta(3, 7, 1)\r\n",
    "g.conecta(3, 4, 6)\r\n",
    "g.conecta(7, 4, 5)\r\n",
    "g.conecta(7, 8, 2)\r\n",
    "g.conecta(4, 8, 7)"
   ],
   "outputs": [],
   "metadata": {
    "ExecuteTime": {
     "end_time": "2021-09-22T23:35:43.304545Z",
     "start_time": "2021-09-22T23:35:43.289570Z"
    }
   }
  },
  {
   "cell_type": "code",
   "execution_count": 41,
   "source": [
    "g.adjacencia"
   ],
   "outputs": [
    {
     "output_type": "execute_result",
     "data": {
      "text/plain": [
       "{1: {2: 4, 5: 5},\n",
       " 2: {1: 4, 6: 2},\n",
       " 3: {6: 5, 7: 1, 4: 6},\n",
       " 4: {3: 6, 7: 5, 8: 7},\n",
       " 5: {1: 5},\n",
       " 6: {2: 2, 3: 5, 7: 3},\n",
       " 7: {6: 3, 3: 1, 4: 5, 8: 2},\n",
       " 8: {7: 2, 4: 7}}"
      ]
     },
     "metadata": {},
     "execution_count": 41
    }
   ],
   "metadata": {
    "ExecuteTime": {
     "end_time": "2021-09-22T23:35:44.390612Z",
     "start_time": "2021-09-22T23:35:44.372578Z"
    }
   }
  },
  {
   "cell_type": "code",
   "execution_count": 46,
   "source": [
    "distancia, predecessores = g.djikstra(3)"
   ],
   "outputs": [],
   "metadata": {
    "ExecuteTime": {
     "end_time": "2021-09-22T23:38:13.669060Z",
     "start_time": "2021-09-22T23:38:13.659061Z"
    }
   }
  },
  {
   "cell_type": "code",
   "execution_count": 47,
   "source": [
    "predecessores"
   ],
   "outputs": [
    {
     "output_type": "execute_result",
     "data": {
      "text/plain": [
       "{1: 2, 2: 6, 3: None, 4: 3, 5: 1, 6: 7, 7: 3, 8: 7}"
      ]
     },
     "metadata": {},
     "execution_count": 47
    }
   ],
   "metadata": {
    "ExecuteTime": {
     "end_time": "2021-09-22T23:38:40.194272Z",
     "start_time": "2021-09-22T23:38:40.185235Z"
    }
   }
  },
  {
   "cell_type": "code",
   "execution_count": 49,
   "source": [
    "destino = 5\r\n",
    "\r\n",
    "caminho_invertido = [str(destino)]\r\n",
    "anterior = predecessores[destino]\r\n",
    "while anterior is not None:\r\n",
    "    caminho_invertido.append(str(anterior))\r\n",
    "    anterior = predecessores[anterior]\r\n",
    "\r\n",
    "' -> '.join(reversed(caminho_invertido))"
   ],
   "outputs": [
    {
     "output_type": "execute_result",
     "data": {
      "text/plain": [
       "'3 -> 7 -> 6 -> 2 -> 1 -> 5'"
      ]
     },
     "metadata": {},
     "execution_count": 49
    }
   ],
   "metadata": {
    "ExecuteTime": {
     "end_time": "2021-09-22T23:38:31.512242Z",
     "start_time": "2021-09-22T23:38:31.504233Z"
    }
   }
  }
 ],
 "metadata": {
  "kernelspec": {
   "name": "python3",
   "display_name": "Python 3.8.8 64-bit (conda)"
  },
  "language_info": {
   "codemirror_mode": {
    "name": "ipython",
    "version": 3
   },
   "file_extension": ".py",
   "mimetype": "text/x-python",
   "name": "python",
   "nbconvert_exporter": "python",
   "pygments_lexer": "ipython3",
   "version": "3.8.8"
  },
  "interpreter": {
   "hash": "b3ba2566441a7c06988d0923437866b63cedc61552a5af99d1f4fb67d367b25f"
  }
 },
 "nbformat": 4,
 "nbformat_minor": 5
}