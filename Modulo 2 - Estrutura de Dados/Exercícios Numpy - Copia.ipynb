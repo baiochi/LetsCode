{
 "cells": [
  {
   "cell_type": "code",
   "execution_count": 1,
   "id": "38e23ea9",
   "metadata": {
    "ExecuteTime": {
     "end_time": "2021-09-03T13:21:01.596099Z",
     "start_time": "2021-09-03T13:21:01.315240Z"
    }
   },
   "outputs": [],
   "source": [
    "import numpy as np"
   ]
  },
  {
   "cell_type": "markdown",
   "id": "7775640f",
   "metadata": {},
   "source": [
    "## Questão 1 - Crie um numpy array com 10 elementos 0, exceto o elemento de índice 6, que deve ser 20"
   ]
  },
  {
   "cell_type": "code",
   "execution_count": 6,
   "id": "6882a9bb",
   "metadata": {},
   "outputs": [
    {
     "data": {
      "text/plain": [
       "array([0, 0, 0, 0, 0, 0, 6, 0, 0, 0])"
      ]
     },
     "execution_count": 6,
     "metadata": {},
     "output_type": "execute_result"
    }
   ],
   "source": [
    "array = np.array([0]*5+[6]+[0]*3)\n",
    "\n",
    "array"
   ]
  },
  {
   "cell_type": "markdown",
   "id": "a104a324",
   "metadata": {},
   "source": [
    "## Questão 2 - Crie uma função que receba um numpy array e retorne um array de 20 elementos contendo apenas o maior elemento do array recebido"
   ]
  },
  {
   "cell_type": "code",
   "execution_count": 23,
   "id": "264153f0",
   "metadata": {},
   "outputs": [
    {
     "name": "stdout",
     "output_type": "stream",
     "text": [
      "[5 5 5 5 5 5 5 5 5 5 5 5 5 5 5 5 5 5 5 5]\n"
     ]
    }
   ],
   "source": [
    "def maxValue(array):\n",
    "    maximum = max(array)\n",
    "    auxList = []\n",
    "    for index in range(20):\n",
    "        auxList.append(maximum)\n",
    "    return np.array(auxList)\n",
    "\n",
    "array = np.array([0,1,2,3,4,5])\n",
    "\n",
    "print(maxValue(array))\n"
   ]
  },
  {
   "cell_type": "markdown",
   "id": "a97eb2e1",
   "metadata": {},
   "source": [
    "## Questão 3 - Faça uma função que receba um array, eleve ele ao quadrado, some 3, pegue apenas o elementos que são diferentes de 4 e, por último, divida por 4. Depois, retorne esse array modificado"
   ]
  },
  {
   "cell_type": "code",
   "execution_count": 48,
   "id": "153b6391",
   "metadata": {},
   "outputs": [
    {
     "name": "stdout",
     "output_type": "stream",
     "text": [
      "[25 16  4  9 16 25]\n",
      "[28 19  7 12 19 28]\n",
      "[7.   4.75 1.75 3.   4.75 7.  ]\n",
      "(6,)\n",
      "[784 361  49 144 361 784]\n",
      "[787 364  52 147 364 787]\n",
      "[196.75  91.    13.    36.75  91.   196.75]\n",
      "[196.75  91.    13.    36.75  91.   196.75]\n"
     ]
    }
   ],
   "source": [
    "def messyArray(array):\n",
    "    array **= 2\n",
    "    print(array)\n",
    "    array += 3\n",
    "    print(array)\n",
    "    array = array[array!=4]\n",
    "    array = array/4\n",
    "    print(array)\n",
    "    #array /= 4\n",
    "    \n",
    "    return array\n",
    "\n",
    "array = np.array([5,4,2,3,4,5])\n",
    "\n",
    "print(messyArray(array).shape)\n",
    "print(messyArray(array))\n",
    "    "
   ]
  },
  {
   "cell_type": "markdown",
   "id": "2a7ce405",
   "metadata": {},
   "source": [
    "## Questão 4 - Faça uma função que receba dois array, junte os dois e retorne"
   ]
  },
  {
   "cell_type": "code",
   "execution_count": 42,
   "id": "eb4e9b30",
   "metadata": {},
   "outputs": [
    {
     "name": "stdout",
     "output_type": "stream",
     "text": [
      "[2, 3, 1, 2, 0, 1, 4, 0]\n"
     ]
    }
   ],
   "source": [
    "def joinArrays(array1, array2):\n",
    "    return array1 + array2\n",
    "\n",
    "array1 = [2,3,1,2]\n",
    "array2 = [0,1,4,0]\n",
    "\n",
    "print(joinArrays(array1,array2))\n",
    "    "
   ]
  },
  {
   "cell_type": "markdown",
   "id": "343b73e6",
   "metadata": {},
   "source": [
    "## Questão 5 - Faça uma função que descreva meu array exibindo os seguintes dados com até 3 casas decimais: máx, min, média, desvio padrão (standard deviation). A exibição deve ser da seguinte forma:\n",
    "\n",
    "```\n",
    "******************************\n",
    "Array: array([0, 5, 6, 8, 9])\n",
    "\n",
    "Max: 9\n",
    "Min: 0\n",
    "Media: 5.6\n",
    "Desvio padrao: 3.137\n",
    "******************************\n",
    "```"
   ]
  },
  {
   "cell_type": "code",
   "execution_count": null,
   "id": "7a8064f8",
   "metadata": {},
   "outputs": [],
   "source": [
    "def describeArray(array):\n",
    "    print('******************************')\n",
    "    print(f'Array: {array}\\n')\n",
    "    print(f'Max: {max(array)}')\n",
    "    print(f'Min: {min(array)}')\n",
    "    print(f'Media: {mean(array)}')\n",
    "    print(f'Descio padrao: {std}')\n",
    "    print('******************************')"
   ]
  }
 ],
 "metadata": {
  "kernelspec": {
   "display_name": "Python 3",
   "language": "python",
   "name": "python3"
  },
  "language_info": {
   "codemirror_mode": {
    "name": "ipython",
    "version": 3
   },
   "file_extension": ".py",
   "mimetype": "text/x-python",
   "name": "python",
   "nbconvert_exporter": "python",
   "pygments_lexer": "ipython3",
   "version": "3.8.8"
  }
 },
 "nbformat": 4,
 "nbformat_minor": 5
}
