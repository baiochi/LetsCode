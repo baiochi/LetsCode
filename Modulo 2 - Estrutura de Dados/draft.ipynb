{
 "cells": [
  {
   "cell_type": "code",
   "execution_count": null,
   "source": [
    "import random\r\n",
    "import numpy as np\r\n",
    "from numpy import asarray\r\n",
    "from matplotlib import image\r\n",
    "from matplotlib import pyplot\r\n",
    "from matplotlib.pyplot import imshow\r\n",
    "from PIL import Image"
   ],
   "outputs": [],
   "metadata": {}
  },
  {
   "cell_type": "code",
   "execution_count": null,
   "source": [
    "array = random.sample(range(10),10)\r\n",
    "array"
   ],
   "outputs": [],
   "metadata": {}
  },
  {
   "cell_type": "code",
   "execution_count": null,
   "source": [
    "def bubbleSort(array):\r\n",
    "\r\n",
    "    for i in range(len(array)-1):\r\n",
    "        for j in range(len(array)-1-i):\r\n",
    "            if array[j] > array[j+1]:\r\n",
    "                array[j], array[j+1] = array[j+1], array[j]\r\n",
    "\r\n",
    "\r\n",
    "    return array\r\n",
    "\r\n",
    "print(bubbleSort(array))"
   ],
   "outputs": [],
   "metadata": {}
  },
  {
   "cell_type": "code",
   "execution_count": null,
   "source": [
    "matrix = np.array([[[1,1,1],[2,2,2],[3,3,3]],[[1,1,1],[2,2,2],[3,3,3]],[[1,1,1],[2,2,2],[3,3,3]],[[1,1,1],[2,2,2],[3,3,3]]])\r\n",
    "\r\n",
    "matrix.shape\r\n",
    "matrix.ndim\r\n",
    "\r\n",
    "# using random numbers\r\n",
    "\r\n",
    "np.random.rand(10)\r\n",
    "np.random.rand(2,2,2,3)\r\n",
    "\r\n",
    "np.random.randint(low=0, high=10, size=(3,4))\r\n",
    "\r\n",
    "a = np.array([[1,2,3],[4,5,6],[7,8,9]])\r\n",
    "\r\n",
    "print(a)\r\n",
    "# index types\r\n",
    "print(a[1][2])\r\n",
    "print(a[1,2])\r\n",
    "print(a[1:,1:])\r\n",
    "print(a[1:,[0,2]])\r\n",
    "print(a[[0,2],[0,2]])\r\n",
    "print(a[[0,0,2,2],[0,2,0,2]])\r\n",
    "print(a[::2,::2])"
   ],
   "outputs": [],
   "metadata": {}
  },
  {
   "cell_type": "code",
   "execution_count": null,
   "source": [
    "# working with images\r\n",
    "\r\n",
    "image = Image.open('doge.png')\r\n",
    "print('Image format:', image.format)\r\n",
    "print('Image size:', image.size)\r\n",
    "print('Image mode:', image.mode)\r\n",
    "\r\n",
    "# convert to array\r\n",
    "imageData = asarray(image)\r\n",
    "print('Image type:', type(imageData))\r\n",
    "print('Image shape:', imageData.shape)\r\n",
    "\r\n",
    "# show the image\r\n",
    "imshow(imageData)\r\n",
    "\r\n",
    "# create copy of the data\r\n",
    "imageArray = imageData.copy()"
   ],
   "outputs": [],
   "metadata": {}
  },
  {
   "cell_type": "code",
   "execution_count": null,
   "source": [
    "imageArray[10,10] = [0,0,0,0]\r\n",
    "\r\n",
    "imshow(imageArray)\r\n"
   ],
   "outputs": [],
   "metadata": {}
  },
  {
   "cell_type": "code",
   "execution_count": null,
   "source": [
    "class Graph():\r\n",
    "    def __init__(self) -> None:\r\n",
    "        self.adjMatrix = {}\r\n",
    "\r\n",
    "    def addVertex(self, number):\r\n",
    "        self.adjMatrix[number] = {}\r\n",
    "\r\n",
    "    def connectVertex(self, origin, destiny, weight=1):\r\n",
    "        self.adjMatrix[origin][destiny] = weight\r\n",
    "        self.adjMatrix[destiny][origin] = weight"
   ],
   "outputs": [],
   "metadata": {}
  },
  {
   "cell_type": "code",
   "execution_count": null,
   "source": [
    "myGraph = Graph()\r\n",
    "myGraph.addVertex(1)\r\n",
    "myGraph.addVertex(2)\r\n",
    "myGraph.connectVertex(1,2)"
   ],
   "outputs": [],
   "metadata": {}
  }
 ],
 "metadata": {
  "orig_nbformat": 4,
  "language_info": {
   "name": "python",
   "version": "3.8.8",
   "mimetype": "text/x-python",
   "codemirror_mode": {
    "name": "ipython",
    "version": 3
   },
   "pygments_lexer": "ipython3",
   "nbconvert_exporter": "python",
   "file_extension": ".py"
  },
  "kernelspec": {
   "name": "python3",
   "display_name": "Python 3.8.8 64-bit (conda)"
  },
  "interpreter": {
   "hash": "b3ba2566441a7c06988d0923437866b63cedc61552a5af99d1f4fb67d367b25f"
  }
 },
 "nbformat": 4,
 "nbformat_minor": 2
}