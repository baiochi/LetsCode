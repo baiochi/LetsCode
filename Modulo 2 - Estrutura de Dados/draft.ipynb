{
 "cells": [
  {
   "cell_type": "code",
   "execution_count": 17,
   "source": [
    "import random\r\n",
    "\r\n",
    "array = random.sample(range(10),10)\r\n",
    "array"
   ],
   "outputs": [
    {
     "output_type": "execute_result",
     "data": {
      "text/plain": [
       "[0, 9, 5, 2, 4, 3, 1, 6, 7, 8]"
      ]
     },
     "metadata": {},
     "execution_count": 17
    }
   ],
   "metadata": {}
  },
  {
   "cell_type": "code",
   "execution_count": 18,
   "source": [
    "def bubbleSort(array):\r\n",
    "\r\n",
    "    for i in range(len(array)-1):\r\n",
    "        for j in range(len(array)-1-i):\r\n",
    "            if array[j] > array[j+1]:\r\n",
    "                array[j], array[j+1] = array[j+1], array[j]\r\n",
    "\r\n",
    "\r\n",
    "    return array\r\n",
    "\r\n",
    "print(bubbleSort(array))"
   ],
   "outputs": [
    {
     "output_type": "stream",
     "name": "stdout",
     "text": [
      "[0, 1, 2, 3, 4, 5, 6, 7, 8, 9]\n"
     ]
    }
   ],
   "metadata": {}
  },
  {
   "cell_type": "code",
   "execution_count": null,
   "source": [
    "def mergeSort(array):\r\n",
    "\r\n",
    "    pass\r\n",
    "\r\n",
    "print(mergeSort(array))"
   ],
   "outputs": [],
   "metadata": {}
  }
 ],
 "metadata": {
  "orig_nbformat": 4,
  "language_info": {
   "name": "python",
   "version": "3.8.5",
   "mimetype": "text/x-python",
   "codemirror_mode": {
    "name": "ipython",
    "version": 3
   },
   "pygments_lexer": "ipython3",
   "nbconvert_exporter": "python",
   "file_extension": ".py"
  },
  "kernelspec": {
   "name": "python3",
   "display_name": "Python 3.8.5 64-bit"
  },
  "interpreter": {
   "hash": "4de70d5f3982bb6ccd42f8e6a9f5264a92facec92e3e1c91ea469022aec5f6b7"
  }
 },
 "nbformat": 4,
 "nbformat_minor": 2
}