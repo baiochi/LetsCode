{
 "cells": [
  {
   "cell_type": "markdown",
   "metadata": {},
   "source": [
    "# Machine Learning Exercise - "
   ]
  },
  {
   "cell_type": "markdown",
   "metadata": {},
   "source": [
    "# <span style='font-size:0.5em'>Table of Contents</span>\n",
    " \n",
    "1. [Introduction](#intro)  \n",
    "2. [Libraries and Setup](#imports)  \n",
    "3. [Exploratory Data Analysis](#eda)  \n",
    "    - [Reading the Dataset](#loading)\n",
    "    - [Features Data types](#features_dtypes)\n",
    "    - [Checking Null Values](#null_data)\n",
    "    - [Numerical Features Distribuition](#num_features)\n",
    "    - [Categorical Features Distribuition](#cat_features)\n",
    "    - [Mixed Features](#mix_features)\n",
    "    - [Target Distribuition](#target_dist)\n",
    "    - [Data Correlation](#data_corr)\n",
    "4. [Data wrangling](#data_wrangling)\n",
    "5. [Modeling](#modeling)"
   ]
  },
  {
   "cell_type": "markdown",
   "metadata": {},
   "source": [
    "# <span id='intro' style='font-size:0.8em;color:#fdbf11'>1. Introduction</span>"
   ]
  },
  {
   "cell_type": "markdown",
   "metadata": {},
   "source": [
    "The following questions must be answered through the data analysis:\n",
    "\n",
    "1) What issue needs to be solved?    \n",
    "2) What is the target?  \n",
    "3) It's a problem of classificaton or regression? \n",
    "4) Create a model which produces the best evaluation metric. Discuss wich metrics makes more sense in the dataset context.  "
   ]
  },
  {
   "cell_type": "markdown",
   "metadata": {},
   "source": [
    "### Dataset: <span style='color:#408941'> ?"
   ]
  },
  {
   "cell_type": "markdown",
   "metadata": {},
   "source": [
    "Source: ?"
   ]
  },
  {
   "cell_type": "code",
   "execution_count": 10,
   "metadata": {},
   "outputs": [],
   "source": [
    "# download with Kaggle API\n",
    "# !kaggle competitions download -c ?"
   ]
  },
  {
   "cell_type": "markdown",
   "metadata": {},
   "source": [
    "### <span style='color:#1696d2'>Data Dictionary  "
   ]
  },
  {
   "cell_type": "markdown",
   "metadata": {},
   "source": [
    "Generate table: https://www.tablesgenerator.com/markdown_tables"
   ]
  },
  {
   "cell_type": "markdown",
   "metadata": {},
   "source": [
    "### <span style='color:#1696d2'>Variable Notes"
   ]
  },
  {
   "cell_type": "markdown",
   "metadata": {},
   "source": []
  },
  {
   "cell_type": "markdown",
   "metadata": {},
   "source": [
    "# <span id='imports' style='font-size:0.8em;color:#fdbf11'>2. Libraries and Setup</span>"
   ]
  },
  {
   "cell_type": "code",
   "execution_count": 6,
   "metadata": {},
   "outputs": [
    {
     "name": "stdout",
     "output_type": "stream",
     "text": [
      "Libraries versions:\n",
      "Numpy: 1.20.3\n",
      "Pandas: 1.3.4\n",
      "Seaborn: 0.11.2\n",
      "Matplotlib: 3.4.3\n"
     ]
    }
   ],
   "source": [
    "# Data handling and visualization\n",
    "import numpy as np\n",
    "import pandas as pd\n",
    "import matplotlib\n",
    "import matplotlib.pyplot as plt\n",
    "import seaborn as sns\n",
    "\n",
    "# graphic visualization setup\n",
    "sns.set()\n",
    "matplotlib.rcParams['font.family'] = 'sans-serif'\n",
    "matplotlib.rcParams['font.sans-serif'] = ['Lato']\n",
    "%matplotlib inline\n",
    "\n",
    "# color pallete for graphics\n",
    "colors ={\n",
    "    'cyan': '#1696d2',\n",
    "    'gray': '#5c5859',\n",
    "    'black': '#000000',\n",
    "    'yellow': '#fdbf11',\n",
    "    'orange': '#ca5800',\n",
    "    'magenta': '#af1f6b',\n",
    "    'green': '#408941',\n",
    "    'red': '#a4201d'\n",
    "}\n",
    "\n",
    "# terminal colors\n",
    "WHITE = '\\033[39m'\n",
    "CYAN = '\\033[36m'\n",
    "GREEN = '\\033[32m'\n",
    "RED = '\\033[31m'\n",
    "\n",
    "# libraries version\n",
    "print('Libraries versions:')\n",
    "print(f'Numpy: {np.__version__}')\n",
    "print(f'Pandas: {pd.__version__}')\n",
    "print(f'Seaborn: {sns.__version__}')\n",
    "print(f'Matplotlib: {matplotlib.__version__}')"
   ]
  },
  {
   "cell_type": "markdown",
   "metadata": {},
   "source": [
    "# <span id='eda' style='font-size:0.8em;color:#fdbf11'>3. Exploratory Data Analysis</span>"
   ]
  },
  {
   "cell_type": "markdown",
   "metadata": {},
   "source": [
    "## <span id='loading' style='font-size:0.8em;color:#1696d2'>Reading the Dataset</span>"
   ]
  },
  {
   "cell_type": "code",
   "execution_count": null,
   "metadata": {},
   "outputs": [],
   "source": [
    "file_path = ''\n",
    "\n",
    "df = pd.read_csv(file_path)\n",
    "\n",
    "df.head()"
   ]
  },
  {
   "cell_type": "markdown",
   "metadata": {},
   "source": [
    "## <span id='features_dtypes' style='font-size:0.8em;color:#1696d2'>Features Data types</span>"
   ]
  },
  {
   "cell_type": "code",
   "execution_count": null,
   "metadata": {},
   "outputs": [],
   "source": [
    "df.info()"
   ]
  },
  {
   "cell_type": "markdown",
   "metadata": {},
   "source": [
    "## <span id='null_data' style='font-size:0.8em;color:#1696d2'>Checking Null Values</span>"
   ]
  },
  {
   "cell_type": "code",
   "execution_count": null,
   "metadata": {},
   "outputs": [],
   "source": [
    "df.isnull().sum()"
   ]
  },
  {
   "cell_type": "markdown",
   "metadata": {},
   "source": [
    "**Observations**\n",
    "- foo\n",
    "\n",
    "**Decisions**\n",
    "- bar"
   ]
  },
  {
   "cell_type": "markdown",
   "metadata": {},
   "source": [
    "## <span id='num_features' style='font-size:0.8em;color:#1696d2'>Numerical Features Distribuition</span>"
   ]
  },
  {
   "cell_type": "markdown",
   "metadata": {},
   "source": [
    "*Discrete*:   \n",
    "*Continous*: "
   ]
  },
  {
   "cell_type": "code",
   "execution_count": null,
   "metadata": {},
   "outputs": [],
   "source": []
  },
  {
   "cell_type": "markdown",
   "metadata": {},
   "source": [
    "**Observations**\n",
    "- foo\n",
    "\n",
    "**Decisions**\n",
    "- bar"
   ]
  },
  {
   "cell_type": "markdown",
   "metadata": {},
   "source": [
    "## <span id='cat_features' style='font-size:0.8em;color:#1696d2'>Categorical Features Distribuition</span>"
   ]
  },
  {
   "cell_type": "markdown",
   "metadata": {},
   "source": [
    "*Categorical*:   \n",
    "*Ordinal*: "
   ]
  },
  {
   "cell_type": "code",
   "execution_count": null,
   "metadata": {},
   "outputs": [],
   "source": []
  },
  {
   "cell_type": "markdown",
   "metadata": {},
   "source": [
    "**Observations**\n",
    "- foo\n",
    "\n",
    "**Decisions**\n",
    "- bar"
   ]
  },
  {
   "cell_type": "markdown",
   "metadata": {},
   "source": [
    "## <span id='mix_features' style='font-size:0.8em;color:#1696d2'>Mixed Features</span>"
   ]
  },
  {
   "cell_type": "markdown",
   "metadata": {},
   "source": [
    "Features with mixed data types, numerical an alphanumerical. These will be corrected later."
   ]
  },
  {
   "cell_type": "code",
   "execution_count": null,
   "metadata": {},
   "outputs": [],
   "source": []
  },
  {
   "cell_type": "markdown",
   "metadata": {},
   "source": [
    "## <span id='target_dist' style='font-size:0.8em;color:#1696d2'>Target Distribuition</span>"
   ]
  },
  {
   "cell_type": "markdown",
   "metadata": {},
   "source": []
  },
  {
   "cell_type": "code",
   "execution_count": null,
   "metadata": {},
   "outputs": [],
   "source": []
  },
  {
   "cell_type": "markdown",
   "metadata": {},
   "source": [
    "## <span id='data_corr' style='font-size:0.8em;color:#1696d2'>Data Correlation</span>"
   ]
  },
  {
   "cell_type": "code",
   "execution_count": null,
   "metadata": {},
   "outputs": [],
   "source": []
  },
  {
   "cell_type": "markdown",
   "metadata": {},
   "source": [
    "# <span id='data_wrangling' style='font-size:0.8em;color:#fdbf11'>4. Data wrangling</span>"
   ]
  },
  {
   "cell_type": "code",
   "execution_count": null,
   "metadata": {},
   "outputs": [],
   "source": []
  },
  {
   "cell_type": "markdown",
   "metadata": {},
   "source": [
    "# <span id='modeling' style='font-size:0.8em;color:#fdbf11'>5. Modeling</span>"
   ]
  },
  {
   "cell_type": "code",
   "execution_count": null,
   "metadata": {},
   "outputs": [],
   "source": []
  }
 ],
 "metadata": {
  "interpreter": {
   "hash": "4cc37c5bde6f2c4a9abbb0f88e1ba241d8320ce9d430498035b829e5a00e7fb9"
  },
  "kernelspec": {
   "display_name": "Python 3.9.7 64-bit ('base': conda)",
   "language": "python",
   "name": "python3"
  },
  "language_info": {
   "codemirror_mode": {
    "name": "ipython",
    "version": 3
   },
   "file_extension": ".py",
   "mimetype": "text/x-python",
   "name": "python",
   "nbconvert_exporter": "python",
   "pygments_lexer": "ipython3",
   "version": "3.9.7"
  },
  "orig_nbformat": 4
 },
 "nbformat": 4,
 "nbformat_minor": 2
}
