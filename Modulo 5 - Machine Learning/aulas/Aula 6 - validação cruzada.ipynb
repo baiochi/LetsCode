{
 "cells": [
  {
   "cell_type": "markdown",
   "metadata": {},
   "source": [
    "# Aula 6 - validação cruzada"
   ]
  },
  {
   "cell_type": "markdown",
   "metadata": {},
   "source": [
    "Na aula de hoje, vamos explorar os seguintes tópicos em Python:\n",
    "\n",
    "1. [Cross validation](#pt1)\n",
    "2. [Ajuste de hiperparâmetros](#pt2)"
   ]
  },
  {
   "cell_type": "code",
   "execution_count": 1,
   "metadata": {
    "ExecuteTime": {
     "end_time": "2022-01-28T03:00:48.141571Z",
     "start_time": "2022-01-28T03:00:45.478725Z"
    }
   },
   "outputs": [],
   "source": [
    "import pandas as pd\n",
    "import numpy as np\n",
    "import matplotlib.pyplot as plt\n",
    "import seaborn as sns; sns.set()\n",
    "WHITE = '\\033[39m'\n",
    "CYAN = '\\033[36m'"
   ]
  },
  {
   "cell_type": "markdown",
   "metadata": {},
   "source": [
    "____"
   ]
  },
  {
   "cell_type": "markdown",
   "metadata": {},
   "source": [
    "# <span id='pt1' style='font-size:0.8em;color:#1696d2'>1) Cross Validation"
   ]
  },
  {
   "cell_type": "markdown",
   "metadata": {},
   "source": [
    "\n",
    "\n",
    "O cross validation (CV) é uma das técnicas mais importantes no ferramental de um cientista de dados.\n",
    "\n",
    "Operacionalmente, o CV implementa diferentes conjuntos de treino e teste (aqui chamados de **validação**), criando efetivamente diferentes modelos treinados e avaliados em diferentes suconjuntos aleatórios (os chamados **folds**) da base de dados original. \n",
    "\n",
    "No fim, é possível inspecionar as métricas de interesse em cada fold, bem como ter uma ideia da performance média do modelo, olhando para **a distribuição das métricas de avaliação**.\n",
    "\n",
    "Note que este procedimento está intimamente relacionado com a avaliação da desejável habilidade de **generalização do modelo**!"
   ]
  },
  {
   "cell_type": "markdown",
   "metadata": {},
   "source": [
    "A forma mais comum de fazermos CV é através da técnica **k-fold**:\n",
    "\n",
    "<img src=https://scikit-learn.org/stable/_images/grid_search_cross_validation.png width=500>"
   ]
  },
  {
   "cell_type": "markdown",
   "metadata": {},
   "source": [
    "No extremo desta abordagem, podemos tomar o número $k$ de folds igual ao número de observações na base ($n$). Neste caso, utiliza-se **uma única** observação para teste, enquanto o resto do dataset é utilizado para treino. Essa abordagem é conhecida como **leave one out (LOO)**:\n",
    "\n",
    "<img src=https://assets.datacamp.com/production/repositories/3981/datasets/8a6236f142b1ee2e4a70aae2af9507c7c580f302/Screen%20Shot%202019-01-27%20at%209.25.41%20AM.png width=500>\n",
    "\n",
    "Note que o esforço computacional aumenta conforme $k$ aumenta, sendo máximo quando $k=n$. Por esse motivo, recomenda-se usar o LOO apenas nos casos em que o número de observções na base original é bem pequeno ($\\sim 10^2$)."
   ]
  },
  {
   "cell_type": "markdown",
   "metadata": {},
   "source": [
    "Vamos implementar o procedimento de CV utilizando o sklearn!\n",
    "\n",
    "No [submódulo model_selection](https://scikit-learn.org/stable/modules/classes.html#module-sklearn.model_selection), temos duas ferramentas muito importantes para o processo de CV:\n",
    "\n",
    "- [KFold](https://scikit-learn.org/stable/modules/generated/sklearn.model_selection.KFold.html#sklearn.model_selection.KFold): classe que cria os folds. Obs.: para fazer o LOO, basta colocar $k=n$ folds, ou então usar diretamente a classe que implementa o [LOO](https://scikit-learn.org/stable/modules/generated/sklearn.model_selection.LeaveOneOut.html#sklearn.model_selection.LeaveOneOut);\n",
    "\n",
    "- [cross_validate](https://scikit-learn.org/stable/modules/generated/sklearn.model_selection.cross_validate.html#sklearn.model_selection.cross_validate): função que recebe os folds e os utiliza para o treinamento e avaliação cruzada de modelos, segundo a métrica definida.\n",
    "\n",
    "Para ilustrar o CV,  amos utilizar os datasets artificiais que o sklearn proporciona:"
   ]
  },
  {
   "cell_type": "markdown",
   "metadata": {},
   "source": [
    "_______\n",
    "\n",
    "Vamos começar com um exemplo de **regressão**"
   ]
  },
  {
   "cell_type": "code",
   "execution_count": 2,
   "metadata": {},
   "outputs": [
    {
     "data": {
      "text/html": [
       "<div>\n",
       "<style scoped>\n",
       "    .dataframe tbody tr th:only-of-type {\n",
       "        vertical-align: middle;\n",
       "    }\n",
       "\n",
       "    .dataframe tbody tr th {\n",
       "        vertical-align: top;\n",
       "    }\n",
       "\n",
       "    .dataframe thead th {\n",
       "        text-align: right;\n",
       "    }\n",
       "</style>\n",
       "<table border=\"1\" class=\"dataframe\">\n",
       "  <thead>\n",
       "    <tr style=\"text-align: right;\">\n",
       "      <th></th>\n",
       "      <th>X1</th>\n",
       "      <th>X2</th>\n",
       "      <th>X3</th>\n",
       "      <th>X4</th>\n",
       "      <th>X5</th>\n",
       "      <th>y</th>\n",
       "    </tr>\n",
       "  </thead>\n",
       "  <tbody>\n",
       "    <tr>\n",
       "      <th>0</th>\n",
       "      <td>-0.109610</td>\n",
       "      <td>0.546284</td>\n",
       "      <td>-0.088363</td>\n",
       "      <td>0.006422</td>\n",
       "      <td>-0.436386</td>\n",
       "      <td>79.870807</td>\n",
       "    </tr>\n",
       "    <tr>\n",
       "      <th>1</th>\n",
       "      <td>-1.024388</td>\n",
       "      <td>-0.926930</td>\n",
       "      <td>-0.252568</td>\n",
       "      <td>-0.059525</td>\n",
       "      <td>-3.241267</td>\n",
       "      <td>-115.324859</td>\n",
       "    </tr>\n",
       "    <tr>\n",
       "      <th>2</th>\n",
       "      <td>-2.650970</td>\n",
       "      <td>0.106430</td>\n",
       "      <td>1.091507</td>\n",
       "      <td>-0.254977</td>\n",
       "      <td>1.503993</td>\n",
       "      <td>35.552509</td>\n",
       "    </tr>\n",
       "    <tr>\n",
       "      <th>3</th>\n",
       "      <td>-0.850520</td>\n",
       "      <td>-0.138456</td>\n",
       "      <td>-0.580523</td>\n",
       "      <td>-1.224298</td>\n",
       "      <td>-0.209023</td>\n",
       "      <td>-145.413703</td>\n",
       "    </tr>\n",
       "    <tr>\n",
       "      <th>4</th>\n",
       "      <td>-0.322680</td>\n",
       "      <td>-0.756795</td>\n",
       "      <td>-0.250833</td>\n",
       "      <td>-1.421811</td>\n",
       "      <td>1.501334</td>\n",
       "      <td>-116.148875</td>\n",
       "    </tr>\n",
       "    <tr>\n",
       "      <th>...</th>\n",
       "      <td>...</td>\n",
       "      <td>...</td>\n",
       "      <td>...</td>\n",
       "      <td>...</td>\n",
       "      <td>...</td>\n",
       "      <td>...</td>\n",
       "    </tr>\n",
       "    <tr>\n",
       "      <th>495</th>\n",
       "      <td>-1.363174</td>\n",
       "      <td>-1.598124</td>\n",
       "      <td>0.189706</td>\n",
       "      <td>0.462173</td>\n",
       "      <td>2.024310</td>\n",
       "      <td>-87.798391</td>\n",
       "    </tr>\n",
       "    <tr>\n",
       "      <th>496</th>\n",
       "      <td>0.239247</td>\n",
       "      <td>-1.979300</td>\n",
       "      <td>2.074083</td>\n",
       "      <td>0.747910</td>\n",
       "      <td>-1.072743</td>\n",
       "      <td>-92.452927</td>\n",
       "    </tr>\n",
       "    <tr>\n",
       "      <th>497</th>\n",
       "      <td>2.189803</td>\n",
       "      <td>-0.767348</td>\n",
       "      <td>-0.808298</td>\n",
       "      <td>0.872321</td>\n",
       "      <td>0.183342</td>\n",
       "      <td>20.274546</td>\n",
       "    </tr>\n",
       "    <tr>\n",
       "      <th>498</th>\n",
       "      <td>0.615367</td>\n",
       "      <td>0.513106</td>\n",
       "      <td>-0.935439</td>\n",
       "      <td>-0.259547</td>\n",
       "      <td>0.738810</td>\n",
       "      <td>43.199300</td>\n",
       "    </tr>\n",
       "    <tr>\n",
       "      <th>499</th>\n",
       "      <td>0.443819</td>\n",
       "      <td>-0.484234</td>\n",
       "      <td>0.774634</td>\n",
       "      <td>1.266911</td>\n",
       "      <td>-0.707669</td>\n",
       "      <td>65.943235</td>\n",
       "    </tr>\n",
       "  </tbody>\n",
       "</table>\n",
       "<p>500 rows × 6 columns</p>\n",
       "</div>"
      ],
      "text/plain": [
       "           X1        X2        X3        X4        X5           y\n",
       "0   -0.109610  0.546284 -0.088363  0.006422 -0.436386   79.870807\n",
       "1   -1.024388 -0.926930 -0.252568 -0.059525 -3.241267 -115.324859\n",
       "2   -2.650970  0.106430  1.091507 -0.254977  1.503993   35.552509\n",
       "3   -0.850520 -0.138456 -0.580523 -1.224298 -0.209023 -145.413703\n",
       "4   -0.322680 -0.756795 -0.250833 -1.421811  1.501334 -116.148875\n",
       "..        ...       ...       ...       ...       ...         ...\n",
       "495 -1.363174 -1.598124  0.189706  0.462173  2.024310  -87.798391\n",
       "496  0.239247 -1.979300  2.074083  0.747910 -1.072743  -92.452927\n",
       "497  2.189803 -0.767348 -0.808298  0.872321  0.183342   20.274546\n",
       "498  0.615367  0.513106 -0.935439 -0.259547  0.738810   43.199300\n",
       "499  0.443819 -0.484234  0.774634  1.266911 -0.707669   65.943235\n",
       "\n",
       "[500 rows x 6 columns]"
      ]
     },
     "execution_count": 2,
     "metadata": {},
     "output_type": "execute_result"
    }
   ],
   "source": [
    "from sklearn.datasets import make_regression\n",
    "\n",
    "X, y = make_regression(n_samples=500,\n",
    "                n_features=5,\n",
    "                n_informative=3,\n",
    "                noise=25,\n",
    "                tail_strength=10,\n",
    "                random_state=42)\n",
    "\n",
    "features = pd.DataFrame(X, columns=[f'X{i+1}' for i in range(5)])\n",
    "target = pd.Series(y, name='y')\n",
    "df = pd.concat([features, target], axis=1)\n",
    "df"
   ]
  },
  {
   "cell_type": "code",
   "execution_count": 3,
   "metadata": {},
   "outputs": [
    {
     "data": {
      "text/plain": [
       "<AxesSubplot:>"
      ]
     },
     "execution_count": 3,
     "metadata": {},
     "output_type": "execute_result"
    },
    {
     "data": {
      "image/png": "[encoded data removed]",
      "text/plain": [
       "<Figure size 432x288 with 2 Axes>"
      ]
     },
     "metadata": {},
     "output_type": "display_data"
    }
   ],
   "source": [
    "sns.heatmap(df.corr(), annot=True, cmap='coolwarm')"
   ]
  },
  {
   "cell_type": "code",
   "execution_count": null,
   "metadata": {},
   "outputs": [],
   "source": [
    "sns.pairplot(df)"
   ]
  },
  {
   "cell_type": "code",
   "execution_count": 5,
   "metadata": {},
   "outputs": [
    {
     "data": {
      "text/html": [
       "<div>\n",
       "<style scoped>\n",
       "    .dataframe tbody tr th:only-of-type {\n",
       "        vertical-align: middle;\n",
       "    }\n",
       "\n",
       "    .dataframe tbody tr th {\n",
       "        vertical-align: top;\n",
       "    }\n",
       "\n",
       "    .dataframe thead th {\n",
       "        text-align: right;\n",
       "    }\n",
       "</style>\n",
       "<table border=\"1\" class=\"dataframe\">\n",
       "  <thead>\n",
       "    <tr style=\"text-align: right;\">\n",
       "      <th></th>\n",
       "      <th>X1</th>\n",
       "      <th>X2</th>\n",
       "      <th>X3</th>\n",
       "      <th>X4</th>\n",
       "      <th>X5</th>\n",
       "      <th>y</th>\n",
       "    </tr>\n",
       "  </thead>\n",
       "  <tbody>\n",
       "    <tr>\n",
       "      <th>count</th>\n",
       "      <td>500.000000</td>\n",
       "      <td>500.000000</td>\n",
       "      <td>500.000000</td>\n",
       "      <td>500.000000</td>\n",
       "      <td>500.000000</td>\n",
       "      <td>500.000000</td>\n",
       "    </tr>\n",
       "    <tr>\n",
       "      <th>mean</th>\n",
       "      <td>0.012412</td>\n",
       "      <td>0.047211</td>\n",
       "      <td>0.089335</td>\n",
       "      <td>-0.004983</td>\n",
       "      <td>0.024845</td>\n",
       "      <td>3.420332</td>\n",
       "    </tr>\n",
       "    <tr>\n",
       "      <th>std</th>\n",
       "      <td>0.955087</td>\n",
       "      <td>0.969309</td>\n",
       "      <td>0.999397</td>\n",
       "      <td>1.038814</td>\n",
       "      <td>0.949985</td>\n",
       "      <td>110.693405</td>\n",
       "    </tr>\n",
       "    <tr>\n",
       "      <th>min</th>\n",
       "      <td>-2.650970</td>\n",
       "      <td>-2.703232</td>\n",
       "      <td>-3.019512</td>\n",
       "      <td>-2.940389</td>\n",
       "      <td>-3.241267</td>\n",
       "      <td>-297.665107</td>\n",
       "    </tr>\n",
       "    <tr>\n",
       "      <th>25%</th>\n",
       "      <td>-0.642849</td>\n",
       "      <td>-0.577418</td>\n",
       "      <td>-0.576895</td>\n",
       "      <td>-0.682826</td>\n",
       "      <td>-0.644153</td>\n",
       "      <td>-68.294863</td>\n",
       "    </tr>\n",
       "    <tr>\n",
       "      <th>50%</th>\n",
       "      <td>0.033078</td>\n",
       "      <td>0.081273</td>\n",
       "      <td>0.040829</td>\n",
       "      <td>-0.024875</td>\n",
       "      <td>0.008918</td>\n",
       "      <td>4.208483</td>\n",
       "    </tr>\n",
       "    <tr>\n",
       "      <th>75%</th>\n",
       "      <td>0.658720</td>\n",
       "      <td>0.668974</td>\n",
       "      <td>0.751524</td>\n",
       "      <td>0.671004</td>\n",
       "      <td>0.635892</td>\n",
       "      <td>76.120529</td>\n",
       "    </tr>\n",
       "    <tr>\n",
       "      <th>max</th>\n",
       "      <td>3.078881</td>\n",
       "      <td>3.193108</td>\n",
       "      <td>3.852731</td>\n",
       "      <td>2.558199</td>\n",
       "      <td>3.137749</td>\n",
       "      <td>349.448456</td>\n",
       "    </tr>\n",
       "  </tbody>\n",
       "</table>\n",
       "</div>"
      ],
      "text/plain": [
       "               X1          X2          X3          X4          X5           y\n",
       "count  500.000000  500.000000  500.000000  500.000000  500.000000  500.000000\n",
       "mean     0.012412    0.047211    0.089335   -0.004983    0.024845    3.420332\n",
       "std      0.955087    0.969309    0.999397    1.038814    0.949985  110.693405\n",
       "min     -2.650970   -2.703232   -3.019512   -2.940389   -3.241267 -297.665107\n",
       "25%     -0.642849   -0.577418   -0.576895   -0.682826   -0.644153  -68.294863\n",
       "50%      0.033078    0.081273    0.040829   -0.024875    0.008918    4.208483\n",
       "75%      0.658720    0.668974    0.751524    0.671004    0.635892   76.120529\n",
       "max      3.078881    3.193108    3.852731    2.558199    3.137749  349.448456"
      ]
     },
     "execution_count": 5,
     "metadata": {},
     "output_type": "execute_result"
    }
   ],
   "source": [
    "df.describe()"
   ]
  },
  {
   "cell_type": "markdown",
   "metadata": {},
   "source": [
    "Os dados não têm variação de escala tão grande, então não nos preocuparemos em normaliza-los, caso queiramos utilizar regularização!\n",
    "\n",
    "**Mas nunca se esqueça que isso é bastante importante quando há grandes diferenças de escala!!**"
   ]
  },
  {
   "cell_type": "markdown",
   "metadata": {},
   "source": [
    "Agora, implementamos o CV:"
   ]
  },
  {
   "cell_type": "code",
   "execution_count": 6,
   "metadata": {},
   "outputs": [],
   "source": [
    "from sklearn.model_selection import KFold"
   ]
  },
  {
   "cell_type": "code",
   "execution_count": 7,
   "metadata": {},
   "outputs": [
    {
     "data": {
      "text/plain": [
       "<generator object _BaseKFold.split at 0x129e8f580>"
      ]
     },
     "execution_count": 7,
     "metadata": {},
     "output_type": "execute_result"
    }
   ],
   "source": [
    "kf_5 = KFold(n_splits=5, random_state=42, shuffle=True)\n",
    "\n",
    "kf_5.split(X,y)"
   ]
  },
  {
   "cell_type": "code",
   "execution_count": 8,
   "metadata": {},
   "outputs": [],
   "source": [
    "from sklearn.model_selection import cross_validate\n",
    "from sklearn.linear_model import ElasticNet\n",
    "#from sklearn.preprocessing import MinMaxScaler"
   ]
  },
  {
   "cell_type": "code",
   "execution_count": 9,
   "metadata": {},
   "outputs": [],
   "source": [
    "en = ElasticNet()\n",
    "\n",
    "result_cv = cross_validate(estimator=en, X=X, y=y, \n",
    "                cv=kf_5, scoring='neg_mean_absolute_error',\n",
    "                return_train_score=True)\n",
    "\n",
    "df_result_cv = pd.DataFrame(result_cv).abs()"
   ]
  },
  {
   "cell_type": "markdown",
   "metadata": {},
   "source": [
    "Vamos olhar pros resultados mais de perto..."
   ]
  },
  {
   "cell_type": "code",
   "execution_count": 10,
   "metadata": {},
   "outputs": [
    {
     "data": {
      "text/html": [
       "<div>\n",
       "<style scoped>\n",
       "    .dataframe tbody tr th:only-of-type {\n",
       "        vertical-align: middle;\n",
       "    }\n",
       "\n",
       "    .dataframe tbody tr th {\n",
       "        vertical-align: top;\n",
       "    }\n",
       "\n",
       "    .dataframe thead th {\n",
       "        text-align: right;\n",
       "    }\n",
       "</style>\n",
       "<table border=\"1\" class=\"dataframe\">\n",
       "  <thead>\n",
       "    <tr style=\"text-align: right;\">\n",
       "      <th></th>\n",
       "      <th>fit_time</th>\n",
       "      <th>score_time</th>\n",
       "      <th>test_score</th>\n",
       "      <th>train_score</th>\n",
       "    </tr>\n",
       "  </thead>\n",
       "  <tbody>\n",
       "    <tr>\n",
       "      <th>0</th>\n",
       "      <td>0.010574</td>\n",
       "      <td>0.000532</td>\n",
       "      <td>37.242368</td>\n",
       "      <td>34.538921</td>\n",
       "    </tr>\n",
       "    <tr>\n",
       "      <th>1</th>\n",
       "      <td>0.000780</td>\n",
       "      <td>0.000394</td>\n",
       "      <td>36.915451</td>\n",
       "      <td>34.920248</td>\n",
       "    </tr>\n",
       "    <tr>\n",
       "      <th>2</th>\n",
       "      <td>0.000929</td>\n",
       "      <td>0.000491</td>\n",
       "      <td>33.870163</td>\n",
       "      <td>35.329187</td>\n",
       "    </tr>\n",
       "    <tr>\n",
       "      <th>3</th>\n",
       "      <td>0.000722</td>\n",
       "      <td>0.000327</td>\n",
       "      <td>33.954736</td>\n",
       "      <td>35.498673</td>\n",
       "    </tr>\n",
       "    <tr>\n",
       "      <th>4</th>\n",
       "      <td>0.000642</td>\n",
       "      <td>0.000312</td>\n",
       "      <td>33.573468</td>\n",
       "      <td>34.382697</td>\n",
       "    </tr>\n",
       "  </tbody>\n",
       "</table>\n",
       "</div>"
      ],
      "text/plain": [
       "   fit_time  score_time  test_score  train_score\n",
       "0  0.010574    0.000532   37.242368    34.538921\n",
       "1  0.000780    0.000394   36.915451    34.920248\n",
       "2  0.000929    0.000491   33.870163    35.329187\n",
       "3  0.000722    0.000327   33.954736    35.498673\n",
       "4  0.000642    0.000312   33.573468    34.382697"
      ]
     },
     "execution_count": 10,
     "metadata": {},
     "output_type": "execute_result"
    }
   ],
   "source": [
    "df_result_cv"
   ]
  },
  {
   "cell_type": "code",
   "execution_count": 11,
   "metadata": {},
   "outputs": [
    {
     "data": {
      "text/html": [
       "<div>\n",
       "<style scoped>\n",
       "    .dataframe tbody tr th:only-of-type {\n",
       "        vertical-align: middle;\n",
       "    }\n",
       "\n",
       "    .dataframe tbody tr th {\n",
       "        vertical-align: top;\n",
       "    }\n",
       "\n",
       "    .dataframe thead th {\n",
       "        text-align: right;\n",
       "    }\n",
       "</style>\n",
       "<table border=\"1\" class=\"dataframe\">\n",
       "  <thead>\n",
       "    <tr style=\"text-align: right;\">\n",
       "      <th></th>\n",
       "      <th>test_score</th>\n",
       "      <th>train_score</th>\n",
       "    </tr>\n",
       "  </thead>\n",
       "  <tbody>\n",
       "    <tr>\n",
       "      <th>count</th>\n",
       "      <td>5.000000</td>\n",
       "      <td>5.000000</td>\n",
       "    </tr>\n",
       "    <tr>\n",
       "      <th>mean</th>\n",
       "      <td>35.111237</td>\n",
       "      <td>34.933945</td>\n",
       "    </tr>\n",
       "    <tr>\n",
       "      <th>std</th>\n",
       "      <td>1.805506</td>\n",
       "      <td>0.483539</td>\n",
       "    </tr>\n",
       "    <tr>\n",
       "      <th>min</th>\n",
       "      <td>33.573468</td>\n",
       "      <td>34.382697</td>\n",
       "    </tr>\n",
       "    <tr>\n",
       "      <th>25%</th>\n",
       "      <td>33.870163</td>\n",
       "      <td>34.538921</td>\n",
       "    </tr>\n",
       "    <tr>\n",
       "      <th>50%</th>\n",
       "      <td>33.954736</td>\n",
       "      <td>34.920248</td>\n",
       "    </tr>\n",
       "    <tr>\n",
       "      <th>75%</th>\n",
       "      <td>36.915451</td>\n",
       "      <td>35.329187</td>\n",
       "    </tr>\n",
       "    <tr>\n",
       "      <th>max</th>\n",
       "      <td>37.242368</td>\n",
       "      <td>35.498673</td>\n",
       "    </tr>\n",
       "  </tbody>\n",
       "</table>\n",
       "</div>"
      ],
      "text/plain": [
       "       test_score  train_score\n",
       "count    5.000000     5.000000\n",
       "mean    35.111237    34.933945\n",
       "std      1.805506     0.483539\n",
       "min     33.573468    34.382697\n",
       "25%     33.870163    34.538921\n",
       "50%     33.954736    34.920248\n",
       "75%     36.915451    35.329187\n",
       "max     37.242368    35.498673"
      ]
     },
     "execution_count": 11,
     "metadata": {},
     "output_type": "execute_result"
    }
   ],
   "source": [
    "df_result_cv[['test_score', 'train_score']].describe()"
   ]
  },
  {
   "cell_type": "markdown",
   "metadata": {},
   "source": [
    "Numa unica celula:\n"
   ]
  },
  {
   "cell_type": "code",
   "execution_count": 12,
   "metadata": {},
   "outputs": [],
   "source": [
    "from IPython.display import display"
   ]
  },
  {
   "cell_type": "code",
   "execution_count": 52,
   "metadata": {},
   "outputs": [],
   "source": [
    "def plot_cv(estimator, X, y, n_splits=5, scoring='neg_mean_absolute_error'):\n",
    "    \n",
    "    kf = KFold(n_splits=n_splits, random_state=42, shuffle=True)\n",
    "\n",
    "    result_cv = cross_validate(estimator=estimator, X=X, y=y, \n",
    "                    cv=kf, scoring=scoring,\n",
    "                    return_train_score=True)\n",
    "\n",
    "    df_result_cv = pd.DataFrame(result_cv).abs()\n",
    "\n",
    "    display(df_result_cv[['train_score', 'test_score']].describe())\n",
    "\n",
    "    print('Train distribuition')\n",
    "    sns.histplot(data=df_result_cv, x='train_score', kde=True)\n",
    "    plt.show()\n",
    "    print('Test distribuition')\n",
    "    sns.histplot(data=df_result_cv, x='test_score', kde=True)\n",
    "    plt.show()"
   ]
  },
  {
   "cell_type": "code",
   "execution_count": 14,
   "metadata": {},
   "outputs": [
    {
     "data": {
      "text/html": [
       "<div>\n",
       "<style scoped>\n",
       "    .dataframe tbody tr th:only-of-type {\n",
       "        vertical-align: middle;\n",
       "    }\n",
       "\n",
       "    .dataframe tbody tr th {\n",
       "        vertical-align: top;\n",
       "    }\n",
       "\n",
       "    .dataframe thead th {\n",
       "        text-align: right;\n",
       "    }\n",
       "</style>\n",
       "<table border=\"1\" class=\"dataframe\">\n",
       "  <thead>\n",
       "    <tr style=\"text-align: right;\">\n",
       "      <th></th>\n",
       "      <th>test_score</th>\n",
       "      <th>train_score</th>\n",
       "    </tr>\n",
       "  </thead>\n",
       "  <tbody>\n",
       "    <tr>\n",
       "      <th>count</th>\n",
       "      <td>300.000000</td>\n",
       "      <td>300.000000</td>\n",
       "    </tr>\n",
       "    <tr>\n",
       "      <th>mean</th>\n",
       "      <td>35.023186</td>\n",
       "      <td>34.912263</td>\n",
       "    </tr>\n",
       "    <tr>\n",
       "      <th>std</th>\n",
       "      <td>20.436628</td>\n",
       "      <td>0.040493</td>\n",
       "    </tr>\n",
       "    <tr>\n",
       "      <th>min</th>\n",
       "      <td>1.406865</td>\n",
       "      <td>34.762998</td>\n",
       "    </tr>\n",
       "    <tr>\n",
       "      <th>25%</th>\n",
       "      <td>20.084035</td>\n",
       "      <td>34.889036</td>\n",
       "    </tr>\n",
       "    <tr>\n",
       "      <th>50%</th>\n",
       "      <td>30.976906</td>\n",
       "      <td>34.915924</td>\n",
       "    </tr>\n",
       "    <tr>\n",
       "      <th>75%</th>\n",
       "      <td>48.803868</td>\n",
       "      <td>34.937626</td>\n",
       "    </tr>\n",
       "    <tr>\n",
       "      <th>max</th>\n",
       "      <td>99.564988</td>\n",
       "      <td>35.073417</td>\n",
       "    </tr>\n",
       "  </tbody>\n",
       "</table>\n",
       "</div>"
      ],
      "text/plain": [
       "       test_score  train_score\n",
       "count  300.000000   300.000000\n",
       "mean    35.023186    34.912263\n",
       "std     20.436628     0.040493\n",
       "min      1.406865    34.762998\n",
       "25%     20.084035    34.889036\n",
       "50%     30.976906    34.915924\n",
       "75%     48.803868    34.937626\n",
       "max     99.564988    35.073417"
      ]
     },
     "metadata": {},
     "output_type": "display_data"
    },
    {
     "name": "stdout",
     "output_type": "stream",
     "text": [
      "Train distribuition\n"
     ]
    },
    {
     "data": {
      "image/png": "[encoded data removed]",
      "text/plain": [
       "<Figure size 432x288 with 1 Axes>"
      ]
     },
     "metadata": {},
     "output_type": "display_data"
    },
    {
     "name": "stdout",
     "output_type": "stream",
     "text": [
      "Train distribuition\n"
     ]
    },
    {
     "data": {
      "image/png": "[encoded data removed]",
      "text/plain": [
       "<Figure size 432x288 with 1 Axes>"
      ]
     },
     "metadata": {},
     "output_type": "display_data"
    }
   ],
   "source": [
    "plot_cv(en, X, y, n_splits=300)"
   ]
  },
  {
   "cell_type": "markdown",
   "metadata": {},
   "source": [
    "Comparando com o train-test split direto"
   ]
  },
  {
   "cell_type": "code",
   "execution_count": null,
   "metadata": {},
   "outputs": [],
   "source": []
  },
  {
   "cell_type": "markdown",
   "metadata": {},
   "source": [
    "**Na prática, para bases maiores, nós fazemos realmente como está na figura lá em cima**\n",
    "\n",
    "Isto é:\n",
    "\n",
    "- primeiro fazemos o train-test split;\n",
    "- aí, aplicamos CV na base de treino;\n",
    "- depois testamos na base de teste\n",
    "\n",
    "Isso é sobretudo importante no segundo \"uso\" do cv, que é otimização de hiperparametros"
   ]
  },
  {
   "cell_type": "code",
   "execution_count": null,
   "metadata": {},
   "outputs": [],
   "source": []
  },
  {
   "cell_type": "markdown",
   "metadata": {},
   "source": [
    "______"
   ]
  },
  {
   "cell_type": "markdown",
   "metadata": {},
   "source": [
    "Caso queira usar mais métricas de uma vez... SEM PROBLEMAS :)"
   ]
  },
  {
   "cell_type": "code",
   "execution_count": 24,
   "metadata": {},
   "outputs": [],
   "source": [
    "def plot_cv_multiple_metrics(estimator, X, y, n_splits, scoring):\n",
    "    \"\"\"\n",
    "    scoring: str ou tupla de str com os parâmetros de scoring\n",
    "    \"\"\"\n",
    "    \n",
    "    kf = KFold(n_splits=n_splits, random_state=42, shuffle=True)\n",
    "\n",
    "    result_cv = cross_validate(estimator=estimator, X=X, y=y, \n",
    "                    cv=kf, scoring=scoring,\n",
    "                    return_train_score=True)\n",
    "\n",
    "    df_result_cv = pd.DataFrame(result_cv).abs()\n",
    "\n",
    "    metrics_columns = df_result_cv.columns.tolist()[2:]\n",
    "\n",
    "    for i in range(0, len(metrics_columns), 2):\n",
    "        print(f'Metrics distribution: {metrics_columns[i+1].replace(\"train_\",\"\")} (train):')\n",
    "        sns.histplot(data=df_result_cv, x=metrics_columns[i+1], kde=True)\n",
    "        plt.show()\n",
    "        print(f'Metrics distribution: {metrics_columns[i].replace(\"test_\",\"\")} (test):')\n",
    "        sns.histplot(data=df_result_cv, x=metrics_columns[i], kde=True)\n",
    "        plt.show()\n",
    "\n",
    "        print('='*80)\n",
    "\n",
    "\n",
    "    display(df_result_cv.describe())\n",
    "    "
   ]
  },
  {
   "cell_type": "code",
   "execution_count": 25,
   "metadata": {},
   "outputs": [
    {
     "name": "stdout",
     "output_type": "stream",
     "text": [
      "Metrics distribution: neg_mean_absolute_error (train):\n"
     ]
    },
    {
     "data": {
      "image/png": "[encoded data removed]",
      "text/plain": [
       "<Figure size 432x288 with 1 Axes>"
      ]
     },
     "metadata": {},
     "output_type": "display_data"
    },
    {
     "name": "stdout",
     "output_type": "stream",
     "text": [
      "Metrics distribution: neg_mean_absolute_error (test):\n"
     ]
    },
    {
     "data": {
      "image/png": "[encoded data removed]",
      "text/plain": [
       "<Figure size 432x288 with 1 Axes>"
      ]
     },
     "metadata": {},
     "output_type": "display_data"
    },
    {
     "name": "stdout",
     "output_type": "stream",
     "text": [
      "================================================================================\n",
      "Metrics distribution: neg_root_mean_squared_error (train):\n"
     ]
    },
    {
     "data": {
      "image/png": "[encoded data removed]",
      "text/plain": [
       "<Figure size 432x288 with 1 Axes>"
      ]
     },
     "metadata": {},
     "output_type": "display_data"
    },
    {
     "name": "stdout",
     "output_type": "stream",
     "text": [
      "Metrics distribution: neg_root_mean_squared_error (test):\n"
     ]
    },
    {
     "data": {
      "image/png": "[encoded data removed]",
      "text/plain": [
       "<Figure size 432x288 with 1 Axes>"
      ]
     },
     "metadata": {},
     "output_type": "display_data"
    },
    {
     "name": "stdout",
     "output_type": "stream",
     "text": [
      "================================================================================\n",
      "Metrics distribution: r2 (train):\n"
     ]
    },
    {
     "data": {
      "image/png": "[encoded data removed]",
      "text/plain": [
       "<Figure size 432x288 with 1 Axes>"
      ]
     },
     "metadata": {},
     "output_type": "display_data"
    },
    {
     "name": "stdout",
     "output_type": "stream",
     "text": [
      "Metrics distribution: r2 (test):\n"
     ]
    },
    {
     "data": {
      "image/png": "[encoded data removed]",
      "text/plain": [
       "<Figure size 432x288 with 1 Axes>"
      ]
     },
     "metadata": {},
     "output_type": "display_data"
    },
    {
     "name": "stdout",
     "output_type": "stream",
     "text": [
      "================================================================================\n"
     ]
    },
    {
     "data": {
      "text/html": [
       "<div>\n",
       "<style scoped>\n",
       "    .dataframe tbody tr th:only-of-type {\n",
       "        vertical-align: middle;\n",
       "    }\n",
       "\n",
       "    .dataframe tbody tr th {\n",
       "        vertical-align: top;\n",
       "    }\n",
       "\n",
       "    .dataframe thead th {\n",
       "        text-align: right;\n",
       "    }\n",
       "</style>\n",
       "<table border=\"1\" class=\"dataframe\">\n",
       "  <thead>\n",
       "    <tr style=\"text-align: right;\">\n",
       "      <th></th>\n",
       "      <th>fit_time</th>\n",
       "      <th>score_time</th>\n",
       "      <th>test_neg_mean_absolute_error</th>\n",
       "      <th>train_neg_mean_absolute_error</th>\n",
       "      <th>test_neg_root_mean_squared_error</th>\n",
       "      <th>train_neg_root_mean_squared_error</th>\n",
       "      <th>test_r2</th>\n",
       "      <th>train_r2</th>\n",
       "    </tr>\n",
       "  </thead>\n",
       "  <tbody>\n",
       "    <tr>\n",
       "      <th>count</th>\n",
       "      <td>5.000000</td>\n",
       "      <td>5.000000</td>\n",
       "      <td>5.000000</td>\n",
       "      <td>5.000000</td>\n",
       "      <td>5.000000</td>\n",
       "      <td>5.000000</td>\n",
       "      <td>5.000000</td>\n",
       "      <td>5.000000</td>\n",
       "    </tr>\n",
       "    <tr>\n",
       "      <th>mean</th>\n",
       "      <td>0.001059</td>\n",
       "      <td>0.001721</td>\n",
       "      <td>35.111237</td>\n",
       "      <td>34.933945</td>\n",
       "      <td>43.838586</td>\n",
       "      <td>43.556593</td>\n",
       "      <td>0.840215</td>\n",
       "      <td>0.844614</td>\n",
       "    </tr>\n",
       "    <tr>\n",
       "      <th>std</th>\n",
       "      <td>0.000281</td>\n",
       "      <td>0.001196</td>\n",
       "      <td>1.805506</td>\n",
       "      <td>0.483539</td>\n",
       "      <td>2.563440</td>\n",
       "      <td>0.407638</td>\n",
       "      <td>0.012034</td>\n",
       "      <td>0.005859</td>\n",
       "    </tr>\n",
       "    <tr>\n",
       "      <th>min</th>\n",
       "      <td>0.000797</td>\n",
       "      <td>0.000869</td>\n",
       "      <td>33.573468</td>\n",
       "      <td>34.382697</td>\n",
       "      <td>40.419302</td>\n",
       "      <td>43.217668</td>\n",
       "      <td>0.829117</td>\n",
       "      <td>0.839472</td>\n",
       "    </tr>\n",
       "    <tr>\n",
       "      <th>25%</th>\n",
       "      <td>0.000881</td>\n",
       "      <td>0.000908</td>\n",
       "      <td>33.870163</td>\n",
       "      <td>34.538921</td>\n",
       "      <td>42.583387</td>\n",
       "      <td>43.276767</td>\n",
       "      <td>0.830471</td>\n",
       "      <td>0.839496</td>\n",
       "    </tr>\n",
       "    <tr>\n",
       "      <th>50%</th>\n",
       "      <td>0.000896</td>\n",
       "      <td>0.000914</td>\n",
       "      <td>33.954736</td>\n",
       "      <td>34.920248</td>\n",
       "      <td>43.581829</td>\n",
       "      <td>43.285737</td>\n",
       "      <td>0.837599</td>\n",
       "      <td>0.844345</td>\n",
       "    </tr>\n",
       "    <tr>\n",
       "      <th>75%</th>\n",
       "      <td>0.001299</td>\n",
       "      <td>0.002394</td>\n",
       "      <td>36.915451</td>\n",
       "      <td>35.329187</td>\n",
       "      <td>45.674374</td>\n",
       "      <td>43.966468</td>\n",
       "      <td>0.845657</td>\n",
       "      <td>0.846058</td>\n",
       "    </tr>\n",
       "    <tr>\n",
       "      <th>max</th>\n",
       "      <td>0.001421</td>\n",
       "      <td>0.003519</td>\n",
       "      <td>37.242368</td>\n",
       "      <td>35.498673</td>\n",
       "      <td>46.934037</td>\n",
       "      <td>44.036324</td>\n",
       "      <td>0.858233</td>\n",
       "      <td>0.853698</td>\n",
       "    </tr>\n",
       "  </tbody>\n",
       "</table>\n",
       "</div>"
      ],
      "text/plain": [
       "       fit_time  score_time  test_neg_mean_absolute_error  \\\n",
       "count  5.000000    5.000000                      5.000000   \n",
       "mean   0.001059    0.001721                     35.111237   \n",
       "std    0.000281    0.001196                      1.805506   \n",
       "min    0.000797    0.000869                     33.573468   \n",
       "25%    0.000881    0.000908                     33.870163   \n",
       "50%    0.000896    0.000914                     33.954736   \n",
       "75%    0.001299    0.002394                     36.915451   \n",
       "max    0.001421    0.003519                     37.242368   \n",
       "\n",
       "       train_neg_mean_absolute_error  test_neg_root_mean_squared_error  \\\n",
       "count                       5.000000                          5.000000   \n",
       "mean                       34.933945                         43.838586   \n",
       "std                         0.483539                          2.563440   \n",
       "min                        34.382697                         40.419302   \n",
       "25%                        34.538921                         42.583387   \n",
       "50%                        34.920248                         43.581829   \n",
       "75%                        35.329187                         45.674374   \n",
       "max                        35.498673                         46.934037   \n",
       "\n",
       "       train_neg_root_mean_squared_error   test_r2  train_r2  \n",
       "count                           5.000000  5.000000  5.000000  \n",
       "mean                           43.556593  0.840215  0.844614  \n",
       "std                             0.407638  0.012034  0.005859  \n",
       "min                            43.217668  0.829117  0.839472  \n",
       "25%                            43.276767  0.830471  0.839496  \n",
       "50%                            43.285737  0.837599  0.844345  \n",
       "75%                            43.966468  0.845657  0.846058  \n",
       "max                            44.036324  0.858233  0.853698  "
      ]
     },
     "metadata": {},
     "output_type": "display_data"
    }
   ],
   "source": [
    "plot_cv_multiple_metrics(estimator=en, X=X, y=y, n_splits=5, scoring=('neg_mean_absolute_error', 'neg_root_mean_squared_error', 'r2'))"
   ]
  },
  {
   "cell_type": "markdown",
   "metadata": {},
   "source": [
    "_____\n",
    "\n",
    "Vamos agora ver um caso de **classificação**:"
   ]
  },
  {
   "cell_type": "code",
   "execution_count": 30,
   "metadata": {},
   "outputs": [],
   "source": [
    "from sklearn.datasets import make_classification\n",
    "\n",
    "X_clf, y_clf = make_classification(n_samples=500,\n",
    "                            n_features=5,\n",
    "                            n_informative=3,\n",
    "                            n_classes=2,\n",
    "                            random_state=42)\n",
    "\n",
    "X_clf, y_clf"
   ]
  },
  {
   "cell_type": "code",
   "execution_count": 34,
   "metadata": {},
   "outputs": [
    {
     "data": {
      "text/plain": [
       "['X1', 'X2', 'X3', 'X4', 'X5']"
      ]
     },
     "execution_count": 34,
     "metadata": {},
     "output_type": "execute_result"
    }
   ],
   "source": []
  },
  {
   "cell_type": "code",
   "execution_count": 36,
   "metadata": {},
   "outputs": [],
   "source": [
    "clf_columns = [f'X{i+1}' for i in range(X_clf.shape[1])]\n",
    "\n",
    "df_clf = pd.concat([pd.DataFrame(X_clf, columns=clf_columns),\n",
    "                    pd.Series(y_clf,name='y')]\n",
    "                    )"
   ]
  },
  {
   "cell_type": "code",
   "execution_count": 37,
   "metadata": {},
   "outputs": [
    {
     "data": {
      "text/html": [
       "<div>\n",
       "<style scoped>\n",
       "    .dataframe tbody tr th:only-of-type {\n",
       "        vertical-align: middle;\n",
       "    }\n",
       "\n",
       "    .dataframe tbody tr th {\n",
       "        vertical-align: top;\n",
       "    }\n",
       "\n",
       "    .dataframe thead th {\n",
       "        text-align: right;\n",
       "    }\n",
       "</style>\n",
       "<table border=\"1\" class=\"dataframe\">\n",
       "  <thead>\n",
       "    <tr style=\"text-align: right;\">\n",
       "      <th></th>\n",
       "      <th>X1</th>\n",
       "      <th>X2</th>\n",
       "      <th>X3</th>\n",
       "      <th>X4</th>\n",
       "      <th>X5</th>\n",
       "      <th>0</th>\n",
       "    </tr>\n",
       "  </thead>\n",
       "  <tbody>\n",
       "    <tr>\n",
       "      <th>0</th>\n",
       "      <td>0.280056</td>\n",
       "      <td>-1.126421</td>\n",
       "      <td>-0.772964</td>\n",
       "      <td>2.060626</td>\n",
       "      <td>-2.357044</td>\n",
       "      <td>NaN</td>\n",
       "    </tr>\n",
       "    <tr>\n",
       "      <th>1</th>\n",
       "      <td>-0.326002</td>\n",
       "      <td>0.343967</td>\n",
       "      <td>1.535987</td>\n",
       "      <td>-1.794578</td>\n",
       "      <td>1.293605</td>\n",
       "      <td>NaN</td>\n",
       "    </tr>\n",
       "    <tr>\n",
       "      <th>2</th>\n",
       "      <td>-0.802972</td>\n",
       "      <td>-1.112616</td>\n",
       "      <td>-1.088524</td>\n",
       "      <td>0.668720</td>\n",
       "      <td>-1.183952</td>\n",
       "      <td>NaN</td>\n",
       "    </tr>\n",
       "    <tr>\n",
       "      <th>3</th>\n",
       "      <td>0.012285</td>\n",
       "      <td>-0.350602</td>\n",
       "      <td>-1.359103</td>\n",
       "      <td>1.234112</td>\n",
       "      <td>-0.909008</td>\n",
       "      <td>NaN</td>\n",
       "    </tr>\n",
       "    <tr>\n",
       "      <th>4</th>\n",
       "      <td>0.043145</td>\n",
       "      <td>-1.077267</td>\n",
       "      <td>-0.873334</td>\n",
       "      <td>1.727960</td>\n",
       "      <td>-2.031498</td>\n",
       "      <td>NaN</td>\n",
       "    </tr>\n",
       "  </tbody>\n",
       "</table>\n",
       "</div>"
      ],
      "text/plain": [
       "         X1        X2        X3        X4        X5   0\n",
       "0  0.280056 -1.126421 -0.772964  2.060626 -2.357044 NaN\n",
       "1 -0.326002  0.343967  1.535987 -1.794578  1.293605 NaN\n",
       "2 -0.802972 -1.112616 -1.088524  0.668720 -1.183952 NaN\n",
       "3  0.012285 -0.350602 -1.359103  1.234112 -0.909008 NaN\n",
       "4  0.043145 -1.077267 -0.873334  1.727960 -2.031498 NaN"
      ]
     },
     "execution_count": 37,
     "metadata": {},
     "output_type": "execute_result"
    }
   ],
   "source": [
    "df_clf.head()"
   ]
  },
  {
   "cell_type": "code",
   "execution_count": 40,
   "metadata": {},
   "outputs": [
    {
     "data": {
      "text/plain": [
       "<AxesSubplot:>"
      ]
     },
     "execution_count": 40,
     "metadata": {},
     "output_type": "execute_result"
    },
    {
     "data": {
      "image/png": "[encoded data removed]",
      "text/plain": [
       "<Figure size 432x288 with 2 Axes>"
      ]
     },
     "metadata": {},
     "output_type": "display_data"
    }
   ],
   "source": [
    "sns.heatmap(df_clf.corr(),cmap='coolwarm', annot=True)"
   ]
  },
  {
   "cell_type": "markdown",
   "metadata": {},
   "source": [
    "Agora, o CV, bem parecido com o que fizemos acima:\n",
    "\n",
    "- uma regressão logística com regularização l1 e fator de regularização (C) igual a 1.2;\n",
    "- 10 folds;\n",
    "- roc_auc como métrica de avaliação."
   ]
  },
  {
   "cell_type": "code",
   "execution_count": 41,
   "metadata": {},
   "outputs": [],
   "source": [
    "from sklearn.linear_model import LogisticRegression"
   ]
  },
  {
   "cell_type": "code",
   "execution_count": 53,
   "metadata": {},
   "outputs": [
    {
     "data": {
      "text/html": [
       "<div>\n",
       "<style scoped>\n",
       "    .dataframe tbody tr th:only-of-type {\n",
       "        vertical-align: middle;\n",
       "    }\n",
       "\n",
       "    .dataframe tbody tr th {\n",
       "        vertical-align: top;\n",
       "    }\n",
       "\n",
       "    .dataframe thead th {\n",
       "        text-align: right;\n",
       "    }\n",
       "</style>\n",
       "<table border=\"1\" class=\"dataframe\">\n",
       "  <thead>\n",
       "    <tr style=\"text-align: right;\">\n",
       "      <th></th>\n",
       "      <th>train_score</th>\n",
       "      <th>test_score</th>\n",
       "    </tr>\n",
       "  </thead>\n",
       "  <tbody>\n",
       "    <tr>\n",
       "      <th>count</th>\n",
       "      <td>30.000000</td>\n",
       "      <td>30.000000</td>\n",
       "    </tr>\n",
       "    <tr>\n",
       "      <th>mean</th>\n",
       "      <td>0.942944</td>\n",
       "      <td>0.941086</td>\n",
       "    </tr>\n",
       "    <tr>\n",
       "      <th>std</th>\n",
       "      <td>0.001937</td>\n",
       "      <td>0.056607</td>\n",
       "    </tr>\n",
       "    <tr>\n",
       "      <th>min</th>\n",
       "      <td>0.939724</td>\n",
       "      <td>0.765625</td>\n",
       "    </tr>\n",
       "    <tr>\n",
       "      <th>25%</th>\n",
       "      <td>0.941359</td>\n",
       "      <td>0.905655</td>\n",
       "    </tr>\n",
       "    <tr>\n",
       "      <th>50%</th>\n",
       "      <td>0.942892</td>\n",
       "      <td>0.947222</td>\n",
       "    </tr>\n",
       "    <tr>\n",
       "      <th>75%</th>\n",
       "      <td>0.944019</td>\n",
       "      <td>0.985795</td>\n",
       "    </tr>\n",
       "    <tr>\n",
       "      <th>max</th>\n",
       "      <td>0.947522</td>\n",
       "      <td>1.000000</td>\n",
       "    </tr>\n",
       "  </tbody>\n",
       "</table>\n",
       "</div>"
      ],
      "text/plain": [
       "       train_score  test_score\n",
       "count    30.000000   30.000000\n",
       "mean      0.942944    0.941086\n",
       "std       0.001937    0.056607\n",
       "min       0.939724    0.765625\n",
       "25%       0.941359    0.905655\n",
       "50%       0.942892    0.947222\n",
       "75%       0.944019    0.985795\n",
       "max       0.947522    1.000000"
      ]
     },
     "metadata": {},
     "output_type": "display_data"
    },
    {
     "name": "stdout",
     "output_type": "stream",
     "text": [
      "Train distribuition\n"
     ]
    },
    {
     "data": {
      "image/png": "[encoded data removed]",
      "text/plain": [
       "<Figure size 432x288 with 1 Axes>"
      ]
     },
     "metadata": {},
     "output_type": "display_data"
    },
    {
     "name": "stdout",
     "output_type": "stream",
     "text": [
      "Test distribuition\n"
     ]
    },
    {
     "data": {
      "image/png": "[encoded data removed]",
      "text/plain": [
       "<Figure size 432x288 with 1 Axes>"
      ]
     },
     "metadata": {},
     "output_type": "display_data"
    }
   ],
   "source": [
    "lr = LogisticRegression(penalty='l1', C=1.2, solver='liblinear')\n",
    "\n",
    "plot_cv(lr, X_clf, y_clf, 30, scoring='roc_auc')"
   ]
  },
  {
   "cell_type": "code",
   "execution_count": 54,
   "metadata": {},
   "outputs": [
    {
     "name": "stdout",
     "output_type": "stream",
     "text": [
      "Metrics distribution: roc_auc (train):\n"
     ]
    },
    {
     "data": {
      "image/png": "[encoded data removed]",
      "text/plain": [
       "<Figure size 432x288 with 1 Axes>"
      ]
     },
     "metadata": {},
     "output_type": "display_data"
    },
    {
     "name": "stdout",
     "output_type": "stream",
     "text": [
      "Metrics distribution: roc_auc (test):\n"
     ]
    },
    {
     "data": {
      "image/png": "[encoded data removed]",
      "text/plain": [
       "<Figure size 432x288 with 1 Axes>"
      ]
     },
     "metadata": {},
     "output_type": "display_data"
    },
    {
     "name": "stdout",
     "output_type": "stream",
     "text": [
      "================================================================================\n",
      "Metrics distribution: f1 (train):\n"
     ]
    },
    {
     "data": {
      "image/png": "[encoded data removed]",
      "text/plain": [
       "<Figure size 432x288 with 1 Axes>"
      ]
     },
     "metadata": {},
     "output_type": "display_data"
    },
    {
     "name": "stdout",
     "output_type": "stream",
     "text": [
      "Metrics distribution: f1 (test):\n"
     ]
    },
    {
     "data": {
      "image/png": "[encoded data removed]",
      "text/plain": [
       "<Figure size 432x288 with 1 Axes>"
      ]
     },
     "metadata": {},
     "output_type": "display_data"
    },
    {
     "name": "stdout",
     "output_type": "stream",
     "text": [
      "================================================================================\n"
     ]
    },
    {
     "data": {
      "text/html": [
       "<div>\n",
       "<style scoped>\n",
       "    .dataframe tbody tr th:only-of-type {\n",
       "        vertical-align: middle;\n",
       "    }\n",
       "\n",
       "    .dataframe tbody tr th {\n",
       "        vertical-align: top;\n",
       "    }\n",
       "\n",
       "    .dataframe thead th {\n",
       "        text-align: right;\n",
       "    }\n",
       "</style>\n",
       "<table border=\"1\" class=\"dataframe\">\n",
       "  <thead>\n",
       "    <tr style=\"text-align: right;\">\n",
       "      <th></th>\n",
       "      <th>fit_time</th>\n",
       "      <th>score_time</th>\n",
       "      <th>test_roc_auc</th>\n",
       "      <th>train_roc_auc</th>\n",
       "      <th>test_f1</th>\n",
       "      <th>train_f1</th>\n",
       "    </tr>\n",
       "  </thead>\n",
       "  <tbody>\n",
       "    <tr>\n",
       "      <th>count</th>\n",
       "      <td>30.000000</td>\n",
       "      <td>30.000000</td>\n",
       "      <td>30.000000</td>\n",
       "      <td>30.000000</td>\n",
       "      <td>30.000000</td>\n",
       "      <td>30.000000</td>\n",
       "    </tr>\n",
       "    <tr>\n",
       "      <th>mean</th>\n",
       "      <td>0.005428</td>\n",
       "      <td>0.008598</td>\n",
       "      <td>0.941086</td>\n",
       "      <td>0.942948</td>\n",
       "      <td>0.877976</td>\n",
       "      <td>0.884820</td>\n",
       "    </tr>\n",
       "    <tr>\n",
       "      <th>std</th>\n",
       "      <td>0.005602</td>\n",
       "      <td>0.006948</td>\n",
       "      <td>0.056607</td>\n",
       "      <td>0.001935</td>\n",
       "      <td>0.073339</td>\n",
       "      <td>0.003208</td>\n",
       "    </tr>\n",
       "    <tr>\n",
       "      <th>min</th>\n",
       "      <td>0.001323</td>\n",
       "      <td>0.002672</td>\n",
       "      <td>0.765625</td>\n",
       "      <td>0.939724</td>\n",
       "      <td>0.750000</td>\n",
       "      <td>0.880000</td>\n",
       "    </tr>\n",
       "    <tr>\n",
       "      <th>25%</th>\n",
       "      <td>0.002159</td>\n",
       "      <td>0.004160</td>\n",
       "      <td>0.905655</td>\n",
       "      <td>0.941359</td>\n",
       "      <td>0.835526</td>\n",
       "      <td>0.882019</td>\n",
       "    </tr>\n",
       "    <tr>\n",
       "      <th>50%</th>\n",
       "      <td>0.003988</td>\n",
       "      <td>0.005543</td>\n",
       "      <td>0.947222</td>\n",
       "      <td>0.942875</td>\n",
       "      <td>0.875000</td>\n",
       "      <td>0.884774</td>\n",
       "    </tr>\n",
       "    <tr>\n",
       "      <th>75%</th>\n",
       "      <td>0.006379</td>\n",
       "      <td>0.010292</td>\n",
       "      <td>0.985795</td>\n",
       "      <td>0.944019</td>\n",
       "      <td>0.930769</td>\n",
       "      <td>0.887500</td>\n",
       "    </tr>\n",
       "    <tr>\n",
       "      <th>max</th>\n",
       "      <td>0.029129</td>\n",
       "      <td>0.027629</td>\n",
       "      <td>1.000000</td>\n",
       "      <td>0.947522</td>\n",
       "      <td>1.000000</td>\n",
       "      <td>0.892562</td>\n",
       "    </tr>\n",
       "  </tbody>\n",
       "</table>\n",
       "</div>"
      ],
      "text/plain": [
       "        fit_time  score_time  test_roc_auc  train_roc_auc    test_f1  \\\n",
       "count  30.000000   30.000000     30.000000      30.000000  30.000000   \n",
       "mean    0.005428    0.008598      0.941086       0.942948   0.877976   \n",
       "std     0.005602    0.006948      0.056607       0.001935   0.073339   \n",
       "min     0.001323    0.002672      0.765625       0.939724   0.750000   \n",
       "25%     0.002159    0.004160      0.905655       0.941359   0.835526   \n",
       "50%     0.003988    0.005543      0.947222       0.942875   0.875000   \n",
       "75%     0.006379    0.010292      0.985795       0.944019   0.930769   \n",
       "max     0.029129    0.027629      1.000000       0.947522   1.000000   \n",
       "\n",
       "        train_f1  \n",
       "count  30.000000  \n",
       "mean    0.884820  \n",
       "std     0.003208  \n",
       "min     0.880000  \n",
       "25%     0.882019  \n",
       "50%     0.884774  \n",
       "75%     0.887500  \n",
       "max     0.892562  "
      ]
     },
     "metadata": {},
     "output_type": "display_data"
    }
   ],
   "source": [
    "plot_cv_multiple_metrics(lr, X_clf, y_clf, 30, scoring=('roc_auc','f1'))"
   ]
  },
  {
   "cell_type": "markdown",
   "metadata": {},
   "source": [
    "# <span id='pt2' style='font-size:0.8em;color:#1696d2'> 2) Ajuste de hiperparâmetros"
   ]
  },
  {
   "cell_type": "markdown",
   "metadata": {},
   "source": [
    "Além de permitir uma avaliação mais robusta de um modelo, o CV pode também ser utilizado para um propósito muito importante: **a escolha de valores adequados de hiperparâmetros** de um modelo -- processo conhecido como **hyperparameter tuning**.\n",
    "\n",
    "<img src=https://www.okw.com/en/Com-Knobs/COM-KNOBS-class-OKW_GroupInfoImage500x408.jpg width=400>\n",
    "\n",
    "Na aula que vem vamos estudar uma forma mais estruturada de fazer este procedimento.\n",
    "\n",
    "Mas, nesta aula, vamos ver formas automáticas e diretas de aplicar CV aos modelos que conhecemos!\n",
    "\n",
    "Antes de irmos pra prática, uma pergunta importante é: **como/por que utilizar CV para o ajuste de hiperparâmetros?**\n",
    "\n",
    "Ao testarmos diferentes valores/combinações de hiperparâmetros em diferentes folds, temos uma estimativa mais realista sobre o efeito destas escolhas: se o resultado for bom em todos os folds (ou bom em média), temos um indicativo mais robusto de que de fato aquela é uma boa escolha. Em particular, fica muito mais difícil de cometermos **overfitting** através da escolha de hiperparâmetros que ajustem muito bem uma única base de treino. Faz sentido, né?\n",
    "\n",
    "Para saber mais sobre estas questões, sugiro [este post](https://towardsdatascience.com/cross-validation-and-hyperparameter-tuning-how-to-optimise-your-machine-learning-model-13f005af9d7d) e [este post](https://machinelearningmastery.com/nested-cross-validation-for-machine-learning-with-python/)."
   ]
  },
  {
   "cell_type": "markdown",
   "metadata": {},
   "source": [
    "No sklearn, temos o procedimento de CV incorporado a algumas classes de hipóteses:\n",
    "\n",
    "- [Lasso CV](https://scikit-learn.org/stable/modules/generated/sklearn.linear_model.LassoCV.html)\n",
    "- [Ridge CV](https://scikit-learn.org/stable/modules/generated/sklearn.linear_model.RidgeCV.html)\n",
    "- [ElasticNetCV](https://scikit-learn.org/stable/modules/generated/sklearn.linear_model.ElasticNetCV.html)\n",
    "- [LogisticRegressionCV](https://scikit-learn.org/stable/modules/generated/sklearn.linear_model.LogisticRegressionCV.html)\n",
    "\n",
    "Em todos os casos, é possível especificar uma lista de hiperparâmetros a serem percorridos, e o modelo com melhor hiperparâmetro (ou combinação de hiperparâmetros) é escolhido! "
   ]
  },
  {
   "cell_type": "markdown",
   "metadata": {},
   "source": [
    "Vamos pegar as bases acima e aplicar os métodos de CV built-in pra ver se encontramos resultados melhores:"
   ]
  },
  {
   "cell_type": "code",
   "execution_count": 55,
   "metadata": {},
   "outputs": [],
   "source": [
    "from sklearn.linear_model import LassoCV, RidgeCV, ElasticNetCV, LogisticRegressionCV"
   ]
  },
  {
   "cell_type": "code",
   "execution_count": 79,
   "metadata": {},
   "outputs": [],
   "source": [
    "l1 = LassoCV(alphas=np.linspace(0.1,1,100), cv=10).fit(X,y)\n"
   ]
  },
  {
   "cell_type": "code",
   "execution_count": 80,
   "metadata": {},
   "outputs": [
    {
     "data": {
      "text/plain": [
       "0.8818181818181817"
      ]
     },
     "execution_count": 80,
     "metadata": {},
     "output_type": "execute_result"
    }
   ],
   "source": [
    "l1.alpha_"
   ]
  },
  {
   "cell_type": "markdown",
   "metadata": {},
   "source": [
    "### Agora é sua vez!!"
   ]
  },
  {
   "cell_type": "markdown",
   "metadata": {},
   "source": [
    "- 1 - Teste diferentes regressores CV com a base house_prices\n",
    "    - Aumente a complexidade da hipótese permitindo uma regressão polinomial, e deixe o CV decidir uma boa regularização!\n",
    "    "
   ]
  },
  {
   "cell_type": "code",
   "execution_count": 15,
   "metadata": {
    "ExecuteTime": {
     "end_time": "2022-01-28T03:00:48.157559Z",
     "start_time": "2022-01-28T03:00:48.145567Z"
    }
   },
   "outputs": [],
   "source": [
    "# house_prices\n"
   ]
  },
  {
   "cell_type": "markdown",
   "metadata": {},
   "source": [
    "- 2 - Aplique o logit com CV à base breast_cancer"
   ]
  },
  {
   "cell_type": "code",
   "execution_count": 16,
   "metadata": {
    "ExecuteTime": {
     "end_time": "2022-01-28T03:00:48.237517Z",
     "start_time": "2022-01-28T03:00:48.161557Z"
    }
   },
   "outputs": [],
   "source": [
    "# breast_cancer\n"
   ]
  }
 ],
 "metadata": {
  "kernelspec": {
   "display_name": "Python 3",
   "language": "python",
   "name": "python3"
  },
  "language_info": {
   "codemirror_mode": {
    "name": "ipython",
    "version": 3
   },
   "file_extension": ".py",
   "mimetype": "text/x-python",
   "name": "python",
   "nbconvert_exporter": "python",
   "pygments_lexer": "ipython3",
   "version": "3.9.7"
  },
  "toc": {
   "base_numbering": 1,
   "nav_menu": {
    "height": "249.667px",
    "width": "359.667px"
   },
   "number_sections": true,
   "sideBar": true,
   "skip_h1_title": false,
   "title_cell": "Table of Contents",
   "title_sidebar": "Contents",
   "toc_cell": false,
   "toc_position": {},
   "toc_section_display": true,
   "toc_window_display": false
  },
  "varInspector": {
   "cols": {
    "lenName": 16,
    "lenType": 16,
    "lenVar": 40
   },
   "kernels_config": {
    "python": {
     "delete_cmd_postfix": "",
     "delete_cmd_prefix": "del ",
     "library": "var_list.py",
     "varRefreshCmd": "print(var_dic_list())"
    },
    "r": {
     "delete_cmd_postfix": ") ",
     "delete_cmd_prefix": "rm(",
     "library": "var_list.r",
     "varRefreshCmd": "cat(var_dic_list()) "
    }
   },
   "types_to_exclude": [
    "module",
    "function",
    "builtin_function_or_method",
    "instance",
    "_Feature"
   ],
   "window_display": false
  }
 },
 "nbformat": 4,
 "nbformat_minor": 2
}
