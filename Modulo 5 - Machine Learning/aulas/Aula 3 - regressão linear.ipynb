{
 "cells": [
  {
   "cell_type": "markdown",
   "metadata": {},
   "source": [
    "# Aula 3 - Regressão linear\n",
    "\n",
    "Na aula de hoje, vamos explorar os seguintes tópicos em Python:\n",
    "\n",
    "- 1) Introdução\n",
    "- 2) Regressão linear simples\n",
    "- 3) Regressão linear múltipla\n",
    "- 4) Overfitting"
   ]
  },
  {
   "cell_type": "markdown",
   "metadata": {},
   "source": [
    "____\n",
    "____\n",
    "____"
   ]
  },
  {
   "cell_type": "markdown",
   "metadata": {},
   "source": [
    "## 1) Introdução\n",
    "\n",
    "Imagine que você quer vender sua casa.\n",
    "\n",
    "Você sabe os atributos da sua casa: quantos cômodos têm, quantos carros cabem na garagem, qual é a área construída, qual sua localidade, etc.\n",
    "\n",
    "Agora, a pergunta é: qual seria o melhor preço pra você colocá-la a venda, ou seja, quanto de fato ela vale?\n",
    "\n",
    "Você pode solicitar a avaliação de um corretor de imóveis (contando com a experiência dele), ou então...\n",
    "\n",
    "...fazer um modelo de **Machine Learning**, que, com base nos atributos e preços de diversas outras casas, pode fazer uma **predição** sobre o preço adequado da sua casa!\n",
    "\n",
    "Para resolver este problema, podemos utilizar um dos mais simples e importantes algoritmos de machine learning: a **Regressão Linear!**\n",
    "\n",
    "____"
   ]
  },
  {
   "cell_type": "markdown",
   "metadata": {},
   "source": [
    "Para introduzirmos as ideias, vamos usar um [dataset de preço de casas](https://www.kaggle.com/c/house-prices-advanced-regression-techniques/data).\n",
    "\n",
    "Esta base de dados contém **79 features** (+ 1 ID), que são as características de cada uma das casas listadas; e **1 target**, que é o preço pelo qual aquela casa foi vendida.\n",
    "\n",
    "Por termos o target disponível, estamos trabalhando com um problema de **aprendizagem supervisionada**.\n",
    "\n",
    "Para o significado de cada uma das features, e os valores que elas podem assumir, veja a página acima.\n",
    "\n",
    "**Vamos ler a base e começar a explorá-la!**"
   ]
  },
  {
   "cell_type": "code",
   "execution_count": 1,
   "metadata": {
    "ExecuteTime": {
     "end_time": "2022-01-14T22:06:01.582992Z",
     "start_time": "2022-01-14T22:05:51.004427Z"
    }
   },
   "outputs": [],
   "source": [
    "# importe as principais bibliotecas de análise de dados\n",
    "import pandas as pd\n",
    "import numpy as np\n",
    "\n",
    "import matplotlib.pyplot as plt\n",
    "import seaborn as sns"
   ]
  },
  {
   "cell_type": "code",
   "execution_count": 2,
   "metadata": {
    "ExecuteTime": {
     "end_time": "2022-01-14T22:06:01.754617Z",
     "start_time": "2022-01-14T22:06:01.585000Z"
    }
   },
   "outputs": [],
   "source": [
    "# leia a base \"house_prices\"\n",
    "\n",
    "# # caminho absoluto\n",
    "# df = pd.read_csv(\"H:\\\\Meu Drive\\\\let's code\\\\pi_ds\\\\735\\\\modulo_9\\\\datasets\\\\house_prices.csv\")\n",
    "\n",
    "df = pd.read_csv(\"../datasets/house_prices.csv\")"
   ]
  },
  {
   "cell_type": "code",
   "execution_count": 3,
   "metadata": {
    "ExecuteTime": {
     "end_time": "2022-01-14T22:06:01.880529Z",
     "start_time": "2022-01-14T22:06:01.757579Z"
    }
   },
   "outputs": [
    {
     "data": {
      "text/html": [
       "<div>\n",
       "<style scoped>\n",
       "    .dataframe tbody tr th:only-of-type {\n",
       "        vertical-align: middle;\n",
       "    }\n",
       "\n",
       "    .dataframe tbody tr th {\n",
       "        vertical-align: top;\n",
       "    }\n",
       "\n",
       "    .dataframe thead th {\n",
       "        text-align: right;\n",
       "    }\n",
       "</style>\n",
       "<table border=\"1\" class=\"dataframe\">\n",
       "  <thead>\n",
       "    <tr style=\"text-align: right;\">\n",
       "      <th></th>\n",
       "      <th>Id</th>\n",
       "      <th>MSSubClass</th>\n",
       "      <th>MSZoning</th>\n",
       "      <th>LotFrontage</th>\n",
       "      <th>LotArea</th>\n",
       "      <th>Street</th>\n",
       "      <th>Alley</th>\n",
       "      <th>LotShape</th>\n",
       "      <th>LandContour</th>\n",
       "      <th>Utilities</th>\n",
       "      <th>...</th>\n",
       "      <th>PoolArea</th>\n",
       "      <th>PoolQC</th>\n",
       "      <th>Fence</th>\n",
       "      <th>MiscFeature</th>\n",
       "      <th>MiscVal</th>\n",
       "      <th>MoSold</th>\n",
       "      <th>YrSold</th>\n",
       "      <th>SaleType</th>\n",
       "      <th>SaleCondition</th>\n",
       "      <th>SalePrice</th>\n",
       "    </tr>\n",
       "  </thead>\n",
       "  <tbody>\n",
       "    <tr>\n",
       "      <th>0</th>\n",
       "      <td>1</td>\n",
       "      <td>60</td>\n",
       "      <td>RL</td>\n",
       "      <td>65.0</td>\n",
       "      <td>8450</td>\n",
       "      <td>Pave</td>\n",
       "      <td>NaN</td>\n",
       "      <td>Reg</td>\n",
       "      <td>Lvl</td>\n",
       "      <td>AllPub</td>\n",
       "      <td>...</td>\n",
       "      <td>0</td>\n",
       "      <td>NaN</td>\n",
       "      <td>NaN</td>\n",
       "      <td>NaN</td>\n",
       "      <td>0</td>\n",
       "      <td>2</td>\n",
       "      <td>2008</td>\n",
       "      <td>WD</td>\n",
       "      <td>Normal</td>\n",
       "      <td>208500</td>\n",
       "    </tr>\n",
       "    <tr>\n",
       "      <th>1</th>\n",
       "      <td>2</td>\n",
       "      <td>20</td>\n",
       "      <td>RL</td>\n",
       "      <td>80.0</td>\n",
       "      <td>9600</td>\n",
       "      <td>Pave</td>\n",
       "      <td>NaN</td>\n",
       "      <td>Reg</td>\n",
       "      <td>Lvl</td>\n",
       "      <td>AllPub</td>\n",
       "      <td>...</td>\n",
       "      <td>0</td>\n",
       "      <td>NaN</td>\n",
       "      <td>NaN</td>\n",
       "      <td>NaN</td>\n",
       "      <td>0</td>\n",
       "      <td>5</td>\n",
       "      <td>2007</td>\n",
       "      <td>WD</td>\n",
       "      <td>Normal</td>\n",
       "      <td>181500</td>\n",
       "    </tr>\n",
       "    <tr>\n",
       "      <th>2</th>\n",
       "      <td>3</td>\n",
       "      <td>60</td>\n",
       "      <td>RL</td>\n",
       "      <td>68.0</td>\n",
       "      <td>11250</td>\n",
       "      <td>Pave</td>\n",
       "      <td>NaN</td>\n",
       "      <td>IR1</td>\n",
       "      <td>Lvl</td>\n",
       "      <td>AllPub</td>\n",
       "      <td>...</td>\n",
       "      <td>0</td>\n",
       "      <td>NaN</td>\n",
       "      <td>NaN</td>\n",
       "      <td>NaN</td>\n",
       "      <td>0</td>\n",
       "      <td>9</td>\n",
       "      <td>2008</td>\n",
       "      <td>WD</td>\n",
       "      <td>Normal</td>\n",
       "      <td>223500</td>\n",
       "    </tr>\n",
       "    <tr>\n",
       "      <th>3</th>\n",
       "      <td>4</td>\n",
       "      <td>70</td>\n",
       "      <td>RL</td>\n",
       "      <td>60.0</td>\n",
       "      <td>9550</td>\n",
       "      <td>Pave</td>\n",
       "      <td>NaN</td>\n",
       "      <td>IR1</td>\n",
       "      <td>Lvl</td>\n",
       "      <td>AllPub</td>\n",
       "      <td>...</td>\n",
       "      <td>0</td>\n",
       "      <td>NaN</td>\n",
       "      <td>NaN</td>\n",
       "      <td>NaN</td>\n",
       "      <td>0</td>\n",
       "      <td>2</td>\n",
       "      <td>2006</td>\n",
       "      <td>WD</td>\n",
       "      <td>Abnorml</td>\n",
       "      <td>140000</td>\n",
       "    </tr>\n",
       "    <tr>\n",
       "      <th>4</th>\n",
       "      <td>5</td>\n",
       "      <td>60</td>\n",
       "      <td>RL</td>\n",
       "      <td>84.0</td>\n",
       "      <td>14260</td>\n",
       "      <td>Pave</td>\n",
       "      <td>NaN</td>\n",
       "      <td>IR1</td>\n",
       "      <td>Lvl</td>\n",
       "      <td>AllPub</td>\n",
       "      <td>...</td>\n",
       "      <td>0</td>\n",
       "      <td>NaN</td>\n",
       "      <td>NaN</td>\n",
       "      <td>NaN</td>\n",
       "      <td>0</td>\n",
       "      <td>12</td>\n",
       "      <td>2008</td>\n",
       "      <td>WD</td>\n",
       "      <td>Normal</td>\n",
       "      <td>250000</td>\n",
       "    </tr>\n",
       "    <tr>\n",
       "      <th>...</th>\n",
       "      <td>...</td>\n",
       "      <td>...</td>\n",
       "      <td>...</td>\n",
       "      <td>...</td>\n",
       "      <td>...</td>\n",
       "      <td>...</td>\n",
       "      <td>...</td>\n",
       "      <td>...</td>\n",
       "      <td>...</td>\n",
       "      <td>...</td>\n",
       "      <td>...</td>\n",
       "      <td>...</td>\n",
       "      <td>...</td>\n",
       "      <td>...</td>\n",
       "      <td>...</td>\n",
       "      <td>...</td>\n",
       "      <td>...</td>\n",
       "      <td>...</td>\n",
       "      <td>...</td>\n",
       "      <td>...</td>\n",
       "      <td>...</td>\n",
       "    </tr>\n",
       "    <tr>\n",
       "      <th>1455</th>\n",
       "      <td>1456</td>\n",
       "      <td>60</td>\n",
       "      <td>RL</td>\n",
       "      <td>62.0</td>\n",
       "      <td>7917</td>\n",
       "      <td>Pave</td>\n",
       "      <td>NaN</td>\n",
       "      <td>Reg</td>\n",
       "      <td>Lvl</td>\n",
       "      <td>AllPub</td>\n",
       "      <td>...</td>\n",
       "      <td>0</td>\n",
       "      <td>NaN</td>\n",
       "      <td>NaN</td>\n",
       "      <td>NaN</td>\n",
       "      <td>0</td>\n",
       "      <td>8</td>\n",
       "      <td>2007</td>\n",
       "      <td>WD</td>\n",
       "      <td>Normal</td>\n",
       "      <td>175000</td>\n",
       "    </tr>\n",
       "    <tr>\n",
       "      <th>1456</th>\n",
       "      <td>1457</td>\n",
       "      <td>20</td>\n",
       "      <td>RL</td>\n",
       "      <td>85.0</td>\n",
       "      <td>13175</td>\n",
       "      <td>Pave</td>\n",
       "      <td>NaN</td>\n",
       "      <td>Reg</td>\n",
       "      <td>Lvl</td>\n",
       "      <td>AllPub</td>\n",
       "      <td>...</td>\n",
       "      <td>0</td>\n",
       "      <td>NaN</td>\n",
       "      <td>MnPrv</td>\n",
       "      <td>NaN</td>\n",
       "      <td>0</td>\n",
       "      <td>2</td>\n",
       "      <td>2010</td>\n",
       "      <td>WD</td>\n",
       "      <td>Normal</td>\n",
       "      <td>210000</td>\n",
       "    </tr>\n",
       "    <tr>\n",
       "      <th>1457</th>\n",
       "      <td>1458</td>\n",
       "      <td>70</td>\n",
       "      <td>RL</td>\n",
       "      <td>66.0</td>\n",
       "      <td>9042</td>\n",
       "      <td>Pave</td>\n",
       "      <td>NaN</td>\n",
       "      <td>Reg</td>\n",
       "      <td>Lvl</td>\n",
       "      <td>AllPub</td>\n",
       "      <td>...</td>\n",
       "      <td>0</td>\n",
       "      <td>NaN</td>\n",
       "      <td>GdPrv</td>\n",
       "      <td>Shed</td>\n",
       "      <td>2500</td>\n",
       "      <td>5</td>\n",
       "      <td>2010</td>\n",
       "      <td>WD</td>\n",
       "      <td>Normal</td>\n",
       "      <td>266500</td>\n",
       "    </tr>\n",
       "    <tr>\n",
       "      <th>1458</th>\n",
       "      <td>1459</td>\n",
       "      <td>20</td>\n",
       "      <td>RL</td>\n",
       "      <td>68.0</td>\n",
       "      <td>9717</td>\n",
       "      <td>Pave</td>\n",
       "      <td>NaN</td>\n",
       "      <td>Reg</td>\n",
       "      <td>Lvl</td>\n",
       "      <td>AllPub</td>\n",
       "      <td>...</td>\n",
       "      <td>0</td>\n",
       "      <td>NaN</td>\n",
       "      <td>NaN</td>\n",
       "      <td>NaN</td>\n",
       "      <td>0</td>\n",
       "      <td>4</td>\n",
       "      <td>2010</td>\n",
       "      <td>WD</td>\n",
       "      <td>Normal</td>\n",
       "      <td>142125</td>\n",
       "    </tr>\n",
       "    <tr>\n",
       "      <th>1459</th>\n",
       "      <td>1460</td>\n",
       "      <td>20</td>\n",
       "      <td>RL</td>\n",
       "      <td>75.0</td>\n",
       "      <td>9937</td>\n",
       "      <td>Pave</td>\n",
       "      <td>NaN</td>\n",
       "      <td>Reg</td>\n",
       "      <td>Lvl</td>\n",
       "      <td>AllPub</td>\n",
       "      <td>...</td>\n",
       "      <td>0</td>\n",
       "      <td>NaN</td>\n",
       "      <td>NaN</td>\n",
       "      <td>NaN</td>\n",
       "      <td>0</td>\n",
       "      <td>6</td>\n",
       "      <td>2008</td>\n",
       "      <td>WD</td>\n",
       "      <td>Normal</td>\n",
       "      <td>147500</td>\n",
       "    </tr>\n",
       "  </tbody>\n",
       "</table>\n",
       "<p>1460 rows × 81 columns</p>\n",
       "</div>"
      ],
      "text/plain": [
       "        Id  MSSubClass MSZoning  LotFrontage  LotArea Street Alley LotShape  \\\n",
       "0        1          60       RL         65.0     8450   Pave   NaN      Reg   \n",
       "1        2          20       RL         80.0     9600   Pave   NaN      Reg   \n",
       "2        3          60       RL         68.0    11250   Pave   NaN      IR1   \n",
       "3        4          70       RL         60.0     9550   Pave   NaN      IR1   \n",
       "4        5          60       RL         84.0    14260   Pave   NaN      IR1   \n",
       "...    ...         ...      ...          ...      ...    ...   ...      ...   \n",
       "1455  1456          60       RL         62.0     7917   Pave   NaN      Reg   \n",
       "1456  1457          20       RL         85.0    13175   Pave   NaN      Reg   \n",
       "1457  1458          70       RL         66.0     9042   Pave   NaN      Reg   \n",
       "1458  1459          20       RL         68.0     9717   Pave   NaN      Reg   \n",
       "1459  1460          20       RL         75.0     9937   Pave   NaN      Reg   \n",
       "\n",
       "     LandContour Utilities  ... PoolArea PoolQC  Fence MiscFeature MiscVal  \\\n",
       "0            Lvl    AllPub  ...        0    NaN    NaN         NaN       0   \n",
       "1            Lvl    AllPub  ...        0    NaN    NaN         NaN       0   \n",
       "2            Lvl    AllPub  ...        0    NaN    NaN         NaN       0   \n",
       "3            Lvl    AllPub  ...        0    NaN    NaN         NaN       0   \n",
       "4            Lvl    AllPub  ...        0    NaN    NaN         NaN       0   \n",
       "...          ...       ...  ...      ...    ...    ...         ...     ...   \n",
       "1455         Lvl    AllPub  ...        0    NaN    NaN         NaN       0   \n",
       "1456         Lvl    AllPub  ...        0    NaN  MnPrv         NaN       0   \n",
       "1457         Lvl    AllPub  ...        0    NaN  GdPrv        Shed    2500   \n",
       "1458         Lvl    AllPub  ...        0    NaN    NaN         NaN       0   \n",
       "1459         Lvl    AllPub  ...        0    NaN    NaN         NaN       0   \n",
       "\n",
       "     MoSold YrSold  SaleType  SaleCondition  SalePrice  \n",
       "0         2   2008        WD         Normal     208500  \n",
       "1         5   2007        WD         Normal     181500  \n",
       "2         9   2008        WD         Normal     223500  \n",
       "3         2   2006        WD        Abnorml     140000  \n",
       "4        12   2008        WD         Normal     250000  \n",
       "...     ...    ...       ...            ...        ...  \n",
       "1455      8   2007        WD         Normal     175000  \n",
       "1456      2   2010        WD         Normal     210000  \n",
       "1457      5   2010        WD         Normal     266500  \n",
       "1458      4   2010        WD         Normal     142125  \n",
       "1459      6   2008        WD         Normal     147500  \n",
       "\n",
       "[1460 rows x 81 columns]"
      ]
     },
     "execution_count": 3,
     "metadata": {},
     "output_type": "execute_result"
    }
   ],
   "source": [
    "df"
   ]
  },
  {
   "cell_type": "code",
   "execution_count": 4,
   "metadata": {
    "ExecuteTime": {
     "end_time": "2022-01-14T22:06:01.927502Z",
     "start_time": "2022-01-14T22:06:01.885525Z"
    }
   },
   "outputs": [
    {
     "data": {
      "text/html": [
       "<div>\n",
       "<style scoped>\n",
       "    .dataframe tbody tr th:only-of-type {\n",
       "        vertical-align: middle;\n",
       "    }\n",
       "\n",
       "    .dataframe tbody tr th {\n",
       "        vertical-align: top;\n",
       "    }\n",
       "\n",
       "    .dataframe thead th {\n",
       "        text-align: right;\n",
       "    }\n",
       "</style>\n",
       "<table border=\"1\" class=\"dataframe\">\n",
       "  <thead>\n",
       "    <tr style=\"text-align: right;\">\n",
       "      <th></th>\n",
       "      <th>Id</th>\n",
       "      <th>MSSubClass</th>\n",
       "      <th>MSZoning</th>\n",
       "      <th>LotFrontage</th>\n",
       "      <th>LotArea</th>\n",
       "      <th>Street</th>\n",
       "      <th>Alley</th>\n",
       "      <th>LotShape</th>\n",
       "      <th>LandContour</th>\n",
       "      <th>Utilities</th>\n",
       "      <th>...</th>\n",
       "      <th>PoolArea</th>\n",
       "      <th>PoolQC</th>\n",
       "      <th>Fence</th>\n",
       "      <th>MiscFeature</th>\n",
       "      <th>MiscVal</th>\n",
       "      <th>MoSold</th>\n",
       "      <th>YrSold</th>\n",
       "      <th>SaleType</th>\n",
       "      <th>SaleCondition</th>\n",
       "      <th>SalePrice</th>\n",
       "    </tr>\n",
       "  </thead>\n",
       "  <tbody>\n",
       "    <tr>\n",
       "      <th>0</th>\n",
       "      <td>1</td>\n",
       "      <td>60</td>\n",
       "      <td>RL</td>\n",
       "      <td>65.0</td>\n",
       "      <td>8450</td>\n",
       "      <td>Pave</td>\n",
       "      <td>NaN</td>\n",
       "      <td>Reg</td>\n",
       "      <td>Lvl</td>\n",
       "      <td>AllPub</td>\n",
       "      <td>...</td>\n",
       "      <td>0</td>\n",
       "      <td>NaN</td>\n",
       "      <td>NaN</td>\n",
       "      <td>NaN</td>\n",
       "      <td>0</td>\n",
       "      <td>2</td>\n",
       "      <td>2008</td>\n",
       "      <td>WD</td>\n",
       "      <td>Normal</td>\n",
       "      <td>208500</td>\n",
       "    </tr>\n",
       "    <tr>\n",
       "      <th>1</th>\n",
       "      <td>2</td>\n",
       "      <td>20</td>\n",
       "      <td>RL</td>\n",
       "      <td>80.0</td>\n",
       "      <td>9600</td>\n",
       "      <td>Pave</td>\n",
       "      <td>NaN</td>\n",
       "      <td>Reg</td>\n",
       "      <td>Lvl</td>\n",
       "      <td>AllPub</td>\n",
       "      <td>...</td>\n",
       "      <td>0</td>\n",
       "      <td>NaN</td>\n",
       "      <td>NaN</td>\n",
       "      <td>NaN</td>\n",
       "      <td>0</td>\n",
       "      <td>5</td>\n",
       "      <td>2007</td>\n",
       "      <td>WD</td>\n",
       "      <td>Normal</td>\n",
       "      <td>181500</td>\n",
       "    </tr>\n",
       "    <tr>\n",
       "      <th>2</th>\n",
       "      <td>3</td>\n",
       "      <td>60</td>\n",
       "      <td>RL</td>\n",
       "      <td>68.0</td>\n",
       "      <td>11250</td>\n",
       "      <td>Pave</td>\n",
       "      <td>NaN</td>\n",
       "      <td>IR1</td>\n",
       "      <td>Lvl</td>\n",
       "      <td>AllPub</td>\n",
       "      <td>...</td>\n",
       "      <td>0</td>\n",
       "      <td>NaN</td>\n",
       "      <td>NaN</td>\n",
       "      <td>NaN</td>\n",
       "      <td>0</td>\n",
       "      <td>9</td>\n",
       "      <td>2008</td>\n",
       "      <td>WD</td>\n",
       "      <td>Normal</td>\n",
       "      <td>223500</td>\n",
       "    </tr>\n",
       "    <tr>\n",
       "      <th>3</th>\n",
       "      <td>4</td>\n",
       "      <td>70</td>\n",
       "      <td>RL</td>\n",
       "      <td>60.0</td>\n",
       "      <td>9550</td>\n",
       "      <td>Pave</td>\n",
       "      <td>NaN</td>\n",
       "      <td>IR1</td>\n",
       "      <td>Lvl</td>\n",
       "      <td>AllPub</td>\n",
       "      <td>...</td>\n",
       "      <td>0</td>\n",
       "      <td>NaN</td>\n",
       "      <td>NaN</td>\n",
       "      <td>NaN</td>\n",
       "      <td>0</td>\n",
       "      <td>2</td>\n",
       "      <td>2006</td>\n",
       "      <td>WD</td>\n",
       "      <td>Abnorml</td>\n",
       "      <td>140000</td>\n",
       "    </tr>\n",
       "    <tr>\n",
       "      <th>4</th>\n",
       "      <td>5</td>\n",
       "      <td>60</td>\n",
       "      <td>RL</td>\n",
       "      <td>84.0</td>\n",
       "      <td>14260</td>\n",
       "      <td>Pave</td>\n",
       "      <td>NaN</td>\n",
       "      <td>IR1</td>\n",
       "      <td>Lvl</td>\n",
       "      <td>AllPub</td>\n",
       "      <td>...</td>\n",
       "      <td>0</td>\n",
       "      <td>NaN</td>\n",
       "      <td>NaN</td>\n",
       "      <td>NaN</td>\n",
       "      <td>0</td>\n",
       "      <td>12</td>\n",
       "      <td>2008</td>\n",
       "      <td>WD</td>\n",
       "      <td>Normal</td>\n",
       "      <td>250000</td>\n",
       "    </tr>\n",
       "  </tbody>\n",
       "</table>\n",
       "<p>5 rows × 81 columns</p>\n",
       "</div>"
      ],
      "text/plain": [
       "   Id  MSSubClass MSZoning  LotFrontage  LotArea Street Alley LotShape  \\\n",
       "0   1          60       RL         65.0     8450   Pave   NaN      Reg   \n",
       "1   2          20       RL         80.0     9600   Pave   NaN      Reg   \n",
       "2   3          60       RL         68.0    11250   Pave   NaN      IR1   \n",
       "3   4          70       RL         60.0     9550   Pave   NaN      IR1   \n",
       "4   5          60       RL         84.0    14260   Pave   NaN      IR1   \n",
       "\n",
       "  LandContour Utilities  ... PoolArea PoolQC Fence MiscFeature MiscVal MoSold  \\\n",
       "0         Lvl    AllPub  ...        0    NaN   NaN         NaN       0      2   \n",
       "1         Lvl    AllPub  ...        0    NaN   NaN         NaN       0      5   \n",
       "2         Lvl    AllPub  ...        0    NaN   NaN         NaN       0      9   \n",
       "3         Lvl    AllPub  ...        0    NaN   NaN         NaN       0      2   \n",
       "4         Lvl    AllPub  ...        0    NaN   NaN         NaN       0     12   \n",
       "\n",
       "  YrSold  SaleType  SaleCondition  SalePrice  \n",
       "0   2008        WD         Normal     208500  \n",
       "1   2007        WD         Normal     181500  \n",
       "2   2008        WD         Normal     223500  \n",
       "3   2006        WD        Abnorml     140000  \n",
       "4   2008        WD         Normal     250000  \n",
       "\n",
       "[5 rows x 81 columns]"
      ]
     },
     "execution_count": 4,
     "metadata": {},
     "output_type": "execute_result"
    }
   ],
   "source": [
    "# dê uma olhada nas 5 primeiras linhas\n",
    "\n",
    "df.head()"
   ]
  },
  {
   "cell_type": "code",
   "execution_count": 5,
   "metadata": {
    "ExecuteTime": {
     "end_time": "2022-01-14T22:06:02.068420Z",
     "start_time": "2022-01-14T22:06:01.932499Z"
    },
    "scrolled": false
   },
   "outputs": [
    {
     "name": "stdout",
     "output_type": "stream",
     "text": [
      "<class 'pandas.core.frame.DataFrame'>\n",
      "RangeIndex: 1460 entries, 0 to 1459\n",
      "Data columns (total 81 columns):\n",
      " #   Column         Non-Null Count  Dtype  \n",
      "---  ------         --------------  -----  \n",
      " 0   Id             1460 non-null   int64  \n",
      " 1   MSSubClass     1460 non-null   int64  \n",
      " 2   MSZoning       1460 non-null   object \n",
      " 3   LotFrontage    1201 non-null   float64\n",
      " 4   LotArea        1460 non-null   int64  \n",
      " 5   Street         1460 non-null   object \n",
      " 6   Alley          91 non-null     object \n",
      " 7   LotShape       1460 non-null   object \n",
      " 8   LandContour    1460 non-null   object \n",
      " 9   Utilities      1460 non-null   object \n",
      " 10  LotConfig      1460 non-null   object \n",
      " 11  LandSlope      1460 non-null   object \n",
      " 12  Neighborhood   1460 non-null   object \n",
      " 13  Condition1     1460 non-null   object \n",
      " 14  Condition2     1460 non-null   object \n",
      " 15  BldgType       1460 non-null   object \n",
      " 16  HouseStyle     1460 non-null   object \n",
      " 17  OverallQual    1460 non-null   int64  \n",
      " 18  OverallCond    1460 non-null   int64  \n",
      " 19  YearBuilt      1460 non-null   int64  \n",
      " 20  YearRemodAdd   1460 non-null   int64  \n",
      " 21  RoofStyle      1460 non-null   object \n",
      " 22  RoofMatl       1460 non-null   object \n",
      " 23  Exterior1st    1460 non-null   object \n",
      " 24  Exterior2nd    1460 non-null   object \n",
      " 25  MasVnrType     1452 non-null   object \n",
      " 26  MasVnrArea     1452 non-null   float64\n",
      " 27  ExterQual      1460 non-null   object \n",
      " 28  ExterCond      1460 non-null   object \n",
      " 29  Foundation     1460 non-null   object \n",
      " 30  BsmtQual       1423 non-null   object \n",
      " 31  BsmtCond       1423 non-null   object \n",
      " 32  BsmtExposure   1422 non-null   object \n",
      " 33  BsmtFinType1   1423 non-null   object \n",
      " 34  BsmtFinSF1     1460 non-null   int64  \n",
      " 35  BsmtFinType2   1422 non-null   object \n",
      " 36  BsmtFinSF2     1460 non-null   int64  \n",
      " 37  BsmtUnfSF      1460 non-null   int64  \n",
      " 38  TotalBsmtSF    1460 non-null   int64  \n",
      " 39  Heating        1460 non-null   object \n",
      " 40  HeatingQC      1460 non-null   object \n",
      " 41  CentralAir     1460 non-null   object \n",
      " 42  Electrical     1459 non-null   object \n",
      " 43  1stFlrSF       1460 non-null   int64  \n",
      " 44  2ndFlrSF       1460 non-null   int64  \n",
      " 45  LowQualFinSF   1460 non-null   int64  \n",
      " 46  GrLivArea      1460 non-null   int64  \n",
      " 47  BsmtFullBath   1460 non-null   int64  \n",
      " 48  BsmtHalfBath   1460 non-null   int64  \n",
      " 49  FullBath       1460 non-null   int64  \n",
      " 50  HalfBath       1460 non-null   int64  \n",
      " 51  BedroomAbvGr   1460 non-null   int64  \n",
      " 52  KitchenAbvGr   1460 non-null   int64  \n",
      " 53  KitchenQual    1460 non-null   object \n",
      " 54  TotRmsAbvGrd   1460 non-null   int64  \n",
      " 55  Functional     1460 non-null   object \n",
      " 56  Fireplaces     1460 non-null   int64  \n",
      " 57  FireplaceQu    770 non-null    object \n",
      " 58  GarageType     1379 non-null   object \n",
      " 59  GarageYrBlt    1379 non-null   float64\n",
      " 60  GarageFinish   1379 non-null   object \n",
      " 61  GarageCars     1460 non-null   int64  \n",
      " 62  GarageArea     1460 non-null   int64  \n",
      " 63  GarageQual     1379 non-null   object \n",
      " 64  GarageCond     1379 non-null   object \n",
      " 65  PavedDrive     1460 non-null   object \n",
      " 66  WoodDeckSF     1460 non-null   int64  \n",
      " 67  OpenPorchSF    1460 non-null   int64  \n",
      " 68  EnclosedPorch  1460 non-null   int64  \n",
      " 69  3SsnPorch      1460 non-null   int64  \n",
      " 70  ScreenPorch    1460 non-null   int64  \n",
      " 71  PoolArea       1460 non-null   int64  \n",
      " 72  PoolQC         7 non-null      object \n",
      " 73  Fence          281 non-null    object \n",
      " 74  MiscFeature    54 non-null     object \n",
      " 75  MiscVal        1460 non-null   int64  \n",
      " 76  MoSold         1460 non-null   int64  \n",
      " 77  YrSold         1460 non-null   int64  \n",
      " 78  SaleType       1460 non-null   object \n",
      " 79  SaleCondition  1460 non-null   object \n",
      " 80  SalePrice      1460 non-null   int64  \n",
      "dtypes: float64(3), int64(35), object(43)\n",
      "memory usage: 924.0+ KB\n"
     ]
    }
   ],
   "source": [
    "# dê uma olhada na estrutura das colunas\n",
    "\n",
    "df.info()"
   ]
  },
  {
   "cell_type": "code",
   "execution_count": 6,
   "metadata": {
    "ExecuteTime": {
     "end_time": "2022-01-14T22:06:02.333276Z",
     "start_time": "2022-01-14T22:06:02.084413Z"
    }
   },
   "outputs": [
    {
     "data": {
      "text/html": [
       "<div>\n",
       "<style scoped>\n",
       "    .dataframe tbody tr th:only-of-type {\n",
       "        vertical-align: middle;\n",
       "    }\n",
       "\n",
       "    .dataframe tbody tr th {\n",
       "        vertical-align: top;\n",
       "    }\n",
       "\n",
       "    .dataframe thead th {\n",
       "        text-align: right;\n",
       "    }\n",
       "</style>\n",
       "<table border=\"1\" class=\"dataframe\">\n",
       "  <thead>\n",
       "    <tr style=\"text-align: right;\">\n",
       "      <th></th>\n",
       "      <th>Id</th>\n",
       "      <th>MSSubClass</th>\n",
       "      <th>LotFrontage</th>\n",
       "      <th>LotArea</th>\n",
       "      <th>OverallQual</th>\n",
       "      <th>OverallCond</th>\n",
       "      <th>YearBuilt</th>\n",
       "      <th>YearRemodAdd</th>\n",
       "      <th>MasVnrArea</th>\n",
       "      <th>BsmtFinSF1</th>\n",
       "      <th>...</th>\n",
       "      <th>WoodDeckSF</th>\n",
       "      <th>OpenPorchSF</th>\n",
       "      <th>EnclosedPorch</th>\n",
       "      <th>3SsnPorch</th>\n",
       "      <th>ScreenPorch</th>\n",
       "      <th>PoolArea</th>\n",
       "      <th>MiscVal</th>\n",
       "      <th>MoSold</th>\n",
       "      <th>YrSold</th>\n",
       "      <th>SalePrice</th>\n",
       "    </tr>\n",
       "  </thead>\n",
       "  <tbody>\n",
       "    <tr>\n",
       "      <th>count</th>\n",
       "      <td>1460.000000</td>\n",
       "      <td>1460.000000</td>\n",
       "      <td>1201.000000</td>\n",
       "      <td>1460.000000</td>\n",
       "      <td>1460.000000</td>\n",
       "      <td>1460.000000</td>\n",
       "      <td>1460.000000</td>\n",
       "      <td>1460.000000</td>\n",
       "      <td>1452.000000</td>\n",
       "      <td>1460.000000</td>\n",
       "      <td>...</td>\n",
       "      <td>1460.000000</td>\n",
       "      <td>1460.000000</td>\n",
       "      <td>1460.000000</td>\n",
       "      <td>1460.000000</td>\n",
       "      <td>1460.000000</td>\n",
       "      <td>1460.000000</td>\n",
       "      <td>1460.000000</td>\n",
       "      <td>1460.000000</td>\n",
       "      <td>1460.000000</td>\n",
       "      <td>1460.000000</td>\n",
       "    </tr>\n",
       "    <tr>\n",
       "      <th>mean</th>\n",
       "      <td>730.500000</td>\n",
       "      <td>56.897260</td>\n",
       "      <td>70.049958</td>\n",
       "      <td>10516.828082</td>\n",
       "      <td>6.099315</td>\n",
       "      <td>5.575342</td>\n",
       "      <td>1971.267808</td>\n",
       "      <td>1984.865753</td>\n",
       "      <td>103.685262</td>\n",
       "      <td>443.639726</td>\n",
       "      <td>...</td>\n",
       "      <td>94.244521</td>\n",
       "      <td>46.660274</td>\n",
       "      <td>21.954110</td>\n",
       "      <td>3.409589</td>\n",
       "      <td>15.060959</td>\n",
       "      <td>2.758904</td>\n",
       "      <td>43.489041</td>\n",
       "      <td>6.321918</td>\n",
       "      <td>2007.815753</td>\n",
       "      <td>180921.195890</td>\n",
       "    </tr>\n",
       "    <tr>\n",
       "      <th>std</th>\n",
       "      <td>421.610009</td>\n",
       "      <td>42.300571</td>\n",
       "      <td>24.284752</td>\n",
       "      <td>9981.264932</td>\n",
       "      <td>1.382997</td>\n",
       "      <td>1.112799</td>\n",
       "      <td>30.202904</td>\n",
       "      <td>20.645407</td>\n",
       "      <td>181.066207</td>\n",
       "      <td>456.098091</td>\n",
       "      <td>...</td>\n",
       "      <td>125.338794</td>\n",
       "      <td>66.256028</td>\n",
       "      <td>61.119149</td>\n",
       "      <td>29.317331</td>\n",
       "      <td>55.757415</td>\n",
       "      <td>40.177307</td>\n",
       "      <td>496.123024</td>\n",
       "      <td>2.703626</td>\n",
       "      <td>1.328095</td>\n",
       "      <td>79442.502883</td>\n",
       "    </tr>\n",
       "    <tr>\n",
       "      <th>min</th>\n",
       "      <td>1.000000</td>\n",
       "      <td>20.000000</td>\n",
       "      <td>21.000000</td>\n",
       "      <td>1300.000000</td>\n",
       "      <td>1.000000</td>\n",
       "      <td>1.000000</td>\n",
       "      <td>1872.000000</td>\n",
       "      <td>1950.000000</td>\n",
       "      <td>0.000000</td>\n",
       "      <td>0.000000</td>\n",
       "      <td>...</td>\n",
       "      <td>0.000000</td>\n",
       "      <td>0.000000</td>\n",
       "      <td>0.000000</td>\n",
       "      <td>0.000000</td>\n",
       "      <td>0.000000</td>\n",
       "      <td>0.000000</td>\n",
       "      <td>0.000000</td>\n",
       "      <td>1.000000</td>\n",
       "      <td>2006.000000</td>\n",
       "      <td>34900.000000</td>\n",
       "    </tr>\n",
       "    <tr>\n",
       "      <th>25%</th>\n",
       "      <td>365.750000</td>\n",
       "      <td>20.000000</td>\n",
       "      <td>59.000000</td>\n",
       "      <td>7553.500000</td>\n",
       "      <td>5.000000</td>\n",
       "      <td>5.000000</td>\n",
       "      <td>1954.000000</td>\n",
       "      <td>1967.000000</td>\n",
       "      <td>0.000000</td>\n",
       "      <td>0.000000</td>\n",
       "      <td>...</td>\n",
       "      <td>0.000000</td>\n",
       "      <td>0.000000</td>\n",
       "      <td>0.000000</td>\n",
       "      <td>0.000000</td>\n",
       "      <td>0.000000</td>\n",
       "      <td>0.000000</td>\n",
       "      <td>0.000000</td>\n",
       "      <td>5.000000</td>\n",
       "      <td>2007.000000</td>\n",
       "      <td>129975.000000</td>\n",
       "    </tr>\n",
       "    <tr>\n",
       "      <th>50%</th>\n",
       "      <td>730.500000</td>\n",
       "      <td>50.000000</td>\n",
       "      <td>69.000000</td>\n",
       "      <td>9478.500000</td>\n",
       "      <td>6.000000</td>\n",
       "      <td>5.000000</td>\n",
       "      <td>1973.000000</td>\n",
       "      <td>1994.000000</td>\n",
       "      <td>0.000000</td>\n",
       "      <td>383.500000</td>\n",
       "      <td>...</td>\n",
       "      <td>0.000000</td>\n",
       "      <td>25.000000</td>\n",
       "      <td>0.000000</td>\n",
       "      <td>0.000000</td>\n",
       "      <td>0.000000</td>\n",
       "      <td>0.000000</td>\n",
       "      <td>0.000000</td>\n",
       "      <td>6.000000</td>\n",
       "      <td>2008.000000</td>\n",
       "      <td>163000.000000</td>\n",
       "    </tr>\n",
       "    <tr>\n",
       "      <th>75%</th>\n",
       "      <td>1095.250000</td>\n",
       "      <td>70.000000</td>\n",
       "      <td>80.000000</td>\n",
       "      <td>11601.500000</td>\n",
       "      <td>7.000000</td>\n",
       "      <td>6.000000</td>\n",
       "      <td>2000.000000</td>\n",
       "      <td>2004.000000</td>\n",
       "      <td>166.000000</td>\n",
       "      <td>712.250000</td>\n",
       "      <td>...</td>\n",
       "      <td>168.000000</td>\n",
       "      <td>68.000000</td>\n",
       "      <td>0.000000</td>\n",
       "      <td>0.000000</td>\n",
       "      <td>0.000000</td>\n",
       "      <td>0.000000</td>\n",
       "      <td>0.000000</td>\n",
       "      <td>8.000000</td>\n",
       "      <td>2009.000000</td>\n",
       "      <td>214000.000000</td>\n",
       "    </tr>\n",
       "    <tr>\n",
       "      <th>max</th>\n",
       "      <td>1460.000000</td>\n",
       "      <td>190.000000</td>\n",
       "      <td>313.000000</td>\n",
       "      <td>215245.000000</td>\n",
       "      <td>10.000000</td>\n",
       "      <td>9.000000</td>\n",
       "      <td>2010.000000</td>\n",
       "      <td>2010.000000</td>\n",
       "      <td>1600.000000</td>\n",
       "      <td>5644.000000</td>\n",
       "      <td>...</td>\n",
       "      <td>857.000000</td>\n",
       "      <td>547.000000</td>\n",
       "      <td>552.000000</td>\n",
       "      <td>508.000000</td>\n",
       "      <td>480.000000</td>\n",
       "      <td>738.000000</td>\n",
       "      <td>15500.000000</td>\n",
       "      <td>12.000000</td>\n",
       "      <td>2010.000000</td>\n",
       "      <td>755000.000000</td>\n",
       "    </tr>\n",
       "  </tbody>\n",
       "</table>\n",
       "<p>8 rows × 38 columns</p>\n",
       "</div>"
      ],
      "text/plain": [
       "                Id   MSSubClass  LotFrontage        LotArea  OverallQual  \\\n",
       "count  1460.000000  1460.000000  1201.000000    1460.000000  1460.000000   \n",
       "mean    730.500000    56.897260    70.049958   10516.828082     6.099315   \n",
       "std     421.610009    42.300571    24.284752    9981.264932     1.382997   \n",
       "min       1.000000    20.000000    21.000000    1300.000000     1.000000   \n",
       "25%     365.750000    20.000000    59.000000    7553.500000     5.000000   \n",
       "50%     730.500000    50.000000    69.000000    9478.500000     6.000000   \n",
       "75%    1095.250000    70.000000    80.000000   11601.500000     7.000000   \n",
       "max    1460.000000   190.000000   313.000000  215245.000000    10.000000   \n",
       "\n",
       "       OverallCond    YearBuilt  YearRemodAdd   MasVnrArea   BsmtFinSF1  ...  \\\n",
       "count  1460.000000  1460.000000   1460.000000  1452.000000  1460.000000  ...   \n",
       "mean      5.575342  1971.267808   1984.865753   103.685262   443.639726  ...   \n",
       "std       1.112799    30.202904     20.645407   181.066207   456.098091  ...   \n",
       "min       1.000000  1872.000000   1950.000000     0.000000     0.000000  ...   \n",
       "25%       5.000000  1954.000000   1967.000000     0.000000     0.000000  ...   \n",
       "50%       5.000000  1973.000000   1994.000000     0.000000   383.500000  ...   \n",
       "75%       6.000000  2000.000000   2004.000000   166.000000   712.250000  ...   \n",
       "max       9.000000  2010.000000   2010.000000  1600.000000  5644.000000  ...   \n",
       "\n",
       "        WoodDeckSF  OpenPorchSF  EnclosedPorch    3SsnPorch  ScreenPorch  \\\n",
       "count  1460.000000  1460.000000    1460.000000  1460.000000  1460.000000   \n",
       "mean     94.244521    46.660274      21.954110     3.409589    15.060959   \n",
       "std     125.338794    66.256028      61.119149    29.317331    55.757415   \n",
       "min       0.000000     0.000000       0.000000     0.000000     0.000000   \n",
       "25%       0.000000     0.000000       0.000000     0.000000     0.000000   \n",
       "50%       0.000000    25.000000       0.000000     0.000000     0.000000   \n",
       "75%     168.000000    68.000000       0.000000     0.000000     0.000000   \n",
       "max     857.000000   547.000000     552.000000   508.000000   480.000000   \n",
       "\n",
       "          PoolArea       MiscVal       MoSold       YrSold      SalePrice  \n",
       "count  1460.000000   1460.000000  1460.000000  1460.000000    1460.000000  \n",
       "mean      2.758904     43.489041     6.321918  2007.815753  180921.195890  \n",
       "std      40.177307    496.123024     2.703626     1.328095   79442.502883  \n",
       "min       0.000000      0.000000     1.000000  2006.000000   34900.000000  \n",
       "25%       0.000000      0.000000     5.000000  2007.000000  129975.000000  \n",
       "50%       0.000000      0.000000     6.000000  2008.000000  163000.000000  \n",
       "75%       0.000000      0.000000     8.000000  2009.000000  214000.000000  \n",
       "max     738.000000  15500.000000    12.000000  2010.000000  755000.000000  \n",
       "\n",
       "[8 rows x 38 columns]"
      ]
     },
     "execution_count": 6,
     "metadata": {},
     "output_type": "execute_result"
    }
   ],
   "source": [
    "# algumas estatísticas rápidas?\n",
    "\n",
    "df.describe()"
   ]
  },
  {
   "cell_type": "code",
   "execution_count": 7,
   "metadata": {
    "ExecuteTime": {
     "end_time": "2022-01-14T22:06:02.364259Z",
     "start_time": "2022-01-14T22:06:02.340272Z"
    }
   },
   "outputs": [
    {
     "data": {
      "text/plain": [
       "count      1460.000000\n",
       "mean     180921.195890\n",
       "std       79442.502883\n",
       "min       34900.000000\n",
       "25%      129975.000000\n",
       "50%      163000.000000\n",
       "75%      214000.000000\n",
       "max      755000.000000\n",
       "Name: SalePrice, dtype: float64"
      ]
     },
     "execution_count": 7,
     "metadata": {},
     "output_type": "execute_result"
    }
   ],
   "source": [
    "df[\"SalePrice\"].describe()"
   ]
  },
  {
   "cell_type": "code",
   "execution_count": 8,
   "metadata": {
    "ExecuteTime": {
     "end_time": "2022-01-14T22:06:02.490187Z",
     "start_time": "2022-01-14T22:06:02.370255Z"
    }
   },
   "outputs": [],
   "source": [
    "# há dados missing?\n",
    "# use um heatmap, se preferir!\n",
    "\n",
    "nulos = df.isnull().sum()"
   ]
  },
  {
   "cell_type": "code",
   "execution_count": 9,
   "metadata": {
    "ExecuteTime": {
     "end_time": "2022-01-14T22:06:02.646793Z",
     "start_time": "2022-01-14T22:06:02.500181Z"
    }
   },
   "outputs": [
    {
     "data": {
      "text/plain": [
       "Id                 0\n",
       "MSSubClass         0\n",
       "MSZoning           0\n",
       "LotFrontage      259\n",
       "LotArea            0\n",
       "                ... \n",
       "MoSold             0\n",
       "YrSold             0\n",
       "SaleType           0\n",
       "SaleCondition      0\n",
       "SalePrice          0\n",
       "Length: 81, dtype: int64"
      ]
     },
     "execution_count": 9,
     "metadata": {},
     "output_type": "execute_result"
    }
   ],
   "source": [
    "nulos"
   ]
  },
  {
   "cell_type": "code",
   "execution_count": 10,
   "metadata": {
    "ExecuteTime": {
     "end_time": "2022-01-14T22:06:02.773906Z",
     "start_time": "2022-01-14T22:06:02.650787Z"
    }
   },
   "outputs": [],
   "source": [
    "nulos_pct = nulos/df.shape[0]"
   ]
  },
  {
   "cell_type": "code",
   "execution_count": 11,
   "metadata": {
    "ExecuteTime": {
     "end_time": "2022-01-14T22:06:02.883735Z",
     "start_time": "2022-01-14T22:06:02.776907Z"
    }
   },
   "outputs": [
    {
     "data": {
      "text/plain": [
       "Alley          0.937671\n",
       "PoolQC         0.995205\n",
       "Fence          0.807534\n",
       "MiscFeature    0.963014\n",
       "dtype: float64"
      ]
     },
     "execution_count": 11,
     "metadata": {},
     "output_type": "execute_result"
    }
   ],
   "source": [
    "nulos_pct[nulos_pct>0.5]"
   ]
  },
  {
   "cell_type": "code",
   "execution_count": 12,
   "metadata": {
    "ExecuteTime": {
     "end_time": "2022-01-14T22:06:02.977041Z",
     "start_time": "2022-01-14T22:06:02.886729Z"
    }
   },
   "outputs": [
    {
     "data": {
      "text/plain": [
       "LotFrontage     0.177397\n",
       "MasVnrType      0.005479\n",
       "MasVnrArea      0.005479\n",
       "BsmtQual        0.025342\n",
       "BsmtCond        0.025342\n",
       "BsmtExposure    0.026027\n",
       "BsmtFinType1    0.025342\n",
       "BsmtFinType2    0.026027\n",
       "Electrical      0.000685\n",
       "FireplaceQu     0.472603\n",
       "GarageType      0.055479\n",
       "GarageYrBlt     0.055479\n",
       "GarageFinish    0.055479\n",
       "GarageQual      0.055479\n",
       "GarageCond      0.055479\n",
       "dtype: float64"
      ]
     },
     "execution_count": 12,
     "metadata": {},
     "output_type": "execute_result"
    }
   ],
   "source": [
    "nulos_pct[(nulos_pct > 0) & (nulos_pct<0.5)]"
   ]
  },
  {
   "cell_type": "code",
   "execution_count": 13,
   "metadata": {
    "ExecuteTime": {
     "end_time": "2022-01-14T22:06:07.740031Z",
     "start_time": "2022-01-14T22:06:02.980036Z"
    }
   },
   "outputs": [
    {
     "data": {
      "text/plain": [
       "<AxesSubplot:>"
      ]
     },
     "execution_count": 13,
     "metadata": {},
     "output_type": "execute_result"
    },
    {
     "data": {
      "image/png": "[encoded data removed]",
      "text/plain": [
       "<Figure size 1440x1440 with 2 Axes>"
      ]
     },
     "metadata": {
      "needs_background": "light"
     },
     "output_type": "display_data"
    }
   ],
   "source": [
    "plt.figure(figsize=(20, 20))\n",
    "sns.heatmap(df.isnull())"
   ]
  },
  {
   "cell_type": "markdown",
   "metadata": {},
   "source": [
    "Por enquanto, não vamos nos preocupar com os dados missing, pois vamos usar apenas uma feature no nosso modelo inicial.\n",
    "\n",
    "Aproveite para depois explorar os dados da forma que quiser!\n",
    "\n",
    "Por enquanto, vamos dar uma olhada na coluna target!"
   ]
  },
  {
   "cell_type": "code",
   "execution_count": 14,
   "metadata": {
    "ExecuteTime": {
     "end_time": "2022-01-14T22:06:08.412647Z",
     "start_time": "2022-01-14T22:06:07.743030Z"
    }
   },
   "outputs": [
    {
     "data": {
      "text/plain": [
       "<AxesSubplot:xlabel='SalePrice', ylabel='Count'>"
      ]
     },
     "execution_count": 14,
     "metadata": {},
     "output_type": "execute_result"
    },
    {
     "data": {
      "image/png": "[encoded data removed]",
      "text/plain": [
       "<Figure size 432x288 with 1 Axes>"
      ]
     },
     "metadata": {
      "needs_background": "light"
     },
     "output_type": "display_data"
    }
   ],
   "source": [
    "# dê uma olhada na distribuição dos preços \"SalePrice\"\n",
    "\n",
    "sns.histplot(data=df, x=\"SalePrice\", kde=True)"
   ]
  },
  {
   "cell_type": "code",
   "execution_count": 15,
   "metadata": {
    "ExecuteTime": {
     "end_time": "2022-01-14T22:06:08.442630Z",
     "start_time": "2022-01-14T22:06:08.417644Z"
    }
   },
   "outputs": [
    {
     "data": {
      "text/plain": [
       "1.8828757597682129"
      ]
     },
     "execution_count": 15,
     "metadata": {},
     "output_type": "execute_result"
    }
   ],
   "source": [
    "df[\"SalePrice\"].skew()"
   ]
  },
  {
   "cell_type": "markdown",
   "metadata": {},
   "source": [
    "Tomar o log de distribuições enviesadas tende a diminuir o desvio:"
   ]
  },
  {
   "cell_type": "code",
   "execution_count": 16,
   "metadata": {
    "ExecuteTime": {
     "end_time": "2022-01-14T22:06:08.505593Z",
     "start_time": "2022-01-14T22:06:08.446627Z"
    }
   },
   "outputs": [],
   "source": [
    "df[\"Log_Price\"] = np.log10(df[\"SalePrice\"])"
   ]
  },
  {
   "cell_type": "code",
   "execution_count": 17,
   "metadata": {
    "ExecuteTime": {
     "end_time": "2022-01-14T22:06:08.945343Z",
     "start_time": "2022-01-14T22:06:08.520590Z"
    }
   },
   "outputs": [
    {
     "data": {
      "text/plain": [
       "<AxesSubplot:xlabel='Log_Price', ylabel='Count'>"
      ]
     },
     "execution_count": 17,
     "metadata": {},
     "output_type": "execute_result"
    },
    {
     "data": {
      "image/png": "[encoded data removed]",
      "text/plain": [
       "<Figure size 432x288 with 1 Axes>"
      ]
     },
     "metadata": {
      "needs_background": "light"
     },
     "output_type": "display_data"
    }
   ],
   "source": [
    "sns.histplot(data=df, x=\"Log_Price\", kde=True)"
   ]
  },
  {
   "cell_type": "code",
   "execution_count": 18,
   "metadata": {
    "ExecuteTime": {
     "end_time": "2022-01-14T22:06:08.961334Z",
     "start_time": "2022-01-14T22:06:08.948342Z"
    }
   },
   "outputs": [
    {
     "data": {
      "text/plain": [
       "0.12133506220521131"
      ]
     },
     "execution_count": 18,
     "metadata": {},
     "output_type": "execute_result"
    }
   ],
   "source": [
    "df[\"Log_Price\"].skew()"
   ]
  },
  {
   "cell_type": "markdown",
   "metadata": {},
   "source": [
    "Fica evidente que a distribuição é desviada para a direita.\n",
    "\n",
    "Vamos tentar alterar isso na próximas versões do modelo para ver se teremos ganhos de performance!\n",
    "\n",
    "Por enquanto, seguimos assim."
   ]
  },
  {
   "cell_type": "code",
   "execution_count": 19,
   "metadata": {
    "ExecuteTime": {
     "end_time": "2022-01-14T22:06:09.321210Z",
     "start_time": "2022-01-14T22:06:08.964332Z"
    },
    "scrolled": true
   },
   "outputs": [],
   "source": [
    "# Dê uma olhada na correlação entre as variáveis\n",
    "\n",
    "correlacao = df.corr(method=\"spearman\")"
   ]
  },
  {
   "cell_type": "code",
   "execution_count": 20,
   "metadata": {
    "ExecuteTime": {
     "end_time": "2022-01-14T22:06:09.384173Z",
     "start_time": "2022-01-14T22:06:09.328209Z"
    }
   },
   "outputs": [
    {
     "data": {
      "text/html": [
       "<div>\n",
       "<style scoped>\n",
       "    .dataframe tbody tr th:only-of-type {\n",
       "        vertical-align: middle;\n",
       "    }\n",
       "\n",
       "    .dataframe tbody tr th {\n",
       "        vertical-align: top;\n",
       "    }\n",
       "\n",
       "    .dataframe thead th {\n",
       "        text-align: right;\n",
       "    }\n",
       "</style>\n",
       "<table border=\"1\" class=\"dataframe\">\n",
       "  <thead>\n",
       "    <tr style=\"text-align: right;\">\n",
       "      <th></th>\n",
       "      <th>Id</th>\n",
       "      <th>MSSubClass</th>\n",
       "      <th>LotFrontage</th>\n",
       "      <th>LotArea</th>\n",
       "      <th>OverallQual</th>\n",
       "      <th>OverallCond</th>\n",
       "      <th>YearBuilt</th>\n",
       "      <th>YearRemodAdd</th>\n",
       "      <th>MasVnrArea</th>\n",
       "      <th>BsmtFinSF1</th>\n",
       "      <th>...</th>\n",
       "      <th>OpenPorchSF</th>\n",
       "      <th>EnclosedPorch</th>\n",
       "      <th>3SsnPorch</th>\n",
       "      <th>ScreenPorch</th>\n",
       "      <th>PoolArea</th>\n",
       "      <th>MiscVal</th>\n",
       "      <th>MoSold</th>\n",
       "      <th>YrSold</th>\n",
       "      <th>SalePrice</th>\n",
       "      <th>Log_Price</th>\n",
       "    </tr>\n",
       "  </thead>\n",
       "  <tbody>\n",
       "    <tr>\n",
       "      <th>Id</th>\n",
       "      <td>1.000000</td>\n",
       "      <td>0.019226</td>\n",
       "      <td>-0.033335</td>\n",
       "      <td>-0.005364</td>\n",
       "      <td>-0.028771</td>\n",
       "      <td>0.003622</td>\n",
       "      <td>-0.005130</td>\n",
       "      <td>-0.011680</td>\n",
       "      <td>-0.035507</td>\n",
       "      <td>-0.013038</td>\n",
       "      <td>...</td>\n",
       "      <td>-0.003225</td>\n",
       "      <td>-0.006758</td>\n",
       "      <td>-0.036706</td>\n",
       "      <td>0.005962</td>\n",
       "      <td>0.055555</td>\n",
       "      <td>-0.043383</td>\n",
       "      <td>0.019018</td>\n",
       "      <td>0.001526</td>\n",
       "      <td>-0.018546</td>\n",
       "      <td>-0.018546</td>\n",
       "    </tr>\n",
       "    <tr>\n",
       "      <th>MSSubClass</th>\n",
       "      <td>0.019226</td>\n",
       "      <td>1.000000</td>\n",
       "      <td>-0.314265</td>\n",
       "      <td>-0.269570</td>\n",
       "      <td>0.108065</td>\n",
       "      <td>-0.071770</td>\n",
       "      <td>0.035848</td>\n",
       "      <td>0.006802</td>\n",
       "      <td>0.025035</td>\n",
       "      <td>-0.107629</td>\n",
       "      <td>...</td>\n",
       "      <td>0.031900</td>\n",
       "      <td>0.011023</td>\n",
       "      <td>-0.035830</td>\n",
       "      <td>-0.021673</td>\n",
       "      <td>0.033250</td>\n",
       "      <td>-0.032840</td>\n",
       "      <td>0.018403</td>\n",
       "      <td>-0.027401</td>\n",
       "      <td>0.007192</td>\n",
       "      <td>0.007192</td>\n",
       "    </tr>\n",
       "    <tr>\n",
       "      <th>LotFrontage</th>\n",
       "      <td>-0.033335</td>\n",
       "      <td>-0.314265</td>\n",
       "      <td>1.000000</td>\n",
       "      <td>0.649633</td>\n",
       "      <td>0.254952</td>\n",
       "      <td>-0.083242</td>\n",
       "      <td>0.194510</td>\n",
       "      <td>0.116772</td>\n",
       "      <td>0.258906</td>\n",
       "      <td>0.154014</td>\n",
       "      <td>...</td>\n",
       "      <td>0.178073</td>\n",
       "      <td>-0.095811</td>\n",
       "      <td>0.063960</td>\n",
       "      <td>0.043849</td>\n",
       "      <td>0.084534</td>\n",
       "      <td>0.024198</td>\n",
       "      <td>0.025758</td>\n",
       "      <td>0.003461</td>\n",
       "      <td>0.409076</td>\n",
       "      <td>0.409076</td>\n",
       "    </tr>\n",
       "    <tr>\n",
       "      <th>LotArea</th>\n",
       "      <td>-0.005364</td>\n",
       "      <td>-0.269570</td>\n",
       "      <td>0.649633</td>\n",
       "      <td>1.000000</td>\n",
       "      <td>0.233303</td>\n",
       "      <td>-0.046912</td>\n",
       "      <td>0.103385</td>\n",
       "      <td>0.075158</td>\n",
       "      <td>0.177539</td>\n",
       "      <td>0.171995</td>\n",
       "      <td>...</td>\n",
       "      <td>0.176965</td>\n",
       "      <td>-0.066563</td>\n",
       "      <td>0.062282</td>\n",
       "      <td>0.092316</td>\n",
       "      <td>0.084460</td>\n",
       "      <td>0.059297</td>\n",
       "      <td>0.006423</td>\n",
       "      <td>-0.027473</td>\n",
       "      <td>0.456461</td>\n",
       "      <td>0.456461</td>\n",
       "    </tr>\n",
       "    <tr>\n",
       "      <th>OverallQual</th>\n",
       "      <td>-0.028771</td>\n",
       "      <td>0.108065</td>\n",
       "      <td>0.254952</td>\n",
       "      <td>0.233303</td>\n",
       "      <td>1.000000</td>\n",
       "      <td>-0.177521</td>\n",
       "      <td>0.647392</td>\n",
       "      <td>0.557723</td>\n",
       "      <td>0.413500</td>\n",
       "      <td>0.132957</td>\n",
       "      <td>...</td>\n",
       "      <td>0.435046</td>\n",
       "      <td>-0.162434</td>\n",
       "      <td>0.032903</td>\n",
       "      <td>0.046335</td>\n",
       "      <td>0.056667</td>\n",
       "      <td>-0.088019</td>\n",
       "      <td>0.061455</td>\n",
       "      <td>-0.025464</td>\n",
       "      <td>0.809829</td>\n",
       "      <td>0.809829</td>\n",
       "    </tr>\n",
       "    <tr>\n",
       "      <th>OverallCond</th>\n",
       "      <td>0.003622</td>\n",
       "      <td>-0.071770</td>\n",
       "      <td>-0.083242</td>\n",
       "      <td>-0.046912</td>\n",
       "      <td>-0.177521</td>\n",
       "      <td>1.000000</td>\n",
       "      <td>-0.416964</td>\n",
       "      <td>-0.041464</td>\n",
       "      <td>-0.179187</td>\n",
       "      <td>-0.011087</td>\n",
       "      <td>...</td>\n",
       "      <td>-0.133284</td>\n",
       "      <td>0.109749</td>\n",
       "      <td>0.032384</td>\n",
       "      <td>0.074728</td>\n",
       "      <td>-0.005605</td>\n",
       "      <td>0.086625</td>\n",
       "      <td>-0.007203</td>\n",
       "      <td>0.050214</td>\n",
       "      <td>-0.129325</td>\n",
       "      <td>-0.129325</td>\n",
       "    </tr>\n",
       "    <tr>\n",
       "      <th>YearBuilt</th>\n",
       "      <td>-0.005130</td>\n",
       "      <td>0.035848</td>\n",
       "      <td>0.194510</td>\n",
       "      <td>0.103385</td>\n",
       "      <td>0.647392</td>\n",
       "      <td>-0.416964</td>\n",
       "      <td>1.000000</td>\n",
       "      <td>0.684388</td>\n",
       "      <td>0.402349</td>\n",
       "      <td>0.189645</td>\n",
       "      <td>...</td>\n",
       "      <td>0.392691</td>\n",
       "      <td>-0.408622</td>\n",
       "      <td>0.022498</td>\n",
       "      <td>-0.073119</td>\n",
       "      <td>0.008986</td>\n",
       "      <td>-0.091786</td>\n",
       "      <td>0.018621</td>\n",
       "      <td>-0.014100</td>\n",
       "      <td>0.652682</td>\n",
       "      <td>0.652682</td>\n",
       "    </tr>\n",
       "    <tr>\n",
       "      <th>YearRemodAdd</th>\n",
       "      <td>-0.011680</td>\n",
       "      <td>0.006802</td>\n",
       "      <td>0.116772</td>\n",
       "      <td>0.075158</td>\n",
       "      <td>0.557723</td>\n",
       "      <td>-0.041464</td>\n",
       "      <td>0.684388</td>\n",
       "      <td>1.000000</td>\n",
       "      <td>0.234333</td>\n",
       "      <td>0.063353</td>\n",
       "      <td>...</td>\n",
       "      <td>0.353325</td>\n",
       "      <td>-0.235037</td>\n",
       "      <td>0.051694</td>\n",
       "      <td>-0.045808</td>\n",
       "      <td>0.002821</td>\n",
       "      <td>-0.090868</td>\n",
       "      <td>0.021081</td>\n",
       "      <td>0.045158</td>\n",
       "      <td>0.571159</td>\n",
       "      <td>0.571159</td>\n",
       "    </tr>\n",
       "    <tr>\n",
       "      <th>MasVnrArea</th>\n",
       "      <td>-0.035507</td>\n",
       "      <td>0.025035</td>\n",
       "      <td>0.258906</td>\n",
       "      <td>0.177539</td>\n",
       "      <td>0.413500</td>\n",
       "      <td>-0.179187</td>\n",
       "      <td>0.402349</td>\n",
       "      <td>0.234333</td>\n",
       "      <td>1.000000</td>\n",
       "      <td>0.241565</td>\n",
       "      <td>...</td>\n",
       "      <td>0.208681</td>\n",
       "      <td>-0.179589</td>\n",
       "      <td>0.040997</td>\n",
       "      <td>0.038171</td>\n",
       "      <td>0.004863</td>\n",
       "      <td>-0.050279</td>\n",
       "      <td>0.017732</td>\n",
       "      <td>0.000552</td>\n",
       "      <td>0.421309</td>\n",
       "      <td>0.421309</td>\n",
       "    </tr>\n",
       "    <tr>\n",
       "      <th>BsmtFinSF1</th>\n",
       "      <td>-0.013038</td>\n",
       "      <td>-0.107629</td>\n",
       "      <td>0.154014</td>\n",
       "      <td>0.171995</td>\n",
       "      <td>0.132957</td>\n",
       "      <td>-0.011087</td>\n",
       "      <td>0.189645</td>\n",
       "      <td>0.063353</td>\n",
       "      <td>0.241565</td>\n",
       "      <td>1.000000</td>\n",
       "      <td>...</td>\n",
       "      <td>0.081420</td>\n",
       "      <td>-0.148339</td>\n",
       "      <td>0.046802</td>\n",
       "      <td>0.071989</td>\n",
       "      <td>0.057586</td>\n",
       "      <td>0.005097</td>\n",
       "      <td>-0.016405</td>\n",
       "      <td>0.020793</td>\n",
       "      <td>0.301871</td>\n",
       "      <td>0.301871</td>\n",
       "    </tr>\n",
       "    <tr>\n",
       "      <th>BsmtFinSF2</th>\n",
       "      <td>-0.006736</td>\n",
       "      <td>-0.083871</td>\n",
       "      <td>0.052516</td>\n",
       "      <td>0.072019</td>\n",
       "      <td>-0.117560</td>\n",
       "      <td>0.102471</td>\n",
       "      <td>-0.111692</td>\n",
       "      <td>-0.126086</td>\n",
       "      <td>-0.061342</td>\n",
       "      <td>0.050398</td>\n",
       "      <td>...</td>\n",
       "      <td>-0.068991</td>\n",
       "      <td>0.041524</td>\n",
       "      <td>-0.016079</td>\n",
       "      <td>0.058716</td>\n",
       "      <td>0.068076</td>\n",
       "      <td>0.030363</td>\n",
       "      <td>-0.025808</td>\n",
       "      <td>0.026054</td>\n",
       "      <td>-0.038806</td>\n",
       "      <td>-0.038806</td>\n",
       "    </tr>\n",
       "    <tr>\n",
       "      <th>BsmtUnfSF</th>\n",
       "      <td>-0.009509</td>\n",
       "      <td>-0.117603</td>\n",
       "      <td>0.119436</td>\n",
       "      <td>0.077830</td>\n",
       "      <td>0.272939</td>\n",
       "      <td>-0.128270</td>\n",
       "      <td>0.139014</td>\n",
       "      <td>0.176921</td>\n",
       "      <td>0.075561</td>\n",
       "      <td>-0.573638</td>\n",
       "      <td>...</td>\n",
       "      <td>0.156127</td>\n",
       "      <td>0.044242</td>\n",
       "      <td>0.013418</td>\n",
       "      <td>-0.012447</td>\n",
       "      <td>-0.036809</td>\n",
       "      <td>-0.044460</td>\n",
       "      <td>0.037116</td>\n",
       "      <td>-0.038552</td>\n",
       "      <td>0.185197</td>\n",
       "      <td>0.185197</td>\n",
       "    </tr>\n",
       "    <tr>\n",
       "      <th>TotalBsmtSF</th>\n",
       "      <td>-0.033187</td>\n",
       "      <td>-0.318897</td>\n",
       "      <td>0.386206</td>\n",
       "      <td>0.366197</td>\n",
       "      <td>0.459915</td>\n",
       "      <td>-0.217375</td>\n",
       "      <td>0.427187</td>\n",
       "      <td>0.299042</td>\n",
       "      <td>0.360104</td>\n",
       "      <td>0.410413</td>\n",
       "      <td>...</td>\n",
       "      <td>0.270321</td>\n",
       "      <td>-0.171538</td>\n",
       "      <td>0.049173</td>\n",
       "      <td>0.088690</td>\n",
       "      <td>0.047067</td>\n",
       "      <td>-0.061180</td>\n",
       "      <td>0.030340</td>\n",
       "      <td>-0.016530</td>\n",
       "      <td>0.602725</td>\n",
       "      <td>0.602725</td>\n",
       "    </tr>\n",
       "    <tr>\n",
       "      <th>1stFlrSF</th>\n",
       "      <td>-0.000616</td>\n",
       "      <td>-0.278318</td>\n",
       "      <td>0.427678</td>\n",
       "      <td>0.443858</td>\n",
       "      <td>0.408730</td>\n",
       "      <td>-0.166686</td>\n",
       "      <td>0.293363</td>\n",
       "      <td>0.240265</td>\n",
       "      <td>0.352351</td>\n",
       "      <td>0.323478</td>\n",
       "      <td>...</td>\n",
       "      <td>0.234713</td>\n",
       "      <td>-0.129189</td>\n",
       "      <td>0.060195</td>\n",
       "      <td>0.107512</td>\n",
       "      <td>0.070557</td>\n",
       "      <td>-0.033219</td>\n",
       "      <td>0.053828</td>\n",
       "      <td>-0.022411</td>\n",
       "      <td>0.575408</td>\n",
       "      <td>0.575408</td>\n",
       "    </tr>\n",
       "    <tr>\n",
       "      <th>2ndFlrSF</th>\n",
       "      <td>0.009455</td>\n",
       "      <td>0.487749</td>\n",
       "      <td>0.055111</td>\n",
       "      <td>0.119356</td>\n",
       "      <td>0.289561</td>\n",
       "      <td>0.001111</td>\n",
       "      <td>0.029716</td>\n",
       "      <td>0.073049</td>\n",
       "      <td>0.063162</td>\n",
       "      <td>-0.191236</td>\n",
       "      <td>...</td>\n",
       "      <td>0.225121</td>\n",
       "      <td>0.045793</td>\n",
       "      <td>-0.022861</td>\n",
       "      <td>0.012173</td>\n",
       "      <td>0.061376</td>\n",
       "      <td>-0.005313</td>\n",
       "      <td>0.043437</td>\n",
       "      <td>-0.021784</td>\n",
       "      <td>0.293598</td>\n",
       "      <td>0.293598</td>\n",
       "    </tr>\n",
       "    <tr>\n",
       "      <th>LowQualFinSF</th>\n",
       "      <td>-0.028463</td>\n",
       "      <td>0.075794</td>\n",
       "      <td>-0.030230</td>\n",
       "      <td>-0.020255</td>\n",
       "      <td>-0.034029</td>\n",
       "      <td>0.039556</td>\n",
       "      <td>-0.145936</td>\n",
       "      <td>-0.064542</td>\n",
       "      <td>-0.106994</td>\n",
       "      <td>-0.079054</td>\n",
       "      <td>...</td>\n",
       "      <td>0.010320</td>\n",
       "      <td>0.047547</td>\n",
       "      <td>0.022432</td>\n",
       "      <td>-0.018578</td>\n",
       "      <td>0.065675</td>\n",
       "      <td>0.029123</td>\n",
       "      <td>-0.003645</td>\n",
       "      <td>-0.035395</td>\n",
       "      <td>-0.067719</td>\n",
       "      <td>-0.067719</td>\n",
       "    </tr>\n",
       "    <tr>\n",
       "      <th>GrLivArea</th>\n",
       "      <td>0.002812</td>\n",
       "      <td>0.203576</td>\n",
       "      <td>0.375844</td>\n",
       "      <td>0.449040</td>\n",
       "      <td>0.603262</td>\n",
       "      <td>-0.153720</td>\n",
       "      <td>0.288493</td>\n",
       "      <td>0.282400</td>\n",
       "      <td>0.322678</td>\n",
       "      <td>0.057471</td>\n",
       "      <td>...</td>\n",
       "      <td>0.398312</td>\n",
       "      <td>-0.049057</td>\n",
       "      <td>0.033912</td>\n",
       "      <td>0.085630</td>\n",
       "      <td>0.068298</td>\n",
       "      <td>-0.048969</td>\n",
       "      <td>0.080705</td>\n",
       "      <td>-0.026256</td>\n",
       "      <td>0.731310</td>\n",
       "      <td>0.731310</td>\n",
       "    </tr>\n",
       "    <tr>\n",
       "      <th>BsmtFullBath</th>\n",
       "      <td>0.004662</td>\n",
       "      <td>-0.042017</td>\n",
       "      <td>0.085990</td>\n",
       "      <td>0.095609</td>\n",
       "      <td>0.098034</td>\n",
       "      <td>-0.052676</td>\n",
       "      <td>0.162080</td>\n",
       "      <td>0.099904</td>\n",
       "      <td>0.121004</td>\n",
       "      <td>0.674175</td>\n",
       "      <td>...</td>\n",
       "      <td>0.085672</td>\n",
       "      <td>-0.073447</td>\n",
       "      <td>0.010204</td>\n",
       "      <td>0.030253</td>\n",
       "      <td>0.069112</td>\n",
       "      <td>-0.006701</td>\n",
       "      <td>-0.026924</td>\n",
       "      <td>0.062829</td>\n",
       "      <td>0.225125</td>\n",
       "      <td>0.225125</td>\n",
       "    </tr>\n",
       "    <tr>\n",
       "      <th>BsmtHalfBath</th>\n",
       "      <td>-0.021475</td>\n",
       "      <td>0.002480</td>\n",
       "      <td>-0.003854</td>\n",
       "      <td>0.045970</td>\n",
       "      <td>-0.050598</td>\n",
       "      <td>0.116015</td>\n",
       "      <td>-0.066313</td>\n",
       "      <td>-0.031495</td>\n",
       "      <td>0.032870</td>\n",
       "      <td>0.090712</td>\n",
       "      <td>...</td>\n",
       "      <td>-0.040500</td>\n",
       "      <td>-0.036800</td>\n",
       "      <td>0.061530</td>\n",
       "      <td>0.037936</td>\n",
       "      <td>0.025957</td>\n",
       "      <td>0.032481</td>\n",
       "      <td>0.036662</td>\n",
       "      <td>-0.040726</td>\n",
       "      <td>-0.012189</td>\n",
       "      <td>-0.012189</td>\n",
       "    </tr>\n",
       "    <tr>\n",
       "      <th>FullBath</th>\n",
       "      <td>0.007269</td>\n",
       "      <td>0.194912</td>\n",
       "      <td>0.220234</td>\n",
       "      <td>0.235377</td>\n",
       "      <td>0.576372</td>\n",
       "      <td>-0.262400</td>\n",
       "      <td>0.537420</td>\n",
       "      <td>0.431390</td>\n",
       "      <td>0.290366</td>\n",
       "      <td>0.011986</td>\n",
       "      <td>...</td>\n",
       "      <td>0.370152</td>\n",
       "      <td>-0.159420</td>\n",
       "      <td>0.037323</td>\n",
       "      <td>-0.037236</td>\n",
       "      <td>0.042212</td>\n",
       "      <td>-0.048728</td>\n",
       "      <td>0.066774</td>\n",
       "      <td>-0.012144</td>\n",
       "      <td>0.635957</td>\n",
       "      <td>0.635957</td>\n",
       "    </tr>\n",
       "    <tr>\n",
       "      <th>HalfBath</th>\n",
       "      <td>0.002564</td>\n",
       "      <td>0.282632</td>\n",
       "      <td>0.096777</td>\n",
       "      <td>0.142658</td>\n",
       "      <td>0.298455</td>\n",
       "      <td>-0.071342</td>\n",
       "      <td>0.244901</td>\n",
       "      <td>0.151562</td>\n",
       "      <td>0.168776</td>\n",
       "      <td>-0.013907</td>\n",
       "      <td>...</td>\n",
       "      <td>0.267980</td>\n",
       "      <td>-0.127763</td>\n",
       "      <td>-0.000677</td>\n",
       "      <td>0.059158</td>\n",
       "      <td>0.027421</td>\n",
       "      <td>-0.032966</td>\n",
       "      <td>-0.004893</td>\n",
       "      <td>-0.011280</td>\n",
       "      <td>0.343008</td>\n",
       "      <td>0.343008</td>\n",
       "    </tr>\n",
       "    <tr>\n",
       "      <th>BedroomAbvGr</th>\n",
       "      <td>0.041650</td>\n",
       "      <td>0.068763</td>\n",
       "      <td>0.327679</td>\n",
       "      <td>0.337788</td>\n",
       "      <td>0.121517</td>\n",
       "      <td>-0.003713</td>\n",
       "      <td>-0.035257</td>\n",
       "      <td>-0.054371</td>\n",
       "      <td>0.113137</td>\n",
       "      <td>-0.084164</td>\n",
       "      <td>...</td>\n",
       "      <td>0.099832</td>\n",
       "      <td>0.002303</td>\n",
       "      <td>-0.018686</td>\n",
       "      <td>0.033808</td>\n",
       "      <td>0.071734</td>\n",
       "      <td>0.012503</td>\n",
       "      <td>0.050677</td>\n",
       "      <td>-0.028372</td>\n",
       "      <td>0.234907</td>\n",
       "      <td>0.234907</td>\n",
       "    </tr>\n",
       "    <tr>\n",
       "      <th>KitchenAbvGr</th>\n",
       "      <td>0.007574</td>\n",
       "      <td>0.277162</td>\n",
       "      <td>0.002231</td>\n",
       "      <td>-0.022752</td>\n",
       "      <td>-0.192439</td>\n",
       "      <td>-0.099754</td>\n",
       "      <td>-0.155604</td>\n",
       "      <td>-0.154208</td>\n",
       "      <td>-0.049387</td>\n",
       "      <td>-0.106369</td>\n",
       "      <td>...</td>\n",
       "      <td>-0.112484</td>\n",
       "      <td>0.035181</td>\n",
       "      <td>-0.027730</td>\n",
       "      <td>-0.051764</td>\n",
       "      <td>-0.014889</td>\n",
       "      <td>0.029948</td>\n",
       "      <td>0.027611</td>\n",
       "      <td>0.027165</td>\n",
       "      <td>-0.164826</td>\n",
       "      <td>-0.164826</td>\n",
       "    </tr>\n",
       "    <tr>\n",
       "      <th>TotRmsAbvGrd</th>\n",
       "      <td>0.025888</td>\n",
       "      <td>0.165825</td>\n",
       "      <td>0.365999</td>\n",
       "      <td>0.405924</td>\n",
       "      <td>0.427806</td>\n",
       "      <td>-0.104919</td>\n",
       "      <td>0.176820</td>\n",
       "      <td>0.198243</td>\n",
       "      <td>0.263912</td>\n",
       "      <td>-0.050062</td>\n",
       "      <td>...</td>\n",
       "      <td>0.285002</td>\n",
       "      <td>-0.028734</td>\n",
       "      <td>-0.002640</td>\n",
       "      <td>0.032286</td>\n",
       "      <td>0.059386</td>\n",
       "      <td>-0.021463</td>\n",
       "      <td>0.040138</td>\n",
       "      <td>-0.036894</td>\n",
       "      <td>0.532586</td>\n",
       "      <td>0.532586</td>\n",
       "    </tr>\n",
       "    <tr>\n",
       "      <th>Fireplaces</th>\n",
       "      <td>-0.013644</td>\n",
       "      <td>0.019480</td>\n",
       "      <td>0.245315</td>\n",
       "      <td>0.350198</td>\n",
       "      <td>0.420626</td>\n",
       "      <td>-0.045383</td>\n",
       "      <td>0.174655</td>\n",
       "      <td>0.119270</td>\n",
       "      <td>0.255627</td>\n",
       "      <td>0.192264</td>\n",
       "      <td>...</td>\n",
       "      <td>0.218727</td>\n",
       "      <td>-0.060932</td>\n",
       "      <td>0.035791</td>\n",
       "      <td>0.179235</td>\n",
       "      <td>0.083876</td>\n",
       "      <td>-0.007546</td>\n",
       "      <td>0.043514</td>\n",
       "      <td>-0.034962</td>\n",
       "      <td>0.519247</td>\n",
       "      <td>0.519247</td>\n",
       "    </tr>\n",
       "    <tr>\n",
       "      <th>GarageYrBlt</th>\n",
       "      <td>-0.000194</td>\n",
       "      <td>0.079268</td>\n",
       "      <td>0.115694</td>\n",
       "      <td>0.041796</td>\n",
       "      <td>0.618193</td>\n",
       "      <td>-0.379398</td>\n",
       "      <td>0.890546</td>\n",
       "      <td>0.722377</td>\n",
       "      <td>0.305964</td>\n",
       "      <td>0.078935</td>\n",
       "      <td>...</td>\n",
       "      <td>0.394185</td>\n",
       "      <td>-0.317438</td>\n",
       "      <td>0.016935</td>\n",
       "      <td>-0.099749</td>\n",
       "      <td>-0.007330</td>\n",
       "      <td>-0.067091</td>\n",
       "      <td>0.012337</td>\n",
       "      <td>-0.005770</td>\n",
       "      <td>0.593788</td>\n",
       "      <td>0.593788</td>\n",
       "    </tr>\n",
       "    <tr>\n",
       "      <th>GarageCars</th>\n",
       "      <td>0.013301</td>\n",
       "      <td>0.024226</td>\n",
       "      <td>0.351756</td>\n",
       "      <td>0.340195</td>\n",
       "      <td>0.608756</td>\n",
       "      <td>-0.254763</td>\n",
       "      <td>0.601519</td>\n",
       "      <td>0.456245</td>\n",
       "      <td>0.401606</td>\n",
       "      <td>0.181381</td>\n",
       "      <td>...</td>\n",
       "      <td>0.342701</td>\n",
       "      <td>-0.211429</td>\n",
       "      <td>0.035538</td>\n",
       "      <td>0.025837</td>\n",
       "      <td>0.021783</td>\n",
       "      <td>-0.057536</td>\n",
       "      <td>0.040261</td>\n",
       "      <td>-0.039178</td>\n",
       "      <td>0.690711</td>\n",
       "      <td>0.690711</td>\n",
       "    </tr>\n",
       "    <tr>\n",
       "      <th>GarageArea</th>\n",
       "      <td>0.006505</td>\n",
       "      <td>-0.047133</td>\n",
       "      <td>0.378052</td>\n",
       "      <td>0.367153</td>\n",
       "      <td>0.541552</td>\n",
       "      <td>-0.200718</td>\n",
       "      <td>0.528281</td>\n",
       "      <td>0.398267</td>\n",
       "      <td>0.364755</td>\n",
       "      <td>0.244161</td>\n",
       "      <td>...</td>\n",
       "      <td>0.338430</td>\n",
       "      <td>-0.177993</td>\n",
       "      <td>0.036300</td>\n",
       "      <td>0.029071</td>\n",
       "      <td>0.042387</td>\n",
       "      <td>-0.035918</td>\n",
       "      <td>0.032625</td>\n",
       "      <td>-0.021676</td>\n",
       "      <td>0.649379</td>\n",
       "      <td>0.649379</td>\n",
       "    </tr>\n",
       "    <tr>\n",
       "      <th>WoodDeckSF</th>\n",
       "      <td>-0.043239</td>\n",
       "      <td>0.023370</td>\n",
       "      <td>0.109288</td>\n",
       "      <td>0.184285</td>\n",
       "      <td>0.259439</td>\n",
       "      <td>-0.042662</td>\n",
       "      <td>0.287729</td>\n",
       "      <td>0.230241</td>\n",
       "      <td>0.173736</td>\n",
       "      <td>0.179359</td>\n",
       "      <td>...</td>\n",
       "      <td>0.124200</td>\n",
       "      <td>-0.158257</td>\n",
       "      <td>-0.027760</td>\n",
       "      <td>-0.090229</td>\n",
       "      <td>0.050245</td>\n",
       "      <td>0.017017</td>\n",
       "      <td>0.038058</td>\n",
       "      <td>0.022937</td>\n",
       "      <td>0.353802</td>\n",
       "      <td>0.353802</td>\n",
       "    </tr>\n",
       "    <tr>\n",
       "      <th>OpenPorchSF</th>\n",
       "      <td>-0.003225</td>\n",
       "      <td>0.031900</td>\n",
       "      <td>0.178073</td>\n",
       "      <td>0.176965</td>\n",
       "      <td>0.435046</td>\n",
       "      <td>-0.133284</td>\n",
       "      <td>0.392691</td>\n",
       "      <td>0.353325</td>\n",
       "      <td>0.208681</td>\n",
       "      <td>0.081420</td>\n",
       "      <td>...</td>\n",
       "      <td>1.000000</td>\n",
       "      <td>-0.168911</td>\n",
       "      <td>0.017123</td>\n",
       "      <td>0.006566</td>\n",
       "      <td>0.036890</td>\n",
       "      <td>-0.034794</td>\n",
       "      <td>0.066445</td>\n",
       "      <td>-0.059019</td>\n",
       "      <td>0.477561</td>\n",
       "      <td>0.477561</td>\n",
       "    </tr>\n",
       "    <tr>\n",
       "      <th>EnclosedPorch</th>\n",
       "      <td>-0.006758</td>\n",
       "      <td>0.011023</td>\n",
       "      <td>-0.095811</td>\n",
       "      <td>-0.066563</td>\n",
       "      <td>-0.162434</td>\n",
       "      <td>0.109749</td>\n",
       "      <td>-0.408622</td>\n",
       "      <td>-0.235037</td>\n",
       "      <td>-0.179589</td>\n",
       "      <td>-0.148339</td>\n",
       "      <td>...</td>\n",
       "      <td>-0.168911</td>\n",
       "      <td>1.000000</td>\n",
       "      <td>-0.038790</td>\n",
       "      <td>-0.080716</td>\n",
       "      <td>0.003995</td>\n",
       "      <td>0.038746</td>\n",
       "      <td>-0.028538</td>\n",
       "      <td>0.000519</td>\n",
       "      <td>-0.218394</td>\n",
       "      <td>-0.218394</td>\n",
       "    </tr>\n",
       "    <tr>\n",
       "      <th>3SsnPorch</th>\n",
       "      <td>-0.036706</td>\n",
       "      <td>-0.035830</td>\n",
       "      <td>0.063960</td>\n",
       "      <td>0.062282</td>\n",
       "      <td>0.032903</td>\n",
       "      <td>0.032384</td>\n",
       "      <td>0.022498</td>\n",
       "      <td>0.051694</td>\n",
       "      <td>0.040997</td>\n",
       "      <td>0.046802</td>\n",
       "      <td>...</td>\n",
       "      <td>0.017123</td>\n",
       "      <td>-0.038790</td>\n",
       "      <td>1.000000</td>\n",
       "      <td>-0.037935</td>\n",
       "      <td>-0.008973</td>\n",
       "      <td>0.004980</td>\n",
       "      <td>0.037039</td>\n",
       "      <td>0.006790</td>\n",
       "      <td>0.065440</td>\n",
       "      <td>0.065440</td>\n",
       "    </tr>\n",
       "    <tr>\n",
       "      <th>ScreenPorch</th>\n",
       "      <td>0.005962</td>\n",
       "      <td>-0.021673</td>\n",
       "      <td>0.043849</td>\n",
       "      <td>0.092316</td>\n",
       "      <td>0.046335</td>\n",
       "      <td>0.074728</td>\n",
       "      <td>-0.073119</td>\n",
       "      <td>-0.045808</td>\n",
       "      <td>0.038171</td>\n",
       "      <td>0.071989</td>\n",
       "      <td>...</td>\n",
       "      <td>0.006566</td>\n",
       "      <td>-0.080716</td>\n",
       "      <td>-0.037935</td>\n",
       "      <td>1.000000</td>\n",
       "      <td>0.019035</td>\n",
       "      <td>0.015435</td>\n",
       "      <td>0.023643</td>\n",
       "      <td>0.023485</td>\n",
       "      <td>0.100070</td>\n",
       "      <td>0.100070</td>\n",
       "    </tr>\n",
       "    <tr>\n",
       "      <th>PoolArea</th>\n",
       "      <td>0.055555</td>\n",
       "      <td>0.033250</td>\n",
       "      <td>0.084534</td>\n",
       "      <td>0.084460</td>\n",
       "      <td>0.056667</td>\n",
       "      <td>-0.005605</td>\n",
       "      <td>0.008986</td>\n",
       "      <td>0.002821</td>\n",
       "      <td>0.004863</td>\n",
       "      <td>0.057586</td>\n",
       "      <td>...</td>\n",
       "      <td>0.036890</td>\n",
       "      <td>0.003995</td>\n",
       "      <td>-0.008973</td>\n",
       "      <td>0.019035</td>\n",
       "      <td>1.000000</td>\n",
       "      <td>0.041544</td>\n",
       "      <td>-0.023295</td>\n",
       "      <td>-0.058132</td>\n",
       "      <td>0.058453</td>\n",
       "      <td>0.058453</td>\n",
       "    </tr>\n",
       "    <tr>\n",
       "      <th>MiscVal</th>\n",
       "      <td>-0.043383</td>\n",
       "      <td>-0.032840</td>\n",
       "      <td>0.024198</td>\n",
       "      <td>0.059297</td>\n",
       "      <td>-0.088019</td>\n",
       "      <td>0.086625</td>\n",
       "      <td>-0.091786</td>\n",
       "      <td>-0.090868</td>\n",
       "      <td>-0.050279</td>\n",
       "      <td>0.005097</td>\n",
       "      <td>...</td>\n",
       "      <td>-0.034794</td>\n",
       "      <td>0.038746</td>\n",
       "      <td>0.004980</td>\n",
       "      <td>0.015435</td>\n",
       "      <td>0.041544</td>\n",
       "      <td>1.000000</td>\n",
       "      <td>0.011075</td>\n",
       "      <td>0.057210</td>\n",
       "      <td>-0.062727</td>\n",
       "      <td>-0.062727</td>\n",
       "    </tr>\n",
       "    <tr>\n",
       "      <th>MoSold</th>\n",
       "      <td>0.019018</td>\n",
       "      <td>0.018403</td>\n",
       "      <td>0.025758</td>\n",
       "      <td>0.006423</td>\n",
       "      <td>0.061455</td>\n",
       "      <td>-0.007203</td>\n",
       "      <td>0.018621</td>\n",
       "      <td>0.021081</td>\n",
       "      <td>0.017732</td>\n",
       "      <td>-0.016405</td>\n",
       "      <td>...</td>\n",
       "      <td>0.066445</td>\n",
       "      <td>-0.028538</td>\n",
       "      <td>0.037039</td>\n",
       "      <td>0.023643</td>\n",
       "      <td>-0.023295</td>\n",
       "      <td>0.011075</td>\n",
       "      <td>1.000000</td>\n",
       "      <td>-0.150937</td>\n",
       "      <td>0.069432</td>\n",
       "      <td>0.069432</td>\n",
       "    </tr>\n",
       "    <tr>\n",
       "      <th>YrSold</th>\n",
       "      <td>0.001526</td>\n",
       "      <td>-0.027401</td>\n",
       "      <td>0.003461</td>\n",
       "      <td>-0.027473</td>\n",
       "      <td>-0.025464</td>\n",
       "      <td>0.050214</td>\n",
       "      <td>-0.014100</td>\n",
       "      <td>0.045158</td>\n",
       "      <td>0.000552</td>\n",
       "      <td>0.020793</td>\n",
       "      <td>...</td>\n",
       "      <td>-0.059019</td>\n",
       "      <td>0.000519</td>\n",
       "      <td>0.006790</td>\n",
       "      <td>0.023485</td>\n",
       "      <td>-0.058132</td>\n",
       "      <td>0.057210</td>\n",
       "      <td>-0.150937</td>\n",
       "      <td>1.000000</td>\n",
       "      <td>-0.029899</td>\n",
       "      <td>-0.029899</td>\n",
       "    </tr>\n",
       "    <tr>\n",
       "      <th>SalePrice</th>\n",
       "      <td>-0.018546</td>\n",
       "      <td>0.007192</td>\n",
       "      <td>0.409076</td>\n",
       "      <td>0.456461</td>\n",
       "      <td>0.809829</td>\n",
       "      <td>-0.129325</td>\n",
       "      <td>0.652682</td>\n",
       "      <td>0.571159</td>\n",
       "      <td>0.421309</td>\n",
       "      <td>0.301871</td>\n",
       "      <td>...</td>\n",
       "      <td>0.477561</td>\n",
       "      <td>-0.218394</td>\n",
       "      <td>0.065440</td>\n",
       "      <td>0.100070</td>\n",
       "      <td>0.058453</td>\n",
       "      <td>-0.062727</td>\n",
       "      <td>0.069432</td>\n",
       "      <td>-0.029899</td>\n",
       "      <td>1.000000</td>\n",
       "      <td>1.000000</td>\n",
       "    </tr>\n",
       "    <tr>\n",
       "      <th>Log_Price</th>\n",
       "      <td>-0.018546</td>\n",
       "      <td>0.007192</td>\n",
       "      <td>0.409076</td>\n",
       "      <td>0.456461</td>\n",
       "      <td>0.809829</td>\n",
       "      <td>-0.129325</td>\n",
       "      <td>0.652682</td>\n",
       "      <td>0.571159</td>\n",
       "      <td>0.421309</td>\n",
       "      <td>0.301871</td>\n",
       "      <td>...</td>\n",
       "      <td>0.477561</td>\n",
       "      <td>-0.218394</td>\n",
       "      <td>0.065440</td>\n",
       "      <td>0.100070</td>\n",
       "      <td>0.058453</td>\n",
       "      <td>-0.062727</td>\n",
       "      <td>0.069432</td>\n",
       "      <td>-0.029899</td>\n",
       "      <td>1.000000</td>\n",
       "      <td>1.000000</td>\n",
       "    </tr>\n",
       "  </tbody>\n",
       "</table>\n",
       "<p>39 rows × 39 columns</p>\n",
       "</div>"
      ],
      "text/plain": [
       "                     Id  MSSubClass  LotFrontage   LotArea  OverallQual  \\\n",
       "Id             1.000000    0.019226    -0.033335 -0.005364    -0.028771   \n",
       "MSSubClass     0.019226    1.000000    -0.314265 -0.269570     0.108065   \n",
       "LotFrontage   -0.033335   -0.314265     1.000000  0.649633     0.254952   \n",
       "LotArea       -0.005364   -0.269570     0.649633  1.000000     0.233303   \n",
       "OverallQual   -0.028771    0.108065     0.254952  0.233303     1.000000   \n",
       "OverallCond    0.003622   -0.071770    -0.083242 -0.046912    -0.177521   \n",
       "YearBuilt     -0.005130    0.035848     0.194510  0.103385     0.647392   \n",
       "YearRemodAdd  -0.011680    0.006802     0.116772  0.075158     0.557723   \n",
       "MasVnrArea    -0.035507    0.025035     0.258906  0.177539     0.413500   \n",
       "BsmtFinSF1    -0.013038   -0.107629     0.154014  0.171995     0.132957   \n",
       "BsmtFinSF2    -0.006736   -0.083871     0.052516  0.072019    -0.117560   \n",
       "BsmtUnfSF     -0.009509   -0.117603     0.119436  0.077830     0.272939   \n",
       "TotalBsmtSF   -0.033187   -0.318897     0.386206  0.366197     0.459915   \n",
       "1stFlrSF      -0.000616   -0.278318     0.427678  0.443858     0.408730   \n",
       "2ndFlrSF       0.009455    0.487749     0.055111  0.119356     0.289561   \n",
       "LowQualFinSF  -0.028463    0.075794    -0.030230 -0.020255    -0.034029   \n",
       "GrLivArea      0.002812    0.203576     0.375844  0.449040     0.603262   \n",
       "BsmtFullBath   0.004662   -0.042017     0.085990  0.095609     0.098034   \n",
       "BsmtHalfBath  -0.021475    0.002480    -0.003854  0.045970    -0.050598   \n",
       "FullBath       0.007269    0.194912     0.220234  0.235377     0.576372   \n",
       "HalfBath       0.002564    0.282632     0.096777  0.142658     0.298455   \n",
       "BedroomAbvGr   0.041650    0.068763     0.327679  0.337788     0.121517   \n",
       "KitchenAbvGr   0.007574    0.277162     0.002231 -0.022752    -0.192439   \n",
       "TotRmsAbvGrd   0.025888    0.165825     0.365999  0.405924     0.427806   \n",
       "Fireplaces    -0.013644    0.019480     0.245315  0.350198     0.420626   \n",
       "GarageYrBlt   -0.000194    0.079268     0.115694  0.041796     0.618193   \n",
       "GarageCars     0.013301    0.024226     0.351756  0.340195     0.608756   \n",
       "GarageArea     0.006505   -0.047133     0.378052  0.367153     0.541552   \n",
       "WoodDeckSF    -0.043239    0.023370     0.109288  0.184285     0.259439   \n",
       "OpenPorchSF   -0.003225    0.031900     0.178073  0.176965     0.435046   \n",
       "EnclosedPorch -0.006758    0.011023    -0.095811 -0.066563    -0.162434   \n",
       "3SsnPorch     -0.036706   -0.035830     0.063960  0.062282     0.032903   \n",
       "ScreenPorch    0.005962   -0.021673     0.043849  0.092316     0.046335   \n",
       "PoolArea       0.055555    0.033250     0.084534  0.084460     0.056667   \n",
       "MiscVal       -0.043383   -0.032840     0.024198  0.059297    -0.088019   \n",
       "MoSold         0.019018    0.018403     0.025758  0.006423     0.061455   \n",
       "YrSold         0.001526   -0.027401     0.003461 -0.027473    -0.025464   \n",
       "SalePrice     -0.018546    0.007192     0.409076  0.456461     0.809829   \n",
       "Log_Price     -0.018546    0.007192     0.409076  0.456461     0.809829   \n",
       "\n",
       "               OverallCond  YearBuilt  YearRemodAdd  MasVnrArea  BsmtFinSF1  \\\n",
       "Id                0.003622  -0.005130     -0.011680   -0.035507   -0.013038   \n",
       "MSSubClass       -0.071770   0.035848      0.006802    0.025035   -0.107629   \n",
       "LotFrontage      -0.083242   0.194510      0.116772    0.258906    0.154014   \n",
       "LotArea          -0.046912   0.103385      0.075158    0.177539    0.171995   \n",
       "OverallQual      -0.177521   0.647392      0.557723    0.413500    0.132957   \n",
       "OverallCond       1.000000  -0.416964     -0.041464   -0.179187   -0.011087   \n",
       "YearBuilt        -0.416964   1.000000      0.684388    0.402349    0.189645   \n",
       "YearRemodAdd     -0.041464   0.684388      1.000000    0.234333    0.063353   \n",
       "MasVnrArea       -0.179187   0.402349      0.234333    1.000000    0.241565   \n",
       "BsmtFinSF1       -0.011087   0.189645      0.063353    0.241565    1.000000   \n",
       "BsmtFinSF2        0.102471  -0.111692     -0.126086   -0.061342    0.050398   \n",
       "BsmtUnfSF        -0.128270   0.139014      0.176921    0.075561   -0.573638   \n",
       "TotalBsmtSF      -0.217375   0.427187      0.299042    0.360104    0.410413   \n",
       "1stFlrSF         -0.166686   0.293363      0.240265    0.352351    0.323478   \n",
       "2ndFlrSF          0.001111   0.029716      0.073049    0.063162   -0.191236   \n",
       "LowQualFinSF      0.039556  -0.145936     -0.064542   -0.106994   -0.079054   \n",
       "GrLivArea        -0.153720   0.288493      0.282400    0.322678    0.057471   \n",
       "BsmtFullBath     -0.052676   0.162080      0.099904    0.121004    0.674175   \n",
       "BsmtHalfBath      0.116015  -0.066313     -0.031495    0.032870    0.090712   \n",
       "FullBath         -0.262400   0.537420      0.431390    0.290366    0.011986   \n",
       "HalfBath         -0.071342   0.244901      0.151562    0.168776   -0.013907   \n",
       "BedroomAbvGr     -0.003713  -0.035257     -0.054371    0.113137   -0.084164   \n",
       "KitchenAbvGr     -0.099754  -0.155604     -0.154208   -0.049387   -0.106369   \n",
       "TotRmsAbvGrd     -0.104919   0.176820      0.198243    0.263912   -0.050062   \n",
       "Fireplaces       -0.045383   0.174655      0.119270    0.255627    0.192264   \n",
       "GarageYrBlt      -0.379398   0.890546      0.722377    0.305964    0.078935   \n",
       "GarageCars       -0.254763   0.601519      0.456245    0.401606    0.181381   \n",
       "GarageArea       -0.200718   0.528281      0.398267    0.364755    0.244161   \n",
       "WoodDeckSF       -0.042662   0.287729      0.230241    0.173736    0.179359   \n",
       "OpenPorchSF      -0.133284   0.392691      0.353325    0.208681    0.081420   \n",
       "EnclosedPorch     0.109749  -0.408622     -0.235037   -0.179589   -0.148339   \n",
       "3SsnPorch         0.032384   0.022498      0.051694    0.040997    0.046802   \n",
       "ScreenPorch       0.074728  -0.073119     -0.045808    0.038171    0.071989   \n",
       "PoolArea         -0.005605   0.008986      0.002821    0.004863    0.057586   \n",
       "MiscVal           0.086625  -0.091786     -0.090868   -0.050279    0.005097   \n",
       "MoSold           -0.007203   0.018621      0.021081    0.017732   -0.016405   \n",
       "YrSold            0.050214  -0.014100      0.045158    0.000552    0.020793   \n",
       "SalePrice        -0.129325   0.652682      0.571159    0.421309    0.301871   \n",
       "Log_Price        -0.129325   0.652682      0.571159    0.421309    0.301871   \n",
       "\n",
       "               ...  OpenPorchSF  EnclosedPorch  3SsnPorch  ScreenPorch  \\\n",
       "Id             ...    -0.003225      -0.006758  -0.036706     0.005962   \n",
       "MSSubClass     ...     0.031900       0.011023  -0.035830    -0.021673   \n",
       "LotFrontage    ...     0.178073      -0.095811   0.063960     0.043849   \n",
       "LotArea        ...     0.176965      -0.066563   0.062282     0.092316   \n",
       "OverallQual    ...     0.435046      -0.162434   0.032903     0.046335   \n",
       "OverallCond    ...    -0.133284       0.109749   0.032384     0.074728   \n",
       "YearBuilt      ...     0.392691      -0.408622   0.022498    -0.073119   \n",
       "YearRemodAdd   ...     0.353325      -0.235037   0.051694    -0.045808   \n",
       "MasVnrArea     ...     0.208681      -0.179589   0.040997     0.038171   \n",
       "BsmtFinSF1     ...     0.081420      -0.148339   0.046802     0.071989   \n",
       "BsmtFinSF2     ...    -0.068991       0.041524  -0.016079     0.058716   \n",
       "BsmtUnfSF      ...     0.156127       0.044242   0.013418    -0.012447   \n",
       "TotalBsmtSF    ...     0.270321      -0.171538   0.049173     0.088690   \n",
       "1stFlrSF       ...     0.234713      -0.129189   0.060195     0.107512   \n",
       "2ndFlrSF       ...     0.225121       0.045793  -0.022861     0.012173   \n",
       "LowQualFinSF   ...     0.010320       0.047547   0.022432    -0.018578   \n",
       "GrLivArea      ...     0.398312      -0.049057   0.033912     0.085630   \n",
       "BsmtFullBath   ...     0.085672      -0.073447   0.010204     0.030253   \n",
       "BsmtHalfBath   ...    -0.040500      -0.036800   0.061530     0.037936   \n",
       "FullBath       ...     0.370152      -0.159420   0.037323    -0.037236   \n",
       "HalfBath       ...     0.267980      -0.127763  -0.000677     0.059158   \n",
       "BedroomAbvGr   ...     0.099832       0.002303  -0.018686     0.033808   \n",
       "KitchenAbvGr   ...    -0.112484       0.035181  -0.027730    -0.051764   \n",
       "TotRmsAbvGrd   ...     0.285002      -0.028734  -0.002640     0.032286   \n",
       "Fireplaces     ...     0.218727      -0.060932   0.035791     0.179235   \n",
       "GarageYrBlt    ...     0.394185      -0.317438   0.016935    -0.099749   \n",
       "GarageCars     ...     0.342701      -0.211429   0.035538     0.025837   \n",
       "GarageArea     ...     0.338430      -0.177993   0.036300     0.029071   \n",
       "WoodDeckSF     ...     0.124200      -0.158257  -0.027760    -0.090229   \n",
       "OpenPorchSF    ...     1.000000      -0.168911   0.017123     0.006566   \n",
       "EnclosedPorch  ...    -0.168911       1.000000  -0.038790    -0.080716   \n",
       "3SsnPorch      ...     0.017123      -0.038790   1.000000    -0.037935   \n",
       "ScreenPorch    ...     0.006566      -0.080716  -0.037935     1.000000   \n",
       "PoolArea       ...     0.036890       0.003995  -0.008973     0.019035   \n",
       "MiscVal        ...    -0.034794       0.038746   0.004980     0.015435   \n",
       "MoSold         ...     0.066445      -0.028538   0.037039     0.023643   \n",
       "YrSold         ...    -0.059019       0.000519   0.006790     0.023485   \n",
       "SalePrice      ...     0.477561      -0.218394   0.065440     0.100070   \n",
       "Log_Price      ...     0.477561      -0.218394   0.065440     0.100070   \n",
       "\n",
       "               PoolArea   MiscVal    MoSold    YrSold  SalePrice  Log_Price  \n",
       "Id             0.055555 -0.043383  0.019018  0.001526  -0.018546  -0.018546  \n",
       "MSSubClass     0.033250 -0.032840  0.018403 -0.027401   0.007192   0.007192  \n",
       "LotFrontage    0.084534  0.024198  0.025758  0.003461   0.409076   0.409076  \n",
       "LotArea        0.084460  0.059297  0.006423 -0.027473   0.456461   0.456461  \n",
       "OverallQual    0.056667 -0.088019  0.061455 -0.025464   0.809829   0.809829  \n",
       "OverallCond   -0.005605  0.086625 -0.007203  0.050214  -0.129325  -0.129325  \n",
       "YearBuilt      0.008986 -0.091786  0.018621 -0.014100   0.652682   0.652682  \n",
       "YearRemodAdd   0.002821 -0.090868  0.021081  0.045158   0.571159   0.571159  \n",
       "MasVnrArea     0.004863 -0.050279  0.017732  0.000552   0.421309   0.421309  \n",
       "BsmtFinSF1     0.057586  0.005097 -0.016405  0.020793   0.301871   0.301871  \n",
       "BsmtFinSF2     0.068076  0.030363 -0.025808  0.026054  -0.038806  -0.038806  \n",
       "BsmtUnfSF     -0.036809 -0.044460  0.037116 -0.038552   0.185197   0.185197  \n",
       "TotalBsmtSF    0.047067 -0.061180  0.030340 -0.016530   0.602725   0.602725  \n",
       "1stFlrSF       0.070557 -0.033219  0.053828 -0.022411   0.575408   0.575408  \n",
       "2ndFlrSF       0.061376 -0.005313  0.043437 -0.021784   0.293598   0.293598  \n",
       "LowQualFinSF   0.065675  0.029123 -0.003645 -0.035395  -0.067719  -0.067719  \n",
       "GrLivArea      0.068298 -0.048969  0.080705 -0.026256   0.731310   0.731310  \n",
       "BsmtFullBath   0.069112 -0.006701 -0.026924  0.062829   0.225125   0.225125  \n",
       "BsmtHalfBath   0.025957  0.032481  0.036662 -0.040726  -0.012189  -0.012189  \n",
       "FullBath       0.042212 -0.048728  0.066774 -0.012144   0.635957   0.635957  \n",
       "HalfBath       0.027421 -0.032966 -0.004893 -0.011280   0.343008   0.343008  \n",
       "BedroomAbvGr   0.071734  0.012503  0.050677 -0.028372   0.234907   0.234907  \n",
       "KitchenAbvGr  -0.014889  0.029948  0.027611  0.027165  -0.164826  -0.164826  \n",
       "TotRmsAbvGrd   0.059386 -0.021463  0.040138 -0.036894   0.532586   0.532586  \n",
       "Fireplaces     0.083876 -0.007546  0.043514 -0.034962   0.519247   0.519247  \n",
       "GarageYrBlt   -0.007330 -0.067091  0.012337 -0.005770   0.593788   0.593788  \n",
       "GarageCars     0.021783 -0.057536  0.040261 -0.039178   0.690711   0.690711  \n",
       "GarageArea     0.042387 -0.035918  0.032625 -0.021676   0.649379   0.649379  \n",
       "WoodDeckSF     0.050245  0.017017  0.038058  0.022937   0.353802   0.353802  \n",
       "OpenPorchSF    0.036890 -0.034794  0.066445 -0.059019   0.477561   0.477561  \n",
       "EnclosedPorch  0.003995  0.038746 -0.028538  0.000519  -0.218394  -0.218394  \n",
       "3SsnPorch     -0.008973  0.004980  0.037039  0.006790   0.065440   0.065440  \n",
       "ScreenPorch    0.019035  0.015435  0.023643  0.023485   0.100070   0.100070  \n",
       "PoolArea       1.000000  0.041544 -0.023295 -0.058132   0.058453   0.058453  \n",
       "MiscVal        0.041544  1.000000  0.011075  0.057210  -0.062727  -0.062727  \n",
       "MoSold        -0.023295  0.011075  1.000000 -0.150937   0.069432   0.069432  \n",
       "YrSold        -0.058132  0.057210 -0.150937  1.000000  -0.029899  -0.029899  \n",
       "SalePrice      0.058453 -0.062727  0.069432 -0.029899   1.000000   1.000000  \n",
       "Log_Price      0.058453 -0.062727  0.069432 -0.029899   1.000000   1.000000  \n",
       "\n",
       "[39 rows x 39 columns]"
      ]
     },
     "execution_count": 20,
     "metadata": {},
     "output_type": "execute_result"
    }
   ],
   "source": [
    "correlacao"
   ]
  },
  {
   "cell_type": "code",
   "execution_count": 21,
   "metadata": {
    "ExecuteTime": {
     "end_time": "2022-01-14T22:06:11.347269Z",
     "start_time": "2022-01-14T22:06:09.392172Z"
    },
    "scrolled": false
   },
   "outputs": [
    {
     "data": {
      "text/plain": [
       "<AxesSubplot:>"
      ]
     },
     "execution_count": 21,
     "metadata": {},
     "output_type": "execute_result"
    },
    {
     "data": {
      "image/png": "[encoded data removed]",
      "text/plain": [
       "<Figure size 1440x1440 with 2 Axes>"
      ]
     },
     "metadata": {
      "needs_background": "light"
     },
     "output_type": "display_data"
    }
   ],
   "source": [
    "plt.figure(figsize=(20, 20))\n",
    "sns.heatmap(correlacao, annot=False)"
   ]
  },
  {
   "cell_type": "code",
   "execution_count": 22,
   "metadata": {
    "ExecuteTime": {
     "end_time": "2022-01-14T22:06:11.394242Z",
     "start_time": "2022-01-14T22:06:11.351267Z"
    },
    "scrolled": true
   },
   "outputs": [
    {
     "data": {
      "text/plain": [
       "Id              -0.018546\n",
       "MSSubClass       0.007192\n",
       "LotFrontage      0.409076\n",
       "LotArea          0.456461\n",
       "OverallQual      0.809829\n",
       "OverallCond     -0.129325\n",
       "YearBuilt        0.652682\n",
       "YearRemodAdd     0.571159\n",
       "MasVnrArea       0.421309\n",
       "BsmtFinSF1       0.301871\n",
       "BsmtFinSF2      -0.038806\n",
       "BsmtUnfSF        0.185197\n",
       "TotalBsmtSF      0.602725\n",
       "1stFlrSF         0.575408\n",
       "2ndFlrSF         0.293598\n",
       "LowQualFinSF    -0.067719\n",
       "GrLivArea        0.731310\n",
       "BsmtFullBath     0.225125\n",
       "BsmtHalfBath    -0.012189\n",
       "FullBath         0.635957\n",
       "HalfBath         0.343008\n",
       "BedroomAbvGr     0.234907\n",
       "KitchenAbvGr    -0.164826\n",
       "TotRmsAbvGrd     0.532586\n",
       "Fireplaces       0.519247\n",
       "GarageYrBlt      0.593788\n",
       "GarageCars       0.690711\n",
       "GarageArea       0.649379\n",
       "WoodDeckSF       0.353802\n",
       "OpenPorchSF      0.477561\n",
       "EnclosedPorch   -0.218394\n",
       "3SsnPorch        0.065440\n",
       "ScreenPorch      0.100070\n",
       "PoolArea         0.058453\n",
       "MiscVal         -0.062727\n",
       "MoSold           0.069432\n",
       "YrSold          -0.029899\n",
       "SalePrice        1.000000\n",
       "Log_Price        1.000000\n",
       "Name: SalePrice, dtype: float64"
      ]
     },
     "execution_count": 22,
     "metadata": {},
     "output_type": "execute_result"
    }
   ],
   "source": [
    "correlacao[\"SalePrice\"]"
   ]
  },
  {
   "cell_type": "code",
   "execution_count": 23,
   "metadata": {
    "ExecuteTime": {
     "end_time": "2022-01-14T22:06:11.503179Z",
     "start_time": "2022-01-14T22:06:11.409243Z"
    }
   },
   "outputs": [],
   "source": [
    "# veja quais são as variáveis mais correlacionadas com o target!\n",
    "\n",
    "cor_y = correlacao[\"SalePrice\"].abs().sort_values(ascending=False)"
   ]
  },
  {
   "cell_type": "code",
   "execution_count": 24,
   "metadata": {
    "ExecuteTime": {
     "end_time": "2022-01-14T22:06:11.643562Z",
     "start_time": "2022-01-14T22:06:11.514174Z"
    }
   },
   "outputs": [
    {
     "data": {
      "text/plain": [
       "Log_Price        1.000000\n",
       "SalePrice        1.000000\n",
       "OverallQual      0.809829\n",
       "GrLivArea        0.731310\n",
       "GarageCars       0.690711\n",
       "YearBuilt        0.652682\n",
       "GarageArea       0.649379\n",
       "FullBath         0.635957\n",
       "TotalBsmtSF      0.602725\n",
       "GarageYrBlt      0.593788\n",
       "1stFlrSF         0.575408\n",
       "YearRemodAdd     0.571159\n",
       "TotRmsAbvGrd     0.532586\n",
       "Fireplaces       0.519247\n",
       "OpenPorchSF      0.477561\n",
       "LotArea          0.456461\n",
       "MasVnrArea       0.421309\n",
       "LotFrontage      0.409076\n",
       "WoodDeckSF       0.353802\n",
       "HalfBath         0.343008\n",
       "BsmtFinSF1       0.301871\n",
       "2ndFlrSF         0.293598\n",
       "BedroomAbvGr     0.234907\n",
       "BsmtFullBath     0.225125\n",
       "EnclosedPorch    0.218394\n",
       "BsmtUnfSF        0.185197\n",
       "KitchenAbvGr     0.164826\n",
       "OverallCond      0.129325\n",
       "ScreenPorch      0.100070\n",
       "MoSold           0.069432\n",
       "LowQualFinSF     0.067719\n",
       "3SsnPorch        0.065440\n",
       "MiscVal          0.062727\n",
       "PoolArea         0.058453\n",
       "BsmtFinSF2       0.038806\n",
       "YrSold           0.029899\n",
       "Id               0.018546\n",
       "BsmtHalfBath     0.012189\n",
       "MSSubClass       0.007192\n",
       "Name: SalePrice, dtype: float64"
      ]
     },
     "execution_count": 24,
     "metadata": {},
     "output_type": "execute_result"
    }
   ],
   "source": [
    "cor_y"
   ]
  },
  {
   "cell_type": "code",
   "execution_count": 25,
   "metadata": {
    "ExecuteTime": {
     "end_time": "2022-01-14T22:06:11.752801Z",
     "start_time": "2022-01-14T22:06:11.650562Z"
    }
   },
   "outputs": [
    {
     "data": {
      "text/plain": [
       "Log_Price      1.000000\n",
       "SalePrice      1.000000\n",
       "OverallQual    0.809829\n",
       "GrLivArea      0.731310\n",
       "Name: SalePrice, dtype: float64"
      ]
     },
     "execution_count": 25,
     "metadata": {},
     "output_type": "execute_result"
    }
   ],
   "source": [
    "cor_y[cor_y > 0.7]"
   ]
  },
  {
   "cell_type": "code",
   "execution_count": 26,
   "metadata": {
    "ExecuteTime": {
     "end_time": "2022-01-14T22:06:11.862764Z",
     "start_time": "2022-01-14T22:06:11.754803Z"
    }
   },
   "outputs": [
    {
     "data": {
      "text/plain": [
       "Index(['Log_Price', 'SalePrice', 'OverallQual', 'GrLivArea'], dtype='object')"
      ]
     },
     "execution_count": 26,
     "metadata": {},
     "output_type": "execute_result"
    }
   ],
   "source": [
    "cor_y[cor_y > 0.7].index"
   ]
  },
  {
   "cell_type": "code",
   "execution_count": 27,
   "metadata": {
    "ExecuteTime": {
     "end_time": "2022-01-14T22:06:13.180284Z",
     "start_time": "2022-01-14T22:06:11.865746Z"
    }
   },
   "outputs": [
    {
     "data": {
      "text/plain": [
       "<seaborn.axisgrid.JointGrid at 0x2da3fd8de80>"
      ]
     },
     "execution_count": 27,
     "metadata": {},
     "output_type": "execute_result"
    },
    {
     "data": {
      "image/png": "[encoded data removed]",
      "text/plain": [
       "<Figure size 432x432 with 3 Axes>"
      ]
     },
     "metadata": {
      "needs_background": "light"
     },
     "output_type": "display_data"
    }
   ],
   "source": [
    "# explore agora a relação entre essas variáveis e o target\n",
    "# dica: faça um jointplot ou scatterplot\n",
    "\n",
    "sns.jointplot(data=df, x=\"OverallQual\", y='SalePrice')"
   ]
  },
  {
   "cell_type": "code",
   "execution_count": 28,
   "metadata": {
    "ExecuteTime": {
     "end_time": "2022-01-14T22:06:14.356641Z",
     "start_time": "2022-01-14T22:06:13.185262Z"
    }
   },
   "outputs": [
    {
     "data": {
      "text/plain": [
       "<seaborn.axisgrid.JointGrid at 0x2da4251f5b0>"
      ]
     },
     "execution_count": 28,
     "metadata": {},
     "output_type": "execute_result"
    },
    {
     "data": {
      "image/png": "[encoded data removed]",
      "text/plain": [
       "<Figure size 432x432 with 3 Axes>"
      ]
     },
     "metadata": {
      "needs_background": "light"
     },
     "output_type": "display_data"
    }
   ],
   "source": [
    "sns.jointplot(data=df, x=\"GrLivArea\", y='SalePrice')"
   ]
  },
  {
   "cell_type": "markdown",
   "metadata": {},
   "source": [
    "Parece que a variável de área construída (\"GrLivArea\") é uma forte candidata a **explicar** o preço das casas, pois vemos calaramente uma correlação entre as variáveis!\n",
    "\n",
    "Mas note que há claramente dois outliers... "
   ]
  },
  {
   "cell_type": "code",
   "execution_count": 29,
   "metadata": {
    "ExecuteTime": {
     "end_time": "2022-01-14T22:06:14.467575Z",
     "start_time": "2022-01-14T22:06:14.360636Z"
    }
   },
   "outputs": [
    {
     "data": {
      "text/html": [
       "<div>\n",
       "<style scoped>\n",
       "    .dataframe tbody tr th:only-of-type {\n",
       "        vertical-align: middle;\n",
       "    }\n",
       "\n",
       "    .dataframe tbody tr th {\n",
       "        vertical-align: top;\n",
       "    }\n",
       "\n",
       "    .dataframe thead th {\n",
       "        text-align: right;\n",
       "    }\n",
       "</style>\n",
       "<table border=\"1\" class=\"dataframe\">\n",
       "  <thead>\n",
       "    <tr style=\"text-align: right;\">\n",
       "      <th></th>\n",
       "      <th>Id</th>\n",
       "      <th>MSSubClass</th>\n",
       "      <th>MSZoning</th>\n",
       "      <th>LotFrontage</th>\n",
       "      <th>LotArea</th>\n",
       "      <th>Street</th>\n",
       "      <th>Alley</th>\n",
       "      <th>LotShape</th>\n",
       "      <th>LandContour</th>\n",
       "      <th>Utilities</th>\n",
       "      <th>...</th>\n",
       "      <th>PoolQC</th>\n",
       "      <th>Fence</th>\n",
       "      <th>MiscFeature</th>\n",
       "      <th>MiscVal</th>\n",
       "      <th>MoSold</th>\n",
       "      <th>YrSold</th>\n",
       "      <th>SaleType</th>\n",
       "      <th>SaleCondition</th>\n",
       "      <th>SalePrice</th>\n",
       "      <th>Log_Price</th>\n",
       "    </tr>\n",
       "  </thead>\n",
       "  <tbody>\n",
       "    <tr>\n",
       "      <th>0</th>\n",
       "      <td>1</td>\n",
       "      <td>60</td>\n",
       "      <td>RL</td>\n",
       "      <td>65.0</td>\n",
       "      <td>8450</td>\n",
       "      <td>Pave</td>\n",
       "      <td>NaN</td>\n",
       "      <td>Reg</td>\n",
       "      <td>Lvl</td>\n",
       "      <td>AllPub</td>\n",
       "      <td>...</td>\n",
       "      <td>NaN</td>\n",
       "      <td>NaN</td>\n",
       "      <td>NaN</td>\n",
       "      <td>0</td>\n",
       "      <td>2</td>\n",
       "      <td>2008</td>\n",
       "      <td>WD</td>\n",
       "      <td>Normal</td>\n",
       "      <td>208500</td>\n",
       "      <td>5.319106</td>\n",
       "    </tr>\n",
       "    <tr>\n",
       "      <th>1</th>\n",
       "      <td>2</td>\n",
       "      <td>20</td>\n",
       "      <td>RL</td>\n",
       "      <td>80.0</td>\n",
       "      <td>9600</td>\n",
       "      <td>Pave</td>\n",
       "      <td>NaN</td>\n",
       "      <td>Reg</td>\n",
       "      <td>Lvl</td>\n",
       "      <td>AllPub</td>\n",
       "      <td>...</td>\n",
       "      <td>NaN</td>\n",
       "      <td>NaN</td>\n",
       "      <td>NaN</td>\n",
       "      <td>0</td>\n",
       "      <td>5</td>\n",
       "      <td>2007</td>\n",
       "      <td>WD</td>\n",
       "      <td>Normal</td>\n",
       "      <td>181500</td>\n",
       "      <td>5.258877</td>\n",
       "    </tr>\n",
       "    <tr>\n",
       "      <th>2</th>\n",
       "      <td>3</td>\n",
       "      <td>60</td>\n",
       "      <td>RL</td>\n",
       "      <td>68.0</td>\n",
       "      <td>11250</td>\n",
       "      <td>Pave</td>\n",
       "      <td>NaN</td>\n",
       "      <td>IR1</td>\n",
       "      <td>Lvl</td>\n",
       "      <td>AllPub</td>\n",
       "      <td>...</td>\n",
       "      <td>NaN</td>\n",
       "      <td>NaN</td>\n",
       "      <td>NaN</td>\n",
       "      <td>0</td>\n",
       "      <td>9</td>\n",
       "      <td>2008</td>\n",
       "      <td>WD</td>\n",
       "      <td>Normal</td>\n",
       "      <td>223500</td>\n",
       "      <td>5.349278</td>\n",
       "    </tr>\n",
       "    <tr>\n",
       "      <th>3</th>\n",
       "      <td>4</td>\n",
       "      <td>70</td>\n",
       "      <td>RL</td>\n",
       "      <td>60.0</td>\n",
       "      <td>9550</td>\n",
       "      <td>Pave</td>\n",
       "      <td>NaN</td>\n",
       "      <td>IR1</td>\n",
       "      <td>Lvl</td>\n",
       "      <td>AllPub</td>\n",
       "      <td>...</td>\n",
       "      <td>NaN</td>\n",
       "      <td>NaN</td>\n",
       "      <td>NaN</td>\n",
       "      <td>0</td>\n",
       "      <td>2</td>\n",
       "      <td>2006</td>\n",
       "      <td>WD</td>\n",
       "      <td>Abnorml</td>\n",
       "      <td>140000</td>\n",
       "      <td>5.146128</td>\n",
       "    </tr>\n",
       "    <tr>\n",
       "      <th>4</th>\n",
       "      <td>5</td>\n",
       "      <td>60</td>\n",
       "      <td>RL</td>\n",
       "      <td>84.0</td>\n",
       "      <td>14260</td>\n",
       "      <td>Pave</td>\n",
       "      <td>NaN</td>\n",
       "      <td>IR1</td>\n",
       "      <td>Lvl</td>\n",
       "      <td>AllPub</td>\n",
       "      <td>...</td>\n",
       "      <td>NaN</td>\n",
       "      <td>NaN</td>\n",
       "      <td>NaN</td>\n",
       "      <td>0</td>\n",
       "      <td>12</td>\n",
       "      <td>2008</td>\n",
       "      <td>WD</td>\n",
       "      <td>Normal</td>\n",
       "      <td>250000</td>\n",
       "      <td>5.397940</td>\n",
       "    </tr>\n",
       "    <tr>\n",
       "      <th>...</th>\n",
       "      <td>...</td>\n",
       "      <td>...</td>\n",
       "      <td>...</td>\n",
       "      <td>...</td>\n",
       "      <td>...</td>\n",
       "      <td>...</td>\n",
       "      <td>...</td>\n",
       "      <td>...</td>\n",
       "      <td>...</td>\n",
       "      <td>...</td>\n",
       "      <td>...</td>\n",
       "      <td>...</td>\n",
       "      <td>...</td>\n",
       "      <td>...</td>\n",
       "      <td>...</td>\n",
       "      <td>...</td>\n",
       "      <td>...</td>\n",
       "      <td>...</td>\n",
       "      <td>...</td>\n",
       "      <td>...</td>\n",
       "      <td>...</td>\n",
       "    </tr>\n",
       "    <tr>\n",
       "      <th>1455</th>\n",
       "      <td>1456</td>\n",
       "      <td>60</td>\n",
       "      <td>RL</td>\n",
       "      <td>62.0</td>\n",
       "      <td>7917</td>\n",
       "      <td>Pave</td>\n",
       "      <td>NaN</td>\n",
       "      <td>Reg</td>\n",
       "      <td>Lvl</td>\n",
       "      <td>AllPub</td>\n",
       "      <td>...</td>\n",
       "      <td>NaN</td>\n",
       "      <td>NaN</td>\n",
       "      <td>NaN</td>\n",
       "      <td>0</td>\n",
       "      <td>8</td>\n",
       "      <td>2007</td>\n",
       "      <td>WD</td>\n",
       "      <td>Normal</td>\n",
       "      <td>175000</td>\n",
       "      <td>5.243038</td>\n",
       "    </tr>\n",
       "    <tr>\n",
       "      <th>1456</th>\n",
       "      <td>1457</td>\n",
       "      <td>20</td>\n",
       "      <td>RL</td>\n",
       "      <td>85.0</td>\n",
       "      <td>13175</td>\n",
       "      <td>Pave</td>\n",
       "      <td>NaN</td>\n",
       "      <td>Reg</td>\n",
       "      <td>Lvl</td>\n",
       "      <td>AllPub</td>\n",
       "      <td>...</td>\n",
       "      <td>NaN</td>\n",
       "      <td>MnPrv</td>\n",
       "      <td>NaN</td>\n",
       "      <td>0</td>\n",
       "      <td>2</td>\n",
       "      <td>2010</td>\n",
       "      <td>WD</td>\n",
       "      <td>Normal</td>\n",
       "      <td>210000</td>\n",
       "      <td>5.322219</td>\n",
       "    </tr>\n",
       "    <tr>\n",
       "      <th>1457</th>\n",
       "      <td>1458</td>\n",
       "      <td>70</td>\n",
       "      <td>RL</td>\n",
       "      <td>66.0</td>\n",
       "      <td>9042</td>\n",
       "      <td>Pave</td>\n",
       "      <td>NaN</td>\n",
       "      <td>Reg</td>\n",
       "      <td>Lvl</td>\n",
       "      <td>AllPub</td>\n",
       "      <td>...</td>\n",
       "      <td>NaN</td>\n",
       "      <td>GdPrv</td>\n",
       "      <td>Shed</td>\n",
       "      <td>2500</td>\n",
       "      <td>5</td>\n",
       "      <td>2010</td>\n",
       "      <td>WD</td>\n",
       "      <td>Normal</td>\n",
       "      <td>266500</td>\n",
       "      <td>5.425697</td>\n",
       "    </tr>\n",
       "    <tr>\n",
       "      <th>1458</th>\n",
       "      <td>1459</td>\n",
       "      <td>20</td>\n",
       "      <td>RL</td>\n",
       "      <td>68.0</td>\n",
       "      <td>9717</td>\n",
       "      <td>Pave</td>\n",
       "      <td>NaN</td>\n",
       "      <td>Reg</td>\n",
       "      <td>Lvl</td>\n",
       "      <td>AllPub</td>\n",
       "      <td>...</td>\n",
       "      <td>NaN</td>\n",
       "      <td>NaN</td>\n",
       "      <td>NaN</td>\n",
       "      <td>0</td>\n",
       "      <td>4</td>\n",
       "      <td>2010</td>\n",
       "      <td>WD</td>\n",
       "      <td>Normal</td>\n",
       "      <td>142125</td>\n",
       "      <td>5.152670</td>\n",
       "    </tr>\n",
       "    <tr>\n",
       "      <th>1459</th>\n",
       "      <td>1460</td>\n",
       "      <td>20</td>\n",
       "      <td>RL</td>\n",
       "      <td>75.0</td>\n",
       "      <td>9937</td>\n",
       "      <td>Pave</td>\n",
       "      <td>NaN</td>\n",
       "      <td>Reg</td>\n",
       "      <td>Lvl</td>\n",
       "      <td>AllPub</td>\n",
       "      <td>...</td>\n",
       "      <td>NaN</td>\n",
       "      <td>NaN</td>\n",
       "      <td>NaN</td>\n",
       "      <td>0</td>\n",
       "      <td>6</td>\n",
       "      <td>2008</td>\n",
       "      <td>WD</td>\n",
       "      <td>Normal</td>\n",
       "      <td>147500</td>\n",
       "      <td>5.168792</td>\n",
       "    </tr>\n",
       "  </tbody>\n",
       "</table>\n",
       "<p>1458 rows × 82 columns</p>\n",
       "</div>"
      ],
      "text/plain": [
       "        Id  MSSubClass MSZoning  LotFrontage  LotArea Street Alley LotShape  \\\n",
       "0        1          60       RL         65.0     8450   Pave   NaN      Reg   \n",
       "1        2          20       RL         80.0     9600   Pave   NaN      Reg   \n",
       "2        3          60       RL         68.0    11250   Pave   NaN      IR1   \n",
       "3        4          70       RL         60.0     9550   Pave   NaN      IR1   \n",
       "4        5          60       RL         84.0    14260   Pave   NaN      IR1   \n",
       "...    ...         ...      ...          ...      ...    ...   ...      ...   \n",
       "1455  1456          60       RL         62.0     7917   Pave   NaN      Reg   \n",
       "1456  1457          20       RL         85.0    13175   Pave   NaN      Reg   \n",
       "1457  1458          70       RL         66.0     9042   Pave   NaN      Reg   \n",
       "1458  1459          20       RL         68.0     9717   Pave   NaN      Reg   \n",
       "1459  1460          20       RL         75.0     9937   Pave   NaN      Reg   \n",
       "\n",
       "     LandContour Utilities  ... PoolQC  Fence MiscFeature MiscVal MoSold  \\\n",
       "0            Lvl    AllPub  ...    NaN    NaN         NaN       0      2   \n",
       "1            Lvl    AllPub  ...    NaN    NaN         NaN       0      5   \n",
       "2            Lvl    AllPub  ...    NaN    NaN         NaN       0      9   \n",
       "3            Lvl    AllPub  ...    NaN    NaN         NaN       0      2   \n",
       "4            Lvl    AllPub  ...    NaN    NaN         NaN       0     12   \n",
       "...          ...       ...  ...    ...    ...         ...     ...    ...   \n",
       "1455         Lvl    AllPub  ...    NaN    NaN         NaN       0      8   \n",
       "1456         Lvl    AllPub  ...    NaN  MnPrv         NaN       0      2   \n",
       "1457         Lvl    AllPub  ...    NaN  GdPrv        Shed    2500      5   \n",
       "1458         Lvl    AllPub  ...    NaN    NaN         NaN       0      4   \n",
       "1459         Lvl    AllPub  ...    NaN    NaN         NaN       0      6   \n",
       "\n",
       "     YrSold SaleType  SaleCondition  SalePrice  Log_Price  \n",
       "0      2008       WD         Normal     208500   5.319106  \n",
       "1      2007       WD         Normal     181500   5.258877  \n",
       "2      2008       WD         Normal     223500   5.349278  \n",
       "3      2006       WD        Abnorml     140000   5.146128  \n",
       "4      2008       WD         Normal     250000   5.397940  \n",
       "...     ...      ...            ...        ...        ...  \n",
       "1455   2007       WD         Normal     175000   5.243038  \n",
       "1456   2010       WD         Normal     210000   5.322219  \n",
       "1457   2010       WD         Normal     266500   5.425697  \n",
       "1458   2010       WD         Normal     142125   5.152670  \n",
       "1459   2008       WD         Normal     147500   5.168792  \n",
       "\n",
       "[1458 rows x 82 columns]"
      ]
     },
     "execution_count": 29,
     "metadata": {},
     "output_type": "execute_result"
    }
   ],
   "source": [
    "df[(df[\"GrLivArea\"] <= 4500)]"
   ]
  },
  {
   "cell_type": "code",
   "execution_count": 30,
   "metadata": {
    "ExecuteTime": {
     "end_time": "2022-01-14T22:06:14.562040Z",
     "start_time": "2022-01-14T22:06:14.481566Z"
    }
   },
   "outputs": [
    {
     "data": {
      "text/html": [
       "<div>\n",
       "<style scoped>\n",
       "    .dataframe tbody tr th:only-of-type {\n",
       "        vertical-align: middle;\n",
       "    }\n",
       "\n",
       "    .dataframe tbody tr th {\n",
       "        vertical-align: top;\n",
       "    }\n",
       "\n",
       "    .dataframe thead th {\n",
       "        text-align: right;\n",
       "    }\n",
       "</style>\n",
       "<table border=\"1\" class=\"dataframe\">\n",
       "  <thead>\n",
       "    <tr style=\"text-align: right;\">\n",
       "      <th></th>\n",
       "      <th>Id</th>\n",
       "      <th>MSSubClass</th>\n",
       "      <th>MSZoning</th>\n",
       "      <th>LotFrontage</th>\n",
       "      <th>LotArea</th>\n",
       "      <th>Street</th>\n",
       "      <th>Alley</th>\n",
       "      <th>LotShape</th>\n",
       "      <th>LandContour</th>\n",
       "      <th>Utilities</th>\n",
       "      <th>...</th>\n",
       "      <th>PoolQC</th>\n",
       "      <th>Fence</th>\n",
       "      <th>MiscFeature</th>\n",
       "      <th>MiscVal</th>\n",
       "      <th>MoSold</th>\n",
       "      <th>YrSold</th>\n",
       "      <th>SaleType</th>\n",
       "      <th>SaleCondition</th>\n",
       "      <th>SalePrice</th>\n",
       "      <th>Log_Price</th>\n",
       "    </tr>\n",
       "  </thead>\n",
       "  <tbody>\n",
       "    <tr>\n",
       "      <th>0</th>\n",
       "      <td>1</td>\n",
       "      <td>60</td>\n",
       "      <td>RL</td>\n",
       "      <td>65.0</td>\n",
       "      <td>8450</td>\n",
       "      <td>Pave</td>\n",
       "      <td>NaN</td>\n",
       "      <td>Reg</td>\n",
       "      <td>Lvl</td>\n",
       "      <td>AllPub</td>\n",
       "      <td>...</td>\n",
       "      <td>NaN</td>\n",
       "      <td>NaN</td>\n",
       "      <td>NaN</td>\n",
       "      <td>0</td>\n",
       "      <td>2</td>\n",
       "      <td>2008</td>\n",
       "      <td>WD</td>\n",
       "      <td>Normal</td>\n",
       "      <td>208500</td>\n",
       "      <td>5.319106</td>\n",
       "    </tr>\n",
       "    <tr>\n",
       "      <th>1</th>\n",
       "      <td>2</td>\n",
       "      <td>20</td>\n",
       "      <td>RL</td>\n",
       "      <td>80.0</td>\n",
       "      <td>9600</td>\n",
       "      <td>Pave</td>\n",
       "      <td>NaN</td>\n",
       "      <td>Reg</td>\n",
       "      <td>Lvl</td>\n",
       "      <td>AllPub</td>\n",
       "      <td>...</td>\n",
       "      <td>NaN</td>\n",
       "      <td>NaN</td>\n",
       "      <td>NaN</td>\n",
       "      <td>0</td>\n",
       "      <td>5</td>\n",
       "      <td>2007</td>\n",
       "      <td>WD</td>\n",
       "      <td>Normal</td>\n",
       "      <td>181500</td>\n",
       "      <td>5.258877</td>\n",
       "    </tr>\n",
       "    <tr>\n",
       "      <th>2</th>\n",
       "      <td>3</td>\n",
       "      <td>60</td>\n",
       "      <td>RL</td>\n",
       "      <td>68.0</td>\n",
       "      <td>11250</td>\n",
       "      <td>Pave</td>\n",
       "      <td>NaN</td>\n",
       "      <td>IR1</td>\n",
       "      <td>Lvl</td>\n",
       "      <td>AllPub</td>\n",
       "      <td>...</td>\n",
       "      <td>NaN</td>\n",
       "      <td>NaN</td>\n",
       "      <td>NaN</td>\n",
       "      <td>0</td>\n",
       "      <td>9</td>\n",
       "      <td>2008</td>\n",
       "      <td>WD</td>\n",
       "      <td>Normal</td>\n",
       "      <td>223500</td>\n",
       "      <td>5.349278</td>\n",
       "    </tr>\n",
       "    <tr>\n",
       "      <th>3</th>\n",
       "      <td>4</td>\n",
       "      <td>70</td>\n",
       "      <td>RL</td>\n",
       "      <td>60.0</td>\n",
       "      <td>9550</td>\n",
       "      <td>Pave</td>\n",
       "      <td>NaN</td>\n",
       "      <td>IR1</td>\n",
       "      <td>Lvl</td>\n",
       "      <td>AllPub</td>\n",
       "      <td>...</td>\n",
       "      <td>NaN</td>\n",
       "      <td>NaN</td>\n",
       "      <td>NaN</td>\n",
       "      <td>0</td>\n",
       "      <td>2</td>\n",
       "      <td>2006</td>\n",
       "      <td>WD</td>\n",
       "      <td>Abnorml</td>\n",
       "      <td>140000</td>\n",
       "      <td>5.146128</td>\n",
       "    </tr>\n",
       "    <tr>\n",
       "      <th>4</th>\n",
       "      <td>5</td>\n",
       "      <td>60</td>\n",
       "      <td>RL</td>\n",
       "      <td>84.0</td>\n",
       "      <td>14260</td>\n",
       "      <td>Pave</td>\n",
       "      <td>NaN</td>\n",
       "      <td>IR1</td>\n",
       "      <td>Lvl</td>\n",
       "      <td>AllPub</td>\n",
       "      <td>...</td>\n",
       "      <td>NaN</td>\n",
       "      <td>NaN</td>\n",
       "      <td>NaN</td>\n",
       "      <td>0</td>\n",
       "      <td>12</td>\n",
       "      <td>2008</td>\n",
       "      <td>WD</td>\n",
       "      <td>Normal</td>\n",
       "      <td>250000</td>\n",
       "      <td>5.397940</td>\n",
       "    </tr>\n",
       "    <tr>\n",
       "      <th>...</th>\n",
       "      <td>...</td>\n",
       "      <td>...</td>\n",
       "      <td>...</td>\n",
       "      <td>...</td>\n",
       "      <td>...</td>\n",
       "      <td>...</td>\n",
       "      <td>...</td>\n",
       "      <td>...</td>\n",
       "      <td>...</td>\n",
       "      <td>...</td>\n",
       "      <td>...</td>\n",
       "      <td>...</td>\n",
       "      <td>...</td>\n",
       "      <td>...</td>\n",
       "      <td>...</td>\n",
       "      <td>...</td>\n",
       "      <td>...</td>\n",
       "      <td>...</td>\n",
       "      <td>...</td>\n",
       "      <td>...</td>\n",
       "      <td>...</td>\n",
       "    </tr>\n",
       "    <tr>\n",
       "      <th>1455</th>\n",
       "      <td>1456</td>\n",
       "      <td>60</td>\n",
       "      <td>RL</td>\n",
       "      <td>62.0</td>\n",
       "      <td>7917</td>\n",
       "      <td>Pave</td>\n",
       "      <td>NaN</td>\n",
       "      <td>Reg</td>\n",
       "      <td>Lvl</td>\n",
       "      <td>AllPub</td>\n",
       "      <td>...</td>\n",
       "      <td>NaN</td>\n",
       "      <td>NaN</td>\n",
       "      <td>NaN</td>\n",
       "      <td>0</td>\n",
       "      <td>8</td>\n",
       "      <td>2007</td>\n",
       "      <td>WD</td>\n",
       "      <td>Normal</td>\n",
       "      <td>175000</td>\n",
       "      <td>5.243038</td>\n",
       "    </tr>\n",
       "    <tr>\n",
       "      <th>1456</th>\n",
       "      <td>1457</td>\n",
       "      <td>20</td>\n",
       "      <td>RL</td>\n",
       "      <td>85.0</td>\n",
       "      <td>13175</td>\n",
       "      <td>Pave</td>\n",
       "      <td>NaN</td>\n",
       "      <td>Reg</td>\n",
       "      <td>Lvl</td>\n",
       "      <td>AllPub</td>\n",
       "      <td>...</td>\n",
       "      <td>NaN</td>\n",
       "      <td>MnPrv</td>\n",
       "      <td>NaN</td>\n",
       "      <td>0</td>\n",
       "      <td>2</td>\n",
       "      <td>2010</td>\n",
       "      <td>WD</td>\n",
       "      <td>Normal</td>\n",
       "      <td>210000</td>\n",
       "      <td>5.322219</td>\n",
       "    </tr>\n",
       "    <tr>\n",
       "      <th>1457</th>\n",
       "      <td>1458</td>\n",
       "      <td>70</td>\n",
       "      <td>RL</td>\n",
       "      <td>66.0</td>\n",
       "      <td>9042</td>\n",
       "      <td>Pave</td>\n",
       "      <td>NaN</td>\n",
       "      <td>Reg</td>\n",
       "      <td>Lvl</td>\n",
       "      <td>AllPub</td>\n",
       "      <td>...</td>\n",
       "      <td>NaN</td>\n",
       "      <td>GdPrv</td>\n",
       "      <td>Shed</td>\n",
       "      <td>2500</td>\n",
       "      <td>5</td>\n",
       "      <td>2010</td>\n",
       "      <td>WD</td>\n",
       "      <td>Normal</td>\n",
       "      <td>266500</td>\n",
       "      <td>5.425697</td>\n",
       "    </tr>\n",
       "    <tr>\n",
       "      <th>1458</th>\n",
       "      <td>1459</td>\n",
       "      <td>20</td>\n",
       "      <td>RL</td>\n",
       "      <td>68.0</td>\n",
       "      <td>9717</td>\n",
       "      <td>Pave</td>\n",
       "      <td>NaN</td>\n",
       "      <td>Reg</td>\n",
       "      <td>Lvl</td>\n",
       "      <td>AllPub</td>\n",
       "      <td>...</td>\n",
       "      <td>NaN</td>\n",
       "      <td>NaN</td>\n",
       "      <td>NaN</td>\n",
       "      <td>0</td>\n",
       "      <td>4</td>\n",
       "      <td>2010</td>\n",
       "      <td>WD</td>\n",
       "      <td>Normal</td>\n",
       "      <td>142125</td>\n",
       "      <td>5.152670</td>\n",
       "    </tr>\n",
       "    <tr>\n",
       "      <th>1459</th>\n",
       "      <td>1460</td>\n",
       "      <td>20</td>\n",
       "      <td>RL</td>\n",
       "      <td>75.0</td>\n",
       "      <td>9937</td>\n",
       "      <td>Pave</td>\n",
       "      <td>NaN</td>\n",
       "      <td>Reg</td>\n",
       "      <td>Lvl</td>\n",
       "      <td>AllPub</td>\n",
       "      <td>...</td>\n",
       "      <td>NaN</td>\n",
       "      <td>NaN</td>\n",
       "      <td>NaN</td>\n",
       "      <td>0</td>\n",
       "      <td>6</td>\n",
       "      <td>2008</td>\n",
       "      <td>WD</td>\n",
       "      <td>Normal</td>\n",
       "      <td>147500</td>\n",
       "      <td>5.168792</td>\n",
       "    </tr>\n",
       "  </tbody>\n",
       "</table>\n",
       "<p>1458 rows × 82 columns</p>\n",
       "</div>"
      ],
      "text/plain": [
       "        Id  MSSubClass MSZoning  LotFrontage  LotArea Street Alley LotShape  \\\n",
       "0        1          60       RL         65.0     8450   Pave   NaN      Reg   \n",
       "1        2          20       RL         80.0     9600   Pave   NaN      Reg   \n",
       "2        3          60       RL         68.0    11250   Pave   NaN      IR1   \n",
       "3        4          70       RL         60.0     9550   Pave   NaN      IR1   \n",
       "4        5          60       RL         84.0    14260   Pave   NaN      IR1   \n",
       "...    ...         ...      ...          ...      ...    ...   ...      ...   \n",
       "1455  1456          60       RL         62.0     7917   Pave   NaN      Reg   \n",
       "1456  1457          20       RL         85.0    13175   Pave   NaN      Reg   \n",
       "1457  1458          70       RL         66.0     9042   Pave   NaN      Reg   \n",
       "1458  1459          20       RL         68.0     9717   Pave   NaN      Reg   \n",
       "1459  1460          20       RL         75.0     9937   Pave   NaN      Reg   \n",
       "\n",
       "     LandContour Utilities  ... PoolQC  Fence MiscFeature MiscVal MoSold  \\\n",
       "0            Lvl    AllPub  ...    NaN    NaN         NaN       0      2   \n",
       "1            Lvl    AllPub  ...    NaN    NaN         NaN       0      5   \n",
       "2            Lvl    AllPub  ...    NaN    NaN         NaN       0      9   \n",
       "3            Lvl    AllPub  ...    NaN    NaN         NaN       0      2   \n",
       "4            Lvl    AllPub  ...    NaN    NaN         NaN       0     12   \n",
       "...          ...       ...  ...    ...    ...         ...     ...    ...   \n",
       "1455         Lvl    AllPub  ...    NaN    NaN         NaN       0      8   \n",
       "1456         Lvl    AllPub  ...    NaN  MnPrv         NaN       0      2   \n",
       "1457         Lvl    AllPub  ...    NaN  GdPrv        Shed    2500      5   \n",
       "1458         Lvl    AllPub  ...    NaN    NaN         NaN       0      4   \n",
       "1459         Lvl    AllPub  ...    NaN    NaN         NaN       0      6   \n",
       "\n",
       "     YrSold SaleType  SaleCondition  SalePrice  Log_Price  \n",
       "0      2008       WD         Normal     208500   5.319106  \n",
       "1      2007       WD         Normal     181500   5.258877  \n",
       "2      2008       WD         Normal     223500   5.349278  \n",
       "3      2006       WD        Abnorml     140000   5.146128  \n",
       "4      2008       WD         Normal     250000   5.397940  \n",
       "...     ...      ...            ...        ...        ...  \n",
       "1455   2007       WD         Normal     175000   5.243038  \n",
       "1456   2010       WD         Normal     210000   5.322219  \n",
       "1457   2010       WD         Normal     266500   5.425697  \n",
       "1458   2010       WD         Normal     142125   5.152670  \n",
       "1459   2008       WD         Normal     147500   5.168792  \n",
       "\n",
       "[1458 rows x 82 columns]"
      ]
     },
     "execution_count": 30,
     "metadata": {},
     "output_type": "execute_result"
    }
   ],
   "source": [
    "df[~(df[\"GrLivArea\"] > 4500)]"
   ]
  },
  {
   "cell_type": "code",
   "execution_count": 31,
   "metadata": {
    "ExecuteTime": {
     "end_time": "2022-01-14T22:06:14.717951Z",
     "start_time": "2022-01-14T22:06:14.575031Z"
    }
   },
   "outputs": [
    {
     "data": {
      "text/html": [
       "<div>\n",
       "<style scoped>\n",
       "    .dataframe tbody tr th:only-of-type {\n",
       "        vertical-align: middle;\n",
       "    }\n",
       "\n",
       "    .dataframe tbody tr th {\n",
       "        vertical-align: top;\n",
       "    }\n",
       "\n",
       "    .dataframe thead th {\n",
       "        text-align: right;\n",
       "    }\n",
       "</style>\n",
       "<table border=\"1\" class=\"dataframe\">\n",
       "  <thead>\n",
       "    <tr style=\"text-align: right;\">\n",
       "      <th></th>\n",
       "      <th>Id</th>\n",
       "      <th>MSSubClass</th>\n",
       "      <th>MSZoning</th>\n",
       "      <th>LotFrontage</th>\n",
       "      <th>LotArea</th>\n",
       "      <th>Street</th>\n",
       "      <th>Alley</th>\n",
       "      <th>LotShape</th>\n",
       "      <th>LandContour</th>\n",
       "      <th>Utilities</th>\n",
       "      <th>...</th>\n",
       "      <th>PoolQC</th>\n",
       "      <th>Fence</th>\n",
       "      <th>MiscFeature</th>\n",
       "      <th>MiscVal</th>\n",
       "      <th>MoSold</th>\n",
       "      <th>YrSold</th>\n",
       "      <th>SaleType</th>\n",
       "      <th>SaleCondition</th>\n",
       "      <th>SalePrice</th>\n",
       "      <th>Log_Price</th>\n",
       "    </tr>\n",
       "  </thead>\n",
       "  <tbody>\n",
       "    <tr>\n",
       "      <th>0</th>\n",
       "      <td>1</td>\n",
       "      <td>60</td>\n",
       "      <td>RL</td>\n",
       "      <td>65.0</td>\n",
       "      <td>8450</td>\n",
       "      <td>Pave</td>\n",
       "      <td>NaN</td>\n",
       "      <td>Reg</td>\n",
       "      <td>Lvl</td>\n",
       "      <td>AllPub</td>\n",
       "      <td>...</td>\n",
       "      <td>NaN</td>\n",
       "      <td>NaN</td>\n",
       "      <td>NaN</td>\n",
       "      <td>0</td>\n",
       "      <td>2</td>\n",
       "      <td>2008</td>\n",
       "      <td>WD</td>\n",
       "      <td>Normal</td>\n",
       "      <td>208500</td>\n",
       "      <td>5.319106</td>\n",
       "    </tr>\n",
       "    <tr>\n",
       "      <th>1</th>\n",
       "      <td>2</td>\n",
       "      <td>20</td>\n",
       "      <td>RL</td>\n",
       "      <td>80.0</td>\n",
       "      <td>9600</td>\n",
       "      <td>Pave</td>\n",
       "      <td>NaN</td>\n",
       "      <td>Reg</td>\n",
       "      <td>Lvl</td>\n",
       "      <td>AllPub</td>\n",
       "      <td>...</td>\n",
       "      <td>NaN</td>\n",
       "      <td>NaN</td>\n",
       "      <td>NaN</td>\n",
       "      <td>0</td>\n",
       "      <td>5</td>\n",
       "      <td>2007</td>\n",
       "      <td>WD</td>\n",
       "      <td>Normal</td>\n",
       "      <td>181500</td>\n",
       "      <td>5.258877</td>\n",
       "    </tr>\n",
       "    <tr>\n",
       "      <th>2</th>\n",
       "      <td>3</td>\n",
       "      <td>60</td>\n",
       "      <td>RL</td>\n",
       "      <td>68.0</td>\n",
       "      <td>11250</td>\n",
       "      <td>Pave</td>\n",
       "      <td>NaN</td>\n",
       "      <td>IR1</td>\n",
       "      <td>Lvl</td>\n",
       "      <td>AllPub</td>\n",
       "      <td>...</td>\n",
       "      <td>NaN</td>\n",
       "      <td>NaN</td>\n",
       "      <td>NaN</td>\n",
       "      <td>0</td>\n",
       "      <td>9</td>\n",
       "      <td>2008</td>\n",
       "      <td>WD</td>\n",
       "      <td>Normal</td>\n",
       "      <td>223500</td>\n",
       "      <td>5.349278</td>\n",
       "    </tr>\n",
       "    <tr>\n",
       "      <th>3</th>\n",
       "      <td>4</td>\n",
       "      <td>70</td>\n",
       "      <td>RL</td>\n",
       "      <td>60.0</td>\n",
       "      <td>9550</td>\n",
       "      <td>Pave</td>\n",
       "      <td>NaN</td>\n",
       "      <td>IR1</td>\n",
       "      <td>Lvl</td>\n",
       "      <td>AllPub</td>\n",
       "      <td>...</td>\n",
       "      <td>NaN</td>\n",
       "      <td>NaN</td>\n",
       "      <td>NaN</td>\n",
       "      <td>0</td>\n",
       "      <td>2</td>\n",
       "      <td>2006</td>\n",
       "      <td>WD</td>\n",
       "      <td>Abnorml</td>\n",
       "      <td>140000</td>\n",
       "      <td>5.146128</td>\n",
       "    </tr>\n",
       "    <tr>\n",
       "      <th>4</th>\n",
       "      <td>5</td>\n",
       "      <td>60</td>\n",
       "      <td>RL</td>\n",
       "      <td>84.0</td>\n",
       "      <td>14260</td>\n",
       "      <td>Pave</td>\n",
       "      <td>NaN</td>\n",
       "      <td>IR1</td>\n",
       "      <td>Lvl</td>\n",
       "      <td>AllPub</td>\n",
       "      <td>...</td>\n",
       "      <td>NaN</td>\n",
       "      <td>NaN</td>\n",
       "      <td>NaN</td>\n",
       "      <td>0</td>\n",
       "      <td>12</td>\n",
       "      <td>2008</td>\n",
       "      <td>WD</td>\n",
       "      <td>Normal</td>\n",
       "      <td>250000</td>\n",
       "      <td>5.397940</td>\n",
       "    </tr>\n",
       "    <tr>\n",
       "      <th>...</th>\n",
       "      <td>...</td>\n",
       "      <td>...</td>\n",
       "      <td>...</td>\n",
       "      <td>...</td>\n",
       "      <td>...</td>\n",
       "      <td>...</td>\n",
       "      <td>...</td>\n",
       "      <td>...</td>\n",
       "      <td>...</td>\n",
       "      <td>...</td>\n",
       "      <td>...</td>\n",
       "      <td>...</td>\n",
       "      <td>...</td>\n",
       "      <td>...</td>\n",
       "      <td>...</td>\n",
       "      <td>...</td>\n",
       "      <td>...</td>\n",
       "      <td>...</td>\n",
       "      <td>...</td>\n",
       "      <td>...</td>\n",
       "      <td>...</td>\n",
       "    </tr>\n",
       "    <tr>\n",
       "      <th>1455</th>\n",
       "      <td>1456</td>\n",
       "      <td>60</td>\n",
       "      <td>RL</td>\n",
       "      <td>62.0</td>\n",
       "      <td>7917</td>\n",
       "      <td>Pave</td>\n",
       "      <td>NaN</td>\n",
       "      <td>Reg</td>\n",
       "      <td>Lvl</td>\n",
       "      <td>AllPub</td>\n",
       "      <td>...</td>\n",
       "      <td>NaN</td>\n",
       "      <td>NaN</td>\n",
       "      <td>NaN</td>\n",
       "      <td>0</td>\n",
       "      <td>8</td>\n",
       "      <td>2007</td>\n",
       "      <td>WD</td>\n",
       "      <td>Normal</td>\n",
       "      <td>175000</td>\n",
       "      <td>5.243038</td>\n",
       "    </tr>\n",
       "    <tr>\n",
       "      <th>1456</th>\n",
       "      <td>1457</td>\n",
       "      <td>20</td>\n",
       "      <td>RL</td>\n",
       "      <td>85.0</td>\n",
       "      <td>13175</td>\n",
       "      <td>Pave</td>\n",
       "      <td>NaN</td>\n",
       "      <td>Reg</td>\n",
       "      <td>Lvl</td>\n",
       "      <td>AllPub</td>\n",
       "      <td>...</td>\n",
       "      <td>NaN</td>\n",
       "      <td>MnPrv</td>\n",
       "      <td>NaN</td>\n",
       "      <td>0</td>\n",
       "      <td>2</td>\n",
       "      <td>2010</td>\n",
       "      <td>WD</td>\n",
       "      <td>Normal</td>\n",
       "      <td>210000</td>\n",
       "      <td>5.322219</td>\n",
       "    </tr>\n",
       "    <tr>\n",
       "      <th>1457</th>\n",
       "      <td>1458</td>\n",
       "      <td>70</td>\n",
       "      <td>RL</td>\n",
       "      <td>66.0</td>\n",
       "      <td>9042</td>\n",
       "      <td>Pave</td>\n",
       "      <td>NaN</td>\n",
       "      <td>Reg</td>\n",
       "      <td>Lvl</td>\n",
       "      <td>AllPub</td>\n",
       "      <td>...</td>\n",
       "      <td>NaN</td>\n",
       "      <td>GdPrv</td>\n",
       "      <td>Shed</td>\n",
       "      <td>2500</td>\n",
       "      <td>5</td>\n",
       "      <td>2010</td>\n",
       "      <td>WD</td>\n",
       "      <td>Normal</td>\n",
       "      <td>266500</td>\n",
       "      <td>5.425697</td>\n",
       "    </tr>\n",
       "    <tr>\n",
       "      <th>1458</th>\n",
       "      <td>1459</td>\n",
       "      <td>20</td>\n",
       "      <td>RL</td>\n",
       "      <td>68.0</td>\n",
       "      <td>9717</td>\n",
       "      <td>Pave</td>\n",
       "      <td>NaN</td>\n",
       "      <td>Reg</td>\n",
       "      <td>Lvl</td>\n",
       "      <td>AllPub</td>\n",
       "      <td>...</td>\n",
       "      <td>NaN</td>\n",
       "      <td>NaN</td>\n",
       "      <td>NaN</td>\n",
       "      <td>0</td>\n",
       "      <td>4</td>\n",
       "      <td>2010</td>\n",
       "      <td>WD</td>\n",
       "      <td>Normal</td>\n",
       "      <td>142125</td>\n",
       "      <td>5.152670</td>\n",
       "    </tr>\n",
       "    <tr>\n",
       "      <th>1459</th>\n",
       "      <td>1460</td>\n",
       "      <td>20</td>\n",
       "      <td>RL</td>\n",
       "      <td>75.0</td>\n",
       "      <td>9937</td>\n",
       "      <td>Pave</td>\n",
       "      <td>NaN</td>\n",
       "      <td>Reg</td>\n",
       "      <td>Lvl</td>\n",
       "      <td>AllPub</td>\n",
       "      <td>...</td>\n",
       "      <td>NaN</td>\n",
       "      <td>NaN</td>\n",
       "      <td>NaN</td>\n",
       "      <td>0</td>\n",
       "      <td>6</td>\n",
       "      <td>2008</td>\n",
       "      <td>WD</td>\n",
       "      <td>Normal</td>\n",
       "      <td>147500</td>\n",
       "      <td>5.168792</td>\n",
       "    </tr>\n",
       "  </tbody>\n",
       "</table>\n",
       "<p>1458 rows × 82 columns</p>\n",
       "</div>"
      ],
      "text/plain": [
       "        Id  MSSubClass MSZoning  LotFrontage  LotArea Street Alley LotShape  \\\n",
       "0        1          60       RL         65.0     8450   Pave   NaN      Reg   \n",
       "1        2          20       RL         80.0     9600   Pave   NaN      Reg   \n",
       "2        3          60       RL         68.0    11250   Pave   NaN      IR1   \n",
       "3        4          70       RL         60.0     9550   Pave   NaN      IR1   \n",
       "4        5          60       RL         84.0    14260   Pave   NaN      IR1   \n",
       "...    ...         ...      ...          ...      ...    ...   ...      ...   \n",
       "1455  1456          60       RL         62.0     7917   Pave   NaN      Reg   \n",
       "1456  1457          20       RL         85.0    13175   Pave   NaN      Reg   \n",
       "1457  1458          70       RL         66.0     9042   Pave   NaN      Reg   \n",
       "1458  1459          20       RL         68.0     9717   Pave   NaN      Reg   \n",
       "1459  1460          20       RL         75.0     9937   Pave   NaN      Reg   \n",
       "\n",
       "     LandContour Utilities  ... PoolQC  Fence MiscFeature MiscVal MoSold  \\\n",
       "0            Lvl    AllPub  ...    NaN    NaN         NaN       0      2   \n",
       "1            Lvl    AllPub  ...    NaN    NaN         NaN       0      5   \n",
       "2            Lvl    AllPub  ...    NaN    NaN         NaN       0      9   \n",
       "3            Lvl    AllPub  ...    NaN    NaN         NaN       0      2   \n",
       "4            Lvl    AllPub  ...    NaN    NaN         NaN       0     12   \n",
       "...          ...       ...  ...    ...    ...         ...     ...    ...   \n",
       "1455         Lvl    AllPub  ...    NaN    NaN         NaN       0      8   \n",
       "1456         Lvl    AllPub  ...    NaN  MnPrv         NaN       0      2   \n",
       "1457         Lvl    AllPub  ...    NaN  GdPrv        Shed    2500      5   \n",
       "1458         Lvl    AllPub  ...    NaN    NaN         NaN       0      4   \n",
       "1459         Lvl    AllPub  ...    NaN    NaN         NaN       0      6   \n",
       "\n",
       "     YrSold SaleType  SaleCondition  SalePrice  Log_Price  \n",
       "0      2008       WD         Normal     208500   5.319106  \n",
       "1      2007       WD         Normal     181500   5.258877  \n",
       "2      2008       WD         Normal     223500   5.349278  \n",
       "3      2006       WD        Abnorml     140000   5.146128  \n",
       "4      2008       WD         Normal     250000   5.397940  \n",
       "...     ...      ...            ...        ...        ...  \n",
       "1455   2007       WD         Normal     175000   5.243038  \n",
       "1456   2010       WD         Normal     210000   5.322219  \n",
       "1457   2010       WD         Normal     266500   5.425697  \n",
       "1458   2010       WD         Normal     142125   5.152670  \n",
       "1459   2008       WD         Normal     147500   5.168792  \n",
       "\n",
       "[1458 rows x 82 columns]"
      ]
     },
     "execution_count": 31,
     "metadata": {},
     "output_type": "execute_result"
    }
   ],
   "source": [
    "df.query(\"not GrLivArea > 4500\")"
   ]
  },
  {
   "cell_type": "code",
   "execution_count": 32,
   "metadata": {
    "ExecuteTime": {
     "end_time": "2022-01-14T22:06:14.749929Z",
     "start_time": "2022-01-14T22:06:14.721948Z"
    }
   },
   "outputs": [],
   "source": [
    "# identifique e remova os outliers\n",
    "\n",
    "df = df[~(df[\"GrLivArea\"] > 4500)]"
   ]
  },
  {
   "cell_type": "code",
   "execution_count": 33,
   "metadata": {
    "ExecuteTime": {
     "end_time": "2022-01-14T22:06:15.711479Z",
     "start_time": "2022-01-14T22:06:14.753930Z"
    }
   },
   "outputs": [
    {
     "data": {
      "text/plain": [
       "<seaborn.axisgrid.JointGrid at 0x2da42721670>"
      ]
     },
     "execution_count": 33,
     "metadata": {},
     "output_type": "execute_result"
    },
    {
     "data": {
      "image/png": "[encoded data removed]",
      "text/plain": [
       "<Figure size 432x432 with 3 Axes>"
      ]
     },
     "metadata": {
      "needs_background": "light"
     },
     "output_type": "display_data"
    }
   ],
   "source": [
    "# faça o scatterplot novamente para verificar se os outliers sumiram\n",
    "\n",
    "sns.jointplot(data=df, x=\"GrLivArea\", y='SalePrice')"
   ]
  },
  {
   "cell_type": "code",
   "execution_count": 34,
   "metadata": {
    "ExecuteTime": {
     "end_time": "2022-01-14T22:06:15.727469Z",
     "start_time": "2022-01-14T22:06:15.717477Z"
    }
   },
   "outputs": [],
   "source": [
    "# # faça o scatterplot novamente para verificar se os outliers sumiram\n",
    "\n",
    "# sns.jointplot(data=df, x=\"GrLivArea\", y='Log_Price')"
   ]
  },
  {
   "cell_type": "markdown",
   "metadata": {},
   "source": [
    "Vamos agora iniciar a construção de um modelo bem simples, que utilize a variável GrLivArea para predizer o preço!"
   ]
  },
  {
   "cell_type": "markdown",
   "metadata": {},
   "source": [
    "___\n",
    "___\n",
    "___"
   ]
  },
  {
   "cell_type": "markdown",
   "metadata": {},
   "source": [
    "## 2) Regressão linear simples\n",
    "\n",
    "Apesar de alguns outliers, parece bem adequado que os pontos plotados acima sejam descritos por uma reta, não é mesmo?\n",
    "\n",
    "Ou, melhor dizendo: **a variável GrLivArea parece estar relacionada ao target SalePrice linearmente!**\n",
    "\n",
    "Para modelarmos esta relação, vamos conhecer o modelo de **Regressão Linear Simples**.\n",
    "\n",
    "Como o próprio nome diz, o modelo de Regressão Linear será **uma reta (polinômio linear)**, que melhor se ajusta aos seus dados!\n",
    "\n",
    "O modelo de **Regressão Linear Simples** será uma linha reta que relaciona Y (o preço da casa) e X (os atributos da casa). \n",
    "\n",
    "Se utilizarmos **apenas um atributo** (como, por exemplo, a área construída), temos uma **Regressão Linear Simples**, e nosso modelo é:\n",
    "\n",
    "$$ y = b_0 + b_1 X $$\n",
    "\n",
    "Neste caso, o modelo tem dois coeficientes a serem determinados: $b_0$ (intercepto ou coeficiente linear) e $b_1$ (coeficiente angular). \n",
    "\n",
    "A equação acima exprime a **forma funcional** do conjunto de hipóteses com o qual trabalharemos: funções lineares, de uma úniva variável. Isto é,\n",
    "\n",
    "$$ f_{H, \\vec{b}} = b_0 + b_1 X $$\n",
    "\n",
    "Ou seja,\n",
    "\n",
    "$$ \\mathcal{H} = \\{ f_{H, \\vec{b}}\\} = \\{ b_0 + b_1 X \\} $$ \n",
    "\n",
    "é o conjunto de hipóteses que está sendo considerado, e o vetor de parâmetros é:\n",
    "\n",
    "$$\\vec{b} = \\begin{bmatrix}\n",
    "b_0\\\\ \n",
    "b_1\n",
    "\\end{bmatrix}$$\n",
    "\n",
    "\n",
    "O **algoritmo de aprendizagem** do estimador é utilizado justamente para encontrarmos os coeficientes $b_0$ e $b_1$ (isto é, o vetor de parâmetros) **que melhor se ajustam aos dados!**\n",
    "\n",
    "Para fazer isso, pode-se utilizar o método dos **mínimos quadrados** (OLS  - ordinary least squares) ou então o **gradiente descendente**.\n",
    "\n",
    "Mas não nos preocuparemos com os detalhes do treinamento: usaremos o sklearn para isso!\n",
    "\n",
    "Vamos começar?"
   ]
  },
  {
   "cell_type": "code",
   "execution_count": 35,
   "metadata": {
    "ExecuteTime": {
     "end_time": "2022-01-14T22:06:15.882395Z",
     "start_time": "2022-01-14T22:06:15.731467Z"
    }
   },
   "outputs": [],
   "source": [
    "# crie duas variáveis, X e y, respectivamente os arrays da feature GrLiveArea e do target\n",
    "\n",
    "X = df[\"GrLivArea\"]\n",
    "y = df[\"SalePrice\"]"
   ]
  },
  {
   "cell_type": "code",
   "execution_count": 36,
   "metadata": {
    "ExecuteTime": {
     "end_time": "2022-01-14T22:06:16.040560Z",
     "start_time": "2022-01-14T22:06:15.891392Z"
    }
   },
   "outputs": [
    {
     "data": {
      "text/plain": [
       "0       1710\n",
       "1       1262\n",
       "2       1786\n",
       "3       1717\n",
       "4       2198\n",
       "        ... \n",
       "1455    1647\n",
       "1456    2073\n",
       "1457    2340\n",
       "1458    1078\n",
       "1459    1256\n",
       "Name: GrLivArea, Length: 1458, dtype: int64"
      ]
     },
     "execution_count": 36,
     "metadata": {},
     "output_type": "execute_result"
    }
   ],
   "source": [
    "X"
   ]
  },
  {
   "cell_type": "code",
   "execution_count": 37,
   "metadata": {
    "ExecuteTime": {
     "end_time": "2022-01-14T22:06:16.149441Z",
     "start_time": "2022-01-14T22:06:16.043560Z"
    }
   },
   "outputs": [
    {
     "data": {
      "text/plain": [
       "0       208500\n",
       "1       181500\n",
       "2       223500\n",
       "3       140000\n",
       "4       250000\n",
       "         ...  \n",
       "1455    175000\n",
       "1456    210000\n",
       "1457    266500\n",
       "1458    142125\n",
       "1459    147500\n",
       "Name: SalePrice, Length: 1458, dtype: int64"
      ]
     },
     "execution_count": 37,
     "metadata": {},
     "output_type": "execute_result"
    }
   ],
   "source": [
    "y"
   ]
  },
  {
   "cell_type": "code",
   "execution_count": 38,
   "metadata": {
    "ExecuteTime": {
     "end_time": "2022-01-14T22:06:17.705817Z",
     "start_time": "2022-01-14T22:06:16.151440Z"
    }
   },
   "outputs": [],
   "source": [
    "# 1) Importe a classe do estimador que se deseja treinar\n",
    "\n",
    "from sklearn.linear_model import LinearRegression"
   ]
  },
  {
   "cell_type": "code",
   "execution_count": 39,
   "metadata": {
    "ExecuteTime": {
     "end_time": "2022-01-14T22:06:17.721712Z",
     "start_time": "2022-01-14T22:06:17.708740Z"
    }
   },
   "outputs": [],
   "source": [
    "# 2) Instancie a classe do estimador, escolhendo os hiperparâmetros desejados\n",
    "\n",
    "reg_lin = LinearRegression()"
   ]
  },
  {
   "cell_type": "code",
   "execution_count": 40,
   "metadata": {
    "ExecuteTime": {
     "end_time": "2022-01-14T22:06:17.797489Z",
     "start_time": "2022-01-14T22:06:17.727708Z"
    }
   },
   "outputs": [],
   "source": [
    "# 3) Separe os dados em dados de treino e dados de teste\n",
    "# dica: procure pelo \"train_test_split\" no google hehe\n",
    "\n",
    "from sklearn.model_selection import train_test_split\n",
    "\n",
    "X_train, X_test, y_train, y_test = train_test_split(X, y, test_size=0.2, random_state=42)"
   ]
  },
  {
   "cell_type": "code",
   "execution_count": 41,
   "metadata": {
    "ExecuteTime": {
     "end_time": "2022-01-14T22:06:17.858422Z",
     "start_time": "2022-01-14T22:06:17.802487Z"
    }
   },
   "outputs": [
    {
     "data": {
      "text/plain": [
       "((1458,), (1458,))"
      ]
     },
     "execution_count": 41,
     "metadata": {},
     "output_type": "execute_result"
    }
   ],
   "source": [
    "X.shape, y.shape"
   ]
  },
  {
   "cell_type": "code",
   "execution_count": 42,
   "metadata": {
    "ExecuteTime": {
     "end_time": "2022-01-14T22:06:17.937599Z",
     "start_time": "2022-01-14T22:06:17.860421Z"
    }
   },
   "outputs": [
    {
     "data": {
      "text/plain": [
       "((292,), (292,))"
      ]
     },
     "execution_count": 42,
     "metadata": {},
     "output_type": "execute_result"
    }
   ],
   "source": [
    "X_test.shape, y_test.shape"
   ]
  },
  {
   "cell_type": "code",
   "execution_count": 43,
   "metadata": {
    "ExecuteTime": {
     "end_time": "2022-01-14T22:06:18.001562Z",
     "start_time": "2022-01-14T22:06:17.940597Z"
    }
   },
   "outputs": [
    {
     "data": {
      "text/plain": [
       "((1166,), (1166,))"
      ]
     },
     "execution_count": 43,
     "metadata": {},
     "output_type": "execute_result"
    }
   ],
   "source": [
    "X_train.shape, y_train.shape"
   ]
  },
  {
   "cell_type": "code",
   "execution_count": 44,
   "metadata": {
    "ExecuteTime": {
     "end_time": "2022-01-14T22:06:18.096537Z",
     "start_time": "2022-01-14T22:06:18.004565Z"
    }
   },
   "outputs": [
    {
     "data": {
      "text/plain": [
       "0.20027434842249658"
      ]
     },
     "execution_count": 44,
     "metadata": {},
     "output_type": "execute_result"
    }
   ],
   "source": [
    "292/1458"
   ]
  },
  {
   "cell_type": "code",
   "execution_count": 45,
   "metadata": {
    "ExecuteTime": {
     "end_time": "2022-01-14T22:06:19.247607Z",
     "start_time": "2022-01-14T22:06:18.101535Z"
    }
   },
   "outputs": [
    {
     "data": {
      "text/plain": [
       "LinearRegression()"
      ]
     },
     "execution_count": 45,
     "metadata": {},
     "output_type": "execute_result"
    }
   ],
   "source": [
    "# 4) Treine o modelo, usando os dados de treino. \n",
    "# Este é um modelo simples, não tem muitos hiperparâmetros relevantes\n",
    "# obs: é necessário dar um reshape nas features!\n",
    "\n",
    "reg_lin.fit(np.array(X_train).reshape(-1, 1), y_train)"
   ]
  },
  {
   "cell_type": "markdown",
   "metadata": {},
   "source": [
    "Agora que o modelo está treinado, podemos dar uma olhada nos coeficientes que foram encontrados!"
   ]
  },
  {
   "cell_type": "code",
   "execution_count": 46,
   "metadata": {
    "ExecuteTime": {
     "end_time": "2022-01-14T22:06:19.405594Z",
     "start_time": "2022-01-14T22:06:19.252605Z"
    }
   },
   "outputs": [
    {
     "data": {
      "text/plain": [
       "{'fit_intercept': True,\n",
       " 'normalize': 'deprecated',\n",
       " 'copy_X': True,\n",
       " 'n_jobs': None,\n",
       " 'positive': False,\n",
       " 'n_features_in_': 1,\n",
       " 'coef_': array([118.6121988]),\n",
       " '_residues': 3418643574013.4756,\n",
       " 'rank_': 1,\n",
       " 'singular_': array([17228.25869926]),\n",
       " 'intercept_': 1562.0121909831068}"
      ]
     },
     "execution_count": 46,
     "metadata": {},
     "output_type": "execute_result"
    }
   ],
   "source": [
    "vars(reg_lin)"
   ]
  },
  {
   "cell_type": "code",
   "execution_count": 47,
   "metadata": {
    "ExecuteTime": {
     "end_time": "2022-01-14T22:06:19.483550Z",
     "start_time": "2022-01-14T22:06:19.413592Z"
    }
   },
   "outputs": [
    {
     "data": {
      "text/plain": [
       "1562.0121909831068"
      ]
     },
     "execution_count": 47,
     "metadata": {},
     "output_type": "execute_result"
    }
   ],
   "source": [
    "# pegue o intercept. Dica: veja os atributos do modelo treinado!\n",
    "\n",
    "reg_lin.intercept_"
   ]
  },
  {
   "cell_type": "code",
   "execution_count": 48,
   "metadata": {
    "ExecuteTime": {
     "end_time": "2022-01-14T22:06:19.545517Z",
     "start_time": "2022-01-14T22:06:19.490546Z"
    }
   },
   "outputs": [
    {
     "data": {
      "text/plain": [
       "118.61219879940967"
      ]
     },
     "execution_count": 48,
     "metadata": {},
     "output_type": "execute_result"
    }
   ],
   "source": [
    "# peque o coeficiente angular. Dica: veja os atributos do modelo treinado!\n",
    "\n",
    "reg_lin.coef_[0]"
   ]
  },
  {
   "cell_type": "markdown",
   "metadata": {},
   "source": [
    "Como interpretamos este resultado?\n",
    "\n",
    "O nosso modelo final é dado por:\n",
    "\n",
    "$$ y = \\mathcal{M} = f_{H, \\hat{\\vec{b}}}(x) =  1562.01 + 118.61 \\times \\text{GrLiveArea}$$\n",
    "\n",
    "Isto quer dizer que:\n",
    "\n",
    "> Aumentando a variável \"GrLiveArea\" em uma unidade faz com que o preço seja aumentado em USD 118.6!\n",
    "\n",
    "> O preço mínimo a ser pago, independente da área construída, é de 1562.01!"
   ]
  },
  {
   "cell_type": "markdown",
   "metadata": {},
   "source": [
    "Podemos visualizar o modelo treinado, neste caso:"
   ]
  },
  {
   "cell_type": "code",
   "execution_count": 49,
   "metadata": {
    "ExecuteTime": {
     "end_time": "2022-01-14T22:06:19.950285Z",
     "start_time": "2022-01-14T22:06:19.548516Z"
    }
   },
   "outputs": [
    {
     "data": {
      "text/plain": [
       "[<matplotlib.lines.Line2D at 0x2da43ee1670>]"
      ]
     },
     "execution_count": 49,
     "metadata": {},
     "output_type": "execute_result"
    },
    {
     "data": {
      "image/png": "[encoded data removed]",
      "text/plain": [
       "<Figure size 1080x432 with 1 Axes>"
      ]
     },
     "metadata": {
      "needs_background": "light"
     },
     "output_type": "display_data"
    }
   ],
   "source": [
    "plt.figure(figsize=(15, 6))\n",
    "\n",
    "# faça um scatterplot da fgeature pelo target\n",
    "sns.scatterplot(data=df, x=\"GrLivArea\", y=\"SalePrice\")\n",
    "\n",
    "# faça um plot da reta do modelo\n",
    "# crie um array com os valores de x. dica:  use o range aproximado da variável GrLivArea\n",
    "# crie um array de y com a equação da reta usando os coeficientes encontrados\n",
    "x = np.linspace(0, 5500, 10000)\n",
    "y = reg_lin.intercept_ + reg_lin.coef_[0]*x\n",
    "plt.plot(x, y, color=\"red\")"
   ]
  },
  {
   "cell_type": "code",
   "execution_count": 50,
   "metadata": {
    "ExecuteTime": {
     "end_time": "2022-01-14T22:06:21.180691Z",
     "start_time": "2022-01-14T22:06:19.954283Z"
    }
   },
   "outputs": [
    {
     "data": {
      "text/plain": [
       "<seaborn.axisgrid.JointGrid at 0x2da429029d0>"
      ]
     },
     "execution_count": 50,
     "metadata": {},
     "output_type": "execute_result"
    },
    {
     "data": {
      "image/png": "[encoded data removed]",
      "text/plain": [
       "<Figure size 432x432 with 3 Axes>"
      ]
     },
     "metadata": {
      "needs_background": "light"
     },
     "output_type": "display_data"
    }
   ],
   "source": [
    "sns.jointplot(data=df, x=\"GrLivArea\", y=\"SalePrice\", kind=\"reg\")"
   ]
  },
  {
   "cell_type": "markdown",
   "metadata": {},
   "source": [
    "Linear Model = LM"
   ]
  },
  {
   "cell_type": "code",
   "execution_count": 51,
   "metadata": {
    "ExecuteTime": {
     "end_time": "2022-01-14T22:06:21.776881Z",
     "start_time": "2022-01-14T22:06:21.183687Z"
    }
   },
   "outputs": [
    {
     "data": {
      "text/plain": [
       "<seaborn.axisgrid.FacetGrid at 0x2da440a5d60>"
      ]
     },
     "execution_count": 51,
     "metadata": {},
     "output_type": "execute_result"
    },
    {
     "data": {
      "image/png": "[encoded data removed]",
      "text/plain": [
       "<Figure size 360x360 with 1 Axes>"
      ]
     },
     "metadata": {
      "needs_background": "light"
     },
     "output_type": "display_data"
    }
   ],
   "source": [
    "# é possível fazer o mesmo com o \"sns.lmplot()\", automaticamente!\n",
    "sns.lmplot(data=df, x=\"GrLivArea\", y=\"SalePrice\")"
   ]
  },
  {
   "cell_type": "markdown",
   "metadata": {},
   "source": [
    "Fazendo uma previsão:"
   ]
  },
  {
   "cell_type": "code",
   "execution_count": 95,
   "metadata": {
    "ExecuteTime": {
     "end_time": "2022-01-13T01:05:53.633425Z",
     "start_time": "2022-01-13T01:05:53.626429Z"
    }
   },
   "outputs": [],
   "source": [
    "# previsão explicita, usando os coeficientes\n",
    "\n",
    "x = 1504\n",
    "y_hat = reg_lin.intercept_ + reg_lin.coef_[0]*x"
   ]
  },
  {
   "cell_type": "code",
   "execution_count": 96,
   "metadata": {
    "ExecuteTime": {
     "end_time": "2022-01-13T01:05:55.520440Z",
     "start_time": "2022-01-13T01:05:55.509446Z"
    }
   },
   "outputs": [
    {
     "data": {
      "text/plain": [
       "(1504, 179954.75918529526)"
      ]
     },
     "execution_count": 96,
     "metadata": {},
     "output_type": "execute_result"
    }
   ],
   "source": [
    "x, y_hat"
   ]
  },
  {
   "cell_type": "markdown",
   "metadata": {},
   "source": [
    "Ou ainda:"
   ]
  },
  {
   "cell_type": "code",
   "execution_count": 97,
   "metadata": {
    "ExecuteTime": {
     "end_time": "2022-01-13T01:06:06.484472Z",
     "start_time": "2022-01-13T01:06:06.467481Z"
    }
   },
   "outputs": [
    {
     "data": {
      "text/plain": [
       "array([179954.7591853])"
      ]
     },
     "execution_count": 97,
     "metadata": {},
     "output_type": "execute_result"
    }
   ],
   "source": [
    "# previsão usando o predict\n",
    "\n",
    "reg_lin.predict([[1504]])"
   ]
  },
  {
   "cell_type": "code",
   "execution_count": 98,
   "metadata": {
    "ExecuteTime": {
     "end_time": "2022-01-13T01:06:10.464318Z",
     "start_time": "2022-01-13T01:06:10.452324Z"
    }
   },
   "outputs": [
    {
     "data": {
      "text/plain": [
       "array([179954.7591853])"
      ]
     },
     "execution_count": 98,
     "metadata": {},
     "output_type": "execute_result"
    }
   ],
   "source": [
    "reg_lin.predict(np.array(1504).reshape(1, -1))"
   ]
  },
  {
   "cell_type": "markdown",
   "metadata": {},
   "source": [
    "É raro que consigamos visualizar nosso modelo final como fizemos acima, mas no caso da regressão linear simples, temos essa sorte! :)\n",
    "\n",
    "Vamos agora fazer algumas previsões!"
   ]
  },
  {
   "cell_type": "code",
   "execution_count": null,
   "metadata": {
    "ExecuteTime": {
     "end_time": "2022-01-10T19:06:13.026530Z",
     "start_time": "2022-01-10T19:06:12.918154Z"
    }
   },
   "outputs": [],
   "source": [
    "X_test"
   ]
  },
  {
   "cell_type": "code",
   "execution_count": null,
   "metadata": {
    "ExecuteTime": {
     "end_time": "2022-01-10T19:06:13.120704Z",
     "start_time": "2022-01-10T19:06:13.028509Z"
    }
   },
   "outputs": [],
   "source": [
    "# 5) Use o modelo treinado para fazer previsões usando os dados de teste \n",
    "\n",
    "y_pred = reg_lin.predict(X_test.values.reshape(-1, 1))"
   ]
  },
  {
   "cell_type": "markdown",
   "metadata": {},
   "source": [
    "Agora que temos o modelo treinado e algumas previsões, como avaliamos a performance do modelo?\n",
    "\n",
    "Para isso, podemos dar uma olhada nos **resíduos** das predições! Os resíduos nada mais são do que**os erros do modelo**, ou seja, **a diferença entre cada valor predito e o valor real**, para **os dados de teste!**. Isto é,\n",
    "\n",
    "$$R(y_i) = y_i - \\hat{y}_i $$\n",
    "\n",
    "$$R(y_i) + \\hat{y}_i= y_i  $$\n",
    "\n",
    "$$ \\hat{y}_i= y_i - R(y_i)  $$"
   ]
  },
  {
   "cell_type": "code",
   "execution_count": null,
   "metadata": {
    "ExecuteTime": {
     "end_time": "2022-01-10T19:06:13.229187Z",
     "start_time": "2022-01-10T19:06:13.122707Z"
    }
   },
   "outputs": [],
   "source": [
    "y_test - y_pred"
   ]
  },
  {
   "cell_type": "code",
   "execution_count": null,
   "metadata": {
    "ExecuteTime": {
     "end_time": "2022-01-10T19:06:13.482514Z",
     "start_time": "2022-01-10T19:06:13.232168Z"
    }
   },
   "outputs": [],
   "source": [
    "# faça um scatterplot do valor predito pelo valor real\n",
    "\n",
    "x = np.linspace(0, 500000, 100000)\n",
    "plt.plot(x, x, color=\"red\")\n",
    "\n",
    "sns.scatterplot(x=y_test, y=y_pred)"
   ]
  },
  {
   "cell_type": "markdown",
   "metadata": {},
   "source": [
    "O caso 100% ideal seria $y_i = \\hat{y}_i$, o que produziria uma reta exata!\n",
    "\n",
    "Quanto mais \"espalhados\" estiverem os pontos em torno da reta, em geral **pior é o modelo**, pois ele está errando mais!\n",
    "\n",
    "Uma forma de quantificar isso através de uma métrica conhecida como **$R^2$**, o **coeficiente de determinação**.\n",
    "\n",
    "Este coeficiente indica **o quão próximos os dados estão da reta ajustada**. Por outro lado, o $R^2$ representa a porcentagem de variação na resposta que é explicada pelo modelo.\n",
    "\n",
    "$$R^2 = 1 - \\frac{\\sum_{i=1}^n(y_i-\\hat{y}_i)^2}{\\sum_{i=1}^n(y_i-\\bar{y})^2}$$\n",
    "\n",
    "É possível utilizar o $R^2$ nos dados de treino, mas isso não é tão significante, devido ao overfitting, que discutiremos a seguir. Mais sgnificativo é calcularmos o $R^2$ nos dados de teste como faremos a seguir. Essa métrica equivale, portanto, **ao gráfico que fizemos acima!**\n"
   ]
  },
  {
   "cell_type": "code",
   "execution_count": null,
   "metadata": {
    "ExecuteTime": {
     "end_time": "2022-01-10T19:06:13.514245Z",
     "start_time": "2022-01-10T19:06:13.490512Z"
    }
   },
   "outputs": [],
   "source": [
    "# r2_score do sklearn.metrics\n",
    "\n",
    "from sklearn.metrics import r2_score\n",
    "\n",
    "r2_score(y_test, y_pred)"
   ]
  },
  {
   "cell_type": "markdown",
   "metadata": {},
   "source": [
    "Outra coisa importante é que os resíduos sejam **normalmente distribuídos**.\n",
    "\n",
    "Se esse não for o caso, é muito importante que você reveja se o modelo escolhido de fato é adequado ao seu problema!"
   ]
  },
  {
   "cell_type": "code",
   "execution_count": null,
   "metadata": {
    "ExecuteTime": {
     "end_time": "2022-01-10T19:06:13.815507Z",
     "start_time": "2022-01-10T19:06:13.518218Z"
    }
   },
   "outputs": [],
   "source": [
    "# dê uma olhada na distribuição dos resíduos\n",
    "\n",
    "sns.histplot(y_test - y_pred, kde=True)"
   ]
  },
  {
   "cell_type": "code",
   "execution_count": null,
   "metadata": {
    "ExecuteTime": {
     "end_time": "2022-01-10T19:06:13.842417Z",
     "start_time": "2022-01-10T19:06:13.818486Z"
    }
   },
   "outputs": [],
   "source": [
    "# importa o teste\n",
    "from scipy.stats import shapiro\n",
    "\n",
    "# fazendo o teste\n",
    "test_stat, p = shapiro(y_test - y_pred)\n",
    "\n",
    "print(\"Estatística de teste:\", test_stat)\n",
    "print(\"\\np-value:\", p)\n",
    "\n",
    "# interpretação do teste\n",
    "# nível de significância de 5%\n",
    "alpha = 0.05\n",
    "\n",
    "if p > alpha:\n",
    "    print(\"\\nFalha em rejeitar H_0: amostra parece ser normal\")\n",
    "else:\n",
    "    print(\"\\nRejeição da H_0: amostra não é normal\")"
   ]
  },
  {
   "cell_type": "code",
   "execution_count": null,
   "metadata": {
    "ExecuteTime": {
     "end_time": "2022-01-10T19:06:13.937320Z",
     "start_time": "2022-01-10T19:06:13.850413Z"
    }
   },
   "outputs": [],
   "source": [
    "# importa o teste\n",
    "from scipy.stats import normaltest\n",
    "    \n",
    "# fazendo o teste\n",
    "test_stat, p = normaltest(y_test - y_pred)\n",
    "\n",
    "print(\"Estatística de teste:\", test_stat)\n",
    "print(\"\\np-value:\", p)\n",
    "\n",
    "# interpretação do teste\n",
    "# nível de significância de 5%\n",
    "alpha = 0.05\n",
    "\n",
    "if p > alpha:\n",
    "    print(\"\\nFalha em rejeitar H_0: amostra parece ser normal\")\n",
    "else:\n",
    "    print(\"\\nRejeição da H_0: amostra não é normal\")"
   ]
  },
  {
   "cell_type": "markdown",
   "metadata": {},
   "source": [
    "Além dos resíduos, existem três principais **métricas de avaliação** do modelo de regressão linear:"
   ]
  },
  {
   "cell_type": "markdown",
   "metadata": {},
   "source": [
    "**Mean Absolute Error** (MAE) é a média do valor absoluto de todos os resíduos (erros):\n",
    "\n",
    "$$\\frac 1n\\sum_{i=1}^n|y_i-\\hat{y}_i|$$\n",
    "\n",
    "**Mean Squared Error** (MSE) é a média dos erros quadrados:\n",
    "\n",
    "$$\\frac 1n\\sum_{i=1}^n(y_i-\\hat{y}_i)^2$$\n",
    "\n",
    "**Root Mean Squared Error** (RMSE) é a raiz quadrada da média dos erros quadrados:\n",
    "\n",
    "$$\\sqrt{\\frac 1n\\sum_{i=1}^n(y_i-\\hat{y}_i)^2}$$\n",
    "\n",
    "Comparando as métricas:\n",
    "\n",
    "- **MAE** é a mais simples de entender, mas ela penaliza mais erros menores;\n",
    "- **MSE** é a métrica mais popular, pois essa métrica penaliza mais erros maiores, o que faz mais sentido em aplicações reais.\n",
    "- **RMSE** é ainda mais popular, pois esta métrica está nas mesmas unidades que o target.\n",
    "\n",
    "Estas métricas todas podem ser utilizadas como **funções de custo** a serem minimizadas pelo algoritmo do estimador."
   ]
  },
  {
   "cell_type": "code",
   "execution_count": null,
   "metadata": {
    "ExecuteTime": {
     "end_time": "2022-01-10T19:06:14.014706Z",
     "start_time": "2022-01-10T19:06:13.940299Z"
    }
   },
   "outputs": [],
   "source": [
    "from sklearn import metrics"
   ]
  },
  {
   "cell_type": "code",
   "execution_count": null,
   "metadata": {
    "ExecuteTime": {
     "end_time": "2022-01-10T19:06:14.107239Z",
     "start_time": "2022-01-10T19:06:14.016576Z"
    }
   },
   "outputs": [],
   "source": [
    "df[\"SalePrice\"].describe()"
   ]
  },
  {
   "cell_type": "code",
   "execution_count": null,
   "metadata": {
    "ExecuteTime": {
     "end_time": "2022-01-10T19:06:14.200698Z",
     "start_time": "2022-01-10T19:06:14.110168Z"
    }
   },
   "outputs": [],
   "source": [
    "# calcule MAE e MSE\n",
    "\n",
    "metrics.mean_absolute_error(y_test, y_pred)"
   ]
  },
  {
   "cell_type": "code",
   "execution_count": null,
   "metadata": {
    "ExecuteTime": {
     "end_time": "2022-01-10T19:06:14.311459Z",
     "start_time": "2022-01-10T19:06:14.203679Z"
    }
   },
   "outputs": [],
   "source": [
    "metrics.mean_squared_error(y_test, y_pred)"
   ]
  },
  {
   "cell_type": "code",
   "execution_count": null,
   "metadata": {
    "ExecuteTime": {
     "end_time": "2022-01-10T19:06:14.435412Z",
     "start_time": "2022-01-10T19:06:14.313439Z"
    }
   },
   "outputs": [],
   "source": [
    "np.sqrt(metrics.mean_squared_error(y_test, y_pred))"
   ]
  },
  {
   "cell_type": "markdown",
   "metadata": {},
   "source": [
    "Vamos dar uma olhada em tudo junto:\n"
   ]
  },
  {
   "cell_type": "code",
   "execution_count": null,
   "metadata": {
    "ExecuteTime": {
     "end_time": "2022-01-10T19:06:15.153257Z",
     "start_time": "2022-01-10T19:06:14.438406Z"
    },
    "scrolled": false
   },
   "outputs": [],
   "source": [
    "X = df['GrLivArea']\n",
    "y = df['SalePrice']\n",
    "\n",
    "# 1)\n",
    "from sklearn.linear_model import LinearRegression\n",
    "\n",
    "# 2)\n",
    "estimador = LinearRegression()\n",
    "\n",
    "# 3)\n",
    "from sklearn.model_selection import train_test_split\n",
    "X_treino, X_teste, y_treino, y_teste = train_test_split(X, y, test_size=0.2, random_state=42)\n",
    "\n",
    "# 4)\n",
    "modelo = estimador.fit(np.array(X_treino).reshape(-1, 1), y_treino)\n",
    "\n",
    "print(\"Intercepto:\", modelo.intercept_)\n",
    "print(\"Coeficienter angular:\", modelo.coef_)\n",
    "\n",
    "print(\"\\n####################################################\\n\")\n",
    "\n",
    "plt.title(\"Modelo de regressão linear\")\n",
    "\n",
    "sns.scatterplot(data=df, x=\"GrLivArea\", y=\"SalePrice\")\n",
    "\n",
    "x = np.linspace(0, 6000, 100000)\n",
    "y = modelo.intercept_ + modelo.coef_[0]*x\n",
    "plt.plot(x, y, color=\"red\")\n",
    "plt.show()\n",
    "\n",
    "print(\"\\n####################################################\\n\")\n",
    "\n",
    "# 5)\n",
    "predictions = modelo.predict(np.array(X_teste).reshape(-1, 1))\n",
    "\n",
    "plt.title(\"valor predito vs valor real\")\n",
    "sns.scatterplot(x=predictions, y=y_teste)\n",
    "plt.show()\n",
    "\n",
    "plt.title(\"Distribuição dos resíduos\")\n",
    "sns.histplot(y_teste-predictions, kde=True)\n",
    "plt.show()\n",
    "\n",
    "print(\"\\n####################################################\\n\")\n",
    "\n",
    "print(\"\\nMétricas de avaliação:\")\n",
    "\n",
    "# 6) \n",
    "from sklearn import metrics\n",
    "\n",
    "print('\\nR^2:', metrics.r2_score(y_test, predictions))\n",
    "print('MAE:', metrics.mean_absolute_error(y_test, predictions))\n",
    "print('MSE:', metrics.mean_squared_error(y_test, predictions))\n",
    "print('RMSE:', np.sqrt(metrics.mean_squared_error(y_test, predictions)))"
   ]
  },
  {
   "cell_type": "markdown",
   "metadata": {},
   "source": [
    "Vamos fazer algumas mudanças?"
   ]
  },
  {
   "cell_type": "markdown",
   "metadata": {},
   "source": [
    "___\n",
    "___\n",
    "___"
   ]
  },
  {
   "cell_type": "markdown",
   "metadata": {},
   "source": [
    "## 3) Regressão linear múltipla\n",
    "\n",
    "O modelo que fizemos acima considera uma única feature como preditora do preço da casa.\n",
    "\n",
    "Mas temos outras 78 dessas features! Será que não há mais informação útil em todas essas outras variáveis?\n",
    "\n",
    "Em geral, sim! É natural que esperemos que **mais variáveis** tragam **mais informações** ao modelo, e, portanto, o torne mais preciso!\n",
    "\n",
    "Para incorporar estas outras variáveis ao modelo, é muito simples! \n",
    "\n",
    "Podemos passar a utilizar outros atributos (como o número de cômodos, qual é a renda média da vizinhança, etc.), e neste caso teremos uma **Regressão Linear Múltipla**, que é expressa pela seguinte função de hipótese:\n",
    "\n",
    "$$ y = f_{H, \\vec{b}} = b_0 + b_1 X_1 + b_2 X_2 + \\cdots + b_n X_n $$\n",
    "\n",
    "Neste caso, além de $b_0$ e $b_1$, temos também outros coeficientes, um pra cada uma das $n$ features que escolhermos! Ou seja, o vetor de parâmetros tem $n$ dimensões:\n",
    "\n",
    "$$\\vec{b} = \\begin{bmatrix}\n",
    "b_0\\\\ \n",
    "b_1\\\\\n",
    "\\vdots\\\\\n",
    "b_n\n",
    "\\end{bmatrix}$$\n",
    "\n",
    "Modelos de regressão múltipla são potencialmente mais precisos, mas há também um lado ruim: nós perdemos a **possibilidade de visualização**. Agora, não temos mais uma reta, mas sim um **hiperplano** que relaciona todas as features com o target!\n",
    "\n",
    "<img src=\"https://miro.medium.com/max/1120/0*rGSfRsMjiQeG5jof.png\" width=500>\n",
    "\n",
    "Vamos construir esse modelo?"
   ]
  },
  {
   "cell_type": "code",
   "execution_count": null,
   "metadata": {
    "ExecuteTime": {
     "end_time": "2022-01-10T19:06:15.200246Z",
     "start_time": "2022-01-10T19:06:15.158250Z"
    },
    "scrolled": true
   },
   "outputs": [],
   "source": [
    "df.info()"
   ]
  },
  {
   "cell_type": "code",
   "execution_count": null,
   "metadata": {
    "ExecuteTime": {
     "end_time": "2022-01-10T19:06:15.310283Z",
     "start_time": "2022-01-10T19:06:15.203222Z"
    },
    "scrolled": true
   },
   "outputs": [],
   "source": [
    "df.select_dtypes(include=[np.number]).info()"
   ]
  },
  {
   "cell_type": "code",
   "execution_count": null,
   "metadata": {
    "ExecuteTime": {
     "end_time": "2022-01-10T19:06:15.454820Z",
     "start_time": "2022-01-10T19:06:15.312287Z"
    }
   },
   "outputs": [],
   "source": [
    "df.select_dtypes(include=[np.number]).isnull().sum()"
   ]
  },
  {
   "cell_type": "code",
   "execution_count": null,
   "metadata": {
    "ExecuteTime": {
     "end_time": "2022-01-10T19:06:15.595403Z",
     "start_time": "2022-01-10T19:06:15.457821Z"
    }
   },
   "outputs": [],
   "source": [
    "# selecione todas as outras colunas numéricas como a variável de features X\n",
    "# dica: df.select_dtypes(include=[np.number])\n",
    "\n",
    "df = df.select_dtypes(include=[np.number])\n",
    "\n",
    "df = df.dropna(axis=\"columns\", how=\"any\")"
   ]
  },
  {
   "cell_type": "code",
   "execution_count": null,
   "metadata": {
    "ExecuteTime": {
     "end_time": "2022-01-10T19:06:15.705601Z",
     "start_time": "2022-01-10T19:06:15.597383Z"
    }
   },
   "outputs": [],
   "source": [
    "df.select_dtypes(include=[np.number]).isnull().sum()"
   ]
  },
  {
   "cell_type": "markdown",
   "metadata": {},
   "source": [
    "Observação: a coluna \"Id\" traz apenas um número de identificação arbitrário que não deve ser correlacionado com o target. Portanto, vamos desconsiderar esta coluna de nosso modelo!"
   ]
  },
  {
   "cell_type": "code",
   "execution_count": null,
   "metadata": {
    "ExecuteTime": {
     "end_time": "2022-01-10T19:06:15.843630Z",
     "start_time": "2022-01-10T19:06:15.708073Z"
    }
   },
   "outputs": [],
   "source": [
    "X = df.drop(columns=[\"Id\", \"SalePrice\", \"Log_Price\"])\n",
    "y = df['SalePrice']"
   ]
  },
  {
   "cell_type": "code",
   "execution_count": null,
   "metadata": {
    "ExecuteTime": {
     "end_time": "2022-01-10T19:06:15.985167Z",
     "start_time": "2022-01-10T19:06:15.845633Z"
    }
   },
   "outputs": [],
   "source": [
    "X.columns.tolist()"
   ]
  },
  {
   "cell_type": "code",
   "execution_count": null,
   "metadata": {
    "ExecuteTime": {
     "end_time": "2022-01-10T19:06:16.604468Z",
     "start_time": "2022-01-10T19:06:15.988166Z"
    }
   },
   "outputs": [],
   "source": [
    "# de resto, pode seguir como tínhamos antes!\n",
    "\n",
    "df = df.select_dtypes(include=[np.number])\n",
    "df = df.dropna(axis=\"columns\", how=\"any\")\n",
    "\n",
    "X = df.drop(columns=[\"Id\",\"SalePrice\",\"Log_Price\"])\n",
    "y = df['SalePrice']\n",
    "\n",
    "# 1)\n",
    "from sklearn.linear_model import LinearRegression\n",
    "\n",
    "# 2)\n",
    "estimador = LinearRegression()\n",
    "\n",
    "# 3)\n",
    "from sklearn.model_selection import train_test_split\n",
    "X_treino, X_teste, y_treino, y_teste = train_test_split(X, y, test_size=0.2, random_state=42)\n",
    "\n",
    "# 4)\n",
    "modelo = estimador.fit(X_treino, y_treino)\n",
    "\n",
    "print(\"Intercepto:\", modelo.intercept_)\n",
    "print(\"Coeficienter angular:\", modelo.coef_)\n",
    "\n",
    "print(\"\\n####################################################\\n\")\n",
    "\n",
    "# 5)\n",
    "predictions = modelo.predict(X_teste)\n",
    "\n",
    "plt.title(\"valor predito vs valor real\")\n",
    "sns.scatterplot(x=predictions, y=y_teste)\n",
    "plt.plot(np.linspace(0, 500000, 1000), np.linspace(0, 500000, 1000), color=\"red\")\n",
    "plt.show()\n",
    "\n",
    "plt.title(\"Distribuição dos resíduos\")\n",
    "sns.histplot(y_teste-predictions, kde=True)\n",
    "plt.show()\n",
    "\n",
    "print(\"\\n####################################################\\n\")\n",
    "\n",
    "print(\"\\nMétricas de avaliação (dados de teste):\\n\")\n",
    "\n",
    "# 6)\n",
    "from sklearn import metrics\n",
    "\n",
    "print('R^2:', metrics.r2_score(y_teste, predictions))\n",
    "print('MAE:', metrics.mean_absolute_error(y_teste, predictions))\n",
    "print('MSE:', metrics.mean_squared_error(y_teste, predictions))\n",
    "print('RMSE:', np.sqrt(metrics.mean_squared_error(y_teste, predictions)))"
   ]
  },
  {
   "cell_type": "markdown",
   "metadata": {},
   "source": [
    "Também é possível calcularmos as métricas de performance na base de treino, mas temos que tomar muito cuidado ao interpretar estas medidas!\n",
    "\n",
    "Mais adiante falaremos sobre overfitting, e este ponto ficará mais claro."
   ]
  },
  {
   "cell_type": "code",
   "execution_count": null,
   "metadata": {
    "ExecuteTime": {
     "end_time": "2022-01-10T19:06:17.173322Z",
     "start_time": "2022-01-10T19:06:16.606466Z"
    }
   },
   "outputs": [],
   "source": [
    "print(\"\\nPerformance de TREINO\\n\")\n",
    "\n",
    "predictions = modelo.predict(X_treino)\n",
    "\n",
    "plt.title(\"valor predito vs valor real\")\n",
    "sns.scatterplot(x=predictions, y=y_treino)\n",
    "plt.plot(np.linspace(0, 500000, 1000), np.linspace(0, 500000, 1000), color=\"red\")\n",
    "plt.show()\n",
    "\n",
    "plt.title(\"Distribuição dos resíduos\")\n",
    "sns.histplot(y_treino-predictions, kde=True)\n",
    "plt.show()\n",
    "\n",
    "print(\"\\n####################################################\\n\")\n",
    "\n",
    "print(\"\\nMétricas de avaliação (dados de treino):\\n\")\n",
    "\n",
    "# 6)\n",
    "from sklearn import metrics\n",
    "\n",
    "print('R^2:', metrics.r2_score(y_treino, predictions))\n",
    "print('MAE:', metrics.mean_absolute_error(y_treino, predictions))\n",
    "print('MSE:', metrics.mean_squared_error(y_treino, predictions))\n",
    "print('RMSE:', np.sqrt(metrics.mean_squared_error(y_treino, predictions)))"
   ]
  },
  {
   "cell_type": "markdown",
   "metadata": {},
   "source": [
    "Comparando:\n",
    "\n",
    "```\n",
    "Métricas de avaliação (dados de teste):\n",
    "\n",
    "R^2: 0.8563506695017936\n",
    "MAE: 20734.90415410572\n",
    "MSE: 793479736.8905219\n",
    "RMSE: 28168.772371023235\n",
    "```\n",
    "\n",
    "```\n",
    "Métricas de avaliação (dados de treino):\n",
    "\n",
    "R^2: 0.8616841881921395\n",
    "MAE: 20508.039034548918\n",
    "MSE: 900886802.9866579\n",
    "RMSE: 30014.776410739058\n",
    "```"
   ]
  },
  {
   "cell_type": "markdown",
   "metadata": {},
   "source": [
    "Vamos olhar para os parâmetros do modelo:"
   ]
  },
  {
   "cell_type": "code",
   "execution_count": null,
   "metadata": {
    "ExecuteTime": {
     "end_time": "2022-01-10T19:06:17.188309Z",
     "start_time": "2022-01-10T19:06:17.175318Z"
    }
   },
   "outputs": [],
   "source": [
    "modelo.coef_"
   ]
  },
  {
   "cell_type": "code",
   "execution_count": null,
   "metadata": {
    "ExecuteTime": {
     "end_time": "2022-01-10T19:06:17.330811Z",
     "start_time": "2022-01-10T19:06:17.194308Z"
    }
   },
   "outputs": [],
   "source": [
    "modelo.intercept_"
   ]
  },
  {
   "cell_type": "code",
   "execution_count": null,
   "metadata": {
    "ExecuteTime": {
     "end_time": "2022-01-10T19:06:17.424516Z",
     "start_time": "2022-01-10T19:06:17.332810Z"
    }
   },
   "outputs": [],
   "source": [
    "# dica: use o código abaixo para fazer um dataframe com os coeficientes\n",
    "\n",
    "coeff_df = pd.DataFrame(modelo.coef_, X.columns, columns=['Coefficient'])\n",
    "\n",
    "coeff_df"
   ]
  },
  {
   "cell_type": "markdown",
   "metadata": {},
   "source": [
    "A performance do modelo melhorou?\n",
    "\n",
    "Será que dá pra melhorar mais?\n",
    "\n",
    "Opções:\n",
    "\n",
    "- tentar apenas um subconjunto de features: **feature selection**\n",
    "\n",
    "\n",
    "- passar a utilizar as features categóricas: **feacture engeneering**"
   ]
  },
  {
   "cell_type": "markdown",
   "metadata": {},
   "source": [
    "____\n",
    "____\n",
    "____"
   ]
  },
  {
   "cell_type": "markdown",
   "metadata": {},
   "source": [
    "## 4) Overfitting\n",
    "\n",
    "Overfit é um dos conceitos mais importantes em apredizado de maquina.\n",
    "\n",
    "Muitas vezes alguns modelos têm 100% de acerto nos dados de **treino**, mas **na base de teste** a performance cai para menos de 50%.\n",
    "\n",
    "Isso pode acontecer porque o modelo fica **especialista apenas no conjunto de treino**, não conseguindo **generalizar os padrões para além dos dados vistos**.\n",
    "\n",
    "<img src=\"https://miro.medium.com/max/1125/1*_7OPgojau8hkiPUiHoGK_w.png\" width=800>\n",
    "\n",
    "O overfitting está intimamente ligado com o conceito de **viés** (bias) e **variância** (variance):\n",
    "\n",
    ">**Viés**<br>\n",
    "É a diferença entre o que o modelo prediz, e o valor correto a ser predito.<br>\n",
    "Modelos com alto viés são muito simples, de modo a **não conseguir capturar as relações que os dados de treino exibem** (underfit).<br>\n",
    "Issso faz com que ambos os erros de treino e de teste sejam altos.\n",
    "<br><br>\n",
    "Em outras palavras:<br>\n",
    "**Incapacidade de um modelo de capturar a verdadeira relação entre features e target**\n",
    "\n",
    "\n",
    "> **Variância**<br>\n",
    "Variância se refere à variabilidade das predições de um modelo.<br>\n",
    "Modelos com alta variância são muito complexos, por **aprenderem demais as relações  exibidas nos dados de treino** (overfit).<br>\n",
    "Isso faz com que os erros de treino sejam baixos, mas os erros de teste sejam altos.\n",
    "<br><br>\n",
    "Em outras palavras:<br>\n",
    "**Incapacidade de um modelo performar bem em outros datasets diferentes do usado no treinamento**. \n",
    "\n",
    "<img src=\"https://www.learnopencv.com/wp-content/uploads/2017/02/Bias-Variance-Tradeoff-In-Machine-Learning-1.png\" width=500>\n",
    "\n",
    "<img src=\"https://miro.medium.com/max/1494/1*C7ZKM93QVdpeSCGbF5TjIg.png\" width=800>\n",
    "\n",
    "Para demonstrar overfit ser usado o conjuto de teste [anscombe](https://en.wikipedia.org/wiki/Anscombe%27s_quartet)"
   ]
  },
  {
   "cell_type": "code",
   "execution_count": null,
   "metadata": {
    "ExecuteTime": {
     "end_time": "2022-01-10T19:06:17.551181Z",
     "start_time": "2022-01-10T19:06:17.426513Z"
    },
    "scrolled": false
   },
   "outputs": [],
   "source": [
    "df_anscombe = sns.load_dataset('anscombe')\n",
    "\n",
    "df_anscombe"
   ]
  },
  {
   "cell_type": "code",
   "execution_count": null,
   "metadata": {
    "ExecuteTime": {
     "end_time": "2022-01-10T19:06:17.661256Z",
     "start_time": "2022-01-10T19:06:17.553159Z"
    }
   },
   "outputs": [],
   "source": [
    "df = df_anscombe[df_anscombe[\"dataset\"] == \"III\"].copy()\n",
    "\n",
    "df"
   ]
  },
  {
   "cell_type": "code",
   "execution_count": null,
   "metadata": {
    "ExecuteTime": {
     "end_time": "2022-01-10T19:06:17.991258Z",
     "start_time": "2022-01-10T19:06:17.664260Z"
    }
   },
   "outputs": [],
   "source": [
    "sns.scatterplot(data=df, x='x',y='y')"
   ]
  },
  {
   "cell_type": "markdown",
   "metadata": {},
   "source": [
    "Vamos supor que este dado represente valores de medições de um sensor, porém o sensor teve um pequeno problema durante a medição.\n",
    "\n",
    "Podemos perceber facilmente qual é este erro, e qual seria a função de regreesão para este sensor com os dados validos: **regressão linear**."
   ]
  },
  {
   "cell_type": "code",
   "execution_count": null,
   "metadata": {
    "ExecuteTime": {
     "end_time": "2022-01-10T19:06:18.332174Z",
     "start_time": "2022-01-10T19:06:17.994251Z"
    }
   },
   "outputs": [],
   "source": [
    "sns.lmplot(data=df, x='x', y='y', ci=False)"
   ]
  },
  {
   "cell_type": "markdown",
   "metadata": {},
   "source": [
    "Perceba que a função linear encontrar já aprensenta um padrão muito similiar aos dados, porém um ponto error faz com que ela não tenha um resultado otimo.\n",
    "\n",
    "Podemos utilizar regressões polinomiais, que possuem ordem maiores que 1, para tentar diminuir o erro da regressão. Por exemplo, podemos considerar um polinômio de grau 6,\n",
    "\n",
    "$$\\hat{y}_{i} = \\beta_{1} + \\beta_{2} x_{i} + \\beta_{3} {x_{i}}^{2} + \\cdots + \\beta_{6} {x_{i}}^{6}$$\n",
    "\n",
    "Para criar modelos polinomiais com o sklearn, [dê uma olhada aqui](https://scikit-learn.org/stable/modules/generated/sklearn.preprocessing.PolynomialFeatures.html). Mas, teremos uma aula sobre isso, logo logo!"
   ]
  },
  {
   "cell_type": "code",
   "execution_count": null,
   "metadata": {
    "ExecuteTime": {
     "end_time": "2022-01-10T19:06:18.870854Z",
     "start_time": "2022-01-10T19:06:18.334154Z"
    },
    "scrolled": false
   },
   "outputs": [],
   "source": [
    "# pra sumir os wanings\n",
    "import warnings \n",
    "warnings.filterwarnings('ignore')\n",
    "\n",
    "sns.lmplot(data=df, x='x', y='y', order=11, ci=False)"
   ]
  },
  {
   "cell_type": "markdown",
   "metadata": {},
   "source": [
    "Ao utilizarmos uma regressão de ordem 6 percebemos que ela se ajusta ao valor com erro, porém ela **se distancia da regressão que realmente representa os dados**. \n",
    "\n",
    "Tentar **aprender o erro faz com ela com ela não aprenda a função real**. \n",
    "\n",
    "Isto acontece pois ela se **super ajustou aos dados de treino, se distanciando dos dados reais**. "
   ]
  },
  {
   "cell_type": "markdown",
   "metadata": {},
   "source": [
    "__Como garantir que nosso modelo não está sofrendo de overfitting?__\n",
    "\n",
    "Naturalmente, essa é uma pergunta de extrema importância, especialmente no contexto de **Redes neurais**. [Veja aqui](https://towardsdatascience.com/8-simple-techniques-to-prevent-overfitting-4d443da2ef7d) e [aqui](https://towardsdatascience.com/dont-overfit-how-to-prevent-overfitting-in-your-deep-learning-models-63274e552323) algumas discussões.\n",
    "\n",
    "Na prática: **jamais se apegue à peformance de treino como forma de avaliar o modelo!**. O que queremos otimizar sempre será a performance **avaliada nos dados de teste**, isto é, a ((performance de generalização** do modelo. \n",
    "\n",
    "Assim, é **avaliando o modelo nos dados de teste** que garantimos que uma boa performance não é produto do overfitting!"
   ]
  },
  {
   "cell_type": "markdown",
   "metadata": {},
   "source": [
    "Mais a diante, discutiremos overfitting e o tradeoff viés/variância em detalhes. Por enquanto, uma boa prática é comparar as métricas de treino com as métricas de teste, conforme fizemos acima. Isso nos permite avaliar, de maneira rápida e simples, se houve underfitting!"
   ]
  },
  {
   "cell_type": "markdown",
   "metadata": {},
   "source": [
    "____\n",
    "___\n",
    "___"
   ]
  }
 ],
 "metadata": {
  "kernelspec": {
   "display_name": "Python 3",
   "language": "python",
   "name": "python3"
  },
  "language_info": {
   "codemirror_mode": {
    "name": "ipython",
    "version": 3
   },
   "file_extension": ".py",
   "mimetype": "text/x-python",
   "name": "python",
   "nbconvert_exporter": "python",
   "pygments_lexer": "ipython3",
   "version": "3.8.3"
  },
  "toc": {
   "base_numbering": 1,
   "nav_menu": {},
   "number_sections": true,
   "sideBar": true,
   "skip_h1_title": false,
   "title_cell": "Table of Contents",
   "title_sidebar": "Contents",
   "toc_cell": false,
   "toc_position": {},
   "toc_section_display": true,
   "toc_window_display": false
  },
  "varInspector": {
   "cols": {
    "lenName": 16,
    "lenType": 16,
    "lenVar": 40
   },
   "kernels_config": {
    "python": {
     "delete_cmd_postfix": "",
     "delete_cmd_prefix": "del ",
     "library": "var_list.py",
     "varRefreshCmd": "print(var_dic_list())"
    },
    "r": {
     "delete_cmd_postfix": ") ",
     "delete_cmd_prefix": "rm(",
     "library": "var_list.r",
     "varRefreshCmd": "cat(var_dic_list()) "
    }
   },
   "types_to_exclude": [
    "module",
    "function",
    "builtin_function_or_method",
    "instance",
    "_Feature"
   ],
   "window_display": false
  }
 },
 "nbformat": 4,
 "nbformat_minor": 1
}
