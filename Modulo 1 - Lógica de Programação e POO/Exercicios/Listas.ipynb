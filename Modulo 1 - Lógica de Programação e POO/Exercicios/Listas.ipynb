{
 "cells": [
  {
   "cell_type": "code",
   "execution_count": 3,
   "source": [
    "# 1\r\n",
    "\"\"\"\r\n",
    "Crie uma lista qualquer e faça um programa que imprima cada elemento da lista usando o for.\r\n",
    "\"\"\"\r\n",
    "\r\n",
    "anyList = [1,4,2,'bacon', '']\r\n",
    "\r\n",
    "for item in range(len(anyList)):\r\n",
    "    print(anyList[item])"
   ],
   "outputs": [
    {
     "output_type": "stream",
     "name": "stdout",
     "text": [
      "1\n",
      "4\n",
      "2\n",
      "bacon\n",
      "\n"
     ]
    }
   ],
   "metadata": {}
  },
  {
   "cell_type": "code",
   "execution_count": 4,
   "source": [
    "# 2\r\n",
    "\"\"\"\r\n",
    "Faça um programa que peça para o usuário digitar um número n e imprima uma lista com todos os números de 0 a n-1.\r\n",
    "\r\n",
    "Exemplo: se o usuário digitar 5, o programa deve imprimir [0, 1, 2, 3, 4]\r\n",
    "\"\"\"\r\n",
    "\r\n",
    "n = int(input(\"Digite um número inteiro: \"))\r\n",
    "\r\n",
    "for n in range(n):\r\n",
    "    print(n)\r\n"
   ],
   "outputs": [
    {
     "output_type": "stream",
     "name": "stdout",
     "text": [
      "0\n",
      "1\n",
      "2\n",
      "3\n",
      "4\n",
      "5\n",
      "6\n",
      "7\n",
      "8\n",
      "9\n"
     ]
    }
   ],
   "metadata": {}
  },
  {
   "cell_type": "code",
   "execution_count": 33,
   "source": [
    "# 3\r\n",
    "\r\n",
    "\"\"\"\r\n",
    "Faça um programa que olhe todos os itens de uma lista e diga quantos deles são pares.\r\n",
    "\"\"\"\r\n",
    "\r\n",
    "myList = [1,6,3,4,10,11,12,2,90]\r\n",
    "\r\n",
    "len([item for item in myList if item % 2 == 0])"
   ],
   "outputs": [
    {
     "output_type": "execute_result",
     "data": {
      "text/plain": [
       "6"
      ]
     },
     "metadata": {},
     "execution_count": 33
    }
   ],
   "metadata": {}
  },
  {
   "cell_type": "code",
   "execution_count": 39,
   "source": [
    "# 4\r\n",
    "\"\"\"\r\n",
    "Faça um programa que imprima o maior número de uma lista, sem usar o método max().\r\n",
    "\"\"\"\r\n",
    "\r\n",
    "myList = [0,2,-3,4,10,-30,15,2]\r\n",
    "aux = myList[0]\r\n",
    "for i in range(1, len(myList)):\r\n",
    "    if aux < myList[i]:\r\n",
    "        aux = myList[i]\r\n",
    "\r\n",
    "print(aux)"
   ],
   "outputs": [
    {
     "output_type": "stream",
     "name": "stdout",
     "text": [
      "15\n"
     ]
    }
   ],
   "metadata": {}
  },
  {
   "cell_type": "code",
   "execution_count": 40,
   "source": [
    "# 5\r\n",
    "\"\"\"\r\n",
    "Agora usando o método max() faça um programa que imprima os três maiores números de uma lista.\r\n",
    "\r\n",
    "Dica: Use o método próprio de listas .remove().\r\n",
    "\"\"\"\r\n",
    "\r\n",
    "myList = [0,2,-3,4,10,-30,15,2]\r\n",
    "\r\n",
    "for item in range(0,3):\r\n",
    "    print(max(myList))\r\n",
    "    myList.remove(max(myList))\r\n"
   ],
   "outputs": [
    {
     "output_type": "stream",
     "name": "stdout",
     "text": [
      "15\n",
      "10\n",
      "4\n"
     ]
    }
   ],
   "metadata": {}
  },
  {
   "cell_type": "code",
   "execution_count": 42,
   "source": [
    "# 6\r\n",
    "\"\"\"\r\n",
    "Faça um programa que, dadas duas listas de mesmo tamanho, crie uma nova lista com cada elemento igual a soma dos elementos da lista 1 com os da lista 2, na mesma posição.\r\n",
    "\r\n",
    "Exemplo: dadas lista1 = [1, 4, 5] e lista2 = [2, 2, 3], então lista3 = [1+2, 4+2, 5+3] = [3, 6, 8]\r\n",
    "\"\"\"\r\n",
    "lista1 = [1, 4, 5]\r\n",
    "lista2 = [2, 2, 3]\r\n",
    "lista3 = []\r\n",
    "\r\n",
    "for index in range(len(lista1)):\r\n",
    "    lista3.append(lista1[index] + lista2[index])\r\n",
    "\r\n",
    "print(lista3)"
   ],
   "outputs": [
    {
     "output_type": "stream",
     "name": "stdout",
     "text": [
      "[3, 6, 8]\n"
     ]
    }
   ],
   "metadata": {}
  },
  {
   "cell_type": "code",
   "execution_count": 1,
   "source": [
    "# 7\r\n",
    "\"\"\"\r\n",
    "Faça um programa que dadas duas listas de mesmo tamanho, imprima o produto escalar entre elas.\r\n",
    "\r\n",
    "OBS: produto escalar é a soma do resultado da multiplicação entre o número \r\n",
    "na posição i da lista1 pelo número na posição i da lista2, com i variando de 0 ao tamanho da lista.\r\n",
    "\"\"\"\r\n",
    "\r\n",
    "lista1 = [1,3,2,4,10,0,13]\r\n",
    "lista2 = [4,1,7,18,5,2,10]\r\n",
    "\r\n",
    "produtoEscalar = 0\r\n",
    "for i in range(len(lista1)):\r\n",
    "    produtoEscalar += lista1[i] * lista2[i]\r\n",
    "\r\n",
    "print(produtoEscalar)"
   ],
   "outputs": [
    {
     "output_type": "stream",
     "name": "stdout",
     "text": [
      "273\n"
     ]
    }
   ],
   "metadata": {}
  },
  {
   "cell_type": "code",
   "execution_count": 3,
   "source": [
    "# 8\r\n",
    "\"\"\"\r\n",
    "Faça um programa que pede para o usuário digitar 5 números e, ao final, imprime uma lista com os 5 números digitados pelo usuário (sem converter os números para int ou float).\r\n",
    "\r\n",
    "Exemplo: Se o usuário digitar 1, 5, 2, 3, 6, o programa deve imprimir a lista ['1','5','2','3','6']\r\n",
    "\"\"\"\r\n",
    "lista = []\r\n",
    "for i in range(5):\r\n",
    "    lista.append(int(input(f\"Digite o numero {i+1}: \")))\r\n",
    "\r\n",
    "print(lista)\r\n"
   ],
   "outputs": [
    {
     "output_type": "stream",
     "name": "stdout",
     "text": [
      "[2, 1, 3, 4, 5]\n"
     ]
    }
   ],
   "metadata": {}
  },
  {
   "cell_type": "code",
   "execution_count": 6,
   "source": [
    "# 9\r\n",
    "\"\"\"\r\n",
    "Pegue a lista gerada no exercício anterior e transforme cada um dos itens dessa lista em um float.\r\n",
    "\r\n",
    "OBS: Não é para alterar o programa anterior, mas sim a lista gerada por ele.\r\n",
    "\"\"\"\r\n",
    "for i in range(len(lista)):\r\n",
    "    lista[i] = float(lista[i])\r\n",
    "\r\n",
    "print(lista)\r\n",
    "\r\n"
   ],
   "outputs": [
    {
     "output_type": "stream",
     "name": "stdout",
     "text": [
      "[2.0, 1.0, 3.0, 4.0, 5.0]\n"
     ]
    }
   ],
   "metadata": {}
  },
  {
   "cell_type": "code",
   "execution_count": 9,
   "source": [
    "# 10\r\n",
    "\"\"\"\r\n",
    "Faça um Programa que peça as 4 notas bimestrais e mostre a média aritmética delas, usando listas.\r\n",
    "\"\"\"\r\n",
    "notas = []\r\n",
    "for i in range(4):\r\n",
    "    notas.append(float(input(f\"Digite a nota do bimestre {i}: \")))\r\n",
    "\r\n",
    "media = sum(notas)/len(notas)\r\n",
    "\r\n",
    "print(f\"A média das notas dos bimestres é {media}.\")\r\n"
   ],
   "outputs": [
    {
     "output_type": "stream",
     "name": "stdout",
     "text": [
      "A média das notas dos bimestres é 7.5.\n"
     ]
    }
   ],
   "metadata": {}
  },
  {
   "cell_type": "code",
   "execution_count": 33,
   "source": [
    "# 11\r\n",
    "\"\"\"\r\n",
    "Sorteie uma lista de 10 números e imprima:\r\n",
    "\r\n",
    "a. uma lista com os 4 primeiros números;\r\n",
    "\r\n",
    "b. uma lista com os 5 últimos números;\r\n",
    "\r\n",
    "c. uma lista contendo apenas os elementos das posições pares;\r\n",
    "\r\n",
    "d. uma lista contendo apenas os elementos das posições ímpares;\r\n",
    "\r\n",
    "e. a lista inversa da lista sorteada (isto é, uma lista que começa com o último elemento da lista sorteada e termina com o primeiro);\r\n",
    "\r\n",
    "f. uma lista inversa dos 5 primeiros números;\r\n",
    "\r\n",
    "g. uma lista inversa dos 5 últimos números.\r\n",
    "\"\"\"\r\n",
    "\r\n",
    "import random\r\n",
    "\r\n",
    "lista = [random.randint(0,10) for i in range(10)]\r\n",
    "\r\n",
    "#print(f\"Lista original: {lista}\")\r\n",
    "print(f\"4 primeiros números: {lista[:4]}\")\r\n",
    "print(f\"5 últimos números: {lista[5:]}\")\r\n",
    "print(f\"apenas os elementos das posições pares: {[numero for numero in lista if numero % 2 == 0]}\")\r\n",
    "print(f\"apenas os elementos das posições ímpares: {[numero for numero in lista if numero % 2 != 0]}\")\r\n",
    "print(f\"lista inversa da lista sorteada: {sorted(lista, reverse=True)}\")\r\n",
    "lista.reverse()\r\n",
    "print(f\"lista inversa dos 5 primeiros números: {lista[5:]}\")\r\n",
    "print(f\"lista inversa dos 5 últimos números: {lista[:5]}\")\r\n",
    "\r\n"
   ],
   "outputs": [
    {
     "output_type": "stream",
     "name": "stdout",
     "text": [
      "Lista original: [4, 4, 9, 8, 9, 9, 2, 0, 3, 7]\n",
      "4 primeiros números: [4, 4, 9, 8]\n",
      "5 últimos números: [9, 2, 0, 3, 7]\n",
      "apenas os elementos das posições pares: [4, 4, 8, 2, 0]\n",
      "apenas os elementos das posições ímpares: [9, 9, 9, 3, 7]\n",
      "lista inversa da lista sorteada: [9, 9, 9, 8, 7, 4, 4, 3, 2, 0]\n",
      "lista inversa dos 5 primeiros números: [9, 8, 9, 4, 4]\n",
      "lista inversa dos 5 últimos números: [7, 3, 0, 2, 9]\n"
     ]
    }
   ],
   "metadata": {}
  },
  {
   "cell_type": "code",
   "execution_count": 52,
   "source": [
    "# 12\r\n",
    "\"\"\"\r\n",
    "Faça um programa que sorteia 10 números entre 0 e 100 e conte quantos números sorteados são maiores que 50.\r\n",
    "\"\"\"\r\n",
    "\r\n",
    "import random\r\n",
    "\r\n",
    "len([random.randint(0,100) for i in range(10) if random.randint(0,100) > 50])"
   ],
   "outputs": [
    {
     "output_type": "execute_result",
     "data": {
      "text/plain": [
       "3"
      ]
     },
     "metadata": {},
     "execution_count": 52
    }
   ],
   "metadata": {}
  },
  {
   "cell_type": "code",
   "execution_count": 57,
   "source": [
    "# 13\r\n",
    "\"\"\"\r\n",
    "Desafio 1 | Faça um programa que peça para o usuário digitar o nome e \r\n",
    "a idade de um aluno e o número de provas que esse aluno fez. \r\n",
    "Depois, o programa deve pedir para o usuário digitar as notas de cada prova do aluno. \r\n",
    "Ao final o programa deve imprimir uma lista contendo:\r\n",
    "\r\n",
    "a. Nome do aluno na posição 0\r\n",
    "b. Idade do aluno na posição 1\r\n",
    "c. Uma lista com todas as notas na posição 2\r\n",
    "d. A média do aluno na posição 3\r\n",
    "e. True ou False, caso a média seja maior que 5 ou não, na posição 4\r\n",
    "\"\"\"\r\n",
    "\r\n",
    "nomeAluno = input(\"Digite o nome do aluno: \")\r\n",
    "idadeAluno = int(input(\"Digite a idade do aluno: \"))\r\n",
    "provas = int(input(f\"Digite o número de provas que {nomeAluno} fez: \"))\r\n",
    "notas = []\r\n",
    "for i in range(0,provas): notas.append(float(input(f\"Digite a nota da prova {i+1}: \")))\r\n",
    "mediaNotas = round(sum(notas)/len(notas),2)\r\n",
    "boletim = [nomeAluno, idadeAluno, notas, mediaNotas, mediaNotas>5]"
   ],
   "outputs": [
    {
     "output_type": "stream",
     "name": "stdout",
     "text": [
      "[10.0, 7.0, 1.0]\n",
      "['alino', 23, [10.0, 7.0, 1.0], 6.0, True]\n"
     ]
    }
   ],
   "metadata": {}
  },
  {
   "cell_type": "code",
   "execution_count": 59,
   "source": [
    "# 14\r\n",
    "\"\"\"\r\n",
    "Faça um programa como o do item anterior, porém que imprima a média \r\n",
    "sem considerar a maior e menor nota do aluno \r\n",
    "(nesse caso o número de provas precisa ser obrigatoriamente maior que dois).\r\n",
    "\r\n",
    "Dica: crie uma cópia com a lista de todas as notas antes de fazer a média.\r\n",
    "\"\"\"\r\n",
    "\r\n",
    "notas = []\r\n",
    "nomeAluno = input(\"Digite o nome do aluno: \")\r\n",
    "idadeAluno = int(input(\"Digite a idade do aluno: \"))\r\n",
    "provas = int(input(f\"Digite o número de provas que {nomeAluno} fez: \"))\r\n",
    "while provas <= 2:\r\n",
    "    print(\"Número de provas precisa ser maior que 2.\")\r\n",
    "    provas = int(input(f\"Digite o número de provas que {nomeAluno} fez: \"))\r\n",
    "for i in range(0,provas): notas.append(float(input(f\"Digite a nota da prova {i+1}: \")))\r\n",
    "copiaNotas = notas.copy()\r\n",
    "copiaNotas.remove(max(notas))\r\n",
    "copiaNotas.remove(min(notas))\r\n",
    "mediaNotas = round(sum(copiaNotas)/len(copiaNotas),2)\r\n",
    "boletim = [nomeAluno, idadeAluno, notas, mediaNotas, mediaNotas>5]\r\n",
    "\r\n",
    "print(boletim)"
   ],
   "outputs": [
    {
     "output_type": "stream",
     "name": "stdout",
     "text": [
      "['alasiasoa', 23, [10.0, 4.0, 5.0, 6.0, 2.0], 5.0, False]\n"
     ]
    }
   ],
   "metadata": {}
  },
  {
   "cell_type": "code",
   "execution_count": null,
   "source": [
    "# 15\r\n",
    "\"\"\"\r\n",
    "\r\n",
    "\"\"\""
   ],
   "outputs": [],
   "metadata": {}
  }
 ],
 "metadata": {
  "orig_nbformat": 4,
  "language_info": {
   "name": "python",
   "version": "3.9.4",
   "mimetype": "text/x-python",
   "codemirror_mode": {
    "name": "ipython",
    "version": 3
   },
   "pygments_lexer": "ipython3",
   "nbconvert_exporter": "python",
   "file_extension": ".py"
  },
  "kernelspec": {
   "name": "python3",
   "display_name": "Python 3.9.4 64-bit"
  },
  "interpreter": {
   "hash": "fdb82091c31ccec212108c9d33ed720fd5863cd94fd9b654da4538787f6a7368"
  }
 },
 "nbformat": 4,
 "nbformat_minor": 2
}