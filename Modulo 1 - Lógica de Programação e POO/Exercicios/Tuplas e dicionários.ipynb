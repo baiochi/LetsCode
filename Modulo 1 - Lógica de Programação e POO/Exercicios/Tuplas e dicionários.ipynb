{
 "cells": [
  {
   "cell_type": "code",
   "execution_count": null,
   "source": [
    "\"\"\"\r\n",
    "Crie uma tupla com todos os números de 0 a 9. Explore a sintaxe: use e depois não use parênteses.\r\n",
    "\"\"\"\r\n",
    "\r\n",
    "(0,1,2,3,4,5,6,7,8,9)\r\n",
    "tuple(range(10))"
   ],
   "outputs": [],
   "metadata": {}
  },
  {
   "cell_type": "code",
   "execution_count": 8,
   "source": [
    "\"\"\"\r\n",
    "Crie uma função que recebe uma lista de números e devolve, nesta ordem, o mínimo, \r\n",
    "a média, o desvio padrão e o máximo.\r\n",
    "\r\n",
    "Dica: Use a biblioteca statistics (import statistics) para calcular o desvio padrão: \r\n",
    "desvio = statistics.stdev(lista)\r\n",
    "\"\"\"\r\n",
    "import statistics\r\n",
    "\r\n",
    "def function(_list):\r\n",
    "    minimum = min(_list)\r\n",
    "    maxixum = max(_list)\r\n",
    "    mean = statistics.mean(_list)\r\n",
    "    std = statistics.stdev(_list)\r\n",
    "    return minimum, mean, std, maxixum\r\n",
    "\r\n",
    "_list = [1,2,3,4,5]\r\n",
    "\r\n",
    "function(_list)"
   ],
   "outputs": [
    {
     "output_type": "execute_result",
     "data": {
      "text/plain": [
       "(1, 3, 1.5811388300841898, 5)"
      ]
     },
     "metadata": {},
     "execution_count": 8
    }
   ],
   "metadata": {}
  },
  {
   "cell_type": "code",
   "execution_count": 15,
   "source": [
    "\"\"\"\r\n",
    "Crie uma função que recebe uma lista e retorna True se todos os seus elementos forem numéricos (int, float ou string contendo um int ou float) \r\n",
    "ou False do contrário. A função deve também retornar a lista tratada: transformar todas as entradas não numéricas em numéricas ou, \r\n",
    "no melhor caso, devolver a lista apenas.\r\n",
    "\"\"\"\r\n",
    "\r\n",
    "def function(_list):\r\n",
    "    for index in range(len(_list)):\r\n",
    "        if isinstance(_list[index], str):\r\n",
    "            try:\r\n",
    "                _list[index] = float(_list[index])\r\n",
    "            except ValueError:\r\n",
    "                return False\r\n",
    "    return True, _list\r\n",
    "\r\n",
    "_list = [1,3,2,\"5\"]\r\n",
    "\r\n",
    "function(_list)\r\n"
   ],
   "outputs": [
    {
     "output_type": "execute_result",
     "data": {
      "text/plain": [
       "(True, [1, 3, 2, 5.0])"
      ]
     },
     "metadata": {},
     "execution_count": 15
    }
   ],
   "metadata": {}
  },
  {
   "cell_type": "code",
   "execution_count": null,
   "source": [
    "\"\"\"\r\n",
    "Faça uma função que recebe valores a, b e c, resolve a equação quadrática a*x**2 + b*x + c = 0 e retorna:\r\n",
    "\r\n",
    "a. o valor de Δ onde Δ = b**2- 4*a*c\r\n",
    "\r\n",
    "b. uma tupla com o valor do ponto de mínimo ou máximo: x_m = -b/(2*a) e y_m = -Δ/(4*a);\r\n",
    "\r\n",
    "c. uma lista contendo as raízes (a lista pode ser vazia, caso Δ<0; pode conter apenas um elemento, caso Δ = 0; ou conter duas raízes, caso Δ> 0).\r\n",
    "\"\"\"\r\n",
    "\r\n",
    "\r\n",
    "def function(a,b,c):\r\n",
    "    delta = b**2 - (4*a*c)\r\n",
    "    xpoint = -b/(2*a)\r\n",
    "    ypoint = -delta/(4*a)\r\n",
    "\r\n",
    "    if delta < 0:\r\n",
    "        return delta, (xpoint,ypoint), []\r\n",
    "    elif delta == 0:\r\n",
    "        return delta, (xpoint,ypoint), [xpoint]\r\n",
    "    else:\r\n",
    "        root1 = (-b + delta)/(2*a)\r\n",
    "        root2 = (-b - delta)/(2*a)\r\n",
    "        return delta, (xpoint,ypoint), [root1, root2] \r\n"
   ],
   "outputs": [],
   "metadata": {}
  },
  {
   "cell_type": "code",
   "execution_count": 16,
   "source": [
    "\"\"\"\"\r\n",
    "Crie um dicionário cujas chaves são os meses do ano e os valores são a duração (em dias) de cada mês.\r\n",
    "\"\"\"\r\n",
    "\r\n",
    "_dict = {\r\n",
    "    'Janeiro': 31,\r\n",
    "    'Fevereiro': 28,\r\n",
    "    'Marco': 31,\r\n",
    "    'Abril': 30,\r\n",
    "    'Maio': 31,\r\n",
    "    'Junho': 30,\r\n",
    "    'Julho': 31,\r\n",
    "    'Agosto': 31,\r\n",
    "    'Setembro': 30 ,\r\n",
    "    'Outubro': 31,\r\n",
    "    'Novembro': 30,\r\n",
    "    'Dezembro': 31\r\n",
    "}"
   ],
   "outputs": [],
   "metadata": {}
  },
  {
   "cell_type": "code",
   "execution_count": null,
   "source": [
    "\"\"\"\r\n",
    "Imprima as chaves seguidas dos seus valores para dicionário criado no exercício anterior.\r\n",
    "\"\"\"\r\n",
    "\r\n",
    "for key, value in _dict.items():\r\n",
    "    print(f'{key} - {value}')\r\n"
   ],
   "outputs": [],
   "metadata": {}
  },
  {
   "cell_type": "code",
   "execution_count": 19,
   "source": [
    "\"\"\"\r\n",
    "Crie um dicionário para as seguintes relações:\r\n",
    "‘Banana’: 3.0\r\n",
    "‘Cebola’: 4.0\r\n",
    "‘Maçã’: 5.7\r\n",
    "‘Abacaxi’: 8.0\r\n",
    "\"\"\"\r\n",
    "\r\n",
    "_dict = {\r\n",
    "    'Banana': 3.0,\r\n",
    "    'Cebola': 4.0,\r\n",
    "    'Maçã': 5.7,\r\n",
    "    'Abacaxi': 8.0\r\n",
    "}"
   ],
   "outputs": [],
   "metadata": {}
  },
  {
   "cell_type": "code",
   "execution_count": null,
   "source": [
    "\"\"\" \r\n",
    "Altere o valor da chave ‘Maçã’ no dicionário do exercício anterior para 8.6.\r\n",
    "\"\"\"\r\n",
    "\r\n",
    "_dict['Maçã'] = 8.6"
   ],
   "outputs": [],
   "metadata": {}
  },
  {
   "cell_type": "code",
   "execution_count": null,
   "source": [
    "\"\"\"\r\n",
    "Crie uma função que receba os valores do nome, idade e e-mail de uma pessoa e guarde-os em um dicionário com as \r\n",
    "chaves ‘nome’, ‘idade’ e ‘email’, respectivamente. Sua função deve retornar esse dicionário.\r\n",
    "\"\"\"\r\n",
    "\r\n",
    "def function(nome, idade, email):\r\n",
    "    return {\r\n",
    "        'Nome' : nome,\r\n",
    "        'Idade': idade,\r\n",
    "        'E-mail': email\r\n",
    "    }\r\n",
    "\r\n",
    "\r\n"
   ],
   "outputs": [],
   "metadata": {}
  },
  {
   "cell_type": "code",
   "execution_count": 1,
   "source": [
    "\"\"\"\r\n",
    "Como você armazenaria a seguinte tabela usando apenas dicionários? Tente imprimir o valor correspondente da linha Pedro x Coluna B.\r\n",
    "\r\n",
    "Coluna A\tColuna B\r\n",
    "Maria\t1\t5\r\n",
    "Pedro\t0.5\t3\r\n",
    "João\t3.2\t1\r\n",
    "\"\"\"\r\n",
    "\r\n",
    "_dict = {\r\n",
    "    'Maria': {\r\n",
    "        'Coluna A': 1,\r\n",
    "        'Coluna B': 5\r\n",
    "    },\r\n",
    "    'Pedro':{\r\n",
    "        'Coluna A': 0.5,\r\n",
    "        'Coluna B': 3\r\n",
    "    },\r\n",
    "    'João':{\r\n",
    "        'Coluna A': 3.2,\r\n",
    "        'Coluna B': 1\r\n",
    "    }\r\n",
    "}\r\n",
    "\r\n",
    "_dict['Pedro']['Coluna B']"
   ],
   "outputs": [
    {
     "output_type": "execute_result",
     "data": {
      "text/plain": [
       "3"
      ]
     },
     "metadata": {},
     "execution_count": 1
    }
   ],
   "metadata": {}
  },
  {
   "cell_type": "code",
   "execution_count": 23,
   "source": [
    "\"\"\"\r\n",
    "Faça uma função que receba uma lista e conte quantas vezes cada elemento apareceu nessa lista. \r\n",
    "Essa função deverá guardar os dados em um dicionário no qual as chaves são os elementos da lista \r\n",
    "e os valores são a contagem de quantas vezes esse elemento aparece.\r\n",
    "\"\"\"\r\n",
    "\r\n",
    "def function(_list):\r\n",
    "    for value in _list:\r\n",
    "        _dict[value] = _list.count(value)\r\n",
    "    return _dict\r\n",
    "\r\n",
    "_list = [1,2,2,3,4,1,2,5]\r\n",
    "\r\n",
    "function(_list)"
   ],
   "outputs": [
    {
     "output_type": "execute_result",
     "data": {
      "text/plain": [
       "{'Maria': {'Coluna A': 1, 'Coluna B': 5},\n",
       " 'Pedro': {'Coluna A': 0.5, 'Coluna B': 3},\n",
       " 'João': {'Coluna A': 3.2, 'Coluna B': 1},\n",
       " 1: 2,\n",
       " 2: 3,\n",
       " 3: 1,\n",
       " 4: 1,\n",
       " 5: 1}"
      ]
     },
     "metadata": {},
     "execution_count": 23
    }
   ],
   "metadata": {}
  },
  {
   "cell_type": "code",
   "execution_count": 18,
   "source": [
    "\"\"\"\r\n",
    "Faça um programa que fique pedindo uma resposta do usuário, entre 1, 2 e 3. Se o usuário digitar 1, \r\n",
    "o programa deve cadastrar um novo usuário nos moldes do exercício 10 e guardar esse cadastro num \r\n",
    "dicionário cuja chave será o CPF da pessoa. Quando o usuário digitar 2, o programa deve imprimir \r\n",
    "os usuários cadastrados; e se o usuário digitar 3, o programa deve fechar.\r\n",
    "\r\n",
    "Exemplo do dicionário:\r\n",
    "\r\n",
    "‘987.654.321-00’: {‘nome’: Maria, ‘idade’: 20, ‘email’ :             maria@mail.com}\r\n",
    "\"\"\"\r\n",
    "\r\n",
    "end = False\r\n",
    "_dict = {}\r\n",
    "\r\n",
    "while not end:\r\n",
    "    answer = int(input(\"Digite 1 para cadastro de novo usuário,\\n 2 para visualizar usuários cadastrados,\\n ou 3 para sair.\"))\r\n",
    "    if answer == 1:\r\n",
    "        print(\"Cadastrando novo usuário:\")\r\n",
    "        nome = input(\"Digite o nome: \")\r\n",
    "        idade = int(input(\"Digite a idade: \"))\r\n",
    "        email = input(\"Digite o e-mail: \")\r\n",
    "        cpf = int(input(\"Digite o CPF: \"))\r\n",
    "\r\n",
    "        _dict[cpf] = {\r\n",
    "            'Nome' : nome,\r\n",
    "            'Idade' : idade,\r\n",
    "            'Email' : email\r\n",
    "        }\r\n",
    "\r\n",
    "    elif answer == 2:\r\n",
    "        print(\"Usuários cadastrados:\")\r\n",
    "        for user in _dict:\r\n",
    "            print(f'Nome: {_dict[user][\"Nome\"]}, CPF: {user}, Idade: {_dict[user][\"Idade\"]}, E-mail: {_dict[user][\"Email\"]}')\r\n",
    "        \r\n",
    "    elif answer == 3:\r\n",
    "        print(\"Saindo do programa...\")\r\n",
    "        end = True\r\n",
    "\r\n",
    "        "
   ],
   "outputs": [
    {
     "output_type": "stream",
     "name": "stdout",
     "text": [
      "Usuários cadastrados:\n",
      "Nome: maria, CPF: 2304302, Idade: 1212, E-mail: kaokaokaok\n",
      "Nome: jose, CPF: 30918763, Idade: 230, E-mail: oksokaokwpakepa\n",
      "Saindo...\n"
     ]
    }
   ],
   "metadata": {}
  },
  {
   "cell_type": "code",
   "execution_count": 20,
   "source": [
    "\"\"\"\r\n",
    "Implemente um sistema de busca para o programa do exercício anterior. \r\n",
    "Isto é, se o usuário digitar 4, procure um determinado usuário pelo seu CPF. \r\n",
    "\"\"\"\r\n",
    "\r\n",
    "def buscaCPF(cpf):\r\n",
    "    if cpf in _dict:\r\n",
    "        print(_dict[cpf])\r\n",
    "    else:\r\n",
    "        print(f'CPF {cpf} não encontrado.')"
   ],
   "outputs": [],
   "metadata": {}
  },
  {
   "cell_type": "code",
   "execution_count": 34,
   "source": [
    "\"\"\"\r\n",
    "Faça o análogo do exercício 12 para strings: conte quantas vezes cada caracter apareceu nessa \r\n",
    "string e retorne um dicionário com essa contagem.\r\n",
    "\"\"\"\r\n",
    "end = False\r\n",
    "_dict = {}\r\n",
    "\r\n",
    "while not end:\r\n",
    "    answer = int(input(\"Digite 1 para inserir uma string,\\n 2 para visualizar a contagem,\\n ou 3 para sair.\"))\r\n",
    "    if answer == 1:\r\n",
    "        _string = input('Digite uma string: ')\r\n",
    "        auxDict = {}\r\n",
    "        for character in _string:\r\n",
    "            auxDict[character] = _string.count(character)\r\n",
    "        _dict[_string] = auxDict\r\n",
    "    elif answer == 2:\r\n",
    "        print('Visualizando as strings: ')\r\n",
    "        for key in _dict:\r\n",
    "            print(f'String: {key}, Contagem: {_dict[key]}')\r\n",
    "    elif answer == 3:\r\n",
    "        print(\"Saindo do programa...\")\r\n",
    "        end = True"
   ],
   "outputs": [
    {
     "output_type": "stream",
     "name": "stdout",
     "text": [
      "Visualizando as strings: \n",
      "String: batata, Count: {'b': 1, 'a': 3, 't': 2}\n",
      "String: potato, Count: {'p': 1, 'o': 2, 't': 2, 'a': 1}\n",
      "String: esterco, Count: {'e': 2, 's': 1, 't': 1, 'r': 1, 'c': 1, 'o': 1}\n",
      "Saindo do programa...\n"
     ]
    }
   ],
   "metadata": {}
  },
  {
   "cell_type": "code",
   "execution_count": 30,
   "source": [
    "word = 'batata'\r\n",
    "for i in word:\r\n",
    "    print(f'{i} : {word.count(i)}')"
   ],
   "outputs": [
    {
     "output_type": "stream",
     "name": "stdout",
     "text": [
      "b : 1\n",
      "a : 3\n",
      "t : 2\n",
      "a : 3\n",
      "t : 2\n",
      "a : 3\n"
     ]
    }
   ],
   "metadata": {}
  }
 ],
 "metadata": {
  "orig_nbformat": 4,
  "language_info": {
   "name": "python",
   "version": "3.8.8",
   "mimetype": "text/x-python",
   "codemirror_mode": {
    "name": "ipython",
    "version": 3
   },
   "pygments_lexer": "ipython3",
   "nbconvert_exporter": "python",
   "file_extension": ".py"
  },
  "kernelspec": {
   "name": "python3",
   "display_name": "Python 3.8.8 64-bit (conda)"
  },
  "interpreter": {
   "hash": "b3ba2566441a7c06988d0923437866b63cedc61552a5af99d1f4fb67d367b25f"
  }
 },
 "nbformat": 4,
 "nbformat_minor": 2
}