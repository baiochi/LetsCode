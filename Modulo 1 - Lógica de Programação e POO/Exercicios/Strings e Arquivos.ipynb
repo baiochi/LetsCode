{
 "cells": [
  {
   "cell_type": "code",
   "execution_count": null,
   "source": [
    "# imports"
   ],
   "outputs": [],
   "metadata": {}
  },
  {
   "cell_type": "markdown",
   "source": [
    "# <span style='color:SlateBlue'>Exercício 1</span>    \r\n",
    "### Criptografia  \r\n",
    "Seu objetivo com essa atividade é criar um programa capaz de criptografar textos. Isso tem vantagens no gerenciamento de senhas, por exemplo. Você deverá estruturar seu programa da seguinte maneira:\r\n",
    "\r\n",
    "Criar uma função que recebe um texto como parâmetro e retorna esse mesmo texto criptografado. A criptografia deve ocorrer conforme a seguinte regra:\r\n",
    "Substituir 'a' por 'z'\r\n",
    "Substituir 'b' por 'y'\r\n",
    "Substituir 'c' por 'x'\r\n",
    "E assim por diante...\r\n",
    "Criar uma função que lê o conteúdo de um arquivo e cria um segundo criptografado. Essa função deve receber dois parâmetros:\r\n",
    "O primeiro é o nome do arquivo de entrada, servirá de entrada com os textos originais (ainda a serem criptografados);\r\n",
    "O segundo é o nome do arquivo de saída, servirá de saída com os textos já criptografados"
   ],
   "metadata": {}
  },
  {
   "cell_type": "code",
   "execution_count": null,
   "source": [],
   "outputs": [],
   "metadata": {}
  },
  {
   "cell_type": "markdown",
   "source": [
    "# <span style='color:SlateBlue'>Exercício 2</span>    \r\n",
    "### Presença Automática\r\n",
    "Utilizando o arquivo disposto no link, referente ao chat completo de uma aula nossa, faça um estudo sobre o padrão existente e crie um programa capaz de identificar as pessoas que estavam presentes na aula.\r\n",
    "\r\n",
    "Observe que cada mensagem está estruturada com momento que a mensagem foi enviada, nome da pessoa que enviou a mensagem e texto enviado. Você deverá ler o arquivo e, ao encontrar a palavra presente no texto, deverá identificar qual pessoa enviou tal mensagem, armazenando seu nome em uma lista. Essa lista não deve conter nomes repetidos, então faça uma verificação antes de incluir novos nomes. Armazene os nomes contidos nessa lista em um arquivo chamado \"presenca_aula.txt\"."
   ],
   "metadata": {}
  },
  {
   "cell_type": "code",
   "execution_count": null,
   "source": [],
   "outputs": [],
   "metadata": {}
  }
 ],
 "metadata": {
  "orig_nbformat": 4,
  "language_info": {
   "name": "python"
  }
 },
 "nbformat": 4,
 "nbformat_minor": 2
}