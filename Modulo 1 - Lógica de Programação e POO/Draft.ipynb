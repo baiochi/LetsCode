{
 "cells": [
  {
   "cell_type": "code",
   "execution_count": 2,
   "source": [
    "import os\r\n",
    "import random"
   ],
   "outputs": [],
   "metadata": {}
  },
  {
   "cell_type": "code",
   "execution_count": 1,
   "source": [
    "#exercicio 18/08\r\n",
    "\r\n",
    "lista = [[1,1,1,[2,1,[1,1,2]],1],[1,1,1,[2,1,[1,1,1]],1],1]\r\n",
    "\r\n",
    "def somaLista(lista):\r\n",
    "    soma = 0\r\n",
    "    for i in lista:\r\n",
    "        if type(i)==list:\r\n",
    "            soma += somaLista(i)\r\n",
    "        else:\r\n",
    "            soma += i\r\n",
    "    return soma\r\n",
    "\r\n",
    "print(somaLista(lista))\r\n",
    "\r\n",
    "def somaListaComprehension(*lista):\r\n",
    "    return sum(somaListaComprehension(*i) if isinstance(i, list) else i for i in lista)\r\n",
    "                                             \r\n",
    "print(somaListaComprehension(lista,[2,1,3,4]))"
   ],
   "outputs": [
    {
     "output_type": "stream",
     "name": "stdout",
     "text": [
      "22\n",
      "32\n"
     ]
    }
   ],
   "metadata": {}
  },
  {
   "cell_type": "code",
   "execution_count": 4,
   "source": [
    "\r\n",
    "class IceShop(object):\r\n",
    "\r\n",
    "    def __init__(self, stock, price, store):\r\n",
    "        self.stock = stock\r\n",
    "        self.price = price\r\n",
    "        self.store = store\r\n",
    "    \r\n",
    "    def takeOrder(self, amount):\r\n",
    "        try:\r\n",
    "            if amount <= 0:\r\n",
    "                raise ValueError(\"Invalid input\")\r\n",
    "\r\n",
    "            if amount > self.stock:\r\n",
    "                raise SystemError(\"Stock unavailable\")\r\n",
    "\r\n",
    "            self.stock -= amount\r\n",
    "            orderValue = amount * self.price\r\n",
    "            print(f'IceShop - {amount} ice creams ordered.\\\r\n",
    "                Stock: {self.stock}; \\\r\n",
    "                Order value: R$ {orderValue} ')\r\n",
    "            return orderValue\r\n",
    "\r\n",
    "        except SystemError:\r\n",
    "            print(f\"IceShop - Order for {self.stock} icecreams not enough in current stock.\")\r\n",
    "            return 0\r\n",
    "        except ValueError:\r\n",
    "            print(f\"IceShop - Ivalid amount ordered ({self.stock})\")\r\n",
    "            return 0\r\n",
    "        except:\r\n",
    "            print(f'IceShop - Order for {self.stock} icecreams not processed.')\r\n",
    "            return 0\r\n",
    "\r\n",
    "    def recivePayment(self, orderValue, paymentValue):\r\n",
    "        try:\r\n",
    "            if orderValue <= 0 or paymentValue <= 0:\r\n",
    "                raise ValueError\r\n",
    "            if orderValue == paymentValue:\r\n",
    "                self.store += paymentValue\r\n",
    "                print(f'IceShop - Bill paid off.\\\r\n",
    "                    Recived R${paymentValue};\\\r\n",
    "                        Bill R$ {orderValue};\\\r\n",
    "                            Store: {self.store}')\r\n",
    "                return 0\r\n",
    "            elif orderValue < paymentValue:\r\n",
    "                self.store += orderValue\r\n",
    "                print(f'IceShop - Bill paid with R$ {paymentValue - orderValue} change.\\\r\n",
    "                    Recived R${paymentValue};\\\r\n",
    "                        Bill R$ {orderValue};\\\r\n",
    "                            Store: {self.store}')\r\n",
    "                return (paymentValue - orderValue)\r\n",
    "            else:\r\n",
    "                self.store += paymentValue\r\n",
    "                print(f'IceShop - Bill partially paid, missing R$ {orderValue - paymentValue} change.\\\r\n",
    "                    Recived R${paymentValue};\\\r\n",
    "                        Bill R$ {orderValue};\\\r\n",
    "                            Store: {self.store}')\r\n",
    "                return (orderValue - paymentValue)\r\n",
    "        except ValueError:\r\n",
    "            print(f'IceShop -  Error while paying bill, invalid value.\\\r\n",
    "                    Recived R${paymentValue};\\\r\n",
    "                        Bill R$ {orderValue};\\\r\n",
    "                            Store: {self.store}')\r\n",
    "            return orderValue\r\n",
    "        \r\n",
    "        except:\r\n",
    "            print(f'IceShop -  Error while paying bill.\\\r\n",
    "                    Recived R${paymentValue};\\\r\n",
    "                        Bill R$ {orderValue};\\\r\n",
    "                            Store: {self.store}')\r\n",
    "            return orderValue\r\n",
    "\r\n",
    "\r\n",
    "\r\n",
    "\r\n",
    "class Client(object):\r\n",
    "\r\n",
    "    def __init__(self, name, wallet, bill):\r\n",
    "        self.name = name\r\n",
    "        self.wallet = wallet\r\n",
    "        self.bill = 0\r\n",
    "    \r\n",
    "    def makeOrder(self, amount, iceshop):\r\n",
    "        self.bill += iceshop.recivePayment(amount)\r\n",
    "        pass\r\n",
    "\r\n",
    "    def payBill(self):\r\n",
    "        pass\r\n",
    "\r\n",
    "\r\n",
    "\r\n",
    "\r\n",
    "\r\n",
    "\r\n"
   ],
   "outputs": [
    {
     "output_type": "stream",
     "name": "stdout",
     "text": [
      "hello\n"
     ]
    }
   ],
   "metadata": {
    "scrolled": true
   }
  },
  {
   "cell_type": "code",
   "execution_count": 4,
   "source": [
    "def montaPizza(**infosPizza):\r\n",
    "    print(f\"montando pizza de {infosPizza.get('nome', 'nada')}\")\r\n",
    "    print(f\"Borda {infosPizza.get('borda', 'padrão')}\")\r\n",
    "\r\n",
    "montaPizza(nome = \"Palmito\", nada = \"batata\")\r\n",
    "print()\r\n",
    "montaPizza(borda = \"recheada\", nome = \"Queijo\")\r\n",
    "print()\r\n",
    "montaPizza()"
   ],
   "outputs": [
    {
     "output_type": "stream",
     "name": "stdout",
     "text": [
      "montando pizza de Palmito\n",
      "Borda padrão\n",
      "\n",
      "montando pizza de Queijo\n",
      "Borda recheada\n",
      "\n",
      "montando pizza de nada\n",
      "Borda padrão\n"
     ]
    }
   ],
   "metadata": {}
  },
  {
   "cell_type": "code",
   "execution_count": 12,
   "source": [
    "class Cliente(object):\r\n",
    "\r\n",
    "    def __init__(self) -> None:\r\n",
    "        super().__init__()\r\n",
    "\r\n",
    "    # 1 - Ver as bicicletas disponíveis na Loja;\r\n",
    "    def verBiciletas(self, loja):\r\n",
    "        return loja.bicicletas # falta definir metodos da Loja\r\n",
    "\r\n",
    "    #- Alugar bicicletas por hora (R$5/hora), dia (R$25/dia), semana (R$100/semana)\r\n",
    "    def alugarBicicleta(self, loja, quantidade, aluguel):\r\n",
    "        for aluguel in ['hora', 'dia']\r\n",
    "        if aluguel == 'hora':\r\n",
    "            self.modeloEmprestimo = 'hora'\r\n",
    "            print(f'Aluguel por R$5/hora')\r\n",
    "        if aluguel == 'dia':\r\n",
    "            self.modeloEmprestimo = 'dia'\r\n",
    "            print(f'Aluguel por R$25/dia')\r\n",
    "        if aluguel == 'semana':\r\n",
    "            self.modeloEmprestimo = 'semana'\r\n",
    "            print(f'Aluguel por R$100/semana')\r\n",
    "\r\n",
    "cliente = Cliente()\r\n",
    "cliente.alugarBicicleta(aluguel = \"hora\", )\r\n",
    "time"
   ],
   "outputs": [
    {
     "output_type": "stream",
     "name": "stdout",
     "text": [
      "Aluguel por R$5/hora\n"
     ]
    }
   ],
   "metadata": {}
  },
  {
   "cell_type": "code",
   "execution_count": 48,
   "source": [
    "import datetime\r\n",
    "from datetime import datetime as dt\r\n",
    "from datetime import time as t\r\n",
    "from datetime import date as d\r\n",
    "import time\r\n",
    "def toDelta(data):\r\n",
    "    return datetime.timedelta(\r\n",
    "        days=data.day,\r\n",
    "        hours=data.hour,\r\n",
    "        minutes=data.minute,\r\n",
    "        seconds=data.second\r\n",
    "    )\r\n",
    "\r\n",
    "def toDate(totalSeconds):\r\n",
    "    # 604800 segundos em uma semana\r\n",
    "    # 86400 segundos em um dia\r\n",
    "    # 3600 segundos em uma hora\r\n",
    "    # 60 segundos em um minuto\r\n",
    "    segundos = totalSeconds % 60                     # verifica se sobrou segundos\r\n",
    "    resto = segundos                                 # armazena os segundos que sobraram\r\n",
    "    minutos = ((totalSeconds - resto) / 60) % 60     # remove os segundos, e calcula se sobrou minutos\r\n",
    "    resto += minutos*60                              # armazena os minutos que sobraram\r\n",
    "    horas = ((totalSeconds - resto) / 3600) % 60     # remove os minutos, e calcula se sobrou horas\r\n",
    "    resto += horas*3600                              # armazena as horas que sobraram\r\n",
    "    dias = ((totalSeconds - resto) / 86400) % 24     # remove as horas, e calcula se sobrou dias\r\n",
    "    resto += dias*86400                              # armazena os dias que sobraram\r\n",
    "    semanas = ((totalSeconds - resto) / 604800)\r\n",
    "    return {\r\n",
    "        'semanas' : semanas, \r\n",
    "        'dias' : dias, \r\n",
    "        'horas' : horas, \r\n",
    "        'minutos' : minutos, \r\n",
    "        'segundos' : segundos\r\n",
    "    }\r\n",
    "\r\n",
    "rentData = dt(2021,8,22,14,35,0)\r\n",
    "returnData = dt(2021,8,30,18,15,12)\r\n",
    "\r\n",
    "rentDataDelta = toDelta(rentData)\r\n",
    "returnDataDelta = toDelta(returnData)\r\n",
    "\r\n",
    "#print(f\"Rent data: {rentDataDelta.strftime('time %H:%M:%S date %d/%m/%y')}\")\r\n",
    "#print(f\"Return data: {returnDataDelta.strftime('time %H:%M:%S date %d/%m/%y')}\")\r\n",
    "#print(f\"Time delta: {tdelta.strftime('time %H:%M:%S date %d/%m/%y')}\")\r\n",
    "tdelta = returnDataDelta - rentDataDelta\r\n",
    "print(tdelta)\r\n",
    "data = toDate(tdelta.total_seconds())\r\n",
    "print(data)"
   ],
   "outputs": [
    {
     "output_type": "stream",
     "name": "stdout",
     "text": [
      "8 days, 3:40:12\n",
      "{'semanas': 0.0, 'dias': 7.5, 'horas': 15.0, 'minutos': 40.0, 'segundos': 12.0}\n"
     ]
    }
   ],
   "metadata": {}
  },
  {
   "cell_type": "code",
   "execution_count": 61,
   "source": [
    "for index, promo in (1, False), (2,True):\r\n",
    "    print(f'index: {index}, promo: {promo}')"
   ],
   "outputs": [
    {
     "output_type": "stream",
     "name": "stdout",
     "text": [
      "index: 1, promo: False\n",
      "index: 2, promo: True\n"
     ]
    }
   ],
   "metadata": {}
  },
  {
   "cell_type": "code",
   "execution_count": 171,
   "source": [
    "class Cliente(object):\r\n",
    "    def __init__(self, name, cpf, obs):\r\n",
    "        self.name = name\r\n",
    "        self.cpf = cpf\r\n",
    "        self.obs = obs\r\n",
    "    def getName(self):\r\n",
    "        return self.name\r\n",
    "\r\n",
    "client1 = Cliente('jeremias', 123, 'ueoeueoe')\r\n",
    "client2 = Cliente('jerso', 421, 'ueoeueoe')\r\n",
    "client3 = Cliente('jeraldo', 875, 'ueoeueoe')\r\n",
    "rent1 = {\r\n",
    "    'client' : client1,\r\n",
    "    'id' : 1,\r\n",
    "    'cpf' : 10293001\r\n",
    "        }\r\n",
    "\r\n",
    "rent2 = {\r\n",
    "    'client' : client2,\r\n",
    "    'id' : 2,\r\n",
    "    'cpf' : 10293001\r\n",
    "        }\r\n",
    "\r\n",
    "rent3 = {\r\n",
    "    'client' : client3,\r\n",
    "    'id' : 3,\r\n",
    "    'cpf' : 10293001\r\n",
    "        }\r\n",
    "\r\n",
    "lista = []\r\n",
    "lista.append(rent1)\r\n",
    "lista.append(rent2)\r\n",
    "lista.append(rent3)\r\n",
    "for dicionario in lista:\r\n",
    "    if dicionario['client'].getName() == client1.getName():\r\n",
    "        cliente = dicionario\r\n",
    "\r\n",
    "clienteLc = [rent for rent in lista if rent['client'].getName() == client1.getName()]\r\n",
    "print(clienteLc[0]['client'].getName())\r\n",
    "print(cliente['client'].getName())"
   ],
   "outputs": [
    {
     "output_type": "stream",
     "name": "stdout",
     "text": [
      "jeremias\n",
      "jeremias\n"
     ]
    }
   ],
   "metadata": {}
  },
  {
   "cell_type": "code",
   "execution_count": 19,
   "source": [
    "class Teste(object):\r\n",
    "\r\n",
    "    def __init__(self, name, iD):\r\n",
    "        self.name = name\r\n",
    "        self.iD = iD\r\n",
    "    def __repr__(self) -> str:\r\n",
    "        if(hasattr(self, 'name') and hasattr(self, 'iD')):\r\n",
    "            return f'Data:\\nName: {self.name}\\nID: {self.iD}'     \r\n",
    "        else:\r\n",
    "            return 'Error.'\r\n",
    "    def getName(self):\r\n",
    "        return self.name\r\n",
    "    def getID(self):\r\n",
    "        return self.iD\r\n",
    "    def setName(self, name):\r\n",
    "        if not isinstance(name, str):\r\n",
    "            raise TypeError('Name is not and string.')\r\n",
    "        \r\n",
    "cadastro = []\r\n",
    "\r\n",
    "teste1 = Teste('Judas', 123)\r\n",
    "teste2 = Teste('Jiromba', 342)\r\n",
    "teste3 = Teste('Seichonoie', 123)\r\n",
    "\r\n",
    "cadastro.append(teste1)\r\n",
    "cadastro.append(teste2)\r\n",
    "\r\n",
    "for item in cadastro:\r\n",
    "    if teste1.getID() == item.getID():\r\n",
    "        print(item)\r\n",
    "\r\n",
    "if [item for item in cadastro if teste2.getID() == item.getID()]:\r\n",
    "    print('Cliente existe')\r\n",
    "else:\r\n",
    "    print('Cliente non existe')\r\n"
   ],
   "outputs": [
    {
     "output_type": "stream",
     "name": "stdout",
     "text": [
      "Data:\n",
      "Name: Judas\n",
      "ID: 123\n",
      "Cliente existe\n"
     ]
    }
   ],
   "metadata": {}
  },
  {
   "cell_type": "code",
   "execution_count": 21,
   "source": [
    "\r\n",
    "\r\n",
    "for promo in (False,True):\r\n",
    "    print(promo)"
   ],
   "outputs": [
    {
     "output_type": "stream",
     "name": "stdout",
     "text": [
      "False\n",
      "True\n"
     ]
    }
   ],
   "metadata": {}
  }
 ],
 "metadata": {
  "interpreter": {
   "hash": "fdb82091c31ccec212108c9d33ed720fd5863cd94fd9b654da4538787f6a7368"
  },
  "kernelspec": {
   "name": "python3",
   "display_name": "Python 3.9.4 64-bit"
  },
  "language_info": {
   "codemirror_mode": {
    "name": "ipython",
    "version": 3
   },
   "file_extension": ".py",
   "mimetype": "text/x-python",
   "name": "python",
   "nbconvert_exporter": "python",
   "pygments_lexer": "ipython3",
   "version": "3.9.4"
  }
 },
 "nbformat": 4,
 "nbformat_minor": 4
}