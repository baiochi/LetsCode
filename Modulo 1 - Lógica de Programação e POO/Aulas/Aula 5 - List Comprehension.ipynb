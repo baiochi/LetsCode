{
 "cells": [
  {
   "cell_type": "markdown",
   "metadata": {},
   "source": [
    "# List Comprehension\n",
    "\n",
    "Compreensão de listas é uma das maneiras mais rápidas e elegantes de se criar uma lista, vamos abordar suas estruturas fundamentais a primeira e mais simples delas é a seguinte:\n",
    "\n",
    "```python\n",
    "novaLista = [expressao for item in algoIteravel]\n",
    "```\n",
    "\n",
    "Vamos testar essa estrutura?"
   ]
  },
  {
   "cell_type": "code",
   "execution_count": null,
   "metadata": {},
   "outputs": [],
   "source": []
  },
  {
   "cell_type": "markdown",
   "metadata": {},
   "source": [
    "Podemos incrementar nossa comprensão com a seguinte estrutura:\n",
    "\n",
    "```python\n",
    "novaLista = [expressao for item in algoIteravel if condicao == True]\n",
    "```"
   ]
  },
  {
   "cell_type": "code",
   "execution_count": null,
   "metadata": {},
   "outputs": [],
   "source": []
  },
  {
   "cell_type": "markdown",
   "metadata": {},
   "source": [
    "Agora pra finalizar bonito, vamos ver a ultima estrutura elementar de _List Comprehension_\n",
    "\n",
    "```python\n",
    "novaLista = [valor1 if condicao == True else valor2 for item in algoIteravel ]\n",
    "```"
   ]
  },
  {
   "cell_type": "markdown",
   "metadata": {},
   "source": [
    "## Exercícios - Regra: Tudo deve ser feito em **UMA** linha!\n",
    "\n",
    "Encontre todos os números divisiveis por 8 de 1 a 1000 (intervalo fechado)"
   ]
  },
  {
   "cell_type": "code",
   "execution_count": null,
   "metadata": {},
   "outputs": [],
   "source": []
  },
  {
   "cell_type": "markdown",
   "metadata": {},
   "source": [
    "Faça um programa que escreva todos os números múltiplos de 7 entre 1 e N, sendo N um valor introduzido pelo usuário. Por exemplos: 7, 14, 21, 28, 35."
   ]
  },
  {
   "cell_type": "code",
   "execution_count": null,
   "metadata": {},
   "outputs": [],
   "source": []
  },
  {
   "cell_type": "markdown",
   "metadata": {},
   "source": [
    "Faça uma lista com todos números entre 1 e 1000 (intervalo fechado) que tenha pelo menos um dígito \"6\" nele"
   ]
  },
  {
   "cell_type": "code",
   "execution_count": null,
   "metadata": {},
   "outputs": [],
   "source": []
  },
  {
   "cell_type": "markdown",
   "metadata": {},
   "source": [
    "Quantas vezes o número 6 aparece entre 1 e 1000 (intervalo fechado)?"
   ]
  },
  {
   "cell_type": "code",
   "execution_count": null,
   "metadata": {},
   "outputs": [],
   "source": []
  },
  {
   "cell_type": "markdown",
   "metadata": {},
   "source": [
    "Use compreensão de listas aninhadas para encontrar todos os numeros entre 1-1000 (intervalo fechado) divisiveis por qualquer número entre 2-9 (intervalo fechado)"
   ]
  },
  {
   "cell_type": "code",
   "execution_count": null,
   "metadata": {},
   "outputs": [],
   "source": []
  }
 ],
 "metadata": {
  "kernelspec": {
   "display_name": "Python 3",
   "language": "python",
   "name": "python3"
  },
  "language_info": {
   "codemirror_mode": {
    "name": "ipython",
    "version": 3
   },
   "file_extension": ".py",
   "mimetype": "text/x-python",
   "name": "python",
   "nbconvert_exporter": "python",
   "pygments_lexer": "ipython3",
   "version": "3.8.5"
  }
 },
 "nbformat": 4,
 "nbformat_minor": 4
}
