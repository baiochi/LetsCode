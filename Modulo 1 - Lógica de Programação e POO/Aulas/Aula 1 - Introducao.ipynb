{
 "cells": [
  {
   "cell_type": "markdown",
   "metadata": {},
   "source": [
    "# Bem vindos a Let's Code!\n",
    "Parabéns por este passo dado em direção seu futuro.<br>\n",
    "Vamos programar?<br><br>\n",
    "<div>\n",
    "<img src=\"https://cio.com.br/wp-content/uploads/2020/10/linguagem-programacao-python-1024x576.jpg\" width=\"500\"/>\n",
    "</div>"
   ]
  },
  {
   "cell_type": "markdown",
   "metadata": {},
   "source": [
    "## 👨‍🏫 O Professor 👨‍🏫\n",
    "\n",
    "#### Brian Andrade Nunes\n",
    "- Graduando de Engenharia de Computação - POLI - USP<br />\n",
    "- Professor na Let's Code\n",
    "- Estagiário no time de desenvolvimento do BTG Pactual\n",
    "- E-mail: brian.nunes@usp.br<br />\n",
    "- WhatsApp: (11) 96391-3887<br />"
   ]
  },
  {
   "cell_type": "markdown",
   "metadata": {},
   "source": [
    "## 📍 Tópicos de Hoje 📍\n",
    "<br>\n",
    "\n",
    "🖖 Conversa, Apresentação e o Curso\n",
    "\n",
    "👣 [Primeiros Passos: Seu Computador Sabe Python?](#um)\n",
    "\n",
    "👶 [Ambiente de Desenvolvimento: O Que São? Qual Usar?](#dois)\n",
    "\n",
    "🚶‍♂️ [Varíaveis: Conceito de Memória e Dados](#tres)\n",
    "\n",
    "🏃 [Operadores Matemáticos e Comunicação com o Usuário](#quatro)\n",
    "    \n",
    "🏆 [Exercícios](#cinco)\n",
    "\n",
    "🚀 [O Futuro...](#seis)"
   ]
  },
  {
   "cell_type": "markdown",
   "metadata": {},
   "source": [
    "## 💻🎓  Primeiros passos: Seu computador sabe Python? 💻🎓 <a class=\"anchor\" id=\"um\"></a>\n",
    "<br>\n",
    "\n",
    "<div align=\"justify\">\n",
    "&emsp; Antes de aprendermos Python nosso computador precisa entender Python, se você usa Linux ou MacOS seu computador já entende, mas se usa Windows não tema! Iremos ensinar nosso computador.<br>\n",
    "&emsp; Iremos instalar o Python, mas ele não é um programa normal que você abre e \"roda\", ele serve apenas para seu computador entender o que escrevermos na linguagem. Para isso vamos nesse link: <a href=\"https://www.python.org\">Instalador Python</a>, e na aba de <i>downloads</i> clicar na opçao mais a direita que aparecer.<br>\n",
    "&emsp; Basta iniciarmos o instalador baixado, mas <strong>cuidado</strong>, você <strong>deve</strong> marcar a opção de adicionar o Python no seu PATH do Windows para que funcione!<br>\n",
    "</div>\n",
    "\n",
    "<img src=\"https://phoenixnap.com/kb/wp-content/uploads/2021/04/python-setup.png\" width=\"500\"/><br>\n",
    "\n",
    "<div align=\"justify\">\n",
    "&emsp; Em seguida podemos seguir sem grandes novidades e perigos 😁<br><br>\n",
    "&emsp; Para conferir a instalação devemos abrir o terminal do nosso computador. Em Windows devemos usar: <b>Windows + R</b> escrever <b>\"cmd\"</b> e pressionar <b>Enter</b>; No Linux usamos <b>Ctrl + Alt + T</b>; E no MacOS apertaremos <b>Control + Espaço</b> e procuraremos por <b>Terminal</b> na barra do <i>Spotlight</i>. E dentro do terminal escreveremos <b>\"python --version\"</b> ou <b>\"python3 --version\"</b>, a saida esperada é algo como <b>\"Python 3.9.5\"</b>, ou seja, nossa nova linguagem do coração seguida da versão que instalamos dela!\n",
    "</div>"
   ]
  },
  {
   "cell_type": "markdown",
   "metadata": {},
   "source": [
    "## 🔧 Ambiente de desenvolvimento: O que são? Qual usar? 🔧<a class=\"anchor\" id=\"dois\"></a>\n",
    "\n",
    "&emsp; Ambientes de Desenvolvimentos, ou IDEs, são nosso campo de batalha, é onde a criança chora e a mãe não vê! É aqui que vamos escrever nossos códigos, inclusive, se você está lendo isso no seu computador, é por quê já está em uma IDE: o _Jupyter Notebook_ (ou qualquer leitor de _notebooks_ de Python como o _Google Colab_). <br>\n",
    "&emsp; No curso usarei principalmente o _Jupyter Notebook_ por ter a capacidade de desenvolver esses materiais com muuuuito carinho para vocês, onde texto, imagens e códigos podem ser misturados, além de ter a capacidade de rodar pequenos trechos de códigos um por vez o que nos ajuda a entender o que está acontecendo e manter a organização, mas não me limitarei a ele e também usarei o _Visual Studio Code_ por ser uma ferramenta mais robusta que conta com ferramentas que facilitam nosso desenvolvimento (como o _debug_ que veremos mais a frente!).<br>\n",
    "&emsp; Qual IDE usar vai depender muito de suas necessidades, mas recomendo que todos usem um leitor de _notebooks_ no curso para que vocês possam acompanhar o material fornecido e também consiguirem rodar pequenos pedaços isolados de código sem ter que criar um arquivo novo para cada um.<br>\n",
    "\n",
    "### Instalação do _Jupyter Notebook_\n",
    "&emsp; Para instalar o _Jupyter Notebook_ devemos abrir nosso terminal e escrever **\"pip install notebook\"**, o **pip** é um amigo nosso que servirá para instalar complementos para o Python. Após a instalação ser completa basta escrever **\"jupyter notebook\"** e seu navegador padrão será aberto rodando o _Jupyter_, note que você não pode fechar o terminal que usou para abrir, se não sua IDE não irá funcionar.<br>\n",
    "&emsp; Na tela inicial do _Jupyter_ temos o **_new_** e o **_upload_**, no _new_ podemos iniciar um _notebook_ novo na opção Python3, e no _upload_ adicionar um que baixamos, por exemplo. Vamos tentar com este que estou usando?<br>\n",
    "&emsp; Agora dentro de um _notebook_ podemos brincar com os blocos de _markdown_ onde escrevemos textos (desde texto puro até o uso de HTML para estilizar nosso conteúdo, nesse link vocês podem consultar muitas funcionalidades: <a href=\"https://medium.com/analytics-vidhya/the-ultimate-markdown-guide-for-jupyter-notebook-d5e5abf728fd\">Tutorial de Markdown</a>), e os blocos de código onde programaremos e iremos rodar usando os botões estilo multimídia na barra superior. Não se preocupem com o resto, aprenderemos com o tempo.<br>\n",
    "\n",
    "### Instalação do _Visual Studio Code_\n",
    "&emsp; Para instalar o _Visual Studio Code_ basta baixarmos no site: <a href=\"https://code.visualstudio.com\">Visual Studio Code</a>, e seguir a instalação, apenas percebam que na última tela devemos marcar tudo como na foto abaixo: <br>\n",
    "<img src=\"https://s3-sa-east-1.amazonaws.com/lcpi/627ae5e6-7486-400b-adcf-fe1f7fe71d0e.png\" width=\"500\"/><br>\n",
    "&emsp; E para finalmente rodarmos Python precisaremos de algumas gracinhas que nos ajudarão muito: as extensões. Elas podem ser fácilmente baixadas clicando aqui:<br>\n",
    "\n",
    "<img src=\"https://image.ibb.co/nqiKtd/Screenshot_32.png\" width=\"500\"/><br>\n",
    "\n",
    "&emsp; Em seguida podemos clicar em _file_ criar um arquivo com terminação _\".py\"_ e ser feliz! 😄<br>"
   ]
  },
  {
   "cell_type": "markdown",
   "metadata": {},
   "source": [
    "## 📥 Varíaveis: Conceito de memória e dados 📤 <a class=\"anchor\" id=\"tres\"></a>\n",
    "\n",
    "&emsp; Váriaveis como o próprio diz são \"coisas\" variáveis, e usaremos elas para armazenar nossos dados.<br>\n",
    "&emsp; Dados possuem tipos: **_string_** que armazena texto, **_int_** que armazena números inteiros, **_float_** que armazena números decimais (separados por ponto!), e **_boolean_** que armazenará _true_ ou _false_. Embora o Python faça o trabalho de saber o que é o que sozinho, você precisa entender os tipos de dados para trabalhar com eles.<br>"
   ]
  },
  {
   "cell_type": "code",
   "execution_count": 11,
   "metadata": {},
   "outputs": [],
   "source": [
    "# Com as hastags podemos comentar nosso código, e o que é escrito aqui é ignorado pelo computador,\n",
    "# serve apenas para nós humanos.\n",
    "\n",
    "variavelString = \"Olá Mundo!\" # textos vêm entre aspas simples ou duplas\n",
    "variavelInt = 3\n",
    "variavelFloat = 8.32\n",
    "variavelBoolean = True\n",
    "\n",
    "variavelInt = 5 # Variaveis variam, nessa linha não teremos mais 3, e sim 5 armazenado nessa variavel"
   ]
  },
  {
   "cell_type": "markdown",
   "metadata": {},
   "source": [
    "&emsp; Os tipos podem ser explicitados usando :**tipoDado** depois do nome da variável, além disso podemos fazer o _cast_ (mudança de tipo) usando _tipoDado(dadoQueQuerConverter)_ entre variaveis de diferentes tipos, mas note que isso pode gerar problemas se feito deliberadamente:<br>"
   ]
  },
  {
   "cell_type": "code",
   "execution_count": 12,
   "metadata": {},
   "outputs": [
    {
     "data": {
      "text/plain": [
       "int"
      ]
     },
     "execution_count": 12,
     "metadata": {},
     "output_type": "execute_result"
    }
   ],
   "source": [
    "a:int = 3 # A variável a é um int explícito\n",
    "b:float = float(a) # b reberá 3.0\n",
    "c:str = str(a) # c reberá '3'\n",
    "    \n",
    "# Mas note os possiveis problemas\n",
    "# (e note também que o python diferencia maisculas e minúsculas, portanto as variáveis acima não serão rescritas)\n",
    "A = 3.52\n",
    "B = int(A) # B reberá 3, e ignorará os decimais\n",
    "\n",
    "#Podemos puxar o tipo de uma váriavel usando type()\n",
    "type(a)"
   ]
  },
  {
   "cell_type": "markdown",
   "metadata": {},
   "source": [
    "&emsp; Sempre tente usar nomes que façam sentidos no seu programa para não se atrapalharem, isso fará mais sentido nos exercícios.<br>\n",
    "&emsp; No Python podemos definir muitas variáveis numa mesma linha com valores diferentes ou o mesmo valor.<br>"
   ]
  },
  {
   "cell_type": "code",
   "execution_count": 3,
   "metadata": {},
   "outputs": [],
   "source": [
    "Nome, Idade, Nota = \"Pedro\", 12, 7.5 # As variáveis serão atribuidas respectivamente\n",
    "\n",
    "x = y = z = 0 # Todas serão iguais a 0"
   ]
  },
  {
   "cell_type": "markdown",
   "metadata": {},
   "source": [
    "## 🧮 Operadores Matemáticos e Comunicação com o Usuário 🧮 <a class=\"anchor\" id=\"quatro\"></a>\n",
    "\n",
    "### Operadores Matemáticos\n",
    "\n",
    "&emsp; O Python faz operações matemáticas entre variáveis e dados puros, a seguir temos uma tabela com os operadores e suas funções:<br>\n",
    "\n",
    "| Operador | Função           |\n",
    "|----------|------------------|\n",
    "| +        | Adição           |\n",
    "| -        | Subtração        |\n",
    "| *        | Multiplicação    |\n",
    "| /        | Divisão          |\n",
    "| %        | Resto de divisão |\n",
    "| **       | Potênciação      |\n",
    "| //       | Divisão Inteira  |\n",
    "\n",
    "&emsp; Além disso, fazemos uso de parênteses para definir ordem de contas assim como na matemática.<br>"
   ]
  },
  {
   "cell_type": "code",
   "execution_count": 14,
   "metadata": {},
   "outputs": [],
   "source": [
    "a = ((3 + 2) - 1) * 8 / 10 # a = 3.2\n",
    "b = 3 ** 3 # b = 27\n",
    "c = 39 % 5 # c = 4 (divida 39 por 5 e não considere os decimais, esse \"resto\" é o resultado da operação)\n",
    "d = 39 // 5 # d = 7 (divida 39 por 5 e não considere os decimais, esse inteiro é o resultado da operação)"
   ]
  },
  {
   "cell_type": "markdown",
   "metadata": {},
   "source": [
    "### input() e print()\n",
    "\n",
    "&emsp; A funcão input() irá ler uma entrada de usuário em formato de _string_ (portanto se você espera outro tipo de dado deverá fazer o _cast_), e podemos colocar outra _string_ dentro dos parênteses que será a pergunta feita ao usuário.<br>\n",
    "&emsp; A funcão print() irá imprimir algo para o usuário, e receberá o que ela deve imprimir dentro dos parênteses, podendo ser variáveis, textos e a mistura dos dois.<br>"
   ]
  },
  {
   "cell_type": "code",
   "execution_count": 15,
   "metadata": {},
   "outputs": [
    {
     "name": "stdout",
     "output_type": "stream",
     "text": [
      "Qual seu nome? Brian\n",
      "Bom dia, Brian\n"
     ]
    }
   ],
   "source": [
    "nome = input(\"Qual seu nome? \")\n",
    "print(\"Bom dia,\", nome)"
   ]
  },
  {
   "cell_type": "code",
   "execution_count": 19,
   "metadata": {},
   "outputs": [
    {
     "name": "stdout",
     "output_type": "stream",
     "text": [
      "Qual sua idade? 15\n",
      "Você tem 15 anos\n"
     ]
    }
   ],
   "source": [
    "idade = int(input(\"Qual sua idade? \"))\n",
    "print(\"Você tem\", idade, \"anos\")"
   ]
  },
  {
   "cell_type": "code",
   "execution_count": 6,
   "metadata": {},
   "outputs": [
    {
     "name": "stdout",
     "output_type": "stream",
     "text": [
      "Olá, Pedro , você tem 12 anos e tirou: 7.5\n"
     ]
    }
   ],
   "source": [
    "Nome, Idade, Nota = \"Pedro\", 12, 7.5\n",
    "print(\"Olá,\", Nome, \", você tem\", Idade, \"anos e tirou:\", Nota)"
   ]
  },
  {
   "cell_type": "markdown",
   "metadata": {},
   "source": [
    "## 🎯 Exercícios 🎯 <a class=\"anchor\" id=\"cinco\"></a>\n",
    "\n",
    "**1)** Faça um Programa que mostre a mensagem \"Alo mundo\" na tela."
   ]
  },
  {
   "cell_type": "code",
   "execution_count": null,
   "metadata": {},
   "outputs": [],
   "source": []
  },
  {
   "cell_type": "markdown",
   "metadata": {},
   "source": [
    "**2)** Faça um Programa que peça as 4 notas bimestrais e mostre a média."
   ]
  },
  {
   "cell_type": "code",
   "execution_count": null,
   "metadata": {},
   "outputs": [],
   "source": []
  },
  {
   "cell_type": "markdown",
   "metadata": {},
   "source": [
    "**3)** Faça um Programa que pergunte quanto você ganha por hora e o número de horas trabalhadas no mês. Calcule e mostre o total do seu salário no referido mês."
   ]
  },
  {
   "cell_type": "code",
   "execution_count": null,
   "metadata": {},
   "outputs": [],
   "source": []
  },
  {
   "cell_type": "markdown",
   "metadata": {},
   "source": [
    "**4)** Faça um Programa que peça a temperatura em graus Fahrenheit, transforme e mostre a temperatura em graus Celsius.<br>\n",
    "\n",
    "$$ C = \\frac{5 * (F-32)}{9} $$"
   ]
  },
  {
   "cell_type": "code",
   "execution_count": null,
   "metadata": {},
   "outputs": [],
   "source": []
  },
  {
   "cell_type": "markdown",
   "metadata": {},
   "source": [
    "**5)** Faça um Programa que pergunte quanto você ganha por hora e o número de horas trabalhadas no mês. Calcule e mostre o total do seu salário no referido mês, sabendo-se que são descontados 11% para o Imposto de Renda, 8% para o INSS e 5% para o sindicato, faça um programa que nos dê:\n",
    "- Salário bruto.\n",
    "- Quanto pagou ao INSS.\n",
    "- Quanto pagou ao sindicato.\n",
    "- O salário líquido."
   ]
  },
  {
   "cell_type": "code",
   "execution_count": null,
   "metadata": {},
   "outputs": [],
   "source": []
  },
  {
   "cell_type": "markdown",
   "metadata": {},
   "source": [
    "**6)** João Papo-de-Pescador, homem de bem, comprou um microcomputador para controlar o rendimento diário de seu trabalho. Toda vez que ele traz um peso de peixes maior que o estabelecido pelo regulamento de pesca do estado de São Paulo (50 quilos) deve pagar uma multa de R$ 4,00 por quilo excedente. João precisa que você faça um programa que leia a variável peso (peso de peixes) e calcule o excesso. Gravar na variável excesso a quantidade de quilos além do limite e na variável multa o valor da multa que João deverá pagar. Imprima os dados do programa com as mensagens adequadas."
   ]
  },
  {
   "cell_type": "code",
   "execution_count": null,
   "metadata": {},
   "outputs": [],
   "source": []
  },
  {
   "cell_type": "markdown",
   "metadata": {},
   "source": [
    "**7)** Faça um Programa para uma loja de tintas. O programa deverá pedir o tamanho em metros quadrados da área a ser pintada. Considere que a cobertura da tinta é de 1 litro para cada 6 metros quadrados e que a tinta é vendida em latas de 18 litros, que custam 80,00 reais ou em galões de 3,6 litros, que custam 25,00 reais.<br>\n",
    "&emsp; Informe ao usuário as quantidades de tinta a serem compradas e os respectivos preços em 3 situações:\n",
    "- Comprar apenas latas de 18 litros;\n",
    "- Comprar apenas galões de 3,6 litros;\n",
    "- Misturar latas e galões, de forma que o desperdício de tinta seja menor. Pem considerar latas pela metade (valores decimais para quantidade de latas)"
   ]
  },
  {
   "cell_type": "code",
   "execution_count": null,
   "metadata": {},
   "outputs": [],
   "source": []
  },
  {
   "cell_type": "markdown",
   "metadata": {},
   "source": [
    "## 🌌 O futuro... 🌌 <a class=\"anchor\" id=\"seis\"></a>\n",
    "\n",
    "&emsp; Treinem bastante esses conteúdos, se habituem com os ambientes de programação e com os diferentes dados que podemos lidar, na próxima aula iremos entender condicionais e a partir dai teremos cada vez mais possibilidades de exercícios e, portanto, de aplicações dos nossos conhecimentos.\n",
    "\n",
    "# Acabooou! 🎉 Agradeço pela atenção de todos! 😄\n",
    "## Qualquer duvida não hesitem em me chamar. 👩‍💻"
   ]
  }
 ],
 "metadata": {
  "kernelspec": {
   "display_name": "Python 3",
   "language": "python",
   "name": "python3"
  },
  "language_info": {
   "codemirror_mode": {
    "name": "ipython",
    "version": 3
   },
   "file_extension": ".py",
   "mimetype": "text/x-python",
   "name": "python",
   "nbconvert_exporter": "python",
   "pygments_lexer": "ipython3",
   "version": "3.9.5"
  }
 },
 "nbformat": 4,
 "nbformat_minor": 4
}
