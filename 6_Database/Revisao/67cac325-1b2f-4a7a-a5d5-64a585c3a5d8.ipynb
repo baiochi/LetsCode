{
 "cells": [
  {
   "cell_type": "markdown",
   "id": "04646fb5",
   "metadata": {},
   "source": [
    "### Python & Banco de Dados"
   ]
  },
  {
   "cell_type": "markdown",
   "id": "7951776c",
   "metadata": {},
   "source": [
    "O passo a passo é para Windows. Caso tenha outro sistema operacional, o objetivo é ter o python e banco de dados na sua máquina <br><br>\n",
    "\n",
    "1 - Instalar o Anaconda para ter uma plataforma Python Local: https://www.anaconda.com/<br>\n",
    "2 - Não é necessário marcar nenhuma opção durante a instalação<br>\n",
    "3 - Ao terminar a instalação, abrir o Jupyter Notebook<br>\n",
    "4 - Executar o comando pip install psycopg2. Mais orientações em https://pypi.org/project/psycopg2/\n"
   ]
  },
  {
   "cell_type": "code",
   "execution_count": 4,
   "id": "c4b5d361",
   "metadata": {},
   "outputs": [
    {
     "name": "stdout",
     "output_type": "stream",
     "text": [
      "Requirement already satisfied: psycopg2 in c:\\users\\user\\anaconda3\\lib\\site-packages (2.9.3)Note: you may need to restart the kernel to use updated packages.\n"
     ]
    },
    {
     "name": "stderr",
     "output_type": "stream",
     "text": [
      "WARNING: Ignoring invalid distribution -atplotlib (c:\\users\\user\\anaconda3\\lib\\site-packages)\n",
      "WARNING: Ignoring invalid distribution -atplotlib (c:\\users\\user\\anaconda3\\lib\\site-packages)\n",
      "WARNING: Ignoring invalid distribution -atplotlib (c:\\users\\user\\anaconda3\\lib\\site-packages)\n",
      "WARNING: Ignoring invalid distribution -atplotlib (c:\\users\\user\\anaconda3\\lib\\site-packages)\n",
      "WARNING: Ignoring invalid distribution -atplotlib (c:\\users\\user\\anaconda3\\lib\\site-packages)\n",
      "WARNING: Ignoring invalid distribution -atplotlib (c:\\users\\user\\anaconda3\\lib\\site-packages)\n"
     ]
    },
    {
     "name": "stdout",
     "output_type": "stream",
     "text": [
      "\n"
     ]
    }
   ],
   "source": [
    "pip install psycopg2\n"
   ]
  },
  {
   "cell_type": "markdown",
   "id": "b512e51d",
   "metadata": {},
   "source": [
    "5 - Considerando o banco de dados utilizado desde a primeira aula (dvdrental) faça a conexão abaixo"
   ]
  },
  {
   "cell_type": "code",
   "execution_count": 6,
   "id": "3134ad4f",
   "metadata": {},
   "outputs": [],
   "source": [
    "import psycopg2\n",
    "#conn = psycopg2.connect(\"dbname=dvdrental user=postgres password=admin\")\n",
    "\n",
    "# ou pode ser feito como abaixo:\n",
    "conn = psycopg2.connect(\n",
    "    host=\"localhost\", \n",
    "    database=\"dvdrental\",\n",
    "    user=\"postgres\",\n",
    "    password=\"admin\")"
   ]
  },
  {
   "cell_type": "markdown",
   "id": "aba6039a",
   "metadata": {},
   "source": [
    "Passo para a conectar\n",
    "\n",
    "1 - Abrir a conexao (commando connect)\n",
    "2 - Abrir o cursor\n",
    "3 - Executar o comando\n",
    "4 - Fechar o cursor\n",
    "5 - fechar a conexao"
   ]
  },
  {
   "cell_type": "code",
   "execution_count": 9,
   "id": "eccabe17",
   "metadata": {},
   "outputs": [
    {
     "name": "stdout",
     "output_type": "stream",
     "text": [
      "('PostgreSQL 14.4, compiled by Visual C++ build 1914, 64-bit',)\n"
     ]
    }
   ],
   "source": [
    "# 1 - Abrir a conexao\n",
    "conn = psycopg2.connect(\"dbname=dvdrental user=postgres password=admin\")\n",
    "    \n",
    "cursor = conn.cursor()\n",
    "    \n",
    "cursor.execute('SELECT version()')\n",
    "    \n",
    "db_version = cursor.fetchone()\n",
    "print(db_version)"
   ]
  },
  {
   "cell_type": "code",
   "execution_count": 10,
   "id": "82c3a704",
   "metadata": {},
   "outputs": [
    {
     "name": "stdout",
     "output_type": "stream",
     "text": [
      "A versão do banco:\n",
      "syntax error at or near \"SELCT\"\n",
      "LINE 1: SELCT version()\n",
      "        ^\n",
      "\n",
      "Conexão encerrada.\n"
     ]
    }
   ],
   "source": [
    "# Mostrando a versão do banco de dados\n",
    "\n",
    "try: # neste bloco ele ira tentar abrir a conexao e executar os comandos sql\n",
    "    # 1 - Abrir a conexao\n",
    "    conn = psycopg2.connect(\"dbname=dvdrental user=postgres password=admin\")\n",
    "\n",
    "    # 2 - Abrir o cursor\n",
    "    cursor = conn.cursor()\n",
    "\n",
    "    # 3 - Executar o comando\n",
    "    print(\"A versão do banco:\")\n",
    "    cursor.execute('SELECT version()')\n",
    "\n",
    "    # 3.5 -> usou o fetchone() (fetch one - pegar um) para pegar a primeira linha do resultado\n",
    "    db_version = cursor.fetchone()\n",
    "    print(db_version)\n",
    "\n",
    "    # 4 - Fechar o cursor\n",
    "    cursor.close()\n",
    "\n",
    "except (Exception, psycopg2.DatabaseError) as error: # neste bloco, caso de algum erro no bloco anterior,\n",
    "                                                     #ele ira mostrar o erro\n",
    "    print(error)\n",
    "finally: # independente se o bloco try deu erro ou nao, ele ira fazer esta parte, que e tentar fechar a conexao\n",
    "    if conn is not None:\n",
    "        # 5 - fechar a conexao\n",
    "        conn.close()\n",
    "        print('Conexão encerrada.')\n"
   ]
  },
  {
   "cell_type": "code",
   "execution_count": 21,
   "id": "dcc3c0c9",
   "metadata": {},
   "outputs": [
    {
     "name": "stdout",
     "output_type": "stream",
     "text": [
      "(2, 'Italian             ', datetime.datetime(2006, 2, 15, 10, 2, 19))\n"
     ]
    }
   ],
   "source": [
    "import pandas as pd\n",
    "\n",
    "# 1 - Abrir a conexao\n",
    "conn = psycopg2.connect(\"dbname=dvdrental user=postgres password=admin\") \n",
    "\n",
    "# 2 - Abrindo um cursor\n",
    "\n",
    "cursor = conn.cursor()\n",
    "\n",
    "\n",
    "select_query = 'select language_id, name, last_update from language'\n",
    "\n",
    "\n",
    "try:\n",
    "    # 3- Executando o meu comando\n",
    "    cursor.execute(select_query)\n",
    "    \n",
    "    # 3.5 - Fazendo alguma coisa com o meu comando\n",
    "    resultado = cursor.fetchall()  # pegou todas as linhas do resultado (fetch ALL)\n",
    "    \n",
    "    # 4 - Fechou o cursor\n",
    "    cursor.close()\n",
    "    \n",
    "except (Exception, psycopg2.DatabaseError) as error:\n",
    "        print(\"Erro: %s\" % error)\n",
    "        cursor.close()\n",
    "finally:\n",
    "    if conn is not None:\n",
    "        conn.close()\n",
    "        \n",
    "print(resultado[1])\n",
    "\n",
    "#resultado.info()\n",
    "#df = pd.DataFrame(resultado, columns=['language_id', 'name', 'last_update'])\n",
    "\n",
    "#print(df)"
   ]
  },
  {
   "cell_type": "code",
   "execution_count": 22,
   "id": "9f6a166c",
   "metadata": {},
   "outputs": [
    {
     "name": "stdout",
     "output_type": "stream",
     "text": [
      "<class 'pandas.core.frame.DataFrame'>\n",
      "RangeIndex: 6 entries, 0 to 5\n",
      "Data columns (total 3 columns):\n",
      " #   Column       Non-Null Count  Dtype         \n",
      "---  ------       --------------  -----         \n",
      " 0   language_id  6 non-null      int64         \n",
      " 1   name         6 non-null      object        \n",
      " 2   last_update  6 non-null      datetime64[ns]\n",
      "dtypes: datetime64[ns](1), int64(1), object(1)\n",
      "memory usage: 272.0+ bytes\n"
     ]
    }
   ],
   "source": [
    "df.info()"
   ]
  },
  {
   "cell_type": "code",
   "execution_count": 37,
   "id": "32418d69",
   "metadata": {},
   "outputs": [],
   "source": [
    "def insert_actor(_actor_id, _first_name, _last_name):\n",
    "    \n",
    "    \"\"\" Insere um novo ator na tabela de atores \"\"\"\n",
    "    \n",
    "    #sql = f\"\"\"INSERT INTO actor (actor_id, first_name, last_name)\n",
    "    #         VALUES(%s,%s,%s) ;\"\"\"\n",
    "    \n",
    "    sql = f\"\"\"INSERT INTO actor (actor_id, first_name, last_name)\n",
    "             VALUES(%s,%s,%s) ;\"\"\"\n",
    "    #sql = f\"INSERT INTO actor (actor_id, first_name, last_name) VALUES({_actor_id},'{_first_name}','{_last_name}') ;\"\n",
    "    conn = None\n",
    "    \n",
    "    #INSERT INTO NOME_DA_TABELA (COLUNA1, COLUNA2, ...) VALUES (VALOR_DA_COLUNA_1, VALOR_DA_COLUNA_2, ...)\n",
    "    \n",
    "    try:\n",
    "        # connect to the PostgreSQL database\n",
    "        conn = psycopg2.connect(\"dbname=dvdrental user=postgres password=admin\")\n",
    "        # create a new cursor\n",
    "        cur = conn.cursor()\n",
    "        # execute the INSERT statement\n",
    "        cur.execute(sql, (_actor_id,_first_name, _last_name,))\n",
    "        #cur.execute(sql)\n",
    "        # get the generated id back\n",
    "        #vendor_id = cur.fetchone()[0]\n",
    "        # estou confirmando as alteracoes no banco\n",
    "        conn.commit()\n",
    "        \n",
    "        # fechar o cursor\n",
    "        cur.close()\n",
    "    except (Exception, psycopg2.DatabaseError) as error:\n",
    "        print(error)\n",
    "    finally:\n",
    "        if conn is not None:\n",
    "            conn.close()\n",
    "\n",
    "    return _actor_id"
   ]
  },
  {
   "cell_type": "code",
   "execution_count": 24,
   "id": "31cb8c06",
   "metadata": {},
   "outputs": [
    {
     "data": {
      "text/plain": [
       "1001"
      ]
     },
     "execution_count": 24,
     "metadata": {},
     "output_type": "execute_result"
    }
   ],
   "source": [
    "insert_actor(1001,\"Adriano\",\"Goncalves\")"
   ]
  },
  {
   "cell_type": "code",
   "execution_count": 30,
   "id": "7fe1c83f",
   "metadata": {},
   "outputs": [],
   "source": [
    "insert_actor(\"Teodor\", \"Barczewski\")"
   ]
  },
  {
   "cell_type": "code",
   "execution_count": 32,
   "id": "e75b3a45",
   "metadata": {},
   "outputs": [],
   "source": [
    "def max_actor():\n",
    "    \n",
    "    sql = \"select max(actor_id) from actor\"\n",
    "    actor_id = None\n",
    "    \n",
    "    try:\n",
    "        conn = psycopg2.connect(\"dbname=dvdrental user=postgres password=admin\")\n",
    "        # create a new cursor\n",
    "        cur = conn.cursor(sql)\n",
    "        cur.execute(sql)\n",
    "        \n",
    "        actor_id = cur.fetchone()\n",
    "        \n",
    "        cur.close()\n",
    "        \n",
    "    except(Exception, psycopg2.DatabaseError) as error:\n",
    "        print(error)\n",
    "    finally:\n",
    "        if conn is not None:\n",
    "            conn.close()\n",
    "     \n",
    "    \n",
    "    return actor_id "
   ]
  },
  {
   "cell_type": "code",
   "execution_count": 33,
   "id": "ee0aa586",
   "metadata": {},
   "outputs": [
    {
     "data": {
      "text/plain": [
       "1001"
      ]
     },
     "execution_count": 33,
     "metadata": {},
     "output_type": "execute_result"
    }
   ],
   "source": [
    "max_actor()[0]"
   ]
  },
  {
   "cell_type": "code",
   "execution_count": 38,
   "id": "151997e7",
   "metadata": {},
   "outputs": [
    {
     "data": {
      "text/plain": [
       "1002"
      ]
     },
     "execution_count": 38,
     "metadata": {},
     "output_type": "execute_result"
    }
   ],
   "source": [
    "insert_actor(max_actor()[0]+1,\"Mateus\",\"Alves\")"
   ]
  },
  {
   "cell_type": "code",
   "execution_count": 65,
   "id": "130a6965",
   "metadata": {},
   "outputs": [
    {
     "data": {
      "text/html": [
       "<div>\n",
       "<style scoped>\n",
       "    .dataframe tbody tr th:only-of-type {\n",
       "        vertical-align: middle;\n",
       "    }\n",
       "\n",
       "    .dataframe tbody tr th {\n",
       "        vertical-align: top;\n",
       "    }\n",
       "\n",
       "    .dataframe thead th {\n",
       "        text-align: right;\n",
       "    }\n",
       "</style>\n",
       "<table border=\"1\" class=\"dataframe\">\n",
       "  <thead>\n",
       "    <tr style=\"text-align: right;\">\n",
       "      <th></th>\n",
       "      <th>book_id</th>\n",
       "      <th>title</th>\n",
       "      <th>price</th>\n",
       "      <th>quantity</th>\n",
       "    </tr>\n",
       "  </thead>\n",
       "  <tbody>\n",
       "    <tr>\n",
       "      <th>0</th>\n",
       "      <td>12345</td>\n",
       "      <td>Python Programming</td>\n",
       "      <td>29</td>\n",
       "      <td>2</td>\n",
       "    </tr>\n",
       "    <tr>\n",
       "      <th>1</th>\n",
       "      <td>12346</td>\n",
       "      <td>Learn MySQL</td>\n",
       "      <td>23</td>\n",
       "      <td>5</td>\n",
       "    </tr>\n",
       "    <tr>\n",
       "      <th>2</th>\n",
       "      <td>12347</td>\n",
       "      <td>Data Science Cookbook</td>\n",
       "      <td>27</td>\n",
       "      <td>3</td>\n",
       "    </tr>\n",
       "    <tr>\n",
       "      <th>3</th>\n",
       "      <td>38383</td>\n",
       "      <td>Crepusculo</td>\n",
       "      <td>69</td>\n",
       "      <td>10</td>\n",
       "    </tr>\n",
       "  </tbody>\n",
       "</table>\n",
       "</div>"
      ],
      "text/plain": [
       "   book_id                  title  price  quantity\n",
       "0    12345     Python Programming     29         2\n",
       "1    12346            Learn MySQL     23         5\n",
       "2    12347  Data Science Cookbook     27         3\n",
       "3    38383             Crepusculo     69        10"
      ]
     },
     "execution_count": 65,
     "metadata": {},
     "output_type": "execute_result"
    }
   ],
   "source": [
    "# Import pandas\n",
    "import pandas as pd\n",
    "\n",
    "# Create dataframe\n",
    "data = pd.DataFrame({\n",
    "    'book_id':[12345, 12346, 12347,38383],\n",
    "    'title':['Python Programming', 'Learn MySQL', 'Data Science Cookbook','Crepusculo'],\n",
    "    'price':[29, 23, 27,69],\n",
    "    'quantity':[2,5,3,10]\n",
    "})\n",
    "\n",
    "data"
   ]
  },
  {
   "cell_type": "code",
   "execution_count": 66,
   "id": "6308416c",
   "metadata": {},
   "outputs": [
    {
     "data": {
      "text/html": [
       "<div>\n",
       "<style scoped>\n",
       "    .dataframe tbody tr th:only-of-type {\n",
       "        vertical-align: middle;\n",
       "    }\n",
       "\n",
       "    .dataframe tbody tr th {\n",
       "        vertical-align: top;\n",
       "    }\n",
       "\n",
       "    .dataframe thead th {\n",
       "        text-align: right;\n",
       "    }\n",
       "</style>\n",
       "<table border=\"1\" class=\"dataframe\">\n",
       "  <thead>\n",
       "    <tr style=\"text-align: right;\">\n",
       "      <th></th>\n",
       "      <th>book_id</th>\n",
       "      <th>title</th>\n",
       "      <th>price</th>\n",
       "      <th>quantity</th>\n",
       "      <th>ValorTotal</th>\n",
       "    </tr>\n",
       "  </thead>\n",
       "  <tbody>\n",
       "    <tr>\n",
       "      <th>0</th>\n",
       "      <td>12345</td>\n",
       "      <td>Python Programming</td>\n",
       "      <td>29</td>\n",
       "      <td>2</td>\n",
       "      <td>58</td>\n",
       "    </tr>\n",
       "    <tr>\n",
       "      <th>1</th>\n",
       "      <td>12346</td>\n",
       "      <td>Learn MySQL</td>\n",
       "      <td>23</td>\n",
       "      <td>5</td>\n",
       "      <td>115</td>\n",
       "    </tr>\n",
       "    <tr>\n",
       "      <th>2</th>\n",
       "      <td>12347</td>\n",
       "      <td>Data Science Cookbook</td>\n",
       "      <td>27</td>\n",
       "      <td>3</td>\n",
       "      <td>81</td>\n",
       "    </tr>\n",
       "    <tr>\n",
       "      <th>3</th>\n",
       "      <td>38383</td>\n",
       "      <td>Crepusculo</td>\n",
       "      <td>69</td>\n",
       "      <td>10</td>\n",
       "      <td>690</td>\n",
       "    </tr>\n",
       "  </tbody>\n",
       "</table>\n",
       "</div>"
      ],
      "text/plain": [
       "   book_id                  title  price  quantity  ValorTotal\n",
       "0    12345     Python Programming     29         2          58\n",
       "1    12346            Learn MySQL     23         5         115\n",
       "2    12347  Data Science Cookbook     27         3          81\n",
       "3    38383             Crepusculo     69        10         690"
      ]
     },
     "execution_count": 66,
     "metadata": {},
     "output_type": "execute_result"
    }
   ],
   "source": [
    "data['ValorTotal'] = data['price']*data['quantity']\n",
    "data"
   ]
  },
  {
   "cell_type": "code",
   "execution_count": 42,
   "id": "a03178f0",
   "metadata": {},
   "outputs": [
    {
     "ename": "NameError",
     "evalue": "name 'cur' is not defined",
     "output_type": "error",
     "traceback": [
      "\u001b[1;31m---------------------------------------------------------------------------\u001b[0m",
      "\u001b[1;31mNameError\u001b[0m                                 Traceback (most recent call last)",
      "\u001b[1;32m~\\AppData\\Local\\Temp/ipykernel_52496/3421497643.py\u001b[0m in \u001b[0;36m<module>\u001b[1;34m\u001b[0m\n\u001b[1;32m----> 1\u001b[1;33m \u001b[0mcur\u001b[0m\u001b[1;33m.\u001b[0m\u001b[0mclose\u001b[0m\u001b[1;33m(\u001b[0m\u001b[1;33m)\u001b[0m\u001b[1;33m\u001b[0m\u001b[1;33m\u001b[0m\u001b[0m\n\u001b[0m\u001b[0;32m      2\u001b[0m \u001b[0mconn\u001b[0m\u001b[1;33m.\u001b[0m\u001b[0mclose\u001b[0m\u001b[1;33m(\u001b[0m\u001b[1;33m)\u001b[0m\u001b[1;33m\u001b[0m\u001b[1;33m\u001b[0m\u001b[0m\n",
      "\u001b[1;31mNameError\u001b[0m: name 'cur' is not defined"
     ]
    }
   ],
   "source": [
    "cur.close()\n",
    "conn.close()"
   ]
  },
  {
   "cell_type": "code",
   "execution_count": 61,
   "id": "bc518c4c",
   "metadata": {},
   "outputs": [
    {
     "name": "stdout",
     "output_type": "stream",
     "text": [
      "Criando um banco\n",
      "Conexão encerrada.\n"
     ]
    }
   ],
   "source": [
    "conn = psycopg2.connect(\"dbname=dvdrental user=postgres password=admin\")\n",
    "cur = conn.cursor()\n",
    "\n",
    "print(\"Criando um banco\")\n",
    "\n",
    "try:\n",
    "    cur.execute(\"CREATE TABLE IF NOT EXISTS book_details(book_id int,title varchar(50),price int, quantity int, valortotal int, last_update timestamp without time zone NOT NULL DEFAULT now())\")   \n",
    "    \n",
    "    conn.commit() #alteracoes no banco precisam deste comando para formalizar a execucao\n",
    "    # bom evitar a conexão aberta.\n",
    "    cur.close()\n",
    "\n",
    "except (Exception, psycopg2.DatabaseError) as error:\n",
    "    print(error)\n",
    "finally:\n",
    "    if conn is not None:\n",
    "        conn.close()\n",
    "        print('Conexão encerrada.')"
   ]
  },
  {
   "cell_type": "code",
   "execution_count": 64,
   "id": "d0650145",
   "metadata": {},
   "outputs": [
    {
     "data": {
      "text/html": [
       "<div>\n",
       "<style scoped>\n",
       "    .dataframe tbody tr th:only-of-type {\n",
       "        vertical-align: middle;\n",
       "    }\n",
       "\n",
       "    .dataframe tbody tr th {\n",
       "        vertical-align: top;\n",
       "    }\n",
       "\n",
       "    .dataframe thead th {\n",
       "        text-align: right;\n",
       "    }\n",
       "</style>\n",
       "<table border=\"1\" class=\"dataframe\">\n",
       "  <thead>\n",
       "    <tr style=\"text-align: right;\">\n",
       "      <th></th>\n",
       "      <th>book_id</th>\n",
       "      <th>title</th>\n",
       "      <th>price</th>\n",
       "      <th>quantidade</th>\n",
       "      <th>ValorTotal</th>\n",
       "    </tr>\n",
       "  </thead>\n",
       "  <tbody>\n",
       "    <tr>\n",
       "      <th>0</th>\n",
       "      <td>12345</td>\n",
       "      <td>Python Programming</td>\n",
       "      <td>29</td>\n",
       "      <td>2</td>\n",
       "      <td>58</td>\n",
       "    </tr>\n",
       "    <tr>\n",
       "      <th>1</th>\n",
       "      <td>12346</td>\n",
       "      <td>Learn MySQL</td>\n",
       "      <td>23</td>\n",
       "      <td>5</td>\n",
       "      <td>115</td>\n",
       "    </tr>\n",
       "    <tr>\n",
       "      <th>2</th>\n",
       "      <td>12347</td>\n",
       "      <td>Data Science Cookbook</td>\n",
       "      <td>27</td>\n",
       "      <td>3</td>\n",
       "      <td>81</td>\n",
       "    </tr>\n",
       "    <tr>\n",
       "      <th>3</th>\n",
       "      <td>38383</td>\n",
       "      <td>Crepusculo</td>\n",
       "      <td>69</td>\n",
       "      <td>10</td>\n",
       "      <td>690</td>\n",
       "    </tr>\n",
       "  </tbody>\n",
       "</table>\n",
       "</div>"
      ],
      "text/plain": [
       "   book_id                  title  price  quantidade  ValorTotal\n",
       "0    12345     Python Programming     29           2          58\n",
       "1    12346            Learn MySQL     23           5         115\n",
       "2    12347  Data Science Cookbook     27           3          81\n",
       "3    38383             Crepusculo     69          10         690"
      ]
     },
     "execution_count": 64,
     "metadata": {},
     "output_type": "execute_result"
    }
   ],
   "source": [
    "data"
   ]
  },
  {
   "cell_type": "code",
   "execution_count": 53,
   "id": "e9a36c31",
   "metadata": {},
   "outputs": [],
   "source": [
    "#data.rename(columns={'quantity': 'quantidade'}, inplace=True)"
   ]
  },
  {
   "cell_type": "code",
   "execution_count": 54,
   "id": "0d9bb795",
   "metadata": {},
   "outputs": [
    {
     "data": {
      "text/html": [
       "<div>\n",
       "<style scoped>\n",
       "    .dataframe tbody tr th:only-of-type {\n",
       "        vertical-align: middle;\n",
       "    }\n",
       "\n",
       "    .dataframe tbody tr th {\n",
       "        vertical-align: top;\n",
       "    }\n",
       "\n",
       "    .dataframe thead th {\n",
       "        text-align: right;\n",
       "    }\n",
       "</style>\n",
       "<table border=\"1\" class=\"dataframe\">\n",
       "  <thead>\n",
       "    <tr style=\"text-align: right;\">\n",
       "      <th></th>\n",
       "      <th>book_id</th>\n",
       "      <th>title</th>\n",
       "      <th>price</th>\n",
       "      <th>quantidade</th>\n",
       "      <th>ValorTotal</th>\n",
       "    </tr>\n",
       "  </thead>\n",
       "  <tbody>\n",
       "    <tr>\n",
       "      <th>0</th>\n",
       "      <td>12345</td>\n",
       "      <td>Python Programming</td>\n",
       "      <td>29</td>\n",
       "      <td>2</td>\n",
       "      <td>58</td>\n",
       "    </tr>\n",
       "    <tr>\n",
       "      <th>1</th>\n",
       "      <td>12346</td>\n",
       "      <td>Learn MySQL</td>\n",
       "      <td>23</td>\n",
       "      <td>5</td>\n",
       "      <td>115</td>\n",
       "    </tr>\n",
       "    <tr>\n",
       "      <th>2</th>\n",
       "      <td>12347</td>\n",
       "      <td>Data Science Cookbook</td>\n",
       "      <td>27</td>\n",
       "      <td>3</td>\n",
       "      <td>81</td>\n",
       "    </tr>\n",
       "    <tr>\n",
       "      <th>3</th>\n",
       "      <td>38383</td>\n",
       "      <td>Crepusculo</td>\n",
       "      <td>69</td>\n",
       "      <td>10</td>\n",
       "      <td>690</td>\n",
       "    </tr>\n",
       "  </tbody>\n",
       "</table>\n",
       "</div>"
      ],
      "text/plain": [
       "   book_id                  title  price  quantidade  ValorTotal\n",
       "0    12345     Python Programming     29           2          58\n",
       "1    12346            Learn MySQL     23           5         115\n",
       "2    12347  Data Science Cookbook     27           3          81\n",
       "3    38383             Crepusculo     69          10         690"
      ]
     },
     "execution_count": 54,
     "metadata": {},
     "output_type": "execute_result"
    }
   ],
   "source": [
    "data"
   ]
  },
  {
   "cell_type": "code",
   "execution_count": 69,
   "id": "07fb3f1a",
   "metadata": {},
   "outputs": [
    {
     "name": "stdout",
     "output_type": "stream",
     "text": [
      "book_id,title,price,quantity,ValorTotal\n",
      "INSERT INTO book_details (book_id,title,price,quantity,ValorTotal) VALUES (%s,%s,%s,%s,%s)\n",
      "(12345, 'Python Programming', 29, 2, 58)\n",
      "INSERT INTO book_details (book_id,title,price,quantity,ValorTotal) VALUES (%s,%s,%s,%s,%s)\n",
      "(12346, 'Learn MySQL', 23, 5, 115)\n",
      "INSERT INTO book_details (book_id,title,price,quantity,ValorTotal) VALUES (%s,%s,%s,%s,%s)\n",
      "(12347, 'Data Science Cookbook', 27, 3, 81)\n",
      "INSERT INTO book_details (book_id,title,price,quantity,ValorTotal) VALUES (%s,%s,%s,%s,%s)\n",
      "(38383, 'Crepusculo', 69, 10, 690)\n"
     ]
    }
   ],
   "source": [
    "conn = psycopg2.connect(\"dbname=dvdrental user=postgres password=admin\")\n",
    "cursor = conn.cursor()\n",
    "\n",
    "# criando uma lista para inclusao\n",
    "cols = \",\".join([str(i) for i in data.columns.tolist()])\n",
    "print(cols)\n",
    "\n",
    "# Insert DataFrame recrds one by one.\n",
    "for i,row in data.iterrows():\n",
    "    sql = \"INSERT INTO book_details (\" +cols + \") VALUES (\" + \"%s,\"*(len(row)-1) + \"%s)\"\n",
    "    print(sql)\n",
    "    cursor.execute(sql, tuple(row))\n",
    "    print(tuple(row))\n",
    "\n",
    "    # the connection is not autocommitted by default, so we must commit to save our changes\n",
    "    conn.commit()\n"
   ]
  },
  {
   "cell_type": "code",
   "execution_count": 56,
   "id": "acdeda0d",
   "metadata": {},
   "outputs": [
    {
     "name": "stdout",
     "output_type": "stream",
     "text": [
      "(12345, 'Python Programming', 29, 2, 58)\n",
      "(12346, 'Learn MySQL', 23, 5, 115)\n",
      "(12347, 'Data Science Cookbook', 27, 3, 81)\n",
      "(38383, 'Crepusculo', 69, 10, 690)\n"
     ]
    }
   ],
   "source": [
    "conn = psycopg2.connect(\"dbname=dvdrental user=postgres password=admin\")\n",
    "cursor = conn.cursor()\n",
    "# Execute query\n",
    "sql = \"SELECT * FROM book_details\"\n",
    "cursor.execute(sql)\n",
    "\n",
    "# Fetch all the records\n",
    "result = cursor.fetchall()\n",
    "for i in result:\n",
    "    print(i)"
   ]
  },
  {
   "cell_type": "code",
   "execution_count": 57,
   "id": "bb1f2c22",
   "metadata": {},
   "outputs": [],
   "source": [
    "conn.close()"
   ]
  },
  {
   "cell_type": "markdown",
   "id": "0387126c",
   "metadata": {},
   "source": [
    "Maiores detalhes em https://www.dataquest.io/blog/sql-insert-tutorial/"
   ]
  },
  {
   "cell_type": "code",
   "execution_count": null,
   "id": "2b480b60",
   "metadata": {},
   "outputs": [],
   "source": []
  }
 ],
 "metadata": {
  "kernelspec": {
   "display_name": "Python 3 (ipykernel)",
   "language": "python",
   "name": "python3"
  },
  "language_info": {
   "codemirror_mode": {
    "name": "ipython",
    "version": 3
   },
   "file_extension": ".py",
   "mimetype": "text/x-python",
   "name": "python",
   "nbconvert_exporter": "python",
   "pygments_lexer": "ipython3",
   "version": "3.9.7"
  }
 },
 "nbformat": 4,
 "nbformat_minor": 5
}
