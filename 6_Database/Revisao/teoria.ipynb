{
 "cells": [
  {
   "cell_type": "markdown",
   "id": "a438ce27",
   "metadata": {},
   "source": [
    "<div>\n",
    "    <img src=\"\" width=200 />\n",
    "</div>"
   ]
  },
  {
   "cell_type": "markdown",
   "id": "3faddc75",
   "metadata": {},
   "source": [
    "<div>\n",
    "    <img src=\"https://pics.me.me/table-table-inner-join-imgflip-com-union-34663744.png\" width=500/>\n",
    "</div>"
   ]
  },
  {
   "cell_type": "markdown",
   "id": "ad22d6a9",
   "metadata": {},
   "source": [
    "### Aula de Hoje\n",
    "\n",
    "- Teoria - o que é relacionamento \n",
    "- INNER JOIN\n",
    "- LEFT JOIN\n",
    "- RIGHT JOIN\n",
    "- FULL OUTER JOIN\n",
    "- UNION\n",
    "- CTEs - Common Table Expression\n",
    "- Subqueries\n",
    "- Comandos\n",
    "    - CAST\n",
    "    - COALESCE\n",
    "    - RANK (https://www.sqlshack.com/overview-of-sql-rank-functions/)"
   ]
  },
  {
   "cell_type": "markdown",
   "id": "abaa66a7",
   "metadata": {},
   "source": [
    "<div>\n",
    "    <img src=\"https://i.pinimg.com/564x/b3/80/4b/b3804b751f134180015b4e6583080246.jpg\" width=600 />\n",
    "</div>"
   ]
  },
  {
   "cell_type": "markdown",
   "id": "30a76b96",
   "metadata": {},
   "source": [
    "# Exercícios"
   ]
  },
  {
   "cell_type": "markdown",
   "id": "d563926f",
   "metadata": {},
   "source": [
    "1- Exiba o nome do país e a quantidade de cidades cadastradas para aquele país"
   ]
  },
  {
   "cell_type": "markdown",
   "id": "7469db33",
   "metadata": {},
   "source": [
    "2 - Exiba o Codigo de locação, data de locação, data de entrega, primeiro nome do cliente, primeiro nome do funcionário e o(s) filmes alugados"
   ]
  },
  {
   "cell_type": "markdown",
   "id": "a96ae7b4",
   "metadata": {},
   "source": [
    "3 - Conte os filmes cadastrados por linguagem. Exiba o nome da linguagem (tabela language). Caso não tenha filmes cadastrados, mostrar 'Não ha filmes cadastrados)"
   ]
  },
  {
   "cell_type": "markdown",
   "id": "903efb10",
   "metadata": {},
   "source": [
    "4 - Calcule o valor médio da taxa de locação (rental rate) por rating. Depois, mostre apenas os filmes que estão abaixo do valor da taxa média, considerando seu rating. Crie uma coluna que mostre o % sobre o valor (taxa atual / taxa)"
   ]
  },
  {
   "cell_type": "code",
   "execution_count": null,
   "id": "84992a6d",
   "metadata": {},
   "outputs": [],
   "source": []
  }
 ],
 "metadata": {
  "kernelspec": {
   "display_name": "Python 3 (ipykernel)",
   "language": "python",
   "name": "python3"
  },
  "language_info": {
   "codemirror_mode": {
    "name": "ipython",
    "version": 3
   },
   "file_extension": ".py",
   "mimetype": "text/x-python",
   "name": "python",
   "nbconvert_exporter": "python",
   "pygments_lexer": "ipython3",
   "version": "3.9.7"
  }
 },
 "nbformat": 4,
 "nbformat_minor": 5
}
