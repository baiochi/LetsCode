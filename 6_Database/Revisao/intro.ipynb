{
 "cells": [
  {
   "cell_type": "markdown",
   "id": "fc0d4c22",
   "metadata": {},
   "source": [
    "# Revisão de Banco de Dados\n",
    "\n",
    "## Olá\n",
    "\n",
    "<div><img src=\"https://media.makeameme.org/created/hi-hello-1af89a2b70.jpg\" width=200 style=\"float:left\"></div>"
   ]
  },
  {
   "cell_type": "markdown",
   "id": "1ce0bc2c",
   "metadata": {},
   "source": [
    "- Sou o Teo\n",
    "- Atualmente na Health Catalyst - empresa americana líder em dados e analytics para organizações de saúde\n",
    "- Engenheiro de dados certificado Azure\n",
    "- Trabalho com SQL há 20 anos: Call Center, financeiras, mineradoras, logística, serviços e saúde"
   ]
  },
  {
   "attachments": {},
   "cell_type": "markdown",
   "id": "c34329f2",
   "metadata": {},
   "source": [
    "### Ementa\n",
    "\n",
    "\n",
    "- Intro ao SQL\n",
    "- Tipos de banco de dados\n",
    "    - Relacionais\n",
    "    - Não relacionais (NoSQL - Not Only SQL):\n",
    "        - Chave Valor\n",
    "        - Grafos\n",
    "        <img src=\"https://abcloudz.com/wp-content/uploads/2021/01/NoSQL.png?x96491\" width=400>\n",
    "- Consultando dados em uma tabela:\n",
    "    - DISTINCT, AS, CASE WHEN...THEN\n",
    "    - WHERE, AND, OR, NOT, NULL\n",
    "    - IN, BETWEEN, LIKE, wildcards\n",
    "    - ORDER BY, LIMIT\n",
    "- Funções agregadoras\n",
    "    - MIN, MAX\n",
    "    - COUNT, SUM, AVG\n",
    "    - GROUP BY, HAVING\n",
    "- Consultando dados em multiplas tabelas:\n",
    "    - INNER JOIN\n",
    "    - LEFT JOIN\n",
    "    - RIGHT JOIN\n",
    "    - FULL JOIN\n",
    "    - UNION\n",
    "- Criar/editar/deletar databases e schemas\n",
    "- Criar/editar/deletar tabelas\n",
    "- Chaves primárias, estrangeiras\n",
    "- INSERT, UPDATE, DELETE\n",
    "- VIEW\n",
    "- Integração com Python\n",
    "    - Queries com PSYCOPG e PANDAS\n",
    "    - SQL + PANDAS"
   ]
  },
  {
   "cell_type": "markdown",
   "id": "5168d880",
   "metadata": {},
   "source": [
    "### Exercício de revisão\n",
    "\n",
    "- Baixar no class o arquivo Banco de Dados.rar. No arquivo existem dois arquivos com extensão .tar: DVDRENTAL e EXERCICIOS. Criar um banco de dados para cada e executar o restore\n",
    "- Coloquei o nome do banco de dados antes do nome da coluna em algumas questões, por ex: dvdrental.rental. Se foi criado o banco com outro nome - basta colocar o nome que criou"
   ]
  },
  {
   "cell_type": "markdown",
   "id": "75802264",
   "metadata": {},
   "source": [
    "#### Exercícios\n",
    "\n",
    "1 - Escreva uma query identificando o tipo de cada linha da tabela **TRIANGULOS** usando o tamanho dos seus tres lados. Coloque como saida o seguinte texto para cada linha:\n",
    "- Equilátero: Um triângulo com os 3 lados de mesmo tamanho\n",
    "- Isósceles: Um triângulo com dois lados de mesmo tamanho\n",
    "- Escaleno: Um triângulo com os três lados diferentes\n",
    "- Não é um triângulo: Os valores de A, B e C não formam um triângulo (a soma de dois lados não é maior que o terceiro)\n",
    "\n",
    "A tabela **TRIANGULOS** está descrito abaixo:\n",
    "\n",
    "| Coluna | Tipo |\n",
    "| ------ | ---- |\n",
    "| A      | Inteiro |\n",
    "| B      | Inteiro |\n",
    "| C      | Inteiro |\n",
    "\n",
    "Cada linha na tabela possui o tamanho de cada lado do triângulo:\n",
    "\n",
    "**Exemplo**:\n",
    "\n",
    "| A | B | C |\n",
    "| ------ | ---- | ----- |\n",
    "| 20 | 20 | 23 |\n",
    "| 20 | 20 | 20 |\n",
    "| 20 | 21 | 22 |\n",
    "| 13 | 14 | 30 |\n",
    "\n",
    "**Exemplo do Resultado**\n",
    "\n",
    "| Resultado |\n",
    "| -------- |\n",
    "| Isósceles |\n",
    "| Equilátero |\n",
    "| Escaleno |\n",
    "| Não é um triângulo |\n",
    "\n",
    "**Explicação**\n",
    "\n",
    "Valor na tupla (20,20,23) formam um triângulo Isósceles, pois A = B\n",
    "Valor na tupla (20,20,20) formam um triângulo Equilátero, pois A = B = C\n",
    "Valor na tupla (20,21,22) formam um triângulo Escaleno, pois A <> B <> C\n",
    "Valor na tupla (13,14,30) não formam um triângulo pois o valor somado de A e B não é maior que C\n"
   ]
  },
  {
   "cell_type": "markdown",
   "id": "8d4aae7e",
   "metadata": {},
   "source": [
    "2 - Utilizando a base **exercicios.flavours** contar a quantidade de registros por categoria, exceto nulos"
   ]
  },
  {
   "cell_type": "markdown",
   "id": "3fd8546c",
   "metadata": {},
   "source": [
    "3 - Usando a mesma query acima, o resultado deverá ser no seguinte formato: \"A categoria [nome da categoria] possui [registros] \"\n"
   ]
  },
  {
   "cell_type": "markdown",
   "id": "d41a4e3c",
   "metadata": {},
   "source": [
    "4 - Utilizando a tabela **dvdrental.rental** mostrar os 10 clientes que mais fizeram locações"
   ]
  },
  {
   "cell_type": "markdown",
   "id": "dcd4b25b",
   "metadata": {},
   "source": [
    "5 - Utilizando a tabela dvdrental.rental, calcular o maior tempo, em dias, em que um filme ficou alugado"
   ]
  },
  {
   "cell_type": "markdown",
   "id": "575175f1",
   "metadata": {},
   "source": [
    "6 - Quantos atores possuem o último nome \"Cage\"?"
   ]
  },
  {
   "cell_type": "markdown",
   "id": "b2f50257",
   "metadata": {},
   "source": [
    "7 - Em **dvdrental.Address** mostrar o endereço e cep dos distritos do *Texas* e *Alberta*"
   ]
  },
  {
   "cell_type": "markdown",
   "id": "9ab0befe",
   "metadata": {},
   "source": [
    "8 - Em **dvdrental.customer** calcule a quantidade de clientes ativos e inativos"
   ]
  },
  {
   "cell_type": "markdown",
   "id": "de408fc2",
   "metadata": {},
   "source": [
    "9 - Em **dvdrental.address** liste os distritos que começam com vogais (a, e, i, o, u). A cidade não poderá aparecer mais de uma vez no resultado"
   ]
  },
  {
   "cell_type": "markdown",
   "id": "95807584",
   "metadata": {},
   "source": [
    "10 - Em **dvdrental.payment** qual o valor total gasto por cliente, ano e mês (o resultado agrupado desses três)?"
   ]
  },
  {
   "cell_type": "code",
   "execution_count": null,
   "id": "e42cf0b0",
   "metadata": {},
   "outputs": [],
   "source": []
  }
 ],
 "metadata": {
  "kernelspec": {
   "display_name": "Python 3 (ipykernel)",
   "language": "python",
   "name": "python3"
  },
  "language_info": {
   "codemirror_mode": {
    "name": "ipython",
    "version": 3
   },
   "file_extension": ".py",
   "mimetype": "text/x-python",
   "name": "python",
   "nbconvert_exporter": "python",
   "pygments_lexer": "ipython3",
   "version": "3.9.7"
  }
 },
 "nbformat": 4,
 "nbformat_minor": 5
}
