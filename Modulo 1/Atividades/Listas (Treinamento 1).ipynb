{
 "cells": [
  {
   "cell_type": "markdown",
   "metadata": {},
   "source": [
    "### Listas (Treinamento 1)"
   ]
  },
  {
   "cell_type": "markdown",
   "metadata": {},
   "source": [
    "### Questão 1\n",
    "\n",
    "Faça um programa que peça 10 números para o usuário e guarde os números em uma lista. Com a lista preenchida descubra quantos números são pares."
   ]
  },
  {
   "cell_type": "code",
   "execution_count": null,
   "metadata": {},
   "outputs": [],
   "source": [
    "lista = []\n",
    "numero_par = 0\n",
    "\n",
    "print(\"Digite 10 números inteiros: \")\n",
    "for i in range(10) :\n",
    "    lista.append(int(input()))\n",
    "    if (lista[i] % 2) == 0 :\n",
    "        numero_par += 1\n",
    "\n",
    "print(\"A lista possuí {} números pares.\".format(numero_par))"
   ]
  },
  {
   "cell_type": "markdown",
   "metadata": {},
   "source": [
    "### Questão 2\n",
    "\n",
    "Faça um script que leia 10 números do usuário e devolva duas listas: uma com os números ímpares e outra com os números pares.  \n",
    "  \n",
    "Exemplo  \n",
    "input 1: 5  \n",
    "input 2: 4  \n",
    "(etc...): 6.. 7.. 1.. 2.. 3.. 7..  \n",
    "input 9: 4  \n",
    "input 10: 8  \n",
    "output: lista com ímpares: [5, 7, 1, 3, 7]  \n",
    "        lista com pares: [4, 6, 2, 4, 8]  "
   ]
  },
  {
   "cell_type": "code",
   "execution_count": null,
   "metadata": {},
   "outputs": [],
   "source": [
    "lista_impar = []\n",
    "lista_par = []\n",
    "\n",
    "print(\"Digite 10 números inteiros: \")\n",
    "for i in range(10) :\n",
    "    aux = int(input())\n",
    "    if (aux % 2) != 0 :\n",
    "        lista_impar.append(aux)\n",
    "    else:\n",
    "        lista_par.append(aux)\n",
    "\n",
    "print(\"Lista com ímpares:\", lista_impar)\n",
    "print(\"Lista com pares:\", lista_par)"
   ]
  },
  {
   "cell_type": "markdown",
   "metadata": {},
   "source": [
    "### Questão 3\n",
    "\n",
    "Faça um script que leia números do usuário, enquanto ele não digitar 0. Armazene esses números em uma lista e ao final informe quantos números foram digitados, ignorando o 0.  \n",
    "\n",
    "Exemplo  \n",
    "input: 2  \n",
    "input: 4  \n",
    "input: -1  \n",
    "input: -5  \n",
    "input: 0  \n",
    "output: Você digitou 4 números"
   ]
  },
  {
   "cell_type": "code",
   "execution_count": null,
   "metadata": {},
   "outputs": [],
   "source": [
    "lista = []\n",
    "num = 1\n",
    "while num != 0 :\n",
    "    num = int(input(\"Digite um número inteiro, ou 0 para sair. \"))\n",
    "    lista.append(num)\n",
    "print(\"Você digitou {} números\".format(len(lista)-1))"
   ]
  },
  {
   "cell_type": "markdown",
   "metadata": {},
   "source": [
    "### Questão 4\n",
    "\n",
    "Faça um script que lê 10 números e mostre na tela aqueles que são maiores que a média."
   ]
  },
  {
   "cell_type": "code",
   "execution_count": null,
   "metadata": {},
   "outputs": [],
   "source": [
    "lista = []\n",
    "\n",
    "print(\"Digite 10 números inteiros: \")\n",
    "for i in range(10) :\n",
    "    lista.append(int(input()))\n",
    "\n",
    "media = sum(lista)/len(lista)\n",
    "\n",
    "for i in range(len(lista)) :\n",
    "    if lista[i] > media :\n",
    "        print(lista[i])"
   ]
  },
  {
   "cell_type": "markdown",
   "metadata": {},
   "source": [
    "### Questão 5\n",
    "\n",
    "Crie duas listas sobre um time de futebol com 11 jogadores: uma lista com a idade dos jogadores e outra com as alturas. Mostre na tela a idade do jogador mais alto."
   ]
  },
  {
   "cell_type": "code",
   "execution_count": 17,
   "metadata": {
    "scrolled": true
   },
   "outputs": [
    {
     "name": "stdout",
     "output_type": "stream",
     "text": [
      "Digite a idade dos jogadores: 21\n",
      "Digite a idade dos jogadores: 32\n",
      "Digite a idade dos jogadores: 18\n",
      "Digite a altura dos jogadores: 156\n",
      "Digite a altura dos jogadores: 178\n",
      "Digite a altura dos jogadores: 190\n"
     ]
    },
    {
     "ename": "NameError",
     "evalue": "name 'index' is not defined",
     "output_type": "error",
     "traceback": [
      "\u001b[1;31m---------------------------------------------------------------------------\u001b[0m",
      "\u001b[1;31mNameError\u001b[0m                                 Traceback (most recent call last)",
      "\u001b[1;32m<ipython-input-17-992bafe736c2>\u001b[0m in \u001b[0;36m<module>\u001b[1;34m\u001b[0m\n\u001b[0;32m      7\u001b[0m     \u001b[0mlista_altura\u001b[0m\u001b[1;33m.\u001b[0m\u001b[0mappend\u001b[0m\u001b[1;33m(\u001b[0m\u001b[0mint\u001b[0m\u001b[1;33m(\u001b[0m\u001b[0minput\u001b[0m\u001b[1;33m(\u001b[0m\u001b[1;34m\"Digite a altura dos jogadores: \"\u001b[0m\u001b[1;33m)\u001b[0m\u001b[1;33m)\u001b[0m\u001b[1;33m)\u001b[0m\u001b[1;33m\u001b[0m\u001b[1;33m\u001b[0m\u001b[0m\n\u001b[0;32m      8\u001b[0m \u001b[1;33m\u001b[0m\u001b[0m\n\u001b[1;32m----> 9\u001b[1;33m \u001b[0mindex\u001b[0m\u001b[1;33m(\u001b[0m\u001b[0mmax\u001b[0m\u001b[1;33m(\u001b[0m\u001b[0mlista_altura\u001b[0m\u001b[1;33m)\u001b[0m\u001b[1;33m)\u001b[0m\u001b[1;33m\u001b[0m\u001b[1;33m\u001b[0m\u001b[0m\n\u001b[0m\u001b[0;32m     10\u001b[0m \u001b[1;33m\u001b[0m\u001b[0m\n",
      "\u001b[1;31mNameError\u001b[0m: name 'index' is not defined"
     ]
    }
   ],
   "source": [
    "lista_idade = []\n",
    "lista_altura = []\n",
    "\n",
    "for i in range(3) :\n",
    "    lista_idade.append(int(input(\"Digite a idade dos jogadores: \")))\n",
    "for i in range(3) :\n",
    "    lista_altura.append(int(input(\"Digite a altura dos jogadores: \")))\n",
    "\n",
    "maior_altura = lista_altura.index(max(lista_altura))\n",
    "print(\"O jogador com maior altura tem {} anos.\".format(maior_altura))\n",
    "    "
   ]
  },
  {
   "cell_type": "code",
   "execution_count": 22,
   "metadata": {},
   "outputs": [
    {
     "ename": "NameError",
     "evalue": "name 'index' is not defined",
     "output_type": "error",
     "traceback": [
      "\u001b[1;31m---------------------------------------------------------------------------\u001b[0m",
      "\u001b[1;31mNameError\u001b[0m                                 Traceback (most recent call last)",
      "\u001b[1;32m<ipython-input-22-801c99e9e9a3>\u001b[0m in \u001b[0;36m<module>\u001b[1;34m\u001b[0m\n\u001b[1;32m----> 1\u001b[1;33m \u001b[0mhelp\u001b[0m\u001b[1;33m(\u001b[0m\u001b[0mindex\u001b[0m\u001b[1;33m)\u001b[0m\u001b[1;33m\u001b[0m\u001b[1;33m\u001b[0m\u001b[0m\n\u001b[0m",
      "\u001b[1;31mNameError\u001b[0m: name 'index' is not defined"
     ]
    }
   ],
   "source": [
    "help(index)"
   ]
  }
 ],
 "metadata": {
  "kernelspec": {
   "display_name": "Python 3",
   "language": "python",
   "name": "python3"
  },
  "language_info": {
   "codemirror_mode": {
    "name": "ipython",
    "version": 3
   },
   "file_extension": ".py",
   "mimetype": "text/x-python",
   "name": "python",
   "nbconvert_exporter": "python",
   "pygments_lexer": "ipython3",
   "version": "3.8.5"
  }
 },
 "nbformat": 4,
 "nbformat_minor": 4
}
