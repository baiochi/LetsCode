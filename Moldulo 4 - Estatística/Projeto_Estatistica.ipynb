{
  "cells": [
    {
      "cell_type": "markdown",
      "metadata": {
        "id": "G-7GZwY7wSnF"
      },
      "source": [
        "Projeto Final do Módulo de Estatística\n",
        "\n",
        "@author: João Baiochi"
      ]
    },
    {
      "cell_type": "markdown",
      "metadata": {
        "id": "yb8r_cWnv8dF"
      },
      "source": [
        "### Importação e Configuração"
      ]
    },
    {
      "cell_type": "code",
      "execution_count": 24,
      "metadata": {
        "colab": {
          "base_uri": "https://localhost:8080/"
        },
        "id": "--ViDRmqv6Ow",
        "outputId": "d497c898-b069-4a00-90de-9865686ce637"
      },
      "outputs": [
        {
          "name": "stdout",
          "output_type": "stream",
          "text": [
            "Numpy: 1.20.3\n",
            "Pandas: 1.3.4\n",
            "Seaborn: 0.11.2\n",
            "Statsmodels.api: 0.12.2\n"
          ]
        }
      ],
      "source": [
        "import numpy as np\n",
        "import pandas as pd\n",
        "import matplotlib.pyplot as plt\n",
        "import seaborn as sns\n",
        "import statsmodels.api as sm\n",
        "import matplotlib as mpl\n",
        "\n",
        "from sklearn.linear_model import LinearRegression\n",
        "from sklearn.metrics import r2_score, mean_squared_error\n",
        "from sklearn.model_selection import train_test_split\n",
        "from scipy.stats import normaltest\n",
        "from scipy.stats import pearsonr\n",
        "from scipy.stats import norm\n",
        "\n",
        "# define colors\n",
        "colors = {\n",
        "    'cyan': '#1696d2',\n",
        "    'gray': '#5c5859',\n",
        "    'black': '#000000',\n",
        "    'yellow': '#fdbf11',\n",
        "    'orange': '#ca5800',\n",
        "    'magenta': '#af1f6b',\n",
        "    'green': '#408941',\n",
        "    'red': '#a4201d'\n",
        "}\n",
        "mpl.rcParams.update(mpl.rcParamsDefault) # avoid bug with plot margins on dark themes\n",
        "color_palette = ['#1696d2', '#5c5859', '#fdbf11', '#af1f6b', '#408941']\n",
        "sns.set_palette(color_palette)\n",
        "\n",
        "print(f'Numpy: {np.__version__}')\n",
        "print(f'Pandas: {pd.__version__}')\n",
        "print(f'Seaborn: {sns.__version__}')\n",
        "print(f'Statsmodels.api: {sm.__version__}')"
      ]
    },
    {
      "cell_type": "markdown",
      "metadata": {
        "id": "H9Q24B6JwMh3"
      },
      "source": [
        "# Descrição do Projeto"
      ]
    },
    {
      "cell_type": "markdown",
      "metadata": {
        "id": "gLyQoi37wjaU"
      },
      "source": [
        "A Autoridade De Estatística das Filipinas (PSA) lidera a realização da Pesquisa de Renda e Despesa Familiar (FIES) em todo o país.  \n",
        "A pesquisa, realizada a cada 3 (três) anos, tem como objetivo fornecer dados sobre renda e despesas familiares, incluindo, entre outros, níveis de consumo por item de despesa, fontes de renda em dinheiro e informações relacionadas que afetam a renda e níveis de despesas e padrões nas Filipinas.   \n",
        "Dessa forma, pede-se que seja elaborado um relatório prévio com insights e análise de dados por parte de um cientista de dados.\n",
        "\n",
        "Clique <a href='https://s3-sa-east-1.amazonaws.com/lcpi/97fe77d1-2aec-4660-a799-c6eaccd14ea7.csv'>aqui</a> para baixar o dataset."
      ]
    },
    {
      "cell_type": "markdown",
      "metadata": {
        "id": "Zt0XvddSyHkL"
      },
      "source": [
        "## Visualização do Dataset"
      ]
    },
    {
      "cell_type": "code",
      "execution_count": 2,
      "metadata": {
        "colab": {
          "base_uri": "https://localhost:8080/",
          "height": 0
        },
        "id": "nJf7euefwQo-",
        "outputId": "efc9dc17-7c9c-43da-d2bd-af5a2a24e600"
      },
      "outputs": [
        {
          "data": {
            "text/html": [
              "<div>\n",
              "<style scoped>\n",
              "    .dataframe tbody tr th:only-of-type {\n",
              "        vertical-align: middle;\n",
              "    }\n",
              "\n",
              "    .dataframe tbody tr th {\n",
              "        vertical-align: top;\n",
              "    }\n",
              "\n",
              "    .dataframe thead th {\n",
              "        text-align: right;\n",
              "    }\n",
              "</style>\n",
              "<table border=\"1\" class=\"dataframe\">\n",
              "  <thead>\n",
              "    <tr style=\"text-align: right;\">\n",
              "      <th></th>\n",
              "      <th>Total Household Income</th>\n",
              "      <th>Region</th>\n",
              "      <th>Total Food Expenditure</th>\n",
              "      <th>Main Source of Income</th>\n",
              "      <th>Agricultural Household indicator</th>\n",
              "      <th>Bread and Cereals Expenditure</th>\n",
              "      <th>Total Rice Expenditure</th>\n",
              "      <th>Meat Expenditure</th>\n",
              "      <th>Total Fish and  marine products Expenditure</th>\n",
              "      <th>Fruit Expenditure</th>\n",
              "      <th>...</th>\n",
              "      <th>Number of Refrigerator/Freezer</th>\n",
              "      <th>Number of Washing Machine</th>\n",
              "      <th>Number of Airconditioner</th>\n",
              "      <th>Number of Car, Jeep, Van</th>\n",
              "      <th>Number of Landline/wireless telephones</th>\n",
              "      <th>Number of Cellular phone</th>\n",
              "      <th>Number of Personal Computer</th>\n",
              "      <th>Number of Stove with Oven/Gas Range</th>\n",
              "      <th>Number of Motorized Banca</th>\n",
              "      <th>Number of Motorcycle/Tricycle</th>\n",
              "    </tr>\n",
              "  </thead>\n",
              "  <tbody>\n",
              "    <tr>\n",
              "      <th>0</th>\n",
              "      <td>480332</td>\n",
              "      <td>CAR</td>\n",
              "      <td>117848</td>\n",
              "      <td>Wage/Salaries</td>\n",
              "      <td>0</td>\n",
              "      <td>42140</td>\n",
              "      <td>38300</td>\n",
              "      <td>24676</td>\n",
              "      <td>16806</td>\n",
              "      <td>3325</td>\n",
              "      <td>...</td>\n",
              "      <td>1</td>\n",
              "      <td>1</td>\n",
              "      <td>0</td>\n",
              "      <td>0</td>\n",
              "      <td>0</td>\n",
              "      <td>2</td>\n",
              "      <td>1</td>\n",
              "      <td>0</td>\n",
              "      <td>0</td>\n",
              "      <td>1</td>\n",
              "    </tr>\n",
              "    <tr>\n",
              "      <th>1</th>\n",
              "      <td>198235</td>\n",
              "      <td>CAR</td>\n",
              "      <td>67766</td>\n",
              "      <td>Wage/Salaries</td>\n",
              "      <td>0</td>\n",
              "      <td>17329</td>\n",
              "      <td>13008</td>\n",
              "      <td>17434</td>\n",
              "      <td>11073</td>\n",
              "      <td>2035</td>\n",
              "      <td>...</td>\n",
              "      <td>0</td>\n",
              "      <td>1</td>\n",
              "      <td>0</td>\n",
              "      <td>0</td>\n",
              "      <td>0</td>\n",
              "      <td>3</td>\n",
              "      <td>1</td>\n",
              "      <td>0</td>\n",
              "      <td>0</td>\n",
              "      <td>2</td>\n",
              "    </tr>\n",
              "    <tr>\n",
              "      <th>2</th>\n",
              "      <td>82785</td>\n",
              "      <td>CAR</td>\n",
              "      <td>61609</td>\n",
              "      <td>Wage/Salaries</td>\n",
              "      <td>1</td>\n",
              "      <td>34182</td>\n",
              "      <td>32001</td>\n",
              "      <td>7783</td>\n",
              "      <td>2590</td>\n",
              "      <td>1730</td>\n",
              "      <td>...</td>\n",
              "      <td>0</td>\n",
              "      <td>0</td>\n",
              "      <td>0</td>\n",
              "      <td>0</td>\n",
              "      <td>0</td>\n",
              "      <td>0</td>\n",
              "      <td>0</td>\n",
              "      <td>0</td>\n",
              "      <td>0</td>\n",
              "      <td>0</td>\n",
              "    </tr>\n",
              "    <tr>\n",
              "      <th>3</th>\n",
              "      <td>107589</td>\n",
              "      <td>CAR</td>\n",
              "      <td>78189</td>\n",
              "      <td>Wage/Salaries</td>\n",
              "      <td>0</td>\n",
              "      <td>34030</td>\n",
              "      <td>28659</td>\n",
              "      <td>10914</td>\n",
              "      <td>10812</td>\n",
              "      <td>690</td>\n",
              "      <td>...</td>\n",
              "      <td>0</td>\n",
              "      <td>0</td>\n",
              "      <td>0</td>\n",
              "      <td>0</td>\n",
              "      <td>0</td>\n",
              "      <td>1</td>\n",
              "      <td>0</td>\n",
              "      <td>0</td>\n",
              "      <td>0</td>\n",
              "      <td>0</td>\n",
              "    </tr>\n",
              "    <tr>\n",
              "      <th>4</th>\n",
              "      <td>189322</td>\n",
              "      <td>CAR</td>\n",
              "      <td>94625</td>\n",
              "      <td>Wage/Salaries</td>\n",
              "      <td>0</td>\n",
              "      <td>34820</td>\n",
              "      <td>30167</td>\n",
              "      <td>18391</td>\n",
              "      <td>11309</td>\n",
              "      <td>1395</td>\n",
              "      <td>...</td>\n",
              "      <td>1</td>\n",
              "      <td>0</td>\n",
              "      <td>0</td>\n",
              "      <td>0</td>\n",
              "      <td>0</td>\n",
              "      <td>3</td>\n",
              "      <td>0</td>\n",
              "      <td>0</td>\n",
              "      <td>0</td>\n",
              "      <td>1</td>\n",
              "    </tr>\n",
              "  </tbody>\n",
              "</table>\n",
              "<p>5 rows × 60 columns</p>\n",
              "</div>"
            ],
            "text/plain": [
              "   Total Household Income Region  Total Food Expenditure  \\\n",
              "0                  480332    CAR                  117848   \n",
              "1                  198235    CAR                   67766   \n",
              "2                   82785    CAR                   61609   \n",
              "3                  107589    CAR                   78189   \n",
              "4                  189322    CAR                   94625   \n",
              "\n",
              "  Main Source of Income  Agricultural Household indicator  \\\n",
              "0         Wage/Salaries                                 0   \n",
              "1         Wage/Salaries                                 0   \n",
              "2         Wage/Salaries                                 1   \n",
              "3         Wage/Salaries                                 0   \n",
              "4         Wage/Salaries                                 0   \n",
              "\n",
              "   Bread and Cereals Expenditure  Total Rice Expenditure  Meat Expenditure  \\\n",
              "0                          42140                   38300             24676   \n",
              "1                          17329                   13008             17434   \n",
              "2                          34182                   32001              7783   \n",
              "3                          34030                   28659             10914   \n",
              "4                          34820                   30167             18391   \n",
              "\n",
              "   Total Fish and  marine products Expenditure  Fruit Expenditure  ...  \\\n",
              "0                                        16806               3325  ...   \n",
              "1                                        11073               2035  ...   \n",
              "2                                         2590               1730  ...   \n",
              "3                                        10812                690  ...   \n",
              "4                                        11309               1395  ...   \n",
              "\n",
              "   Number of Refrigerator/Freezer  Number of Washing Machine  \\\n",
              "0                               1                          1   \n",
              "1                               0                          1   \n",
              "2                               0                          0   \n",
              "3                               0                          0   \n",
              "4                               1                          0   \n",
              "\n",
              "   Number of Airconditioner  Number of Car, Jeep, Van  \\\n",
              "0                         0                         0   \n",
              "1                         0                         0   \n",
              "2                         0                         0   \n",
              "3                         0                         0   \n",
              "4                         0                         0   \n",
              "\n",
              "   Number of Landline/wireless telephones  Number of Cellular phone  \\\n",
              "0                                       0                         2   \n",
              "1                                       0                         3   \n",
              "2                                       0                         0   \n",
              "3                                       0                         1   \n",
              "4                                       0                         3   \n",
              "\n",
              "   Number of Personal Computer  Number of Stove with Oven/Gas Range  \\\n",
              "0                            1                                    0   \n",
              "1                            1                                    0   \n",
              "2                            0                                    0   \n",
              "3                            0                                    0   \n",
              "4                            0                                    0   \n",
              "\n",
              "   Number of Motorized Banca  Number of Motorcycle/Tricycle  \n",
              "0                          0                              1  \n",
              "1                          0                              2  \n",
              "2                          0                              0  \n",
              "3                          0                              0  \n",
              "4                          0                              1  \n",
              "\n",
              "[5 rows x 60 columns]"
            ]
          },
          "execution_count": 2,
          "metadata": {},
          "output_type": "execute_result"
        }
      ],
      "source": [
        "df = pd.read_csv('https://s3-sa-east-1.amazonaws.com/lcpi/97fe77d1-2aec-4660-a799-c6eaccd14ea7.csv')\n",
        "df.head()"
      ]
    },
    {
      "cell_type": "code",
      "execution_count": 67,
      "metadata": {},
      "outputs": [],
      "source": [
        "# renaming columns for easy accession\n",
        "df.columns = df.columns.str.replace(' ', '_')"
      ]
    },
    {
      "cell_type": "code",
      "execution_count": 68,
      "metadata": {
        "colab": {
          "base_uri": "https://localhost:8080/"
        },
        "id": "m86b09_qx6P_",
        "outputId": "b562f99c-c478-4f75-fc1f-e961f538918a"
      },
      "outputs": [
        {
          "name": "stdout",
          "output_type": "stream",
          "text": [
            "<class 'pandas.core.frame.DataFrame'>\n",
            "RangeIndex: 41544 entries, 0 to 41543\n",
            "Data columns (total 60 columns):\n",
            " #   Column                                         Non-Null Count  Dtype \n",
            "---  ------                                         --------------  ----- \n",
            " 0   Total_Household_Income                         41544 non-null  int64 \n",
            " 1   Region                                         41544 non-null  object\n",
            " 2   Total_Food_Expenditure                         41544 non-null  int64 \n",
            " 3   Main_Source_of_Income                          41544 non-null  object\n",
            " 4   Agricultural_Household_indicator               41544 non-null  int64 \n",
            " 5   Bread_and_Cereals_Expenditure                  41544 non-null  int64 \n",
            " 6   Total_Rice_Expenditure                         41544 non-null  int64 \n",
            " 7   Meat_Expenditure                               41544 non-null  int64 \n",
            " 8   Total_Fish_and__marine_products_Expenditure    41544 non-null  int64 \n",
            " 9   Fruit_Expenditure                              41544 non-null  int64 \n",
            " 10  Vegetables_Expenditure                         41544 non-null  int64 \n",
            " 11  Restaurant_and_hotels_Expenditure              41544 non-null  int64 \n",
            " 12  Alcoholic_Beverages_Expenditure                41544 non-null  int64 \n",
            " 13  Tobacco_Expenditure                            41544 non-null  int64 \n",
            " 14  Clothing,_Footwear_and_Other_Wear_Expenditure  41544 non-null  int64 \n",
            " 15  Housing_and_water_Expenditure                  41544 non-null  int64 \n",
            " 16  Imputed_House_Rental_Value                     41544 non-null  int64 \n",
            " 17  Medical_Care_Expenditure                       41544 non-null  int64 \n",
            " 18  Transportation_Expenditure                     41544 non-null  int64 \n",
            " 19  Communication_Expenditure                      41544 non-null  int64 \n",
            " 20  Education_Expenditure                          41544 non-null  int64 \n",
            " 21  Miscellaneous_Goods_and_Services_Expenditure   41544 non-null  int64 \n",
            " 22  Special_Occasions_Expenditure                  41544 non-null  int64 \n",
            " 23  Crop_Farming_and_Gardening_expenses            41544 non-null  int64 \n",
            " 24  Total_Income_from_Entrepreneurial_Acitivites   41544 non-null  int64 \n",
            " 25  Household_Head_Sex                             41544 non-null  object\n",
            " 26  Household_Head_Age                             41544 non-null  int64 \n",
            " 27  Household_Head_Marital_Status                  41544 non-null  object\n",
            " 28  Household_Head_Highest_Grade_Completed         41544 non-null  object\n",
            " 29  Household_Head_Job_or_Business_Indicator       41544 non-null  object\n",
            " 30  Household_Head_Occupation                      34008 non-null  object\n",
            " 31  Household_Head_Class_of_Worker                 34008 non-null  object\n",
            " 32  Type_of_Household                              41544 non-null  object\n",
            " 33  Total_Number_of_Family_members                 41544 non-null  int64 \n",
            " 34  Members_with_age_less_than_5_year_old          41544 non-null  int64 \n",
            " 35  Members_with_age_5_-_17_years_old              41544 non-null  int64 \n",
            " 36  Total_number_of_family_members_employed        41544 non-null  int64 \n",
            " 37  Type_of_Building/House                         41544 non-null  object\n",
            " 38  Type_of_Roof                                   41544 non-null  object\n",
            " 39  Type_of_Walls                                  41544 non-null  object\n",
            " 40  House_Floor_Area                               41544 non-null  int64 \n",
            " 41  House_Age                                      41544 non-null  int64 \n",
            " 42  Number_of_bedrooms                             41544 non-null  int64 \n",
            " 43  Tenure_Status                                  41544 non-null  object\n",
            " 44  Toilet_Facilities                              41544 non-null  object\n",
            " 45  Electricity                                    41544 non-null  int64 \n",
            " 46  Main_Source_of_Water_Supply                    41544 non-null  object\n",
            " 47  Number_of_Television                           41544 non-null  int64 \n",
            " 48  Number_of_CD/VCD/DVD                           41544 non-null  int64 \n",
            " 49  Number_of_Component/Stereo_set                 41544 non-null  int64 \n",
            " 50  Number_of_Refrigerator/Freezer                 41544 non-null  int64 \n",
            " 51  Number_of_Washing_Machine                      41544 non-null  int64 \n",
            " 52  Number_of_Airconditioner                       41544 non-null  int64 \n",
            " 53  Number_of_Car,_Jeep,_Van                       41544 non-null  int64 \n",
            " 54  Number_of_Landline/wireless_telephones         41544 non-null  int64 \n",
            " 55  Number_of_Cellular_phone                       41544 non-null  int64 \n",
            " 56  Number_of_Personal_Computer                    41544 non-null  int64 \n",
            " 57  Number_of_Stove_with_Oven/Gas_Range            41544 non-null  int64 \n",
            " 58  Number_of_Motorized_Banca                      41544 non-null  int64 \n",
            " 59  Number_of_Motorcycle/Tricycle                  41544 non-null  int64 \n",
            "dtypes: int64(45), object(15)\n",
            "memory usage: 19.0+ MB\n"
          ]
        }
      ],
      "source": [
        "df.info()"
      ]
    },
    {
      "cell_type": "code",
      "execution_count": 4,
      "metadata": {
        "colab": {
          "base_uri": "https://localhost:8080/"
        },
        "id": "UISr5VQ_yMDM",
        "outputId": "2c0e7a38-198e-4717-a45a-1500df5a81bc"
      },
      "outputs": [
        {
          "data": {
            "text/plain": [
              "Household Head Occupation         7536\n",
              "Household Head Class of Worker    7536\n",
              "dtype: int64"
            ]
          },
          "execution_count": 4,
          "metadata": {},
          "output_type": "execute_result"
        }
      ],
      "source": [
        "null_values = df.isnull().sum()\n",
        "null_values[null_values > 0]"
      ]
    },
    {
      "cell_type": "markdown",
      "metadata": {
        "id": "SI2xeuJEw_xJ"
      },
      "source": [
        "# <font color=Gold>Milestone 1"
      ]
    },
    {
      "cell_type": "markdown",
      "metadata": {
        "id": "bsouEqsCxdik"
      },
      "source": [
        "## <font color='orange'>Tarefa 1</font>\n",
        "Calcule o tamanho de amostra ideal, considerando que você deseja estimar a média de dinheiro gasto com saúde (Medical Care Expenditure) com um erro máximo de 500, e um nível de confiança de 95%.  "
      ]
    },
    {
      "cell_type": "code",
      "execution_count": 5,
      "metadata": {
        "id": "ByK8a5UXxAau"
      },
      "outputs": [],
      "source": [
        "max_error = 500\n",
        "conf_level = 0.95\n",
        "sig_level = 1 - conf_level"
      ]
    },
    {
      "cell_type": "code",
      "execution_count": 6,
      "metadata": {
        "colab": {
          "base_uri": "https://localhost:8080/"
        },
        "id": "jYHiZzgLZ_Wo",
        "outputId": "44007057-e0ac-4797-99d1-c52a887fd16d"
      },
      "outputs": [
        {
          "data": {
            "text/plain": [
              "1.959963984540054"
            ]
          },
          "execution_count": 6,
          "metadata": {},
          "output_type": "execute_result"
        }
      ],
      "source": [
        "sigma = df['Medical_Care_Expenditure'].std()\n",
        "z_alpha_2 = norm.ppf(0.95 + (0.05 / 2))\n",
        "z_alpha_2"
      ]
    },
    {
      "cell_type": "code",
      "execution_count": 7,
      "metadata": {
        "id": "J4c5_1f9aPwJ"
      },
      "outputs": [],
      "source": [
        "n_min = (z_alpha_2 * sigma / max_error)**2"
      ]
    },
    {
      "cell_type": "code",
      "execution_count": 8,
      "metadata": {
        "colab": {
          "base_uri": "https://localhost:8080/"
        },
        "id": "n3JnJmqbaQS_",
        "outputId": "7dda9b1a-1501-4597-b292-9867fcc45489"
      },
      "outputs": [
        {
          "data": {
            "text/plain": [
              "11121"
            ]
          },
          "execution_count": 8,
          "metadata": {},
          "output_type": "execute_result"
        }
      ],
      "source": [
        "n = round(np.ceil(n_min))\n",
        "n"
      ]
    },
    {
      "cell_type": "code",
      "execution_count": 9,
      "metadata": {
        "id": "leFHfk2X029P"
      },
      "outputs": [],
      "source": [
        "population_mean = df['Medical_Care_Expenditure'].mean()\n",
        "sample_error = [[n,abs(df['Medical_Care_Expenditure'].sample(n, random_state=101).mean() - population_mean) ] for n in range (2, df.shape[0]+1) ]"
      ]
    },
    {
      "cell_type": "code",
      "execution_count": 10,
      "metadata": {
        "colab": {
          "base_uri": "https://localhost:8080/",
          "height": 206
        },
        "id": "OhozSfapNr1s",
        "outputId": "48b15042-eca5-4202-9c16-fb08d0eb4965"
      },
      "outputs": [
        {
          "data": {
            "text/html": [
              "<div>\n",
              "<style scoped>\n",
              "    .dataframe tbody tr th:only-of-type {\n",
              "        vertical-align: middle;\n",
              "    }\n",
              "\n",
              "    .dataframe tbody tr th {\n",
              "        vertical-align: top;\n",
              "    }\n",
              "\n",
              "    .dataframe thead th {\n",
              "        text-align: right;\n",
              "    }\n",
              "</style>\n",
              "<table border=\"1\" class=\"dataframe\">\n",
              "  <thead>\n",
              "    <tr style=\"text-align: right;\">\n",
              "      <th></th>\n",
              "      <th>n</th>\n",
              "      <th>error</th>\n",
              "    </tr>\n",
              "  </thead>\n",
              "  <tbody>\n",
              "    <tr>\n",
              "      <th>0</th>\n",
              "      <td>2</td>\n",
              "      <td>6334.730936</td>\n",
              "    </tr>\n",
              "    <tr>\n",
              "      <th>1</th>\n",
              "      <td>3</td>\n",
              "      <td>5517.564269</td>\n",
              "    </tr>\n",
              "    <tr>\n",
              "      <th>2</th>\n",
              "      <td>4</td>\n",
              "      <td>4882.730936</td>\n",
              "    </tr>\n",
              "    <tr>\n",
              "      <th>3</th>\n",
              "      <td>5</td>\n",
              "      <td>5262.230936</td>\n",
              "    </tr>\n",
              "    <tr>\n",
              "      <th>4</th>\n",
              "      <td>6</td>\n",
              "      <td>5495.564269</td>\n",
              "    </tr>\n",
              "  </tbody>\n",
              "</table>\n",
              "</div>"
            ],
            "text/plain": [
              "   n        error\n",
              "0  2  6334.730936\n",
              "1  3  5517.564269\n",
              "2  4  4882.730936\n",
              "3  5  5262.230936\n",
              "4  6  5495.564269"
            ]
          },
          "execution_count": 10,
          "metadata": {},
          "output_type": "execute_result"
        }
      ],
      "source": [
        "n_error = pd.DataFrame(sample_error, columns=['n', 'error'])\n",
        "n_error.head()"
      ]
    },
    {
      "cell_type": "code",
      "execution_count": 25,
      "metadata": {
        "colab": {
          "base_uri": "https://localhost:8080/",
          "height": 412
        },
        "id": "LbGbscXWU8Yq",
        "outputId": "47507fe5-78bb-4738-c698-e58a76ecbe3e"
      },
      "outputs": [
        {
          "data": {
            "image/png": "[encoded data removed]",
            "text/plain": [
              "<Figure size 600x400 with 1 Axes>"
            ]
          },
          "metadata": {},
          "output_type": "display_data"
        }
      ],
      "source": [
        "plt.figure(figsize=(6,4))\n",
        "sns.lineplot(data=n_error.iloc[:n], x='n', y='error', label='sample_error')\n",
        "plt.hlines(y=500, xmin=0, xmax=n, label='max_error')\n",
        "plt.legend()\n",
        "plt.title('Sample error distribuition', fontsize=18, pad=10);"
      ]
    },
    {
      "cell_type": "code",
      "execution_count": 12,
      "metadata": {
        "colab": {
          "base_uri": "https://localhost:8080/"
        },
        "id": "TD0ujgEPcAoN",
        "outputId": "bb3404ea-44c7-4ef6-893c-3a419a5e5ef7"
      },
      "outputs": [
        {
          "name": "stdout",
          "output_type": "stream",
          "text": [
            "Tamanho mínimo da amostra para nível de confiança 95% e erro máximo 500: 11121\n"
          ]
        }
      ],
      "source": [
        "print(f'Tamanho mínimo da amostra para nível de confiança 95% e erro máximo 500: {n}')"
      ]
    },
    {
      "cell_type": "markdown",
      "metadata": {
        "id": "c50a8kv-cWW1"
      },
      "source": [
        "## <font color='orange'>Tarefa 2</font>\n",
        "Obtenha uma amostra do dataset, considerando o tamanho da amostra que você calculou anteriormente e, em seguida, faça uma análise descritiva dos dados com, pelo menos, 10 variáveis quantitativas.  "
      ]
    },
    {
      "cell_type": "code",
      "execution_count": 71,
      "metadata": {
        "colab": {
          "base_uri": "https://localhost:8080/"
        },
        "id": "tTmDzvnacXnS",
        "outputId": "137c3a7c-e1b1-464c-af55-a4e8e6d9d275"
      },
      "outputs": [
        {
          "data": {
            "text/plain": [
              "(11121, 60)"
            ]
          },
          "execution_count": 71,
          "metadata": {},
          "output_type": "execute_result"
        }
      ],
      "source": [
        "sample_df = df.sample(n, random_state=101)\n",
        "sample_df.shape\n"
      ]
    },
    {
      "cell_type": "code",
      "execution_count": 72,
      "metadata": {},
      "outputs": [
        {
          "data": {
            "text/plain": [
              "array(['Total_Household_Income', 'Total_Food_Expenditure',\n",
              "       'Agricultural_Household_indicator',\n",
              "       'Bread_and_Cereals_Expenditure', 'Total_Rice_Expenditure',\n",
              "       'Meat_Expenditure', 'Total_Fish_and__marine_products_Expenditure',\n",
              "       'Fruit_Expenditure', 'Vegetables_Expenditure',\n",
              "       'Restaurant_and_hotels_Expenditure'], dtype=object)"
            ]
          },
          "execution_count": 72,
          "metadata": {},
          "output_type": "execute_result"
        }
      ],
      "source": [
        "quantitative_features = sample_df.select_dtypes(include=['int64']).iloc[:,:10].columns.values\n",
        "quantitative_features"
      ]
    },
    {
      "cell_type": "code",
      "execution_count": 73,
      "metadata": {},
      "outputs": [
        {
          "data": {
            "text/plain": [
              "0    7532\n",
              "1    2372\n",
              "2    1217\n",
              "Name: Agricultural_Household_indicator, dtype: int64"
            ]
          },
          "execution_count": 73,
          "metadata": {},
          "output_type": "execute_result"
        }
      ],
      "source": [
        "sample_df['Agricultural_Household_indicator'].value_counts()"
      ]
    },
    {
      "cell_type": "markdown",
      "metadata": {},
      "source": [
        "A variável **Agricultural Household indicator** apresenta uma característica de variável qualitativa, portanto iremos substituir por outra"
      ]
    },
    {
      "cell_type": "code",
      "execution_count": 16,
      "metadata": {},
      "outputs": [
        {
          "data": {
            "text/plain": [
              "1849     880\n",
              "29179      0\n",
              "20513    432\n",
              "Name: Alcoholic Beverages Expenditure, dtype: int64"
            ]
          },
          "execution_count": 16,
          "metadata": {},
          "output_type": "execute_result"
        }
      ],
      "source": [
        "sample_df.select_dtypes(include=['int64']).iloc[:,10].head(3)"
      ]
    },
    {
      "cell_type": "code",
      "execution_count": 74,
      "metadata": {},
      "outputs": [],
      "source": [
        "quantitative_features[2] = 'Alcoholic_Beverages_Expenditure'"
      ]
    },
    {
      "cell_type": "code",
      "execution_count": 75,
      "metadata": {
        "colab": {
          "base_uri": "https://localhost:8080/",
          "height": 363
        },
        "id": "0047P_i9dZyR",
        "outputId": "f0c801e8-4e30-4ef3-d081-617ce7a4079c"
      },
      "outputs": [
        {
          "data": {
            "text/html": [
              "<div>\n",
              "<style scoped>\n",
              "    .dataframe tbody tr th:only-of-type {\n",
              "        vertical-align: middle;\n",
              "    }\n",
              "\n",
              "    .dataframe tbody tr th {\n",
              "        vertical-align: top;\n",
              "    }\n",
              "\n",
              "    .dataframe thead th {\n",
              "        text-align: right;\n",
              "    }\n",
              "</style>\n",
              "<table border=\"1\" class=\"dataframe\">\n",
              "  <thead>\n",
              "    <tr style=\"text-align: right;\">\n",
              "      <th></th>\n",
              "      <th>count</th>\n",
              "      <th>mean</th>\n",
              "      <th>std</th>\n",
              "      <th>min</th>\n",
              "      <th>25%</th>\n",
              "      <th>50%</th>\n",
              "      <th>75%</th>\n",
              "      <th>max</th>\n",
              "    </tr>\n",
              "  </thead>\n",
              "  <tbody>\n",
              "    <tr>\n",
              "      <th>Total_Household_Income</th>\n",
              "      <td>11121.0</td>\n",
              "      <td>248771.872763</td>\n",
              "      <td>283928.225230</td>\n",
              "      <td>12141.0</td>\n",
              "      <td>104895.0</td>\n",
              "      <td>163360.0</td>\n",
              "      <td>292496.0</td>\n",
              "      <td>6452314.0</td>\n",
              "    </tr>\n",
              "    <tr>\n",
              "      <th>Total_Food_Expenditure</th>\n",
              "      <td>11121.0</td>\n",
              "      <td>85369.309594</td>\n",
              "      <td>52122.343632</td>\n",
              "      <td>5408.0</td>\n",
              "      <td>50856.0</td>\n",
              "      <td>73157.0</td>\n",
              "      <td>105683.0</td>\n",
              "      <td>691917.0</td>\n",
              "    </tr>\n",
              "    <tr>\n",
              "      <th>Alcoholic_Beverages_Expenditure</th>\n",
              "      <td>11121.0</td>\n",
              "      <td>1075.270839</td>\n",
              "      <td>2088.708776</td>\n",
              "      <td>0.0</td>\n",
              "      <td>0.0</td>\n",
              "      <td>270.0</td>\n",
              "      <td>1300.0</td>\n",
              "      <td>38220.0</td>\n",
              "    </tr>\n",
              "    <tr>\n",
              "      <th>Bread_and_Cereals_Expenditure</th>\n",
              "      <td>11121.0</td>\n",
              "      <td>25176.049636</td>\n",
              "      <td>13829.135190</td>\n",
              "      <td>0.0</td>\n",
              "      <td>16512.0</td>\n",
              "      <td>23377.0</td>\n",
              "      <td>31358.0</td>\n",
              "      <td>437467.0</td>\n",
              "    </tr>\n",
              "    <tr>\n",
              "      <th>Total_Rice_Expenditure</th>\n",
              "      <td>11121.0</td>\n",
              "      <td>18205.065552</td>\n",
              "      <td>12163.718364</td>\n",
              "      <td>0.0</td>\n",
              "      <td>10990.0</td>\n",
              "      <td>16559.0</td>\n",
              "      <td>23840.0</td>\n",
              "      <td>429640.0</td>\n",
              "    </tr>\n",
              "    <tr>\n",
              "      <th>Meat_Expenditure</th>\n",
              "      <td>11121.0</td>\n",
              "      <td>10558.656596</td>\n",
              "      <td>10428.335568</td>\n",
              "      <td>0.0</td>\n",
              "      <td>3324.0</td>\n",
              "      <td>7290.0</td>\n",
              "      <td>14420.0</td>\n",
              "      <td>132142.0</td>\n",
              "    </tr>\n",
              "    <tr>\n",
              "      <th>Total_Fish_and__marine_products_Expenditure</th>\n",
              "      <td>11121.0</td>\n",
              "      <td>10464.498067</td>\n",
              "      <td>7774.138424</td>\n",
              "      <td>0.0</td>\n",
              "      <td>5470.0</td>\n",
              "      <td>8643.0</td>\n",
              "      <td>13370.0</td>\n",
              "      <td>119640.0</td>\n",
              "    </tr>\n",
              "    <tr>\n",
              "      <th>Fruit_Expenditure</th>\n",
              "      <td>11121.0</td>\n",
              "      <td>2542.589066</td>\n",
              "      <td>2657.768725</td>\n",
              "      <td>0.0</td>\n",
              "      <td>1010.0</td>\n",
              "      <td>1835.0</td>\n",
              "      <td>3115.0</td>\n",
              "      <td>69319.0</td>\n",
              "    </tr>\n",
              "    <tr>\n",
              "      <th>Vegetables_Expenditure</th>\n",
              "      <td>11121.0</td>\n",
              "      <td>4981.193598</td>\n",
              "      <td>3289.452735</td>\n",
              "      <td>0.0</td>\n",
              "      <td>2850.0</td>\n",
              "      <td>4298.0</td>\n",
              "      <td>6252.0</td>\n",
              "      <td>49810.0</td>\n",
              "    </tr>\n",
              "    <tr>\n",
              "      <th>Restaurant_and_hotels_Expenditure</th>\n",
              "      <td>11121.0</td>\n",
              "      <td>15662.865929</td>\n",
              "      <td>23823.800049</td>\n",
              "      <td>0.0</td>\n",
              "      <td>1900.0</td>\n",
              "      <td>7340.0</td>\n",
              "      <td>19960.0</td>\n",
              "      <td>597150.0</td>\n",
              "    </tr>\n",
              "  </tbody>\n",
              "</table>\n",
              "</div>"
            ],
            "text/plain": [
              "                                               count           mean  \\\n",
              "Total_Household_Income                       11121.0  248771.872763   \n",
              "Total_Food_Expenditure                       11121.0   85369.309594   \n",
              "Alcoholic_Beverages_Expenditure              11121.0    1075.270839   \n",
              "Bread_and_Cereals_Expenditure                11121.0   25176.049636   \n",
              "Total_Rice_Expenditure                       11121.0   18205.065552   \n",
              "Meat_Expenditure                             11121.0   10558.656596   \n",
              "Total_Fish_and__marine_products_Expenditure  11121.0   10464.498067   \n",
              "Fruit_Expenditure                            11121.0    2542.589066   \n",
              "Vegetables_Expenditure                       11121.0    4981.193598   \n",
              "Restaurant_and_hotels_Expenditure            11121.0   15662.865929   \n",
              "\n",
              "                                                       std      min       25%  \\\n",
              "Total_Household_Income                       283928.225230  12141.0  104895.0   \n",
              "Total_Food_Expenditure                        52122.343632   5408.0   50856.0   \n",
              "Alcoholic_Beverages_Expenditure                2088.708776      0.0       0.0   \n",
              "Bread_and_Cereals_Expenditure                 13829.135190      0.0   16512.0   \n",
              "Total_Rice_Expenditure                        12163.718364      0.0   10990.0   \n",
              "Meat_Expenditure                              10428.335568      0.0    3324.0   \n",
              "Total_Fish_and__marine_products_Expenditure    7774.138424      0.0    5470.0   \n",
              "Fruit_Expenditure                              2657.768725      0.0    1010.0   \n",
              "Vegetables_Expenditure                         3289.452735      0.0    2850.0   \n",
              "Restaurant_and_hotels_Expenditure             23823.800049      0.0    1900.0   \n",
              "\n",
              "                                                  50%       75%        max  \n",
              "Total_Household_Income                       163360.0  292496.0  6452314.0  \n",
              "Total_Food_Expenditure                        73157.0  105683.0   691917.0  \n",
              "Alcoholic_Beverages_Expenditure                 270.0    1300.0    38220.0  \n",
              "Bread_and_Cereals_Expenditure                 23377.0   31358.0   437467.0  \n",
              "Total_Rice_Expenditure                        16559.0   23840.0   429640.0  \n",
              "Meat_Expenditure                               7290.0   14420.0   132142.0  \n",
              "Total_Fish_and__marine_products_Expenditure    8643.0   13370.0   119640.0  \n",
              "Fruit_Expenditure                              1835.0    3115.0    69319.0  \n",
              "Vegetables_Expenditure                         4298.0    6252.0    49810.0  \n",
              "Restaurant_and_hotels_Expenditure              7340.0   19960.0   597150.0  "
            ]
          },
          "execution_count": 75,
          "metadata": {},
          "output_type": "execute_result"
        }
      ],
      "source": [
        "sample_df[quantitative_features].describe().T"
      ]
    },
    {
      "cell_type": "code",
      "execution_count": 26,
      "metadata": {
        "colab": {
          "base_uri": "https://localhost:8080/",
          "height": 440
        },
        "id": "VJfugSMHd2U4",
        "outputId": "06567bf4-4664-4216-901f-66ab4caf51b9"
      },
      "outputs": [
        {
          "data": {
            "image/png": "[encoded data removed]",
            "text/plain": [
              "<Figure size 1600x600 with 1 Axes>"
            ]
          },
          "metadata": {},
          "output_type": "display_data"
        }
      ],
      "source": [
        "plt.figure(figsize=(16,6))\n",
        "sns.boxplot(data = sample_df[quantitative_features], orient='h')\n",
        "plt.title('Sample Descriptive Analysis', fontsize=18, pad=20, loc='left');"
      ]
    },
    {
      "cell_type": "markdown",
      "metadata": {
        "id": "GJo7r3FXgOmk"
      },
      "source": [
        "Podemos observar que as amostras possuem um alto nível de outliers, faremos a mesma análise retirando estes dados"
      ]
    },
    {
      "cell_type": "code",
      "execution_count": 76,
      "metadata": {
        "id": "dVFkZqvKgY3V"
      },
      "outputs": [
        {
          "data": {
            "text/plain": [
              "Total_Household_Income                         187601.0\n",
              "Total_Food_Expenditure                          54827.0\n",
              "Alcoholic_Beverages_Expenditure                  1300.0\n",
              "Bread_and_Cereals_Expenditure                   14846.0\n",
              "Total_Rice_Expenditure                          12850.0\n",
              "Meat_Expenditure                                11096.0\n",
              "Total_Fish_and__marine_products_Expenditure      7900.0\n",
              "Fruit_Expenditure                                2105.0\n",
              "Vegetables_Expenditure                           3402.0\n",
              "Restaurant_and_hotels_Expenditure               18060.0\n",
              "dtype: float64"
            ]
          },
          "execution_count": 76,
          "metadata": {},
          "output_type": "execute_result"
        }
      ],
      "source": [
        "iqr = sample_df[quantitative_features].quantile(0.75) - sample_df[quantitative_features].quantile(0.25)\n",
        "iqr"
      ]
    },
    {
      "cell_type": "code",
      "execution_count": 77,
      "metadata": {},
      "outputs": [
        {
          "data": {
            "text/plain": [
              "187601.0"
            ]
          },
          "execution_count": 77,
          "metadata": {},
          "output_type": "execute_result"
        }
      ],
      "source": [
        "iqr.Total_Household_Income"
      ]
    },
    {
      "cell_type": "code",
      "execution_count": 78,
      "metadata": {},
      "outputs": [
        {
          "data": {
            "text/html": [
              "<div>\n",
              "<style scoped>\n",
              "    .dataframe tbody tr th:only-of-type {\n",
              "        vertical-align: middle;\n",
              "    }\n",
              "\n",
              "    .dataframe tbody tr th {\n",
              "        vertical-align: top;\n",
              "    }\n",
              "\n",
              "    .dataframe thead th {\n",
              "        text-align: right;\n",
              "    }\n",
              "</style>\n",
              "<table border=\"1\" class=\"dataframe\">\n",
              "  <thead>\n",
              "    <tr style=\"text-align: right;\">\n",
              "      <th></th>\n",
              "      <th>Total_Household_Income</th>\n",
              "      <th>Region</th>\n",
              "      <th>Total_Food_Expenditure</th>\n",
              "      <th>Main_Source_of_Income</th>\n",
              "      <th>Agricultural_Household_indicator</th>\n",
              "      <th>Bread_and_Cereals_Expenditure</th>\n",
              "      <th>Total_Rice_Expenditure</th>\n",
              "      <th>Meat_Expenditure</th>\n",
              "      <th>Total_Fish_and__marine_products_Expenditure</th>\n",
              "      <th>Fruit_Expenditure</th>\n",
              "      <th>...</th>\n",
              "      <th>Number_of_Refrigerator/Freezer</th>\n",
              "      <th>Number_of_Washing_Machine</th>\n",
              "      <th>Number_of_Airconditioner</th>\n",
              "      <th>Number_of_Car,_Jeep,_Van</th>\n",
              "      <th>Number_of_Landline/wireless_telephones</th>\n",
              "      <th>Number_of_Cellular_phone</th>\n",
              "      <th>Number_of_Personal_Computer</th>\n",
              "      <th>Number_of_Stove_with_Oven/Gas_Range</th>\n",
              "      <th>Number_of_Motorized_Banca</th>\n",
              "      <th>Number_of_Motorcycle/Tricycle</th>\n",
              "    </tr>\n",
              "  </thead>\n",
              "  <tbody>\n",
              "    <tr>\n",
              "      <th>0</th>\n",
              "      <td>480332</td>\n",
              "      <td>CAR</td>\n",
              "      <td>117848</td>\n",
              "      <td>Wage/Salaries</td>\n",
              "      <td>0</td>\n",
              "      <td>42140</td>\n",
              "      <td>38300</td>\n",
              "      <td>24676</td>\n",
              "      <td>16806</td>\n",
              "      <td>3325</td>\n",
              "      <td>...</td>\n",
              "      <td>1</td>\n",
              "      <td>1</td>\n",
              "      <td>0</td>\n",
              "      <td>0</td>\n",
              "      <td>0</td>\n",
              "      <td>2</td>\n",
              "      <td>1</td>\n",
              "      <td>0</td>\n",
              "      <td>0</td>\n",
              "      <td>1</td>\n",
              "    </tr>\n",
              "    <tr>\n",
              "      <th>1</th>\n",
              "      <td>198235</td>\n",
              "      <td>CAR</td>\n",
              "      <td>67766</td>\n",
              "      <td>Wage/Salaries</td>\n",
              "      <td>0</td>\n",
              "      <td>17329</td>\n",
              "      <td>13008</td>\n",
              "      <td>17434</td>\n",
              "      <td>11073</td>\n",
              "      <td>2035</td>\n",
              "      <td>...</td>\n",
              "      <td>0</td>\n",
              "      <td>1</td>\n",
              "      <td>0</td>\n",
              "      <td>0</td>\n",
              "      <td>0</td>\n",
              "      <td>3</td>\n",
              "      <td>1</td>\n",
              "      <td>0</td>\n",
              "      <td>0</td>\n",
              "      <td>2</td>\n",
              "    </tr>\n",
              "    <tr>\n",
              "      <th>4</th>\n",
              "      <td>189322</td>\n",
              "      <td>CAR</td>\n",
              "      <td>94625</td>\n",
              "      <td>Wage/Salaries</td>\n",
              "      <td>0</td>\n",
              "      <td>34820</td>\n",
              "      <td>30167</td>\n",
              "      <td>18391</td>\n",
              "      <td>11309</td>\n",
              "      <td>1395</td>\n",
              "      <td>...</td>\n",
              "      <td>1</td>\n",
              "      <td>0</td>\n",
              "      <td>0</td>\n",
              "      <td>0</td>\n",
              "      <td>0</td>\n",
              "      <td>3</td>\n",
              "      <td>0</td>\n",
              "      <td>0</td>\n",
              "      <td>0</td>\n",
              "      <td>1</td>\n",
              "    </tr>\n",
              "    <tr>\n",
              "      <th>6</th>\n",
              "      <td>198621</td>\n",
              "      <td>CAR</td>\n",
              "      <td>104644</td>\n",
              "      <td>Wage/Salaries</td>\n",
              "      <td>0</td>\n",
              "      <td>40992</td>\n",
              "      <td>36312</td>\n",
              "      <td>12968</td>\n",
              "      <td>12310</td>\n",
              "      <td>2565</td>\n",
              "      <td>...</td>\n",
              "      <td>0</td>\n",
              "      <td>0</td>\n",
              "      <td>0</td>\n",
              "      <td>0</td>\n",
              "      <td>0</td>\n",
              "      <td>2</td>\n",
              "      <td>0</td>\n",
              "      <td>0</td>\n",
              "      <td>0</td>\n",
              "      <td>1</td>\n",
              "    </tr>\n",
              "    <tr>\n",
              "      <th>9</th>\n",
              "      <td>625753</td>\n",
              "      <td>CAR</td>\n",
              "      <td>158721</td>\n",
              "      <td>Enterpreneurial Activities</td>\n",
              "      <td>0</td>\n",
              "      <td>56003</td>\n",
              "      <td>43239</td>\n",
              "      <td>26488</td>\n",
              "      <td>25678</td>\n",
              "      <td>3880</td>\n",
              "      <td>...</td>\n",
              "      <td>1</td>\n",
              "      <td>0</td>\n",
              "      <td>0</td>\n",
              "      <td>1</td>\n",
              "      <td>0</td>\n",
              "      <td>4</td>\n",
              "      <td>1</td>\n",
              "      <td>0</td>\n",
              "      <td>0</td>\n",
              "      <td>0</td>\n",
              "    </tr>\n",
              "    <tr>\n",
              "      <th>...</th>\n",
              "      <td>...</td>\n",
              "      <td>...</td>\n",
              "      <td>...</td>\n",
              "      <td>...</td>\n",
              "      <td>...</td>\n",
              "      <td>...</td>\n",
              "      <td>...</td>\n",
              "      <td>...</td>\n",
              "      <td>...</td>\n",
              "      <td>...</td>\n",
              "      <td>...</td>\n",
              "      <td>...</td>\n",
              "      <td>...</td>\n",
              "      <td>...</td>\n",
              "      <td>...</td>\n",
              "      <td>...</td>\n",
              "      <td>...</td>\n",
              "      <td>...</td>\n",
              "      <td>...</td>\n",
              "      <td>...</td>\n",
              "      <td>...</td>\n",
              "    </tr>\n",
              "    <tr>\n",
              "      <th>41521</th>\n",
              "      <td>267330</td>\n",
              "      <td>XII - SOCCSKSARGEN</td>\n",
              "      <td>71609</td>\n",
              "      <td>Other sources of Income</td>\n",
              "      <td>2</td>\n",
              "      <td>22668</td>\n",
              "      <td>17370</td>\n",
              "      <td>5085</td>\n",
              "      <td>12217</td>\n",
              "      <td>4804</td>\n",
              "      <td>...</td>\n",
              "      <td>0</td>\n",
              "      <td>0</td>\n",
              "      <td>0</td>\n",
              "      <td>0</td>\n",
              "      <td>0</td>\n",
              "      <td>2</td>\n",
              "      <td>0</td>\n",
              "      <td>0</td>\n",
              "      <td>0</td>\n",
              "      <td>0</td>\n",
              "    </tr>\n",
              "    <tr>\n",
              "      <th>41522</th>\n",
              "      <td>299856</td>\n",
              "      <td>XII - SOCCSKSARGEN</td>\n",
              "      <td>92326</td>\n",
              "      <td>Wage/Salaries</td>\n",
              "      <td>2</td>\n",
              "      <td>24887</td>\n",
              "      <td>21336</td>\n",
              "      <td>3181</td>\n",
              "      <td>8003</td>\n",
              "      <td>1240</td>\n",
              "      <td>...</td>\n",
              "      <td>1</td>\n",
              "      <td>0</td>\n",
              "      <td>0</td>\n",
              "      <td>0</td>\n",
              "      <td>0</td>\n",
              "      <td>3</td>\n",
              "      <td>0</td>\n",
              "      <td>0</td>\n",
              "      <td>0</td>\n",
              "      <td>0</td>\n",
              "    </tr>\n",
              "    <tr>\n",
              "      <th>41523</th>\n",
              "      <td>252448</td>\n",
              "      <td>XII - SOCCSKSARGEN</td>\n",
              "      <td>91590</td>\n",
              "      <td>Other sources of Income</td>\n",
              "      <td>2</td>\n",
              "      <td>27537</td>\n",
              "      <td>23820</td>\n",
              "      <td>7760</td>\n",
              "      <td>9823</td>\n",
              "      <td>6721</td>\n",
              "      <td>...</td>\n",
              "      <td>1</td>\n",
              "      <td>1</td>\n",
              "      <td>0</td>\n",
              "      <td>0</td>\n",
              "      <td>1</td>\n",
              "      <td>4</td>\n",
              "      <td>1</td>\n",
              "      <td>0</td>\n",
              "      <td>0</td>\n",
              "      <td>0</td>\n",
              "    </tr>\n",
              "    <tr>\n",
              "      <th>41531</th>\n",
              "      <td>257600</td>\n",
              "      <td>XII - SOCCSKSARGEN</td>\n",
              "      <td>127422</td>\n",
              "      <td>Wage/Salaries</td>\n",
              "      <td>2</td>\n",
              "      <td>35120</td>\n",
              "      <td>27327</td>\n",
              "      <td>5273</td>\n",
              "      <td>11487</td>\n",
              "      <td>6372</td>\n",
              "      <td>...</td>\n",
              "      <td>1</td>\n",
              "      <td>0</td>\n",
              "      <td>1</td>\n",
              "      <td>0</td>\n",
              "      <td>0</td>\n",
              "      <td>2</td>\n",
              "      <td>1</td>\n",
              "      <td>1</td>\n",
              "      <td>0</td>\n",
              "      <td>1</td>\n",
              "    </tr>\n",
              "    <tr>\n",
              "      <th>41532</th>\n",
              "      <td>382800</td>\n",
              "      <td>XII - SOCCSKSARGEN</td>\n",
              "      <td>145253</td>\n",
              "      <td>Wage/Salaries</td>\n",
              "      <td>2</td>\n",
              "      <td>46354</td>\n",
              "      <td>37564</td>\n",
              "      <td>9928</td>\n",
              "      <td>20465</td>\n",
              "      <td>2876</td>\n",
              "      <td>...</td>\n",
              "      <td>1</td>\n",
              "      <td>1</td>\n",
              "      <td>1</td>\n",
              "      <td>0</td>\n",
              "      <td>0</td>\n",
              "      <td>4</td>\n",
              "      <td>1</td>\n",
              "      <td>1</td>\n",
              "      <td>0</td>\n",
              "      <td>1</td>\n",
              "    </tr>\n",
              "  </tbody>\n",
              "</table>\n",
              "<p>17878 rows × 60 columns</p>\n",
              "</div>"
            ],
            "text/plain": [
              "       Total_Household_Income              Region  Total_Food_Expenditure  \\\n",
              "0                      480332                 CAR                  117848   \n",
              "1                      198235                 CAR                   67766   \n",
              "4                      189322                 CAR                   94625   \n",
              "6                      198621                 CAR                  104644   \n",
              "9                      625753                 CAR                  158721   \n",
              "...                       ...                 ...                     ...   \n",
              "41521                  267330  XII - SOCCSKSARGEN                   71609   \n",
              "41522                  299856  XII - SOCCSKSARGEN                   92326   \n",
              "41523                  252448  XII - SOCCSKSARGEN                   91590   \n",
              "41531                  257600  XII - SOCCSKSARGEN                  127422   \n",
              "41532                  382800  XII - SOCCSKSARGEN                  145253   \n",
              "\n",
              "            Main_Source_of_Income  Agricultural_Household_indicator  \\\n",
              "0                   Wage/Salaries                                 0   \n",
              "1                   Wage/Salaries                                 0   \n",
              "4                   Wage/Salaries                                 0   \n",
              "6                   Wage/Salaries                                 0   \n",
              "9      Enterpreneurial Activities                                 0   \n",
              "...                           ...                               ...   \n",
              "41521     Other sources of Income                                 2   \n",
              "41522               Wage/Salaries                                 2   \n",
              "41523     Other sources of Income                                 2   \n",
              "41531               Wage/Salaries                                 2   \n",
              "41532               Wage/Salaries                                 2   \n",
              "\n",
              "       Bread_and_Cereals_Expenditure  Total_Rice_Expenditure  \\\n",
              "0                              42140                   38300   \n",
              "1                              17329                   13008   \n",
              "4                              34820                   30167   \n",
              "6                              40992                   36312   \n",
              "9                              56003                   43239   \n",
              "...                              ...                     ...   \n",
              "41521                          22668                   17370   \n",
              "41522                          24887                   21336   \n",
              "41523                          27537                   23820   \n",
              "41531                          35120                   27327   \n",
              "41532                          46354                   37564   \n",
              "\n",
              "       Meat_Expenditure  Total_Fish_and__marine_products_Expenditure  \\\n",
              "0                 24676                                        16806   \n",
              "1                 17434                                        11073   \n",
              "4                 18391                                        11309   \n",
              "6                 12968                                        12310   \n",
              "9                 26488                                        25678   \n",
              "...                 ...                                          ...   \n",
              "41521              5085                                        12217   \n",
              "41522              3181                                         8003   \n",
              "41523              7760                                         9823   \n",
              "41531              5273                                        11487   \n",
              "41532              9928                                        20465   \n",
              "\n",
              "       Fruit_Expenditure  ...  Number_of_Refrigerator/Freezer  \\\n",
              "0                   3325  ...                               1   \n",
              "1                   2035  ...                               0   \n",
              "4                   1395  ...                               1   \n",
              "6                   2565  ...                               0   \n",
              "9                   3880  ...                               1   \n",
              "...                  ...  ...                             ...   \n",
              "41521               4804  ...                               0   \n",
              "41522               1240  ...                               1   \n",
              "41523               6721  ...                               1   \n",
              "41531               6372  ...                               1   \n",
              "41532               2876  ...                               1   \n",
              "\n",
              "       Number_of_Washing_Machine  Number_of_Airconditioner  \\\n",
              "0                              1                         0   \n",
              "1                              1                         0   \n",
              "4                              0                         0   \n",
              "6                              0                         0   \n",
              "9                              0                         0   \n",
              "...                          ...                       ...   \n",
              "41521                          0                         0   \n",
              "41522                          0                         0   \n",
              "41523                          1                         0   \n",
              "41531                          0                         1   \n",
              "41532                          1                         1   \n",
              "\n",
              "       Number_of_Car,_Jeep,_Van  Number_of_Landline/wireless_telephones  \\\n",
              "0                             0                                       0   \n",
              "1                             0                                       0   \n",
              "4                             0                                       0   \n",
              "6                             0                                       0   \n",
              "9                             1                                       0   \n",
              "...                         ...                                     ...   \n",
              "41521                         0                                       0   \n",
              "41522                         0                                       0   \n",
              "41523                         0                                       1   \n",
              "41531                         0                                       0   \n",
              "41532                         0                                       0   \n",
              "\n",
              "       Number_of_Cellular_phone  Number_of_Personal_Computer  \\\n",
              "0                             2                            1   \n",
              "1                             3                            1   \n",
              "4                             3                            0   \n",
              "6                             2                            0   \n",
              "9                             4                            1   \n",
              "...                         ...                          ...   \n",
              "41521                         2                            0   \n",
              "41522                         3                            0   \n",
              "41523                         4                            1   \n",
              "41531                         2                            1   \n",
              "41532                         4                            1   \n",
              "\n",
              "       Number_of_Stove_with_Oven/Gas_Range  Number_of_Motorized_Banca  \\\n",
              "0                                        0                          0   \n",
              "1                                        0                          0   \n",
              "4                                        0                          0   \n",
              "6                                        0                          0   \n",
              "9                                        0                          0   \n",
              "...                                    ...                        ...   \n",
              "41521                                    0                          0   \n",
              "41522                                    0                          0   \n",
              "41523                                    0                          0   \n",
              "41531                                    1                          0   \n",
              "41532                                    1                          0   \n",
              "\n",
              "       Number_of_Motorcycle/Tricycle  \n",
              "0                                  1  \n",
              "1                                  2  \n",
              "4                                  1  \n",
              "6                                  1  \n",
              "9                                  0  \n",
              "...                              ...  \n",
              "41521                              0  \n",
              "41522                              0  \n",
              "41523                              0  \n",
              "41531                              1  \n",
              "41532                              1  \n",
              "\n",
              "[17878 rows x 60 columns]"
            ]
          },
          "execution_count": 78,
          "metadata": {},
          "output_type": "execute_result"
        }
      ],
      "source": [
        "df.query(f'Total_Household_Income > {iqr.Total_Household_Income}')"
      ]
    },
    {
      "cell_type": "code",
      "execution_count": 27,
      "metadata": {},
      "outputs": [
        {
          "data": {
            "image/png": "[encoded data removed]",
            "text/plain": [
              "<Figure size 1600x600 with 1 Axes>"
            ]
          },
          "metadata": {},
          "output_type": "display_data"
        }
      ],
      "source": [
        "plt.figure(figsize=(16,6))\n",
        "sns.boxplot(data = sample_df[quantitative_features], orient='h', showfliers=False)\n",
        "plt.title('Sample Descriptive Analysis (no outliers)', fontsize=18, pad=20, loc='left');"
      ]
    },
    {
      "cell_type": "markdown",
      "metadata": {
        "id": "_GpBeLedxA3Y"
      },
      "source": [
        "# <font color=Gold>Milestone 2"
      ]
    },
    {
      "cell_type": "markdown",
      "metadata": {
        "id": "QxCsAwGrxizq"
      },
      "source": [
        "## <font color='orange'>Tarefa 1</font>\n",
        "Utilizando um nível de confiança de 95%, calcule o intervalo de confiança do dinheiro gasto com saúde e educação (colunas: Medical Care Expenditure e Education Expenditure).  "
      ]
    },
    {
      "cell_type": "code",
      "execution_count": 22,
      "metadata": {
        "id": "6ik_iIA0c0fJ"
      },
      "outputs": [],
      "source": [
        "def calculate_ci(data, n=30, conf_level=0.95):\n",
        "    \n",
        "    sigma = data.std() #desvio padrão populacional\n",
        "\n",
        "    #sig_level = 1 - conf_level\n",
        "    #z_alpha_2 = norm.ppf(conf_level + (sig_level / 2))\n",
        "    #error = z_alpha_2 * (sigma / np.sqrt(n))\n",
        "\n",
        "    sample_mean = data.sample(n, random_state=101).mean()\n",
        "\n",
        "    a, b = norm.interval(conf_level, loc=sample_mean, scale=sigma / np.sqrt(n))\n",
        "\n",
        "    print(f'Intervalo de confiança {int(conf_level*100)}% para {data.name}: ({round(a,2)} , {round(b,2)})')\n"
      ]
    },
    {
      "cell_type": "code",
      "execution_count": 23,
      "metadata": {},
      "outputs": [
        {
          "name": "stdout",
          "output_type": "stream",
          "text": [
            "Intervalo de confiança 95% para Medical Care Expenditure: (-2982.48 , 16270.68)\n",
            "Intervalo de confiança 95% para Education Expenditure: (-1958.58 , 13227.51)\n"
          ]
        }
      ],
      "source": [
        "calculate_ci(df['Medical Care Expenditure'])\n",
        "calculate_ci(df['Education Expenditure'])"
      ]
    },
    {
      "cell_type": "code",
      "execution_count": 32,
      "metadata": {},
      "outputs": [
        {
          "data": {
            "text/plain": [
              "<AxesSubplot:ylabel='Medical Care Expenditure'>"
            ]
          },
          "execution_count": 32,
          "metadata": {},
          "output_type": "execute_result"
        },
        {
          "data": {
            "image/png": "[encoded data removed]",
            "text/plain": [
              "<Figure size 800x600 with 2 Axes>"
            ]
          },
          "metadata": {},
          "output_type": "display_data"
        }
      ],
      "source": [
        "fig, axes = plt.subplots(1,2,figsize=(8,6))\n",
        "sns.boxplot(y=df['Medical Care Expenditure'], showfliers=False, ax=axes[0])\n",
        "sns.boxplot(y=df['Medical Care Expenditure'], showfliers=True, ax=axes[1])"
      ]
    },
    {
      "cell_type": "markdown",
      "metadata": {
        "id": "dNRxabz1coqd"
      },
      "source": [
        "## <font color='orange'>Tarefa 2</font>\n",
        "Calcule se há diferença de média de número total de membros da família pelo sexo do chefe de família (Household Head Sex e Total Number of Family members) com 95% de confiança.  "
      ]
    },
    {
      "cell_type": "code",
      "execution_count": null,
      "metadata": {
        "id": "EQiOnkTac0Gl"
      },
      "outputs": [],
      "source": []
    },
    {
      "cell_type": "markdown",
      "metadata": {
        "id": "b2PBeBFAcocI"
      },
      "source": [
        "## <font color='orange'>Tarefa 3</font>\n",
        "Verifique se há diferença de média total de renda da família (Total Household Income) de acordo com a fonte salarial (Main Source of Income).  \n",
        "\n",
        "*Considere “Enteroreneurial activities” e “other sources of income” como \"outros\".*"
      ]
    },
    {
      "cell_type": "code",
      "execution_count": null,
      "metadata": {
        "id": "-xIDzkzUxBJ3"
      },
      "outputs": [],
      "source": []
    },
    {
      "cell_type": "markdown",
      "metadata": {
        "id": "oqtJgxsQxBla"
      },
      "source": [
        "# <font color=Gold>Milestone 3"
      ]
    },
    {
      "cell_type": "markdown",
      "metadata": {
        "id": "mOLme_8zxvAR"
      },
      "source": [
        "Usando Regressão Linear, crie um modelo de previsão de renda de forma a minimizar o erro. Considere 70% dos dados para treinar o modelo, e 30% para testá-lo. Por fim, utilize as métricas de avaliação do modelo que foram estudadas para validá-lo.  "
      ]
    },
    {
      "cell_type": "code",
      "execution_count": null,
      "metadata": {
        "id": "8RD_pem6xCYM"
      },
      "outputs": [],
      "source": []
    }
  ],
  "metadata": {
    "colab": {
      "name": "Projeto Estatistica.ipynb",
      "provenance": []
    },
    "kernelspec": {
      "display_name": "Python 3",
      "name": "python3"
    },
    "language_info": {
      "codemirror_mode": {
        "name": "ipython",
        "version": 3
      },
      "file_extension": ".py",
      "mimetype": "text/x-python",
      "name": "python",
      "nbconvert_exporter": "python",
      "pygments_lexer": "ipython3",
      "version": "3.9.7"
    }
  },
  "nbformat": 4,
  "nbformat_minor": 0
}
