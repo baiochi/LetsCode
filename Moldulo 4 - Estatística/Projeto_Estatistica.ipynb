{
  "cells": [
    {
      "cell_type": "markdown",
      "metadata": {
        "id": "G-7GZwY7wSnF"
      },
      "source": [
        "Projeto Final do Módulo de Estatística\n",
        "\n",
        "@author: João Baiochi"
      ]
    },
    {
      "cell_type": "markdown",
      "metadata": {
        "id": "yb8r_cWnv8dF"
      },
      "source": [
        "### Importação e Configuração"
      ]
    },
    {
      "cell_type": "code",
      "execution_count": 547,
      "metadata": {
        "colab": {
          "base_uri": "https://localhost:8080/"
        },
        "id": "--ViDRmqv6Ow",
        "outputId": "d497c898-b069-4a00-90de-9865686ce637"
      },
      "outputs": [
        {
          "name": "stdout",
          "output_type": "stream",
          "text": [
            "Numpy: 1.20.3\n",
            "Pandas: 1.3.4\n",
            "Seaborn: 0.11.2\n",
            "Statsmodels.api: 0.12.2\n"
          ]
        }
      ],
      "source": [
        "import numpy as np\n",
        "import pandas as pd\n",
        "import matplotlib.pyplot as plt\n",
        "import seaborn as sns\n",
        "import statsmodels.api as sm\n",
        "import matplotlib as mpl\n",
        "\n",
        "from sklearn.linear_model import LinearRegression\n",
        "from sklearn.metrics import r2_score, mean_squared_error\n",
        "from sklearn.model_selection import train_test_split\n",
        "from scipy.stats import normaltest\n",
        "from scipy.stats import pearsonr\n",
        "from scipy.stats import norm, t as t_student \n",
        "from statsmodels.stats.weightstats import DescrStatsW, CompareMeans\n",
        "\n",
        "# define colors\n",
        "colors = {\n",
        "    'cyan': '#1696d2',\n",
        "    'gray': '#5c5859',\n",
        "    'black': '#000000',\n",
        "    'yellow': '#fdbf11',\n",
        "    'orange': '#ca5800',\n",
        "    'magenta': '#af1f6b',\n",
        "    'green': '#408941',\n",
        "    'red': '#a4201d'\n",
        "}\n",
        "#mpl.rcParams.update(mpl.rcParamsDefault) # avoid bug with plot margins on dark themes\n",
        "color_palette = ['#1696d2', '#5c5859', '#fdbf11', '#af1f6b', '#408941']\n",
        "sns.set()\n",
        "sns.set_palette(color_palette)\n",
        "\n",
        "print(f'Numpy: {np.__version__}')\n",
        "print(f'Pandas: {pd.__version__}')\n",
        "print(f'Seaborn: {sns.__version__}')\n",
        "print(f'Statsmodels.api: {sm.__version__}')"
      ]
    },
    {
      "cell_type": "markdown",
      "metadata": {},
      "source": [
        "### Aditional Functions"
      ]
    },
    {
      "cell_type": "code",
      "execution_count": 176,
      "metadata": {},
      "outputs": [],
      "source": [
        "# Quick remove outliers\n",
        "# Param: data -> pandas.Series\n",
        "# Return: data -> pandas.Series\n",
        "def remove_outliers(data):\n",
        "\n",
        "    q1, q3 = data.quantile(0.25), data.quantile(0.75)\n",
        "    iqr = q3 - q1\n",
        "    inf_limit = q1 - 1.5*iqr\n",
        "    sup_limit = q3 + 1.5*iqr\n",
        "    data = data[(data > inf_limit) & (data < sup_limit)]\n",
        "\n",
        "    return data"
      ]
    },
    {
      "cell_type": "markdown",
      "metadata": {
        "id": "H9Q24B6JwMh3"
      },
      "source": [
        "# Descrição do Projeto"
      ]
    },
    {
      "cell_type": "markdown",
      "metadata": {
        "id": "gLyQoi37wjaU"
      },
      "source": [
        "A Autoridade De Estatística das Filipinas (PSA) lidera a realização da Pesquisa de Renda e Despesa Familiar (FIES) em todo o país.  \n",
        "A pesquisa, realizada a cada 3 (três) anos, tem como objetivo fornecer dados sobre renda e despesas familiares, incluindo, entre outros, níveis de consumo por item de despesa, fontes de renda em dinheiro e informações relacionadas que afetam a renda e níveis de despesas e padrões nas Filipinas.   \n",
        "Dessa forma, pede-se que seja elaborado um relatório prévio com insights e análise de dados por parte de um cientista de dados.\n",
        "\n",
        "Clique <a href='https://s3-sa-east-1.amazonaws.com/lcpi/97fe77d1-2aec-4660-a799-c6eaccd14ea7.csv'>aqui</a> para baixar o dataset."
      ]
    },
    {
      "cell_type": "markdown",
      "metadata": {
        "id": "Zt0XvddSyHkL"
      },
      "source": [
        "## Visualização do Dataset"
      ]
    },
    {
      "cell_type": "code",
      "execution_count": 421,
      "metadata": {
        "colab": {
          "base_uri": "https://localhost:8080/",
          "height": 0
        },
        "id": "nJf7euefwQo-",
        "outputId": "efc9dc17-7c9c-43da-d2bd-af5a2a24e600"
      },
      "outputs": [
        {
          "data": {
            "text/html": [
              "<div>\n",
              "<style scoped>\n",
              "    .dataframe tbody tr th:only-of-type {\n",
              "        vertical-align: middle;\n",
              "    }\n",
              "\n",
              "    .dataframe tbody tr th {\n",
              "        vertical-align: top;\n",
              "    }\n",
              "\n",
              "    .dataframe thead th {\n",
              "        text-align: right;\n",
              "    }\n",
              "</style>\n",
              "<table border=\"1\" class=\"dataframe\">\n",
              "  <thead>\n",
              "    <tr style=\"text-align: right;\">\n",
              "      <th></th>\n",
              "      <th>Total Household Income</th>\n",
              "      <th>Region</th>\n",
              "      <th>Total Food Expenditure</th>\n",
              "      <th>Main Source of Income</th>\n",
              "      <th>Agricultural Household indicator</th>\n",
              "      <th>Bread and Cereals Expenditure</th>\n",
              "      <th>Total Rice Expenditure</th>\n",
              "      <th>Meat Expenditure</th>\n",
              "      <th>Total Fish and  marine products Expenditure</th>\n",
              "      <th>Fruit Expenditure</th>\n",
              "      <th>...</th>\n",
              "      <th>Number of Refrigerator/Freezer</th>\n",
              "      <th>Number of Washing Machine</th>\n",
              "      <th>Number of Airconditioner</th>\n",
              "      <th>Number of Car, Jeep, Van</th>\n",
              "      <th>Number of Landline/wireless telephones</th>\n",
              "      <th>Number of Cellular phone</th>\n",
              "      <th>Number of Personal Computer</th>\n",
              "      <th>Number of Stove with Oven/Gas Range</th>\n",
              "      <th>Number of Motorized Banca</th>\n",
              "      <th>Number of Motorcycle/Tricycle</th>\n",
              "    </tr>\n",
              "  </thead>\n",
              "  <tbody>\n",
              "    <tr>\n",
              "      <th>0</th>\n",
              "      <td>480332</td>\n",
              "      <td>CAR</td>\n",
              "      <td>117848</td>\n",
              "      <td>Wage/Salaries</td>\n",
              "      <td>0</td>\n",
              "      <td>42140</td>\n",
              "      <td>38300</td>\n",
              "      <td>24676</td>\n",
              "      <td>16806</td>\n",
              "      <td>3325</td>\n",
              "      <td>...</td>\n",
              "      <td>1</td>\n",
              "      <td>1</td>\n",
              "      <td>0</td>\n",
              "      <td>0</td>\n",
              "      <td>0</td>\n",
              "      <td>2</td>\n",
              "      <td>1</td>\n",
              "      <td>0</td>\n",
              "      <td>0</td>\n",
              "      <td>1</td>\n",
              "    </tr>\n",
              "    <tr>\n",
              "      <th>1</th>\n",
              "      <td>198235</td>\n",
              "      <td>CAR</td>\n",
              "      <td>67766</td>\n",
              "      <td>Wage/Salaries</td>\n",
              "      <td>0</td>\n",
              "      <td>17329</td>\n",
              "      <td>13008</td>\n",
              "      <td>17434</td>\n",
              "      <td>11073</td>\n",
              "      <td>2035</td>\n",
              "      <td>...</td>\n",
              "      <td>0</td>\n",
              "      <td>1</td>\n",
              "      <td>0</td>\n",
              "      <td>0</td>\n",
              "      <td>0</td>\n",
              "      <td>3</td>\n",
              "      <td>1</td>\n",
              "      <td>0</td>\n",
              "      <td>0</td>\n",
              "      <td>2</td>\n",
              "    </tr>\n",
              "    <tr>\n",
              "      <th>2</th>\n",
              "      <td>82785</td>\n",
              "      <td>CAR</td>\n",
              "      <td>61609</td>\n",
              "      <td>Wage/Salaries</td>\n",
              "      <td>1</td>\n",
              "      <td>34182</td>\n",
              "      <td>32001</td>\n",
              "      <td>7783</td>\n",
              "      <td>2590</td>\n",
              "      <td>1730</td>\n",
              "      <td>...</td>\n",
              "      <td>0</td>\n",
              "      <td>0</td>\n",
              "      <td>0</td>\n",
              "      <td>0</td>\n",
              "      <td>0</td>\n",
              "      <td>0</td>\n",
              "      <td>0</td>\n",
              "      <td>0</td>\n",
              "      <td>0</td>\n",
              "      <td>0</td>\n",
              "    </tr>\n",
              "    <tr>\n",
              "      <th>3</th>\n",
              "      <td>107589</td>\n",
              "      <td>CAR</td>\n",
              "      <td>78189</td>\n",
              "      <td>Wage/Salaries</td>\n",
              "      <td>0</td>\n",
              "      <td>34030</td>\n",
              "      <td>28659</td>\n",
              "      <td>10914</td>\n",
              "      <td>10812</td>\n",
              "      <td>690</td>\n",
              "      <td>...</td>\n",
              "      <td>0</td>\n",
              "      <td>0</td>\n",
              "      <td>0</td>\n",
              "      <td>0</td>\n",
              "      <td>0</td>\n",
              "      <td>1</td>\n",
              "      <td>0</td>\n",
              "      <td>0</td>\n",
              "      <td>0</td>\n",
              "      <td>0</td>\n",
              "    </tr>\n",
              "    <tr>\n",
              "      <th>4</th>\n",
              "      <td>189322</td>\n",
              "      <td>CAR</td>\n",
              "      <td>94625</td>\n",
              "      <td>Wage/Salaries</td>\n",
              "      <td>0</td>\n",
              "      <td>34820</td>\n",
              "      <td>30167</td>\n",
              "      <td>18391</td>\n",
              "      <td>11309</td>\n",
              "      <td>1395</td>\n",
              "      <td>...</td>\n",
              "      <td>1</td>\n",
              "      <td>0</td>\n",
              "      <td>0</td>\n",
              "      <td>0</td>\n",
              "      <td>0</td>\n",
              "      <td>3</td>\n",
              "      <td>0</td>\n",
              "      <td>0</td>\n",
              "      <td>0</td>\n",
              "      <td>1</td>\n",
              "    </tr>\n",
              "  </tbody>\n",
              "</table>\n",
              "<p>5 rows × 60 columns</p>\n",
              "</div>"
            ],
            "text/plain": [
              "   Total Household Income Region  Total Food Expenditure  \\\n",
              "0                  480332    CAR                  117848   \n",
              "1                  198235    CAR                   67766   \n",
              "2                   82785    CAR                   61609   \n",
              "3                  107589    CAR                   78189   \n",
              "4                  189322    CAR                   94625   \n",
              "\n",
              "  Main Source of Income  Agricultural Household indicator  \\\n",
              "0         Wage/Salaries                                 0   \n",
              "1         Wage/Salaries                                 0   \n",
              "2         Wage/Salaries                                 1   \n",
              "3         Wage/Salaries                                 0   \n",
              "4         Wage/Salaries                                 0   \n",
              "\n",
              "   Bread and Cereals Expenditure  Total Rice Expenditure  Meat Expenditure  \\\n",
              "0                          42140                   38300             24676   \n",
              "1                          17329                   13008             17434   \n",
              "2                          34182                   32001              7783   \n",
              "3                          34030                   28659             10914   \n",
              "4                          34820                   30167             18391   \n",
              "\n",
              "   Total Fish and  marine products Expenditure  Fruit Expenditure  ...  \\\n",
              "0                                        16806               3325  ...   \n",
              "1                                        11073               2035  ...   \n",
              "2                                         2590               1730  ...   \n",
              "3                                        10812                690  ...   \n",
              "4                                        11309               1395  ...   \n",
              "\n",
              "   Number of Refrigerator/Freezer  Number of Washing Machine  \\\n",
              "0                               1                          1   \n",
              "1                               0                          1   \n",
              "2                               0                          0   \n",
              "3                               0                          0   \n",
              "4                               1                          0   \n",
              "\n",
              "   Number of Airconditioner  Number of Car, Jeep, Van  \\\n",
              "0                         0                         0   \n",
              "1                         0                         0   \n",
              "2                         0                         0   \n",
              "3                         0                         0   \n",
              "4                         0                         0   \n",
              "\n",
              "   Number of Landline/wireless telephones  Number of Cellular phone  \\\n",
              "0                                       0                         2   \n",
              "1                                       0                         3   \n",
              "2                                       0                         0   \n",
              "3                                       0                         1   \n",
              "4                                       0                         3   \n",
              "\n",
              "   Number of Personal Computer  Number of Stove with Oven/Gas Range  \\\n",
              "0                            1                                    0   \n",
              "1                            1                                    0   \n",
              "2                            0                                    0   \n",
              "3                            0                                    0   \n",
              "4                            0                                    0   \n",
              "\n",
              "   Number of Motorized Banca  Number of Motorcycle/Tricycle  \n",
              "0                          0                              1  \n",
              "1                          0                              2  \n",
              "2                          0                              0  \n",
              "3                          0                              0  \n",
              "4                          0                              1  \n",
              "\n",
              "[5 rows x 60 columns]"
            ]
          },
          "execution_count": 421,
          "metadata": {},
          "output_type": "execute_result"
        }
      ],
      "source": [
        "df = pd.read_csv('https://s3-sa-east-1.amazonaws.com/lcpi/97fe77d1-2aec-4660-a799-c6eaccd14ea7.csv')\n",
        "df.head()"
      ]
    },
    {
      "cell_type": "code",
      "execution_count": 422,
      "metadata": {},
      "outputs": [],
      "source": [
        "# renaming columns for easy accession\n",
        "df.columns = df.columns.str.replace(' ', '_')"
      ]
    },
    {
      "cell_type": "code",
      "execution_count": 423,
      "metadata": {
        "colab": {
          "base_uri": "https://localhost:8080/"
        },
        "id": "m86b09_qx6P_",
        "outputId": "b562f99c-c478-4f75-fc1f-e961f538918a"
      },
      "outputs": [
        {
          "name": "stdout",
          "output_type": "stream",
          "text": [
            "<class 'pandas.core.frame.DataFrame'>\n",
            "RangeIndex: 41544 entries, 0 to 41543\n",
            "Data columns (total 60 columns):\n",
            " #   Column                                         Non-Null Count  Dtype \n",
            "---  ------                                         --------------  ----- \n",
            " 0   Total_Household_Income                         41544 non-null  int64 \n",
            " 1   Region                                         41544 non-null  object\n",
            " 2   Total_Food_Expenditure                         41544 non-null  int64 \n",
            " 3   Main_Source_of_Income                          41544 non-null  object\n",
            " 4   Agricultural_Household_indicator               41544 non-null  int64 \n",
            " 5   Bread_and_Cereals_Expenditure                  41544 non-null  int64 \n",
            " 6   Total_Rice_Expenditure                         41544 non-null  int64 \n",
            " 7   Meat_Expenditure                               41544 non-null  int64 \n",
            " 8   Total_Fish_and__marine_products_Expenditure    41544 non-null  int64 \n",
            " 9   Fruit_Expenditure                              41544 non-null  int64 \n",
            " 10  Vegetables_Expenditure                         41544 non-null  int64 \n",
            " 11  Restaurant_and_hotels_Expenditure              41544 non-null  int64 \n",
            " 12  Alcoholic_Beverages_Expenditure                41544 non-null  int64 \n",
            " 13  Tobacco_Expenditure                            41544 non-null  int64 \n",
            " 14  Clothing,_Footwear_and_Other_Wear_Expenditure  41544 non-null  int64 \n",
            " 15  Housing_and_water_Expenditure                  41544 non-null  int64 \n",
            " 16  Imputed_House_Rental_Value                     41544 non-null  int64 \n",
            " 17  Medical_Care_Expenditure                       41544 non-null  int64 \n",
            " 18  Transportation_Expenditure                     41544 non-null  int64 \n",
            " 19  Communication_Expenditure                      41544 non-null  int64 \n",
            " 20  Education_Expenditure                          41544 non-null  int64 \n",
            " 21  Miscellaneous_Goods_and_Services_Expenditure   41544 non-null  int64 \n",
            " 22  Special_Occasions_Expenditure                  41544 non-null  int64 \n",
            " 23  Crop_Farming_and_Gardening_expenses            41544 non-null  int64 \n",
            " 24  Total_Income_from_Entrepreneurial_Acitivites   41544 non-null  int64 \n",
            " 25  Household_Head_Sex                             41544 non-null  object\n",
            " 26  Household_Head_Age                             41544 non-null  int64 \n",
            " 27  Household_Head_Marital_Status                  41544 non-null  object\n",
            " 28  Household_Head_Highest_Grade_Completed         41544 non-null  object\n",
            " 29  Household_Head_Job_or_Business_Indicator       41544 non-null  object\n",
            " 30  Household_Head_Occupation                      34008 non-null  object\n",
            " 31  Household_Head_Class_of_Worker                 34008 non-null  object\n",
            " 32  Type_of_Household                              41544 non-null  object\n",
            " 33  Total_Number_of_Family_members                 41544 non-null  int64 \n",
            " 34  Members_with_age_less_than_5_year_old          41544 non-null  int64 \n",
            " 35  Members_with_age_5_-_17_years_old              41544 non-null  int64 \n",
            " 36  Total_number_of_family_members_employed        41544 non-null  int64 \n",
            " 37  Type_of_Building/House                         41544 non-null  object\n",
            " 38  Type_of_Roof                                   41544 non-null  object\n",
            " 39  Type_of_Walls                                  41544 non-null  object\n",
            " 40  House_Floor_Area                               41544 non-null  int64 \n",
            " 41  House_Age                                      41544 non-null  int64 \n",
            " 42  Number_of_bedrooms                             41544 non-null  int64 \n",
            " 43  Tenure_Status                                  41544 non-null  object\n",
            " 44  Toilet_Facilities                              41544 non-null  object\n",
            " 45  Electricity                                    41544 non-null  int64 \n",
            " 46  Main_Source_of_Water_Supply                    41544 non-null  object\n",
            " 47  Number_of_Television                           41544 non-null  int64 \n",
            " 48  Number_of_CD/VCD/DVD                           41544 non-null  int64 \n",
            " 49  Number_of_Component/Stereo_set                 41544 non-null  int64 \n",
            " 50  Number_of_Refrigerator/Freezer                 41544 non-null  int64 \n",
            " 51  Number_of_Washing_Machine                      41544 non-null  int64 \n",
            " 52  Number_of_Airconditioner                       41544 non-null  int64 \n",
            " 53  Number_of_Car,_Jeep,_Van                       41544 non-null  int64 \n",
            " 54  Number_of_Landline/wireless_telephones         41544 non-null  int64 \n",
            " 55  Number_of_Cellular_phone                       41544 non-null  int64 \n",
            " 56  Number_of_Personal_Computer                    41544 non-null  int64 \n",
            " 57  Number_of_Stove_with_Oven/Gas_Range            41544 non-null  int64 \n",
            " 58  Number_of_Motorized_Banca                      41544 non-null  int64 \n",
            " 59  Number_of_Motorcycle/Tricycle                  41544 non-null  int64 \n",
            "dtypes: int64(45), object(15)\n",
            "memory usage: 19.0+ MB\n"
          ]
        }
      ],
      "source": [
        "df.info()"
      ]
    },
    {
      "cell_type": "code",
      "execution_count": 424,
      "metadata": {
        "colab": {
          "base_uri": "https://localhost:8080/"
        },
        "id": "UISr5VQ_yMDM",
        "outputId": "2c0e7a38-198e-4717-a45a-1500df5a81bc"
      },
      "outputs": [
        {
          "data": {
            "text/plain": [
              "Household_Head_Occupation         7536\n",
              "Household_Head_Class_of_Worker    7536\n",
              "dtype: int64"
            ]
          },
          "execution_count": 424,
          "metadata": {},
          "output_type": "execute_result"
        }
      ],
      "source": [
        "null_values = df.isnull().sum()\n",
        "null_values[null_values > 0]"
      ]
    },
    {
      "cell_type": "markdown",
      "metadata": {
        "id": "SI2xeuJEw_xJ"
      },
      "source": [
        "# <font color=Gold>Milestone 1"
      ]
    },
    {
      "cell_type": "markdown",
      "metadata": {
        "id": "bsouEqsCxdik"
      },
      "source": [
        "## <font color='orange'>Tarefa 1</font>\n",
        "Calcule o tamanho de amostra ideal, considerando que você deseja estimar a média de dinheiro gasto com saúde (Medical Care Expenditure) com um erro máximo de 500, e um nível de confiança de 95%.  "
      ]
    },
    {
      "cell_type": "code",
      "execution_count": 6,
      "metadata": {
        "id": "ByK8a5UXxAau"
      },
      "outputs": [],
      "source": [
        "max_error = 500\n",
        "conf_level = 0.95\n",
        "sig_level = 1 - conf_level"
      ]
    },
    {
      "cell_type": "code",
      "execution_count": 7,
      "metadata": {
        "colab": {
          "base_uri": "https://localhost:8080/"
        },
        "id": "jYHiZzgLZ_Wo",
        "outputId": "44007057-e0ac-4797-99d1-c52a887fd16d"
      },
      "outputs": [
        {
          "data": {
            "text/plain": [
              "1.959963984540054"
            ]
          },
          "execution_count": 7,
          "metadata": {},
          "output_type": "execute_result"
        }
      ],
      "source": [
        "sigma = df['Medical_Care_Expenditure'].std()\n",
        "z_alpha_2 = norm.ppf(0.95 + (0.05 / 2))\n",
        "z_alpha_2"
      ]
    },
    {
      "cell_type": "code",
      "execution_count": 8,
      "metadata": {
        "id": "J4c5_1f9aPwJ"
      },
      "outputs": [],
      "source": [
        "n_min = (z_alpha_2 * sigma / max_error)**2"
      ]
    },
    {
      "cell_type": "code",
      "execution_count": 9,
      "metadata": {
        "colab": {
          "base_uri": "https://localhost:8080/"
        },
        "id": "n3JnJmqbaQS_",
        "outputId": "7dda9b1a-1501-4597-b292-9867fcc45489"
      },
      "outputs": [
        {
          "data": {
            "text/plain": [
              "11121"
            ]
          },
          "execution_count": 9,
          "metadata": {},
          "output_type": "execute_result"
        }
      ],
      "source": [
        "n = round(np.ceil(n_min))\n",
        "n"
      ]
    },
    {
      "cell_type": "code",
      "execution_count": 10,
      "metadata": {
        "id": "leFHfk2X029P"
      },
      "outputs": [],
      "source": [
        "population_mean = df['Medical_Care_Expenditure'].mean()\n",
        "sample_error = [[n,abs(df['Medical_Care_Expenditure'].sample(n, random_state=101).mean() - population_mean) ] for n in range (2, df.shape[0]+1) ]"
      ]
    },
    {
      "cell_type": "code",
      "execution_count": 11,
      "metadata": {
        "colab": {
          "base_uri": "https://localhost:8080/",
          "height": 206
        },
        "id": "OhozSfapNr1s",
        "outputId": "48b15042-eca5-4202-9c16-fb08d0eb4965"
      },
      "outputs": [
        {
          "data": {
            "text/html": [
              "<div>\n",
              "<style scoped>\n",
              "    .dataframe tbody tr th:only-of-type {\n",
              "        vertical-align: middle;\n",
              "    }\n",
              "\n",
              "    .dataframe tbody tr th {\n",
              "        vertical-align: top;\n",
              "    }\n",
              "\n",
              "    .dataframe thead th {\n",
              "        text-align: right;\n",
              "    }\n",
              "</style>\n",
              "<table border=\"1\" class=\"dataframe\">\n",
              "  <thead>\n",
              "    <tr style=\"text-align: right;\">\n",
              "      <th></th>\n",
              "      <th>n</th>\n",
              "      <th>error</th>\n",
              "    </tr>\n",
              "  </thead>\n",
              "  <tbody>\n",
              "    <tr>\n",
              "      <th>0</th>\n",
              "      <td>2</td>\n",
              "      <td>6334.730936</td>\n",
              "    </tr>\n",
              "    <tr>\n",
              "      <th>1</th>\n",
              "      <td>3</td>\n",
              "      <td>5517.564269</td>\n",
              "    </tr>\n",
              "    <tr>\n",
              "      <th>2</th>\n",
              "      <td>4</td>\n",
              "      <td>4882.730936</td>\n",
              "    </tr>\n",
              "    <tr>\n",
              "      <th>3</th>\n",
              "      <td>5</td>\n",
              "      <td>5262.230936</td>\n",
              "    </tr>\n",
              "    <tr>\n",
              "      <th>4</th>\n",
              "      <td>6</td>\n",
              "      <td>5495.564269</td>\n",
              "    </tr>\n",
              "  </tbody>\n",
              "</table>\n",
              "</div>"
            ],
            "text/plain": [
              "   n        error\n",
              "0  2  6334.730936\n",
              "1  3  5517.564269\n",
              "2  4  4882.730936\n",
              "3  5  5262.230936\n",
              "4  6  5495.564269"
            ]
          },
          "execution_count": 11,
          "metadata": {},
          "output_type": "execute_result"
        }
      ],
      "source": [
        "n_error = pd.DataFrame(sample_error, columns=['n', 'error'])\n",
        "n_error.head()"
      ]
    },
    {
      "cell_type": "code",
      "execution_count": 32,
      "metadata": {
        "colab": {
          "base_uri": "https://localhost:8080/",
          "height": 412
        },
        "id": "LbGbscXWU8Yq",
        "outputId": "47507fe5-78bb-4738-c698-e58a76ecbe3e"
      },
      "outputs": [
        {
          "data": {
            "image/png": "[encoded data removed]",
            "text/plain": [
              "<Figure size 600x400 with 1 Axes>"
            ]
          },
          "metadata": {},
          "output_type": "display_data"
        }
      ],
      "source": [
        "plt.figure(figsize=(6,4))\n",
        "sns.lineplot(data=n_error.iloc[:n], x='n', y='error', label='sample_error')\n",
        "plt.hlines(y=500, xmin=0, xmax=n, label='max_error')\n",
        "plt.legend()\n",
        "plt.title('Sample error distribuition', fontsize=18, pad=10);"
      ]
    },
    {
      "cell_type": "code",
      "execution_count": 33,
      "metadata": {
        "colab": {
          "base_uri": "https://localhost:8080/"
        },
        "id": "TD0ujgEPcAoN",
        "outputId": "bb3404ea-44c7-4ef6-893c-3a419a5e5ef7"
      },
      "outputs": [
        {
          "name": "stdout",
          "output_type": "stream",
          "text": [
            "Tamanho mínimo da amostra para nível de confiança 95% e erro máximo 500: 11121\n"
          ]
        }
      ],
      "source": [
        "print(f'Tamanho mínimo da amostra para nível de confiança 95% e erro máximo 500: {n}')"
      ]
    },
    {
      "cell_type": "markdown",
      "metadata": {
        "id": "c50a8kv-cWW1"
      },
      "source": [
        "## <font color='orange'>Tarefa 2</font>\n",
        "Obtenha uma amostra do dataset, considerando o tamanho da amostra que você calculou anteriormente e, em seguida, faça uma análise descritiva dos dados com, pelo menos, 10 variáveis quantitativas.  "
      ]
    },
    {
      "cell_type": "code",
      "execution_count": 34,
      "metadata": {
        "colab": {
          "base_uri": "https://localhost:8080/"
        },
        "id": "tTmDzvnacXnS",
        "outputId": "137c3a7c-e1b1-464c-af55-a4e8e6d9d275"
      },
      "outputs": [
        {
          "data": {
            "text/plain": [
              "(11121, 60)"
            ]
          },
          "execution_count": 34,
          "metadata": {},
          "output_type": "execute_result"
        }
      ],
      "source": [
        "sample_df = df.sample(n, random_state=101)\n",
        "sample_df.shape\n"
      ]
    },
    {
      "cell_type": "code",
      "execution_count": 35,
      "metadata": {},
      "outputs": [
        {
          "data": {
            "text/plain": [
              "array(['Total_Household_Income', 'Total_Food_Expenditure',\n",
              "       'Agricultural_Household_indicator',\n",
              "       'Bread_and_Cereals_Expenditure', 'Total_Rice_Expenditure',\n",
              "       'Meat_Expenditure', 'Total_Fish_and__marine_products_Expenditure',\n",
              "       'Fruit_Expenditure', 'Vegetables_Expenditure',\n",
              "       'Restaurant_and_hotels_Expenditure'], dtype=object)"
            ]
          },
          "execution_count": 35,
          "metadata": {},
          "output_type": "execute_result"
        }
      ],
      "source": [
        "quantitative_features = sample_df.select_dtypes(include=['int64']).iloc[:,:10].columns.values\n",
        "quantitative_features"
      ]
    },
    {
      "cell_type": "code",
      "execution_count": 36,
      "metadata": {},
      "outputs": [
        {
          "data": {
            "text/plain": [
              "0    7532\n",
              "1    2372\n",
              "2    1217\n",
              "Name: Agricultural_Household_indicator, dtype: int64"
            ]
          },
          "execution_count": 36,
          "metadata": {},
          "output_type": "execute_result"
        }
      ],
      "source": [
        "sample_df['Agricultural_Household_indicator'].value_counts()"
      ]
    },
    {
      "cell_type": "markdown",
      "metadata": {},
      "source": [
        "A variável **Agricultural Household indicator** apresenta uma característica de variável qualitativa, portanto iremos substituir por outra"
      ]
    },
    {
      "cell_type": "code",
      "execution_count": 37,
      "metadata": {},
      "outputs": [
        {
          "data": {
            "text/plain": [
              "1849     880\n",
              "29179      0\n",
              "20513    432\n",
              "Name: Alcoholic_Beverages_Expenditure, dtype: int64"
            ]
          },
          "execution_count": 37,
          "metadata": {},
          "output_type": "execute_result"
        }
      ],
      "source": [
        "sample_df.select_dtypes(include=['int64']).iloc[:,10].head(3)"
      ]
    },
    {
      "cell_type": "code",
      "execution_count": 38,
      "metadata": {},
      "outputs": [],
      "source": [
        "quantitative_features[2] = 'Alcoholic_Beverages_Expenditure'"
      ]
    },
    {
      "cell_type": "code",
      "execution_count": 39,
      "metadata": {
        "colab": {
          "base_uri": "https://localhost:8080/",
          "height": 363
        },
        "id": "0047P_i9dZyR",
        "outputId": "f0c801e8-4e30-4ef3-d081-617ce7a4079c"
      },
      "outputs": [
        {
          "data": {
            "text/html": [
              "<div>\n",
              "<style scoped>\n",
              "    .dataframe tbody tr th:only-of-type {\n",
              "        vertical-align: middle;\n",
              "    }\n",
              "\n",
              "    .dataframe tbody tr th {\n",
              "        vertical-align: top;\n",
              "    }\n",
              "\n",
              "    .dataframe thead th {\n",
              "        text-align: right;\n",
              "    }\n",
              "</style>\n",
              "<table border=\"1\" class=\"dataframe\">\n",
              "  <thead>\n",
              "    <tr style=\"text-align: right;\">\n",
              "      <th></th>\n",
              "      <th>count</th>\n",
              "      <th>mean</th>\n",
              "      <th>std</th>\n",
              "      <th>min</th>\n",
              "      <th>25%</th>\n",
              "      <th>50%</th>\n",
              "      <th>75%</th>\n",
              "      <th>max</th>\n",
              "    </tr>\n",
              "  </thead>\n",
              "  <tbody>\n",
              "    <tr>\n",
              "      <th>Total_Household_Income</th>\n",
              "      <td>11121.0</td>\n",
              "      <td>248771.872763</td>\n",
              "      <td>283928.225230</td>\n",
              "      <td>12141.0</td>\n",
              "      <td>104895.0</td>\n",
              "      <td>163360.0</td>\n",
              "      <td>292496.0</td>\n",
              "      <td>6452314.0</td>\n",
              "    </tr>\n",
              "    <tr>\n",
              "      <th>Total_Food_Expenditure</th>\n",
              "      <td>11121.0</td>\n",
              "      <td>85369.309594</td>\n",
              "      <td>52122.343632</td>\n",
              "      <td>5408.0</td>\n",
              "      <td>50856.0</td>\n",
              "      <td>73157.0</td>\n",
              "      <td>105683.0</td>\n",
              "      <td>691917.0</td>\n",
              "    </tr>\n",
              "    <tr>\n",
              "      <th>Alcoholic_Beverages_Expenditure</th>\n",
              "      <td>11121.0</td>\n",
              "      <td>1075.270839</td>\n",
              "      <td>2088.708776</td>\n",
              "      <td>0.0</td>\n",
              "      <td>0.0</td>\n",
              "      <td>270.0</td>\n",
              "      <td>1300.0</td>\n",
              "      <td>38220.0</td>\n",
              "    </tr>\n",
              "    <tr>\n",
              "      <th>Bread_and_Cereals_Expenditure</th>\n",
              "      <td>11121.0</td>\n",
              "      <td>25176.049636</td>\n",
              "      <td>13829.135190</td>\n",
              "      <td>0.0</td>\n",
              "      <td>16512.0</td>\n",
              "      <td>23377.0</td>\n",
              "      <td>31358.0</td>\n",
              "      <td>437467.0</td>\n",
              "    </tr>\n",
              "    <tr>\n",
              "      <th>Total_Rice_Expenditure</th>\n",
              "      <td>11121.0</td>\n",
              "      <td>18205.065552</td>\n",
              "      <td>12163.718364</td>\n",
              "      <td>0.0</td>\n",
              "      <td>10990.0</td>\n",
              "      <td>16559.0</td>\n",
              "      <td>23840.0</td>\n",
              "      <td>429640.0</td>\n",
              "    </tr>\n",
              "    <tr>\n",
              "      <th>Meat_Expenditure</th>\n",
              "      <td>11121.0</td>\n",
              "      <td>10558.656596</td>\n",
              "      <td>10428.335568</td>\n",
              "      <td>0.0</td>\n",
              "      <td>3324.0</td>\n",
              "      <td>7290.0</td>\n",
              "      <td>14420.0</td>\n",
              "      <td>132142.0</td>\n",
              "    </tr>\n",
              "    <tr>\n",
              "      <th>Total_Fish_and__marine_products_Expenditure</th>\n",
              "      <td>11121.0</td>\n",
              "      <td>10464.498067</td>\n",
              "      <td>7774.138424</td>\n",
              "      <td>0.0</td>\n",
              "      <td>5470.0</td>\n",
              "      <td>8643.0</td>\n",
              "      <td>13370.0</td>\n",
              "      <td>119640.0</td>\n",
              "    </tr>\n",
              "    <tr>\n",
              "      <th>Fruit_Expenditure</th>\n",
              "      <td>11121.0</td>\n",
              "      <td>2542.589066</td>\n",
              "      <td>2657.768725</td>\n",
              "      <td>0.0</td>\n",
              "      <td>1010.0</td>\n",
              "      <td>1835.0</td>\n",
              "      <td>3115.0</td>\n",
              "      <td>69319.0</td>\n",
              "    </tr>\n",
              "    <tr>\n",
              "      <th>Vegetables_Expenditure</th>\n",
              "      <td>11121.0</td>\n",
              "      <td>4981.193598</td>\n",
              "      <td>3289.452735</td>\n",
              "      <td>0.0</td>\n",
              "      <td>2850.0</td>\n",
              "      <td>4298.0</td>\n",
              "      <td>6252.0</td>\n",
              "      <td>49810.0</td>\n",
              "    </tr>\n",
              "    <tr>\n",
              "      <th>Restaurant_and_hotels_Expenditure</th>\n",
              "      <td>11121.0</td>\n",
              "      <td>15662.865929</td>\n",
              "      <td>23823.800049</td>\n",
              "      <td>0.0</td>\n",
              "      <td>1900.0</td>\n",
              "      <td>7340.0</td>\n",
              "      <td>19960.0</td>\n",
              "      <td>597150.0</td>\n",
              "    </tr>\n",
              "  </tbody>\n",
              "</table>\n",
              "</div>"
            ],
            "text/plain": [
              "                                               count           mean  \\\n",
              "Total_Household_Income                       11121.0  248771.872763   \n",
              "Total_Food_Expenditure                       11121.0   85369.309594   \n",
              "Alcoholic_Beverages_Expenditure              11121.0    1075.270839   \n",
              "Bread_and_Cereals_Expenditure                11121.0   25176.049636   \n",
              "Total_Rice_Expenditure                       11121.0   18205.065552   \n",
              "Meat_Expenditure                             11121.0   10558.656596   \n",
              "Total_Fish_and__marine_products_Expenditure  11121.0   10464.498067   \n",
              "Fruit_Expenditure                            11121.0    2542.589066   \n",
              "Vegetables_Expenditure                       11121.0    4981.193598   \n",
              "Restaurant_and_hotels_Expenditure            11121.0   15662.865929   \n",
              "\n",
              "                                                       std      min       25%  \\\n",
              "Total_Household_Income                       283928.225230  12141.0  104895.0   \n",
              "Total_Food_Expenditure                        52122.343632   5408.0   50856.0   \n",
              "Alcoholic_Beverages_Expenditure                2088.708776      0.0       0.0   \n",
              "Bread_and_Cereals_Expenditure                 13829.135190      0.0   16512.0   \n",
              "Total_Rice_Expenditure                        12163.718364      0.0   10990.0   \n",
              "Meat_Expenditure                              10428.335568      0.0    3324.0   \n",
              "Total_Fish_and__marine_products_Expenditure    7774.138424      0.0    5470.0   \n",
              "Fruit_Expenditure                              2657.768725      0.0    1010.0   \n",
              "Vegetables_Expenditure                         3289.452735      0.0    2850.0   \n",
              "Restaurant_and_hotels_Expenditure             23823.800049      0.0    1900.0   \n",
              "\n",
              "                                                  50%       75%        max  \n",
              "Total_Household_Income                       163360.0  292496.0  6452314.0  \n",
              "Total_Food_Expenditure                        73157.0  105683.0   691917.0  \n",
              "Alcoholic_Beverages_Expenditure                 270.0    1300.0    38220.0  \n",
              "Bread_and_Cereals_Expenditure                 23377.0   31358.0   437467.0  \n",
              "Total_Rice_Expenditure                        16559.0   23840.0   429640.0  \n",
              "Meat_Expenditure                               7290.0   14420.0   132142.0  \n",
              "Total_Fish_and__marine_products_Expenditure    8643.0   13370.0   119640.0  \n",
              "Fruit_Expenditure                              1835.0    3115.0    69319.0  \n",
              "Vegetables_Expenditure                         4298.0    6252.0    49810.0  \n",
              "Restaurant_and_hotels_Expenditure              7340.0   19960.0   597150.0  "
            ]
          },
          "execution_count": 39,
          "metadata": {},
          "output_type": "execute_result"
        }
      ],
      "source": [
        "sample_df[quantitative_features].describe().T"
      ]
    },
    {
      "cell_type": "code",
      "execution_count": 40,
      "metadata": {
        "colab": {
          "base_uri": "https://localhost:8080/",
          "height": 440
        },
        "id": "VJfugSMHd2U4",
        "outputId": "06567bf4-4664-4216-901f-66ab4caf51b9"
      },
      "outputs": [
        {
          "data": {
            "image/png": "[encoded data removed]",
            "text/plain": [
              "<Figure size 1600x600 with 1 Axes>"
            ]
          },
          "metadata": {},
          "output_type": "display_data"
        }
      ],
      "source": [
        "plt.figure(figsize=(16,6))\n",
        "sns.boxplot(data = sample_df[quantitative_features], orient='h')\n",
        "plt.title('Sample Descriptive Analysis', fontsize=18, pad=20, loc='left');"
      ]
    },
    {
      "cell_type": "markdown",
      "metadata": {
        "id": "GJo7r3FXgOmk"
      },
      "source": [
        "Podemos observar que as amostras possuem um alto nível de outliers, faremos a mesma análise retirando estes dados"
      ]
    },
    {
      "cell_type": "code",
      "execution_count": 41,
      "metadata": {
        "id": "dVFkZqvKgY3V"
      },
      "outputs": [
        {
          "data": {
            "text/plain": [
              "Total_Household_Income                         187601.0\n",
              "Total_Food_Expenditure                          54827.0\n",
              "Alcoholic_Beverages_Expenditure                  1300.0\n",
              "Bread_and_Cereals_Expenditure                   14846.0\n",
              "Total_Rice_Expenditure                          12850.0\n",
              "Meat_Expenditure                                11096.0\n",
              "Total_Fish_and__marine_products_Expenditure      7900.0\n",
              "Fruit_Expenditure                                2105.0\n",
              "Vegetables_Expenditure                           3402.0\n",
              "Restaurant_and_hotels_Expenditure               18060.0\n",
              "dtype: float64"
            ]
          },
          "execution_count": 41,
          "metadata": {},
          "output_type": "execute_result"
        }
      ],
      "source": [
        "iqr = sample_df[quantitative_features].quantile(0.75) - sample_df[quantitative_features].quantile(0.25)\n",
        "iqr"
      ]
    },
    {
      "cell_type": "code",
      "execution_count": 42,
      "metadata": {},
      "outputs": [
        {
          "data": {
            "text/plain": [
              "187601.0"
            ]
          },
          "execution_count": 42,
          "metadata": {},
          "output_type": "execute_result"
        }
      ],
      "source": [
        "iqr.Total_Household_Income"
      ]
    },
    {
      "cell_type": "code",
      "execution_count": 43,
      "metadata": {},
      "outputs": [
        {
          "data": {
            "text/html": [
              "<div>\n",
              "<style scoped>\n",
              "    .dataframe tbody tr th:only-of-type {\n",
              "        vertical-align: middle;\n",
              "    }\n",
              "\n",
              "    .dataframe tbody tr th {\n",
              "        vertical-align: top;\n",
              "    }\n",
              "\n",
              "    .dataframe thead th {\n",
              "        text-align: right;\n",
              "    }\n",
              "</style>\n",
              "<table border=\"1\" class=\"dataframe\">\n",
              "  <thead>\n",
              "    <tr style=\"text-align: right;\">\n",
              "      <th></th>\n",
              "      <th>Total_Household_Income</th>\n",
              "      <th>Region</th>\n",
              "      <th>Total_Food_Expenditure</th>\n",
              "      <th>Main_Source_of_Income</th>\n",
              "      <th>Agricultural_Household_indicator</th>\n",
              "      <th>Bread_and_Cereals_Expenditure</th>\n",
              "      <th>Total_Rice_Expenditure</th>\n",
              "      <th>Meat_Expenditure</th>\n",
              "      <th>Total_Fish_and__marine_products_Expenditure</th>\n",
              "      <th>Fruit_Expenditure</th>\n",
              "      <th>...</th>\n",
              "      <th>Number_of_Refrigerator/Freezer</th>\n",
              "      <th>Number_of_Washing_Machine</th>\n",
              "      <th>Number_of_Airconditioner</th>\n",
              "      <th>Number_of_Car,_Jeep,_Van</th>\n",
              "      <th>Number_of_Landline/wireless_telephones</th>\n",
              "      <th>Number_of_Cellular_phone</th>\n",
              "      <th>Number_of_Personal_Computer</th>\n",
              "      <th>Number_of_Stove_with_Oven/Gas_Range</th>\n",
              "      <th>Number_of_Motorized_Banca</th>\n",
              "      <th>Number_of_Motorcycle/Tricycle</th>\n",
              "    </tr>\n",
              "  </thead>\n",
              "  <tbody>\n",
              "    <tr>\n",
              "      <th>0</th>\n",
              "      <td>480332</td>\n",
              "      <td>CAR</td>\n",
              "      <td>117848</td>\n",
              "      <td>Wage/Salaries</td>\n",
              "      <td>0</td>\n",
              "      <td>42140</td>\n",
              "      <td>38300</td>\n",
              "      <td>24676</td>\n",
              "      <td>16806</td>\n",
              "      <td>3325</td>\n",
              "      <td>...</td>\n",
              "      <td>1</td>\n",
              "      <td>1</td>\n",
              "      <td>0</td>\n",
              "      <td>0</td>\n",
              "      <td>0</td>\n",
              "      <td>2</td>\n",
              "      <td>1</td>\n",
              "      <td>0</td>\n",
              "      <td>0</td>\n",
              "      <td>1</td>\n",
              "    </tr>\n",
              "    <tr>\n",
              "      <th>1</th>\n",
              "      <td>198235</td>\n",
              "      <td>CAR</td>\n",
              "      <td>67766</td>\n",
              "      <td>Wage/Salaries</td>\n",
              "      <td>0</td>\n",
              "      <td>17329</td>\n",
              "      <td>13008</td>\n",
              "      <td>17434</td>\n",
              "      <td>11073</td>\n",
              "      <td>2035</td>\n",
              "      <td>...</td>\n",
              "      <td>0</td>\n",
              "      <td>1</td>\n",
              "      <td>0</td>\n",
              "      <td>0</td>\n",
              "      <td>0</td>\n",
              "      <td>3</td>\n",
              "      <td>1</td>\n",
              "      <td>0</td>\n",
              "      <td>0</td>\n",
              "      <td>2</td>\n",
              "    </tr>\n",
              "    <tr>\n",
              "      <th>4</th>\n",
              "      <td>189322</td>\n",
              "      <td>CAR</td>\n",
              "      <td>94625</td>\n",
              "      <td>Wage/Salaries</td>\n",
              "      <td>0</td>\n",
              "      <td>34820</td>\n",
              "      <td>30167</td>\n",
              "      <td>18391</td>\n",
              "      <td>11309</td>\n",
              "      <td>1395</td>\n",
              "      <td>...</td>\n",
              "      <td>1</td>\n",
              "      <td>0</td>\n",
              "      <td>0</td>\n",
              "      <td>0</td>\n",
              "      <td>0</td>\n",
              "      <td>3</td>\n",
              "      <td>0</td>\n",
              "      <td>0</td>\n",
              "      <td>0</td>\n",
              "      <td>1</td>\n",
              "    </tr>\n",
              "    <tr>\n",
              "      <th>6</th>\n",
              "      <td>198621</td>\n",
              "      <td>CAR</td>\n",
              "      <td>104644</td>\n",
              "      <td>Wage/Salaries</td>\n",
              "      <td>0</td>\n",
              "      <td>40992</td>\n",
              "      <td>36312</td>\n",
              "      <td>12968</td>\n",
              "      <td>12310</td>\n",
              "      <td>2565</td>\n",
              "      <td>...</td>\n",
              "      <td>0</td>\n",
              "      <td>0</td>\n",
              "      <td>0</td>\n",
              "      <td>0</td>\n",
              "      <td>0</td>\n",
              "      <td>2</td>\n",
              "      <td>0</td>\n",
              "      <td>0</td>\n",
              "      <td>0</td>\n",
              "      <td>1</td>\n",
              "    </tr>\n",
              "    <tr>\n",
              "      <th>9</th>\n",
              "      <td>625753</td>\n",
              "      <td>CAR</td>\n",
              "      <td>158721</td>\n",
              "      <td>Enterpreneurial Activities</td>\n",
              "      <td>0</td>\n",
              "      <td>56003</td>\n",
              "      <td>43239</td>\n",
              "      <td>26488</td>\n",
              "      <td>25678</td>\n",
              "      <td>3880</td>\n",
              "      <td>...</td>\n",
              "      <td>1</td>\n",
              "      <td>0</td>\n",
              "      <td>0</td>\n",
              "      <td>1</td>\n",
              "      <td>0</td>\n",
              "      <td>4</td>\n",
              "      <td>1</td>\n",
              "      <td>0</td>\n",
              "      <td>0</td>\n",
              "      <td>0</td>\n",
              "    </tr>\n",
              "    <tr>\n",
              "      <th>...</th>\n",
              "      <td>...</td>\n",
              "      <td>...</td>\n",
              "      <td>...</td>\n",
              "      <td>...</td>\n",
              "      <td>...</td>\n",
              "      <td>...</td>\n",
              "      <td>...</td>\n",
              "      <td>...</td>\n",
              "      <td>...</td>\n",
              "      <td>...</td>\n",
              "      <td>...</td>\n",
              "      <td>...</td>\n",
              "      <td>...</td>\n",
              "      <td>...</td>\n",
              "      <td>...</td>\n",
              "      <td>...</td>\n",
              "      <td>...</td>\n",
              "      <td>...</td>\n",
              "      <td>...</td>\n",
              "      <td>...</td>\n",
              "      <td>...</td>\n",
              "    </tr>\n",
              "    <tr>\n",
              "      <th>41521</th>\n",
              "      <td>267330</td>\n",
              "      <td>XII - SOCCSKSARGEN</td>\n",
              "      <td>71609</td>\n",
              "      <td>Other sources of Income</td>\n",
              "      <td>2</td>\n",
              "      <td>22668</td>\n",
              "      <td>17370</td>\n",
              "      <td>5085</td>\n",
              "      <td>12217</td>\n",
              "      <td>4804</td>\n",
              "      <td>...</td>\n",
              "      <td>0</td>\n",
              "      <td>0</td>\n",
              "      <td>0</td>\n",
              "      <td>0</td>\n",
              "      <td>0</td>\n",
              "      <td>2</td>\n",
              "      <td>0</td>\n",
              "      <td>0</td>\n",
              "      <td>0</td>\n",
              "      <td>0</td>\n",
              "    </tr>\n",
              "    <tr>\n",
              "      <th>41522</th>\n",
              "      <td>299856</td>\n",
              "      <td>XII - SOCCSKSARGEN</td>\n",
              "      <td>92326</td>\n",
              "      <td>Wage/Salaries</td>\n",
              "      <td>2</td>\n",
              "      <td>24887</td>\n",
              "      <td>21336</td>\n",
              "      <td>3181</td>\n",
              "      <td>8003</td>\n",
              "      <td>1240</td>\n",
              "      <td>...</td>\n",
              "      <td>1</td>\n",
              "      <td>0</td>\n",
              "      <td>0</td>\n",
              "      <td>0</td>\n",
              "      <td>0</td>\n",
              "      <td>3</td>\n",
              "      <td>0</td>\n",
              "      <td>0</td>\n",
              "      <td>0</td>\n",
              "      <td>0</td>\n",
              "    </tr>\n",
              "    <tr>\n",
              "      <th>41523</th>\n",
              "      <td>252448</td>\n",
              "      <td>XII - SOCCSKSARGEN</td>\n",
              "      <td>91590</td>\n",
              "      <td>Other sources of Income</td>\n",
              "      <td>2</td>\n",
              "      <td>27537</td>\n",
              "      <td>23820</td>\n",
              "      <td>7760</td>\n",
              "      <td>9823</td>\n",
              "      <td>6721</td>\n",
              "      <td>...</td>\n",
              "      <td>1</td>\n",
              "      <td>1</td>\n",
              "      <td>0</td>\n",
              "      <td>0</td>\n",
              "      <td>1</td>\n",
              "      <td>4</td>\n",
              "      <td>1</td>\n",
              "      <td>0</td>\n",
              "      <td>0</td>\n",
              "      <td>0</td>\n",
              "    </tr>\n",
              "    <tr>\n",
              "      <th>41531</th>\n",
              "      <td>257600</td>\n",
              "      <td>XII - SOCCSKSARGEN</td>\n",
              "      <td>127422</td>\n",
              "      <td>Wage/Salaries</td>\n",
              "      <td>2</td>\n",
              "      <td>35120</td>\n",
              "      <td>27327</td>\n",
              "      <td>5273</td>\n",
              "      <td>11487</td>\n",
              "      <td>6372</td>\n",
              "      <td>...</td>\n",
              "      <td>1</td>\n",
              "      <td>0</td>\n",
              "      <td>1</td>\n",
              "      <td>0</td>\n",
              "      <td>0</td>\n",
              "      <td>2</td>\n",
              "      <td>1</td>\n",
              "      <td>1</td>\n",
              "      <td>0</td>\n",
              "      <td>1</td>\n",
              "    </tr>\n",
              "    <tr>\n",
              "      <th>41532</th>\n",
              "      <td>382800</td>\n",
              "      <td>XII - SOCCSKSARGEN</td>\n",
              "      <td>145253</td>\n",
              "      <td>Wage/Salaries</td>\n",
              "      <td>2</td>\n",
              "      <td>46354</td>\n",
              "      <td>37564</td>\n",
              "      <td>9928</td>\n",
              "      <td>20465</td>\n",
              "      <td>2876</td>\n",
              "      <td>...</td>\n",
              "      <td>1</td>\n",
              "      <td>1</td>\n",
              "      <td>1</td>\n",
              "      <td>0</td>\n",
              "      <td>0</td>\n",
              "      <td>4</td>\n",
              "      <td>1</td>\n",
              "      <td>1</td>\n",
              "      <td>0</td>\n",
              "      <td>1</td>\n",
              "    </tr>\n",
              "  </tbody>\n",
              "</table>\n",
              "<p>17878 rows × 60 columns</p>\n",
              "</div>"
            ],
            "text/plain": [
              "       Total_Household_Income              Region  Total_Food_Expenditure  \\\n",
              "0                      480332                 CAR                  117848   \n",
              "1                      198235                 CAR                   67766   \n",
              "4                      189322                 CAR                   94625   \n",
              "6                      198621                 CAR                  104644   \n",
              "9                      625753                 CAR                  158721   \n",
              "...                       ...                 ...                     ...   \n",
              "41521                  267330  XII - SOCCSKSARGEN                   71609   \n",
              "41522                  299856  XII - SOCCSKSARGEN                   92326   \n",
              "41523                  252448  XII - SOCCSKSARGEN                   91590   \n",
              "41531                  257600  XII - SOCCSKSARGEN                  127422   \n",
              "41532                  382800  XII - SOCCSKSARGEN                  145253   \n",
              "\n",
              "            Main_Source_of_Income  Agricultural_Household_indicator  \\\n",
              "0                   Wage/Salaries                                 0   \n",
              "1                   Wage/Salaries                                 0   \n",
              "4                   Wage/Salaries                                 0   \n",
              "6                   Wage/Salaries                                 0   \n",
              "9      Enterpreneurial Activities                                 0   \n",
              "...                           ...                               ...   \n",
              "41521     Other sources of Income                                 2   \n",
              "41522               Wage/Salaries                                 2   \n",
              "41523     Other sources of Income                                 2   \n",
              "41531               Wage/Salaries                                 2   \n",
              "41532               Wage/Salaries                                 2   \n",
              "\n",
              "       Bread_and_Cereals_Expenditure  Total_Rice_Expenditure  \\\n",
              "0                              42140                   38300   \n",
              "1                              17329                   13008   \n",
              "4                              34820                   30167   \n",
              "6                              40992                   36312   \n",
              "9                              56003                   43239   \n",
              "...                              ...                     ...   \n",
              "41521                          22668                   17370   \n",
              "41522                          24887                   21336   \n",
              "41523                          27537                   23820   \n",
              "41531                          35120                   27327   \n",
              "41532                          46354                   37564   \n",
              "\n",
              "       Meat_Expenditure  Total_Fish_and__marine_products_Expenditure  \\\n",
              "0                 24676                                        16806   \n",
              "1                 17434                                        11073   \n",
              "4                 18391                                        11309   \n",
              "6                 12968                                        12310   \n",
              "9                 26488                                        25678   \n",
              "...                 ...                                          ...   \n",
              "41521              5085                                        12217   \n",
              "41522              3181                                         8003   \n",
              "41523              7760                                         9823   \n",
              "41531              5273                                        11487   \n",
              "41532              9928                                        20465   \n",
              "\n",
              "       Fruit_Expenditure  ...  Number_of_Refrigerator/Freezer  \\\n",
              "0                   3325  ...                               1   \n",
              "1                   2035  ...                               0   \n",
              "4                   1395  ...                               1   \n",
              "6                   2565  ...                               0   \n",
              "9                   3880  ...                               1   \n",
              "...                  ...  ...                             ...   \n",
              "41521               4804  ...                               0   \n",
              "41522               1240  ...                               1   \n",
              "41523               6721  ...                               1   \n",
              "41531               6372  ...                               1   \n",
              "41532               2876  ...                               1   \n",
              "\n",
              "       Number_of_Washing_Machine  Number_of_Airconditioner  \\\n",
              "0                              1                         0   \n",
              "1                              1                         0   \n",
              "4                              0                         0   \n",
              "6                              0                         0   \n",
              "9                              0                         0   \n",
              "...                          ...                       ...   \n",
              "41521                          0                         0   \n",
              "41522                          0                         0   \n",
              "41523                          1                         0   \n",
              "41531                          0                         1   \n",
              "41532                          1                         1   \n",
              "\n",
              "       Number_of_Car,_Jeep,_Van  Number_of_Landline/wireless_telephones  \\\n",
              "0                             0                                       0   \n",
              "1                             0                                       0   \n",
              "4                             0                                       0   \n",
              "6                             0                                       0   \n",
              "9                             1                                       0   \n",
              "...                         ...                                     ...   \n",
              "41521                         0                                       0   \n",
              "41522                         0                                       0   \n",
              "41523                         0                                       1   \n",
              "41531                         0                                       0   \n",
              "41532                         0                                       0   \n",
              "\n",
              "       Number_of_Cellular_phone  Number_of_Personal_Computer  \\\n",
              "0                             2                            1   \n",
              "1                             3                            1   \n",
              "4                             3                            0   \n",
              "6                             2                            0   \n",
              "9                             4                            1   \n",
              "...                         ...                          ...   \n",
              "41521                         2                            0   \n",
              "41522                         3                            0   \n",
              "41523                         4                            1   \n",
              "41531                         2                            1   \n",
              "41532                         4                            1   \n",
              "\n",
              "       Number_of_Stove_with_Oven/Gas_Range  Number_of_Motorized_Banca  \\\n",
              "0                                        0                          0   \n",
              "1                                        0                          0   \n",
              "4                                        0                          0   \n",
              "6                                        0                          0   \n",
              "9                                        0                          0   \n",
              "...                                    ...                        ...   \n",
              "41521                                    0                          0   \n",
              "41522                                    0                          0   \n",
              "41523                                    0                          0   \n",
              "41531                                    1                          0   \n",
              "41532                                    1                          0   \n",
              "\n",
              "       Number_of_Motorcycle/Tricycle  \n",
              "0                                  1  \n",
              "1                                  2  \n",
              "4                                  1  \n",
              "6                                  1  \n",
              "9                                  0  \n",
              "...                              ...  \n",
              "41521                              0  \n",
              "41522                              0  \n",
              "41523                              0  \n",
              "41531                              1  \n",
              "41532                              1  \n",
              "\n",
              "[17878 rows x 60 columns]"
            ]
          },
          "execution_count": 43,
          "metadata": {},
          "output_type": "execute_result"
        }
      ],
      "source": [
        "df.query(f'Total_Household_Income > {iqr.Total_Household_Income}')"
      ]
    },
    {
      "cell_type": "code",
      "execution_count": 44,
      "metadata": {},
      "outputs": [
        {
          "data": {
            "image/png": "[encoded data removed]",
            "text/plain": [
              "<Figure size 1600x600 with 1 Axes>"
            ]
          },
          "metadata": {},
          "output_type": "display_data"
        }
      ],
      "source": [
        "plt.figure(figsize=(16,6))\n",
        "sns.boxplot(data = sample_df[quantitative_features], orient='h', showfliers=False)\n",
        "plt.title('Sample Descriptive Analysis (no outliers)', fontsize=18, pad=20, loc='left');"
      ]
    },
    {
      "cell_type": "markdown",
      "metadata": {
        "id": "_GpBeLedxA3Y"
      },
      "source": [
        "# <font color=Gold>Milestone 2"
      ]
    },
    {
      "cell_type": "markdown",
      "metadata": {
        "id": "QxCsAwGrxizq"
      },
      "source": [
        "## <font color='orange'>Tarefa 1</font>\n",
        "Utilizando um nível de confiança de 95%, calcule o intervalo de confiança do dinheiro gasto com saúde e educação (colunas: Medical Care Expenditure e Education Expenditure).  "
      ]
    },
    {
      "cell_type": "code",
      "execution_count": 193,
      "metadata": {},
      "outputs": [
        {
          "data": {
            "text/html": [
              "<div>\n",
              "<style scoped>\n",
              "    .dataframe tbody tr th:only-of-type {\n",
              "        vertical-align: middle;\n",
              "    }\n",
              "\n",
              "    .dataframe tbody tr th {\n",
              "        vertical-align: top;\n",
              "    }\n",
              "\n",
              "    .dataframe thead th {\n",
              "        text-align: right;\n",
              "    }\n",
              "</style>\n",
              "<table border=\"1\" class=\"dataframe\">\n",
              "  <thead>\n",
              "    <tr style=\"text-align: right;\">\n",
              "      <th></th>\n",
              "      <th>count</th>\n",
              "      <th>mean</th>\n",
              "      <th>std</th>\n",
              "      <th>min</th>\n",
              "      <th>25%</th>\n",
              "      <th>50%</th>\n",
              "      <th>75%</th>\n",
              "      <th>max</th>\n",
              "    </tr>\n",
              "  </thead>\n",
              "  <tbody>\n",
              "    <tr>\n",
              "      <th>Medical_Care_Expenditure</th>\n",
              "      <td>41544.0</td>\n",
              "      <td>7160.230936</td>\n",
              "      <td>26902.002275</td>\n",
              "      <td>0.0</td>\n",
              "      <td>300.0</td>\n",
              "      <td>1125.0</td>\n",
              "      <td>4680.0</td>\n",
              "      <td>1049275.0</td>\n",
              "    </tr>\n",
              "    <tr>\n",
              "      <th>Education_Expenditure</th>\n",
              "      <td>41544.0</td>\n",
              "      <td>7473.500481</td>\n",
              "      <td>21219.170907</td>\n",
              "      <td>0.0</td>\n",
              "      <td>0.0</td>\n",
              "      <td>880.0</td>\n",
              "      <td>4060.0</td>\n",
              "      <td>731000.0</td>\n",
              "    </tr>\n",
              "  </tbody>\n",
              "</table>\n",
              "</div>"
            ],
            "text/plain": [
              "                            count         mean           std  min    25%  \\\n",
              "Medical_Care_Expenditure  41544.0  7160.230936  26902.002275  0.0  300.0   \n",
              "Education_Expenditure     41544.0  7473.500481  21219.170907  0.0    0.0   \n",
              "\n",
              "                             50%     75%        max  \n",
              "Medical_Care_Expenditure  1125.0  4680.0  1049275.0  \n",
              "Education_Expenditure      880.0  4060.0   731000.0  "
            ]
          },
          "execution_count": 193,
          "metadata": {},
          "output_type": "execute_result"
        }
      ],
      "source": [
        "df[['Medical_Care_Expenditure','Education_Expenditure']].describe().T"
      ]
    },
    {
      "cell_type": "code",
      "execution_count": 150,
      "metadata": {},
      "outputs": [
        {
          "data": {
            "image/png": "[encoded data removed]",
            "text/plain": [
              "<Figure size 1200x600 with 4 Axes>"
            ]
          },
          "metadata": {},
          "output_type": "display_data"
        }
      ],
      "source": [
        "fig, axes = plt.subplots(2,2, figsize=(12,6), gridspec_kw={'width_ratios': [3, 1]})\n",
        "\n",
        "sns.histplot(df.Medical_Care_Expenditure, bins=100, kde=True, ax=axes[0,0])\n",
        "sns.histplot(df.Education_Expenditure, bins=100, kde=True, ax=axes[1,0])\n",
        "sns.boxplot(y=df.Medical_Care_Expenditure, ax=axes[0,1])\n",
        "sns.boxplot(y=df.Education_Expenditure, ax=axes[1,1]);"
      ]
    },
    {
      "cell_type": "code",
      "execution_count": 194,
      "metadata": {},
      "outputs": [
        {
          "name": "stdout",
          "output_type": "stream",
          "text": [
            "Porcentagem que representa os outliers de Medical_Care_Expenditure: 13.03 %\n",
            "Porcentagem que representa os outliers de Education_Expenditure: 17.37 %\n"
          ]
        }
      ],
      "source": [
        "bp = plt.boxplot(df['Medical_Care_Expenditure'])\n",
        "mce_outliers = [item.get_ydata() for item in bp[\"fliers\"]][0]\n",
        "bp = plt.boxplot(df['Education_Expenditure'])\n",
        "ee_outliers = [item.get_ydata() for item in bp[\"fliers\"]][0]\n",
        "plt.close()\n",
        "\n",
        "print(f'Porcentagem que representa os outliers de Medical_Care_Expenditure:\\\n",
        " {round(mce_outliers.size / df.Medical_Care_Expenditure.shape[0] * 100, 2)} %')\n",
        "print(f'Porcentagem que representa os outliers de Education_Expenditure:\\\n",
        " {round(ee_outliers.size / df.Education_Expenditure.shape[0] * 100, 2)} %')"
      ]
    },
    {
      "cell_type": "markdown",
      "metadata": {},
      "source": [
        "Ambas features possuem um alto nível de outliers, iremos remover junto com valores = 0 para seguir com a análise"
      ]
    },
    {
      "cell_type": "code",
      "execution_count": 212,
      "metadata": {},
      "outputs": [],
      "source": [
        "mce = remove_outliers(df.Medical_Care_Expenditure[df.Medical_Care_Expenditure>0])\n",
        "ee = remove_outliers(df.Education_Expenditure[df.Education_Expenditure>0])\n",
        "\n",
        "# alternative\n",
        "# df.Medical_Care_Expenditure[~df.Medical_Care_Expenditure.isin(mce_outliers)]"
      ]
    },
    {
      "cell_type": "code",
      "execution_count": 213,
      "metadata": {},
      "outputs": [
        {
          "data": {
            "image/png": "[encoded data removed]",
            "text/plain": [
              "<Figure size 1200x600 with 4 Axes>"
            ]
          },
          "metadata": {},
          "output_type": "display_data"
        }
      ],
      "source": [
        "fig, axes = plt.subplots(2,2, figsize=(12,6), gridspec_kw={'width_ratios': [3, 1]})\n",
        "\n",
        "sns.histplot(mce, bins=100, kde=True, ax=axes[0,0])\n",
        "sns.histplot(ee, bins=100, kde=True, ax=axes[1,0])\n",
        "sns.boxplot(y=mce, ax=axes[0,1])\n",
        "sns.boxplot(y=ee, ax=axes[1,1]);"
      ]
    },
    {
      "cell_type": "code",
      "execution_count": 214,
      "metadata": {
        "id": "6ik_iIA0c0fJ"
      },
      "outputs": [],
      "source": [
        "def calculate_ci(data, n=30, conf_level=0.95):\n",
        "    \n",
        "    sigma = data.std() #desvio padrão populacional\n",
        "    sig_level = 1 - conf_level\n",
        "    z_alpha_2 = norm.ppf(conf_level + (sig_level / 2))\n",
        "    error = z_alpha_2 * (sigma / np.sqrt(n))\n",
        "    sample_mean = data.sample(n, random_state=101).mean()\n",
        "\n",
        "    a, b = norm.interval(conf_level, loc=sample_mean, scale=sigma / np.sqrt(n))\n",
        "\n",
        "    print(f'Média Amostral: {round(sample_mean,2)}; Erro: {round(error,2)}')\n",
        "    print(f'Intervalo de confiança {int(conf_level*100)}% para {data.name}\\n({round(a,2)} , {round(b,2)})')"
      ]
    },
    {
      "cell_type": "code",
      "execution_count": 215,
      "metadata": {},
      "outputs": [
        {
          "name": "stdout",
          "output_type": "stream",
          "text": [
            "Média Amostral: 6644.1; Erro: 9626.58\n",
            "Intervalo de confiança 95% para Medical_Care_Expenditure\n",
            "(-2982.48 , 16270.68)\n",
            "Cálculo sem outliers:\n",
            "Média Amostral: 1991.93; Erro: 937.64\n",
            "Intervalo de confiança 95% para Medical_Care_Expenditure\n",
            "(1054.29 , 2929.57)\n"
          ]
        }
      ],
      "source": [
        "calculate_ci(df.Medical_Care_Expenditure)\n",
        "print('Cálculo sem outliers:')\n",
        "calculate_ci(mce)"
      ]
    },
    {
      "cell_type": "code",
      "execution_count": 216,
      "metadata": {},
      "outputs": [
        {
          "name": "stdout",
          "output_type": "stream",
          "text": [
            "Média Amostral: 5634.47; Erro: 7593.04\n",
            "Intervalo de confiança 95% para Education_Expenditure\n",
            "(-1958.58 , 13227.51)\n",
            "Cálculo sem outliers:\n",
            "Média Amostral: 4334.6; Erro: 1956.35\n",
            "Intervalo de confiança 95% para Education_Expenditure\n",
            "(2378.25 , 6290.95)\n"
          ]
        }
      ],
      "source": [
        "calculate_ci(df.Education_Expenditure)\n",
        "print('Cálculo sem outliers:')\n",
        "calculate_ci(ee)"
      ]
    },
    {
      "cell_type": "markdown",
      "metadata": {
        "id": "dNRxabz1coqd"
      },
      "source": [
        "## <font color='orange'>Tarefa 2</font>\n",
        "Calcule se há diferença de média de número total de membros da família pelo sexo do chefe de família (Household Head Sex e Total Number of Family members) com 95% de confiança.  "
      ]
    },
    {
      "cell_type": "code",
      "execution_count": 229,
      "metadata": {
        "id": "EQiOnkTac0Gl"
      },
      "outputs": [
        {
          "data": {
            "text/html": [
              "<div>\n",
              "<style scoped>\n",
              "    .dataframe tbody tr th:only-of-type {\n",
              "        vertical-align: middle;\n",
              "    }\n",
              "\n",
              "    .dataframe tbody tr th {\n",
              "        vertical-align: top;\n",
              "    }\n",
              "\n",
              "    .dataframe thead th {\n",
              "        text-align: right;\n",
              "    }\n",
              "</style>\n",
              "<table border=\"1\" class=\"dataframe\">\n",
              "  <thead>\n",
              "    <tr style=\"text-align: right;\">\n",
              "      <th></th>\n",
              "      <th>count</th>\n",
              "      <th>mean</th>\n",
              "      <th>std</th>\n",
              "      <th>min</th>\n",
              "      <th>25%</th>\n",
              "      <th>50%</th>\n",
              "      <th>75%</th>\n",
              "      <th>max</th>\n",
              "    </tr>\n",
              "    <tr>\n",
              "      <th>Household_Head_Sex</th>\n",
              "      <th></th>\n",
              "      <th></th>\n",
              "      <th></th>\n",
              "      <th></th>\n",
              "      <th></th>\n",
              "      <th></th>\n",
              "      <th></th>\n",
              "      <th></th>\n",
              "    </tr>\n",
              "  </thead>\n",
              "  <tbody>\n",
              "    <tr>\n",
              "      <th>Female</th>\n",
              "      <td>9061.0</td>\n",
              "      <td>3.864916</td>\n",
              "      <td>2.240325</td>\n",
              "      <td>1.0</td>\n",
              "      <td>2.0</td>\n",
              "      <td>4.0</td>\n",
              "      <td>5.0</td>\n",
              "      <td>20.0</td>\n",
              "    </tr>\n",
              "    <tr>\n",
              "      <th>Male</th>\n",
              "      <td>32483.0</td>\n",
              "      <td>4.850045</td>\n",
              "      <td>2.244633</td>\n",
              "      <td>1.0</td>\n",
              "      <td>3.0</td>\n",
              "      <td>5.0</td>\n",
              "      <td>6.0</td>\n",
              "      <td>26.0</td>\n",
              "    </tr>\n",
              "  </tbody>\n",
              "</table>\n",
              "</div>"
            ],
            "text/plain": [
              "                      count      mean       std  min  25%  50%  75%   max\n",
              "Household_Head_Sex                                                       \n",
              "Female               9061.0  3.864916  2.240325  1.0  2.0  4.0  5.0  20.0\n",
              "Male                32483.0  4.850045  2.244633  1.0  3.0  5.0  6.0  26.0"
            ]
          },
          "execution_count": 229,
          "metadata": {},
          "output_type": "execute_result"
        }
      ],
      "source": [
        "df.groupby('Household_Head_Sex')['Total_Number_of_Family_members'].describe().T"
      ]
    },
    {
      "cell_type": "markdown",
      "metadata": {},
      "source": [
        "### Formulação do Teste de Hipótese:"
      ]
    },
    {
      "cell_type": "markdown",
      "metadata": {},
      "source": [
        "$\\mu_1$ : média do número total de membros da família por chefe do sexo masculino  \n",
        "$\\mu_1$ : média do número total de membros da família por chefe do sexo feminino  \n",
        "\n",
        "$H_0: \\mu_1 - \\mu_2  \\geq 0$\n",
        "\n",
        "$H_1: \\mu_1 - \\mu_2 < 0$\n"
      ]
    },
    {
      "cell_type": "markdown",
      "metadata": {},
      "source": [
        "### Selecionando a amostra"
      ]
    },
    {
      "cell_type": "code",
      "execution_count": 282,
      "metadata": {},
      "outputs": [],
      "source": [
        "# amostra = 1% dos dados\n",
        "n = round(df.shape[0] * 0.01)\n",
        "male_householder = df.query('Household_Head_Sex == \"Male\"')['Total_Number_of_Family_members'].sample(n)\n",
        "female_householder = df.query('Household_Head_Sex == \"Female\"')['Total_Number_of_Family_members'].sample(n)"
      ]
    },
    {
      "cell_type": "markdown",
      "metadata": {},
      "source": [
        "### Calculando o valor Z"
      ]
    },
    {
      "cell_type": "code",
      "execution_count": 285,
      "metadata": {},
      "outputs": [
        {
          "name": "stdout",
          "output_type": "stream",
          "text": [
            "Valor crítico z = 5.65468511236033\n",
            "Valor z_alpha para confiança 95% = 1.6448536269514722\n",
            "P_value = 7.80661229271043e-09\n"
          ]
        }
      ],
      "source": [
        "D0 = 0\n",
        "alpha = 0.05\n",
        "conf_level = 1 - alpha\n",
        "# numero da amostra\n",
        "n1 = len(male_householder)\n",
        "n2 = len(female_householder)\n",
        "\n",
        "# media amostral\n",
        "x1 = male_householder.mean()\n",
        "x2 = female_householder.mean()\n",
        "\n",
        "# desvio padrão amostral\n",
        "sigma1 = male_householder.std()\n",
        "sigma2 = female_householder.std()\n",
        "\n",
        "# calculo do test Z\n",
        "numerador = (x1 - x2) - D0\n",
        "denominador = np.sqrt((sigma1 **2 / n1) + (sigma2**2 / n2))\n",
        "z = numerador / denominador\n",
        "print(f'Valor crítico z = {z}')\n",
        "z_alpha = norm.ppf(conf_level)\n",
        "print(f'Valor z_alpha para confiança 95% = {z_alpha}')\n",
        "p_value = norm.sf(z)\n",
        "print(f'P_value = {p_value}')"
      ]
    },
    {
      "cell_type": "code",
      "execution_count": 353,
      "metadata": {},
      "outputs": [
        {
          "data": {
            "text/plain": [
              "(5.654685112360321, 7.806612292710857e-09)"
            ]
          },
          "execution_count": 353,
          "metadata": {},
          "output_type": "execute_result"
        }
      ],
      "source": [
        "male_test = DescrStatsW(male_householder)\n",
        "female_test = DescrStatsW(female_householder)\n",
        "test = CompareMeans(male_test, female_test)\n",
        "test.ztest_ind(alternative='larger', value=D0)"
      ]
    },
    {
      "cell_type": "markdown",
      "metadata": {},
      "source": [
        "### <font color='DodgerBlue'>Conclusão</font>  "
      ]
    },
    {
      "cell_type": "markdown",
      "metadata": {},
      "source": [
        "Rejeitar $H_0$ se $z \\geq z_{\\alpha}$  \n",
        "Rejeitar $H_0$ se o valor $p\\leq\\alpha$  "
      ]
    },
    {
      "cell_type": "code",
      "execution_count": 286,
      "metadata": {},
      "outputs": [
        {
          "name": "stdout",
          "output_type": "stream",
          "text": [
            "Z > Z_alpha : True\n",
            "P_value < Alpha: True\n"
          ]
        }
      ],
      "source": [
        "print(f'Z > Z_alpha : {z >= z_alpha}') \n",
        "print(f'P_value < Alpha: {p_value <= alpha}') "
      ]
    },
    {
      "cell_type": "markdown",
      "metadata": {},
      "source": [
        "<font size=4>Conforme os testes realizados, rejeitamos $H_0$ e concluimos que há uma diferença entre a média de número total de membros da família pelo sexo do chefe de família.</font>"
      ]
    },
    {
      "cell_type": "markdown",
      "metadata": {
        "id": "b2PBeBFAcocI"
      },
      "source": [
        "## <font color='orange'>Tarefa 3</font>\n",
        "Verifique se há diferença de média total de renda da família (Total Household Income) de acordo com a fonte salarial (Main Source of Income).  \n",
        "\n",
        "*Considere “Enteroreneurial activities” e “other sources of income” como \"outros\".*"
      ]
    },
    {
      "cell_type": "markdown",
      "metadata": {},
      "source": [
        "### Tratando os dados"
      ]
    },
    {
      "cell_type": "code",
      "execution_count": 323,
      "metadata": {},
      "outputs": [
        {
          "data": {
            "text/html": [
              "<div>\n",
              "<style scoped>\n",
              "    .dataframe tbody tr th:only-of-type {\n",
              "        vertical-align: middle;\n",
              "    }\n",
              "\n",
              "    .dataframe tbody tr th {\n",
              "        vertical-align: top;\n",
              "    }\n",
              "\n",
              "    .dataframe thead th {\n",
              "        text-align: right;\n",
              "    }\n",
              "</style>\n",
              "<table border=\"1\" class=\"dataframe\">\n",
              "  <thead>\n",
              "    <tr style=\"text-align: right;\">\n",
              "      <th></th>\n",
              "      <th>Total_Household_Income</th>\n",
              "      <th>Main_Source_of_Income</th>\n",
              "    </tr>\n",
              "  </thead>\n",
              "  <tbody>\n",
              "    <tr>\n",
              "      <th>0</th>\n",
              "      <td>480332</td>\n",
              "      <td>Wage/Salaries</td>\n",
              "    </tr>\n",
              "    <tr>\n",
              "      <th>1</th>\n",
              "      <td>198235</td>\n",
              "      <td>Wage/Salaries</td>\n",
              "    </tr>\n",
              "    <tr>\n",
              "      <th>2</th>\n",
              "      <td>82785</td>\n",
              "      <td>Wage/Salaries</td>\n",
              "    </tr>\n",
              "    <tr>\n",
              "      <th>3</th>\n",
              "      <td>107589</td>\n",
              "      <td>Wage/Salaries</td>\n",
              "    </tr>\n",
              "    <tr>\n",
              "      <th>4</th>\n",
              "      <td>189322</td>\n",
              "      <td>Wage/Salaries</td>\n",
              "    </tr>\n",
              "    <tr>\n",
              "      <th>...</th>\n",
              "      <td>...</td>\n",
              "      <td>...</td>\n",
              "    </tr>\n",
              "    <tr>\n",
              "      <th>41539</th>\n",
              "      <td>119773</td>\n",
              "      <td>Enterpreneurial Activities</td>\n",
              "    </tr>\n",
              "    <tr>\n",
              "      <th>41540</th>\n",
              "      <td>137320</td>\n",
              "      <td>Enterpreneurial Activities</td>\n",
              "    </tr>\n",
              "    <tr>\n",
              "      <th>41541</th>\n",
              "      <td>133171</td>\n",
              "      <td>Enterpreneurial Activities</td>\n",
              "    </tr>\n",
              "    <tr>\n",
              "      <th>41542</th>\n",
              "      <td>129500</td>\n",
              "      <td>Enterpreneurial Activities</td>\n",
              "    </tr>\n",
              "    <tr>\n",
              "      <th>41543</th>\n",
              "      <td>128598</td>\n",
              "      <td>Enterpreneurial Activities</td>\n",
              "    </tr>\n",
              "  </tbody>\n",
              "</table>\n",
              "<p>41544 rows × 2 columns</p>\n",
              "</div>"
            ],
            "text/plain": [
              "       Total_Household_Income       Main_Source_of_Income\n",
              "0                      480332               Wage/Salaries\n",
              "1                      198235               Wage/Salaries\n",
              "2                       82785               Wage/Salaries\n",
              "3                      107589               Wage/Salaries\n",
              "4                      189322               Wage/Salaries\n",
              "...                       ...                         ...\n",
              "41539                  119773  Enterpreneurial Activities\n",
              "41540                  137320  Enterpreneurial Activities\n",
              "41541                  133171  Enterpreneurial Activities\n",
              "41542                  129500  Enterpreneurial Activities\n",
              "41543                  128598  Enterpreneurial Activities\n",
              "\n",
              "[41544 rows x 2 columns]"
            ]
          },
          "execution_count": 323,
          "metadata": {},
          "output_type": "execute_result"
        }
      ],
      "source": [
        "df[['Total_Household_Income','Main_Source_of_Income']]"
      ]
    },
    {
      "cell_type": "code",
      "execution_count": 335,
      "metadata": {},
      "outputs": [
        {
          "data": {
            "text/plain": [
              "Wage/Salaries                 20388\n",
              "Other sources of Income       10836\n",
              "Enterpreneurial Activities    10320\n",
              "Name: Main_Source_of_Income, dtype: int64"
            ]
          },
          "execution_count": 335,
          "metadata": {},
          "output_type": "execute_result"
        }
      ],
      "source": [
        "income = df[['Total_Household_Income','Main_Source_of_Income']].copy()\n",
        "income['Main_Source_of_Income'].value_counts()"
      ]
    },
    {
      "cell_type": "code",
      "execution_count": 336,
      "metadata": {},
      "outputs": [
        {
          "data": {
            "text/plain": [
              "Others           21156\n",
              "Wage/Salaries    20388\n",
              "Name: Main_Source_of_Income, dtype: int64"
            ]
          },
          "execution_count": 336,
          "metadata": {},
          "output_type": "execute_result"
        }
      ],
      "source": [
        "income.replace({\n",
        "    'Other sources of Income': 'Others',\n",
        "    'Enterpreneurial Activities': 'Others'\n",
        "}, inplace=True)\n",
        "income['Main_Source_of_Income'].value_counts()"
      ]
    },
    {
      "cell_type": "code",
      "execution_count": 338,
      "metadata": {},
      "outputs": [
        {
          "data": {
            "text/html": [
              "<div>\n",
              "<style scoped>\n",
              "    .dataframe tbody tr th:only-of-type {\n",
              "        vertical-align: middle;\n",
              "    }\n",
              "\n",
              "    .dataframe tbody tr th {\n",
              "        vertical-align: top;\n",
              "    }\n",
              "\n",
              "    .dataframe thead th {\n",
              "        text-align: right;\n",
              "    }\n",
              "</style>\n",
              "<table border=\"1\" class=\"dataframe\">\n",
              "  <thead>\n",
              "    <tr style=\"text-align: right;\">\n",
              "      <th></th>\n",
              "      <th>count</th>\n",
              "      <th>mean</th>\n",
              "      <th>std</th>\n",
              "      <th>min</th>\n",
              "      <th>25%</th>\n",
              "      <th>50%</th>\n",
              "      <th>75%</th>\n",
              "      <th>max</th>\n",
              "    </tr>\n",
              "    <tr>\n",
              "      <th>Main_Source_of_Income</th>\n",
              "      <th></th>\n",
              "      <th></th>\n",
              "      <th></th>\n",
              "      <th></th>\n",
              "      <th></th>\n",
              "      <th></th>\n",
              "      <th></th>\n",
              "      <th></th>\n",
              "    </tr>\n",
              "  </thead>\n",
              "  <tbody>\n",
              "    <tr>\n",
              "      <th>Others</th>\n",
              "      <td>21156.0</td>\n",
              "      <td>228417.147476</td>\n",
              "      <td>315347.438379</td>\n",
              "      <td>11285.0</td>\n",
              "      <td>93166.0</td>\n",
              "      <td>144612.0</td>\n",
              "      <td>256270.25</td>\n",
              "      <td>11815988.0</td>\n",
              "    </tr>\n",
              "    <tr>\n",
              "      <th>Wage/Salaries</th>\n",
              "      <td>20388.0</td>\n",
              "      <td>267414.952080</td>\n",
              "      <td>252468.952984</td>\n",
              "      <td>18004.0</td>\n",
              "      <td>120047.0</td>\n",
              "      <td>185386.0</td>\n",
              "      <td>325645.50</td>\n",
              "      <td>6071030.0</td>\n",
              "    </tr>\n",
              "  </tbody>\n",
              "</table>\n",
              "</div>"
            ],
            "text/plain": [
              "                         count           mean            std      min  \\\n",
              "Main_Source_of_Income                                                   \n",
              "Others                 21156.0  228417.147476  315347.438379  11285.0   \n",
              "Wage/Salaries          20388.0  267414.952080  252468.952984  18004.0   \n",
              "\n",
              "                            25%       50%        75%         max  \n",
              "Main_Source_of_Income                                             \n",
              "Others                  93166.0  144612.0  256270.25  11815988.0  \n",
              "Wage/Salaries          120047.0  185386.0  325645.50   6071030.0  "
            ]
          },
          "execution_count": 338,
          "metadata": {},
          "output_type": "execute_result"
        }
      ],
      "source": [
        "income.groupby('Main_Source_of_Income')['Total_Household_Income'].describe()"
      ]
    },
    {
      "cell_type": "markdown",
      "metadata": {},
      "source": [
        "### Formulação do Teste de Hipótese"
      ]
    },
    {
      "cell_type": "markdown",
      "metadata": {},
      "source": [
        "$\\mu_1$ : média do número total da renda da familia pela fonte salarial **Wage/Salaries**  \n",
        "$\\mu_1$ : média do número total da renda da familia pela fonte salarial **Others**  \n",
        "\n",
        "$H_0: \\mu_1 - \\mu_2  = 0$\n",
        "\n",
        "$H_1: \\mu_1 - \\mu_2 \\neq 0$\n"
      ]
    },
    {
      "cell_type": "markdown",
      "metadata": {},
      "source": [
        "### Selecionando a amostra"
      ]
    },
    {
      "cell_type": "code",
      "execution_count": 341,
      "metadata": {},
      "outputs": [],
      "source": [
        "# amostra = 1% dos dados\n",
        "n = round(income.shape[0] * 0.01)\n",
        "salaries = income.query('Main_Source_of_Income == \"Wage/Salaries\"')['Total_Household_Income'].sample(n)\n",
        "others = income.query('Main_Source_of_Income == \"Others\"')['Total_Household_Income'].sample(n)"
      ]
    },
    {
      "cell_type": "markdown",
      "metadata": {},
      "source": [
        "### Calculando o valor T"
      ]
    },
    {
      "cell_type": "code",
      "execution_count": 348,
      "metadata": {},
      "outputs": [
        {
          "name": "stdout",
          "output_type": "stream",
          "text": [
            "Valor crítico t = 0.7010088962467642\n",
            "Valor t_alpha para confiança 95% = 1.9628331678442097\n",
            "P_value = 0.4832974633418846\n"
          ]
        }
      ],
      "source": [
        "D0 = 0\n",
        "# significancia\n",
        "alpha = 0.05\n",
        "# confiança\n",
        "beta = 1 - alpha\n",
        "# numero da amostra\n",
        "n1 = len(salaries)\n",
        "n2 = len(others)\n",
        "\n",
        "# media amostral\n",
        "x1 = salaries.mean()\n",
        "x2 = others.mean()\n",
        "\n",
        "# desvio padrão amostral\n",
        "sigma1 = salaries.std()\n",
        "sigma2 = others.std()\n",
        "\n",
        "# calculo do test T\n",
        "numerador = (x1 - x2) - D0\n",
        "denominador = np.sqrt((sigma1 **2 / n1) + (sigma2**2 / n2))\n",
        "t = numerador / denominador\n",
        "print(f'Valor crítico t = {t}')\n",
        "gl = n1 + n2 - 2\n",
        "t_alpha = t_student.ppf(beta + alpha/2, df=gl)\n",
        "print(f'Valor t_alpha para confiança 95% = {t_alpha}')\n",
        "p_value = norm.sf(t)\n",
        "print(f'P_value = {p_value*2}')"
      ]
    },
    {
      "cell_type": "code",
      "execution_count": 346,
      "metadata": {},
      "outputs": [
        {
          "data": {
            "text/plain": [
              "(0.7010088962467642, 0.4832974633418846)"
            ]
          },
          "execution_count": 346,
          "metadata": {},
          "output_type": "execute_result"
        }
      ],
      "source": [
        "salaries_test = DescrStatsW(salaries)\n",
        "others_test = DescrStatsW(others)\n",
        "test = CompareMeans(salaries_test, others_test)\n",
        "test.ztest_ind(alternative='two-sided', value=D0)"
      ]
    },
    {
      "cell_type": "markdown",
      "metadata": {},
      "source": [
        "### <font color='DodgerBlue'>Conclusão</font>  \n",
        "\n",
        "Rejeitar $H_0$ se $t \\geq t_{\\alpha}$  \n",
        "Rejeitar $H_0$ se o valor $p\\leq\\alpha$  "
      ]
    },
    {
      "cell_type": "code",
      "execution_count": 358,
      "metadata": {},
      "outputs": [
        {
          "name": "stdout",
          "output_type": "stream",
          "text": [
            "T > t_alpha : False\n",
            "P_value < alpha: False\n"
          ]
        }
      ],
      "source": [
        "print(f'T > t_alpha : {t >= t_alpha}') \n",
        "print(f'P_value < alpha: {p_value <= alpha}') "
      ]
    },
    {
      "cell_type": "markdown",
      "metadata": {},
      "source": [
        "<font size=4>Conforme os testes realizados, aceitamos $H_0$ e concluimos que não há uma diferença de média total de renda da família de acordo com a fonte salarial.</font>"
      ]
    },
    {
      "cell_type": "markdown",
      "metadata": {
        "id": "oqtJgxsQxBla"
      },
      "source": [
        "# <font color=Gold>Milestone 3"
      ]
    },
    {
      "cell_type": "markdown",
      "metadata": {
        "id": "mOLme_8zxvAR"
      },
      "source": [
        "Usando Regressão Linear, crie um modelo de previsão de renda de forma a minimizar o erro. Considere 70% dos dados para treinar o modelo, e 30% para testá-lo. Por fim, utilize as métricas de avaliação do modelo que foram estudadas para validá-lo.  "
      ]
    },
    {
      "cell_type": "markdown",
      "metadata": {},
      "source": [
        "### Tratamento dos Dados"
      ]
    },
    {
      "cell_type": "code",
      "execution_count": 523,
      "metadata": {},
      "outputs": [
        {
          "data": {
            "text/plain": [
              "Index(['Total_Household_Income', 'Total_Income_from_Entrepreneurial_Acitivites'], dtype='object')"
            ]
          },
          "execution_count": 523,
          "metadata": {},
          "output_type": "execute_result"
        }
      ],
      "source": [
        "df.select_dtypes(include=['int64']).filter(regex=(\"Income\")).columns"
      ]
    },
    {
      "cell_type": "markdown",
      "metadata": {},
      "source": [
        "A renda está dividida em dois grupos, um que provem dos salários, e outro de atividades empresariais. Iremos criar uma coluna a mais com a soma desses valores."
      ]
    },
    {
      "cell_type": "code",
      "execution_count": 524,
      "metadata": {},
      "outputs": [],
      "source": [
        "df['Total_Income'] = df['Total_Household_Income'] + df['Total_Income_from_Entrepreneurial_Acitivites']"
      ]
    },
    {
      "cell_type": "markdown",
      "metadata": {},
      "source": [
        "### Análisa Exploratória"
      ]
    },
    {
      "cell_type": "markdown",
      "metadata": {},
      "source": [
        "#### Verificando os tipos dos dados"
      ]
    },
    {
      "cell_type": "code",
      "execution_count": 425,
      "metadata": {},
      "outputs": [
        {
          "data": {
            "text/plain": [
              "int64     45\n",
              "object    15\n",
              "dtype: int64"
            ]
          },
          "execution_count": 425,
          "metadata": {},
          "output_type": "execute_result"
        }
      ],
      "source": [
        "df.dtypes.value_counts()"
      ]
    },
    {
      "cell_type": "code",
      "execution_count": 447,
      "metadata": {},
      "outputs": [
        {
          "data": {
            "text/html": [
              "<div>\n",
              "<style scoped>\n",
              "    .dataframe tbody tr th:only-of-type {\n",
              "        vertical-align: middle;\n",
              "    }\n",
              "\n",
              "    .dataframe tbody tr th {\n",
              "        vertical-align: top;\n",
              "    }\n",
              "\n",
              "    .dataframe thead th {\n",
              "        text-align: right;\n",
              "    }\n",
              "</style>\n",
              "<table border=\"1\" class=\"dataframe\">\n",
              "  <thead>\n",
              "    <tr style=\"text-align: right;\">\n",
              "      <th></th>\n",
              "      <th>count</th>\n",
              "      <th>unique</th>\n",
              "      <th>top</th>\n",
              "      <th>freq</th>\n",
              "    </tr>\n",
              "  </thead>\n",
              "  <tbody>\n",
              "    <tr>\n",
              "      <th>Region</th>\n",
              "      <td>34008</td>\n",
              "      <td>17</td>\n",
              "      <td>IVA - CALABARZON</td>\n",
              "      <td>3238</td>\n",
              "    </tr>\n",
              "    <tr>\n",
              "      <th>Main_Source_of_Income</th>\n",
              "      <td>34008</td>\n",
              "      <td>3</td>\n",
              "      <td>Wage/Salaries</td>\n",
              "      <td>17749</td>\n",
              "    </tr>\n",
              "    <tr>\n",
              "      <th>Household_Head_Sex</th>\n",
              "      <td>34008</td>\n",
              "      <td>2</td>\n",
              "      <td>Male</td>\n",
              "      <td>28646</td>\n",
              "    </tr>\n",
              "    <tr>\n",
              "      <th>Household_Head_Marital_Status</th>\n",
              "      <td>34008</td>\n",
              "      <td>6</td>\n",
              "      <td>Married</td>\n",
              "      <td>27493</td>\n",
              "    </tr>\n",
              "    <tr>\n",
              "      <th>Household_Head_Highest_Grade_Completed</th>\n",
              "      <td>34008</td>\n",
              "      <td>46</td>\n",
              "      <td>High School Graduate</td>\n",
              "      <td>8129</td>\n",
              "    </tr>\n",
              "    <tr>\n",
              "      <th>Household_Head_Job_or_Business_Indicator</th>\n",
              "      <td>34008</td>\n",
              "      <td>1</td>\n",
              "      <td>With Job/Business</td>\n",
              "      <td>34008</td>\n",
              "    </tr>\n",
              "    <tr>\n",
              "      <th>Household_Head_Occupation</th>\n",
              "      <td>34008</td>\n",
              "      <td>378</td>\n",
              "      <td>Farmhands and laborers</td>\n",
              "      <td>3478</td>\n",
              "    </tr>\n",
              "    <tr>\n",
              "      <th>Household_Head_Class_of_Worker</th>\n",
              "      <td>34008</td>\n",
              "      <td>7</td>\n",
              "      <td>Self-employed wihout any employee</td>\n",
              "      <td>13766</td>\n",
              "    </tr>\n",
              "    <tr>\n",
              "      <th>Type_of_Household</th>\n",
              "      <td>34008</td>\n",
              "      <td>3</td>\n",
              "      <td>Single Family</td>\n",
              "      <td>24334</td>\n",
              "    </tr>\n",
              "    <tr>\n",
              "      <th>Type_of_Building/House</th>\n",
              "      <td>34008</td>\n",
              "      <td>6</td>\n",
              "      <td>Single house</td>\n",
              "      <td>32028</td>\n",
              "    </tr>\n",
              "    <tr>\n",
              "      <th>Type_of_Roof</th>\n",
              "      <td>34008</td>\n",
              "      <td>7</td>\n",
              "      <td>Strong material(galvanized,iron,al,tile,concre...</td>\n",
              "      <td>26794</td>\n",
              "    </tr>\n",
              "    <tr>\n",
              "      <th>Type_of_Walls</th>\n",
              "      <td>34008</td>\n",
              "      <td>6</td>\n",
              "      <td>Strong</td>\n",
              "      <td>21942</td>\n",
              "    </tr>\n",
              "    <tr>\n",
              "      <th>Tenure_Status</th>\n",
              "      <td>34008</td>\n",
              "      <td>8</td>\n",
              "      <td>Own or owner-like possession of house and lot</td>\n",
              "      <td>23551</td>\n",
              "    </tr>\n",
              "    <tr>\n",
              "      <th>Toilet_Facilities</th>\n",
              "      <td>34008</td>\n",
              "      <td>8</td>\n",
              "      <td>Water-sealed, sewer septic tank, used exclusiv...</td>\n",
              "      <td>23109</td>\n",
              "    </tr>\n",
              "    <tr>\n",
              "      <th>Main_Source_of_Water_Supply</th>\n",
              "      <td>34008</td>\n",
              "      <td>11</td>\n",
              "      <td>Own use, faucet, community water system</td>\n",
              "      <td>12215</td>\n",
              "    </tr>\n",
              "  </tbody>\n",
              "</table>\n",
              "</div>"
            ],
            "text/plain": [
              "                                          count unique  \\\n",
              "Region                                    34008     17   \n",
              "Main_Source_of_Income                     34008      3   \n",
              "Household_Head_Sex                        34008      2   \n",
              "Household_Head_Marital_Status             34008      6   \n",
              "Household_Head_Highest_Grade_Completed    34008     46   \n",
              "Household_Head_Job_or_Business_Indicator  34008      1   \n",
              "Household_Head_Occupation                 34008    378   \n",
              "Household_Head_Class_of_Worker            34008      7   \n",
              "Type_of_Household                         34008      3   \n",
              "Type_of_Building/House                    34008      6   \n",
              "Type_of_Roof                              34008      7   \n",
              "Type_of_Walls                             34008      6   \n",
              "Tenure_Status                             34008      8   \n",
              "Toilet_Facilities                         34008      8   \n",
              "Main_Source_of_Water_Supply               34008     11   \n",
              "\n",
              "                                                                                        top  \\\n",
              "Region                                                                     IVA - CALABARZON   \n",
              "Main_Source_of_Income                                                         Wage/Salaries   \n",
              "Household_Head_Sex                                                                     Male   \n",
              "Household_Head_Marital_Status                                                       Married   \n",
              "Household_Head_Highest_Grade_Completed                                 High School Graduate   \n",
              "Household_Head_Job_or_Business_Indicator                                  With Job/Business   \n",
              "Household_Head_Occupation                                            Farmhands and laborers   \n",
              "Household_Head_Class_of_Worker                            Self-employed wihout any employee   \n",
              "Type_of_Household                                                             Single Family   \n",
              "Type_of_Building/House                                                         Single house   \n",
              "Type_of_Roof                              Strong material(galvanized,iron,al,tile,concre...   \n",
              "Type_of_Walls                                                                        Strong   \n",
              "Tenure_Status                                 Own or owner-like possession of house and lot   \n",
              "Toilet_Facilities                         Water-sealed, sewer septic tank, used exclusiv...   \n",
              "Main_Source_of_Water_Supply                         Own use, faucet, community water system   \n",
              "\n",
              "                                           freq  \n",
              "Region                                     3238  \n",
              "Main_Source_of_Income                     17749  \n",
              "Household_Head_Sex                        28646  \n",
              "Household_Head_Marital_Status             27493  \n",
              "Household_Head_Highest_Grade_Completed     8129  \n",
              "Household_Head_Job_or_Business_Indicator  34008  \n",
              "Household_Head_Occupation                  3478  \n",
              "Household_Head_Class_of_Worker            13766  \n",
              "Type_of_Household                         24334  \n",
              "Type_of_Building/House                    32028  \n",
              "Type_of_Roof                              26794  \n",
              "Type_of_Walls                             21942  \n",
              "Tenure_Status                             23551  \n",
              "Toilet_Facilities                         23109  \n",
              "Main_Source_of_Water_Supply               12215  "
            ]
          },
          "execution_count": 447,
          "metadata": {},
          "output_type": "execute_result"
        }
      ],
      "source": [
        "df.describe(include=['category']).T"
      ]
    },
    {
      "cell_type": "code",
      "execution_count": 427,
      "metadata": {},
      "outputs": [
        {
          "data": {
            "text/plain": [
              "int64       45\n",
              "category     1\n",
              "category     1\n",
              "category     1\n",
              "category     1\n",
              "dtype: int64"
            ]
          },
          "execution_count": 427,
          "metadata": {},
          "output_type": "execute_result"
        }
      ],
      "source": [
        "# create mapper to convert object into category type\n",
        "mapper = {key:'category' for key in df.select_dtypes(include=['object']).columns}\n",
        "df = df.astype(mapper)\n",
        "df.dtypes.value_counts()[:5]"
      ]
    },
    {
      "cell_type": "markdown",
      "metadata": {},
      "source": [
        "#### Verificando os valores nulos"
      ]
    },
    {
      "cell_type": "code",
      "execution_count": 428,
      "metadata": {},
      "outputs": [
        {
          "data": {
            "text/plain": [
              "Household_Head_Occupation         7536\n",
              "Household_Head_Class_of_Worker    7536\n",
              "dtype: int64"
            ]
          },
          "execution_count": 428,
          "metadata": {},
          "output_type": "execute_result"
        }
      ],
      "source": [
        "null_values = df.isnull().sum()\n",
        "null_values[null_values > 0]"
      ]
    },
    {
      "cell_type": "code",
      "execution_count": 440,
      "metadata": {},
      "outputs": [
        {
          "name": "stdout",
          "output_type": "stream",
          "text": [
            "Porcentagem de NaNs para Household_Head_Occupation: 18.14 %\n",
            "Porcentagem de NaNs para Household_Head_Class_of_Worker: 18.14 %\n"
          ]
        }
      ],
      "source": [
        "print('Porcentagem de NaNs para Household_Head_Occupation:',\n",
        "      f'{100 - round(df.Household_Head_Occupation.count() / df.shape[0]*100, 2)} %')\n",
        "print('Porcentagem de NaNs para Household_Head_Class_of_Worker:',\n",
        "      f'{100 - round(df.Household_Head_Class_of_Worker.count() / df.shape[0]*100, 2)} %')"
      ]
    },
    {
      "cell_type": "code",
      "execution_count": 444,
      "metadata": {},
      "outputs": [
        {
          "data": {
            "text/html": [
              "<div>\n",
              "<style scoped>\n",
              "    .dataframe tbody tr th:only-of-type {\n",
              "        vertical-align: middle;\n",
              "    }\n",
              "\n",
              "    .dataframe tbody tr th {\n",
              "        vertical-align: top;\n",
              "    }\n",
              "\n",
              "    .dataframe thead th {\n",
              "        text-align: right;\n",
              "    }\n",
              "</style>\n",
              "<table border=\"1\" class=\"dataframe\">\n",
              "  <thead>\n",
              "    <tr style=\"text-align: right;\">\n",
              "      <th></th>\n",
              "      <th>Total_Household_Income</th>\n",
              "      <th>Region</th>\n",
              "      <th>Total_Food_Expenditure</th>\n",
              "      <th>Main_Source_of_Income</th>\n",
              "      <th>Agricultural_Household_indicator</th>\n",
              "      <th>Bread_and_Cereals_Expenditure</th>\n",
              "      <th>Total_Rice_Expenditure</th>\n",
              "      <th>Meat_Expenditure</th>\n",
              "      <th>Total_Fish_and__marine_products_Expenditure</th>\n",
              "      <th>Fruit_Expenditure</th>\n",
              "      <th>...</th>\n",
              "      <th>Number_of_Refrigerator/Freezer</th>\n",
              "      <th>Number_of_Washing_Machine</th>\n",
              "      <th>Number_of_Airconditioner</th>\n",
              "      <th>Number_of_Car,_Jeep,_Van</th>\n",
              "      <th>Number_of_Landline/wireless_telephones</th>\n",
              "      <th>Number_of_Cellular_phone</th>\n",
              "      <th>Number_of_Personal_Computer</th>\n",
              "      <th>Number_of_Stove_with_Oven/Gas_Range</th>\n",
              "      <th>Number_of_Motorized_Banca</th>\n",
              "      <th>Number_of_Motorcycle/Tricycle</th>\n",
              "    </tr>\n",
              "  </thead>\n",
              "  <tbody>\n",
              "  </tbody>\n",
              "</table>\n",
              "<p>0 rows × 60 columns</p>\n",
              "</div>"
            ],
            "text/plain": [
              "Empty DataFrame\n",
              "Columns: [Total_Household_Income, Region, Total_Food_Expenditure, Main_Source_of_Income, Agricultural_Household_indicator, Bread_and_Cereals_Expenditure, Total_Rice_Expenditure, Meat_Expenditure, Total_Fish_and__marine_products_Expenditure, Fruit_Expenditure, Vegetables_Expenditure, Restaurant_and_hotels_Expenditure, Alcoholic_Beverages_Expenditure, Tobacco_Expenditure, Clothing,_Footwear_and_Other_Wear_Expenditure, Housing_and_water_Expenditure, Imputed_House_Rental_Value, Medical_Care_Expenditure, Transportation_Expenditure, Communication_Expenditure, Education_Expenditure, Miscellaneous_Goods_and_Services_Expenditure, Special_Occasions_Expenditure, Crop_Farming_and_Gardening_expenses, Total_Income_from_Entrepreneurial_Acitivites, Household_Head_Sex, Household_Head_Age, Household_Head_Marital_Status, Household_Head_Highest_Grade_Completed, Household_Head_Job_or_Business_Indicator, Household_Head_Occupation, Household_Head_Class_of_Worker, Type_of_Household, Total_Number_of_Family_members, Members_with_age_less_than_5_year_old, Members_with_age_5_-_17_years_old, Total_number_of_family_members_employed, Type_of_Building/House, Type_of_Roof, Type_of_Walls, House_Floor_Area, House_Age, Number_of_bedrooms, Tenure_Status, Toilet_Facilities, Electricity, Main_Source_of_Water_Supply, Number_of_Television, Number_of_CD/VCD/DVD, Number_of_Component/Stereo_set, Number_of_Refrigerator/Freezer, Number_of_Washing_Machine, Number_of_Airconditioner, Number_of_Car,_Jeep,_Van, Number_of_Landline/wireless_telephones, Number_of_Cellular_phone, Number_of_Personal_Computer, Number_of_Stove_with_Oven/Gas_Range, Number_of_Motorized_Banca, Number_of_Motorcycle/Tricycle]\n",
              "Index: []\n",
              "\n",
              "[0 rows x 60 columns]"
            ]
          },
          "execution_count": 444,
          "metadata": {},
          "output_type": "execute_result"
        }
      ],
      "source": [
        "df[df.isnull()].dropna(how='all')"
      ]
    },
    {
      "cell_type": "markdown",
      "metadata": {},
      "source": [
        "Percebemos que onde consta valor nulo do Dataset, o mesmo está presente em todas as colunas, portanto podemos eliminar estas linhas sem prejudicar nosso modelo."
      ]
    },
    {
      "cell_type": "code",
      "execution_count": 445,
      "metadata": {},
      "outputs": [
        {
          "data": {
            "text/plain": [
              "(34008, 60)"
            ]
          },
          "execution_count": 445,
          "metadata": {},
          "output_type": "execute_result"
        }
      ],
      "source": [
        "df.dropna(inplace=True)\n",
        "df.shape"
      ]
    },
    {
      "cell_type": "markdown",
      "metadata": {},
      "source": [
        "#### Análise descritiva"
      ]
    },
    {
      "cell_type": "code",
      "execution_count": 448,
      "metadata": {},
      "outputs": [
        {
          "data": {
            "text/html": [
              "<div>\n",
              "<style scoped>\n",
              "    .dataframe tbody tr th:only-of-type {\n",
              "        vertical-align: middle;\n",
              "    }\n",
              "\n",
              "    .dataframe tbody tr th {\n",
              "        vertical-align: top;\n",
              "    }\n",
              "\n",
              "    .dataframe thead th {\n",
              "        text-align: right;\n",
              "    }\n",
              "</style>\n",
              "<table border=\"1\" class=\"dataframe\">\n",
              "  <thead>\n",
              "    <tr style=\"text-align: right;\">\n",
              "      <th></th>\n",
              "      <th>count</th>\n",
              "      <th>mean</th>\n",
              "      <th>std</th>\n",
              "      <th>min</th>\n",
              "      <th>25%</th>\n",
              "      <th>50%</th>\n",
              "      <th>75%</th>\n",
              "      <th>max</th>\n",
              "    </tr>\n",
              "  </thead>\n",
              "  <tbody>\n",
              "    <tr>\n",
              "      <th>Total_Household_Income</th>\n",
              "      <td>34008.0</td>\n",
              "      <td>239113.922724</td>\n",
              "      <td>287278.065155</td>\n",
              "      <td>11285.0</td>\n",
              "      <td>104391.50</td>\n",
              "      <td>158914.0</td>\n",
              "      <td>274562.50</td>\n",
              "      <td>11815988.0</td>\n",
              "    </tr>\n",
              "    <tr>\n",
              "      <th>Total_Food_Expenditure</th>\n",
              "      <td>34008.0</td>\n",
              "      <td>84346.018878</td>\n",
              "      <td>49873.082060</td>\n",
              "      <td>3704.0</td>\n",
              "      <td>51702.00</td>\n",
              "      <td>72598.5</td>\n",
              "      <td>103864.75</td>\n",
              "      <td>791848.0</td>\n",
              "    </tr>\n",
              "    <tr>\n",
              "      <th>Agricultural_Household_indicator</th>\n",
              "      <td>34008.0</td>\n",
              "      <td>0.447101</td>\n",
              "      <td>0.667606</td>\n",
              "      <td>0.0</td>\n",
              "      <td>0.00</td>\n",
              "      <td>0.0</td>\n",
              "      <td>1.00</td>\n",
              "      <td>2.0</td>\n",
              "    </tr>\n",
              "    <tr>\n",
              "      <th>Bread_and_Cereals_Expenditure</th>\n",
              "      <td>34008.0</td>\n",
              "      <td>25503.228182</td>\n",
              "      <td>12649.874828</td>\n",
              "      <td>0.0</td>\n",
              "      <td>17056.75</td>\n",
              "      <td>23675.0</td>\n",
              "      <td>31756.25</td>\n",
              "      <td>437467.0</td>\n",
              "    </tr>\n",
              "    <tr>\n",
              "      <th>Total_Rice_Expenditure</th>\n",
              "      <td>34008.0</td>\n",
              "      <td>18501.867149</td>\n",
              "      <td>11131.565148</td>\n",
              "      <td>0.0</td>\n",
              "      <td>11361.75</td>\n",
              "      <td>17009.0</td>\n",
              "      <td>24254.00</td>\n",
              "      <td>429640.0</td>\n",
              "    </tr>\n",
              "    <tr>\n",
              "      <th>Meat_Expenditure</th>\n",
              "      <td>34008.0</td>\n",
              "      <td>10225.389879</td>\n",
              "      <td>10127.682961</td>\n",
              "      <td>0.0</td>\n",
              "      <td>3304.00</td>\n",
              "      <td>7105.5</td>\n",
              "      <td>13820.00</td>\n",
              "      <td>140992.0</td>\n",
              "    </tr>\n",
              "    <tr>\n",
              "      <th>Total_Fish_and__marine_products_Expenditure</th>\n",
              "      <td>34008.0</td>\n",
              "      <td>10577.501353</td>\n",
              "      <td>7757.519989</td>\n",
              "      <td>0.0</td>\n",
              "      <td>5595.00</td>\n",
              "      <td>8742.0</td>\n",
              "      <td>13388.25</td>\n",
              "      <td>188208.0</td>\n",
              "    </tr>\n",
              "    <tr>\n",
              "      <th>Fruit_Expenditure</th>\n",
              "      <td>34008.0</td>\n",
              "      <td>2479.630528</td>\n",
              "      <td>2604.366209</td>\n",
              "      <td>0.0</td>\n",
              "      <td>1020.00</td>\n",
              "      <td>1790.0</td>\n",
              "      <td>2990.00</td>\n",
              "      <td>82600.0</td>\n",
              "    </tr>\n",
              "    <tr>\n",
              "      <th>Vegetables_Expenditure</th>\n",
              "      <td>34008.0</td>\n",
              "      <td>5015.883968</td>\n",
              "      <td>3279.978425</td>\n",
              "      <td>0.0</td>\n",
              "      <td>2905.00</td>\n",
              "      <td>4320.0</td>\n",
              "      <td>6285.00</td>\n",
              "      <td>74800.0</td>\n",
              "    </tr>\n",
              "    <tr>\n",
              "      <th>Restaurant_and_hotels_Expenditure</th>\n",
              "      <td>34008.0</td>\n",
              "      <td>15029.149465</td>\n",
              "      <td>23740.257298</td>\n",
              "      <td>0.0</td>\n",
              "      <td>1880.00</td>\n",
              "      <td>7000.0</td>\n",
              "      <td>19216.25</td>\n",
              "      <td>725296.0</td>\n",
              "    </tr>\n",
              "    <tr>\n",
              "      <th>Alcoholic_Beverages_Expenditure</th>\n",
              "      <td>34008.0</td>\n",
              "      <td>1145.186221</td>\n",
              "      <td>2205.743148</td>\n",
              "      <td>0.0</td>\n",
              "      <td>0.00</td>\n",
              "      <td>360.0</td>\n",
              "      <td>1380.00</td>\n",
              "      <td>59592.0</td>\n",
              "    </tr>\n",
              "    <tr>\n",
              "      <th>Tobacco_Expenditure</th>\n",
              "      <td>34008.0</td>\n",
              "      <td>2386.864502</td>\n",
              "      <td>4014.147152</td>\n",
              "      <td>0.0</td>\n",
              "      <td>0.00</td>\n",
              "      <td>520.0</td>\n",
              "      <td>3416.00</td>\n",
              "      <td>139370.0</td>\n",
              "    </tr>\n",
              "    <tr>\n",
              "      <th>Clothing,_Footwear_and_Other_Wear_Expenditure</th>\n",
              "      <td>34008.0</td>\n",
              "      <td>4869.898759</td>\n",
              "      <td>7428.333802</td>\n",
              "      <td>0.0</td>\n",
              "      <td>1400.00</td>\n",
              "      <td>2718.0</td>\n",
              "      <td>5420.00</td>\n",
              "      <td>356750.0</td>\n",
              "    </tr>\n",
              "    <tr>\n",
              "      <th>Housing_and_water_Expenditure</th>\n",
              "      <td>34008.0</td>\n",
              "      <td>35324.961186</td>\n",
              "      <td>50338.187237</td>\n",
              "      <td>1950.0</td>\n",
              "      <td>12600.00</td>\n",
              "      <td>21240.0</td>\n",
              "      <td>41502.00</td>\n",
              "      <td>2188560.0</td>\n",
              "    </tr>\n",
              "    <tr>\n",
              "      <th>Imputed_House_Rental_Value</th>\n",
              "      <td>34008.0</td>\n",
              "      <td>18773.458186</td>\n",
              "      <td>36901.749803</td>\n",
              "      <td>0.0</td>\n",
              "      <td>5400.00</td>\n",
              "      <td>9000.0</td>\n",
              "      <td>21000.00</td>\n",
              "      <td>1920000.0</td>\n",
              "    </tr>\n",
              "    <tr>\n",
              "      <th>Medical_Care_Expenditure</th>\n",
              "      <td>34008.0</td>\n",
              "      <td>5783.793578</td>\n",
              "      <td>22236.131899</td>\n",
              "      <td>0.0</td>\n",
              "      <td>270.00</td>\n",
              "      <td>947.0</td>\n",
              "      <td>3670.25</td>\n",
              "      <td>1049275.0</td>\n",
              "    </tr>\n",
              "    <tr>\n",
              "      <th>Transportation_Expenditure</th>\n",
              "      <td>34008.0</td>\n",
              "      <td>11472.105681</td>\n",
              "      <td>18933.387291</td>\n",
              "      <td>0.0</td>\n",
              "      <td>2490.00</td>\n",
              "      <td>5976.0</td>\n",
              "      <td>13476.00</td>\n",
              "      <td>834996.0</td>\n",
              "    </tr>\n",
              "    <tr>\n",
              "      <th>Communication_Expenditure</th>\n",
              "      <td>34008.0</td>\n",
              "      <td>3786.157551</td>\n",
              "      <td>7061.904957</td>\n",
              "      <td>0.0</td>\n",
              "      <td>546.00</td>\n",
              "      <td>1440.0</td>\n",
              "      <td>3600.00</td>\n",
              "      <td>149940.0</td>\n",
              "    </tr>\n",
              "    <tr>\n",
              "      <th>Education_Expenditure</th>\n",
              "      <td>34008.0</td>\n",
              "      <td>7371.797812</td>\n",
              "      <td>21222.657846</td>\n",
              "      <td>0.0</td>\n",
              "      <td>0.00</td>\n",
              "      <td>955.5</td>\n",
              "      <td>4060.00</td>\n",
              "      <td>731000.0</td>\n",
              "    </tr>\n",
              "    <tr>\n",
              "      <th>Miscellaneous_Goods_and_Services_Expenditure</th>\n",
              "      <td>34008.0</td>\n",
              "      <td>12203.680134</td>\n",
              "      <td>17420.609306</td>\n",
              "      <td>0.0</td>\n",
              "      <td>3810.00</td>\n",
              "      <td>6630.0</td>\n",
              "      <td>13488.00</td>\n",
              "      <td>553560.0</td>\n",
              "    </tr>\n",
              "    <tr>\n",
              "      <th>Special_Occasions_Expenditure</th>\n",
              "      <td>34008.0</td>\n",
              "      <td>5043.809604</td>\n",
              "      <td>12907.268590</td>\n",
              "      <td>0.0</td>\n",
              "      <td>0.00</td>\n",
              "      <td>1500.0</td>\n",
              "      <td>5000.00</td>\n",
              "      <td>556700.0</td>\n",
              "    </tr>\n",
              "    <tr>\n",
              "      <th>Crop_Farming_and_Gardening_expenses</th>\n",
              "      <td>34008.0</td>\n",
              "      <td>15629.085274</td>\n",
              "      <td>46966.121066</td>\n",
              "      <td>0.0</td>\n",
              "      <td>0.00</td>\n",
              "      <td>0.0</td>\n",
              "      <td>11458.25</td>\n",
              "      <td>2823280.0</td>\n",
              "    </tr>\n",
              "    <tr>\n",
              "      <th>Total_Income_from_Entrepreneurial_Acitivites</th>\n",
              "      <td>34008.0</td>\n",
              "      <td>60493.800106</td>\n",
              "      <td>156338.233053</td>\n",
              "      <td>0.0</td>\n",
              "      <td>0.00</td>\n",
              "      <td>26100.0</td>\n",
              "      <td>73809.75</td>\n",
              "      <td>9234485.0</td>\n",
              "    </tr>\n",
              "    <tr>\n",
              "      <th>Household_Head_Age</th>\n",
              "      <td>34008.0</td>\n",
              "      <td>48.675429</td>\n",
              "      <td>12.419661</td>\n",
              "      <td>15.0</td>\n",
              "      <td>40.00</td>\n",
              "      <td>48.0</td>\n",
              "      <td>57.00</td>\n",
              "      <td>98.0</td>\n",
              "    </tr>\n",
              "    <tr>\n",
              "      <th>Total_Number_of_Family_members</th>\n",
              "      <td>34008.0</td>\n",
              "      <td>4.737973</td>\n",
              "      <td>2.242418</td>\n",
              "      <td>1.0</td>\n",
              "      <td>3.00</td>\n",
              "      <td>5.0</td>\n",
              "      <td>6.00</td>\n",
              "      <td>26.0</td>\n",
              "    </tr>\n",
              "    <tr>\n",
              "      <th>Members_with_age_less_than_5_year_old</th>\n",
              "      <td>34008.0</td>\n",
              "      <td>0.433574</td>\n",
              "      <td>0.707532</td>\n",
              "      <td>0.0</td>\n",
              "      <td>0.00</td>\n",
              "      <td>0.0</td>\n",
              "      <td>1.00</td>\n",
              "      <td>5.0</td>\n",
              "    </tr>\n",
              "    <tr>\n",
              "      <th>Members_with_age_5_-_17_years_old</th>\n",
              "      <td>34008.0</td>\n",
              "      <td>1.464626</td>\n",
              "      <td>1.427803</td>\n",
              "      <td>0.0</td>\n",
              "      <td>0.00</td>\n",
              "      <td>1.0</td>\n",
              "      <td>2.00</td>\n",
              "      <td>8.0</td>\n",
              "    </tr>\n",
              "    <tr>\n",
              "      <th>Total_number_of_family_members_employed</th>\n",
              "      <td>34008.0</td>\n",
              "      <td>1.339391</td>\n",
              "      <td>1.149316</td>\n",
              "      <td>0.0</td>\n",
              "      <td>1.00</td>\n",
              "      <td>1.0</td>\n",
              "      <td>2.00</td>\n",
              "      <td>8.0</td>\n",
              "    </tr>\n",
              "    <tr>\n",
              "      <th>House_Floor_Area</th>\n",
              "      <td>34008.0</td>\n",
              "      <td>52.913579</td>\n",
              "      <td>52.827012</td>\n",
              "      <td>5.0</td>\n",
              "      <td>24.00</td>\n",
              "      <td>40.0</td>\n",
              "      <td>63.00</td>\n",
              "      <td>900.0</td>\n",
              "    </tr>\n",
              "    <tr>\n",
              "      <th>House_Age</th>\n",
              "      <td>34008.0</td>\n",
              "      <td>19.074012</td>\n",
              "      <td>13.667083</td>\n",
              "      <td>0.0</td>\n",
              "      <td>10.00</td>\n",
              "      <td>16.0</td>\n",
              "      <td>25.00</td>\n",
              "      <td>200.0</td>\n",
              "    </tr>\n",
              "    <tr>\n",
              "      <th>Number_of_bedrooms</th>\n",
              "      <td>34008.0</td>\n",
              "      <td>1.725271</td>\n",
              "      <td>1.079352</td>\n",
              "      <td>0.0</td>\n",
              "      <td>1.00</td>\n",
              "      <td>2.0</td>\n",
              "      <td>2.00</td>\n",
              "      <td>9.0</td>\n",
              "    </tr>\n",
              "    <tr>\n",
              "      <th>Electricity</th>\n",
              "      <td>34008.0</td>\n",
              "      <td>0.878793</td>\n",
              "      <td>0.326372</td>\n",
              "      <td>0.0</td>\n",
              "      <td>1.00</td>\n",
              "      <td>1.0</td>\n",
              "      <td>1.00</td>\n",
              "      <td>1.0</td>\n",
              "    </tr>\n",
              "    <tr>\n",
              "      <th>Number_of_Television</th>\n",
              "      <td>34008.0</td>\n",
              "      <td>0.826394</td>\n",
              "      <td>0.626904</td>\n",
              "      <td>0.0</td>\n",
              "      <td>0.00</td>\n",
              "      <td>1.0</td>\n",
              "      <td>1.00</td>\n",
              "      <td>6.0</td>\n",
              "    </tr>\n",
              "    <tr>\n",
              "      <th>Number_of_CD/VCD/DVD</th>\n",
              "      <td>34008.0</td>\n",
              "      <td>0.428752</td>\n",
              "      <td>0.555010</td>\n",
              "      <td>0.0</td>\n",
              "      <td>0.00</td>\n",
              "      <td>0.0</td>\n",
              "      <td>1.00</td>\n",
              "      <td>5.0</td>\n",
              "    </tr>\n",
              "    <tr>\n",
              "      <th>Number_of_Component/Stereo_set</th>\n",
              "      <td>34008.0</td>\n",
              "      <td>0.151788</td>\n",
              "      <td>0.377899</td>\n",
              "      <td>0.0</td>\n",
              "      <td>0.00</td>\n",
              "      <td>0.0</td>\n",
              "      <td>0.00</td>\n",
              "      <td>5.0</td>\n",
              "    </tr>\n",
              "    <tr>\n",
              "      <th>Number_of_Refrigerator/Freezer</th>\n",
              "      <td>34008.0</td>\n",
              "      <td>0.365796</td>\n",
              "      <td>0.528414</td>\n",
              "      <td>0.0</td>\n",
              "      <td>0.00</td>\n",
              "      <td>0.0</td>\n",
              "      <td>1.00</td>\n",
              "      <td>5.0</td>\n",
              "    </tr>\n",
              "    <tr>\n",
              "      <th>Number_of_Washing_Machine</th>\n",
              "      <td>34008.0</td>\n",
              "      <td>0.296313</td>\n",
              "      <td>0.467834</td>\n",
              "      <td>0.0</td>\n",
              "      <td>0.00</td>\n",
              "      <td>0.0</td>\n",
              "      <td>1.00</td>\n",
              "      <td>3.0</td>\n",
              "    </tr>\n",
              "    <tr>\n",
              "      <th>Number_of_Airconditioner</th>\n",
              "      <td>34008.0</td>\n",
              "      <td>0.107945</td>\n",
              "      <td>0.410794</td>\n",
              "      <td>0.0</td>\n",
              "      <td>0.00</td>\n",
              "      <td>0.0</td>\n",
              "      <td>0.00</td>\n",
              "      <td>5.0</td>\n",
              "    </tr>\n",
              "    <tr>\n",
              "      <th>Number_of_Car,_Jeep,_Van</th>\n",
              "      <td>34008.0</td>\n",
              "      <td>0.074659</td>\n",
              "      <td>0.336183</td>\n",
              "      <td>0.0</td>\n",
              "      <td>0.00</td>\n",
              "      <td>0.0</td>\n",
              "      <td>0.00</td>\n",
              "      <td>5.0</td>\n",
              "    </tr>\n",
              "    <tr>\n",
              "      <th>Number_of_Landline/wireless_telephones</th>\n",
              "      <td>34008.0</td>\n",
              "      <td>0.050076</td>\n",
              "      <td>0.255830</td>\n",
              "      <td>0.0</td>\n",
              "      <td>0.00</td>\n",
              "      <td>0.0</td>\n",
              "      <td>0.00</td>\n",
              "      <td>4.0</td>\n",
              "    </tr>\n",
              "    <tr>\n",
              "      <th>Number_of_Cellular_phone</th>\n",
              "      <td>34008.0</td>\n",
              "      <td>1.893878</td>\n",
              "      <td>1.539265</td>\n",
              "      <td>0.0</td>\n",
              "      <td>1.00</td>\n",
              "      <td>2.0</td>\n",
              "      <td>3.00</td>\n",
              "      <td>10.0</td>\n",
              "    </tr>\n",
              "    <tr>\n",
              "      <th>Number_of_Personal_Computer</th>\n",
              "      <td>34008.0</td>\n",
              "      <td>0.285639</td>\n",
              "      <td>0.709303</td>\n",
              "      <td>0.0</td>\n",
              "      <td>0.00</td>\n",
              "      <td>0.0</td>\n",
              "      <td>0.00</td>\n",
              "      <td>6.0</td>\n",
              "    </tr>\n",
              "    <tr>\n",
              "      <th>Number_of_Stove_with_Oven/Gas_Range</th>\n",
              "      <td>34008.0</td>\n",
              "      <td>0.120031</td>\n",
              "      <td>0.337606</td>\n",
              "      <td>0.0</td>\n",
              "      <td>0.00</td>\n",
              "      <td>0.0</td>\n",
              "      <td>0.00</td>\n",
              "      <td>3.0</td>\n",
              "    </tr>\n",
              "    <tr>\n",
              "      <th>Number_of_Motorized_Banca</th>\n",
              "      <td>34008.0</td>\n",
              "      <td>0.014438</td>\n",
              "      <td>0.134141</td>\n",
              "      <td>0.0</td>\n",
              "      <td>0.00</td>\n",
              "      <td>0.0</td>\n",
              "      <td>0.00</td>\n",
              "      <td>3.0</td>\n",
              "    </tr>\n",
              "    <tr>\n",
              "      <th>Number_of_Motorcycle/Tricycle</th>\n",
              "      <td>34008.0</td>\n",
              "      <td>0.303693</td>\n",
              "      <td>0.569344</td>\n",
              "      <td>0.0</td>\n",
              "      <td>0.00</td>\n",
              "      <td>0.0</td>\n",
              "      <td>1.00</td>\n",
              "      <td>5.0</td>\n",
              "    </tr>\n",
              "  </tbody>\n",
              "</table>\n",
              "</div>"
            ],
            "text/plain": [
              "                                                 count           mean  \\\n",
              "Total_Household_Income                         34008.0  239113.922724   \n",
              "Total_Food_Expenditure                         34008.0   84346.018878   \n",
              "Agricultural_Household_indicator               34008.0       0.447101   \n",
              "Bread_and_Cereals_Expenditure                  34008.0   25503.228182   \n",
              "Total_Rice_Expenditure                         34008.0   18501.867149   \n",
              "Meat_Expenditure                               34008.0   10225.389879   \n",
              "Total_Fish_and__marine_products_Expenditure    34008.0   10577.501353   \n",
              "Fruit_Expenditure                              34008.0    2479.630528   \n",
              "Vegetables_Expenditure                         34008.0    5015.883968   \n",
              "Restaurant_and_hotels_Expenditure              34008.0   15029.149465   \n",
              "Alcoholic_Beverages_Expenditure                34008.0    1145.186221   \n",
              "Tobacco_Expenditure                            34008.0    2386.864502   \n",
              "Clothing,_Footwear_and_Other_Wear_Expenditure  34008.0    4869.898759   \n",
              "Housing_and_water_Expenditure                  34008.0   35324.961186   \n",
              "Imputed_House_Rental_Value                     34008.0   18773.458186   \n",
              "Medical_Care_Expenditure                       34008.0    5783.793578   \n",
              "Transportation_Expenditure                     34008.0   11472.105681   \n",
              "Communication_Expenditure                      34008.0    3786.157551   \n",
              "Education_Expenditure                          34008.0    7371.797812   \n",
              "Miscellaneous_Goods_and_Services_Expenditure   34008.0   12203.680134   \n",
              "Special_Occasions_Expenditure                  34008.0    5043.809604   \n",
              "Crop_Farming_and_Gardening_expenses            34008.0   15629.085274   \n",
              "Total_Income_from_Entrepreneurial_Acitivites   34008.0   60493.800106   \n",
              "Household_Head_Age                             34008.0      48.675429   \n",
              "Total_Number_of_Family_members                 34008.0       4.737973   \n",
              "Members_with_age_less_than_5_year_old          34008.0       0.433574   \n",
              "Members_with_age_5_-_17_years_old              34008.0       1.464626   \n",
              "Total_number_of_family_members_employed        34008.0       1.339391   \n",
              "House_Floor_Area                               34008.0      52.913579   \n",
              "House_Age                                      34008.0      19.074012   \n",
              "Number_of_bedrooms                             34008.0       1.725271   \n",
              "Electricity                                    34008.0       0.878793   \n",
              "Number_of_Television                           34008.0       0.826394   \n",
              "Number_of_CD/VCD/DVD                           34008.0       0.428752   \n",
              "Number_of_Component/Stereo_set                 34008.0       0.151788   \n",
              "Number_of_Refrigerator/Freezer                 34008.0       0.365796   \n",
              "Number_of_Washing_Machine                      34008.0       0.296313   \n",
              "Number_of_Airconditioner                       34008.0       0.107945   \n",
              "Number_of_Car,_Jeep,_Van                       34008.0       0.074659   \n",
              "Number_of_Landline/wireless_telephones         34008.0       0.050076   \n",
              "Number_of_Cellular_phone                       34008.0       1.893878   \n",
              "Number_of_Personal_Computer                    34008.0       0.285639   \n",
              "Number_of_Stove_with_Oven/Gas_Range            34008.0       0.120031   \n",
              "Number_of_Motorized_Banca                      34008.0       0.014438   \n",
              "Number_of_Motorcycle/Tricycle                  34008.0       0.303693   \n",
              "\n",
              "                                                         std      min  \\\n",
              "Total_Household_Income                         287278.065155  11285.0   \n",
              "Total_Food_Expenditure                          49873.082060   3704.0   \n",
              "Agricultural_Household_indicator                    0.667606      0.0   \n",
              "Bread_and_Cereals_Expenditure                   12649.874828      0.0   \n",
              "Total_Rice_Expenditure                          11131.565148      0.0   \n",
              "Meat_Expenditure                                10127.682961      0.0   \n",
              "Total_Fish_and__marine_products_Expenditure      7757.519989      0.0   \n",
              "Fruit_Expenditure                                2604.366209      0.0   \n",
              "Vegetables_Expenditure                           3279.978425      0.0   \n",
              "Restaurant_and_hotels_Expenditure               23740.257298      0.0   \n",
              "Alcoholic_Beverages_Expenditure                  2205.743148      0.0   \n",
              "Tobacco_Expenditure                              4014.147152      0.0   \n",
              "Clothing,_Footwear_and_Other_Wear_Expenditure    7428.333802      0.0   \n",
              "Housing_and_water_Expenditure                   50338.187237   1950.0   \n",
              "Imputed_House_Rental_Value                      36901.749803      0.0   \n",
              "Medical_Care_Expenditure                        22236.131899      0.0   \n",
              "Transportation_Expenditure                      18933.387291      0.0   \n",
              "Communication_Expenditure                        7061.904957      0.0   \n",
              "Education_Expenditure                           21222.657846      0.0   \n",
              "Miscellaneous_Goods_and_Services_Expenditure    17420.609306      0.0   \n",
              "Special_Occasions_Expenditure                   12907.268590      0.0   \n",
              "Crop_Farming_and_Gardening_expenses             46966.121066      0.0   \n",
              "Total_Income_from_Entrepreneurial_Acitivites   156338.233053      0.0   \n",
              "Household_Head_Age                                 12.419661     15.0   \n",
              "Total_Number_of_Family_members                      2.242418      1.0   \n",
              "Members_with_age_less_than_5_year_old               0.707532      0.0   \n",
              "Members_with_age_5_-_17_years_old                   1.427803      0.0   \n",
              "Total_number_of_family_members_employed             1.149316      0.0   \n",
              "House_Floor_Area                                   52.827012      5.0   \n",
              "House_Age                                          13.667083      0.0   \n",
              "Number_of_bedrooms                                  1.079352      0.0   \n",
              "Electricity                                         0.326372      0.0   \n",
              "Number_of_Television                                0.626904      0.0   \n",
              "Number_of_CD/VCD/DVD                                0.555010      0.0   \n",
              "Number_of_Component/Stereo_set                      0.377899      0.0   \n",
              "Number_of_Refrigerator/Freezer                      0.528414      0.0   \n",
              "Number_of_Washing_Machine                           0.467834      0.0   \n",
              "Number_of_Airconditioner                            0.410794      0.0   \n",
              "Number_of_Car,_Jeep,_Van                            0.336183      0.0   \n",
              "Number_of_Landline/wireless_telephones              0.255830      0.0   \n",
              "Number_of_Cellular_phone                            1.539265      0.0   \n",
              "Number_of_Personal_Computer                         0.709303      0.0   \n",
              "Number_of_Stove_with_Oven/Gas_Range                 0.337606      0.0   \n",
              "Number_of_Motorized_Banca                           0.134141      0.0   \n",
              "Number_of_Motorcycle/Tricycle                       0.569344      0.0   \n",
              "\n",
              "                                                     25%       50%        75%  \\\n",
              "Total_Household_Income                         104391.50  158914.0  274562.50   \n",
              "Total_Food_Expenditure                          51702.00   72598.5  103864.75   \n",
              "Agricultural_Household_indicator                    0.00       0.0       1.00   \n",
              "Bread_and_Cereals_Expenditure                   17056.75   23675.0   31756.25   \n",
              "Total_Rice_Expenditure                          11361.75   17009.0   24254.00   \n",
              "Meat_Expenditure                                 3304.00    7105.5   13820.00   \n",
              "Total_Fish_and__marine_products_Expenditure      5595.00    8742.0   13388.25   \n",
              "Fruit_Expenditure                                1020.00    1790.0    2990.00   \n",
              "Vegetables_Expenditure                           2905.00    4320.0    6285.00   \n",
              "Restaurant_and_hotels_Expenditure                1880.00    7000.0   19216.25   \n",
              "Alcoholic_Beverages_Expenditure                     0.00     360.0    1380.00   \n",
              "Tobacco_Expenditure                                 0.00     520.0    3416.00   \n",
              "Clothing,_Footwear_and_Other_Wear_Expenditure    1400.00    2718.0    5420.00   \n",
              "Housing_and_water_Expenditure                   12600.00   21240.0   41502.00   \n",
              "Imputed_House_Rental_Value                       5400.00    9000.0   21000.00   \n",
              "Medical_Care_Expenditure                          270.00     947.0    3670.25   \n",
              "Transportation_Expenditure                       2490.00    5976.0   13476.00   \n",
              "Communication_Expenditure                         546.00    1440.0    3600.00   \n",
              "Education_Expenditure                               0.00     955.5    4060.00   \n",
              "Miscellaneous_Goods_and_Services_Expenditure     3810.00    6630.0   13488.00   \n",
              "Special_Occasions_Expenditure                       0.00    1500.0    5000.00   \n",
              "Crop_Farming_and_Gardening_expenses                 0.00       0.0   11458.25   \n",
              "Total_Income_from_Entrepreneurial_Acitivites        0.00   26100.0   73809.75   \n",
              "Household_Head_Age                                 40.00      48.0      57.00   \n",
              "Total_Number_of_Family_members                      3.00       5.0       6.00   \n",
              "Members_with_age_less_than_5_year_old               0.00       0.0       1.00   \n",
              "Members_with_age_5_-_17_years_old                   0.00       1.0       2.00   \n",
              "Total_number_of_family_members_employed             1.00       1.0       2.00   \n",
              "House_Floor_Area                                   24.00      40.0      63.00   \n",
              "House_Age                                          10.00      16.0      25.00   \n",
              "Number_of_bedrooms                                  1.00       2.0       2.00   \n",
              "Electricity                                         1.00       1.0       1.00   \n",
              "Number_of_Television                                0.00       1.0       1.00   \n",
              "Number_of_CD/VCD/DVD                                0.00       0.0       1.00   \n",
              "Number_of_Component/Stereo_set                      0.00       0.0       0.00   \n",
              "Number_of_Refrigerator/Freezer                      0.00       0.0       1.00   \n",
              "Number_of_Washing_Machine                           0.00       0.0       1.00   \n",
              "Number_of_Airconditioner                            0.00       0.0       0.00   \n",
              "Number_of_Car,_Jeep,_Van                            0.00       0.0       0.00   \n",
              "Number_of_Landline/wireless_telephones              0.00       0.0       0.00   \n",
              "Number_of_Cellular_phone                            1.00       2.0       3.00   \n",
              "Number_of_Personal_Computer                         0.00       0.0       0.00   \n",
              "Number_of_Stove_with_Oven/Gas_Range                 0.00       0.0       0.00   \n",
              "Number_of_Motorized_Banca                           0.00       0.0       0.00   \n",
              "Number_of_Motorcycle/Tricycle                       0.00       0.0       1.00   \n",
              "\n",
              "                                                      max  \n",
              "Total_Household_Income                         11815988.0  \n",
              "Total_Food_Expenditure                           791848.0  \n",
              "Agricultural_Household_indicator                      2.0  \n",
              "Bread_and_Cereals_Expenditure                    437467.0  \n",
              "Total_Rice_Expenditure                           429640.0  \n",
              "Meat_Expenditure                                 140992.0  \n",
              "Total_Fish_and__marine_products_Expenditure      188208.0  \n",
              "Fruit_Expenditure                                 82600.0  \n",
              "Vegetables_Expenditure                            74800.0  \n",
              "Restaurant_and_hotels_Expenditure                725296.0  \n",
              "Alcoholic_Beverages_Expenditure                   59592.0  \n",
              "Tobacco_Expenditure                              139370.0  \n",
              "Clothing,_Footwear_and_Other_Wear_Expenditure    356750.0  \n",
              "Housing_and_water_Expenditure                   2188560.0  \n",
              "Imputed_House_Rental_Value                      1920000.0  \n",
              "Medical_Care_Expenditure                        1049275.0  \n",
              "Transportation_Expenditure                       834996.0  \n",
              "Communication_Expenditure                        149940.0  \n",
              "Education_Expenditure                            731000.0  \n",
              "Miscellaneous_Goods_and_Services_Expenditure     553560.0  \n",
              "Special_Occasions_Expenditure                    556700.0  \n",
              "Crop_Farming_and_Gardening_expenses             2823280.0  \n",
              "Total_Income_from_Entrepreneurial_Acitivites    9234485.0  \n",
              "Household_Head_Age                                   98.0  \n",
              "Total_Number_of_Family_members                       26.0  \n",
              "Members_with_age_less_than_5_year_old                 5.0  \n",
              "Members_with_age_5_-_17_years_old                     8.0  \n",
              "Total_number_of_family_members_employed               8.0  \n",
              "House_Floor_Area                                    900.0  \n",
              "House_Age                                           200.0  \n",
              "Number_of_bedrooms                                    9.0  \n",
              "Electricity                                           1.0  \n",
              "Number_of_Television                                  6.0  \n",
              "Number_of_CD/VCD/DVD                                  5.0  \n",
              "Number_of_Component/Stereo_set                        5.0  \n",
              "Number_of_Refrigerator/Freezer                        5.0  \n",
              "Number_of_Washing_Machine                             3.0  \n",
              "Number_of_Airconditioner                              5.0  \n",
              "Number_of_Car,_Jeep,_Van                              5.0  \n",
              "Number_of_Landline/wireless_telephones                4.0  \n",
              "Number_of_Cellular_phone                             10.0  \n",
              "Number_of_Personal_Computer                           6.0  \n",
              "Number_of_Stove_with_Oven/Gas_Range                   3.0  \n",
              "Number_of_Motorized_Banca                             3.0  \n",
              "Number_of_Motorcycle/Tricycle                         5.0  "
            ]
          },
          "execution_count": 448,
          "metadata": {},
          "output_type": "execute_result"
        }
      ],
      "source": [
        "df.describe().T"
      ]
    },
    {
      "cell_type": "code",
      "execution_count": 497,
      "metadata": {},
      "outputs": [],
      "source": [
        "_df = df.filter(regex='^Number_of').copy()"
      ]
    },
    {
      "cell_type": "code",
      "execution_count": 498,
      "metadata": {},
      "outputs": [
        {
          "data": {
            "text/html": [
              "<div>\n",
              "<style scoped>\n",
              "    .dataframe tbody tr th:only-of-type {\n",
              "        vertical-align: middle;\n",
              "    }\n",
              "\n",
              "    .dataframe tbody tr th {\n",
              "        vertical-align: top;\n",
              "    }\n",
              "\n",
              "    .dataframe thead th {\n",
              "        text-align: right;\n",
              "    }\n",
              "</style>\n",
              "<table border=\"1\" class=\"dataframe\">\n",
              "  <thead>\n",
              "    <tr style=\"text-align: right;\">\n",
              "      <th></th>\n",
              "      <th>count</th>\n",
              "      <th>mean</th>\n",
              "      <th>std</th>\n",
              "      <th>min</th>\n",
              "      <th>25%</th>\n",
              "      <th>50%</th>\n",
              "      <th>75%</th>\n",
              "      <th>max</th>\n",
              "    </tr>\n",
              "  </thead>\n",
              "  <tbody>\n",
              "    <tr>\n",
              "      <th>Number_of_bedrooms</th>\n",
              "      <td>34008.0</td>\n",
              "      <td>1.725271</td>\n",
              "      <td>1.079352</td>\n",
              "      <td>0.0</td>\n",
              "      <td>1.0</td>\n",
              "      <td>2.0</td>\n",
              "      <td>2.0</td>\n",
              "      <td>9.0</td>\n",
              "    </tr>\n",
              "    <tr>\n",
              "      <th>Number_of_Television</th>\n",
              "      <td>34008.0</td>\n",
              "      <td>0.826394</td>\n",
              "      <td>0.626904</td>\n",
              "      <td>0.0</td>\n",
              "      <td>0.0</td>\n",
              "      <td>1.0</td>\n",
              "      <td>1.0</td>\n",
              "      <td>6.0</td>\n",
              "    </tr>\n",
              "    <tr>\n",
              "      <th>Number_of_CD/VCD/DVD</th>\n",
              "      <td>34008.0</td>\n",
              "      <td>0.428752</td>\n",
              "      <td>0.555010</td>\n",
              "      <td>0.0</td>\n",
              "      <td>0.0</td>\n",
              "      <td>0.0</td>\n",
              "      <td>1.0</td>\n",
              "      <td>5.0</td>\n",
              "    </tr>\n",
              "    <tr>\n",
              "      <th>Number_of_Component/Stereo_set</th>\n",
              "      <td>34008.0</td>\n",
              "      <td>0.151788</td>\n",
              "      <td>0.377899</td>\n",
              "      <td>0.0</td>\n",
              "      <td>0.0</td>\n",
              "      <td>0.0</td>\n",
              "      <td>0.0</td>\n",
              "      <td>5.0</td>\n",
              "    </tr>\n",
              "    <tr>\n",
              "      <th>Number_of_Refrigerator/Freezer</th>\n",
              "      <td>34008.0</td>\n",
              "      <td>0.365796</td>\n",
              "      <td>0.528414</td>\n",
              "      <td>0.0</td>\n",
              "      <td>0.0</td>\n",
              "      <td>0.0</td>\n",
              "      <td>1.0</td>\n",
              "      <td>5.0</td>\n",
              "    </tr>\n",
              "    <tr>\n",
              "      <th>Number_of_Washing_Machine</th>\n",
              "      <td>34008.0</td>\n",
              "      <td>0.296313</td>\n",
              "      <td>0.467834</td>\n",
              "      <td>0.0</td>\n",
              "      <td>0.0</td>\n",
              "      <td>0.0</td>\n",
              "      <td>1.0</td>\n",
              "      <td>3.0</td>\n",
              "    </tr>\n",
              "    <tr>\n",
              "      <th>Number_of_Airconditioner</th>\n",
              "      <td>34008.0</td>\n",
              "      <td>0.107945</td>\n",
              "      <td>0.410794</td>\n",
              "      <td>0.0</td>\n",
              "      <td>0.0</td>\n",
              "      <td>0.0</td>\n",
              "      <td>0.0</td>\n",
              "      <td>5.0</td>\n",
              "    </tr>\n",
              "    <tr>\n",
              "      <th>Number_of_Car,_Jeep,_Van</th>\n",
              "      <td>34008.0</td>\n",
              "      <td>0.074659</td>\n",
              "      <td>0.336183</td>\n",
              "      <td>0.0</td>\n",
              "      <td>0.0</td>\n",
              "      <td>0.0</td>\n",
              "      <td>0.0</td>\n",
              "      <td>5.0</td>\n",
              "    </tr>\n",
              "    <tr>\n",
              "      <th>Number_of_Landline/wireless_telephones</th>\n",
              "      <td>34008.0</td>\n",
              "      <td>0.050076</td>\n",
              "      <td>0.255830</td>\n",
              "      <td>0.0</td>\n",
              "      <td>0.0</td>\n",
              "      <td>0.0</td>\n",
              "      <td>0.0</td>\n",
              "      <td>4.0</td>\n",
              "    </tr>\n",
              "    <tr>\n",
              "      <th>Number_of_Cellular_phone</th>\n",
              "      <td>34008.0</td>\n",
              "      <td>1.893878</td>\n",
              "      <td>1.539265</td>\n",
              "      <td>0.0</td>\n",
              "      <td>1.0</td>\n",
              "      <td>2.0</td>\n",
              "      <td>3.0</td>\n",
              "      <td>10.0</td>\n",
              "    </tr>\n",
              "    <tr>\n",
              "      <th>Number_of_Personal_Computer</th>\n",
              "      <td>34008.0</td>\n",
              "      <td>0.285639</td>\n",
              "      <td>0.709303</td>\n",
              "      <td>0.0</td>\n",
              "      <td>0.0</td>\n",
              "      <td>0.0</td>\n",
              "      <td>0.0</td>\n",
              "      <td>6.0</td>\n",
              "    </tr>\n",
              "    <tr>\n",
              "      <th>Number_of_Stove_with_Oven/Gas_Range</th>\n",
              "      <td>34008.0</td>\n",
              "      <td>0.120031</td>\n",
              "      <td>0.337606</td>\n",
              "      <td>0.0</td>\n",
              "      <td>0.0</td>\n",
              "      <td>0.0</td>\n",
              "      <td>0.0</td>\n",
              "      <td>3.0</td>\n",
              "    </tr>\n",
              "    <tr>\n",
              "      <th>Number_of_Motorized_Banca</th>\n",
              "      <td>34008.0</td>\n",
              "      <td>0.014438</td>\n",
              "      <td>0.134141</td>\n",
              "      <td>0.0</td>\n",
              "      <td>0.0</td>\n",
              "      <td>0.0</td>\n",
              "      <td>0.0</td>\n",
              "      <td>3.0</td>\n",
              "    </tr>\n",
              "    <tr>\n",
              "      <th>Number_of_Motorcycle/Tricycle</th>\n",
              "      <td>34008.0</td>\n",
              "      <td>0.303693</td>\n",
              "      <td>0.569344</td>\n",
              "      <td>0.0</td>\n",
              "      <td>0.0</td>\n",
              "      <td>0.0</td>\n",
              "      <td>1.0</td>\n",
              "      <td>5.0</td>\n",
              "    </tr>\n",
              "  </tbody>\n",
              "</table>\n",
              "</div>"
            ],
            "text/plain": [
              "                                          count      mean       std  min  25%  \\\n",
              "Number_of_bedrooms                      34008.0  1.725271  1.079352  0.0  1.0   \n",
              "Number_of_Television                    34008.0  0.826394  0.626904  0.0  0.0   \n",
              "Number_of_CD/VCD/DVD                    34008.0  0.428752  0.555010  0.0  0.0   \n",
              "Number_of_Component/Stereo_set          34008.0  0.151788  0.377899  0.0  0.0   \n",
              "Number_of_Refrigerator/Freezer          34008.0  0.365796  0.528414  0.0  0.0   \n",
              "Number_of_Washing_Machine               34008.0  0.296313  0.467834  0.0  0.0   \n",
              "Number_of_Airconditioner                34008.0  0.107945  0.410794  0.0  0.0   \n",
              "Number_of_Car,_Jeep,_Van                34008.0  0.074659  0.336183  0.0  0.0   \n",
              "Number_of_Landline/wireless_telephones  34008.0  0.050076  0.255830  0.0  0.0   \n",
              "Number_of_Cellular_phone                34008.0  1.893878  1.539265  0.0  1.0   \n",
              "Number_of_Personal_Computer             34008.0  0.285639  0.709303  0.0  0.0   \n",
              "Number_of_Stove_with_Oven/Gas_Range     34008.0  0.120031  0.337606  0.0  0.0   \n",
              "Number_of_Motorized_Banca               34008.0  0.014438  0.134141  0.0  0.0   \n",
              "Number_of_Motorcycle/Tricycle           34008.0  0.303693  0.569344  0.0  0.0   \n",
              "\n",
              "                                        50%  75%   max  \n",
              "Number_of_bedrooms                      2.0  2.0   9.0  \n",
              "Number_of_Television                    1.0  1.0   6.0  \n",
              "Number_of_CD/VCD/DVD                    0.0  1.0   5.0  \n",
              "Number_of_Component/Stereo_set          0.0  0.0   5.0  \n",
              "Number_of_Refrigerator/Freezer          0.0  1.0   5.0  \n",
              "Number_of_Washing_Machine               0.0  1.0   3.0  \n",
              "Number_of_Airconditioner                0.0  0.0   5.0  \n",
              "Number_of_Car,_Jeep,_Van                0.0  0.0   5.0  \n",
              "Number_of_Landline/wireless_telephones  0.0  0.0   4.0  \n",
              "Number_of_Cellular_phone                2.0  3.0  10.0  \n",
              "Number_of_Personal_Computer             0.0  0.0   6.0  \n",
              "Number_of_Stove_with_Oven/Gas_Range     0.0  0.0   3.0  \n",
              "Number_of_Motorized_Banca               0.0  0.0   3.0  \n",
              "Number_of_Motorcycle/Tricycle           0.0  1.0   5.0  "
            ]
          },
          "execution_count": 498,
          "metadata": {},
          "output_type": "execute_result"
        }
      ],
      "source": [
        "_df.describe().T"
      ]
    },
    {
      "cell_type": "code",
      "execution_count": 501,
      "metadata": {},
      "outputs": [
        {
          "name": "stdout",
          "output_type": "stream",
          "text": [
            "Número de linhas com todos os valores nulos: 654\n"
          ]
        }
      ],
      "source": [
        "print('Número de linhas com todos os valores nulos:',\n",
        "      _df.loc[(_df==0).all(1)].shape[0]\n",
        ")"
      ]
    },
    {
      "cell_type": "code",
      "execution_count": null,
      "metadata": {},
      "outputs": [],
      "source": [
        "\"\"\"fig, axes = plt.subplots(4,4, figsize=(16,10))\n",
        "col_num = 0\n",
        "for i in range(4):\n",
        "    for j in range(4):\n",
        "        sns.histplot(_df.iloc[:,col_num], ax=axes[i,j])\n",
        "        axes[i,j].set_title(_df.columns[col_num], fontsize=8)\n",
        "        #axes[i,j].set_axis_off()\n",
        "        axes[i,j].set_yticklabels('')\n",
        "        axes[i,j].set_ylabel('')\n",
        "        axes[i,j].set_xlabel('')\n",
        "        col_num += 1\n",
        "        if col_num >= _df.shape[1]: break\n",
        "axes[i,2].set_axis_off()\n",
        "axes[i,3].set_axis_off()\"\"\""
      ]
    },
    {
      "cell_type": "markdown",
      "metadata": {},
      "source": [
        "#### Analisando a variável da predição <span style='color:DodgerBlue'>Total_Income</span>"
      ]
    },
    {
      "cell_type": "code",
      "execution_count": 546,
      "metadata": {},
      "outputs": [
        {
          "data": {
            "text/plain": [
              "count    3.400800e+04\n",
              "mean     2.996077e+05\n",
              "std      4.024694e+05\n",
              "min      1.203900e+04\n",
              "25%      1.303738e+05\n",
              "50%      2.021070e+05\n",
              "75%      3.401135e+05\n",
              "max      1.918740e+07\n",
              "Name: Total_Income, dtype: float64"
            ]
          },
          "execution_count": 546,
          "metadata": {},
          "output_type": "execute_result"
        }
      ],
      "source": [
        "df.Total_Income.describe()"
      ]
    },
    {
      "cell_type": "code",
      "execution_count": 548,
      "metadata": {},
      "outputs": [
        {
          "data": {
            "image/png": "[encoded data removed]",
            "text/plain": [
              "<Figure size 1200x600 with 2 Axes>"
            ]
          },
          "metadata": {},
          "output_type": "display_data"
        }
      ],
      "source": [
        "fig, ax = plt.subplots(1,2,figsize=(12,6))\n",
        "sns.histplot(x=df.Total_Income, \n",
        "    kde=True, color=colors['cyan'], ax=ax[0])\n",
        "ax[0].set_title('Total Income', fontsize=18, pad=15)\n",
        "sns.histplot(x=remove_outliers(df.Total_Income), \n",
        "    kde=True, color=colors['gray'], ax=ax[1])\n",
        "ax[1].set_title('Total Income (no outliers)', fontsize=18, pad=15);"
      ]
    },
    {
      "cell_type": "code",
      "execution_count": 541,
      "metadata": {},
      "outputs": [
        {
          "data": {
            "image/png": "[encoded data removed]",
            "text/plain": [
              "<Figure size 600x400 with 2 Axes>"
            ]
          },
          "metadata": {},
          "output_type": "display_data"
        }
      ],
      "source": [
        "fig, axes = plt.subplots(1,2, figsize=(6,4))\n",
        "sns.boxplot(y=df.Total_Income, ax=axes[0])\n",
        "sns.boxplot(y=remove_outliers(df.Total_Income), ax=axes[1])\n",
        "fig.tight_layout()"
      ]
    },
    {
      "cell_type": "markdown",
      "metadata": {},
      "source": [
        "A variável possuei um alto range de outliers, levaremos em conta na hora de montar o modelo."
      ]
    },
    {
      "cell_type": "markdown",
      "metadata": {},
      "source": []
    }
  ],
  "metadata": {
    "colab": {
      "name": "Projeto Estatistica.ipynb",
      "provenance": []
    },
    "kernelspec": {
      "display_name": "Python 3",
      "name": "python3"
    },
    "language_info": {
      "codemirror_mode": {
        "name": "ipython",
        "version": 3
      },
      "file_extension": ".py",
      "mimetype": "text/x-python",
      "name": "python",
      "nbconvert_exporter": "python",
      "pygments_lexer": "ipython3",
      "version": "3.9.7"
    }
  },
  "nbformat": 4,
  "nbformat_minor": 0
}
