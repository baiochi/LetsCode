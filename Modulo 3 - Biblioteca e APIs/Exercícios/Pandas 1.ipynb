{
 "cells": [
  {
   "cell_type": "code",
   "execution_count": 2,
   "metadata": {},
   "outputs": [],
   "source": [
    "import pandas as pd"
   ]
  },
  {
   "cell_type": "markdown",
   "metadata": {},
   "source": [
    "# <span style='color:DodgerBlue'>Ex 1</span>\n",
    "Em um concurso público foram contabilizados os números de pessoas inscritas (até a data inicialmente estabelecida para a inscrição) segundo os níveis de escolaridade: fundamental completo, médio completo, superior completo e pós-graduação completa. Segue abaixo a tabela com os valores observados.\n",
    "\n",
    "Nível de escolaridade | Inscritos  \n",
    "---|---\n",
    "Fundamental completo | 451  \n",
    "Médio completo | 627  \n",
    "Superior completo | 292  \n",
    "Pós-graduação completa | 95  \n",
    "\n",
    "Com base na tabela acima, crie uma Series com esses valores e calcule:  \n",
    "\n",
    "  \n",
    "(a) O número total de inscritos  \n",
    "(b) Número inscritos que possuem, pelo menos, o superior completo.  \n",
    "(c) Suponha que a inscrição foi prorrogada e, com isso, foi obtido um número adicional de inscrições: 68, 93, 22 e 0 inscritos a mais em cada uma das categorias de escolaridade apresentados na tabela acima (na mesma ordem). Assim, crie uma nova Series com esses valores.  \n",
    "(d) Utilizando as duas Series que você tem, calcule o número total de inscritos após a prorrogação do período de inscrições.  "
   ]
  },
  {
   "cell_type": "code",
   "execution_count": 3,
   "metadata": {},
   "outputs": [
    {
     "name": "stdout",
     "output_type": "stream",
     "text": [
      "A) Número total de inscritos: 1465\n",
      "B) Número inscritos que possuem, pelo menos, o superior completo: 387\n",
      "C) Inscricoes atualizadas:\n",
      "Fundamental completo      519\n",
      "Médio completo            720\n",
      "Superior completo         314\n",
      "Pós-graduação completa     95\n",
      "dtype: int64\n",
      "D) Número total de inscritos após a prorrogação do período de inscrições: 1648\n"
     ]
    }
   ],
   "source": [
    "series = pd.Series({\n",
    "    'Fundamental completo' : 451,\n",
    "    'Médio completo' : 627,\n",
    "    'Superior completo' : 292,\n",
    "    'Pós-graduação completa' : 95\n",
    "})\n",
    "\n",
    "novas_inscricoes = [68,93,22,0]\n",
    "series_atualizado = series + novas_inscricoes\n",
    "\n",
    "a = series.sum()\n",
    "b = series[[\"Superior completo\", \"Pós-graduação completa\"]].sum()\n",
    "c = series_atualizado\n",
    "d = series_atualizado.sum()\n",
    "print(f'A) Número total de inscritos: {a}')\n",
    "print(f'B) Número inscritos que possuem, pelo menos, o superior completo: {b}')\n",
    "print(f'C) Inscricoes atualizadas:\\n{c}')\n",
    "print(f'D) Número total de inscritos após a prorrogação do período de inscrições: {d}')"
   ]
  },
  {
   "cell_type": "markdown",
   "metadata": {},
   "source": [
    "# <span style='color:DodgerBlue'>Ex 2</span>\n",
    "Uma turma de cinco alunos foi submetida a uma avaliação e a nota de cada um dos alunos é apresentada na tabela abaixo:\n",
    "\n",
    "Nome do Aluno | Nota  \n",
    "---|---  \n",
    "Wilfred|2  \n",
    "Abbie|7  \n",
    "Harry|5.5  \n",
    "Julia|10  \n",
    "Carrie|6.2  \n",
    "  \n",
    "(a) Crie uma Series com os valores da tabela acima.  \n",
    "(b) Retorne o número de alunos que foram aprovados (considerando que a nota mínima para a aprovação é 7).  \n",
    "(c) Qual foi a nota média da turma.  \n",
    "(d) Obtenha o nome dos alunos que tiraram notas acima da média da turma.  "
   ]
  },
  {
   "cell_type": "code",
   "execution_count": 4,
   "metadata": {},
   "outputs": [
    {
     "name": "stdout",
     "output_type": "stream",
     "text": [
      "Series:\n",
      "Wilfred     2.0\n",
      "Abbie       7.0\n",
      "Harry       5.5\n",
      "Julia      10.0\n",
      "Carrie      6.2\n",
      "dtype: float64\n",
      "Número de alunos aprovados: 1\n",
      "Média da turma: 6.14\n",
      "Nome dos alunos acima da média: Julia\n"
     ]
    }
   ],
   "source": [
    "index = ['Wilfred','Abbie','Harry','Julia','Carrie']\n",
    "data = [2,7,5.5,10,6.2]\n",
    "series = pd.Series(data=data, index=index)\n",
    "\n",
    "a = series\n",
    "b = series[series>7].count()\n",
    "c = series.mean()\n",
    "d = ''.join(series[series>7].index.tolist())\n",
    "\n",
    "print(f'Series:\\n{a}')\n",
    "print(f'Número de alunos aprovados: {b}')\n",
    "print(f'Média da turma: {c}')\n",
    "print(f'Nome dos alunos acima da média: {d}')"
   ]
  },
  {
   "cell_type": "markdown",
   "metadata": {},
   "source": [
    "# <span style='color:DodgerBlue'>Ex 3</span>\n",
    "Crie um objeto DataFrame que contenha os dados da tabela abaixo, os quais se referem ao peso, altura e idade de cinco pessoas:  \n",
    "\n",
    "Peso (kg)|Altura (cm)|Idade  \n",
    "---|---|---\n",
    "72|180|31  \n",
    "80|170|21  \n",
    "60|175|16  \n",
    "90|174|28  \n",
    "100|185|23  \n",
    "\n",
    "Com base no DataFrame criado, realize o que pedido nos itens abaixo:  \n",
    "\n",
    "(a) Visualize apenas os dados da coluna que contém a altura das pessoas.  \n",
    "(b) Obtenha a idade média das pessoas.  \n",
    "(c) Obtenha os dados das pessoas que estão abaixo da altura média.  \n",
    "(d) Crie um nova coluna no DataFrame que contenha o IMC (Índice de Massa Corporal) de cada pessoa.  \n",
    "(e) Remova a coluna que contém a idade das pessoas.  \n",
    "(f) Salve esses dados do DataFrame em um arquivo csv.  "
   ]
  },
  {
   "cell_type": "code",
   "execution_count": 5,
   "metadata": {},
   "outputs": [
    {
     "name": "stdout",
     "output_type": "stream",
     "text": [
      "Visualizar as alturas:\n",
      " 0    180\n",
      "1    170\n",
      "2    175\n",
      "3    174\n",
      "4    185\n",
      "Name: Altura, dtype: int64\n",
      "Idade média: 23.8\n",
      "Dados de pessoas abaixo da altura média:\n",
      "   Peso  Altura  Idade\n",
      "1    80     170     21\n",
      "2    60     175     16\n",
      "3    90     174     28\n",
      "Adicionado a coluna do IMC:\n",
      "   Peso  Altura  Idade    IMC\n",
      "0    72     180     31  22.22\n",
      "1    80     170     21  27.68\n",
      "2    60     175     16  19.59\n",
      "3    90     174     28  29.73\n",
      "4   100     185     23  29.22\n",
      "Removendo a coluna das idades...\n",
      "   Peso  Altura    IMC\n",
      "0    72     180  22.22\n",
      "1    80     170  27.68\n",
      "2    60     175  19.59\n",
      "3    90     174  29.73\n",
      "4   100     185  29.22\n",
      "Salvando arquivo em csv...\n"
     ]
    }
   ],
   "source": [
    "df = pd.DataFrame({\n",
    "    'Peso' : [72,80,60,90,100],\n",
    "    'Altura' : [180,170,175,174,185],\n",
    "    'Idade' : [31,21,16,28,23]\n",
    "})\n",
    "\n",
    "print(f\"Visualizar as alturas:\\n {df['Altura']}\")\n",
    "\n",
    "print(f\"Idade média: {df['Idade'].mean()}\")\n",
    "\n",
    "print(f\"Dados de pessoas abaixo da altura média:\\n{df[df['Altura'] < df['Altura'].mean()]}\")\n",
    "\n",
    "# IMC = Peso(kg) / Altura(m)**2\n",
    "df['IMC'] = (df['Peso'] / ( (df['Altura']/100)  **2)).round(2)\n",
    "print(f\"Adicionado a coluna do IMC:\\n{df}\")\n",
    "\n",
    "df.pop('Idade')\n",
    "print(f\"Removendo a coluna das idades...\\n{df}\")\n",
    "\n",
    "print(\"Salvando arquivo em csv...\")\n",
    "df.to_csv('ex3-dataframe.csv', index=False)"
   ]
  },
  {
   "cell_type": "markdown",
   "metadata": {},
   "source": [
    "# <span style='color:DodgerBlue'>Ex 4</span>\n",
    "Carregue, em um objeto DataFrame, o arquivo CSV que você salvou no item (f) da questão anterior. Em seguida:  \n",
    "\n",
    "(a) Crie uma nova coluna que contenha o nome das pessoas (sinta-se à vontade para atribuir os nomes que preferir).  \n",
    "(b) Defina a nova coluna criada (com os nomes) como o índice (index) do seu DataFrame.  \n",
    "(c) Obtenha o nome das pessoas que são classificadas com Sobrepeso (IMC entre 25 e 29,9).  "
   ]
  },
  {
   "cell_type": "code",
   "execution_count": 6,
   "metadata": {},
   "outputs": [
    {
     "name": "stdout",
     "output_type": "stream",
     "text": [
      "Nome das pessoas com sobrepeso: LaBrie, Petrucci, Mangini\n"
     ]
    }
   ],
   "source": [
    "# lendo o arquivo\n",
    "df = pd.read_csv('ex3-dataframe.csv')\n",
    "\n",
    "# criando a series de nomes\n",
    "df['Nome'] = ['Myung','LaBrie','Rudess','Petrucci','Mangini']\n",
    "\n",
    "# definindo os index com os valores da nova coluna\n",
    "df.index = df['Nome'].tolist()\n",
    "\n",
    "# filtrando IMC > 25\n",
    "c = ', '.join(df[ (df['IMC']>25) & (df['IMC']<29.9) ].index.tolist())\n",
    "print(f'Nome das pessoas com sobrepeso: {c}')\n"
   ]
  },
  {
   "cell_type": "markdown",
   "metadata": {},
   "source": [
    "# <span style='color:DodgerBlue'>Ex 5</span>\n",
    "Carregue, em um objeto DataFrame, o mesmo dataset que você salvou na Questão 3. Em seguida:  \n",
    "  \n",
    "(a) Adicione uma nova coluna nesse DF chamada Classificação, que contenha a classificação de cada indivíduo, de acordo com o seu IMC. Para isso, consulte a tabela abaixo.  \n",
    "  \n",
    "IMC|Classificação|Obesidade (grau)\n",
    "---|---|---  \n",
    "Menor que 18,5|Magreza|0  \n",
    "Entre 18,5 e 24,9|Normal|0  \n",
    "Entre 25,0 e 29,9|Sobrepeso|I  \n",
    "Entre 30,0 e 39,9|Obesidade|II  \n",
    "Maior que 40,0|Obesidade Grave|III  \n",
    "    \n",
    "(b) Salve em DataFrame no formato xlsx.  "
   ]
  },
  {
   "cell_type": "code",
   "execution_count": 8,
   "metadata": {},
   "outputs": [
    {
     "name": "stderr",
     "output_type": "stream",
     "text": [
      "<ipython-input-8-daada80a6e52>:12: FutureWarning: As the xlwt package is no longer maintained, the xlwt engine will be removed in a future version of pandas. This is the only engine in pandas that supports writing in the xls format. Install openpyxl and write to an xlsx file instead. You can set the option io.excel.xls.writer to 'xlwt' to silence this warning. While this option is deprecated and will also raise a warning, it can be globally set and the warning suppressed.\n",
      "  df.to_excel('ex5-dataframe.xls', index=False)\n"
     ]
    }
   ],
   "source": [
    "# lendo o arquivo\n",
    "df = pd.read_csv('ex3-dataframe.csv')\n",
    "df_classificacao = pd.DataFrame\n",
    "# adicionando a tabela de clasificacao\n",
    "df.loc[df['IMC']<18.5,'Classificacao'] = 'Magreza'\n",
    "df.loc[(df['IMC']>=18.5)&(df['IMC']<24.9),'Classificacao'] = 'Normal'\n",
    "df.loc[(df['IMC']>=25)&(df['IMC']<29.9),'Classificacao'] = 'Sobrepeso'\n",
    "df.loc[(df['IMC']>=30)&(df['IMC']<39.9),'Classificacao'] = 'Obesidade'\n",
    "df.loc[df['IMC']>=40,'Classificacao'] = 'Obesidade Grave'\n",
    "\n",
    "# salvando tm xls\n",
    "df.to_excel('ex5-dataframe.xls', index=False)"
   ]
  }
 ],
 "metadata": {
  "interpreter": {
   "hash": "b3ba2566441a7c06988d0923437866b63cedc61552a5af99d1f4fb67d367b25f"
  },
  "kernelspec": {
   "display_name": "Python 3.8.8 64-bit (conda)",
   "name": "python3"
  },
  "language_info": {
   "codemirror_mode": {
    "name": "ipython",
    "version": 3
   },
   "file_extension": ".py",
   "mimetype": "text/x-python",
   "name": "python",
   "nbconvert_exporter": "python",
   "pygments_lexer": "ipython3",
   "version": "3.8.8"
  },
  "orig_nbformat": 4
 },
 "nbformat": 4,
 "nbformat_minor": 2
}
