{
 "cells": [
  {
   "cell_type": "code",
   "execution_count": 2,
   "source": [
    "import pandas as pd"
   ],
   "outputs": [],
   "metadata": {}
  },
  {
   "cell_type": "markdown",
   "source": [
    "# <span style='color:DodgerBlue'>Ex 1</span>\r\n",
    "Em um concurso público foram contabilizados os números de pessoas inscritas (até a data inicialmente estabelecida para a inscrição) segundo os níveis de escolaridade: fundamental completo, médio completo, superior completo e pós-graduação completa. Segue abaixo a tabela com os valores observados.\r\n",
    "\r\n",
    "Nível de escolaridade | Inscritos  \r\n",
    "---|---\r\n",
    "Fundamental completo | 451  \r\n",
    "Médio completo | 627  \r\n",
    "Superior completo | 292  \r\n",
    "Pós-graduação completa | 95  \r\n",
    "\r\n",
    "Com base na tabela acima, crie uma Series com esses valores e calcule:  \r\n",
    "\r\n",
    "  \r\n",
    "(a) O número total de inscritos  \r\n",
    "(b) Número inscritos que possuem, pelo menos, o superior completo.  \r\n",
    "(c) Suponha que a inscrição foi prorrogada e, com isso, foi obtido um número adicional de inscrições: 68, 93, 22 e 0 inscritos a mais em cada uma das categorias de escolaridade apresentados na tabela acima (na mesma ordem). Assim, crie uma nova Series com esses valores.  \r\n",
    "(d) Utilizando as duas Series que você tem, calcule o número total de inscritos após a prorrogação do período de inscrições.  "
   ],
   "metadata": {}
  },
  {
   "cell_type": "code",
   "execution_count": 3,
   "source": [
    "series = pd.Series({\r\n",
    "    'Fundamental completo' : 451,\r\n",
    "    'Médio completo' : 627,\r\n",
    "    'Superior completo' : 292,\r\n",
    "    'Pós-graduação completa' : 95\r\n",
    "})\r\n",
    "\r\n",
    "novas_inscricoes = [68,93,22,0]\r\n",
    "series_atualizado = series + novas_inscricoes\r\n",
    "\r\n",
    "a = series.sum()\r\n",
    "b = series[[\"Superior completo\", \"Pós-graduação completa\"]].sum()\r\n",
    "c = series_atualizado\r\n",
    "d = series_atualizado.sum()\r\n",
    "print(f'A) Número total de inscritos: {a}')\r\n",
    "print(f'B) Número inscritos que possuem, pelo menos, o superior completo: {b}')\r\n",
    "print(f'C) Inscricoes atualizadas:\\n{c}')\r\n",
    "print(f'D) Número total de inscritos após a prorrogação do período de inscrições: {d}')"
   ],
   "outputs": [
    {
     "output_type": "stream",
     "name": "stdout",
     "text": [
      "A) Número total de inscritos: 1465\n",
      "B) Número inscritos que possuem, pelo menos, o superior completo: 387\n",
      "C) Inscricoes atualizadas:\n",
      "Fundamental completo      519\n",
      "Médio completo            720\n",
      "Superior completo         314\n",
      "Pós-graduação completa     95\n",
      "dtype: int64\n",
      "D) Número total de inscritos após a prorrogação do período de inscrições: 1648\n"
     ]
    }
   ],
   "metadata": {}
  },
  {
   "cell_type": "markdown",
   "source": [
    "# <span style='color:DodgerBlue'>Ex 2</span>\r\n",
    "Uma turma de cinco alunos foi submetida a uma avaliação e a nota de cada um dos alunos é apresentada na tabela abaixo:\r\n",
    "\r\n",
    "Nome do Aluno | Nota  \r\n",
    "---|---  \r\n",
    "Wilfred|2  \r\n",
    "Abbie|7  \r\n",
    "Harry|5.5  \r\n",
    "Julia|10  \r\n",
    "Carrie|6.2  \r\n",
    "  \r\n",
    "(a) Crie uma Series com os valores da tabela acima.  \r\n",
    "(b) Retorne o número de alunos que foram aprovados (considerando que a nota mínima para a aprovação é 7).  \r\n",
    "(c) Qual foi a nota média da turma.  \r\n",
    "(d) Obtenha o nome dos alunos que tiraram notas acima da média da turma.  "
   ],
   "metadata": {}
  },
  {
   "cell_type": "code",
   "execution_count": 4,
   "source": [
    "index = ['Wilfred','Abbie','Harry','Julia','Carrie']\r\n",
    "data = [2,7,5.5,10,6.2]\r\n",
    "series = pd.Series(data=data, index=index)\r\n",
    "\r\n",
    "a = series\r\n",
    "b = series[series>7].count()\r\n",
    "c = series.mean()\r\n",
    "d = ''.join(series[series>7].index.tolist())\r\n",
    "\r\n",
    "print(f'Series:\\n{a}')\r\n",
    "print(f'Número de alunos aprovados: {b}')\r\n",
    "print(f'Média da turma: {c}')\r\n",
    "print(f'Nome dos alunos acima da média: {d}')"
   ],
   "outputs": [
    {
     "output_type": "stream",
     "name": "stdout",
     "text": [
      "Series:\n",
      "Wilfred     2.0\n",
      "Abbie       7.0\n",
      "Harry       5.5\n",
      "Julia      10.0\n",
      "Carrie      6.2\n",
      "dtype: float64\n",
      "Número de alunos aprovados: 1\n",
      "Média da turma: 6.14\n",
      "Nome dos alunos acima da média: Julia\n"
     ]
    }
   ],
   "metadata": {}
  },
  {
   "cell_type": "markdown",
   "source": [
    "# <span style='color:DodgerBlue'>Ex 3</span>\r\n",
    "Crie um objeto DataFrame que contenha os dados da tabela abaixo, os quais se referem ao peso, altura e idade de cinco pessoas:  \r\n",
    "\r\n",
    "Peso (kg)|Altura (cm)|Idade  \r\n",
    "---|---|---\r\n",
    "72|180|31  \r\n",
    "80|170|21  \r\n",
    "60|175|16  \r\n",
    "90|174|28  \r\n",
    "100|185|23  \r\n",
    "\r\n",
    "Com base no DataFrame criado, realize o que pedido nos itens abaixo:  \r\n",
    "\r\n",
    "(a) Visualize apenas os dados da coluna que contém a altura das pessoas.  \r\n",
    "(b) Obtenha a idade média das pessoas.  \r\n",
    "(c) Obtenha os dados das pessoas que estão abaixo da altura média.  \r\n",
    "(d) Crie um nova coluna no DataFrame que contenha o IMC (Índice de Massa Corporal) de cada pessoa.  \r\n",
    "(e) Remova a coluna que contém a idade das pessoas.  \r\n",
    "(f) Salve esses dados do DataFrame em um arquivo csv.  "
   ],
   "metadata": {}
  },
  {
   "cell_type": "code",
   "execution_count": 5,
   "source": [
    "df = pd.DataFrame({\r\n",
    "    'Peso' : [72,80,60,90,100],\r\n",
    "    'Altura' : [180,170,175,174,185],\r\n",
    "    'Idade' : [31,21,16,28,23]\r\n",
    "})\r\n",
    "\r\n",
    "print(f\"Visualizar as alturas:\\n {df['Altura']}\")\r\n",
    "\r\n",
    "print(f\"Idade média: {df['Idade'].mean()}\")\r\n",
    "\r\n",
    "print(f\"Dados de pessoas abaixo da altura média:\\n{df[df['Altura'] < df['Altura'].mean()]}\")\r\n",
    "\r\n",
    "# IMC = Peso(kg) / Altura(m)**2\r\n",
    "df['IMC'] = (df['Peso'] / ( (df['Altura']/100)  **2)).round(2)\r\n",
    "print(f\"Adicionado a coluna do IMC:\\n{df}\")\r\n",
    "\r\n",
    "df.pop('Idade')\r\n",
    "print(f\"Removendo a coluna das idades...\\n{df}\")\r\n",
    "\r\n",
    "print(\"Salvando arquivo em csv...\")\r\n",
    "df.to_csv('ex3-dataframe.csv', index=False)"
   ],
   "outputs": [
    {
     "output_type": "stream",
     "name": "stdout",
     "text": [
      "Visualizar as alturas:\n",
      " 0    180\n",
      "1    170\n",
      "2    175\n",
      "3    174\n",
      "4    185\n",
      "Name: Altura, dtype: int64\n",
      "Idade média: 23.8\n",
      "Dados de pessoas abaixo da altura média:\n",
      "   Peso  Altura  Idade\n",
      "1    80     170     21\n",
      "2    60     175     16\n",
      "3    90     174     28\n",
      "Adicionado a coluna do IMC:\n",
      "   Peso  Altura  Idade    IMC\n",
      "0    72     180     31  22.22\n",
      "1    80     170     21  27.68\n",
      "2    60     175     16  19.59\n",
      "3    90     174     28  29.73\n",
      "4   100     185     23  29.22\n",
      "Removendo a coluna das idades...\n",
      "   Peso  Altura    IMC\n",
      "0    72     180  22.22\n",
      "1    80     170  27.68\n",
      "2    60     175  19.59\n",
      "3    90     174  29.73\n",
      "4   100     185  29.22\n",
      "Salvando arquivo em csv...\n"
     ]
    }
   ],
   "metadata": {}
  },
  {
   "cell_type": "markdown",
   "source": [
    "# <span style='color:DodgerBlue'>Ex 4</span>\r\n",
    "Carregue, em um objeto DataFrame, o arquivo CSV que você salvou no item (f) da questão anterior. Em seguida:  \r\n",
    "\r\n",
    "(a) Crie uma nova coluna que contenha o nome das pessoas (sinta-se à vontade para atribuir os nomes que preferir).  \r\n",
    "(b) Defina a nova coluna criada (com os nomes) como o índice (index) do seu DataFrame.  \r\n",
    "(c) Obtenha o nome das pessoas que são classificadas com Sobrepeso (IMC entre 25 e 29,9).  "
   ],
   "metadata": {}
  },
  {
   "cell_type": "code",
   "execution_count": 6,
   "source": [
    "# lendo o arquivo\r\n",
    "df = pd.read_csv('ex3-dataframe.csv')\r\n",
    "\r\n",
    "# criando a series de nomes\r\n",
    "df['Nome'] = ['Myung','LaBrie','Rudess','Petrucci','Mangini']\r\n",
    "\r\n",
    "# definindo os index com os valores da nova coluna\r\n",
    "df.index = df['Nome'].tolist()\r\n",
    "\r\n",
    "# filtrando IMC > 25\r\n",
    "c = ', '.join(df[ (df['IMC']>25) & (df['IMC']<29.9) ].index.tolist())\r\n",
    "print(f'Nome das pessoas com sobrepeso: {c}')\r\n"
   ],
   "outputs": [
    {
     "output_type": "stream",
     "name": "stdout",
     "text": [
      "Nome das pessoas com sobrepeso: LaBrie, Petrucci, Mangini\n"
     ]
    }
   ],
   "metadata": {}
  },
  {
   "cell_type": "markdown",
   "source": [
    "# <span style='color:DodgerBlue'>Ex 5</span>\r\n",
    "Carregue, em um objeto DataFrame, o mesmo dataset que você salvou na Questão 3. Em seguida:  \r\n",
    "  \r\n",
    "(a) Adicione uma nova coluna nesse DF chamada Classificação, que contenha a classificação de cada indivíduo, de acordo com o seu IMC. Para isso, consulte a tabela abaixo.  \r\n",
    "  \r\n",
    "IMC|Classificação|Obesidade (grau)\r\n",
    "---|---|---  \r\n",
    "Menor que 18,5|Magreza|0  \r\n",
    "Entre 18,5 e 24,9|Normal|0  \r\n",
    "Entre 25,0 e 29,9|Sobrepeso|I  \r\n",
    "Entre 30,0 e 39,9|Obesidade|II  \r\n",
    "Maior que 40,0|Obesidade Grave|III  \r\n",
    "    \r\n",
    "(b) Salve em DataFrame no formato xlsx.  "
   ],
   "metadata": {}
  },
  {
   "cell_type": "code",
   "execution_count": 8,
   "source": [
    "# lendo o arquivo\r\n",
    "df = pd.read_csv('ex3-dataframe.csv')\r\n",
    "df_classificacao = pd.DataFrame\r\n",
    "# adicionando a tabela de clasificacao\r\n",
    "df.loc[df['IMC']<18.5,'Classificacao'] = 'Magreza'\r\n",
    "df.loc[(df['IMC']>=18.5)&(df['IMC']<24.9),'Classificacao'] = 'Normal'\r\n",
    "df.loc[(df['IMC']>=25)&(df['IMC']<29.9),'Classificacao'] = 'Sobrepeso'\r\n",
    "df.loc[(df['IMC']>=30)&(df['IMC']<39.9),'Classificacao'] = 'Obesidade'\r\n",
    "df.loc[df['IMC']>=40,'Classificacao'] = 'Obesidade Grave'\r\n",
    "\r\n",
    "# salvando tm xls\r\n",
    "df.to_excel('ex5-dataframe.xls', index=False)"
   ],
   "outputs": [
    {
     "output_type": "stream",
     "name": "stderr",
     "text": [
      "<ipython-input-8-daada80a6e52>:12: FutureWarning: As the xlwt package is no longer maintained, the xlwt engine will be removed in a future version of pandas. This is the only engine in pandas that supports writing in the xls format. Install openpyxl and write to an xlsx file instead. You can set the option io.excel.xls.writer to 'xlwt' to silence this warning. While this option is deprecated and will also raise a warning, it can be globally set and the warning suppressed.\n",
      "  df.to_excel('ex5-dataframe.xls', index=False)\n"
     ]
    }
   ],
   "metadata": {}
  }
 ],
 "metadata": {
  "orig_nbformat": 4,
  "language_info": {
   "name": "python",
   "version": "3.8.8",
   "mimetype": "text/x-python",
   "codemirror_mode": {
    "name": "ipython",
    "version": 3
   },
   "pygments_lexer": "ipython3",
   "nbconvert_exporter": "python",
   "file_extension": ".py"
  },
  "kernelspec": {
   "name": "python3",
   "display_name": "Python 3.8.8 64-bit (conda)"
  },
  "interpreter": {
   "hash": "b3ba2566441a7c06988d0923437866b63cedc61552a5af99d1f4fb67d367b25f"
  }
 },
 "nbformat": 4,
 "nbformat_minor": 2
}