{
 "cells": [
  {
   "cell_type": "markdown",
   "metadata": {},
   "source": [
    "# <span style='color:DodgerBlue'>Ex 1</span>\n",
    "Printe os elementos dos seguintes dois vetores usando apenas um for:\n",
    "\n",
    "arr = np.array([[[1, 2, 3], [4, 5, 6]], [[7, 8, 9], [10, 11, 12]]])\n",
    "\n",
    "Depois, faça o mesmo usando numpy (usando a função nditer) e deixe um comentário sobre a diferença dos dois métodos.\n",
    "\n",
    "arr = np.array([[[1, 2, 3], [4, 5, 6]], [[7, 8, 9], [10, 11, 12]]])"
   ]
  },
  {
   "cell_type": "code",
   "execution_count": null,
   "metadata": {},
   "outputs": [],
   "source": []
  },
  {
   "cell_type": "markdown",
   "metadata": {},
   "source": [
    "# <span style='color:DodgerBlue'>Ex 2</span>\n",
    "Enunciado\n",
    "Peça para o usuário uma lista com as comidas favoritas dele, depois transforme isso em um objeto numpy. Agora transformado, elimine todas as comidas que começam com uma vogal. Mostre o resultado.\n",
    "\n",
    "Exemplo:\n",
    "\n",
    "Entrada: [maçã, uva, morango, melancia, acelga]\n",
    "\n",
    "Saída: [maçã, morango, melancia]"
   ]
  },
  {
   "cell_type": "code",
   "execution_count": null,
   "metadata": {},
   "outputs": [],
   "source": []
  },
  {
   "cell_type": "markdown",
   "metadata": {},
   "source": [
    "# <span style='color:DodgerBlue'>Ex 3</span>\n",
    "Imprima a dimensão dos seguintes objetos numpy:\n",
    "\n",
    "a = np.array(2)\n",
    "\n",
    "b = np.array([1, 2, 3, 4, 5])\n",
    "\n",
    "c = np.array([[1, 2, 3], [4, 5, 6]])\n",
    "\n",
    "d = np.array([[[1, 2, 3], [4, 5, 6]], [[7, 8, 9], [10, 11, 12]]])"
   ]
  },
  {
   "cell_type": "code",
   "execution_count": null,
   "metadata": {},
   "outputs": [],
   "source": []
  },
  {
   "cell_type": "markdown",
   "metadata": {},
   "source": [
    "# <span style='color:DodgerBlue'>Ex 4</span>\n",
    "Transforme o array em uma matriz 4 por 3 utilizando numpy.\n",
    "\n",
    "arr = [1, 2, 3, 4, 'Amelia, 'Bruna, 'Carolina', 'Débora', True, False, False, True]\n",
    "\n",
    "Depois, faça o mesmo para uma matriz 3 por 4."
   ]
  },
  {
   "cell_type": "code",
   "execution_count": null,
   "metadata": {},
   "outputs": [],
   "source": []
  },
  {
   "cell_type": "markdown",
   "metadata": {},
   "source": [
    "# <span style='color:DodgerBlue'>Ex 5</span>\n",
    "Transforme o seguinte array em uma matriz 3D 3x3x3:\n",
    "\n",
    "arr = range(27)\n",
    "\n",
    "Deixe um comentário explicando o que significa uma matriz 3D.\n"
   ]
  },
  {
   "cell_type": "code",
   "execution_count": null,
   "metadata": {},
   "outputs": [],
   "source": []
  },
  {
   "cell_type": "markdown",
   "metadata": {},
   "source": [
    "# <span style='color:DodgerBlue'>Ex 6</span>\n",
    "Tente transformar o seguinte array em uma matriz 3x3x3\n",
    "\n",
    "arr = [1, 2, 3, 4, 5, 6, 7, 8]\n",
    "\n",
    "Funciona? Se sim, explique o motivo. Se não, explique o erro."
   ]
  },
  {
   "cell_type": "code",
   "execution_count": null,
   "metadata": {},
   "outputs": [],
   "source": []
  },
  {
   "cell_type": "markdown",
   "metadata": {},
   "source": [
    "# <span style='color:DodgerBlue'>Ex 7</span>\n",
    "Percorra o seguinte array utilizando for encaixado:\n",
    "\n",
    "arr = [[[1, 2], [3, 4]], [[5, 6], [7, 8]]]\n",
    "\n",
    "Agora, percorra o mesmo array utilizando a função nditer de numpy."
   ]
  },
  {
   "cell_type": "code",
   "execution_count": null,
   "metadata": {},
   "outputs": [],
   "source": []
  },
  {
   "cell_type": "markdown",
   "metadata": {},
   "source": [
    "# <span style='color:DodgerBlue'>Ex 8</span>\n",
    "Percorra os indexes do seguinte array utilizando for encaixado:\n",
    "\n",
    "arr = [[[1, 2], [3, 4]], [[5, 6], [7, 8]]]\n",
    "\n",
    "Agora faça o mesmo trabalho utilizando a função ndenumerate."
   ]
  },
  {
   "cell_type": "code",
   "execution_count": null,
   "metadata": {},
   "outputs": [],
   "source": []
  },
  {
   "cell_type": "markdown",
   "metadata": {},
   "source": [
    "# <span style='color:DodgerBlue'>Ex 9</span>\n",
    "Junte os dois seguintes arrays na horizontal:\n",
    "\n",
    "arr1 = [1, 2, 3]\n",
    "\n",
    "arr2 = [4, 5, 6]\n",
    "\n",
    "Depois, os junte verticalmente."
   ]
  },
  {
   "cell_type": "code",
   "execution_count": null,
   "metadata": {},
   "outputs": [],
   "source": []
  },
  {
   "cell_type": "markdown",
   "metadata": {},
   "source": [
    "# <span style='color:Tomato'>DESAFIO 1</span> \n",
    "Utilizando manipulação de arrays, ache os indexes do array cujo valor possua apenas 2 vogais no nome usando numpy.\n",
    "\n",
    "frutas = ['banana', 'morango, 'uva', 'pitaia', 'abacate', 'abacaxi', 'acerola', 'jenipapo', 'kiwi']"
   ]
  },
  {
   "cell_type": "code",
   "execution_count": null,
   "metadata": {},
   "outputs": [],
   "source": []
  },
  {
   "cell_type": "markdown",
   "metadata": {},
   "source": [
    "# <span style='color:DodgerBlue'>Ex 11</span>\n",
    "a) Tranforme o seguinte array 2D em dois arrays 2D:\n",
    "\n",
    "arr = [[1, 2], [3, 4], [5, 6], [7, 8]]\n",
    "\n",
    "b) Transforme o seguinte array em três arrays com apenas uma coluna:\n",
    "\n",
    "arr = [[1, 2, 3], [4, 5, 6], [7, 8, 9]]"
   ]
  },
  {
   "cell_type": "code",
   "execution_count": null,
   "metadata": {},
   "outputs": [],
   "source": []
  },
  {
   "cell_type": "markdown",
   "metadata": {},
   "source": [
    "# <span style='color:Tomato'>DESAFIO</span> \n",
    "Utilizando manipulação de arrays, vamos seguir um conjunto de passos para organizar alguns dados. Teremos nesse seguinte array uma ordem que segue:\n",
    "\n",
    "[Nome do aluno, idade, 'gênero', signo, altura, nota do 1° semestre, nota do 2° bimestre, se está ou não inscrito no próximo ano da escola, nome do outro aluno, idade do outro aluno...]\n",
    "\n",
    "arr = ['Amélia', 13, 'F', 'peixes', 1.51, 9, 7, True, 'Bruno', 14, 'O', 'leão', 1.60, 4, 10, False, 'João', 14, 'M', 'escorpião', 1.58, 8, 9, True, 'Jordana', 13, 'F', 'escorpião', 1.72, 9, 9, False]\n",
    "\n",
    "a) Enumere os indexes de todas as informações que são do tipo string.\n",
    "\n",
    "b) Separe essas informações do objeto arr de forma que cada aluno tenha seu próprio array.\n",
    "\n",
    "c) Separe em duas colunas, a primeira com o nome, a idade, o gênero e o signo e a segunda com a altura, nota do primeiro bimestre, nota do segundo bimestre e se está ou não inscrito no próximo ano.\n",
    "\n",
    "d) Elimine o gênero de todos os arrays cujos alunos tem menos de 14 anos."
   ]
  }
 ],
 "metadata": {
  "interpreter": {
   "hash": "b3ba2566441a7c06988d0923437866b63cedc61552a5af99d1f4fb67d367b25f"
  },
  "kernelspec": {
   "display_name": "Python 3.8.8 64-bit (conda)",
   "name": "python3"
  },
  "language_info": {
   "name": "python",
   "version": "3.8.8"
  },
  "orig_nbformat": 4
 },
 "nbformat": 4,
 "nbformat_minor": 2
}
