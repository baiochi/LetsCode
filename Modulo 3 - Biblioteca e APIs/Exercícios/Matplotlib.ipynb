{
 "cells": [
  {
   "cell_type": "markdown",
   "metadata": {},
   "source": [
    "# <span style='color:DodgerBlue'>Ex 1</span>\n",
    "Crie um array x com 200 pontos, começando de -10 até 10. Depois calcule as seguintes funções sobre esse array:\n",
    "\n",
    "y1 = sen(x) / x\n",
    "y2 = 1 / (1-e^(-x))\n",
    "\n",
    "Por fim, plot essas duas funções, em função do x, ambas em uma mesma figura, porém, em dois axes distintos (um abaixo do outro)."
   ]
  },
  {
   "cell_type": "code",
   "execution_count": null,
   "metadata": {},
   "outputs": [],
   "source": []
  },
  {
   "cell_type": "markdown",
   "metadata": {},
   "source": [
    "# <span style='color:DodgerBlue'>Ex 2</span>\n",
    "Carregue o arquivo avocado.csv e, em seguida, siga as instruções abaixo:\n",
    "\n",
    "(a) Obtenha apenas os dados desse dataset que são referentes à região da Califórnia (California), no ano de 2017; e salva-os em um novo dataframe.  \n",
    "(b) A partir do dataframe obtido no item (a), obtenha apenas os dados referentes à abacates do tipo convencional; em seguida, salve em um novo dataframe.  \n",
    "(c) Utilizando o dataframe salvo no item (b), crie um gráfico de linha que apresente a variação do preço médio do abacate ao longo do ano de 2017 (datas) na região da Califórnia.  \n",
    "(d) Utilizando o dataframe salvo no item (a), crie um gráfico de pizza que apresente o percentual do volume total de abacates vendidos para cada tipo: convencional e orgânico.  \n",
    "\n",
    "<a href='https://s3-sa-east-1.amazonaws.com/lcpi/1f947ca4-bc5d-4c03-afff-53fe59a3bd97.csv'>Clique aqui</a> para fazer o download do dataset."
   ]
  },
  {
   "cell_type": "code",
   "execution_count": null,
   "metadata": {},
   "outputs": [],
   "source": []
  },
  {
   "cell_type": "markdown",
   "metadata": {},
   "source": [
    "# <span style='color:DodgerBlue'>Ex 3</span>\n",
    "\n",
    "Carregue o dataset contido no arquivo cholera-dataset.csv em um objeto DataFrame. Esse dataset contém dados referentes ao número de casos reportados de cólera em cada país, desde 1950 até 2016, além do número de mortes provocadas pela cólera; dentre outras informações.  \n",
    "\n",
    "Após carregar esse dataset, obtenha:  \n",
    " \n",
    "(a) Apenas os dados da Índia.  \n",
    "(b) Crie um gráfico de barras que apresente o número de casos reportados e de mortes causadas pela cólera na Índia, ambos em um mesmo axes, em função do ano.  \n",
    "\n",
    "<a href='https://s3-sa-east-1.amazonaws.com/lcpi/9b1dc2c1-32fb-488d-90ff-db8b6f13ff8d.csv'>Clique aqui</a> para fazer o download do dataset."
   ]
  },
  {
   "cell_type": "code",
   "execution_count": null,
   "metadata": {},
   "outputs": [],
   "source": []
  },
  {
   "cell_type": "markdown",
   "metadata": {},
   "source": [
    "# <span style='color:DodgerBlue'>Ex 4</span>\n",
    "Carregue os dados do arquivo googleplaystore.csv e, em seguida:  \n",
    "\n",
    "(a) Crie um gráfico de pizza que apresente o percentual dos gêneros (Genres) dos aplicativos. Como existem muitos gêneros, considere apenas os 10 primeiros.  \n",
    "(b) Crie um gráfico de barras que contenha a quantidade de aplicativos que foram desenvolvidos para cada versão específica (ou conjunto de versões) do Android, especificadas na coluna Android Ver.  \n",
    "\n",
    "<a href='https://s3-sa-east-1.amazonaws.com/lcpi/e1c2115b-1725-4525-9fd5-0ce57fb5c408.csv'>Clique aqui</a> para fazer o download do dataset."
   ]
  },
  {
   "cell_type": "code",
   "execution_count": null,
   "metadata": {},
   "outputs": [],
   "source": []
  },
  {
   "cell_type": "markdown",
   "metadata": {},
   "source": [
    "# <span style='color:DodgerBlue'>Ex 5</span>\n",
    "Carregue o arquivo houses_to_rent.csv. Em seguida:  \n",
    "\n",
    "(a) Crie um gráfico de dispersão para visualizar uma relação entre a área e o preço total do aluguel do imóvel.  \n",
    "(b) Visualize os outliers presentes na coluna da área utilizando o boxplot.  \n",
    "(c) Faça o mesmo que foi solicitado no item anterior, porém, para a coluna do preço total do aluguel.  \n",
    "(d) Elimine os outliers de ambas as colunas utilizando o método quantile. (e) Crie novamente um gráfico de dispersão dos dados da área e preço total do aluguel do imóvel; dessa vez, após a remoção dos outliers de ambas as colunas.  \n",
    "\n",
    "<a href='https://s3-sa-east-1.amazonaws.com/lcpi/bc1625bb-909a-4a15-8107-6e4047ec6cd4.csv'>Clique aqui</a> para fazer o download do dataset.\n"
   ]
  },
  {
   "cell_type": "code",
   "execution_count": null,
   "metadata": {},
   "outputs": [],
   "source": []
  }
 ],
 "metadata": {
  "interpreter": {
   "hash": "b3ba2566441a7c06988d0923437866b63cedc61552a5af99d1f4fb67d367b25f"
  },
  "kernelspec": {
   "display_name": "Python 3.8.8 64-bit (conda)",
   "name": "python3"
  },
  "language_info": {
   "name": "python",
   "version": "3.8.8"
  },
  "orig_nbformat": 4
 },
 "nbformat": 4,
 "nbformat_minor": 2
}
