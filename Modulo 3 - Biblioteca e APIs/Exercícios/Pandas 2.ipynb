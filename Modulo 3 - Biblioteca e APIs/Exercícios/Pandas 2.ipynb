{
 "cells": [
  {
   "cell_type": "markdown",
   "metadata": {},
   "source": [
    "# <span style='color:DodgerBlue'>Ex 1</span>\n",
    "\n",
    "O arquivo avocado.csv consiste em um dataset que contém dados sobre vendas de abacates (avocado, em inglês) em diversas regiões dos Estados Unidos. Essa dataset contém as seguintes colunas:  \n",
    "\n",
    "Date - a data da observação  \n",
    "AveragePrice - o preço médio de um único abacate  \n",
    "year - o ano  \n",
    "region - a cidade ou região da observação  \n",
    "Total Volume - volume total de abacates vendidos  \n",
    "Além das informações acima, contidas no arquivo avocado.csv, o tipo do abacate (convencional ou orgânico) também seria uma informação importante para a sua análise. Suponhamos que você conseguiu essas informações para cada uma das observações do arquivo avocado.csv, na mesma ordem, e salvou-as no arquivo avocado_type.csv. Portanto, tudo o que você precisa é juntar esses dois arquivos em um mesmo DataFrame. E, em seguida, salve-o em um arquivo csv.  \n",
    "\n",
    "PS. Caso queira criar uma Series com os dados aleatórios para o tipo de abacate, utilize o código abaixo:  \n",
    "\n",
    "tipos = pd.Series(np.random.randint(0, 2, df_avocado.shape[0]))  \n",
    "tipos = tipos.map({0: 'convencional', 1:'orgânico'})  "
   ]
  },
  {
   "cell_type": "code",
   "execution_count": null,
   "metadata": {},
   "outputs": [],
   "source": []
  },
  {
   "cell_type": "markdown",
   "metadata": {},
   "source": [
    "# <span style='color:DodgerBlue'>Ex 2</span>\n",
    "\n",
    "Carregue o arquivo csv que você salvou na questão anterior e, em seguida, obtenha o que é solicitado nos itens elencados abaixo:  \n",
    "\n",
    "(a) A quantidade de abacates do tipo convecional e do tipo orgânico.  \n",
    "(b) A quantidade de registros (linhas) de abacates vendidos para cada região.  \n",
    "(c) Para que todos os labels das colunas fiquem padronizados, renomeie aqueles que estão iniciando em letra minúscula para que iniciem em letra maiúscula.  \n",
    "(d) Uma vez que você já possui uma coluna com a data, remova a coluna que apresenta o ano.  "
   ]
  },
  {
   "cell_type": "code",
   "execution_count": null,
   "metadata": {},
   "outputs": [],
   "source": []
  },
  {
   "cell_type": "markdown",
   "metadata": {},
   "source": [
    "# <span style='color:DodgerBlue'>Ex 3</span>\n",
    "\n",
    "Carregue, em um objeto DataFrame, o mesmo dataset que você salvou na questão Q1, agrupe os dados do DF pelo tipo do abacate e, em seguida, obtenha:  \n",
    " \n",
    "(a) A volume total de abacates vendidos para cada tipo.  \n",
    "(b) O preço médio dos abacates vendidos para cada tipo.  "
   ]
  },
  {
   "cell_type": "code",
   "execution_count": null,
   "metadata": {},
   "outputs": [],
   "source": []
  },
  {
   "cell_type": "markdown",
   "metadata": {},
   "source": [
    "# <span style='color:DodgerBlue'>Ex 4</span>\n",
    "\n",
    "O arquivo googleplaystore.csv é um dataset que contém diversas informações sobre aplicativos disponíveis para download na Google Play Store.   \n",
    "Você deve utilizar esse dataset para fazer o mesmo que foi solicitado na questão anterior. Ou seja, carregue-o em um objeto DataFrame e verifique os dados contidos nas colunas desse DF. Logo após, verifique se existem dados duplicados e/ou ausentes nesse dataset.  \n",
    "\n",
    "Caso existam dados duplicados, remova-os. Caso existam dados ausentes, você pode removê-los ou pensar em alguma maneira de preenchê-los.  "
   ]
  },
  {
   "cell_type": "code",
   "execution_count": null,
   "metadata": {},
   "outputs": [],
   "source": []
  },
  {
   "cell_type": "markdown",
   "metadata": {},
   "source": [
    "# <span style='color:DodgerBlue'>Ex 5</span>\n",
    "\n",
    "O arquivo houses_to_rent.csv consiste em um dataset que contém dados sobre casas para alugar no Brasil.  \n",
    "Carregue-o em um objeto DataFrame e verifique os dados contidos nas colunas desse DF (você pode utilizar os métodos head, tail e info). Logo após, verifique se existem dados duplicados e/ou ausentes nesse dataset.  \n",
    "\n",
    "Caso existam dados duplicados, remova-os. Caso existam dados ausentes, você pode removê-los ou pensar em alguma maneira de preenchê-los.  "
   ]
  },
  {
   "cell_type": "code",
   "execution_count": null,
   "metadata": {},
   "outputs": [],
   "source": []
  }
 ],
 "metadata": {
  "language_info": {
   "name": "python"
  },
  "orig_nbformat": 4
 },
 "nbformat": 4,
 "nbformat_minor": 2
}
