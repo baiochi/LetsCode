{
 "cells": [
  {
   "cell_type": "code",
   "execution_count": 1,
   "metadata": {},
   "outputs": [],
   "source": [
    "import numpy as np"
   ]
  },
  {
   "cell_type": "markdown",
   "metadata": {},
   "source": [
    "# <span style='color:DodgerBlue'>Ex 1</span>\n",
    "Printe os elementos dos seguintes dois vetores usando apenas um for:\n",
    "\n",
    "arr = np.array([[[1, 2, 3], [4, 5, 6]], [[7, 8, 9], [10, 11, 12]]])\n",
    "\n",
    "Depois, faça o mesmo usando numpy (usando a função nditer) e deixe um comentário sobre a diferença dos dois métodos.\n",
    "\n",
    "arr = np.array([[[1, 2, 3], [4, 5, 6]], [[7, 8, 9], [10, 11, 12]]])"
   ]
  },
  {
   "cell_type": "code",
   "execution_count": 19,
   "metadata": {},
   "outputs": [
    {
     "name": "stdout",
     "output_type": "stream",
     "text": [
      "[[1 2 3]\n",
      " [4 5 6]]\n",
      "[[ 7  8  9]\n",
      " [10 11 12]]\n",
      "1 2 3 4 5 6 7 8 9 10 11 12 "
     ]
    }
   ],
   "source": [
    "arr = np.array([[[1, 2, 3], [4, 5, 6]], [[7, 8, 9], [10, 11, 12]]])\n",
    "# com apenas um for conseguimos apenas mostrar os elementos completos dos primeiros vetores\n",
    "for array in arr:\n",
    "    print(array)\n",
    "# com a função nditer conseguimos do mesmo modo imprimir cada elemento do vetor\n",
    "for element in np.nditer(arr):\n",
    "    print(element, end=' ')"
   ]
  },
  {
   "cell_type": "markdown",
   "metadata": {},
   "source": [
    "# <span style='color:DodgerBlue'>Ex 2</span>\n",
    "Peça para o usuário uma lista com as comidas favoritas dele, depois transforme isso em um objeto numpy. Agora transformado, elimine todas as comidas que começam com uma vogal. Mostre o resultado.\n",
    "\n",
    "Exemplo:\n",
    "\n",
    "Entrada: [maçã, uva, morango, melancia, acelga]\n",
    "\n",
    "Saída: [maçã, morango, melancia]"
   ]
  },
  {
   "cell_type": "code",
   "execution_count": 72,
   "metadata": {},
   "outputs": [
    {
     "name": "stdout",
     "output_type": "stream",
     "text": [
      "Entrada: ['maçã', 'uva', 'morango', 'melancia', 'acelga']\n",
      "Saída: ['maçã', 'morango', 'melancia']\n"
     ]
    }
   ],
   "source": [
    "fruits = input('Digite suas comidas favoritas:')\n",
    "#fruits = 'maçã,uva,morango,melancia,acelga'\n",
    "fruits = np.array([fruit for fruit in fruits.split(',')])\n",
    "print(f'Entrada: {list(fruits)}')\n",
    "voewls = ['a','e','i','o','u']\n",
    "index = [fruit[0] in voewls for fruit in fruits]\n",
    "print(f'Saída: {list(np.delete(fruits, index))}')"
   ]
  },
  {
   "cell_type": "markdown",
   "metadata": {},
   "source": [
    "# <span style='color:DodgerBlue'>Ex 3</span>\n",
    "Imprima a dimensão dos seguintes objetos numpy:\n",
    "\n",
    "a = np.array(2)\n",
    "\n",
    "b = np.array([1, 2, 3, 4, 5])\n",
    "\n",
    "c = np.array([[1, 2, 3], [4, 5, 6]])\n",
    "\n",
    "d = np.array([[[1, 2, 3], [4, 5, 6]], [[7, 8, 9], [10, 11, 12]]])"
   ]
  },
  {
   "cell_type": "code",
   "execution_count": 78,
   "metadata": {},
   "outputs": [
    {
     "name": "stdout",
     "output_type": "stream",
     "text": [
      "Array a: 0\n",
      "Array b: 1\n",
      "Array c: 2\n",
      "Array d: 3\n"
     ]
    }
   ],
   "source": [
    "a = np.array(2)\n",
    "b = np.array([1, 2, 3, 4, 5])\n",
    "c = np.array([[1, 2, 3], [4, 5, 6]])\n",
    "d = np.array([[[1, 2, 3], [4, 5, 6]], [[7, 8, 9], [10, 11, 12]]])\n",
    "print(f'Array a: {a.ndim}')\n",
    "print(f'Array b: {b.ndim}')\n",
    "print(f'Array c: {c.ndim}')\n",
    "print(f'Array d: {d.ndim}')"
   ]
  },
  {
   "cell_type": "markdown",
   "metadata": {},
   "source": [
    "# <span style='color:DodgerBlue'>Ex 4</span>\n",
    "Transforme o array em uma matriz 4 por 3 utilizando numpy.\n",
    "\n",
    "arr = [1, 2, 3, 4, 'Amelia, 'Bruna, 'Carolina', 'Débora', True, False, False, True]\n",
    "\n",
    "Depois, faça o mesmo para uma matriz 3 por 4."
   ]
  },
  {
   "cell_type": "code",
   "execution_count": 90,
   "metadata": {},
   "outputs": [
    {
     "data": {
      "text/plain": [
       "array([['1', '2', '3', '4'],\n",
       "       ['Amelia', 'Bruna', 'Carolina', 'Débora'],\n",
       "       ['True', 'False', 'False', 'True']], dtype='<U11')"
      ]
     },
     "execution_count": 90,
     "metadata": {},
     "output_type": "execute_result"
    }
   ],
   "source": [
    "array = [1, 2, 3, 4, 'Amelia', 'Bruna', 'Carolina', 'Débora', True, False, False, True]\n",
    "np.reshape(array,(4,3))\n",
    "np.reshape(array,(3,4))"
   ]
  },
  {
   "cell_type": "markdown",
   "metadata": {},
   "source": [
    "# <span style='color:DodgerBlue'>Ex 5</span>\n",
    "Transforme o seguinte array em uma matriz 3D 3x3x3:\n",
    "\n",
    "arr = range(27)\n",
    "\n",
    "Deixe um comentário explicando o que significa uma matriz 3D.\n"
   ]
  },
  {
   "cell_type": "code",
   "execution_count": 95,
   "metadata": {},
   "outputs": [
    {
     "data": {
      "text/plain": [
       "array([[[ 0,  1,  2],\n",
       "        [ 3,  4,  5],\n",
       "        [ 6,  7,  8]],\n",
       "\n",
       "       [[ 9, 10, 11],\n",
       "        [12, 13, 14],\n",
       "        [15, 16, 17]],\n",
       "\n",
       "       [[18, 19, 20],\n",
       "        [21, 22, 23],\n",
       "        [24, 25, 26]]])"
      ]
     },
     "execution_count": 95,
     "metadata": {},
     "output_type": "execute_result"
    }
   ],
   "source": [
    "arr = range(27)\n",
    "np.reshape(arr,(3,3,3))\n",
    "# matriz 3D possuí 3 coordenadas, ndim=3"
   ]
  },
  {
   "cell_type": "markdown",
   "metadata": {},
   "source": [
    "# <span style='color:DodgerBlue'>Ex 6</span>\n",
    "Tente transformar o seguinte array em uma matriz 3x3x3\n",
    "\n",
    "arr = [1, 2, 3, 4, 5, 6, 7, 8]\n",
    "\n",
    "Funciona? Se sim, explique o motivo. Se não, explique o erro."
   ]
  },
  {
   "cell_type": "code",
   "execution_count": null,
   "metadata": {},
   "outputs": [],
   "source": [
    "arr = [1, 2, 3, 4, 5, 6, 7, 8]\n",
    "np.reshape(arr,(3,3))\n",
    "# não funciona pois o array precisa ter 9 elementos para formar uma matrix 3x3, seu atual tamanho é 8 "
   ]
  },
  {
   "cell_type": "markdown",
   "metadata": {},
   "source": [
    "# <span style='color:DodgerBlue'>Ex 7</span>\n",
    "Percorra o seguinte array utilizando for encaixado:\n",
    "\n",
    "arr = [[[1, 2], [3, 4]], [[5, 6], [7, 8]]]\n",
    "\n",
    "Agora, percorra o mesmo array utilizando a função nditer de numpy."
   ]
  },
  {
   "cell_type": "code",
   "execution_count": 104,
   "metadata": {},
   "outputs": [
    {
     "name": "stdout",
     "output_type": "stream",
     "text": [
      "1 2 3 4 5 6 7 8 \n",
      "1 2 3 4 5 6 7 8 "
     ]
    }
   ],
   "source": [
    "array = [[[1, 2], [3, 4]], [[5, 6], [7, 8]]]\n",
    "for sub_array1 in array:\n",
    "    for sub_array2 in sub_array1:\n",
    "        for element in sub_array2:\n",
    "            print(element, end=' ')\n",
    "print()\n",
    "\n",
    "array = np.array(array)\n",
    "for element in np.nditer(array):\n",
    "    print(element, end=' ')"
   ]
  },
  {
   "cell_type": "markdown",
   "metadata": {},
   "source": [
    "# <span style='color:DodgerBlue'>Ex 8</span>\n",
    "Percorra os indexes do seguinte array utilizando for encaixado:\n",
    "\n",
    "arr = [[[1, 2], [3, 4]], [[5, 6], [7, 8]]]\n",
    "\n",
    "Agora faça o mesmo trabalho utilizando a função ndenumerate."
   ]
  },
  {
   "cell_type": "code",
   "execution_count": 118,
   "metadata": {},
   "outputs": [
    {
     "name": "stdout",
     "output_type": "stream",
     "text": [
      "index: (0,0,0)\n",
      "index: (0,0,1)\n",
      "index: (0,1,0)\n",
      "index: (0,1,1)\n",
      "index: (1,0,0)\n",
      "index: (1,0,1)\n",
      "index: (1,1,0)\n",
      "index: (1,1,1)\n",
      "((0, 0, 0), 1)\n",
      "((0, 0, 1), 2)\n",
      "((0, 1, 0), 3)\n",
      "((0, 1, 1), 4)\n",
      "((1, 0, 0), 5)\n",
      "((1, 0, 1), 6)\n",
      "((1, 1, 0), 7)\n",
      "((1, 1, 1), 8)\n"
     ]
    }
   ],
   "source": [
    "array = [[[1, 2], [3, 4]], [[5, 6], [7, 8]]]\n",
    "for index1, subarray1 in enumerate(array):\n",
    "    for index2, subarray2 in enumerate(subarray1):\n",
    "        for index3, subarray3 in enumerate(subarray2):\n",
    "            print(f'index: ({index1},{index2},{index3})')\n",
    "\n",
    "array = np.array(array)\n",
    "for index in np.ndenumerate(array):\n",
    "    print(index)"
   ]
  },
  {
   "cell_type": "markdown",
   "metadata": {},
   "source": [
    "# <span style='color:DodgerBlue'>Ex 9</span>\n",
    "Junte os dois seguintes arrays na horizontal:\n",
    "\n",
    "arr1 = [1, 2, 3]\n",
    "\n",
    "arr2 = [4, 5, 6]\n",
    "\n",
    "Depois, os junte verticalmente."
   ]
  },
  {
   "cell_type": "code",
   "execution_count": 131,
   "metadata": {},
   "outputs": [
    {
     "name": "stdout",
     "output_type": "stream",
     "text": [
      "[1 2 3 4 5 6]\n",
      "[[1 4]\n",
      " [2 5]\n",
      " [3 6]]\n"
     ]
    }
   ],
   "source": [
    "arr1 = np.array([1, 2, 3])\n",
    "arr2 = np.array([4, 5, 6])\n",
    "print(np.append(arr1,arr2))\n",
    "print(np.reshape(np.append(arr1,arr2),(3,2),order='F'))"
   ]
  },
  {
   "cell_type": "markdown",
   "metadata": {},
   "source": [
    "# <span style='color:Tomato'>DESAFIO 1</span> \n",
    "Utilizando manipulação de arrays, ache os indexes do array cujo valor possua apenas 2 vogais no nome usando numpy.\n",
    "\n",
    "frutas = ['banana', 'morango, 'uva', 'pitaia', 'abacate', 'abacaxi', 'acerola', 'jenipapo', 'kiwi']"
   ]
  },
  {
   "cell_type": "code",
   "execution_count": 179,
   "metadata": {},
   "outputs": [
    {
     "data": {
      "text/plain": [
       "(array([2, 8], dtype=int64),)"
      ]
     },
     "execution_count": 179,
     "metadata": {},
     "output_type": "execute_result"
    }
   ],
   "source": [
    "fruits = np.array(['banana', 'morango', 'uva', 'pitaia', 'abacate', 'abacaxi', 'acerola', 'jenipapo', 'kiwi'])\n",
    "\n",
    "def count_vowel(char):\n",
    "    vowels = ['a','e','i','o','u']\n",
    "    result = ''\n",
    "    for c in char:\n",
    "        if c in vowels:\n",
    "            result += c\n",
    "    return len(result)\n",
    "\n",
    "vowel_array = np.vectorize(count_vowel)(fruits)\n",
    "np.where(vowel_array==2)"
   ]
  },
  {
   "cell_type": "markdown",
   "metadata": {},
   "source": [
    "# <span style='color:DodgerBlue'>Ex 11</span>\n",
    "a) Tranforme o seguinte array 2D em dois arrays 2D:\n",
    "\n",
    "arr = [[1, 2], [3, 4], [5, 6], [7, 8]]\n",
    "\n",
    "b) Transforme o seguinte array em três arrays com apenas uma coluna:\n",
    "\n",
    "arr = [[1, 2, 3], [4, 5, 6], [7, 8, 9]]"
   ]
  },
  {
   "cell_type": "code",
   "execution_count": 235,
   "metadata": {},
   "outputs": [
    {
     "data": {
      "text/plain": [
       "array([[[1, 2, 3]],\n",
       "\n",
       "       [[4, 5, 6]],\n",
       "\n",
       "       [[7, 8, 9]]])"
      ]
     },
     "execution_count": 235,
     "metadata": {},
     "output_type": "execute_result"
    }
   ],
   "source": [
    "# a\n",
    "arr = [[1, 2], [3, 4], [5, 6], [7, 8]]\n",
    "#np.concatenate((np.array(arr[:2]),np.array(arr[2:])))\n",
    "np.array([np.array(arr[:2]),np.array(arr[2:])])\n",
    "# b\n",
    "arr = np.array([[1, 2, 3], [4, 5, 6], [7, 8, 9]])\n",
    "np.reshape(arr,[-1,1,3])"
   ]
  },
  {
   "cell_type": "markdown",
   "metadata": {},
   "source": [
    "# <span style='color:Tomato'>DESAFIO</span> \n",
    "Utilizando manipulação de arrays, vamos seguir um conjunto de passos para organizar alguns dados. Teremos nesse seguinte array uma ordem que segue:\n",
    "\n",
    "[Nome do aluno, idade, 'gênero', signo, altura, nota do 1° semestre, nota do 2° bimestre, se está ou não inscrito no próximo ano da escola, nome do outro aluno, idade do outro aluno...]\n",
    "\n",
    "arr = ['Amélia', 13, 'F', 'peixes', 1.51, 9, 7, True, 'Bruno', 14, 'O', 'leão', 1.60, 4, 10, False, 'João', 14, 'M', 'escorpião', 1.58, 8, 9, True, 'Jordana', 13, 'F', 'escorpião', 1.72, 9, 9, False]\n",
    "\n",
    "a) Enumere os indexes de todas as informações que são do tipo string.\n",
    "\n",
    "b) Separe essas informações do objeto arr de forma que cada aluno tenha seu próprio array.\n",
    "\n",
    "c) Separe em duas colunas, a primeira com o nome, a idade, o gênero e o signo e a segunda com a altura, nota do primeiro bimestre, nota do segundo bimestre e se está ou não inscrito no próximo ano.\n",
    "\n",
    "d) Elimine o gênero de todos os arrays cujos alunos tem menos de 14 anos."
   ]
  },
  {
   "cell_type": "code",
   "execution_count": 323,
   "metadata": {},
   "outputs": [
    {
     "name": "stdout",
     "output_type": "stream",
     "text": [
      "A) [0, 2, 3, 8, 10, 11, 16, 18, 19, 24, 26, 27]\n",
      "B) [['Amélia', 13, 'F', 'peixes', 1.51, 9, 7, True], ['Bruno', 14, 'O', 'leão', 1.6, 4, 10, False], ['João', 14, 'M', 'escorpião', 1.58, 8, 9, True], ['Jordana', 13, 'F', 'escorpião', 1.72, 9, 9, False]]\n",
      "C) [[['Amélia' '13' 'F' 'peixes']\n",
      "  ['1.51' '9' '7' 'True']]\n",
      "\n",
      " [['Bruno' '14' 'O' 'leão']\n",
      "  ['1.6' '4' '10' 'False']]\n",
      "\n",
      " [['João' '14' 'M' 'escorpião']\n",
      "  ['1.58' '8' '9' 'True']]\n",
      "\n",
      " [['Jordana' '13' 'F' 'escorpião']\n",
      "  ['1.72' '9' '9' 'False']]]\n",
      "D) [[['Amélia' '13' 'None' 'peixes']\n",
      "  ['1.51' '9' '7' 'True']]\n",
      "\n",
      " [['Bruno' '14' 'O' 'leão']\n",
      "  ['1.6' '4' '10' 'False']]\n",
      "\n",
      " [['João' '14' 'M' 'escorpião']\n",
      "  ['1.58' '8' '9' 'True']]\n",
      "\n",
      " [['Jordana' '13' 'None' 'escorpião']\n",
      "  ['1.72' '9' '9' 'False']]]\n"
     ]
    }
   ],
   "source": [
    "arr = ['Amélia', 13, 'F', 'peixes', 1.51, 9, 7, True, 'Bruno', 14, 'O', 'leão', 1.60, 4, 10, False, 'João', 14, 'M', 'escorpião', 1.58, 8, 9, True, 'Jordana', 13, 'F', 'escorpião', 1.72, 9, 9, False]\n",
    "\n",
    "array = [index for index, element in enumerate(arr) if isinstance(element,str)]\n",
    "print(f'A) {array}')\n",
    "\n",
    "array = [arr[index:index+8] for index in range(0,len(arr),8)]\n",
    "print(f'B) {array}')\n",
    "\n",
    "array = np.reshape(np.array(array),(4,2,4))\n",
    "print(f'C) {array}')\n",
    "\n",
    "for index,value in enumerate(array):\n",
    "    if int(value[0][1])<14:\n",
    "        np.put(array, [index*8+2],[None])\n",
    "print(f'D) {array}')"
   ]
  }
 ],
 "metadata": {
  "interpreter": {
   "hash": "b3ba2566441a7c06988d0923437866b63cedc61552a5af99d1f4fb67d367b25f"
  },
  "kernelspec": {
   "display_name": "Python 3.8.8 64-bit (conda)",
   "name": "python3"
  },
  "language_info": {
   "name": "python",
   "version": "3.8.8"
  },
  "orig_nbformat": 4
 },
 "nbformat": 4,
 "nbformat_minor": 2
}
