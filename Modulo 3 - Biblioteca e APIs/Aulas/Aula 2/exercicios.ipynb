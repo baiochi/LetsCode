{
 "cells": [
  {
   "cell_type": "markdown",
   "id": "ideal-prairie",
   "metadata": {},
   "source": [
    "1. Exercício 1 do class"
   ]
  },
  {
   "cell_type": "markdown",
   "id": "smart-batch",
   "metadata": {},
   "source": [
    "---"
   ]
  },
  {
   "cell_type": "markdown",
   "id": "exposed-setting",
   "metadata": {},
   "source": [
    "2) É importante para o nosso cliente saber quando a média de preço (AveragePrice) foi maior que um. Use a função apply para criar uma coluna que nos traz essa informação e salve o arquivo em excel."
   ]
  },
  {
   "cell_type": "markdown",
   "id": "substantial-memory",
   "metadata": {},
   "source": [
    "---\n",
    "3) Dada a base feita do exercício anterior, precisamos agora responder o seguinte:  \n",
    "  \n",
    "    a) Qual é a média do preço médio (AveragePrice) por ano?  \n",
    "    b) Qual é a média do preço médio (AveragePrice) por ano para cada região (region)?"
   ]
  },
  {
   "cell_type": "markdown",
   "id": "neutral-simon",
   "metadata": {},
   "source": [
    "---"
   ]
  },
  {
   "cell_type": "markdown",
   "id": "brief-reggae",
   "metadata": {},
   "source": [
    "4) Você não tem processamento o suficiente para processar a base (base completa gerada no primeiro exercício) toda e precisa lê-la em chunks:   \n",
    "  \n",
    "    a) Leia a base por chunks (com chunksize=1000) e faça o processamento do exercício 3.  \n",
    "    b) Guarde cada iteração dos chunks em um DataFrame e faça o processamento do exercício 3 de novo."
   ]
  }
 ],
 "metadata": {
  "kernelspec": {
   "display_name": "Python 3",
   "language": "python",
   "name": "python3"
  },
  "language_info": {
   "codemirror_mode": {
    "name": "ipython",
    "version": 3
   },
   "file_extension": ".py",
   "mimetype": "text/x-python",
   "name": "python",
   "nbconvert_exporter": "python",
   "pygments_lexer": "ipython3",
   "version": "3.8.7"
  }
 },
 "nbformat": 4,
 "nbformat_minor": 5
}
