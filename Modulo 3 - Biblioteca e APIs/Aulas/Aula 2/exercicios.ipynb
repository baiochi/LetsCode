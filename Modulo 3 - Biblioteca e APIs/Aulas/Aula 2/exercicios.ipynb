{
 "cells": [
  {
   "cell_type": "markdown",
   "source": [
    "1. Exercício 1 do class"
   ],
   "metadata": {}
  },
  {
   "cell_type": "markdown",
   "source": [
    "---"
   ],
   "metadata": {}
  },
  {
   "cell_type": "code",
   "execution_count": 43,
   "source": [
    "import pandas as pd"
   ],
   "outputs": [],
   "metadata": {}
  },
  {
   "cell_type": "markdown",
   "source": [
    "2) É importante para o nosso cliente saber quando a média de preço (AveragePrice) foi maior que um. Use a função apply para criar uma coluna que nos traz essa informação e salve o arquivo em excel."
   ],
   "metadata": {}
  },
  {
   "cell_type": "code",
   "execution_count": 47,
   "source": [
    "df_avocado = pd.read_csv('./dados/avocado.csv')\r\n",
    "df_avtype = pd.read_csv('./dados/avocado_type.csv')\r\n",
    "\r\n",
    "df_avocado.head()"
   ],
   "outputs": [
    {
     "output_type": "execute_result",
     "data": {
      "text/html": [
       "<div>\n",
       "<style scoped>\n",
       "    .dataframe tbody tr th:only-of-type {\n",
       "        vertical-align: middle;\n",
       "    }\n",
       "\n",
       "    .dataframe tbody tr th {\n",
       "        vertical-align: top;\n",
       "    }\n",
       "\n",
       "    .dataframe thead th {\n",
       "        text-align: right;\n",
       "    }\n",
       "</style>\n",
       "<table border=\"1\" class=\"dataframe\">\n",
       "  <thead>\n",
       "    <tr style=\"text-align: right;\">\n",
       "      <th></th>\n",
       "      <th>Date</th>\n",
       "      <th>AveragePrice</th>\n",
       "      <th>Total Volume</th>\n",
       "      <th>year</th>\n",
       "      <th>region</th>\n",
       "    </tr>\n",
       "  </thead>\n",
       "  <tbody>\n",
       "    <tr>\n",
       "      <th>0</th>\n",
       "      <td>2015-12-27</td>\n",
       "      <td>1.33</td>\n",
       "      <td>64236.62</td>\n",
       "      <td>2015</td>\n",
       "      <td>Albany</td>\n",
       "    </tr>\n",
       "    <tr>\n",
       "      <th>1</th>\n",
       "      <td>2015-12-20</td>\n",
       "      <td>1.35</td>\n",
       "      <td>54876.98</td>\n",
       "      <td>2015</td>\n",
       "      <td>Albany</td>\n",
       "    </tr>\n",
       "    <tr>\n",
       "      <th>2</th>\n",
       "      <td>2015-12-13</td>\n",
       "      <td>0.93</td>\n",
       "      <td>118220.22</td>\n",
       "      <td>2015</td>\n",
       "      <td>Albany</td>\n",
       "    </tr>\n",
       "    <tr>\n",
       "      <th>3</th>\n",
       "      <td>2015-12-06</td>\n",
       "      <td>1.08</td>\n",
       "      <td>78992.15</td>\n",
       "      <td>2015</td>\n",
       "      <td>Albany</td>\n",
       "    </tr>\n",
       "    <tr>\n",
       "      <th>4</th>\n",
       "      <td>2015-11-29</td>\n",
       "      <td>1.28</td>\n",
       "      <td>51039.60</td>\n",
       "      <td>2015</td>\n",
       "      <td>Albany</td>\n",
       "    </tr>\n",
       "  </tbody>\n",
       "</table>\n",
       "</div>"
      ],
      "text/plain": [
       "         Date  AveragePrice  Total Volume  year  region\n",
       "0  2015-12-27          1.33      64236.62  2015  Albany\n",
       "1  2015-12-20          1.35      54876.98  2015  Albany\n",
       "2  2015-12-13          0.93     118220.22  2015  Albany\n",
       "3  2015-12-06          1.08      78992.15  2015  Albany\n",
       "4  2015-11-29          1.28      51039.60  2015  Albany"
      ]
     },
     "metadata": {},
     "execution_count": 47
    }
   ],
   "metadata": {}
  },
  {
   "cell_type": "code",
   "execution_count": 49,
   "source": [
    "df_avocado['HighPrice'] = df_avocado['AveragePrice'].apply(lambda avg_price: avg_price>1)\r\n",
    "df_avocado.head()"
   ],
   "outputs": [
    {
     "output_type": "execute_result",
     "data": {
      "text/html": [
       "<div>\n",
       "<style scoped>\n",
       "    .dataframe tbody tr th:only-of-type {\n",
       "        vertical-align: middle;\n",
       "    }\n",
       "\n",
       "    .dataframe tbody tr th {\n",
       "        vertical-align: top;\n",
       "    }\n",
       "\n",
       "    .dataframe thead th {\n",
       "        text-align: right;\n",
       "    }\n",
       "</style>\n",
       "<table border=\"1\" class=\"dataframe\">\n",
       "  <thead>\n",
       "    <tr style=\"text-align: right;\">\n",
       "      <th></th>\n",
       "      <th>Date</th>\n",
       "      <th>AveragePrice</th>\n",
       "      <th>Total Volume</th>\n",
       "      <th>year</th>\n",
       "      <th>region</th>\n",
       "      <th>HighPrice</th>\n",
       "    </tr>\n",
       "  </thead>\n",
       "  <tbody>\n",
       "    <tr>\n",
       "      <th>0</th>\n",
       "      <td>2015-12-27</td>\n",
       "      <td>1.33</td>\n",
       "      <td>64236.62</td>\n",
       "      <td>2015</td>\n",
       "      <td>Albany</td>\n",
       "      <td>True</td>\n",
       "    </tr>\n",
       "    <tr>\n",
       "      <th>1</th>\n",
       "      <td>2015-12-20</td>\n",
       "      <td>1.35</td>\n",
       "      <td>54876.98</td>\n",
       "      <td>2015</td>\n",
       "      <td>Albany</td>\n",
       "      <td>True</td>\n",
       "    </tr>\n",
       "    <tr>\n",
       "      <th>2</th>\n",
       "      <td>2015-12-13</td>\n",
       "      <td>0.93</td>\n",
       "      <td>118220.22</td>\n",
       "      <td>2015</td>\n",
       "      <td>Albany</td>\n",
       "      <td>False</td>\n",
       "    </tr>\n",
       "    <tr>\n",
       "      <th>3</th>\n",
       "      <td>2015-12-06</td>\n",
       "      <td>1.08</td>\n",
       "      <td>78992.15</td>\n",
       "      <td>2015</td>\n",
       "      <td>Albany</td>\n",
       "      <td>True</td>\n",
       "    </tr>\n",
       "    <tr>\n",
       "      <th>4</th>\n",
       "      <td>2015-11-29</td>\n",
       "      <td>1.28</td>\n",
       "      <td>51039.60</td>\n",
       "      <td>2015</td>\n",
       "      <td>Albany</td>\n",
       "      <td>True</td>\n",
       "    </tr>\n",
       "  </tbody>\n",
       "</table>\n",
       "</div>"
      ],
      "text/plain": [
       "         Date  AveragePrice  Total Volume  year  region  HighPrice\n",
       "0  2015-12-27          1.33      64236.62  2015  Albany       True\n",
       "1  2015-12-20          1.35      54876.98  2015  Albany       True\n",
       "2  2015-12-13          0.93     118220.22  2015  Albany      False\n",
       "3  2015-12-06          1.08      78992.15  2015  Albany       True\n",
       "4  2015-11-29          1.28      51039.60  2015  Albany       True"
      ]
     },
     "metadata": {},
     "execution_count": 49
    }
   ],
   "metadata": {}
  },
  {
   "cell_type": "code",
   "execution_count": 50,
   "source": [
    "df_avocado.to_excel('./dados/ex2.xlsx', index=None)"
   ],
   "outputs": [],
   "metadata": {}
  },
  {
   "cell_type": "markdown",
   "source": [
    "---\n",
    "3) Dada a base feita do exercício anterior, precisamos agora responder o seguinte:  \n",
    "  \n",
    "    a) Qual é a média do preço médio (AveragePrice) por ano?  \n",
    "    b) Qual é a média do preço médio (AveragePrice) por ano para cada região (region)?"
   ],
   "metadata": {}
  },
  {
   "cell_type": "code",
   "execution_count": 54,
   "source": [
    "df_avocado.groupby(by=['year'])['AveragePrice'].mean()"
   ],
   "outputs": [
    {
     "output_type": "execute_result",
     "data": {
      "text/plain": [
       "year\n",
       "2015    1.375590\n",
       "2016    1.338640\n",
       "2017    1.515128\n",
       "2018    1.347531\n",
       "Name: AveragePrice, dtype: float64"
      ]
     },
     "metadata": {},
     "execution_count": 54
    }
   ],
   "metadata": {}
  },
  {
   "cell_type": "code",
   "execution_count": 57,
   "source": [
    "df_avocado.groupby(by=['region','year'])['AveragePrice'].mean()"
   ],
   "outputs": [
    {
     "output_type": "execute_result",
     "data": {
      "text/plain": [
       "region            year\n",
       "Albany            2015    1.538750\n",
       "                  2016    1.533942\n",
       "                  2017    1.637830\n",
       "                  2018    1.435833\n",
       "Atlanta           2015    1.380577\n",
       "                            ...   \n",
       "West              2018    1.297083\n",
       "WestTexNewMexico  2015    1.259320\n",
       "                  2016    1.246635\n",
       "                  2017    1.281538\n",
       "                  2018    1.251250\n",
       "Name: AveragePrice, Length: 216, dtype: float64"
      ]
     },
     "metadata": {},
     "execution_count": 57
    }
   ],
   "metadata": {}
  },
  {
   "cell_type": "markdown",
   "source": [
    "---"
   ],
   "metadata": {}
  },
  {
   "cell_type": "markdown",
   "source": [
    "4) Você não tem processamento o suficiente para processar a base (base completa gerada no primeiro exercício) toda e precisa lê-la em chunks:   \n",
    "  \n",
    "    a) Leia a base por chunks (com chunksize=1000) e faça o processamento do exercício 3.  \n",
    "    b) Guarde cada iteração dos chunks em um DataFrame e faça o processamento do exercício 3 de novo."
   ],
   "metadata": {}
  },
  {
   "cell_type": "code",
   "execution_count": 63,
   "source": [
    "df_avocado.to_csv('./dados/ex2.csv', index=None)\r\n",
    "df_ = pd.read_csv('./dados/ex2.csv', chunksize=1000)\r\n",
    "for index, df in enumerate(df_):\r\n",
    "\r\n",
    "    price_mean_per_year = df.groupby(by=['year'])['AveragePrice'].mean()\r\n",
    "    print(f'result {index}: \\n{price_mean_per_year} \\n')"
   ],
   "outputs": [
    {
     "output_type": "stream",
     "name": "stdout",
     "text": [
      "result 0: \n",
      "year\n",
      "2015    1.07972\n",
      "Name: AveragePrice, dtype: float64 \n",
      "\n",
      "result 1: \n",
      "year\n",
      "2015    1.08203\n",
      "Name: AveragePrice, dtype: float64 \n",
      "\n",
      "result 2: \n",
      "year\n",
      "2015    1.070755\n",
      "2016    1.162396\n",
      "Name: AveragePrice, dtype: float64 \n",
      "\n",
      "result 3: \n",
      "year\n",
      "2016    1.10456\n",
      "Name: AveragePrice, dtype: float64 \n",
      "\n",
      "result 4: \n",
      "year\n",
      "2016    1.1266\n",
      "Name: AveragePrice, dtype: float64 \n",
      "\n",
      "result 5: \n",
      "year\n",
      "2016    1.055471\n",
      "2017    1.385052\n",
      "Name: AveragePrice, dtype: float64 \n",
      "\n",
      "result 6: \n",
      "year\n",
      "2017    1.2802\n",
      "Name: AveragePrice, dtype: float64 \n",
      "\n",
      "result 7: \n",
      "year\n",
      "2017    1.31141\n",
      "Name: AveragePrice, dtype: float64 \n",
      "\n",
      "result 8: \n",
      "year\n",
      "2017    1.218619\n",
      "2018    1.136609\n",
      "Name: AveragePrice, dtype: float64 \n",
      "\n",
      "result 9: \n",
      "year\n",
      "2015    1.649394\n",
      "2018    1.091746\n",
      "Name: AveragePrice, dtype: float64 \n",
      "\n",
      "result 10: \n",
      "year\n",
      "2015    1.70895\n",
      "Name: AveragePrice, dtype: float64 \n",
      "\n",
      "result 11: \n",
      "year\n",
      "2015    1.657556\n",
      "2016    1.685970\n",
      "Name: AveragePrice, dtype: float64 \n",
      "\n",
      "result 12: \n",
      "year\n",
      "2016    1.53338\n",
      "Name: AveragePrice, dtype: float64 \n",
      "\n",
      "result 13: \n",
      "year\n",
      "2016    1.57728\n",
      "Name: AveragePrice, dtype: float64 \n",
      "\n",
      "result 14: \n",
      "year\n",
      "2016    1.605493\n",
      "2017    1.765019\n",
      "Name: AveragePrice, dtype: float64 \n",
      "\n",
      "result 15: \n",
      "year\n",
      "2017    1.66836\n",
      "Name: AveragePrice, dtype: float64 \n",
      "\n",
      "result 16: \n",
      "year\n",
      "2017    1.78389\n",
      "Name: AveragePrice, dtype: float64 \n",
      "\n",
      "result 17: \n",
      "year\n",
      "2017    1.754077\n",
      "2018    1.550952\n",
      "Name: AveragePrice, dtype: float64 \n",
      "\n",
      "result 18: \n",
      "year\n",
      "2018    1.593173\n",
      "Name: AveragePrice, dtype: float64 \n",
      "\n"
     ]
    }
   ],
   "metadata": {}
  }
 ],
 "metadata": {
  "kernelspec": {
   "name": "python3",
   "display_name": "Python 3.8.8 64-bit (conda)"
  },
  "language_info": {
   "codemirror_mode": {
    "name": "ipython",
    "version": 3
   },
   "file_extension": ".py",
   "mimetype": "text/x-python",
   "name": "python",
   "nbconvert_exporter": "python",
   "pygments_lexer": "ipython3",
   "version": "3.8.8"
  },
  "interpreter": {
   "hash": "b3ba2566441a7c06988d0923437866b63cedc61552a5af99d1f4fb67d367b25f"
  }
 },
 "nbformat": 4,
 "nbformat_minor": 5
}