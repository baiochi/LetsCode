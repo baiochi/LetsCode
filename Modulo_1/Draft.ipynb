{
 "cells": [
  {
   "cell_type": "code",
   "execution_count": 154,
   "source": [
    "import os\r\n",
    "import random"
   ],
   "outputs": [],
   "metadata": {}
  },
  {
   "cell_type": "code",
   "execution_count": null,
   "source": [],
   "outputs": [],
   "metadata": {}
  }
 ],
 "metadata": {
  "kernelspec": {
   "name": "python3",
   "display_name": "Python 3.9.4 64-bit ('Python39')"
  },
  "language_info": {
   "codemirror_mode": {
    "name": "ipython",
    "version": 3
   },
   "file_extension": ".py",
   "mimetype": "text/x-python",
   "name": "python",
   "nbconvert_exporter": "python",
   "pygments_lexer": "ipython3",
   "version": "3.9.4"
  },
  "interpreter": {
   "hash": "fdb82091c31ccec212108c9d33ed720fd5863cd94fd9b654da4538787f6a7368"
  }
 },
 "nbformat": 4,
 "nbformat_minor": 4
}