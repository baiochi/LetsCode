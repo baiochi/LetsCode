{
 "cells": [
  {
   "cell_type": "code",
   "execution_count": 2,
   "metadata": {},
   "outputs": [],
   "source": [
    "import os\n",
    "import random"
   ]
  },
  {
   "cell_type": "code",
   "execution_count": 3,
   "metadata": {},
   "outputs": [
    {
     "name": "stdout",
     "output_type": "stream",
     "text": [
      "22\n",
      "32\n"
     ]
    }
   ],
   "source": [
    "#exercicio 18/08\n",
    "\n",
    "lista = [[1,1,1,[2,1,[1,1,2]],1],[1,1,1,[2,1,[1,1,1]],1],1]\n",
    "\n",
    "def somaLista(lista):\n",
    "    soma = 0\n",
    "    for i in lista:\n",
    "        if type(i)==list:\n",
    "            soma += somaLista(i)\n",
    "        else:\n",
    "            soma += i\n",
    "    return soma\n",
    "\n",
    "print(somaLista(lista))\n",
    "\n",
    "def somaListaComprehension(*lista):\n",
    "    return sum(somaListaComprehension(*i) if isinstance(i, list) else i for i in lista)\n",
    "                                             \n",
    "print(somaListaComprehension(lista,[2,1,3,4]))"
   ]
  },
  {
   "cell_type": "code",
   "execution_count": 4,
   "metadata": {
    "scrolled": true
   },
   "outputs": [
    {
     "name": "stdout",
     "output_type": "stream",
     "text": [
      "hello\n"
     ]
    }
   ],
   "source": [
    "\n",
    "class IceShop(object):\n",
    "\n",
    "    def __init__(self, stock, price, store):\n",
    "        self.stock = stock\n",
    "        self.price = price\n",
    "        self.store = store\n",
    "    \n",
    "    def takeOrder(self, amount):\n",
    "        try:\n",
    "            if amount <= 0:\n",
    "                raise ValueError(\"Invalid input\")\n",
    "\n",
    "            if amount > self.stock:\n",
    "                raise SystemError(\"Stock unavailable\")\n",
    "\n",
    "            self.stock -= amount\n",
    "            orderValue = amount * self.price\n",
    "            print(f'IceShop - {amount} ice creams ordered.\\\n",
    "                Stock: {self.stock}; \\\n",
    "                Order value: R$ {orderValue} ')\n",
    "            return orderValue\n",
    "\n",
    "        except SystemError:\n",
    "            print(f\"IceShop - Order for {self.stock} icecreams not enough in current stock.\")\n",
    "            return 0\n",
    "        except ValueError:\n",
    "            print(f\"IceShop - Ivalid amount ordered ({self.stock})\")\n",
    "            return 0\n",
    "        except:\n",
    "            print(f'IceShop - Order for {self.stock} icecreams not processed.')\n",
    "            return 0\n",
    "\n",
    "    def recivePayment(self, orderValue, paymentValue):\n",
    "        try:\n",
    "            if orderValue <= 0 or paymentValue <= 0:\n",
    "                raise ValueError\n",
    "            if orderValue == paymentValue:\n",
    "                self.store += paymentValue\n",
    "                print(f'IceShop - Bill paid off.\\\n",
    "                    Recived R${paymentValue};\\\n",
    "                        Bill R$ {orderValue};\\\n",
    "                            Store: {self.store}')\n",
    "                return 0\n",
    "            elif orderValue < paymentValue:\n",
    "                self.store += orderValue\n",
    "                print(f'IceShop - Bill paid with R$ {paymentValue - orderValue} change.\\\n",
    "                    Recived R${paymentValue};\\\n",
    "                        Bill R$ {orderValue};\\\n",
    "                            Store: {self.store}')\n",
    "                return (paymentValue - orderValue)\n",
    "            else:\n",
    "                self.store += paymentValue\n",
    "                print(f'IceShop - Bill partially paid, missing R$ {orderValue - paymentValue} change.\\\n",
    "                    Recived R${paymentValue};\\\n",
    "                        Bill R$ {orderValue};\\\n",
    "                            Store: {self.store}')\n",
    "                return (orderValue - paymentValue)\n",
    "        except ValueError:\n",
    "            print(f'IceShop -  Error while paying bill, invalid value.\\\n",
    "                    Recived R${paymentValue};\\\n",
    "                        Bill R$ {orderValue};\\\n",
    "                            Store: {self.store}')\n",
    "            return orderValue\n",
    "        \n",
    "        except:\n",
    "            print(f'IceShop -  Error while paying bill.\\\n",
    "                    Recived R${paymentValue};\\\n",
    "                        Bill R$ {orderValue};\\\n",
    "                            Store: {self.store}')\n",
    "            return orderValue\n",
    "\n",
    "\n",
    "\n",
    "\n",
    "class Client(object):\n",
    "\n",
    "    def __init__(self, name, wallet, bill):\n",
    "        self.name = name\n",
    "        self.wallet = wallet\n",
    "        self.bill = 0\n",
    "    \n",
    "    def makeOrder(self, amount, iceshop):\n",
    "        self.bill += iceshop.recivePayment(amount)\n",
    "        pass\n",
    "\n",
    "    def payBill(self):\n",
    "        pass\n",
    "\n",
    "\n",
    "\n",
    "\n",
    "\n",
    "\n"
   ]
  },
  {
   "cell_type": "code",
   "execution_count": 16,
   "metadata": {},
   "outputs": [
    {
     "name": "stdout",
     "output_type": "stream",
     "text": [
      "C, 0\n"
     ]
    },
    {
     "data": {
      "text/plain": [
       "''"
      ]
     },
     "execution_count": 16,
     "metadata": {},
     "output_type": "execute_result"
    }
   ],
   "source": [
    "tabuleiro = {\n",
    "                \" \": [\"1\", \"2\", \"3\"],\n",
    "                \"A\": [\"X\", \"O\", \"X\"],\n",
    "                \"B\": [\"X\", \"X\", \"O\"],\n",
    "                \"C\": [\"\", \"O\", \"X\"]\n",
    "            }\n",
    "for key, item in tabuleiro.items():\n",
    "    for index in range(len(item)):\n",
    "        if item[index] == '':\n",
    "            linha, coluna = key, index\n",
    "print(f\"{linha}, {coluna}\")\n",
    "tabuleiro[linha][coluna]\n",
    "    \n",
    "    #print(f\"Key: {key}, Item: {item}\")"
   ]
  }
 ],
 "metadata": {
  "interpreter": {
   "hash": "fdb82091c31ccec212108c9d33ed720fd5863cd94fd9b654da4538787f6a7368"
  },
  "kernelspec": {
   "display_name": "Python 3",
   "language": "python",
   "name": "python3"
  },
  "language_info": {
   "codemirror_mode": {
    "name": "ipython",
    "version": 3
   },
   "file_extension": ".py",
   "mimetype": "text/x-python",
   "name": "python",
   "nbconvert_exporter": "python",
   "pygments_lexer": "ipython3",
   "version": "3.8.5"
  }
 },
 "nbformat": 4,
 "nbformat_minor": 4
}
