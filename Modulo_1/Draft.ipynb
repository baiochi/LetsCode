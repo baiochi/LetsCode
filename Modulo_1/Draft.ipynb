{
 "cells": [
  {
   "cell_type": "code",
   "execution_count": 154,
   "metadata": {},
   "outputs": [],
   "source": [
    "import os\n",
    "import random"
   ]
  },
  {
   "cell_type": "code",
   "execution_count": null,
   "metadata": {},
   "outputs": [],
   "source": []
  },
  {
   "cell_type": "code",
   "execution_count": null,
   "metadata": {},
   "outputs": [],
   "source": [
    "COLORS = {\\\n",
    "\"black\":\"\\u001b[30;1m\",\n",
    "\"red\": \"\\u001b[31;1m\",\n",
    "\"green\":\"\\u001b[32m\",\n",
    "\"yellow\":\"\\u001b[33;1m\",\n",
    "\"blue\":\"\\u001b[34;1m\",\n",
    "\"magenta\":\"\\u001b[35m\",\n",
    "\"cyan\": \"\\u001b[36m\",\n",
    "\"white\":\"\\u001b[37m\",\n",
    "\"yellow-background\":\"\\u001b[43m\",\n",
    "\"black-background\":\"\\u001b[40m\",\n",
    "\"cyan-background\":\"\\u001b[46;1m\",\n",
    "}\n",
    "\n",
    "def colorText(text):\n",
    "    for color in COLORS: text = text.replace(\"[[\" + color + \"]]\", COLORS[color])\n",
    "    return text\n",
    "\n",
    "def loadedGame(newGame):\n",
    "    if newGame:\n",
    "        return '[[black]]Continue'\n",
    "    else:\n",
    "        return '[[white]]Continue'\n",
    "\n",
    "newGame = False\n",
    "\n",
    "\n",
    "    \n",
    "print(colorText(f\"Testando string {teste(savedGame)}[[white]]...\"))"
   ]
  },
  {
   "cell_type": "code",
   "execution_count": null,
   "metadata": {
    "scrolled": true
   },
   "outputs": [],
   "source": [
    "n = int(input(\"Digite (1 - 4): \"))\n",
    "cont = True\n",
    "if n == 1:\n",
    "    print('a')\n",
    "elif n == 2 and cont:\n",
    "    print('b')\n",
    "elif n==2 or cont:\n",
    "    print('aooo')\n",
    "elif n == 3:\n",
    "    print('c')\n",
    "elif n == 4:\n",
    "    print('d')\n",
    "else:\n",
    "    print(\"Numero errado\")"
   ]
  },
  {
   "cell_type": "code",
   "execution_count": null,
   "metadata": {},
   "outputs": [],
   "source": [
    "def teste(x):\n",
    "    print(\"Jogando...\")\n",
    "    if x == 1:\n",
    "        return True\n",
    "    else:\n",
    "        return False\n",
    "\n",
    "def continuar():\n",
    "    a = int(input(\"Continuar?\"))\n",
    "    if a == 1:\n",
    "        print(\"Continuando...\")\n",
    "    else:\n",
    "        print(\"Saindo...\")\n",
    "\n",
    "while True:\n",
    "    n = int(input('Jogue: '))\n",
    "    if teste(n):\n",
    "        print(\"Ganhou\")\n",
    "        continuar()\n",
    "    else:\n",
    "        print(\"Perdeu\")\n",
    "        break\n",
    "print(\"Saiu\")"
   ]
  },
  {
   "cell_type": "code",
   "execution_count": null,
   "metadata": {},
   "outputs": [],
   "source": [
    "import random\n",
    "\n",
    "x = [1,2,3,4,5,3]\n",
    "y = [1,2]\n",
    "\n",
    "for item in y:\n",
    "    print(item)\n",
    "    x.remove(item)\n",
    "    \n",
    "print(x)\n",
    "\n",
    "x = [1,2,3,4,5,3]\n",
    "y = [1]\n",
    "\n",
    "x = random.choice([i for i in x if i not in y])\n",
    "\n",
    "x\n",
    "#random.choice(lista)"
   ]
  },
  {
   "cell_type": "code",
   "execution_count": 163,
   "metadata": {},
   "outputs": [
    {
     "name": "stdout",
     "output_type": "stream",
     "text": [
      "batata\n"
     ]
    }
   ],
   "source": [
    "arquivo = open(\"ola.txt\", \"w\", encoding=\"utf-8\")\n",
    "dictionary = {\n",
    "    'easy_list' : [],\n",
    "    'normal_list' : ['batata','torresmo'],\n",
    "    'round' : 1\n",
    "}\n",
    "print(dictionary['normal_list'][0])\n",
    "\n",
    "\n",
    "\n",
    "arquivo.close()"
   ]
  },
  {
   "cell_type": "code",
   "execution_count": 95,
   "metadata": {},
   "outputs": [],
   "source": [
    "\n",
    "details={'round' : 1, \n",
    "         'Easy' : ['batata','torresmo','bacon'],\n",
    "         'Normal' : ['cebola','potato'],\n",
    "         'Medium' : ['hotdog','croissant','candy']\n",
    "        } \n",
    "\n",
    "# write file\n",
    "with open(\"myfile.txt\", 'w') as f:  \n",
    "    for key, value in details.items():  \n",
    "        f.write(f'{key}:{value}\\n')\n",
    "f.close()\n",
    "    "
   ]
  },
  {
   "cell_type": "code",
   "execution_count": 138,
   "metadata": {},
   "outputs": [],
   "source": [
    "\n",
    "\n",
    "def loadGame():\n",
    "    # list all files inside saves folder\n",
    "    print(\"File(s) in folder:\")\n",
    "    for index, item in enumerate(os.listdir('saves')): print(f\"{str(index)} - {item.replace('.txt','')}\")\n",
    "    \n",
    "    # collect user input for fileName\n",
    "    while True:\n",
    "        try:\n",
    "            choice = int(input(\"Which file you want to load? \"))\n",
    "            fileName = ''.join([item for index, item in enumerate(os.listdir('saves')) if choice == index])\n",
    "        except ValueError:\n",
    "            print(\"Invalid input.\", end=\" \")\n",
    "        if fileName != '':\n",
    "            break\n",
    "        print(\"Try again!\")\n",
    "    \n",
    "    # read file and formats into a dictionary\n",
    "    try:\n",
    "        # read file\n",
    "        f = open('saves\\\\' + fileName, \"r\", encoding=\"utf-8\")\n",
    "        data = f.read().replace('\\'', '').replace('[','').replace(']','').split('\\n')\n",
    "        f.close()\n",
    "\n",
    "        # create dictonary\n",
    "        roundCount = data[0].split(':')\n",
    "        easy = data[1].strip(\" \").split(':')\n",
    "        normal = data[2].strip(\" \").split(':')\n",
    "        hard = data[3].strip(\" \").split(':')\n",
    "        \n",
    "        dictonary = {\n",
    "            roundCount[0] : int(roundCount[1]),\n",
    "            easy[0] : easy[1].replace(\" \",\"\").split(','),\n",
    "            normal[0] : normal[1].replace(\" \",\"\").split(','),\n",
    "            hard[0] : hard[1].replace(\" \",\"\").split(',')\n",
    "        }\n",
    "\n",
    "        return dictonary\n",
    "    \n",
    "    except IndexError:\n",
    "        print(\"File may be in wrong format or corrupted\")\n",
    "    except ValueError:\n",
    "        print(\"File may be in wrong format or corrupted\")"
   ]
  },
  {
   "cell_type": "code",
   "execution_count": 140,
   "metadata": {},
   "outputs": [
    {
     "name": "stdout",
     "output_type": "stream",
     "text": [
      "File(s) in folder:\n",
      "0 - blank\n",
      "1 - corruptedFile\n",
      "Which file you want to load? 0\n",
      "File may be wrong format or corrupted\n"
     ]
    }
   ],
   "source": [
    "loadGame()"
   ]
  },
  {
   "cell_type": "code",
   "execution_count": 141,
   "metadata": {},
   "outputs": [
    {
     "data": {
      "text/plain": [
       "{'round': 1, 'Easy': [], 'Normal': [], 'Hard': [], 'Debug': []}"
      ]
     },
     "execution_count": 141,
     "metadata": {},
     "output_type": "execute_result"
    }
   ],
   "source": [
    "gameFile = {\n",
    "    'round': 1,\n",
    "    'Easy': [],\n",
    "    'Normal': [],\n",
    "    'Hard': [],\n",
    "    'Debug': []\n",
    "}\n",
    "\n",
    "def saveGame(gameFile):\n",
    "    print(\"File(s) in folder:\")\n",
    "    for index, item in enumerate(os.listdir('saves')): print(f\"{str(index)} - {item.replace('.txt','')}\")\n",
    "        \n",
    "    while True:\n",
    "        fileName = input(\"Please input the name of the file: \")\n",
    "        if fileName in os.listdir('saves'):\n",
    "            choice = input(\"This file already exists, are you sure to overwrite data? (Yes/No/Return) \")\n",
    "            if choice == \"Yes\":\n",
    "                break\n",
    "            elif choice == \"No\":\n",
    "                continue\n",
    "            elif choice == \"Return\"\n",
    "                return print(\"Saving not completed.\")\n",
    "        else:\n",
    "            break\n",
    "    \n",
    "    # save file\n",
    "    with open(\"saves\\\\\" + fileName, 'w') as file:  \n",
    "    for key, value in gameFile.items():  \n",
    "        file.write(f'{key}:{value}\\n')\n",
    "    file.close()\n",
    "    print(\"Saved successfully!\")\n",
    "    sleep(1)"
   ]
  },
  {
   "cell_type": "code",
   "execution_count": 152,
   "metadata": {},
   "outputs": [
    {
     "data": {
      "text/plain": [
       "['.git', 'Modulo_1']"
      ]
     },
     "execution_count": 152,
     "metadata": {},
     "output_type": "execute_result"
    }
   ],
   "source": [
    "os.listdir(os.pardir)"
   ]
  },
  {
   "cell_type": "code",
   "execution_count": 324,
   "metadata": {},
   "outputs": [
    {
     "name": "stdout",
     "output_type": "stream",
     "text": [
      "empty list\n"
     ]
    }
   ],
   "source": [
    "level = 'level'\n",
    "wordList = ['STRAP', 'OBSTACLE', 'RESPONSIBILITY']\n",
    "gameFile['level'] = ['RESPONSIBILITY', 'STRAP', 'OBSTACLE']\n",
    "\n",
    "word = [item for item in wordList if item not in gameFile[level]]\n",
    "\n",
    "if word == []:\n",
    "    print('empty list')\n",
    "    \n",
    "else:\n",
    "    print(random.choice(word))"
   ]
  },
  {
   "cell_type": "code",
   "execution_count": 215,
   "metadata": {},
   "outputs": [],
   "source": [
    "fileName = 'Projeto/saves/teste.txt'\n",
    "\n",
    "def readList(fileName):\n",
    "    l = []\n",
    "    with open(fileName, \"r\") as file:\n",
    "        for item in file.read().split('\\n'):\n",
    "            l.append(item)\n",
    "    file.close()\n",
    "    return l\n",
    "\n",
    "def readList2(fileName):\n",
    "    file = open(fileName, 'r')\n",
    "    return [item for item in file.read().split('\\n')]"
   ]
  },
  {
   "cell_type": "code",
   "execution_count": null,
   "metadata": {},
   "outputs": [],
   "source": [
    "def readList(fileName, gameFile, level):\n",
    "    file = open(fileName, 'r')\n",
    "    wordList = [item for item in file.read().split('\\n')]\n",
    "    if [item for item in wordList if item not in gameFile[level]]==[]:\n",
    "        return print(\"You already finished this level.\")\n",
    "    else: \n",
    "        return wordList, level\n",
    "    \n",
    "def selection(choice, fileDict, gameFile):\n",
    "    for i in range(len(fileDict.keys())): \n",
    "        if choice == list(fileDict)[0]: \n",
    "            wordList = readList(fileDict[choice], gameFile, choice)"
   ]
  },
  {
   "cell_type": "code",
   "execution_count": 269,
   "metadata": {},
   "outputs": [
    {
     "ename": "SyntaxError",
     "evalue": "invalid syntax (<ipython-input-269-1ad5d8c8be5a>, line 18)",
     "output_type": "error",
     "traceback": [
      "\u001b[1;36m  File \u001b[1;32m\"<ipython-input-269-1ad5d8c8be5a>\"\u001b[1;36m, line \u001b[1;32m18\u001b[0m\n\u001b[1;33m    for i in range(len(fileDict.keys())) if choice == list(fileDict)[0]: wordList, level = readList(fileDict[choice], gameFile, choice)\u001b[0m\n\u001b[1;37m                                                                       ^\u001b[0m\n\u001b[1;31mSyntaxError\u001b[0m\u001b[1;31m:\u001b[0m invalid syntax\n"
     ]
    }
   ],
   "source": [
    "level = \"Debug\"\n",
    "gameFile = {\n",
    "    'round': 0,\n",
    "    'Easy': [],\n",
    "    'Normal': [],\n",
    "    'Hard': [],\n",
    "    'Debug': []\n",
    "}\n",
    "fileDict = {\n",
    "        'Easy' : \"Projeto\\word_list\\easy_list.txt\",\n",
    "        'Normal' : \"Projeto\\word_list\\\\normal_list.txt\",\n",
    "        'Hard' : \"Projeto\\word_list\\hard_list.txt\",\n",
    "        'Debug' : \"Projeto\\word_list\\debug_list.txt\",\n",
    "    }\n",
    "wordList = []\n",
    "for i in range(len(fileDict.keys())): print(\"> \" + list(fileDict)[i])\n",
    "choice = input().capitalize()\n",
    "for i in range(len(fileDict.keys())) \n",
    "    if choice == list(fileDict)[0]: \n",
    "        return readList(fileDict[choice], gameFile, choice)\n",
    "\n",
    "wordList"
   ]
  },
  {
   "cell_type": "code",
   "execution_count": 281,
   "metadata": {
    "scrolled": true
   },
   "outputs": [
    {
     "name": "stdout",
     "output_type": "stream",
     "text": [
      "1 - blank\n",
      "2 - corruptedFile\n",
      "3 - teste\n",
      "Which file you want to load? (Type 0 to return)0\n",
      "Leaving...\n"
     ]
    },
    {
     "data": {
      "text/plain": [
       "''"
      ]
     },
     "execution_count": 281,
     "metadata": {},
     "output_type": "execute_result"
    }
   ],
   "source": [
    "fileName = \"\"\n",
    "path = 'Projeto/saves'\n",
    "for index, item in enumerate(os.listdir(path)): print(f\"{str(index+1)} - {item.replace('.txt','')}\")\n",
    "choice = int(input(\"Which file you want to load? (Type 0 to return)\"))\n",
    "if choice == 0:\n",
    "    print(\"Leaving...\")\n",
    "else:\n",
    "    fileName = ''.join([item for index, item in enumerate(os.listdir(path)) if choice-1 == index])\n",
    "fileName"
   ]
  },
  {
   "cell_type": "code",
   "execution_count": 296,
   "metadata": {},
   "outputs": [
    {
     "name": "stdout",
     "output_type": "stream",
     "text": [
      "1 - blank\n",
      "2 - corruptedFile\n",
      "3 - teste\n",
      "Which file you want to load? (Type 0 to return)m\n",
      "Invalid input. Which file you want to load? (Type 0 to return)iajs9ujwin2\n",
      "Invalid input. Which file you want to load? (Type 0 to return)12\n",
      "File not found. Please try again.\n",
      "Which file you want to load? (Type 0 to return)3\n",
      "teste.txt\n"
     ]
    }
   ],
   "source": [
    "for index, item in enumerate(os.listdir(path)): print(f\"{str(index+1)} - {item.replace('.txt','')}\")\n",
    "while True:\n",
    "    try:\n",
    "        choice = int(input(\"Which file you want to load? (Type 0 to return)\"))\n",
    "        if choice == 0:\n",
    "            print(gameFile)\n",
    "            break\n",
    "        elif choice > len(os.listdir(path)):\n",
    "             print(\"File not found. Please try again.\")\n",
    "        else:\n",
    "            fileName = ''.join([item for index, item in enumerate(os.listdir(path)) if choice-1 == index])\n",
    "            break\n",
    "    except ValueError:\n",
    "        print(\"Invalid input.\", end=\" \")\n",
    "print(fileName)"
   ]
  },
  {
   "cell_type": "code",
   "execution_count": 307,
   "metadata": {},
   "outputs": [
    {
     "name": "stdout",
     "output_type": "stream",
     "text": [
      ": !\n",
      "True\n"
     ]
    }
   ],
   "source": [
    "letter = input(\": \")\n",
    "if len(letter) > 1 or not letter.isalpha():\n",
    "    print(True)\n",
    "else:\n",
    "    print(False)"
   ]
  }
 ],
 "metadata": {
  "kernelspec": {
   "display_name": "Python 3",
   "language": "python",
   "name": "python3"
  },
  "language_info": {
   "codemirror_mode": {
    "name": "ipython",
    "version": 3
   },
   "file_extension": ".py",
   "mimetype": "text/x-python",
   "name": "python",
   "nbconvert_exporter": "python",
   "pygments_lexer": "ipython3",
   "version": "3.8.5"
  }
 },
 "nbformat": 4,
 "nbformat_minor": 4
}
