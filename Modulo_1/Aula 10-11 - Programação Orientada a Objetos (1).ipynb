{
 "cells": [
  {
   "cell_type": "markdown",
   "metadata": {},
   "source": [
    "# Programação Orientada a Objetos\n",
    "Uma breve introdução a um dos mais utilizados paradigmas da programação<br><br>\n",
    "<div>\n",
    "<img src=\"http://arquivo.devmedia.com.br/marketing/img/programe-orientado-a-objetos.png\" width=\"500\"/>\n",
    "</div>"
   ]
  },
  {
   "cell_type": "markdown",
   "metadata": {},
   "source": [
    "## 👨‍🏫 O Professor 👨‍🏫\n",
    "\n",
    "#### Brian Andrade Nunes\n",
    "- Graduando de Engenharia de Computação - POLI - USP<br />\n",
    "- Professor na Let's Code\n",
    "- Estagiário no time de desenvolvimento do BTG Pactual\n",
    "- E-mail: brian.nunes@usp.br<br />\n",
    "- WhatsApp: (11) 96391-3887<br />"
   ]
  },
  {
   "cell_type": "markdown",
   "metadata": {},
   "source": [
    "## 📍 Tópicos de Hoje 📍\n",
    "<br>\n",
    "\n",
    "👣 [O que é Orientação a Objetos? Por que usar?](#1)\n",
    "\n",
    "👶 [Definição e composição de um objeto](#2)\n",
    "\n",
    "🚶‍♂️ [Classes: Como definir e usar objetos com Python?](#3)\n",
    "\n",
    "🏃 [O 4 Pilares da POO:](#4)\n",
    "- Abstração\n",
    "- Encapsulamento\n",
    "- Herança\n",
    "- Polimorfismo\n",
    "    \n",
    "🏆 [Exercícios](#5)\n",
    "\n",
    "🚀 [O futuro...](#6)"
   ]
  },
  {
   "cell_type": "markdown",
   "metadata": {},
   "source": [
    "## 🤔 O que é Orientação a Objetos? Por que usar? 🤔 <a class=\"anchor\" id=\"1\"></a>\n",
    "<br>\n",
    "\n",
    "<div align=\"justify\">\n",
    "&emsp; Uma vez aprendido a programação estrutural e fazer uso dela para projetos cada vez maiores, fica evidente que os códigos se tornam rapidamente longos, repetitivos e de difícil compreensão. Na programação orientada a objetos buscaremos uma nova perpectiva sobre os problemas que queremos resolver com programação, aproximando eles da vida real através da <strong>abstração</strong>, e assim conseguindo reduzir, simplificar e reutilizar código de maneira eficiente. <br>\n",
    "&emsp; É interessante notar que o Python é uma linguagem orientada a objetos, e vocês já vem utilizando conceitos deste paradigma sem saberem, mais a frente vocês entenderão alguns. Outros exemplos de linguagens orientadas a objetos são: Java, C#, PHP, entre outras. <br>\n",
    "&emsp; Ao final da aula de hoje vocês serão capazes de desenvolver um bichinho virtual para fixação dos conceitos aprendidos ao longo da aula.\n",
    "</div>"
   ]
  },
  {
   "cell_type": "markdown",
   "metadata": {},
   "source": [
    "## 🚗 Definição e composição de um objeto 🚗 <a class=\"anchor\" id=\"2\"></a>\n",
    "<br>\n",
    "\n",
    "> “Coisa material ou abstrata que pode ser percebida pelos sentidos e descrita através de suas características, comportamentos e estados atuais.” <br>\n",
    "\n",
    "&emsp; Ou seja, são objetos materiais(carro, animal, computador) e imateriais(conta corrente, venda, sistema) que iremos descrever em código através de suas características, que chamaremos de atributos (que por sua vez recebem estados), e seus comportamentos, que chamaremos de métodos."
   ]
  },
  {
   "cell_type": "markdown",
   "metadata": {},
   "source": [
    "### Atributos\n",
    "\n",
    "&emsp; Em um raciocínio paralelo atributos são parecidos com variáveis dentro de objetos, e para melhor compreensão podemos usar um carro e uma conta corrente como objetos materiais e imateriais respectivamente. <br>\n",
    "&emsp; Um carro pode possuir atributos como sua cor, ano de fabricação, estado de uso e velocidade. Estes atributos por sua vez receberiam estados como: 'Vermelho' para a cor, '2017' para o ano, 'Novo' para o estado de uso e 0 para velocidade. <br>\n",
    "&emsp; Um conta corrente contém, dentre outras características (que definiremos como atributos): saldo, titular e limite. E podemos aplicar estados como '1.000.000' para o saldo, 'Brian Andrade Nunes' para o titular, '10.000' para o limite. Note que esses dados ~infelizmente~ não refletem a realidade da conta corrente do professor."
   ]
  },
  {
   "cell_type": "markdown",
   "metadata": {},
   "source": [
    "### Métodos\n",
    "\n",
    "&emsp; Ainda na nossa linha de raciocínio relacionando com a programação estrutural os métodos são parecidos com funções dentro de objetos, e podemos usar os mesmos exemplos para explicar o conceito. <br>\n",
    "&emsp; Um carro tem ações como acelerar, frear e podemos até pinta-lo se você assim o quiser, estes métodos receberão parâmetros (como já vimos em funções) e afetarão os atributos do carro. (Note que um método de um objeto não precisa afetar seus atributos). <br>\n",
    "&emsp; Uma conta corrente pode receber e gastar dinheiro, além de receber alterações no seu limite de crédito, estas ações também serão vistas como métodos no objeto conta corrente."
   ]
  },
  {
   "cell_type": "markdown",
   "metadata": {},
   "source": [
    "## 💾 Classes: Como definir e usar objetos com Python? 💾 <a class=\"anchor\" id=\"3\"></a>\n",
    "\n",
    "&emsp; Uma classe é uma _blueprint_ de um objeto, ou seja, nela definimos o escopo geral do objeto que por sua vez será **instanciado** para ser utilizado. É interessante perceber que a classe, se comportando como uma _blueprint_, pode gerar (intanciar) vários objetos independentes entre sí. <br>\n",
    "&emsp; Nos exemplos anteriores podemos pensar uma loja de carros e um banco, uma terá diversos carros e o outro diversas contas e esses objetos serão provenientes da mesma classe e independentes entre sí. <br>"
   ]
  },
  {
   "cell_type": "markdown",
   "metadata": {},
   "source": [
    "### Na prática:\n",
    "&emsp; Abaixo podemos ver como seriam definidas as classes dos objetos que estamos usando de exemplo ao longo da aula, vemos a palavra chave '_class_' para definir uma classe, seguida de seu nome e 'object' entre parênteses (este atributo da classe será esclarecido, mas por enquanto vamos apenas ignora-lo). è importante ressaltar algumas peculiaridades do python que podem gerar estranhesa caso vocês já tenham tido contado com outras linguagens orientada a objetos:\n",
    "- Podemos definir atributos de uma classe fora dela.\n",
    "- O parâmetro _self_ é frequentemente utilizado e serve para referenciar o próprio objeto (Será esclarecido nos exemplos).\n",
    "- O **construtor** em Python é definito de maneira muito singular. Mas pera ai?! O que é um construtor? Um construtor nada mais é que o método chamado automaticamente quando você intancia uma classe, por isso o nome, pois ele irá \"construir\" o objeto."
   ]
  },
  {
   "cell_type": "markdown",
   "metadata": {},
   "source": [
    "#### Para o objeto Carro:"
   ]
  },
  {
   "cell_type": "code",
   "execution_count": null,
   "metadata": {},
   "outputs": [],
   "source": [
    "# Esse parâmetro object será melhor abordado já já quando falarmos de herança\n",
    "class Carro(object):\n",
    "    # Este aqui é o método do contrutor! Ele sempre tem esse nome.\n",
    "    # Aqui nosso construtor recebe uma referência para o objeto que está contruindo: 'self'\n",
    "    # e todos os estados que serão atribuidos aos atributos.\n",
    "    def __init__(self, cor, ano, estado, velocidade):\n",
    "        self.cor = cor\n",
    "        self.ano = ano\n",
    "        self.estado = estado\n",
    "        self.velocidade = velocidade\n",
    "        \n",
    "    # O método acelerar nos permite aumentar a velocidade do carro baseado em uma aceleração e o tempo que ela é aplicada \n",
    "    def acelerar(self, aceleracao, tempo):\n",
    "        self.velocidade += aceleracao * tempo\n",
    "        \n",
    "    # O método frear nos permite diminuir a velocidade do carro baseado em uma desaceleração e o tempo que ela é aplicada \n",
    "    def frear(self, desaceleracao, tempo):\n",
    "        self.velocidade -= desaceleracao * tempo\n",
    "        \n",
    "    # O método pintar altera a cor do carro a partir da cor recebida nos parâmetros.\n",
    "    def pintar(self, novaCor):\n",
    "        self.cor = novaCor\n",
    "        "
   ]
  },
  {
   "cell_type": "code",
   "execution_count": null,
   "metadata": {},
   "outputs": [],
   "source": [
    "# Aqui estamos instanciando o objeto carro\n",
    "# Repare que chamamos a classe semelhante a uma função, e passamos os atributos que serão utilizados no construtor\n",
    "# Isso se deve pois estamos chamando o contrutor de uma classe para \"construir\" o nosso carro da maneira que pedimos\n",
    "fiesta = Carro('Vermelho', 2017, 'Novo', 0)"
   ]
  },
  {
   "cell_type": "markdown",
   "metadata": {},
   "source": [
    "##### Exemplos de uso dos métodos"
   ]
  },
  {
   "cell_type": "code",
   "execution_count": null,
   "metadata": {},
   "outputs": [],
   "source": [
    "# Podemos nos referir aos atributos de um objeto com o nome dele seguido de um ponto e o atributo desejado:\n",
    "print('Cor: ', fiesta.cor)\n",
    "print('Ano: ', fiesta.ano)\n",
    "print('Velocidade: ', fiesta.velocidade)\n",
    "\n",
    "print('\\nAcelerando fiesta 2m/s^2 por 5 segundos...\\n')\n",
    "fiesta.acelerar(2, 5)\n",
    "\n",
    "print('Nova velocidade: ', fiesta.velocidade)"
   ]
  },
  {
   "cell_type": "code",
   "execution_count": null,
   "metadata": {},
   "outputs": [],
   "source": [
    "# Note que podemos acrescentar atributos por fora da classe de maneira dinâmica\n",
    "fiesta.seguro  = True\n",
    "print(fiesta.seguro)"
   ]
  },
  {
   "cell_type": "markdown",
   "metadata": {},
   "source": [
    "#### Para o objeto Conta Corrente\n",
    "&emsp; Vamos agora trabalhar com a conta corrente que se trata de um objeto abstrato/imaterial apenas para que vocês notem que não há diferença na descrição de código."
   ]
  },
  {
   "cell_type": "code",
   "execution_count": null,
   "metadata": {},
   "outputs": [],
   "source": [
    "class contaCorrente(object):\n",
    "    # Similar ao carro temos um construtor com os atributos da conta corrente\n",
    "    # além da definição da fatura que vem por padrão zerada (o underline do atributo sera explicado já já, não se preocupe)\n",
    "    def __init__(self, saldo, titular, limite):\n",
    "        self.saldo = saldo\n",
    "        self.titular = titular\n",
    "        self.limite = limite\n",
    "        self._fatura = 0\n",
    "        \n",
    "    # O método gastar retira valores do saldo a medida do possivel (que não negative a conta)\n",
    "    def gastar(self, valor):\n",
    "        if self.saldo > valor:\n",
    "            self.saldo -= valor\n",
    "        else:\n",
    "            print('Saldo insuficiente.')\n",
    "        \n",
    "    # O método ganhar acrescenta valor ao saldo\n",
    "    def ganhar(self, valor):\n",
    "        self.saldo += valor\n",
    "        \n",
    "    # Esse método irá aumentar a fatura, mas antes irá conferir se o limite permite a operação\n",
    "    def gastarCredito(self, valor):\n",
    "        if((self._fatura + valor) <= self.limite):\n",
    "            self._fatura += valor\n",
    "        else:\n",
    "            print('Esta compra está acima do seu limite de compra.')\n",
    "       \n",
    "    # O método pagaFatura diminui a fatura a medidade que o saldo permite e o cliente quer\n",
    "    def pagaFatura(self, valor):\n",
    "        if(self.saldo >= valor):\n",
    "            if(0 >= self._fatura - valor):\n",
    "                self._fatura -= valor;\n",
    "                self.saldo -= valor;\n",
    "            else:\n",
    "                print('Este valor está acima da sua fatura de:', self._fatura)\n",
    "        else:\n",
    "            print('Você não possui saldo para esta operação')\n",
    "\n",
    "    #getter da fatura (isso será exeplicado junto com o underline do atributo, está tudo em ordem por aqui!)\n",
    "    @property\n",
    "    def fatura(self):\n",
    "        return self._fatura"
   ]
  },
  {
   "cell_type": "code",
   "execution_count": null,
   "metadata": {},
   "outputs": [],
   "source": [
    "# Instanciamos a conta com os atributos exemplos\n",
    "conta = contaCorrente(1000000, 'Brian Andrade Nunes', 10000)"
   ]
  },
  {
   "cell_type": "markdown",
   "metadata": {},
   "source": [
    "##### Exemplos de uso dos métodos"
   ]
  },
  {
   "cell_type": "code",
   "execution_count": null,
   "metadata": {},
   "outputs": [],
   "source": [
    "print('Saldo:', conta.saldo)\n",
    "print('Comprando carrão novo...')\n",
    "conta.gastar(350000)\n",
    "print('Novo saldo:', conta.saldo)"
   ]
  },
  {
   "cell_type": "code",
   "execution_count": null,
   "metadata": {},
   "outputs": [],
   "source": [
    "print('Fatura:', conta.fatura, ' | Limite:', conta.limite)\n",
    "print('Estourando o cartão com R$15.000...')\n",
    "conta.gastarCredito(15000)\n",
    "print('Tirando alguns itens do carrinho e gastando apenas R$7.500...')\n",
    "conta.gastarCredito(7500)\n",
    "print('Nova fatura:', conta.fatura, ' | Limite:', conta.limite)"
   ]
  },
  {
   "cell_type": "markdown",
   "metadata": {},
   "source": [
    "## 🗼 O 4 Pilares da POO 🗼 <a class=\"anchor\" id=\"4\"></a>\n",
    "\n",
    "### Abstração\n",
    "\n",
    "&emsp; A abstração é um dos, se não o mais, importante dos pilares, ele consiste em abstrair elementos da vida real para código como fizemos acima. Essa parte é fundamental, portanto deve ser muito bem feita, um programa bem modelado será fácil de escrever, já um mal modelado terá problemas. Lembre-se: para fazer sentido no programa deve fazer sentido na vida real e para transformamos uma situação real em código corretamente devemos nos atentar ao que é realmente necessário. Elaborar uma classe com atributos desnecessário ou mesmo com coisas faltando gerará problemas num futuro breve do desenvolvimento.\n",
    "\n",
    "### Encapsulamento\n",
    "\n",
    "&emsp; Encapsulamento é o pilar que mantém o código organizado no quesito de acessos, ou seja, uma classe terá atributos acessíveis, e outros atributos que são de uso interno da classe e não devem ser alterados indiscrimindamente. Um exemplo prático seria usar um computador e ter fácil acesso a todo o _hardware_ dentro da máquina, para o usuário comum isso não é só inútil como é perigoso pois ele pode estragar algum componente que ele não deveria mexer, portanto devemos nos atentar a esconder esse hardware. Na programação definimos isso como atributos públicos e privados. <br>\n",
    "&emsp; Nos nossos exemplos podemos enxergar a fatura da conta corrente como um atributo privado, pois ela é definida e alterada por funções dentro da classe então não deveria ser mexida diretamente fora da classe. No Python temos a convençao de usar um _underline_ para explicitar um atributo que não deve ser mexido arbitráriamente. E para acessar e mudar esse atributo? Utilizaremos os _getters_ e _setters_ que são funções para definir e pegar valores dos atributos, no Python faremos uso de decoradores para isso. Repare que no nosso código da conta corrente não temos _setters_ para a fatura, pelo simples motivo que não é necessário, já o _getter_ é necessário, pois o cliente pode querer consultar a própria fatura. Um _setter_ seria definido similar ao exemplo abaixo dentro de uma classe (note que para definirmos o _setter_ precisamos do _getter_, mas o _getter_ não depende do _setter_): <br>\n"
   ]
  },
  {
   "cell_type": "code",
   "execution_count": null,
   "metadata": {},
   "outputs": [],
   "source": [
    "    @property\n",
    "    def variavel(self):\n",
    "        return self._variavel\n",
    "\n",
    "    @variavel.setter\n",
    "    def variavel(self, novaVariavel):\n",
    "        self._variavel = novaVariavel"
   ]
  },
  {
   "cell_type": "markdown",
   "metadata": {},
   "source": [
    "&emsp; Vocês enxergam outro atributo que deveria ser privado? Qual? O que deveria ser mudado no código para isso?"
   ]
  },
  {
   "cell_type": "markdown",
   "metadata": {},
   "source": [
    "### Polimorfismo\n",
    "\n",
    "&emsp; Polimorfismo é a capacidade de um método ter mais de um comportamento mas com o mesmo nome. Como assim? Simples, imagine que definimos uma classe pai 'Animal' com o método 'locomove()', e então criamos as classes filhas 'Passaro', 'Peixe' e 'Cachorro' que herdam a classe 'Animal'. O meio de locomoção para cada animal seria diferente não é? Então iremos redefinir o método locomove nas classes filhas a fim de reciclar código e manter a lógica do modelo de objetos.<br>"
   ]
  },
  {
   "cell_type": "code",
   "execution_count": null,
   "metadata": {},
   "outputs": [],
   "source": [
    "class Animal(object):\n",
    "    def __init__(self, cor, tamanho):\n",
    "        self.cor = cor\n",
    "        self.tamanho = tamanho\n",
    "        \n",
    "    def locomove(self):\n",
    "        print('O animal anda.')\n",
    "\n",
    "\n",
    "class Passaro(Animal):\n",
    "    def locomove(self):\n",
    "        print('O pássaro voa.')\n",
    "        \n",
    "        \n",
    "class Peixe(Animal):\n",
    "    def locomove(self):\n",
    "        print('O peixe nada.')\n",
    "     \n",
    "    \n",
    "class Cachorro(Animal):\n",
    "    def locomove(self):\n",
    "        print('O cachorro anda.')\n",
    "        \n",
    "\n",
    "piupiu = Passaro('Azul', 'Pequeno')\n",
    "nemo = Peixe('Laranja', 'Minúsculo')\n",
    "billy = Cachorro('Preto', 'Grande')\n",
    "\n",
    "piupiu.locomove()\n",
    "nemo.locomove()\n",
    "billy.locomove()"
   ]
  },
  {
   "cell_type": "markdown",
   "metadata": {},
   "source": [
    "### Herança\n",
    "\n",
    "&emsp; Agora é o momento em que explicaremos o parâmetro 'object' na definição das classes. Para isso precisamos entender o conceito de herança, imagine no nosso exemplo de carro que queremos ampliar os meios de transporte, e queremos ter bicicletas e aviões, são meios bem distintos, não? Mas apresentam muitos atributos e métodos em comum também, deveriamos repetir o código para todos? Claro que não! Essa é justamente uma das vantagens da orientação objetos: a reutilização de código. Como podemos fazer então? <br>\n",
    "&emsp; Geramos uma classe que será a classe pai, nela definiremos todos os atributos e métodos em comum daquilo que queremos, no nosso exemplo temos: <br>"
   ]
  },
  {
   "cell_type": "code",
   "execution_count": null,
   "metadata": {},
   "outputs": [],
   "source": [
    "class Transporte(object):\n",
    "    # Construtor genérico\n",
    "    def __init__(self, cor, ano, estado, velocidade):\n",
    "        self.cor = cor\n",
    "        self.ano = ano\n",
    "        self.estado = estado\n",
    "        self.velocidade = velocidade\n",
    "        \n",
    "    # O método acelerar nos permite aumentar a velocidade do transporte baseado em uma aceleração e o tempo que ela é aplicada \n",
    "    def acelerar(self, aceleracao, tempo):\n",
    "        self.velocidade += aceleracao * tempo\n",
    "        \n",
    "    # O método frear nos permite diminuir a velocidade do transporte baseado em uma desaceleração e o tempo que ela é aplicada \n",
    "    def frear(self, desaceleracao, tempo):\n",
    "        self.velocidade -= desaceleracao * tempo\n",
    "        \n",
    "    # O método pintar altera a cor do transporte a partir da cor recebida nos parâmetros.\n",
    "    def pintar(self, novaCor):\n",
    "        self.cor = novaCor"
   ]
  },
  {
   "cell_type": "markdown",
   "metadata": {},
   "source": [
    "&emsp; Repare que a classe transporte herda a classe _object_, que é a classe genérica para definir objetos, entendeu o por que ele apareceu lá atrás? <br>\n",
    "&emsp; Agora vamos criar nossos três meios citados a partir da classe transporte, para carro não vamos passar nada novo, para bicileta teremos o aro e para avião a capacidade maxima de pessoas e um método para se comunicar com a torre de comando:"
   ]
  },
  {
   "cell_type": "code",
   "execution_count": null,
   "metadata": {},
   "outputs": [],
   "source": [
    "class Carro(Transporte):\n",
    "    # O Python não aceita classes vazias, portanto precisamos por a chave 'pass' para indicar isso\n",
    "    # logo a classe carro tem apenas o que ela herda de transporte\n",
    "    pass"
   ]
  },
  {
   "cell_type": "code",
   "execution_count": null,
   "metadata": {},
   "outputs": [],
   "source": [
    "class Bicicleta(Transporte):\n",
    "    # Redefiniremos o contrutor de bicleta, utilizando o mesmo da 'super' (classe pai), e mais a atribuição do aro\n",
    "    # as outras funções permanescerão iguais\n",
    "    def __init__(self, cor, ano, estado, velocidade, aro):\n",
    "        # Na chamada da função não precisamos usar o self como parâmetro\n",
    "        super().__init__(cor, ano, estado, velocidade) \n",
    "        self.aro = aro"
   ]
  },
  {
   "cell_type": "code",
   "execution_count": null,
   "metadata": {},
   "outputs": [],
   "source": [
    "class Aviao(Transporte):\n",
    "    # Alteração semelhante a da bicicleta mas para outro dado\n",
    "    def __init__(self, cor, ano, estado, velocidade, capacidade):\n",
    "        super().__init__(cor, ano, estado, velocidade) \n",
    "        self.capacidade = capacidade\n",
    "        \n",
    "    def comunicaTorre(self, comunicado):\n",
    "        print('Comunicado para torre:', comunicado)"
   ]
  },
  {
   "cell_type": "markdown",
   "metadata": {},
   "source": [
    "&emsp; Agora vamos instanciar as classes e fazer alguns testes:"
   ]
  },
  {
   "cell_type": "code",
   "execution_count": null,
   "metadata": {},
   "outputs": [],
   "source": [
    "carro = Carro('Vermelho', 2017, 'Usado', 0)\n",
    "bike = Bicicleta('Azul', 2021, 'Nova', 20, 21)\n",
    "aviao = Aviao('Branco', 2015, 'Usado', 100, 233)"
   ]
  },
  {
   "cell_type": "code",
   "execution_count": null,
   "metadata": {},
   "outputs": [],
   "source": [
    "# Todos possuem ano\n",
    "print('Anos:')\n",
    "print('Carro:', carro.ano)\n",
    "print('Bicicleta:', bike.ano)\n",
    "print('Avião:', aviao.ano, '\\n')\n",
    "\n",
    "# Todos aceleram\n",
    "print('Velocidades:')\n",
    "print('Carro:', carro.velocidade)\n",
    "print('Bicicleta:', bike.velocidade)\n",
    "print('Avião:', aviao.velocidade, '\\n')\n",
    "print('Acelerando tudooo...\\n')\n",
    "carro.acelerar(2, 5)\n",
    "bike.acelerar(1, 3)\n",
    "aviao.acelerar(10, 3)\n",
    "print('Velocidades:')\n",
    "print('Carro:', carro.velocidade)\n",
    "print('Bicicleta:', bike.velocidade)\n",
    "print('Avião:', aviao.velocidade)"
   ]
  },
  {
   "cell_type": "code",
   "execution_count": null,
   "metadata": {},
   "outputs": [],
   "source": [
    "# Apenas a bike tem aro, e apenas o avião possui capacidade\n",
    "print('Aro: ', bike.aro)\n",
    "print('Capacidade: ', aviao.capacidade)\n",
    "try:\n",
    "    print('Capacidade Carro: ', carro.capacidade)\n",
    "except:\n",
    "    print('Carro não possui definição de capacidade...')"
   ]
  },
  {
   "cell_type": "code",
   "execution_count": null,
   "metadata": {},
   "outputs": [],
   "source": [
    "#Somente avião se comunica com a torre\n",
    "aviao.comunicaTorre('Solicito permissão para pousar.')\n",
    "try:\n",
    "    carro.comunicaTorre('Quero trocar de faixa!')\n",
    "except:\n",
    "    print('Carro não conseguiu comunicar a torre...')"
   ]
  },
  {
   "cell_type": "markdown",
   "metadata": {},
   "source": [
    "&emsp; Por último, temos a função '_isinstance()_' para saber se um objeto é instancia de outro, e é interessante ver o comportamento em classes herdadas:"
   ]
  },
  {
   "cell_type": "code",
   "execution_count": null,
   "metadata": {},
   "outputs": [],
   "source": [
    "# Esperamos que todos os meios sejam instância de transporte\n",
    "# Mas que apenas carro seja instância de carro\n",
    "print(isinstance(carro, Transporte), isinstance(carro, Carro))\n",
    "print(isinstance(bike, Transporte), isinstance(bike, Carro))\n",
    "print(isinstance(aviao, Transporte), isinstance(aviao, Carro))"
   ]
  },
  {
   "cell_type": "markdown",
   "metadata": {},
   "source": [
    "## 🎯 Exercícios 🎯 <a class=\"anchor\" id=\"5\"></a>\n",
    "\n",
    "&emsp; As vantagens da orientação a objetos não é muito evidente para códigos simples, por isso vamos práticar com um exemplo mais elaborado, mas não se preocupem, vamos utilizar conceitos básicos de maneira mais intensa para fixar os conceitos, e só depois acrescentaremos alguns tópicos mais complexos para entender bem eles também.\n",
    "\n",
    "### Bichinho Virtual\n",
    "&emsp; Crie um bichinho virtual com os atributos: 'nome', 'idade', 'felicidade', 'saude' e 'alimentacao'. Cada um desses campos (exceto 'idade' e 'nome') devem ter um máximo de 100 e mínimo de 0, o nome será definido no construtor, a idade será iniciada em 0 e contada pelos dias e os outros atributos irão começar no máximo (100); além disso defina os métodos: brincar, comer, exercitar e dormir, estes métodos (exceto o dormir) devem aumentar em 10 pontos os atributos positivos (felicidade, alimentacao e saude, respectivamente) do bichinho, e o dormir deve envelhecer ele em um dia e diminuir os atributos positivos de maneira aleatória (de 5 a 20 pontos). <br>\n",
    "&emsp; O código base pedirá um nome para o bichinho e em seguida entrará em um loop imprimindo os dados dele e pedindo uma ação (B - Brincar, C - Comer, E - Exercitar, D - Dormir), caso algum atributo positivo zere será exibido uma mensagem que o bichinho fugiu em busca de um dono mais responsável, e caso 10 dias se passem e ele continue com o dono é exibida uma mensagem que ele se tornou um adulto e foi viver a própria vida feliz graças ao bom dono que teve.<br>\n",
    "&emsp; Abaixo vocês tem o código do exercício, notem que vocês devem apenas criar o objeto, todo o resto ja foi programado, leiam o código, entendam o que ja existe nele e programem seus objetos para cumprir o que é pedido a partir do que já existe. <br>\n",
    "&emsp; Dica: a biblioteca _random_ possui a função _randint_ que recebe dois parâmetros inteiros e retorna um inteiro aleatório entre eles. Após importar a biblioteca podemos chamar a função com 'random.randint(a, b)', sendo 'a' e 'b' o menor e maior inteiro do intervalos que você deseja."
   ]
  },
  {
   "cell_type": "code",
   "execution_count": null,
   "metadata": {},
   "outputs": [],
   "source": [
    "import random\n",
    "\n",
    "\n",
    "# Coloque aqui dentro o código do seu objeto Bichinho (Apague o \"pass\")\n",
    "class Bichinho(object):\n",
    "    pass\n",
    "\n",
    "\n",
    "# Intancia o bichinho com o nome fornecido\n",
    "nomeBichinho = input('Insira o nome do seu bichinho virtual: ')\n",
    "b = Bichinho(nomeBichinho)\n",
    "\n",
    "# Enquanto não acabar roda o loop\n",
    "fim = False\n",
    "while not fim:\n",
    "    #Da o feedback do dia\n",
    "    print('\\nHoje', b.nome, 'está com', b.idade, 'dias.')\n",
    "    comando = 'A'\n",
    "    #pede todos os comandos do dia em loop\n",
    "    while comando != 'D':\n",
    "        #da o feedback da rodada\n",
    "        print('Status:')\n",
    "        print('Alimentação: ', b.alimentacao, '| Saúde:', b.saude, '| Felicidade:', b.felicidade)\n",
    "        print('O que', b.nome, 'deve fazer agora? (B - Brincar, C - Comer, E - Exercitar, D - Dormir)')\n",
    "\n",
    "        # Recebe comando e trata possiveis erros\n",
    "        while comando != 'B' and comando != 'C' and comando != 'E' and comando != 'D':\n",
    "            comando = input()\n",
    "            if comando != 'B' and comando != 'C' and comando != 'E' and comando != 'D':\n",
    "                print('Digite um comando válido.')\n",
    "\n",
    "        # Executa método de acordo com opcao do usuario\n",
    "        if comando == 'B':\n",
    "            b.brincar()\n",
    "            comando = 'A'\n",
    "        elif comando == 'C':\n",
    "            b.comer()\n",
    "            comando = 'A'\n",
    "        elif comando == 'E':\n",
    "            b.exercitar()\n",
    "            comando = 'A'\n",
    "        elif comando == 'D':\n",
    "            b.dormir()\n",
    "\n",
    "        # Confere se perdeu ou ganhou, da retorno e finaliza o jogo caso seja necessario\n",
    "        if b.alimentacao <= 0 or b.saude <= 0 or b.felicidade <= 0:\n",
    "            print('\\n', b.nome, 'fugiu procurando por um dono mais responsável...')\n",
    "            fim = True\n",
    "        elif b.idade >= 10:\n",
    "            print('\\n', b.nome, 'se tornou adulto e foi viver uma vida feliz graças ao bom dono que teve!')\n",
    "            fim = True\n"
   ]
  },
  {
   "cell_type": "markdown",
   "metadata": {},
   "source": [
    "### Desafio - Melhorias para o bichinho\n",
    "\n",
    "&emsp; Vamos ampliar nossas possibilidades e criar duas espécies de bichinhos, além de adicionar um atributo 'geral' para o bichinho que será a média dos outros atributos positivos, note que esse atributo deve ser privado já que é gerado e alterado internamente na classe e lembre-se que devemos fazer um _getter_ para acessar esse atributo, use o nome 'geral' para o método. Na parte das duas espécies, use a classe bichinho como pai e gere duas classes filhas para a espécie 'Gazorp' e a espécie 'Bakerd', e altere o comportamento, utilizando o conceito de polimorfismo, para que Gazorps sintam 20% mais fome (decai 20% mais) e tenham saude 20% melhor (decai 20% menos), e para que os Bakerds fiquem 100% mais felizes com as brincadeiras (dobro de aumento de felicidade por brincadeira), mas que sua felicidade decaia 50% mais rápido em compensação. <br>\n",
    "&emsp; O código base ja está alterado para essas mudanças, você deve apenas preencher as classe Bichinho, Gazorp e Bakerd para finalizar o exercício. Leia o código fornecido e utilize ele de base para desenvolvimento de suas classes."
   ]
  },
  {
   "cell_type": "code",
   "execution_count": null,
   "metadata": {},
   "outputs": [],
   "source": [
    "import random\n",
    "\n",
    "\n",
    "# Coloque aqui dentro o código do seu objeto Bichinho (apague o \"pass\")\n",
    "class Bichinho(object):\n",
    "    pass\n",
    "\n",
    "# Coloque aqui dentro o código do seu objeto Gazorp, altere a herança\n",
    "class Gazorp(Bichinho):\n",
    "    # Usa a polimorfia para redefinir dormir\n",
    "    def dormir(self):\n",
    "        self.idade += 1\n",
    "\n",
    "        # Diminuido decaimento da saude\n",
    "        deltaSaude = random.randint(8, 20)\n",
    "        if self.saude < deltaSaude:\n",
    "            self.saude = 0\n",
    "        else:\n",
    "            self.saude -= deltaSaude\n",
    "\n",
    "        deltaFelicidade = random.randint(10, 25)\n",
    "        if self.felicidade < deltaFelicidade:\n",
    "            self.felicidade = 0\n",
    "        else:\n",
    "            self.felicidade -= deltaFelicidade\n",
    "\n",
    "        # Aumentando decaimento da alientacao\n",
    "        deltaAlimentacao = random.randint(12, 30)\n",
    "        if self.alimentacao < deltaAlimentacao:\n",
    "            self.alimentacao = 0\n",
    "        else:\n",
    "            self.alimentacao -= deltaAlimentacao\n",
    "            \n",
    "        self.atualizaGeral()\n",
    "\n",
    "\n",
    "# Coloque aqui dentro o código do seu objeto Bakerd, altere a herança\n",
    "class Bakerd(Bichinho):\n",
    "    # Redefine brincar para incrementar o dobro\n",
    "    def brincar(self):\n",
    "        if self._felicidade < 80:\n",
    "            self._felicidade += 20\n",
    "        else:\n",
    "            self._felicidade = 100\n",
    "        self.atualizaGeral()\n",
    "\n",
    "    # Redefine dormir\n",
    "    def dormir(self):\n",
    "        self.idade += 1\n",
    "\n",
    "        deltaSaude = random.randint(10, 25)\n",
    "        if self._saude < deltaSaude:\n",
    "            self._saude = 0\n",
    "        else:\n",
    "            self._saude -= deltaSaude\n",
    "\n",
    "        # Aumenta decaimento de felicidade\n",
    "        deltaFelicidade = random.randint(15, 38)\n",
    "        if self._felicidade < deltaFelicidade:\n",
    "            self._felicidade = 0\n",
    "        else:\n",
    "            self._felicidade -= deltaFelicidade\n",
    "\n",
    "        deltaAlimentacao = random.randint(10, 25)\n",
    "        if self._alimentacao < deltaAlimentacao:\n",
    "            self._alimentacao = 0\n",
    "        else:\n",
    "            self._alimentacao -= deltaAlimentacao\n",
    "            \n",
    "        self.atualizaGeral()\n",
    "\n",
    "\n",
    "# Pede a especie desejada\n",
    "especieBichinho = input('Qual espécie você quer criar? (G - Gazorp | B - Bakerd): ')\n",
    "while especieBichinho != 'G' and especieBichinho != 'B':\n",
    "    especieBichinho = input('Digite um input válido!\\nQual espécie você quer criar? (G - Gazorp | B - Bakerd): ')\n",
    "\n",
    "# Pede nome\n",
    "nomeBichinho = input('Insira o nome do seu bichinho virtual: ')\n",
    "\n",
    "# Instancia a partir da escolha de espécie\n",
    "if especieBichinho == 'G':\n",
    "    b = Gazorp(nomeBichinho)\n",
    "elif especieBichinho == 'B':\n",
    "    b = Bakerd(nomeBichinho)\n",
    "\n",
    "# Enquanto não acabar roda o loop\n",
    "fim = False\n",
    "while not fim:\n",
    "    #Da o feedback do dia\n",
    "    print('\\nHoje', b.nome, 'está com', b.idade, 'dias.')\n",
    "    comando = 'A'\n",
    "    #pede todos os comandos do dia em loop\n",
    "    while comando != 'D':\n",
    "        #da o feedback da rodada\n",
    "        print('Status:')\n",
    "        print('Alimentação: ', b.alimentacao, '| Saúde:', b.saude, '| Felicidade:', b.felicidade, '| Geral:', b.geral)\n",
    "        print('O que', b.nome, 'deve fazer agora? (B - Brincar, C - Comer, E - Exercitar, D - Dormir)')\n",
    "\n",
    "        # Recebe comando e trata possiveis erros\n",
    "        while comando != 'B' and comando != 'C' and comando != 'E' and comando != 'D':\n",
    "            comando = input()\n",
    "            if comando != 'B' and comando != 'C' and comando != 'E' and comando != 'D':\n",
    "                print('Digite um comando válido.')\n",
    "\n",
    "        # Executa método de acordo com opcao do usuario\n",
    "        if comando == 'B':\n",
    "            b.brincar()\n",
    "            comando = 'A'\n",
    "        elif comando == 'C':\n",
    "            b.comer()\n",
    "            comando = 'A'\n",
    "        elif comando == 'E':\n",
    "            b.exercitar()\n",
    "            comando = 'A'\n",
    "        elif comando == 'D':\n",
    "            b.dormir()\n",
    "\n",
    "        # Confere se perdeu ou ganhou, da retorno e finaliza o jogo caso seja necessario\n",
    "        if b.alimentacao <= 0 or b.saude <= 0 or b.felicidade <= 0:\n",
    "            print('\\n', b.nome, 'fugiu procurando por um dono mais responsável...')\n",
    "            fim = True\n",
    "        elif b.idade >= 10:\n",
    "            print('\\n', b.nome, 'se tornou adulto e foi viver uma vida feliz graças ao bom dono que teve!')\n",
    "            fim = True\n"
   ]
  },
  {
   "cell_type": "markdown",
   "metadata": {},
   "source": [
    "## 🌌 O futuro... 🌌 <a class=\"anchor\" id=\"6\"></a>\n",
    "\n",
    "&emsp; Agora vocês devem estar se perguntando quais os próximos passos. Pois bem, Orientação a Objetos é só o começo, a partir dela vocês são capazes de aprender conteúdos cada vez mais avançados e complexos da computação, um deles é a questão dos padrões de projeto, mais especificamente os definidos no livro _Design Patterns_ do _Gang of Four_ (GOF), este livro apresenta maneiras padronizadas de se modelar projetos, e com eles vocês serão capazes de desenvolver códigos muito maiores, em equipes gigantes sem ter problemas de incompatibilidade de raciocínio uma vez que os padrões de projetos são os mesmos pra todos. <br>\n",
    "&emsp; Além disso, quem se interessa por conteúdos relacionados a inteligência artificial pode ficar feliz, pois as redes neurais dos poderosos algoritmos de _deep learning_ são compostas por neurônios que por usa vez são objetos, então vocês acabam de ficar um passo mais próximo desse tipo de técnologia também."
   ]
  },
  {
   "cell_type": "markdown",
   "metadata": {},
   "source": [
    "# Acabooou! 🎉 Agradeço pela atenção de todos! 😄\n",
    "## Qualquer dúvida não hesitem em me chamar. 👩‍💻"
   ]
  }
 ],
 "metadata": {
  "kernelspec": {
   "display_name": "Python 3",
   "language": "python",
   "name": "python3"
  },
  "language_info": {
   "codemirror_mode": {
    "name": "ipython",
    "version": 3
   },
   "file_extension": ".py",
   "mimetype": "text/x-python",
   "name": "python",
   "nbconvert_exporter": "python",
   "pygments_lexer": "ipython3",
   "version": "3.8.5"
  }
 },
 "nbformat": 4,
 "nbformat_minor": 4
}
