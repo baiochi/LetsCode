{
 "cells": [
  {
   "cell_type": "code",
   "execution_count": 3,
   "source": [
    "# 1\r\n",
    "\"\"\"\r\n",
    "Crie uma lista qualquer e faça um programa que imprima cada elemento da lista usando o for.\r\n",
    "\"\"\"\r\n",
    "\r\n",
    "anyList = [1,4,2,'bacon', '']\r\n",
    "\r\n",
    "for item in range(len(anyList)):\r\n",
    "    print(anyList[item])"
   ],
   "outputs": [
    {
     "output_type": "stream",
     "name": "stdout",
     "text": [
      "1\n",
      "4\n",
      "2\n",
      "bacon\n",
      "\n"
     ]
    }
   ],
   "metadata": {}
  },
  {
   "cell_type": "code",
   "execution_count": 4,
   "source": [
    "# 2\r\n",
    "\"\"\"\r\n",
    "Faça um programa que peça para o usuário digitar um número n e imprima uma lista com todos os números de 0 a n-1.\r\n",
    "\r\n",
    "Exemplo: se o usuário digitar 5, o programa deve imprimir [0, 1, 2, 3, 4]\r\n",
    "\"\"\"\r\n",
    "\r\n",
    "n = int(input(\"Digite um número inteiro: \"))\r\n",
    "\r\n",
    "for n in range(n):\r\n",
    "    print(n)\r\n"
   ],
   "outputs": [
    {
     "output_type": "stream",
     "name": "stdout",
     "text": [
      "0\n",
      "1\n",
      "2\n",
      "3\n",
      "4\n",
      "5\n",
      "6\n",
      "7\n",
      "8\n",
      "9\n"
     ]
    }
   ],
   "metadata": {}
  },
  {
   "cell_type": "code",
   "execution_count": 33,
   "source": [
    "# 3\r\n",
    "\r\n",
    "\"\"\"\r\n",
    "Faça um programa que olhe todos os itens de uma lista e diga quantos deles são pares.\r\n",
    "\"\"\"\r\n",
    "\r\n",
    "myList = [1,6,3,4,10,11,12,2,90]\r\n",
    "\r\n",
    "len([item for item in myList if item % 2 == 0])"
   ],
   "outputs": [
    {
     "output_type": "execute_result",
     "data": {
      "text/plain": [
       "6"
      ]
     },
     "metadata": {},
     "execution_count": 33
    }
   ],
   "metadata": {}
  },
  {
   "cell_type": "code",
   "execution_count": 39,
   "source": [
    "# 4\r\n",
    "\"\"\"\r\n",
    "Faça um programa que imprima o maior número de uma lista, sem usar o método max().\r\n",
    "\"\"\"\r\n",
    "\r\n",
    "myList = [0,2,-3,4,10,-30,15,2]\r\n",
    "aux = myList[0]\r\n",
    "for i in range(1, len(myList)):\r\n",
    "    if aux < myList[i]:\r\n",
    "        aux = myList[i]\r\n",
    "\r\n",
    "print(aux)"
   ],
   "outputs": [
    {
     "output_type": "stream",
     "name": "stdout",
     "text": [
      "15\n"
     ]
    }
   ],
   "metadata": {}
  },
  {
   "cell_type": "code",
   "execution_count": 40,
   "source": [
    "# 5\r\n",
    "\"\"\"\r\n",
    "Agora usando o método max() faça um programa que imprima os três maiores números de uma lista.\r\n",
    "\r\n",
    "Dica: Use o método próprio de listas .remove().\r\n",
    "\"\"\"\r\n",
    "\r\n",
    "myList = [0,2,-3,4,10,-30,15,2]\r\n",
    "\r\n",
    "for item in range(0,3):\r\n",
    "    print(max(myList))\r\n",
    "    myList.remove(max(myList))\r\n"
   ],
   "outputs": [
    {
     "output_type": "stream",
     "name": "stdout",
     "text": [
      "15\n",
      "10\n",
      "4\n"
     ]
    }
   ],
   "metadata": {}
  },
  {
   "cell_type": "code",
   "execution_count": 42,
   "source": [
    "# 6\r\n",
    "\"\"\"\r\n",
    "Faça um programa que, dadas duas listas de mesmo tamanho, crie uma nova lista com cada elemento igual a soma dos elementos da lista 1 com os da lista 2, na mesma posição.\r\n",
    "\r\n",
    "Exemplo: dadas lista1 = [1, 4, 5] e lista2 = [2, 2, 3], então lista3 = [1+2, 4+2, 5+3] = [3, 6, 8]\r\n",
    "\"\"\"\r\n",
    "lista1 = [1, 4, 5]\r\n",
    "lista2 = [2, 2, 3]\r\n",
    "lista3 = []\r\n",
    "\r\n",
    "for index in range(len(lista1)):\r\n",
    "    lista3.append(lista1[index] + lista2[index])\r\n",
    "\r\n",
    "print(lista3)"
   ],
   "outputs": [
    {
     "output_type": "stream",
     "name": "stdout",
     "text": [
      "[3, 6, 8]\n"
     ]
    }
   ],
   "metadata": {}
  },
  {
   "cell_type": "code",
   "execution_count": 44,
   "source": [
    "# 7\r\n",
    "\"\"\"\r\n",
    "Faça um programa que dadas duas listas de mesmo tamanho, imprima o produto escalar entre elas.\r\n",
    "\r\n",
    "OBS: produto escalar é a soma do resultado da multiplicação entre o número \r\n",
    "na posição i da lista1 pelo número na posição i da lista2, com i variando de 0 ao tamanho da lista.\r\n",
    "\"\"\"\r\n",
    "\r\n"
   ],
   "outputs": [
    {
     "output_type": "error",
     "ename": "TypeError",
     "evalue": "'batata' is an invalid keyword argument for sort()",
     "traceback": [
      "\u001b[1;31m---------------------------------------------------------------------------\u001b[0m",
      "\u001b[1;31mTypeError\u001b[0m                                 Traceback (most recent call last)",
      "\u001b[1;32m~\\AppData\\Local\\Temp/ipykernel_9540/3521481491.py\u001b[0m in \u001b[0;36m<module>\u001b[1;34m\u001b[0m\n\u001b[0;32m      7\u001b[0m \"\"\"\n\u001b[0;32m      8\u001b[0m \u001b[1;33m\u001b[0m\u001b[0m\n\u001b[1;32m----> 9\u001b[1;33m \u001b[0msorted\u001b[0m\u001b[1;33m(\u001b[0m\u001b[1;33m[\u001b[0m\u001b[1;36m1\u001b[0m\u001b[1;33m,\u001b[0m\u001b[1;36m3\u001b[0m\u001b[1;33m,\u001b[0m\u001b[1;36m2\u001b[0m\u001b[1;33m,\u001b[0m\u001b[1;36m4\u001b[0m\u001b[1;33m]\u001b[0m\u001b[1;33m,\u001b[0m \u001b[0mbatata\u001b[0m\u001b[1;33m=\u001b[0m\u001b[1;32mTrue\u001b[0m\u001b[1;33m)\u001b[0m\u001b[1;33m\u001b[0m\u001b[1;33m\u001b[0m\u001b[0m\n\u001b[0m",
      "\u001b[1;31mTypeError\u001b[0m: 'batata' is an invalid keyword argument for sort()"
     ]
    }
   ],
   "metadata": {}
  },
  {
   "cell_type": "code",
   "execution_count": null,
   "source": [
    "# 8\r\n",
    "\"\"\"\r\n",
    "Faça um programa que pede para o usuário digitar 5 números e, ao final, imprime uma lista com os 5 números digitados pelo usuário (sem converter os números para int ou float).\r\n",
    "\r\n",
    "Exemplo: Se o usuário digitar 1, 5, 2, 3, 6, o programa deve imprimir a lista ['1','5','2','3','6']\r\n",
    "\"\"\""
   ],
   "outputs": [],
   "metadata": {}
  },
  {
   "cell_type": "code",
   "execution_count": null,
   "source": [
    "# 9\r\n",
    "\"\"\"\r\n",
    "Pegue a lista gerada no exercício anterior e transforme cada um dos itens dessa lista em um float.\r\n",
    "\r\n",
    "OBS: Não é para alterar o programa anterior, mas sim a lista gerada por ele.\r\n",
    "\"\"\""
   ],
   "outputs": [],
   "metadata": {}
  },
  {
   "cell_type": "code",
   "execution_count": null,
   "source": [
    "# 10\r\n",
    "\"\"\"\r\n",
    "Faça um Programa que peça as 4 notas bimestrais e mostre a média aritmética delas, usando listas.\r\n",
    "\"\"\""
   ],
   "outputs": [],
   "metadata": {}
  },
  {
   "cell_type": "code",
   "execution_count": null,
   "source": [
    "# 11\r\n",
    "\"\"\"\r\n",
    "Sorteie uma lista de 10 números e imprima:\r\n",
    "\r\n",
    "a. uma lista com os 4 primeiros números;\r\n",
    "\r\n",
    "b. uma lista com os 5 últimos números;\r\n",
    "\r\n",
    "c. uma lista contendo apenas os elementos das posições pares;\r\n",
    "\r\n",
    "d. uma lista contendo apenas os elementos das posições ímpares;\r\n",
    "\r\n",
    "e. a lista inversa da lista sorteada (isto é, uma lista que começa com o último elemento da lista sorteada e termina com o primeiro);\r\n",
    "\r\n",
    "f. uma lista inversa dos 5 primeiros números;\r\n",
    "\r\n",
    "g. uma lista inversa dos 5 últimos números.\r\n",
    "\"\"\""
   ],
   "outputs": [],
   "metadata": {}
  },
  {
   "cell_type": "code",
   "execution_count": null,
   "source": [
    "# 12\r\n",
    "\"\"\"\r\n",
    "Faça um programa que sorteia 10 números entre 0 e 100 e conte quantos números sorteados são maiores que 50.\r\n",
    "\"\"\""
   ],
   "outputs": [],
   "metadata": {}
  },
  {
   "cell_type": "code",
   "execution_count": null,
   "source": [
    "# 13\r\n",
    "\"\"\"\r\n",
    "Desafio 1 | Faça um programa que peça para o usuário digitar o nome e a idade de um aluno e o número de provas que esse aluno fez. Depois, o programa deve pedir para o usuário digitar as notas de cada prova do aluno. Ao final o programa deve imprimir uma lista contendo:\r\n",
    "\r\n",
    "a. Nome do aluno na posição 0\r\n",
    "\r\n",
    "b. Idade do aluno na posição 1\r\n",
    "\r\n",
    "c. Uma lista com todas as notas na posição 2\r\n",
    "\r\n",
    "d. A média do aluno na posição 3\r\n",
    "\r\n",
    "e. True ou False, caso a média seja maior que 5 ou não, na posição 4\r\n",
    "\"\"\""
   ],
   "outputs": [],
   "metadata": {}
  },
  {
   "cell_type": "code",
   "execution_count": null,
   "source": [
    "# 14\r\n",
    "\"\"\"\r\n",
    "Faça um programa como o do item anterior, porém que imprima a média sem considerar a maior e menor nota do aluno (nesse caso o número de provas precisa ser obrigatoriamente maior que dois).\r\n",
    "\r\n",
    "Dica: crie uma cópia com a lista de todas as notas antes de fazer a média.\r\n",
    "\"\"\""
   ],
   "outputs": [],
   "metadata": {}
  },
  {
   "cell_type": "code",
   "execution_count": null,
   "source": [
    "# 15\r\n",
    "\"\"\"\r\n",
    "\r\n",
    "\"\"\""
   ],
   "outputs": [],
   "metadata": {}
  }
 ],
 "metadata": {
  "orig_nbformat": 4,
  "language_info": {
   "name": "python",
   "version": "3.9.4"
  },
  "kernelspec": {
   "name": "python3",
   "display_name": "Python 3.9.4 64-bit"
  },
  "interpreter": {
   "hash": "fdb82091c31ccec212108c9d33ed720fd5863cd94fd9b654da4538787f6a7368"
  }
 },
 "nbformat": 4,
 "nbformat_minor": 2
}