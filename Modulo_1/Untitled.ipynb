{
 "cells": [
  {
   "cell_type": "markdown",
   "metadata": {},
   "source": [
    "## Projeto Meodulo 1\n",
    "  \n",
    "Programe um jogo de forca.\n",
    "\n",
    "- Entrada de dados. Lista de palavras ou usuário informa a palavra?  \n",
    "- Usuário recebe pergunta: Iniciar Jogo / Mudar dificuldade / Sair  \n",
    "- Iniciando jogo:  \n",
    "    - (1) Inserir letra  \n",
    "    - (2) Verificar a letra. Verdadeiro: mostrar letra; Falso: penalizar\n",
    "        - (3) Verificar a penalizacao. Verdadeiro: Fim de jogo, voltar ao menu; Falso: passo (1)"
   ]
  },
  {
   "cell_type": "code",
   "execution_count": 1,
   "metadata": {},
   "outputs": [
    {
     "name": "stdout",
     "output_type": "stream",
     "text": [
      "\n",
      "Saindo... Obrigado por jogar!\n"
     ]
    }
   ],
   "source": [
    "import random\n",
    "from IPython.display import clear_output\n",
    "\n",
    "continuar = True\n",
    "listaPalavras = ['batata', 'banana', 'ipsem', 'lorem', 'feijao', 'diamba']\n",
    "\n",
    "print(\"Bem vindo ao Jogo da Forca.\\n\")\n",
    "\n",
    "\n",
    "\n",
    "while continuar:\n",
    "    \n",
    "    # escolhendo as opcoes do menu\n",
    "    menuOpc = int(input(\">>> MENU <<<\\nEscolha uma opcao:\\n1 - Iniciar Jogo\\n2 - Mudar dificuldade\\n3 - Sair\\n\"))\n",
    "    \n",
    "    # iniciando o jogo\n",
    "    if menuOpc == 1:\n",
    "        clear_output(wait = True)\n",
    "        print(\"\\nIniciando o jogo...\")\n",
    "        print(\"A palavra escolhida foi: \", random.choice(listaPalavras), \"!\")\n",
    "        \n",
    "        erros = 0\n",
    "        while erros <= 6:\n",
    "            \n",
    "            \n",
    "        \n",
    "        \n",
    "    # trocar dificuldade\n",
    "    elif menuOpc == 2:\n",
    "        clear_output(wait = True)\n",
    "        \n",
    "        print(\"\\nEscolha a dificuldade:\")\n",
    "        \n",
    "\n",
    "    # saindo do programa\n",
    "    elif menuOpc == 3:\n",
    "        clear_output(wait = True)\n",
    "        print(\"\\nSaindo... Obrigado por jogar!\")\n",
    "        continuar = False\n",
    "        \n",
    "    # verificacao inválido\n",
    "    else:\n",
    "        print(\"Opcao inválida! Digite novamente: \")\n",
    "        \n",
    "\n",
    "        \n",
    "        "
   ]
  },
  {
   "cell_type": "code",
   "execution_count": null,
   "metadata": {},
   "outputs": [],
   "source": []
  }
 ],
 "metadata": {
  "kernelspec": {
   "display_name": "Python 3",
   "language": "python",
   "name": "python3"
  },
  "language_info": {
   "codemirror_mode": {
    "name": "ipython",
    "version": 3
   },
   "file_extension": ".py",
   "mimetype": "text/x-python",
   "name": "python",
   "nbconvert_exporter": "python",
   "pygments_lexer": "ipython3",
   "version": "3.8.5"
  }
 },
 "nbformat": 4,
 "nbformat_minor": 4
}
