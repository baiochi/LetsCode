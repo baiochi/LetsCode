{
 "cells": [
  {
   "cell_type": "markdown",
   "metadata": {},
   "source": [
    "**Exercício 1**\n",
    "\n",
    "Leia a [tabela de medalhas das Olimpíadas Tokyo 2020](https://olympics.com/tokyo-2020/olympic-games/en/results/all-sports/medal-standings.htm?utm_campaign=dp_google) desestruturada, em formato de texto (.txt), e imprima o top 10, de acordo com a ordem desejada pelo usuário, que pode ser:\n",
    "\n",
    "1. Ranking\n",
    "2. Ordem alfabética do nome do país\n",
    "3. Qtde medalhas de ouro\n",
    "4. Qtde medalhas de prata\n",
    "5. Qtde medalhas de bronze\n",
    "6. Qtde total de medalhas\n",
    "\n",
    "Imprima todos os campos da tabela na tela.\n",
    "Por fim, pergunte se o usuário deseja exportar os resultados num arquivo de texto e realize seu desejo."
   ]
  },
  {
   "cell_type": "code",
   "execution_count": 6,
   "metadata": {},
   "outputs": [],
   "source": []
  },
  {
   "cell_type": "markdown",
   "metadata": {},
   "source": [
    "**Exercício 2**\n",
    "\n",
    "Faça um programa que lê um arquivo de texto (.txt) e oferece ao usuário as seguintes opções:\n",
    "\n",
    "1. Há quantas frases no texto?\n",
    "2. Quantas vezes aparece uma palavra no texto? (solicite a palavra ao usuário)\n",
    "3. Quais palavras começam com uma letra? (solicite a letra ao usuário)\n",
    "\n",
    "Utilize funções para realizar cada uma das opções."
   ]
  },
  {
   "cell_type": "code",
   "execution_count": 1,
   "metadata": {},
   "outputs": [],
   "source": []
  },
  {
   "cell_type": "markdown",
   "metadata": {},
   "source": [
    "**Exercício 3**\n",
    "\n",
    "Considere a seguinte lista de listas:\n",
    "\n",
    "```python \n",
    "listaDupla = [[\"São Paulo\", \"Vitória\", \"Salvador\"],\n",
    "              [\"SP\", \"RJ\", \"SC\", \"BA\", \"MG\"],\n",
    "              [\"Itaim Bibi\", \"Largo da Batata\", \"Lapa\"],\n",
    "             ]\n",
    "```  \n",
    "\n",
    "Utilizando list comprehension:\n",
    "\n",
    "a) Apresente as strings que estão em uma lista com tamanho maior que 3.\n",
    "\n",
    "b) Apresente as strings que possuem tamanho maior que 4.\n",
    "\n",
    "c) Apresente as strings que estão em uma lista de tamanho = 3 e comecem com a letra L."
   ]
  },
  {
   "cell_type": "code",
   "execution_count": null,
   "metadata": {},
   "outputs": [],
   "source": []
  }
 ],
 "metadata": {
  "kernelspec": {
   "display_name": "Python 3",
   "language": "python",
   "name": "python3"
  },
  "language_info": {
   "codemirror_mode": {
    "name": "ipython",
    "version": 3
   },
   "file_extension": ".py",
   "mimetype": "text/x-python",
   "name": "python",
   "nbconvert_exporter": "python",
   "pygments_lexer": "ipython3",
   "version": "3.8.5"
  }
 },
 "nbformat": 4,
 "nbformat_minor": 4
}
