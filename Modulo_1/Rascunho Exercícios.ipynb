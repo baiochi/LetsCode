{
 "cells": [
  {
   "cell_type": "code",
   "execution_count": 11,
   "metadata": {},
   "outputs": [],
   "source": [
    "import seaborn as sns\n",
    "import datetime as dt\n"
   ]
  },
  {
   "cell_type": "code",
   "execution_count": 43,
   "metadata": {},
   "outputs": [
    {
     "name": "stdout",
     "output_type": "stream",
     "text": [
      "Data: 10-07-2021\n",
      "Horário: 13:23:28\n"
     ]
    }
   ],
   "source": [
    "'''\n",
    "Desafio 2 - Faça um programa que informe a data e a hora para o usuário. \n",
    "Para isso use a função datetime.now() do módulo datetime.\n",
    "'''\n",
    "\n",
    "data = dt.datetime.now().strftime(\"%d-%m-%Y\")\n",
    "hora = dt.datetime.now().strftime(\"%H:%M:%S\")\n",
    "\n",
    "print(\"Data: {}\\nHorário: {}\".format(data, hora))"
   ]
  },
  {
   "cell_type": "code",
   "execution_count": 49,
   "metadata": {},
   "outputs": [
    {
     "name": "stdout",
     "output_type": "stream",
     "text": [
      "Digite a nota da prova 1: 3\n",
      "Digite a nota da prova 2: 10\n",
      "Digite a nota da prova 3: 2\n",
      "O aluno foi reprovado com a média 5.0\n"
     ]
    }
   ],
   "source": [
    "\"\"\"\n",
    "Escreva um programa que peça a nota de 3 provas de um aluno e verifique se ele passou ou não de ano.\n",
    "\n",
    "Obs.: O aluno irá passar de ano se sua média for maior que 6.\n",
    "\"\"\"\n",
    "nota1 = float(input(\"Digite a nota da prova 1: \"))\n",
    "nota2 = float(input(\"Digite a nota da prova 2: \"))\n",
    "nota3 = float(input(\"Digite a nota da prova 3: \"))\n",
    "\n",
    "media = (nota1+nota2+nota3) / 3\n",
    "\n",
    "if media > 6 :\n",
    "    print(\"O aluno foi aprovado com média\", round(media,2))\n",
    "else :\n",
    "    print(\"O aluno foi reprovado com média\", round(media,2))\n"
   ]
  },
  {
   "cell_type": "code",
   "execution_count": 83,
   "metadata": {},
   "outputs": [
    {
     "name": "stdout",
     "output_type": "stream",
     "text": [
      "Digite o número 1: 1\n",
      "Digite o número 2: 2\n",
      "Digite o número 3: 4\n",
      "Digite o número 4: 3\n",
      "O terceiro número(4) é o maior\n"
     ]
    }
   ],
   "source": [
    "\"\"\"Desafio 1 - Faça um programa que leia 3 números e informe o maior deles.\"\"\"\n",
    "\n",
    "numero1 = int(input(\"Digite o número 1: \"))\n",
    "numero2 = int(input(\"Digite o número 2: \"))\n",
    "numero3 = int(input(\"Digite o número 3: \"))\n",
    "numero4 = int(input(\"Digite o número 4: \"))\n",
    "\n",
    "if (numero1 > numero2) and (numero1 > numero3) and (numero1 > numero4):\n",
    "    print(\"O primeiro número({}) é o maior\".format(numero1))\n",
    "elif (numero2 > numero3) and (numero2 > numero4) :\n",
    "    print(\"O segundo número({}) é o maior\".format(numero2))\n",
    "elif numero3 > numero4 :\n",
    "    print(\"O terceiro número({}) é o maior\".format(numero3))\n",
    "else :\n",
    "    print(\"O quarto número({}) é o maior\".format(numero4))"
   ]
  },
  {
   "cell_type": "code",
   "execution_count": null,
   "metadata": {},
   "outputs": [],
   "source": [
    "numero1 = int(input(\"Digite o número 1: \")) \n",
    "numero2 = int(input(\"Digite o número 2: \")) \n",
    "numero3 = int(input(\"Digite o número 3: \"))\n",
    "\n",
    "if (numero1 > numero2) and (numero1 > numero3) : \n",
    "    print(\"O primeiro número({}) é o maior\".format(numero1)) \n",
    "elif numero2 > numero3 : \n",
    "    print(\"O segundo número({}) é o maior\".format(numero2)) \n",
    "else : \n",
    "    print(\"O terceiro número({}) é o maior\".format(numero3))"
   ]
  },
  {
   "cell_type": "code",
   "execution_count": 6,
   "metadata": {
    "scrolled": true
   },
   "outputs": [
    {
     "name": "stdout",
     "output_type": "stream",
     "text": [
      "Sente dor no corpo? (S/N)S\n",
      "Você tem febre? (S/N)N\n",
      "Você tem tosse? (S/N)N\n",
      "Está com congestão nasal? (S/N)N\n",
      "Tem manchas pelo corpo? (S/N)A\n",
      "Diagnóstico inconclusivo.\n"
     ]
    }
   ],
   "source": [
    "\"\"\"\n",
    "Desafio 3 - Um hospital quer fazer o diagnóstico de gripe ou dengue a partir de um questionário de sintomas, \n",
    "tendo as perguntas abaixo, faça um programa que faça o diagnóstico deste hospital:\n",
    "\n",
    "a. Sente dor no corpo?\n",
    "b. Você tem febre?\n",
    "c. Você tem tosse?\n",
    "d. Está com congestão nasal?\n",
    "e. Tem manchas pelo corpo?\n",
    "\n",
    "Para o diagnóstico ele tem a seguinte tabela:\n",
    "\n",
    "A\tB\tC\tD\tE\tResultado\n",
    "Sim\tSim\tNão\tNão\tSim\tDengue\n",
    "Sim\tSim\tSim\tSim\tNão\tGripe\n",
    "Não\tSim\tSim\tSim\tNão\tGripe\n",
    "Sim\tNão\tNão\tNão\tNão\tSem doenças\n",
    "Não\tNão\tNão\tNão\tNão\tSem doenças\n",
    "\n",
    "\"\"\"\n",
    "\n",
    "A = input(\"Sente dor no corpo? (S/N)\")\n",
    "B = input(\"Você tem febre? (S/N)\")\n",
    "C = input(\"Você tem tosse? (S/N)\")\n",
    "D = input(\"Está com congestão nasal? (S/N)\")\n",
    "E = input(\"Tem manchas pelo corpo? (S/N)\")\n",
    "\n",
    "# resultado do diagnóstico\n",
    "if (A,B,C,D,E) == ('S','S','N','N','S'):\n",
    "    print(\"Dengue.\")\n",
    "elif (B,C,D,E) == ('S','S','S','N'):\n",
    "    print(\"Gripe.\")\n",
    "elif (B,C,D,E) == ('N',)*4:\n",
    "    print(\"Sem doenças.\")\n",
    "else :\n",
    "    print(\"Diagnóstico inconclusivo.\")\n"
   ]
  },
  {
   "cell_type": "code",
   "execution_count": 2,
   "metadata": {},
   "outputs": [
    {
     "data": {
      "text/plain": [
       "('N', 'N', 'N', 'N')"
      ]
     },
     "execution_count": 2,
     "metadata": {},
     "output_type": "execute_result"
    }
   ],
   "source": [
    "('N',) * 4"
   ]
  },
  {
   "cell_type": "code",
   "execution_count": 120,
   "metadata": {},
   "outputs": [
    {
     "name": "stdout",
     "output_type": "stream",
     "text": [
      "5\n",
      "4\n",
      "3\n"
     ]
    }
   ],
   "source": [
    "t = [1,2,3,4,5]\n",
    "for i in range(3,0,-1) :\n",
    "    print(t[i] + 1)"
   ]
  },
  {
   "cell_type": "code",
   "execution_count": 126,
   "metadata": {},
   "outputs": [
    {
     "name": "stdout",
     "output_type": "stream",
     "text": [
      "Falso\n"
     ]
    }
   ],
   "source": [
    "a , b, c, d = 1, 2, 3, 4\n",
    "\n",
    "if d > b > c > a:\n",
    "    print(\"Certo\")\n",
    "else:\n",
    "    print(\"Falso\")"
   ]
  },
  {
   "cell_type": "code",
   "execution_count": 7,
   "metadata": {},
   "outputs": [],
   "source": [
    "lista = []"
   ]
  },
  {
   "cell_type": "code",
   "execution_count": null,
   "metadata": {},
   "outputs": [],
   "source": []
  },
  {
   "cell_type": "code",
   "execution_count": null,
   "metadata": {},
   "outputs": [],
   "source": []
  },
  {
   "cell_type": "code",
   "execution_count": null,
   "metadata": {},
   "outputs": [],
   "source": []
  },
  {
   "cell_type": "code",
   "execution_count": null,
   "metadata": {},
   "outputs": [],
   "source": []
  },
  {
   "cell_type": "code",
   "execution_count": null,
   "metadata": {},
   "outputs": [],
   "source": []
  },
  {
   "cell_type": "code",
   "execution_count": null,
   "metadata": {},
   "outputs": [],
   "source": []
  },
  {
   "cell_type": "code",
   "execution_count": null,
   "metadata": {},
   "outputs": [],
   "source": []
  }
 ],
 "metadata": {
  "kernelspec": {
   "display_name": "Python 3",
   "language": "python",
   "name": "python3"
  },
  "language_info": {
   "codemirror_mode": {
    "name": "ipython",
    "version": 3
   },
   "file_extension": ".py",
   "mimetype": "text/x-python",
   "name": "python",
   "nbconvert_exporter": "python",
   "pygments_lexer": "ipython3",
   "version": "3.8.5"
  }
 },
 "nbformat": 4,
 "nbformat_minor": 4
}
