{
 "cells": [
  {
   "cell_type": "markdown",
   "metadata": {},
   "source": [
    "# Aula 7 - Arquivos\n",
    "\n",
    "Na aula de hoje, vamos explorar o seguinte tópico em Python:\n",
    "\n",
    "- Arquivos em Python\n",
    "\n",
    "_______\n",
    "\n",
    "### Objetivos\n",
    "\n",
    "Apresentar o conceito, importância e operacional do uso de arquivos em Python, explicitando como ler, modificar e escrever arquivos;\n",
    "\n",
    "### Habilidades a serem desenvolvidas\n",
    "\n",
    "Ao final da aula o aluno deve:\n",
    "\n",
    "- Conhecer o conceito e importância do uso de arquivos;\n",
    "- Saber como criar, modificar e ler arquivos;"
   ]
  },
  {
   "cell_type": "markdown",
   "metadata": {},
   "source": [
    "______\n",
    "________\n",
    "______"
   ]
  },
  {
   "cell_type": "markdown",
   "metadata": {},
   "source": [
    "## 1) Arquivos em Python\n",
    "\n",
    "Todos os programas que fizemos até o momento tinham variáveis, input e output **temporários**, guardados na memória RAM do computador **enquanto o programa é executado**.\n",
    "\n",
    "Após o programa ser finalizado, todas as variáveis, inputs e outputs eram perdidos.\n",
    "\n",
    "Muitas vezes queremos que esses valores sejam armazenados, que os dados processados pelo programa sejam preservados. O termo para esta característica é **persistência de dados**.\n",
    "\n",
    "A persistência se dá através de **arquivos**: documentos criados para **armazenar dados em uma memória permanente**, como o **disco rígido**, um **USB** ou um **servidor web**."
   ]
  },
  {
   "cell_type": "markdown",
   "metadata": {},
   "source": [
    "O Python têm algumas funções padrão para a manipulação de arquivos. Vamos vê-las!"
   ]
  },
  {
   "cell_type": "markdown",
   "metadata": {},
   "source": [
    "A função `open()` é usada pra abrir arquivos existentes ou criar um arquivo novo. \n",
    "\n",
    "Ela possui 2 argumentos: o primeiro é o caminho do arquivo, com seu nome (se apenas o nome do arquivo for passado, isso é interpretado como o arquivo estando na mesma pasta que o código!); e o segundo é o modo de operação. Os modos são:\n",
    "\n",
    "- r -\tlê um arquivo existente\n",
    "- w -\tAbre um arquivo para escrita (cria caso não exista)\n",
    "- a -\tabre um arquivo existente para adicionar informações ao seu final\n",
    "- x -   Cria um arquivo novo\n",
    "- \\+ -\tao ser combinado com outros modos, permite alteração de arquivo já existente (ex: r+ abre um arquivo existente e permite modificá-lo)\n",
    "\n",
    "O terceiro argumento é o \"encoding\", que dá a codificação do arquivo. Pra evitar problemas, é legal sempre usar `encoding=\"utf-8\"`"
   ]
  },
  {
   "cell_type": "code",
   "execution_count": 6,
   "metadata": {},
   "outputs": [],
   "source": [
    "arquivo = open(\"ola.txt\", \"w\", encoding=\"utf-8\")"
   ]
  },
  {
   "cell_type": "markdown",
   "metadata": {},
   "source": [
    "Se analisarmos a variável \"arquivo\" (é o return da função \"open\"), note que há algumas coisas estranhas... É assim que o python entende seu arquivo, mas não precisa se preocupar muito com isso"
   ]
  },
  {
   "cell_type": "code",
   "execution_count": 7,
   "metadata": {},
   "outputs": [
    {
     "data": {
      "text/plain": [
       "<_io.TextIOWrapper name='ola.txt' mode='w' encoding='utf-8'>"
      ]
     },
     "execution_count": 7,
     "metadata": {},
     "output_type": "execute_result"
    }
   ],
   "source": [
    "arquivo"
   ]
  },
  {
   "cell_type": "markdown",
   "metadata": {},
   "source": [
    "Uma vez aberto o arquivo, podemos escrever alguma coisa nele. Para isso, usamos a função `write()`\n",
    "\n",
    "Essa função aceita apenas um argumento, que é o que vc quer escrever no arquivo"
   ]
  },
  {
   "cell_type": "code",
   "execution_count": 9,
   "metadata": {},
   "outputs": [
    {
     "data": {
      "text/plain": [
       "17"
      ]
     },
     "execution_count": 9,
     "metadata": {},
     "output_type": "execute_result"
    }
   ],
   "source": [
    "arquivo.write(\"olá, mundo!!!!!!\\n\")"
   ]
  },
  {
   "cell_type": "markdown",
   "metadata": {},
   "source": [
    "Após abrirmos (ou criarmos) um arquivo, e fazer as operações desejadas com ele, devemos fechá-lo usando a função `close()`. Essa etapa é importante por 2 motivos:\n",
    "\n",
    "- Se alteramos o arquivo mas não o fechamos, as alterações não serão salvas.\n",
    "- Se esquecermos de fechar um arquivo, outros programas podem ter problemas de acesso a ele.\n",
    "\n",
    "Por isso, **nunca se esqueca de fechar os arquivos abertos!**"
   ]
  },
  {
   "cell_type": "code",
   "execution_count": 10,
   "metadata": {},
   "outputs": [],
   "source": [
    "arquivo.close()"
   ]
  },
  {
   "cell_type": "markdown",
   "metadata": {},
   "source": [
    "__Fazendo todas as operações em uma única célula__"
   ]
  },
  {
   "cell_type": "code",
   "execution_count": 11,
   "metadata": {},
   "outputs": [],
   "source": [
    "f = open(\"ola.txt\", \"w\", encoding=\"utf-8\")\n",
    "\n",
    "f.write(\"olá, let's code!\")\n",
    "\n",
    "f.close()"
   ]
  },
  {
   "cell_type": "markdown",
   "metadata": {},
   "source": [
    "Vamos escrever mais algumas coisas no nosso arquivo...\n",
    "\n",
    "Como o arquivo já existe, vamos tentar usar o modo \"r\"..."
   ]
  },
  {
   "cell_type": "code",
   "execution_count": 12,
   "metadata": {},
   "outputs": [
    {
     "ename": "UnsupportedOperation",
     "evalue": "not writable",
     "output_type": "error",
     "traceback": [
      "\u001b[1;31m---------------------------------------------------------------------------\u001b[0m",
      "\u001b[1;31mUnsupportedOperation\u001b[0m                      Traceback (most recent call last)",
      "\u001b[1;32m<ipython-input-12-254c5ccc58de>\u001b[0m in \u001b[0;36m<module>\u001b[1;34m\u001b[0m\n\u001b[0;32m      2\u001b[0m \u001b[0marquivo\u001b[0m \u001b[1;33m=\u001b[0m \u001b[0mopen\u001b[0m\u001b[1;33m(\u001b[0m\u001b[1;34m\"ola.txt\"\u001b[0m\u001b[1;33m,\u001b[0m \u001b[1;34m\"r\"\u001b[0m\u001b[1;33m,\u001b[0m \u001b[0mencoding\u001b[0m\u001b[1;33m=\u001b[0m\u001b[1;34m\"utf-8\"\u001b[0m\u001b[1;33m)\u001b[0m\u001b[1;33m\u001b[0m\u001b[1;33m\u001b[0m\u001b[0m\n\u001b[0;32m      3\u001b[0m \u001b[1;33m\u001b[0m\u001b[0m\n\u001b[1;32m----> 4\u001b[1;33m \u001b[0marquivo\u001b[0m\u001b[1;33m.\u001b[0m\u001b[0mwrite\u001b[0m\u001b[1;33m(\u001b[0m\u001b[1;34m'Minha segunda frase'\u001b[0m\u001b[1;33m)\u001b[0m\u001b[1;33m\u001b[0m\u001b[1;33m\u001b[0m\u001b[0m\n\u001b[0m\u001b[0;32m      5\u001b[0m \u001b[1;33m\u001b[0m\u001b[0m\n\u001b[0;32m      6\u001b[0m \u001b[0marquivo\u001b[0m\u001b[1;33m.\u001b[0m\u001b[0mclose\u001b[0m\u001b[1;33m(\u001b[0m\u001b[1;33m)\u001b[0m\u001b[1;33m\u001b[0m\u001b[1;33m\u001b[0m\u001b[0m\n",
      "\u001b[1;31mUnsupportedOperation\u001b[0m: not writable"
     ]
    }
   ],
   "source": [
    "# como o arquivo já existe, vamos usar o modo de leitura, \"r\"\n",
    "arquivo = open(\"ola.txt\", \"r\", encoding=\"utf-8\")\n",
    "\n",
    "arquivo.write('Minha segunda frase') \n",
    "\n",
    "arquivo.close()"
   ]
  },
  {
   "cell_type": "markdown",
   "metadata": {},
   "source": [
    "Note que encontramos um erro, pois o modo \"r\" permite **apenas a leitura do arquivo**\n",
    "\n",
    "Se queremos escrever algo nele, usamos o \"r+\""
   ]
  },
  {
   "cell_type": "code",
   "execution_count": 13,
   "metadata": {},
   "outputs": [],
   "source": [
    "# modo r+, pra poder escrever no arquivo\n",
    "arquivo = open(\"ola.txt\", \"r+\", encoding=\"utf-8\")\n",
    "\n",
    "arquivo.write('Minha') \n",
    "\n",
    "arquivo.close()\n"
   ]
  },
  {
   "cell_type": "markdown",
   "metadata": {},
   "source": [
    "Note, no entanto, que se usarmos o modo \"r+\", o write substitui o conteúdo anterior da primeira linha do arquivo!\n",
    "\n",
    "Prra corrigir isso, usamos o modo \"a\", que permite escrever AO FIM do arquivo"
   ]
  },
  {
   "cell_type": "code",
   "execution_count": 15,
   "metadata": {},
   "outputs": [],
   "source": [
    "# modo a, pra poder escrever ao fim do arquivo coisas novas\n",
    "arquivo = open(\"ola.txt\", \"a\", encoding=\"utf-8\")\n",
    "\n",
    "arquivo.write('\\nMinha quarta frase') \n",
    "\n",
    "arquivo.close()"
   ]
  },
  {
   "cell_type": "markdown",
   "metadata": {},
   "source": [
    "Se quisermos escrever em uma nova linha, usamos o \"\\n\":"
   ]
  },
  {
   "cell_type": "code",
   "execution_count": 18,
   "metadata": {},
   "outputs": [
    {
     "data": {
      "text/plain": [
       "<_io.TextIOWrapper name='ola.txt' mode='a' encoding='utf-8'>"
      ]
     },
     "execution_count": 18,
     "metadata": {},
     "output_type": "execute_result"
    }
   ],
   "source": [
    "# modo a, pra poder escrever ao fim do arquivo coisas novas\n",
    "arquivo = open(\"ola.txt\", \"a\", encoding=\"utf-8\")\n",
    "\n",
    "for i in range(5):\n",
    "    \n",
    "    arquivo.write(str(i) + \" - olá mundo!!\\n\")\n",
    "\n",
    "arquivo.close()\n",
    "\n",
    "arquivo"
   ]
  },
  {
   "cell_type": "code",
   "execution_count": 19,
   "metadata": {},
   "outputs": [],
   "source": [
    "nomes = [\"André\", \"João\", \"Maria\"]\n",
    "\n",
    "f = open(\"nomes_2.txt\", \"w\", encoding=\"utf-8\")\n",
    "\n",
    "for item in nomes:\n",
    "    \n",
    "    f.write(item)\n",
    "    f.write(\"\\n\")\n",
    "    \n",
    "f.close()"
   ]
  },
  {
   "cell_type": "markdown",
   "metadata": {},
   "source": [
    "Agora, imagina que queremos apenas **ler** o arquivo, sem intenção de modificá-lo.\n",
    "\n",
    "Nesse caso, utilizamos o modo \"r\" do open.\n",
    "\n",
    "Além disso, se quisermos de fato armazenar os dados do arquivo em uma variável do python, usamos a função `read()`"
   ]
  },
  {
   "cell_type": "code",
   "execution_count": 20,
   "metadata": {},
   "outputs": [],
   "source": [
    "# modo r para a leitura, apenas\n",
    "arquivo = open('ola.txt', 'r', encoding=\"utf-8\")\n",
    "\n",
    "conteudo = arquivo.read()"
   ]
  },
  {
   "cell_type": "code",
   "execution_count": 21,
   "metadata": {},
   "outputs": [
    {
     "data": {
      "text/plain": [
       "'0 - olá mundo!!\\n1 - olá mundo!!\\n2 - olá mundo!!\\n3 - olá mundo!!\\n4 - olá mundo!!\\n'"
      ]
     },
     "execution_count": 21,
     "metadata": {},
     "output_type": "execute_result"
    }
   ],
   "source": [
    "conteudo"
   ]
  },
  {
   "cell_type": "code",
   "execution_count": 22,
   "metadata": {},
   "outputs": [
    {
     "data": {
      "text/plain": [
       "['0 - olá mundo!!',\n",
       " '1 - olá mundo!!',\n",
       " '2 - olá mundo!!',\n",
       " '3 - olá mundo!!',\n",
       " '4 - olá mundo!!',\n",
       " '']"
      ]
     },
     "execution_count": 22,
     "metadata": {},
     "output_type": "execute_result"
    }
   ],
   "source": [
    "conteudo.split('\\n')"
   ]
  },
  {
   "cell_type": "code",
   "execution_count": 27,
   "metadata": {},
   "outputs": [
    {
     "name": "stdout",
     "output_type": "stream",
     "text": [
      "0 - olá mundo!!\n",
      "1 - olá mundo!!\n",
      "2 - olá mundo!!\n",
      "3 - olá mundo!!\n",
      "4 - olá mundo!!\n",
      "\n"
     ]
    }
   ],
   "source": [
    "# modo r para a leitura, apenas\n",
    "arquivo = open('ola.txt', 'r', encoding=\"utf-8\")\n",
    "\n",
    "# lê o conteúdo do arquivo\n",
    "conteudo = arquivo.read()\n",
    "\n",
    "arquivo.close()\n",
    "\n",
    "print(conteudo)"
   ]
  },
  {
   "cell_type": "markdown",
   "metadata": {},
   "source": [
    "A função `read()` lê o que estiver no arquivo em forma de uma string!\n",
    "\n",
    "As quebras de linha serão, portanto, armazenadas como \"\\n\"."
   ]
  },
  {
   "cell_type": "markdown",
   "metadata": {},
   "source": [
    "Vamos para um outro exemplo... Imagine que eu quero armazenar uma lista, para depois lê-la novamente. Como faço isso?"
   ]
  },
  {
   "cell_type": "code",
   "execution_count": 28,
   "metadata": {},
   "outputs": [
    {
     "ename": "TypeError",
     "evalue": "write() argument must be str, not list",
     "output_type": "error",
     "traceback": [
      "\u001b[1;31m---------------------------------------------------------------------------\u001b[0m",
      "\u001b[1;31mTypeError\u001b[0m                                 Traceback (most recent call last)",
      "\u001b[1;32m<ipython-input-28-0897ee9aa22e>\u001b[0m in \u001b[0;36m<module>\u001b[1;34m\u001b[0m\n\u001b[0;32m      3\u001b[0m \u001b[0mf\u001b[0m \u001b[1;33m=\u001b[0m \u001b[0mopen\u001b[0m\u001b[1;33m(\u001b[0m\u001b[1;34m\"minhas_notas.txt\"\u001b[0m\u001b[1;33m,\u001b[0m \u001b[1;34m\"w\"\u001b[0m\u001b[1;33m,\u001b[0m \u001b[0mencoding\u001b[0m\u001b[1;33m=\u001b[0m\u001b[1;34m\"utf-8\"\u001b[0m\u001b[1;33m)\u001b[0m\u001b[1;33m\u001b[0m\u001b[1;33m\u001b[0m\u001b[0m\n\u001b[0;32m      4\u001b[0m \u001b[1;33m\u001b[0m\u001b[0m\n\u001b[1;32m----> 5\u001b[1;33m \u001b[0mf\u001b[0m\u001b[1;33m.\u001b[0m\u001b[0mwrite\u001b[0m\u001b[1;33m(\u001b[0m\u001b[0mnotas\u001b[0m\u001b[1;33m)\u001b[0m\u001b[1;33m\u001b[0m\u001b[1;33m\u001b[0m\u001b[0m\n\u001b[0m\u001b[0;32m      6\u001b[0m \u001b[1;33m\u001b[0m\u001b[0m\n\u001b[0;32m      7\u001b[0m \u001b[0mf\u001b[0m\u001b[1;33m.\u001b[0m\u001b[0mclose\u001b[0m\u001b[1;33m(\u001b[0m\u001b[1;33m)\u001b[0m\u001b[1;33m\u001b[0m\u001b[1;33m\u001b[0m\u001b[0m\n",
      "\u001b[1;31mTypeError\u001b[0m: write() argument must be str, not list"
     ]
    }
   ],
   "source": [
    "notas = [8, 7, 6, 10, 10, 8]\n",
    "\n",
    "f = open(\"minhas_notas.txt\", \"w\", encoding=\"utf-8\")\n",
    "\n",
    "f.write(notas) \n",
    "\n",
    "f.close()"
   ]
  },
  {
   "cell_type": "markdown",
   "metadata": {},
   "source": [
    "Só é possível escrever strings com o \"write()\"! Então, vamos ter que modificar um pouco o programa..."
   ]
  },
  {
   "cell_type": "code",
   "execution_count": 29,
   "metadata": {},
   "outputs": [],
   "source": [
    "notas = [8, 7, 5, 6, 4, 6]\n",
    "\n",
    "f = open(\"notas.txt\", \"w\", encoding=\"utf-8\")\n",
    "\n",
    "for elemento in notas:\n",
    "    \n",
    "    f.write(str(elemento) + \"\\n\")\n",
    "    \n",
    "f.close()"
   ]
  },
  {
   "cell_type": "markdown",
   "metadata": {},
   "source": [
    "Agora, pra ler o arquivo, e já calcular a média das notas armazenadas!"
   ]
  },
  {
   "cell_type": "code",
   "execution_count": 39,
   "metadata": {},
   "outputs": [
    {
     "name": "stdout",
     "output_type": "stream",
     "text": [
      "6.0\n"
     ]
    }
   ],
   "source": [
    "arquivoNotas = open(\"notas.txt\", \"r\", encoding=\"utf-8\")\n",
    "\n",
    "strNotas = arquivoNotas.read()\n",
    "\n",
    "listaNotasInteiros = [int(notas) for notas in strNotas.strip().split(\"\\n\")]\n",
    "\n",
    "media = sum(listaNotasInteiros)/len(listaNotasInteiros)\n",
    "\n",
    "print(media)\n",
    "\n",
    "arquivoNotas.close()"
   ]
  },
  {
   "cell_type": "code",
   "execution_count": null,
   "metadata": {},
   "outputs": [],
   "source": []
  },
  {
   "cell_type": "markdown",
   "metadata": {},
   "source": [
    "Vamos fazer um arquivo de várias linhas, e depois lê-lo:"
   ]
  },
  {
   "cell_type": "code",
   "execution_count": 38,
   "metadata": {},
   "outputs": [],
   "source": [
    "f = open(\"poema.txt\", \"w\", encoding=\"utf-8\")\n",
    "\n",
    "f.write(\"Batatinha quando nasce,\\n\")\n",
    "f.write(\"espalha a rama pelo chão.\\n\")\n",
    "f.write(\"Menininha quando dorme,\\n\")\n",
    "f.write(\"põe a mão no coração.\")\n",
    "\n",
    "f.close()"
   ]
  },
  {
   "cell_type": "markdown",
   "metadata": {},
   "source": [
    "Lendo o arquivo inteiro"
   ]
  },
  {
   "cell_type": "code",
   "execution_count": 40,
   "metadata": {},
   "outputs": [
    {
     "data": {
      "text/plain": [
       "'Batatinha quando nasce,\\nespalha a rama pelo chão.\\nMenininha quando dorme,\\npõe a mão no coração.'"
      ]
     },
     "execution_count": 40,
     "metadata": {},
     "output_type": "execute_result"
    }
   ],
   "source": [
    "f = open(\"poema.txt\", \"r\", encoding=\"utf-8\")\n",
    "\n",
    "conteudo = f.read()\n",
    "\n",
    "f.close()\n",
    "\n",
    "conteudo"
   ]
  },
  {
   "cell_type": "code",
   "execution_count": 41,
   "metadata": {},
   "outputs": [
    {
     "data": {
      "text/plain": [
       "['Batatinha quando nasce,',\n",
       " 'espalha a rama pelo chão.',\n",
       " 'Menininha quando dorme,',\n",
       " 'põe a mão no coração.']"
      ]
     },
     "execution_count": 41,
     "metadata": {},
     "output_type": "execute_result"
    }
   ],
   "source": [
    "conteudo.split(\"\\n\")"
   ]
  },
  {
   "cell_type": "markdown",
   "metadata": {},
   "source": [
    "Lendo apenas a primeira linha, com a função `readline()`:"
   ]
  },
  {
   "cell_type": "code",
   "execution_count": 44,
   "metadata": {},
   "outputs": [
    {
     "name": "stdout",
     "output_type": "stream",
     "text": [
      "Batatinha quando nasce,\n",
      "\n",
      "espalha a rama pelo chão.\n",
      "\n",
      "Menininha quando dorme,\n",
      "\n",
      "põe a mão no coração.\n"
     ]
    }
   ],
   "source": [
    "f = open(\"poema.txt\", \"r\", encoding=\"utf-8\")\n",
    "\n",
    "for linha in f:\n",
    "    print(linha)\n",
    "\n",
    "f.close()"
   ]
  },
  {
   "cell_type": "markdown",
   "metadata": {},
   "source": [
    "Ler cada uma das linhas, separadamente\n",
    "\n",
    "Neste caso, não precisa nem de readline!"
   ]
  },
  {
   "cell_type": "code",
   "execution_count": null,
   "metadata": {},
   "outputs": [],
   "source": [
    "f = open(\"poema.txt\", \"r\", encoding=\"utf-8\")\n",
    "\n",
    "lista = []\n",
    "\n",
    "for x in f:\n",
    "    lista.append(x)\n",
    "    \n",
    "print(lista)"
   ]
  },
  {
   "cell_type": "code",
   "execution_count": 45,
   "metadata": {},
   "outputs": [
    {
     "data": {
      "text/plain": [
       "['Batatinha quando nasce,\\n',\n",
       " 'espalha a rama pelo chão.\\n',\n",
       " 'Menininha quando dorme,\\n',\n",
       " 'põe a mão no coração.']"
      ]
     },
     "execution_count": 45,
     "metadata": {},
     "output_type": "execute_result"
    }
   ],
   "source": [
    "f = open(\"poema.txt\", \"r\", encoding=\"utf-8\")\n",
    "\n",
    "lista_de_linhas = []\n",
    "\n",
    "# aqui, o python entende que ele deve percorrer cada linha do arquivo!\n",
    "for elemento in f:\n",
    "    \n",
    "    lista_de_linhas.append(elemento)\n",
    "    \n",
    "f.close()\n",
    "\n",
    "lista_de_linhas"
   ]
  },
  {
   "cell_type": "code",
   "execution_count": 52,
   "metadata": {},
   "outputs": [
    {
     "name": "stdout",
     "output_type": "stream",
     "text": [
      "0\n",
      "2\n",
      "4\n",
      "6\n",
      "8\n"
     ]
    },
    {
     "data": {
      "text/plain": [
       "['B',\n",
       " 'a',\n",
       " 't',\n",
       " 'a',\n",
       " 't',\n",
       " 'i',\n",
       " 'n',\n",
       " 'h',\n",
       " 'a',\n",
       " 'q',\n",
       " 'u',\n",
       " 'a',\n",
       " 'n',\n",
       " 'd',\n",
       " 'o',\n",
       " 'n',\n",
       " 'a',\n",
       " 's',\n",
       " 'c',\n",
       " 'e',\n",
       " ',']"
      ]
     },
     "execution_count": 52,
     "metadata": {},
     "output_type": "execute_result"
    }
   ],
   "source": [
    "# usando compreensão de listas!\n",
    "\n",
    "f = open(\"poema.txt\", \"r\", encoding=\"utf-8\")\n",
    "\n",
    "frase = f.readline()\n",
    "\n",
    "lista = [letra for palavra in frase.split() for letra in palavra]\n",
    "\n",
    "lista"
   ]
  },
  {
   "cell_type": "code",
   "execution_count": 49,
   "metadata": {},
   "outputs": [
    {
     "name": "stdout",
     "output_type": "stream",
     "text": [
      "Batatinha\n",
      "quando\n",
      "nasce,\n",
      "espalha\n",
      "a\n",
      "rama\n",
      "pelo\n",
      "chão.\n",
      "Menininha\n",
      "quando\n",
      "dorme,\n",
      "põe\n",
      "a\n",
      "mão\n",
      "no\n",
      "coração.\n"
     ]
    },
    {
     "data": {
      "text/plain": [
       "['Batatinha quando nasce,\\n',\n",
       " 'espalha a rama pelo chão.\\n',\n",
       " 'Menininha quando dorme,\\n',\n",
       " 'põe a mão no coração.']"
      ]
     },
     "execution_count": 49,
     "metadata": {},
     "output_type": "execute_result"
    }
   ],
   "source": [
    "f = open(\"poema.txt\", \"r\", encoding=\"utf-8\")\n",
    "\n",
    "for linha in f:\n",
    "    listaFrase = linha.split()\n",
    "    for palavra in listaFrase:\n",
    "        print(palavra)\n",
    "    \n",
    "f.close()\n",
    "\n",
    "lista_de_linhas"
   ]
  },
  {
   "cell_type": "code",
   "execution_count": 69,
   "metadata": {},
   "outputs": [
    {
     "name": "stdout",
     "output_type": "stream",
     "text": [
      "0 4\n",
      "1 5\n",
      "2 6\n",
      "3 7\n",
      "4 a\n",
      "5 3\n"
     ]
    }
   ],
   "source": [
    "lista = [4, 5, 6, 7, \"a\", \"3\"]\n",
    "\n",
    "for idx, item in enumerate(lista):\n",
    "    print(idx, item)"
   ]
  },
  {
   "cell_type": "markdown",
   "metadata": {},
   "source": [
    "Apesar de termos tratado sobre as funções acima, existem **bibliotecas específicas** para a leitura/escrita de determinados tipos de arquivos.\n",
    "\n",
    "Na prática, é muito mais conveniente usarmos estas bibliotecas, a depender do tipo de arquivo que desejamos ler/escrever!"
   ]
  },
  {
   "cell_type": "markdown",
   "metadata": {},
   "source": [
    "## Exercícios\n",
    "\n",
    "A ACME Inc., uma empresa de 500 funcionários, está tendo problemas de espaço em disco no seu servidor de arquivos. Para tentar resolver este problema, o Administrador de Rede precisa saber qual o espaço ocupado pelos usuários, e identificar os usuários com maior espaço ocupado. Através de um programa, baixado da Internet, ele conseguiu gerar o seguinte arquivo, chamado \"usuarios.txt\":\n",
    "\n",
    "```\n",
    "alexandre       456123789\n",
    "anderson        1245698456\n",
    "antonio         123456456\n",
    "carlos          91257581\n",
    "cesar           987458\n",
    "rosemary        789456125\n",
    "```\n",
    "\n",
    "Neste arquivo, o nome do usuário possui 15 caracteres. A partir deste arquivo, você deve criar um programa que gere um relatório, chamado \"relatório.txt\", no seguinte formato:\n",
    "\n",
    "````\n",
    "ACME Inc.               Uso do espaço em disco pelos usuários\n",
    "------------------------------------------------------------------------\n",
    "Nr.  Usuário        Espaço utilizado     % do uso\n",
    "\n",
    "1    alexandre             456.12 MB       16.85%\n",
    "2    anderson             1245.70 MB       46.02%\n",
    "3    antonio               123.46 MB        4.56%\n",
    "4    carlos                 91.26 MB        3.37%\n",
    "5    cesar                   0.99 MB        0.04%\n",
    "6    rosemary              789.46 MB       29.16%\n",
    "\n",
    "Espaço total ocupado: 2706.98 MB\n",
    "Espaço médio ocupado: 451.16 MB\n",
    "````\n",
    "\n",
    "O arquivo de entrada deve ser lido uma única vez, e os dados armazenados em memória, caso sejam necessários, de forma a agilizar a execução do programa. A conversão da espaço ocupado em disco, de bytes para megabytes deverá ser feita através de uma função separada, que será chamada pelo programa principal. O cálculo do percentual de uso também deverá ser feito através de uma função, que será chamada pelo programa principal."
   ]
  },
  {
   "cell_type": "code",
   "execution_count": 65,
   "metadata": {},
   "outputs": [],
   "source": [
    "def somaTudo(lista):\n",
    "    soma = 0\n",
    "    for colaborador in lista:\n",
    "        soma += int(colaborador[1])\n",
    "    return soma\n",
    "\n",
    "def converteByteToMegabyte(nrBytes):\n",
    "    return int(nrBytes)/(2**20)\n",
    "\n",
    "def calculaPorcentagem(lista, tamanho):\n",
    "    return int(tamanho)/somaTudo(lista)*100\n",
    "\n",
    "usuarios = open(\"usuarios.txt\", \"r\", encoding=\"utf-8\")\n",
    "\n",
    "listaUsuarios = []\n",
    "for usuario in usuarios:\n",
    "    listaUsuarios.append(usuario.split())\n",
    "\n",
    "usuarios.close()\n",
    "\n",
    "relatorio = open(\"relatorio.txt\", \"w\", encoding=\"utf-8\")\n",
    "relatorio.write(\"ACME Inc.               Uso do espaço em disco pelos usuários\\n\")\n",
    "relatorio.write(\"------------------------------------------------------------------------\\n\")\n",
    "relatorio.write(\"Nr.  Usuário        Espaço utilizado     % do uso\\n\\n\")\n",
    "\n",
    "# listaUsuarios = sorted(listaUsuarios, key=lambda x : int(x[1]))\n",
    "listaUsuarios = sorted(listaUsuarios, key=lambda x : x[0])\n",
    "\n",
    "for idx, colaborador in enumerate(listaUsuarios):\n",
    "    texto = \"{:<5d}{:<15}{:>13.2f} MB{:>12.2f}%\\n\".\\\n",
    "        format(idx+1, colaborador[0].capitalize(), converteByteToMegabyte(colaborador[1]), calculaPorcentagem(listaUsuarios, colaborador[1]))\n",
    "\n",
    "    relatorio.write(texto)\n",
    "\n",
    "relatorio.write(\"\\nEspaço total ocupado: {:.2f} MB\\n\".format(converteByteToMegabyte(somaTudo(listaUsuarios))))\n",
    "relatorio.write(\"Espaço médio ocupado: {:.2f} MB\".format(converteByteToMegabyte(somaTudo(listaUsuarios)/len(listaUsuarios))))\n",
    "\n",
    "relatorio.close()\n",
    "\n"
   ]
  }
 ],
 "metadata": {
  "interpreter": {
   "hash": "2010e915a70ed3543376d72d2cffb952485101438872d9e01e09aa2072bae8b8"
  },
  "kernelspec": {
   "display_name": "Python 3",
   "language": "python",
   "name": "python3"
  },
  "language_info": {
   "codemirror_mode": {
    "name": "ipython",
    "version": 3
   },
   "file_extension": ".py",
   "mimetype": "text/x-python",
   "name": "python",
   "nbconvert_exporter": "python",
   "pygments_lexer": "ipython3",
   "version": "3.8.5"
  }
 },
 "nbformat": 4,
 "nbformat_minor": 4
}
