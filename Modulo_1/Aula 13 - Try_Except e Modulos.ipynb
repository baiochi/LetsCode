{
 "cells": [
  {
   "cell_type": "markdown",
   "metadata": {},
   "source": [
    "# Try/Except e Módulos\n",
    "\n",
    "---\n",
    "---\n",
    "---"
   ]
  },
  {
   "cell_type": "markdown",
   "metadata": {},
   "source": [
    "### Try/Except"
   ]
  },
  {
   "cell_type": "code",
   "execution_count": 33,
   "metadata": {},
   "outputs": [
    {
     "name": "stdout",
     "output_type": "stream",
     "text": [
      "Digite um numero: as\n",
      "Numero não é um número\n"
     ]
    }
   ],
   "source": [
    "try:\n",
    "    numero = int(input(\"Digite um numero: \"))\n",
    "except:\n",
    "    print(\"Numero não é um número\")"
   ]
  },
  {
   "cell_type": "code",
   "execution_count": 35,
   "metadata": {},
   "outputs": [
    {
     "name": "stdout",
     "output_type": "stream",
     "text": [
      "Digite um numero: a\n"
     ]
    },
    {
     "ename": "ValueError",
     "evalue": "invalid literal for int() with base 10: 'a'",
     "output_type": "error",
     "traceback": [
      "\u001b[1;31m---------------------------------------------------------------------------\u001b[0m",
      "\u001b[1;31mValueError\u001b[0m                                Traceback (most recent call last)",
      "\u001b[1;32m<ipython-input-35-daec3c2256f5>\u001b[0m in \u001b[0;36m<module>\u001b[1;34m\u001b[0m\n\u001b[1;32m----> 1\u001b[1;33m \u001b[0mnumero\u001b[0m \u001b[1;33m=\u001b[0m \u001b[0mint\u001b[0m\u001b[1;33m(\u001b[0m\u001b[0minput\u001b[0m\u001b[1;33m(\u001b[0m\u001b[1;34m\"Digite um numero: \"\u001b[0m\u001b[1;33m)\u001b[0m\u001b[1;33m)\u001b[0m\u001b[1;33m\u001b[0m\u001b[1;33m\u001b[0m\u001b[0m\n\u001b[0m",
      "\u001b[1;31mValueError\u001b[0m: invalid literal for int() with base 10: 'a'"
     ]
    }
   ],
   "source": [
    "#Tipo de erro: ValueError\n",
    "numero = int(input(\"Digite um numero: \"))"
   ]
  },
  {
   "cell_type": "markdown",
   "metadata": {},
   "source": [
    "### Finally"
   ]
  },
  {
   "cell_type": "code",
   "execution_count": null,
   "metadata": {},
   "outputs": [],
   "source": [
    "# Exemplo com arquivo fechado no finally e mais de um tipo de erro\n",
    "def criaArquivo(filePath):\n",
    "    try:\n",
    "        file_obj = None\n",
    "        file_obj = open(filePath, 'w')\n",
    "        return\n",
    "    except (IOError, ValueError) as error:\n",
    "        if isinstance(error, IOError):\n",
    "            msg = (\"Unable to create file on disk.\")\n",
    "        elif isinstance(error, ValueError):\n",
    "            msg = (\"Caminho não válido\")\n",
    "        return\n",
    "    finally: # Sempre roda, não importa se deu erro ou não\n",
    "        if file_obj != None:\n",
    "            file_obj.write(\"Hello World!\")\n",
    "        file_obj.close()"
   ]
  },
  {
   "cell_type": "code",
   "execution_count": null,
   "metadata": {},
   "outputs": [],
   "source": [
    "# Exemplo com arquivo fechado no finally e mais de um tipo de erro\n",
    "def criaArquivo(filePath):\n",
    "    try:\n",
    "        file_obj = None\n",
    "        file_obj = open(filePath, 'w')\n",
    "        return\n",
    "    except IOError, ZeroDivisionError:\n",
    "        msg = (\"Unable to create file on disk.\")\n",
    "        return\n",
    "    except ValueError:\n",
    "        msg = (\"Caminho não válido\")\n",
    "        return\n",
    "    except:\n",
    "        msg = (\"Erro não esperado\")\n",
    "        return\n",
    "    finally: # Sempre roda, não importa se deu erro ou não\n",
    "        if file_obj != None:\n",
    "            file_obj.write(\"Hello World!\")\n",
    "        file_obj.close()"
   ]
  },
  {
   "cell_type": "code",
   "execution_count": 83,
   "metadata": {},
   "outputs": [
    {
     "ename": "IndentationError",
     "evalue": "expected an indented block (<ipython-input-83-2a9b53501fd5>, line 5)",
     "output_type": "error",
     "traceback": [
      "\u001b[1;36m  File \u001b[1;32m\"<ipython-input-83-2a9b53501fd5>\"\u001b[1;36m, line \u001b[1;32m5\u001b[0m\n\u001b[1;33m    print(numero)\u001b[0m\n\u001b[1;37m    ^\u001b[0m\n\u001b[1;31mIndentationError\u001b[0m\u001b[1;31m:\u001b[0m expected an indented block\n"
     ]
    }
   ],
   "source": [
    "# Função para explicitar ordem do bloco\n",
    "def funcaoBlocoTry(numero):\n",
    "    try:\n",
    "        print(numero)\n",
    "        return numero + 10\n",
    "    except:\n",
    "        print(\"numero não é um numero\")\n",
    "        return numero\n",
    "    finally:\n",
    "        print(\"Aqui roda o finally\")\n",
    "        \n",
    "print(funcaoBlocoTry(\"a\"))"
   ]
  },
  {
   "cell_type": "code",
   "execution_count": 85,
   "metadata": {},
   "outputs": [
    {
     "name": "stdout",
     "output_type": "stream",
     "text": [
      "Sem permissão para acessar index maior do que 3, index acessada: 5\n",
      "Você rodou essa função\n"
     ]
    }
   ],
   "source": [
    "lista = [0, 6, 32, 7, 3, 45, 1, 2]\n",
    "\n",
    "def acessaLista(idx):\n",
    "    try:\n",
    "        if idx > 3:\n",
    "            raise Exception(\"Sem permissão para acessar index maior do que 3, index acessada: \" + str(idx))\n",
    "        return lista[idx]\n",
    "    \n",
    "    except IndexError:\n",
    "        print(f\"Você tentou acessar a lista com tamanho: {len(lista)} na index: {idx}\")\n",
    "    except TypeError:\n",
    "        print(f\"Você tentou acessar a lista com uma index inválida: {idx}\")\n",
    "    except Exception:\n",
    "        print(\"Sem permissão para acessar index maior do que 3, index acessada: \" + str(idx))\n",
    "    finally:\n",
    "        print(\"Você rodou essa função\")\n",
    "\n",
    "n = acessaLista(5)\n",
    "if n != None:\n",
    "    print(n)"
   ]
  },
  {
   "cell_type": "markdown",
   "metadata": {},
   "source": [
    "### Else"
   ]
  },
  {
   "cell_type": "code",
   "execution_count": 77,
   "metadata": {},
   "outputs": [
    {
     "name": "stdout",
     "output_type": "stream",
     "text": [
      "Aqui quando da erro\n",
      "Aqui roda o finally\n"
     ]
    }
   ],
   "source": [
    "# Função para explicitar ordem do bloco\n",
    "def funcaoBlocoTry(numero):\n",
    "    try:\n",
    "        print(int(numero)) # Aqui entra o código passivel de falhas\n",
    "    except: \n",
    "        print(\"Aqui quando da erro\") # Aqui roda meu tratamento de possiveis erros\n",
    "    else: # Eu rodo quando nada da errado, e não tem retorno antes de mim\n",
    "        print(\"Deu certo\") # Aqui roda o caso sem erros\n",
    "    finally:\n",
    "        print(\"Aqui roda o finally\") # Aqui roda independente do que acontecer\n",
    "        \n",
    "funcaoBlocoTry(\"a\")"
   ]
  },
  {
   "cell_type": "markdown",
   "metadata": {},
   "source": [
    "### Raise Exception"
   ]
  },
  {
   "cell_type": "code",
   "execution_count": 81,
   "metadata": {},
   "outputs": [
    {
     "name": "stdout",
     "output_type": "stream",
     "text": [
      "Digite seu nome: asdasdasd\n",
      "Nomes só são permitidos até 5 caracteres\n"
     ]
    }
   ],
   "source": [
    "try:\n",
    "    nome = input(\"Digite seu nome: \")\n",
    "    if len(nome) > 5:\n",
    "        raise Exception(\"Tamanho do nome acima do limite. (5 caracteres)\")\n",
    "except Exception:\n",
    "    print(\"Nomes só são permitidos até 5 caracteres\")"
   ]
  },
  {
   "cell_type": "markdown",
   "metadata": {},
   "source": [
    "---\n",
    "---\n",
    "---"
   ]
  },
  {
   "cell_type": "markdown",
   "metadata": {},
   "source": [
    "## Módulos\n",
    "\n",
    "#### O que são e como criar os seus?"
   ]
  },
  {
   "cell_type": "markdown",
   "metadata": {},
   "source": [
    "### Math\n",
    "\n",
    "<a href=\"https://www.w3schools.com/python/module_math.asp\">Referência</a>"
   ]
  },
  {
   "cell_type": "code",
   "execution_count": 88,
   "metadata": {},
   "outputs": [
    {
     "data": {
      "text/plain": [
       "3.141592653589793"
      ]
     },
     "execution_count": 88,
     "metadata": {},
     "output_type": "execute_result"
    }
   ],
   "source": [
    "import math\n",
    "math.pi"
   ]
  },
  {
   "cell_type": "code",
   "execution_count": 95,
   "metadata": {},
   "outputs": [
    {
     "data": {
      "text/plain": [
       "24"
      ]
     },
     "execution_count": 95,
     "metadata": {},
     "output_type": "execute_result"
    }
   ],
   "source": [
    "def fatorial(n):\n",
    "    nMenosUm = n - 1\n",
    "    while nMenosUm > 0:\n",
    "        n = n * nMenosUm\n",
    "        nMenosUm -= 1\n",
    "    return n"
   ]
  },
  {
   "cell_type": "code",
   "execution_count": 98,
   "metadata": {},
   "outputs": [
    {
     "name": "stdout",
     "output_type": "stream",
     "text": [
      "765 ns ± 19.1 ns per loop (mean ± std. dev. of 7 runs, 1000000 loops each)\n"
     ]
    }
   ],
   "source": [
    "%%timeit\n",
    "\n",
    "fatorial(5)"
   ]
  },
  {
   "cell_type": "code",
   "execution_count": 99,
   "metadata": {},
   "outputs": [
    {
     "name": "stdout",
     "output_type": "stream",
     "text": [
      "105 ns ± 1.83 ns per loop (mean ± std. dev. of 7 runs, 10000000 loops each)\n"
     ]
    }
   ],
   "source": [
    "%%timeit\n",
    "\n",
    "math.factorial(5)"
   ]
  },
  {
   "cell_type": "markdown",
   "metadata": {},
   "source": [
    "### Datetime\n",
    "\n",
    "<a href=\"https://docs.python.org/3/library/datetime.html\">Referência</a>"
   ]
  },
  {
   "cell_type": "markdown",
   "metadata": {},
   "source": [
    "### Statistics\n",
    "\n",
    "<a href=\"https://www.w3schools.com/python/module_statistics.asp\">Referência</a>"
   ]
  },
  {
   "cell_type": "code",
   "execution_count": 89,
   "metadata": {},
   "outputs": [
    {
     "data": {
      "text/plain": [
       "8"
      ]
     },
     "execution_count": 89,
     "metadata": {},
     "output_type": "execute_result"
    }
   ],
   "source": [
    "import statistics\n",
    "\n",
    "lista = [1, 2, 3, 4, 5, 6, 7, 8, 9, 10, 8]\n",
    "\n",
    "statistics.mode(lista)"
   ]
  },
  {
   "cell_type": "code",
   "execution_count": 92,
   "metadata": {},
   "outputs": [
    {
     "name": "stdout",
     "output_type": "stream",
     "text": [
      "8\n"
     ]
    }
   ],
   "source": [
    "lista = [1, 2, 3, 4, 5, 6, 7, 8, 9, 10, 8]\n",
    "numeroModa = lista[0]\n",
    "\n",
    "for x in lista:\n",
    "    if lista.count(x) > lista.count(numeroModa):\n",
    "        numeroModa = x\n",
    "        \n",
    "print(numeroModa)"
   ]
  },
  {
   "cell_type": "markdown",
   "metadata": {},
   "source": [
    "### Random\n",
    "\n",
    "<a href=\"https://www.w3schools.com/python/module_random.asp\">Referência</a>"
   ]
  },
  {
   "cell_type": "markdown",
   "metadata": {},
   "source": [
    "### Regex\n",
    "\n",
    "<a href=\"https://medium.com/factory-mind/regex-tutorial-a-simple-cheatsheet-by-examples-649dc1c3f285\">Tutorial</a>\n",
    "\n",
    "<a href=\"https://www.w3schools.com/python/module_random.asp\">Referência</a>"
   ]
  },
  {
   "cell_type": "code",
   "execution_count": null,
   "metadata": {},
   "outputs": [],
   "source": []
  }
 ],
 "metadata": {
  "kernelspec": {
   "display_name": "Python 3",
   "language": "python",
   "name": "python3"
  },
  "language_info": {
   "codemirror_mode": {
    "name": "ipython",
    "version": 3
   },
   "file_extension": ".py",
   "mimetype": "text/x-python",
   "name": "python",
   "nbconvert_exporter": "python",
   "pygments_lexer": "ipython3",
   "version": "3.8.5"
  }
 },
 "nbformat": 4,
 "nbformat_minor": 4
}
