{
 "cells": [
  {
   "cell_type": "markdown",
   "metadata": {},
   "source": [
    "# Aula 3 - Loop While\n",
    "\n",
    "Na aula de hoje, vamos explorar o seguinte tópicoo em Python:\n",
    "\n",
    "- 1) Laços de repetição (while).\n",
    "\n",
    "_______\n",
    "\n",
    "### Objetivos\n",
    "\n",
    "Laço de repetição while, frisando aqui a necessidade de atualização da condição para evitar loops infinitos. Nesta aula, será mostrado como os operadores lógicos são utilizados nas novas estruturas apresentadas. "
   ]
  },
  {
   "cell_type": "markdown",
   "metadata": {},
   "source": [
    "____\n",
    "____\n",
    "____"
   ]
  },
  {
   "cell_type": "markdown",
   "metadata": {},
   "source": [
    "## 3) Laços de repetição (while)\n",
    "\n",
    "Uma das utilidades de linguagens de programação é a de automatizar tarefas que são repetitivas.\n",
    "\n",
    "Mas, pra isso ser viável, seria bom se tivéssemos uma estrutura para **repetir comandos**, não é mesmo?\n",
    "\n",
    "Imagine que eu queira exibir na tela \"Olá, mundo!\" 5 vezes. Podemos fazer:"
   ]
  },
  {
   "cell_type": "code",
   "execution_count": 44,
   "metadata": {},
   "outputs": [
    {
     "name": "stdout",
     "output_type": "stream",
     "text": [
      "Olá, mundo!\n",
      "Olá, mundo!\n",
      "Olá, mundo!\n",
      "Olá, mundo!\n",
      "Olá, mundo!\n"
     ]
    }
   ],
   "source": [
    "print(\"Olá, mundo!\")\n",
    "print(\"Olá, mundo!\")\n",
    "print(\"Olá, mundo!\")\n",
    "print(\"Olá, mundo!\")\n",
    "print(\"Olá, mundo!\")"
   ]
  },
  {
   "cell_type": "markdown",
   "metadata": {},
   "source": [
    "Mas, e se eu quiser exibir essa mensagem 1000 vezes? Ou 1 milhão de vezes? Não é ideal escrevermos o mesmo pedaço de código tantas vezes, né?\n",
    "\n",
    "Para isso, existem os **laços de repetição**, que permitem repetir pedaços de código quantas vezes desejarmos!\n",
    "\n",
    "O primeiro laço que vamos ver é o **while**. Este laço tem a seguinte estrutura:\n",
    "\n",
    "```python\n",
    "while (condicao é True):\n",
    "    operacao_repetida\n",
    "```\n",
    "\n",
    "Ou seja, o que tá no bloco do while é repetido **enquanto a condição for verdadeira**"
   ]
  },
  {
   "cell_type": "markdown",
   "metadata": {},
   "source": [
    "Isso pode levar a **loops infinitos**"
   ]
  },
  {
   "cell_type": "code",
   "execution_count": null,
   "metadata": {},
   "outputs": [],
   "source": [
    "while 2==2:\n",
    "    print(\"Olá, mundo\")"
   ]
  },
  {
   "cell_type": "markdown",
   "metadata": {},
   "source": [
    "Para que loops infinitos não aconteçam, temos que fazer uma **atualização da condição** a cada iteração do laço!\n",
    "\n",
    "Isso é, temos que **atualizar** a variavel que contabiliza as repetições no loop"
   ]
  },
  {
   "cell_type": "code",
   "execution_count": null,
   "metadata": {},
   "outputs": [],
   "source": [
    "# vamos definir uma variável\n",
    "# \"x recebe o valor'aa' 2\"\n",
    "\n",
    "x = 2\n",
    "\n",
    "# podemos redefinir a variável em termos do valor anterior dela\n",
    "# \"x recebe o valor que tinha ANTES na variável, + 3\"\n",
    "x = x + 3\n",
    "\n",
    "# chamando a variável\n",
    "x"
   ]
  },
  {
   "cell_type": "markdown",
   "metadata": {},
   "source": [
    "Assim, o que fazemos é **definir a condição do while em termos de uma variável que tenha seu valor atualizado!**\n",
    "\n",
    "Para isso, é comum nos referirmos à variàvel da condição como **variável contadora**.\n",
    "\n",
    "Para atualizar a variável contadora dentro do while, em geral a atualizamos em +1"
   ]
  },
  {
   "cell_type": "code",
   "execution_count": 50,
   "metadata": {},
   "outputs": [
    {
     "name": "stdout",
     "output_type": "stream",
     "text": [
      "0\n",
      "Olá mundo\n",
      "True\n",
      "1\n",
      "Olá mundo\n",
      "True\n",
      "2\n",
      "Olá mundo\n",
      "True\n",
      "3\n",
      "Olá mundo\n",
      "True\n",
      "4\n",
      "Olá mundo\n",
      "False\n"
     ]
    }
   ],
   "source": [
    "cont = 0\n",
    "\n",
    "while cont < 5:\n",
    "    print(cont)\n",
    "    print(\"Olá mundo\")\n",
    "    cont += 1\n",
    "    print(cont < 5)"
   ]
  },
  {
   "cell_type": "markdown",
   "metadata": {},
   "source": [
    "Vamos entender um pouco melhor como a variável contadora se comporta?\n",
    "\n",
    "Pra isso, basta exibi-la a cada iteração:"
   ]
  },
  {
   "cell_type": "code",
   "execution_count": null,
   "metadata": {},
   "outputs": [],
   "source": [
    "cont = 0\n",
    "\n",
    "while cont < 5:\n",
    "    \n",
    "    print(cont)\n",
    "    \n",
    "    # cont += 1\n",
    "    cont = cont + 1"
   ]
  },
  {
   "cell_type": "markdown",
   "metadata": {},
   "source": [
    "O código acima equivale a:"
   ]
  },
  {
   "cell_type": "code",
   "execution_count": null,
   "metadata": {},
   "outputs": [],
   "source": [
    "# inicialmente, a variavel cont vale 0\n",
    "cont = 0\n",
    "print(cont)\n",
    "\n",
    "# pegamos o valor anterior (0) e somamos 1, ficando 1\n",
    "cont = cont + 1\n",
    "print(cont)\n",
    "\n",
    "# pegamos o valor anterior (1) e somamos 1, ficando 2\n",
    "cont = cont + 1\n",
    "print(cont)\n",
    "\n",
    "# pegamos o valor anterior (2) e somamos 1, ficando 3\n",
    "cont = cont + 1\n",
    "print(cont)\n",
    "\n",
    "# pegamos o valor anterior (3) e somamos 1, ficando 4\n",
    "cont = cont + 1\n",
    "print(cont)"
   ]
  },
  {
   "cell_type": "markdown",
   "metadata": {},
   "source": [
    "Usar a condição com < ao invés de != em geral garante maior segurança ao seu algoritmo, pois evita imprevistos caso você receba números do usuário!"
   ]
  },
  {
   "cell_type": "markdown",
   "metadata": {},
   "source": [
    "Podemos também atualizar a condição de repetição segundo informado pelo usuário\n",
    "\n",
    "Esse uso é bem importante para **garantir que o usuário digitou corretamente o que foi solicitado**\n",
    "\n",
    "Por exemplo, vamos pedir pro usuário digitar um número maior que 10. **Enquanto ele não fizer o que queremos**, vamos continuar pedindo pra ele digitar um novo valor:"
   ]
  },
  {
   "cell_type": "code",
   "execution_count": null,
   "metadata": {},
   "outputs": [],
   "source": [
    "# pedimos um número ao usuário pela primeira vez:\n",
    "num = float(input(\"Digite um número maior que 10: \"))\n",
    "\n",
    "# enquanto o número digitado for menor que 10 (note que usamos <= pq queremos numeros MAIORES que 10!) ...\n",
    "while num <= 10 :\n",
    "    \n",
    "    # ...pedimos o número novamente, e atualizamos o valor da variável num    \n",
    "    num = float(input(\"Número inválido!\\nDigite novamente um número MAIOR QUE 10: \"))\n",
    "    \n",
    "# aqui já é fora do laço (note que não teve indentação!)\n",
    "print(\"\\nO número digitado foi:\", num)"
   ]
  },
  {
   "cell_type": "markdown",
   "metadata": {},
   "source": [
    "Outro exemplo, onde pedirmos pro usuário digitar sua nota (para ser um valor válido, tem que estar entre 0 e 10!)"
   ]
  },
  {
   "cell_type": "code",
   "execution_count": null,
   "metadata": {},
   "outputs": [],
   "source": [
    "nota = float(input(\"Digite a nota da prova: \"))\n",
    "\n",
    "while nota > 10 or nota < 0 :\n",
    "      \n",
    "    nota = float(input(\"Nota invávlida!\\nDigite novamente (entre 0 e 10) \"))\n",
    "    \n",
    "print(\"\\nA nota digitada foi:\", nota)"
   ]
  },
  {
   "cell_type": "markdown",
   "metadata": {},
   "source": [
    "Outro exemplo..."
   ]
  },
  {
   "cell_type": "code",
   "execution_count": null,
   "metadata": {},
   "outputs": [],
   "source": [
    "sexo = input(\"Digite seu sexo: \")\n",
    "\n",
    "while sexo != \"M\" and sexo != \"F\" and sexo != \"Outro\":\n",
    "        \n",
    "    sexo = input(\"Sexo inválido!\\nDigite seu sexo: \")\n",
    "\n",
    "print(\"\\nO sexo digitado foi:\", sexo)"
   ]
  },
  {
   "cell_type": "markdown",
   "metadata": {},
   "source": [
    "## break, continue e else\n",
    "\n",
    "O while pode ser parado no meio com o break, isso é utilizado caso exista algum(ns) casos excepcionais onde seu código deve parar ou mesmo para poupar processamento em um loop que já fez o que precisava e usava a condição inicial apenas como limite de iterações."
   ]
  },
  {
   "cell_type": "code",
   "execution_count": null,
   "metadata": {},
   "outputs": [],
   "source": [
    "# numeros primos"
   ]
  },
  {
   "cell_type": "markdown",
   "metadata": {},
   "source": [
    "Com o comando continue conseguimos parar uma iteração no meio e recomeçar o bloco do while."
   ]
  },
  {
   "cell_type": "code",
   "execution_count": null,
   "metadata": {},
   "outputs": [],
   "source": []
  },
  {
   "cell_type": "markdown",
   "metadata": {},
   "source": [
    "O else aqui vai se comportar como um **\"e então\"**, pois será o bloco de código que rodará quando, se **e somente se**, a condição do while não for mais satisfeita."
   ]
  },
  {
   "cell_type": "code",
   "execution_count": null,
   "metadata": {},
   "outputs": [],
   "source": []
  },
  {
   "cell_type": "markdown",
   "metadata": {},
   "source": [
    "---\n",
    "\n",
    "## Exercícios\n",
    "\n",
    "**1)** Print the following patterns using loop :\n",
    "\n",
    "a.<br>\n",
    "\n",
    "\\*<br>\n",
    "\\*\\*<br>\n",
    "\\*\\*\\*<br>\n",
    "\\*\\*\\*\\*<br>\n",
    "\n",
    "b.<br>\n",
    "\n",
    "  \\*  <br>\n",
    " \\*\\*\\* <br>\n",
    "\\*\\*\\*\\*\\*<br>\n",
    " \\*\\*\\* <br>\n",
    "  \\*  <br>"
   ]
  },
  {
   "cell_type": "code",
   "execution_count": 2,
   "metadata": {},
   "outputs": [
    {
     "name": "stdout",
     "output_type": "stream",
     "text": [
      "Digite a quantidade:3\n",
      "*\n",
      "**\n",
      "***\n"
     ]
    }
   ],
   "source": [
    "nStar = int(input(\"Digite a quantidade:\"))\n",
    "\n",
    "count = 1\n",
    "\n",
    "while count <= nStar:\n",
    "    print(\"*\" * count)\n",
    "    count += 1"
   ]
  },
  {
   "cell_type": "code",
   "execution_count": 17,
   "metadata": {},
   "outputs": [
    {
     "name": "stdout",
     "output_type": "stream",
     "text": [
      "Stars: 15\n",
      "-------*\n",
      "------***\n",
      "-----*****\n",
      "----*******\n",
      "---*********\n",
      "--***********\n",
      "-*************\n",
      "***************\n",
      "-*************\n",
      "--***********\n",
      "---*********\n",
      "----*******\n",
      "-----*****\n",
      "------***\n",
      "-------*\n"
     ]
    }
   ],
   "source": [
    "size = int(input(\"Stars: \"))\n",
    "nStar = 1\n",
    "space = size // 2\n",
    "\n",
    "while nStar < size:\n",
    "    print(\" \" * space + \"*\" * nStar)\n",
    "    nStar += 2\n",
    "    space -= 1\n",
    "\n",
    "while nStar >= 1:\n",
    "    print(\" \" * space + \"*\" * nStar)\n",
    "    nStar -= 2\n",
    "    space += 1"
   ]
  },
  {
   "cell_type": "markdown",
   "metadata": {},
   "source": [
    "**2)** Reverse a given integer number"
   ]
  },
  {
   "cell_type": "code",
   "execution_count": 18,
   "metadata": {},
   "outputs": [
    {
     "name": "stdout",
     "output_type": "stream",
     "text": [
      "1234\n",
      "Reverse number:  4321\n"
     ]
    }
   ],
   "source": [
    "num = int(input())\n",
    "nReverse = 0\n",
    "\n",
    "while num > 0:\n",
    "    unity = num % 10\n",
    "    num //= 10\n",
    "    nReverse *= 10\n",
    "    nReverse += unity\n",
    "\n",
    "print(\"Reverse number: \", nReverse)"
   ]
  },
  {
   "cell_type": "markdown",
   "metadata": {},
   "source": [
    "**3)** Escreva um programa que encontra o maximo divisor comum entre dois números"
   ]
  },
  {
   "cell_type": "code",
   "execution_count": 23,
   "metadata": {},
   "outputs": [
    {
     "name": "stdout",
     "output_type": "stream",
     "text": [
      "Number 1: 380\n",
      "Number 2: 190\n",
      "MDC:  190.0\n"
     ]
    }
   ],
   "source": [
    "num1 = float(input(\"Number 1: \"))\n",
    "num2 = float(input(\"Number 2: \"))\n",
    "mdc = 1\n",
    "div = num1\n",
    "if num2 < num1:\n",
    "    div = num2\n",
    "\n",
    "while div > 0:\n",
    "    if num1 % div == 0 and num2 % div == 0 :\n",
    "        mdc = div\n",
    "        break\n",
    "    div -= 1\n",
    "print(\"MDC: \", mdc)"
   ]
  },
  {
   "cell_type": "markdown",
   "metadata": {},
   "source": [
    "**4)** Faça a somatória de todos os numeros seguindo a sequência: <br>\n",
    "\n",
    "$ \\frac{1}{1} + \\frac{1}{2} + \\frac{1}{3} + \\frac{1}{4} + \\frac{1}{5} + \\frac{1}{6} + ... + \\frac{1}{1000} $\n",
    "\n"
   ]
  },
  {
   "cell_type": "code",
   "execution_count": 27,
   "metadata": {},
   "outputs": [
    {
     "name": "stdout",
     "output_type": "stream",
     "text": [
      "7.485470860550343\n"
     ]
    }
   ],
   "source": [
    "n = 1\n",
    "result = 0\n",
    "\n",
    "while n <= 1000 :\n",
    "    result += 1/n\n",
    "    n += 1\n",
    "\n",
    "print(result)\n"
   ]
  },
  {
   "cell_type": "code",
   "execution_count": 29,
   "metadata": {},
   "outputs": [
    {
     "name": "stdout",
     "output_type": "stream",
     "text": [
      "2.0\n"
     ]
    }
   ],
   "source": [
    "# PG de 2\n",
    "\n",
    "n = 1\n",
    "factor = 1\n",
    "result = 0\n",
    "\n",
    "while n <= 1000 :\n",
    "    result += 1/factor\n",
    "    factor *= 2\n",
    "    n += 1\n",
    "\n",
    "print(result)\n"
   ]
  },
  {
   "cell_type": "markdown",
   "metadata": {},
   "source": [
    "**5)** Seguindo a mesma ideia do exercício 4, faça a soma da seguinte sequência: <br>\n",
    "\n",
    "$ \\frac{1}{1!} + \\frac{1}{2!} + \\frac{1}{3!} + \\frac{1}{4!} + \\frac{1}{5!} + \\frac{1}{6!} + ... + \\frac{1}{100!} $"
   ]
  },
  {
   "cell_type": "code",
   "execution_count": 52,
   "metadata": {},
   "outputs": [
    {
     "name": "stdout",
     "output_type": "stream",
     "text": [
      "1.7182818284590455\n"
     ]
    }
   ],
   "source": [
    "n = 1\n",
    "result = 0\n",
    "factor = 1\n",
    "\n",
    "while n <= 18 :\n",
    "    factor *= n\n",
    "    result += 1/factor\n",
    "    n += 1\n",
    "\n",
    "print(result)"
   ]
  },
  {
   "cell_type": "markdown",
   "metadata": {},
   "source": [
    "**6)** Faça uma calculadora de investimentos que define se um fundo gera lucro real (rendimento acima da inflação) ao final de 12 meses, considerando o rendimento mensal projetado, a taxa de administração do fundo, a inflação no ano, come-cotas ( vamos considerar 15%) e o capital investido. Caso positivo, informe quanto foi esse lucro."
   ]
  },
  {
   "cell_type": "code",
   "execution_count": 31,
   "metadata": {},
   "outputs": [
    {
     "name": "stdout",
     "output_type": "stream",
     "text": [
      "Capital inicial: 1000\n",
      "Rendimento mensal: 0.05\n",
      "Taxa: 0.004\n",
      "Inflacao: 0.065\n",
      "Meta:  1065.0\n",
      "Capital atual:  1284.5249693531252\n",
      "Meta batida, com lucro: 219.52496935312524\n"
     ]
    }
   ],
   "source": [
    "capitalInicial = float(input(\"Capital inicial: \"))\n",
    "rendMensal = float(input(\"Rendimento mensal: \"))\n",
    "taxa = float(input(\"Taxa: \"))\n",
    "inflacao = float(input(\"Inflacao: \"))\n",
    "\n",
    "capitalAtual = capitalInicial\n",
    "meta = capitalInicial * (1 + inflacao)\n",
    "count = 0\n",
    "\n",
    "while count < 6 :\n",
    "    capitalAtual *= (1 + rendMensal)\n",
    "    count += 1\n",
    "\n",
    "capitalAtual *= (1 - taxa)\n",
    "capitalAtual -= (capitalAtual - capitalInicial  )  * 0.15\n",
    "\n",
    "print(\"Meta: \", meta)\n",
    "print(\"Capital atual: \", capitalAtual)\n",
    "\n",
    "if capitalAtual > meta :\n",
    "    print(\"Meta batida, com lucro:\", capitalAtual - meta)\n",
    "else:\n",
    "    print(\"Meta nao batida, com preju:\", capitalAtual - meta)"
   ]
  }
 ],
 "metadata": {
  "kernelspec": {
   "display_name": "Python 3",
   "language": "python",
   "name": "python3"
  },
  "language_info": {
   "codemirror_mode": {
    "name": "ipython",
    "version": 3
   },
   "file_extension": ".py",
   "mimetype": "text/x-python",
   "name": "python",
   "nbconvert_exporter": "python",
   "pygments_lexer": "ipython3",
   "version": "3.8.5"
  }
 },
 "nbformat": 4,
 "nbformat_minor": 4
}
