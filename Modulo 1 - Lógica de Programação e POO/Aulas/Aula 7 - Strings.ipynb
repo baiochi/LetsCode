{
  "nbformat": 4,
  "nbformat_minor": 0,
  "metadata": {
    "kernelspec": {
      "display_name": "Python 3",
      "language": "python",
      "name": "python3"
    },
    "language_info": {
      "codemirror_mode": {
        "name": "ipython",
        "version": 3
      },
      "file_extension": ".py",
      "mimetype": "text/x-python",
      "name": "python",
      "nbconvert_exporter": "python",
      "pygments_lexer": "ipython3",
      "version": "3.7.6"
    },
    "varInspector": {
      "cols": {
        "lenName": 16,
        "lenType": 16,
        "lenVar": 40
      },
      "kernels_config": {
        "python": {
          "delete_cmd_postfix": "",
          "delete_cmd_prefix": "del ",
          "library": "var_list.py",
          "varRefreshCmd": "print(var_dic_list())"
        },
        "r": {
          "delete_cmd_postfix": ") ",
          "delete_cmd_prefix": "rm(",
          "library": "var_list.r",
          "varRefreshCmd": "cat(var_dic_list()) "
        }
      },
      "types_to_exclude": [
        "module",
        "function",
        "builtin_function_or_method",
        "instance",
        "_Feature"
      ],
      "window_display": false
    },
    "colab": {
      "name": "Aula 4 - strings.ipynb",
      "provenance": [],
      "collapsed_sections": []
    }
  },
  "cells": [
    {
      "cell_type": "markdown",
      "metadata": {
        "id": "mzSjfqFP5YGb"
      },
      "source": [
        "# Aula 4 - strings\n",
        "\n",
        "Na aula de hoje, vamos explorar os seguintes tópicos em Python:\n",
        "\n",
        "- 1) Strings\n",
        "- 2) Funções de Strings\n",
        "    - 2.1) Formatação de strings\n",
        "_______\n",
        "\n",
        "### Objetivos\n",
        "\n",
        "Apresentar o conceito de strings de forma mais aprofundada, como uma coleção de caracteres, fazendo a ligação com o conceito de listas, que já foi estudado, mostrando as semelhanças e diferenças. Depois, apresentar as principais funções e métodos que atuam sobre strings, frisando a importância de utilizá-las no pré-processamento de dados textuais.\n",
        "\n",
        "### Habilidades a serem desenvolvidas\n",
        "\n",
        "Ao final da aula o aluno deve:\n",
        "\n",
        "- Reconhecer strings como coleções de caracteres;\n",
        "- Saber acessar elementos individuas e slices de strings;\n",
        "- Saber iterar sobre strings;\n",
        "- Conhecer os principais métodos e funções que atuam sobre strings;\n",
        "- Entender a inportância de processar strings;\n",
        "- Saber formatar strings com o `format()`"
      ]
    },
    {
      "cell_type": "markdown",
      "metadata": {
        "id": "n_jtqT4S5YGe"
      },
      "source": [
        "____\n",
        "____\n",
        "____"
      ]
    },
    {
      "cell_type": "markdown",
      "metadata": {
        "id": "OGdQOa_O5YGf"
      },
      "source": [
        "## 1) Strings\n",
        "\n",
        "Desde a primeira aula, temos trabalhado com strings, que, como vimos, representam **dados textuais**\n",
        "\n",
        "Vamos, agora, olhar pra strings um pouco mais a fundo, e aprender algumas funções para trabalharmos com strings"
      ]
    },
    {
      "cell_type": "markdown",
      "metadata": {
        "id": "hffhXfxf5YGf"
      },
      "source": [
        "Uma string nada mais é do que uma **coleção de caracteres**!\n",
        "\n",
        "Assim, podemos acessar caracteres específicos ou então um intervalo de caracteres de uma string, como se fosse uma lista!\n",
        "\n",
        "**OBS.: Para strings também, o índice começa em 0, e podemos usar índices negativos!**"
      ]
    },
    {
      "cell_type": "code",
      "metadata": {
        "id": "kHTB3FFt5YGg"
      },
      "source": [
        "nome = \"André   ++++\""
      ],
      "execution_count": null,
      "outputs": []
    },
    {
      "cell_type": "code",
      "metadata": {
        "colab": {
          "base_uri": "https://localhost:8080/"
        },
        "id": "NWpjigva5YGg",
        "outputId": "ea6d5924-1c6f-4a60-8d96-5e56f61d178c"
      },
      "source": [
        "print(nome[0])\n",
        "print(nome[-1])\n",
        "print(nome[3])\n",
        "print(nome[:3])\n",
        "print(nome[::2])\n",
        "print(nome[0:len(nome):2])\n",
        "print(nome[::-1])"
      ],
      "execution_count": null,
      "outputs": [
        {
          "output_type": "stream",
          "text": [
            "A\n",
            "+\n",
            "r\n",
            "And\n",
            "Adé ++\n",
            "Adé ++\n",
            "++++   érdnA\n"
          ],
          "name": "stdout"
        }
      ]
    },
    {
      "cell_type": "markdown",
      "metadata": {
        "id": "CaFvNeJA5YGh"
      },
      "source": [
        "Para saber o comprimento de uma string (quantos caracteres ela tem, incluindo espaços e pontuações), use a função len():"
      ]
    },
    {
      "cell_type": "code",
      "metadata": {
        "colab": {
          "base_uri": "https://localhost:8080/"
        },
        "id": "jQ0EIieU5YGi",
        "outputId": "2c96a797-302c-476a-bce5-41ff6ebf807c"
      },
      "source": [
        "len(nome)"
      ],
      "execution_count": null,
      "outputs": [
        {
          "output_type": "execute_result",
          "data": {
            "text/plain": [
              "12"
            ]
          },
          "metadata": {
            "tags": []
          },
          "execution_count": 17
        }
      ]
    },
    {
      "cell_type": "markdown",
      "metadata": {
        "id": "jMmLSVfiMuwR"
      },
      "source": [
        "Como poderíamos implementar a função `len()`?"
      ]
    },
    {
      "cell_type": "code",
      "metadata": {
        "colab": {
          "base_uri": "https://localhost:8080/"
        },
        "id": "w-VDsV3UMuSb",
        "outputId": "71d3ee41-973a-4e67-8afa-3c8342eb97cc"
      },
      "source": [
        "def length(string):\n",
        "  tamanho = 0\n",
        "  for letra in string:\n",
        "    tamanho += 1\n",
        "  return tamanho\n",
        "\n",
        "length(\"Essa turma tá que tá!\")"
      ],
      "execution_count": null,
      "outputs": [
        {
          "output_type": "execute_result",
          "data": {
            "text/plain": [
              "21"
            ]
          },
          "metadata": {
            "tags": []
          },
          "execution_count": 22
        }
      ]
    },
    {
      "cell_type": "markdown",
      "metadata": {
        "id": "_XUvsbYs5YGi"
      },
      "source": [
        "Podemos também percorrer cada caractere da string com o `for` -- strings são objetos **iteráveis**:"
      ]
    },
    {
      "cell_type": "code",
      "metadata": {
        "colab": {
          "base_uri": "https://localhost:8080/"
        },
        "id": "HOUaCvyk5YGi",
        "outputId": "67fb3fa8-6912-4cd7-dfc9-166e9217e778"
      },
      "source": [
        "for char in nome:\n",
        "    print(char)"
      ],
      "execution_count": null,
      "outputs": [
        {
          "output_type": "stream",
          "text": [
            "A\n",
            "n\n",
            "d\n",
            "r\n",
            "é\n",
            " \n",
            " \n",
            " \n",
            "+\n",
            "+\n",
            "+\n",
            "+\n"
          ],
          "name": "stdout"
        }
      ]
    },
    {
      "cell_type": "markdown",
      "metadata": {
        "id": "ONwgWkYT5YGj"
      },
      "source": [
        "Dá pra fazer o mesmo com o range() e o len():"
      ]
    },
    {
      "cell_type": "code",
      "metadata": {
        "colab": {
          "base_uri": "https://localhost:8080/"
        },
        "id": "PhbfbfPI5YGj",
        "outputId": "28980a71-1162-49f1-a506-65adab183052"
      },
      "source": [
        "for i in range(len(nome)):\n",
        "    print(i, nome[i])"
      ],
      "execution_count": null,
      "outputs": [
        {
          "output_type": "stream",
          "text": [
            "0 A\n",
            "1 n\n",
            "2 d\n",
            "3 r\n",
            "4 é\n",
            "5  \n",
            "6  \n",
            "7  \n",
            "8 +\n",
            "9 +\n",
            "10 +\n",
            "11 +\n"
          ],
          "name": "stdout"
        }
      ]
    },
    {
      "cell_type": "markdown",
      "metadata": {
        "id": "jzRP7Glv5YGj"
      },
      "source": [
        "Apesar de se parecer com uma lista, a string não tem exatamente as propriedades de uma lista. Por exemplo, **não podemos alterar** caracteres individualmente:"
      ]
    },
    {
      "cell_type": "code",
      "metadata": {
        "id": "9Dwtoind5YGk"
      },
      "source": [
        "nome = \"Andrezin\""
      ],
      "execution_count": null,
      "outputs": []
    },
    {
      "cell_type": "code",
      "metadata": {
        "colab": {
          "base_uri": "https://localhost:8080/",
          "height": 169
        },
        "id": "IBOUrq_T5YGk",
        "outputId": "d1fd55bc-384d-4db1-818e-2152eca4d798"
      },
      "source": [
        "nome[-1] = \"nnnnn...\""
      ],
      "execution_count": null,
      "outputs": [
        {
          "output_type": "error",
          "ename": "TypeError",
          "evalue": "ignored",
          "traceback": [
            "\u001b[0;31m---------------------------------------------------------------------------\u001b[0m",
            "\u001b[0;31mTypeError\u001b[0m                                 Traceback (most recent call last)",
            "\u001b[0;32m<ipython-input-25-7aeda84f5a5b>\u001b[0m in \u001b[0;36m<module>\u001b[0;34m()\u001b[0m\n\u001b[0;32m----> 1\u001b[0;31m \u001b[0mnome\u001b[0m\u001b[0;34m[\u001b[0m\u001b[0;34m-\u001b[0m\u001b[0;36m1\u001b[0m\u001b[0;34m]\u001b[0m \u001b[0;34m=\u001b[0m \u001b[0;34m\"nnnnn...\"\u001b[0m\u001b[0;34m\u001b[0m\u001b[0;34m\u001b[0m\u001b[0m\n\u001b[0m",
            "\u001b[0;31mTypeError\u001b[0m: 'str' object does not support item assignment"
          ]
        }
      ]
    },
    {
      "cell_type": "markdown",
      "metadata": {
        "id": "3RcGhQhy5YGk"
      },
      "source": [
        "Mas nós conseguimos **alterar caracteres (ou palavras)** com o método \"replace()\":"
      ]
    },
    {
      "cell_type": "code",
      "metadata": {
        "id": "Ne2V4py35YGk"
      },
      "source": [
        "nome = \"André Piiiicolé, é é\""
      ],
      "execution_count": null,
      "outputs": []
    },
    {
      "cell_type": "code",
      "metadata": {
        "colab": {
          "base_uri": "https://localhost:8080/",
          "height": 35
        },
        "id": "HYq0rKww5YGl",
        "outputId": "ae5d62c5-a4b1-4c90-ec4b-fd1e18ba89da"
      },
      "source": [
        "nome = nome.replace(\"iiii\", \"i\")\n",
        "nome.replace(\"é\", \"e....\")"
      ],
      "execution_count": null,
      "outputs": [
        {
          "output_type": "execute_result",
          "data": {
            "application/vnd.google.colaboratory.intrinsic+json": {
              "type": "string"
            },
            "text/plain": [
              "'Andre.... Picole...., e.... e....'"
            ]
          },
          "metadata": {
            "tags": []
          },
          "execution_count": 31
        }
      ]
    },
    {
      "cell_type": "code",
      "metadata": {
        "colab": {
          "base_uri": "https://localhost:8080/",
          "height": 35
        },
        "id": "qjtSKuWy5YGl",
        "outputId": "69b42e8a-1665-4ffe-f453-5497b1498de4"
      },
      "source": [
        "# ultimo parametro: quantidade de primeiras aparições do caractere a ser substituido\n",
        "nome.replace(\"é\", \"e....\", 1)"
      ],
      "execution_count": null,
      "outputs": [
        {
          "output_type": "execute_result",
          "data": {
            "application/vnd.google.colaboratory.intrinsic+json": {
              "type": "string"
            },
            "text/plain": [
              "'Andre.... Picolé, é é'"
            ]
          },
          "metadata": {
            "tags": []
          },
          "execution_count": 28
        }
      ]
    },
    {
      "cell_type": "markdown",
      "metadata": {
        "id": "5wlBAmsHTqbw"
      },
      "source": [
        "Queremos implementar a função replace (inicialmente só conseguindo substituir UM ÚNICO caracter por outro caracter ou string)."
      ]
    },
    {
      "cell_type": "code",
      "metadata": {
        "colab": {
          "base_uri": "https://localhost:8080/",
          "height": 35
        },
        "id": "80EUoHJPREk5",
        "outputId": "a72632b9-0872-4da9-f536-34bc2ceaacdf"
      },
      "source": [
        "def replace(string, ant, novo):\n",
        "  novaString = \"\"\n",
        "  for letra in string:\n",
        "    if letra == ant:\n",
        "      novaString += novo\n",
        "    else:\n",
        "      novaString += letra\n",
        "  return novaString\n",
        "\n",
        "replace(\"ABBBBCDDDDE\", \"BBBB\", \"N\")"
      ],
      "execution_count": null,
      "outputs": [
        {
          "output_type": "execute_result",
          "data": {
            "application/vnd.google.colaboratory.intrinsic+json": {
              "type": "string"
            },
            "text/plain": [
              "'ABBBBCDDDDE'"
            ]
          },
          "metadata": {
            "tags": []
          },
          "execution_count": 33
        }
      ]
    },
    {
      "cell_type": "markdown",
      "metadata": {
        "id": "1i2esS7ZTyv1"
      },
      "source": [
        "Agora sim, vamos implementar a função replace de verdade:"
      ]
    },
    {
      "cell_type": "code",
      "metadata": {
        "id": "4uGRf2uyThda"
      },
      "source": [
        "# def replaceDeVdd(string, ant, novo):\n",
        "#   if ant not in string:\n",
        "#     return string\n",
        "\n",
        "#   i = 0\n",
        "#   j = 0\n",
        "#   while i < len(string):\n",
        "#     charAtual = string[i]\n",
        "#     if charAtual != ant[j]:\n",
        "#       i += 1\n",
        "#     else:\n",
        "#       i += 1\n",
        "\n"
      ],
      "execution_count": null,
      "outputs": []
    },
    {
      "cell_type": "markdown",
      "metadata": {
        "id": "inb8fkbA5YGl"
      },
      "source": [
        "Podemos **transformar uma string em uma lista de caracteres**, explicitamente, usando a fução \"list()\""
      ]
    },
    {
      "cell_type": "code",
      "metadata": {
        "id": "F1dcVAZy5YGm"
      },
      "source": [
        "lista_nome = list(nome)"
      ],
      "execution_count": null,
      "outputs": []
    },
    {
      "cell_type": "code",
      "metadata": {
        "colab": {
          "base_uri": "https://localhost:8080/"
        },
        "id": "DhB1U8Eu5YGm",
        "outputId": "57b67d78-87fa-4ea1-8d2c-2a9593fc5ff0"
      },
      "source": [
        "lista_nome"
      ],
      "execution_count": null,
      "outputs": [
        {
          "output_type": "execute_result",
          "data": {
            "text/plain": [
              "['A',\n",
              " 'n',\n",
              " 'd',\n",
              " 'r',\n",
              " 'é',\n",
              " ' ',\n",
              " 'P',\n",
              " 'i',\n",
              " 'c',\n",
              " 'o',\n",
              " 'l',\n",
              " 'é',\n",
              " ',',\n",
              " ' ',\n",
              " 'é',\n",
              " ' ',\n",
              " 'é']"
            ]
          },
          "metadata": {
            "tags": []
          },
          "execution_count": 42
        }
      ]
    },
    {
      "cell_type": "markdown",
      "metadata": {
        "id": "lk8yFtNh5YGm"
      },
      "source": [
        "Agora sim, podemos alterar um elemento da lista:"
      ]
    },
    {
      "cell_type": "code",
      "metadata": {
        "id": "O6ONNbnI5YGm"
      },
      "source": [
        "lista_nome[-6] = \"e.......\""
      ],
      "execution_count": null,
      "outputs": []
    },
    {
      "cell_type": "code",
      "metadata": {
        "colab": {
          "base_uri": "https://localhost:8080/"
        },
        "id": "Ak5I_Fn65YGm",
        "outputId": "99d3d378-5b8f-4cd4-b363-07682f042880"
      },
      "source": [
        "lista_nome"
      ],
      "execution_count": null,
      "outputs": [
        {
          "output_type": "execute_result",
          "data": {
            "text/plain": [
              "['A',\n",
              " 'n',\n",
              " 'd',\n",
              " 'r',\n",
              " 'é',\n",
              " ' ',\n",
              " 'P',\n",
              " 'i',\n",
              " 'c',\n",
              " 'o',\n",
              " 'l',\n",
              " 'e.......',\n",
              " ',',\n",
              " ' ',\n",
              " 'é',\n",
              " ' ',\n",
              " 'é']"
            ]
          },
          "metadata": {
            "tags": []
          },
          "execution_count": 46
        }
      ]
    },
    {
      "cell_type": "markdown",
      "metadata": {
        "id": "bbGtbbsU5YGn"
      },
      "source": [
        "E, pra trasnformar a lista de volta pra string, usamos a função \"join()\":"
      ]
    },
    {
      "cell_type": "code",
      "metadata": {
        "colab": {
          "base_uri": "https://localhost:8080/"
        },
        "id": "gMUaesn75YGn",
        "outputId": "f159fc5c-8634-4d8d-c121-7ae07e6351da"
      },
      "source": [
        "string = \"\".join(lista_nome)"
      ],
      "execution_count": null,
      "outputs": [
        {
          "output_type": "execute_result",
          "data": {
            "text/plain": [
              "['A',\n",
              " 'n',\n",
              " 'd',\n",
              " 'r',\n",
              " 'é',\n",
              " ' ',\n",
              " 'P',\n",
              " 'i',\n",
              " 'c',\n",
              " 'o',\n",
              " 'l',\n",
              " 'e.......',\n",
              " ',',\n",
              " ' ',\n",
              " 'é',\n",
              " ' ',\n",
              " 'é']"
            ]
          },
          "metadata": {
            "tags": []
          },
          "execution_count": 48
        }
      ]
    },
    {
      "cell_type": "markdown",
      "metadata": {
        "id": "IBLacSTC5YGn"
      },
      "source": [
        "Um exemplo do uso do .join() pra juntar os números de uma lista em um único numero"
      ]
    },
    {
      "cell_type": "code",
      "metadata": {
        "colab": {
          "base_uri": "https://localhost:8080/"
        },
        "id": "fGuQsG7M5YGn",
        "outputId": "c3f7f95d-1625-4706-c4b2-0b1415ed5220"
      },
      "source": [
        "lista_num = [2, 0, 2, 1]\n",
        "\n",
        "num = int(\"\".join([str(elemento) for elemento in lista_num]))\n",
        "\n",
        "print(num)\n",
        "print(int(\"\".join([str(elemento) for elemento in [2, 0, 2, 1]])))"
      ],
      "execution_count": null,
      "outputs": [
        {
          "output_type": "stream",
          "text": [
            "2021\n",
            "2021\n"
          ],
          "name": "stdout"
        }
      ]
    },
    {
      "cell_type": "markdown",
      "metadata": {
        "id": "XIYj4vrsBpg3"
      },
      "source": [
        "Porém não usamos só string vazia para dar join em uma lista de caracteres:"
      ]
    },
    {
      "cell_type": "code",
      "metadata": {
        "colab": {
          "base_uri": "https://localhost:8080/"
        },
        "id": "Vl6fH1OrBpBF",
        "outputId": "6e33fc9a-8807-4cca-8cb2-bc4fe4287003"
      },
      "source": [
        "string = \".\".join(['T', 'V', 'A'])\n",
        "print(string)\n",
        "string.split(\".\")"
      ],
      "execution_count": null,
      "outputs": [
        {
          "output_type": "stream",
          "text": [
            "T.V.A\n"
          ],
          "name": "stdout"
        },
        {
          "output_type": "execute_result",
          "data": {
            "text/plain": [
              "['T', 'V', 'A']"
            ]
          },
          "metadata": {
            "tags": []
          },
          "execution_count": 53
        }
      ]
    },
    {
      "cell_type": "markdown",
      "metadata": {
        "id": "2ZZrhY8a5YGo"
      },
      "source": [
        "Como já vimos, podemos fazer **operações com strings**:"
      ]
    },
    {
      "cell_type": "markdown",
      "metadata": {
        "id": "7YNsqMYd5YGo"
      },
      "source": [
        "Soma de strings: ao somar duas strings, elas são concatenadas:"
      ]
    },
    {
      "cell_type": "code",
      "metadata": {
        "colab": {
          "base_uri": "https://localhost:8080/",
          "height": 35
        },
        "id": "LmuyoqLd5YGo",
        "outputId": "95885e7a-99f7-4768-a7ac-6adb33e38705"
      },
      "source": [
        "\"André \" + \"Picolé\""
      ],
      "execution_count": null,
      "outputs": [
        {
          "output_type": "execute_result",
          "data": {
            "application/vnd.google.colaboratory.intrinsic+json": {
              "type": "string"
            },
            "text/plain": [
              "'André Picolé'"
            ]
          },
          "metadata": {
            "tags": []
          },
          "execution_count": 55
        }
      ]
    },
    {
      "cell_type": "markdown",
      "metadata": {
        "id": "PIIIiZTp5YGo"
      },
      "source": [
        "Multiplicação de string por inteiro: ao multiplicar uma string por um número inteiro, a string é repetida:"
      ]
    },
    {
      "cell_type": "code",
      "metadata": {
        "id": "CDGWxqPW5YGo",
        "outputId": "3ca186b6-336d-4943-ee72-7b9af8e24e65"
      },
      "source": [
        "\"André \" * 3"
      ],
      "execution_count": null,
      "outputs": [
        {
          "output_type": "execute_result",
          "data": {
            "text/plain": [
              "'André André André '"
            ]
          },
          "metadata": {
            "tags": []
          },
          "execution_count": 18
        }
      ]
    },
    {
      "cell_type": "markdown",
      "metadata": {
        "id": "Fr654lLY5YGp"
      },
      "source": [
        "__________\n",
        "__________\n",
        "__________"
      ]
    },
    {
      "cell_type": "markdown",
      "metadata": {
        "id": "QL8otK2n5YGp"
      },
      "source": [
        "## 2) Funções de strings\n",
        "\n",
        "Como listas, strings também têm algumas funções específicas. Algumas delas são:"
      ]
    },
    {
      "cell_type": "markdown",
      "metadata": {
        "id": "haOokqwo5YGp"
      },
      "source": [
        ".upper(): transforma todos os caracteres em maiúscula"
      ]
    },
    {
      "cell_type": "code",
      "metadata": {
        "id": "KY3Vun0S5YGp"
      },
      "source": [
        "nome = \"André\""
      ],
      "execution_count": null,
      "outputs": []
    },
    {
      "cell_type": "code",
      "metadata": {
        "colab": {
          "base_uri": "https://localhost:8080/"
        },
        "id": "mjoQS8cj5YGp",
        "outputId": "bdf5a9c9-cdd5-40b0-d72d-f95fce015eee"
      },
      "source": [
        "nome = nome.upper()\n",
        "print(nome)"
      ],
      "execution_count": null,
      "outputs": [
        {
          "output_type": "stream",
          "text": [
            "ANDRÉ PICOLÉ, É É\n"
          ],
          "name": "stdout"
        }
      ]
    },
    {
      "cell_type": "markdown",
      "metadata": {
        "id": "T_89HBWx5YGq"
      },
      "source": [
        ".lower(): trasnforma todos os caracteres em minúscula"
      ]
    },
    {
      "cell_type": "code",
      "metadata": {
        "id": "6YKIA1On5YGq",
        "outputId": "d7768759-fdd2-41ab-e1ba-dd761e2e3d75"
      },
      "source": [
        "nome.lower()"
      ],
      "execution_count": null,
      "outputs": [
        {
          "output_type": "execute_result",
          "data": {
            "text/plain": [
              "'andré'"
            ]
          },
          "metadata": {
            "tags": []
          },
          "execution_count": 21
        }
      ]
    },
    {
      "cell_type": "markdown",
      "metadata": {
        "id": "-RKZJqFa5YGq"
      },
      "source": [
        ".title(): deixa a primeira letra de cada palavra em maiúscula"
      ]
    },
    {
      "cell_type": "code",
      "metadata": {
        "colab": {
          "base_uri": "https://localhost:8080/",
          "height": 35
        },
        "id": "vKMWuH2d5YGq",
        "outputId": "6b3e3c79-5f09-4597-cfa1-a94b15f63040"
      },
      "source": [
        "escola = \"lets code de sao paulo\"\n",
        "\n",
        "escola.title()"
      ],
      "execution_count": null,
      "outputs": [
        {
          "output_type": "execute_result",
          "data": {
            "application/vnd.google.colaboratory.intrinsic+json": {
              "type": "string"
            },
            "text/plain": [
              "'Lets Code De Sao Paulo'"
            ]
          },
          "metadata": {
            "tags": []
          },
          "execution_count": 60
        }
      ]
    },
    {
      "cell_type": "markdown",
      "metadata": {
        "id": "7lZZCI2jjHnt"
      },
      "source": [
        "Como faríamos para implementar uma função equivalente da função title?"
      ]
    },
    {
      "cell_type": "code",
      "metadata": {
        "colab": {
          "base_uri": "https://localhost:8080/",
          "height": 35
        },
        "id": "Y4X2veEfjNnW",
        "outputId": "3e94ca4c-67e8-4f28-c533-373155718e81"
      },
      "source": [
        "def title(string):\n",
        "  stringNova = string[0].upper()\n",
        "  for i in range(1, len(string)):\n",
        "    if string[i-1] == ' ':\n",
        "      stringNova += string[i].upper()\n",
        "    else:\n",
        "      stringNova += string[i]\n",
        "  return stringNova\n",
        "\n",
        "title(\"essa turma é braba!\")"
      ],
      "execution_count": null,
      "outputs": [
        {
          "output_type": "execute_result",
          "data": {
            "application/vnd.google.colaboratory.intrinsic+json": {
              "type": "string"
            },
            "text/plain": [
              "'Essa Turma É Braba!'"
            ]
          },
          "metadata": {
            "tags": []
          },
          "execution_count": 61
        }
      ]
    },
    {
      "cell_type": "markdown",
      "metadata": {
        "id": "_pntcY7rku6r"
      },
      "source": [
        "Como fazer a função title com list comprehension?"
      ]
    },
    {
      "cell_type": "code",
      "metadata": {
        "colab": {
          "base_uri": "https://localhost:8080/",
          "height": 35
        },
        "id": "Ph82WIFQk62M",
        "outputId": "2e437c2e-ab01-4ee4-dc7a-6b22689076c3"
      },
      "source": [
        "def titleOneLine(string):\n",
        "  return string[0].upper() + \"\".join([ string[i].upper() if string[i-1] == ' ' else string[i] for i in range(1, len(string)) ])\n",
        "\n",
        "titleOneLine(\"fazendo com list comprehension\")"
      ],
      "execution_count": null,
      "outputs": [
        {
          "output_type": "execute_result",
          "data": {
            "application/vnd.google.colaboratory.intrinsic+json": {
              "type": "string"
            },
            "text/plain": [
              "'Fazendo Com List Comprehension'"
            ]
          },
          "metadata": {
            "tags": []
          },
          "execution_count": 65
        }
      ]
    },
    {
      "cell_type": "markdown",
      "metadata": {
        "id": "6cDzoU5fm8EC"
      },
      "source": [
        "Outra forma de fazer:"
      ]
    },
    {
      "cell_type": "code",
      "metadata": {
        "colab": {
          "base_uri": "https://localhost:8080/"
        },
        "id": "vnWB08RPm-lQ",
        "outputId": "e6b80960-d606-4ec0-e1d8-d047b4dac259"
      },
      "source": [
        "print(' '.join([palavra.capitalize() for palavra in \"fazendo com list comprehension\".split()]))"
      ],
      "execution_count": null,
      "outputs": [
        {
          "output_type": "stream",
          "text": [
            "Fazendo Com List Comprehension\n"
          ],
          "name": "stdout"
        }
      ]
    },
    {
      "cell_type": "markdown",
      "metadata": {
        "id": "kRaQ41HZ5YGq"
      },
      "source": [
        ".capitalize(): deixa a primeira letra da primeira palavra em maiúscula"
      ]
    },
    {
      "cell_type": "code",
      "metadata": {
        "id": "gjC9BzVC5YGr",
        "outputId": "d060898d-c2a7-41e2-fc85-6a35b25cd1ce"
      },
      "source": [
        "escola.capitalize()"
      ],
      "execution_count": null,
      "outputs": [
        {
          "output_type": "execute_result",
          "data": {
            "text/plain": [
              "'Lets code de sao paulo'"
            ]
          },
          "metadata": {
            "tags": []
          },
          "execution_count": 23
        }
      ]
    },
    {
      "cell_type": "markdown",
      "metadata": {
        "id": "hk7FT0GN5YGr"
      },
      "source": [
        "É possível quebrar uma string em determinado caractere, tendo como resultado uma **lista com os caracteres além da quebra**.\n",
        "\n",
        "- Para quebrar nos espaços, use a função \".split()\", sem argumento"
      ]
    },
    {
      "cell_type": "code",
      "metadata": {
        "id": "A4S59Urr5YGr"
      },
      "source": [
        "oi = \"oi, tudo bem?\""
      ],
      "execution_count": null,
      "outputs": []
    },
    {
      "cell_type": "code",
      "metadata": {
        "id": "kn_gQUsa5YGr",
        "outputId": "d1ad3a86-f00a-40c8-c6cd-b0032d95ed2e"
      },
      "source": [
        "oi.split()"
      ],
      "execution_count": null,
      "outputs": [
        {
          "output_type": "execute_result",
          "data": {
            "text/plain": [
              "['oi,', 'tudo', 'bem?']"
            ]
          },
          "metadata": {
            "tags": []
          },
          "execution_count": 25
        }
      ]
    },
    {
      "cell_type": "markdown",
      "metadata": {
        "id": "YRjwAPV-5YGs"
      },
      "source": [
        "- Para quebrar em algum caracter, use o caractere como argumento:"
      ]
    },
    {
      "cell_type": "code",
      "metadata": {
        "id": "mn4l4TOR5YGs",
        "outputId": "6d98a394-f44e-4ae4-de80-f1f76916f475"
      },
      "source": [
        "oi.split(\",\")"
      ],
      "execution_count": null,
      "outputs": [
        {
          "output_type": "execute_result",
          "data": {
            "text/plain": [
              "['oi', ' tudo bem?']"
            ]
          },
          "metadata": {
            "tags": []
          },
          "execution_count": 26
        }
      ]
    },
    {
      "cell_type": "markdown",
      "metadata": {
        "id": "P5Q7Ja3q5YGs"
      },
      "source": [
        "__Tirar espaços que tão sobrando no fim e no início da string__\n",
        "\n",
        "Utilize a função strip()"
      ]
    },
    {
      "cell_type": "code",
      "metadata": {
        "colab": {
          "base_uri": "https://localhost:8080/",
          "height": 35
        },
        "id": "ihIfL43I5YGs",
        "outputId": "e781c6af-9a74-4267-8972-74d356d63784"
      },
      "source": [
        "cor = \"  vermelho e azul      \"\n",
        "\n",
        "cor.strip()"
      ],
      "execution_count": null,
      "outputs": [
        {
          "output_type": "execute_result",
          "data": {
            "application/vnd.google.colaboratory.intrinsic+json": {
              "type": "string"
            },
            "text/plain": [
              "'vermelho e azul'"
            ]
          },
          "metadata": {
            "tags": []
          },
          "execution_count": 69
        }
      ]
    },
    {
      "cell_type": "markdown",
      "metadata": {
        "id": "7ChaIqbw5YGs"
      },
      "source": [
        "Mas essa função não elimina espaços extrar no \"meio\" da string -- apenas no início e no fim!"
      ]
    },
    {
      "cell_type": "code",
      "metadata": {
        "colab": {
          "base_uri": "https://localhost:8080/",
          "height": 35
        },
        "id": "d0RM2mmT5YGt",
        "outputId": "2c532d4c-16d0-4124-dce8-f5688d537357"
      },
      "source": [
        "cor = \"vermelho            rosa\"\n",
        "cor.strip()"
      ],
      "execution_count": null,
      "outputs": [
        {
          "output_type": "execute_result",
          "data": {
            "application/vnd.google.colaboratory.intrinsic+json": {
              "type": "string"
            },
            "text/plain": [
              "'vermelho            rosa'"
            ]
          },
          "metadata": {
            "tags": []
          },
          "execution_count": 70
        }
      ]
    },
    {
      "cell_type": "markdown",
      "metadata": {
        "id": "kq1RFk015YGt"
      },
      "source": [
        "__Pra tirar espaços do meio, podemos fazer:__"
      ]
    },
    {
      "cell_type": "code",
      "metadata": {
        "colab": {
          "base_uri": "https://localhost:8080/",
          "height": 53
        },
        "id": "TMhG42_45YGt",
        "outputId": "683a3204-efd3-406e-8f0d-aaec5eee0275"
      },
      "source": [
        "print(cor.split())\n",
        "\" \".join(cor.split())"
      ],
      "execution_count": null,
      "outputs": [
        {
          "output_type": "stream",
          "text": [
            "['vermelho', 'rosa']\n"
          ],
          "name": "stdout"
        },
        {
          "output_type": "execute_result",
          "data": {
            "application/vnd.google.colaboratory.intrinsic+json": {
              "type": "string"
            },
            "text/plain": [
              "'vermelho rosa'"
            ]
          },
          "metadata": {
            "tags": []
          },
          "execution_count": 72
        }
      ]
    },
    {
      "cell_type": "markdown",
      "metadata": {
        "id": "aUU_NS9y5YGt"
      },
      "source": [
        "Ou:"
      ]
    },
    {
      "cell_type": "code",
      "metadata": {
        "colab": {
          "base_uri": "https://localhost:8080/",
          "height": 35
        },
        "id": "QxzROark5YGt",
        "outputId": "b40b4e48-4dd5-4521-cb81-c210a470c24c"
      },
      "source": [
        "cor.replace(\" \", \"\", cor.count(\" \") - 1)"
      ],
      "execution_count": null,
      "outputs": [
        {
          "output_type": "execute_result",
          "data": {
            "application/vnd.google.colaboratory.intrinsic+json": {
              "type": "string"
            },
            "text/plain": [
              "'vermelho rosa'"
            ]
          },
          "metadata": {
            "tags": []
          },
          "execution_count": 74
        }
      ]
    },
    {
      "cell_type": "markdown",
      "metadata": {
        "id": "eLlbZImc5YGu"
      },
      "source": [
        "Outras funções interessantes...\n",
        "\n",
        "- isdigit()\n",
        "- isalpha()\n",
        "- isalnum()\n",
        "- isspace()"
      ]
    },
    {
      "cell_type": "code",
      "metadata": {
        "colab": {
          "base_uri": "https://localhost:8080/"
        },
        "id": "3lgPDy3Q5YGu",
        "outputId": "dd195733-c0e3-44a5-bcc0-9392c03e4f56"
      },
      "source": [
        "frase = \"ele disse: vamos nos encontrar às 13:00\"\n",
        "\n",
        "num = []\n",
        "letra = []\n",
        "spaces = []\n",
        "pontos = []\n",
        "\n",
        "for char in frase:\n",
        "    if char.isdigit():\n",
        "        num.append(char)\n",
        "    elif char.isalpha():\n",
        "        letra.append(char)\n",
        "    elif char.isspace():\n",
        "        spaces.append(char)\n",
        "    else:\n",
        "        pontos.append(char)\n",
        "\n",
        "print(num)\n",
        "print(letra)\n",
        "print(spaces)\n",
        "print(pontos)"
      ],
      "execution_count": null,
      "outputs": [
        {
          "output_type": "stream",
          "text": [
            "['1', '3', '0', '0']\n",
            "['e', 'l', 'e', 'd', 'i', 's', 's', 'e', 'v', 'a', 'm', 'o', 's', 'n', 'o', 's', 'e', 'n', 'c', 'o', 'n', 't', 'r', 'a', 'r', 'à', 's']\n",
            "[' ', ' ', ' ', ' ', ' ', ' ']\n",
            "[':', ':']\n"
          ],
          "name": "stdout"
        }
      ]
    },
    {
      "cell_type": "markdown",
      "metadata": {
        "id": "hOZG2xC-BIdu"
      },
      "source": [
        "E se quisermos preencher uma string ao invés de um array?"
      ]
    },
    {
      "cell_type": "code",
      "metadata": {
        "colab": {
          "base_uri": "https://localhost:8080/"
        },
        "id": "WvsQb6-TAlHs",
        "outputId": "182ecf71-5dc4-44a3-a3e3-82f8301a6d6f"
      },
      "source": [
        "stringInicial = 'Olá Mundo'\n",
        "stringFinal = '' # cria uma string vazia\n",
        "for letra in stringInicial:\n",
        "  if letra.lower() in 'aeiou':\n",
        "    stringFinal += letra\n",
        "print(stringFinal)"
      ],
      "execution_count": null,
      "outputs": [
        {
          "output_type": "stream",
          "text": [
            "Oauo\n"
          ],
          "name": "stdout"
        }
      ]
    },
    {
      "cell_type": "markdown",
      "metadata": {
        "id": "Jb7nfAdpqQkx"
      },
      "source": [
        "Como verificar se a string contém pelo menos uma vogal?"
      ]
    },
    {
      "cell_type": "code",
      "metadata": {
        "colab": {
          "base_uri": "https://localhost:8080/"
        },
        "id": "35-YWttyqUm4",
        "outputId": "7d16b3dd-8d99-4fc6-b6a0-60c1434135e5"
      },
      "source": [
        "def possuiVogais(string):\n",
        "  for letra in string:\n",
        "    if letra.lower() in 'aeiou':\n",
        "      return True\n",
        "  return False\n",
        "\n",
        "def possuiVogaisInLine1(string):\n",
        "  return len([letra.lower() for letra in string if letra.lower() in 'aeiou']) > 0\n",
        "\n",
        "def possuiVogaisInLine2(string):\n",
        "  return True if True in [letra.lower() in 'aeiou' for letra in string] else False\n",
        "\n",
        "possuiVogaisInLine2(\"pss vgs\")"
      ],
      "execution_count": null,
      "outputs": [
        {
          "output_type": "execute_result",
          "data": {
            "text/plain": [
              "False"
            ]
          },
          "metadata": {
            "tags": []
          },
          "execution_count": 85
        }
      ]
    },
    {
      "cell_type": "markdown",
      "metadata": {
        "id": "uRAnqfl55YGu"
      },
      "source": [
        "Podemos usar as funções acima para padronizar a resposta de um usuário!\n",
        "\n",
        "Utilizamos a função \n",
        "\n",
        "```unicodedata.normalize(\"NFD\", minha_string).encode(\"ascii\", \"ignore\").decode(\"utf-8\")```\n",
        "\n",
        "Para tirar acentos da string \"minha_string\"\n",
        "\n",
        "E o ```strip()``` é usado pra tirar espaços desnecessários do início e do fim de uma string"
      ]
    },
    {
      "cell_type": "code",
      "metadata": {
        "colab": {
          "base_uri": "https://localhost:8080/"
        },
        "id": "MKPvaFUG5YGu",
        "outputId": "dc8b2afb-2ec0-4f9e-b8a4-5a8cc34c07ee"
      },
      "source": [
        "import unicodedata\n",
        "\n",
        "# mais um exemplo\n",
        "\n",
        "minha_string = \"Coração\"\n",
        "\n",
        "print(\"string original:\", minha_string)\n",
        "print(\"string padronizada:\", unicodedata.normalize(\"NFD\", minha_string).encode(\"ascii\", \"ignore\").decode(\"utf-8\").upper().strip())"
      ],
      "execution_count": null,
      "outputs": [
        {
          "output_type": "stream",
          "text": [
            "string original: Coração\n",
            "string padronizada: CORACAO\n",
            "Coracao\n"
          ],
          "name": "stdout"
        }
      ]
    },
    {
      "cell_type": "markdown",
      "metadata": {
        "id": "-Uo6v7dl5YGv"
      },
      "source": [
        "Como pudemos ver acima, processar a string para que ela esteja em **determinado padrão** (por exemplo: em letras maiúsculas e sem acentos) é um passo muito importante para que operações de comparação entre strings funcionem perfeitamente sem erros!"
      ]
    },
    {
      "cell_type": "code",
      "metadata": {
        "colab": {
          "base_uri": "https://localhost:8080/"
        },
        "id": "DVwYYMBn5YGv",
        "outputId": "0011de1c-9616-44ea-9e74-53aeb74310d9"
      },
      "source": [
        "# modificando a solução de um dos exercícios pra deixá-la mais robusta...\n",
        "\n",
        "import unicodedata\n",
        "\n",
        "resposta = input(\"Você trabalhava com ele? \")\n",
        "\n",
        "ponto = 0\n",
        "\n",
        "if unicodedata.normalize(\"NFD\", resposta).encode(\"ascii\", \"ignore\").decode(\"utf-8\").upper().strip() == \"NAO\":\n",
        "\n",
        "    ponto = ponto + 1\n",
        "    \n",
        "print(ponto)"
      ],
      "execution_count": null,
      "outputs": [
        {
          "output_type": "stream",
          "text": [
            "Você trabalhava com ele? não\n",
            "1\n"
          ],
          "name": "stdout"
        }
      ]
    },
    {
      "cell_type": "markdown",
      "metadata": {
        "id": "cT7T2WQG5YGv"
      },
      "source": [
        "___\n",
        "___"
      ]
    },
    {
      "cell_type": "markdown",
      "metadata": {
        "id": "akfQffA95YGw"
      },
      "source": [
        "### 2.1) Formatação de strings\n",
        "\n",
        "Também podemos **formatar strings**. Isso pode ser super útil tanto ao receber dados do usuário (input) quando ao exbibir dados pro usuário (print)"
      ]
    },
    {
      "cell_type": "markdown",
      "metadata": {
        "id": "MF29sQH45YGw"
      },
      "source": [
        "Um dos usos mais legal do format é para **exibir** strings formatadas.\n",
        "\n",
        "Imagine que você queira exibir uma data no formato dd/mm/aaaa.\n",
        "\n",
        "Em situações normais, dias e meses inferiores a 10 apareceriam com apenas 1 dígito (int não é representado com zeros à esquerda). Porém, podemos especificar no format que gostaríamos de representar um inteiro com 2 dígitos, preenchendo com zero dígitos em branco (à esquerda): \n",
        "\n",
        "```python\n",
        "\n",
        "dia = 1\n",
        "mes = 2\n",
        "ano = 2020\n",
        "data = '{}/{}/{}'.format(dia, mes, ano)\n",
        "print(data) # resultado: 01/02/2020\n",
        "```\n",
        "\n",
        "O símbolo 'd' indica que estamos representando números **inteiros** em base decimal (dígitos de 0 a 9). \n",
        "\n",
        "Os símbolos '2' e '4' indicam, respectivamente, 2 dígitos ou 4 dígitos. \n",
        "\n",
        "o símbolo '0' indica que se faltar dígitos, os espaços devem ser preenchidos com zero"
      ]
    },
    {
      "cell_type": "code",
      "metadata": {
        "id": "W-tUboEB5YGw",
        "colab": {
          "base_uri": "https://localhost:8080/"
        },
        "outputId": "cb936457-9c02-4798-c48c-67621e200373"
      },
      "source": [
        "dia = 11\n",
        "mes = 12\n",
        "ano = 2020\n",
        "\n",
        "data = \"{}/{}/{}\".format(dia, mes, ano)\n",
        "\n",
        "print(data)"
      ],
      "execution_count": 1,
      "outputs": [
        {
          "output_type": "stream",
          "text": [
            "11/12/2020\n"
          ],
          "name": "stdout"
        }
      ]
    },
    {
      "cell_type": "markdown",
      "metadata": {
        "id": "mwj_gcza5YGx"
      },
      "source": [
        "Imagina que você queira exibir algum valor monetário, por exemplo, o preço de alguma coisa.\n",
        "\n",
        "Utilizando float, pode ser que seu resultado tenha apenas uma casa decimal.\n",
        "\n",
        "Mas, se tratando de dinheito, sempre queremos mostrar duas casas decimais!\n",
        "\n",
        "Usaremos o format para representar com apenas 2 casas.\n",
        "\n",
        "```python\n",
        "preco = 1500.5\n",
        "\n",
        "print(preco) \n",
        "\n",
        "precoFinal = 'R$ {:.2f}'.format(preco)\n",
        "\n",
        "print(precoFinal)\n",
        "```\n",
        "\n",
        "Neste caso, o 'f' indica que o número é float. \n",
        "\n",
        "Já o '.2' indica que queremos 2 casas após o ponto decimal. \n",
        "\n",
        "Note que a função não apenas descarta as casas excedentes, e sim arredonda corretamente o número."
      ]
    },
    {
      "cell_type": "code",
      "metadata": {
        "id": "rELn4tcK5YGx",
        "outputId": "231c88f1-f5b6-4814-f2c9-e06d1f78b200"
      },
      "source": [
        "preco = 1500.5678\n",
        "\n",
        "preco_final = \"R$ {:.2f}\".format(preco)\n",
        "\n",
        "print(preco_final)"
      ],
      "execution_count": null,
      "outputs": [
        {
          "output_type": "stream",
          "text": [
            "R$ 1500.57\n"
          ],
          "name": "stdout"
        }
      ]
    }
  ]
}