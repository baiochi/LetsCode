{
 "cells": [
  {
   "cell_type": "markdown",
   "metadata": {},
   "source": [
    "**Exercício 1**\n",
    "\n",
    "Calcule a média de um aluno com os seguintes critérios:\n",
    "\n",
    "Média da provas: MP = (P1 + 2 P2 + 2 P3)/5\n",
    "\n",
    "Média dos exercícios: ME = (E1 + E2 + 2 E3 + 3 E4)/7\n",
    "\n",
    "Média final: se\tMP e ME são maiores ou iguais a 5, então MF = (2 MP + ME)/3. Senão MF = mínimo entre MP e ME"
   ]
  },
  {
   "cell_type": "code",
   "execution_count": 4,
   "metadata": {},
   "outputs": [
    {
     "name": "stdout",
     "output_type": "stream",
     "text": [
      "Digite a nota da prova 1: 10\n",
      "Digite a nota da prova 2: 5\n",
      "Digite a nota da prova 3: 8\n",
      "Digite a nota do exercício 1: 2\n",
      "Digite a nota do exercício 2: 3\n",
      "Digite a nota do exercício 3: 10\n",
      "Digite a nota do exercício 4: 3\n",
      "7.2\n",
      "4.857142857142857\n",
      "Media final: 4.857142857142857\n"
     ]
    }
   ],
   "source": [
    "provas = []\n",
    "exercicios = []\n",
    "\n",
    "cont = 0\n",
    "while cont < 3:\n",
    "    provas.append(float(input(\"Digite a nota da prova \" + str(cont+1) + \": \")))\n",
    "    cont += 1\n",
    "\n",
    "cont = 0\n",
    "while cont < 4:\n",
    "    exercicios.append(float(input(\"Digite a nota do exercício \" + str(cont+1) + \": \")))\n",
    "    cont += 1\n",
    "\n",
    "media_prova = (provas[0] + 2*provas[1] + 2*provas[2])/5\n",
    "media_exercicios = (exercicios[0] + exercicios[1] + 2*exercicios[2] + 3*exercicios[3])/7\n",
    "\n",
    "print(media_prova)\n",
    "print(media_exercicios)\n",
    "if media_prova >= 5 and media_exercicios >= 5:\n",
    "    media_final = (2*media_prova + media_exercicios)/3\n",
    "else:\n",
    "    media_final = min(media_prova, media_exercicios)\n",
    "\n",
    "print(\"Media final:\", media_final)\n"
   ]
  },
  {
   "cell_type": "markdown",
   "metadata": {},
   "source": [
    "**Exercício 2**\n",
    "\n",
    "Você foi contratado para desenvolver o programa que monta a tabela de preços de pães, de 1 até 50 pães, a partir do preço do pão informado pelo usuário, conforme o exemplo abaixo:\n",
    "\n",
    "Preço do pão: R$ 0.18\n",
    "\n",
    "Tabela de preços:\n",
    "\n",
    "|Qtde - Valor|\n",
    "|---|\n",
    "|1 - R\\$ 0.18|\n",
    "|2 - R\\$ 0.36|\n",
    "|...|\n",
    "|50 - R\\$ 9.00|\n"
   ]
  },
  {
   "cell_type": "code",
   "execution_count": null,
   "metadata": {},
   "outputs": [],
   "source": []
  },
  {
   "cell_type": "markdown",
   "metadata": {},
   "source": [
    "**Exercício 3**\n",
    "\n",
    "Dados dois vetores x e y, ambos com n elementos, determinar o produto escalar desses vetores.Dados dois vetores x e y, ambos com n elementos, determinar o produto escalar desses vetores.\n",
    "\n",
    "Produto escalar:\n",
    "\n",
    "[1, 2] x [3, 4] = 1\\*3 + 2\\*4 = 11\n",
    " "
   ]
  },
  {
   "cell_type": "code",
   "execution_count": 8,
   "metadata": {},
   "outputs": [
    {
     "name": "stdout",
     "output_type": "stream",
     "text": [
      "Tamanho do vetor: 1\n",
      "Digite os valores do vetor X: \n",
      "2\n",
      "3\n"
     ]
    },
    {
     "ename": "KeyboardInterrupt",
     "evalue": "Interrupted by user",
     "output_type": "error",
     "traceback": [
      "\u001b[1;31m---------------------------------------------------------------------------\u001b[0m",
      "\u001b[1;31mKeyboardInterrupt\u001b[0m                         Traceback (most recent call last)",
      "\u001b[1;32m<ipython-input-8-5bc03a677e3b>\u001b[0m in \u001b[0;36m<module>\u001b[1;34m\u001b[0m\n\u001b[0;32m      6\u001b[0m \u001b[0mprint\u001b[0m\u001b[1;33m(\u001b[0m\u001b[1;34m\"Digite os valores do vetor X: \"\u001b[0m\u001b[1;33m)\u001b[0m\u001b[1;33m\u001b[0m\u001b[1;33m\u001b[0m\u001b[0m\n\u001b[0;32m      7\u001b[0m \u001b[1;32mwhile\u001b[0m \u001b[0mi\u001b[0m \u001b[1;33m<\u001b[0m \u001b[0mn\u001b[0m\u001b[1;33m:\u001b[0m\u001b[1;33m\u001b[0m\u001b[1;33m\u001b[0m\u001b[0m\n\u001b[1;32m----> 8\u001b[1;33m     \u001b[0mx\u001b[0m\u001b[1;33m.\u001b[0m\u001b[0mappend\u001b[0m\u001b[1;33m(\u001b[0m\u001b[0mint\u001b[0m\u001b[1;33m(\u001b[0m\u001b[0minput\u001b[0m\u001b[1;33m(\u001b[0m\u001b[1;33m)\u001b[0m\u001b[1;33m)\u001b[0m\u001b[1;33m)\u001b[0m\u001b[1;33m\u001b[0m\u001b[1;33m\u001b[0m\u001b[0m\n\u001b[0m\u001b[0;32m      9\u001b[0m \u001b[1;33m\u001b[0m\u001b[0m\n\u001b[0;32m     10\u001b[0m \u001b[0mi\u001b[0m \u001b[1;33m=\u001b[0m \u001b[1;36m0\u001b[0m\u001b[1;33m\u001b[0m\u001b[1;33m\u001b[0m\u001b[0m\n",
      "\u001b[1;32m~\\anaconda3\\lib\\site-packages\\ipykernel\\kernelbase.py\u001b[0m in \u001b[0;36mraw_input\u001b[1;34m(self, prompt)\u001b[0m\n\u001b[0;32m    858\u001b[0m                 \u001b[1;34m\"raw_input was called, but this frontend does not support input requests.\"\u001b[0m\u001b[1;33m\u001b[0m\u001b[1;33m\u001b[0m\u001b[0m\n\u001b[0;32m    859\u001b[0m             )\n\u001b[1;32m--> 860\u001b[1;33m         return self._input_request(str(prompt),\n\u001b[0m\u001b[0;32m    861\u001b[0m             \u001b[0mself\u001b[0m\u001b[1;33m.\u001b[0m\u001b[0m_parent_ident\u001b[0m\u001b[1;33m,\u001b[0m\u001b[1;33m\u001b[0m\u001b[1;33m\u001b[0m\u001b[0m\n\u001b[0;32m    862\u001b[0m             \u001b[0mself\u001b[0m\u001b[1;33m.\u001b[0m\u001b[0m_parent_header\u001b[0m\u001b[1;33m,\u001b[0m\u001b[1;33m\u001b[0m\u001b[1;33m\u001b[0m\u001b[0m\n",
      "\u001b[1;32m~\\anaconda3\\lib\\site-packages\\ipykernel\\kernelbase.py\u001b[0m in \u001b[0;36m_input_request\u001b[1;34m(self, prompt, ident, parent, password)\u001b[0m\n\u001b[0;32m    902\u001b[0m             \u001b[1;32mexcept\u001b[0m \u001b[0mKeyboardInterrupt\u001b[0m\u001b[1;33m:\u001b[0m\u001b[1;33m\u001b[0m\u001b[1;33m\u001b[0m\u001b[0m\n\u001b[0;32m    903\u001b[0m                 \u001b[1;31m# re-raise KeyboardInterrupt, to truncate traceback\u001b[0m\u001b[1;33m\u001b[0m\u001b[1;33m\u001b[0m\u001b[1;33m\u001b[0m\u001b[0m\n\u001b[1;32m--> 904\u001b[1;33m                 \u001b[1;32mraise\u001b[0m \u001b[0mKeyboardInterrupt\u001b[0m\u001b[1;33m(\u001b[0m\u001b[1;34m\"Interrupted by user\"\u001b[0m\u001b[1;33m)\u001b[0m \u001b[1;32mfrom\u001b[0m \u001b[1;32mNone\u001b[0m\u001b[1;33m\u001b[0m\u001b[1;33m\u001b[0m\u001b[0m\n\u001b[0m\u001b[0;32m    905\u001b[0m             \u001b[1;32mexcept\u001b[0m \u001b[0mException\u001b[0m \u001b[1;32mas\u001b[0m \u001b[0me\u001b[0m\u001b[1;33m:\u001b[0m\u001b[1;33m\u001b[0m\u001b[1;33m\u001b[0m\u001b[0m\n\u001b[0;32m    906\u001b[0m                 \u001b[0mself\u001b[0m\u001b[1;33m.\u001b[0m\u001b[0mlog\u001b[0m\u001b[1;33m.\u001b[0m\u001b[0mwarning\u001b[0m\u001b[1;33m(\u001b[0m\u001b[1;34m\"Invalid Message:\"\u001b[0m\u001b[1;33m,\u001b[0m \u001b[0mexc_info\u001b[0m\u001b[1;33m=\u001b[0m\u001b[1;32mTrue\u001b[0m\u001b[1;33m)\u001b[0m\u001b[1;33m\u001b[0m\u001b[1;33m\u001b[0m\u001b[0m\n",
      "\u001b[1;31mKeyboardInterrupt\u001b[0m: Interrupted by user"
     ]
    }
   ],
   "source": [
    "n = int(input(\"Tamanho do vetor: \"))\n",
    "x = []\n",
    "y = []\n",
    "\n",
    "i = 0\n",
    "print(\"Digite os valores do vetor X: \")\n",
    "while i < n:\n",
    "    x.append(int(input()))\n",
    "\n",
    "i = 0\n",
    "print(\"Digite os valores do vetor Y: \")\n",
    "while i < n:\n",
    "    y.append(int(input()))\n",
    "\n",
    "print(x)\n",
    "print(y)\n",
    "\n",
    "i = 0\n",
    "\n",
    "\n",
    "\n",
    "\n",
    "\n"
   ]
  },
  {
   "cell_type": "markdown",
   "metadata": {},
   "source": [
    "**Exercício 4**\n",
    "\n",
    "Dadas duas listas de números inteiros, mostre todos os possíveis pares entre eles.\n",
    "\n",
    "Exemplo:\n",
    "\n",
    "lista 1 = [1, 2]\n",
    "\n",
    "lista 2 = [1, 3, 5]\n",
    "\n",
    "pares = (1, 1), (2, 1), (1, 3), (2, 3), (1, 5), (2, 5)"
   ]
  },
  {
   "cell_type": "code",
   "execution_count": null,
   "metadata": {},
   "outputs": [],
   "source": []
  },
  {
   "cell_type": "markdown",
   "metadata": {},
   "source": [
    "**Exercício 5**\n",
    "\n",
    "Dadas duas listas, mostre a união entre seus elementos, removendo os repetidos"
   ]
  },
  {
   "cell_type": "code",
   "execution_count": null,
   "metadata": {},
   "outputs": [],
   "source": []
  },
  {
   "cell_type": "code",
   "execution_count": 11,
   "metadata": {},
   "outputs": [
    {
     "name": "stdout",
     "output_type": "stream",
     "text": [
      "['Luis', 'Computacao', 300]\n",
      "Nome Luis\n",
      "['Brian', 'Computacao', 6]\n",
      "Nome Brian\n",
      "['Larissa', 'Computacao', 3]\n",
      "Nome Larissa\n",
      "['Vitor', 'Geografia', 19]\n",
      "Nome Vitor\n",
      "['Mauricio', 'Geografia', 25]\n",
      "Nome Mauricio\n",
      "['Guilherme', 'Design', 1]\n",
      "Nome Guilherme\n"
     ]
    }
   ],
   "source": [
    "listaCursos = [\n",
    "    [\"Geografia\", '12/10/2021', 20],\n",
    "    [\"Computacao\", '13/10/2021', 40],\n",
    "    [\"Design\",'12/10/2021', 80]\n",
    "]\n",
    "\n",
    "listaAprovados = [\n",
    "    [\"Luis\", \"Computacao\", 300],\n",
    "    [\"Brian\", \"Computacao\", 6],\n",
    "    [\"Larissa\", \"Computacao\", 3],\n",
    "    [\"Vitor\", \"Geografia\", 19],\n",
    "    [\"Mauricio\", \"Geografia\", 25],\n",
    "    [\"Guilherme\", \"Design\", 1]\n",
    "]\n",
    "\n",
    "\n",
    "# exibir, para cada aluno, nome, curso, data, dividio em 4 grupos\n",
    "# 1: melhores colocados 1/4 das vagas\n",
    "# 2: proximos melhores outros 1/4 e por ai vai\n",
    "\n",
    "i = 0\n",
    "while i < len(listaAprovados):\n",
    "    print(listaAprovados[i])\n",
    "    print(\"Nome\", listaAprovados[i][0])\n",
    "    print(\"Curso\", listaAprovados[i][1])\n",
    "    \n",
    "    \n",
    "    i += 1\n",
    "\n"
   ]
  }
 ],
 "metadata": {
  "kernelspec": {
   "display_name": "Python 3",
   "language": "python",
   "name": "python3"
  },
  "language_info": {
   "codemirror_mode": {
    "name": "ipython",
    "version": 3
   },
   "file_extension": ".py",
   "mimetype": "text/x-python",
   "name": "python",
   "nbconvert_exporter": "python",
   "pygments_lexer": "ipython3",
   "version": "3.8.5"
  }
 },
 "nbformat": 4,
 "nbformat_minor": 4
}
