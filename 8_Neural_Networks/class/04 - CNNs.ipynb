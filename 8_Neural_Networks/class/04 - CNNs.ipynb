{
 "cells": [
  {
   "cell_type": "markdown",
   "metadata": {
    "id": "2M8VL0U44dUR"
   },
   "source": [
    "# Aula 04 - CNNs\n",
    "\n",
    "Na aula de hoje, vamos explorar os seguintes tópicos em Python:\n",
    "\n",
    "- Redes Neurais Convolucionais (CNN);\n",
    "- Convoluções;\n",
    "- _Pooling_;\n",
    "- Exercícios."
   ]
  },
  {
   "cell_type": "markdown",
   "metadata": {
    "id": "Xv75LoD94dUW"
   },
   "source": [
    "##   "
   ]
  },
  {
   "cell_type": "markdown",
   "metadata": {
    "id": "Dl9JD82A4dUj"
   },
   "source": [
    "# Redes Neurais Convolucionais (CNN)\n",
    "\n",
    "As Redes Neurais Convolucionais são um ti´po de arquitetura específica para a análise de __imagens__, sendo um braço forte para modelos de __visão computacional__. As principais diferenças entre uma rede neural tradicional e uma CNN são dois tipos de camadas: as __convoluções__ e a __subamostragem (pooling)__.\n",
    "\n",
    "<img src=\"https://miro.medium.com/max/3288/1*uAeANQIOQPqWZnnuH-VEyw.jpeg\" width=600>\n",
    "\n",
    "\n",
    "## Convoluções\n",
    "\n",
    "As convoluções têm como objetivo destacar elementos nas imagens que forem relevantes utilizando da aplicação de filtros. A forma como o filtro funciona seria como uma transformação matemática entre matrizes:\n",
    "\n",
    "<img src=\"https://miro.medium.com/max/658/0*jLoqqFsO-52KHTn9.gif\" width=500>\n",
    "\n",
    "Com esses filtros, consegue-se criar os chamados __features maps__ ou mapas de atributo, que seria novas imagens destaques em determinados pontos da imagem de acordo com os filtros a serem aplicados:\n",
    "\n",
    "<img src=\"https://miro.medium.com/max/875/1*ixuhX9vaf1kUQTWicVYiyg.png\" width=900>\n",
    "\n",
    "## Pooling\n",
    "\n",
    "A camada de _Pooling_ ou também chamada de Subamostragem, ajuda a selecionar os principais elementos de uma imagem garantindo que seja representativo da imagem de origem. Então determinada uma janela de aplicação da subamostragem, o modelo percorre toda imagem aplicando algum tipo de agregação, como por exemplo média, máximo ou mesmo soma:\n",
    "\n",
    "<img src=\"https://miro.medium.com/max/2340/1*Fw-ehcNBR9byHtho-Rxbtw.gif\" width=600>\n",
    "\n",
    "<img src=\"https://www.bouvet.no/bouvet-deler/understanding-convolutional-neural-networks-part-1/_/attachment/inline/e60e56a6-8bcd-4b61-880d-7c621e2cb1d5:6595a68471ed37621734130ca2cb7997a1502a2b/Pooling.gif\" width=600>\n",
    "\n",
    "A Aplicação do _Pooling_ auxilia na rede no sentido de manter determinados pontos relevantes da imagem, mas auxilia ao mesmo tempo a generalizar para as demais imagens.\n",
    "\n",
    "<img src = \"https://www.bouvet.no/bouvet-deler/understanding-convolutional-neural-networks-part-2/_/attachment/inline/607c9f97-d102-4025-9d6d-4149831f1bc2:7486b2c8566539842998faeec3cd28d2d0aa5360/Screenshot%202019-07-01%20at%2019.43.59.png\" width=800>\n",
    "\n",
    "\n",
    "Notem que fazer esses processos envolvem sempre redução do tamanho ou da qualidade da imagem, mas podemos evitar esse tipo de efeito utilizando de duas técnicas auxiliares que são o __zero-padding__ e o __stride__\n",
    "\n",
    "<br><br>\n",
    "\n",
    "- _Zero-Padding_: Consiste em adicionar uma camada de zeros ao redor da imagem com o intuito de preservar o tamanho da imagem antes da convoluções ou subamostragem e sem acrescentar viés a transformação:\n",
    "\n",
    "<img src = \"https://deeplizard.com/assets/jpg/2b25a0c1.jpg\" width=800>\n",
    "\n",
    "- _Stride_: Consiste em determinar \"saltos\" durante a aplicação das janelas de filtros, sendo esses saltos tanto na vertical quanto na horizontal:\n",
    "\n",
    "<img src = \"https://miro.medium.com/max/1400/1*4wZt9G7W7CchZO-5rVxl5g@2x.gif\" width=600>"
   ]
  },
  {
   "cell_type": "markdown",
   "metadata": {},
   "source": [
    "## "
   ]
  },
  {
   "cell_type": "markdown",
   "metadata": {
    "id": "-5cIXFIX4dUj"
   },
   "source": [
    "##  Exemplo - Fashion MNIST\n",
    "\n",
    "Vamos revisitar o exercício do MNIST utilizando agora de uma CNN para avaliar as imagens:"
   ]
  },
  {
   "cell_type": "code",
   "execution_count": null,
   "metadata": {},
   "outputs": [],
   "source": []
  },
  {
   "cell_type": "code",
   "execution_count": null,
   "metadata": {},
   "outputs": [],
   "source": []
  },
  {
   "cell_type": "code",
   "execution_count": null,
   "metadata": {},
   "outputs": [],
   "source": []
  },
  {
   "cell_type": "markdown",
   "metadata": {
    "id": "BRglSuqz4dUm"
   },
   "source": [
    "## "
   ]
  },
  {
   "cell_type": "markdown",
   "metadata": {
    "id": "acxnGWUT4dUm"
   },
   "source": [
    "## Exercícios\n",
    "\n",
    "__1)__ Desenvolva uma rede CNN para a base MNIST de classificação de dígitos, seguindo os passos abaixo:\n",
    "- Carregue os dados segundo a função dada em aula, utilize os dados de teste como dados em __produção__, ou seja iremos usar em um outro momento;\n",
    "- Nomeie os dados de treino como X e faça as seguintes separações: X em treino e teste (90/10%) e depois o X de treino em treino e validação (80/20%);\n",
    "- Monte uma CNN;\n",
    "- Faça as predições, avalie overfitting e salve o modelo final e os dados de produção;\n",
    "- Carregue o modelo treinado e os dados de produção, e faça as novas predições."
   ]
  }
 ],
 "metadata": {
  "colab": {
   "name": "Aula 15.1 - CNN e RNN.ipynb",
   "provenance": []
  },
  "kernelspec": {
   "display_name": "Python 3 (ipykernel)",
   "language": "python",
   "name": "python3"
  },
  "language_info": {
   "codemirror_mode": {
    "name": "ipython",
    "version": 3
   },
   "file_extension": ".py",
   "mimetype": "text/x-python",
   "name": "python",
   "nbconvert_exporter": "python",
   "pygments_lexer": "ipython3",
   "version": "3.9.12"
  },
  "toc": {
   "base_numbering": 1,
   "nav_menu": {},
   "number_sections": true,
   "sideBar": true,
   "skip_h1_title": false,
   "title_cell": "Table of Contents",
   "title_sidebar": "Contents",
   "toc_cell": false,
   "toc_position": {},
   "toc_section_display": true,
   "toc_window_display": false
  }
 },
 "nbformat": 4,
 "nbformat_minor": 1
}
