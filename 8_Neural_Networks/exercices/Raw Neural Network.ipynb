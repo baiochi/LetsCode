{
 "cells": [
  {
   "cell_type": "markdown",
   "id": "191266e7",
   "metadata": {},
   "source": [
    "<p class='main_title'>Neural Network Raw Implementation</p>\n",
    "<hr>"
   ]
  },
  {
   "cell_type": "markdown",
   "id": "ce2cc5c7",
   "metadata": {},
   "source": [
    "Data source: <a href='https://www.kaggle.com/c/digit-recognizer/data'> Kaggle MNIST Database<a>"
   ]
  },
  {
   "cell_type": "markdown",
   "id": "28c83510",
   "metadata": {},
   "source": [
    "# Imports and functions"
   ]
  },
  {
   "cell_type": "code",
   "execution_count": 1,
   "id": "5142ff5f",
   "metadata": {
    "ExecuteTime": {
     "end_time": "2022-06-09T01:45:59.604399Z",
     "start_time": "2022-06-09T01:45:54.341706Z"
    }
   },
   "outputs": [
    {
     "data": {
      "text/html": [
       "\n",
       "        <style>\n",
       "            .jupyter-widgets {color: #d5d5d5 !important;}\n",
       "            .widget-label {color: #d5d5d5 !important;}\n",
       "        </style>\n",
       "    "
      ],
      "text/plain": [
       "<IPython.core.display.HTML object>"
      ]
     },
     "metadata": {},
     "output_type": "display_data"
    }
   ],
   "source": [
    "# Read zip file\n",
    "import zipfile\n",
    "# Math operations and data manipulation\n",
    "import numpy as np\n",
    "import pandas as pd\n",
    "# Data Visualization\n",
    "import matplotlib.pyplot as plt\n",
    "import seaborn as sns; sns.set()\n",
    "import plotly.express as px\n",
    "import plotly.graph_objects as go\n",
    "# Progress bar\n",
    "from tqdm.auto import tqdm\n",
    "# Temp fix for tqdm text in dark theme\n",
    "from IPython.display import HTML, display\n",
    "\n",
    "display(HTML('''\n",
    "        <style>\n",
    "            .jupyter-widgets {color: #d5d5d5 !important;}\n",
    "            .widget-label {color: #d5d5d5 !important;}\n",
    "        </style>\n",
    "    '''))"
   ]
  },
  {
   "cell_type": "code",
   "execution_count": 2,
   "id": "553edcb1",
   "metadata": {
    "ExecuteTime": {
     "end_time": "2022-06-09T01:45:59.628966Z",
     "start_time": "2022-06-09T01:45:59.613676Z"
    }
   },
   "outputs": [],
   "source": [
    "def plot_ReLU_function():\n",
    "    ticks_frequency = 1\n",
    "    # Plot points\n",
    "    fig, ax = plt.subplots(figsize=(5, 5))\n",
    "    # Draw lines connecting points to axes\n",
    "    ax.plot([-6, 0], [0, 0], c='gray', ls='-', lw=5, alpha=0.5)\n",
    "    ax.arrow(0, 0, 5, 5, width=0.1, color='gray', edgecolor=None, alpha=0.5)\n",
    "    # Scale coordinates\n",
    "    xmin, xmax, ymin, ymax = -5, 5, -5, 5\n",
    "    ax.set(xlim=(xmin-1, xmax+1), ylim=(ymin-1, ymax+1), aspect='equal')\n",
    "    # Change spines coordinate system\n",
    "    ax.spines['bottom'].set_position('zero'); ax.spines['left'].set_position('zero'); ax.spines['top'].set_visible(False); ax.spines['right'].set_visible(False)\n",
    "    # Add X and Y labels\n",
    "    ax.set_xlabel('x', size=14, labelpad=-24, x=1.03); ax.set_ylabel('y', size=14, labelpad=-21, y=1.02, rotation=0)\n",
    "    # Draw grid lined up with ticks\n",
    "    ax.grid(which='both', color='grey', linewidth=0.8, linestyle='-', alpha=0.2)\n",
    "    ax.spines['bottom'].set_edgecolor('black'); ax.spines['left'].set_edgecolor('black'); \n",
    "    arrow_fmt = dict(markersize=10, color='black', clip_on=False)\n",
    "    ax.plot((1), (0), marker='>', transform=ax.get_yaxis_transform(), **arrow_fmt)\n",
    "    ax.plot((0), (1), marker='^', transform=ax.get_xaxis_transform(), **arrow_fmt)\n",
    "\n",
    "    ax.annotate('Returns:\\n\\nx if x > 0    \\n\\n0 if x < 0', xy=(7, 2), xycoords='data', size=14, annotation_clip=False)\n",
    "    plt.title('ReLU function', size=18, pad=20, loc='left')\n",
    "    plt.show()"
   ]
  },
  {
   "cell_type": "code",
   "execution_count": 3,
   "id": "83ac43f0",
   "metadata": {
    "ExecuteTime": {
     "end_time": "2022-06-09T01:46:00.370775Z",
     "start_time": "2022-06-09T01:45:59.668566Z"
    }
   },
   "outputs": [
    {
     "data": {
      "text/html": [
       "<details>\n",
       "<summary>Click to view session information</summary>\n",
       "<pre>\n",
       "-----\n",
       "matplotlib          3.5.1\n",
       "numpy               1.21.5\n",
       "pandas              1.4.2\n",
       "plotly              5.6.0\n",
       "seaborn             0.11.2\n",
       "session_info        1.0.0\n",
       "tqdm                4.64.0\n",
       "-----\n",
       "</pre>\n",
       "<details>\n",
       "<summary>Click to view modules imported as dependencies</summary>\n",
       "<pre>\n",
       "PIL                         9.0.1\n",
       "PyObjCTools                 NA\n",
       "appnope                     0.1.2\n",
       "asttokens                   NA\n",
       "backcall                    0.2.0\n",
       "beta_ufunc                  NA\n",
       "binom_ufunc                 NA\n",
       "bottleneck                  1.3.4\n",
       "cffi                        1.15.0\n",
       "cloudpickle                 2.0.0\n",
       "colorama                    0.4.4\n",
       "cycler                      0.10.0\n",
       "cython_runtime              NA\n",
       "dateutil                    2.8.2\n",
       "debugpy                     1.5.1\n",
       "decorator                   5.1.1\n",
       "defusedxml                  0.7.1\n",
       "executing                   0.8.3\n",
       "google                      NA\n",
       "importlib_metadata          NA\n",
       "ipykernel                   6.9.1\n",
       "ipython_genutils            0.2.0\n",
       "ipywidgets                  7.6.5\n",
       "jedi                        0.18.1\n",
       "jupyter_server              1.13.5\n",
       "kiwisolver                  1.4.2\n",
       "matplotlib_inline           NA\n",
       "mkl                         2.4.0\n",
       "mpl_toolkits                NA\n",
       "nbinom_ufunc                NA\n",
       "netifaces                   0.11.0\n",
       "numexpr                     2.8.1\n",
       "packaging                   21.3\n",
       "parso                       0.8.3\n",
       "pexpect                     4.8.0\n",
       "pickle5                     NA\n",
       "pickleshare                 0.7.5\n",
       "pkg_resources               NA\n",
       "prompt_toolkit              3.0.20\n",
       "psutil                      5.8.0\n",
       "ptyprocess                  0.7.0\n",
       "pure_eval                   0.2.2\n",
       "pyarrow                     7.0.0\n",
       "pydev_ipython               NA\n",
       "pydevconsole                NA\n",
       "pydevd                      2.6.0\n",
       "pydevd_concurrency_analyser NA\n",
       "pydevd_file_utils           NA\n",
       "pydevd_plugins              NA\n",
       "pydevd_tracing              NA\n",
       "pygments                    2.11.2\n",
       "pyparsing                   3.0.4\n",
       "pytz                        2021.3\n",
       "scipy                       1.7.3\n",
       "setuptools                  61.2.0\n",
       "six                         1.16.0\n",
       "sphinxcontrib               NA\n",
       "stack_data                  0.2.0\n",
       "statsmodels                 0.13.2\n",
       "tornado                     6.1\n",
       "traitlets                   5.1.1\n",
       "typing_extensions           NA\n",
       "wcwidth                     0.2.5\n",
       "zipp                        NA\n",
       "zmq                         22.3.0\n",
       "zope                        NA\n",
       "</pre>\n",
       "</details> <!-- seems like this ends pre, so might as well be explicit -->\n",
       "<pre>\n",
       "-----\n",
       "IPython             8.3.0\n",
       "jupyter_client      6.1.12\n",
       "jupyter_core        4.10.0\n",
       "jupyterlab          3.3.2\n",
       "notebook            6.4.11\n",
       "-----\n",
       "Python 3.9.12 (main, Apr  5 2022, 01:53:17) [Clang 12.0.0 ]\n",
       "macOS-10.15.7-x86_64-i386-64bit\n",
       "-----\n",
       "Session information updated at 2022-06-08 22:46\n",
       "</pre>\n",
       "</details>"
      ],
      "text/plain": [
       "<IPython.core.display.HTML object>"
      ]
     },
     "execution_count": 3,
     "metadata": {},
     "output_type": "execute_result"
    }
   ],
   "source": [
    "# Display libraries version\n",
    "import session_info\n",
    "session_info.show()"
   ]
  },
  {
   "cell_type": "markdown",
   "id": "9a1efd0e",
   "metadata": {},
   "source": [
    "# Load data"
   ]
  },
  {
   "cell_type": "markdown",
   "id": "e325b9d0",
   "metadata": {
    "heading_collapsed": true
   },
   "source": [
    "## Loading dataset using `kaggle API`"
   ]
  },
  {
   "cell_type": "code",
   "execution_count": 4,
   "id": "e4d38cc2",
   "metadata": {
    "ExecuteTime": {
     "end_time": "2022-06-09T01:46:02.560829Z",
     "start_time": "2022-06-09T01:46:00.377927Z"
    },
    "hidden": true
   },
   "outputs": [
    {
     "name": "stdout",
     "output_type": "stream",
     "text": [
      "digit-recognizer.zip: Skipping, found more recently modified local copy (use --force to force download)\r\n"
     ]
    }
   ],
   "source": [
    "!kaggle competitions download -c digit-recognizer"
   ]
  },
  {
   "cell_type": "markdown",
   "id": "c56149da",
   "metadata": {
    "heading_collapsed": true
   },
   "source": [
    "## Reading files from zip with `pandas`"
   ]
  },
  {
   "cell_type": "code",
   "execution_count": 5,
   "id": "e69068c3",
   "metadata": {
    "ExecuteTime": {
     "end_time": "2022-06-09T01:46:02.578109Z",
     "start_time": "2022-06-09T01:46:02.564363Z"
    },
    "hidden": true
   },
   "outputs": [
    {
     "name": "stdout",
     "output_type": "stream",
     "text": [
      "['sample_submission.csv', 'test.csv', 'train.csv']\n"
     ]
    }
   ],
   "source": [
    "# Check files inside the zip\n",
    "with zipfile.ZipFile('datasets/digit-recognizer.zip', 'r') as myzip:\n",
    "     print(myzip.namelist())"
   ]
  },
  {
   "cell_type": "code",
   "execution_count": 6,
   "id": "7ac1e0c9",
   "metadata": {
    "ExecuteTime": {
     "end_time": "2022-06-09T01:46:08.387339Z",
     "start_time": "2022-06-09T01:46:02.581432Z"
    },
    "hidden": true
   },
   "outputs": [],
   "source": [
    "# read train/test data with pandas\n",
    "with zipfile.ZipFile('datasets/digit-recognizer.zip', 'r') as myzip:\n",
    "    train_df = pd.read_csv(myzip.open('train.csv'))\n",
    "    test_df = pd.read_csv(myzip.open('test.csv'))"
   ]
  },
  {
   "cell_type": "markdown",
   "id": "c5bf589e",
   "metadata": {
    "heading_collapsed": true
   },
   "source": [
    "## Exploring the dataset"
   ]
  },
  {
   "cell_type": "code",
   "execution_count": 7,
   "id": "eaba90f0",
   "metadata": {
    "ExecuteTime": {
     "end_time": "2022-06-09T01:46:08.465132Z",
     "start_time": "2022-06-09T01:46:08.390724Z"
    },
    "hidden": true
   },
   "outputs": [
    {
     "name": "stdout",
     "output_type": "stream",
     "text": [
      "<class 'pandas.core.frame.DataFrame'>\n",
      "RangeIndex: 42000 entries, 0 to 41999\n",
      "Columns: 785 entries, label to pixel783\n",
      "dtypes: int64(785)\n",
      "memory usage: 251.5 MB\n"
     ]
    }
   ],
   "source": [
    "train_df.info()"
   ]
  },
  {
   "cell_type": "code",
   "execution_count": 8,
   "id": "be80e922",
   "metadata": {
    "ExecuteTime": {
     "end_time": "2022-06-09T01:46:08.527921Z",
     "start_time": "2022-06-09T01:46:08.470225Z"
    },
    "hidden": true
   },
   "outputs": [
    {
     "name": "stdout",
     "output_type": "stream",
     "text": [
      "<class 'pandas.core.frame.DataFrame'>\n",
      "RangeIndex: 28000 entries, 0 to 27999\n",
      "Columns: 784 entries, pixel0 to pixel783\n",
      "dtypes: int64(784)\n",
      "memory usage: 167.5 MB\n"
     ]
    }
   ],
   "source": [
    "test_df.info()"
   ]
  },
  {
   "cell_type": "code",
   "execution_count": 9,
   "id": "507953cb",
   "metadata": {
    "ExecuteTime": {
     "end_time": "2022-06-09T01:46:08.562136Z",
     "start_time": "2022-06-09T01:46:08.534273Z"
    },
    "hidden": true
   },
   "outputs": [
    {
     "data": {
      "text/html": [
       "<div>\n",
       "<style scoped>\n",
       "    .dataframe tbody tr th:only-of-type {\n",
       "        vertical-align: middle;\n",
       "    }\n",
       "\n",
       "    .dataframe tbody tr th {\n",
       "        vertical-align: top;\n",
       "    }\n",
       "\n",
       "    .dataframe thead th {\n",
       "        text-align: right;\n",
       "    }\n",
       "</style>\n",
       "<table border=\"1\" class=\"dataframe\">\n",
       "  <thead>\n",
       "    <tr style=\"text-align: right;\">\n",
       "      <th></th>\n",
       "      <th>label</th>\n",
       "      <th>pixel0</th>\n",
       "      <th>pixel1</th>\n",
       "      <th>pixel2</th>\n",
       "      <th>pixel3</th>\n",
       "      <th>pixel4</th>\n",
       "      <th>pixel5</th>\n",
       "      <th>pixel6</th>\n",
       "      <th>pixel7</th>\n",
       "      <th>pixel8</th>\n",
       "      <th>...</th>\n",
       "      <th>pixel774</th>\n",
       "      <th>pixel775</th>\n",
       "      <th>pixel776</th>\n",
       "      <th>pixel777</th>\n",
       "      <th>pixel778</th>\n",
       "      <th>pixel779</th>\n",
       "      <th>pixel780</th>\n",
       "      <th>pixel781</th>\n",
       "      <th>pixel782</th>\n",
       "      <th>pixel783</th>\n",
       "    </tr>\n",
       "  </thead>\n",
       "  <tbody>\n",
       "    <tr>\n",
       "      <th>0</th>\n",
       "      <td>1</td>\n",
       "      <td>0</td>\n",
       "      <td>0</td>\n",
       "      <td>0</td>\n",
       "      <td>0</td>\n",
       "      <td>0</td>\n",
       "      <td>0</td>\n",
       "      <td>0</td>\n",
       "      <td>0</td>\n",
       "      <td>0</td>\n",
       "      <td>...</td>\n",
       "      <td>0</td>\n",
       "      <td>0</td>\n",
       "      <td>0</td>\n",
       "      <td>0</td>\n",
       "      <td>0</td>\n",
       "      <td>0</td>\n",
       "      <td>0</td>\n",
       "      <td>0</td>\n",
       "      <td>0</td>\n",
       "      <td>0</td>\n",
       "    </tr>\n",
       "    <tr>\n",
       "      <th>1</th>\n",
       "      <td>0</td>\n",
       "      <td>0</td>\n",
       "      <td>0</td>\n",
       "      <td>0</td>\n",
       "      <td>0</td>\n",
       "      <td>0</td>\n",
       "      <td>0</td>\n",
       "      <td>0</td>\n",
       "      <td>0</td>\n",
       "      <td>0</td>\n",
       "      <td>...</td>\n",
       "      <td>0</td>\n",
       "      <td>0</td>\n",
       "      <td>0</td>\n",
       "      <td>0</td>\n",
       "      <td>0</td>\n",
       "      <td>0</td>\n",
       "      <td>0</td>\n",
       "      <td>0</td>\n",
       "      <td>0</td>\n",
       "      <td>0</td>\n",
       "    </tr>\n",
       "    <tr>\n",
       "      <th>2</th>\n",
       "      <td>1</td>\n",
       "      <td>0</td>\n",
       "      <td>0</td>\n",
       "      <td>0</td>\n",
       "      <td>0</td>\n",
       "      <td>0</td>\n",
       "      <td>0</td>\n",
       "      <td>0</td>\n",
       "      <td>0</td>\n",
       "      <td>0</td>\n",
       "      <td>...</td>\n",
       "      <td>0</td>\n",
       "      <td>0</td>\n",
       "      <td>0</td>\n",
       "      <td>0</td>\n",
       "      <td>0</td>\n",
       "      <td>0</td>\n",
       "      <td>0</td>\n",
       "      <td>0</td>\n",
       "      <td>0</td>\n",
       "      <td>0</td>\n",
       "    </tr>\n",
       "    <tr>\n",
       "      <th>3</th>\n",
       "      <td>4</td>\n",
       "      <td>0</td>\n",
       "      <td>0</td>\n",
       "      <td>0</td>\n",
       "      <td>0</td>\n",
       "      <td>0</td>\n",
       "      <td>0</td>\n",
       "      <td>0</td>\n",
       "      <td>0</td>\n",
       "      <td>0</td>\n",
       "      <td>...</td>\n",
       "      <td>0</td>\n",
       "      <td>0</td>\n",
       "      <td>0</td>\n",
       "      <td>0</td>\n",
       "      <td>0</td>\n",
       "      <td>0</td>\n",
       "      <td>0</td>\n",
       "      <td>0</td>\n",
       "      <td>0</td>\n",
       "      <td>0</td>\n",
       "    </tr>\n",
       "    <tr>\n",
       "      <th>4</th>\n",
       "      <td>0</td>\n",
       "      <td>0</td>\n",
       "      <td>0</td>\n",
       "      <td>0</td>\n",
       "      <td>0</td>\n",
       "      <td>0</td>\n",
       "      <td>0</td>\n",
       "      <td>0</td>\n",
       "      <td>0</td>\n",
       "      <td>0</td>\n",
       "      <td>...</td>\n",
       "      <td>0</td>\n",
       "      <td>0</td>\n",
       "      <td>0</td>\n",
       "      <td>0</td>\n",
       "      <td>0</td>\n",
       "      <td>0</td>\n",
       "      <td>0</td>\n",
       "      <td>0</td>\n",
       "      <td>0</td>\n",
       "      <td>0</td>\n",
       "    </tr>\n",
       "  </tbody>\n",
       "</table>\n",
       "<p>5 rows × 785 columns</p>\n",
       "</div>"
      ],
      "text/plain": [
       "   label  pixel0  pixel1  pixel2  pixel3  pixel4  pixel5  pixel6  pixel7  \\\n",
       "0      1       0       0       0       0       0       0       0       0   \n",
       "1      0       0       0       0       0       0       0       0       0   \n",
       "2      1       0       0       0       0       0       0       0       0   \n",
       "3      4       0       0       0       0       0       0       0       0   \n",
       "4      0       0       0       0       0       0       0       0       0   \n",
       "\n",
       "   pixel8  ...  pixel774  pixel775  pixel776  pixel777  pixel778  pixel779  \\\n",
       "0       0  ...         0         0         0         0         0         0   \n",
       "1       0  ...         0         0         0         0         0         0   \n",
       "2       0  ...         0         0         0         0         0         0   \n",
       "3       0  ...         0         0         0         0         0         0   \n",
       "4       0  ...         0         0         0         0         0         0   \n",
       "\n",
       "   pixel780  pixel781  pixel782  pixel783  \n",
       "0         0         0         0         0  \n",
       "1         0         0         0         0  \n",
       "2         0         0         0         0  \n",
       "3         0         0         0         0  \n",
       "4         0         0         0         0  \n",
       "\n",
       "[5 rows x 785 columns]"
      ]
     },
     "execution_count": 9,
     "metadata": {},
     "output_type": "execute_result"
    }
   ],
   "source": [
    "train_df.head()"
   ]
  },
  {
   "cell_type": "code",
   "execution_count": 10,
   "id": "21c2486e",
   "metadata": {
    "ExecuteTime": {
     "end_time": "2022-06-09T01:46:08.843732Z",
     "start_time": "2022-06-09T01:46:08.581276Z"
    },
    "hidden": true
   },
   "outputs": [
    {
     "data": {
      "image/png": "[encoded data removed]",
      "text/plain": [
       "<Figure size 432x288 with 1 Axes>"
      ]
     },
     "metadata": {},
     "output_type": "display_data"
    }
   ],
   "source": [
    "# Label = Number 1\n",
    "label_example = train_df.iloc[0,0]\n",
    "# Get only pixel columns and reshape into a 28x28 matrix\n",
    "image_example = train_df.loc[0][1:].values.reshape(28,28)\n",
    "# Display image\n",
    "plt.imshow(image_example)\n",
    "plt.grid(False);\n",
    "# Thats a..."
   ]
  },
  {
   "cell_type": "markdown",
   "id": "4910bb5f",
   "metadata": {},
   "source": [
    "# NN Examples"
   ]
  },
  {
   "cell_type": "markdown",
   "id": "4c6edc35",
   "metadata": {},
   "source": [
    "## Single Neuron"
   ]
  },
  {
   "cell_type": "markdown",
   "id": "8a96df96",
   "metadata": {},
   "source": [
    "Activation function:  \n",
    "$a_{output}$\n",
    "$=$\n",
    "<font color='#fdbf11' size=5>$\\sigma($</font>\n",
    "$\\sum$\n",
    "<font color='#1696d2' size=5>$a_n$</font>\n",
    "<font color='#55b748' size=5>$w_n$</font>\n",
    "+\n",
    "<font color='#e54096' size=5>$b$</font>\n",
    "<font color='#fdbf11' size=5>$)$</font>\n",
    "  \n",
    "- <font color='#1696d2' size=5>$a_n$</font> input neurons  \n",
    "- <font color='#55b748' size=5>$w_n$</font> neuron associated weight  \n",
    "- <font color='#e54096' size=5>$b$</font> bias for the weighted sum get meaningfully active   \n",
    "- <font color='#fdbf11' size=5>$\\sigma(x)$</font> sigmoid (activation function)  \n",
    "- $a_{output}$ neuron output  "
   ]
  },
  {
   "cell_type": "code",
   "execution_count": 11,
   "id": "d3e36174",
   "metadata": {
    "ExecuteTime": {
     "end_time": "2022-06-09T01:46:08.859214Z",
     "start_time": "2022-06-09T01:46:08.847248Z"
    }
   },
   "outputs": [
    {
     "data": {
      "text/plain": [
       "-3.187944804682159"
      ]
     },
     "execution_count": 11,
     "metadata": {},
     "output_type": "execute_result"
    }
   ],
   "source": [
    "# Set seed for reproducibility\n",
    "np.random.seed(42)\n",
    "# Define some inputs (X)\n",
    "input_layer = np.random.uniform(0, 1, size=5)\n",
    "# Define random weights\n",
    "weights = np.random.uniform(-0.5, 0.5, size=5)\n",
    "# Define a random bias value\n",
    "bias = 3\n",
    "# Calculate output value\n",
    "output = sum(input_layer*weights) - bias\n",
    "output"
   ]
  },
  {
   "cell_type": "markdown",
   "id": "eed59eaf",
   "metadata": {},
   "source": [
    "Sigmoid function  \n",
    "$f(x) = \\sigma(x) = \\frac{1}{1 + e^{-x}}  $  "
   ]
  },
  {
   "cell_type": "code",
   "execution_count": 12,
   "id": "e79899e2",
   "metadata": {
    "ExecuteTime": {
     "end_time": "2022-06-09T01:46:09.164259Z",
     "start_time": "2022-06-09T01:46:08.864513Z"
    }
   },
   "outputs": [
    {
     "data": {
      "image/png": "[encoded data removed]",
      "text/plain": [
       "<Figure size 432x288 with 1 Axes>"
      ]
     },
     "metadata": {},
     "output_type": "display_data"
    }
   ],
   "source": [
    "sigmoid = lambda x: 1 / (1 + np.exp(-x))\n",
    "# Plot sigmoid function\n",
    "x = np.linspace(-output-10, output+10, 200)\n",
    "z = sigmoid(x)\n",
    "plt.plot(x, z)\n",
    "plt.title('Sigmoid activation function example', size=18, pad=10, loc='left')\n",
    "plt.xlabel(\"x\"); plt.ylabel(\"Sigmoid(X)\"); plt.show()"
   ]
  },
  {
   "cell_type": "code",
   "execution_count": 13,
   "id": "c19a8791",
   "metadata": {
    "ExecuteTime": {
     "end_time": "2022-06-09T01:46:09.178197Z",
     "start_time": "2022-06-09T01:46:09.169034Z"
    }
   },
   "outputs": [
    {
     "data": {
      "text/plain": [
       "0.03962190992044933"
      ]
     },
     "execution_count": 13,
     "metadata": {},
     "output_type": "execute_result"
    }
   ],
   "source": [
    "# Apply sigmoid function\n",
    "output = sigmoid(output)\n",
    "output"
   ]
  },
  {
   "cell_type": "markdown",
   "id": "0dbe168c",
   "metadata": {
    "heading_collapsed": true
   },
   "source": [
    "### Visualizing the Neural network"
   ]
  },
  {
   "cell_type": "code",
   "execution_count": 14,
   "id": "6bd83639",
   "metadata": {
    "ExecuteTime": {
     "end_time": "2022-06-09T01:46:10.048067Z",
     "start_time": "2022-06-09T01:46:09.182117Z"
    },
    "hidden": true
   },
   "outputs": [
    {
     "name": "stdout",
     "output_type": "stream",
     "text": [
      "Neural network representation with 1 neuron\n",
      "Inputs:  [0.37454012 0.95071431 0.73199394 0.59865848 0.15601864]\n",
      "Weights:  [-0.34400548 -0.44191639  0.36617615  0.10111501  0.20807258]\n",
      "Activation function:  0.03962190992044933\n"
     ]
    },
    {
     "data": {
      "image/svg+xml": [
       "<?xml version=\"1.0\" encoding=\"UTF-8\" standalone=\"no\"?>\n",
       "<!DOCTYPE svg PUBLIC \"-//W3C//DTD SVG 1.1//EN\"\n",
       " \"http://www.w3.org/Graphics/SVG/1.1/DTD/svg11.dtd\">\n",
       "<!-- Generated by graphviz version 3.0.0 (20220226.1711)\n",
       " -->\n",
       "<!-- Pages: 1 -->\n",
       "<svg width=\"245pt\" height=\"288pt\"\n",
       " viewBox=\"0.00 0.00 244.80 288.00\" xmlns=\"http://www.w3.org/2000/svg\" xmlns:xlink=\"http://www.w3.org/1999/xlink\">\n",
       "<g id=\"graph0\" class=\"graph\" transform=\"scale(0.790567 0.790567) rotate(0) translate(4 360.3)\">\n",
       "<polygon fill=\"white\" stroke=\"transparent\" points=\"-4,4 -4,-360.3 305.66,-360.3 305.66,4 -4,4\"/>\n",
       "<!-- output -->\n",
       "<g id=\"node1\" class=\"node\">\n",
       "<title>output</title>\n",
       "<ellipse fill=\"#ff0000\" fill-opacity=\"0.501961\" stroke=\"#ff0000\" stroke-opacity=\"0.501961\" cx=\"275.01\" cy=\"-185.71\" rx=\"26.8\" ry=\"26.8\"/>\n",
       "<text text-anchor=\"middle\" x=\"275.01\" y=\"-182.01\" font-family=\"Times,serif\" font-size=\"14.00\">0.04</text>\n",
       "<text text-anchor=\"middle\" x=\"237.86\" y=\"-216.16\" font-family=\"Times,serif\" font-size=\"14.00\">f(x)</text>\n",
       "</g>\n",
       "<!-- a0 -->\n",
       "<g id=\"node2\" class=\"node\">\n",
       "<title>a0</title>\n",
       "<ellipse fill=\"#0000ff\" fill-opacity=\"0.501961\" stroke=\"#0000ff\" stroke-opacity=\"0.501961\" cx=\"39.65\" cy=\"-314.65\" rx=\"26.8\" ry=\"26.8\"/>\n",
       "<text text-anchor=\"middle\" x=\"39.65\" y=\"-310.95\" font-family=\"Times,serif\" font-size=\"14.00\">0.37</text>\n",
       "<text text-anchor=\"middle\" x=\"6.5\" y=\"-345.1\" font-family=\"Times,serif\" font-size=\"14.00\">a0</text>\n",
       "</g>\n",
       "<!-- a0&#45;&gt;output -->\n",
       "<g id=\"edge1\" class=\"edge\">\n",
       "<title>a0&#45;&gt;output</title>\n",
       "<path fill=\"none\" stroke=\"#424242\" stroke-opacity=\"0.501961\" d=\"M63.08,-301.81C105.26,-278.7 194.08,-230.05 242.26,-203.65\"/>\n",
       "<polygon fill=\"#424242\" fill-opacity=\"0.501961\" stroke=\"#424242\" stroke-opacity=\"0.501961\" points=\"244.24,-206.56 251.33,-198.68 240.87,-200.42 244.24,-206.56\"/>\n",
       "<text text-anchor=\"middle\" x=\"138.17\" y=\"-256.53\" font-family=\"Times,serif\" font-size=\"14.00\">&#45;0.34</text>\n",
       "<text text-anchor=\"middle\" x=\"144.17\" y=\"-241.53\" font-family=\"Times,serif\" font-size=\"14.00\">w0</text>\n",
       "</g>\n",
       "<!-- a1 -->\n",
       "<g id=\"node3\" class=\"node\">\n",
       "<title>a1</title>\n",
       "<ellipse fill=\"#0000ff\" fill-opacity=\"0.501961\" stroke=\"#0000ff\" stroke-opacity=\"0.501961\" cx=\"39.65\" cy=\"-242.65\" rx=\"26.8\" ry=\"26.8\"/>\n",
       "<text text-anchor=\"middle\" x=\"39.65\" y=\"-238.95\" font-family=\"Times,serif\" font-size=\"14.00\">0.95</text>\n",
       "<text text-anchor=\"middle\" x=\"6.5\" y=\"-273.1\" font-family=\"Times,serif\" font-size=\"14.00\">a1</text>\n",
       "</g>\n",
       "<!-- a1&#45;&gt;output -->\n",
       "<g id=\"edge2\" class=\"edge\">\n",
       "<title>a1&#45;&gt;output</title>\n",
       "<path fill=\"none\" stroke=\"#424242\" stroke-opacity=\"0.501961\" d=\"M65.73,-236.34C107.88,-226.14 191.06,-206.02 238.88,-194.45\"/>\n",
       "<polygon fill=\"#424242\" fill-opacity=\"0.501961\" stroke=\"#424242\" stroke-opacity=\"0.501961\" points=\"239.91,-197.8 248.8,-192.05 238.26,-191 239.91,-197.8\"/>\n",
       "<text text-anchor=\"middle\" x=\"137.81\" y=\"-219.19\" font-family=\"Times,serif\" font-size=\"14.00\">&#45;0.44</text>\n",
       "<text text-anchor=\"middle\" x=\"143.81\" y=\"-204.19\" font-family=\"Times,serif\" font-size=\"14.00\">w1</text>\n",
       "</g>\n",
       "<!-- a2 -->\n",
       "<g id=\"node4\" class=\"node\">\n",
       "<title>a2</title>\n",
       "<ellipse fill=\"#0000ff\" fill-opacity=\"0.501961\" stroke=\"#0000ff\" stroke-opacity=\"0.501961\" cx=\"39.65\" cy=\"-170.65\" rx=\"26.8\" ry=\"26.8\"/>\n",
       "<text text-anchor=\"middle\" x=\"39.65\" y=\"-166.95\" font-family=\"Times,serif\" font-size=\"14.00\">0.73</text>\n",
       "<text text-anchor=\"middle\" x=\"6.5\" y=\"-201.1\" font-family=\"Times,serif\" font-size=\"14.00\">a2</text>\n",
       "</g>\n",
       "<!-- a2&#45;&gt;output -->\n",
       "<g id=\"edge3\" class=\"edge\">\n",
       "<title>a2&#45;&gt;output</title>\n",
       "<path fill=\"none\" stroke=\"#424242\" stroke-opacity=\"0.501961\" d=\"M66.65,-172.38C108.85,-175.08 190.55,-180.31 238.14,-183.35\"/>\n",
       "<polygon fill=\"#424242\" fill-opacity=\"0.501961\" stroke=\"#424242\" stroke-opacity=\"0.501961\" points=\"238.12,-186.86 248.32,-184 238.57,-179.87 238.12,-186.86\"/>\n",
       "<text text-anchor=\"middle\" x=\"139.89\" y=\"-181.66\" font-family=\"Times,serif\" font-size=\"14.00\">0.37</text>\n",
       "<text text-anchor=\"middle\" x=\"143.89\" y=\"-166.66\" font-family=\"Times,serif\" font-size=\"14.00\">w2</text>\n",
       "</g>\n",
       "<!-- a3 -->\n",
       "<g id=\"node5\" class=\"node\">\n",
       "<title>a3</title>\n",
       "<ellipse fill=\"#0000ff\" fill-opacity=\"0.501961\" stroke=\"#0000ff\" stroke-opacity=\"0.501961\" cx=\"39.65\" cy=\"-98.65\" rx=\"22.2\" ry=\"22.2\"/>\n",
       "<text text-anchor=\"middle\" x=\"39.65\" y=\"-94.95\" font-family=\"Times,serif\" font-size=\"14.00\">0.6</text>\n",
       "<text text-anchor=\"middle\" x=\"11.05\" y=\"-124.55\" font-family=\"Times,serif\" font-size=\"14.00\">a3</text>\n",
       "</g>\n",
       "<!-- a3&#45;&gt;output -->\n",
       "<g id=\"edge4\" class=\"edge\">\n",
       "<title>a3&#45;&gt;output</title>\n",
       "<path fill=\"none\" stroke=\"#424242\" stroke-opacity=\"0.501961\" d=\"M60.53,-106.37C101.06,-121.36 190.71,-154.53 240.31,-172.87\"/>\n",
       "<polygon fill=\"#424242\" fill-opacity=\"0.501961\" stroke=\"#424242\" stroke-opacity=\"0.501961\" points=\"239.37,-176.26 249.96,-176.45 241.8,-169.69 239.37,-176.26\"/>\n",
       "<text text-anchor=\"middle\" x=\"141.42\" y=\"-143.42\" font-family=\"Times,serif\" font-size=\"14.00\">0.1</text>\n",
       "<text text-anchor=\"middle\" x=\"141.92\" y=\"-128.42\" font-family=\"Times,serif\" font-size=\"14.00\">w3</text>\n",
       "</g>\n",
       "<!-- a4 -->\n",
       "<g id=\"node6\" class=\"node\">\n",
       "<title>a4</title>\n",
       "<ellipse fill=\"#0000ff\" fill-opacity=\"0.501961\" stroke=\"#0000ff\" stroke-opacity=\"0.501961\" cx=\"39.65\" cy=\"-26.65\" rx=\"26.8\" ry=\"26.8\"/>\n",
       "<text text-anchor=\"middle\" x=\"39.65\" y=\"-22.95\" font-family=\"Times,serif\" font-size=\"14.00\">0.16</text>\n",
       "<text text-anchor=\"middle\" x=\"6.5\" y=\"-57.1\" font-family=\"Times,serif\" font-size=\"14.00\">a4</text>\n",
       "</g>\n",
       "<!-- a4&#45;&gt;output -->\n",
       "<g id=\"edge5\" class=\"edge\">\n",
       "<title>a4&#45;&gt;output</title>\n",
       "<path fill=\"none\" stroke=\"#424242\" stroke-opacity=\"0.501961\" d=\"M61.79,-41.61C104.02,-70.15 196.14,-132.41 244.3,-164.95\"/>\n",
       "<polygon fill=\"#424242\" fill-opacity=\"0.501961\" stroke=\"#424242\" stroke-opacity=\"0.501961\" points=\"242.51,-167.97 252.75,-170.67 246.43,-162.17 242.51,-167.97\"/>\n",
       "<text text-anchor=\"middle\" x=\"140.54\" y=\"-107.08\" font-family=\"Times,serif\" font-size=\"14.00\">0.21</text>\n",
       "<text text-anchor=\"middle\" x=\"144.54\" y=\"-92.08\" font-family=\"Times,serif\" font-size=\"14.00\">w4</text>\n",
       "</g>\n",
       "</g>\n",
       "</svg>\n"
      ],
      "text/plain": [
       "<graphviz.graphs.Digraph at 0x7fb325785f40>"
      ]
     },
     "execution_count": 14,
     "metadata": {},
     "output_type": "execute_result"
    }
   ],
   "source": [
    "from graphviz import Digraph\n",
    "\n",
    "graph = Digraph(engine='neato')\n",
    "graph.attr(size='4')\n",
    "# Add output node\n",
    "graph.node('output', str(output.round(2)), xlabel='f(x)', color='#ff000080', style='filled', shape='circle', pos='15,-1')\n",
    "# Add node for each input and it respective weight\n",
    "for index, value in enumerate(input_layer):\n",
    "    current_node = 'a' + str(index)\n",
    "    current_weight = 'w' + str(index)\n",
    "    graph.node(name=current_node, \n",
    "               label=str(value.round(2)),\n",
    "               xlabel=current_node,\n",
    "               color='#0000ff80', style='filled', shape='circle', pos=f'0,{-index}!')\n",
    "    graph.edge(current_node, 'output',\n",
    "               label=str(weights[index].round(2)),\n",
    "               xlabel=current_weight,\n",
    "               color='#42424280',)\n",
    "\n",
    "print('Neural network representation with 1 neuron')\n",
    "print('Inputs: ', input_layer)\n",
    "print('Weights: ', weights)\n",
    "print('Activation function: ', output)\n",
    "graph"
   ]
  },
  {
   "cell_type": "markdown",
   "id": "c660eafb",
   "metadata": {
    "heading_collapsed": true
   },
   "source": [
    "## Multiple neurons"
   ]
  },
  {
   "cell_type": "markdown",
   "id": "bbcf6937",
   "metadata": {
    "hidden": true
   },
   "source": [
    "<font size=5>$a^{(1)}_{0}$\n",
    "$=$\n",
    "<font color='#fdbf11'>$\\sigma($</font>\n",
    "<font color='#55b748'>$w_{0,0}$</font>\n",
    "$a^{(0)}_1 + ... +  $\n",
    "<font color='#55b748'>$w_{0,n}$</font>\n",
    "$a^{(0)}_n + $\n",
    "<font color='#1696d2'>$b_0$</font>\n",
    "<font color='#fdbf11'>$)$</font>   \n",
    "</font>  \n",
    "Given $a^{(L)}_{i}$:  \n",
    "- superscript $L$ corresponds to the layer  \n",
    "- subscript $i$ corresponds to the neuron in that layer  \n",
    "  "
   ]
  },
  {
   "cell_type": "markdown",
   "id": "6a03e41a",
   "metadata": {
    "heading_collapsed": true,
    "hidden": true
   },
   "source": [
    "### Layers configuration"
   ]
  },
  {
   "cell_type": "code",
   "execution_count": 15,
   "id": "5f20afd4",
   "metadata": {
    "ExecuteTime": {
     "end_time": "2022-06-09T01:46:10.058218Z",
     "start_time": "2022-06-09T01:46:10.053259Z"
    },
    "hidden": true
   },
   "outputs": [],
   "source": [
    "input_layer_size = 5\n",
    "second_layer_size = 3\n",
    "output_layer_size = 1"
   ]
  },
  {
   "cell_type": "markdown",
   "id": "f72c4f73",
   "metadata": {
    "heading_collapsed": true,
    "hidden": true
   },
   "source": [
    "### Input layer"
   ]
  },
  {
   "cell_type": "code",
   "execution_count": 16,
   "id": "9dcf6d79",
   "metadata": {
    "ExecuteTime": {
     "end_time": "2022-06-09T01:46:10.080593Z",
     "start_time": "2022-06-09T01:46:10.062473Z"
    },
    "hidden": true
   },
   "outputs": [],
   "source": [
    "np.random.seed(42)\n",
    "# Create inputs\n",
    "input_layer = np.random.uniform(0, 1, size=input_layer_size)\n",
    "# Create weights, 1 vector with 5 connections(from input) for each neuron in second layer(total of 3 vectors)\n",
    "input_layer_weights = [np.random.uniform(-0.5, 0.5, size=input_layer_size) for index in range(second_layer_size)]\n",
    "# Create biases for each neuron in the second layer\n",
    "first_layer_bias = np.random.randint(1, 5, size=second_layer_size)"
   ]
  },
  {
   "cell_type": "markdown",
   "id": "eb23734a",
   "metadata": {
    "heading_collapsed": true,
    "hidden": true
   },
   "source": [
    "### Second layer"
   ]
  },
  {
   "cell_type": "code",
   "execution_count": 17,
   "id": "f145fae4",
   "metadata": {
    "ExecuteTime": {
     "end_time": "2022-06-09T01:46:10.094986Z",
     "start_time": "2022-06-09T01:46:10.084060Z"
    },
    "hidden": true
   },
   "outputs": [
    {
     "data": {
      "text/plain": [
       "[0.03962190992044933, 0.06230890666593959, 0.08628367892884775]"
      ]
     },
     "execution_count": 17,
     "metadata": {},
     "output_type": "execute_result"
    }
   ],
   "source": [
    "# Compute the actiation function for each neuron in the second layer\n",
    "second_layer = [sigmoid(sum(input_layer*weights) - first_layer_bias[index]) for index, weights in enumerate(input_layer_weights)]\n",
    "second_layer"
   ]
  },
  {
   "cell_type": "code",
   "execution_count": 18,
   "id": "53a43379",
   "metadata": {
    "ExecuteTime": {
     "end_time": "2022-06-09T01:46:10.111657Z",
     "start_time": "2022-06-09T01:46:10.098211Z"
    },
    "hidden": true
   },
   "outputs": [
    {
     "data": {
      "text/plain": [
       "[array([-0.45333434,  0.47375552, -0.26722866])]"
      ]
     },
     "execution_count": 18,
     "metadata": {},
     "output_type": "execute_result"
    }
   ],
   "source": [
    "# Create weights for the second layer\n",
    "second_layer_weights = [np.random.uniform(-0.5, 0.5, size=second_layer_size) for index in range(output_layer_size)]\n",
    "second_layer_weights"
   ]
  },
  {
   "cell_type": "code",
   "execution_count": 19,
   "id": "d11554c1",
   "metadata": {
    "ExecuteTime": {
     "end_time": "2022-06-09T01:46:10.121943Z",
     "start_time": "2022-06-09T01:46:10.115370Z"
    },
    "hidden": true
   },
   "outputs": [
    {
     "data": {
      "text/plain": [
       "array([2, 3, 2])"
      ]
     },
     "execution_count": 19,
     "metadata": {},
     "output_type": "execute_result"
    }
   ],
   "source": [
    "# Create biases for each neuron in the output layer\n",
    "second_layer_bias = np.random.randint(1, 5, size=second_layer_size)\n",
    "second_layer_bias"
   ]
  },
  {
   "cell_type": "markdown",
   "id": "c015ee15",
   "metadata": {
    "heading_collapsed": true,
    "hidden": true
   },
   "source": [
    "### Output layer"
   ]
  },
  {
   "cell_type": "code",
   "execution_count": 20,
   "id": "42bb939e",
   "metadata": {
    "ExecuteTime": {
     "end_time": "2022-06-09T01:46:10.131524Z",
     "start_time": "2022-06-09T01:46:10.125446Z"
    },
    "hidden": true
   },
   "outputs": [
    {
     "data": {
      "text/plain": [
       "[0.11800074683354274]"
      ]
     },
     "execution_count": 20,
     "metadata": {},
     "output_type": "execute_result"
    }
   ],
   "source": [
    "# Compute the actiation function for each neuron in the output layer\n",
    "output_layer = [sigmoid(sum(second_layer*weights) - second_layer_bias[index]) for index, weights in enumerate(second_layer_weights)]\n",
    "output_layer"
   ]
  },
  {
   "cell_type": "markdown",
   "id": "b4e772d6",
   "metadata": {
    "heading_collapsed": true,
    "hidden": true
   },
   "source": [
    "### Multiple NN visualization"
   ]
  },
  {
   "cell_type": "code",
   "execution_count": 21,
   "id": "3ddd1714",
   "metadata": {
    "ExecuteTime": {
     "end_time": "2022-06-09T01:46:10.489794Z",
     "start_time": "2022-06-09T01:46:10.134614Z"
    },
    "hidden": true
   },
   "outputs": [
    {
     "name": "stdout",
     "output_type": "stream",
     "text": [
      "Neural network representation with multiple neuron\n",
      "Neurons from input layer:  [0.37454012 0.95071431 0.73199394 0.59865848 0.15601864]\n",
      "Weights from input layer:  [array([-0.34400548, -0.44191639,  0.36617615,  0.10111501,  0.20807258]), array([-0.47941551,  0.46990985,  0.33244264, -0.28766089, -0.31817503]), array([-0.31659549, -0.19575776,  0.02475643, -0.06805498, -0.20877086])]\n",
      "Neurons from second layer:  [0.03962190992044933, 0.06230890666593959, 0.08628367892884775]\n",
      "Weights from second layer:  [array([-0.45333434,  0.47375552, -0.26722866])]\n",
      "Neurons from output layer:  [0.11800074683354274]\n"
     ]
    },
    {
     "data": {
      "image/svg+xml": [
       "<?xml version=\"1.0\" encoding=\"UTF-8\" standalone=\"no\"?>\n",
       "<!DOCTYPE svg PUBLIC \"-//W3C//DTD SVG 1.1//EN\"\n",
       " \"http://www.w3.org/Graphics/SVG/1.1/DTD/svg11.dtd\">\n",
       "<!-- Generated by graphviz version 3.0.0 (20220226.1711)\n",
       " -->\n",
       "<!-- Pages: 1 -->\n",
       "<svg width=\"288pt\" height=\"268pt\"\n",
       " viewBox=\"0.00 0.00 288.00 267.62\" xmlns=\"http://www.w3.org/2000/svg\" xmlns:xlink=\"http://www.w3.org/1999/xlink\">\n",
       "<g id=\"graph0\" class=\"graph\" transform=\"scale(0.734617 0.734617) rotate(0) translate(4 360.3)\">\n",
       "<polygon fill=\"white\" stroke=\"transparent\" points=\"-4,4 -4,-360.3 388.04,-360.3 388.04,4 -4,4\"/>\n",
       "<!-- output -->\n",
       "<g id=\"node1\" class=\"node\">\n",
       "<title>output</title>\n",
       "<ellipse fill=\"#ff0000\" fill-opacity=\"0.501961\" stroke=\"#ff0000\" stroke-opacity=\"0.501961\" cx=\"357.39\" cy=\"-182.85\" rx=\"26.8\" ry=\"26.8\"/>\n",
       "<text text-anchor=\"middle\" x=\"357.39\" y=\"-179.15\" font-family=\"Times,serif\" font-size=\"14.00\">0.12</text>\n",
       "<text text-anchor=\"middle\" x=\"323.25\" y=\"-213.3\" font-family=\"Times,serif\" font-size=\"14.00\">aL</text>\n",
       "</g>\n",
       "<!-- a2_0 -->\n",
       "<g id=\"node2\" class=\"node\">\n",
       "<title>a2_0</title>\n",
       "<ellipse fill=\"#0000ff\" fill-opacity=\"0.501961\" stroke=\"#0000ff\" stroke-opacity=\"0.501961\" cx=\"197.65\" cy=\"-242.65\" rx=\"26.8\" ry=\"26.8\"/>\n",
       "<text text-anchor=\"middle\" x=\"197.65\" y=\"-238.95\" font-family=\"Times,serif\" font-size=\"14.00\">0.04</text>\n",
       "<text text-anchor=\"middle\" x=\"157.5\" y=\"-273.1\" font-family=\"Times,serif\" font-size=\"14.00\">a2_0</text>\n",
       "</g>\n",
       "<!-- a2_0&#45;&gt;output -->\n",
       "<g id=\"edge1\" class=\"edge\">\n",
       "<title>a2_0&#45;&gt;output</title>\n",
       "<path fill=\"none\" stroke=\"#424242\" stroke-opacity=\"0.501961\" d=\"M222.61,-233.3C249.49,-223.24 292.46,-207.15 322.64,-195.86\"/>\n",
       "<polygon fill=\"#424242\" fill-opacity=\"0.501961\" stroke=\"#424242\" stroke-opacity=\"0.501961\" points=\"324.21,-199.01 332.35,-192.22 321.75,-192.45 324.21,-199.01\"/>\n",
       "<text text-anchor=\"middle\" x=\"258.13\" y=\"-218.38\" font-family=\"Times,serif\" font-size=\"14.00\">&#45;0.34</text>\n",
       "<text text-anchor=\"middle\" x=\"257.13\" y=\"-203.38\" font-family=\"Times,serif\" font-size=\"14.00\">w2_0</text>\n",
       "</g>\n",
       "<!-- a2_1 -->\n",
       "<g id=\"node3\" class=\"node\">\n",
       "<title>a2_1</title>\n",
       "<ellipse fill=\"#0000ff\" fill-opacity=\"0.501961\" stroke=\"#0000ff\" stroke-opacity=\"0.501961\" cx=\"197.65\" cy=\"-170.65\" rx=\"26.8\" ry=\"26.8\"/>\n",
       "<text text-anchor=\"middle\" x=\"197.65\" y=\"-166.95\" font-family=\"Times,serif\" font-size=\"14.00\">0.06</text>\n",
       "<text text-anchor=\"middle\" x=\"157.5\" y=\"-201.1\" font-family=\"Times,serif\" font-size=\"14.00\">a2_1</text>\n",
       "</g>\n",
       "<!-- a2_1&#45;&gt;output -->\n",
       "<g id=\"edge2\" class=\"edge\">\n",
       "<title>a2_1&#45;&gt;output</title>\n",
       "<path fill=\"none\" stroke=\"#424242\" stroke-opacity=\"0.501961\" d=\"M224.39,-172.69C250.65,-174.7 290.94,-177.77 320.29,-180.01\"/>\n",
       "<polygon fill=\"#424242\" fill-opacity=\"0.501961\" stroke=\"#424242\" stroke-opacity=\"0.501961\" points=\"320.33,-183.53 330.57,-180.8 320.86,-176.55 320.33,-183.53\"/>\n",
       "<text text-anchor=\"middle\" x=\"257.84\" y=\"-180.15\" font-family=\"Times,serif\" font-size=\"14.00\">&#45;0.44</text>\n",
       "<text text-anchor=\"middle\" x=\"256.84\" y=\"-165.15\" font-family=\"Times,serif\" font-size=\"14.00\">w2_1</text>\n",
       "</g>\n",
       "<!-- a2_2 -->\n",
       "<g id=\"node4\" class=\"node\">\n",
       "<title>a2_2</title>\n",
       "<ellipse fill=\"#0000ff\" fill-opacity=\"0.501961\" stroke=\"#0000ff\" stroke-opacity=\"0.501961\" cx=\"197.65\" cy=\"-98.65\" rx=\"26.8\" ry=\"26.8\"/>\n",
       "<text text-anchor=\"middle\" x=\"197.65\" y=\"-94.95\" font-family=\"Times,serif\" font-size=\"14.00\">0.09</text>\n",
       "<text text-anchor=\"middle\" x=\"157.5\" y=\"-129.1\" font-family=\"Times,serif\" font-size=\"14.00\">a2_2</text>\n",
       "</g>\n",
       "<!-- a2_2&#45;&gt;output -->\n",
       "<g id=\"edge3\" class=\"edge\">\n",
       "<title>a2_2&#45;&gt;output</title>\n",
       "<path fill=\"none\" stroke=\"#424242\" stroke-opacity=\"0.501961\" d=\"M221.56,-111.25C248.93,-125.68 293.92,-149.39 324.56,-165.54\"/>\n",
       "<polygon fill=\"#424242\" fill-opacity=\"0.501961\" stroke=\"#424242\" stroke-opacity=\"0.501961\" points=\"323.1,-168.73 333.58,-170.29 326.36,-162.54 323.1,-168.73\"/>\n",
       "<text text-anchor=\"middle\" x=\"260.56\" y=\"-142.2\" font-family=\"Times,serif\" font-size=\"14.00\">0.37</text>\n",
       "<text text-anchor=\"middle\" x=\"257.56\" y=\"-127.2\" font-family=\"Times,serif\" font-size=\"14.00\">w2_2</text>\n",
       "</g>\n",
       "<!-- a1_0 -->\n",
       "<g id=\"node5\" class=\"node\">\n",
       "<title>a1_0</title>\n",
       "<ellipse fill=\"#0000ff\" fill-opacity=\"0.501961\" stroke=\"#0000ff\" stroke-opacity=\"0.501961\" cx=\"53.65\" cy=\"-314.65\" rx=\"26.8\" ry=\"26.8\"/>\n",
       "<text text-anchor=\"middle\" x=\"53.65\" y=\"-310.95\" font-family=\"Times,serif\" font-size=\"14.00\">0.37</text>\n",
       "<text text-anchor=\"middle\" x=\"13.5\" y=\"-345.1\" font-family=\"Times,serif\" font-size=\"14.00\">a1_0</text>\n",
       "</g>\n",
       "<!-- a1_0&#45;&gt;a2_0 -->\n",
       "<g id=\"edge4\" class=\"edge\">\n",
       "<title>a1_0&#45;&gt;a2_0</title>\n",
       "<path fill=\"none\" stroke=\"#062635\" stroke-opacity=\"0.501961\" d=\"M77.75,-302.6C101.42,-290.76 137.74,-272.6 164.2,-259.37\"/>\n",
       "<polygon fill=\"#062635\" fill-opacity=\"0.501961\" stroke=\"#062635\" stroke-opacity=\"0.501961\" points=\"166.09,-262.34 173.47,-254.74 162.96,-256.08 166.09,-262.34\"/>\n",
       "</g>\n",
       "<!-- a1_0&#45;&gt;a2_1 -->\n",
       "<g id=\"edge5\" class=\"edge\">\n",
       "<title>a1_0&#45;&gt;a2_1</title>\n",
       "<path fill=\"none\" stroke=\"#062635\" stroke-opacity=\"0.501961\" d=\"M72.77,-295.53C98.05,-270.24 142.72,-225.57 171.22,-197.08\"/>\n",
       "<polygon fill=\"#062635\" fill-opacity=\"0.501961\" stroke=\"#062635\" stroke-opacity=\"0.501961\" points=\"173.85,-199.39 178.45,-189.85 168.9,-194.45 173.85,-199.39\"/>\n",
       "</g>\n",
       "<!-- a1_0&#45;&gt;a2_2 -->\n",
       "<g id=\"edge6\" class=\"edge\">\n",
       "<title>a1_0&#45;&gt;a2_2</title>\n",
       "<path fill=\"none\" stroke=\"#062635\" stroke-opacity=\"0.501961\" d=\"M68.52,-292.35C94.4,-253.52 147.77,-173.46 177.15,-129.4\"/>\n",
       "<polygon fill=\"#062635\" fill-opacity=\"0.501961\" stroke=\"#062635\" stroke-opacity=\"0.501961\" points=\"180.23,-131.09 182.86,-120.83 174.4,-127.21 180.23,-131.09\"/>\n",
       "</g>\n",
       "<!-- a1_1 -->\n",
       "<g id=\"node6\" class=\"node\">\n",
       "<title>a1_1</title>\n",
       "<ellipse fill=\"#0000ff\" fill-opacity=\"0.501961\" stroke=\"#0000ff\" stroke-opacity=\"0.501961\" cx=\"53.65\" cy=\"-242.65\" rx=\"26.8\" ry=\"26.8\"/>\n",
       "<text text-anchor=\"middle\" x=\"53.65\" y=\"-238.95\" font-family=\"Times,serif\" font-size=\"14.00\">0.95</text>\n",
       "<text text-anchor=\"middle\" x=\"13.5\" y=\"-273.1\" font-family=\"Times,serif\" font-size=\"14.00\">a1_1</text>\n",
       "</g>\n",
       "<!-- a1_1&#45;&gt;a2_0 -->\n",
       "<g id=\"edge7\" class=\"edge\">\n",
       "<title>a1_1&#45;&gt;a2_0</title>\n",
       "<path fill=\"none\" stroke=\"#55b748\" stroke-opacity=\"0.501961\" d=\"M80.4,-242.65C102.88,-242.65 135.28,-242.65 160.32,-242.65\"/>\n",
       "<polygon fill=\"#55b748\" fill-opacity=\"0.501961\" stroke=\"#55b748\" stroke-opacity=\"0.501961\" points=\"160.55,-246.15 170.55,-242.65 160.55,-239.15 160.55,-246.15\"/>\n",
       "</g>\n",
       "<!-- a1_1&#45;&gt;a2_1 -->\n",
       "<g id=\"edge8\" class=\"edge\">\n",
       "<title>a1_1&#45;&gt;a2_1</title>\n",
       "<path fill=\"none\" stroke=\"#55b748\" stroke-opacity=\"0.501961\" d=\"M77.75,-230.6C101.42,-218.76 137.74,-200.6 164.2,-187.37\"/>\n",
       "<polygon fill=\"#55b748\" fill-opacity=\"0.501961\" stroke=\"#55b748\" stroke-opacity=\"0.501961\" points=\"166.09,-190.34 173.47,-182.74 162.96,-184.08 166.09,-190.34\"/>\n",
       "</g>\n",
       "<!-- a1_1&#45;&gt;a2_2 -->\n",
       "<g id=\"edge9\" class=\"edge\">\n",
       "<title>a1_1&#45;&gt;a2_2</title>\n",
       "<path fill=\"none\" stroke=\"#55b748\" stroke-opacity=\"0.501961\" d=\"M72.77,-223.53C98.05,-198.24 142.72,-153.57 171.22,-125.08\"/>\n",
       "<polygon fill=\"#55b748\" fill-opacity=\"0.501961\" stroke=\"#55b748\" stroke-opacity=\"0.501961\" points=\"173.85,-127.39 178.45,-117.85 168.9,-122.45 173.85,-127.39\"/>\n",
       "</g>\n",
       "<!-- a1_2 -->\n",
       "<g id=\"node7\" class=\"node\">\n",
       "<title>a1_2</title>\n",
       "<ellipse fill=\"#0000ff\" fill-opacity=\"0.501961\" stroke=\"#0000ff\" stroke-opacity=\"0.501961\" cx=\"53.65\" cy=\"-170.65\" rx=\"26.8\" ry=\"26.8\"/>\n",
       "<text text-anchor=\"middle\" x=\"53.65\" y=\"-166.95\" font-family=\"Times,serif\" font-size=\"14.00\">0.73</text>\n",
       "<text text-anchor=\"middle\" x=\"13.5\" y=\"-201.1\" font-family=\"Times,serif\" font-size=\"14.00\">a1_2</text>\n",
       "</g>\n",
       "<!-- a1_2&#45;&gt;a2_0 -->\n",
       "<g id=\"edge10\" class=\"edge\">\n",
       "<title>a1_2&#45;&gt;a2_0</title>\n",
       "<path fill=\"none\" stroke=\"#761548\" stroke-opacity=\"0.501961\" d=\"M77.75,-182.7C101.42,-194.54 137.74,-212.7 164.2,-225.93\"/>\n",
       "<polygon fill=\"#761548\" fill-opacity=\"0.501961\" stroke=\"#761548\" stroke-opacity=\"0.501961\" points=\"162.96,-229.22 173.47,-230.56 166.09,-222.95 162.96,-229.22\"/>\n",
       "</g>\n",
       "<!-- a1_2&#45;&gt;a2_1 -->\n",
       "<g id=\"edge11\" class=\"edge\">\n",
       "<title>a1_2&#45;&gt;a2_1</title>\n",
       "<path fill=\"none\" stroke=\"#761548\" stroke-opacity=\"0.501961\" d=\"M80.4,-170.65C102.88,-170.65 135.28,-170.65 160.32,-170.65\"/>\n",
       "<polygon fill=\"#761548\" fill-opacity=\"0.501961\" stroke=\"#761548\" stroke-opacity=\"0.501961\" points=\"160.55,-174.15 170.55,-170.65 160.55,-167.15 160.55,-174.15\"/>\n",
       "</g>\n",
       "<!-- a1_2&#45;&gt;a2_2 -->\n",
       "<g id=\"edge12\" class=\"edge\">\n",
       "<title>a1_2&#45;&gt;a2_2</title>\n",
       "<path fill=\"none\" stroke=\"#761548\" stroke-opacity=\"0.501961\" d=\"M77.75,-158.6C101.42,-146.76 137.74,-128.6 164.2,-115.37\"/>\n",
       "<polygon fill=\"#761548\" fill-opacity=\"0.501961\" stroke=\"#761548\" stroke-opacity=\"0.501961\" points=\"166.09,-118.34 173.47,-110.74 162.96,-112.08 166.09,-118.34\"/>\n",
       "</g>\n",
       "<!-- a1_3 -->\n",
       "<g id=\"node8\" class=\"node\">\n",
       "<title>a1_3</title>\n",
       "<ellipse fill=\"#0000ff\" fill-opacity=\"0.501961\" stroke=\"#0000ff\" stroke-opacity=\"0.501961\" cx=\"53.65\" cy=\"-98.65\" rx=\"22.2\" ry=\"22.2\"/>\n",
       "<text text-anchor=\"middle\" x=\"53.65\" y=\"-94.95\" font-family=\"Times,serif\" font-size=\"14.00\">0.6</text>\n",
       "<text text-anchor=\"middle\" x=\"18.05\" y=\"-124.55\" font-family=\"Times,serif\" font-size=\"14.00\">a1_3</text>\n",
       "</g>\n",
       "<!-- a1_3&#45;&gt;a2_0 -->\n",
       "<g id=\"edge13\" class=\"edge\">\n",
       "<title>a1_3&#45;&gt;a2_0</title>\n",
       "<path fill=\"none\" stroke=\"#1696d2\" stroke-opacity=\"0.501961\" d=\"M69.33,-114.33C93.93,-138.93 141.83,-186.83 171.64,-216.64\"/>\n",
       "<polygon fill=\"#1696d2\" fill-opacity=\"0.501961\" stroke=\"#1696d2\" stroke-opacity=\"0.501961\" points=\"169.26,-219.21 178.8,-223.8 174.21,-214.26 169.26,-219.21\"/>\n",
       "</g>\n",
       "<!-- a1_3&#45;&gt;a2_1 -->\n",
       "<g id=\"edge14\" class=\"edge\">\n",
       "<title>a1_3&#45;&gt;a2_1</title>\n",
       "<path fill=\"none\" stroke=\"#1696d2\" stroke-opacity=\"0.501961\" d=\"M73.67,-108.66C97.14,-120.39 136.38,-140.01 164.43,-154.04\"/>\n",
       "<polygon fill=\"#1696d2\" fill-opacity=\"0.501961\" stroke=\"#1696d2\" stroke-opacity=\"0.501961\" points=\"162.96,-157.22 173.47,-158.56 166.1,-150.96 162.96,-157.22\"/>\n",
       "</g>\n",
       "<!-- a1_3&#45;&gt;a2_2 -->\n",
       "<g id=\"edge15\" class=\"edge\">\n",
       "<title>a1_3&#45;&gt;a2_2</title>\n",
       "<path fill=\"none\" stroke=\"#1696d2\" stroke-opacity=\"0.501961\" d=\"M75.83,-98.65C98.4,-98.65 133.77,-98.65 160.59,-98.65\"/>\n",
       "<polygon fill=\"#1696d2\" fill-opacity=\"0.501961\" stroke=\"#1696d2\" stroke-opacity=\"0.501961\" points=\"160.78,-102.15 170.78,-98.65 160.78,-95.15 160.78,-102.15\"/>\n",
       "</g>\n",
       "<!-- a1_4 -->\n",
       "<g id=\"node9\" class=\"node\">\n",
       "<title>a1_4</title>\n",
       "<ellipse fill=\"#0000ff\" fill-opacity=\"0.501961\" stroke=\"#0000ff\" stroke-opacity=\"0.501961\" cx=\"53.65\" cy=\"-26.65\" rx=\"26.8\" ry=\"26.8\"/>\n",
       "<text text-anchor=\"middle\" x=\"53.65\" y=\"-22.95\" font-family=\"Times,serif\" font-size=\"14.00\">0.16</text>\n",
       "<text text-anchor=\"middle\" x=\"13.5\" y=\"-57.1\" font-family=\"Times,serif\" font-size=\"14.00\">a1_4</text>\n",
       "</g>\n",
       "<!-- a1_4&#45;&gt;a2_0 -->\n",
       "<g id=\"edge16\" class=\"edge\">\n",
       "<title>a1_4&#45;&gt;a2_0</title>\n",
       "<path fill=\"none\" stroke=\"#e88e2d\" stroke-opacity=\"0.501961\" d=\"M68.52,-48.95C94.4,-87.77 147.77,-167.83 177.15,-211.9\"/>\n",
       "<polygon fill=\"#e88e2d\" fill-opacity=\"0.501961\" stroke=\"#e88e2d\" stroke-opacity=\"0.501961\" points=\"174.4,-214.09 182.86,-220.47 180.23,-210.2 174.4,-214.09\"/>\n",
       "</g>\n",
       "<!-- a1_4&#45;&gt;a2_1 -->\n",
       "<g id=\"edge17\" class=\"edge\">\n",
       "<title>a1_4&#45;&gt;a2_1</title>\n",
       "<path fill=\"none\" stroke=\"#e88e2d\" stroke-opacity=\"0.501961\" d=\"M72.77,-45.77C98.05,-71.05 142.72,-115.72 171.22,-144.22\"/>\n",
       "<polygon fill=\"#e88e2d\" fill-opacity=\"0.501961\" stroke=\"#e88e2d\" stroke-opacity=\"0.501961\" points=\"168.9,-146.85 178.45,-151.45 173.85,-141.9 168.9,-146.85\"/>\n",
       "</g>\n",
       "<!-- a1_4&#45;&gt;a2_2 -->\n",
       "<g id=\"edge18\" class=\"edge\">\n",
       "<title>a1_4&#45;&gt;a2_2</title>\n",
       "<path fill=\"none\" stroke=\"#e88e2d\" stroke-opacity=\"0.501961\" d=\"M77.75,-38.7C101.42,-50.54 137.74,-68.7 164.2,-81.93\"/>\n",
       "<polygon fill=\"#e88e2d\" fill-opacity=\"0.501961\" stroke=\"#e88e2d\" stroke-opacity=\"0.501961\" points=\"162.96,-85.22 173.47,-86.56 166.09,-78.95 162.96,-85.22\"/>\n",
       "</g>\n",
       "</g>\n",
       "</svg>\n"
      ],
      "text/plain": [
       "<graphviz.graphs.Digraph at 0x7fb325ed4d90>"
      ]
     },
     "execution_count": 21,
     "metadata": {},
     "output_type": "execute_result"
    }
   ],
   "source": [
    "graph = Digraph(engine='neato')\n",
    "graph.attr(size='4')\n",
    "\n",
    "# create color gradient for weigths\n",
    "color_gradient = ['#06263580', '#55b74880', '#76154880', '#1696d280', '#e88e2d80', '#0a4c6a80']\n",
    "\n",
    "# Add output node\n",
    "graph.node('output', str(output_layer[0].round(2)), xlabel='aL', color='#ff000080', style='filled', shape='circle', pos='20,-1')\n",
    "# Add second layer nodes\n",
    "for index, value in enumerate(second_layer):\n",
    "    current_node = 'a2_' + str(index)\n",
    "    current_weight = 'w2_' + str(index)\n",
    "    graph.node(name=current_node, \n",
    "               label=str(value.round(2)),\n",
    "               xlabel=current_node,\n",
    "               color='#0000ff80', style='filled', shape='circle', pos=f'2,{-index-1}!')\n",
    "    graph.edge(current_node, 'output',\n",
    "               label=str(weights[index].round(2)),\n",
    "               xlabel=current_weight,\n",
    "               color='#42424280',)\n",
    "    \n",
    "# Add node for each input and it respective weight\n",
    "for index_i, value in enumerate(input_layer):\n",
    "    current_node = 'a1_' + str(index_i)\n",
    "    current_weight = 'w1_' + str(index_i)\n",
    "    graph.node(name=current_node, \n",
    "               label=str(value.round(2)),\n",
    "               xlabel=current_node,\n",
    "               color='#0000ff80', style='filled', shape='circle', pos=f'0,{-index_i}!')\n",
    "    for index_j, value in enumerate(second_layer):\n",
    "        child_node = 'a2_' + str(index_j)\n",
    "        graph.edge(current_node, child_node,\n",
    "                   #label=str(weights[index].round(2)),\n",
    "                   #xlabel=current_weight,\n",
    "                   color=color_gradient[index_i],)\n",
    "\n",
    "print('Neural network representation with multiple neuron')\n",
    "print('Neurons from input layer: ', input_layer)\n",
    "print('Weights from input layer: ', input_layer_weights)\n",
    "print('Neurons from second layer: ', second_layer)\n",
    "print('Weights from second layer: ', second_layer_weights)\n",
    "print('Neurons from output layer: ', output_layer)\n",
    "graph"
   ]
  },
  {
   "cell_type": "markdown",
   "id": "0ecf6c31",
   "metadata": {},
   "source": [
    "## Network Functions"
   ]
  },
  {
   "cell_type": "markdown",
   "id": "fdda2086",
   "metadata": {
    "heading_collapsed": true
   },
   "source": [
    "###  Activation Functions"
   ]
  },
  {
   "cell_type": "code",
   "execution_count": 22,
   "id": "e0f022d7",
   "metadata": {
    "ExecuteTime": {
     "end_time": "2022-06-09T01:46:10.788028Z",
     "start_time": "2022-06-09T01:46:10.493145Z"
    },
    "hidden": true
   },
   "outputs": [
    {
     "data": {
      "image/png": "[encoded data removed]",
      "text/plain": [
       "<Figure size 360x360 with 1 Axes>"
      ]
     },
     "metadata": {},
     "output_type": "display_data"
    }
   ],
   "source": [
    "def ReLU(x:np.ndarray) -> np.ndarray:\n",
    "    '''\n",
    "    Linear function for ReLU(x)  \n",
    "    Compute element-wise maximum of array elements.  \n",
    "    '''\n",
    "    return np.maximum(x, 0)\n",
    "\n",
    "def ReLU_derivative(x:np.ndarray) -> np.ndarray:\n",
    "    ''' Return True if x > 0, False if x < 0 '''\n",
    "    return x > 0\n",
    "\n",
    "plot_ReLU_function()"
   ]
  },
  {
   "cell_type": "markdown",
   "id": "5d168572",
   "metadata": {
    "hidden": true
   },
   "source": [
    "Softmax function:  \n",
    "  \n",
    "<p style='font-size:1.75em'>$\\frac{e^{z_i}}{\\sum_{j=1}^{K} e^{z_j}}$</p>  \n",
    "  \n",
    "Output layer → Softmax activation function → Probabilities vector"
   ]
  },
  {
   "cell_type": "code",
   "execution_count": 23,
   "id": "401a15ea",
   "metadata": {
    "ExecuteTime": {
     "end_time": "2022-06-09T01:46:10.797175Z",
     "start_time": "2022-06-09T01:46:10.791441Z"
    },
    "hidden": true
   },
   "outputs": [],
   "source": [
    "def softmax(x):\n",
    "    exp = expit(x - np.max(x))\n",
    "    return exp / exp.sum(axis=0)"
   ]
  },
  {
   "cell_type": "markdown",
   "id": "ceada510",
   "metadata": {
    "heading_collapsed": true
   },
   "source": [
    "### Cost Functions"
   ]
  },
  {
   "cell_type": "markdown",
   "id": "a65260cf",
   "metadata": {
    "hidden": true
   },
   "source": [
    "<font size=6>$MSE = \\frac{\\sum_{n}^{i=0}(y - y')^2} {n}$</font>"
   ]
  },
  {
   "cell_type": "code",
   "execution_count": 24,
   "id": "f90e6728",
   "metadata": {
    "ExecuteTime": {
     "end_time": "2022-06-09T01:46:10.807883Z",
     "start_time": "2022-06-09T01:46:10.801608Z"
    },
    "hidden": true
   },
   "outputs": [],
   "source": [
    "def mean_squared_error(y_pred, y_true):\n",
    "    return 1 / len(y_pred) * np.sum((y_pred - y_true)**2)"
   ]
  },
  {
   "cell_type": "markdown",
   "id": "9b13c782",
   "metadata": {
    "heading_collapsed": true
   },
   "source": [
    "### Init Weights/Biases"
   ]
  },
  {
   "cell_type": "code",
   "execution_count": 25,
   "id": "a019f21d",
   "metadata": {
    "ExecuteTime": {
     "end_time": "2022-06-09T01:46:10.828533Z",
     "start_time": "2022-06-09T01:46:10.813965Z"
    },
    "hidden": true
   },
   "outputs": [],
   "source": [
    "def init_grid(grid_size:list, unbiased=True):\n",
    "    '''\n",
    "    layer_size: each element of the list corresponds to the number of neurons in that layer,\n",
    "    index 0 = input layer; index -1 = output layer.\n",
    "    '''\n",
    "    if len(grid_size) < 3:\n",
    "        raise 'Grid must have at least one hidden layer.'\n",
    "    \n",
    "    weights_list, biases_list = [], []\n",
    "    for index, layer_size in enumerate(grid_size[:-1]):\n",
    "        # Random values between -0.5 and 0.5\n",
    "        weights_list.append(np.random.uniform(-0.5, 0.5, size=[grid_size[index+1], layer_size]) )\n",
    "        if unbiased:\n",
    "            # Start with unbiased network\n",
    "            biases_list.append(np.zeros([grid_size[index+1], 1]) )\n",
    "        else:\n",
    "            # Start with random bias\n",
    "            #biases_list.append(np.random.randint(1, 5, size=grid_size[index+1]).reshape(-1,1) )\n",
    "            biases_list.append(np.random.rand(grid_size[index+1], 1))\n",
    "    \n",
    "    return weights_list, biases_list"
   ]
  },
  {
   "cell_type": "markdown",
   "id": "2d36bb79",
   "metadata": {
    "heading_collapsed": true
   },
   "source": [
    "### One Hot Encoding"
   ]
  },
  {
   "cell_type": "code",
   "execution_count": 26,
   "id": "6daeca14",
   "metadata": {
    "ExecuteTime": {
     "end_time": "2022-06-09T01:46:10.847446Z",
     "start_time": "2022-06-09T01:46:10.840863Z"
    },
    "hidden": true
   },
   "outputs": [],
   "source": [
    "def one_hot_encoding(y:np.ndarray) -> np.ndarray:\n",
    "    n_labels = len(np.unique(y))           # Get number of labels\n",
    "    encode = np.zeros((y.size, n_labels))  # Create matrix with zeros, arrays of n_labels size\n",
    "    encode[np.arange(y.size), y] = 1       # Apply one hot encoding. [i,j]; i: n observations range; j: label value corresponds to onehot index\n",
    "    return encode\n",
    "\n",
    "def single_one_hot_enc(y:int):\n",
    "    encode = np.zeros((1, 10))\n",
    "    encode[np.arange(1), y] = 1\n",
    "    return encode.T"
   ]
  },
  {
   "cell_type": "markdown",
   "id": "12d8d082",
   "metadata": {
    "heading_collapsed": true
   },
   "source": [
    "### Foward Propagation"
   ]
  },
  {
   "cell_type": "code",
   "execution_count": 27,
   "id": "33561852",
   "metadata": {
    "ExecuteTime": {
     "end_time": "2022-06-09T01:46:10.865903Z",
     "start_time": "2022-06-09T01:46:10.850535Z"
    },
    "hidden": true
   },
   "outputs": [],
   "source": [
    "def foward_propagation(X:np.ndarray, y_true:np.ndarray, weights:list, biases:list, \n",
    "                       act_func:any, loss:any, acc=0, verbose=False) -> np.ndarray:\n",
    "    '''\n",
    "    X : Features to be trained  \n",
    "    weights: list of weights, shape[i,j], where i = number of nodes, j = number of connections  \n",
    "    biases: list of biases, shape[i], where i = number of nodes  \n",
    "    act_func: activation function used in hidden layers  \n",
    "    loss: function used to calculate the ouput cost/error  \n",
    "    '''\n",
    "    n_layers = len(weights)\n",
    "    layer_grid = {}\n",
    "    layer_grid['L0'] = X\n",
    "    # Iterate over input and hidden layers\n",
    "    for layer_index in range(n_layers):\n",
    "        previous_index = 'L' + str(layer_index)\n",
    "        current_index = 'L' + str(layer_index+1)\n",
    "        if verbose:\n",
    "            print(f'Creating {f\"Hidden layer L{layer_index+1}\" if layer_index !=n_layers-1 else f\"Output layer L{n_layers}\"}',\n",
    "                  f'size = {weights[layer_index].shape[0]}',\n",
    "                  f'L{layer_index} shape: {layer_grid[previous_index].shape}',\n",
    "                  f'L{layer_index+1} Weights shape: {weights[layer_index].shape}', \n",
    "                  f'L{layer_index+1} Bias shape: {biases[layer_index].shape}',\n",
    "                  '='*50,sep='\\n')\n",
    "        # Compute the actiation function for each neuron in the next layer\n",
    "        layer_grid[current_index] = act_func(weights[layer_index].dot(layer_grid[previous_index]) + biases[layer_index])\n",
    "    output_layer = layer_grid[current_index]\n",
    "    \n",
    "    # Calculate the Cost\n",
    "    error = loss(output_layer, y_true)\n",
    "    # Make prediction\n",
    "    acc += int(np.argmax(output_layer) == np.argmax(y_true))\n",
    "    if verbose:\n",
    "        print(f'Predicted label = {np.argmax(output_layer)}, True label = {np.argmax(y_true)}')\n",
    "    return acc, layer_grid"
   ]
  },
  {
   "cell_type": "code",
   "execution_count": 28,
   "id": "76733ff9",
   "metadata": {
    "ExecuteTime": {
     "end_time": "2022-06-09T01:46:10.890113Z",
     "start_time": "2022-06-09T01:46:10.871305Z"
    },
    "hidden": true
   },
   "outputs": [
    {
     "name": "stdout",
     "output_type": "stream",
     "text": [
      "Creating Hidden layer L1\n",
      "size = 3\n",
      "L0 shape: (784, 1)\n",
      "L1 Weights shape: (3, 784)\n",
      "L1 Bias shape: (3, 1)\n",
      "==================================================\n",
      "Creating Hidden layer L2\n",
      "size = 2\n",
      "L1 shape: (3, 1)\n",
      "L2 Weights shape: (2, 3)\n",
      "L2 Bias shape: (2, 1)\n",
      "==================================================\n",
      "Creating Output layer L3\n",
      "size = 10\n",
      "L2 shape: (2, 1)\n",
      "L3 Weights shape: (10, 2)\n",
      "L3 Bias shape: (10, 1)\n",
      "==================================================\n",
      "Predicted label = 9, True label = 9\n"
     ]
    },
    {
     "name": "stderr",
     "output_type": "stream",
     "text": [
      "/var/folders/_m/3m0bcc4n6h73gny0bt6_g4x80000gn/T/ipykernel_19034/1062660224.py:1: RuntimeWarning: overflow encountered in exp\n",
      "  sigmoid = lambda x: 1 / (1 + np.exp(-x))\n"
     ]
    }
   ],
   "source": [
    "# Build sample NN and test Foward Propagation\n",
    "sample = np.random.randint(0,1000)                     # Select a random index\n",
    "X_ = np.array(train_df.iloc[sample,1:]).reshape(-1,1)  # Select sample features (pixels)\n",
    "y_ = single_one_hot_enc(train_df.iloc[sample,0])       # Select sample labels processed with onehot encoding\n",
    "layer_shape = [X_.shape[0], 3, 2, y_.shape[0]]         # Define layers shape\n",
    "weights, biases = init_grid(layer_shape, False)        # Init random weights and biases based on grid values\n",
    "_, layer_grid = foward_propagation(                    # Apply one step of foward_propagation\n",
    "    X_, y_, weights, biases, sigmoid, mean_squared_error, verbose=True)"
   ]
  },
  {
   "cell_type": "markdown",
   "id": "9389de63",
   "metadata": {
    "heading_collapsed": true
   },
   "source": [
    "### Back Propagation"
   ]
  },
  {
   "cell_type": "markdown",
   "id": "4fa1da21",
   "metadata": {
    "hidden": true
   },
   "source": [
    "Sigmoid derivative  \n",
    "$\\sigma(x) (1 - \\sigma(x))$\n"
   ]
  },
  {
   "cell_type": "code",
   "execution_count": 29,
   "id": "fbb3c15b",
   "metadata": {
    "ExecuteTime": {
     "end_time": "2022-06-09T01:46:10.900965Z",
     "start_time": "2022-06-09T01:46:10.893462Z"
    },
    "hidden": true
   },
   "outputs": [],
   "source": [
    "sigmoid_derivative = lambda x : x * (1 - x)"
   ]
  },
  {
   "cell_type": "code",
   "execution_count": 30,
   "id": "847e1cf3",
   "metadata": {
    "ExecuteTime": {
     "end_time": "2022-06-09T01:46:10.926848Z",
     "start_time": "2022-06-09T01:46:10.911315Z"
    },
    "hidden": true
   },
   "outputs": [],
   "source": [
    "def back_propagation(layer_grid, weights, biases, y_true, lr=0.01):\n",
    "    layer_size = len(weights)\n",
    "    # Output Layer to Hidden Layer\n",
    "    current_layer = 'L' + str(layer_size)    # Ln = Output layer\n",
    "    next_layer = 'L' + str(layer_size-1)     # Ln-1 = Last hidden layer\n",
    "    delta_prev = layer_grid[current_layer] - y_true\n",
    "    # Update weights/biases with learning rate\n",
    "    weights[-1] += -lr * delta_prev @ layer_grid[next_layer].T \n",
    "    biases[-1] = biases[-1] + (-lr * delta_prev)\n",
    "    # Addition Hidden Layers to Input Layer\n",
    "    for i in range(len(weights)-1, 0, -1):\n",
    "        current_layer = 'L' + str(i)\n",
    "        next_layer = 'L' + str(i-1)\n",
    "        delta_i = weights[i].T @ delta_prev * sigmoid_derivative(layer_grid[current_layer])\n",
    "        weights[i-1] = weights[i-1] + (-lr * delta_i @ layer_grid[next_layer].T)\n",
    "        biases[i-1] = biases[i-1] + (-lr * delta_i)\n",
    "        delta_prev = delta_i\n",
    "    \n",
    "    return weights, biases\n",
    "    "
   ]
  },
  {
   "cell_type": "code",
   "execution_count": 31,
   "id": "91ffbe7b",
   "metadata": {
    "ExecuteTime": {
     "end_time": "2022-06-09T01:46:10.957359Z",
     "start_time": "2022-06-09T01:46:10.930210Z"
    },
    "hidden": true
   },
   "outputs": [
    {
     "name": "stdout",
     "output_type": "stream",
     "text": [
      "Creating Hidden layer L1\n",
      "size = 16\n",
      "L0 shape: (784, 1)\n",
      "L1 Weights shape: (16, 784)\n",
      "L1 Bias shape: (16, 1)\n",
      "==================================================\n",
      "Creating Hidden layer L2\n",
      "size = 8\n",
      "L1 shape: (16, 1)\n",
      "L2 Weights shape: (8, 16)\n",
      "L2 Bias shape: (8, 1)\n",
      "==================================================\n",
      "Creating Output layer L3\n",
      "size = 10\n",
      "L2 shape: (8, 1)\n",
      "L3 Weights shape: (10, 8)\n",
      "L3 Bias shape: (10, 1)\n",
      "==================================================\n",
      "Predicted label = 2, True label = 1\n"
     ]
    },
    {
     "name": "stderr",
     "output_type": "stream",
     "text": [
      "/var/folders/_m/3m0bcc4n6h73gny0bt6_g4x80000gn/T/ipykernel_19034/1062660224.py:1: RuntimeWarning: overflow encountered in exp\n",
      "  sigmoid = lambda x: 1 / (1 + np.exp(-x))\n"
     ]
    }
   ],
   "source": [
    "# Test Back propagation\n",
    "X_ = np.array(train_df.iloc[0,1:]).reshape(-1,1)              \n",
    "y_ = single_one_hot_enc(train_df.iloc[0,0])\n",
    "layer_size = [X_.shape[0], 16,8,  y_.shape[0]]\n",
    "weights, biases = init_grid(layer_size, unbiased=False)\n",
    "_, layer_grid = foward_propagation(X_, y_, weights, biases, sigmoid, mean_squared_error, verbose=True)\n",
    "weights, biases = back_propagation(layer_grid, weights, biases, y_, lr=0.01)"
   ]
  },
  {
   "cell_type": "markdown",
   "id": "c0fd8617",
   "metadata": {
    "heading_collapsed": true
   },
   "source": [
    "### Epoch example"
   ]
  },
  {
   "cell_type": "code",
   "execution_count": 40,
   "id": "a58199ab",
   "metadata": {
    "ExecuteTime": {
     "end_time": "2022-06-09T01:52:29.659492Z",
     "start_time": "2022-06-09T01:52:29.650420Z"
    },
    "hidden": true
   },
   "outputs": [],
   "source": [
    "def train_nn(X, y, hidden_layers:list, epochs=3, lr=0.01):\n",
    "    \n",
    "    n_samples = X.shape[0]\n",
    "    # Define network structure\n",
    "    layer_size = [X.shape[1]]\n",
    "    layer_size.extend(hidden_layers)\n",
    "    layer_size.extend([y.shape[1]])\n",
    "    # Init ranom weights/biases\n",
    "    weights, biases = init_grid(layer_size, unbiased=True)\n",
    "    # Train neural network\n",
    "    for epoch in range(epochs):\n",
    "        acc = 0\n",
    "        pbar = tqdm(range(n_samples), desc=f'Epoch {epoch+1} Acc=0 ')\n",
    "        for index in pbar:\n",
    "            _X = X[index].reshape(-1,1)\n",
    "            _y = y[index].reshape(-1,1)\n",
    "            # Foward Propagation\n",
    "            acc, layer_grid = foward_propagation(_X, _y, weights, biases, sigmoid, mean_squared_error, acc, verbose=False)\n",
    "            # Back Propagation\n",
    "            weights, biases = back_propagation(layer_grid, weights, biases, _y, lr)\n",
    "            pbar.set_description(f'Epoch {epoch+1} Acc={acc/n_samples*100:.2f} ')\n",
    "        pbar.close()\n",
    "\n",
    "    print(f'Accuracy = {acc/n_samples*100:.2f}%')\n",
    "    \n",
    "    return weights, biases"
   ]
  },
  {
   "cell_type": "code",
   "execution_count": 33,
   "id": "ca1e498c",
   "metadata": {
    "ExecuteTime": {
     "end_time": "2022-06-09T01:46:48.293673Z",
     "start_time": "2022-06-09T01:46:10.980207Z"
    },
    "hidden": true
   },
   "outputs": [
    {
     "data": {
      "application/vnd.jupyter.widget-view+json": {
       "model_id": "fe719cb7680b44348f2a90e25517ddb2",
       "version_major": 2,
       "version_minor": 0
      },
      "text/plain": [
       "Epoch 1 Acc=0 :   0%|          | 0/42000 [00:00<?, ?it/s]"
      ]
     },
     "metadata": {},
     "output_type": "display_data"
    },
    {
     "name": "stdout",
     "output_type": "stream",
     "text": [
      "Accuracy = 70.76%\n"
     ]
    }
   ],
   "source": [
    "# Load images/labels\n",
    "images = np.array(train_df.iloc[:,1:]) / 255\n",
    "labels = one_hot_encoding(train_df.iloc[:,0])\n",
    "# Run one epoch\n",
    "w, b = train_nn(images, labels, [16, 16], epochs=1)"
   ]
  },
  {
   "cell_type": "markdown",
   "id": "607df586",
   "metadata": {
    "heading_collapsed": true
   },
   "source": [
    "## Make Predictions"
   ]
  },
  {
   "cell_type": "code",
   "execution_count": 34,
   "id": "cc9008f6",
   "metadata": {
    "ExecuteTime": {
     "end_time": "2022-06-09T01:46:48.309642Z",
     "start_time": "2022-06-09T01:46:48.297560Z"
    },
    "hidden": true
   },
   "outputs": [],
   "source": [
    "def nn_predict(X:np.ndarray, y:np.ndarray, weights:list, biases:list, act_func=None) -> np.ndarray:\n",
    "    n_samples = X.shape[0]\n",
    "    n_layers = len(weights)\n",
    "    y_pred = []\n",
    "    acc = 0\n",
    "    if not act_func:\n",
    "        act_func = sigmoid\n",
    "    \n",
    "    # Iterate over samples\n",
    "    pbar = tqdm(range(n_samples), desc='Making predictions')\n",
    "    for index in pbar:\n",
    "        _X = X[index].reshape(-1,1)\n",
    "        _y = y[index].reshape(-1,1)\n",
    "        \n",
    "        previous_layer = _X\n",
    "        for layer_index in range(n_layers):\n",
    "            output_layer = act_func(weights[layer_index].dot(previous_layer) + biases[layer_index])\n",
    "            previous_layer = output_layer\n",
    "        # Make prediction\n",
    "        y_pred.append(output_layer)\n",
    "        acc += int(np.argmax(output_layer) == np.argmax(_y))\n",
    "    pbar.close()\n",
    "    score = acc/n_samples*100\n",
    "    print(f'Accuracy = {score:.2f}%')\n",
    "    return y_pred, score"
   ]
  },
  {
   "cell_type": "code",
   "execution_count": 35,
   "id": "5d89ee99",
   "metadata": {
    "ExecuteTime": {
     "end_time": "2022-06-09T01:46:51.506750Z",
     "start_time": "2022-06-09T01:46:48.313394Z"
    },
    "hidden": true
   },
   "outputs": [
    {
     "data": {
      "application/vnd.jupyter.widget-view+json": {
       "model_id": "6df459952fc6427e96ddb0fb3fa32a89",
       "version_major": 2,
       "version_minor": 0
      },
      "text/plain": [
       "Making predictions:   0%|          | 0/42000 [00:00<?, ?it/s]"
      ]
     },
     "metadata": {},
     "output_type": "display_data"
    },
    {
     "name": "stdout",
     "output_type": "stream",
     "text": [
      "Accuracy = 88.86%\n"
     ]
    }
   ],
   "source": [
    "y_pred, acc_score = nn_predict(images, labels, w, b)"
   ]
  },
  {
   "cell_type": "markdown",
   "id": "33cfeb73",
   "metadata": {
    "heading_collapsed": true
   },
   "source": [
    "## Testing with train/test data"
   ]
  },
  {
   "cell_type": "code",
   "execution_count": 36,
   "id": "64782791",
   "metadata": {
    "ExecuteTime": {
     "end_time": "2022-06-09T01:46:51.694562Z",
     "start_time": "2022-06-09T01:46:51.510086Z"
    },
    "hidden": true,
    "scrolled": true
   },
   "outputs": [
    {
     "data": {
      "text/plain": [
       "(42000, 785)"
      ]
     },
     "execution_count": 36,
     "metadata": {},
     "output_type": "execute_result"
    }
   ],
   "source": [
    "# Convert from pd.DataFrame to numpy.ndarray\n",
    "data = np.array(train_df)\n",
    "# 42000 obervations, 1 class + 784 features\n",
    "data.shape"
   ]
  },
  {
   "cell_type": "code",
   "execution_count": 41,
   "id": "22c8e3eb",
   "metadata": {
    "ExecuteTime": {
     "end_time": "2022-06-09T01:52:54.083144Z",
     "start_time": "2022-06-09T01:52:51.567952Z"
    },
    "hidden": true
   },
   "outputs": [],
   "source": [
    "# Shuffle the data\n",
    "np.random.seed(42)\n",
    "np.random.shuffle(data)\n",
    "# Define train size of 80%\n",
    "train_size = int(42000 * 0.8)\n",
    "# Train data split, 0 : train_ize\n",
    "X_train , y_train = data[:train_size,1:], data[:train_size,0]\n",
    "# Test data split, train_size : -1\n",
    "X_test, y_test = data[train_size:,1:], data[train_size:,0]\n",
    "# Scale values to range (0,1)\n",
    "X_train = X_train / 255.\n",
    "X_test = X_test / 255.\n",
    "# Apply one hot encoding on labels\n",
    "y_train, y_test = one_hot_encoding(y_train), one_hot_encoding(y_test)"
   ]
  },
  {
   "cell_type": "code",
   "execution_count": 38,
   "id": "102a39ee",
   "metadata": {
    "ExecuteTime": {
     "end_time": "2022-06-09T01:46:54.175460Z",
     "start_time": "2022-06-09T01:46:54.007385Z"
    },
    "hidden": true
   },
   "outputs": [
    {
     "name": "stdout",
     "output_type": "stream",
     "text": [
      "X_train image n=0 shape:  (33600,)\n",
      "y_train image n=0 label:  [0. 0. 0. 0. 0. 0. 0. 0. 1. 0.]\n"
     ]
    },
    {
     "data": {
      "image/png": "[encoded data removed]",
      "text/plain": [
       "<Figure size 432x288 with 1 Axes>"
      ]
     },
     "metadata": {},
     "output_type": "display_data"
    }
   ],
   "source": [
    "# Data example\n",
    "print('X_train image n=0 shape: ', X_train[:, 0].shape)\n",
    "print('y_train image n=0 label: ', y_train[0])\n",
    "# Show image\n",
    "plt.title('First image from X_train', size=18, pad=20, loc='left')\n",
    "plt.imshow(X_train[0].reshape(28,28))\n",
    "plt.grid(False); plt.axis(False);"
   ]
  },
  {
   "cell_type": "code",
   "execution_count": 42,
   "id": "e32f80f1",
   "metadata": {
    "ExecuteTime": {
     "end_time": "2022-06-09T01:58:15.462370Z",
     "start_time": "2022-06-09T01:52:54.442772Z"
    },
    "hidden": true
   },
   "outputs": [
    {
     "data": {
      "application/vnd.jupyter.widget-view+json": {
       "model_id": "fdb615f70dc74f6781a055e0288bb2fa",
       "version_major": 2,
       "version_minor": 0
      },
      "text/plain": [
       "Epoch 1 Acc=0 :   0%|          | 0/33600 [00:00<?, ?it/s]"
      ]
     },
     "metadata": {},
     "output_type": "display_data"
    },
    {
     "data": {
      "application/vnd.jupyter.widget-view+json": {
       "model_id": "63c95191fb404c689b1d539c990ebfe8",
       "version_major": 2,
       "version_minor": 0
      },
      "text/plain": [
       "Epoch 2 Acc=0 :   0%|          | 0/33600 [00:00<?, ?it/s]"
      ]
     },
     "metadata": {},
     "output_type": "display_data"
    },
    {
     "data": {
      "application/vnd.jupyter.widget-view+json": {
       "model_id": "7dfc17bf4b774a08ab3b944c6f6ad6d1",
       "version_major": 2,
       "version_minor": 0
      },
      "text/plain": [
       "Epoch 3 Acc=0 :   0%|          | 0/33600 [00:00<?, ?it/s]"
      ]
     },
     "metadata": {},
     "output_type": "display_data"
    },
    {
     "data": {
      "application/vnd.jupyter.widget-view+json": {
       "model_id": "f9e3e856657c457da3134952bc6e7509",
       "version_major": 2,
       "version_minor": 0
      },
      "text/plain": [
       "Epoch 4 Acc=0 :   0%|          | 0/33600 [00:00<?, ?it/s]"
      ]
     },
     "metadata": {},
     "output_type": "display_data"
    },
    {
     "data": {
      "application/vnd.jupyter.widget-view+json": {
       "model_id": "1e2b0ca0a8084099b116e731749a65e8",
       "version_major": 2,
       "version_minor": 0
      },
      "text/plain": [
       "Epoch 5 Acc=0 :   0%|          | 0/33600 [00:00<?, ?it/s]"
      ]
     },
     "metadata": {},
     "output_type": "display_data"
    },
    {
     "data": {
      "application/vnd.jupyter.widget-view+json": {
       "model_id": "34bd9420c81248408fc8bad91430ab46",
       "version_major": 2,
       "version_minor": 0
      },
      "text/plain": [
       "Epoch 6 Acc=0 :   0%|          | 0/33600 [00:00<?, ?it/s]"
      ]
     },
     "metadata": {},
     "output_type": "display_data"
    },
    {
     "data": {
      "application/vnd.jupyter.widget-view+json": {
       "model_id": "f5794e9b48fe4df895fc11aa275d401b",
       "version_major": 2,
       "version_minor": 0
      },
      "text/plain": [
       "Epoch 7 Acc=0 :   0%|          | 0/33600 [00:00<?, ?it/s]"
      ]
     },
     "metadata": {},
     "output_type": "display_data"
    },
    {
     "data": {
      "application/vnd.jupyter.widget-view+json": {
       "model_id": "fd681de5708644f9a3b66a91fb3e011d",
       "version_major": 2,
       "version_minor": 0
      },
      "text/plain": [
       "Epoch 8 Acc=0 :   0%|          | 0/33600 [00:00<?, ?it/s]"
      ]
     },
     "metadata": {},
     "output_type": "display_data"
    },
    {
     "name": "stdout",
     "output_type": "stream",
     "text": [
      "Accuracy = 94.99%\n"
     ]
    }
   ],
   "source": [
    "w, b = train_nn(X_train, y_train, hidden_layers=[16, 16], epochs=8)"
   ]
  },
  {
   "cell_type": "code",
   "execution_count": 43,
   "id": "88b8b255",
   "metadata": {
    "ExecuteTime": {
     "end_time": "2022-06-09T01:59:33.320862Z",
     "start_time": "2022-06-09T01:59:30.414255Z"
    },
    "hidden": true
   },
   "outputs": [
    {
     "data": {
      "application/vnd.jupyter.widget-view+json": {
       "model_id": "cbd08f73090144e0984454cbdb38f890",
       "version_major": 2,
       "version_minor": 0
      },
      "text/plain": [
       "Making predictions:   0%|          | 0/33600 [00:00<?, ?it/s]"
      ]
     },
     "metadata": {},
     "output_type": "display_data"
    },
    {
     "name": "stdout",
     "output_type": "stream",
     "text": [
      "Accuracy = 95.52%\n"
     ]
    }
   ],
   "source": [
    "# Make predictions\n",
    "y_pred_train, acc_score = nn_predict(X_train, y_train, w, b)"
   ]
  },
  {
   "cell_type": "code",
   "execution_count": 44,
   "id": "cf9024bd",
   "metadata": {
    "ExecuteTime": {
     "end_time": "2022-06-09T01:59:33.381301Z",
     "start_time": "2022-06-09T01:59:33.324108Z"
    },
    "hidden": true
   },
   "outputs": [],
   "source": [
    "y_pred_train = np.array(y_pred_train).reshape(33600, 10)"
   ]
  },
  {
   "cell_type": "code",
   "execution_count": 45,
   "id": "84edd5af",
   "metadata": {
    "ExecuteTime": {
     "end_time": "2022-06-09T01:59:33.403299Z",
     "start_time": "2022-06-09T01:59:33.387967Z"
    },
    "hidden": true
   },
   "outputs": [
    {
     "data": {
      "text/plain": [
       "0.9552083333333333"
      ]
     },
     "execution_count": 45,
     "metadata": {},
     "output_type": "execute_result"
    }
   ],
   "source": [
    "np.sum(np.argmax(y_pred_train, axis=1) == np.argmax(y_train, axis=1)) / y_train.shape[0]"
   ]
  },
  {
   "cell_type": "code",
   "execution_count": 46,
   "id": "86c4e301",
   "metadata": {
    "ExecuteTime": {
     "end_time": "2022-06-09T01:59:33.420345Z",
     "start_time": "2022-06-09T01:59:33.408590Z"
    },
    "hidden": true
   },
   "outputs": [
    {
     "data": {
      "text/plain": [
       "array([[   0, 3394],\n",
       "       [   1, 3741],\n",
       "       [   2, 3369],\n",
       "       [   3, 3369],\n",
       "       [   4, 3358],\n",
       "       [   5, 3055],\n",
       "       [   6, 3348],\n",
       "       [   7, 3553],\n",
       "       [   8, 3250],\n",
       "       [   9, 3163]])"
      ]
     },
     "execution_count": 46,
     "metadata": {},
     "output_type": "execute_result"
    }
   ],
   "source": [
    "pred = np.argmax(y_pred_train, axis=1)\n",
    "\n",
    "unique, counts = np.unique(pred, return_counts=True)\n",
    "np.asarray((unique, counts)).T"
   ]
  },
  {
   "cell_type": "code",
   "execution_count": null,
   "id": "8bd4120a",
   "metadata": {
    "ExecuteTime": {
     "end_time": "2022-06-08T20:14:36.102810Z",
     "start_time": "2022-06-08T20:14:36.076742Z"
    },
    "hidden": true
   },
   "outputs": [],
   "source": []
  },
  {
   "cell_type": "code",
   "execution_count": 47,
   "id": "1d073512",
   "metadata": {
    "ExecuteTime": {
     "end_time": "2022-06-09T01:59:33.436457Z",
     "start_time": "2022-06-09T01:59:33.422574Z"
    },
    "hidden": true
   },
   "outputs": [
    {
     "name": "stdout",
     "output_type": "stream",
     "text": [
      "Creating Hidden layer L1\n",
      "size = 16\n",
      "L0 shape: (784, 1)\n",
      "L1 Weights shape: (16, 784)\n",
      "L1 Bias shape: (16, 1)\n",
      "==================================================\n",
      "Creating Hidden layer L2\n",
      "size = 8\n",
      "L1 shape: (16, 1)\n",
      "L2 Weights shape: (8, 16)\n",
      "L2 Bias shape: (8, 1)\n",
      "==================================================\n",
      "Creating Output layer L3\n",
      "size = 10\n",
      "L2 shape: (8, 1)\n",
      "L3 Weights shape: (10, 8)\n",
      "L3 Bias shape: (10, 1)\n",
      "==================================================\n",
      "Predicted label = 2, True label = 4\n"
     ]
    }
   ],
   "source": [
    "# Make predictions\n",
    "sample_test = np.random.randint(0,1000)\n",
    "_X = X_test[sample_test].reshape(-1,1)\n",
    "acc, _ = foward_propagation(_X, y_test[sample_test], \n",
    "            weights, biases, sigmoid, mean_squared_error, verbose=True)"
   ]
  },
  {
   "cell_type": "code",
   "execution_count": 48,
   "id": "bad74f70",
   "metadata": {
    "ExecuteTime": {
     "end_time": "2022-06-09T01:59:33.446608Z",
     "start_time": "2022-06-09T01:59:33.439421Z"
    },
    "hidden": true
   },
   "outputs": [
    {
     "data": {
      "text/plain": [
       "0"
      ]
     },
     "execution_count": 48,
     "metadata": {},
     "output_type": "execute_result"
    }
   ],
   "source": [
    "acc"
   ]
  },
  {
   "cell_type": "markdown",
   "id": "07ea4045",
   "metadata": {},
   "source": [
    "# Mini NN"
   ]
  },
  {
   "cell_type": "code",
   "execution_count": 49,
   "id": "50a94f99",
   "metadata": {
    "ExecuteTime": {
     "end_time": "2022-06-09T01:59:33.455223Z",
     "start_time": "2022-06-09T01:59:33.450397Z"
    }
   },
   "outputs": [],
   "source": [
    "# def get_mnist():\n",
    "#     with np.load(f\"mnist.npz\") as f:\n",
    "#         images, labels = f[\"x_train\"], f[\"y_train\"]\n",
    "#     images = images.astype(\"float32\") / 255\n",
    "#     images = np.reshape(images, (images.shape[0], images.shape[1] * images.shape[2]))\n",
    "#     labels = np.eye(10)[labels]\n",
    "#     return images, labels"
   ]
  },
  {
   "cell_type": "code",
   "execution_count": 50,
   "id": "48ebb699",
   "metadata": {
    "ExecuteTime": {
     "end_time": "2022-06-09T01:59:33.463436Z",
     "start_time": "2022-06-09T01:59:33.459181Z"
    }
   },
   "outputs": [],
   "source": [
    "# images, labels = get_mnist()\n",
    "# w_i_h = np.random.uniform(-0.5, 0.5, (20, 784))\n",
    "# w_h_o = np.random.uniform(-0.5, 0.5, (10, 20))\n",
    "# b_i_h = np.zeros((20, 1))\n",
    "# b_h_o = np.zeros((10, 1))"
   ]
  },
  {
   "cell_type": "code",
   "execution_count": 51,
   "id": "4a2accde",
   "metadata": {
    "ExecuteTime": {
     "end_time": "2022-06-09T01:59:33.472256Z",
     "start_time": "2022-06-09T01:59:33.467438Z"
    }
   },
   "outputs": [],
   "source": [
    "# learn_rate = 0.01\n",
    "# nr_correct = 0\n",
    "# epochs = 3\n",
    "\n",
    "# for epoch in range(epochs):\n",
    "#     pbar = tqdm(zip(images, labels), total=images.shape[0])\n",
    "#     for img, l in pbar:\n",
    "#         img.shape += (1,)\n",
    "#         l.shape += (1,)\n",
    "#         # Forward propagation input -> hidden\n",
    "#         h_pre = b_i_h + w_i_h @ img\n",
    "#         h = 1 / (1 + np.exp(-h_pre))\n",
    "#         # Forward propagation hidden -> output\n",
    "#         o_pre = b_h_o + w_h_o @ h\n",
    "#         o = 1 / (1 + np.exp(-o_pre))\n",
    "\n",
    "#         # Cost / Error calculation\n",
    "#         e = 1 / len(o) * np.sum((o - l) ** 2, axis=0)\n",
    "#         nr_correct += int(np.argmax(o) == np.argmax(l))\n",
    "\n",
    "#         # Backpropagation output -> hidden (cost function derivative)\n",
    "#         delta_o = o - l\n",
    "#         w_h_o += -learn_rate * delta_o @ np.transpose(h)\n",
    "#         b_h_o += -learn_rate * delta_o\n",
    "#         # Backpropagation hidden -> input (activation function derivative)\n",
    "#         delta_h = np.transpose(w_h_o) @ delta_o * (h * (1 - h))\n",
    "#         w_i_h += -learn_rate * delta_h @ np.transpose(img)\n",
    "#         b_i_h += -learn_rate * delta_h\n",
    "        \n",
    "#         pbar.set_description(f'Acc: {nr_correct / images.shape[0] * 100:.2f}')\n",
    "        \n",
    "#     pbar.close()\n",
    "#     # Show accuracy for this epoch\n",
    "#     print(f\"Acc: {round((nr_correct / images.shape[0]) * 100, 2)}%\")\n",
    "#     nr_correct = 0"
   ]
  },
  {
   "cell_type": "markdown",
   "id": "0fa178bb",
   "metadata": {},
   "source": [
    "# NN CLass"
   ]
  },
  {
   "cell_type": "code",
   "execution_count": 54,
   "id": "78ad94db",
   "metadata": {
    "ExecuteTime": {
     "end_time": "2022-06-09T03:48:18.479844Z",
     "start_time": "2022-06-09T03:48:18.473423Z"
    }
   },
   "outputs": [
    {
     "data": {
      "text/plain": [
       "0"
      ]
     },
     "execution_count": 54,
     "metadata": {},
     "output_type": "execute_result"
    }
   ],
   "source": [
    "ReLU(-2)"
   ]
  },
  {
   "cell_type": "code",
   "execution_count": 56,
   "id": "982b68f4",
   "metadata": {
    "ExecuteTime": {
     "end_time": "2022-06-09T03:52:57.952482Z",
     "start_time": "2022-06-09T03:52:57.945350Z"
    }
   },
   "outputs": [],
   "source": [
    "\n",
    "class Layer_Dense:\n",
    "    def __init__(self, n_inputs, n_neurons, act_func):\n",
    "        self.weights = np.random.uniform(-0.5, 0.5, (n_inputs, n_neurons))\n",
    "        self.bias = np.zeros((1, n_neurons))\n",
    "        self.act_func = act_func\n",
    "    def foward_prop(self, inputs):\n",
    "        self.output = self.act_func(self.weights @ inputs + self.bias)\n",
    "\n"
   ]
  },
  {
   "cell_type": "code",
   "execution_count": null,
   "id": "269805f4",
   "metadata": {},
   "outputs": [],
   "source": [
    "class Layer:\n",
    "    def __init__(self, n_input:np.ndarray, n_output:np.ndarray, \n",
    "                 act_func:str, cost_func:str, random_state=None) -> None:\n",
    "        np.random.seed(random_state)\n",
    "        self.weights = np.random.uniform(-0.5, 0.5, size=[n_output, n_input])\n",
    "        self.bias = np.zeros([n_output, 1])\n",
    "        self.act_func = select_act_func(act_func)\n",
    "        self.cost_func = select_cost_func(cost_func)\n",
    "        \n",
    "    def select_act_func(self, act_func):\n",
    "        if act_func == 'sigmoid':\n",
    "            self.act_func = sigmoid\n",
    "            self.act_func_d = sigmoid_d\n",
    "        elif act_func == 'relu':\n",
    "            self.act_func = relu\n",
    "            self.act_func_d = relu_d\n",
    "        elif act_func == 'softmax':\n",
    "            self.act_func = softmax\n",
    "            self.act_func_d = softmax_d\n",
    "        else:\n",
    "            raise f'Unknow function: {act_func}\\nChooe between \"sigmoid\",\"relu\",\"softmax\"'\n",
    "            \n",
    "    def select_cost_func(self, cost_func):\n",
    "        if cost_func == 'mse':\n",
    "            self.cost_func = mse\n",
    "            self.cost_func_d = mse_d\n",
    "        elif cost_func == 'cross-entropy':\n",
    "            self.cost_func = cross_ent\n",
    "            self.cost_func_d = cross_ent_d\n",
    "        else:\n",
    "            raise f'Unknow function: {cost_func}\\nChooe between \"mse\",\"cross-entropy\"'\n",
    "            \n",
    "    def foward_propagation(self, inputs, weights, bias):\n",
    "        z1 = weights @ inputs + bias\n",
    "        a2_layer = sigmoid(z1)"
   ]
  },
  {
   "cell_type": "code",
   "execution_count": null,
   "id": "6bf166ca",
   "metadata": {},
   "outputs": [],
   "source": [
    "class NeuralNetwork:\n",
    "    \n",
    "    def __init__(self, random_state=None)-> None:\n",
    "        self.random_state = random_state\n",
    "        pass\n",
    "    \n",
    "    def add_layer(self, size, ):\n",
    "        pass\n",
    "    \n",
    "    def fit(self, X, y) -> None:  \n",
    "        # Input layer neurons\n",
    "        self.ainput_size = X.shape[1] \n",
    "        # Output layer neurons\n",
    "        self.output_labels = np.unique(np.argmax(y, axis=1)).size\n",
    "        pass\n",
    "    \n",
    "              \n",
    "    \n",
    "    def init_wb():\n",
    "        # Set random seed, if any\n",
    "        np.random.seed(self.random_state)\n",
    "        # Random weights for L1, L2\n",
    "        self.a1_weights = np.random.uniform(-0.5, 0.5, size=[a2_size, a1_size])\n",
    "        self.a2_weights = np.random.uniform(-0.5, 0.5, size=[a3_size, a2_size])\n",
    "        # Set bias for L1, L2 with 0 values (unbiased)\n",
    "        self.a1_bias = np.zeros([a2_size, 1])         \n",
    "        self.a2_bias = np.zeros([a3_size, 1])\n",
    "    \n",
    "    def predict(self) -> None:\n",
    "        pass"
   ]
  },
  {
   "cell_type": "code",
   "execution_count": 52,
   "id": "2ae2f3b8",
   "metadata": {
    "ExecuteTime": {
     "end_time": "2022-06-09T01:59:33.660950Z",
     "start_time": "2022-06-09T01:59:33.480575Z"
    }
   },
   "outputs": [
    {
     "data": {
      "text/html": [
       "<details>\n",
       "<summary>Click to view session information</summary>\n",
       "<pre>\n",
       "-----\n",
       "graphviz            0.19.1\n",
       "matplotlib          3.5.1\n",
       "numpy               1.21.5\n",
       "pandas              1.4.2\n",
       "plotly              5.6.0\n",
       "seaborn             0.11.2\n",
       "session_info        1.0.0\n",
       "tqdm                4.64.0\n",
       "-----\n",
       "</pre>\n",
       "<details>\n",
       "<summary>Click to view modules imported as dependencies</summary>\n",
       "<pre>\n",
       "PIL                         9.0.1\n",
       "PyObjCTools                 NA\n",
       "appnope                     0.1.2\n",
       "asttokens                   NA\n",
       "backcall                    0.2.0\n",
       "beta_ufunc                  NA\n",
       "binom_ufunc                 NA\n",
       "bottleneck                  1.3.4\n",
       "cffi                        1.15.0\n",
       "cloudpickle                 2.0.0\n",
       "colorama                    0.4.4\n",
       "cycler                      0.10.0\n",
       "cython_runtime              NA\n",
       "dateutil                    2.8.2\n",
       "debugpy                     1.5.1\n",
       "decorator                   5.1.1\n",
       "defusedxml                  0.7.1\n",
       "executing                   0.8.3\n",
       "google                      NA\n",
       "importlib_metadata          NA\n",
       "ipykernel                   6.9.1\n",
       "ipython_genutils            0.2.0\n",
       "ipywidgets                  7.6.5\n",
       "jedi                        0.18.1\n",
       "jupyter_server              1.13.5\n",
       "kiwisolver                  1.4.2\n",
       "matplotlib_inline           NA\n",
       "mkl                         2.4.0\n",
       "mpl_toolkits                NA\n",
       "nbinom_ufunc                NA\n",
       "netifaces                   0.11.0\n",
       "numexpr                     2.8.1\n",
       "packaging                   21.3\n",
       "parso                       0.8.3\n",
       "pexpect                     4.8.0\n",
       "pickle5                     NA\n",
       "pickleshare                 0.7.5\n",
       "pkg_resources               NA\n",
       "prompt_toolkit              3.0.20\n",
       "psutil                      5.8.0\n",
       "ptyprocess                  0.7.0\n",
       "pure_eval                   0.2.2\n",
       "pyarrow                     7.0.0\n",
       "pydev_ipython               NA\n",
       "pydevconsole                NA\n",
       "pydevd                      2.6.0\n",
       "pydevd_concurrency_analyser NA\n",
       "pydevd_file_utils           NA\n",
       "pydevd_plugins              NA\n",
       "pydevd_tracing              NA\n",
       "pygments                    2.11.2\n",
       "pyparsing                   3.0.4\n",
       "pytz                        2021.3\n",
       "scipy                       1.7.3\n",
       "setuptools                  61.2.0\n",
       "six                         1.16.0\n",
       "sphinxcontrib               NA\n",
       "stack_data                  0.2.0\n",
       "statsmodels                 0.13.2\n",
       "tornado                     6.1\n",
       "traitlets                   5.1.1\n",
       "typing_extensions           NA\n",
       "wcwidth                     0.2.5\n",
       "zipp                        NA\n",
       "zmq                         22.3.0\n",
       "zope                        NA\n",
       "</pre>\n",
       "</details> <!-- seems like this ends pre, so might as well be explicit -->\n",
       "<pre>\n",
       "-----\n",
       "IPython             8.3.0\n",
       "jupyter_client      6.1.12\n",
       "jupyter_core        4.10.0\n",
       "jupyterlab          3.3.2\n",
       "notebook            6.4.11\n",
       "-----\n",
       "Python 3.9.12 (main, Apr  5 2022, 01:53:17) [Clang 12.0.0 ]\n",
       "macOS-10.15.7-x86_64-i386-64bit\n",
       "-----\n",
       "Session information updated at 2022-06-08 22:59\n",
       "</pre>\n",
       "</details>"
      ],
      "text/plain": [
       "<IPython.core.display.HTML object>"
      ]
     },
     "execution_count": 52,
     "metadata": {},
     "output_type": "execute_result"
    }
   ],
   "source": [
    "import session_info\n",
    "\n",
    "session_info.show()"
   ]
  }
 ],
 "metadata": {
  "kernelspec": {
   "display_name": "Python 3 (ipykernel)",
   "language": "python",
   "name": "python3"
  },
  "language_info": {
   "codemirror_mode": {
    "name": "ipython",
    "version": 3
   },
   "file_extension": ".py",
   "mimetype": "text/x-python",
   "name": "python",
   "nbconvert_exporter": "python",
   "pygments_lexer": "ipython3",
   "version": "3.9.12"
  },
  "toc": {
   "base_numbering": 1,
   "nav_menu": {},
   "number_sections": true,
   "sideBar": true,
   "skip_h1_title": false,
   "title_cell": "Table of Contents",
   "title_sidebar": "Contents",
   "toc_cell": false,
   "toc_position": {},
   "toc_section_display": true,
   "toc_window_display": false
  }
 },
 "nbformat": 4,
 "nbformat_minor": 5
}
