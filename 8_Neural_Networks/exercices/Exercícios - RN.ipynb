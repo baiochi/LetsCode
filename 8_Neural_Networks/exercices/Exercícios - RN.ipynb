{
 "cells": [
  {
   "cell_type": "markdown",
   "id": "a37fe50f",
   "metadata": {
    "heading_collapsed": true
   },
   "source": [
    "# Imports and Functions"
   ]
  },
  {
   "cell_type": "code",
   "execution_count": 501,
   "id": "666a358e",
   "metadata": {
    "ExecuteTime": {
     "end_time": "2022-06-07T00:54:58.560628Z",
     "start_time": "2022-06-07T00:54:58.483937Z"
    },
    "hidden": true
   },
   "outputs": [],
   "source": [
    "import numpy as np\n",
    "import pandas as pd\n",
    "import matplotlib.pyplot as plt\n",
    "import seaborn as sns; sns.set()\n",
    "import plotly.express as px\n",
    "import plotly.graph_objects as go\n",
    "from plotly.subplots import make_subplots\n",
    "from IPython.display import display"
   ]
  },
  {
   "cell_type": "markdown",
   "id": "7d279e30",
   "metadata": {
    "heading_collapsed": true,
    "hidden": true
   },
   "source": [
    "## Colors"
   ]
  },
  {
   "cell_type": "code",
   "execution_count": 502,
   "id": "024b5677",
   "metadata": {
    "ExecuteTime": {
     "end_time": "2022-06-07T00:54:58.577297Z",
     "start_time": "2022-06-07T00:54:58.566377Z"
    },
    "hidden": true
   },
   "outputs": [],
   "source": [
    "# Terminal ASCII colors\n",
    "WHITE = '\\033[39m'; CYAN  = '\\033[36m'; ORANGE = '\\033[93m';\n",
    "\n",
    "# Palettes\n",
    "URBAN_PALETTE_CONTINUOUS = {\n",
    "    'cyan'    : '#1696d2',\n",
    "    'gray'    : '#d2d2d2',\n",
    "    'black'   : '#000000',\n",
    "    'yellow'  : '#fdbf11',\n",
    "    'magenta' : '#ec008b',\n",
    "    'green'   : '#55b748',\n",
    "    'red'     : '#db2b27',\n",
    "}\n",
    "URBAN_PALETTE_CATEGORICAL = {\n",
    "    'cyan'    : '#1696d2',\n",
    "    'gray'    : '#d2d2d2',\n",
    "    'magenta' : '#ec008b',\n",
    "    'yellow'  : '#fdbf11',\n",
    "    'dark'    : '#332d2f',\n",
    "    'ocean'   : '#0a4c6a',\n",
    "}\n",
    "BLUE_SHADE = [\"#CFE8F3\",\"#A2D4EC\",\"#73BFE2\",\"#46ABDB\",\"#1696D2\",\"#12719E\",\"#0A4C6A\",\"#062635\"]\n",
    "YELLOW_SHADE = [\"#FFF2CF\",\"#FCE39E\",\"#FDD870\",\"#FCCB41\",\"#FDBF11\",\"#E88E2D\",\"#CA5800\",\"#843215\"]"
   ]
  },
  {
   "cell_type": "markdown",
   "id": "12231764",
   "metadata": {
    "hidden": true
   },
   "source": [
    "## Classification Metrics"
   ]
  },
  {
   "cell_type": "markdown",
   "id": "fc4f4b98",
   "metadata": {
    "heading_collapsed": true,
    "hidden": true
   },
   "source": [
    "### Precision-recall curve"
   ]
  },
  {
   "cell_type": "code",
   "execution_count": 503,
   "id": "841d26dc",
   "metadata": {
    "ExecuteTime": {
     "end_time": "2022-06-07T00:54:58.596836Z",
     "start_time": "2022-06-07T00:54:58.582355Z"
    },
    "hidden": true
   },
   "outputs": [],
   "source": [
    "def plot_precision_recall_curve(y_train, y_proba_train, y_test, y_proba_test):\n",
    "    \n",
    "    # Get precisions, recalls and thresholds\n",
    "    train_precisions, train_recalls, train_thresholds = precision_recall_curve(y_train, y_proba_train)\n",
    "    test_precisions, test_recalls, test_thresholds = precision_recall_curve(y_test, y_proba_test)\n",
    "    # Create Precision-Recall curve figure\n",
    "    fig = go.Figure()\n",
    "    # Add Precision lines\n",
    "    fig.add_trace(go.Scatter(x=train_thresholds, y=train_precisions[:-1], name='Train Precision', line_color=YELLOW_SHADE[5]))\n",
    "    fig.add_trace(go.Scatter(x=test_thresholds, y=test_precisions[:-1], name='Test Precision', line_color=BLUE_SHADE[5]))\n",
    "    # Add Recall lines\n",
    "    fig.add_trace(go.Scatter(x=train_thresholds, y=train_recalls[:-1], name='Train Recall', line_color=YELLOW_SHADE[-1]) )\n",
    "    fig.add_trace(go.Scatter(x=test_thresholds, y=test_recalls[:-1], name='Test Recall', line_color=BLUE_SHADE[-1]) )\n",
    "    # Layout update\n",
    "    fig.update_layout(title_text='Precision-Recall curve', width=900, height=500)\n",
    "    \n",
    "    return fig"
   ]
  },
  {
   "cell_type": "markdown",
   "id": "f5617fe9",
   "metadata": {
    "heading_collapsed": true,
    "hidden": true
   },
   "source": [
    "### ROC_AUC curve"
   ]
  },
  {
   "cell_type": "code",
   "execution_count": 504,
   "id": "916c2b98",
   "metadata": {
    "ExecuteTime": {
     "end_time": "2022-06-07T00:54:58.615927Z",
     "start_time": "2022-06-07T00:54:58.601872Z"
    },
    "hidden": true
   },
   "outputs": [],
   "source": [
    "def plot_roc_auc_curve(y_train, y_proba_train, y_test, y_proba_test):\n",
    "    \n",
    "    train_fpr, train_tpr, _ = roc_curve(y_train, y_proba_train)\n",
    "    test_fpr, test_tpr, _ = roc_curve(y_test, y_proba_test)\n",
    "\n",
    "    fig = go.Figure()\n",
    "\n",
    "    fig.add_traces([\n",
    "        go.Scatter(\n",
    "            x=train_fpr, y=train_tpr, fill='tozeroy',\n",
    "            name=f'Train dataset AUC={auc(train_fpr, train_tpr):.3f}',\n",
    "            line=dict(width=2, color=URBAN_PALETTE_CATEGORICAL['yellow']), \n",
    "            stackgroup='one'\n",
    "        ),\n",
    "        go.Scatter(\n",
    "            x=test_fpr, y=test_tpr, fill='tozeroy',\n",
    "            name=f'Test dataset AUC={auc(test_fpr, test_tpr):.3f}',\n",
    "            line=dict(width=2, color=URBAN_PALETTE_CATEGORICAL['cyan']),\n",
    "            \n",
    "        )\n",
    "    ]).update_layout(\n",
    "        title_text='ROC AUC Curve',\n",
    "        xaxis_title='False Positive Rate',\n",
    "        yaxis_title='True Positive Rate',\n",
    "        width=700, height=500)\n",
    "\n",
    "    # Add curve line\n",
    "    fig.add_shape(\n",
    "        type='line', line=dict(dash='dash'),\n",
    "        x0=0, x1=1, y0=0, y1=1\n",
    "    )\n",
    "    # Layout update\n",
    "    fig.update_yaxes(scaleanchor='x', scaleratio=1)\n",
    "    fig.update_xaxes(constrain='domain')\n",
    "    \n",
    "    return fig"
   ]
  },
  {
   "cell_type": "markdown",
   "id": "24fd8aed",
   "metadata": {
    "heading_collapsed": true,
    "hidden": true
   },
   "source": [
    "### Confusion Matrix"
   ]
  },
  {
   "cell_type": "code",
   "execution_count": 505,
   "id": "1448475a",
   "metadata": {
    "ExecuteTime": {
     "end_time": "2022-06-07T00:54:58.633338Z",
     "start_time": "2022-06-07T00:54:58.621426Z"
    },
    "hidden": true
   },
   "outputs": [],
   "source": [
    "def plot_confusion_matrix(y_train, y_pred_train, y_test, y_pred_test, labels=None):\n",
    "    \n",
    "    if not labels:\n",
    "        labels = y_train.unique().tolist()\n",
    "    # Calculate confusion matrix\n",
    "    train_matrix = confusion_matrix(y_train, y_pred_train)\n",
    "    test_matrix = confusion_matrix(y_test, y_pred_test)\n",
    "    \n",
    "    # Create subplots\n",
    "    cf_matrix = make_subplots(rows=1, cols=2, shared_xaxes=True, horizontal_spacing=0.2,\n",
    "                       subplot_titles=('Train Dataset', 'Test Dataset'))\n",
    "    cf_matrix.add_trace(\n",
    "        # Plot Train CF Matrix\n",
    "        go.Heatmap(\n",
    "            z=train_matrix,\n",
    "            x=labels, y=labels,\n",
    "            text=train_matrix,\n",
    "            texttemplate=\"%{text}\", textfont={\"size\":14},\n",
    "            hovertemplate='Predicted Label: %{x}<br>True Label: %{y}<br>#: %{z}<extra></extra>',\n",
    "            colorscale=YELLOW_SHADE,\n",
    "            colorbar_x=0.4), \n",
    "            row=1, col=1\n",
    "    ).add_trace(\n",
    "        # Plot Test CF Matrix\n",
    "        go.Heatmap(\n",
    "            z=test_matrix,\n",
    "            x=labels, y=labels,\n",
    "            text=test_matrix,\n",
    "            texttemplate=\"%{text}\", textfont={\"size\":14},\n",
    "            hovertemplate='Predicted Label: %{x}<br>True Label: %{y}<br>#: %{z}<extra></extra>',\n",
    "            colorscale=BLUE_SHADE,\n",
    "            colorbar_x=1), \n",
    "            row=1, col=2\n",
    "    ).update_layout(width=900, height=500, title_text='Confusion Matrix')\n",
    "    \n",
    "    return cf_matrix"
   ]
  },
  {
   "cell_type": "markdown",
   "id": "c8a1da7f",
   "metadata": {
    "heading_collapsed": true,
    "hidden": true
   },
   "source": [
    "### Display classification report"
   ]
  },
  {
   "cell_type": "code",
   "execution_count": 506,
   "id": "10d3650b",
   "metadata": {
    "ExecuteTime": {
     "end_time": "2022-06-07T00:54:58.646080Z",
     "start_time": "2022-06-07T00:54:58.637626Z"
    },
    "hidden": true
   },
   "outputs": [],
   "source": [
    "def display_clasification_report(y_train, y_pred_train, y_test, y_pred_test):\n",
    "    train_report = pd.DataFrame(classification_report(y_train, y_pred_train, output_dict=True)).T\n",
    "    test_report =pd.DataFrame(classification_report(y_test, y_pred_test, output_dict=True)).T\n",
    "    report = pd.concat([train_report, test_report], axis=1, keys=['Train dataset', 'Test dataset']).apply(round, ndigits=3)\n",
    "    return report"
   ]
  },
  {
   "cell_type": "markdown",
   "id": "3b93e64e",
   "metadata": {
    "heading_collapsed": true,
    "hidden": true
   },
   "source": [
    "### Metrics all in one"
   ]
  },
  {
   "cell_type": "code",
   "execution_count": 507,
   "id": "a876bcd3",
   "metadata": {
    "ExecuteTime": {
     "end_time": "2022-06-07T00:54:58.661032Z",
     "start_time": "2022-06-07T00:54:58.652705Z"
    },
    "hidden": true
   },
   "outputs": [],
   "source": [
    "def metrics_report(y_train, y_test, y_pred_train, y_pred_test, y_proba_train=None, y_proba_test=None, labels=None, plot_roc=True, plot_pr=True): \n",
    "    display(display_clasification_report(y_train, y_pred_train, y_test, y_pred_test))\n",
    "    plot_confusion_matrix(y_train, y_pred_train, y_test, y_pred_test, labels=labels).show()\n",
    "    if plot_roc:\n",
    "        plot_roc_auc_curve(y_train, y_proba_train[:,1], y_test, y_proba_test[:,1]).show()\n",
    "    if plot_pr:\n",
    "        plot_precision_recall_curve(y_train, y_proba_train[:,1], y_test, y_proba_test[:,1]).show()"
   ]
  },
  {
   "cell_type": "markdown",
   "id": "ccd63212",
   "metadata": {},
   "source": [
    "# Exercícios"
   ]
  },
  {
   "cell_type": "markdown",
   "id": "15605527",
   "metadata": {},
   "source": [
    "## Utilizando o dataset do `titanic`, faça os itens a seguir:"
   ]
  },
  {
   "cell_type": "markdown",
   "id": "7b6800f0",
   "metadata": {
    "heading_collapsed": true
   },
   "source": [
    "## __A)__  Prepare os dados para ser treinados nos modelos;"
   ]
  },
  {
   "cell_type": "code",
   "execution_count": 508,
   "id": "664d6591",
   "metadata": {
    "ExecuteTime": {
     "end_time": "2022-06-07T00:54:58.805282Z",
     "start_time": "2022-06-07T00:54:58.666582Z"
    },
    "hidden": true,
    "scrolled": true
   },
   "outputs": [
    {
     "data": {
      "text/html": [
       "<div>\n",
       "<style scoped>\n",
       "    .dataframe tbody tr th:only-of-type {\n",
       "        vertical-align: middle;\n",
       "    }\n",
       "\n",
       "    .dataframe tbody tr th {\n",
       "        vertical-align: top;\n",
       "    }\n",
       "\n",
       "    .dataframe thead th {\n",
       "        text-align: right;\n",
       "    }\n",
       "</style>\n",
       "<table border=\"1\" class=\"dataframe\">\n",
       "  <thead>\n",
       "    <tr style=\"text-align: right;\">\n",
       "      <th></th>\n",
       "      <th>survived</th>\n",
       "      <th>sex</th>\n",
       "      <th>age</th>\n",
       "      <th>sibsp</th>\n",
       "      <th>parch</th>\n",
       "      <th>fare</th>\n",
       "      <th>embarked</th>\n",
       "      <th>class</th>\n",
       "      <th>who</th>\n",
       "      <th>adult_male</th>\n",
       "      <th>embark_town</th>\n",
       "      <th>alone</th>\n",
       "    </tr>\n",
       "  </thead>\n",
       "  <tbody>\n",
       "    <tr>\n",
       "      <th>0</th>\n",
       "      <td>0</td>\n",
       "      <td>male</td>\n",
       "      <td>22.0</td>\n",
       "      <td>1</td>\n",
       "      <td>0</td>\n",
       "      <td>7.2500</td>\n",
       "      <td>S</td>\n",
       "      <td>Third</td>\n",
       "      <td>man</td>\n",
       "      <td>True</td>\n",
       "      <td>Southampton</td>\n",
       "      <td>False</td>\n",
       "    </tr>\n",
       "    <tr>\n",
       "      <th>1</th>\n",
       "      <td>1</td>\n",
       "      <td>female</td>\n",
       "      <td>38.0</td>\n",
       "      <td>1</td>\n",
       "      <td>0</td>\n",
       "      <td>71.2833</td>\n",
       "      <td>C</td>\n",
       "      <td>First</td>\n",
       "      <td>woman</td>\n",
       "      <td>False</td>\n",
       "      <td>Cherbourg</td>\n",
       "      <td>False</td>\n",
       "    </tr>\n",
       "    <tr>\n",
       "      <th>2</th>\n",
       "      <td>1</td>\n",
       "      <td>female</td>\n",
       "      <td>26.0</td>\n",
       "      <td>0</td>\n",
       "      <td>0</td>\n",
       "      <td>7.9250</td>\n",
       "      <td>S</td>\n",
       "      <td>Third</td>\n",
       "      <td>woman</td>\n",
       "      <td>False</td>\n",
       "      <td>Southampton</td>\n",
       "      <td>True</td>\n",
       "    </tr>\n",
       "    <tr>\n",
       "      <th>3</th>\n",
       "      <td>1</td>\n",
       "      <td>female</td>\n",
       "      <td>35.0</td>\n",
       "      <td>1</td>\n",
       "      <td>0</td>\n",
       "      <td>53.1000</td>\n",
       "      <td>S</td>\n",
       "      <td>First</td>\n",
       "      <td>woman</td>\n",
       "      <td>False</td>\n",
       "      <td>Southampton</td>\n",
       "      <td>False</td>\n",
       "    </tr>\n",
       "    <tr>\n",
       "      <th>4</th>\n",
       "      <td>0</td>\n",
       "      <td>male</td>\n",
       "      <td>35.0</td>\n",
       "      <td>0</td>\n",
       "      <td>0</td>\n",
       "      <td>8.0500</td>\n",
       "      <td>S</td>\n",
       "      <td>Third</td>\n",
       "      <td>man</td>\n",
       "      <td>True</td>\n",
       "      <td>Southampton</td>\n",
       "      <td>True</td>\n",
       "    </tr>\n",
       "  </tbody>\n",
       "</table>\n",
       "</div>"
      ],
      "text/plain": [
       "   survived     sex   age  sibsp  parch     fare embarked  class    who  \\\n",
       "0         0    male  22.0      1      0   7.2500        S  Third    man   \n",
       "1         1  female  38.0      1      0  71.2833        C  First  woman   \n",
       "2         1  female  26.0      0      0   7.9250        S  Third  woman   \n",
       "3         1  female  35.0      1      0  53.1000        S  First  woman   \n",
       "4         0    male  35.0      0      0   8.0500        S  Third    man   \n",
       "\n",
       "   adult_male  embark_town  alone  \n",
       "0        True  Southampton  False  \n",
       "1       False    Cherbourg  False  \n",
       "2       False  Southampton   True  \n",
       "3       False  Southampton  False  \n",
       "4        True  Southampton   True  "
      ]
     },
     "execution_count": 508,
     "metadata": {},
     "output_type": "execute_result"
    }
   ],
   "source": [
    "df = sns.load_dataset('titanic')\n",
    "df.drop(['alive', 'deck', 'pclass'], axis=1, inplace=True)\n",
    "df.head()"
   ]
  },
  {
   "cell_type": "code",
   "execution_count": 509,
   "id": "e6f3028c",
   "metadata": {
    "ExecuteTime": {
     "end_time": "2022-06-07T00:54:58.891250Z",
     "start_time": "2022-06-07T00:54:58.810238Z"
    },
    "hidden": true,
    "scrolled": true
   },
   "outputs": [
    {
     "name": "stdout",
     "output_type": "stream",
     "text": [
      "<class 'pandas.core.frame.DataFrame'>\n",
      "RangeIndex: 891 entries, 0 to 890\n",
      "Data columns (total 12 columns):\n",
      " #   Column       Non-Null Count  Dtype   \n",
      "---  ------       --------------  -----   \n",
      " 0   survived     891 non-null    int64   \n",
      " 1   sex          891 non-null    object  \n",
      " 2   age          714 non-null    float64 \n",
      " 3   sibsp        891 non-null    int64   \n",
      " 4   parch        891 non-null    int64   \n",
      " 5   fare         891 non-null    float64 \n",
      " 6   embarked     889 non-null    object  \n",
      " 7   class        891 non-null    category\n",
      " 8   who          891 non-null    object  \n",
      " 9   adult_male   891 non-null    bool    \n",
      " 10  embark_town  889 non-null    object  \n",
      " 11  alone        891 non-null    bool    \n",
      "dtypes: bool(2), category(1), float64(2), int64(3), object(4)\n",
      "memory usage: 65.5+ KB\n"
     ]
    }
   ],
   "source": [
    "df.info()"
   ]
  },
  {
   "cell_type": "code",
   "execution_count": 510,
   "id": "7d0ca0be",
   "metadata": {
    "ExecuteTime": {
     "end_time": "2022-06-07T00:54:58.929621Z",
     "start_time": "2022-06-07T00:54:58.904420Z"
    },
    "hidden": true
   },
   "outputs": [
    {
     "data": {
      "text/plain": [
       "Index(['age', 'sibsp', 'parch', 'fare'], dtype='object')"
      ]
     },
     "execution_count": 510,
     "metadata": {},
     "output_type": "execute_result"
    }
   ],
   "source": [
    "numeric_features = df.drop('survived', axis=1).select_dtypes(include=np.number).columns\n",
    "numeric_features"
   ]
  },
  {
   "cell_type": "code",
   "execution_count": 511,
   "id": "365a9385",
   "metadata": {
    "ExecuteTime": {
     "end_time": "2022-06-07T00:54:58.956489Z",
     "start_time": "2022-06-07T00:54:58.935091Z"
    },
    "hidden": true
   },
   "outputs": [
    {
     "data": {
      "text/plain": [
       "Index(['class'], dtype='object')"
      ]
     },
     "execution_count": 511,
     "metadata": {},
     "output_type": "execute_result"
    }
   ],
   "source": [
    "ordinal_features = df.select_dtypes(include='category').columns\n",
    "ordinal_features"
   ]
  },
  {
   "cell_type": "code",
   "execution_count": 512,
   "id": "efcdd6b8",
   "metadata": {
    "ExecuteTime": {
     "end_time": "2022-06-07T00:54:58.978899Z",
     "start_time": "2022-06-07T00:54:58.961691Z"
    },
    "hidden": true
   },
   "outputs": [
    {
     "data": {
      "text/plain": [
       "Index(['sex', 'embarked', 'who', 'embark_town'], dtype='object')"
      ]
     },
     "execution_count": 512,
     "metadata": {},
     "output_type": "execute_result"
    }
   ],
   "source": [
    "categorical_features = df.select_dtypes(include='object').columns\n",
    "categorical_features"
   ]
  },
  {
   "cell_type": "code",
   "execution_count": 513,
   "id": "ee6ae579",
   "metadata": {
    "ExecuteTime": {
     "end_time": "2022-06-07T00:54:59.006097Z",
     "start_time": "2022-06-07T00:54:58.984336Z"
    },
    "hidden": true
   },
   "outputs": [],
   "source": [
    "# Split data\n",
    "from sklearn.model_selection import train_test_split\n",
    "X = df.drop('survived', axis=1) \n",
    "y = df['survived']\n",
    "X_train, X_test, y_train, y_test = train_test_split(\n",
    "    X, y, stratify=y, test_size=0.2, random_state=42)"
   ]
  },
  {
   "cell_type": "code",
   "execution_count": 514,
   "id": "49105402",
   "metadata": {
    "ExecuteTime": {
     "end_time": "2022-06-07T00:54:59.034497Z",
     "start_time": "2022-06-07T00:54:59.013821Z"
    },
    "hidden": true
   },
   "outputs": [],
   "source": [
    "# Preprocessing steps\n",
    "from sklearn.preprocessing import StandardScaler, OneHotEncoder, OrdinalEncoder\n",
    "from sklearn.impute import SimpleImputer\n",
    "from sklearn.compose import ColumnTransformer\n",
    "from sklearn.pipeline import Pipeline\n",
    "\n",
    "numeric_features_pipeline = Pipeline([\n",
    "    ('impute_num', SimpleImputer(strategy='mean')),\n",
    "    ('std', StandardScaler())\n",
    "])\n",
    "\n",
    "categorical_features_pipeline = Pipeline([\n",
    "    ('cat_imputer', SimpleImputer(strategy='constant', fill_value='unknow')),\n",
    "    ('onehot', OneHotEncoder())\n",
    "])\n",
    "\n",
    "ordinal_features_pipeline = Pipeline([\n",
    "    ('ord_imputer', SimpleImputer(strategy='constant', fill_value='unknow')),\n",
    "    ('ord_enc', OrdinalEncoder())\n",
    "])\n",
    "\n",
    "ct_pipeline = ColumnTransformer([\n",
    "    ('numeric_transformer', numeric_features_pipeline, numeric_features),\n",
    "    ('categorical_transformer', categorical_features_pipeline, categorical_features),\n",
    "    ('ordinal_transformer', ordinal_features_pipeline , ordinal_features),\n",
    "])"
   ]
  },
  {
   "cell_type": "markdown",
   "id": "fdc4e5c4",
   "metadata": {
    "heading_collapsed": true
   },
   "source": [
    "## __B)__ Utilizando o modelo _Random Forest_, faça a predição dos sobreviventes seperando a base de treino e teste na proporção 80%/20%."
   ]
  },
  {
   "cell_type": "code",
   "execution_count": 515,
   "id": "b8863da6",
   "metadata": {
    "ExecuteTime": {
     "end_time": "2022-06-07T00:54:59.377092Z",
     "start_time": "2022-06-07T00:54:59.039136Z"
    },
    "hidden": true
   },
   "outputs": [],
   "source": [
    "from sklearn.ensemble import RandomForestClassifier\n",
    "\n",
    "# Build RandomForest pipeline and fit model\n",
    "rf_pipeline = Pipeline([\n",
    "    ('preprocess', ct_pipeline),\n",
    "    ('rf', RandomForestClassifier(random_state=42))\n",
    "]).fit(X_train, y_train)"
   ]
  },
  {
   "cell_type": "code",
   "execution_count": 516,
   "id": "a9e78d19",
   "metadata": {
    "ExecuteTime": {
     "end_time": "2022-06-07T00:54:59.564932Z",
     "start_time": "2022-06-07T00:54:59.381511Z"
    },
    "hidden": true
   },
   "outputs": [],
   "source": [
    "# Make predictions\n",
    "y_pred_train, y_pred_test = rf_pipeline.predict(X_train), rf_pipeline.predict(X_test)\n",
    "y_proba_train, y_proba_test = rf_pipeline.predict_proba(X_train), rf_pipeline.predict_proba(X_test)"
   ]
  },
  {
   "cell_type": "code",
   "execution_count": 517,
   "id": "79d8f3b9",
   "metadata": {
    "ExecuteTime": {
     "end_time": "2022-06-07T00:54:59.722384Z",
     "start_time": "2022-06-07T00:54:59.567800Z"
    },
    "hidden": true,
    "scrolled": false
   },
   "outputs": [
    {
     "data": {
      "text/html": [
       "<div>\n",
       "<style scoped>\n",
       "    .dataframe tbody tr th:only-of-type {\n",
       "        vertical-align: middle;\n",
       "    }\n",
       "\n",
       "    .dataframe tbody tr th {\n",
       "        vertical-align: top;\n",
       "    }\n",
       "\n",
       "    .dataframe thead tr th {\n",
       "        text-align: left;\n",
       "    }\n",
       "</style>\n",
       "<table border=\"1\" class=\"dataframe\">\n",
       "  <thead>\n",
       "    <tr>\n",
       "      <th></th>\n",
       "      <th colspan=\"4\" halign=\"left\">Train dataset</th>\n",
       "      <th colspan=\"4\" halign=\"left\">Test dataset</th>\n",
       "    </tr>\n",
       "    <tr>\n",
       "      <th></th>\n",
       "      <th>precision</th>\n",
       "      <th>recall</th>\n",
       "      <th>f1-score</th>\n",
       "      <th>support</th>\n",
       "      <th>precision</th>\n",
       "      <th>recall</th>\n",
       "      <th>f1-score</th>\n",
       "      <th>support</th>\n",
       "    </tr>\n",
       "  </thead>\n",
       "  <tbody>\n",
       "    <tr>\n",
       "      <th>0</th>\n",
       "      <td>0.980</td>\n",
       "      <td>0.993</td>\n",
       "      <td>0.986</td>\n",
       "      <td>439.000</td>\n",
       "      <td>0.838</td>\n",
       "      <td>0.891</td>\n",
       "      <td>0.863</td>\n",
       "      <td>110.000</td>\n",
       "    </tr>\n",
       "    <tr>\n",
       "      <th>1</th>\n",
       "      <td>0.989</td>\n",
       "      <td>0.967</td>\n",
       "      <td>0.978</td>\n",
       "      <td>273.000</td>\n",
       "      <td>0.806</td>\n",
       "      <td>0.725</td>\n",
       "      <td>0.763</td>\n",
       "      <td>69.000</td>\n",
       "    </tr>\n",
       "    <tr>\n",
       "      <th>accuracy</th>\n",
       "      <td>0.983</td>\n",
       "      <td>0.983</td>\n",
       "      <td>0.983</td>\n",
       "      <td>0.983</td>\n",
       "      <td>0.827</td>\n",
       "      <td>0.827</td>\n",
       "      <td>0.827</td>\n",
       "      <td>0.827</td>\n",
       "    </tr>\n",
       "    <tr>\n",
       "      <th>macro avg</th>\n",
       "      <td>0.984</td>\n",
       "      <td>0.980</td>\n",
       "      <td>0.982</td>\n",
       "      <td>712.000</td>\n",
       "      <td>0.822</td>\n",
       "      <td>0.808</td>\n",
       "      <td>0.813</td>\n",
       "      <td>179.000</td>\n",
       "    </tr>\n",
       "    <tr>\n",
       "      <th>weighted avg</th>\n",
       "      <td>0.983</td>\n",
       "      <td>0.983</td>\n",
       "      <td>0.983</td>\n",
       "      <td>712.000</td>\n",
       "      <td>0.826</td>\n",
       "      <td>0.827</td>\n",
       "      <td>0.825</td>\n",
       "      <td>179.000</td>\n",
       "    </tr>\n",
       "  </tbody>\n",
       "</table>\n",
       "</div>"
      ],
      "text/plain": [
       "             Train dataset                          Test dataset         \\\n",
       "                 precision recall f1-score  support    precision recall   \n",
       "0                    0.980  0.993    0.986  439.000        0.838  0.891   \n",
       "1                    0.989  0.967    0.978  273.000        0.806  0.725   \n",
       "accuracy             0.983  0.983    0.983    0.983        0.827  0.827   \n",
       "macro avg            0.984  0.980    0.982  712.000        0.822  0.808   \n",
       "weighted avg         0.983  0.983    0.983  712.000        0.826  0.827   \n",
       "\n",
       "                                \n",
       "             f1-score  support  \n",
       "0               0.863  110.000  \n",
       "1               0.763   69.000  \n",
       "accuracy        0.827    0.827  \n",
       "macro avg       0.813  179.000  \n",
       "weighted avg    0.825  179.000  "
      ]
     },
     "metadata": {},
     "output_type": "display_data"
    },
    {
     "data": {
      "application/vnd.plotly.v1+json": {
       "config": {
        "plotlyServerURL": "https://plot.ly"
       },
       "data": [
        {
         "colorbar": {
          "x": 0.4
         },
         "colorscale": [
          [
           0,
           "#FFF2CF"
          ],
          [
           0.14285714285714285,
           "#FCE39E"
          ],
          [
           0.2857142857142857,
           "#FDD870"
          ],
          [
           0.42857142857142855,
           "#FCCB41"
          ],
          [
           0.5714285714285714,
           "#FDBF11"
          ],
          [
           0.7142857142857143,
           "#E88E2D"
          ],
          [
           0.8571428571428571,
           "#CA5800"
          ],
          [
           1,
           "#843215"
          ]
         ],
         "hovertemplate": "Predicted Label: %{x}<br>True Label: %{y}<br>#: %{z}<extra></extra>",
         "text": [
          [
           436,
           3
          ],
          [
           9,
           264
          ]
         ],
         "textfont": {
          "size": 14
         },
         "texttemplate": "%{text}",
         "type": "heatmap",
         "x": [
          1,
          0
         ],
         "xaxis": "x",
         "y": [
          1,
          0
         ],
         "yaxis": "y",
         "z": [
          [
           436,
           3
          ],
          [
           9,
           264
          ]
         ]
        },
        {
         "colorbar": {
          "x": 1
         },
         "colorscale": [
          [
           0,
           "#CFE8F3"
          ],
          [
           0.14285714285714285,
           "#A2D4EC"
          ],
          [
           0.2857142857142857,
           "#73BFE2"
          ],
          [
           0.42857142857142855,
           "#46ABDB"
          ],
          [
           0.5714285714285714,
           "#1696D2"
          ],
          [
           0.7142857142857143,
           "#12719E"
          ],
          [
           0.8571428571428571,
           "#0A4C6A"
          ],
          [
           1,
           "#062635"
          ]
         ],
         "hovertemplate": "Predicted Label: %{x}<br>True Label: %{y}<br>#: %{z}<extra></extra>",
         "text": [
          [
           98,
           12
          ],
          [
           19,
           50
          ]
         ],
         "textfont": {
          "size": 14
         },
         "texttemplate": "%{text}",
         "type": "heatmap",
         "x": [
          1,
          0
         ],
         "xaxis": "x2",
         "y": [
          1,
          0
         ],
         "yaxis": "y2",
         "z": [
          [
           98,
           12
          ],
          [
           19,
           50
          ]
         ]
        }
       ],
       "layout": {
        "annotations": [
         {
          "font": {
           "size": 16
          },
          "showarrow": false,
          "text": "Train Dataset",
          "x": 0.2,
          "xanchor": "center",
          "xref": "paper",
          "y": 1,
          "yanchor": "bottom",
          "yref": "paper"
         },
         {
          "font": {
           "size": 16
          },
          "showarrow": false,
          "text": "Test Dataset",
          "x": 0.8,
          "xanchor": "center",
          "xref": "paper",
          "y": 1,
          "yanchor": "bottom",
          "yref": "paper"
         }
        ],
        "height": 500,
        "template": {
         "data": {
          "bar": [
           {
            "error_x": {
             "color": "#2a3f5f"
            },
            "error_y": {
             "color": "#2a3f5f"
            },
            "marker": {
             "line": {
              "color": "#E5ECF6",
              "width": 0.5
             },
             "pattern": {
              "fillmode": "overlay",
              "size": 10,
              "solidity": 0.2
             }
            },
            "type": "bar"
           }
          ],
          "barpolar": [
           {
            "marker": {
             "line": {
              "color": "#E5ECF6",
              "width": 0.5
             },
             "pattern": {
              "fillmode": "overlay",
              "size": 10,
              "solidity": 0.2
             }
            },
            "type": "barpolar"
           }
          ],
          "carpet": [
           {
            "aaxis": {
             "endlinecolor": "#2a3f5f",
             "gridcolor": "white",
             "linecolor": "white",
             "minorgridcolor": "white",
             "startlinecolor": "#2a3f5f"
            },
            "baxis": {
             "endlinecolor": "#2a3f5f",
             "gridcolor": "white",
             "linecolor": "white",
             "minorgridcolor": "white",
             "startlinecolor": "#2a3f5f"
            },
            "type": "carpet"
           }
          ],
          "choropleth": [
           {
            "colorbar": {
             "outlinewidth": 0,
             "ticks": ""
            },
            "type": "choropleth"
           }
          ],
          "contour": [
           {
            "colorbar": {
             "outlinewidth": 0,
             "ticks": ""
            },
            "colorscale": [
             [
              0,
              "#0d0887"
             ],
             [
              0.1111111111111111,
              "#46039f"
             ],
             [
              0.2222222222222222,
              "#7201a8"
             ],
             [
              0.3333333333333333,
              "#9c179e"
             ],
             [
              0.4444444444444444,
              "#bd3786"
             ],
             [
              0.5555555555555556,
              "#d8576b"
             ],
             [
              0.6666666666666666,
              "#ed7953"
             ],
             [
              0.7777777777777778,
              "#fb9f3a"
             ],
             [
              0.8888888888888888,
              "#fdca26"
             ],
             [
              1,
              "#f0f921"
             ]
            ],
            "type": "contour"
           }
          ],
          "contourcarpet": [
           {
            "colorbar": {
             "outlinewidth": 0,
             "ticks": ""
            },
            "type": "contourcarpet"
           }
          ],
          "heatmap": [
           {
            "colorbar": {
             "outlinewidth": 0,
             "ticks": ""
            },
            "colorscale": [
             [
              0,
              "#0d0887"
             ],
             [
              0.1111111111111111,
              "#46039f"
             ],
             [
              0.2222222222222222,
              "#7201a8"
             ],
             [
              0.3333333333333333,
              "#9c179e"
             ],
             [
              0.4444444444444444,
              "#bd3786"
             ],
             [
              0.5555555555555556,
              "#d8576b"
             ],
             [
              0.6666666666666666,
              "#ed7953"
             ],
             [
              0.7777777777777778,
              "#fb9f3a"
             ],
             [
              0.8888888888888888,
              "#fdca26"
             ],
             [
              1,
              "#f0f921"
             ]
            ],
            "type": "heatmap"
           }
          ],
          "heatmapgl": [
           {
            "colorbar": {
             "outlinewidth": 0,
             "ticks": ""
            },
            "colorscale": [
             [
              0,
              "#0d0887"
             ],
             [
              0.1111111111111111,
              "#46039f"
             ],
             [
              0.2222222222222222,
              "#7201a8"
             ],
             [
              0.3333333333333333,
              "#9c179e"
             ],
             [
              0.4444444444444444,
              "#bd3786"
             ],
             [
              0.5555555555555556,
              "#d8576b"
             ],
             [
              0.6666666666666666,
              "#ed7953"
             ],
             [
              0.7777777777777778,
              "#fb9f3a"
             ],
             [
              0.8888888888888888,
              "#fdca26"
             ],
             [
              1,
              "#f0f921"
             ]
            ],
            "type": "heatmapgl"
           }
          ],
          "histogram": [
           {
            "marker": {
             "pattern": {
              "fillmode": "overlay",
              "size": 10,
              "solidity": 0.2
             }
            },
            "type": "histogram"
           }
          ],
          "histogram2d": [
           {
            "colorbar": {
             "outlinewidth": 0,
             "ticks": ""
            },
            "colorscale": [
             [
              0,
              "#0d0887"
             ],
             [
              0.1111111111111111,
              "#46039f"
             ],
             [
              0.2222222222222222,
              "#7201a8"
             ],
             [
              0.3333333333333333,
              "#9c179e"
             ],
             [
              0.4444444444444444,
              "#bd3786"
             ],
             [
              0.5555555555555556,
              "#d8576b"
             ],
             [
              0.6666666666666666,
              "#ed7953"
             ],
             [
              0.7777777777777778,
              "#fb9f3a"
             ],
             [
              0.8888888888888888,
              "#fdca26"
             ],
             [
              1,
              "#f0f921"
             ]
            ],
            "type": "histogram2d"
           }
          ],
          "histogram2dcontour": [
           {
            "colorbar": {
             "outlinewidth": 0,
             "ticks": ""
            },
            "colorscale": [
             [
              0,
              "#0d0887"
             ],
             [
              0.1111111111111111,
              "#46039f"
             ],
             [
              0.2222222222222222,
              "#7201a8"
             ],
             [
              0.3333333333333333,
              "#9c179e"
             ],
             [
              0.4444444444444444,
              "#bd3786"
             ],
             [
              0.5555555555555556,
              "#d8576b"
             ],
             [
              0.6666666666666666,
              "#ed7953"
             ],
             [
              0.7777777777777778,
              "#fb9f3a"
             ],
             [
              0.8888888888888888,
              "#fdca26"
             ],
             [
              1,
              "#f0f921"
             ]
            ],
            "type": "histogram2dcontour"
           }
          ],
          "mesh3d": [
           {
            "colorbar": {
             "outlinewidth": 0,
             "ticks": ""
            },
            "type": "mesh3d"
           }
          ],
          "parcoords": [
           {
            "line": {
             "colorbar": {
              "outlinewidth": 0,
              "ticks": ""
             }
            },
            "type": "parcoords"
           }
          ],
          "pie": [
           {
            "automargin": true,
            "type": "pie"
           }
          ],
          "scatter": [
           {
            "marker": {
             "colorbar": {
              "outlinewidth": 0,
              "ticks": ""
             }
            },
            "type": "scatter"
           }
          ],
          "scatter3d": [
           {
            "line": {
             "colorbar": {
              "outlinewidth": 0,
              "ticks": ""
             }
            },
            "marker": {
             "colorbar": {
              "outlinewidth": 0,
              "ticks": ""
             }
            },
            "type": "scatter3d"
           }
          ],
          "scattercarpet": [
           {
            "marker": {
             "colorbar": {
              "outlinewidth": 0,
              "ticks": ""
             }
            },
            "type": "scattercarpet"
           }
          ],
          "scattergeo": [
           {
            "marker": {
             "colorbar": {
              "outlinewidth": 0,
              "ticks": ""
             }
            },
            "type": "scattergeo"
           }
          ],
          "scattergl": [
           {
            "marker": {
             "colorbar": {
              "outlinewidth": 0,
              "ticks": ""
             }
            },
            "type": "scattergl"
           }
          ],
          "scattermapbox": [
           {
            "marker": {
             "colorbar": {
              "outlinewidth": 0,
              "ticks": ""
             }
            },
            "type": "scattermapbox"
           }
          ],
          "scatterpolar": [
           {
            "marker": {
             "colorbar": {
              "outlinewidth": 0,
              "ticks": ""
             }
            },
            "type": "scatterpolar"
           }
          ],
          "scatterpolargl": [
           {
            "marker": {
             "colorbar": {
              "outlinewidth": 0,
              "ticks": ""
             }
            },
            "type": "scatterpolargl"
           }
          ],
          "scatterternary": [
           {
            "marker": {
             "colorbar": {
              "outlinewidth": 0,
              "ticks": ""
             }
            },
            "type": "scatterternary"
           }
          ],
          "surface": [
           {
            "colorbar": {
             "outlinewidth": 0,
             "ticks": ""
            },
            "colorscale": [
             [
              0,
              "#0d0887"
             ],
             [
              0.1111111111111111,
              "#46039f"
             ],
             [
              0.2222222222222222,
              "#7201a8"
             ],
             [
              0.3333333333333333,
              "#9c179e"
             ],
             [
              0.4444444444444444,
              "#bd3786"
             ],
             [
              0.5555555555555556,
              "#d8576b"
             ],
             [
              0.6666666666666666,
              "#ed7953"
             ],
             [
              0.7777777777777778,
              "#fb9f3a"
             ],
             [
              0.8888888888888888,
              "#fdca26"
             ],
             [
              1,
              "#f0f921"
             ]
            ],
            "type": "surface"
           }
          ],
          "table": [
           {
            "cells": {
             "fill": {
              "color": "#EBF0F8"
             },
             "line": {
              "color": "white"
             }
            },
            "header": {
             "fill": {
              "color": "#C8D4E3"
             },
             "line": {
              "color": "white"
             }
            },
            "type": "table"
           }
          ]
         },
         "layout": {
          "annotationdefaults": {
           "arrowcolor": "#2a3f5f",
           "arrowhead": 0,
           "arrowwidth": 1
          },
          "autotypenumbers": "strict",
          "coloraxis": {
           "colorbar": {
            "outlinewidth": 0,
            "ticks": ""
           }
          },
          "colorscale": {
           "diverging": [
            [
             0,
             "#8e0152"
            ],
            [
             0.1,
             "#c51b7d"
            ],
            [
             0.2,
             "#de77ae"
            ],
            [
             0.3,
             "#f1b6da"
            ],
            [
             0.4,
             "#fde0ef"
            ],
            [
             0.5,
             "#f7f7f7"
            ],
            [
             0.6,
             "#e6f5d0"
            ],
            [
             0.7,
             "#b8e186"
            ],
            [
             0.8,
             "#7fbc41"
            ],
            [
             0.9,
             "#4d9221"
            ],
            [
             1,
             "#276419"
            ]
           ],
           "sequential": [
            [
             0,
             "#0d0887"
            ],
            [
             0.1111111111111111,
             "#46039f"
            ],
            [
             0.2222222222222222,
             "#7201a8"
            ],
            [
             0.3333333333333333,
             "#9c179e"
            ],
            [
             0.4444444444444444,
             "#bd3786"
            ],
            [
             0.5555555555555556,
             "#d8576b"
            ],
            [
             0.6666666666666666,
             "#ed7953"
            ],
            [
             0.7777777777777778,
             "#fb9f3a"
            ],
            [
             0.8888888888888888,
             "#fdca26"
            ],
            [
             1,
             "#f0f921"
            ]
           ],
           "sequentialminus": [
            [
             0,
             "#0d0887"
            ],
            [
             0.1111111111111111,
             "#46039f"
            ],
            [
             0.2222222222222222,
             "#7201a8"
            ],
            [
             0.3333333333333333,
             "#9c179e"
            ],
            [
             0.4444444444444444,
             "#bd3786"
            ],
            [
             0.5555555555555556,
             "#d8576b"
            ],
            [
             0.6666666666666666,
             "#ed7953"
            ],
            [
             0.7777777777777778,
             "#fb9f3a"
            ],
            [
             0.8888888888888888,
             "#fdca26"
            ],
            [
             1,
             "#f0f921"
            ]
           ]
          },
          "colorway": [
           "#636efa",
           "#EF553B",
           "#00cc96",
           "#ab63fa",
           "#FFA15A",
           "#19d3f3",
           "#FF6692",
           "#B6E880",
           "#FF97FF",
           "#FECB52"
          ],
          "font": {
           "color": "#2a3f5f"
          },
          "geo": {
           "bgcolor": "white",
           "lakecolor": "white",
           "landcolor": "#E5ECF6",
           "showlakes": true,
           "showland": true,
           "subunitcolor": "white"
          },
          "hoverlabel": {
           "align": "left"
          },
          "hovermode": "closest",
          "mapbox": {
           "style": "light"
          },
          "paper_bgcolor": "white",
          "plot_bgcolor": "#E5ECF6",
          "polar": {
           "angularaxis": {
            "gridcolor": "white",
            "linecolor": "white",
            "ticks": ""
           },
           "bgcolor": "#E5ECF6",
           "radialaxis": {
            "gridcolor": "white",
            "linecolor": "white",
            "ticks": ""
           }
          },
          "scene": {
           "xaxis": {
            "backgroundcolor": "#E5ECF6",
            "gridcolor": "white",
            "gridwidth": 2,
            "linecolor": "white",
            "showbackground": true,
            "ticks": "",
            "zerolinecolor": "white"
           },
           "yaxis": {
            "backgroundcolor": "#E5ECF6",
            "gridcolor": "white",
            "gridwidth": 2,
            "linecolor": "white",
            "showbackground": true,
            "ticks": "",
            "zerolinecolor": "white"
           },
           "zaxis": {
            "backgroundcolor": "#E5ECF6",
            "gridcolor": "white",
            "gridwidth": 2,
            "linecolor": "white",
            "showbackground": true,
            "ticks": "",
            "zerolinecolor": "white"
           }
          },
          "shapedefaults": {
           "line": {
            "color": "#2a3f5f"
           }
          },
          "ternary": {
           "aaxis": {
            "gridcolor": "white",
            "linecolor": "white",
            "ticks": ""
           },
           "baxis": {
            "gridcolor": "white",
            "linecolor": "white",
            "ticks": ""
           },
           "bgcolor": "#E5ECF6",
           "caxis": {
            "gridcolor": "white",
            "linecolor": "white",
            "ticks": ""
           }
          },
          "title": {
           "x": 0.05
          },
          "xaxis": {
           "automargin": true,
           "gridcolor": "white",
           "linecolor": "white",
           "ticks": "",
           "title": {
            "standoff": 15
           },
           "zerolinecolor": "white",
           "zerolinewidth": 2
          },
          "yaxis": {
           "automargin": true,
           "gridcolor": "white",
           "linecolor": "white",
           "ticks": "",
           "title": {
            "standoff": 15
           },
           "zerolinecolor": "white",
           "zerolinewidth": 2
          }
         }
        },
        "title": {
         "text": "Confusion Matrix"
        },
        "width": 900,
        "xaxis": {
         "anchor": "y",
         "domain": [
          0,
          0.4
         ]
        },
        "xaxis2": {
         "anchor": "y2",
         "domain": [
          0.6000000000000001,
          1
         ]
        },
        "yaxis": {
         "anchor": "x",
         "domain": [
          0,
          1
         ]
        },
        "yaxis2": {
         "anchor": "x2",
         "domain": [
          0,
          1
         ]
        }
       }
      },
      "text/html": [
       "<div>                            <div id=\"3827efba-039f-4245-8b42-f720fa72a258\" class=\"plotly-graph-div\" style=\"height:500px; width:900px;\"></div>            <script type=\"text/javascript\">                require([\"plotly\"], function(Plotly) {                    window.PLOTLYENV=window.PLOTLYENV || {};                                    if (document.getElementById(\"3827efba-039f-4245-8b42-f720fa72a258\")) {                    Plotly.newPlot(                        \"3827efba-039f-4245-8b42-f720fa72a258\",                        [{\"colorbar\":{\"x\":0.4},\"colorscale\":[[0.0,\"#FFF2CF\"],[0.14285714285714285,\"#FCE39E\"],[0.2857142857142857,\"#FDD870\"],[0.42857142857142855,\"#FCCB41\"],[0.5714285714285714,\"#FDBF11\"],[0.7142857142857143,\"#E88E2D\"],[0.8571428571428571,\"#CA5800\"],[1.0,\"#843215\"]],\"hovertemplate\":\"Predicted Label: %{x}<br>True Label: %{y}<br>#: %{z}<extra></extra>\",\"text\":[[436,3],[9,264]],\"textfont\":{\"size\":14},\"texttemplate\":\"%{text}\",\"x\":[1,0],\"y\":[1,0],\"z\":[[436,3],[9,264]],\"type\":\"heatmap\",\"xaxis\":\"x\",\"yaxis\":\"y\"},{\"colorbar\":{\"x\":1},\"colorscale\":[[0.0,\"#CFE8F3\"],[0.14285714285714285,\"#A2D4EC\"],[0.2857142857142857,\"#73BFE2\"],[0.42857142857142855,\"#46ABDB\"],[0.5714285714285714,\"#1696D2\"],[0.7142857142857143,\"#12719E\"],[0.8571428571428571,\"#0A4C6A\"],[1.0,\"#062635\"]],\"hovertemplate\":\"Predicted Label: %{x}<br>True Label: %{y}<br>#: %{z}<extra></extra>\",\"text\":[[98,12],[19,50]],\"textfont\":{\"size\":14},\"texttemplate\":\"%{text}\",\"x\":[1,0],\"y\":[1,0],\"z\":[[98,12],[19,50]],\"type\":\"heatmap\",\"xaxis\":\"x2\",\"yaxis\":\"y2\"}],                        {\"template\":{\"data\":{\"bar\":[{\"error_x\":{\"color\":\"#2a3f5f\"},\"error_y\":{\"color\":\"#2a3f5f\"},\"marker\":{\"line\":{\"color\":\"#E5ECF6\",\"width\":0.5},\"pattern\":{\"fillmode\":\"overlay\",\"size\":10,\"solidity\":0.2}},\"type\":\"bar\"}],\"barpolar\":[{\"marker\":{\"line\":{\"color\":\"#E5ECF6\",\"width\":0.5},\"pattern\":{\"fillmode\":\"overlay\",\"size\":10,\"solidity\":0.2}},\"type\":\"barpolar\"}],\"carpet\":[{\"aaxis\":{\"endlinecolor\":\"#2a3f5f\",\"gridcolor\":\"white\",\"linecolor\":\"white\",\"minorgridcolor\":\"white\",\"startlinecolor\":\"#2a3f5f\"},\"baxis\":{\"endlinecolor\":\"#2a3f5f\",\"gridcolor\":\"white\",\"linecolor\":\"white\",\"minorgridcolor\":\"white\",\"startlinecolor\":\"#2a3f5f\"},\"type\":\"carpet\"}],\"choropleth\":[{\"colorbar\":{\"outlinewidth\":0,\"ticks\":\"\"},\"type\":\"choropleth\"}],\"contour\":[{\"colorbar\":{\"outlinewidth\":0,\"ticks\":\"\"},\"colorscale\":[[0.0,\"#0d0887\"],[0.1111111111111111,\"#46039f\"],[0.2222222222222222,\"#7201a8\"],[0.3333333333333333,\"#9c179e\"],[0.4444444444444444,\"#bd3786\"],[0.5555555555555556,\"#d8576b\"],[0.6666666666666666,\"#ed7953\"],[0.7777777777777778,\"#fb9f3a\"],[0.8888888888888888,\"#fdca26\"],[1.0,\"#f0f921\"]],\"type\":\"contour\"}],\"contourcarpet\":[{\"colorbar\":{\"outlinewidth\":0,\"ticks\":\"\"},\"type\":\"contourcarpet\"}],\"heatmap\":[{\"colorbar\":{\"outlinewidth\":0,\"ticks\":\"\"},\"colorscale\":[[0.0,\"#0d0887\"],[0.1111111111111111,\"#46039f\"],[0.2222222222222222,\"#7201a8\"],[0.3333333333333333,\"#9c179e\"],[0.4444444444444444,\"#bd3786\"],[0.5555555555555556,\"#d8576b\"],[0.6666666666666666,\"#ed7953\"],[0.7777777777777778,\"#fb9f3a\"],[0.8888888888888888,\"#fdca26\"],[1.0,\"#f0f921\"]],\"type\":\"heatmap\"}],\"heatmapgl\":[{\"colorbar\":{\"outlinewidth\":0,\"ticks\":\"\"},\"colorscale\":[[0.0,\"#0d0887\"],[0.1111111111111111,\"#46039f\"],[0.2222222222222222,\"#7201a8\"],[0.3333333333333333,\"#9c179e\"],[0.4444444444444444,\"#bd3786\"],[0.5555555555555556,\"#d8576b\"],[0.6666666666666666,\"#ed7953\"],[0.7777777777777778,\"#fb9f3a\"],[0.8888888888888888,\"#fdca26\"],[1.0,\"#f0f921\"]],\"type\":\"heatmapgl\"}],\"histogram\":[{\"marker\":{\"pattern\":{\"fillmode\":\"overlay\",\"size\":10,\"solidity\":0.2}},\"type\":\"histogram\"}],\"histogram2d\":[{\"colorbar\":{\"outlinewidth\":0,\"ticks\":\"\"},\"colorscale\":[[0.0,\"#0d0887\"],[0.1111111111111111,\"#46039f\"],[0.2222222222222222,\"#7201a8\"],[0.3333333333333333,\"#9c179e\"],[0.4444444444444444,\"#bd3786\"],[0.5555555555555556,\"#d8576b\"],[0.6666666666666666,\"#ed7953\"],[0.7777777777777778,\"#fb9f3a\"],[0.8888888888888888,\"#fdca26\"],[1.0,\"#f0f921\"]],\"type\":\"histogram2d\"}],\"histogram2dcontour\":[{\"colorbar\":{\"outlinewidth\":0,\"ticks\":\"\"},\"colorscale\":[[0.0,\"#0d0887\"],[0.1111111111111111,\"#46039f\"],[0.2222222222222222,\"#7201a8\"],[0.3333333333333333,\"#9c179e\"],[0.4444444444444444,\"#bd3786\"],[0.5555555555555556,\"#d8576b\"],[0.6666666666666666,\"#ed7953\"],[0.7777777777777778,\"#fb9f3a\"],[0.8888888888888888,\"#fdca26\"],[1.0,\"#f0f921\"]],\"type\":\"histogram2dcontour\"}],\"mesh3d\":[{\"colorbar\":{\"outlinewidth\":0,\"ticks\":\"\"},\"type\":\"mesh3d\"}],\"parcoords\":[{\"line\":{\"colorbar\":{\"outlinewidth\":0,\"ticks\":\"\"}},\"type\":\"parcoords\"}],\"pie\":[{\"automargin\":true,\"type\":\"pie\"}],\"scatter\":[{\"marker\":{\"colorbar\":{\"outlinewidth\":0,\"ticks\":\"\"}},\"type\":\"scatter\"}],\"scatter3d\":[{\"line\":{\"colorbar\":{\"outlinewidth\":0,\"ticks\":\"\"}},\"marker\":{\"colorbar\":{\"outlinewidth\":0,\"ticks\":\"\"}},\"type\":\"scatter3d\"}],\"scattercarpet\":[{\"marker\":{\"colorbar\":{\"outlinewidth\":0,\"ticks\":\"\"}},\"type\":\"scattercarpet\"}],\"scattergeo\":[{\"marker\":{\"colorbar\":{\"outlinewidth\":0,\"ticks\":\"\"}},\"type\":\"scattergeo\"}],\"scattergl\":[{\"marker\":{\"colorbar\":{\"outlinewidth\":0,\"ticks\":\"\"}},\"type\":\"scattergl\"}],\"scattermapbox\":[{\"marker\":{\"colorbar\":{\"outlinewidth\":0,\"ticks\":\"\"}},\"type\":\"scattermapbox\"}],\"scatterpolar\":[{\"marker\":{\"colorbar\":{\"outlinewidth\":0,\"ticks\":\"\"}},\"type\":\"scatterpolar\"}],\"scatterpolargl\":[{\"marker\":{\"colorbar\":{\"outlinewidth\":0,\"ticks\":\"\"}},\"type\":\"scatterpolargl\"}],\"scatterternary\":[{\"marker\":{\"colorbar\":{\"outlinewidth\":0,\"ticks\":\"\"}},\"type\":\"scatterternary\"}],\"surface\":[{\"colorbar\":{\"outlinewidth\":0,\"ticks\":\"\"},\"colorscale\":[[0.0,\"#0d0887\"],[0.1111111111111111,\"#46039f\"],[0.2222222222222222,\"#7201a8\"],[0.3333333333333333,\"#9c179e\"],[0.4444444444444444,\"#bd3786\"],[0.5555555555555556,\"#d8576b\"],[0.6666666666666666,\"#ed7953\"],[0.7777777777777778,\"#fb9f3a\"],[0.8888888888888888,\"#fdca26\"],[1.0,\"#f0f921\"]],\"type\":\"surface\"}],\"table\":[{\"cells\":{\"fill\":{\"color\":\"#EBF0F8\"},\"line\":{\"color\":\"white\"}},\"header\":{\"fill\":{\"color\":\"#C8D4E3\"},\"line\":{\"color\":\"white\"}},\"type\":\"table\"}]},\"layout\":{\"annotationdefaults\":{\"arrowcolor\":\"#2a3f5f\",\"arrowhead\":0,\"arrowwidth\":1},\"autotypenumbers\":\"strict\",\"coloraxis\":{\"colorbar\":{\"outlinewidth\":0,\"ticks\":\"\"}},\"colorscale\":{\"diverging\":[[0,\"#8e0152\"],[0.1,\"#c51b7d\"],[0.2,\"#de77ae\"],[0.3,\"#f1b6da\"],[0.4,\"#fde0ef\"],[0.5,\"#f7f7f7\"],[0.6,\"#e6f5d0\"],[0.7,\"#b8e186\"],[0.8,\"#7fbc41\"],[0.9,\"#4d9221\"],[1,\"#276419\"]],\"sequential\":[[0.0,\"#0d0887\"],[0.1111111111111111,\"#46039f\"],[0.2222222222222222,\"#7201a8\"],[0.3333333333333333,\"#9c179e\"],[0.4444444444444444,\"#bd3786\"],[0.5555555555555556,\"#d8576b\"],[0.6666666666666666,\"#ed7953\"],[0.7777777777777778,\"#fb9f3a\"],[0.8888888888888888,\"#fdca26\"],[1.0,\"#f0f921\"]],\"sequentialminus\":[[0.0,\"#0d0887\"],[0.1111111111111111,\"#46039f\"],[0.2222222222222222,\"#7201a8\"],[0.3333333333333333,\"#9c179e\"],[0.4444444444444444,\"#bd3786\"],[0.5555555555555556,\"#d8576b\"],[0.6666666666666666,\"#ed7953\"],[0.7777777777777778,\"#fb9f3a\"],[0.8888888888888888,\"#fdca26\"],[1.0,\"#f0f921\"]]},\"colorway\":[\"#636efa\",\"#EF553B\",\"#00cc96\",\"#ab63fa\",\"#FFA15A\",\"#19d3f3\",\"#FF6692\",\"#B6E880\",\"#FF97FF\",\"#FECB52\"],\"font\":{\"color\":\"#2a3f5f\"},\"geo\":{\"bgcolor\":\"white\",\"lakecolor\":\"white\",\"landcolor\":\"#E5ECF6\",\"showlakes\":true,\"showland\":true,\"subunitcolor\":\"white\"},\"hoverlabel\":{\"align\":\"left\"},\"hovermode\":\"closest\",\"mapbox\":{\"style\":\"light\"},\"paper_bgcolor\":\"white\",\"plot_bgcolor\":\"#E5ECF6\",\"polar\":{\"angularaxis\":{\"gridcolor\":\"white\",\"linecolor\":\"white\",\"ticks\":\"\"},\"bgcolor\":\"#E5ECF6\",\"radialaxis\":{\"gridcolor\":\"white\",\"linecolor\":\"white\",\"ticks\":\"\"}},\"scene\":{\"xaxis\":{\"backgroundcolor\":\"#E5ECF6\",\"gridcolor\":\"white\",\"gridwidth\":2,\"linecolor\":\"white\",\"showbackground\":true,\"ticks\":\"\",\"zerolinecolor\":\"white\"},\"yaxis\":{\"backgroundcolor\":\"#E5ECF6\",\"gridcolor\":\"white\",\"gridwidth\":2,\"linecolor\":\"white\",\"showbackground\":true,\"ticks\":\"\",\"zerolinecolor\":\"white\"},\"zaxis\":{\"backgroundcolor\":\"#E5ECF6\",\"gridcolor\":\"white\",\"gridwidth\":2,\"linecolor\":\"white\",\"showbackground\":true,\"ticks\":\"\",\"zerolinecolor\":\"white\"}},\"shapedefaults\":{\"line\":{\"color\":\"#2a3f5f\"}},\"ternary\":{\"aaxis\":{\"gridcolor\":\"white\",\"linecolor\":\"white\",\"ticks\":\"\"},\"baxis\":{\"gridcolor\":\"white\",\"linecolor\":\"white\",\"ticks\":\"\"},\"bgcolor\":\"#E5ECF6\",\"caxis\":{\"gridcolor\":\"white\",\"linecolor\":\"white\",\"ticks\":\"\"}},\"title\":{\"x\":0.05},\"xaxis\":{\"automargin\":true,\"gridcolor\":\"white\",\"linecolor\":\"white\",\"ticks\":\"\",\"title\":{\"standoff\":15},\"zerolinecolor\":\"white\",\"zerolinewidth\":2},\"yaxis\":{\"automargin\":true,\"gridcolor\":\"white\",\"linecolor\":\"white\",\"ticks\":\"\",\"title\":{\"standoff\":15},\"zerolinecolor\":\"white\",\"zerolinewidth\":2}}},\"xaxis\":{\"anchor\":\"y\",\"domain\":[0.0,0.4]},\"yaxis\":{\"anchor\":\"x\",\"domain\":[0.0,1.0]},\"xaxis2\":{\"anchor\":\"y2\",\"domain\":[0.6000000000000001,1.0]},\"yaxis2\":{\"anchor\":\"x2\",\"domain\":[0.0,1.0]},\"annotations\":[{\"font\":{\"size\":16},\"showarrow\":false,\"text\":\"Train Dataset\",\"x\":0.2,\"xanchor\":\"center\",\"xref\":\"paper\",\"y\":1.0,\"yanchor\":\"bottom\",\"yref\":\"paper\"},{\"font\":{\"size\":16},\"showarrow\":false,\"text\":\"Test Dataset\",\"x\":0.8,\"xanchor\":\"center\",\"xref\":\"paper\",\"y\":1.0,\"yanchor\":\"bottom\",\"yref\":\"paper\"}],\"title\":{\"text\":\"Confusion Matrix\"},\"width\":900,\"height\":500},                        {\"responsive\": true}                    ).then(function(){\n",
       "                            \n",
       "var gd = document.getElementById('3827efba-039f-4245-8b42-f720fa72a258');\n",
       "var x = new MutationObserver(function (mutations, observer) {{\n",
       "        var display = window.getComputedStyle(gd).display;\n",
       "        if (!display || display === 'none') {{\n",
       "            console.log([gd, 'removed!']);\n",
       "            Plotly.purge(gd);\n",
       "            observer.disconnect();\n",
       "        }}\n",
       "}});\n",
       "\n",
       "// Listen for the removal of the full notebook cells\n",
       "var notebookContainer = gd.closest('#notebook-container');\n",
       "if (notebookContainer) {{\n",
       "    x.observe(notebookContainer, {childList: true});\n",
       "}}\n",
       "\n",
       "// Listen for the clearing of the current output cell\n",
       "var outputEl = gd.closest('.output');\n",
       "if (outputEl) {{\n",
       "    x.observe(outputEl, {childList: true});\n",
       "}}\n",
       "\n",
       "                        })                };                });            </script>        </div>"
      ]
     },
     "metadata": {},
     "output_type": "display_data"
    },
    {
     "data": {
      "application/vnd.plotly.v1+json": {
       "config": {
        "plotlyServerURL": "https://plot.ly"
       },
       "data": [
        {
         "fill": "tozeroy",
         "line": {
          "color": "#fdbf11",
          "width": 2
         },
         "name": "Train dataset AUC=0.998",
         "stackgroup": "one",
         "type": "scatter",
         "x": [
          0,
          0,
          0,
          0,
          0,
          0,
          0,
          0,
          0,
          0,
          0,
          0,
          0,
          0,
          0,
          0,
          0.002277904328018223,
          0.002277904328018223,
          0.002277904328018223,
          0.002277904328018223,
          0.002277904328018223,
          0.002277904328018223,
          0.002277904328018223,
          0.002277904328018223,
          0.002277904328018223,
          0.002277904328018223,
          0.002277904328018223,
          0.002277904328018223,
          0.002277904328018223,
          0.002277904328018223,
          0.002277904328018223,
          0.002277904328018223,
          0.002277904328018223,
          0.002277904328018223,
          0.002277904328018223,
          0.002277904328018223,
          0.002277904328018223,
          0.002277904328018223,
          0.002277904328018223,
          0.002277904328018223,
          0.002277904328018223,
          0.002277904328018223,
          0.002277904328018223,
          0.002277904328018223,
          0.002277904328018223,
          0.002277904328018223,
          0.002277904328018223,
          0.011389521640091117,
          0.01366742596810934,
          0.015945330296127564,
          0.018223234624145785,
          0.022779043280182234,
          0.02733485193621868,
          0.03416856492027335,
          0.0387243735763098,
          0.04783599088838269,
          0.05694760820045558,
          0.05922551252847381,
          0.06378132118451026,
          0.0683371298405467,
          0.07061503416856492,
          0.07972665148063782,
          0.08428246013667426,
          0.09111617312072894,
          0.10022779043280182,
          0.10250569476082004,
          0.11617312072892938,
          0.1252847380410023,
          0.14350797266514806,
          0.1548974943052392,
          0.17084282460136674,
          0.17995444191343962,
          0.21184510250569477,
          0.2164009111617312,
          0.2255125284738041,
          0.22779043280182232,
          0.24145785876993167,
          0.2460136674259681,
          0.26879271070615035,
          0.275626423690205,
          0.2984054669703872,
          0.30296127562642367,
          0.3211845102505695,
          0.33029612756264237,
          0.33712984054669703,
          0.34851936218678814,
          0.3530751708428246,
          0.3621867881548975,
          0.3826879271070615,
          0.3917995444191344,
          0.4054669703872437,
          0.40774487471526194,
          0.42596810933940776,
          0.428246013667426,
          0.4328018223234624,
          0.43735763097949887,
          0.48519362186788156,
          0.489749430523918,
          0.49658314350797267,
          0.5284738041002278,
          0.5330296127562643,
          0.5466970387243736,
          0.6104783599088838,
          0.621867881548975,
          0.6902050113895216,
          0.6924829157175398,
          0.6993166287015945,
          0.7129840546697038,
          0.7198177676537585,
          0.724373576309795,
          0.7266514806378133,
          1
         ],
         "y": [
          0,
          0.24175824175824176,
          0.29304029304029305,
          0.30036630036630035,
          0.304029304029304,
          0.3663003663003663,
          0.42124542124542125,
          0.45787545787545786,
          0.46153846153846156,
          0.4981684981684982,
          0.5201465201465202,
          0.5531135531135531,
          0.5677655677655677,
          0.5824175824175825,
          0.6263736263736264,
          0.6373626373626373,
          0.6556776556776557,
          0.6666666666666666,
          0.684981684981685,
          0.6923076923076923,
          0.6959706959706959,
          0.7252747252747253,
          0.7289377289377289,
          0.7362637362637363,
          0.7509157509157509,
          0.7545787545787546,
          0.7838827838827839,
          0.7875457875457875,
          0.7948717948717948,
          0.8058608058608059,
          0.8095238095238095,
          0.8241758241758241,
          0.8315018315018315,
          0.8498168498168498,
          0.8644688644688645,
          0.8681318681318682,
          0.8827838827838828,
          0.8901098901098901,
          0.9047619047619048,
          0.9120879120879121,
          0.9194139194139194,
          0.9340659340659341,
          0.9377289377289377,
          0.945054945054945,
          0.9487179487179487,
          0.9560439560439561,
          0.9597069597069597,
          0.9743589743589743,
          0.9743589743589743,
          0.978021978021978,
          0.978021978021978,
          0.978021978021978,
          0.9853479853479854,
          0.9853479853479854,
          0.9853479853479854,
          0.9853479853479854,
          0.9926739926739927,
          0.9926739926739927,
          0.9926739926739927,
          0.9963369963369964,
          0.9963369963369964,
          0.9963369963369964,
          0.9963369963369964,
          0.9963369963369964,
          0.9963369963369964,
          0.9963369963369964,
          0.9963369963369964,
          0.9963369963369964,
          0.9963369963369964,
          1,
          1,
          1,
          1,
          1,
          1,
          1,
          1,
          1,
          1,
          1,
          1,
          1,
          1,
          1,
          1,
          1,
          1,
          1,
          1,
          1,
          1,
          1,
          1,
          1,
          1,
          1,
          1,
          1,
          1,
          1,
          1,
          1,
          1,
          1,
          1,
          1,
          1,
          1,
          1,
          1,
          1,
          1
         ]
        },
        {
         "fill": "tozeroy",
         "line": {
          "color": "#1696d2",
          "width": 2
         },
         "name": "Test dataset AUC=0.838",
         "type": "scatter",
         "x": [
          0,
          0,
          0,
          0.01818181818181818,
          0.02727272727272727,
          0.02727272727272727,
          0.02727272727272727,
          0.02727272727272727,
          0.02727272727272727,
          0.02727272727272727,
          0.02727272727272727,
          0.02727272727272727,
          0.02727272727272727,
          0.02727272727272727,
          0.03636363636363636,
          0.03636363636363636,
          0.03636363636363636,
          0.05454545454545454,
          0.06363636363636363,
          0.06363636363636363,
          0.07272727272727272,
          0.07272727272727272,
          0.08181818181818182,
          0.08181818181818182,
          0.09090909090909091,
          0.09090909090909091,
          0.1,
          0.1,
          0.1,
          0.10909090909090909,
          0.10909090909090909,
          0.11818181818181818,
          0.13636363636363635,
          0.13636363636363635,
          0.15454545454545454,
          0.16363636363636364,
          0.17272727272727273,
          0.19090909090909092,
          0.19090909090909092,
          0.20909090909090908,
          0.22727272727272727,
          0.2909090909090909,
          0.3090909090909091,
          0.32727272727272727,
          0.33636363636363636,
          0.35454545454545455,
          0.37272727272727274,
          0.4,
          0.4090909090909091,
          0.41818181818181815,
          0.43636363636363634,
          0.44545454545454544,
          0.4636363636363636,
          0.4818181818181818,
          0.4909090909090909,
          0.5272727272727272,
          0.5363636363636364,
          0.5545454545454546,
          0.6181818181818182,
          0.6363636363636364,
          0.6545454545454545,
          0.6545454545454545,
          0.6727272727272727,
          0.7,
          0.7,
          0.7272727272727273,
          0.7454545454545455,
          0.7727272727272727,
          0.7909090909090909,
          0.8090909090909091,
          0.8181818181818182,
          0.8272727272727273,
          0.8454545454545455,
          0.8636363636363636,
          0.8727272727272727,
          1
         ],
         "y": [
          0,
          0.057971014492753624,
          0.13043478260869565,
          0.13043478260869565,
          0.15942028985507245,
          0.18840579710144928,
          0.2028985507246377,
          0.2463768115942029,
          0.2753623188405797,
          0.30434782608695654,
          0.3188405797101449,
          0.37681159420289856,
          0.391304347826087,
          0.42028985507246375,
          0.42028985507246375,
          0.4492753623188406,
          0.5072463768115942,
          0.5362318840579711,
          0.5362318840579711,
          0.5652173913043478,
          0.5652173913043478,
          0.5797101449275363,
          0.5797101449275363,
          0.5942028985507246,
          0.6086956521739131,
          0.6231884057971014,
          0.6376811594202898,
          0.6811594202898551,
          0.7101449275362319,
          0.7101449275362319,
          0.7246376811594203,
          0.7391304347826086,
          0.7391304347826086,
          0.7681159420289855,
          0.7681159420289855,
          0.782608695652174,
          0.782608695652174,
          0.782608695652174,
          0.7971014492753623,
          0.7971014492753623,
          0.8260869565217391,
          0.8260869565217391,
          0.8260869565217391,
          0.8260869565217391,
          0.8260869565217391,
          0.8405797101449275,
          0.8405797101449275,
          0.8405797101449275,
          0.8405797101449275,
          0.855072463768116,
          0.855072463768116,
          0.855072463768116,
          0.8840579710144928,
          0.8840579710144928,
          0.8840579710144928,
          0.8840579710144928,
          0.8840579710144928,
          0.8985507246376812,
          0.8985507246376812,
          0.8985507246376812,
          0.8985507246376812,
          0.9130434782608695,
          0.9130434782608695,
          0.9130434782608695,
          0.927536231884058,
          0.927536231884058,
          0.927536231884058,
          0.927536231884058,
          0.927536231884058,
          0.9420289855072463,
          0.9420289855072463,
          0.9565217391304348,
          0.9565217391304348,
          0.9565217391304348,
          0.9565217391304348,
          1
         ]
        }
       ],
       "layout": {
        "height": 500,
        "shapes": [
         {
          "line": {
           "dash": "dash"
          },
          "type": "line",
          "x0": 0,
          "x1": 1,
          "y0": 0,
          "y1": 1
         }
        ],
        "template": {
         "data": {
          "bar": [
           {
            "error_x": {
             "color": "#2a3f5f"
            },
            "error_y": {
             "color": "#2a3f5f"
            },
            "marker": {
             "line": {
              "color": "#E5ECF6",
              "width": 0.5
             },
             "pattern": {
              "fillmode": "overlay",
              "size": 10,
              "solidity": 0.2
             }
            },
            "type": "bar"
           }
          ],
          "barpolar": [
           {
            "marker": {
             "line": {
              "color": "#E5ECF6",
              "width": 0.5
             },
             "pattern": {
              "fillmode": "overlay",
              "size": 10,
              "solidity": 0.2
             }
            },
            "type": "barpolar"
           }
          ],
          "carpet": [
           {
            "aaxis": {
             "endlinecolor": "#2a3f5f",
             "gridcolor": "white",
             "linecolor": "white",
             "minorgridcolor": "white",
             "startlinecolor": "#2a3f5f"
            },
            "baxis": {
             "endlinecolor": "#2a3f5f",
             "gridcolor": "white",
             "linecolor": "white",
             "minorgridcolor": "white",
             "startlinecolor": "#2a3f5f"
            },
            "type": "carpet"
           }
          ],
          "choropleth": [
           {
            "colorbar": {
             "outlinewidth": 0,
             "ticks": ""
            },
            "type": "choropleth"
           }
          ],
          "contour": [
           {
            "colorbar": {
             "outlinewidth": 0,
             "ticks": ""
            },
            "colorscale": [
             [
              0,
              "#0d0887"
             ],
             [
              0.1111111111111111,
              "#46039f"
             ],
             [
              0.2222222222222222,
              "#7201a8"
             ],
             [
              0.3333333333333333,
              "#9c179e"
             ],
             [
              0.4444444444444444,
              "#bd3786"
             ],
             [
              0.5555555555555556,
              "#d8576b"
             ],
             [
              0.6666666666666666,
              "#ed7953"
             ],
             [
              0.7777777777777778,
              "#fb9f3a"
             ],
             [
              0.8888888888888888,
              "#fdca26"
             ],
             [
              1,
              "#f0f921"
             ]
            ],
            "type": "contour"
           }
          ],
          "contourcarpet": [
           {
            "colorbar": {
             "outlinewidth": 0,
             "ticks": ""
            },
            "type": "contourcarpet"
           }
          ],
          "heatmap": [
           {
            "colorbar": {
             "outlinewidth": 0,
             "ticks": ""
            },
            "colorscale": [
             [
              0,
              "#0d0887"
             ],
             [
              0.1111111111111111,
              "#46039f"
             ],
             [
              0.2222222222222222,
              "#7201a8"
             ],
             [
              0.3333333333333333,
              "#9c179e"
             ],
             [
              0.4444444444444444,
              "#bd3786"
             ],
             [
              0.5555555555555556,
              "#d8576b"
             ],
             [
              0.6666666666666666,
              "#ed7953"
             ],
             [
              0.7777777777777778,
              "#fb9f3a"
             ],
             [
              0.8888888888888888,
              "#fdca26"
             ],
             [
              1,
              "#f0f921"
             ]
            ],
            "type": "heatmap"
           }
          ],
          "heatmapgl": [
           {
            "colorbar": {
             "outlinewidth": 0,
             "ticks": ""
            },
            "colorscale": [
             [
              0,
              "#0d0887"
             ],
             [
              0.1111111111111111,
              "#46039f"
             ],
             [
              0.2222222222222222,
              "#7201a8"
             ],
             [
              0.3333333333333333,
              "#9c179e"
             ],
             [
              0.4444444444444444,
              "#bd3786"
             ],
             [
              0.5555555555555556,
              "#d8576b"
             ],
             [
              0.6666666666666666,
              "#ed7953"
             ],
             [
              0.7777777777777778,
              "#fb9f3a"
             ],
             [
              0.8888888888888888,
              "#fdca26"
             ],
             [
              1,
              "#f0f921"
             ]
            ],
            "type": "heatmapgl"
           }
          ],
          "histogram": [
           {
            "marker": {
             "pattern": {
              "fillmode": "overlay",
              "size": 10,
              "solidity": 0.2
             }
            },
            "type": "histogram"
           }
          ],
          "histogram2d": [
           {
            "colorbar": {
             "outlinewidth": 0,
             "ticks": ""
            },
            "colorscale": [
             [
              0,
              "#0d0887"
             ],
             [
              0.1111111111111111,
              "#46039f"
             ],
             [
              0.2222222222222222,
              "#7201a8"
             ],
             [
              0.3333333333333333,
              "#9c179e"
             ],
             [
              0.4444444444444444,
              "#bd3786"
             ],
             [
              0.5555555555555556,
              "#d8576b"
             ],
             [
              0.6666666666666666,
              "#ed7953"
             ],
             [
              0.7777777777777778,
              "#fb9f3a"
             ],
             [
              0.8888888888888888,
              "#fdca26"
             ],
             [
              1,
              "#f0f921"
             ]
            ],
            "type": "histogram2d"
           }
          ],
          "histogram2dcontour": [
           {
            "colorbar": {
             "outlinewidth": 0,
             "ticks": ""
            },
            "colorscale": [
             [
              0,
              "#0d0887"
             ],
             [
              0.1111111111111111,
              "#46039f"
             ],
             [
              0.2222222222222222,
              "#7201a8"
             ],
             [
              0.3333333333333333,
              "#9c179e"
             ],
             [
              0.4444444444444444,
              "#bd3786"
             ],
             [
              0.5555555555555556,
              "#d8576b"
             ],
             [
              0.6666666666666666,
              "#ed7953"
             ],
             [
              0.7777777777777778,
              "#fb9f3a"
             ],
             [
              0.8888888888888888,
              "#fdca26"
             ],
             [
              1,
              "#f0f921"
             ]
            ],
            "type": "histogram2dcontour"
           }
          ],
          "mesh3d": [
           {
            "colorbar": {
             "outlinewidth": 0,
             "ticks": ""
            },
            "type": "mesh3d"
           }
          ],
          "parcoords": [
           {
            "line": {
             "colorbar": {
              "outlinewidth": 0,
              "ticks": ""
             }
            },
            "type": "parcoords"
           }
          ],
          "pie": [
           {
            "automargin": true,
            "type": "pie"
           }
          ],
          "scatter": [
           {
            "marker": {
             "colorbar": {
              "outlinewidth": 0,
              "ticks": ""
             }
            },
            "type": "scatter"
           }
          ],
          "scatter3d": [
           {
            "line": {
             "colorbar": {
              "outlinewidth": 0,
              "ticks": ""
             }
            },
            "marker": {
             "colorbar": {
              "outlinewidth": 0,
              "ticks": ""
             }
            },
            "type": "scatter3d"
           }
          ],
          "scattercarpet": [
           {
            "marker": {
             "colorbar": {
              "outlinewidth": 0,
              "ticks": ""
             }
            },
            "type": "scattercarpet"
           }
          ],
          "scattergeo": [
           {
            "marker": {
             "colorbar": {
              "outlinewidth": 0,
              "ticks": ""
             }
            },
            "type": "scattergeo"
           }
          ],
          "scattergl": [
           {
            "marker": {
             "colorbar": {
              "outlinewidth": 0,
              "ticks": ""
             }
            },
            "type": "scattergl"
           }
          ],
          "scattermapbox": [
           {
            "marker": {
             "colorbar": {
              "outlinewidth": 0,
              "ticks": ""
             }
            },
            "type": "scattermapbox"
           }
          ],
          "scatterpolar": [
           {
            "marker": {
             "colorbar": {
              "outlinewidth": 0,
              "ticks": ""
             }
            },
            "type": "scatterpolar"
           }
          ],
          "scatterpolargl": [
           {
            "marker": {
             "colorbar": {
              "outlinewidth": 0,
              "ticks": ""
             }
            },
            "type": "scatterpolargl"
           }
          ],
          "scatterternary": [
           {
            "marker": {
             "colorbar": {
              "outlinewidth": 0,
              "ticks": ""
             }
            },
            "type": "scatterternary"
           }
          ],
          "surface": [
           {
            "colorbar": {
             "outlinewidth": 0,
             "ticks": ""
            },
            "colorscale": [
             [
              0,
              "#0d0887"
             ],
             [
              0.1111111111111111,
              "#46039f"
             ],
             [
              0.2222222222222222,
              "#7201a8"
             ],
             [
              0.3333333333333333,
              "#9c179e"
             ],
             [
              0.4444444444444444,
              "#bd3786"
             ],
             [
              0.5555555555555556,
              "#d8576b"
             ],
             [
              0.6666666666666666,
              "#ed7953"
             ],
             [
              0.7777777777777778,
              "#fb9f3a"
             ],
             [
              0.8888888888888888,
              "#fdca26"
             ],
             [
              1,
              "#f0f921"
             ]
            ],
            "type": "surface"
           }
          ],
          "table": [
           {
            "cells": {
             "fill": {
              "color": "#EBF0F8"
             },
             "line": {
              "color": "white"
             }
            },
            "header": {
             "fill": {
              "color": "#C8D4E3"
             },
             "line": {
              "color": "white"
             }
            },
            "type": "table"
           }
          ]
         },
         "layout": {
          "annotationdefaults": {
           "arrowcolor": "#2a3f5f",
           "arrowhead": 0,
           "arrowwidth": 1
          },
          "autotypenumbers": "strict",
          "coloraxis": {
           "colorbar": {
            "outlinewidth": 0,
            "ticks": ""
           }
          },
          "colorscale": {
           "diverging": [
            [
             0,
             "#8e0152"
            ],
            [
             0.1,
             "#c51b7d"
            ],
            [
             0.2,
             "#de77ae"
            ],
            [
             0.3,
             "#f1b6da"
            ],
            [
             0.4,
             "#fde0ef"
            ],
            [
             0.5,
             "#f7f7f7"
            ],
            [
             0.6,
             "#e6f5d0"
            ],
            [
             0.7,
             "#b8e186"
            ],
            [
             0.8,
             "#7fbc41"
            ],
            [
             0.9,
             "#4d9221"
            ],
            [
             1,
             "#276419"
            ]
           ],
           "sequential": [
            [
             0,
             "#0d0887"
            ],
            [
             0.1111111111111111,
             "#46039f"
            ],
            [
             0.2222222222222222,
             "#7201a8"
            ],
            [
             0.3333333333333333,
             "#9c179e"
            ],
            [
             0.4444444444444444,
             "#bd3786"
            ],
            [
             0.5555555555555556,
             "#d8576b"
            ],
            [
             0.6666666666666666,
             "#ed7953"
            ],
            [
             0.7777777777777778,
             "#fb9f3a"
            ],
            [
             0.8888888888888888,
             "#fdca26"
            ],
            [
             1,
             "#f0f921"
            ]
           ],
           "sequentialminus": [
            [
             0,
             "#0d0887"
            ],
            [
             0.1111111111111111,
             "#46039f"
            ],
            [
             0.2222222222222222,
             "#7201a8"
            ],
            [
             0.3333333333333333,
             "#9c179e"
            ],
            [
             0.4444444444444444,
             "#bd3786"
            ],
            [
             0.5555555555555556,
             "#d8576b"
            ],
            [
             0.6666666666666666,
             "#ed7953"
            ],
            [
             0.7777777777777778,
             "#fb9f3a"
            ],
            [
             0.8888888888888888,
             "#fdca26"
            ],
            [
             1,
             "#f0f921"
            ]
           ]
          },
          "colorway": [
           "#636efa",
           "#EF553B",
           "#00cc96",
           "#ab63fa",
           "#FFA15A",
           "#19d3f3",
           "#FF6692",
           "#B6E880",
           "#FF97FF",
           "#FECB52"
          ],
          "font": {
           "color": "#2a3f5f"
          },
          "geo": {
           "bgcolor": "white",
           "lakecolor": "white",
           "landcolor": "#E5ECF6",
           "showlakes": true,
           "showland": true,
           "subunitcolor": "white"
          },
          "hoverlabel": {
           "align": "left"
          },
          "hovermode": "closest",
          "mapbox": {
           "style": "light"
          },
          "paper_bgcolor": "white",
          "plot_bgcolor": "#E5ECF6",
          "polar": {
           "angularaxis": {
            "gridcolor": "white",
            "linecolor": "white",
            "ticks": ""
           },
           "bgcolor": "#E5ECF6",
           "radialaxis": {
            "gridcolor": "white",
            "linecolor": "white",
            "ticks": ""
           }
          },
          "scene": {
           "xaxis": {
            "backgroundcolor": "#E5ECF6",
            "gridcolor": "white",
            "gridwidth": 2,
            "linecolor": "white",
            "showbackground": true,
            "ticks": "",
            "zerolinecolor": "white"
           },
           "yaxis": {
            "backgroundcolor": "#E5ECF6",
            "gridcolor": "white",
            "gridwidth": 2,
            "linecolor": "white",
            "showbackground": true,
            "ticks": "",
            "zerolinecolor": "white"
           },
           "zaxis": {
            "backgroundcolor": "#E5ECF6",
            "gridcolor": "white",
            "gridwidth": 2,
            "linecolor": "white",
            "showbackground": true,
            "ticks": "",
            "zerolinecolor": "white"
           }
          },
          "shapedefaults": {
           "line": {
            "color": "#2a3f5f"
           }
          },
          "ternary": {
           "aaxis": {
            "gridcolor": "white",
            "linecolor": "white",
            "ticks": ""
           },
           "baxis": {
            "gridcolor": "white",
            "linecolor": "white",
            "ticks": ""
           },
           "bgcolor": "#E5ECF6",
           "caxis": {
            "gridcolor": "white",
            "linecolor": "white",
            "ticks": ""
           }
          },
          "title": {
           "x": 0.05
          },
          "xaxis": {
           "automargin": true,
           "gridcolor": "white",
           "linecolor": "white",
           "ticks": "",
           "title": {
            "standoff": 15
           },
           "zerolinecolor": "white",
           "zerolinewidth": 2
          },
          "yaxis": {
           "automargin": true,
           "gridcolor": "white",
           "linecolor": "white",
           "ticks": "",
           "title": {
            "standoff": 15
           },
           "zerolinecolor": "white",
           "zerolinewidth": 2
          }
         }
        },
        "title": {
         "text": "ROC AUC Curve"
        },
        "width": 700,
        "xaxis": {
         "constrain": "domain",
         "title": {
          "text": "False Positive Rate"
         }
        },
        "yaxis": {
         "scaleanchor": "x",
         "scaleratio": 1,
         "title": {
          "text": "True Positive Rate"
         }
        }
       }
      },
      "text/html": [
       "<div>                            <div id=\"9b1ef994-c2c4-4c2d-abd3-6dcce080124e\" class=\"plotly-graph-div\" style=\"height:500px; width:700px;\"></div>            <script type=\"text/javascript\">                require([\"plotly\"], function(Plotly) {                    window.PLOTLYENV=window.PLOTLYENV || {};                                    if (document.getElementById(\"9b1ef994-c2c4-4c2d-abd3-6dcce080124e\")) {                    Plotly.newPlot(                        \"9b1ef994-c2c4-4c2d-abd3-6dcce080124e\",                        [{\"fill\":\"tozeroy\",\"line\":{\"color\":\"#fdbf11\",\"width\":2},\"name\":\"Train dataset AUC=0.998\",\"stackgroup\":\"one\",\"x\":[0.0,0.0,0.0,0.0,0.0,0.0,0.0,0.0,0.0,0.0,0.0,0.0,0.0,0.0,0.0,0.0,0.002277904328018223,0.002277904328018223,0.002277904328018223,0.002277904328018223,0.002277904328018223,0.002277904328018223,0.002277904328018223,0.002277904328018223,0.002277904328018223,0.002277904328018223,0.002277904328018223,0.002277904328018223,0.002277904328018223,0.002277904328018223,0.002277904328018223,0.002277904328018223,0.002277904328018223,0.002277904328018223,0.002277904328018223,0.002277904328018223,0.002277904328018223,0.002277904328018223,0.002277904328018223,0.002277904328018223,0.002277904328018223,0.002277904328018223,0.002277904328018223,0.002277904328018223,0.002277904328018223,0.002277904328018223,0.002277904328018223,0.011389521640091117,0.01366742596810934,0.015945330296127564,0.018223234624145785,0.022779043280182234,0.02733485193621868,0.03416856492027335,0.0387243735763098,0.04783599088838269,0.05694760820045558,0.05922551252847381,0.06378132118451026,0.0683371298405467,0.07061503416856492,0.07972665148063782,0.08428246013667426,0.09111617312072894,0.10022779043280182,0.10250569476082004,0.11617312072892938,0.1252847380410023,0.14350797266514806,0.1548974943052392,0.17084282460136674,0.17995444191343962,0.21184510250569477,0.2164009111617312,0.2255125284738041,0.22779043280182232,0.24145785876993167,0.2460136674259681,0.26879271070615035,0.275626423690205,0.2984054669703872,0.30296127562642367,0.3211845102505695,0.33029612756264237,0.33712984054669703,0.34851936218678814,0.3530751708428246,0.3621867881548975,0.3826879271070615,0.3917995444191344,0.4054669703872437,0.40774487471526194,0.42596810933940776,0.428246013667426,0.4328018223234624,0.43735763097949887,0.48519362186788156,0.489749430523918,0.49658314350797267,0.5284738041002278,0.5330296127562643,0.5466970387243736,0.6104783599088838,0.621867881548975,0.6902050113895216,0.6924829157175398,0.6993166287015945,0.7129840546697038,0.7198177676537585,0.724373576309795,0.7266514806378133,1.0],\"y\":[0.0,0.24175824175824176,0.29304029304029305,0.30036630036630035,0.304029304029304,0.3663003663003663,0.42124542124542125,0.45787545787545786,0.46153846153846156,0.4981684981684982,0.5201465201465202,0.5531135531135531,0.5677655677655677,0.5824175824175825,0.6263736263736264,0.6373626373626373,0.6556776556776557,0.6666666666666666,0.684981684981685,0.6923076923076923,0.6959706959706959,0.7252747252747253,0.7289377289377289,0.7362637362637363,0.7509157509157509,0.7545787545787546,0.7838827838827839,0.7875457875457875,0.7948717948717948,0.8058608058608059,0.8095238095238095,0.8241758241758241,0.8315018315018315,0.8498168498168498,0.8644688644688645,0.8681318681318682,0.8827838827838828,0.8901098901098901,0.9047619047619048,0.9120879120879121,0.9194139194139194,0.9340659340659341,0.9377289377289377,0.945054945054945,0.9487179487179487,0.9560439560439561,0.9597069597069597,0.9743589743589743,0.9743589743589743,0.978021978021978,0.978021978021978,0.978021978021978,0.9853479853479854,0.9853479853479854,0.9853479853479854,0.9853479853479854,0.9926739926739927,0.9926739926739927,0.9926739926739927,0.9963369963369964,0.9963369963369964,0.9963369963369964,0.9963369963369964,0.9963369963369964,0.9963369963369964,0.9963369963369964,0.9963369963369964,0.9963369963369964,0.9963369963369964,1.0,1.0,1.0,1.0,1.0,1.0,1.0,1.0,1.0,1.0,1.0,1.0,1.0,1.0,1.0,1.0,1.0,1.0,1.0,1.0,1.0,1.0,1.0,1.0,1.0,1.0,1.0,1.0,1.0,1.0,1.0,1.0,1.0,1.0,1.0,1.0,1.0,1.0,1.0,1.0,1.0,1.0,1.0],\"type\":\"scatter\"},{\"fill\":\"tozeroy\",\"line\":{\"color\":\"#1696d2\",\"width\":2},\"name\":\"Test dataset AUC=0.838\",\"x\":[0.0,0.0,0.0,0.01818181818181818,0.02727272727272727,0.02727272727272727,0.02727272727272727,0.02727272727272727,0.02727272727272727,0.02727272727272727,0.02727272727272727,0.02727272727272727,0.02727272727272727,0.02727272727272727,0.03636363636363636,0.03636363636363636,0.03636363636363636,0.05454545454545454,0.06363636363636363,0.06363636363636363,0.07272727272727272,0.07272727272727272,0.08181818181818182,0.08181818181818182,0.09090909090909091,0.09090909090909091,0.1,0.1,0.1,0.10909090909090909,0.10909090909090909,0.11818181818181818,0.13636363636363635,0.13636363636363635,0.15454545454545454,0.16363636363636364,0.17272727272727273,0.19090909090909092,0.19090909090909092,0.20909090909090908,0.22727272727272727,0.2909090909090909,0.3090909090909091,0.32727272727272727,0.33636363636363636,0.35454545454545455,0.37272727272727274,0.4,0.4090909090909091,0.41818181818181815,0.43636363636363634,0.44545454545454544,0.4636363636363636,0.4818181818181818,0.4909090909090909,0.5272727272727272,0.5363636363636364,0.5545454545454546,0.6181818181818182,0.6363636363636364,0.6545454545454545,0.6545454545454545,0.6727272727272727,0.7,0.7,0.7272727272727273,0.7454545454545455,0.7727272727272727,0.7909090909090909,0.8090909090909091,0.8181818181818182,0.8272727272727273,0.8454545454545455,0.8636363636363636,0.8727272727272727,1.0],\"y\":[0.0,0.057971014492753624,0.13043478260869565,0.13043478260869565,0.15942028985507245,0.18840579710144928,0.2028985507246377,0.2463768115942029,0.2753623188405797,0.30434782608695654,0.3188405797101449,0.37681159420289856,0.391304347826087,0.42028985507246375,0.42028985507246375,0.4492753623188406,0.5072463768115942,0.5362318840579711,0.5362318840579711,0.5652173913043478,0.5652173913043478,0.5797101449275363,0.5797101449275363,0.5942028985507246,0.6086956521739131,0.6231884057971014,0.6376811594202898,0.6811594202898551,0.7101449275362319,0.7101449275362319,0.7246376811594203,0.7391304347826086,0.7391304347826086,0.7681159420289855,0.7681159420289855,0.782608695652174,0.782608695652174,0.782608695652174,0.7971014492753623,0.7971014492753623,0.8260869565217391,0.8260869565217391,0.8260869565217391,0.8260869565217391,0.8260869565217391,0.8405797101449275,0.8405797101449275,0.8405797101449275,0.8405797101449275,0.855072463768116,0.855072463768116,0.855072463768116,0.8840579710144928,0.8840579710144928,0.8840579710144928,0.8840579710144928,0.8840579710144928,0.8985507246376812,0.8985507246376812,0.8985507246376812,0.8985507246376812,0.9130434782608695,0.9130434782608695,0.9130434782608695,0.927536231884058,0.927536231884058,0.927536231884058,0.927536231884058,0.927536231884058,0.9420289855072463,0.9420289855072463,0.9565217391304348,0.9565217391304348,0.9565217391304348,0.9565217391304348,1.0],\"type\":\"scatter\"}],                        {\"template\":{\"data\":{\"bar\":[{\"error_x\":{\"color\":\"#2a3f5f\"},\"error_y\":{\"color\":\"#2a3f5f\"},\"marker\":{\"line\":{\"color\":\"#E5ECF6\",\"width\":0.5},\"pattern\":{\"fillmode\":\"overlay\",\"size\":10,\"solidity\":0.2}},\"type\":\"bar\"}],\"barpolar\":[{\"marker\":{\"line\":{\"color\":\"#E5ECF6\",\"width\":0.5},\"pattern\":{\"fillmode\":\"overlay\",\"size\":10,\"solidity\":0.2}},\"type\":\"barpolar\"}],\"carpet\":[{\"aaxis\":{\"endlinecolor\":\"#2a3f5f\",\"gridcolor\":\"white\",\"linecolor\":\"white\",\"minorgridcolor\":\"white\",\"startlinecolor\":\"#2a3f5f\"},\"baxis\":{\"endlinecolor\":\"#2a3f5f\",\"gridcolor\":\"white\",\"linecolor\":\"white\",\"minorgridcolor\":\"white\",\"startlinecolor\":\"#2a3f5f\"},\"type\":\"carpet\"}],\"choropleth\":[{\"colorbar\":{\"outlinewidth\":0,\"ticks\":\"\"},\"type\":\"choropleth\"}],\"contour\":[{\"colorbar\":{\"outlinewidth\":0,\"ticks\":\"\"},\"colorscale\":[[0.0,\"#0d0887\"],[0.1111111111111111,\"#46039f\"],[0.2222222222222222,\"#7201a8\"],[0.3333333333333333,\"#9c179e\"],[0.4444444444444444,\"#bd3786\"],[0.5555555555555556,\"#d8576b\"],[0.6666666666666666,\"#ed7953\"],[0.7777777777777778,\"#fb9f3a\"],[0.8888888888888888,\"#fdca26\"],[1.0,\"#f0f921\"]],\"type\":\"contour\"}],\"contourcarpet\":[{\"colorbar\":{\"outlinewidth\":0,\"ticks\":\"\"},\"type\":\"contourcarpet\"}],\"heatmap\":[{\"colorbar\":{\"outlinewidth\":0,\"ticks\":\"\"},\"colorscale\":[[0.0,\"#0d0887\"],[0.1111111111111111,\"#46039f\"],[0.2222222222222222,\"#7201a8\"],[0.3333333333333333,\"#9c179e\"],[0.4444444444444444,\"#bd3786\"],[0.5555555555555556,\"#d8576b\"],[0.6666666666666666,\"#ed7953\"],[0.7777777777777778,\"#fb9f3a\"],[0.8888888888888888,\"#fdca26\"],[1.0,\"#f0f921\"]],\"type\":\"heatmap\"}],\"heatmapgl\":[{\"colorbar\":{\"outlinewidth\":0,\"ticks\":\"\"},\"colorscale\":[[0.0,\"#0d0887\"],[0.1111111111111111,\"#46039f\"],[0.2222222222222222,\"#7201a8\"],[0.3333333333333333,\"#9c179e\"],[0.4444444444444444,\"#bd3786\"],[0.5555555555555556,\"#d8576b\"],[0.6666666666666666,\"#ed7953\"],[0.7777777777777778,\"#fb9f3a\"],[0.8888888888888888,\"#fdca26\"],[1.0,\"#f0f921\"]],\"type\":\"heatmapgl\"}],\"histogram\":[{\"marker\":{\"pattern\":{\"fillmode\":\"overlay\",\"size\":10,\"solidity\":0.2}},\"type\":\"histogram\"}],\"histogram2d\":[{\"colorbar\":{\"outlinewidth\":0,\"ticks\":\"\"},\"colorscale\":[[0.0,\"#0d0887\"],[0.1111111111111111,\"#46039f\"],[0.2222222222222222,\"#7201a8\"],[0.3333333333333333,\"#9c179e\"],[0.4444444444444444,\"#bd3786\"],[0.5555555555555556,\"#d8576b\"],[0.6666666666666666,\"#ed7953\"],[0.7777777777777778,\"#fb9f3a\"],[0.8888888888888888,\"#fdca26\"],[1.0,\"#f0f921\"]],\"type\":\"histogram2d\"}],\"histogram2dcontour\":[{\"colorbar\":{\"outlinewidth\":0,\"ticks\":\"\"},\"colorscale\":[[0.0,\"#0d0887\"],[0.1111111111111111,\"#46039f\"],[0.2222222222222222,\"#7201a8\"],[0.3333333333333333,\"#9c179e\"],[0.4444444444444444,\"#bd3786\"],[0.5555555555555556,\"#d8576b\"],[0.6666666666666666,\"#ed7953\"],[0.7777777777777778,\"#fb9f3a\"],[0.8888888888888888,\"#fdca26\"],[1.0,\"#f0f921\"]],\"type\":\"histogram2dcontour\"}],\"mesh3d\":[{\"colorbar\":{\"outlinewidth\":0,\"ticks\":\"\"},\"type\":\"mesh3d\"}],\"parcoords\":[{\"line\":{\"colorbar\":{\"outlinewidth\":0,\"ticks\":\"\"}},\"type\":\"parcoords\"}],\"pie\":[{\"automargin\":true,\"type\":\"pie\"}],\"scatter\":[{\"marker\":{\"colorbar\":{\"outlinewidth\":0,\"ticks\":\"\"}},\"type\":\"scatter\"}],\"scatter3d\":[{\"line\":{\"colorbar\":{\"outlinewidth\":0,\"ticks\":\"\"}},\"marker\":{\"colorbar\":{\"outlinewidth\":0,\"ticks\":\"\"}},\"type\":\"scatter3d\"}],\"scattercarpet\":[{\"marker\":{\"colorbar\":{\"outlinewidth\":0,\"ticks\":\"\"}},\"type\":\"scattercarpet\"}],\"scattergeo\":[{\"marker\":{\"colorbar\":{\"outlinewidth\":0,\"ticks\":\"\"}},\"type\":\"scattergeo\"}],\"scattergl\":[{\"marker\":{\"colorbar\":{\"outlinewidth\":0,\"ticks\":\"\"}},\"type\":\"scattergl\"}],\"scattermapbox\":[{\"marker\":{\"colorbar\":{\"outlinewidth\":0,\"ticks\":\"\"}},\"type\":\"scattermapbox\"}],\"scatterpolar\":[{\"marker\":{\"colorbar\":{\"outlinewidth\":0,\"ticks\":\"\"}},\"type\":\"scatterpolar\"}],\"scatterpolargl\":[{\"marker\":{\"colorbar\":{\"outlinewidth\":0,\"ticks\":\"\"}},\"type\":\"scatterpolargl\"}],\"scatterternary\":[{\"marker\":{\"colorbar\":{\"outlinewidth\":0,\"ticks\":\"\"}},\"type\":\"scatterternary\"}],\"surface\":[{\"colorbar\":{\"outlinewidth\":0,\"ticks\":\"\"},\"colorscale\":[[0.0,\"#0d0887\"],[0.1111111111111111,\"#46039f\"],[0.2222222222222222,\"#7201a8\"],[0.3333333333333333,\"#9c179e\"],[0.4444444444444444,\"#bd3786\"],[0.5555555555555556,\"#d8576b\"],[0.6666666666666666,\"#ed7953\"],[0.7777777777777778,\"#fb9f3a\"],[0.8888888888888888,\"#fdca26\"],[1.0,\"#f0f921\"]],\"type\":\"surface\"}],\"table\":[{\"cells\":{\"fill\":{\"color\":\"#EBF0F8\"},\"line\":{\"color\":\"white\"}},\"header\":{\"fill\":{\"color\":\"#C8D4E3\"},\"line\":{\"color\":\"white\"}},\"type\":\"table\"}]},\"layout\":{\"annotationdefaults\":{\"arrowcolor\":\"#2a3f5f\",\"arrowhead\":0,\"arrowwidth\":1},\"autotypenumbers\":\"strict\",\"coloraxis\":{\"colorbar\":{\"outlinewidth\":0,\"ticks\":\"\"}},\"colorscale\":{\"diverging\":[[0,\"#8e0152\"],[0.1,\"#c51b7d\"],[0.2,\"#de77ae\"],[0.3,\"#f1b6da\"],[0.4,\"#fde0ef\"],[0.5,\"#f7f7f7\"],[0.6,\"#e6f5d0\"],[0.7,\"#b8e186\"],[0.8,\"#7fbc41\"],[0.9,\"#4d9221\"],[1,\"#276419\"]],\"sequential\":[[0.0,\"#0d0887\"],[0.1111111111111111,\"#46039f\"],[0.2222222222222222,\"#7201a8\"],[0.3333333333333333,\"#9c179e\"],[0.4444444444444444,\"#bd3786\"],[0.5555555555555556,\"#d8576b\"],[0.6666666666666666,\"#ed7953\"],[0.7777777777777778,\"#fb9f3a\"],[0.8888888888888888,\"#fdca26\"],[1.0,\"#f0f921\"]],\"sequentialminus\":[[0.0,\"#0d0887\"],[0.1111111111111111,\"#46039f\"],[0.2222222222222222,\"#7201a8\"],[0.3333333333333333,\"#9c179e\"],[0.4444444444444444,\"#bd3786\"],[0.5555555555555556,\"#d8576b\"],[0.6666666666666666,\"#ed7953\"],[0.7777777777777778,\"#fb9f3a\"],[0.8888888888888888,\"#fdca26\"],[1.0,\"#f0f921\"]]},\"colorway\":[\"#636efa\",\"#EF553B\",\"#00cc96\",\"#ab63fa\",\"#FFA15A\",\"#19d3f3\",\"#FF6692\",\"#B6E880\",\"#FF97FF\",\"#FECB52\"],\"font\":{\"color\":\"#2a3f5f\"},\"geo\":{\"bgcolor\":\"white\",\"lakecolor\":\"white\",\"landcolor\":\"#E5ECF6\",\"showlakes\":true,\"showland\":true,\"subunitcolor\":\"white\"},\"hoverlabel\":{\"align\":\"left\"},\"hovermode\":\"closest\",\"mapbox\":{\"style\":\"light\"},\"paper_bgcolor\":\"white\",\"plot_bgcolor\":\"#E5ECF6\",\"polar\":{\"angularaxis\":{\"gridcolor\":\"white\",\"linecolor\":\"white\",\"ticks\":\"\"},\"bgcolor\":\"#E5ECF6\",\"radialaxis\":{\"gridcolor\":\"white\",\"linecolor\":\"white\",\"ticks\":\"\"}},\"scene\":{\"xaxis\":{\"backgroundcolor\":\"#E5ECF6\",\"gridcolor\":\"white\",\"gridwidth\":2,\"linecolor\":\"white\",\"showbackground\":true,\"ticks\":\"\",\"zerolinecolor\":\"white\"},\"yaxis\":{\"backgroundcolor\":\"#E5ECF6\",\"gridcolor\":\"white\",\"gridwidth\":2,\"linecolor\":\"white\",\"showbackground\":true,\"ticks\":\"\",\"zerolinecolor\":\"white\"},\"zaxis\":{\"backgroundcolor\":\"#E5ECF6\",\"gridcolor\":\"white\",\"gridwidth\":2,\"linecolor\":\"white\",\"showbackground\":true,\"ticks\":\"\",\"zerolinecolor\":\"white\"}},\"shapedefaults\":{\"line\":{\"color\":\"#2a3f5f\"}},\"ternary\":{\"aaxis\":{\"gridcolor\":\"white\",\"linecolor\":\"white\",\"ticks\":\"\"},\"baxis\":{\"gridcolor\":\"white\",\"linecolor\":\"white\",\"ticks\":\"\"},\"bgcolor\":\"#E5ECF6\",\"caxis\":{\"gridcolor\":\"white\",\"linecolor\":\"white\",\"ticks\":\"\"}},\"title\":{\"x\":0.05},\"xaxis\":{\"automargin\":true,\"gridcolor\":\"white\",\"linecolor\":\"white\",\"ticks\":\"\",\"title\":{\"standoff\":15},\"zerolinecolor\":\"white\",\"zerolinewidth\":2},\"yaxis\":{\"automargin\":true,\"gridcolor\":\"white\",\"linecolor\":\"white\",\"ticks\":\"\",\"title\":{\"standoff\":15},\"zerolinecolor\":\"white\",\"zerolinewidth\":2}}},\"title\":{\"text\":\"ROC AUC Curve\"},\"xaxis\":{\"title\":{\"text\":\"False Positive Rate\"},\"constrain\":\"domain\"},\"yaxis\":{\"title\":{\"text\":\"True Positive Rate\"},\"scaleanchor\":\"x\",\"scaleratio\":1},\"width\":700,\"height\":500,\"shapes\":[{\"line\":{\"dash\":\"dash\"},\"type\":\"line\",\"x0\":0,\"x1\":1,\"y0\":0,\"y1\":1}]},                        {\"responsive\": true}                    ).then(function(){\n",
       "                            \n",
       "var gd = document.getElementById('9b1ef994-c2c4-4c2d-abd3-6dcce080124e');\n",
       "var x = new MutationObserver(function (mutations, observer) {{\n",
       "        var display = window.getComputedStyle(gd).display;\n",
       "        if (!display || display === 'none') {{\n",
       "            console.log([gd, 'removed!']);\n",
       "            Plotly.purge(gd);\n",
       "            observer.disconnect();\n",
       "        }}\n",
       "}});\n",
       "\n",
       "// Listen for the removal of the full notebook cells\n",
       "var notebookContainer = gd.closest('#notebook-container');\n",
       "if (notebookContainer) {{\n",
       "    x.observe(notebookContainer, {childList: true});\n",
       "}}\n",
       "\n",
       "// Listen for the clearing of the current output cell\n",
       "var outputEl = gd.closest('.output');\n",
       "if (outputEl) {{\n",
       "    x.observe(outputEl, {childList: true});\n",
       "}}\n",
       "\n",
       "                        })                };                });            </script>        </div>"
      ]
     },
     "metadata": {},
     "output_type": "display_data"
    },
    {
     "data": {
      "application/vnd.plotly.v1+json": {
       "config": {
        "plotlyServerURL": "https://plot.ly"
       },
       "data": [
        {
         "line": {
          "color": "#E88E2D"
         },
         "name": "Train Precision",
         "type": "scatter",
         "x": [
          0.18688777888777885,
          0.19,
          0.2,
          0.21,
          0.22,
          0.23,
          0.24,
          0.25,
          0.26,
          0.276,
          0.28,
          0.29,
          0.3,
          0.30530952380952364,
          0.31,
          0.32,
          0.32358333333333333,
          0.32722222222222214,
          0.33,
          0.34,
          0.35,
          0.37,
          0.3714523809523809,
          0.37766666666666665,
          0.39,
          0.39219530469530467,
          0.4273333333333334,
          0.43,
          0.467452380952381,
          0.4802738095238095,
          0.5177857142857143,
          0.5286666666666667,
          0.5817857142857144,
          0.59,
          0.5969444444444444,
          0.6,
          0.61,
          0.63,
          0.64,
          0.645,
          0.65,
          0.66,
          0.67,
          0.6736666666666667,
          0.6793333333333333,
          0.68,
          0.6858333333333333,
          0.69,
          0.7,
          0.71,
          0.72,
          0.7276666666666667,
          0.73,
          0.75,
          0.7560238095238094,
          0.76,
          0.77,
          0.78,
          0.79,
          0.7961666666666667,
          0.8,
          0.81,
          0.82,
          0.83,
          0.84,
          0.8483333333333334,
          0.85,
          0.86,
          0.87,
          0.8789147796647796,
          0.88,
          0.89,
          0.9,
          0.91,
          0.92,
          0.93,
          0.94,
          0.95,
          0.955,
          0.96,
          0.97,
          0.98,
          0.9822222222222223,
          0.9839901764901765,
          0.99,
          1
         ],
         "y": [
          0.8005865102639296,
          0.8119402985074626,
          0.8318042813455657,
          0.8421052631578947,
          0.8580441640378549,
          0.8607594936708861,
          0.8662420382165605,
          0.8717948717948718,
          0.8745980707395499,
          0.8774193548387097,
          0.8802588996763754,
          0.8859934853420195,
          0.8976897689768977,
          0.9006622516556292,
          0.9063545150501672,
          0.9124579124579124,
          0.9155405405405406,
          0.9215017064846417,
          0.9275862068965517,
          0.9405594405594405,
          0.9438596491228071,
          0.9471830985915493,
          0.9572953736654805,
          0.9605734767025089,
          0.9638989169675091,
          0.9709090909090909,
          0.9744525547445255,
          0.9779411764705882,
          0.981549815498155,
          0.9851301115241635,
          0.9887640449438202,
          0.9924528301886792,
          0.9961977186311787,
          0.9961832061068703,
          0.9961538461538462,
          0.9961389961389961,
          0.9961089494163424,
          0.99609375,
          0.9960629921259843,
          0.996031746031746,
          0.9960159362549801,
          0.996,
          0.9959677419354839,
          0.9959016393442623,
          0.9958847736625515,
          0.9958677685950413,
          0.9957983193277311,
          0.9957805907172996,
          0.9957081545064378,
          0.9956140350877193,
          0.995575221238938,
          0.9954954954954955,
          0.995475113122172,
          0.9954128440366973,
          0.9953703703703703,
          0.9953488372093023,
          0.9953051643192489,
          0.995260663507109,
          0.9952153110047847,
          0.9951690821256038,
          0.9951456310679612,
          0.995049504950495,
          0.995,
          0.9949748743718593,
          0.9948717948717949,
          0.9947643979057592,
          0.9947368421052631,
          0.9946808510638298,
          0.994535519125683,
          0.9944444444444445,
          1,
          1,
          1,
          1,
          1,
          1,
          1,
          1,
          1,
          1,
          1,
          1,
          1,
          1,
          1,
          1
         ]
        },
        {
         "line": {
          "color": "#12719E"
         },
         "name": "Test Precision",
         "type": "scatter",
         "x": [
          0,
          0.0025,
          0.0034999999999999996,
          0.005,
          0.006666666666666666,
          0.01,
          0.0125,
          0.02,
          0.03,
          0.04,
          0.045,
          0.04666666666666666,
          0.05,
          0.052333333333333336,
          0.06,
          0.06595238095238094,
          0.06595238095238096,
          0.07,
          0.07666666666666666,
          0.08,
          0.09370238095238097,
          0.1,
          0.10370238095238098,
          0.10833333333333332,
          0.10846825396825398,
          0.11,
          0.11319047619047622,
          0.11816666666666668,
          0.11928571428571429,
          0.12,
          0.13,
          0.13666666666666666,
          0.14,
          0.14866666666666667,
          0.15,
          0.18,
          0.18533333333333335,
          0.19,
          0.2,
          0.20461904761904762,
          0.21,
          0.21895238095238095,
          0.2366666666666667,
          0.26,
          0.27,
          0.28,
          0.28411904761904766,
          0.29,
          0.30530952380952364,
          0.31,
          0.33,
          0.34,
          0.36,
          0.38,
          0.39,
          0.4,
          0.41566666666666663,
          0.42,
          0.44,
          0.46,
          0.47,
          0.48,
          0.49,
          0.51,
          0.57,
          0.6,
          0.61,
          0.62,
          0.63,
          0.69,
          0.7019999999999998,
          0.71,
          0.72,
          0.74,
          0.76,
          0.7625655733155731,
          0.78,
          0.79,
          0.8,
          0.81,
          0.82,
          0.83,
          0.84,
          0.85,
          0.86,
          0.87,
          0.8789147796647796,
          0.8798238705738706,
          0.88,
          0.89,
          0.9,
          0.92,
          0.9266666666666665,
          0.93,
          0.95,
          0.96,
          0.97,
          0.98,
          0.9833333333333334,
          0.9839901764901765,
          0.99,
          1
         ],
         "y": [
          0.3854748603351955,
          0.4074074074074074,
          0.40993788819875776,
          0.41509433962264153,
          0.4177215189873418,
          0.42038216560509556,
          0.41935483870967744,
          0.42207792207792205,
          0.423841059602649,
          0.42953020134228187,
          0.4383561643835616,
          0.4413793103448276,
          0.4444444444444444,
          0.45390070921985815,
          0.45,
          0.45323741007194246,
          0.45652173913043476,
          0.45985401459854014,
          0.4666666666666667,
          0.4626865671641791,
          0.46616541353383456,
          0.4696969696969697,
          0.47692307692307695,
          0.4806201550387597,
          0.484375,
          0.4881889763779528,
          0.49206349206349204,
          0.496,
          0.5,
          0.5040650406504065,
          0.5083333333333333,
          0.5126050420168067,
          0.5213675213675214,
          0.5304347826086957,
          0.5350877192982456,
          0.5446428571428571,
          0.5462962962962963,
          0.5514018691588785,
          0.5619047619047619,
          0.5631067961165048,
          0.5686274509803921,
          0.5858585858585859,
          0.5918367346938775,
          0.5979381443298969,
          0.6063829787234043,
          0.6129032258064516,
          0.6263736263736264,
          0.6333333333333333,
          0.6404494382022472,
          0.6951219512195121,
          0.7,
          0.7051282051282052,
          0.7236842105263158,
          0.72,
          0.7397260273972602,
          0.75,
          0.7571428571428571,
          0.7681159420289855,
          0.7794117647058824,
          0.7761194029850746,
          0.7727272727272727,
          0.7846153846153846,
          0.796875,
          0.8064516129032258,
          0.8032786885245902,
          0.8166666666666667,
          0.8103448275862069,
          0.8070175438596491,
          0.8035714285714286,
          0.8,
          0.8113207547169812,
          0.8076923076923077,
          0.82,
          0.8163265306122449,
          0.8333333333333334,
          0.8297872340425532,
          0.8478260869565217,
          0.8444444444444444,
          0.8409090909090909,
          0.8604651162790697,
          0.8780487804878049,
          0.8974358974358975,
          0.8918918918918919,
          0.8857142857142857,
          0.8823529411764706,
          0.8787878787878788,
          0.90625,
          0.9,
          0.896551724137931,
          0.8888888888888888,
          0.88,
          0.875,
          0.8636363636363636,
          0.8571428571428571,
          0.85,
          0.8235294117647058,
          0.8125,
          0.7857142857142857,
          0.8181818181818182,
          0.9,
          1,
          1
         ]
        },
        {
         "line": {
          "color": "#843215"
         },
         "name": "Train Recall",
         "type": "scatter",
         "x": [
          0.18688777888777885,
          0.19,
          0.2,
          0.21,
          0.22,
          0.23,
          0.24,
          0.25,
          0.26,
          0.276,
          0.28,
          0.29,
          0.3,
          0.30530952380952364,
          0.31,
          0.32,
          0.32358333333333333,
          0.32722222222222214,
          0.33,
          0.34,
          0.35,
          0.37,
          0.3714523809523809,
          0.37766666666666665,
          0.39,
          0.39219530469530467,
          0.4273333333333334,
          0.43,
          0.467452380952381,
          0.4802738095238095,
          0.5177857142857143,
          0.5286666666666667,
          0.5817857142857144,
          0.59,
          0.5969444444444444,
          0.6,
          0.61,
          0.63,
          0.64,
          0.645,
          0.65,
          0.66,
          0.67,
          0.6736666666666667,
          0.6793333333333333,
          0.68,
          0.6858333333333333,
          0.69,
          0.7,
          0.71,
          0.72,
          0.7276666666666667,
          0.73,
          0.75,
          0.7560238095238094,
          0.76,
          0.77,
          0.78,
          0.79,
          0.7961666666666667,
          0.8,
          0.81,
          0.82,
          0.83,
          0.84,
          0.8483333333333334,
          0.85,
          0.86,
          0.87,
          0.8789147796647796,
          0.88,
          0.89,
          0.9,
          0.91,
          0.92,
          0.93,
          0.94,
          0.95,
          0.955,
          0.96,
          0.97,
          0.98,
          0.9822222222222223,
          0.9839901764901765,
          0.99,
          1
         ],
         "y": [
          1,
          0.9963369963369964,
          0.9963369963369964,
          0.9963369963369964,
          0.9963369963369964,
          0.9963369963369964,
          0.9963369963369964,
          0.9963369963369964,
          0.9963369963369964,
          0.9963369963369964,
          0.9963369963369964,
          0.9963369963369964,
          0.9963369963369964,
          0.9963369963369964,
          0.9926739926739927,
          0.9926739926739927,
          0.9926739926739927,
          0.989010989010989,
          0.9853479853479854,
          0.9853479853479854,
          0.9853479853479854,
          0.9853479853479854,
          0.9853479853479854,
          0.9816849816849816,
          0.978021978021978,
          0.978021978021978,
          0.978021978021978,
          0.9743589743589743,
          0.9743589743589743,
          0.9706959706959707,
          0.967032967032967,
          0.9633699633699634,
          0.9597069597069597,
          0.9560439560439561,
          0.9487179487179487,
          0.945054945054945,
          0.9377289377289377,
          0.9340659340659341,
          0.9267399267399268,
          0.9194139194139194,
          0.9157509157509157,
          0.9120879120879121,
          0.9047619047619048,
          0.8901098901098901,
          0.8864468864468864,
          0.8827838827838828,
          0.8681318681318682,
          0.8644688644688645,
          0.8498168498168498,
          0.8315018315018315,
          0.8241758241758241,
          0.8095238095238095,
          0.8058608058608059,
          0.7948717948717948,
          0.7875457875457875,
          0.7838827838827839,
          0.7765567765567766,
          0.7692307692307693,
          0.7619047619047619,
          0.7545787545787546,
          0.7509157509157509,
          0.7362637362637363,
          0.7289377289377289,
          0.7252747252747253,
          0.7106227106227107,
          0.6959706959706959,
          0.6923076923076923,
          0.684981684981685,
          0.6666666666666666,
          0.6556776556776557,
          0.6373626373626373,
          0.6263736263736264,
          0.5824175824175825,
          0.575091575091575,
          0.5677655677655677,
          0.5531135531135531,
          0.5201465201465202,
          0.4981684981684982,
          0.46153846153846156,
          0.45787545787545786,
          0.42124542124542125,
          0.3663003663003663,
          0.304029304029304,
          0.30036630036630035,
          0.29304029304029305,
          0.24175824175824176
         ]
        },
        {
         "line": {
          "color": "#062635"
         },
         "name": "Test Recall",
         "type": "scatter",
         "x": [
          0,
          0.0025,
          0.0034999999999999996,
          0.005,
          0.006666666666666666,
          0.01,
          0.0125,
          0.02,
          0.03,
          0.04,
          0.045,
          0.04666666666666666,
          0.05,
          0.052333333333333336,
          0.06,
          0.06595238095238094,
          0.06595238095238096,
          0.07,
          0.07666666666666666,
          0.08,
          0.09370238095238097,
          0.1,
          0.10370238095238098,
          0.10833333333333332,
          0.10846825396825398,
          0.11,
          0.11319047619047622,
          0.11816666666666668,
          0.11928571428571429,
          0.12,
          0.13,
          0.13666666666666666,
          0.14,
          0.14866666666666667,
          0.15,
          0.18,
          0.18533333333333335,
          0.19,
          0.2,
          0.20461904761904762,
          0.21,
          0.21895238095238095,
          0.2366666666666667,
          0.26,
          0.27,
          0.28,
          0.28411904761904766,
          0.29,
          0.30530952380952364,
          0.31,
          0.33,
          0.34,
          0.36,
          0.38,
          0.39,
          0.4,
          0.41566666666666663,
          0.42,
          0.44,
          0.46,
          0.47,
          0.48,
          0.49,
          0.51,
          0.57,
          0.6,
          0.61,
          0.62,
          0.63,
          0.69,
          0.7019999999999998,
          0.71,
          0.72,
          0.74,
          0.76,
          0.7625655733155731,
          0.78,
          0.79,
          0.8,
          0.81,
          0.82,
          0.83,
          0.84,
          0.85,
          0.86,
          0.87,
          0.8789147796647796,
          0.8798238705738706,
          0.88,
          0.89,
          0.9,
          0.92,
          0.9266666666666665,
          0.93,
          0.95,
          0.96,
          0.97,
          0.98,
          0.9833333333333334,
          0.9839901764901765,
          0.99,
          1
         ],
         "y": [
          1,
          0.9565217391304348,
          0.9565217391304348,
          0.9565217391304348,
          0.9565217391304348,
          0.9565217391304348,
          0.9420289855072463,
          0.9420289855072463,
          0.927536231884058,
          0.927536231884058,
          0.927536231884058,
          0.927536231884058,
          0.927536231884058,
          0.927536231884058,
          0.9130434782608695,
          0.9130434782608695,
          0.9130434782608695,
          0.9130434782608695,
          0.9130434782608695,
          0.8985507246376812,
          0.8985507246376812,
          0.8985507246376812,
          0.8985507246376812,
          0.8985507246376812,
          0.8985507246376812,
          0.8985507246376812,
          0.8985507246376812,
          0.8985507246376812,
          0.8985507246376812,
          0.8985507246376812,
          0.8840579710144928,
          0.8840579710144928,
          0.8840579710144928,
          0.8840579710144928,
          0.8840579710144928,
          0.8840579710144928,
          0.855072463768116,
          0.855072463768116,
          0.855072463768116,
          0.8405797101449275,
          0.8405797101449275,
          0.8405797101449275,
          0.8405797101449275,
          0.8405797101449275,
          0.8260869565217391,
          0.8260869565217391,
          0.8260869565217391,
          0.8260869565217391,
          0.8260869565217391,
          0.8260869565217391,
          0.8115942028985508,
          0.7971014492753623,
          0.7971014492753623,
          0.782608695652174,
          0.782608695652174,
          0.782608695652174,
          0.7681159420289855,
          0.7681159420289855,
          0.7681159420289855,
          0.7536231884057971,
          0.7391304347826086,
          0.7391304347826086,
          0.7391304347826086,
          0.7246376811594203,
          0.7101449275362319,
          0.7101449275362319,
          0.6811594202898551,
          0.6666666666666666,
          0.6521739130434783,
          0.6376811594202898,
          0.6231884057971014,
          0.6086956521739131,
          0.5942028985507246,
          0.5797101449275363,
          0.5797101449275363,
          0.5652173913043478,
          0.5652173913043478,
          0.5507246376811594,
          0.5362318840579711,
          0.5362318840579711,
          0.5217391304347826,
          0.5072463768115942,
          0.4782608695652174,
          0.4492753623188406,
          0.43478260869565216,
          0.42028985507246375,
          0.42028985507246375,
          0.391304347826087,
          0.37681159420289856,
          0.34782608695652173,
          0.3188405797101449,
          0.30434782608695654,
          0.2753623188405797,
          0.2608695652173913,
          0.2463768115942029,
          0.2028985507246377,
          0.18840579710144928,
          0.15942028985507245,
          0.13043478260869565,
          0.13043478260869565,
          0.13043478260869565,
          0.057971014492753624
         ]
        }
       ],
       "layout": {
        "height": 500,
        "template": {
         "data": {
          "bar": [
           {
            "error_x": {
             "color": "#2a3f5f"
            },
            "error_y": {
             "color": "#2a3f5f"
            },
            "marker": {
             "line": {
              "color": "#E5ECF6",
              "width": 0.5
             },
             "pattern": {
              "fillmode": "overlay",
              "size": 10,
              "solidity": 0.2
             }
            },
            "type": "bar"
           }
          ],
          "barpolar": [
           {
            "marker": {
             "line": {
              "color": "#E5ECF6",
              "width": 0.5
             },
             "pattern": {
              "fillmode": "overlay",
              "size": 10,
              "solidity": 0.2
             }
            },
            "type": "barpolar"
           }
          ],
          "carpet": [
           {
            "aaxis": {
             "endlinecolor": "#2a3f5f",
             "gridcolor": "white",
             "linecolor": "white",
             "minorgridcolor": "white",
             "startlinecolor": "#2a3f5f"
            },
            "baxis": {
             "endlinecolor": "#2a3f5f",
             "gridcolor": "white",
             "linecolor": "white",
             "minorgridcolor": "white",
             "startlinecolor": "#2a3f5f"
            },
            "type": "carpet"
           }
          ],
          "choropleth": [
           {
            "colorbar": {
             "outlinewidth": 0,
             "ticks": ""
            },
            "type": "choropleth"
           }
          ],
          "contour": [
           {
            "colorbar": {
             "outlinewidth": 0,
             "ticks": ""
            },
            "colorscale": [
             [
              0,
              "#0d0887"
             ],
             [
              0.1111111111111111,
              "#46039f"
             ],
             [
              0.2222222222222222,
              "#7201a8"
             ],
             [
              0.3333333333333333,
              "#9c179e"
             ],
             [
              0.4444444444444444,
              "#bd3786"
             ],
             [
              0.5555555555555556,
              "#d8576b"
             ],
             [
              0.6666666666666666,
              "#ed7953"
             ],
             [
              0.7777777777777778,
              "#fb9f3a"
             ],
             [
              0.8888888888888888,
              "#fdca26"
             ],
             [
              1,
              "#f0f921"
             ]
            ],
            "type": "contour"
           }
          ],
          "contourcarpet": [
           {
            "colorbar": {
             "outlinewidth": 0,
             "ticks": ""
            },
            "type": "contourcarpet"
           }
          ],
          "heatmap": [
           {
            "colorbar": {
             "outlinewidth": 0,
             "ticks": ""
            },
            "colorscale": [
             [
              0,
              "#0d0887"
             ],
             [
              0.1111111111111111,
              "#46039f"
             ],
             [
              0.2222222222222222,
              "#7201a8"
             ],
             [
              0.3333333333333333,
              "#9c179e"
             ],
             [
              0.4444444444444444,
              "#bd3786"
             ],
             [
              0.5555555555555556,
              "#d8576b"
             ],
             [
              0.6666666666666666,
              "#ed7953"
             ],
             [
              0.7777777777777778,
              "#fb9f3a"
             ],
             [
              0.8888888888888888,
              "#fdca26"
             ],
             [
              1,
              "#f0f921"
             ]
            ],
            "type": "heatmap"
           }
          ],
          "heatmapgl": [
           {
            "colorbar": {
             "outlinewidth": 0,
             "ticks": ""
            },
            "colorscale": [
             [
              0,
              "#0d0887"
             ],
             [
              0.1111111111111111,
              "#46039f"
             ],
             [
              0.2222222222222222,
              "#7201a8"
             ],
             [
              0.3333333333333333,
              "#9c179e"
             ],
             [
              0.4444444444444444,
              "#bd3786"
             ],
             [
              0.5555555555555556,
              "#d8576b"
             ],
             [
              0.6666666666666666,
              "#ed7953"
             ],
             [
              0.7777777777777778,
              "#fb9f3a"
             ],
             [
              0.8888888888888888,
              "#fdca26"
             ],
             [
              1,
              "#f0f921"
             ]
            ],
            "type": "heatmapgl"
           }
          ],
          "histogram": [
           {
            "marker": {
             "pattern": {
              "fillmode": "overlay",
              "size": 10,
              "solidity": 0.2
             }
            },
            "type": "histogram"
           }
          ],
          "histogram2d": [
           {
            "colorbar": {
             "outlinewidth": 0,
             "ticks": ""
            },
            "colorscale": [
             [
              0,
              "#0d0887"
             ],
             [
              0.1111111111111111,
              "#46039f"
             ],
             [
              0.2222222222222222,
              "#7201a8"
             ],
             [
              0.3333333333333333,
              "#9c179e"
             ],
             [
              0.4444444444444444,
              "#bd3786"
             ],
             [
              0.5555555555555556,
              "#d8576b"
             ],
             [
              0.6666666666666666,
              "#ed7953"
             ],
             [
              0.7777777777777778,
              "#fb9f3a"
             ],
             [
              0.8888888888888888,
              "#fdca26"
             ],
             [
              1,
              "#f0f921"
             ]
            ],
            "type": "histogram2d"
           }
          ],
          "histogram2dcontour": [
           {
            "colorbar": {
             "outlinewidth": 0,
             "ticks": ""
            },
            "colorscale": [
             [
              0,
              "#0d0887"
             ],
             [
              0.1111111111111111,
              "#46039f"
             ],
             [
              0.2222222222222222,
              "#7201a8"
             ],
             [
              0.3333333333333333,
              "#9c179e"
             ],
             [
              0.4444444444444444,
              "#bd3786"
             ],
             [
              0.5555555555555556,
              "#d8576b"
             ],
             [
              0.6666666666666666,
              "#ed7953"
             ],
             [
              0.7777777777777778,
              "#fb9f3a"
             ],
             [
              0.8888888888888888,
              "#fdca26"
             ],
             [
              1,
              "#f0f921"
             ]
            ],
            "type": "histogram2dcontour"
           }
          ],
          "mesh3d": [
           {
            "colorbar": {
             "outlinewidth": 0,
             "ticks": ""
            },
            "type": "mesh3d"
           }
          ],
          "parcoords": [
           {
            "line": {
             "colorbar": {
              "outlinewidth": 0,
              "ticks": ""
             }
            },
            "type": "parcoords"
           }
          ],
          "pie": [
           {
            "automargin": true,
            "type": "pie"
           }
          ],
          "scatter": [
           {
            "marker": {
             "colorbar": {
              "outlinewidth": 0,
              "ticks": ""
             }
            },
            "type": "scatter"
           }
          ],
          "scatter3d": [
           {
            "line": {
             "colorbar": {
              "outlinewidth": 0,
              "ticks": ""
             }
            },
            "marker": {
             "colorbar": {
              "outlinewidth": 0,
              "ticks": ""
             }
            },
            "type": "scatter3d"
           }
          ],
          "scattercarpet": [
           {
            "marker": {
             "colorbar": {
              "outlinewidth": 0,
              "ticks": ""
             }
            },
            "type": "scattercarpet"
           }
          ],
          "scattergeo": [
           {
            "marker": {
             "colorbar": {
              "outlinewidth": 0,
              "ticks": ""
             }
            },
            "type": "scattergeo"
           }
          ],
          "scattergl": [
           {
            "marker": {
             "colorbar": {
              "outlinewidth": 0,
              "ticks": ""
             }
            },
            "type": "scattergl"
           }
          ],
          "scattermapbox": [
           {
            "marker": {
             "colorbar": {
              "outlinewidth": 0,
              "ticks": ""
             }
            },
            "type": "scattermapbox"
           }
          ],
          "scatterpolar": [
           {
            "marker": {
             "colorbar": {
              "outlinewidth": 0,
              "ticks": ""
             }
            },
            "type": "scatterpolar"
           }
          ],
          "scatterpolargl": [
           {
            "marker": {
             "colorbar": {
              "outlinewidth": 0,
              "ticks": ""
             }
            },
            "type": "scatterpolargl"
           }
          ],
          "scatterternary": [
           {
            "marker": {
             "colorbar": {
              "outlinewidth": 0,
              "ticks": ""
             }
            },
            "type": "scatterternary"
           }
          ],
          "surface": [
           {
            "colorbar": {
             "outlinewidth": 0,
             "ticks": ""
            },
            "colorscale": [
             [
              0,
              "#0d0887"
             ],
             [
              0.1111111111111111,
              "#46039f"
             ],
             [
              0.2222222222222222,
              "#7201a8"
             ],
             [
              0.3333333333333333,
              "#9c179e"
             ],
             [
              0.4444444444444444,
              "#bd3786"
             ],
             [
              0.5555555555555556,
              "#d8576b"
             ],
             [
              0.6666666666666666,
              "#ed7953"
             ],
             [
              0.7777777777777778,
              "#fb9f3a"
             ],
             [
              0.8888888888888888,
              "#fdca26"
             ],
             [
              1,
              "#f0f921"
             ]
            ],
            "type": "surface"
           }
          ],
          "table": [
           {
            "cells": {
             "fill": {
              "color": "#EBF0F8"
             },
             "line": {
              "color": "white"
             }
            },
            "header": {
             "fill": {
              "color": "#C8D4E3"
             },
             "line": {
              "color": "white"
             }
            },
            "type": "table"
           }
          ]
         },
         "layout": {
          "annotationdefaults": {
           "arrowcolor": "#2a3f5f",
           "arrowhead": 0,
           "arrowwidth": 1
          },
          "autotypenumbers": "strict",
          "coloraxis": {
           "colorbar": {
            "outlinewidth": 0,
            "ticks": ""
           }
          },
          "colorscale": {
           "diverging": [
            [
             0,
             "#8e0152"
            ],
            [
             0.1,
             "#c51b7d"
            ],
            [
             0.2,
             "#de77ae"
            ],
            [
             0.3,
             "#f1b6da"
            ],
            [
             0.4,
             "#fde0ef"
            ],
            [
             0.5,
             "#f7f7f7"
            ],
            [
             0.6,
             "#e6f5d0"
            ],
            [
             0.7,
             "#b8e186"
            ],
            [
             0.8,
             "#7fbc41"
            ],
            [
             0.9,
             "#4d9221"
            ],
            [
             1,
             "#276419"
            ]
           ],
           "sequential": [
            [
             0,
             "#0d0887"
            ],
            [
             0.1111111111111111,
             "#46039f"
            ],
            [
             0.2222222222222222,
             "#7201a8"
            ],
            [
             0.3333333333333333,
             "#9c179e"
            ],
            [
             0.4444444444444444,
             "#bd3786"
            ],
            [
             0.5555555555555556,
             "#d8576b"
            ],
            [
             0.6666666666666666,
             "#ed7953"
            ],
            [
             0.7777777777777778,
             "#fb9f3a"
            ],
            [
             0.8888888888888888,
             "#fdca26"
            ],
            [
             1,
             "#f0f921"
            ]
           ],
           "sequentialminus": [
            [
             0,
             "#0d0887"
            ],
            [
             0.1111111111111111,
             "#46039f"
            ],
            [
             0.2222222222222222,
             "#7201a8"
            ],
            [
             0.3333333333333333,
             "#9c179e"
            ],
            [
             0.4444444444444444,
             "#bd3786"
            ],
            [
             0.5555555555555556,
             "#d8576b"
            ],
            [
             0.6666666666666666,
             "#ed7953"
            ],
            [
             0.7777777777777778,
             "#fb9f3a"
            ],
            [
             0.8888888888888888,
             "#fdca26"
            ],
            [
             1,
             "#f0f921"
            ]
           ]
          },
          "colorway": [
           "#636efa",
           "#EF553B",
           "#00cc96",
           "#ab63fa",
           "#FFA15A",
           "#19d3f3",
           "#FF6692",
           "#B6E880",
           "#FF97FF",
           "#FECB52"
          ],
          "font": {
           "color": "#2a3f5f"
          },
          "geo": {
           "bgcolor": "white",
           "lakecolor": "white",
           "landcolor": "#E5ECF6",
           "showlakes": true,
           "showland": true,
           "subunitcolor": "white"
          },
          "hoverlabel": {
           "align": "left"
          },
          "hovermode": "closest",
          "mapbox": {
           "style": "light"
          },
          "paper_bgcolor": "white",
          "plot_bgcolor": "#E5ECF6",
          "polar": {
           "angularaxis": {
            "gridcolor": "white",
            "linecolor": "white",
            "ticks": ""
           },
           "bgcolor": "#E5ECF6",
           "radialaxis": {
            "gridcolor": "white",
            "linecolor": "white",
            "ticks": ""
           }
          },
          "scene": {
           "xaxis": {
            "backgroundcolor": "#E5ECF6",
            "gridcolor": "white",
            "gridwidth": 2,
            "linecolor": "white",
            "showbackground": true,
            "ticks": "",
            "zerolinecolor": "white"
           },
           "yaxis": {
            "backgroundcolor": "#E5ECF6",
            "gridcolor": "white",
            "gridwidth": 2,
            "linecolor": "white",
            "showbackground": true,
            "ticks": "",
            "zerolinecolor": "white"
           },
           "zaxis": {
            "backgroundcolor": "#E5ECF6",
            "gridcolor": "white",
            "gridwidth": 2,
            "linecolor": "white",
            "showbackground": true,
            "ticks": "",
            "zerolinecolor": "white"
           }
          },
          "shapedefaults": {
           "line": {
            "color": "#2a3f5f"
           }
          },
          "ternary": {
           "aaxis": {
            "gridcolor": "white",
            "linecolor": "white",
            "ticks": ""
           },
           "baxis": {
            "gridcolor": "white",
            "linecolor": "white",
            "ticks": ""
           },
           "bgcolor": "#E5ECF6",
           "caxis": {
            "gridcolor": "white",
            "linecolor": "white",
            "ticks": ""
           }
          },
          "title": {
           "x": 0.05
          },
          "xaxis": {
           "automargin": true,
           "gridcolor": "white",
           "linecolor": "white",
           "ticks": "",
           "title": {
            "standoff": 15
           },
           "zerolinecolor": "white",
           "zerolinewidth": 2
          },
          "yaxis": {
           "automargin": true,
           "gridcolor": "white",
           "linecolor": "white",
           "ticks": "",
           "title": {
            "standoff": 15
           },
           "zerolinecolor": "white",
           "zerolinewidth": 2
          }
         }
        },
        "title": {
         "text": "Precision-Recall curve"
        },
        "width": 900
       }
      },
      "text/html": [
       "<div>                            <div id=\"7d356806-4a74-430c-bf6d-5e9300be8565\" class=\"plotly-graph-div\" style=\"height:500px; width:900px;\"></div>            <script type=\"text/javascript\">                require([\"plotly\"], function(Plotly) {                    window.PLOTLYENV=window.PLOTLYENV || {};                                    if (document.getElementById(\"7d356806-4a74-430c-bf6d-5e9300be8565\")) {                    Plotly.newPlot(                        \"7d356806-4a74-430c-bf6d-5e9300be8565\",                        [{\"line\":{\"color\":\"#E88E2D\"},\"name\":\"Train Precision\",\"x\":[0.18688777888777885,0.19,0.2,0.21,0.22,0.23,0.24,0.25,0.26,0.276,0.28,0.29,0.3,0.30530952380952364,0.31,0.32,0.32358333333333333,0.32722222222222214,0.33,0.34,0.35,0.37,0.3714523809523809,0.37766666666666665,0.39,0.39219530469530467,0.4273333333333334,0.43,0.467452380952381,0.4802738095238095,0.5177857142857143,0.5286666666666667,0.5817857142857144,0.59,0.5969444444444444,0.6,0.61,0.63,0.64,0.645,0.65,0.66,0.67,0.6736666666666667,0.6793333333333333,0.68,0.6858333333333333,0.69,0.7,0.71,0.72,0.7276666666666667,0.73,0.75,0.7560238095238094,0.76,0.77,0.78,0.79,0.7961666666666667,0.8,0.81,0.82,0.83,0.84,0.8483333333333334,0.85,0.86,0.87,0.8789147796647796,0.88,0.89,0.9,0.91,0.92,0.93,0.94,0.95,0.955,0.96,0.97,0.98,0.9822222222222223,0.9839901764901765,0.99,1.0],\"y\":[0.8005865102639296,0.8119402985074626,0.8318042813455657,0.8421052631578947,0.8580441640378549,0.8607594936708861,0.8662420382165605,0.8717948717948718,0.8745980707395499,0.8774193548387097,0.8802588996763754,0.8859934853420195,0.8976897689768977,0.9006622516556292,0.9063545150501672,0.9124579124579124,0.9155405405405406,0.9215017064846417,0.9275862068965517,0.9405594405594405,0.9438596491228071,0.9471830985915493,0.9572953736654805,0.9605734767025089,0.9638989169675091,0.9709090909090909,0.9744525547445255,0.9779411764705882,0.981549815498155,0.9851301115241635,0.9887640449438202,0.9924528301886792,0.9961977186311787,0.9961832061068703,0.9961538461538462,0.9961389961389961,0.9961089494163424,0.99609375,0.9960629921259843,0.996031746031746,0.9960159362549801,0.996,0.9959677419354839,0.9959016393442623,0.9958847736625515,0.9958677685950413,0.9957983193277311,0.9957805907172996,0.9957081545064378,0.9956140350877193,0.995575221238938,0.9954954954954955,0.995475113122172,0.9954128440366973,0.9953703703703703,0.9953488372093023,0.9953051643192489,0.995260663507109,0.9952153110047847,0.9951690821256038,0.9951456310679612,0.995049504950495,0.995,0.9949748743718593,0.9948717948717949,0.9947643979057592,0.9947368421052631,0.9946808510638298,0.994535519125683,0.9944444444444445,1.0,1.0,1.0,1.0,1.0,1.0,1.0,1.0,1.0,1.0,1.0,1.0,1.0,1.0,1.0,1.0],\"type\":\"scatter\"},{\"line\":{\"color\":\"#12719E\"},\"name\":\"Test Precision\",\"x\":[0.0,0.0025,0.0034999999999999996,0.005,0.006666666666666666,0.01,0.0125,0.02,0.03,0.04,0.045,0.04666666666666666,0.05,0.052333333333333336,0.06,0.06595238095238094,0.06595238095238096,0.07,0.07666666666666666,0.08,0.09370238095238097,0.1,0.10370238095238098,0.10833333333333332,0.10846825396825398,0.11,0.11319047619047622,0.11816666666666668,0.11928571428571429,0.12,0.13,0.13666666666666666,0.14,0.14866666666666667,0.15,0.18,0.18533333333333335,0.19,0.2,0.20461904761904762,0.21,0.21895238095238095,0.2366666666666667,0.26,0.27,0.28,0.28411904761904766,0.29,0.30530952380952364,0.31,0.33,0.34,0.36,0.38,0.39,0.4,0.41566666666666663,0.42,0.44,0.46,0.47,0.48,0.49,0.51,0.57,0.6,0.61,0.62,0.63,0.69,0.7019999999999998,0.71,0.72,0.74,0.76,0.7625655733155731,0.78,0.79,0.8,0.81,0.82,0.83,0.84,0.85,0.86,0.87,0.8789147796647796,0.8798238705738706,0.88,0.89,0.9,0.92,0.9266666666666665,0.93,0.95,0.96,0.97,0.98,0.9833333333333334,0.9839901764901765,0.99,1.0],\"y\":[0.3854748603351955,0.4074074074074074,0.40993788819875776,0.41509433962264153,0.4177215189873418,0.42038216560509556,0.41935483870967744,0.42207792207792205,0.423841059602649,0.42953020134228187,0.4383561643835616,0.4413793103448276,0.4444444444444444,0.45390070921985815,0.45,0.45323741007194246,0.45652173913043476,0.45985401459854014,0.4666666666666667,0.4626865671641791,0.46616541353383456,0.4696969696969697,0.47692307692307695,0.4806201550387597,0.484375,0.4881889763779528,0.49206349206349204,0.496,0.5,0.5040650406504065,0.5083333333333333,0.5126050420168067,0.5213675213675214,0.5304347826086957,0.5350877192982456,0.5446428571428571,0.5462962962962963,0.5514018691588785,0.5619047619047619,0.5631067961165048,0.5686274509803921,0.5858585858585859,0.5918367346938775,0.5979381443298969,0.6063829787234043,0.6129032258064516,0.6263736263736264,0.6333333333333333,0.6404494382022472,0.6951219512195121,0.7,0.7051282051282052,0.7236842105263158,0.72,0.7397260273972602,0.75,0.7571428571428571,0.7681159420289855,0.7794117647058824,0.7761194029850746,0.7727272727272727,0.7846153846153846,0.796875,0.8064516129032258,0.8032786885245902,0.8166666666666667,0.8103448275862069,0.8070175438596491,0.8035714285714286,0.8,0.8113207547169812,0.8076923076923077,0.82,0.8163265306122449,0.8333333333333334,0.8297872340425532,0.8478260869565217,0.8444444444444444,0.8409090909090909,0.8604651162790697,0.8780487804878049,0.8974358974358975,0.8918918918918919,0.8857142857142857,0.8823529411764706,0.8787878787878788,0.90625,0.9,0.896551724137931,0.8888888888888888,0.88,0.875,0.8636363636363636,0.8571428571428571,0.85,0.8235294117647058,0.8125,0.7857142857142857,0.8181818181818182,0.9,1.0,1.0],\"type\":\"scatter\"},{\"line\":{\"color\":\"#843215\"},\"name\":\"Train Recall\",\"x\":[0.18688777888777885,0.19,0.2,0.21,0.22,0.23,0.24,0.25,0.26,0.276,0.28,0.29,0.3,0.30530952380952364,0.31,0.32,0.32358333333333333,0.32722222222222214,0.33,0.34,0.35,0.37,0.3714523809523809,0.37766666666666665,0.39,0.39219530469530467,0.4273333333333334,0.43,0.467452380952381,0.4802738095238095,0.5177857142857143,0.5286666666666667,0.5817857142857144,0.59,0.5969444444444444,0.6,0.61,0.63,0.64,0.645,0.65,0.66,0.67,0.6736666666666667,0.6793333333333333,0.68,0.6858333333333333,0.69,0.7,0.71,0.72,0.7276666666666667,0.73,0.75,0.7560238095238094,0.76,0.77,0.78,0.79,0.7961666666666667,0.8,0.81,0.82,0.83,0.84,0.8483333333333334,0.85,0.86,0.87,0.8789147796647796,0.88,0.89,0.9,0.91,0.92,0.93,0.94,0.95,0.955,0.96,0.97,0.98,0.9822222222222223,0.9839901764901765,0.99,1.0],\"y\":[1.0,0.9963369963369964,0.9963369963369964,0.9963369963369964,0.9963369963369964,0.9963369963369964,0.9963369963369964,0.9963369963369964,0.9963369963369964,0.9963369963369964,0.9963369963369964,0.9963369963369964,0.9963369963369964,0.9963369963369964,0.9926739926739927,0.9926739926739927,0.9926739926739927,0.989010989010989,0.9853479853479854,0.9853479853479854,0.9853479853479854,0.9853479853479854,0.9853479853479854,0.9816849816849816,0.978021978021978,0.978021978021978,0.978021978021978,0.9743589743589743,0.9743589743589743,0.9706959706959707,0.967032967032967,0.9633699633699634,0.9597069597069597,0.9560439560439561,0.9487179487179487,0.945054945054945,0.9377289377289377,0.9340659340659341,0.9267399267399268,0.9194139194139194,0.9157509157509157,0.9120879120879121,0.9047619047619048,0.8901098901098901,0.8864468864468864,0.8827838827838828,0.8681318681318682,0.8644688644688645,0.8498168498168498,0.8315018315018315,0.8241758241758241,0.8095238095238095,0.8058608058608059,0.7948717948717948,0.7875457875457875,0.7838827838827839,0.7765567765567766,0.7692307692307693,0.7619047619047619,0.7545787545787546,0.7509157509157509,0.7362637362637363,0.7289377289377289,0.7252747252747253,0.7106227106227107,0.6959706959706959,0.6923076923076923,0.684981684981685,0.6666666666666666,0.6556776556776557,0.6373626373626373,0.6263736263736264,0.5824175824175825,0.575091575091575,0.5677655677655677,0.5531135531135531,0.5201465201465202,0.4981684981684982,0.46153846153846156,0.45787545787545786,0.42124542124542125,0.3663003663003663,0.304029304029304,0.30036630036630035,0.29304029304029305,0.24175824175824176],\"type\":\"scatter\"},{\"line\":{\"color\":\"#062635\"},\"name\":\"Test Recall\",\"x\":[0.0,0.0025,0.0034999999999999996,0.005,0.006666666666666666,0.01,0.0125,0.02,0.03,0.04,0.045,0.04666666666666666,0.05,0.052333333333333336,0.06,0.06595238095238094,0.06595238095238096,0.07,0.07666666666666666,0.08,0.09370238095238097,0.1,0.10370238095238098,0.10833333333333332,0.10846825396825398,0.11,0.11319047619047622,0.11816666666666668,0.11928571428571429,0.12,0.13,0.13666666666666666,0.14,0.14866666666666667,0.15,0.18,0.18533333333333335,0.19,0.2,0.20461904761904762,0.21,0.21895238095238095,0.2366666666666667,0.26,0.27,0.28,0.28411904761904766,0.29,0.30530952380952364,0.31,0.33,0.34,0.36,0.38,0.39,0.4,0.41566666666666663,0.42,0.44,0.46,0.47,0.48,0.49,0.51,0.57,0.6,0.61,0.62,0.63,0.69,0.7019999999999998,0.71,0.72,0.74,0.76,0.7625655733155731,0.78,0.79,0.8,0.81,0.82,0.83,0.84,0.85,0.86,0.87,0.8789147796647796,0.8798238705738706,0.88,0.89,0.9,0.92,0.9266666666666665,0.93,0.95,0.96,0.97,0.98,0.9833333333333334,0.9839901764901765,0.99,1.0],\"y\":[1.0,0.9565217391304348,0.9565217391304348,0.9565217391304348,0.9565217391304348,0.9565217391304348,0.9420289855072463,0.9420289855072463,0.927536231884058,0.927536231884058,0.927536231884058,0.927536231884058,0.927536231884058,0.927536231884058,0.9130434782608695,0.9130434782608695,0.9130434782608695,0.9130434782608695,0.9130434782608695,0.8985507246376812,0.8985507246376812,0.8985507246376812,0.8985507246376812,0.8985507246376812,0.8985507246376812,0.8985507246376812,0.8985507246376812,0.8985507246376812,0.8985507246376812,0.8985507246376812,0.8840579710144928,0.8840579710144928,0.8840579710144928,0.8840579710144928,0.8840579710144928,0.8840579710144928,0.855072463768116,0.855072463768116,0.855072463768116,0.8405797101449275,0.8405797101449275,0.8405797101449275,0.8405797101449275,0.8405797101449275,0.8260869565217391,0.8260869565217391,0.8260869565217391,0.8260869565217391,0.8260869565217391,0.8260869565217391,0.8115942028985508,0.7971014492753623,0.7971014492753623,0.782608695652174,0.782608695652174,0.782608695652174,0.7681159420289855,0.7681159420289855,0.7681159420289855,0.7536231884057971,0.7391304347826086,0.7391304347826086,0.7391304347826086,0.7246376811594203,0.7101449275362319,0.7101449275362319,0.6811594202898551,0.6666666666666666,0.6521739130434783,0.6376811594202898,0.6231884057971014,0.6086956521739131,0.5942028985507246,0.5797101449275363,0.5797101449275363,0.5652173913043478,0.5652173913043478,0.5507246376811594,0.5362318840579711,0.5362318840579711,0.5217391304347826,0.5072463768115942,0.4782608695652174,0.4492753623188406,0.43478260869565216,0.42028985507246375,0.42028985507246375,0.391304347826087,0.37681159420289856,0.34782608695652173,0.3188405797101449,0.30434782608695654,0.2753623188405797,0.2608695652173913,0.2463768115942029,0.2028985507246377,0.18840579710144928,0.15942028985507245,0.13043478260869565,0.13043478260869565,0.13043478260869565,0.057971014492753624],\"type\":\"scatter\"}],                        {\"template\":{\"data\":{\"bar\":[{\"error_x\":{\"color\":\"#2a3f5f\"},\"error_y\":{\"color\":\"#2a3f5f\"},\"marker\":{\"line\":{\"color\":\"#E5ECF6\",\"width\":0.5},\"pattern\":{\"fillmode\":\"overlay\",\"size\":10,\"solidity\":0.2}},\"type\":\"bar\"}],\"barpolar\":[{\"marker\":{\"line\":{\"color\":\"#E5ECF6\",\"width\":0.5},\"pattern\":{\"fillmode\":\"overlay\",\"size\":10,\"solidity\":0.2}},\"type\":\"barpolar\"}],\"carpet\":[{\"aaxis\":{\"endlinecolor\":\"#2a3f5f\",\"gridcolor\":\"white\",\"linecolor\":\"white\",\"minorgridcolor\":\"white\",\"startlinecolor\":\"#2a3f5f\"},\"baxis\":{\"endlinecolor\":\"#2a3f5f\",\"gridcolor\":\"white\",\"linecolor\":\"white\",\"minorgridcolor\":\"white\",\"startlinecolor\":\"#2a3f5f\"},\"type\":\"carpet\"}],\"choropleth\":[{\"colorbar\":{\"outlinewidth\":0,\"ticks\":\"\"},\"type\":\"choropleth\"}],\"contour\":[{\"colorbar\":{\"outlinewidth\":0,\"ticks\":\"\"},\"colorscale\":[[0.0,\"#0d0887\"],[0.1111111111111111,\"#46039f\"],[0.2222222222222222,\"#7201a8\"],[0.3333333333333333,\"#9c179e\"],[0.4444444444444444,\"#bd3786\"],[0.5555555555555556,\"#d8576b\"],[0.6666666666666666,\"#ed7953\"],[0.7777777777777778,\"#fb9f3a\"],[0.8888888888888888,\"#fdca26\"],[1.0,\"#f0f921\"]],\"type\":\"contour\"}],\"contourcarpet\":[{\"colorbar\":{\"outlinewidth\":0,\"ticks\":\"\"},\"type\":\"contourcarpet\"}],\"heatmap\":[{\"colorbar\":{\"outlinewidth\":0,\"ticks\":\"\"},\"colorscale\":[[0.0,\"#0d0887\"],[0.1111111111111111,\"#46039f\"],[0.2222222222222222,\"#7201a8\"],[0.3333333333333333,\"#9c179e\"],[0.4444444444444444,\"#bd3786\"],[0.5555555555555556,\"#d8576b\"],[0.6666666666666666,\"#ed7953\"],[0.7777777777777778,\"#fb9f3a\"],[0.8888888888888888,\"#fdca26\"],[1.0,\"#f0f921\"]],\"type\":\"heatmap\"}],\"heatmapgl\":[{\"colorbar\":{\"outlinewidth\":0,\"ticks\":\"\"},\"colorscale\":[[0.0,\"#0d0887\"],[0.1111111111111111,\"#46039f\"],[0.2222222222222222,\"#7201a8\"],[0.3333333333333333,\"#9c179e\"],[0.4444444444444444,\"#bd3786\"],[0.5555555555555556,\"#d8576b\"],[0.6666666666666666,\"#ed7953\"],[0.7777777777777778,\"#fb9f3a\"],[0.8888888888888888,\"#fdca26\"],[1.0,\"#f0f921\"]],\"type\":\"heatmapgl\"}],\"histogram\":[{\"marker\":{\"pattern\":{\"fillmode\":\"overlay\",\"size\":10,\"solidity\":0.2}},\"type\":\"histogram\"}],\"histogram2d\":[{\"colorbar\":{\"outlinewidth\":0,\"ticks\":\"\"},\"colorscale\":[[0.0,\"#0d0887\"],[0.1111111111111111,\"#46039f\"],[0.2222222222222222,\"#7201a8\"],[0.3333333333333333,\"#9c179e\"],[0.4444444444444444,\"#bd3786\"],[0.5555555555555556,\"#d8576b\"],[0.6666666666666666,\"#ed7953\"],[0.7777777777777778,\"#fb9f3a\"],[0.8888888888888888,\"#fdca26\"],[1.0,\"#f0f921\"]],\"type\":\"histogram2d\"}],\"histogram2dcontour\":[{\"colorbar\":{\"outlinewidth\":0,\"ticks\":\"\"},\"colorscale\":[[0.0,\"#0d0887\"],[0.1111111111111111,\"#46039f\"],[0.2222222222222222,\"#7201a8\"],[0.3333333333333333,\"#9c179e\"],[0.4444444444444444,\"#bd3786\"],[0.5555555555555556,\"#d8576b\"],[0.6666666666666666,\"#ed7953\"],[0.7777777777777778,\"#fb9f3a\"],[0.8888888888888888,\"#fdca26\"],[1.0,\"#f0f921\"]],\"type\":\"histogram2dcontour\"}],\"mesh3d\":[{\"colorbar\":{\"outlinewidth\":0,\"ticks\":\"\"},\"type\":\"mesh3d\"}],\"parcoords\":[{\"line\":{\"colorbar\":{\"outlinewidth\":0,\"ticks\":\"\"}},\"type\":\"parcoords\"}],\"pie\":[{\"automargin\":true,\"type\":\"pie\"}],\"scatter\":[{\"marker\":{\"colorbar\":{\"outlinewidth\":0,\"ticks\":\"\"}},\"type\":\"scatter\"}],\"scatter3d\":[{\"line\":{\"colorbar\":{\"outlinewidth\":0,\"ticks\":\"\"}},\"marker\":{\"colorbar\":{\"outlinewidth\":0,\"ticks\":\"\"}},\"type\":\"scatter3d\"}],\"scattercarpet\":[{\"marker\":{\"colorbar\":{\"outlinewidth\":0,\"ticks\":\"\"}},\"type\":\"scattercarpet\"}],\"scattergeo\":[{\"marker\":{\"colorbar\":{\"outlinewidth\":0,\"ticks\":\"\"}},\"type\":\"scattergeo\"}],\"scattergl\":[{\"marker\":{\"colorbar\":{\"outlinewidth\":0,\"ticks\":\"\"}},\"type\":\"scattergl\"}],\"scattermapbox\":[{\"marker\":{\"colorbar\":{\"outlinewidth\":0,\"ticks\":\"\"}},\"type\":\"scattermapbox\"}],\"scatterpolar\":[{\"marker\":{\"colorbar\":{\"outlinewidth\":0,\"ticks\":\"\"}},\"type\":\"scatterpolar\"}],\"scatterpolargl\":[{\"marker\":{\"colorbar\":{\"outlinewidth\":0,\"ticks\":\"\"}},\"type\":\"scatterpolargl\"}],\"scatterternary\":[{\"marker\":{\"colorbar\":{\"outlinewidth\":0,\"ticks\":\"\"}},\"type\":\"scatterternary\"}],\"surface\":[{\"colorbar\":{\"outlinewidth\":0,\"ticks\":\"\"},\"colorscale\":[[0.0,\"#0d0887\"],[0.1111111111111111,\"#46039f\"],[0.2222222222222222,\"#7201a8\"],[0.3333333333333333,\"#9c179e\"],[0.4444444444444444,\"#bd3786\"],[0.5555555555555556,\"#d8576b\"],[0.6666666666666666,\"#ed7953\"],[0.7777777777777778,\"#fb9f3a\"],[0.8888888888888888,\"#fdca26\"],[1.0,\"#f0f921\"]],\"type\":\"surface\"}],\"table\":[{\"cells\":{\"fill\":{\"color\":\"#EBF0F8\"},\"line\":{\"color\":\"white\"}},\"header\":{\"fill\":{\"color\":\"#C8D4E3\"},\"line\":{\"color\":\"white\"}},\"type\":\"table\"}]},\"layout\":{\"annotationdefaults\":{\"arrowcolor\":\"#2a3f5f\",\"arrowhead\":0,\"arrowwidth\":1},\"autotypenumbers\":\"strict\",\"coloraxis\":{\"colorbar\":{\"outlinewidth\":0,\"ticks\":\"\"}},\"colorscale\":{\"diverging\":[[0,\"#8e0152\"],[0.1,\"#c51b7d\"],[0.2,\"#de77ae\"],[0.3,\"#f1b6da\"],[0.4,\"#fde0ef\"],[0.5,\"#f7f7f7\"],[0.6,\"#e6f5d0\"],[0.7,\"#b8e186\"],[0.8,\"#7fbc41\"],[0.9,\"#4d9221\"],[1,\"#276419\"]],\"sequential\":[[0.0,\"#0d0887\"],[0.1111111111111111,\"#46039f\"],[0.2222222222222222,\"#7201a8\"],[0.3333333333333333,\"#9c179e\"],[0.4444444444444444,\"#bd3786\"],[0.5555555555555556,\"#d8576b\"],[0.6666666666666666,\"#ed7953\"],[0.7777777777777778,\"#fb9f3a\"],[0.8888888888888888,\"#fdca26\"],[1.0,\"#f0f921\"]],\"sequentialminus\":[[0.0,\"#0d0887\"],[0.1111111111111111,\"#46039f\"],[0.2222222222222222,\"#7201a8\"],[0.3333333333333333,\"#9c179e\"],[0.4444444444444444,\"#bd3786\"],[0.5555555555555556,\"#d8576b\"],[0.6666666666666666,\"#ed7953\"],[0.7777777777777778,\"#fb9f3a\"],[0.8888888888888888,\"#fdca26\"],[1.0,\"#f0f921\"]]},\"colorway\":[\"#636efa\",\"#EF553B\",\"#00cc96\",\"#ab63fa\",\"#FFA15A\",\"#19d3f3\",\"#FF6692\",\"#B6E880\",\"#FF97FF\",\"#FECB52\"],\"font\":{\"color\":\"#2a3f5f\"},\"geo\":{\"bgcolor\":\"white\",\"lakecolor\":\"white\",\"landcolor\":\"#E5ECF6\",\"showlakes\":true,\"showland\":true,\"subunitcolor\":\"white\"},\"hoverlabel\":{\"align\":\"left\"},\"hovermode\":\"closest\",\"mapbox\":{\"style\":\"light\"},\"paper_bgcolor\":\"white\",\"plot_bgcolor\":\"#E5ECF6\",\"polar\":{\"angularaxis\":{\"gridcolor\":\"white\",\"linecolor\":\"white\",\"ticks\":\"\"},\"bgcolor\":\"#E5ECF6\",\"radialaxis\":{\"gridcolor\":\"white\",\"linecolor\":\"white\",\"ticks\":\"\"}},\"scene\":{\"xaxis\":{\"backgroundcolor\":\"#E5ECF6\",\"gridcolor\":\"white\",\"gridwidth\":2,\"linecolor\":\"white\",\"showbackground\":true,\"ticks\":\"\",\"zerolinecolor\":\"white\"},\"yaxis\":{\"backgroundcolor\":\"#E5ECF6\",\"gridcolor\":\"white\",\"gridwidth\":2,\"linecolor\":\"white\",\"showbackground\":true,\"ticks\":\"\",\"zerolinecolor\":\"white\"},\"zaxis\":{\"backgroundcolor\":\"#E5ECF6\",\"gridcolor\":\"white\",\"gridwidth\":2,\"linecolor\":\"white\",\"showbackground\":true,\"ticks\":\"\",\"zerolinecolor\":\"white\"}},\"shapedefaults\":{\"line\":{\"color\":\"#2a3f5f\"}},\"ternary\":{\"aaxis\":{\"gridcolor\":\"white\",\"linecolor\":\"white\",\"ticks\":\"\"},\"baxis\":{\"gridcolor\":\"white\",\"linecolor\":\"white\",\"ticks\":\"\"},\"bgcolor\":\"#E5ECF6\",\"caxis\":{\"gridcolor\":\"white\",\"linecolor\":\"white\",\"ticks\":\"\"}},\"title\":{\"x\":0.05},\"xaxis\":{\"automargin\":true,\"gridcolor\":\"white\",\"linecolor\":\"white\",\"ticks\":\"\",\"title\":{\"standoff\":15},\"zerolinecolor\":\"white\",\"zerolinewidth\":2},\"yaxis\":{\"automargin\":true,\"gridcolor\":\"white\",\"linecolor\":\"white\",\"ticks\":\"\",\"title\":{\"standoff\":15},\"zerolinecolor\":\"white\",\"zerolinewidth\":2}}},\"title\":{\"text\":\"Precision-Recall curve\"},\"width\":900,\"height\":500},                        {\"responsive\": true}                    ).then(function(){\n",
       "                            \n",
       "var gd = document.getElementById('7d356806-4a74-430c-bf6d-5e9300be8565');\n",
       "var x = new MutationObserver(function (mutations, observer) {{\n",
       "        var display = window.getComputedStyle(gd).display;\n",
       "        if (!display || display === 'none') {{\n",
       "            console.log([gd, 'removed!']);\n",
       "            Plotly.purge(gd);\n",
       "            observer.disconnect();\n",
       "        }}\n",
       "}});\n",
       "\n",
       "// Listen for the removal of the full notebook cells\n",
       "var notebookContainer = gd.closest('#notebook-container');\n",
       "if (notebookContainer) {{\n",
       "    x.observe(notebookContainer, {childList: true});\n",
       "}}\n",
       "\n",
       "// Listen for the clearing of the current output cell\n",
       "var outputEl = gd.closest('.output');\n",
       "if (outputEl) {{\n",
       "    x.observe(outputEl, {childList: true});\n",
       "}}\n",
       "\n",
       "                        })                };                });            </script>        </div>"
      ]
     },
     "metadata": {},
     "output_type": "display_data"
    }
   ],
   "source": [
    "# Display Metrics\n",
    "metrics_report(y_train, y_test, y_pred_train, y_pred_test, y_proba_train, y_proba_test)"
   ]
  },
  {
   "cell_type": "markdown",
   "id": "7ece4487",
   "metadata": {
    "heading_collapsed": true
   },
   "source": [
    "## __C)__ Treine um modelo _Perceptron_ para a classificação dos sobreviventes na mesma proporção (80/20%)."
   ]
  },
  {
   "cell_type": "code",
   "execution_count": 518,
   "id": "e5aef5d2",
   "metadata": {
    "ExecuteTime": {
     "end_time": "2022-06-07T00:54:59.764402Z",
     "start_time": "2022-06-07T00:54:59.725928Z"
    },
    "hidden": true
   },
   "outputs": [],
   "source": [
    "from sklearn.linear_model import Perceptron\n",
    "\n",
    "# Build RandomForest pipeline and fit model\n",
    "ppn_pipeline = Pipeline([\n",
    "    ('preprocess', ct_pipeline),\n",
    "    ('ppn', Perceptron(random_state=42))\n",
    "]).fit(X_train, y_train)"
   ]
  },
  {
   "cell_type": "code",
   "execution_count": 519,
   "id": "6ec7721d",
   "metadata": {
    "ExecuteTime": {
     "end_time": "2022-06-07T00:54:59.802467Z",
     "start_time": "2022-06-07T00:54:59.767968Z"
    },
    "hidden": true
   },
   "outputs": [],
   "source": [
    "# Make predictions\n",
    "y_pred_train, y_pred_test = perc_pipeline.predict(X_train), perc_pipeline.predict(X_test)"
   ]
  },
  {
   "cell_type": "code",
   "execution_count": 520,
   "id": "696d3354",
   "metadata": {
    "ExecuteTime": {
     "end_time": "2022-06-07T00:54:59.935843Z",
     "start_time": "2022-06-07T00:54:59.806327Z"
    },
    "hidden": true
   },
   "outputs": [
    {
     "data": {
      "text/html": [
       "<div>\n",
       "<style scoped>\n",
       "    .dataframe tbody tr th:only-of-type {\n",
       "        vertical-align: middle;\n",
       "    }\n",
       "\n",
       "    .dataframe tbody tr th {\n",
       "        vertical-align: top;\n",
       "    }\n",
       "\n",
       "    .dataframe thead tr th {\n",
       "        text-align: left;\n",
       "    }\n",
       "</style>\n",
       "<table border=\"1\" class=\"dataframe\">\n",
       "  <thead>\n",
       "    <tr>\n",
       "      <th></th>\n",
       "      <th colspan=\"4\" halign=\"left\">Train dataset</th>\n",
       "      <th colspan=\"4\" halign=\"left\">Test dataset</th>\n",
       "    </tr>\n",
       "    <tr>\n",
       "      <th></th>\n",
       "      <th>precision</th>\n",
       "      <th>recall</th>\n",
       "      <th>f1-score</th>\n",
       "      <th>support</th>\n",
       "      <th>precision</th>\n",
       "      <th>recall</th>\n",
       "      <th>f1-score</th>\n",
       "      <th>support</th>\n",
       "    </tr>\n",
       "  </thead>\n",
       "  <tbody>\n",
       "    <tr>\n",
       "      <th>0</th>\n",
       "      <td>0.859</td>\n",
       "      <td>0.747</td>\n",
       "      <td>0.799</td>\n",
       "      <td>439.000</td>\n",
       "      <td>0.844</td>\n",
       "      <td>0.736</td>\n",
       "      <td>0.786</td>\n",
       "      <td>110.000</td>\n",
       "    </tr>\n",
       "    <tr>\n",
       "      <th>1</th>\n",
       "      <td>0.664</td>\n",
       "      <td>0.802</td>\n",
       "      <td>0.726</td>\n",
       "      <td>273.000</td>\n",
       "      <td>0.651</td>\n",
       "      <td>0.783</td>\n",
       "      <td>0.711</td>\n",
       "      <td>69.000</td>\n",
       "    </tr>\n",
       "    <tr>\n",
       "      <th>accuracy</th>\n",
       "      <td>0.768</td>\n",
       "      <td>0.768</td>\n",
       "      <td>0.768</td>\n",
       "      <td>0.768</td>\n",
       "      <td>0.754</td>\n",
       "      <td>0.754</td>\n",
       "      <td>0.754</td>\n",
       "      <td>0.754</td>\n",
       "    </tr>\n",
       "    <tr>\n",
       "      <th>macro avg</th>\n",
       "      <td>0.761</td>\n",
       "      <td>0.775</td>\n",
       "      <td>0.763</td>\n",
       "      <td>712.000</td>\n",
       "      <td>0.747</td>\n",
       "      <td>0.759</td>\n",
       "      <td>0.748</td>\n",
       "      <td>179.000</td>\n",
       "    </tr>\n",
       "    <tr>\n",
       "      <th>weighted avg</th>\n",
       "      <td>0.784</td>\n",
       "      <td>0.768</td>\n",
       "      <td>0.771</td>\n",
       "      <td>712.000</td>\n",
       "      <td>0.769</td>\n",
       "      <td>0.754</td>\n",
       "      <td>0.757</td>\n",
       "      <td>179.000</td>\n",
       "    </tr>\n",
       "  </tbody>\n",
       "</table>\n",
       "</div>"
      ],
      "text/plain": [
       "             Train dataset                          Test dataset         \\\n",
       "                 precision recall f1-score  support    precision recall   \n",
       "0                    0.859  0.747    0.799  439.000        0.844  0.736   \n",
       "1                    0.664  0.802    0.726  273.000        0.651  0.783   \n",
       "accuracy             0.768  0.768    0.768    0.768        0.754  0.754   \n",
       "macro avg            0.761  0.775    0.763  712.000        0.747  0.759   \n",
       "weighted avg         0.784  0.768    0.771  712.000        0.769  0.754   \n",
       "\n",
       "                                \n",
       "             f1-score  support  \n",
       "0               0.786  110.000  \n",
       "1               0.711   69.000  \n",
       "accuracy        0.754    0.754  \n",
       "macro avg       0.748  179.000  \n",
       "weighted avg    0.757  179.000  "
      ]
     },
     "metadata": {},
     "output_type": "display_data"
    },
    {
     "data": {
      "application/vnd.plotly.v1+json": {
       "config": {
        "plotlyServerURL": "https://plot.ly"
       },
       "data": [
        {
         "colorbar": {
          "x": 0.4
         },
         "colorscale": [
          [
           0,
           "#FFF2CF"
          ],
          [
           0.14285714285714285,
           "#FCE39E"
          ],
          [
           0.2857142857142857,
           "#FDD870"
          ],
          [
           0.42857142857142855,
           "#FCCB41"
          ],
          [
           0.5714285714285714,
           "#FDBF11"
          ],
          [
           0.7142857142857143,
           "#E88E2D"
          ],
          [
           0.8571428571428571,
           "#CA5800"
          ],
          [
           1,
           "#843215"
          ]
         ],
         "hovertemplate": "Predicted Label: %{x}<br>True Label: %{y}<br>#: %{z}<extra></extra>",
         "text": [
          [
           328,
           111
          ],
          [
           54,
           219
          ]
         ],
         "textfont": {
          "size": 14
         },
         "texttemplate": "%{text}",
         "type": "heatmap",
         "x": [
          "dead",
          "survived"
         ],
         "xaxis": "x",
         "y": [
          "dead",
          "survived"
         ],
         "yaxis": "y",
         "z": [
          [
           328,
           111
          ],
          [
           54,
           219
          ]
         ]
        },
        {
         "colorbar": {
          "x": 1
         },
         "colorscale": [
          [
           0,
           "#CFE8F3"
          ],
          [
           0.14285714285714285,
           "#A2D4EC"
          ],
          [
           0.2857142857142857,
           "#73BFE2"
          ],
          [
           0.42857142857142855,
           "#46ABDB"
          ],
          [
           0.5714285714285714,
           "#1696D2"
          ],
          [
           0.7142857142857143,
           "#12719E"
          ],
          [
           0.8571428571428571,
           "#0A4C6A"
          ],
          [
           1,
           "#062635"
          ]
         ],
         "hovertemplate": "Predicted Label: %{x}<br>True Label: %{y}<br>#: %{z}<extra></extra>",
         "text": [
          [
           81,
           29
          ],
          [
           15,
           54
          ]
         ],
         "textfont": {
          "size": 14
         },
         "texttemplate": "%{text}",
         "type": "heatmap",
         "x": [
          "dead",
          "survived"
         ],
         "xaxis": "x2",
         "y": [
          "dead",
          "survived"
         ],
         "yaxis": "y2",
         "z": [
          [
           81,
           29
          ],
          [
           15,
           54
          ]
         ]
        }
       ],
       "layout": {
        "annotations": [
         {
          "font": {
           "size": 16
          },
          "showarrow": false,
          "text": "Train Dataset",
          "x": 0.2,
          "xanchor": "center",
          "xref": "paper",
          "y": 1,
          "yanchor": "bottom",
          "yref": "paper"
         },
         {
          "font": {
           "size": 16
          },
          "showarrow": false,
          "text": "Test Dataset",
          "x": 0.8,
          "xanchor": "center",
          "xref": "paper",
          "y": 1,
          "yanchor": "bottom",
          "yref": "paper"
         }
        ],
        "height": 500,
        "template": {
         "data": {
          "bar": [
           {
            "error_x": {
             "color": "#2a3f5f"
            },
            "error_y": {
             "color": "#2a3f5f"
            },
            "marker": {
             "line": {
              "color": "#E5ECF6",
              "width": 0.5
             },
             "pattern": {
              "fillmode": "overlay",
              "size": 10,
              "solidity": 0.2
             }
            },
            "type": "bar"
           }
          ],
          "barpolar": [
           {
            "marker": {
             "line": {
              "color": "#E5ECF6",
              "width": 0.5
             },
             "pattern": {
              "fillmode": "overlay",
              "size": 10,
              "solidity": 0.2
             }
            },
            "type": "barpolar"
           }
          ],
          "carpet": [
           {
            "aaxis": {
             "endlinecolor": "#2a3f5f",
             "gridcolor": "white",
             "linecolor": "white",
             "minorgridcolor": "white",
             "startlinecolor": "#2a3f5f"
            },
            "baxis": {
             "endlinecolor": "#2a3f5f",
             "gridcolor": "white",
             "linecolor": "white",
             "minorgridcolor": "white",
             "startlinecolor": "#2a3f5f"
            },
            "type": "carpet"
           }
          ],
          "choropleth": [
           {
            "colorbar": {
             "outlinewidth": 0,
             "ticks": ""
            },
            "type": "choropleth"
           }
          ],
          "contour": [
           {
            "colorbar": {
             "outlinewidth": 0,
             "ticks": ""
            },
            "colorscale": [
             [
              0,
              "#0d0887"
             ],
             [
              0.1111111111111111,
              "#46039f"
             ],
             [
              0.2222222222222222,
              "#7201a8"
             ],
             [
              0.3333333333333333,
              "#9c179e"
             ],
             [
              0.4444444444444444,
              "#bd3786"
             ],
             [
              0.5555555555555556,
              "#d8576b"
             ],
             [
              0.6666666666666666,
              "#ed7953"
             ],
             [
              0.7777777777777778,
              "#fb9f3a"
             ],
             [
              0.8888888888888888,
              "#fdca26"
             ],
             [
              1,
              "#f0f921"
             ]
            ],
            "type": "contour"
           }
          ],
          "contourcarpet": [
           {
            "colorbar": {
             "outlinewidth": 0,
             "ticks": ""
            },
            "type": "contourcarpet"
           }
          ],
          "heatmap": [
           {
            "colorbar": {
             "outlinewidth": 0,
             "ticks": ""
            },
            "colorscale": [
             [
              0,
              "#0d0887"
             ],
             [
              0.1111111111111111,
              "#46039f"
             ],
             [
              0.2222222222222222,
              "#7201a8"
             ],
             [
              0.3333333333333333,
              "#9c179e"
             ],
             [
              0.4444444444444444,
              "#bd3786"
             ],
             [
              0.5555555555555556,
              "#d8576b"
             ],
             [
              0.6666666666666666,
              "#ed7953"
             ],
             [
              0.7777777777777778,
              "#fb9f3a"
             ],
             [
              0.8888888888888888,
              "#fdca26"
             ],
             [
              1,
              "#f0f921"
             ]
            ],
            "type": "heatmap"
           }
          ],
          "heatmapgl": [
           {
            "colorbar": {
             "outlinewidth": 0,
             "ticks": ""
            },
            "colorscale": [
             [
              0,
              "#0d0887"
             ],
             [
              0.1111111111111111,
              "#46039f"
             ],
             [
              0.2222222222222222,
              "#7201a8"
             ],
             [
              0.3333333333333333,
              "#9c179e"
             ],
             [
              0.4444444444444444,
              "#bd3786"
             ],
             [
              0.5555555555555556,
              "#d8576b"
             ],
             [
              0.6666666666666666,
              "#ed7953"
             ],
             [
              0.7777777777777778,
              "#fb9f3a"
             ],
             [
              0.8888888888888888,
              "#fdca26"
             ],
             [
              1,
              "#f0f921"
             ]
            ],
            "type": "heatmapgl"
           }
          ],
          "histogram": [
           {
            "marker": {
             "pattern": {
              "fillmode": "overlay",
              "size": 10,
              "solidity": 0.2
             }
            },
            "type": "histogram"
           }
          ],
          "histogram2d": [
           {
            "colorbar": {
             "outlinewidth": 0,
             "ticks": ""
            },
            "colorscale": [
             [
              0,
              "#0d0887"
             ],
             [
              0.1111111111111111,
              "#46039f"
             ],
             [
              0.2222222222222222,
              "#7201a8"
             ],
             [
              0.3333333333333333,
              "#9c179e"
             ],
             [
              0.4444444444444444,
              "#bd3786"
             ],
             [
              0.5555555555555556,
              "#d8576b"
             ],
             [
              0.6666666666666666,
              "#ed7953"
             ],
             [
              0.7777777777777778,
              "#fb9f3a"
             ],
             [
              0.8888888888888888,
              "#fdca26"
             ],
             [
              1,
              "#f0f921"
             ]
            ],
            "type": "histogram2d"
           }
          ],
          "histogram2dcontour": [
           {
            "colorbar": {
             "outlinewidth": 0,
             "ticks": ""
            },
            "colorscale": [
             [
              0,
              "#0d0887"
             ],
             [
              0.1111111111111111,
              "#46039f"
             ],
             [
              0.2222222222222222,
              "#7201a8"
             ],
             [
              0.3333333333333333,
              "#9c179e"
             ],
             [
              0.4444444444444444,
              "#bd3786"
             ],
             [
              0.5555555555555556,
              "#d8576b"
             ],
             [
              0.6666666666666666,
              "#ed7953"
             ],
             [
              0.7777777777777778,
              "#fb9f3a"
             ],
             [
              0.8888888888888888,
              "#fdca26"
             ],
             [
              1,
              "#f0f921"
             ]
            ],
            "type": "histogram2dcontour"
           }
          ],
          "mesh3d": [
           {
            "colorbar": {
             "outlinewidth": 0,
             "ticks": ""
            },
            "type": "mesh3d"
           }
          ],
          "parcoords": [
           {
            "line": {
             "colorbar": {
              "outlinewidth": 0,
              "ticks": ""
             }
            },
            "type": "parcoords"
           }
          ],
          "pie": [
           {
            "automargin": true,
            "type": "pie"
           }
          ],
          "scatter": [
           {
            "marker": {
             "colorbar": {
              "outlinewidth": 0,
              "ticks": ""
             }
            },
            "type": "scatter"
           }
          ],
          "scatter3d": [
           {
            "line": {
             "colorbar": {
              "outlinewidth": 0,
              "ticks": ""
             }
            },
            "marker": {
             "colorbar": {
              "outlinewidth": 0,
              "ticks": ""
             }
            },
            "type": "scatter3d"
           }
          ],
          "scattercarpet": [
           {
            "marker": {
             "colorbar": {
              "outlinewidth": 0,
              "ticks": ""
             }
            },
            "type": "scattercarpet"
           }
          ],
          "scattergeo": [
           {
            "marker": {
             "colorbar": {
              "outlinewidth": 0,
              "ticks": ""
             }
            },
            "type": "scattergeo"
           }
          ],
          "scattergl": [
           {
            "marker": {
             "colorbar": {
              "outlinewidth": 0,
              "ticks": ""
             }
            },
            "type": "scattergl"
           }
          ],
          "scattermapbox": [
           {
            "marker": {
             "colorbar": {
              "outlinewidth": 0,
              "ticks": ""
             }
            },
            "type": "scattermapbox"
           }
          ],
          "scatterpolar": [
           {
            "marker": {
             "colorbar": {
              "outlinewidth": 0,
              "ticks": ""
             }
            },
            "type": "scatterpolar"
           }
          ],
          "scatterpolargl": [
           {
            "marker": {
             "colorbar": {
              "outlinewidth": 0,
              "ticks": ""
             }
            },
            "type": "scatterpolargl"
           }
          ],
          "scatterternary": [
           {
            "marker": {
             "colorbar": {
              "outlinewidth": 0,
              "ticks": ""
             }
            },
            "type": "scatterternary"
           }
          ],
          "surface": [
           {
            "colorbar": {
             "outlinewidth": 0,
             "ticks": ""
            },
            "colorscale": [
             [
              0,
              "#0d0887"
             ],
             [
              0.1111111111111111,
              "#46039f"
             ],
             [
              0.2222222222222222,
              "#7201a8"
             ],
             [
              0.3333333333333333,
              "#9c179e"
             ],
             [
              0.4444444444444444,
              "#bd3786"
             ],
             [
              0.5555555555555556,
              "#d8576b"
             ],
             [
              0.6666666666666666,
              "#ed7953"
             ],
             [
              0.7777777777777778,
              "#fb9f3a"
             ],
             [
              0.8888888888888888,
              "#fdca26"
             ],
             [
              1,
              "#f0f921"
             ]
            ],
            "type": "surface"
           }
          ],
          "table": [
           {
            "cells": {
             "fill": {
              "color": "#EBF0F8"
             },
             "line": {
              "color": "white"
             }
            },
            "header": {
             "fill": {
              "color": "#C8D4E3"
             },
             "line": {
              "color": "white"
             }
            },
            "type": "table"
           }
          ]
         },
         "layout": {
          "annotationdefaults": {
           "arrowcolor": "#2a3f5f",
           "arrowhead": 0,
           "arrowwidth": 1
          },
          "autotypenumbers": "strict",
          "coloraxis": {
           "colorbar": {
            "outlinewidth": 0,
            "ticks": ""
           }
          },
          "colorscale": {
           "diverging": [
            [
             0,
             "#8e0152"
            ],
            [
             0.1,
             "#c51b7d"
            ],
            [
             0.2,
             "#de77ae"
            ],
            [
             0.3,
             "#f1b6da"
            ],
            [
             0.4,
             "#fde0ef"
            ],
            [
             0.5,
             "#f7f7f7"
            ],
            [
             0.6,
             "#e6f5d0"
            ],
            [
             0.7,
             "#b8e186"
            ],
            [
             0.8,
             "#7fbc41"
            ],
            [
             0.9,
             "#4d9221"
            ],
            [
             1,
             "#276419"
            ]
           ],
           "sequential": [
            [
             0,
             "#0d0887"
            ],
            [
             0.1111111111111111,
             "#46039f"
            ],
            [
             0.2222222222222222,
             "#7201a8"
            ],
            [
             0.3333333333333333,
             "#9c179e"
            ],
            [
             0.4444444444444444,
             "#bd3786"
            ],
            [
             0.5555555555555556,
             "#d8576b"
            ],
            [
             0.6666666666666666,
             "#ed7953"
            ],
            [
             0.7777777777777778,
             "#fb9f3a"
            ],
            [
             0.8888888888888888,
             "#fdca26"
            ],
            [
             1,
             "#f0f921"
            ]
           ],
           "sequentialminus": [
            [
             0,
             "#0d0887"
            ],
            [
             0.1111111111111111,
             "#46039f"
            ],
            [
             0.2222222222222222,
             "#7201a8"
            ],
            [
             0.3333333333333333,
             "#9c179e"
            ],
            [
             0.4444444444444444,
             "#bd3786"
            ],
            [
             0.5555555555555556,
             "#d8576b"
            ],
            [
             0.6666666666666666,
             "#ed7953"
            ],
            [
             0.7777777777777778,
             "#fb9f3a"
            ],
            [
             0.8888888888888888,
             "#fdca26"
            ],
            [
             1,
             "#f0f921"
            ]
           ]
          },
          "colorway": [
           "#636efa",
           "#EF553B",
           "#00cc96",
           "#ab63fa",
           "#FFA15A",
           "#19d3f3",
           "#FF6692",
           "#B6E880",
           "#FF97FF",
           "#FECB52"
          ],
          "font": {
           "color": "#2a3f5f"
          },
          "geo": {
           "bgcolor": "white",
           "lakecolor": "white",
           "landcolor": "#E5ECF6",
           "showlakes": true,
           "showland": true,
           "subunitcolor": "white"
          },
          "hoverlabel": {
           "align": "left"
          },
          "hovermode": "closest",
          "mapbox": {
           "style": "light"
          },
          "paper_bgcolor": "white",
          "plot_bgcolor": "#E5ECF6",
          "polar": {
           "angularaxis": {
            "gridcolor": "white",
            "linecolor": "white",
            "ticks": ""
           },
           "bgcolor": "#E5ECF6",
           "radialaxis": {
            "gridcolor": "white",
            "linecolor": "white",
            "ticks": ""
           }
          },
          "scene": {
           "xaxis": {
            "backgroundcolor": "#E5ECF6",
            "gridcolor": "white",
            "gridwidth": 2,
            "linecolor": "white",
            "showbackground": true,
            "ticks": "",
            "zerolinecolor": "white"
           },
           "yaxis": {
            "backgroundcolor": "#E5ECF6",
            "gridcolor": "white",
            "gridwidth": 2,
            "linecolor": "white",
            "showbackground": true,
            "ticks": "",
            "zerolinecolor": "white"
           },
           "zaxis": {
            "backgroundcolor": "#E5ECF6",
            "gridcolor": "white",
            "gridwidth": 2,
            "linecolor": "white",
            "showbackground": true,
            "ticks": "",
            "zerolinecolor": "white"
           }
          },
          "shapedefaults": {
           "line": {
            "color": "#2a3f5f"
           }
          },
          "ternary": {
           "aaxis": {
            "gridcolor": "white",
            "linecolor": "white",
            "ticks": ""
           },
           "baxis": {
            "gridcolor": "white",
            "linecolor": "white",
            "ticks": ""
           },
           "bgcolor": "#E5ECF6",
           "caxis": {
            "gridcolor": "white",
            "linecolor": "white",
            "ticks": ""
           }
          },
          "title": {
           "x": 0.05
          },
          "xaxis": {
           "automargin": true,
           "gridcolor": "white",
           "linecolor": "white",
           "ticks": "",
           "title": {
            "standoff": 15
           },
           "zerolinecolor": "white",
           "zerolinewidth": 2
          },
          "yaxis": {
           "automargin": true,
           "gridcolor": "white",
           "linecolor": "white",
           "ticks": "",
           "title": {
            "standoff": 15
           },
           "zerolinecolor": "white",
           "zerolinewidth": 2
          }
         }
        },
        "title": {
         "text": "Confusion Matrix"
        },
        "width": 900,
        "xaxis": {
         "anchor": "y",
         "domain": [
          0,
          0.4
         ]
        },
        "xaxis2": {
         "anchor": "y2",
         "domain": [
          0.6000000000000001,
          1
         ]
        },
        "yaxis": {
         "anchor": "x",
         "domain": [
          0,
          1
         ]
        },
        "yaxis2": {
         "anchor": "x2",
         "domain": [
          0,
          1
         ]
        }
       }
      },
      "text/html": [
       "<div>                            <div id=\"5b7e43df-728d-4727-be84-a68136b3e2c5\" class=\"plotly-graph-div\" style=\"height:500px; width:900px;\"></div>            <script type=\"text/javascript\">                require([\"plotly\"], function(Plotly) {                    window.PLOTLYENV=window.PLOTLYENV || {};                                    if (document.getElementById(\"5b7e43df-728d-4727-be84-a68136b3e2c5\")) {                    Plotly.newPlot(                        \"5b7e43df-728d-4727-be84-a68136b3e2c5\",                        [{\"colorbar\":{\"x\":0.4},\"colorscale\":[[0.0,\"#FFF2CF\"],[0.14285714285714285,\"#FCE39E\"],[0.2857142857142857,\"#FDD870\"],[0.42857142857142855,\"#FCCB41\"],[0.5714285714285714,\"#FDBF11\"],[0.7142857142857143,\"#E88E2D\"],[0.8571428571428571,\"#CA5800\"],[1.0,\"#843215\"]],\"hovertemplate\":\"Predicted Label: %{x}<br>True Label: %{y}<br>#: %{z}<extra></extra>\",\"text\":[[328,111],[54,219]],\"textfont\":{\"size\":14},\"texttemplate\":\"%{text}\",\"x\":[\"dead\",\"survived\"],\"y\":[\"dead\",\"survived\"],\"z\":[[328,111],[54,219]],\"type\":\"heatmap\",\"xaxis\":\"x\",\"yaxis\":\"y\"},{\"colorbar\":{\"x\":1},\"colorscale\":[[0.0,\"#CFE8F3\"],[0.14285714285714285,\"#A2D4EC\"],[0.2857142857142857,\"#73BFE2\"],[0.42857142857142855,\"#46ABDB\"],[0.5714285714285714,\"#1696D2\"],[0.7142857142857143,\"#12719E\"],[0.8571428571428571,\"#0A4C6A\"],[1.0,\"#062635\"]],\"hovertemplate\":\"Predicted Label: %{x}<br>True Label: %{y}<br>#: %{z}<extra></extra>\",\"text\":[[81,29],[15,54]],\"textfont\":{\"size\":14},\"texttemplate\":\"%{text}\",\"x\":[\"dead\",\"survived\"],\"y\":[\"dead\",\"survived\"],\"z\":[[81,29],[15,54]],\"type\":\"heatmap\",\"xaxis\":\"x2\",\"yaxis\":\"y2\"}],                        {\"template\":{\"data\":{\"bar\":[{\"error_x\":{\"color\":\"#2a3f5f\"},\"error_y\":{\"color\":\"#2a3f5f\"},\"marker\":{\"line\":{\"color\":\"#E5ECF6\",\"width\":0.5},\"pattern\":{\"fillmode\":\"overlay\",\"size\":10,\"solidity\":0.2}},\"type\":\"bar\"}],\"barpolar\":[{\"marker\":{\"line\":{\"color\":\"#E5ECF6\",\"width\":0.5},\"pattern\":{\"fillmode\":\"overlay\",\"size\":10,\"solidity\":0.2}},\"type\":\"barpolar\"}],\"carpet\":[{\"aaxis\":{\"endlinecolor\":\"#2a3f5f\",\"gridcolor\":\"white\",\"linecolor\":\"white\",\"minorgridcolor\":\"white\",\"startlinecolor\":\"#2a3f5f\"},\"baxis\":{\"endlinecolor\":\"#2a3f5f\",\"gridcolor\":\"white\",\"linecolor\":\"white\",\"minorgridcolor\":\"white\",\"startlinecolor\":\"#2a3f5f\"},\"type\":\"carpet\"}],\"choropleth\":[{\"colorbar\":{\"outlinewidth\":0,\"ticks\":\"\"},\"type\":\"choropleth\"}],\"contour\":[{\"colorbar\":{\"outlinewidth\":0,\"ticks\":\"\"},\"colorscale\":[[0.0,\"#0d0887\"],[0.1111111111111111,\"#46039f\"],[0.2222222222222222,\"#7201a8\"],[0.3333333333333333,\"#9c179e\"],[0.4444444444444444,\"#bd3786\"],[0.5555555555555556,\"#d8576b\"],[0.6666666666666666,\"#ed7953\"],[0.7777777777777778,\"#fb9f3a\"],[0.8888888888888888,\"#fdca26\"],[1.0,\"#f0f921\"]],\"type\":\"contour\"}],\"contourcarpet\":[{\"colorbar\":{\"outlinewidth\":0,\"ticks\":\"\"},\"type\":\"contourcarpet\"}],\"heatmap\":[{\"colorbar\":{\"outlinewidth\":0,\"ticks\":\"\"},\"colorscale\":[[0.0,\"#0d0887\"],[0.1111111111111111,\"#46039f\"],[0.2222222222222222,\"#7201a8\"],[0.3333333333333333,\"#9c179e\"],[0.4444444444444444,\"#bd3786\"],[0.5555555555555556,\"#d8576b\"],[0.6666666666666666,\"#ed7953\"],[0.7777777777777778,\"#fb9f3a\"],[0.8888888888888888,\"#fdca26\"],[1.0,\"#f0f921\"]],\"type\":\"heatmap\"}],\"heatmapgl\":[{\"colorbar\":{\"outlinewidth\":0,\"ticks\":\"\"},\"colorscale\":[[0.0,\"#0d0887\"],[0.1111111111111111,\"#46039f\"],[0.2222222222222222,\"#7201a8\"],[0.3333333333333333,\"#9c179e\"],[0.4444444444444444,\"#bd3786\"],[0.5555555555555556,\"#d8576b\"],[0.6666666666666666,\"#ed7953\"],[0.7777777777777778,\"#fb9f3a\"],[0.8888888888888888,\"#fdca26\"],[1.0,\"#f0f921\"]],\"type\":\"heatmapgl\"}],\"histogram\":[{\"marker\":{\"pattern\":{\"fillmode\":\"overlay\",\"size\":10,\"solidity\":0.2}},\"type\":\"histogram\"}],\"histogram2d\":[{\"colorbar\":{\"outlinewidth\":0,\"ticks\":\"\"},\"colorscale\":[[0.0,\"#0d0887\"],[0.1111111111111111,\"#46039f\"],[0.2222222222222222,\"#7201a8\"],[0.3333333333333333,\"#9c179e\"],[0.4444444444444444,\"#bd3786\"],[0.5555555555555556,\"#d8576b\"],[0.6666666666666666,\"#ed7953\"],[0.7777777777777778,\"#fb9f3a\"],[0.8888888888888888,\"#fdca26\"],[1.0,\"#f0f921\"]],\"type\":\"histogram2d\"}],\"histogram2dcontour\":[{\"colorbar\":{\"outlinewidth\":0,\"ticks\":\"\"},\"colorscale\":[[0.0,\"#0d0887\"],[0.1111111111111111,\"#46039f\"],[0.2222222222222222,\"#7201a8\"],[0.3333333333333333,\"#9c179e\"],[0.4444444444444444,\"#bd3786\"],[0.5555555555555556,\"#d8576b\"],[0.6666666666666666,\"#ed7953\"],[0.7777777777777778,\"#fb9f3a\"],[0.8888888888888888,\"#fdca26\"],[1.0,\"#f0f921\"]],\"type\":\"histogram2dcontour\"}],\"mesh3d\":[{\"colorbar\":{\"outlinewidth\":0,\"ticks\":\"\"},\"type\":\"mesh3d\"}],\"parcoords\":[{\"line\":{\"colorbar\":{\"outlinewidth\":0,\"ticks\":\"\"}},\"type\":\"parcoords\"}],\"pie\":[{\"automargin\":true,\"type\":\"pie\"}],\"scatter\":[{\"marker\":{\"colorbar\":{\"outlinewidth\":0,\"ticks\":\"\"}},\"type\":\"scatter\"}],\"scatter3d\":[{\"line\":{\"colorbar\":{\"outlinewidth\":0,\"ticks\":\"\"}},\"marker\":{\"colorbar\":{\"outlinewidth\":0,\"ticks\":\"\"}},\"type\":\"scatter3d\"}],\"scattercarpet\":[{\"marker\":{\"colorbar\":{\"outlinewidth\":0,\"ticks\":\"\"}},\"type\":\"scattercarpet\"}],\"scattergeo\":[{\"marker\":{\"colorbar\":{\"outlinewidth\":0,\"ticks\":\"\"}},\"type\":\"scattergeo\"}],\"scattergl\":[{\"marker\":{\"colorbar\":{\"outlinewidth\":0,\"ticks\":\"\"}},\"type\":\"scattergl\"}],\"scattermapbox\":[{\"marker\":{\"colorbar\":{\"outlinewidth\":0,\"ticks\":\"\"}},\"type\":\"scattermapbox\"}],\"scatterpolar\":[{\"marker\":{\"colorbar\":{\"outlinewidth\":0,\"ticks\":\"\"}},\"type\":\"scatterpolar\"}],\"scatterpolargl\":[{\"marker\":{\"colorbar\":{\"outlinewidth\":0,\"ticks\":\"\"}},\"type\":\"scatterpolargl\"}],\"scatterternary\":[{\"marker\":{\"colorbar\":{\"outlinewidth\":0,\"ticks\":\"\"}},\"type\":\"scatterternary\"}],\"surface\":[{\"colorbar\":{\"outlinewidth\":0,\"ticks\":\"\"},\"colorscale\":[[0.0,\"#0d0887\"],[0.1111111111111111,\"#46039f\"],[0.2222222222222222,\"#7201a8\"],[0.3333333333333333,\"#9c179e\"],[0.4444444444444444,\"#bd3786\"],[0.5555555555555556,\"#d8576b\"],[0.6666666666666666,\"#ed7953\"],[0.7777777777777778,\"#fb9f3a\"],[0.8888888888888888,\"#fdca26\"],[1.0,\"#f0f921\"]],\"type\":\"surface\"}],\"table\":[{\"cells\":{\"fill\":{\"color\":\"#EBF0F8\"},\"line\":{\"color\":\"white\"}},\"header\":{\"fill\":{\"color\":\"#C8D4E3\"},\"line\":{\"color\":\"white\"}},\"type\":\"table\"}]},\"layout\":{\"annotationdefaults\":{\"arrowcolor\":\"#2a3f5f\",\"arrowhead\":0,\"arrowwidth\":1},\"autotypenumbers\":\"strict\",\"coloraxis\":{\"colorbar\":{\"outlinewidth\":0,\"ticks\":\"\"}},\"colorscale\":{\"diverging\":[[0,\"#8e0152\"],[0.1,\"#c51b7d\"],[0.2,\"#de77ae\"],[0.3,\"#f1b6da\"],[0.4,\"#fde0ef\"],[0.5,\"#f7f7f7\"],[0.6,\"#e6f5d0\"],[0.7,\"#b8e186\"],[0.8,\"#7fbc41\"],[0.9,\"#4d9221\"],[1,\"#276419\"]],\"sequential\":[[0.0,\"#0d0887\"],[0.1111111111111111,\"#46039f\"],[0.2222222222222222,\"#7201a8\"],[0.3333333333333333,\"#9c179e\"],[0.4444444444444444,\"#bd3786\"],[0.5555555555555556,\"#d8576b\"],[0.6666666666666666,\"#ed7953\"],[0.7777777777777778,\"#fb9f3a\"],[0.8888888888888888,\"#fdca26\"],[1.0,\"#f0f921\"]],\"sequentialminus\":[[0.0,\"#0d0887\"],[0.1111111111111111,\"#46039f\"],[0.2222222222222222,\"#7201a8\"],[0.3333333333333333,\"#9c179e\"],[0.4444444444444444,\"#bd3786\"],[0.5555555555555556,\"#d8576b\"],[0.6666666666666666,\"#ed7953\"],[0.7777777777777778,\"#fb9f3a\"],[0.8888888888888888,\"#fdca26\"],[1.0,\"#f0f921\"]]},\"colorway\":[\"#636efa\",\"#EF553B\",\"#00cc96\",\"#ab63fa\",\"#FFA15A\",\"#19d3f3\",\"#FF6692\",\"#B6E880\",\"#FF97FF\",\"#FECB52\"],\"font\":{\"color\":\"#2a3f5f\"},\"geo\":{\"bgcolor\":\"white\",\"lakecolor\":\"white\",\"landcolor\":\"#E5ECF6\",\"showlakes\":true,\"showland\":true,\"subunitcolor\":\"white\"},\"hoverlabel\":{\"align\":\"left\"},\"hovermode\":\"closest\",\"mapbox\":{\"style\":\"light\"},\"paper_bgcolor\":\"white\",\"plot_bgcolor\":\"#E5ECF6\",\"polar\":{\"angularaxis\":{\"gridcolor\":\"white\",\"linecolor\":\"white\",\"ticks\":\"\"},\"bgcolor\":\"#E5ECF6\",\"radialaxis\":{\"gridcolor\":\"white\",\"linecolor\":\"white\",\"ticks\":\"\"}},\"scene\":{\"xaxis\":{\"backgroundcolor\":\"#E5ECF6\",\"gridcolor\":\"white\",\"gridwidth\":2,\"linecolor\":\"white\",\"showbackground\":true,\"ticks\":\"\",\"zerolinecolor\":\"white\"},\"yaxis\":{\"backgroundcolor\":\"#E5ECF6\",\"gridcolor\":\"white\",\"gridwidth\":2,\"linecolor\":\"white\",\"showbackground\":true,\"ticks\":\"\",\"zerolinecolor\":\"white\"},\"zaxis\":{\"backgroundcolor\":\"#E5ECF6\",\"gridcolor\":\"white\",\"gridwidth\":2,\"linecolor\":\"white\",\"showbackground\":true,\"ticks\":\"\",\"zerolinecolor\":\"white\"}},\"shapedefaults\":{\"line\":{\"color\":\"#2a3f5f\"}},\"ternary\":{\"aaxis\":{\"gridcolor\":\"white\",\"linecolor\":\"white\",\"ticks\":\"\"},\"baxis\":{\"gridcolor\":\"white\",\"linecolor\":\"white\",\"ticks\":\"\"},\"bgcolor\":\"#E5ECF6\",\"caxis\":{\"gridcolor\":\"white\",\"linecolor\":\"white\",\"ticks\":\"\"}},\"title\":{\"x\":0.05},\"xaxis\":{\"automargin\":true,\"gridcolor\":\"white\",\"linecolor\":\"white\",\"ticks\":\"\",\"title\":{\"standoff\":15},\"zerolinecolor\":\"white\",\"zerolinewidth\":2},\"yaxis\":{\"automargin\":true,\"gridcolor\":\"white\",\"linecolor\":\"white\",\"ticks\":\"\",\"title\":{\"standoff\":15},\"zerolinecolor\":\"white\",\"zerolinewidth\":2}}},\"xaxis\":{\"anchor\":\"y\",\"domain\":[0.0,0.4]},\"yaxis\":{\"anchor\":\"x\",\"domain\":[0.0,1.0]},\"xaxis2\":{\"anchor\":\"y2\",\"domain\":[0.6000000000000001,1.0]},\"yaxis2\":{\"anchor\":\"x2\",\"domain\":[0.0,1.0]},\"annotations\":[{\"font\":{\"size\":16},\"showarrow\":false,\"text\":\"Train Dataset\",\"x\":0.2,\"xanchor\":\"center\",\"xref\":\"paper\",\"y\":1.0,\"yanchor\":\"bottom\",\"yref\":\"paper\"},{\"font\":{\"size\":16},\"showarrow\":false,\"text\":\"Test Dataset\",\"x\":0.8,\"xanchor\":\"center\",\"xref\":\"paper\",\"y\":1.0,\"yanchor\":\"bottom\",\"yref\":\"paper\"}],\"title\":{\"text\":\"Confusion Matrix\"},\"width\":900,\"height\":500},                        {\"responsive\": true}                    ).then(function(){\n",
       "                            \n",
       "var gd = document.getElementById('5b7e43df-728d-4727-be84-a68136b3e2c5');\n",
       "var x = new MutationObserver(function (mutations, observer) {{\n",
       "        var display = window.getComputedStyle(gd).display;\n",
       "        if (!display || display === 'none') {{\n",
       "            console.log([gd, 'removed!']);\n",
       "            Plotly.purge(gd);\n",
       "            observer.disconnect();\n",
       "        }}\n",
       "}});\n",
       "\n",
       "// Listen for the removal of the full notebook cells\n",
       "var notebookContainer = gd.closest('#notebook-container');\n",
       "if (notebookContainer) {{\n",
       "    x.observe(notebookContainer, {childList: true});\n",
       "}}\n",
       "\n",
       "// Listen for the clearing of the current output cell\n",
       "var outputEl = gd.closest('.output');\n",
       "if (outputEl) {{\n",
       "    x.observe(outputEl, {childList: true});\n",
       "}}\n",
       "\n",
       "                        })                };                });            </script>        </div>"
      ]
     },
     "metadata": {},
     "output_type": "display_data"
    }
   ],
   "source": [
    "# Display Metrics\n",
    "metrics_report(y_train, y_test, y_pred_train, y_pred_test, labels=['dead', 'survived'], plot_roc=False, plot_pr=False)"
   ]
  },
  {
   "cell_type": "markdown",
   "id": "c745195b",
   "metadata": {},
   "source": [
    "## __D)__ Treine uma rede neural simples com as seguintes características:\n",
    "- Uma camada oculta com 18 neurônios e ativação ReLU;\n",
    "- Uma camada oculta com 50 neurônios e ativação ReLU;\n",
    "- Uma camada oculta com 5 neurônios e ativação ReLU;\n",
    "- Camada de Saída com ativação Sigmoíde;  \n",
    "Utilize como otimizador o `adam`, função de perda o `binary_corssentropy` e me´trica de acompanhamento a acurácia."
   ]
  },
  {
   "cell_type": "code",
   "execution_count": 521,
   "id": "4df270be",
   "metadata": {
    "ExecuteTime": {
     "end_time": "2022-06-07T00:54:59.953408Z",
     "start_time": "2022-06-07T00:54:59.943629Z"
    }
   },
   "outputs": [],
   "source": [
    "from tensorflow.keras.models import Sequential\n",
    "from tensorflow.keras.layers import Dense, Activation"
   ]
  },
  {
   "cell_type": "code",
   "execution_count": 522,
   "id": "e690bed9",
   "metadata": {
    "ExecuteTime": {
     "end_time": "2022-06-07T00:55:00.024919Z",
     "start_time": "2022-06-07T00:54:59.959075Z"
    }
   },
   "outputs": [],
   "source": [
    "# Transform data\n",
    "X_train_transf = ct_pipeline.fit_transform(X_train, y_train)\n",
    "X_test_transf = ct_pipeline.fit_transform(X_test, y_test)"
   ]
  },
  {
   "cell_type": "code",
   "execution_count": 523,
   "id": "0a775419",
   "metadata": {
    "ExecuteTime": {
     "end_time": "2022-06-07T00:55:00.129821Z",
     "start_time": "2022-06-07T00:55:00.030165Z"
    }
   },
   "outputs": [],
   "source": [
    "# Network configuration\n",
    "nn = Sequential()\n",
    "# Input layer\n",
    "nn.add(Dense(\n",
    "    units=18,\n",
    "    activation=Activation('relu'),\n",
    "    input_dim=X_train_transf.shape[1])\n",
    ")\n",
    "# Hidden layers layer\n",
    "for layer_length in [50, 5]:\n",
    "    nn.add(Dense(\n",
    "        units=layer_length,\n",
    "        activation=Activation('relu'))\n",
    "    )\n",
    "# Output layer\n",
    "nn.add(Dense(1, Activation('sigmoid')))"
   ]
  },
  {
   "cell_type": "code",
   "execution_count": 524,
   "id": "c665ae41",
   "metadata": {
    "ExecuteTime": {
     "end_time": "2022-06-07T00:55:00.207948Z",
     "start_time": "2022-06-07T00:55:00.134702Z"
    }
   },
   "outputs": [
    {
     "name": "stdout",
     "output_type": "stream",
     "text": [
      "Model: \"sequential_13\"\n",
      "_________________________________________________________________\n",
      " Layer (type)                Output Shape              Param #   \n",
      "=================================================================\n",
      " dense_53 (Dense)            (None, 18)                342       \n",
      "                                                                 \n",
      " dense_54 (Dense)            (None, 50)                950       \n",
      "                                                                 \n",
      " dense_55 (Dense)            (None, 5)                 255       \n",
      "                                                                 \n",
      " dense_56 (Dense)            (None, 1)                 6         \n",
      "                                                                 \n",
      "=================================================================\n",
      "Total params: 1,553\n",
      "Trainable params: 1,553\n",
      "Non-trainable params: 0\n",
      "_________________________________________________________________\n"
     ]
    }
   ],
   "source": [
    "nn.compile(\n",
    "    loss = 'binary_crossentropy',\n",
    "    optimizer = 'adam',\n",
    "    metrics = ['accuracy']\n",
    ")\n",
    "nn.summary()"
   ]
  },
  {
   "cell_type": "code",
   "execution_count": 532,
   "id": "34c57d0f",
   "metadata": {
    "ExecuteTime": {
     "end_time": "2022-06-07T00:56:35.664553Z",
     "start_time": "2022-06-07T00:56:35.660302Z"
    }
   },
   "outputs": [],
   "source": [
    "hist = nn.fit(\n",
    "    X_train_transf, y_train,\n",
    "    validation_data=(X_test_transf, y_test),\n",
    "    epochs=100, verbose=1)"
   ]
  },
  {
   "cell_type": "code",
   "execution_count": null,
   "id": "6623e6d4",
   "metadata": {
    "ExecuteTime": {
     "end_time": "2022-06-07T00:55:01.324220Z",
     "start_time": "2022-06-07T00:55:01.324190Z"
    }
   },
   "outputs": [],
   "source": [
    "# loss e val_loss\n",
    "loss = hist.history['loss']\n",
    "val_loss = hist.history['val_loss']\n",
    "epochs = range(len(loss))"
   ]
  },
  {
   "cell_type": "code",
   "execution_count": 526,
   "id": "2b025a2d",
   "metadata": {
    "ExecuteTime": {
     "end_time": "2022-06-07T00:55:26.480883Z",
     "start_time": "2022-06-07T00:55:13.575974Z"
    },
    "scrolled": true
   },
   "outputs": [
    {
     "name": "stdout",
     "output_type": "stream",
     "text": [
      "Epoch 1/100\n",
      "23/23 [==============================] - 4s 3ms/step - loss: 0.7103 - accuracy: 0.4719\n",
      "Epoch 2/100\n",
      "23/23 [==============================] - 0s 4ms/step - loss: 0.6599 - accuracy: 0.7683\n",
      "Epoch 3/100\n",
      "23/23 [==============================] - 0s 4ms/step - loss: 0.6410 - accuracy: 0.7767\n",
      "Epoch 4/100\n",
      "23/23 [==============================] - 0s 3ms/step - loss: 0.6247 - accuracy: 0.7978\n",
      "Epoch 5/100\n",
      "23/23 [==============================] - 0s 4ms/step - loss: 0.5675 - accuracy: 0.7949\n",
      "Epoch 6/100\n",
      "23/23 [==============================] - 0s 4ms/step - loss: 0.4766 - accuracy: 0.8048\n",
      "Epoch 7/100\n",
      "23/23 [==============================] - 0s 3ms/step - loss: 0.4388 - accuracy: 0.8146\n",
      "Epoch 8/100\n",
      "23/23 [==============================] - 0s 4ms/step - loss: 0.4304 - accuracy: 0.8174\n",
      "Epoch 9/100\n",
      "23/23 [==============================] - 0s 5ms/step - loss: 0.4213 - accuracy: 0.8202\n",
      "Epoch 10/100\n",
      "23/23 [==============================] - 0s 3ms/step - loss: 0.4130 - accuracy: 0.8301\n",
      "Epoch 11/100\n",
      "23/23 [==============================] - 0s 3ms/step - loss: 0.4087 - accuracy: 0.8315\n",
      "Epoch 12/100\n",
      "23/23 [==============================] - 0s 4ms/step - loss: 0.4044 - accuracy: 0.8329\n",
      "Epoch 13/100\n",
      "23/23 [==============================] - 0s 3ms/step - loss: 0.3999 - accuracy: 0.8427\n",
      "Epoch 14/100\n",
      "23/23 [==============================] - 0s 4ms/step - loss: 0.3964 - accuracy: 0.8413\n",
      "Epoch 15/100\n",
      "23/23 [==============================] - 0s 4ms/step - loss: 0.3945 - accuracy: 0.8399\n",
      "Epoch 16/100\n",
      "23/23 [==============================] - 0s 3ms/step - loss: 0.3902 - accuracy: 0.8497\n",
      "Epoch 17/100\n",
      "23/23 [==============================] - 0s 5ms/step - loss: 0.3932 - accuracy: 0.8399\n",
      "Epoch 18/100\n",
      "23/23 [==============================] - 0s 4ms/step - loss: 0.3883 - accuracy: 0.8497\n",
      "Epoch 19/100\n",
      "23/23 [==============================] - 0s 4ms/step - loss: 0.3856 - accuracy: 0.8441\n",
      "Epoch 20/100\n",
      "23/23 [==============================] - 0s 5ms/step - loss: 0.3836 - accuracy: 0.8497\n",
      "Epoch 21/100\n",
      "23/23 [==============================] - 0s 3ms/step - loss: 0.3832 - accuracy: 0.8469\n",
      "Epoch 22/100\n",
      "23/23 [==============================] - 0s 3ms/step - loss: 0.3821 - accuracy: 0.8553\n",
      "Epoch 23/100\n",
      "23/23 [==============================] - 0s 4ms/step - loss: 0.3810 - accuracy: 0.8441\n",
      "Epoch 24/100\n",
      "23/23 [==============================] - 0s 5ms/step - loss: 0.3807 - accuracy: 0.8399\n",
      "Epoch 25/100\n",
      "23/23 [==============================] - 0s 4ms/step - loss: 0.3782 - accuracy: 0.8539\n",
      "Epoch 26/100\n",
      "23/23 [==============================] - 0s 3ms/step - loss: 0.3816 - accuracy: 0.8497\n",
      "Epoch 27/100\n",
      "23/23 [==============================] - 0s 3ms/step - loss: 0.3767 - accuracy: 0.8469\n",
      "Epoch 28/100\n",
      "23/23 [==============================] - 0s 3ms/step - loss: 0.3741 - accuracy: 0.8539\n",
      "Epoch 29/100\n",
      "23/23 [==============================] - 0s 5ms/step - loss: 0.3741 - accuracy: 0.8483\n",
      "Epoch 30/100\n",
      "23/23 [==============================] - 0s 6ms/step - loss: 0.3736 - accuracy: 0.8511\n",
      "Epoch 31/100\n",
      "23/23 [==============================] - 0s 4ms/step - loss: 0.3709 - accuracy: 0.8469\n",
      "Epoch 32/100\n",
      "23/23 [==============================] - 0s 4ms/step - loss: 0.3690 - accuracy: 0.8483\n",
      "Epoch 33/100\n",
      "23/23 [==============================] - 0s 4ms/step - loss: 0.3695 - accuracy: 0.8497\n",
      "Epoch 34/100\n",
      "23/23 [==============================] - 0s 4ms/step - loss: 0.3689 - accuracy: 0.8469\n",
      "Epoch 35/100\n",
      "23/23 [==============================] - 0s 4ms/step - loss: 0.3675 - accuracy: 0.8455\n",
      "Epoch 36/100\n",
      "23/23 [==============================] - 0s 4ms/step - loss: 0.3690 - accuracy: 0.8511\n",
      "Epoch 37/100\n",
      "23/23 [==============================] - 0s 4ms/step - loss: 0.3635 - accuracy: 0.8525\n",
      "Epoch 38/100\n",
      "23/23 [==============================] - 0s 4ms/step - loss: 0.3617 - accuracy: 0.8497\n",
      "Epoch 39/100\n",
      "23/23 [==============================] - 0s 4ms/step - loss: 0.3629 - accuracy: 0.8525\n",
      "Epoch 40/100\n",
      "23/23 [==============================] - 0s 4ms/step - loss: 0.3609 - accuracy: 0.8497\n",
      "Epoch 41/100\n",
      "23/23 [==============================] - 0s 4ms/step - loss: 0.3606 - accuracy: 0.8483\n",
      "Epoch 42/100\n",
      "23/23 [==============================] - 0s 4ms/step - loss: 0.3604 - accuracy: 0.8567\n",
      "Epoch 43/100\n",
      "23/23 [==============================] - 0s 3ms/step - loss: 0.3580 - accuracy: 0.8497\n",
      "Epoch 44/100\n",
      "23/23 [==============================] - 0s 4ms/step - loss: 0.3586 - accuracy: 0.8497\n",
      "Epoch 45/100\n",
      "23/23 [==============================] - 0s 5ms/step - loss: 0.3548 - accuracy: 0.8567\n",
      "Epoch 46/100\n",
      "23/23 [==============================] - 0s 3ms/step - loss: 0.3561 - accuracy: 0.8483\n",
      "Epoch 47/100\n",
      "23/23 [==============================] - 0s 2ms/step - loss: 0.3592 - accuracy: 0.8497\n",
      "Epoch 48/100\n",
      "23/23 [==============================] - 0s 4ms/step - loss: 0.3576 - accuracy: 0.8539\n",
      "Epoch 49/100\n",
      "23/23 [==============================] - 0s 4ms/step - loss: 0.3522 - accuracy: 0.8567\n",
      "Epoch 50/100\n",
      "23/23 [==============================] - 0s 3ms/step - loss: 0.3512 - accuracy: 0.8525\n",
      "Epoch 51/100\n",
      "23/23 [==============================] - 0s 3ms/step - loss: 0.3509 - accuracy: 0.8539\n",
      "Epoch 52/100\n",
      "23/23 [==============================] - 0s 3ms/step - loss: 0.3485 - accuracy: 0.8567\n",
      "Epoch 53/100\n",
      "23/23 [==============================] - 0s 3ms/step - loss: 0.3484 - accuracy: 0.8596\n",
      "Epoch 54/100\n",
      "23/23 [==============================] - 0s 3ms/step - loss: 0.3523 - accuracy: 0.8525\n",
      "Epoch 55/100\n",
      "23/23 [==============================] - 0s 4ms/step - loss: 0.3478 - accuracy: 0.8567\n",
      "Epoch 56/100\n",
      "23/23 [==============================] - 0s 4ms/step - loss: 0.3451 - accuracy: 0.8567\n",
      "Epoch 57/100\n",
      "23/23 [==============================] - 0s 3ms/step - loss: 0.3431 - accuracy: 0.8539\n",
      "Epoch 58/100\n",
      "23/23 [==============================] - 0s 5ms/step - loss: 0.3435 - accuracy: 0.8567\n",
      "Epoch 59/100\n",
      "23/23 [==============================] - 0s 4ms/step - loss: 0.3413 - accuracy: 0.8567\n",
      "Epoch 60/100\n",
      "23/23 [==============================] - 0s 4ms/step - loss: 0.3414 - accuracy: 0.8511\n",
      "Epoch 61/100\n",
      "23/23 [==============================] - 0s 3ms/step - loss: 0.3399 - accuracy: 0.8511\n",
      "Epoch 62/100\n",
      "23/23 [==============================] - 0s 3ms/step - loss: 0.3391 - accuracy: 0.8666\n",
      "Epoch 63/100\n",
      "23/23 [==============================] - 0s 3ms/step - loss: 0.3433 - accuracy: 0.8581\n",
      "Epoch 64/100\n",
      "23/23 [==============================] - 0s 3ms/step - loss: 0.3400 - accuracy: 0.8610\n",
      "Epoch 65/100\n",
      "23/23 [==============================] - 0s 4ms/step - loss: 0.3368 - accuracy: 0.8553\n",
      "Epoch 66/100\n",
      "23/23 [==============================] - 0s 3ms/step - loss: 0.3359 - accuracy: 0.8567\n",
      "Epoch 67/100\n",
      "23/23 [==============================] - 0s 4ms/step - loss: 0.3348 - accuracy: 0.8567\n",
      "Epoch 68/100\n",
      "23/23 [==============================] - 0s 4ms/step - loss: 0.3360 - accuracy: 0.8553\n",
      "Epoch 69/100\n",
      "23/23 [==============================] - 0s 3ms/step - loss: 0.3358 - accuracy: 0.8596\n",
      "Epoch 70/100\n",
      "23/23 [==============================] - 0s 3ms/step - loss: 0.3391 - accuracy: 0.8469\n",
      "Epoch 71/100\n",
      "23/23 [==============================] - 0s 4ms/step - loss: 0.3352 - accuracy: 0.8596\n",
      "Epoch 72/100\n",
      "23/23 [==============================] - 0s 3ms/step - loss: 0.3386 - accuracy: 0.8596\n",
      "Epoch 73/100\n",
      "23/23 [==============================] - 0s 3ms/step - loss: 0.3313 - accuracy: 0.8525\n",
      "Epoch 74/100\n",
      "23/23 [==============================] - 0s 3ms/step - loss: 0.3306 - accuracy: 0.8581\n",
      "Epoch 75/100\n",
      "23/23 [==============================] - 0s 4ms/step - loss: 0.3285 - accuracy: 0.8610\n",
      "Epoch 76/100\n",
      "23/23 [==============================] - 0s 4ms/step - loss: 0.3288 - accuracy: 0.8539\n",
      "Epoch 77/100\n",
      "23/23 [==============================] - 0s 3ms/step - loss: 0.3291 - accuracy: 0.8581\n",
      "Epoch 78/100\n",
      "23/23 [==============================] - 0s 3ms/step - loss: 0.3323 - accuracy: 0.8581\n",
      "Epoch 79/100\n",
      "23/23 [==============================] - 0s 4ms/step - loss: 0.3302 - accuracy: 0.8624\n",
      "Epoch 80/100\n",
      "23/23 [==============================] - 0s 3ms/step - loss: 0.3265 - accuracy: 0.8581\n",
      "Epoch 81/100\n",
      "23/23 [==============================] - 0s 3ms/step - loss: 0.3268 - accuracy: 0.8624\n",
      "Epoch 82/100\n",
      "23/23 [==============================] - 0s 3ms/step - loss: 0.3254 - accuracy: 0.8596\n",
      "Epoch 83/100\n"
     ]
    },
    {
     "name": "stdout",
     "output_type": "stream",
     "text": [
      "23/23 [==============================] - 0s 3ms/step - loss: 0.3320 - accuracy: 0.8610\n",
      "Epoch 84/100\n",
      "23/23 [==============================] - 0s 3ms/step - loss: 0.3269 - accuracy: 0.8610\n",
      "Epoch 85/100\n",
      "23/23 [==============================] - 0s 3ms/step - loss: 0.3232 - accuracy: 0.8596\n",
      "Epoch 86/100\n",
      "23/23 [==============================] - 0s 2ms/step - loss: 0.3238 - accuracy: 0.8652\n",
      "Epoch 87/100\n",
      "23/23 [==============================] - 0s 2ms/step - loss: 0.3217 - accuracy: 0.8652\n",
      "Epoch 88/100\n",
      "23/23 [==============================] - 0s 2ms/step - loss: 0.3201 - accuracy: 0.8610\n",
      "Epoch 89/100\n",
      "23/23 [==============================] - 0s 4ms/step - loss: 0.3242 - accuracy: 0.8638\n",
      "Epoch 90/100\n",
      "23/23 [==============================] - 0s 3ms/step - loss: 0.3224 - accuracy: 0.8567\n",
      "Epoch 91/100\n",
      "23/23 [==============================] - 0s 3ms/step - loss: 0.3187 - accuracy: 0.8638\n",
      "Epoch 92/100\n",
      "23/23 [==============================] - 0s 2ms/step - loss: 0.3183 - accuracy: 0.8638\n",
      "Epoch 93/100\n",
      "23/23 [==============================] - 0s 2ms/step - loss: 0.3185 - accuracy: 0.8581\n",
      "Epoch 94/100\n",
      "23/23 [==============================] - 0s 3ms/step - loss: 0.3184 - accuracy: 0.8624\n",
      "Epoch 95/100\n",
      "23/23 [==============================] - 0s 3ms/step - loss: 0.3156 - accuracy: 0.8581\n",
      "Epoch 96/100\n",
      "23/23 [==============================] - 0s 3ms/step - loss: 0.3162 - accuracy: 0.8680\n",
      "Epoch 97/100\n",
      "23/23 [==============================] - 0s 3ms/step - loss: 0.3163 - accuracy: 0.8680\n",
      "Epoch 98/100\n",
      "23/23 [==============================] - 0s 3ms/step - loss: 0.3139 - accuracy: 0.8624\n",
      "Epoch 99/100\n",
      "23/23 [==============================] - 0s 3ms/step - loss: 0.3196 - accuracy: 0.8652\n",
      "Epoch 100/100\n",
      "23/23 [==============================] - 0s 3ms/step - loss: 0.3153 - accuracy: 0.8666\n"
     ]
    }
   ],
   "source": [
    "from tensorflow import keras\n",
    "from scikeras.wrappers import KerasClassifier\n",
    "\n",
    "def get_model(meta):\n",
    "    n_features_in_ = meta['n_features_in_']\n",
    "    X_shape_ = meta['X_shape_']\n",
    "    n_classes_ = meta['n_classes_']\n",
    "\n",
    "    model = Sequential()\n",
    "    # Input layer\n",
    "    model.add(Dense(n_features_in_, 'relu', input_shape=X_shape_[1:]))\n",
    "   # Hidden layers\n",
    "    [model.add(Dense(layer_length, 'relu')) for layer_length in [50,5]]\n",
    "    # Output layer\n",
    "    model.add(Dense(1, 'sigmoid'))\n",
    "    return model\n",
    "\n",
    "clf = KerasClassifier(\n",
    "    get_model,\n",
    "    epochs=100,\n",
    "    loss='binary_crossentropy', \n",
    "    optimizer='adam', \n",
    "    metrics=['accuracy']\n",
    ")\n",
    "\n",
    "nn_pipeline = Pipeline([\n",
    "    ('preprocess', ct_pipeline),\n",
    "    ('nn', clf)\n",
    "]).fit(X_train, y_train)"
   ]
  },
  {
   "cell_type": "code",
   "execution_count": 527,
   "id": "d240b46e",
   "metadata": {
    "ExecuteTime": {
     "end_time": "2022-06-07T00:55:26.840204Z",
     "start_time": "2022-06-07T00:55:26.496079Z"
    },
    "scrolled": true
   },
   "outputs": [
    {
     "name": "stdout",
     "output_type": "stream",
     "text": [
      "23/23 [==============================] - 0s 2ms/step\n",
      "6/6 [==============================] - 0s 2ms/step\n"
     ]
    }
   ],
   "source": [
    "y_pred_train = nn_pipeline.predict(X_train)\n",
    "y_pred_test = nn_pipeline.predict(X_test)"
   ]
  },
  {
   "cell_type": "code",
   "execution_count": 528,
   "id": "36956270",
   "metadata": {
    "ExecuteTime": {
     "end_time": "2022-06-07T00:55:27.120408Z",
     "start_time": "2022-06-07T00:55:26.848056Z"
    }
   },
   "outputs": [
    {
     "name": "stdout",
     "output_type": "stream",
     "text": [
      "23/23 [==============================] - 0s 2ms/step\n",
      "6/6 [==============================] - 0s 2ms/step\n"
     ]
    }
   ],
   "source": [
    "y_proba_train = nn_pipeline.predict_proba(X_train)\n",
    "y_proba_test = nn_pipeline.predict_proba(X_test)"
   ]
  },
  {
   "cell_type": "code",
   "execution_count": 529,
   "id": "2c80cf62",
   "metadata": {
    "ExecuteTime": {
     "end_time": "2022-06-07T00:55:27.363518Z",
     "start_time": "2022-06-07T00:55:27.127667Z"
    }
   },
   "outputs": [
    {
     "data": {
      "text/html": [
       "<div>\n",
       "<style scoped>\n",
       "    .dataframe tbody tr th:only-of-type {\n",
       "        vertical-align: middle;\n",
       "    }\n",
       "\n",
       "    .dataframe tbody tr th {\n",
       "        vertical-align: top;\n",
       "    }\n",
       "\n",
       "    .dataframe thead tr th {\n",
       "        text-align: left;\n",
       "    }\n",
       "</style>\n",
       "<table border=\"1\" class=\"dataframe\">\n",
       "  <thead>\n",
       "    <tr>\n",
       "      <th></th>\n",
       "      <th colspan=\"4\" halign=\"left\">Train dataset</th>\n",
       "      <th colspan=\"4\" halign=\"left\">Test dataset</th>\n",
       "    </tr>\n",
       "    <tr>\n",
       "      <th></th>\n",
       "      <th>precision</th>\n",
       "      <th>recall</th>\n",
       "      <th>f1-score</th>\n",
       "      <th>support</th>\n",
       "      <th>precision</th>\n",
       "      <th>recall</th>\n",
       "      <th>f1-score</th>\n",
       "      <th>support</th>\n",
       "    </tr>\n",
       "  </thead>\n",
       "  <tbody>\n",
       "    <tr>\n",
       "      <th>0</th>\n",
       "      <td>0.869</td>\n",
       "      <td>0.936</td>\n",
       "      <td>0.901</td>\n",
       "      <td>439.000</td>\n",
       "      <td>0.811</td>\n",
       "      <td>0.900</td>\n",
       "      <td>0.853</td>\n",
       "      <td>110.00</td>\n",
       "    </tr>\n",
       "    <tr>\n",
       "      <th>1</th>\n",
       "      <td>0.883</td>\n",
       "      <td>0.773</td>\n",
       "      <td>0.824</td>\n",
       "      <td>273.000</td>\n",
       "      <td>0.807</td>\n",
       "      <td>0.667</td>\n",
       "      <td>0.730</td>\n",
       "      <td>69.00</td>\n",
       "    </tr>\n",
       "    <tr>\n",
       "      <th>accuracy</th>\n",
       "      <td>0.874</td>\n",
       "      <td>0.874</td>\n",
       "      <td>0.874</td>\n",
       "      <td>0.874</td>\n",
       "      <td>0.810</td>\n",
       "      <td>0.810</td>\n",
       "      <td>0.810</td>\n",
       "      <td>0.81</td>\n",
       "    </tr>\n",
       "    <tr>\n",
       "      <th>macro avg</th>\n",
       "      <td>0.876</td>\n",
       "      <td>0.855</td>\n",
       "      <td>0.863</td>\n",
       "      <td>712.000</td>\n",
       "      <td>0.809</td>\n",
       "      <td>0.783</td>\n",
       "      <td>0.792</td>\n",
       "      <td>179.00</td>\n",
       "    </tr>\n",
       "    <tr>\n",
       "      <th>weighted avg</th>\n",
       "      <td>0.874</td>\n",
       "      <td>0.874</td>\n",
       "      <td>0.872</td>\n",
       "      <td>712.000</td>\n",
       "      <td>0.810</td>\n",
       "      <td>0.810</td>\n",
       "      <td>0.806</td>\n",
       "      <td>179.00</td>\n",
       "    </tr>\n",
       "  </tbody>\n",
       "</table>\n",
       "</div>"
      ],
      "text/plain": [
       "             Train dataset                          Test dataset         \\\n",
       "                 precision recall f1-score  support    precision recall   \n",
       "0                    0.869  0.936    0.901  439.000        0.811  0.900   \n",
       "1                    0.883  0.773    0.824  273.000        0.807  0.667   \n",
       "accuracy             0.874  0.874    0.874    0.874        0.810  0.810   \n",
       "macro avg            0.876  0.855    0.863  712.000        0.809  0.783   \n",
       "weighted avg         0.874  0.874    0.872  712.000        0.810  0.810   \n",
       "\n",
       "                               \n",
       "             f1-score support  \n",
       "0               0.853  110.00  \n",
       "1               0.730   69.00  \n",
       "accuracy        0.810    0.81  \n",
       "macro avg       0.792  179.00  \n",
       "weighted avg    0.806  179.00  "
      ]
     },
     "metadata": {},
     "output_type": "display_data"
    },
    {
     "data": {
      "application/vnd.plotly.v1+json": {
       "config": {
        "plotlyServerURL": "https://plot.ly"
       },
       "data": [
        {
         "colorbar": {
          "x": 0.4
         },
         "colorscale": [
          [
           0,
           "#FFF2CF"
          ],
          [
           0.14285714285714285,
           "#FCE39E"
          ],
          [
           0.2857142857142857,
           "#FDD870"
          ],
          [
           0.42857142857142855,
           "#FCCB41"
          ],
          [
           0.5714285714285714,
           "#FDBF11"
          ],
          [
           0.7142857142857143,
           "#E88E2D"
          ],
          [
           0.8571428571428571,
           "#CA5800"
          ],
          [
           1,
           "#843215"
          ]
         ],
         "hovertemplate": "Predicted Label: %{x}<br>True Label: %{y}<br>#: %{z}<extra></extra>",
         "text": [
          [
           411,
           28
          ],
          [
           62,
           211
          ]
         ],
         "textfont": {
          "size": 14
         },
         "texttemplate": "%{text}",
         "type": "heatmap",
         "x": [
          "dead",
          "survived"
         ],
         "xaxis": "x",
         "y": [
          "dead",
          "survived"
         ],
         "yaxis": "y",
         "z": [
          [
           411,
           28
          ],
          [
           62,
           211
          ]
         ]
        },
        {
         "colorbar": {
          "x": 1
         },
         "colorscale": [
          [
           0,
           "#CFE8F3"
          ],
          [
           0.14285714285714285,
           "#A2D4EC"
          ],
          [
           0.2857142857142857,
           "#73BFE2"
          ],
          [
           0.42857142857142855,
           "#46ABDB"
          ],
          [
           0.5714285714285714,
           "#1696D2"
          ],
          [
           0.7142857142857143,
           "#12719E"
          ],
          [
           0.8571428571428571,
           "#0A4C6A"
          ],
          [
           1,
           "#062635"
          ]
         ],
         "hovertemplate": "Predicted Label: %{x}<br>True Label: %{y}<br>#: %{z}<extra></extra>",
         "text": [
          [
           99,
           11
          ],
          [
           23,
           46
          ]
         ],
         "textfont": {
          "size": 14
         },
         "texttemplate": "%{text}",
         "type": "heatmap",
         "x": [
          "dead",
          "survived"
         ],
         "xaxis": "x2",
         "y": [
          "dead",
          "survived"
         ],
         "yaxis": "y2",
         "z": [
          [
           99,
           11
          ],
          [
           23,
           46
          ]
         ]
        }
       ],
       "layout": {
        "annotations": [
         {
          "font": {
           "size": 16
          },
          "showarrow": false,
          "text": "Train Dataset",
          "x": 0.2,
          "xanchor": "center",
          "xref": "paper",
          "y": 1,
          "yanchor": "bottom",
          "yref": "paper"
         },
         {
          "font": {
           "size": 16
          },
          "showarrow": false,
          "text": "Test Dataset",
          "x": 0.8,
          "xanchor": "center",
          "xref": "paper",
          "y": 1,
          "yanchor": "bottom",
          "yref": "paper"
         }
        ],
        "height": 500,
        "template": {
         "data": {
          "bar": [
           {
            "error_x": {
             "color": "#2a3f5f"
            },
            "error_y": {
             "color": "#2a3f5f"
            },
            "marker": {
             "line": {
              "color": "#E5ECF6",
              "width": 0.5
             },
             "pattern": {
              "fillmode": "overlay",
              "size": 10,
              "solidity": 0.2
             }
            },
            "type": "bar"
           }
          ],
          "barpolar": [
           {
            "marker": {
             "line": {
              "color": "#E5ECF6",
              "width": 0.5
             },
             "pattern": {
              "fillmode": "overlay",
              "size": 10,
              "solidity": 0.2
             }
            },
            "type": "barpolar"
           }
          ],
          "carpet": [
           {
            "aaxis": {
             "endlinecolor": "#2a3f5f",
             "gridcolor": "white",
             "linecolor": "white",
             "minorgridcolor": "white",
             "startlinecolor": "#2a3f5f"
            },
            "baxis": {
             "endlinecolor": "#2a3f5f",
             "gridcolor": "white",
             "linecolor": "white",
             "minorgridcolor": "white",
             "startlinecolor": "#2a3f5f"
            },
            "type": "carpet"
           }
          ],
          "choropleth": [
           {
            "colorbar": {
             "outlinewidth": 0,
             "ticks": ""
            },
            "type": "choropleth"
           }
          ],
          "contour": [
           {
            "colorbar": {
             "outlinewidth": 0,
             "ticks": ""
            },
            "colorscale": [
             [
              0,
              "#0d0887"
             ],
             [
              0.1111111111111111,
              "#46039f"
             ],
             [
              0.2222222222222222,
              "#7201a8"
             ],
             [
              0.3333333333333333,
              "#9c179e"
             ],
             [
              0.4444444444444444,
              "#bd3786"
             ],
             [
              0.5555555555555556,
              "#d8576b"
             ],
             [
              0.6666666666666666,
              "#ed7953"
             ],
             [
              0.7777777777777778,
              "#fb9f3a"
             ],
             [
              0.8888888888888888,
              "#fdca26"
             ],
             [
              1,
              "#f0f921"
             ]
            ],
            "type": "contour"
           }
          ],
          "contourcarpet": [
           {
            "colorbar": {
             "outlinewidth": 0,
             "ticks": ""
            },
            "type": "contourcarpet"
           }
          ],
          "heatmap": [
           {
            "colorbar": {
             "outlinewidth": 0,
             "ticks": ""
            },
            "colorscale": [
             [
              0,
              "#0d0887"
             ],
             [
              0.1111111111111111,
              "#46039f"
             ],
             [
              0.2222222222222222,
              "#7201a8"
             ],
             [
              0.3333333333333333,
              "#9c179e"
             ],
             [
              0.4444444444444444,
              "#bd3786"
             ],
             [
              0.5555555555555556,
              "#d8576b"
             ],
             [
              0.6666666666666666,
              "#ed7953"
             ],
             [
              0.7777777777777778,
              "#fb9f3a"
             ],
             [
              0.8888888888888888,
              "#fdca26"
             ],
             [
              1,
              "#f0f921"
             ]
            ],
            "type": "heatmap"
           }
          ],
          "heatmapgl": [
           {
            "colorbar": {
             "outlinewidth": 0,
             "ticks": ""
            },
            "colorscale": [
             [
              0,
              "#0d0887"
             ],
             [
              0.1111111111111111,
              "#46039f"
             ],
             [
              0.2222222222222222,
              "#7201a8"
             ],
             [
              0.3333333333333333,
              "#9c179e"
             ],
             [
              0.4444444444444444,
              "#bd3786"
             ],
             [
              0.5555555555555556,
              "#d8576b"
             ],
             [
              0.6666666666666666,
              "#ed7953"
             ],
             [
              0.7777777777777778,
              "#fb9f3a"
             ],
             [
              0.8888888888888888,
              "#fdca26"
             ],
             [
              1,
              "#f0f921"
             ]
            ],
            "type": "heatmapgl"
           }
          ],
          "histogram": [
           {
            "marker": {
             "pattern": {
              "fillmode": "overlay",
              "size": 10,
              "solidity": 0.2
             }
            },
            "type": "histogram"
           }
          ],
          "histogram2d": [
           {
            "colorbar": {
             "outlinewidth": 0,
             "ticks": ""
            },
            "colorscale": [
             [
              0,
              "#0d0887"
             ],
             [
              0.1111111111111111,
              "#46039f"
             ],
             [
              0.2222222222222222,
              "#7201a8"
             ],
             [
              0.3333333333333333,
              "#9c179e"
             ],
             [
              0.4444444444444444,
              "#bd3786"
             ],
             [
              0.5555555555555556,
              "#d8576b"
             ],
             [
              0.6666666666666666,
              "#ed7953"
             ],
             [
              0.7777777777777778,
              "#fb9f3a"
             ],
             [
              0.8888888888888888,
              "#fdca26"
             ],
             [
              1,
              "#f0f921"
             ]
            ],
            "type": "histogram2d"
           }
          ],
          "histogram2dcontour": [
           {
            "colorbar": {
             "outlinewidth": 0,
             "ticks": ""
            },
            "colorscale": [
             [
              0,
              "#0d0887"
             ],
             [
              0.1111111111111111,
              "#46039f"
             ],
             [
              0.2222222222222222,
              "#7201a8"
             ],
             [
              0.3333333333333333,
              "#9c179e"
             ],
             [
              0.4444444444444444,
              "#bd3786"
             ],
             [
              0.5555555555555556,
              "#d8576b"
             ],
             [
              0.6666666666666666,
              "#ed7953"
             ],
             [
              0.7777777777777778,
              "#fb9f3a"
             ],
             [
              0.8888888888888888,
              "#fdca26"
             ],
             [
              1,
              "#f0f921"
             ]
            ],
            "type": "histogram2dcontour"
           }
          ],
          "mesh3d": [
           {
            "colorbar": {
             "outlinewidth": 0,
             "ticks": ""
            },
            "type": "mesh3d"
           }
          ],
          "parcoords": [
           {
            "line": {
             "colorbar": {
              "outlinewidth": 0,
              "ticks": ""
             }
            },
            "type": "parcoords"
           }
          ],
          "pie": [
           {
            "automargin": true,
            "type": "pie"
           }
          ],
          "scatter": [
           {
            "marker": {
             "colorbar": {
              "outlinewidth": 0,
              "ticks": ""
             }
            },
            "type": "scatter"
           }
          ],
          "scatter3d": [
           {
            "line": {
             "colorbar": {
              "outlinewidth": 0,
              "ticks": ""
             }
            },
            "marker": {
             "colorbar": {
              "outlinewidth": 0,
              "ticks": ""
             }
            },
            "type": "scatter3d"
           }
          ],
          "scattercarpet": [
           {
            "marker": {
             "colorbar": {
              "outlinewidth": 0,
              "ticks": ""
             }
            },
            "type": "scattercarpet"
           }
          ],
          "scattergeo": [
           {
            "marker": {
             "colorbar": {
              "outlinewidth": 0,
              "ticks": ""
             }
            },
            "type": "scattergeo"
           }
          ],
          "scattergl": [
           {
            "marker": {
             "colorbar": {
              "outlinewidth": 0,
              "ticks": ""
             }
            },
            "type": "scattergl"
           }
          ],
          "scattermapbox": [
           {
            "marker": {
             "colorbar": {
              "outlinewidth": 0,
              "ticks": ""
             }
            },
            "type": "scattermapbox"
           }
          ],
          "scatterpolar": [
           {
            "marker": {
             "colorbar": {
              "outlinewidth": 0,
              "ticks": ""
             }
            },
            "type": "scatterpolar"
           }
          ],
          "scatterpolargl": [
           {
            "marker": {
             "colorbar": {
              "outlinewidth": 0,
              "ticks": ""
             }
            },
            "type": "scatterpolargl"
           }
          ],
          "scatterternary": [
           {
            "marker": {
             "colorbar": {
              "outlinewidth": 0,
              "ticks": ""
             }
            },
            "type": "scatterternary"
           }
          ],
          "surface": [
           {
            "colorbar": {
             "outlinewidth": 0,
             "ticks": ""
            },
            "colorscale": [
             [
              0,
              "#0d0887"
             ],
             [
              0.1111111111111111,
              "#46039f"
             ],
             [
              0.2222222222222222,
              "#7201a8"
             ],
             [
              0.3333333333333333,
              "#9c179e"
             ],
             [
              0.4444444444444444,
              "#bd3786"
             ],
             [
              0.5555555555555556,
              "#d8576b"
             ],
             [
              0.6666666666666666,
              "#ed7953"
             ],
             [
              0.7777777777777778,
              "#fb9f3a"
             ],
             [
              0.8888888888888888,
              "#fdca26"
             ],
             [
              1,
              "#f0f921"
             ]
            ],
            "type": "surface"
           }
          ],
          "table": [
           {
            "cells": {
             "fill": {
              "color": "#EBF0F8"
             },
             "line": {
              "color": "white"
             }
            },
            "header": {
             "fill": {
              "color": "#C8D4E3"
             },
             "line": {
              "color": "white"
             }
            },
            "type": "table"
           }
          ]
         },
         "layout": {
          "annotationdefaults": {
           "arrowcolor": "#2a3f5f",
           "arrowhead": 0,
           "arrowwidth": 1
          },
          "autotypenumbers": "strict",
          "coloraxis": {
           "colorbar": {
            "outlinewidth": 0,
            "ticks": ""
           }
          },
          "colorscale": {
           "diverging": [
            [
             0,
             "#8e0152"
            ],
            [
             0.1,
             "#c51b7d"
            ],
            [
             0.2,
             "#de77ae"
            ],
            [
             0.3,
             "#f1b6da"
            ],
            [
             0.4,
             "#fde0ef"
            ],
            [
             0.5,
             "#f7f7f7"
            ],
            [
             0.6,
             "#e6f5d0"
            ],
            [
             0.7,
             "#b8e186"
            ],
            [
             0.8,
             "#7fbc41"
            ],
            [
             0.9,
             "#4d9221"
            ],
            [
             1,
             "#276419"
            ]
           ],
           "sequential": [
            [
             0,
             "#0d0887"
            ],
            [
             0.1111111111111111,
             "#46039f"
            ],
            [
             0.2222222222222222,
             "#7201a8"
            ],
            [
             0.3333333333333333,
             "#9c179e"
            ],
            [
             0.4444444444444444,
             "#bd3786"
            ],
            [
             0.5555555555555556,
             "#d8576b"
            ],
            [
             0.6666666666666666,
             "#ed7953"
            ],
            [
             0.7777777777777778,
             "#fb9f3a"
            ],
            [
             0.8888888888888888,
             "#fdca26"
            ],
            [
             1,
             "#f0f921"
            ]
           ],
           "sequentialminus": [
            [
             0,
             "#0d0887"
            ],
            [
             0.1111111111111111,
             "#46039f"
            ],
            [
             0.2222222222222222,
             "#7201a8"
            ],
            [
             0.3333333333333333,
             "#9c179e"
            ],
            [
             0.4444444444444444,
             "#bd3786"
            ],
            [
             0.5555555555555556,
             "#d8576b"
            ],
            [
             0.6666666666666666,
             "#ed7953"
            ],
            [
             0.7777777777777778,
             "#fb9f3a"
            ],
            [
             0.8888888888888888,
             "#fdca26"
            ],
            [
             1,
             "#f0f921"
            ]
           ]
          },
          "colorway": [
           "#636efa",
           "#EF553B",
           "#00cc96",
           "#ab63fa",
           "#FFA15A",
           "#19d3f3",
           "#FF6692",
           "#B6E880",
           "#FF97FF",
           "#FECB52"
          ],
          "font": {
           "color": "#2a3f5f"
          },
          "geo": {
           "bgcolor": "white",
           "lakecolor": "white",
           "landcolor": "#E5ECF6",
           "showlakes": true,
           "showland": true,
           "subunitcolor": "white"
          },
          "hoverlabel": {
           "align": "left"
          },
          "hovermode": "closest",
          "mapbox": {
           "style": "light"
          },
          "paper_bgcolor": "white",
          "plot_bgcolor": "#E5ECF6",
          "polar": {
           "angularaxis": {
            "gridcolor": "white",
            "linecolor": "white",
            "ticks": ""
           },
           "bgcolor": "#E5ECF6",
           "radialaxis": {
            "gridcolor": "white",
            "linecolor": "white",
            "ticks": ""
           }
          },
          "scene": {
           "xaxis": {
            "backgroundcolor": "#E5ECF6",
            "gridcolor": "white",
            "gridwidth": 2,
            "linecolor": "white",
            "showbackground": true,
            "ticks": "",
            "zerolinecolor": "white"
           },
           "yaxis": {
            "backgroundcolor": "#E5ECF6",
            "gridcolor": "white",
            "gridwidth": 2,
            "linecolor": "white",
            "showbackground": true,
            "ticks": "",
            "zerolinecolor": "white"
           },
           "zaxis": {
            "backgroundcolor": "#E5ECF6",
            "gridcolor": "white",
            "gridwidth": 2,
            "linecolor": "white",
            "showbackground": true,
            "ticks": "",
            "zerolinecolor": "white"
           }
          },
          "shapedefaults": {
           "line": {
            "color": "#2a3f5f"
           }
          },
          "ternary": {
           "aaxis": {
            "gridcolor": "white",
            "linecolor": "white",
            "ticks": ""
           },
           "baxis": {
            "gridcolor": "white",
            "linecolor": "white",
            "ticks": ""
           },
           "bgcolor": "#E5ECF6",
           "caxis": {
            "gridcolor": "white",
            "linecolor": "white",
            "ticks": ""
           }
          },
          "title": {
           "x": 0.05
          },
          "xaxis": {
           "automargin": true,
           "gridcolor": "white",
           "linecolor": "white",
           "ticks": "",
           "title": {
            "standoff": 15
           },
           "zerolinecolor": "white",
           "zerolinewidth": 2
          },
          "yaxis": {
           "automargin": true,
           "gridcolor": "white",
           "linecolor": "white",
           "ticks": "",
           "title": {
            "standoff": 15
           },
           "zerolinecolor": "white",
           "zerolinewidth": 2
          }
         }
        },
        "title": {
         "text": "Confusion Matrix"
        },
        "width": 900,
        "xaxis": {
         "anchor": "y",
         "domain": [
          0,
          0.4
         ]
        },
        "xaxis2": {
         "anchor": "y2",
         "domain": [
          0.6000000000000001,
          1
         ]
        },
        "yaxis": {
         "anchor": "x",
         "domain": [
          0,
          1
         ]
        },
        "yaxis2": {
         "anchor": "x2",
         "domain": [
          0,
          1
         ]
        }
       }
      },
      "text/html": [
       "<div>                            <div id=\"36a93ac5-6e75-4b4b-b7a2-14bb0338f309\" class=\"plotly-graph-div\" style=\"height:500px; width:900px;\"></div>            <script type=\"text/javascript\">                require([\"plotly\"], function(Plotly) {                    window.PLOTLYENV=window.PLOTLYENV || {};                                    if (document.getElementById(\"36a93ac5-6e75-4b4b-b7a2-14bb0338f309\")) {                    Plotly.newPlot(                        \"36a93ac5-6e75-4b4b-b7a2-14bb0338f309\",                        [{\"colorbar\":{\"x\":0.4},\"colorscale\":[[0.0,\"#FFF2CF\"],[0.14285714285714285,\"#FCE39E\"],[0.2857142857142857,\"#FDD870\"],[0.42857142857142855,\"#FCCB41\"],[0.5714285714285714,\"#FDBF11\"],[0.7142857142857143,\"#E88E2D\"],[0.8571428571428571,\"#CA5800\"],[1.0,\"#843215\"]],\"hovertemplate\":\"Predicted Label: %{x}<br>True Label: %{y}<br>#: %{z}<extra></extra>\",\"text\":[[411,28],[62,211]],\"textfont\":{\"size\":14},\"texttemplate\":\"%{text}\",\"x\":[\"dead\",\"survived\"],\"y\":[\"dead\",\"survived\"],\"z\":[[411,28],[62,211]],\"type\":\"heatmap\",\"xaxis\":\"x\",\"yaxis\":\"y\"},{\"colorbar\":{\"x\":1},\"colorscale\":[[0.0,\"#CFE8F3\"],[0.14285714285714285,\"#A2D4EC\"],[0.2857142857142857,\"#73BFE2\"],[0.42857142857142855,\"#46ABDB\"],[0.5714285714285714,\"#1696D2\"],[0.7142857142857143,\"#12719E\"],[0.8571428571428571,\"#0A4C6A\"],[1.0,\"#062635\"]],\"hovertemplate\":\"Predicted Label: %{x}<br>True Label: %{y}<br>#: %{z}<extra></extra>\",\"text\":[[99,11],[23,46]],\"textfont\":{\"size\":14},\"texttemplate\":\"%{text}\",\"x\":[\"dead\",\"survived\"],\"y\":[\"dead\",\"survived\"],\"z\":[[99,11],[23,46]],\"type\":\"heatmap\",\"xaxis\":\"x2\",\"yaxis\":\"y2\"}],                        {\"template\":{\"data\":{\"bar\":[{\"error_x\":{\"color\":\"#2a3f5f\"},\"error_y\":{\"color\":\"#2a3f5f\"},\"marker\":{\"line\":{\"color\":\"#E5ECF6\",\"width\":0.5},\"pattern\":{\"fillmode\":\"overlay\",\"size\":10,\"solidity\":0.2}},\"type\":\"bar\"}],\"barpolar\":[{\"marker\":{\"line\":{\"color\":\"#E5ECF6\",\"width\":0.5},\"pattern\":{\"fillmode\":\"overlay\",\"size\":10,\"solidity\":0.2}},\"type\":\"barpolar\"}],\"carpet\":[{\"aaxis\":{\"endlinecolor\":\"#2a3f5f\",\"gridcolor\":\"white\",\"linecolor\":\"white\",\"minorgridcolor\":\"white\",\"startlinecolor\":\"#2a3f5f\"},\"baxis\":{\"endlinecolor\":\"#2a3f5f\",\"gridcolor\":\"white\",\"linecolor\":\"white\",\"minorgridcolor\":\"white\",\"startlinecolor\":\"#2a3f5f\"},\"type\":\"carpet\"}],\"choropleth\":[{\"colorbar\":{\"outlinewidth\":0,\"ticks\":\"\"},\"type\":\"choropleth\"}],\"contour\":[{\"colorbar\":{\"outlinewidth\":0,\"ticks\":\"\"},\"colorscale\":[[0.0,\"#0d0887\"],[0.1111111111111111,\"#46039f\"],[0.2222222222222222,\"#7201a8\"],[0.3333333333333333,\"#9c179e\"],[0.4444444444444444,\"#bd3786\"],[0.5555555555555556,\"#d8576b\"],[0.6666666666666666,\"#ed7953\"],[0.7777777777777778,\"#fb9f3a\"],[0.8888888888888888,\"#fdca26\"],[1.0,\"#f0f921\"]],\"type\":\"contour\"}],\"contourcarpet\":[{\"colorbar\":{\"outlinewidth\":0,\"ticks\":\"\"},\"type\":\"contourcarpet\"}],\"heatmap\":[{\"colorbar\":{\"outlinewidth\":0,\"ticks\":\"\"},\"colorscale\":[[0.0,\"#0d0887\"],[0.1111111111111111,\"#46039f\"],[0.2222222222222222,\"#7201a8\"],[0.3333333333333333,\"#9c179e\"],[0.4444444444444444,\"#bd3786\"],[0.5555555555555556,\"#d8576b\"],[0.6666666666666666,\"#ed7953\"],[0.7777777777777778,\"#fb9f3a\"],[0.8888888888888888,\"#fdca26\"],[1.0,\"#f0f921\"]],\"type\":\"heatmap\"}],\"heatmapgl\":[{\"colorbar\":{\"outlinewidth\":0,\"ticks\":\"\"},\"colorscale\":[[0.0,\"#0d0887\"],[0.1111111111111111,\"#46039f\"],[0.2222222222222222,\"#7201a8\"],[0.3333333333333333,\"#9c179e\"],[0.4444444444444444,\"#bd3786\"],[0.5555555555555556,\"#d8576b\"],[0.6666666666666666,\"#ed7953\"],[0.7777777777777778,\"#fb9f3a\"],[0.8888888888888888,\"#fdca26\"],[1.0,\"#f0f921\"]],\"type\":\"heatmapgl\"}],\"histogram\":[{\"marker\":{\"pattern\":{\"fillmode\":\"overlay\",\"size\":10,\"solidity\":0.2}},\"type\":\"histogram\"}],\"histogram2d\":[{\"colorbar\":{\"outlinewidth\":0,\"ticks\":\"\"},\"colorscale\":[[0.0,\"#0d0887\"],[0.1111111111111111,\"#46039f\"],[0.2222222222222222,\"#7201a8\"],[0.3333333333333333,\"#9c179e\"],[0.4444444444444444,\"#bd3786\"],[0.5555555555555556,\"#d8576b\"],[0.6666666666666666,\"#ed7953\"],[0.7777777777777778,\"#fb9f3a\"],[0.8888888888888888,\"#fdca26\"],[1.0,\"#f0f921\"]],\"type\":\"histogram2d\"}],\"histogram2dcontour\":[{\"colorbar\":{\"outlinewidth\":0,\"ticks\":\"\"},\"colorscale\":[[0.0,\"#0d0887\"],[0.1111111111111111,\"#46039f\"],[0.2222222222222222,\"#7201a8\"],[0.3333333333333333,\"#9c179e\"],[0.4444444444444444,\"#bd3786\"],[0.5555555555555556,\"#d8576b\"],[0.6666666666666666,\"#ed7953\"],[0.7777777777777778,\"#fb9f3a\"],[0.8888888888888888,\"#fdca26\"],[1.0,\"#f0f921\"]],\"type\":\"histogram2dcontour\"}],\"mesh3d\":[{\"colorbar\":{\"outlinewidth\":0,\"ticks\":\"\"},\"type\":\"mesh3d\"}],\"parcoords\":[{\"line\":{\"colorbar\":{\"outlinewidth\":0,\"ticks\":\"\"}},\"type\":\"parcoords\"}],\"pie\":[{\"automargin\":true,\"type\":\"pie\"}],\"scatter\":[{\"marker\":{\"colorbar\":{\"outlinewidth\":0,\"ticks\":\"\"}},\"type\":\"scatter\"}],\"scatter3d\":[{\"line\":{\"colorbar\":{\"outlinewidth\":0,\"ticks\":\"\"}},\"marker\":{\"colorbar\":{\"outlinewidth\":0,\"ticks\":\"\"}},\"type\":\"scatter3d\"}],\"scattercarpet\":[{\"marker\":{\"colorbar\":{\"outlinewidth\":0,\"ticks\":\"\"}},\"type\":\"scattercarpet\"}],\"scattergeo\":[{\"marker\":{\"colorbar\":{\"outlinewidth\":0,\"ticks\":\"\"}},\"type\":\"scattergeo\"}],\"scattergl\":[{\"marker\":{\"colorbar\":{\"outlinewidth\":0,\"ticks\":\"\"}},\"type\":\"scattergl\"}],\"scattermapbox\":[{\"marker\":{\"colorbar\":{\"outlinewidth\":0,\"ticks\":\"\"}},\"type\":\"scattermapbox\"}],\"scatterpolar\":[{\"marker\":{\"colorbar\":{\"outlinewidth\":0,\"ticks\":\"\"}},\"type\":\"scatterpolar\"}],\"scatterpolargl\":[{\"marker\":{\"colorbar\":{\"outlinewidth\":0,\"ticks\":\"\"}},\"type\":\"scatterpolargl\"}],\"scatterternary\":[{\"marker\":{\"colorbar\":{\"outlinewidth\":0,\"ticks\":\"\"}},\"type\":\"scatterternary\"}],\"surface\":[{\"colorbar\":{\"outlinewidth\":0,\"ticks\":\"\"},\"colorscale\":[[0.0,\"#0d0887\"],[0.1111111111111111,\"#46039f\"],[0.2222222222222222,\"#7201a8\"],[0.3333333333333333,\"#9c179e\"],[0.4444444444444444,\"#bd3786\"],[0.5555555555555556,\"#d8576b\"],[0.6666666666666666,\"#ed7953\"],[0.7777777777777778,\"#fb9f3a\"],[0.8888888888888888,\"#fdca26\"],[1.0,\"#f0f921\"]],\"type\":\"surface\"}],\"table\":[{\"cells\":{\"fill\":{\"color\":\"#EBF0F8\"},\"line\":{\"color\":\"white\"}},\"header\":{\"fill\":{\"color\":\"#C8D4E3\"},\"line\":{\"color\":\"white\"}},\"type\":\"table\"}]},\"layout\":{\"annotationdefaults\":{\"arrowcolor\":\"#2a3f5f\",\"arrowhead\":0,\"arrowwidth\":1},\"autotypenumbers\":\"strict\",\"coloraxis\":{\"colorbar\":{\"outlinewidth\":0,\"ticks\":\"\"}},\"colorscale\":{\"diverging\":[[0,\"#8e0152\"],[0.1,\"#c51b7d\"],[0.2,\"#de77ae\"],[0.3,\"#f1b6da\"],[0.4,\"#fde0ef\"],[0.5,\"#f7f7f7\"],[0.6,\"#e6f5d0\"],[0.7,\"#b8e186\"],[0.8,\"#7fbc41\"],[0.9,\"#4d9221\"],[1,\"#276419\"]],\"sequential\":[[0.0,\"#0d0887\"],[0.1111111111111111,\"#46039f\"],[0.2222222222222222,\"#7201a8\"],[0.3333333333333333,\"#9c179e\"],[0.4444444444444444,\"#bd3786\"],[0.5555555555555556,\"#d8576b\"],[0.6666666666666666,\"#ed7953\"],[0.7777777777777778,\"#fb9f3a\"],[0.8888888888888888,\"#fdca26\"],[1.0,\"#f0f921\"]],\"sequentialminus\":[[0.0,\"#0d0887\"],[0.1111111111111111,\"#46039f\"],[0.2222222222222222,\"#7201a8\"],[0.3333333333333333,\"#9c179e\"],[0.4444444444444444,\"#bd3786\"],[0.5555555555555556,\"#d8576b\"],[0.6666666666666666,\"#ed7953\"],[0.7777777777777778,\"#fb9f3a\"],[0.8888888888888888,\"#fdca26\"],[1.0,\"#f0f921\"]]},\"colorway\":[\"#636efa\",\"#EF553B\",\"#00cc96\",\"#ab63fa\",\"#FFA15A\",\"#19d3f3\",\"#FF6692\",\"#B6E880\",\"#FF97FF\",\"#FECB52\"],\"font\":{\"color\":\"#2a3f5f\"},\"geo\":{\"bgcolor\":\"white\",\"lakecolor\":\"white\",\"landcolor\":\"#E5ECF6\",\"showlakes\":true,\"showland\":true,\"subunitcolor\":\"white\"},\"hoverlabel\":{\"align\":\"left\"},\"hovermode\":\"closest\",\"mapbox\":{\"style\":\"light\"},\"paper_bgcolor\":\"white\",\"plot_bgcolor\":\"#E5ECF6\",\"polar\":{\"angularaxis\":{\"gridcolor\":\"white\",\"linecolor\":\"white\",\"ticks\":\"\"},\"bgcolor\":\"#E5ECF6\",\"radialaxis\":{\"gridcolor\":\"white\",\"linecolor\":\"white\",\"ticks\":\"\"}},\"scene\":{\"xaxis\":{\"backgroundcolor\":\"#E5ECF6\",\"gridcolor\":\"white\",\"gridwidth\":2,\"linecolor\":\"white\",\"showbackground\":true,\"ticks\":\"\",\"zerolinecolor\":\"white\"},\"yaxis\":{\"backgroundcolor\":\"#E5ECF6\",\"gridcolor\":\"white\",\"gridwidth\":2,\"linecolor\":\"white\",\"showbackground\":true,\"ticks\":\"\",\"zerolinecolor\":\"white\"},\"zaxis\":{\"backgroundcolor\":\"#E5ECF6\",\"gridcolor\":\"white\",\"gridwidth\":2,\"linecolor\":\"white\",\"showbackground\":true,\"ticks\":\"\",\"zerolinecolor\":\"white\"}},\"shapedefaults\":{\"line\":{\"color\":\"#2a3f5f\"}},\"ternary\":{\"aaxis\":{\"gridcolor\":\"white\",\"linecolor\":\"white\",\"ticks\":\"\"},\"baxis\":{\"gridcolor\":\"white\",\"linecolor\":\"white\",\"ticks\":\"\"},\"bgcolor\":\"#E5ECF6\",\"caxis\":{\"gridcolor\":\"white\",\"linecolor\":\"white\",\"ticks\":\"\"}},\"title\":{\"x\":0.05},\"xaxis\":{\"automargin\":true,\"gridcolor\":\"white\",\"linecolor\":\"white\",\"ticks\":\"\",\"title\":{\"standoff\":15},\"zerolinecolor\":\"white\",\"zerolinewidth\":2},\"yaxis\":{\"automargin\":true,\"gridcolor\":\"white\",\"linecolor\":\"white\",\"ticks\":\"\",\"title\":{\"standoff\":15},\"zerolinecolor\":\"white\",\"zerolinewidth\":2}}},\"xaxis\":{\"anchor\":\"y\",\"domain\":[0.0,0.4]},\"yaxis\":{\"anchor\":\"x\",\"domain\":[0.0,1.0]},\"xaxis2\":{\"anchor\":\"y2\",\"domain\":[0.6000000000000001,1.0]},\"yaxis2\":{\"anchor\":\"x2\",\"domain\":[0.0,1.0]},\"annotations\":[{\"font\":{\"size\":16},\"showarrow\":false,\"text\":\"Train Dataset\",\"x\":0.2,\"xanchor\":\"center\",\"xref\":\"paper\",\"y\":1.0,\"yanchor\":\"bottom\",\"yref\":\"paper\"},{\"font\":{\"size\":16},\"showarrow\":false,\"text\":\"Test Dataset\",\"x\":0.8,\"xanchor\":\"center\",\"xref\":\"paper\",\"y\":1.0,\"yanchor\":\"bottom\",\"yref\":\"paper\"}],\"title\":{\"text\":\"Confusion Matrix\"},\"width\":900,\"height\":500},                        {\"responsive\": true}                    ).then(function(){\n",
       "                            \n",
       "var gd = document.getElementById('36a93ac5-6e75-4b4b-b7a2-14bb0338f309');\n",
       "var x = new MutationObserver(function (mutations, observer) {{\n",
       "        var display = window.getComputedStyle(gd).display;\n",
       "        if (!display || display === 'none') {{\n",
       "            console.log([gd, 'removed!']);\n",
       "            Plotly.purge(gd);\n",
       "            observer.disconnect();\n",
       "        }}\n",
       "}});\n",
       "\n",
       "// Listen for the removal of the full notebook cells\n",
       "var notebookContainer = gd.closest('#notebook-container');\n",
       "if (notebookContainer) {{\n",
       "    x.observe(notebookContainer, {childList: true});\n",
       "}}\n",
       "\n",
       "// Listen for the clearing of the current output cell\n",
       "var outputEl = gd.closest('.output');\n",
       "if (outputEl) {{\n",
       "    x.observe(outputEl, {childList: true});\n",
       "}}\n",
       "\n",
       "                        })                };                });            </script>        </div>"
      ]
     },
     "metadata": {},
     "output_type": "display_data"
    },
    {
     "data": {
      "application/vnd.plotly.v1+json": {
       "config": {
        "plotlyServerURL": "https://plot.ly"
       },
       "data": [
        {
         "fill": "tozeroy",
         "line": {
          "color": "#fdbf11",
          "width": 2
         },
         "name": "Train dataset AUC=0.928",
         "stackgroup": "one",
         "type": "scatter",
         "x": [
          0,
          0,
          0,
          0,
          0,
          0.002277904328018223,
          0.002277904328018223,
          0.004555808656036446,
          0.004555808656036446,
          0.00683371298405467,
          0.00683371298405467,
          0.009111617312072893,
          0.009111617312072893,
          0.01366742596810934,
          0.01366742596810934,
          0.01366742596810934,
          0.015945330296127564,
          0.015945330296127564,
          0.018223234624145785,
          0.018223234624145785,
          0.02050113895216401,
          0.02050113895216401,
          0.022779043280182234,
          0.022779043280182234,
          0.025056947608200455,
          0.025056947608200455,
          0.02733485193621868,
          0.02733485193621868,
          0.029612756264236904,
          0.029612756264236904,
          0.03189066059225513,
          0.03189066059225513,
          0.03644646924829157,
          0.03644646924829157,
          0.0387243735763098,
          0.0387243735763098,
          0.04328018223234624,
          0.04328018223234624,
          0.04555808656036447,
          0.04555808656036447,
          0.05011389521640091,
          0.05011389521640091,
          0.05922551252847381,
          0.05922551252847381,
          0.06378132118451026,
          0.06378132118451026,
          0.06378132118451026,
          0.06378132118451026,
          0.06605922551252848,
          0.06605922551252848,
          0.06605922551252848,
          0.0683371298405467,
          0.0683371298405467,
          0.07289293849658314,
          0.07289293849658314,
          0.07517084282460136,
          0.07517084282460136,
          0.0774487471526196,
          0.0774487471526196,
          0.08656036446469248,
          0.08656036446469248,
          0.09111617312072894,
          0.09111617312072894,
          0.10022779043280182,
          0.10022779043280182,
          0.1070615034168565,
          0.1070615034168565,
          0.10933940774487472,
          0.10933940774487472,
          0.11161731207289294,
          0.11161731207289294,
          0.11845102505694761,
          0.12072892938496584,
          0.1252847380410023,
          0.1252847380410023,
          0.1275626423690205,
          0.1275626423690205,
          0.1366742596810934,
          0.1366742596810934,
          0.13895216400911162,
          0.14350797266514806,
          0.14350797266514806,
          0.14578587699316628,
          0.14578587699316628,
          0.15034168564920272,
          0.15034168564920272,
          0.15261958997722094,
          0.15261958997722094,
          0.1548974943052392,
          0.15945330296127563,
          0.16400911161731208,
          0.16400911161731208,
          0.17312072892938496,
          0.17312072892938496,
          0.19362186788154898,
          0.19362186788154898,
          0.21184510250569477,
          0.21184510250569477,
          0.21867881548974943,
          0.22095671981776766,
          0.23462414578587698,
          0.24145785876993167,
          0.27790432801822323,
          0.27790432801822323,
          0.2824601366742597,
          0.2870159453302961,
          0.28929384965831434,
          0.30068337129840544,
          0.30751708428246016,
          0.3143507972665148,
          0.3143507972665148,
          0.31662870159453305,
          0.3211845102505695,
          0.33029612756264237,
          0.3325740318906606,
          0.33712984054669703,
          0.33712984054669703,
          0.33940774487471526,
          0.3439635535307517,
          0.35079726651480636,
          0.3530751708428246,
          0.35990888382687924,
          0.35990888382687924,
          0.3621867881548975,
          0.3621867881548975,
          0.3804100227790433,
          0.3826879271070615,
          0.38724373576309795,
          0.3917995444191344,
          0.39863325740318906,
          0.40774487471526194,
          0.4123006833712984,
          0.428246013667426,
          0.428246013667426,
          0.4328018223234624,
          0.43735763097949887,
          0.44419134396355353,
          0.44419134396355353,
          0.44874715261959,
          0.4510250569476082,
          0.45785876993166286,
          0.4646924829157175,
          0.46924829157175396,
          0.4806378132118451,
          0.4806378132118451,
          0.48291571753986334,
          0.48291571753986334,
          0.5034168564920274,
          0.5034168564920274,
          0.5148063781321185,
          0.5148063781321185,
          0.5375854214123007,
          0.5398633257403189,
          0.5626423690205011,
          0.5694760820045558,
          0.571753986332574,
          0.5876993166287016,
          0.5945330296127562,
          0.6013667425968109,
          0.6082004555808656,
          0.6150341685649203,
          0.6150341685649203,
          0.6241457858769932,
          0.6332574031890661,
          0.6378132118451025,
          0.6492027334851936,
          0.662870159453303,
          0.6810933940774487,
          0.6856492027334852,
          0.6924829157175398,
          0.6924829157175398,
          0.6947608200455581,
          0.6947608200455581,
          0.7084282460136674,
          0.7129840546697038,
          0.7198177676537585,
          0.7289293849658315,
          0.7334851936218679,
          0.7380410022779044,
          0.7562642369020501,
          0.7608200455580866,
          0.7630979498861048,
          0.7630979498861048,
          0.7835990888382688,
          0.7881548974943052,
          0.7904328018223234,
          0.7904328018223234,
          0.8041002277904328,
          0.8041002277904328,
          0.8132118451025057,
          0.8132118451025057,
          0.8542141230068337,
          0.8587699316628702,
          0.929384965831435,
          0.9339407744874715,
          0.9931662870159453,
          1
         ],
         "y": [
          0,
          0.003663003663003663,
          0.37362637362637363,
          0.38095238095238093,
          0.47619047619047616,
          0.47619047619047616,
          0.4945054945054945,
          0.4945054945054945,
          0.5018315018315018,
          0.5018315018315018,
          0.5677655677655677,
          0.5677655677655677,
          0.575091575091575,
          0.575091575091575,
          0.5860805860805861,
          0.5934065934065934,
          0.6117216117216118,
          0.6190476190476191,
          0.6190476190476191,
          0.6227106227106227,
          0.6227106227106227,
          0.652014652014652,
          0.652014652014652,
          0.6703296703296703,
          0.6703296703296703,
          0.6776556776556777,
          0.6776556776556777,
          0.6813186813186813,
          0.6813186813186813,
          0.6886446886446886,
          0.6886446886446886,
          0.6959706959706959,
          0.6959706959706959,
          0.706959706959707,
          0.706959706959707,
          0.717948717948718,
          0.717948717948718,
          0.7252747252747253,
          0.7252747252747253,
          0.7289377289377289,
          0.7289377289377289,
          0.7326007326007326,
          0.7326007326007326,
          0.73992673992674,
          0.73992673992674,
          0.7582417582417582,
          0.7655677655677655,
          0.7765567765567766,
          0.7765567765567766,
          0.7802197802197802,
          0.7875457875457875,
          0.7875457875457875,
          0.8021978021978022,
          0.8021978021978022,
          0.8058608058608059,
          0.8058608058608059,
          0.8168498168498168,
          0.8168498168498168,
          0.8205128205128205,
          0.8205128205128205,
          0.8241758241758241,
          0.8241758241758241,
          0.8278388278388278,
          0.8278388278388278,
          0.8315018315018315,
          0.8315018315018315,
          0.8351648351648352,
          0.8351648351648352,
          0.8388278388278388,
          0.8388278388278388,
          0.8461538461538461,
          0.8461538461538461,
          0.8498168498168498,
          0.8498168498168498,
          0.8534798534798534,
          0.8534798534798534,
          0.8571428571428571,
          0.8571428571428571,
          0.8608058608058609,
          0.8608058608058609,
          0.8608058608058609,
          0.8644688644688645,
          0.8644688644688645,
          0.8681318681318682,
          0.8681318681318682,
          0.8754578754578755,
          0.8754578754578755,
          0.8791208791208791,
          0.8791208791208791,
          0.8791208791208791,
          0.8791208791208791,
          0.8864468864468864,
          0.8864468864468864,
          0.8901098901098901,
          0.8901098901098901,
          0.8937728937728938,
          0.8937728937728938,
          0.8974358974358975,
          0.8974358974358975,
          0.9010989010989011,
          0.9010989010989011,
          0.9010989010989011,
          0.9010989010989011,
          0.9047619047619048,
          0.9047619047619048,
          0.9047619047619048,
          0.9047619047619048,
          0.9084249084249084,
          0.9084249084249084,
          0.9084249084249084,
          0.9120879120879121,
          0.9120879120879121,
          0.9120879120879121,
          0.9120879120879121,
          0.9157509157509157,
          0.9157509157509157,
          0.9194139194139194,
          0.9194139194139194,
          0.9194139194139194,
          0.9194139194139194,
          0.9230769230769231,
          0.9230769230769231,
          0.9267399267399268,
          0.9267399267399268,
          0.9304029304029304,
          0.9304029304029304,
          0.9340659340659341,
          0.9340659340659341,
          0.9340659340659341,
          0.9340659340659341,
          0.9340659340659341,
          0.9340659340659341,
          0.9340659340659341,
          0.9377289377289377,
          0.9377289377289377,
          0.9413919413919414,
          0.9413919413919414,
          0.945054945054945,
          0.945054945054945,
          0.9487179487179487,
          0.9487179487179487,
          0.9487179487179487,
          0.9523809523809523,
          0.9523809523809523,
          0.9560439560439561,
          0.9560439560439561,
          0.9597069597069597,
          0.9597069597069597,
          0.9633699633699634,
          0.9633699633699634,
          0.967032967032967,
          0.967032967032967,
          0.967032967032967,
          0.967032967032967,
          0.967032967032967,
          0.9706959706959707,
          0.9706959706959707,
          0.9706959706959707,
          0.9706959706959707,
          0.9706959706959707,
          0.9706959706959707,
          0.9743589743589743,
          0.9743589743589743,
          0.9743589743589743,
          0.978021978021978,
          0.978021978021978,
          0.978021978021978,
          0.978021978021978,
          0.978021978021978,
          0.978021978021978,
          0.9816849816849816,
          0.9816849816849816,
          0.9853479853479854,
          0.9853479853479854,
          0.9853479853479854,
          0.9853479853479854,
          0.9853479853479854,
          0.9853479853479854,
          0.9853479853479854,
          0.9853479853479854,
          0.9853479853479854,
          0.9853479853479854,
          0.989010989010989,
          0.989010989010989,
          0.989010989010989,
          0.989010989010989,
          0.9926739926739927,
          0.9926739926739927,
          0.9963369963369964,
          0.9963369963369964,
          1,
          1,
          1,
          1,
          1,
          1,
          1
         ]
        },
        {
         "fill": "tozeroy",
         "line": {
          "color": "#1696d2",
          "width": 2
         },
         "name": "Test dataset AUC=0.851",
         "type": "scatter",
         "x": [
          0,
          0,
          0,
          0.01818181818181818,
          0.01818181818181818,
          0.02727272727272727,
          0.02727272727272727,
          0.02727272727272727,
          0.03636363636363636,
          0.03636363636363636,
          0.045454545454545456,
          0.045454545454545456,
          0.045454545454545456,
          0.05454545454545454,
          0.05454545454545454,
          0.06363636363636363,
          0.06363636363636363,
          0.07272727272727272,
          0.07272727272727272,
          0.09090909090909091,
          0.09090909090909091,
          0.1,
          0.1,
          0.14545454545454545,
          0.14545454545454545,
          0.15454545454545454,
          0.15454545454545454,
          0.2,
          0.2,
          0.20909090909090908,
          0.20909090909090908,
          0.21818181818181817,
          0.21818181818181817,
          0.22727272727272727,
          0.22727272727272727,
          0.23636363636363636,
          0.23636363636363636,
          0.24545454545454545,
          0.24545454545454545,
          0.3,
          0.3,
          0.3090909090909091,
          0.3090909090909091,
          0.3181818181818182,
          0.3181818181818182,
          0.32727272727272727,
          0.34545454545454546,
          0.35454545454545455,
          0.35454545454545455,
          0.4090909090909091,
          0.42727272727272725,
          0.45454545454545453,
          0.4727272727272727,
          0.509090909090909,
          0.5727272727272728,
          0.6272727272727273,
          0.6272727272727273,
          0.6454545454545455,
          0.6727272727272727,
          0.6909090909090909,
          0.6909090909090909,
          0.7545454545454545,
          0.7545454545454545,
          0.8272727272727273,
          0.8272727272727273,
          0.8909090909090909,
          0.8909090909090909,
          0.9454545454545454,
          0.9454545454545454,
          1
         ],
         "y": [
          0,
          0.014492753623188406,
          0.2608695652173913,
          0.2608695652173913,
          0.2898550724637681,
          0.2898550724637681,
          0.3188405797101449,
          0.463768115942029,
          0.463768115942029,
          0.5072463768115942,
          0.5072463768115942,
          0.5217391304347826,
          0.5507246376811594,
          0.5507246376811594,
          0.6086956521739131,
          0.6086956521739131,
          0.6231884057971014,
          0.6231884057971014,
          0.6376811594202898,
          0.6376811594202898,
          0.6521739130434783,
          0.6521739130434783,
          0.6666666666666666,
          0.6666666666666666,
          0.6811594202898551,
          0.6811594202898551,
          0.7391304347826086,
          0.7391304347826086,
          0.7536231884057971,
          0.7536231884057971,
          0.7681159420289855,
          0.7681159420289855,
          0.782608695652174,
          0.782608695652174,
          0.7971014492753623,
          0.7971014492753623,
          0.8115942028985508,
          0.8115942028985508,
          0.8405797101449275,
          0.8405797101449275,
          0.855072463768116,
          0.855072463768116,
          0.8695652173913043,
          0.8695652173913043,
          0.8840579710144928,
          0.8840579710144928,
          0.8840579710144928,
          0.8840579710144928,
          0.8985507246376812,
          0.8985507246376812,
          0.8985507246376812,
          0.8985507246376812,
          0.8985507246376812,
          0.8985507246376812,
          0.8985507246376812,
          0.8985507246376812,
          0.9130434782608695,
          0.9130434782608695,
          0.9130434782608695,
          0.9130434782608695,
          0.927536231884058,
          0.927536231884058,
          0.9565217391304348,
          0.9565217391304348,
          0.9710144927536232,
          0.9710144927536232,
          0.9855072463768116,
          0.9855072463768116,
          1,
          1
         ]
        }
       ],
       "layout": {
        "height": 500,
        "shapes": [
         {
          "line": {
           "dash": "dash"
          },
          "type": "line",
          "x0": 0,
          "x1": 1,
          "y0": 0,
          "y1": 1
         }
        ],
        "template": {
         "data": {
          "bar": [
           {
            "error_x": {
             "color": "#2a3f5f"
            },
            "error_y": {
             "color": "#2a3f5f"
            },
            "marker": {
             "line": {
              "color": "#E5ECF6",
              "width": 0.5
             },
             "pattern": {
              "fillmode": "overlay",
              "size": 10,
              "solidity": 0.2
             }
            },
            "type": "bar"
           }
          ],
          "barpolar": [
           {
            "marker": {
             "line": {
              "color": "#E5ECF6",
              "width": 0.5
             },
             "pattern": {
              "fillmode": "overlay",
              "size": 10,
              "solidity": 0.2
             }
            },
            "type": "barpolar"
           }
          ],
          "carpet": [
           {
            "aaxis": {
             "endlinecolor": "#2a3f5f",
             "gridcolor": "white",
             "linecolor": "white",
             "minorgridcolor": "white",
             "startlinecolor": "#2a3f5f"
            },
            "baxis": {
             "endlinecolor": "#2a3f5f",
             "gridcolor": "white",
             "linecolor": "white",
             "minorgridcolor": "white",
             "startlinecolor": "#2a3f5f"
            },
            "type": "carpet"
           }
          ],
          "choropleth": [
           {
            "colorbar": {
             "outlinewidth": 0,
             "ticks": ""
            },
            "type": "choropleth"
           }
          ],
          "contour": [
           {
            "colorbar": {
             "outlinewidth": 0,
             "ticks": ""
            },
            "colorscale": [
             [
              0,
              "#0d0887"
             ],
             [
              0.1111111111111111,
              "#46039f"
             ],
             [
              0.2222222222222222,
              "#7201a8"
             ],
             [
              0.3333333333333333,
              "#9c179e"
             ],
             [
              0.4444444444444444,
              "#bd3786"
             ],
             [
              0.5555555555555556,
              "#d8576b"
             ],
             [
              0.6666666666666666,
              "#ed7953"
             ],
             [
              0.7777777777777778,
              "#fb9f3a"
             ],
             [
              0.8888888888888888,
              "#fdca26"
             ],
             [
              1,
              "#f0f921"
             ]
            ],
            "type": "contour"
           }
          ],
          "contourcarpet": [
           {
            "colorbar": {
             "outlinewidth": 0,
             "ticks": ""
            },
            "type": "contourcarpet"
           }
          ],
          "heatmap": [
           {
            "colorbar": {
             "outlinewidth": 0,
             "ticks": ""
            },
            "colorscale": [
             [
              0,
              "#0d0887"
             ],
             [
              0.1111111111111111,
              "#46039f"
             ],
             [
              0.2222222222222222,
              "#7201a8"
             ],
             [
              0.3333333333333333,
              "#9c179e"
             ],
             [
              0.4444444444444444,
              "#bd3786"
             ],
             [
              0.5555555555555556,
              "#d8576b"
             ],
             [
              0.6666666666666666,
              "#ed7953"
             ],
             [
              0.7777777777777778,
              "#fb9f3a"
             ],
             [
              0.8888888888888888,
              "#fdca26"
             ],
             [
              1,
              "#f0f921"
             ]
            ],
            "type": "heatmap"
           }
          ],
          "heatmapgl": [
           {
            "colorbar": {
             "outlinewidth": 0,
             "ticks": ""
            },
            "colorscale": [
             [
              0,
              "#0d0887"
             ],
             [
              0.1111111111111111,
              "#46039f"
             ],
             [
              0.2222222222222222,
              "#7201a8"
             ],
             [
              0.3333333333333333,
              "#9c179e"
             ],
             [
              0.4444444444444444,
              "#bd3786"
             ],
             [
              0.5555555555555556,
              "#d8576b"
             ],
             [
              0.6666666666666666,
              "#ed7953"
             ],
             [
              0.7777777777777778,
              "#fb9f3a"
             ],
             [
              0.8888888888888888,
              "#fdca26"
             ],
             [
              1,
              "#f0f921"
             ]
            ],
            "type": "heatmapgl"
           }
          ],
          "histogram": [
           {
            "marker": {
             "pattern": {
              "fillmode": "overlay",
              "size": 10,
              "solidity": 0.2
             }
            },
            "type": "histogram"
           }
          ],
          "histogram2d": [
           {
            "colorbar": {
             "outlinewidth": 0,
             "ticks": ""
            },
            "colorscale": [
             [
              0,
              "#0d0887"
             ],
             [
              0.1111111111111111,
              "#46039f"
             ],
             [
              0.2222222222222222,
              "#7201a8"
             ],
             [
              0.3333333333333333,
              "#9c179e"
             ],
             [
              0.4444444444444444,
              "#bd3786"
             ],
             [
              0.5555555555555556,
              "#d8576b"
             ],
             [
              0.6666666666666666,
              "#ed7953"
             ],
             [
              0.7777777777777778,
              "#fb9f3a"
             ],
             [
              0.8888888888888888,
              "#fdca26"
             ],
             [
              1,
              "#f0f921"
             ]
            ],
            "type": "histogram2d"
           }
          ],
          "histogram2dcontour": [
           {
            "colorbar": {
             "outlinewidth": 0,
             "ticks": ""
            },
            "colorscale": [
             [
              0,
              "#0d0887"
             ],
             [
              0.1111111111111111,
              "#46039f"
             ],
             [
              0.2222222222222222,
              "#7201a8"
             ],
             [
              0.3333333333333333,
              "#9c179e"
             ],
             [
              0.4444444444444444,
              "#bd3786"
             ],
             [
              0.5555555555555556,
              "#d8576b"
             ],
             [
              0.6666666666666666,
              "#ed7953"
             ],
             [
              0.7777777777777778,
              "#fb9f3a"
             ],
             [
              0.8888888888888888,
              "#fdca26"
             ],
             [
              1,
              "#f0f921"
             ]
            ],
            "type": "histogram2dcontour"
           }
          ],
          "mesh3d": [
           {
            "colorbar": {
             "outlinewidth": 0,
             "ticks": ""
            },
            "type": "mesh3d"
           }
          ],
          "parcoords": [
           {
            "line": {
             "colorbar": {
              "outlinewidth": 0,
              "ticks": ""
             }
            },
            "type": "parcoords"
           }
          ],
          "pie": [
           {
            "automargin": true,
            "type": "pie"
           }
          ],
          "scatter": [
           {
            "marker": {
             "colorbar": {
              "outlinewidth": 0,
              "ticks": ""
             }
            },
            "type": "scatter"
           }
          ],
          "scatter3d": [
           {
            "line": {
             "colorbar": {
              "outlinewidth": 0,
              "ticks": ""
             }
            },
            "marker": {
             "colorbar": {
              "outlinewidth": 0,
              "ticks": ""
             }
            },
            "type": "scatter3d"
           }
          ],
          "scattercarpet": [
           {
            "marker": {
             "colorbar": {
              "outlinewidth": 0,
              "ticks": ""
             }
            },
            "type": "scattercarpet"
           }
          ],
          "scattergeo": [
           {
            "marker": {
             "colorbar": {
              "outlinewidth": 0,
              "ticks": ""
             }
            },
            "type": "scattergeo"
           }
          ],
          "scattergl": [
           {
            "marker": {
             "colorbar": {
              "outlinewidth": 0,
              "ticks": ""
             }
            },
            "type": "scattergl"
           }
          ],
          "scattermapbox": [
           {
            "marker": {
             "colorbar": {
              "outlinewidth": 0,
              "ticks": ""
             }
            },
            "type": "scattermapbox"
           }
          ],
          "scatterpolar": [
           {
            "marker": {
             "colorbar": {
              "outlinewidth": 0,
              "ticks": ""
             }
            },
            "type": "scatterpolar"
           }
          ],
          "scatterpolargl": [
           {
            "marker": {
             "colorbar": {
              "outlinewidth": 0,
              "ticks": ""
             }
            },
            "type": "scatterpolargl"
           }
          ],
          "scatterternary": [
           {
            "marker": {
             "colorbar": {
              "outlinewidth": 0,
              "ticks": ""
             }
            },
            "type": "scatterternary"
           }
          ],
          "surface": [
           {
            "colorbar": {
             "outlinewidth": 0,
             "ticks": ""
            },
            "colorscale": [
             [
              0,
              "#0d0887"
             ],
             [
              0.1111111111111111,
              "#46039f"
             ],
             [
              0.2222222222222222,
              "#7201a8"
             ],
             [
              0.3333333333333333,
              "#9c179e"
             ],
             [
              0.4444444444444444,
              "#bd3786"
             ],
             [
              0.5555555555555556,
              "#d8576b"
             ],
             [
              0.6666666666666666,
              "#ed7953"
             ],
             [
              0.7777777777777778,
              "#fb9f3a"
             ],
             [
              0.8888888888888888,
              "#fdca26"
             ],
             [
              1,
              "#f0f921"
             ]
            ],
            "type": "surface"
           }
          ],
          "table": [
           {
            "cells": {
             "fill": {
              "color": "#EBF0F8"
             },
             "line": {
              "color": "white"
             }
            },
            "header": {
             "fill": {
              "color": "#C8D4E3"
             },
             "line": {
              "color": "white"
             }
            },
            "type": "table"
           }
          ]
         },
         "layout": {
          "annotationdefaults": {
           "arrowcolor": "#2a3f5f",
           "arrowhead": 0,
           "arrowwidth": 1
          },
          "autotypenumbers": "strict",
          "coloraxis": {
           "colorbar": {
            "outlinewidth": 0,
            "ticks": ""
           }
          },
          "colorscale": {
           "diverging": [
            [
             0,
             "#8e0152"
            ],
            [
             0.1,
             "#c51b7d"
            ],
            [
             0.2,
             "#de77ae"
            ],
            [
             0.3,
             "#f1b6da"
            ],
            [
             0.4,
             "#fde0ef"
            ],
            [
             0.5,
             "#f7f7f7"
            ],
            [
             0.6,
             "#e6f5d0"
            ],
            [
             0.7,
             "#b8e186"
            ],
            [
             0.8,
             "#7fbc41"
            ],
            [
             0.9,
             "#4d9221"
            ],
            [
             1,
             "#276419"
            ]
           ],
           "sequential": [
            [
             0,
             "#0d0887"
            ],
            [
             0.1111111111111111,
             "#46039f"
            ],
            [
             0.2222222222222222,
             "#7201a8"
            ],
            [
             0.3333333333333333,
             "#9c179e"
            ],
            [
             0.4444444444444444,
             "#bd3786"
            ],
            [
             0.5555555555555556,
             "#d8576b"
            ],
            [
             0.6666666666666666,
             "#ed7953"
            ],
            [
             0.7777777777777778,
             "#fb9f3a"
            ],
            [
             0.8888888888888888,
             "#fdca26"
            ],
            [
             1,
             "#f0f921"
            ]
           ],
           "sequentialminus": [
            [
             0,
             "#0d0887"
            ],
            [
             0.1111111111111111,
             "#46039f"
            ],
            [
             0.2222222222222222,
             "#7201a8"
            ],
            [
             0.3333333333333333,
             "#9c179e"
            ],
            [
             0.4444444444444444,
             "#bd3786"
            ],
            [
             0.5555555555555556,
             "#d8576b"
            ],
            [
             0.6666666666666666,
             "#ed7953"
            ],
            [
             0.7777777777777778,
             "#fb9f3a"
            ],
            [
             0.8888888888888888,
             "#fdca26"
            ],
            [
             1,
             "#f0f921"
            ]
           ]
          },
          "colorway": [
           "#636efa",
           "#EF553B",
           "#00cc96",
           "#ab63fa",
           "#FFA15A",
           "#19d3f3",
           "#FF6692",
           "#B6E880",
           "#FF97FF",
           "#FECB52"
          ],
          "font": {
           "color": "#2a3f5f"
          },
          "geo": {
           "bgcolor": "white",
           "lakecolor": "white",
           "landcolor": "#E5ECF6",
           "showlakes": true,
           "showland": true,
           "subunitcolor": "white"
          },
          "hoverlabel": {
           "align": "left"
          },
          "hovermode": "closest",
          "mapbox": {
           "style": "light"
          },
          "paper_bgcolor": "white",
          "plot_bgcolor": "#E5ECF6",
          "polar": {
           "angularaxis": {
            "gridcolor": "white",
            "linecolor": "white",
            "ticks": ""
           },
           "bgcolor": "#E5ECF6",
           "radialaxis": {
            "gridcolor": "white",
            "linecolor": "white",
            "ticks": ""
           }
          },
          "scene": {
           "xaxis": {
            "backgroundcolor": "#E5ECF6",
            "gridcolor": "white",
            "gridwidth": 2,
            "linecolor": "white",
            "showbackground": true,
            "ticks": "",
            "zerolinecolor": "white"
           },
           "yaxis": {
            "backgroundcolor": "#E5ECF6",
            "gridcolor": "white",
            "gridwidth": 2,
            "linecolor": "white",
            "showbackground": true,
            "ticks": "",
            "zerolinecolor": "white"
           },
           "zaxis": {
            "backgroundcolor": "#E5ECF6",
            "gridcolor": "white",
            "gridwidth": 2,
            "linecolor": "white",
            "showbackground": true,
            "ticks": "",
            "zerolinecolor": "white"
           }
          },
          "shapedefaults": {
           "line": {
            "color": "#2a3f5f"
           }
          },
          "ternary": {
           "aaxis": {
            "gridcolor": "white",
            "linecolor": "white",
            "ticks": ""
           },
           "baxis": {
            "gridcolor": "white",
            "linecolor": "white",
            "ticks": ""
           },
           "bgcolor": "#E5ECF6",
           "caxis": {
            "gridcolor": "white",
            "linecolor": "white",
            "ticks": ""
           }
          },
          "title": {
           "x": 0.05
          },
          "xaxis": {
           "automargin": true,
           "gridcolor": "white",
           "linecolor": "white",
           "ticks": "",
           "title": {
            "standoff": 15
           },
           "zerolinecolor": "white",
           "zerolinewidth": 2
          },
          "yaxis": {
           "automargin": true,
           "gridcolor": "white",
           "linecolor": "white",
           "ticks": "",
           "title": {
            "standoff": 15
           },
           "zerolinecolor": "white",
           "zerolinewidth": 2
          }
         }
        },
        "title": {
         "text": "ROC AUC Curve"
        },
        "width": 700,
        "xaxis": {
         "constrain": "domain",
         "title": {
          "text": "False Positive Rate"
         }
        },
        "yaxis": {
         "scaleanchor": "x",
         "scaleratio": 1,
         "title": {
          "text": "True Positive Rate"
         }
        }
       }
      },
      "text/html": [
       "<div>                            <div id=\"b905eab8-e57e-46d0-8a6a-3c23680ee6bf\" class=\"plotly-graph-div\" style=\"height:500px; width:700px;\"></div>            <script type=\"text/javascript\">                require([\"plotly\"], function(Plotly) {                    window.PLOTLYENV=window.PLOTLYENV || {};                                    if (document.getElementById(\"b905eab8-e57e-46d0-8a6a-3c23680ee6bf\")) {                    Plotly.newPlot(                        \"b905eab8-e57e-46d0-8a6a-3c23680ee6bf\",                        [{\"fill\":\"tozeroy\",\"line\":{\"color\":\"#fdbf11\",\"width\":2},\"name\":\"Train dataset AUC=0.928\",\"stackgroup\":\"one\",\"x\":[0.0,0.0,0.0,0.0,0.0,0.002277904328018223,0.002277904328018223,0.004555808656036446,0.004555808656036446,0.00683371298405467,0.00683371298405467,0.009111617312072893,0.009111617312072893,0.01366742596810934,0.01366742596810934,0.01366742596810934,0.015945330296127564,0.015945330296127564,0.018223234624145785,0.018223234624145785,0.02050113895216401,0.02050113895216401,0.022779043280182234,0.022779043280182234,0.025056947608200455,0.025056947608200455,0.02733485193621868,0.02733485193621868,0.029612756264236904,0.029612756264236904,0.03189066059225513,0.03189066059225513,0.03644646924829157,0.03644646924829157,0.0387243735763098,0.0387243735763098,0.04328018223234624,0.04328018223234624,0.04555808656036447,0.04555808656036447,0.05011389521640091,0.05011389521640091,0.05922551252847381,0.05922551252847381,0.06378132118451026,0.06378132118451026,0.06378132118451026,0.06378132118451026,0.06605922551252848,0.06605922551252848,0.06605922551252848,0.0683371298405467,0.0683371298405467,0.07289293849658314,0.07289293849658314,0.07517084282460136,0.07517084282460136,0.0774487471526196,0.0774487471526196,0.08656036446469248,0.08656036446469248,0.09111617312072894,0.09111617312072894,0.10022779043280182,0.10022779043280182,0.1070615034168565,0.1070615034168565,0.10933940774487472,0.10933940774487472,0.11161731207289294,0.11161731207289294,0.11845102505694761,0.12072892938496584,0.1252847380410023,0.1252847380410023,0.1275626423690205,0.1275626423690205,0.1366742596810934,0.1366742596810934,0.13895216400911162,0.14350797266514806,0.14350797266514806,0.14578587699316628,0.14578587699316628,0.15034168564920272,0.15034168564920272,0.15261958997722094,0.15261958997722094,0.1548974943052392,0.15945330296127563,0.16400911161731208,0.16400911161731208,0.17312072892938496,0.17312072892938496,0.19362186788154898,0.19362186788154898,0.21184510250569477,0.21184510250569477,0.21867881548974943,0.22095671981776766,0.23462414578587698,0.24145785876993167,0.27790432801822323,0.27790432801822323,0.2824601366742597,0.2870159453302961,0.28929384965831434,0.30068337129840544,0.30751708428246016,0.3143507972665148,0.3143507972665148,0.31662870159453305,0.3211845102505695,0.33029612756264237,0.3325740318906606,0.33712984054669703,0.33712984054669703,0.33940774487471526,0.3439635535307517,0.35079726651480636,0.3530751708428246,0.35990888382687924,0.35990888382687924,0.3621867881548975,0.3621867881548975,0.3804100227790433,0.3826879271070615,0.38724373576309795,0.3917995444191344,0.39863325740318906,0.40774487471526194,0.4123006833712984,0.428246013667426,0.428246013667426,0.4328018223234624,0.43735763097949887,0.44419134396355353,0.44419134396355353,0.44874715261959,0.4510250569476082,0.45785876993166286,0.4646924829157175,0.46924829157175396,0.4806378132118451,0.4806378132118451,0.48291571753986334,0.48291571753986334,0.5034168564920274,0.5034168564920274,0.5148063781321185,0.5148063781321185,0.5375854214123007,0.5398633257403189,0.5626423690205011,0.5694760820045558,0.571753986332574,0.5876993166287016,0.5945330296127562,0.6013667425968109,0.6082004555808656,0.6150341685649203,0.6150341685649203,0.6241457858769932,0.6332574031890661,0.6378132118451025,0.6492027334851936,0.662870159453303,0.6810933940774487,0.6856492027334852,0.6924829157175398,0.6924829157175398,0.6947608200455581,0.6947608200455581,0.7084282460136674,0.7129840546697038,0.7198177676537585,0.7289293849658315,0.7334851936218679,0.7380410022779044,0.7562642369020501,0.7608200455580866,0.7630979498861048,0.7630979498861048,0.7835990888382688,0.7881548974943052,0.7904328018223234,0.7904328018223234,0.8041002277904328,0.8041002277904328,0.8132118451025057,0.8132118451025057,0.8542141230068337,0.8587699316628702,0.929384965831435,0.9339407744874715,0.9931662870159453,1.0],\"y\":[0.0,0.003663003663003663,0.37362637362637363,0.38095238095238093,0.47619047619047616,0.47619047619047616,0.4945054945054945,0.4945054945054945,0.5018315018315018,0.5018315018315018,0.5677655677655677,0.5677655677655677,0.575091575091575,0.575091575091575,0.5860805860805861,0.5934065934065934,0.6117216117216118,0.6190476190476191,0.6190476190476191,0.6227106227106227,0.6227106227106227,0.652014652014652,0.652014652014652,0.6703296703296703,0.6703296703296703,0.6776556776556777,0.6776556776556777,0.6813186813186813,0.6813186813186813,0.6886446886446886,0.6886446886446886,0.6959706959706959,0.6959706959706959,0.706959706959707,0.706959706959707,0.717948717948718,0.717948717948718,0.7252747252747253,0.7252747252747253,0.7289377289377289,0.7289377289377289,0.7326007326007326,0.7326007326007326,0.73992673992674,0.73992673992674,0.7582417582417582,0.7655677655677655,0.7765567765567766,0.7765567765567766,0.7802197802197802,0.7875457875457875,0.7875457875457875,0.8021978021978022,0.8021978021978022,0.8058608058608059,0.8058608058608059,0.8168498168498168,0.8168498168498168,0.8205128205128205,0.8205128205128205,0.8241758241758241,0.8241758241758241,0.8278388278388278,0.8278388278388278,0.8315018315018315,0.8315018315018315,0.8351648351648352,0.8351648351648352,0.8388278388278388,0.8388278388278388,0.8461538461538461,0.8461538461538461,0.8498168498168498,0.8498168498168498,0.8534798534798534,0.8534798534798534,0.8571428571428571,0.8571428571428571,0.8608058608058609,0.8608058608058609,0.8608058608058609,0.8644688644688645,0.8644688644688645,0.8681318681318682,0.8681318681318682,0.8754578754578755,0.8754578754578755,0.8791208791208791,0.8791208791208791,0.8791208791208791,0.8791208791208791,0.8864468864468864,0.8864468864468864,0.8901098901098901,0.8901098901098901,0.8937728937728938,0.8937728937728938,0.8974358974358975,0.8974358974358975,0.9010989010989011,0.9010989010989011,0.9010989010989011,0.9010989010989011,0.9047619047619048,0.9047619047619048,0.9047619047619048,0.9047619047619048,0.9084249084249084,0.9084249084249084,0.9084249084249084,0.9120879120879121,0.9120879120879121,0.9120879120879121,0.9120879120879121,0.9157509157509157,0.9157509157509157,0.9194139194139194,0.9194139194139194,0.9194139194139194,0.9194139194139194,0.9230769230769231,0.9230769230769231,0.9267399267399268,0.9267399267399268,0.9304029304029304,0.9304029304029304,0.9340659340659341,0.9340659340659341,0.9340659340659341,0.9340659340659341,0.9340659340659341,0.9340659340659341,0.9340659340659341,0.9377289377289377,0.9377289377289377,0.9413919413919414,0.9413919413919414,0.945054945054945,0.945054945054945,0.9487179487179487,0.9487179487179487,0.9487179487179487,0.9523809523809523,0.9523809523809523,0.9560439560439561,0.9560439560439561,0.9597069597069597,0.9597069597069597,0.9633699633699634,0.9633699633699634,0.967032967032967,0.967032967032967,0.967032967032967,0.967032967032967,0.967032967032967,0.9706959706959707,0.9706959706959707,0.9706959706959707,0.9706959706959707,0.9706959706959707,0.9706959706959707,0.9743589743589743,0.9743589743589743,0.9743589743589743,0.978021978021978,0.978021978021978,0.978021978021978,0.978021978021978,0.978021978021978,0.978021978021978,0.9816849816849816,0.9816849816849816,0.9853479853479854,0.9853479853479854,0.9853479853479854,0.9853479853479854,0.9853479853479854,0.9853479853479854,0.9853479853479854,0.9853479853479854,0.9853479853479854,0.9853479853479854,0.989010989010989,0.989010989010989,0.989010989010989,0.989010989010989,0.9926739926739927,0.9926739926739927,0.9963369963369964,0.9963369963369964,1.0,1.0,1.0,1.0,1.0,1.0,1.0],\"type\":\"scatter\"},{\"fill\":\"tozeroy\",\"line\":{\"color\":\"#1696d2\",\"width\":2},\"name\":\"Test dataset AUC=0.851\",\"x\":[0.0,0.0,0.0,0.01818181818181818,0.01818181818181818,0.02727272727272727,0.02727272727272727,0.02727272727272727,0.03636363636363636,0.03636363636363636,0.045454545454545456,0.045454545454545456,0.045454545454545456,0.05454545454545454,0.05454545454545454,0.06363636363636363,0.06363636363636363,0.07272727272727272,0.07272727272727272,0.09090909090909091,0.09090909090909091,0.1,0.1,0.14545454545454545,0.14545454545454545,0.15454545454545454,0.15454545454545454,0.2,0.2,0.20909090909090908,0.20909090909090908,0.21818181818181817,0.21818181818181817,0.22727272727272727,0.22727272727272727,0.23636363636363636,0.23636363636363636,0.24545454545454545,0.24545454545454545,0.3,0.3,0.3090909090909091,0.3090909090909091,0.3181818181818182,0.3181818181818182,0.32727272727272727,0.34545454545454546,0.35454545454545455,0.35454545454545455,0.4090909090909091,0.42727272727272725,0.45454545454545453,0.4727272727272727,0.509090909090909,0.5727272727272728,0.6272727272727273,0.6272727272727273,0.6454545454545455,0.6727272727272727,0.6909090909090909,0.6909090909090909,0.7545454545454545,0.7545454545454545,0.8272727272727273,0.8272727272727273,0.8909090909090909,0.8909090909090909,0.9454545454545454,0.9454545454545454,1.0],\"y\":[0.0,0.014492753623188406,0.2608695652173913,0.2608695652173913,0.2898550724637681,0.2898550724637681,0.3188405797101449,0.463768115942029,0.463768115942029,0.5072463768115942,0.5072463768115942,0.5217391304347826,0.5507246376811594,0.5507246376811594,0.6086956521739131,0.6086956521739131,0.6231884057971014,0.6231884057971014,0.6376811594202898,0.6376811594202898,0.6521739130434783,0.6521739130434783,0.6666666666666666,0.6666666666666666,0.6811594202898551,0.6811594202898551,0.7391304347826086,0.7391304347826086,0.7536231884057971,0.7536231884057971,0.7681159420289855,0.7681159420289855,0.782608695652174,0.782608695652174,0.7971014492753623,0.7971014492753623,0.8115942028985508,0.8115942028985508,0.8405797101449275,0.8405797101449275,0.855072463768116,0.855072463768116,0.8695652173913043,0.8695652173913043,0.8840579710144928,0.8840579710144928,0.8840579710144928,0.8840579710144928,0.8985507246376812,0.8985507246376812,0.8985507246376812,0.8985507246376812,0.8985507246376812,0.8985507246376812,0.8985507246376812,0.8985507246376812,0.9130434782608695,0.9130434782608695,0.9130434782608695,0.9130434782608695,0.927536231884058,0.927536231884058,0.9565217391304348,0.9565217391304348,0.9710144927536232,0.9710144927536232,0.9855072463768116,0.9855072463768116,1.0,1.0],\"type\":\"scatter\"}],                        {\"template\":{\"data\":{\"bar\":[{\"error_x\":{\"color\":\"#2a3f5f\"},\"error_y\":{\"color\":\"#2a3f5f\"},\"marker\":{\"line\":{\"color\":\"#E5ECF6\",\"width\":0.5},\"pattern\":{\"fillmode\":\"overlay\",\"size\":10,\"solidity\":0.2}},\"type\":\"bar\"}],\"barpolar\":[{\"marker\":{\"line\":{\"color\":\"#E5ECF6\",\"width\":0.5},\"pattern\":{\"fillmode\":\"overlay\",\"size\":10,\"solidity\":0.2}},\"type\":\"barpolar\"}],\"carpet\":[{\"aaxis\":{\"endlinecolor\":\"#2a3f5f\",\"gridcolor\":\"white\",\"linecolor\":\"white\",\"minorgridcolor\":\"white\",\"startlinecolor\":\"#2a3f5f\"},\"baxis\":{\"endlinecolor\":\"#2a3f5f\",\"gridcolor\":\"white\",\"linecolor\":\"white\",\"minorgridcolor\":\"white\",\"startlinecolor\":\"#2a3f5f\"},\"type\":\"carpet\"}],\"choropleth\":[{\"colorbar\":{\"outlinewidth\":0,\"ticks\":\"\"},\"type\":\"choropleth\"}],\"contour\":[{\"colorbar\":{\"outlinewidth\":0,\"ticks\":\"\"},\"colorscale\":[[0.0,\"#0d0887\"],[0.1111111111111111,\"#46039f\"],[0.2222222222222222,\"#7201a8\"],[0.3333333333333333,\"#9c179e\"],[0.4444444444444444,\"#bd3786\"],[0.5555555555555556,\"#d8576b\"],[0.6666666666666666,\"#ed7953\"],[0.7777777777777778,\"#fb9f3a\"],[0.8888888888888888,\"#fdca26\"],[1.0,\"#f0f921\"]],\"type\":\"contour\"}],\"contourcarpet\":[{\"colorbar\":{\"outlinewidth\":0,\"ticks\":\"\"},\"type\":\"contourcarpet\"}],\"heatmap\":[{\"colorbar\":{\"outlinewidth\":0,\"ticks\":\"\"},\"colorscale\":[[0.0,\"#0d0887\"],[0.1111111111111111,\"#46039f\"],[0.2222222222222222,\"#7201a8\"],[0.3333333333333333,\"#9c179e\"],[0.4444444444444444,\"#bd3786\"],[0.5555555555555556,\"#d8576b\"],[0.6666666666666666,\"#ed7953\"],[0.7777777777777778,\"#fb9f3a\"],[0.8888888888888888,\"#fdca26\"],[1.0,\"#f0f921\"]],\"type\":\"heatmap\"}],\"heatmapgl\":[{\"colorbar\":{\"outlinewidth\":0,\"ticks\":\"\"},\"colorscale\":[[0.0,\"#0d0887\"],[0.1111111111111111,\"#46039f\"],[0.2222222222222222,\"#7201a8\"],[0.3333333333333333,\"#9c179e\"],[0.4444444444444444,\"#bd3786\"],[0.5555555555555556,\"#d8576b\"],[0.6666666666666666,\"#ed7953\"],[0.7777777777777778,\"#fb9f3a\"],[0.8888888888888888,\"#fdca26\"],[1.0,\"#f0f921\"]],\"type\":\"heatmapgl\"}],\"histogram\":[{\"marker\":{\"pattern\":{\"fillmode\":\"overlay\",\"size\":10,\"solidity\":0.2}},\"type\":\"histogram\"}],\"histogram2d\":[{\"colorbar\":{\"outlinewidth\":0,\"ticks\":\"\"},\"colorscale\":[[0.0,\"#0d0887\"],[0.1111111111111111,\"#46039f\"],[0.2222222222222222,\"#7201a8\"],[0.3333333333333333,\"#9c179e\"],[0.4444444444444444,\"#bd3786\"],[0.5555555555555556,\"#d8576b\"],[0.6666666666666666,\"#ed7953\"],[0.7777777777777778,\"#fb9f3a\"],[0.8888888888888888,\"#fdca26\"],[1.0,\"#f0f921\"]],\"type\":\"histogram2d\"}],\"histogram2dcontour\":[{\"colorbar\":{\"outlinewidth\":0,\"ticks\":\"\"},\"colorscale\":[[0.0,\"#0d0887\"],[0.1111111111111111,\"#46039f\"],[0.2222222222222222,\"#7201a8\"],[0.3333333333333333,\"#9c179e\"],[0.4444444444444444,\"#bd3786\"],[0.5555555555555556,\"#d8576b\"],[0.6666666666666666,\"#ed7953\"],[0.7777777777777778,\"#fb9f3a\"],[0.8888888888888888,\"#fdca26\"],[1.0,\"#f0f921\"]],\"type\":\"histogram2dcontour\"}],\"mesh3d\":[{\"colorbar\":{\"outlinewidth\":0,\"ticks\":\"\"},\"type\":\"mesh3d\"}],\"parcoords\":[{\"line\":{\"colorbar\":{\"outlinewidth\":0,\"ticks\":\"\"}},\"type\":\"parcoords\"}],\"pie\":[{\"automargin\":true,\"type\":\"pie\"}],\"scatter\":[{\"marker\":{\"colorbar\":{\"outlinewidth\":0,\"ticks\":\"\"}},\"type\":\"scatter\"}],\"scatter3d\":[{\"line\":{\"colorbar\":{\"outlinewidth\":0,\"ticks\":\"\"}},\"marker\":{\"colorbar\":{\"outlinewidth\":0,\"ticks\":\"\"}},\"type\":\"scatter3d\"}],\"scattercarpet\":[{\"marker\":{\"colorbar\":{\"outlinewidth\":0,\"ticks\":\"\"}},\"type\":\"scattercarpet\"}],\"scattergeo\":[{\"marker\":{\"colorbar\":{\"outlinewidth\":0,\"ticks\":\"\"}},\"type\":\"scattergeo\"}],\"scattergl\":[{\"marker\":{\"colorbar\":{\"outlinewidth\":0,\"ticks\":\"\"}},\"type\":\"scattergl\"}],\"scattermapbox\":[{\"marker\":{\"colorbar\":{\"outlinewidth\":0,\"ticks\":\"\"}},\"type\":\"scattermapbox\"}],\"scatterpolar\":[{\"marker\":{\"colorbar\":{\"outlinewidth\":0,\"ticks\":\"\"}},\"type\":\"scatterpolar\"}],\"scatterpolargl\":[{\"marker\":{\"colorbar\":{\"outlinewidth\":0,\"ticks\":\"\"}},\"type\":\"scatterpolargl\"}],\"scatterternary\":[{\"marker\":{\"colorbar\":{\"outlinewidth\":0,\"ticks\":\"\"}},\"type\":\"scatterternary\"}],\"surface\":[{\"colorbar\":{\"outlinewidth\":0,\"ticks\":\"\"},\"colorscale\":[[0.0,\"#0d0887\"],[0.1111111111111111,\"#46039f\"],[0.2222222222222222,\"#7201a8\"],[0.3333333333333333,\"#9c179e\"],[0.4444444444444444,\"#bd3786\"],[0.5555555555555556,\"#d8576b\"],[0.6666666666666666,\"#ed7953\"],[0.7777777777777778,\"#fb9f3a\"],[0.8888888888888888,\"#fdca26\"],[1.0,\"#f0f921\"]],\"type\":\"surface\"}],\"table\":[{\"cells\":{\"fill\":{\"color\":\"#EBF0F8\"},\"line\":{\"color\":\"white\"}},\"header\":{\"fill\":{\"color\":\"#C8D4E3\"},\"line\":{\"color\":\"white\"}},\"type\":\"table\"}]},\"layout\":{\"annotationdefaults\":{\"arrowcolor\":\"#2a3f5f\",\"arrowhead\":0,\"arrowwidth\":1},\"autotypenumbers\":\"strict\",\"coloraxis\":{\"colorbar\":{\"outlinewidth\":0,\"ticks\":\"\"}},\"colorscale\":{\"diverging\":[[0,\"#8e0152\"],[0.1,\"#c51b7d\"],[0.2,\"#de77ae\"],[0.3,\"#f1b6da\"],[0.4,\"#fde0ef\"],[0.5,\"#f7f7f7\"],[0.6,\"#e6f5d0\"],[0.7,\"#b8e186\"],[0.8,\"#7fbc41\"],[0.9,\"#4d9221\"],[1,\"#276419\"]],\"sequential\":[[0.0,\"#0d0887\"],[0.1111111111111111,\"#46039f\"],[0.2222222222222222,\"#7201a8\"],[0.3333333333333333,\"#9c179e\"],[0.4444444444444444,\"#bd3786\"],[0.5555555555555556,\"#d8576b\"],[0.6666666666666666,\"#ed7953\"],[0.7777777777777778,\"#fb9f3a\"],[0.8888888888888888,\"#fdca26\"],[1.0,\"#f0f921\"]],\"sequentialminus\":[[0.0,\"#0d0887\"],[0.1111111111111111,\"#46039f\"],[0.2222222222222222,\"#7201a8\"],[0.3333333333333333,\"#9c179e\"],[0.4444444444444444,\"#bd3786\"],[0.5555555555555556,\"#d8576b\"],[0.6666666666666666,\"#ed7953\"],[0.7777777777777778,\"#fb9f3a\"],[0.8888888888888888,\"#fdca26\"],[1.0,\"#f0f921\"]]},\"colorway\":[\"#636efa\",\"#EF553B\",\"#00cc96\",\"#ab63fa\",\"#FFA15A\",\"#19d3f3\",\"#FF6692\",\"#B6E880\",\"#FF97FF\",\"#FECB52\"],\"font\":{\"color\":\"#2a3f5f\"},\"geo\":{\"bgcolor\":\"white\",\"lakecolor\":\"white\",\"landcolor\":\"#E5ECF6\",\"showlakes\":true,\"showland\":true,\"subunitcolor\":\"white\"},\"hoverlabel\":{\"align\":\"left\"},\"hovermode\":\"closest\",\"mapbox\":{\"style\":\"light\"},\"paper_bgcolor\":\"white\",\"plot_bgcolor\":\"#E5ECF6\",\"polar\":{\"angularaxis\":{\"gridcolor\":\"white\",\"linecolor\":\"white\",\"ticks\":\"\"},\"bgcolor\":\"#E5ECF6\",\"radialaxis\":{\"gridcolor\":\"white\",\"linecolor\":\"white\",\"ticks\":\"\"}},\"scene\":{\"xaxis\":{\"backgroundcolor\":\"#E5ECF6\",\"gridcolor\":\"white\",\"gridwidth\":2,\"linecolor\":\"white\",\"showbackground\":true,\"ticks\":\"\",\"zerolinecolor\":\"white\"},\"yaxis\":{\"backgroundcolor\":\"#E5ECF6\",\"gridcolor\":\"white\",\"gridwidth\":2,\"linecolor\":\"white\",\"showbackground\":true,\"ticks\":\"\",\"zerolinecolor\":\"white\"},\"zaxis\":{\"backgroundcolor\":\"#E5ECF6\",\"gridcolor\":\"white\",\"gridwidth\":2,\"linecolor\":\"white\",\"showbackground\":true,\"ticks\":\"\",\"zerolinecolor\":\"white\"}},\"shapedefaults\":{\"line\":{\"color\":\"#2a3f5f\"}},\"ternary\":{\"aaxis\":{\"gridcolor\":\"white\",\"linecolor\":\"white\",\"ticks\":\"\"},\"baxis\":{\"gridcolor\":\"white\",\"linecolor\":\"white\",\"ticks\":\"\"},\"bgcolor\":\"#E5ECF6\",\"caxis\":{\"gridcolor\":\"white\",\"linecolor\":\"white\",\"ticks\":\"\"}},\"title\":{\"x\":0.05},\"xaxis\":{\"automargin\":true,\"gridcolor\":\"white\",\"linecolor\":\"white\",\"ticks\":\"\",\"title\":{\"standoff\":15},\"zerolinecolor\":\"white\",\"zerolinewidth\":2},\"yaxis\":{\"automargin\":true,\"gridcolor\":\"white\",\"linecolor\":\"white\",\"ticks\":\"\",\"title\":{\"standoff\":15},\"zerolinecolor\":\"white\",\"zerolinewidth\":2}}},\"title\":{\"text\":\"ROC AUC Curve\"},\"xaxis\":{\"title\":{\"text\":\"False Positive Rate\"},\"constrain\":\"domain\"},\"yaxis\":{\"title\":{\"text\":\"True Positive Rate\"},\"scaleanchor\":\"x\",\"scaleratio\":1},\"width\":700,\"height\":500,\"shapes\":[{\"line\":{\"dash\":\"dash\"},\"type\":\"line\",\"x0\":0,\"x1\":1,\"y0\":0,\"y1\":1}]},                        {\"responsive\": true}                    ).then(function(){\n",
       "                            \n",
       "var gd = document.getElementById('b905eab8-e57e-46d0-8a6a-3c23680ee6bf');\n",
       "var x = new MutationObserver(function (mutations, observer) {{\n",
       "        var display = window.getComputedStyle(gd).display;\n",
       "        if (!display || display === 'none') {{\n",
       "            console.log([gd, 'removed!']);\n",
       "            Plotly.purge(gd);\n",
       "            observer.disconnect();\n",
       "        }}\n",
       "}});\n",
       "\n",
       "// Listen for the removal of the full notebook cells\n",
       "var notebookContainer = gd.closest('#notebook-container');\n",
       "if (notebookContainer) {{\n",
       "    x.observe(notebookContainer, {childList: true});\n",
       "}}\n",
       "\n",
       "// Listen for the clearing of the current output cell\n",
       "var outputEl = gd.closest('.output');\n",
       "if (outputEl) {{\n",
       "    x.observe(outputEl, {childList: true});\n",
       "}}\n",
       "\n",
       "                        })                };                });            </script>        </div>"
      ]
     },
     "metadata": {},
     "output_type": "display_data"
    },
    {
     "data": {
      "application/vnd.plotly.v1+json": {
       "config": {
        "plotlyServerURL": "https://plot.ly"
       },
       "data": [
        {
         "line": {
          "color": "#E88E2D"
         },
         "name": "Train Precision",
         "type": "scatter",
         "x": [
          0.07298438251018524,
          0.0734342560172081,
          0.07363897562026978,
          0.0737064927816391,
          0.07451075315475464,
          0.07551366090774536,
          0.07661670446395874,
          0.0767672061920166,
          0.07709221541881561,
          0.07785271853208542,
          0.07827570289373398,
          0.08072042465209961,
          0.08092979341745377,
          0.08116133511066437,
          0.0813637301325798,
          0.08174290508031845,
          0.08236401528120041,
          0.08243764936923981,
          0.08255593478679657,
          0.0826704129576683,
          0.08303048461675644,
          0.08317746967077255,
          0.08320457488298416,
          0.08334808051586151,
          0.08334959298372269,
          0.08470147848129272,
          0.08493930101394653,
          0.08546682447195053,
          0.08551863580942154,
          0.08675000816583633,
          0.08687806874513626,
          0.08693942427635193,
          0.08719047904014587,
          0.08966461569070816,
          0.08988159149885178,
          0.08996900171041489,
          0.0901675671339035,
          0.09036953747272491,
          0.09044314175844193,
          0.09055669605731964,
          0.09125900268554688,
          0.09176639467477798,
          0.09199509024620056,
          0.09284783154726028,
          0.09426584839820862,
          0.098362997174263,
          0.09883248060941696,
          0.09889080375432968,
          0.10037873685359955,
          0.1008009985089302,
          0.10116735845804214,
          0.10166218876838684,
          0.1016964465379715,
          0.10170333832502365,
          0.10179267078638077,
          0.10190944373607635,
          0.10211583971977234,
          0.10212350636720657,
          0.10232192277908325,
          0.1027512401342392,
          0.10313282907009125,
          0.10430067777633667,
          0.1050257608294487,
          0.10508358478546143,
          0.10515816509723663,
          0.1054689809679985,
          0.10666941106319427,
          0.10703285038471222,
          0.10725332051515579,
          0.10740987956523895,
          0.10828646272420883,
          0.1093546599149704,
          0.10935678333044052,
          0.10937932133674622,
          0.10940185934305191,
          0.11021947860717773,
          0.11037686467170715,
          0.11047133803367615,
          0.11049685627222061,
          0.11090318858623505,
          0.11143308132886887,
          0.11168514937162399,
          0.11169875413179398,
          0.11235783249139786,
          0.11330007761716843,
          0.11368075758218765,
          0.11397545784711838,
          0.11403205245733261,
          0.11418722569942474,
          0.1147969514131546,
          0.1149950921535492,
          0.11550503224134445,
          0.11563551425933838,
          0.11568211764097214,
          0.11576501280069351,
          0.11580250412225723,
          0.11586620658636093,
          0.11613742262125015,
          0.11618023365736008,
          0.11621057987213135,
          0.11671209335327148,
          0.11674139648675919,
          0.1170022115111351,
          0.1170155331492424,
          0.11726242303848267,
          0.11728671193122864,
          0.11731868982315063,
          0.11734522134065628,
          0.11755071580410004,
          0.11805407702922821,
          0.11813388019800186,
          0.11883673071861267,
          0.11883987486362457,
          0.11884574592113495,
          0.11908947676420212,
          0.11922433227300644,
          0.12101177871227264,
          0.12154769152402878,
          0.12166934460401535,
          0.1226879432797432,
          0.1226952001452446,
          0.12293463200330734,
          0.1229415237903595,
          0.1229482963681221,
          0.12295513600111008,
          0.12297568470239639,
          0.12310567498207092,
          0.12326611578464508,
          0.12414231896400452,
          0.12430039048194885,
          0.12463279813528061,
          0.12472206354141235,
          0.12536780536174774,
          0.12552881240844727,
          0.1255834549665451,
          0.12569068372249603,
          0.12571901082992554,
          0.1258043646812439,
          0.12590853869915009,
          0.12602050602436066,
          0.1262921243906021,
          0.12709389626979828,
          0.12749578058719635,
          0.1278119683265686,
          0.12799258530139923,
          0.12812994420528412,
          0.12860870361328125,
          0.12880362570285797,
          0.12897326052188873,
          0.12950655817985535,
          0.1303776651620865,
          0.13045744597911835,
          0.1306334137916565,
          0.1307385116815567,
          0.1308809369802475,
          0.13088911771774292,
          0.13090264797210693,
          0.13119752705097198,
          0.13119837641716003,
          0.13142021000385284,
          0.13164936006069183,
          0.1322096735239029,
          0.1338551640510559,
          0.13391265273094177,
          0.13529163599014282,
          0.13561755418777466,
          0.1367042362689972,
          0.13699495792388916,
          0.13763903081417084,
          0.13766540586948395,
          0.13783860206604004,
          0.13861842453479767,
          0.1387288123369217,
          0.14012980461120605,
          0.14037694036960602,
          0.14037708938121796,
          0.14101260900497437,
          0.14102235436439514,
          0.1419278234243393,
          0.14219582080841064,
          0.1422950178384781,
          0.14387480914592743,
          0.1439744383096695,
          0.1443871259689331,
          0.14475694298744202,
          0.14503000676631927,
          0.14508120715618134,
          0.14518345892429352,
          0.1456078588962555,
          0.1456524282693863,
          0.14570681750774384,
          0.14580979943275452,
          0.1460111439228058,
          0.1460184007883072,
          0.14634297788143158,
          0.14718300104141235,
          0.14759251475334167,
          0.1476396918296814,
          0.1482173055410385,
          0.14858074486255646,
          0.14862029254436493,
          0.148787260055542,
          0.14972592890262604,
          0.15122613310813904,
          0.1539183408021927,
          0.15709196031093597,
          0.15726274251937866,
          0.15738099813461304,
          0.15879185497760773,
          0.1639295369386673,
          0.16406363248825073,
          0.16428229212760925,
          0.16462428867816925,
          0.1647779792547226,
          0.16486285626888275,
          0.16856257617473602,
          0.1723920702934265,
          0.1733275055885315,
          0.17409656941890717,
          0.17600443959236145,
          0.17777875065803528,
          0.183733731508255,
          0.1876838356256485,
          0.19170188903808594,
          0.2047661989927292,
          0.21020351350307465,
          0.21424482762813568,
          0.2194400280714035,
          0.222540944814682,
          0.22860243916511536,
          0.23368440568447113,
          0.2349403202533722,
          0.2385169416666031,
          0.23939365148544312,
          0.23954550921916962,
          0.24259789288043976,
          0.24280473589897156,
          0.24525758624076843,
          0.24749013781547546,
          0.24844138324260712,
          0.25351789593696594,
          0.2553214430809021,
          0.26502853631973267,
          0.2657504677772522,
          0.2679888606071472,
          0.27198660373687744,
          0.2721938490867615,
          0.27257847785949707,
          0.2731466591358185,
          0.27673619985580444,
          0.2816270887851715,
          0.2870419919490814,
          0.28854382038116455,
          0.2888459265232086,
          0.29032135009765625,
          0.2930538058280945,
          0.29714998602867126,
          0.2995739281177521,
          0.30079928040504456,
          0.302724152803421,
          0.3047177791595459,
          0.312574565410614,
          0.31281962990760803,
          0.3134249746799469,
          0.3135610818862915,
          0.31512272357940674,
          0.3168337941169739,
          0.3214985132217407,
          0.32221415638923645,
          0.32281824946403503,
          0.3269939124584198,
          0.3286089599132538,
          0.32893815636634827,
          0.3307128846645355,
          0.33088821172714233,
          0.33497947454452515,
          0.3417930006980896,
          0.34449952840805054,
          0.34544432163238525,
          0.3466939926147461,
          0.34699371457099915,
          0.3475058376789093,
          0.3487149477005005,
          0.3523116111755371,
          0.3595682978630066,
          0.3602776825428009,
          0.3608749806880951,
          0.3611637055873871,
          0.36567726731300354,
          0.3685026168823242,
          0.37408727407455444,
          0.3770432472229004,
          0.37887588143348694,
          0.3792576491832733,
          0.38408994674682617,
          0.3913552463054657,
          0.3957407772541046,
          0.4005749225616455,
          0.403157114982605,
          0.40319305658340454,
          0.4045611023902893,
          0.41898250579833984,
          0.42177721858024597,
          0.42413529753685,
          0.445227712392807,
          0.4464940130710602,
          0.4511677026748657,
          0.4523721933364868,
          0.45460498332977295,
          0.46006423234939575,
          0.46088486909866333,
          0.46722471714019775,
          0.4691409170627594,
          0.4712567627429962,
          0.47187817096710205,
          0.47608357667922974,
          0.4810432195663452,
          0.4869454801082611,
          0.49022939801216125,
          0.49599841237068176,
          0.4988684356212616,
          0.5003873109817505,
          0.5017032027244568,
          0.5038608312606812,
          0.5042935609817505,
          0.5058344006538391,
          0.5065616965293884,
          0.5069461464881897,
          0.5197991728782654,
          0.5207419395446777,
          0.5341488718986511,
          0.5360401272773743,
          0.5360770225524902,
          0.5386061668395996,
          0.5393436551094055,
          0.5472363829612732,
          0.548976480960846,
          0.5504201054573059,
          0.5588778853416443,
          0.5603967905044556,
          0.5617638826370239,
          0.5639723539352417,
          0.5691057443618774,
          0.5758374333381653,
          0.5777168273925781,
          0.5778802037239075,
          0.579257607460022,
          0.5820630192756653,
          0.582080066204071,
          0.5824785828590393,
          0.5920987725257874,
          0.595868706703186,
          0.5984096527099609,
          0.5984528064727783,
          0.6039809584617615,
          0.608614981174469,
          0.6086225509643555,
          0.6130183339118958,
          0.6134580373764038,
          0.6141456961631775,
          0.6152480840682983,
          0.6432651877403259,
          0.6474416851997375,
          0.6497082710266113,
          0.6569846868515015,
          0.668971836566925,
          0.6763773560523987,
          0.6842040419578552,
          0.692163348197937,
          0.708861231803894,
          0.7177786231040955,
          0.7236846685409546,
          0.7464759945869446,
          0.7469974160194397,
          0.7473552823066711,
          0.7667083740234375,
          0.7688888907432556,
          0.7844893932342529,
          0.786188006401062,
          0.7927462458610535,
          0.7928147315979004,
          0.7997027039527893,
          0.8012732267379761,
          0.8078449368476868,
          0.8078738451004028,
          0.8079598546028137,
          0.8085048794746399,
          0.8087964057922363,
          0.8088482618331909,
          0.8106150031089783,
          0.8137677311897278,
          0.819202184677124,
          0.8245338201522827,
          0.8251814842224121,
          0.8335269689559937,
          0.8356404304504395,
          0.8406141400337219,
          0.847265362739563,
          0.8473677635192871,
          0.8509171009063721,
          0.8639475703239441,
          0.867163360118866,
          0.8734694719314575,
          0.8744926452636719,
          0.8753623366355896,
          0.8763852715492249,
          0.8773755431175232,
          0.877582311630249,
          0.8817474246025085,
          0.8822125792503357,
          0.8833754658699036,
          0.8844009637832642,
          0.8871170282363892,
          0.8923925757408142,
          0.8927341103553772,
          0.8928490281105042,
          0.8941943645477295,
          0.901611864566803,
          0.9037005305290222,
          0.9050198793411255,
          0.9050474166870117,
          0.909850537776947,
          0.9137852191925049,
          0.9158570766448975,
          0.9163731336593628,
          0.9170870780944824,
          0.9207816123962402,
          0.9283031225204468,
          0.9386666417121887,
          0.9386927485466003,
          0.9397869110107422,
          0.943528413772583,
          0.9438499808311462,
          0.945540726184845,
          0.9474151730537415,
          0.9475622773170471,
          0.9500395059585571,
          0.9516862630844116,
          0.9533820748329163,
          0.9536800384521484,
          0.9553674459457397,
          0.957472562789917,
          0.9606497883796692,
          0.9618535041809082,
          0.9635987877845764,
          0.9639980792999268,
          0.9690219759941101,
          0.9692919850349426,
          0.969879686832428,
          0.9700535535812378,
          0.9700714945793152,
          0.9714653491973877,
          0.9717121124267578,
          0.9720708727836609,
          0.9725748300552368,
          0.9728321433067322,
          0.9762008786201477,
          0.9788768291473389,
          0.9790913462638855,
          0.979927659034729,
          0.9811434745788574,
          0.9819297790527344,
          0.9825127124786377,
          0.9830173850059509,
          0.984273374080658,
          0.9849945902824402,
          0.9868006110191345,
          0.9874247312545776,
          0.9874725937843323,
          0.9876568913459778,
          0.9879083633422852,
          0.9881826639175415,
          0.9883848428726196,
          0.989022970199585,
          0.9894220232963562,
          0.9895150065422058,
          0.9895317554473877,
          0.9902684688568115,
          0.9906192421913147,
          0.9907895922660828,
          0.9910464882850647,
          0.9920705556869507,
          0.9928701519966125,
          0.9945324659347534,
          0.9945381283760071,
          0.9947548508644104,
          0.9948698878288269,
          0.9949963092803955,
          0.9950758218765259,
          0.9952162504196167,
          0.9956525564193726,
          0.9962348937988281,
          0.9969253540039062,
          0.9974892735481262,
          0.9976001381874084,
          0.9976996183395386,
          0.9979274868965149,
          0.9980978965759277,
          0.9981099367141724,
          0.9984663128852844,
          0.9984915256500244,
          0.9985617995262146,
          0.9986861348152161,
          0.9987111687660217,
          0.9989349842071533,
          0.999075710773468,
          0.9991200566291809,
          0.9991292953491211,
          0.9991695284843445,
          0.9991730451583862,
          0.9991951584815979,
          0.9992476105690002,
          0.9992814064025879,
          0.9992916584014893,
          0.9993097186088562,
          0.9993292093276978,
          0.9993318915367126,
          0.9993418455123901,
          0.9994213581085205,
          0.9994293451309204,
          0.9994397163391113,
          0.9994404911994934,
          0.9994431138038635,
          0.9994521737098694,
          0.9994537234306335,
          0.9994958639144897,
          0.9994979500770569,
          0.9995142817497253,
          0.9995189905166626,
          0.9995330572128296,
          0.9995496273040771,
          0.9996053576469421,
          0.9996973872184753,
          0.9997664093971252,
          0.9997707009315491,
          0.9997855424880981,
          0.9998072981834412,
          0.9998536705970764,
          0.999856173992157,
          0.9998688101768494,
          0.9998851418495178,
          0.9999105334281921,
          0.9999493360519409,
          0.9999739527702332,
          0.9999865293502808,
          0.9999895095825195,
          0.9999974370002747,
          0.9999985694885254,
          0.9999998211860657,
          1
         ],
         "y": [
          0.43333333333333335,
          0.43243243243243246,
          0.43312101910828027,
          0.43381180223285487,
          0.43450479233226835,
          0.4352,
          0.4342948717948718,
          0.434991974317817,
          0.43569131832797425,
          0.4363929146537842,
          0.43709677419354837,
          0.4378029079159935,
          0.43851132686084143,
          0.4376012965964344,
          0.4383116883116883,
          0.43973941368078173,
          0.44045676998368677,
          0.4411764705882353,
          0.44189852700491,
          0.4426229508196721,
          0.4433497536945813,
          0.4440789473684211,
          0.44481054365733114,
          0.44554455445544555,
          0.4462809917355372,
          0.445364238410596,
          0.4461028192371476,
          0.4475873544093178,
          0.4483333333333333,
          0.44908180300500833,
          0.4498327759197324,
          0.45058626465661644,
          0.4513422818791946,
          0.45210084033613446,
          0.45286195286195285,
          0.4536256323777403,
          0.45516074450084604,
          0.4559322033898305,
          0.4567062818336163,
          0.45826235093696766,
          0.4598290598290598,
          0.4606164383561644,
          0.4614065180102916,
          0.46219931271477666,
          0.46379310344827585,
          0.46459412780656306,
          0.46539792387543255,
          0.4662045060658579,
          0.4670138888888889,
          0.4678260869565217,
          0.4686411149825784,
          0.4677137870855148,
          0.46853146853146854,
          0.46760070052539404,
          0.46842105263157896,
          0.46924428822495606,
          0.47007042253521125,
          0.4717314487632509,
          0.4725663716814159,
          0.4734042553191489,
          0.47424511545293074,
          0.4750889679715303,
          0.47593582887700536,
          0.4767857142857143,
          0.4776386404293381,
          0.478494623655914,
          0.483695652173913,
          0.484573502722323,
          0.48545454545454547,
          0.48633879781420764,
          0.48722627737226276,
          0.48811700182815354,
          0.4889705882352941,
          0.48987108655616945,
          0.4907749077490775,
          0.49168207024029575,
          0.4925925925925926,
          0.4944237918215613,
          0.4962686567164179,
          0.4953271028037383,
          0.49625468164794007,
          0.4971857410881801,
          0.4981203007518797,
          0.500945179584121,
          0.5018939393939394,
          0.5028462998102466,
          0.5038022813688213,
          0.5066921606118547,
          0.5076628352490421,
          0.508637236084453,
          0.5096153846153846,
          0.5105973025048169,
          0.5115830115830116,
          0.5125725338491296,
          0.5135658914728682,
          0.5136186770428015,
          0.5146198830409356,
          0.515625,
          0.5166340508806262,
          0.5269461077844312,
          0.528,
          0.5387755102040817,
          0.5378323108384458,
          0.5389344262295082,
          0.5400410677618069,
          0.5411522633744856,
          0.5422680412371134,
          0.5433884297520661,
          0.5424430641821946,
          0.5435684647302904,
          0.5446985446985447,
          0.5458333333333333,
          0.5469728601252609,
          0.5481171548117155,
          0.549266247379455,
          0.5504201680672269,
          0.5515789473684211,
          0.5527426160337553,
          0.5517970401691332,
          0.5529661016949152,
          0.5520169851380042,
          0.5531914893617021,
          0.5543710021321961,
          0.5555555555555556,
          0.556745182012848,
          0.5579399141630901,
          0.5593952483801296,
          0.5606060606060606,
          0.561822125813449,
          0.5630434782608695,
          0.5667396061269147,
          0.567032967032967,
          0.5682819383259912,
          0.5695364238410596,
          0.5685840707964602,
          0.5698447893569845,
          0.5711111111111111,
          0.5723830734966593,
          0.5739910313901345,
          0.5752808988764045,
          0.5765765765765766,
          0.5756207674943566,
          0.5769230769230769,
          0.5782312925170068,
          0.5795454545454546,
          0.5808656036446469,
          0.5821917808219178,
          0.5835240274599542,
          0.5848623853211009,
          0.5875576036866359,
          0.5889145496535797,
          0.5902777777777778,
          0.5916473317865429,
          0.5930232558139535,
          0.5971896955503513,
          0.6,
          0.6014150943396226,
          0.6028368794326241,
          0.6033254156769596,
          0.6047619047619047,
          0.6062052505966588,
          0.6076555023923444,
          0.6091127098321343,
          0.6105769230769231,
          0.6120481927710844,
          0.6135265700483091,
          0.6150121065375302,
          0.6140776699029126,
          0.6155717761557178,
          0.6146341463414634,
          0.6161369193154034,
          0.6176470588235294,
          0.6191646191646192,
          0.6197530864197531,
          0.6212871287128713,
          0.6228287841191067,
          0.6243781094527363,
          0.6275,
          0.6290726817042607,
          0.628140703517588,
          0.6297229219143576,
          0.6313131313131313,
          0.631979695431472,
          0.6335877862595419,
          0.6352040816326531,
          0.6368286445012787,
          0.6384615384615384,
          0.6417525773195877,
          0.6434108527131783,
          0.6424870466321243,
          0.6441558441558441,
          0.6458333333333334,
          0.6475195822454308,
          0.6526315789473685,
          0.660427807486631,
          0.6621983914209115,
          0.6657681940700808,
          0.6675675675675675,
          0.6693766937669376,
          0.6684782608695652,
          0.670299727520436,
          0.6721311475409836,
          0.673972602739726,
          0.6758241758241759,
          0.6776859504132231,
          0.6795580110497238,
          0.6814404432132964,
          0.6833333333333333,
          0.6852367688022284,
          0.6871508379888268,
          0.6890756302521008,
          0.6910112359550562,
          0.6929577464788732,
          0.6949152542372882,
          0.6968838526912181,
          0.6988636363636364,
          0.7048710601719198,
          0.7068965517241379,
          0.7089337175792507,
          0.7109826589595376,
          0.7130434782608696,
          0.7151162790697675,
          0.717201166180758,
          0.718475073313783,
          0.7205882352941176,
          0.7227138643067846,
          0.7248520710059172,
          0.7240356083086054,
          0.7261904761904762,
          0.7283582089552239,
          0.7305389221556886,
          0.7327327327327328,
          0.7349397590361446,
          0.7371601208459214,
          0.7393939393939394,
          0.7416413373860182,
          0.7408536585365854,
          0.7431192660550459,
          0.745398773006135,
          0.7476923076923077,
          0.75,
          0.7523219814241486,
          0.7546583850931677,
          0.7570093457943925,
          0.759375,
          0.7617554858934169,
          0.7610062893081762,
          0.7634069400630915,
          0.7658227848101266,
          0.7682539682539683,
          0.7707006369426752,
          0.7699680511182109,
          0.7692307692307693,
          0.7717041800643086,
          0.7741935483870968,
          0.7792207792207793,
          0.7817589576547231,
          0.7810457516339869,
          0.7836065573770492,
          0.7828947368421053,
          0.7821782178217822,
          0.7847682119205298,
          0.7873754152823921,
          0.7866666666666666,
          0.7892976588628763,
          0.7885906040268457,
          0.793918918918919,
          0.7966101694915254,
          0.7959183673469388,
          0.7986348122866894,
          0.8013698630136986,
          0.8041237113402062,
          0.8068965517241379,
          0.8062283737024222,
          0.8090277777777778,
          0.8083623693379791,
          0.8111888111888111,
          0.8140350877192982,
          0.8162544169611308,
          0.8191489361702128,
          0.8220640569395018,
          0.825,
          0.8243727598566308,
          0.8237410071942446,
          0.8267148014440433,
          0.8260869565217391,
          0.8290909090909091,
          0.8284671532846716,
          0.8315018315018315,
          0.8345588235294118,
          0.8376383763837638,
          0.837037037037037,
          0.8401486988847584,
          0.8432835820895522,
          0.846441947565543,
          0.849624060150376,
          0.8490566037735849,
          0.8522727272727273,
          0.8555133079847909,
          0.8549618320610687,
          0.8582375478927203,
          0.8615384615384616,
          0.8648648648648649,
          0.8682170542635659,
          0.867704280155642,
          0.87109375,
          0.8705882352941177,
          0.8700787401574803,
          0.8695652173913043,
          0.873015873015873,
          0.8725099601593626,
          0.876,
          0.8795180722891566,
          0.8790322580645161,
          0.8785425101214575,
          0.8780487804878049,
          0.8775510204081632,
          0.8811475409836066,
          0.8801652892561983,
          0.8796680497925311,
          0.8833333333333333,
          0.8828451882845189,
          0.8823529411764706,
          0.8818565400843882,
          0.8808510638297873,
          0.8803418803418803,
          0.8798283261802575,
          0.8793103448275862,
          0.8787878787878788,
          0.8782608695652174,
          0.8820960698689956,
          0.8859649122807017,
          0.8854625550660793,
          0.8849557522123894,
          0.8888888888888888,
          0.8928571428571429,
          0.8968609865470852,
          0.9009009009009009,
          0.9004524886877828,
          0.9045454545454545,
          0.908675799086758,
          0.908256880733945,
          0.9124423963133641,
          0.9120370370370371,
          0.9116279069767442,
          0.9158878504672897,
          0.92018779342723,
          0.9198113207547169,
          0.919431279620853,
          0.919047619047619,
          0.9234449760765551,
          0.9230769230769231,
          0.9227053140096618,
          0.9223300970873787,
          0.926829268292683,
          0.9313725490196079,
          0.9310344827586207,
          0.9306930693069307,
          0.9353233830845771,
          0.935,
          0.9346733668341709,
          0.9393939393939394,
          0.9390862944162437,
          0.9438775510204082,
          0.9435897435897436,
          0.9432989690721649,
          0.9481865284974094,
          0.9479166666666666,
          0.9476439790575916,
          0.9473684210526315,
          0.9470899470899471,
          0.9468085106382979,
          0.9518716577540107,
          0.9516129032258065,
          0.9513513513513514,
          0.9510869565217391,
          0.9508196721311475,
          0.9505494505494505,
          0.9502762430939227,
          0.95,
          0.9497206703910615,
          0.9550561797752809,
          0.9548022598870056,
          0.9602272727272727,
          0.96,
          0.9597701149425287,
          0.9642857142857143,
          0.9640718562874252,
          0.963855421686747,
          0.9631901840490797,
          0.9691358024691358,
          0.9751552795031055,
          0.975,
          0.9748427672955975,
          0.9810126582278481,
          0.9808917197452229,
          0.9807692307692307,
          0.9806451612903225,
          0.9805194805194806,
          0.9803921568627451,
          0.9802631578947368,
          0.9801324503311258,
          0.98,
          0.9798657718120806,
          0.9797297297297297,
          0.9795918367346939,
          0.9794520547945206,
          0.9793103448275862,
          0.9791666666666666,
          0.9790209790209791,
          0.9788732394366197,
          0.9787234042553191,
          0.9785714285714285,
          0.9856115107913669,
          0.9854014598540146,
          0.9926470588235294,
          0.9925925925925926,
          0.9925373134328358,
          0.9924812030075187,
          0.9924242424242424,
          0.9923664122137404,
          1,
          1,
          1,
          1,
          1,
          1,
          1,
          1,
          1,
          1,
          1,
          1,
          1,
          1,
          1,
          1,
          1,
          1,
          1,
          1,
          1,
          1,
          1,
          1,
          1,
          1,
          1,
          1,
          1,
          1,
          1,
          1,
          1,
          1,
          1,
          1,
          1,
          1,
          1,
          1,
          1,
          1,
          1,
          1,
          1,
          1,
          1,
          1,
          1,
          1,
          1,
          1,
          1,
          1,
          1,
          1,
          1,
          1,
          1,
          1,
          1,
          1,
          1,
          1,
          1,
          1,
          1,
          1,
          1,
          1,
          1,
          1,
          1,
          1,
          1,
          1,
          1,
          1,
          1,
          1,
          1,
          1,
          1,
          1,
          1,
          1,
          1,
          1,
          1,
          1,
          1,
          1,
          1,
          1,
          1,
          1,
          1,
          1,
          1,
          1,
          1,
          1,
          1,
          1,
          1,
          1,
          1,
          1,
          1,
          1,
          1,
          1,
          1,
          1,
          1,
          1,
          1,
          1,
          1,
          1,
          1,
          1,
          1,
          1,
          1,
          1,
          1,
          1,
          1
         ]
        },
        {
         "line": {
          "color": "#12719E"
         },
         "name": "Test Precision",
         "type": "scatter",
         "x": [
          0.029688967391848564,
          0.032902609556913376,
          0.03490624949336052,
          0.03924383595585823,
          0.04228543862700462,
          0.0432247556746006,
          0.04599694535136223,
          0.051284607499837875,
          0.053841687738895416,
          0.06132245808839798,
          0.06307294964790344,
          0.06374022364616394,
          0.06531708687543869,
          0.07400849461555481,
          0.07551366090774536,
          0.07627653330564499,
          0.07939349114894867,
          0.08256055414676666,
          0.08505222201347351,
          0.08653073757886887,
          0.09023930132389069,
          0.09250404685735703,
          0.09282415360212326,
          0.09328821301460266,
          0.09609177708625793,
          0.09853147715330124,
          0.1000128909945488,
          0.10190944373607635,
          0.10484015941619873,
          0.10515816509723663,
          0.1081356480717659,
          0.1099756509065628,
          0.11176855862140656,
          0.11195459216833115,
          0.11307094246149063,
          0.11550503224134445,
          0.11618023365736008,
          0.11671209335327148,
          0.11692829430103302,
          0.11755071580410004,
          0.11813388019800186,
          0.11857122927904129,
          0.11975548416376114,
          0.12152034789323807,
          0.12181775271892548,
          0.12297568470239639,
          0.12815560400485992,
          0.12973935902118683,
          0.1308809369802475,
          0.1322096735239029,
          0.13506339490413666,
          0.1351121962070465,
          0.13514719903469086,
          0.14036980271339417,
          0.1460111439228058,
          0.14634297788143158,
          0.1475357562303543,
          0.15047146379947662,
          0.1591489315032959,
          0.16471335291862488,
          0.1689784973859787,
          0.1724119782447815,
          0.17775022983551025,
          0.1845896989107132,
          0.18692907691001892,
          0.19058361649513245,
          0.19091172516345978,
          0.19534233212471008,
          0.2068503201007843,
          0.21424482762813568,
          0.21937650442123413,
          0.23301199078559875,
          0.23911669850349426,
          0.24929995834827423,
          0.2519887089729309,
          0.26451465487480164,
          0.2790852189064026,
          0.2807823419570923,
          0.29195091128349304,
          0.302724152803421,
          0.30881187319755554,
          0.3097686767578125,
          0.3116578459739685,
          0.31490615010261536,
          0.31512272357940674,
          0.33069419860839844,
          0.3474043011665344,
          0.3524302542209625,
          0.3603229522705078,
          0.3611637055873871,
          0.37159866094589233,
          0.39659127593040466,
          0.40009185671806335,
          0.42682695388793945,
          0.42688390612602234,
          0.4496987462043762,
          0.4558123052120209,
          0.4658205807209015,
          0.46706438064575195,
          0.4691409170627594,
          0.47287607192993164,
          0.4869454801082611,
          0.4969753324985504,
          0.4985933005809784,
          0.513762354850769,
          0.5141242742538452,
          0.5182715058326721,
          0.5803182125091553,
          0.5824785828590393,
          0.594017744064331,
          0.6288468241691589,
          0.6289382576942444,
          0.6474692821502686,
          0.7029348015785217,
          0.7464759945869446,
          0.7677439451217651,
          0.7688888907432556,
          0.8070796132087708,
          0.8079598546028137,
          0.8082181811332703,
          0.8133285641670227,
          0.8338815569877625,
          0.873281717300415,
          0.878054678440094,
          0.8947035074234009,
          0.9037005305290222,
          0.9148911237716675,
          0.9288907647132874,
          0.931218147277832,
          0.93527752161026,
          0.9433189630508423,
          0.9450863599777222,
          0.9567158818244934,
          0.9677785634994507,
          0.9711753129959106,
          0.9720708727836609,
          0.9729122519493103,
          0.9749475121498108,
          0.9774129390716553,
          0.9780170917510986,
          0.9790913462638855,
          0.9831225872039795,
          0.9872031807899475,
          0.9874001741409302,
          0.9897556900978088,
          0.990715503692627,
          0.9908942580223083,
          0.9923542737960815,
          0.9934109449386597,
          0.9980978965759277,
          0.9988352060317993,
          0.9988932013511658,
          0.9989402890205383,
          0.9995356202125549,
          0.9995936155319214,
          0.9996280670166016,
          0.9997137784957886,
          0.9999673366546631,
          0.9999728798866272
         ],
         "y": [
          0.3988439306358382,
          0.3953488372093023,
          0.39766081871345027,
          0.4,
          0.40236686390532544,
          0.40476190476190477,
          0.40718562874251496,
          0.40963855421686746,
          0.40606060606060607,
          0.40853658536585363,
          0.4110429447852761,
          0.41358024691358025,
          0.4161490683229814,
          0.41875,
          0.42138364779874216,
          0.4240506329113924,
          0.42038216560509556,
          0.4230769230769231,
          0.4258064516129032,
          0.42857142857142855,
          0.43137254901960786,
          0.4342105263157895,
          0.4370860927152318,
          0.44,
          0.4429530201342282,
          0.4391891891891892,
          0.43537414965986393,
          0.4383561643835616,
          0.4413793103448276,
          0.4444444444444444,
          0.44755244755244755,
          0.4507042253521127,
          0.45390070921985815,
          0.45714285714285713,
          0.45323741007194246,
          0.45652173913043476,
          0.45985401459854014,
          0.4701492537313433,
          0.4772727272727273,
          0.4732824427480916,
          0.47692307692307695,
          0.4806201550387597,
          0.484375,
          0.4881889763779528,
          0.49206349206349204,
          0.496,
          0.5254237288135594,
          0.5299145299145299,
          0.5344827586206896,
          0.5391304347826087,
          0.543859649122807,
          0.5535714285714286,
          0.5585585585585585,
          0.5636363636363636,
          0.5688073394495413,
          0.5794392523364486,
          0.5849056603773585,
          0.5904761904761905,
          0.5961538461538461,
          0.6019417475728155,
          0.6078431372549019,
          0.6138613861386139,
          0.61,
          0.6161616161616161,
          0.6288659793814433,
          0.6354166666666666,
          0.631578947368421,
          0.6382978723404256,
          0.6344086021505376,
          0.6413043478260869,
          0.6373626373626373,
          0.6444444444444445,
          0.651685393258427,
          0.6590909090909091,
          0.6666666666666666,
          0.6744186046511628,
          0.6823529411764706,
          0.6785714285714286,
          0.6746987951807228,
          0.6829268292682927,
          0.6790123456790124,
          0.6875,
          0.6835443037974683,
          0.6923076923076923,
          0.6883116883116883,
          0.6973684210526315,
          0.6933333333333334,
          0.7027027027027027,
          0.6986301369863014,
          0.7083333333333334,
          0.7183098591549296,
          0.7285714285714285,
          0.7391304347826086,
          0.75,
          0.746268656716418,
          0.7424242424242424,
          0.7384615384615385,
          0.734375,
          0.746031746031746,
          0.7419354838709677,
          0.7540983606557377,
          0.7666666666666667,
          0.7796610169491526,
          0.7931034482758621,
          0.8070175438596491,
          0.8035714285714286,
          0.8181818181818182,
          0.8148148148148148,
          0.8301886792452831,
          0.8461538461538461,
          0.8431372549019608,
          0.86,
          0.8571428571428571,
          0.875,
          0.8723404255319149,
          0.8695652173913043,
          0.8666666666666667,
          0.8636363636363636,
          0.8837209302325582,
          0.8780487804878049,
          0.875,
          0.8974358974358975,
          0.8947368421052632,
          0.8918918918918919,
          0.8888888888888888,
          0.9142857142857143,
          0.9117647058823529,
          0.9090909090909091,
          0.90625,
          0.9032258064516129,
          0.9,
          0.896551724137931,
          0.8928571428571429,
          0.8888888888888888,
          0.8846153846153846,
          0.88,
          0.8695652173913043,
          0.9090909090909091,
          0.9047619047619048,
          0.9,
          0.9473684210526315,
          1,
          1,
          1,
          1,
          1,
          1,
          1,
          1,
          1,
          1,
          1,
          1,
          1,
          1,
          1,
          1,
          1,
          1
         ]
        },
        {
         "line": {
          "color": "#843215"
         },
         "name": "Train Recall",
         "type": "scatter",
         "x": [
          0.07298438251018524,
          0.0734342560172081,
          0.07363897562026978,
          0.0737064927816391,
          0.07451075315475464,
          0.07551366090774536,
          0.07661670446395874,
          0.0767672061920166,
          0.07709221541881561,
          0.07785271853208542,
          0.07827570289373398,
          0.08072042465209961,
          0.08092979341745377,
          0.08116133511066437,
          0.0813637301325798,
          0.08174290508031845,
          0.08236401528120041,
          0.08243764936923981,
          0.08255593478679657,
          0.0826704129576683,
          0.08303048461675644,
          0.08317746967077255,
          0.08320457488298416,
          0.08334808051586151,
          0.08334959298372269,
          0.08470147848129272,
          0.08493930101394653,
          0.08546682447195053,
          0.08551863580942154,
          0.08675000816583633,
          0.08687806874513626,
          0.08693942427635193,
          0.08719047904014587,
          0.08966461569070816,
          0.08988159149885178,
          0.08996900171041489,
          0.0901675671339035,
          0.09036953747272491,
          0.09044314175844193,
          0.09055669605731964,
          0.09125900268554688,
          0.09176639467477798,
          0.09199509024620056,
          0.09284783154726028,
          0.09426584839820862,
          0.098362997174263,
          0.09883248060941696,
          0.09889080375432968,
          0.10037873685359955,
          0.1008009985089302,
          0.10116735845804214,
          0.10166218876838684,
          0.1016964465379715,
          0.10170333832502365,
          0.10179267078638077,
          0.10190944373607635,
          0.10211583971977234,
          0.10212350636720657,
          0.10232192277908325,
          0.1027512401342392,
          0.10313282907009125,
          0.10430067777633667,
          0.1050257608294487,
          0.10508358478546143,
          0.10515816509723663,
          0.1054689809679985,
          0.10666941106319427,
          0.10703285038471222,
          0.10725332051515579,
          0.10740987956523895,
          0.10828646272420883,
          0.1093546599149704,
          0.10935678333044052,
          0.10937932133674622,
          0.10940185934305191,
          0.11021947860717773,
          0.11037686467170715,
          0.11047133803367615,
          0.11049685627222061,
          0.11090318858623505,
          0.11143308132886887,
          0.11168514937162399,
          0.11169875413179398,
          0.11235783249139786,
          0.11330007761716843,
          0.11368075758218765,
          0.11397545784711838,
          0.11403205245733261,
          0.11418722569942474,
          0.1147969514131546,
          0.1149950921535492,
          0.11550503224134445,
          0.11563551425933838,
          0.11568211764097214,
          0.11576501280069351,
          0.11580250412225723,
          0.11586620658636093,
          0.11613742262125015,
          0.11618023365736008,
          0.11621057987213135,
          0.11671209335327148,
          0.11674139648675919,
          0.1170022115111351,
          0.1170155331492424,
          0.11726242303848267,
          0.11728671193122864,
          0.11731868982315063,
          0.11734522134065628,
          0.11755071580410004,
          0.11805407702922821,
          0.11813388019800186,
          0.11883673071861267,
          0.11883987486362457,
          0.11884574592113495,
          0.11908947676420212,
          0.11922433227300644,
          0.12101177871227264,
          0.12154769152402878,
          0.12166934460401535,
          0.1226879432797432,
          0.1226952001452446,
          0.12293463200330734,
          0.1229415237903595,
          0.1229482963681221,
          0.12295513600111008,
          0.12297568470239639,
          0.12310567498207092,
          0.12326611578464508,
          0.12414231896400452,
          0.12430039048194885,
          0.12463279813528061,
          0.12472206354141235,
          0.12536780536174774,
          0.12552881240844727,
          0.1255834549665451,
          0.12569068372249603,
          0.12571901082992554,
          0.1258043646812439,
          0.12590853869915009,
          0.12602050602436066,
          0.1262921243906021,
          0.12709389626979828,
          0.12749578058719635,
          0.1278119683265686,
          0.12799258530139923,
          0.12812994420528412,
          0.12860870361328125,
          0.12880362570285797,
          0.12897326052188873,
          0.12950655817985535,
          0.1303776651620865,
          0.13045744597911835,
          0.1306334137916565,
          0.1307385116815567,
          0.1308809369802475,
          0.13088911771774292,
          0.13090264797210693,
          0.13119752705097198,
          0.13119837641716003,
          0.13142021000385284,
          0.13164936006069183,
          0.1322096735239029,
          0.1338551640510559,
          0.13391265273094177,
          0.13529163599014282,
          0.13561755418777466,
          0.1367042362689972,
          0.13699495792388916,
          0.13763903081417084,
          0.13766540586948395,
          0.13783860206604004,
          0.13861842453479767,
          0.1387288123369217,
          0.14012980461120605,
          0.14037694036960602,
          0.14037708938121796,
          0.14101260900497437,
          0.14102235436439514,
          0.1419278234243393,
          0.14219582080841064,
          0.1422950178384781,
          0.14387480914592743,
          0.1439744383096695,
          0.1443871259689331,
          0.14475694298744202,
          0.14503000676631927,
          0.14508120715618134,
          0.14518345892429352,
          0.1456078588962555,
          0.1456524282693863,
          0.14570681750774384,
          0.14580979943275452,
          0.1460111439228058,
          0.1460184007883072,
          0.14634297788143158,
          0.14718300104141235,
          0.14759251475334167,
          0.1476396918296814,
          0.1482173055410385,
          0.14858074486255646,
          0.14862029254436493,
          0.148787260055542,
          0.14972592890262604,
          0.15122613310813904,
          0.1539183408021927,
          0.15709196031093597,
          0.15726274251937866,
          0.15738099813461304,
          0.15879185497760773,
          0.1639295369386673,
          0.16406363248825073,
          0.16428229212760925,
          0.16462428867816925,
          0.1647779792547226,
          0.16486285626888275,
          0.16856257617473602,
          0.1723920702934265,
          0.1733275055885315,
          0.17409656941890717,
          0.17600443959236145,
          0.17777875065803528,
          0.183733731508255,
          0.1876838356256485,
          0.19170188903808594,
          0.2047661989927292,
          0.21020351350307465,
          0.21424482762813568,
          0.2194400280714035,
          0.222540944814682,
          0.22860243916511536,
          0.23368440568447113,
          0.2349403202533722,
          0.2385169416666031,
          0.23939365148544312,
          0.23954550921916962,
          0.24259789288043976,
          0.24280473589897156,
          0.24525758624076843,
          0.24749013781547546,
          0.24844138324260712,
          0.25351789593696594,
          0.2553214430809021,
          0.26502853631973267,
          0.2657504677772522,
          0.2679888606071472,
          0.27198660373687744,
          0.2721938490867615,
          0.27257847785949707,
          0.2731466591358185,
          0.27673619985580444,
          0.2816270887851715,
          0.2870419919490814,
          0.28854382038116455,
          0.2888459265232086,
          0.29032135009765625,
          0.2930538058280945,
          0.29714998602867126,
          0.2995739281177521,
          0.30079928040504456,
          0.302724152803421,
          0.3047177791595459,
          0.312574565410614,
          0.31281962990760803,
          0.3134249746799469,
          0.3135610818862915,
          0.31512272357940674,
          0.3168337941169739,
          0.3214985132217407,
          0.32221415638923645,
          0.32281824946403503,
          0.3269939124584198,
          0.3286089599132538,
          0.32893815636634827,
          0.3307128846645355,
          0.33088821172714233,
          0.33497947454452515,
          0.3417930006980896,
          0.34449952840805054,
          0.34544432163238525,
          0.3466939926147461,
          0.34699371457099915,
          0.3475058376789093,
          0.3487149477005005,
          0.3523116111755371,
          0.3595682978630066,
          0.3602776825428009,
          0.3608749806880951,
          0.3611637055873871,
          0.36567726731300354,
          0.3685026168823242,
          0.37408727407455444,
          0.3770432472229004,
          0.37887588143348694,
          0.3792576491832733,
          0.38408994674682617,
          0.3913552463054657,
          0.3957407772541046,
          0.4005749225616455,
          0.403157114982605,
          0.40319305658340454,
          0.4045611023902893,
          0.41898250579833984,
          0.42177721858024597,
          0.42413529753685,
          0.445227712392807,
          0.4464940130710602,
          0.4511677026748657,
          0.4523721933364868,
          0.45460498332977295,
          0.46006423234939575,
          0.46088486909866333,
          0.46722471714019775,
          0.4691409170627594,
          0.4712567627429962,
          0.47187817096710205,
          0.47608357667922974,
          0.4810432195663452,
          0.4869454801082611,
          0.49022939801216125,
          0.49599841237068176,
          0.4988684356212616,
          0.5003873109817505,
          0.5017032027244568,
          0.5038608312606812,
          0.5042935609817505,
          0.5058344006538391,
          0.5065616965293884,
          0.5069461464881897,
          0.5197991728782654,
          0.5207419395446777,
          0.5341488718986511,
          0.5360401272773743,
          0.5360770225524902,
          0.5386061668395996,
          0.5393436551094055,
          0.5472363829612732,
          0.548976480960846,
          0.5504201054573059,
          0.5588778853416443,
          0.5603967905044556,
          0.5617638826370239,
          0.5639723539352417,
          0.5691057443618774,
          0.5758374333381653,
          0.5777168273925781,
          0.5778802037239075,
          0.579257607460022,
          0.5820630192756653,
          0.582080066204071,
          0.5824785828590393,
          0.5920987725257874,
          0.595868706703186,
          0.5984096527099609,
          0.5984528064727783,
          0.6039809584617615,
          0.608614981174469,
          0.6086225509643555,
          0.6130183339118958,
          0.6134580373764038,
          0.6141456961631775,
          0.6152480840682983,
          0.6432651877403259,
          0.6474416851997375,
          0.6497082710266113,
          0.6569846868515015,
          0.668971836566925,
          0.6763773560523987,
          0.6842040419578552,
          0.692163348197937,
          0.708861231803894,
          0.7177786231040955,
          0.7236846685409546,
          0.7464759945869446,
          0.7469974160194397,
          0.7473552823066711,
          0.7667083740234375,
          0.7688888907432556,
          0.7844893932342529,
          0.786188006401062,
          0.7927462458610535,
          0.7928147315979004,
          0.7997027039527893,
          0.8012732267379761,
          0.8078449368476868,
          0.8078738451004028,
          0.8079598546028137,
          0.8085048794746399,
          0.8087964057922363,
          0.8088482618331909,
          0.8106150031089783,
          0.8137677311897278,
          0.819202184677124,
          0.8245338201522827,
          0.8251814842224121,
          0.8335269689559937,
          0.8356404304504395,
          0.8406141400337219,
          0.847265362739563,
          0.8473677635192871,
          0.8509171009063721,
          0.8639475703239441,
          0.867163360118866,
          0.8734694719314575,
          0.8744926452636719,
          0.8753623366355896,
          0.8763852715492249,
          0.8773755431175232,
          0.877582311630249,
          0.8817474246025085,
          0.8822125792503357,
          0.8833754658699036,
          0.8844009637832642,
          0.8871170282363892,
          0.8923925757408142,
          0.8927341103553772,
          0.8928490281105042,
          0.8941943645477295,
          0.901611864566803,
          0.9037005305290222,
          0.9050198793411255,
          0.9050474166870117,
          0.909850537776947,
          0.9137852191925049,
          0.9158570766448975,
          0.9163731336593628,
          0.9170870780944824,
          0.9207816123962402,
          0.9283031225204468,
          0.9386666417121887,
          0.9386927485466003,
          0.9397869110107422,
          0.943528413772583,
          0.9438499808311462,
          0.945540726184845,
          0.9474151730537415,
          0.9475622773170471,
          0.9500395059585571,
          0.9516862630844116,
          0.9533820748329163,
          0.9536800384521484,
          0.9553674459457397,
          0.957472562789917,
          0.9606497883796692,
          0.9618535041809082,
          0.9635987877845764,
          0.9639980792999268,
          0.9690219759941101,
          0.9692919850349426,
          0.969879686832428,
          0.9700535535812378,
          0.9700714945793152,
          0.9714653491973877,
          0.9717121124267578,
          0.9720708727836609,
          0.9725748300552368,
          0.9728321433067322,
          0.9762008786201477,
          0.9788768291473389,
          0.9790913462638855,
          0.979927659034729,
          0.9811434745788574,
          0.9819297790527344,
          0.9825127124786377,
          0.9830173850059509,
          0.984273374080658,
          0.9849945902824402,
          0.9868006110191345,
          0.9874247312545776,
          0.9874725937843323,
          0.9876568913459778,
          0.9879083633422852,
          0.9881826639175415,
          0.9883848428726196,
          0.989022970199585,
          0.9894220232963562,
          0.9895150065422058,
          0.9895317554473877,
          0.9902684688568115,
          0.9906192421913147,
          0.9907895922660828,
          0.9910464882850647,
          0.9920705556869507,
          0.9928701519966125,
          0.9945324659347534,
          0.9945381283760071,
          0.9947548508644104,
          0.9948698878288269,
          0.9949963092803955,
          0.9950758218765259,
          0.9952162504196167,
          0.9956525564193726,
          0.9962348937988281,
          0.9969253540039062,
          0.9974892735481262,
          0.9976001381874084,
          0.9976996183395386,
          0.9979274868965149,
          0.9980978965759277,
          0.9981099367141724,
          0.9984663128852844,
          0.9984915256500244,
          0.9985617995262146,
          0.9986861348152161,
          0.9987111687660217,
          0.9989349842071533,
          0.999075710773468,
          0.9991200566291809,
          0.9991292953491211,
          0.9991695284843445,
          0.9991730451583862,
          0.9991951584815979,
          0.9992476105690002,
          0.9992814064025879,
          0.9992916584014893,
          0.9993097186088562,
          0.9993292093276978,
          0.9993318915367126,
          0.9993418455123901,
          0.9994213581085205,
          0.9994293451309204,
          0.9994397163391113,
          0.9994404911994934,
          0.9994431138038635,
          0.9994521737098694,
          0.9994537234306335,
          0.9994958639144897,
          0.9994979500770569,
          0.9995142817497253,
          0.9995189905166626,
          0.9995330572128296,
          0.9995496273040771,
          0.9996053576469421,
          0.9996973872184753,
          0.9997664093971252,
          0.9997707009315491,
          0.9997855424880981,
          0.9998072981834412,
          0.9998536705970764,
          0.999856173992157,
          0.9998688101768494,
          0.9998851418495178,
          0.9999105334281921,
          0.9999493360519409,
          0.9999739527702332,
          0.9999865293502808,
          0.9999895095825195,
          0.9999974370002747,
          0.9999985694885254,
          0.9999998211860657,
          1
         ],
         "y": [
          1,
          0.9963369963369964,
          0.9963369963369964,
          0.9963369963369964,
          0.9963369963369964,
          0.9963369963369964,
          0.9926739926739927,
          0.9926739926739927,
          0.9926739926739927,
          0.9926739926739927,
          0.9926739926739927,
          0.9926739926739927,
          0.9926739926739927,
          0.989010989010989,
          0.989010989010989,
          0.989010989010989,
          0.989010989010989,
          0.989010989010989,
          0.989010989010989,
          0.989010989010989,
          0.989010989010989,
          0.989010989010989,
          0.989010989010989,
          0.989010989010989,
          0.989010989010989,
          0.9853479853479854,
          0.9853479853479854,
          0.9853479853479854,
          0.9853479853479854,
          0.9853479853479854,
          0.9853479853479854,
          0.9853479853479854,
          0.9853479853479854,
          0.9853479853479854,
          0.9853479853479854,
          0.9853479853479854,
          0.9853479853479854,
          0.9853479853479854,
          0.9853479853479854,
          0.9853479853479854,
          0.9853479853479854,
          0.9853479853479854,
          0.9853479853479854,
          0.9853479853479854,
          0.9853479853479854,
          0.9853479853479854,
          0.9853479853479854,
          0.9853479853479854,
          0.9853479853479854,
          0.9853479853479854,
          0.9853479853479854,
          0.9816849816849816,
          0.9816849816849816,
          0.978021978021978,
          0.978021978021978,
          0.978021978021978,
          0.978021978021978,
          0.978021978021978,
          0.978021978021978,
          0.978021978021978,
          0.978021978021978,
          0.978021978021978,
          0.978021978021978,
          0.978021978021978,
          0.978021978021978,
          0.978021978021978,
          0.978021978021978,
          0.978021978021978,
          0.978021978021978,
          0.978021978021978,
          0.978021978021978,
          0.978021978021978,
          0.9743589743589743,
          0.9743589743589743,
          0.9743589743589743,
          0.9743589743589743,
          0.9743589743589743,
          0.9743589743589743,
          0.9743589743589743,
          0.9706959706959707,
          0.9706959706959707,
          0.9706959706959707,
          0.9706959706959707,
          0.9706959706959707,
          0.9706959706959707,
          0.9706959706959707,
          0.9706959706959707,
          0.9706959706959707,
          0.9706959706959707,
          0.9706959706959707,
          0.9706959706959707,
          0.9706959706959707,
          0.9706959706959707,
          0.9706959706959707,
          0.9706959706959707,
          0.967032967032967,
          0.967032967032967,
          0.967032967032967,
          0.967032967032967,
          0.967032967032967,
          0.967032967032967,
          0.967032967032967,
          0.9633699633699634,
          0.9633699633699634,
          0.9633699633699634,
          0.9633699633699634,
          0.9633699633699634,
          0.9633699633699634,
          0.9597069597069597,
          0.9597069597069597,
          0.9597069597069597,
          0.9597069597069597,
          0.9597069597069597,
          0.9597069597069597,
          0.9597069597069597,
          0.9597069597069597,
          0.9597069597069597,
          0.9597069597069597,
          0.9560439560439561,
          0.9560439560439561,
          0.9523809523809523,
          0.9523809523809523,
          0.9523809523809523,
          0.9523809523809523,
          0.9523809523809523,
          0.9523809523809523,
          0.9487179487179487,
          0.9487179487179487,
          0.9487179487179487,
          0.9487179487179487,
          0.9487179487179487,
          0.945054945054945,
          0.945054945054945,
          0.945054945054945,
          0.9413919413919414,
          0.9413919413919414,
          0.9413919413919414,
          0.9413919413919414,
          0.9377289377289377,
          0.9377289377289377,
          0.9377289377289377,
          0.9340659340659341,
          0.9340659340659341,
          0.9340659340659341,
          0.9340659340659341,
          0.9340659340659341,
          0.9340659340659341,
          0.9340659340659341,
          0.9340659340659341,
          0.9340659340659341,
          0.9340659340659341,
          0.9340659340659341,
          0.9340659340659341,
          0.9340659340659341,
          0.9340659340659341,
          0.9340659340659341,
          0.9340659340659341,
          0.9340659340659341,
          0.9304029304029304,
          0.9304029304029304,
          0.9304029304029304,
          0.9304029304029304,
          0.9304029304029304,
          0.9304029304029304,
          0.9304029304029304,
          0.9304029304029304,
          0.9304029304029304,
          0.9267399267399268,
          0.9267399267399268,
          0.9230769230769231,
          0.9230769230769231,
          0.9230769230769231,
          0.9230769230769231,
          0.9194139194139194,
          0.9194139194139194,
          0.9194139194139194,
          0.9194139194139194,
          0.9194139194139194,
          0.9194139194139194,
          0.9157509157509157,
          0.9157509157509157,
          0.9157509157509157,
          0.9120879120879121,
          0.9120879120879121,
          0.9120879120879121,
          0.9120879120879121,
          0.9120879120879121,
          0.9120879120879121,
          0.9120879120879121,
          0.9084249084249084,
          0.9084249084249084,
          0.9084249084249084,
          0.9084249084249084,
          0.9084249084249084,
          0.9047619047619048,
          0.9047619047619048,
          0.9047619047619048,
          0.9047619047619048,
          0.9047619047619048,
          0.9010989010989011,
          0.9010989010989011,
          0.9010989010989011,
          0.9010989010989011,
          0.9010989010989011,
          0.9010989010989011,
          0.9010989010989011,
          0.9010989010989011,
          0.9010989010989011,
          0.9010989010989011,
          0.9010989010989011,
          0.9010989010989011,
          0.9010989010989011,
          0.9010989010989011,
          0.9010989010989011,
          0.9010989010989011,
          0.9010989010989011,
          0.9010989010989011,
          0.9010989010989011,
          0.9010989010989011,
          0.9010989010989011,
          0.9010989010989011,
          0.9010989010989011,
          0.9010989010989011,
          0.8974358974358975,
          0.8974358974358975,
          0.8974358974358975,
          0.8974358974358975,
          0.8937728937728938,
          0.8937728937728938,
          0.8937728937728938,
          0.8937728937728938,
          0.8937728937728938,
          0.8937728937728938,
          0.8937728937728938,
          0.8937728937728938,
          0.8937728937728938,
          0.8901098901098901,
          0.8901098901098901,
          0.8901098901098901,
          0.8901098901098901,
          0.8901098901098901,
          0.8901098901098901,
          0.8901098901098901,
          0.8901098901098901,
          0.8901098901098901,
          0.8901098901098901,
          0.8864468864468864,
          0.8864468864468864,
          0.8864468864468864,
          0.8864468864468864,
          0.8864468864468864,
          0.8827838827838828,
          0.8791208791208791,
          0.8791208791208791,
          0.8791208791208791,
          0.8791208791208791,
          0.8791208791208791,
          0.8754578754578755,
          0.8754578754578755,
          0.8717948717948718,
          0.8681318681318682,
          0.8681318681318682,
          0.8681318681318682,
          0.8644688644688645,
          0.8644688644688645,
          0.8608058608058609,
          0.8608058608058609,
          0.8608058608058609,
          0.8571428571428571,
          0.8571428571428571,
          0.8571428571428571,
          0.8571428571428571,
          0.8571428571428571,
          0.8534798534798534,
          0.8534798534798534,
          0.8498168498168498,
          0.8498168498168498,
          0.8498168498168498,
          0.8461538461538461,
          0.8461538461538461,
          0.8461538461538461,
          0.8461538461538461,
          0.8424908424908425,
          0.8388278388278388,
          0.8388278388278388,
          0.8351648351648352,
          0.8351648351648352,
          0.8315018315018315,
          0.8315018315018315,
          0.8315018315018315,
          0.8315018315018315,
          0.8278388278388278,
          0.8278388278388278,
          0.8278388278388278,
          0.8278388278388278,
          0.8278388278388278,
          0.8241758241758241,
          0.8241758241758241,
          0.8241758241758241,
          0.8205128205128205,
          0.8205128205128205,
          0.8205128205128205,
          0.8205128205128205,
          0.8205128205128205,
          0.8168498168498168,
          0.8168498168498168,
          0.8131868131868132,
          0.8095238095238095,
          0.8058608058608059,
          0.8058608058608059,
          0.8021978021978022,
          0.8021978021978022,
          0.8021978021978022,
          0.7985347985347986,
          0.7948717948717948,
          0.7912087912087912,
          0.7875457875457875,
          0.7875457875457875,
          0.7802197802197802,
          0.7765567765567766,
          0.7765567765567766,
          0.7728937728937729,
          0.7692307692307693,
          0.7655677655677655,
          0.7582417582417582,
          0.7545787545787546,
          0.7509157509157509,
          0.7472527472527473,
          0.7435897435897436,
          0.73992673992674,
          0.73992673992674,
          0.73992673992674,
          0.7362637362637363,
          0.7326007326007326,
          0.7326007326007326,
          0.7326007326007326,
          0.7326007326007326,
          0.7326007326007326,
          0.7289377289377289,
          0.7289377289377289,
          0.7289377289377289,
          0.7252747252747253,
          0.7252747252747253,
          0.7216117216117216,
          0.717948717948718,
          0.717948717948718,
          0.717948717948718,
          0.7142857142857143,
          0.7106227106227107,
          0.706959706959707,
          0.706959706959707,
          0.7032967032967034,
          0.6996336996336996,
          0.6959706959706959,
          0.6959706959706959,
          0.6959706959706959,
          0.6923076923076923,
          0.6886446886446886,
          0.6886446886446886,
          0.684981684981685,
          0.6813186813186813,
          0.6813186813186813,
          0.6776556776556777,
          0.6776556776556777,
          0.673992673992674,
          0.6703296703296703,
          0.6703296703296703,
          0.6666666666666666,
          0.663003663003663,
          0.6593406593406593,
          0.6556776556776557,
          0.652014652014652,
          0.652014652014652,
          0.6483516483516484,
          0.6446886446886447,
          0.6410256410256411,
          0.6373626373626373,
          0.6336996336996337,
          0.63003663003663,
          0.6263736263736264,
          0.6227106227106227,
          0.6227106227106227,
          0.6190476190476191,
          0.6190476190476191,
          0.6153846153846154,
          0.6117216117216118,
          0.5934065934065934,
          0.5897435897435898,
          0.5860805860805861,
          0.575091575091575,
          0.575091575091575,
          0.575091575091575,
          0.5714285714285714,
          0.5677655677655677,
          0.5677655677655677,
          0.5641025641025641,
          0.5604395604395604,
          0.5567765567765568,
          0.5531135531135531,
          0.5494505494505495,
          0.5457875457875457,
          0.5421245421245421,
          0.5384615384615384,
          0.5347985347985348,
          0.5311355311355311,
          0.5274725274725275,
          0.5238095238095238,
          0.5201465201465202,
          0.5164835164835165,
          0.5128205128205128,
          0.5091575091575091,
          0.5054945054945055,
          0.5018315018315018,
          0.5018315018315018,
          0.4945054945054945,
          0.4945054945054945,
          0.4908424908424908,
          0.48717948717948717,
          0.4835164835164835,
          0.47985347985347987,
          0.47619047619047616,
          0.47619047619047616,
          0.4725274725274725,
          0.46886446886446886,
          0.4652014652014652,
          0.46153846153846156,
          0.45787545787545786,
          0.4542124542124542,
          0.45054945054945056,
          0.4468864468864469,
          0.4432234432234432,
          0.43956043956043955,
          0.4358974358974359,
          0.43223443223443225,
          0.42857142857142855,
          0.4249084249084249,
          0.42124542124542125,
          0.4175824175824176,
          0.4139194139194139,
          0.41025641025641024,
          0.4065934065934066,
          0.40293040293040294,
          0.3992673992673993,
          0.3956043956043956,
          0.39194139194139194,
          0.3882783882783883,
          0.38461538461538464,
          0.38095238095238093,
          0.37362637362637363,
          0.36996336996337,
          0.3663003663003663,
          0.3626373626373626,
          0.358974358974359,
          0.3553113553113553,
          0.3516483516483517,
          0.34798534798534797,
          0.3443223443223443,
          0.34065934065934067,
          0.336996336996337,
          0.3333333333333333,
          0.32967032967032966,
          0.326007326007326,
          0.32234432234432236,
          0.31868131868131866,
          0.315018315018315,
          0.31135531135531136,
          0.3076923076923077,
          0.304029304029304,
          0.30036630036630035,
          0.2967032967032967,
          0.29304029304029305,
          0.2893772893772894,
          0.2857142857142857,
          0.28205128205128205,
          0.2783882783882784,
          0.27472527472527475,
          0.27106227106227104,
          0.2673992673992674,
          0.26373626373626374,
          0.2600732600732601,
          0.2564102564102564,
          0.25274725274725274,
          0.2490842490842491,
          0.2454212454212454,
          0.24175824175824176,
          0.23809523809523808,
          0.23443223443223443,
          0.23076923076923078,
          0.2271062271062271,
          0.22344322344322345,
          0.21978021978021978,
          0.21611721611721613,
          0.21245421245421245,
          0.2087912087912088,
          0.20512820512820512,
          0.20146520146520147,
          0.1978021978021978,
          0.19413919413919414,
          0.19047619047619047,
          0.18681318681318682,
          0.18315018315018314,
          0.1794871794871795,
          0.17582417582417584,
          0.17216117216117216,
          0.1684981684981685,
          0.16483516483516483,
          0.16117216117216118,
          0.1575091575091575,
          0.15384615384615385,
          0.15018315018315018,
          0.14652014652014653,
          0.14285714285714285,
          0.1391941391941392,
          0.13553113553113552,
          0.13186813186813187,
          0.1282051282051282,
          0.12454212454212454,
          0.12087912087912088,
          0.11721611721611722,
          0.11355311355311355,
          0.10989010989010989,
          0.10622710622710622,
          0.10256410256410256,
          0.0989010989010989,
          0.09523809523809523,
          0.09157509157509157,
          0.08791208791208792,
          0.08424908424908426,
          0.08058608058608059,
          0.07692307692307693,
          0.07326007326007326,
          0.0695970695970696,
          0.06593406593406594,
          0.06227106227106227,
          0.05860805860805861,
          0.054945054945054944,
          0.05128205128205128,
          0.047619047619047616,
          0.04395604395604396,
          0.040293040293040296,
          0.03663003663003663,
          0.03296703296703297,
          0.029304029304029304,
          0.02564102564102564,
          0.02197802197802198,
          0.018315018315018316,
          0.014652014652014652,
          0.01098901098901099,
          0.007326007326007326,
          0.003663003663003663
         ]
        },
        {
         "line": {
          "color": "#062635"
         },
         "name": "Test Recall",
         "type": "scatter",
         "x": [
          0.029688967391848564,
          0.032902609556913376,
          0.03490624949336052,
          0.03924383595585823,
          0.04228543862700462,
          0.0432247556746006,
          0.04599694535136223,
          0.051284607499837875,
          0.053841687738895416,
          0.06132245808839798,
          0.06307294964790344,
          0.06374022364616394,
          0.06531708687543869,
          0.07400849461555481,
          0.07551366090774536,
          0.07627653330564499,
          0.07939349114894867,
          0.08256055414676666,
          0.08505222201347351,
          0.08653073757886887,
          0.09023930132389069,
          0.09250404685735703,
          0.09282415360212326,
          0.09328821301460266,
          0.09609177708625793,
          0.09853147715330124,
          0.1000128909945488,
          0.10190944373607635,
          0.10484015941619873,
          0.10515816509723663,
          0.1081356480717659,
          0.1099756509065628,
          0.11176855862140656,
          0.11195459216833115,
          0.11307094246149063,
          0.11550503224134445,
          0.11618023365736008,
          0.11671209335327148,
          0.11692829430103302,
          0.11755071580410004,
          0.11813388019800186,
          0.11857122927904129,
          0.11975548416376114,
          0.12152034789323807,
          0.12181775271892548,
          0.12297568470239639,
          0.12815560400485992,
          0.12973935902118683,
          0.1308809369802475,
          0.1322096735239029,
          0.13506339490413666,
          0.1351121962070465,
          0.13514719903469086,
          0.14036980271339417,
          0.1460111439228058,
          0.14634297788143158,
          0.1475357562303543,
          0.15047146379947662,
          0.1591489315032959,
          0.16471335291862488,
          0.1689784973859787,
          0.1724119782447815,
          0.17775022983551025,
          0.1845896989107132,
          0.18692907691001892,
          0.19058361649513245,
          0.19091172516345978,
          0.19534233212471008,
          0.2068503201007843,
          0.21424482762813568,
          0.21937650442123413,
          0.23301199078559875,
          0.23911669850349426,
          0.24929995834827423,
          0.2519887089729309,
          0.26451465487480164,
          0.2790852189064026,
          0.2807823419570923,
          0.29195091128349304,
          0.302724152803421,
          0.30881187319755554,
          0.3097686767578125,
          0.3116578459739685,
          0.31490615010261536,
          0.31512272357940674,
          0.33069419860839844,
          0.3474043011665344,
          0.3524302542209625,
          0.3603229522705078,
          0.3611637055873871,
          0.37159866094589233,
          0.39659127593040466,
          0.40009185671806335,
          0.42682695388793945,
          0.42688390612602234,
          0.4496987462043762,
          0.4558123052120209,
          0.4658205807209015,
          0.46706438064575195,
          0.4691409170627594,
          0.47287607192993164,
          0.4869454801082611,
          0.4969753324985504,
          0.4985933005809784,
          0.513762354850769,
          0.5141242742538452,
          0.5182715058326721,
          0.5803182125091553,
          0.5824785828590393,
          0.594017744064331,
          0.6288468241691589,
          0.6289382576942444,
          0.6474692821502686,
          0.7029348015785217,
          0.7464759945869446,
          0.7677439451217651,
          0.7688888907432556,
          0.8070796132087708,
          0.8079598546028137,
          0.8082181811332703,
          0.8133285641670227,
          0.8338815569877625,
          0.873281717300415,
          0.878054678440094,
          0.8947035074234009,
          0.9037005305290222,
          0.9148911237716675,
          0.9288907647132874,
          0.931218147277832,
          0.93527752161026,
          0.9433189630508423,
          0.9450863599777222,
          0.9567158818244934,
          0.9677785634994507,
          0.9711753129959106,
          0.9720708727836609,
          0.9729122519493103,
          0.9749475121498108,
          0.9774129390716553,
          0.9780170917510986,
          0.9790913462638855,
          0.9831225872039795,
          0.9872031807899475,
          0.9874001741409302,
          0.9897556900978088,
          0.990715503692627,
          0.9908942580223083,
          0.9923542737960815,
          0.9934109449386597,
          0.9980978965759277,
          0.9988352060317993,
          0.9988932013511658,
          0.9989402890205383,
          0.9995356202125549,
          0.9995936155319214,
          0.9996280670166016,
          0.9997137784957886,
          0.9999673366546631,
          0.9999728798866272
         ],
         "y": [
          1,
          0.9855072463768116,
          0.9855072463768116,
          0.9855072463768116,
          0.9855072463768116,
          0.9855072463768116,
          0.9855072463768116,
          0.9855072463768116,
          0.9710144927536232,
          0.9710144927536232,
          0.9710144927536232,
          0.9710144927536232,
          0.9710144927536232,
          0.9710144927536232,
          0.9710144927536232,
          0.9710144927536232,
          0.9565217391304348,
          0.9565217391304348,
          0.9565217391304348,
          0.9565217391304348,
          0.9565217391304348,
          0.9565217391304348,
          0.9565217391304348,
          0.9565217391304348,
          0.9565217391304348,
          0.9420289855072463,
          0.927536231884058,
          0.927536231884058,
          0.927536231884058,
          0.927536231884058,
          0.927536231884058,
          0.927536231884058,
          0.927536231884058,
          0.927536231884058,
          0.9130434782608695,
          0.9130434782608695,
          0.9130434782608695,
          0.9130434782608695,
          0.9130434782608695,
          0.8985507246376812,
          0.8985507246376812,
          0.8985507246376812,
          0.8985507246376812,
          0.8985507246376812,
          0.8985507246376812,
          0.8985507246376812,
          0.8985507246376812,
          0.8985507246376812,
          0.8985507246376812,
          0.8985507246376812,
          0.8985507246376812,
          0.8985507246376812,
          0.8985507246376812,
          0.8985507246376812,
          0.8985507246376812,
          0.8985507246376812,
          0.8985507246376812,
          0.8985507246376812,
          0.8985507246376812,
          0.8985507246376812,
          0.8985507246376812,
          0.8985507246376812,
          0.8840579710144928,
          0.8840579710144928,
          0.8840579710144928,
          0.8840579710144928,
          0.8695652173913043,
          0.8695652173913043,
          0.855072463768116,
          0.855072463768116,
          0.8405797101449275,
          0.8405797101449275,
          0.8405797101449275,
          0.8405797101449275,
          0.8405797101449275,
          0.8405797101449275,
          0.8405797101449275,
          0.8260869565217391,
          0.8115942028985508,
          0.8115942028985508,
          0.7971014492753623,
          0.7971014492753623,
          0.782608695652174,
          0.782608695652174,
          0.7681159420289855,
          0.7681159420289855,
          0.7536231884057971,
          0.7536231884057971,
          0.7391304347826086,
          0.7391304347826086,
          0.7391304347826086,
          0.7391304347826086,
          0.7391304347826086,
          0.7391304347826086,
          0.7246376811594203,
          0.7101449275362319,
          0.6956521739130435,
          0.6811594202898551,
          0.6811594202898551,
          0.6666666666666666,
          0.6666666666666666,
          0.6666666666666666,
          0.6666666666666666,
          0.6666666666666666,
          0.6666666666666666,
          0.6521739130434783,
          0.6521739130434783,
          0.6376811594202898,
          0.6376811594202898,
          0.6376811594202898,
          0.6231884057971014,
          0.6231884057971014,
          0.6086956521739131,
          0.6086956521739131,
          0.5942028985507246,
          0.5797101449275363,
          0.5652173913043478,
          0.5507246376811594,
          0.5507246376811594,
          0.5217391304347826,
          0.5072463768115942,
          0.5072463768115942,
          0.4927536231884058,
          0.4782608695652174,
          0.463768115942029,
          0.463768115942029,
          0.4492753623188406,
          0.43478260869565216,
          0.42028985507246375,
          0.4057971014492754,
          0.391304347826087,
          0.37681159420289856,
          0.36231884057971014,
          0.34782608695652173,
          0.3333333333333333,
          0.3188405797101449,
          0.2898550724637681,
          0.2898550724637681,
          0.2753623188405797,
          0.2608695652173913,
          0.2608695652173913,
          0.2608695652173913,
          0.2463768115942029,
          0.2318840579710145,
          0.21739130434782608,
          0.2028985507246377,
          0.18840579710144928,
          0.17391304347826086,
          0.15942028985507245,
          0.14492753623188406,
          0.13043478260869565,
          0.11594202898550725,
          0.10144927536231885,
          0.08695652173913043,
          0.07246376811594203,
          0.057971014492753624,
          0.043478260869565216,
          0.028985507246376812,
          0.014492753623188406
         ]
        }
       ],
       "layout": {
        "height": 500,
        "template": {
         "data": {
          "bar": [
           {
            "error_x": {
             "color": "#2a3f5f"
            },
            "error_y": {
             "color": "#2a3f5f"
            },
            "marker": {
             "line": {
              "color": "#E5ECF6",
              "width": 0.5
             },
             "pattern": {
              "fillmode": "overlay",
              "size": 10,
              "solidity": 0.2
             }
            },
            "type": "bar"
           }
          ],
          "barpolar": [
           {
            "marker": {
             "line": {
              "color": "#E5ECF6",
              "width": 0.5
             },
             "pattern": {
              "fillmode": "overlay",
              "size": 10,
              "solidity": 0.2
             }
            },
            "type": "barpolar"
           }
          ],
          "carpet": [
           {
            "aaxis": {
             "endlinecolor": "#2a3f5f",
             "gridcolor": "white",
             "linecolor": "white",
             "minorgridcolor": "white",
             "startlinecolor": "#2a3f5f"
            },
            "baxis": {
             "endlinecolor": "#2a3f5f",
             "gridcolor": "white",
             "linecolor": "white",
             "minorgridcolor": "white",
             "startlinecolor": "#2a3f5f"
            },
            "type": "carpet"
           }
          ],
          "choropleth": [
           {
            "colorbar": {
             "outlinewidth": 0,
             "ticks": ""
            },
            "type": "choropleth"
           }
          ],
          "contour": [
           {
            "colorbar": {
             "outlinewidth": 0,
             "ticks": ""
            },
            "colorscale": [
             [
              0,
              "#0d0887"
             ],
             [
              0.1111111111111111,
              "#46039f"
             ],
             [
              0.2222222222222222,
              "#7201a8"
             ],
             [
              0.3333333333333333,
              "#9c179e"
             ],
             [
              0.4444444444444444,
              "#bd3786"
             ],
             [
              0.5555555555555556,
              "#d8576b"
             ],
             [
              0.6666666666666666,
              "#ed7953"
             ],
             [
              0.7777777777777778,
              "#fb9f3a"
             ],
             [
              0.8888888888888888,
              "#fdca26"
             ],
             [
              1,
              "#f0f921"
             ]
            ],
            "type": "contour"
           }
          ],
          "contourcarpet": [
           {
            "colorbar": {
             "outlinewidth": 0,
             "ticks": ""
            },
            "type": "contourcarpet"
           }
          ],
          "heatmap": [
           {
            "colorbar": {
             "outlinewidth": 0,
             "ticks": ""
            },
            "colorscale": [
             [
              0,
              "#0d0887"
             ],
             [
              0.1111111111111111,
              "#46039f"
             ],
             [
              0.2222222222222222,
              "#7201a8"
             ],
             [
              0.3333333333333333,
              "#9c179e"
             ],
             [
              0.4444444444444444,
              "#bd3786"
             ],
             [
              0.5555555555555556,
              "#d8576b"
             ],
             [
              0.6666666666666666,
              "#ed7953"
             ],
             [
              0.7777777777777778,
              "#fb9f3a"
             ],
             [
              0.8888888888888888,
              "#fdca26"
             ],
             [
              1,
              "#f0f921"
             ]
            ],
            "type": "heatmap"
           }
          ],
          "heatmapgl": [
           {
            "colorbar": {
             "outlinewidth": 0,
             "ticks": ""
            },
            "colorscale": [
             [
              0,
              "#0d0887"
             ],
             [
              0.1111111111111111,
              "#46039f"
             ],
             [
              0.2222222222222222,
              "#7201a8"
             ],
             [
              0.3333333333333333,
              "#9c179e"
             ],
             [
              0.4444444444444444,
              "#bd3786"
             ],
             [
              0.5555555555555556,
              "#d8576b"
             ],
             [
              0.6666666666666666,
              "#ed7953"
             ],
             [
              0.7777777777777778,
              "#fb9f3a"
             ],
             [
              0.8888888888888888,
              "#fdca26"
             ],
             [
              1,
              "#f0f921"
             ]
            ],
            "type": "heatmapgl"
           }
          ],
          "histogram": [
           {
            "marker": {
             "pattern": {
              "fillmode": "overlay",
              "size": 10,
              "solidity": 0.2
             }
            },
            "type": "histogram"
           }
          ],
          "histogram2d": [
           {
            "colorbar": {
             "outlinewidth": 0,
             "ticks": ""
            },
            "colorscale": [
             [
              0,
              "#0d0887"
             ],
             [
              0.1111111111111111,
              "#46039f"
             ],
             [
              0.2222222222222222,
              "#7201a8"
             ],
             [
              0.3333333333333333,
              "#9c179e"
             ],
             [
              0.4444444444444444,
              "#bd3786"
             ],
             [
              0.5555555555555556,
              "#d8576b"
             ],
             [
              0.6666666666666666,
              "#ed7953"
             ],
             [
              0.7777777777777778,
              "#fb9f3a"
             ],
             [
              0.8888888888888888,
              "#fdca26"
             ],
             [
              1,
              "#f0f921"
             ]
            ],
            "type": "histogram2d"
           }
          ],
          "histogram2dcontour": [
           {
            "colorbar": {
             "outlinewidth": 0,
             "ticks": ""
            },
            "colorscale": [
             [
              0,
              "#0d0887"
             ],
             [
              0.1111111111111111,
              "#46039f"
             ],
             [
              0.2222222222222222,
              "#7201a8"
             ],
             [
              0.3333333333333333,
              "#9c179e"
             ],
             [
              0.4444444444444444,
              "#bd3786"
             ],
             [
              0.5555555555555556,
              "#d8576b"
             ],
             [
              0.6666666666666666,
              "#ed7953"
             ],
             [
              0.7777777777777778,
              "#fb9f3a"
             ],
             [
              0.8888888888888888,
              "#fdca26"
             ],
             [
              1,
              "#f0f921"
             ]
            ],
            "type": "histogram2dcontour"
           }
          ],
          "mesh3d": [
           {
            "colorbar": {
             "outlinewidth": 0,
             "ticks": ""
            },
            "type": "mesh3d"
           }
          ],
          "parcoords": [
           {
            "line": {
             "colorbar": {
              "outlinewidth": 0,
              "ticks": ""
             }
            },
            "type": "parcoords"
           }
          ],
          "pie": [
           {
            "automargin": true,
            "type": "pie"
           }
          ],
          "scatter": [
           {
            "marker": {
             "colorbar": {
              "outlinewidth": 0,
              "ticks": ""
             }
            },
            "type": "scatter"
           }
          ],
          "scatter3d": [
           {
            "line": {
             "colorbar": {
              "outlinewidth": 0,
              "ticks": ""
             }
            },
            "marker": {
             "colorbar": {
              "outlinewidth": 0,
              "ticks": ""
             }
            },
            "type": "scatter3d"
           }
          ],
          "scattercarpet": [
           {
            "marker": {
             "colorbar": {
              "outlinewidth": 0,
              "ticks": ""
             }
            },
            "type": "scattercarpet"
           }
          ],
          "scattergeo": [
           {
            "marker": {
             "colorbar": {
              "outlinewidth": 0,
              "ticks": ""
             }
            },
            "type": "scattergeo"
           }
          ],
          "scattergl": [
           {
            "marker": {
             "colorbar": {
              "outlinewidth": 0,
              "ticks": ""
             }
            },
            "type": "scattergl"
           }
          ],
          "scattermapbox": [
           {
            "marker": {
             "colorbar": {
              "outlinewidth": 0,
              "ticks": ""
             }
            },
            "type": "scattermapbox"
           }
          ],
          "scatterpolar": [
           {
            "marker": {
             "colorbar": {
              "outlinewidth": 0,
              "ticks": ""
             }
            },
            "type": "scatterpolar"
           }
          ],
          "scatterpolargl": [
           {
            "marker": {
             "colorbar": {
              "outlinewidth": 0,
              "ticks": ""
             }
            },
            "type": "scatterpolargl"
           }
          ],
          "scatterternary": [
           {
            "marker": {
             "colorbar": {
              "outlinewidth": 0,
              "ticks": ""
             }
            },
            "type": "scatterternary"
           }
          ],
          "surface": [
           {
            "colorbar": {
             "outlinewidth": 0,
             "ticks": ""
            },
            "colorscale": [
             [
              0,
              "#0d0887"
             ],
             [
              0.1111111111111111,
              "#46039f"
             ],
             [
              0.2222222222222222,
              "#7201a8"
             ],
             [
              0.3333333333333333,
              "#9c179e"
             ],
             [
              0.4444444444444444,
              "#bd3786"
             ],
             [
              0.5555555555555556,
              "#d8576b"
             ],
             [
              0.6666666666666666,
              "#ed7953"
             ],
             [
              0.7777777777777778,
              "#fb9f3a"
             ],
             [
              0.8888888888888888,
              "#fdca26"
             ],
             [
              1,
              "#f0f921"
             ]
            ],
            "type": "surface"
           }
          ],
          "table": [
           {
            "cells": {
             "fill": {
              "color": "#EBF0F8"
             },
             "line": {
              "color": "white"
             }
            },
            "header": {
             "fill": {
              "color": "#C8D4E3"
             },
             "line": {
              "color": "white"
             }
            },
            "type": "table"
           }
          ]
         },
         "layout": {
          "annotationdefaults": {
           "arrowcolor": "#2a3f5f",
           "arrowhead": 0,
           "arrowwidth": 1
          },
          "autotypenumbers": "strict",
          "coloraxis": {
           "colorbar": {
            "outlinewidth": 0,
            "ticks": ""
           }
          },
          "colorscale": {
           "diverging": [
            [
             0,
             "#8e0152"
            ],
            [
             0.1,
             "#c51b7d"
            ],
            [
             0.2,
             "#de77ae"
            ],
            [
             0.3,
             "#f1b6da"
            ],
            [
             0.4,
             "#fde0ef"
            ],
            [
             0.5,
             "#f7f7f7"
            ],
            [
             0.6,
             "#e6f5d0"
            ],
            [
             0.7,
             "#b8e186"
            ],
            [
             0.8,
             "#7fbc41"
            ],
            [
             0.9,
             "#4d9221"
            ],
            [
             1,
             "#276419"
            ]
           ],
           "sequential": [
            [
             0,
             "#0d0887"
            ],
            [
             0.1111111111111111,
             "#46039f"
            ],
            [
             0.2222222222222222,
             "#7201a8"
            ],
            [
             0.3333333333333333,
             "#9c179e"
            ],
            [
             0.4444444444444444,
             "#bd3786"
            ],
            [
             0.5555555555555556,
             "#d8576b"
            ],
            [
             0.6666666666666666,
             "#ed7953"
            ],
            [
             0.7777777777777778,
             "#fb9f3a"
            ],
            [
             0.8888888888888888,
             "#fdca26"
            ],
            [
             1,
             "#f0f921"
            ]
           ],
           "sequentialminus": [
            [
             0,
             "#0d0887"
            ],
            [
             0.1111111111111111,
             "#46039f"
            ],
            [
             0.2222222222222222,
             "#7201a8"
            ],
            [
             0.3333333333333333,
             "#9c179e"
            ],
            [
             0.4444444444444444,
             "#bd3786"
            ],
            [
             0.5555555555555556,
             "#d8576b"
            ],
            [
             0.6666666666666666,
             "#ed7953"
            ],
            [
             0.7777777777777778,
             "#fb9f3a"
            ],
            [
             0.8888888888888888,
             "#fdca26"
            ],
            [
             1,
             "#f0f921"
            ]
           ]
          },
          "colorway": [
           "#636efa",
           "#EF553B",
           "#00cc96",
           "#ab63fa",
           "#FFA15A",
           "#19d3f3",
           "#FF6692",
           "#B6E880",
           "#FF97FF",
           "#FECB52"
          ],
          "font": {
           "color": "#2a3f5f"
          },
          "geo": {
           "bgcolor": "white",
           "lakecolor": "white",
           "landcolor": "#E5ECF6",
           "showlakes": true,
           "showland": true,
           "subunitcolor": "white"
          },
          "hoverlabel": {
           "align": "left"
          },
          "hovermode": "closest",
          "mapbox": {
           "style": "light"
          },
          "paper_bgcolor": "white",
          "plot_bgcolor": "#E5ECF6",
          "polar": {
           "angularaxis": {
            "gridcolor": "white",
            "linecolor": "white",
            "ticks": ""
           },
           "bgcolor": "#E5ECF6",
           "radialaxis": {
            "gridcolor": "white",
            "linecolor": "white",
            "ticks": ""
           }
          },
          "scene": {
           "xaxis": {
            "backgroundcolor": "#E5ECF6",
            "gridcolor": "white",
            "gridwidth": 2,
            "linecolor": "white",
            "showbackground": true,
            "ticks": "",
            "zerolinecolor": "white"
           },
           "yaxis": {
            "backgroundcolor": "#E5ECF6",
            "gridcolor": "white",
            "gridwidth": 2,
            "linecolor": "white",
            "showbackground": true,
            "ticks": "",
            "zerolinecolor": "white"
           },
           "zaxis": {
            "backgroundcolor": "#E5ECF6",
            "gridcolor": "white",
            "gridwidth": 2,
            "linecolor": "white",
            "showbackground": true,
            "ticks": "",
            "zerolinecolor": "white"
           }
          },
          "shapedefaults": {
           "line": {
            "color": "#2a3f5f"
           }
          },
          "ternary": {
           "aaxis": {
            "gridcolor": "white",
            "linecolor": "white",
            "ticks": ""
           },
           "baxis": {
            "gridcolor": "white",
            "linecolor": "white",
            "ticks": ""
           },
           "bgcolor": "#E5ECF6",
           "caxis": {
            "gridcolor": "white",
            "linecolor": "white",
            "ticks": ""
           }
          },
          "title": {
           "x": 0.05
          },
          "xaxis": {
           "automargin": true,
           "gridcolor": "white",
           "linecolor": "white",
           "ticks": "",
           "title": {
            "standoff": 15
           },
           "zerolinecolor": "white",
           "zerolinewidth": 2
          },
          "yaxis": {
           "automargin": true,
           "gridcolor": "white",
           "linecolor": "white",
           "ticks": "",
           "title": {
            "standoff": 15
           },
           "zerolinecolor": "white",
           "zerolinewidth": 2
          }
         }
        },
        "title": {
         "text": "Precision-Recall curve"
        },
        "width": 900
       }
      },
      "text/html": [
       "<div>                            <div id=\"30213415-eb95-4d23-b594-c49a8b4b315c\" class=\"plotly-graph-div\" style=\"height:500px; width:900px;\"></div>            <script type=\"text/javascript\">                require([\"plotly\"], function(Plotly) {                    window.PLOTLYENV=window.PLOTLYENV || {};                                    if (document.getElementById(\"30213415-eb95-4d23-b594-c49a8b4b315c\")) {                    Plotly.newPlot(                        \"30213415-eb95-4d23-b594-c49a8b4b315c\",                        [{\"line\":{\"color\":\"#E88E2D\"},\"name\":\"Train Precision\",\"x\":[0.07298438251018524,0.0734342560172081,0.07363897562026978,0.0737064927816391,0.07451075315475464,0.07551366090774536,0.07661670446395874,0.0767672061920166,0.07709221541881561,0.07785271853208542,0.07827570289373398,0.08072042465209961,0.08092979341745377,0.08116133511066437,0.0813637301325798,0.08174290508031845,0.08236401528120041,0.08243764936923981,0.08255593478679657,0.0826704129576683,0.08303048461675644,0.08317746967077255,0.08320457488298416,0.08334808051586151,0.08334959298372269,0.08470147848129272,0.08493930101394653,0.08546682447195053,0.08551863580942154,0.08675000816583633,0.08687806874513626,0.08693942427635193,0.08719047904014587,0.08966461569070816,0.08988159149885178,0.08996900171041489,0.0901675671339035,0.09036953747272491,0.09044314175844193,0.09055669605731964,0.09125900268554688,0.09176639467477798,0.09199509024620056,0.09284783154726028,0.09426584839820862,0.098362997174263,0.09883248060941696,0.09889080375432968,0.10037873685359955,0.1008009985089302,0.10116735845804214,0.10166218876838684,0.1016964465379715,0.10170333832502365,0.10179267078638077,0.10190944373607635,0.10211583971977234,0.10212350636720657,0.10232192277908325,0.1027512401342392,0.10313282907009125,0.10430067777633667,0.1050257608294487,0.10508358478546143,0.10515816509723663,0.1054689809679985,0.10666941106319427,0.10703285038471222,0.10725332051515579,0.10740987956523895,0.10828646272420883,0.1093546599149704,0.10935678333044052,0.10937932133674622,0.10940185934305191,0.11021947860717773,0.11037686467170715,0.11047133803367615,0.11049685627222061,0.11090318858623505,0.11143308132886887,0.11168514937162399,0.11169875413179398,0.11235783249139786,0.11330007761716843,0.11368075758218765,0.11397545784711838,0.11403205245733261,0.11418722569942474,0.1147969514131546,0.1149950921535492,0.11550503224134445,0.11563551425933838,0.11568211764097214,0.11576501280069351,0.11580250412225723,0.11586620658636093,0.11613742262125015,0.11618023365736008,0.11621057987213135,0.11671209335327148,0.11674139648675919,0.1170022115111351,0.1170155331492424,0.11726242303848267,0.11728671193122864,0.11731868982315063,0.11734522134065628,0.11755071580410004,0.11805407702922821,0.11813388019800186,0.11883673071861267,0.11883987486362457,0.11884574592113495,0.11908947676420212,0.11922433227300644,0.12101177871227264,0.12154769152402878,0.12166934460401535,0.1226879432797432,0.1226952001452446,0.12293463200330734,0.1229415237903595,0.1229482963681221,0.12295513600111008,0.12297568470239639,0.12310567498207092,0.12326611578464508,0.12414231896400452,0.12430039048194885,0.12463279813528061,0.12472206354141235,0.12536780536174774,0.12552881240844727,0.1255834549665451,0.12569068372249603,0.12571901082992554,0.1258043646812439,0.12590853869915009,0.12602050602436066,0.1262921243906021,0.12709389626979828,0.12749578058719635,0.1278119683265686,0.12799258530139923,0.12812994420528412,0.12860870361328125,0.12880362570285797,0.12897326052188873,0.12950655817985535,0.1303776651620865,0.13045744597911835,0.1306334137916565,0.1307385116815567,0.1308809369802475,0.13088911771774292,0.13090264797210693,0.13119752705097198,0.13119837641716003,0.13142021000385284,0.13164936006069183,0.1322096735239029,0.1338551640510559,0.13391265273094177,0.13529163599014282,0.13561755418777466,0.1367042362689972,0.13699495792388916,0.13763903081417084,0.13766540586948395,0.13783860206604004,0.13861842453479767,0.1387288123369217,0.14012980461120605,0.14037694036960602,0.14037708938121796,0.14101260900497437,0.14102235436439514,0.1419278234243393,0.14219582080841064,0.1422950178384781,0.14387480914592743,0.1439744383096695,0.1443871259689331,0.14475694298744202,0.14503000676631927,0.14508120715618134,0.14518345892429352,0.1456078588962555,0.1456524282693863,0.14570681750774384,0.14580979943275452,0.1460111439228058,0.1460184007883072,0.14634297788143158,0.14718300104141235,0.14759251475334167,0.1476396918296814,0.1482173055410385,0.14858074486255646,0.14862029254436493,0.148787260055542,0.14972592890262604,0.15122613310813904,0.1539183408021927,0.15709196031093597,0.15726274251937866,0.15738099813461304,0.15879185497760773,0.1639295369386673,0.16406363248825073,0.16428229212760925,0.16462428867816925,0.1647779792547226,0.16486285626888275,0.16856257617473602,0.1723920702934265,0.1733275055885315,0.17409656941890717,0.17600443959236145,0.17777875065803528,0.183733731508255,0.1876838356256485,0.19170188903808594,0.2047661989927292,0.21020351350307465,0.21424482762813568,0.2194400280714035,0.222540944814682,0.22860243916511536,0.23368440568447113,0.2349403202533722,0.2385169416666031,0.23939365148544312,0.23954550921916962,0.24259789288043976,0.24280473589897156,0.24525758624076843,0.24749013781547546,0.24844138324260712,0.25351789593696594,0.2553214430809021,0.26502853631973267,0.2657504677772522,0.2679888606071472,0.27198660373687744,0.2721938490867615,0.27257847785949707,0.2731466591358185,0.27673619985580444,0.2816270887851715,0.2870419919490814,0.28854382038116455,0.2888459265232086,0.29032135009765625,0.2930538058280945,0.29714998602867126,0.2995739281177521,0.30079928040504456,0.302724152803421,0.3047177791595459,0.312574565410614,0.31281962990760803,0.3134249746799469,0.3135610818862915,0.31512272357940674,0.3168337941169739,0.3214985132217407,0.32221415638923645,0.32281824946403503,0.3269939124584198,0.3286089599132538,0.32893815636634827,0.3307128846645355,0.33088821172714233,0.33497947454452515,0.3417930006980896,0.34449952840805054,0.34544432163238525,0.3466939926147461,0.34699371457099915,0.3475058376789093,0.3487149477005005,0.3523116111755371,0.3595682978630066,0.3602776825428009,0.3608749806880951,0.3611637055873871,0.36567726731300354,0.3685026168823242,0.37408727407455444,0.3770432472229004,0.37887588143348694,0.3792576491832733,0.38408994674682617,0.3913552463054657,0.3957407772541046,0.4005749225616455,0.403157114982605,0.40319305658340454,0.4045611023902893,0.41898250579833984,0.42177721858024597,0.42413529753685,0.445227712392807,0.4464940130710602,0.4511677026748657,0.4523721933364868,0.45460498332977295,0.46006423234939575,0.46088486909866333,0.46722471714019775,0.4691409170627594,0.4712567627429962,0.47187817096710205,0.47608357667922974,0.4810432195663452,0.4869454801082611,0.49022939801216125,0.49599841237068176,0.4988684356212616,0.5003873109817505,0.5017032027244568,0.5038608312606812,0.5042935609817505,0.5058344006538391,0.5065616965293884,0.5069461464881897,0.5197991728782654,0.5207419395446777,0.5341488718986511,0.5360401272773743,0.5360770225524902,0.5386061668395996,0.5393436551094055,0.5472363829612732,0.548976480960846,0.5504201054573059,0.5588778853416443,0.5603967905044556,0.5617638826370239,0.5639723539352417,0.5691057443618774,0.5758374333381653,0.5777168273925781,0.5778802037239075,0.579257607460022,0.5820630192756653,0.582080066204071,0.5824785828590393,0.5920987725257874,0.595868706703186,0.5984096527099609,0.5984528064727783,0.6039809584617615,0.608614981174469,0.6086225509643555,0.6130183339118958,0.6134580373764038,0.6141456961631775,0.6152480840682983,0.6432651877403259,0.6474416851997375,0.6497082710266113,0.6569846868515015,0.668971836566925,0.6763773560523987,0.6842040419578552,0.692163348197937,0.708861231803894,0.7177786231040955,0.7236846685409546,0.7464759945869446,0.7469974160194397,0.7473552823066711,0.7667083740234375,0.7688888907432556,0.7844893932342529,0.786188006401062,0.7927462458610535,0.7928147315979004,0.7997027039527893,0.8012732267379761,0.8078449368476868,0.8078738451004028,0.8079598546028137,0.8085048794746399,0.8087964057922363,0.8088482618331909,0.8106150031089783,0.8137677311897278,0.819202184677124,0.8245338201522827,0.8251814842224121,0.8335269689559937,0.8356404304504395,0.8406141400337219,0.847265362739563,0.8473677635192871,0.8509171009063721,0.8639475703239441,0.867163360118866,0.8734694719314575,0.8744926452636719,0.8753623366355896,0.8763852715492249,0.8773755431175232,0.877582311630249,0.8817474246025085,0.8822125792503357,0.8833754658699036,0.8844009637832642,0.8871170282363892,0.8923925757408142,0.8927341103553772,0.8928490281105042,0.8941943645477295,0.901611864566803,0.9037005305290222,0.9050198793411255,0.9050474166870117,0.909850537776947,0.9137852191925049,0.9158570766448975,0.9163731336593628,0.9170870780944824,0.9207816123962402,0.9283031225204468,0.9386666417121887,0.9386927485466003,0.9397869110107422,0.943528413772583,0.9438499808311462,0.945540726184845,0.9474151730537415,0.9475622773170471,0.9500395059585571,0.9516862630844116,0.9533820748329163,0.9536800384521484,0.9553674459457397,0.957472562789917,0.9606497883796692,0.9618535041809082,0.9635987877845764,0.9639980792999268,0.9690219759941101,0.9692919850349426,0.969879686832428,0.9700535535812378,0.9700714945793152,0.9714653491973877,0.9717121124267578,0.9720708727836609,0.9725748300552368,0.9728321433067322,0.9762008786201477,0.9788768291473389,0.9790913462638855,0.979927659034729,0.9811434745788574,0.9819297790527344,0.9825127124786377,0.9830173850059509,0.984273374080658,0.9849945902824402,0.9868006110191345,0.9874247312545776,0.9874725937843323,0.9876568913459778,0.9879083633422852,0.9881826639175415,0.9883848428726196,0.989022970199585,0.9894220232963562,0.9895150065422058,0.9895317554473877,0.9902684688568115,0.9906192421913147,0.9907895922660828,0.9910464882850647,0.9920705556869507,0.9928701519966125,0.9945324659347534,0.9945381283760071,0.9947548508644104,0.9948698878288269,0.9949963092803955,0.9950758218765259,0.9952162504196167,0.9956525564193726,0.9962348937988281,0.9969253540039062,0.9974892735481262,0.9976001381874084,0.9976996183395386,0.9979274868965149,0.9980978965759277,0.9981099367141724,0.9984663128852844,0.9984915256500244,0.9985617995262146,0.9986861348152161,0.9987111687660217,0.9989349842071533,0.999075710773468,0.9991200566291809,0.9991292953491211,0.9991695284843445,0.9991730451583862,0.9991951584815979,0.9992476105690002,0.9992814064025879,0.9992916584014893,0.9993097186088562,0.9993292093276978,0.9993318915367126,0.9993418455123901,0.9994213581085205,0.9994293451309204,0.9994397163391113,0.9994404911994934,0.9994431138038635,0.9994521737098694,0.9994537234306335,0.9994958639144897,0.9994979500770569,0.9995142817497253,0.9995189905166626,0.9995330572128296,0.9995496273040771,0.9996053576469421,0.9996973872184753,0.9997664093971252,0.9997707009315491,0.9997855424880981,0.9998072981834412,0.9998536705970764,0.999856173992157,0.9998688101768494,0.9998851418495178,0.9999105334281921,0.9999493360519409,0.9999739527702332,0.9999865293502808,0.9999895095825195,0.9999974370002747,0.9999985694885254,0.9999998211860657,1.0],\"y\":[0.43333333333333335,0.43243243243243246,0.43312101910828027,0.43381180223285487,0.43450479233226835,0.4352,0.4342948717948718,0.434991974317817,0.43569131832797425,0.4363929146537842,0.43709677419354837,0.4378029079159935,0.43851132686084143,0.4376012965964344,0.4383116883116883,0.43973941368078173,0.44045676998368677,0.4411764705882353,0.44189852700491,0.4426229508196721,0.4433497536945813,0.4440789473684211,0.44481054365733114,0.44554455445544555,0.4462809917355372,0.445364238410596,0.4461028192371476,0.4475873544093178,0.4483333333333333,0.44908180300500833,0.4498327759197324,0.45058626465661644,0.4513422818791946,0.45210084033613446,0.45286195286195285,0.4536256323777403,0.45516074450084604,0.4559322033898305,0.4567062818336163,0.45826235093696766,0.4598290598290598,0.4606164383561644,0.4614065180102916,0.46219931271477666,0.46379310344827585,0.46459412780656306,0.46539792387543255,0.4662045060658579,0.4670138888888889,0.4678260869565217,0.4686411149825784,0.4677137870855148,0.46853146853146854,0.46760070052539404,0.46842105263157896,0.46924428822495606,0.47007042253521125,0.4717314487632509,0.4725663716814159,0.4734042553191489,0.47424511545293074,0.4750889679715303,0.47593582887700536,0.4767857142857143,0.4776386404293381,0.478494623655914,0.483695652173913,0.484573502722323,0.48545454545454547,0.48633879781420764,0.48722627737226276,0.48811700182815354,0.4889705882352941,0.48987108655616945,0.4907749077490775,0.49168207024029575,0.4925925925925926,0.4944237918215613,0.4962686567164179,0.4953271028037383,0.49625468164794007,0.4971857410881801,0.4981203007518797,0.500945179584121,0.5018939393939394,0.5028462998102466,0.5038022813688213,0.5066921606118547,0.5076628352490421,0.508637236084453,0.5096153846153846,0.5105973025048169,0.5115830115830116,0.5125725338491296,0.5135658914728682,0.5136186770428015,0.5146198830409356,0.515625,0.5166340508806262,0.5269461077844312,0.528,0.5387755102040817,0.5378323108384458,0.5389344262295082,0.5400410677618069,0.5411522633744856,0.5422680412371134,0.5433884297520661,0.5424430641821946,0.5435684647302904,0.5446985446985447,0.5458333333333333,0.5469728601252609,0.5481171548117155,0.549266247379455,0.5504201680672269,0.5515789473684211,0.5527426160337553,0.5517970401691332,0.5529661016949152,0.5520169851380042,0.5531914893617021,0.5543710021321961,0.5555555555555556,0.556745182012848,0.5579399141630901,0.5593952483801296,0.5606060606060606,0.561822125813449,0.5630434782608695,0.5667396061269147,0.567032967032967,0.5682819383259912,0.5695364238410596,0.5685840707964602,0.5698447893569845,0.5711111111111111,0.5723830734966593,0.5739910313901345,0.5752808988764045,0.5765765765765766,0.5756207674943566,0.5769230769230769,0.5782312925170068,0.5795454545454546,0.5808656036446469,0.5821917808219178,0.5835240274599542,0.5848623853211009,0.5875576036866359,0.5889145496535797,0.5902777777777778,0.5916473317865429,0.5930232558139535,0.5971896955503513,0.6,0.6014150943396226,0.6028368794326241,0.6033254156769596,0.6047619047619047,0.6062052505966588,0.6076555023923444,0.6091127098321343,0.6105769230769231,0.6120481927710844,0.6135265700483091,0.6150121065375302,0.6140776699029126,0.6155717761557178,0.6146341463414634,0.6161369193154034,0.6176470588235294,0.6191646191646192,0.6197530864197531,0.6212871287128713,0.6228287841191067,0.6243781094527363,0.6275,0.6290726817042607,0.628140703517588,0.6297229219143576,0.6313131313131313,0.631979695431472,0.6335877862595419,0.6352040816326531,0.6368286445012787,0.6384615384615384,0.6417525773195877,0.6434108527131783,0.6424870466321243,0.6441558441558441,0.6458333333333334,0.6475195822454308,0.6526315789473685,0.660427807486631,0.6621983914209115,0.6657681940700808,0.6675675675675675,0.6693766937669376,0.6684782608695652,0.670299727520436,0.6721311475409836,0.673972602739726,0.6758241758241759,0.6776859504132231,0.6795580110497238,0.6814404432132964,0.6833333333333333,0.6852367688022284,0.6871508379888268,0.6890756302521008,0.6910112359550562,0.6929577464788732,0.6949152542372882,0.6968838526912181,0.6988636363636364,0.7048710601719198,0.7068965517241379,0.7089337175792507,0.7109826589595376,0.7130434782608696,0.7151162790697675,0.717201166180758,0.718475073313783,0.7205882352941176,0.7227138643067846,0.7248520710059172,0.7240356083086054,0.7261904761904762,0.7283582089552239,0.7305389221556886,0.7327327327327328,0.7349397590361446,0.7371601208459214,0.7393939393939394,0.7416413373860182,0.7408536585365854,0.7431192660550459,0.745398773006135,0.7476923076923077,0.75,0.7523219814241486,0.7546583850931677,0.7570093457943925,0.759375,0.7617554858934169,0.7610062893081762,0.7634069400630915,0.7658227848101266,0.7682539682539683,0.7707006369426752,0.7699680511182109,0.7692307692307693,0.7717041800643086,0.7741935483870968,0.7792207792207793,0.7817589576547231,0.7810457516339869,0.7836065573770492,0.7828947368421053,0.7821782178217822,0.7847682119205298,0.7873754152823921,0.7866666666666666,0.7892976588628763,0.7885906040268457,0.793918918918919,0.7966101694915254,0.7959183673469388,0.7986348122866894,0.8013698630136986,0.8041237113402062,0.8068965517241379,0.8062283737024222,0.8090277777777778,0.8083623693379791,0.8111888111888111,0.8140350877192982,0.8162544169611308,0.8191489361702128,0.8220640569395018,0.825,0.8243727598566308,0.8237410071942446,0.8267148014440433,0.8260869565217391,0.8290909090909091,0.8284671532846716,0.8315018315018315,0.8345588235294118,0.8376383763837638,0.837037037037037,0.8401486988847584,0.8432835820895522,0.846441947565543,0.849624060150376,0.8490566037735849,0.8522727272727273,0.8555133079847909,0.8549618320610687,0.8582375478927203,0.8615384615384616,0.8648648648648649,0.8682170542635659,0.867704280155642,0.87109375,0.8705882352941177,0.8700787401574803,0.8695652173913043,0.873015873015873,0.8725099601593626,0.876,0.8795180722891566,0.8790322580645161,0.8785425101214575,0.8780487804878049,0.8775510204081632,0.8811475409836066,0.8801652892561983,0.8796680497925311,0.8833333333333333,0.8828451882845189,0.8823529411764706,0.8818565400843882,0.8808510638297873,0.8803418803418803,0.8798283261802575,0.8793103448275862,0.8787878787878788,0.8782608695652174,0.8820960698689956,0.8859649122807017,0.8854625550660793,0.8849557522123894,0.8888888888888888,0.8928571428571429,0.8968609865470852,0.9009009009009009,0.9004524886877828,0.9045454545454545,0.908675799086758,0.908256880733945,0.9124423963133641,0.9120370370370371,0.9116279069767442,0.9158878504672897,0.92018779342723,0.9198113207547169,0.919431279620853,0.919047619047619,0.9234449760765551,0.9230769230769231,0.9227053140096618,0.9223300970873787,0.926829268292683,0.9313725490196079,0.9310344827586207,0.9306930693069307,0.9353233830845771,0.935,0.9346733668341709,0.9393939393939394,0.9390862944162437,0.9438775510204082,0.9435897435897436,0.9432989690721649,0.9481865284974094,0.9479166666666666,0.9476439790575916,0.9473684210526315,0.9470899470899471,0.9468085106382979,0.9518716577540107,0.9516129032258065,0.9513513513513514,0.9510869565217391,0.9508196721311475,0.9505494505494505,0.9502762430939227,0.95,0.9497206703910615,0.9550561797752809,0.9548022598870056,0.9602272727272727,0.96,0.9597701149425287,0.9642857142857143,0.9640718562874252,0.963855421686747,0.9631901840490797,0.9691358024691358,0.9751552795031055,0.975,0.9748427672955975,0.9810126582278481,0.9808917197452229,0.9807692307692307,0.9806451612903225,0.9805194805194806,0.9803921568627451,0.9802631578947368,0.9801324503311258,0.98,0.9798657718120806,0.9797297297297297,0.9795918367346939,0.9794520547945206,0.9793103448275862,0.9791666666666666,0.9790209790209791,0.9788732394366197,0.9787234042553191,0.9785714285714285,0.9856115107913669,0.9854014598540146,0.9926470588235294,0.9925925925925926,0.9925373134328358,0.9924812030075187,0.9924242424242424,0.9923664122137404,1.0,1.0,1.0,1.0,1.0,1.0,1.0,1.0,1.0,1.0,1.0,1.0,1.0,1.0,1.0,1.0,1.0,1.0,1.0,1.0,1.0,1.0,1.0,1.0,1.0,1.0,1.0,1.0,1.0,1.0,1.0,1.0,1.0,1.0,1.0,1.0,1.0,1.0,1.0,1.0,1.0,1.0,1.0,1.0,1.0,1.0,1.0,1.0,1.0,1.0,1.0,1.0,1.0,1.0,1.0,1.0,1.0,1.0,1.0,1.0,1.0,1.0,1.0,1.0,1.0,1.0,1.0,1.0,1.0,1.0,1.0,1.0,1.0,1.0,1.0,1.0,1.0,1.0,1.0,1.0,1.0,1.0,1.0,1.0,1.0,1.0,1.0,1.0,1.0,1.0,1.0,1.0,1.0,1.0,1.0,1.0,1.0,1.0,1.0,1.0,1.0,1.0,1.0,1.0,1.0,1.0,1.0,1.0,1.0,1.0,1.0,1.0,1.0,1.0,1.0,1.0,1.0,1.0,1.0,1.0,1.0,1.0,1.0,1.0,1.0,1.0,1.0,1.0,1.0],\"type\":\"scatter\"},{\"line\":{\"color\":\"#12719E\"},\"name\":\"Test Precision\",\"x\":[0.029688967391848564,0.032902609556913376,0.03490624949336052,0.03924383595585823,0.04228543862700462,0.0432247556746006,0.04599694535136223,0.051284607499837875,0.053841687738895416,0.06132245808839798,0.06307294964790344,0.06374022364616394,0.06531708687543869,0.07400849461555481,0.07551366090774536,0.07627653330564499,0.07939349114894867,0.08256055414676666,0.08505222201347351,0.08653073757886887,0.09023930132389069,0.09250404685735703,0.09282415360212326,0.09328821301460266,0.09609177708625793,0.09853147715330124,0.1000128909945488,0.10190944373607635,0.10484015941619873,0.10515816509723663,0.1081356480717659,0.1099756509065628,0.11176855862140656,0.11195459216833115,0.11307094246149063,0.11550503224134445,0.11618023365736008,0.11671209335327148,0.11692829430103302,0.11755071580410004,0.11813388019800186,0.11857122927904129,0.11975548416376114,0.12152034789323807,0.12181775271892548,0.12297568470239639,0.12815560400485992,0.12973935902118683,0.1308809369802475,0.1322096735239029,0.13506339490413666,0.1351121962070465,0.13514719903469086,0.14036980271339417,0.1460111439228058,0.14634297788143158,0.1475357562303543,0.15047146379947662,0.1591489315032959,0.16471335291862488,0.1689784973859787,0.1724119782447815,0.17775022983551025,0.1845896989107132,0.18692907691001892,0.19058361649513245,0.19091172516345978,0.19534233212471008,0.2068503201007843,0.21424482762813568,0.21937650442123413,0.23301199078559875,0.23911669850349426,0.24929995834827423,0.2519887089729309,0.26451465487480164,0.2790852189064026,0.2807823419570923,0.29195091128349304,0.302724152803421,0.30881187319755554,0.3097686767578125,0.3116578459739685,0.31490615010261536,0.31512272357940674,0.33069419860839844,0.3474043011665344,0.3524302542209625,0.3603229522705078,0.3611637055873871,0.37159866094589233,0.39659127593040466,0.40009185671806335,0.42682695388793945,0.42688390612602234,0.4496987462043762,0.4558123052120209,0.4658205807209015,0.46706438064575195,0.4691409170627594,0.47287607192993164,0.4869454801082611,0.4969753324985504,0.4985933005809784,0.513762354850769,0.5141242742538452,0.5182715058326721,0.5803182125091553,0.5824785828590393,0.594017744064331,0.6288468241691589,0.6289382576942444,0.6474692821502686,0.7029348015785217,0.7464759945869446,0.7677439451217651,0.7688888907432556,0.8070796132087708,0.8079598546028137,0.8082181811332703,0.8133285641670227,0.8338815569877625,0.873281717300415,0.878054678440094,0.8947035074234009,0.9037005305290222,0.9148911237716675,0.9288907647132874,0.931218147277832,0.93527752161026,0.9433189630508423,0.9450863599777222,0.9567158818244934,0.9677785634994507,0.9711753129959106,0.9720708727836609,0.9729122519493103,0.9749475121498108,0.9774129390716553,0.9780170917510986,0.9790913462638855,0.9831225872039795,0.9872031807899475,0.9874001741409302,0.9897556900978088,0.990715503692627,0.9908942580223083,0.9923542737960815,0.9934109449386597,0.9980978965759277,0.9988352060317993,0.9988932013511658,0.9989402890205383,0.9995356202125549,0.9995936155319214,0.9996280670166016,0.9997137784957886,0.9999673366546631,0.9999728798866272],\"y\":[0.3988439306358382,0.3953488372093023,0.39766081871345027,0.4,0.40236686390532544,0.40476190476190477,0.40718562874251496,0.40963855421686746,0.40606060606060607,0.40853658536585363,0.4110429447852761,0.41358024691358025,0.4161490683229814,0.41875,0.42138364779874216,0.4240506329113924,0.42038216560509556,0.4230769230769231,0.4258064516129032,0.42857142857142855,0.43137254901960786,0.4342105263157895,0.4370860927152318,0.44,0.4429530201342282,0.4391891891891892,0.43537414965986393,0.4383561643835616,0.4413793103448276,0.4444444444444444,0.44755244755244755,0.4507042253521127,0.45390070921985815,0.45714285714285713,0.45323741007194246,0.45652173913043476,0.45985401459854014,0.4701492537313433,0.4772727272727273,0.4732824427480916,0.47692307692307695,0.4806201550387597,0.484375,0.4881889763779528,0.49206349206349204,0.496,0.5254237288135594,0.5299145299145299,0.5344827586206896,0.5391304347826087,0.543859649122807,0.5535714285714286,0.5585585585585585,0.5636363636363636,0.5688073394495413,0.5794392523364486,0.5849056603773585,0.5904761904761905,0.5961538461538461,0.6019417475728155,0.6078431372549019,0.6138613861386139,0.61,0.6161616161616161,0.6288659793814433,0.6354166666666666,0.631578947368421,0.6382978723404256,0.6344086021505376,0.6413043478260869,0.6373626373626373,0.6444444444444445,0.651685393258427,0.6590909090909091,0.6666666666666666,0.6744186046511628,0.6823529411764706,0.6785714285714286,0.6746987951807228,0.6829268292682927,0.6790123456790124,0.6875,0.6835443037974683,0.6923076923076923,0.6883116883116883,0.6973684210526315,0.6933333333333334,0.7027027027027027,0.6986301369863014,0.7083333333333334,0.7183098591549296,0.7285714285714285,0.7391304347826086,0.75,0.746268656716418,0.7424242424242424,0.7384615384615385,0.734375,0.746031746031746,0.7419354838709677,0.7540983606557377,0.7666666666666667,0.7796610169491526,0.7931034482758621,0.8070175438596491,0.8035714285714286,0.8181818181818182,0.8148148148148148,0.8301886792452831,0.8461538461538461,0.8431372549019608,0.86,0.8571428571428571,0.875,0.8723404255319149,0.8695652173913043,0.8666666666666667,0.8636363636363636,0.8837209302325582,0.8780487804878049,0.875,0.8974358974358975,0.8947368421052632,0.8918918918918919,0.8888888888888888,0.9142857142857143,0.9117647058823529,0.9090909090909091,0.90625,0.9032258064516129,0.9,0.896551724137931,0.8928571428571429,0.8888888888888888,0.8846153846153846,0.88,0.8695652173913043,0.9090909090909091,0.9047619047619048,0.9,0.9473684210526315,1.0,1.0,1.0,1.0,1.0,1.0,1.0,1.0,1.0,1.0,1.0,1.0,1.0,1.0,1.0,1.0,1.0,1.0],\"type\":\"scatter\"},{\"line\":{\"color\":\"#843215\"},\"name\":\"Train Recall\",\"x\":[0.07298438251018524,0.0734342560172081,0.07363897562026978,0.0737064927816391,0.07451075315475464,0.07551366090774536,0.07661670446395874,0.0767672061920166,0.07709221541881561,0.07785271853208542,0.07827570289373398,0.08072042465209961,0.08092979341745377,0.08116133511066437,0.0813637301325798,0.08174290508031845,0.08236401528120041,0.08243764936923981,0.08255593478679657,0.0826704129576683,0.08303048461675644,0.08317746967077255,0.08320457488298416,0.08334808051586151,0.08334959298372269,0.08470147848129272,0.08493930101394653,0.08546682447195053,0.08551863580942154,0.08675000816583633,0.08687806874513626,0.08693942427635193,0.08719047904014587,0.08966461569070816,0.08988159149885178,0.08996900171041489,0.0901675671339035,0.09036953747272491,0.09044314175844193,0.09055669605731964,0.09125900268554688,0.09176639467477798,0.09199509024620056,0.09284783154726028,0.09426584839820862,0.098362997174263,0.09883248060941696,0.09889080375432968,0.10037873685359955,0.1008009985089302,0.10116735845804214,0.10166218876838684,0.1016964465379715,0.10170333832502365,0.10179267078638077,0.10190944373607635,0.10211583971977234,0.10212350636720657,0.10232192277908325,0.1027512401342392,0.10313282907009125,0.10430067777633667,0.1050257608294487,0.10508358478546143,0.10515816509723663,0.1054689809679985,0.10666941106319427,0.10703285038471222,0.10725332051515579,0.10740987956523895,0.10828646272420883,0.1093546599149704,0.10935678333044052,0.10937932133674622,0.10940185934305191,0.11021947860717773,0.11037686467170715,0.11047133803367615,0.11049685627222061,0.11090318858623505,0.11143308132886887,0.11168514937162399,0.11169875413179398,0.11235783249139786,0.11330007761716843,0.11368075758218765,0.11397545784711838,0.11403205245733261,0.11418722569942474,0.1147969514131546,0.1149950921535492,0.11550503224134445,0.11563551425933838,0.11568211764097214,0.11576501280069351,0.11580250412225723,0.11586620658636093,0.11613742262125015,0.11618023365736008,0.11621057987213135,0.11671209335327148,0.11674139648675919,0.1170022115111351,0.1170155331492424,0.11726242303848267,0.11728671193122864,0.11731868982315063,0.11734522134065628,0.11755071580410004,0.11805407702922821,0.11813388019800186,0.11883673071861267,0.11883987486362457,0.11884574592113495,0.11908947676420212,0.11922433227300644,0.12101177871227264,0.12154769152402878,0.12166934460401535,0.1226879432797432,0.1226952001452446,0.12293463200330734,0.1229415237903595,0.1229482963681221,0.12295513600111008,0.12297568470239639,0.12310567498207092,0.12326611578464508,0.12414231896400452,0.12430039048194885,0.12463279813528061,0.12472206354141235,0.12536780536174774,0.12552881240844727,0.1255834549665451,0.12569068372249603,0.12571901082992554,0.1258043646812439,0.12590853869915009,0.12602050602436066,0.1262921243906021,0.12709389626979828,0.12749578058719635,0.1278119683265686,0.12799258530139923,0.12812994420528412,0.12860870361328125,0.12880362570285797,0.12897326052188873,0.12950655817985535,0.1303776651620865,0.13045744597911835,0.1306334137916565,0.1307385116815567,0.1308809369802475,0.13088911771774292,0.13090264797210693,0.13119752705097198,0.13119837641716003,0.13142021000385284,0.13164936006069183,0.1322096735239029,0.1338551640510559,0.13391265273094177,0.13529163599014282,0.13561755418777466,0.1367042362689972,0.13699495792388916,0.13763903081417084,0.13766540586948395,0.13783860206604004,0.13861842453479767,0.1387288123369217,0.14012980461120605,0.14037694036960602,0.14037708938121796,0.14101260900497437,0.14102235436439514,0.1419278234243393,0.14219582080841064,0.1422950178384781,0.14387480914592743,0.1439744383096695,0.1443871259689331,0.14475694298744202,0.14503000676631927,0.14508120715618134,0.14518345892429352,0.1456078588962555,0.1456524282693863,0.14570681750774384,0.14580979943275452,0.1460111439228058,0.1460184007883072,0.14634297788143158,0.14718300104141235,0.14759251475334167,0.1476396918296814,0.1482173055410385,0.14858074486255646,0.14862029254436493,0.148787260055542,0.14972592890262604,0.15122613310813904,0.1539183408021927,0.15709196031093597,0.15726274251937866,0.15738099813461304,0.15879185497760773,0.1639295369386673,0.16406363248825073,0.16428229212760925,0.16462428867816925,0.1647779792547226,0.16486285626888275,0.16856257617473602,0.1723920702934265,0.1733275055885315,0.17409656941890717,0.17600443959236145,0.17777875065803528,0.183733731508255,0.1876838356256485,0.19170188903808594,0.2047661989927292,0.21020351350307465,0.21424482762813568,0.2194400280714035,0.222540944814682,0.22860243916511536,0.23368440568447113,0.2349403202533722,0.2385169416666031,0.23939365148544312,0.23954550921916962,0.24259789288043976,0.24280473589897156,0.24525758624076843,0.24749013781547546,0.24844138324260712,0.25351789593696594,0.2553214430809021,0.26502853631973267,0.2657504677772522,0.2679888606071472,0.27198660373687744,0.2721938490867615,0.27257847785949707,0.2731466591358185,0.27673619985580444,0.2816270887851715,0.2870419919490814,0.28854382038116455,0.2888459265232086,0.29032135009765625,0.2930538058280945,0.29714998602867126,0.2995739281177521,0.30079928040504456,0.302724152803421,0.3047177791595459,0.312574565410614,0.31281962990760803,0.3134249746799469,0.3135610818862915,0.31512272357940674,0.3168337941169739,0.3214985132217407,0.32221415638923645,0.32281824946403503,0.3269939124584198,0.3286089599132538,0.32893815636634827,0.3307128846645355,0.33088821172714233,0.33497947454452515,0.3417930006980896,0.34449952840805054,0.34544432163238525,0.3466939926147461,0.34699371457099915,0.3475058376789093,0.3487149477005005,0.3523116111755371,0.3595682978630066,0.3602776825428009,0.3608749806880951,0.3611637055873871,0.36567726731300354,0.3685026168823242,0.37408727407455444,0.3770432472229004,0.37887588143348694,0.3792576491832733,0.38408994674682617,0.3913552463054657,0.3957407772541046,0.4005749225616455,0.403157114982605,0.40319305658340454,0.4045611023902893,0.41898250579833984,0.42177721858024597,0.42413529753685,0.445227712392807,0.4464940130710602,0.4511677026748657,0.4523721933364868,0.45460498332977295,0.46006423234939575,0.46088486909866333,0.46722471714019775,0.4691409170627594,0.4712567627429962,0.47187817096710205,0.47608357667922974,0.4810432195663452,0.4869454801082611,0.49022939801216125,0.49599841237068176,0.4988684356212616,0.5003873109817505,0.5017032027244568,0.5038608312606812,0.5042935609817505,0.5058344006538391,0.5065616965293884,0.5069461464881897,0.5197991728782654,0.5207419395446777,0.5341488718986511,0.5360401272773743,0.5360770225524902,0.5386061668395996,0.5393436551094055,0.5472363829612732,0.548976480960846,0.5504201054573059,0.5588778853416443,0.5603967905044556,0.5617638826370239,0.5639723539352417,0.5691057443618774,0.5758374333381653,0.5777168273925781,0.5778802037239075,0.579257607460022,0.5820630192756653,0.582080066204071,0.5824785828590393,0.5920987725257874,0.595868706703186,0.5984096527099609,0.5984528064727783,0.6039809584617615,0.608614981174469,0.6086225509643555,0.6130183339118958,0.6134580373764038,0.6141456961631775,0.6152480840682983,0.6432651877403259,0.6474416851997375,0.6497082710266113,0.6569846868515015,0.668971836566925,0.6763773560523987,0.6842040419578552,0.692163348197937,0.708861231803894,0.7177786231040955,0.7236846685409546,0.7464759945869446,0.7469974160194397,0.7473552823066711,0.7667083740234375,0.7688888907432556,0.7844893932342529,0.786188006401062,0.7927462458610535,0.7928147315979004,0.7997027039527893,0.8012732267379761,0.8078449368476868,0.8078738451004028,0.8079598546028137,0.8085048794746399,0.8087964057922363,0.8088482618331909,0.8106150031089783,0.8137677311897278,0.819202184677124,0.8245338201522827,0.8251814842224121,0.8335269689559937,0.8356404304504395,0.8406141400337219,0.847265362739563,0.8473677635192871,0.8509171009063721,0.8639475703239441,0.867163360118866,0.8734694719314575,0.8744926452636719,0.8753623366355896,0.8763852715492249,0.8773755431175232,0.877582311630249,0.8817474246025085,0.8822125792503357,0.8833754658699036,0.8844009637832642,0.8871170282363892,0.8923925757408142,0.8927341103553772,0.8928490281105042,0.8941943645477295,0.901611864566803,0.9037005305290222,0.9050198793411255,0.9050474166870117,0.909850537776947,0.9137852191925049,0.9158570766448975,0.9163731336593628,0.9170870780944824,0.9207816123962402,0.9283031225204468,0.9386666417121887,0.9386927485466003,0.9397869110107422,0.943528413772583,0.9438499808311462,0.945540726184845,0.9474151730537415,0.9475622773170471,0.9500395059585571,0.9516862630844116,0.9533820748329163,0.9536800384521484,0.9553674459457397,0.957472562789917,0.9606497883796692,0.9618535041809082,0.9635987877845764,0.9639980792999268,0.9690219759941101,0.9692919850349426,0.969879686832428,0.9700535535812378,0.9700714945793152,0.9714653491973877,0.9717121124267578,0.9720708727836609,0.9725748300552368,0.9728321433067322,0.9762008786201477,0.9788768291473389,0.9790913462638855,0.979927659034729,0.9811434745788574,0.9819297790527344,0.9825127124786377,0.9830173850059509,0.984273374080658,0.9849945902824402,0.9868006110191345,0.9874247312545776,0.9874725937843323,0.9876568913459778,0.9879083633422852,0.9881826639175415,0.9883848428726196,0.989022970199585,0.9894220232963562,0.9895150065422058,0.9895317554473877,0.9902684688568115,0.9906192421913147,0.9907895922660828,0.9910464882850647,0.9920705556869507,0.9928701519966125,0.9945324659347534,0.9945381283760071,0.9947548508644104,0.9948698878288269,0.9949963092803955,0.9950758218765259,0.9952162504196167,0.9956525564193726,0.9962348937988281,0.9969253540039062,0.9974892735481262,0.9976001381874084,0.9976996183395386,0.9979274868965149,0.9980978965759277,0.9981099367141724,0.9984663128852844,0.9984915256500244,0.9985617995262146,0.9986861348152161,0.9987111687660217,0.9989349842071533,0.999075710773468,0.9991200566291809,0.9991292953491211,0.9991695284843445,0.9991730451583862,0.9991951584815979,0.9992476105690002,0.9992814064025879,0.9992916584014893,0.9993097186088562,0.9993292093276978,0.9993318915367126,0.9993418455123901,0.9994213581085205,0.9994293451309204,0.9994397163391113,0.9994404911994934,0.9994431138038635,0.9994521737098694,0.9994537234306335,0.9994958639144897,0.9994979500770569,0.9995142817497253,0.9995189905166626,0.9995330572128296,0.9995496273040771,0.9996053576469421,0.9996973872184753,0.9997664093971252,0.9997707009315491,0.9997855424880981,0.9998072981834412,0.9998536705970764,0.999856173992157,0.9998688101768494,0.9998851418495178,0.9999105334281921,0.9999493360519409,0.9999739527702332,0.9999865293502808,0.9999895095825195,0.9999974370002747,0.9999985694885254,0.9999998211860657,1.0],\"y\":[1.0,0.9963369963369964,0.9963369963369964,0.9963369963369964,0.9963369963369964,0.9963369963369964,0.9926739926739927,0.9926739926739927,0.9926739926739927,0.9926739926739927,0.9926739926739927,0.9926739926739927,0.9926739926739927,0.989010989010989,0.989010989010989,0.989010989010989,0.989010989010989,0.989010989010989,0.989010989010989,0.989010989010989,0.989010989010989,0.989010989010989,0.989010989010989,0.989010989010989,0.989010989010989,0.9853479853479854,0.9853479853479854,0.9853479853479854,0.9853479853479854,0.9853479853479854,0.9853479853479854,0.9853479853479854,0.9853479853479854,0.9853479853479854,0.9853479853479854,0.9853479853479854,0.9853479853479854,0.9853479853479854,0.9853479853479854,0.9853479853479854,0.9853479853479854,0.9853479853479854,0.9853479853479854,0.9853479853479854,0.9853479853479854,0.9853479853479854,0.9853479853479854,0.9853479853479854,0.9853479853479854,0.9853479853479854,0.9853479853479854,0.9816849816849816,0.9816849816849816,0.978021978021978,0.978021978021978,0.978021978021978,0.978021978021978,0.978021978021978,0.978021978021978,0.978021978021978,0.978021978021978,0.978021978021978,0.978021978021978,0.978021978021978,0.978021978021978,0.978021978021978,0.978021978021978,0.978021978021978,0.978021978021978,0.978021978021978,0.978021978021978,0.978021978021978,0.9743589743589743,0.9743589743589743,0.9743589743589743,0.9743589743589743,0.9743589743589743,0.9743589743589743,0.9743589743589743,0.9706959706959707,0.9706959706959707,0.9706959706959707,0.9706959706959707,0.9706959706959707,0.9706959706959707,0.9706959706959707,0.9706959706959707,0.9706959706959707,0.9706959706959707,0.9706959706959707,0.9706959706959707,0.9706959706959707,0.9706959706959707,0.9706959706959707,0.9706959706959707,0.967032967032967,0.967032967032967,0.967032967032967,0.967032967032967,0.967032967032967,0.967032967032967,0.967032967032967,0.9633699633699634,0.9633699633699634,0.9633699633699634,0.9633699633699634,0.9633699633699634,0.9633699633699634,0.9597069597069597,0.9597069597069597,0.9597069597069597,0.9597069597069597,0.9597069597069597,0.9597069597069597,0.9597069597069597,0.9597069597069597,0.9597069597069597,0.9597069597069597,0.9560439560439561,0.9560439560439561,0.9523809523809523,0.9523809523809523,0.9523809523809523,0.9523809523809523,0.9523809523809523,0.9523809523809523,0.9487179487179487,0.9487179487179487,0.9487179487179487,0.9487179487179487,0.9487179487179487,0.945054945054945,0.945054945054945,0.945054945054945,0.9413919413919414,0.9413919413919414,0.9413919413919414,0.9413919413919414,0.9377289377289377,0.9377289377289377,0.9377289377289377,0.9340659340659341,0.9340659340659341,0.9340659340659341,0.9340659340659341,0.9340659340659341,0.9340659340659341,0.9340659340659341,0.9340659340659341,0.9340659340659341,0.9340659340659341,0.9340659340659341,0.9340659340659341,0.9340659340659341,0.9340659340659341,0.9340659340659341,0.9340659340659341,0.9340659340659341,0.9304029304029304,0.9304029304029304,0.9304029304029304,0.9304029304029304,0.9304029304029304,0.9304029304029304,0.9304029304029304,0.9304029304029304,0.9304029304029304,0.9267399267399268,0.9267399267399268,0.9230769230769231,0.9230769230769231,0.9230769230769231,0.9230769230769231,0.9194139194139194,0.9194139194139194,0.9194139194139194,0.9194139194139194,0.9194139194139194,0.9194139194139194,0.9157509157509157,0.9157509157509157,0.9157509157509157,0.9120879120879121,0.9120879120879121,0.9120879120879121,0.9120879120879121,0.9120879120879121,0.9120879120879121,0.9120879120879121,0.9084249084249084,0.9084249084249084,0.9084249084249084,0.9084249084249084,0.9084249084249084,0.9047619047619048,0.9047619047619048,0.9047619047619048,0.9047619047619048,0.9047619047619048,0.9010989010989011,0.9010989010989011,0.9010989010989011,0.9010989010989011,0.9010989010989011,0.9010989010989011,0.9010989010989011,0.9010989010989011,0.9010989010989011,0.9010989010989011,0.9010989010989011,0.9010989010989011,0.9010989010989011,0.9010989010989011,0.9010989010989011,0.9010989010989011,0.9010989010989011,0.9010989010989011,0.9010989010989011,0.9010989010989011,0.9010989010989011,0.9010989010989011,0.9010989010989011,0.9010989010989011,0.8974358974358975,0.8974358974358975,0.8974358974358975,0.8974358974358975,0.8937728937728938,0.8937728937728938,0.8937728937728938,0.8937728937728938,0.8937728937728938,0.8937728937728938,0.8937728937728938,0.8937728937728938,0.8937728937728938,0.8901098901098901,0.8901098901098901,0.8901098901098901,0.8901098901098901,0.8901098901098901,0.8901098901098901,0.8901098901098901,0.8901098901098901,0.8901098901098901,0.8901098901098901,0.8864468864468864,0.8864468864468864,0.8864468864468864,0.8864468864468864,0.8864468864468864,0.8827838827838828,0.8791208791208791,0.8791208791208791,0.8791208791208791,0.8791208791208791,0.8791208791208791,0.8754578754578755,0.8754578754578755,0.8717948717948718,0.8681318681318682,0.8681318681318682,0.8681318681318682,0.8644688644688645,0.8644688644688645,0.8608058608058609,0.8608058608058609,0.8608058608058609,0.8571428571428571,0.8571428571428571,0.8571428571428571,0.8571428571428571,0.8571428571428571,0.8534798534798534,0.8534798534798534,0.8498168498168498,0.8498168498168498,0.8498168498168498,0.8461538461538461,0.8461538461538461,0.8461538461538461,0.8461538461538461,0.8424908424908425,0.8388278388278388,0.8388278388278388,0.8351648351648352,0.8351648351648352,0.8315018315018315,0.8315018315018315,0.8315018315018315,0.8315018315018315,0.8278388278388278,0.8278388278388278,0.8278388278388278,0.8278388278388278,0.8278388278388278,0.8241758241758241,0.8241758241758241,0.8241758241758241,0.8205128205128205,0.8205128205128205,0.8205128205128205,0.8205128205128205,0.8205128205128205,0.8168498168498168,0.8168498168498168,0.8131868131868132,0.8095238095238095,0.8058608058608059,0.8058608058608059,0.8021978021978022,0.8021978021978022,0.8021978021978022,0.7985347985347986,0.7948717948717948,0.7912087912087912,0.7875457875457875,0.7875457875457875,0.7802197802197802,0.7765567765567766,0.7765567765567766,0.7728937728937729,0.7692307692307693,0.7655677655677655,0.7582417582417582,0.7545787545787546,0.7509157509157509,0.7472527472527473,0.7435897435897436,0.73992673992674,0.73992673992674,0.73992673992674,0.7362637362637363,0.7326007326007326,0.7326007326007326,0.7326007326007326,0.7326007326007326,0.7326007326007326,0.7289377289377289,0.7289377289377289,0.7289377289377289,0.7252747252747253,0.7252747252747253,0.7216117216117216,0.717948717948718,0.717948717948718,0.717948717948718,0.7142857142857143,0.7106227106227107,0.706959706959707,0.706959706959707,0.7032967032967034,0.6996336996336996,0.6959706959706959,0.6959706959706959,0.6959706959706959,0.6923076923076923,0.6886446886446886,0.6886446886446886,0.684981684981685,0.6813186813186813,0.6813186813186813,0.6776556776556777,0.6776556776556777,0.673992673992674,0.6703296703296703,0.6703296703296703,0.6666666666666666,0.663003663003663,0.6593406593406593,0.6556776556776557,0.652014652014652,0.652014652014652,0.6483516483516484,0.6446886446886447,0.6410256410256411,0.6373626373626373,0.6336996336996337,0.63003663003663,0.6263736263736264,0.6227106227106227,0.6227106227106227,0.6190476190476191,0.6190476190476191,0.6153846153846154,0.6117216117216118,0.5934065934065934,0.5897435897435898,0.5860805860805861,0.575091575091575,0.575091575091575,0.575091575091575,0.5714285714285714,0.5677655677655677,0.5677655677655677,0.5641025641025641,0.5604395604395604,0.5567765567765568,0.5531135531135531,0.5494505494505495,0.5457875457875457,0.5421245421245421,0.5384615384615384,0.5347985347985348,0.5311355311355311,0.5274725274725275,0.5238095238095238,0.5201465201465202,0.5164835164835165,0.5128205128205128,0.5091575091575091,0.5054945054945055,0.5018315018315018,0.5018315018315018,0.4945054945054945,0.4945054945054945,0.4908424908424908,0.48717948717948717,0.4835164835164835,0.47985347985347987,0.47619047619047616,0.47619047619047616,0.4725274725274725,0.46886446886446886,0.4652014652014652,0.46153846153846156,0.45787545787545786,0.4542124542124542,0.45054945054945056,0.4468864468864469,0.4432234432234432,0.43956043956043955,0.4358974358974359,0.43223443223443225,0.42857142857142855,0.4249084249084249,0.42124542124542125,0.4175824175824176,0.4139194139194139,0.41025641025641024,0.4065934065934066,0.40293040293040294,0.3992673992673993,0.3956043956043956,0.39194139194139194,0.3882783882783883,0.38461538461538464,0.38095238095238093,0.37362637362637363,0.36996336996337,0.3663003663003663,0.3626373626373626,0.358974358974359,0.3553113553113553,0.3516483516483517,0.34798534798534797,0.3443223443223443,0.34065934065934067,0.336996336996337,0.3333333333333333,0.32967032967032966,0.326007326007326,0.32234432234432236,0.31868131868131866,0.315018315018315,0.31135531135531136,0.3076923076923077,0.304029304029304,0.30036630036630035,0.2967032967032967,0.29304029304029305,0.2893772893772894,0.2857142857142857,0.28205128205128205,0.2783882783882784,0.27472527472527475,0.27106227106227104,0.2673992673992674,0.26373626373626374,0.2600732600732601,0.2564102564102564,0.25274725274725274,0.2490842490842491,0.2454212454212454,0.24175824175824176,0.23809523809523808,0.23443223443223443,0.23076923076923078,0.2271062271062271,0.22344322344322345,0.21978021978021978,0.21611721611721613,0.21245421245421245,0.2087912087912088,0.20512820512820512,0.20146520146520147,0.1978021978021978,0.19413919413919414,0.19047619047619047,0.18681318681318682,0.18315018315018314,0.1794871794871795,0.17582417582417584,0.17216117216117216,0.1684981684981685,0.16483516483516483,0.16117216117216118,0.1575091575091575,0.15384615384615385,0.15018315018315018,0.14652014652014653,0.14285714285714285,0.1391941391941392,0.13553113553113552,0.13186813186813187,0.1282051282051282,0.12454212454212454,0.12087912087912088,0.11721611721611722,0.11355311355311355,0.10989010989010989,0.10622710622710622,0.10256410256410256,0.0989010989010989,0.09523809523809523,0.09157509157509157,0.08791208791208792,0.08424908424908426,0.08058608058608059,0.07692307692307693,0.07326007326007326,0.0695970695970696,0.06593406593406594,0.06227106227106227,0.05860805860805861,0.054945054945054944,0.05128205128205128,0.047619047619047616,0.04395604395604396,0.040293040293040296,0.03663003663003663,0.03296703296703297,0.029304029304029304,0.02564102564102564,0.02197802197802198,0.018315018315018316,0.014652014652014652,0.01098901098901099,0.007326007326007326,0.003663003663003663],\"type\":\"scatter\"},{\"line\":{\"color\":\"#062635\"},\"name\":\"Test Recall\",\"x\":[0.029688967391848564,0.032902609556913376,0.03490624949336052,0.03924383595585823,0.04228543862700462,0.0432247556746006,0.04599694535136223,0.051284607499837875,0.053841687738895416,0.06132245808839798,0.06307294964790344,0.06374022364616394,0.06531708687543869,0.07400849461555481,0.07551366090774536,0.07627653330564499,0.07939349114894867,0.08256055414676666,0.08505222201347351,0.08653073757886887,0.09023930132389069,0.09250404685735703,0.09282415360212326,0.09328821301460266,0.09609177708625793,0.09853147715330124,0.1000128909945488,0.10190944373607635,0.10484015941619873,0.10515816509723663,0.1081356480717659,0.1099756509065628,0.11176855862140656,0.11195459216833115,0.11307094246149063,0.11550503224134445,0.11618023365736008,0.11671209335327148,0.11692829430103302,0.11755071580410004,0.11813388019800186,0.11857122927904129,0.11975548416376114,0.12152034789323807,0.12181775271892548,0.12297568470239639,0.12815560400485992,0.12973935902118683,0.1308809369802475,0.1322096735239029,0.13506339490413666,0.1351121962070465,0.13514719903469086,0.14036980271339417,0.1460111439228058,0.14634297788143158,0.1475357562303543,0.15047146379947662,0.1591489315032959,0.16471335291862488,0.1689784973859787,0.1724119782447815,0.17775022983551025,0.1845896989107132,0.18692907691001892,0.19058361649513245,0.19091172516345978,0.19534233212471008,0.2068503201007843,0.21424482762813568,0.21937650442123413,0.23301199078559875,0.23911669850349426,0.24929995834827423,0.2519887089729309,0.26451465487480164,0.2790852189064026,0.2807823419570923,0.29195091128349304,0.302724152803421,0.30881187319755554,0.3097686767578125,0.3116578459739685,0.31490615010261536,0.31512272357940674,0.33069419860839844,0.3474043011665344,0.3524302542209625,0.3603229522705078,0.3611637055873871,0.37159866094589233,0.39659127593040466,0.40009185671806335,0.42682695388793945,0.42688390612602234,0.4496987462043762,0.4558123052120209,0.4658205807209015,0.46706438064575195,0.4691409170627594,0.47287607192993164,0.4869454801082611,0.4969753324985504,0.4985933005809784,0.513762354850769,0.5141242742538452,0.5182715058326721,0.5803182125091553,0.5824785828590393,0.594017744064331,0.6288468241691589,0.6289382576942444,0.6474692821502686,0.7029348015785217,0.7464759945869446,0.7677439451217651,0.7688888907432556,0.8070796132087708,0.8079598546028137,0.8082181811332703,0.8133285641670227,0.8338815569877625,0.873281717300415,0.878054678440094,0.8947035074234009,0.9037005305290222,0.9148911237716675,0.9288907647132874,0.931218147277832,0.93527752161026,0.9433189630508423,0.9450863599777222,0.9567158818244934,0.9677785634994507,0.9711753129959106,0.9720708727836609,0.9729122519493103,0.9749475121498108,0.9774129390716553,0.9780170917510986,0.9790913462638855,0.9831225872039795,0.9872031807899475,0.9874001741409302,0.9897556900978088,0.990715503692627,0.9908942580223083,0.9923542737960815,0.9934109449386597,0.9980978965759277,0.9988352060317993,0.9988932013511658,0.9989402890205383,0.9995356202125549,0.9995936155319214,0.9996280670166016,0.9997137784957886,0.9999673366546631,0.9999728798866272],\"y\":[1.0,0.9855072463768116,0.9855072463768116,0.9855072463768116,0.9855072463768116,0.9855072463768116,0.9855072463768116,0.9855072463768116,0.9710144927536232,0.9710144927536232,0.9710144927536232,0.9710144927536232,0.9710144927536232,0.9710144927536232,0.9710144927536232,0.9710144927536232,0.9565217391304348,0.9565217391304348,0.9565217391304348,0.9565217391304348,0.9565217391304348,0.9565217391304348,0.9565217391304348,0.9565217391304348,0.9565217391304348,0.9420289855072463,0.927536231884058,0.927536231884058,0.927536231884058,0.927536231884058,0.927536231884058,0.927536231884058,0.927536231884058,0.927536231884058,0.9130434782608695,0.9130434782608695,0.9130434782608695,0.9130434782608695,0.9130434782608695,0.8985507246376812,0.8985507246376812,0.8985507246376812,0.8985507246376812,0.8985507246376812,0.8985507246376812,0.8985507246376812,0.8985507246376812,0.8985507246376812,0.8985507246376812,0.8985507246376812,0.8985507246376812,0.8985507246376812,0.8985507246376812,0.8985507246376812,0.8985507246376812,0.8985507246376812,0.8985507246376812,0.8985507246376812,0.8985507246376812,0.8985507246376812,0.8985507246376812,0.8985507246376812,0.8840579710144928,0.8840579710144928,0.8840579710144928,0.8840579710144928,0.8695652173913043,0.8695652173913043,0.855072463768116,0.855072463768116,0.8405797101449275,0.8405797101449275,0.8405797101449275,0.8405797101449275,0.8405797101449275,0.8405797101449275,0.8405797101449275,0.8260869565217391,0.8115942028985508,0.8115942028985508,0.7971014492753623,0.7971014492753623,0.782608695652174,0.782608695652174,0.7681159420289855,0.7681159420289855,0.7536231884057971,0.7536231884057971,0.7391304347826086,0.7391304347826086,0.7391304347826086,0.7391304347826086,0.7391304347826086,0.7391304347826086,0.7246376811594203,0.7101449275362319,0.6956521739130435,0.6811594202898551,0.6811594202898551,0.6666666666666666,0.6666666666666666,0.6666666666666666,0.6666666666666666,0.6666666666666666,0.6666666666666666,0.6521739130434783,0.6521739130434783,0.6376811594202898,0.6376811594202898,0.6376811594202898,0.6231884057971014,0.6231884057971014,0.6086956521739131,0.6086956521739131,0.5942028985507246,0.5797101449275363,0.5652173913043478,0.5507246376811594,0.5507246376811594,0.5217391304347826,0.5072463768115942,0.5072463768115942,0.4927536231884058,0.4782608695652174,0.463768115942029,0.463768115942029,0.4492753623188406,0.43478260869565216,0.42028985507246375,0.4057971014492754,0.391304347826087,0.37681159420289856,0.36231884057971014,0.34782608695652173,0.3333333333333333,0.3188405797101449,0.2898550724637681,0.2898550724637681,0.2753623188405797,0.2608695652173913,0.2608695652173913,0.2608695652173913,0.2463768115942029,0.2318840579710145,0.21739130434782608,0.2028985507246377,0.18840579710144928,0.17391304347826086,0.15942028985507245,0.14492753623188406,0.13043478260869565,0.11594202898550725,0.10144927536231885,0.08695652173913043,0.07246376811594203,0.057971014492753624,0.043478260869565216,0.028985507246376812,0.014492753623188406],\"type\":\"scatter\"}],                        {\"template\":{\"data\":{\"bar\":[{\"error_x\":{\"color\":\"#2a3f5f\"},\"error_y\":{\"color\":\"#2a3f5f\"},\"marker\":{\"line\":{\"color\":\"#E5ECF6\",\"width\":0.5},\"pattern\":{\"fillmode\":\"overlay\",\"size\":10,\"solidity\":0.2}},\"type\":\"bar\"}],\"barpolar\":[{\"marker\":{\"line\":{\"color\":\"#E5ECF6\",\"width\":0.5},\"pattern\":{\"fillmode\":\"overlay\",\"size\":10,\"solidity\":0.2}},\"type\":\"barpolar\"}],\"carpet\":[{\"aaxis\":{\"endlinecolor\":\"#2a3f5f\",\"gridcolor\":\"white\",\"linecolor\":\"white\",\"minorgridcolor\":\"white\",\"startlinecolor\":\"#2a3f5f\"},\"baxis\":{\"endlinecolor\":\"#2a3f5f\",\"gridcolor\":\"white\",\"linecolor\":\"white\",\"minorgridcolor\":\"white\",\"startlinecolor\":\"#2a3f5f\"},\"type\":\"carpet\"}],\"choropleth\":[{\"colorbar\":{\"outlinewidth\":0,\"ticks\":\"\"},\"type\":\"choropleth\"}],\"contour\":[{\"colorbar\":{\"outlinewidth\":0,\"ticks\":\"\"},\"colorscale\":[[0.0,\"#0d0887\"],[0.1111111111111111,\"#46039f\"],[0.2222222222222222,\"#7201a8\"],[0.3333333333333333,\"#9c179e\"],[0.4444444444444444,\"#bd3786\"],[0.5555555555555556,\"#d8576b\"],[0.6666666666666666,\"#ed7953\"],[0.7777777777777778,\"#fb9f3a\"],[0.8888888888888888,\"#fdca26\"],[1.0,\"#f0f921\"]],\"type\":\"contour\"}],\"contourcarpet\":[{\"colorbar\":{\"outlinewidth\":0,\"ticks\":\"\"},\"type\":\"contourcarpet\"}],\"heatmap\":[{\"colorbar\":{\"outlinewidth\":0,\"ticks\":\"\"},\"colorscale\":[[0.0,\"#0d0887\"],[0.1111111111111111,\"#46039f\"],[0.2222222222222222,\"#7201a8\"],[0.3333333333333333,\"#9c179e\"],[0.4444444444444444,\"#bd3786\"],[0.5555555555555556,\"#d8576b\"],[0.6666666666666666,\"#ed7953\"],[0.7777777777777778,\"#fb9f3a\"],[0.8888888888888888,\"#fdca26\"],[1.0,\"#f0f921\"]],\"type\":\"heatmap\"}],\"heatmapgl\":[{\"colorbar\":{\"outlinewidth\":0,\"ticks\":\"\"},\"colorscale\":[[0.0,\"#0d0887\"],[0.1111111111111111,\"#46039f\"],[0.2222222222222222,\"#7201a8\"],[0.3333333333333333,\"#9c179e\"],[0.4444444444444444,\"#bd3786\"],[0.5555555555555556,\"#d8576b\"],[0.6666666666666666,\"#ed7953\"],[0.7777777777777778,\"#fb9f3a\"],[0.8888888888888888,\"#fdca26\"],[1.0,\"#f0f921\"]],\"type\":\"heatmapgl\"}],\"histogram\":[{\"marker\":{\"pattern\":{\"fillmode\":\"overlay\",\"size\":10,\"solidity\":0.2}},\"type\":\"histogram\"}],\"histogram2d\":[{\"colorbar\":{\"outlinewidth\":0,\"ticks\":\"\"},\"colorscale\":[[0.0,\"#0d0887\"],[0.1111111111111111,\"#46039f\"],[0.2222222222222222,\"#7201a8\"],[0.3333333333333333,\"#9c179e\"],[0.4444444444444444,\"#bd3786\"],[0.5555555555555556,\"#d8576b\"],[0.6666666666666666,\"#ed7953\"],[0.7777777777777778,\"#fb9f3a\"],[0.8888888888888888,\"#fdca26\"],[1.0,\"#f0f921\"]],\"type\":\"histogram2d\"}],\"histogram2dcontour\":[{\"colorbar\":{\"outlinewidth\":0,\"ticks\":\"\"},\"colorscale\":[[0.0,\"#0d0887\"],[0.1111111111111111,\"#46039f\"],[0.2222222222222222,\"#7201a8\"],[0.3333333333333333,\"#9c179e\"],[0.4444444444444444,\"#bd3786\"],[0.5555555555555556,\"#d8576b\"],[0.6666666666666666,\"#ed7953\"],[0.7777777777777778,\"#fb9f3a\"],[0.8888888888888888,\"#fdca26\"],[1.0,\"#f0f921\"]],\"type\":\"histogram2dcontour\"}],\"mesh3d\":[{\"colorbar\":{\"outlinewidth\":0,\"ticks\":\"\"},\"type\":\"mesh3d\"}],\"parcoords\":[{\"line\":{\"colorbar\":{\"outlinewidth\":0,\"ticks\":\"\"}},\"type\":\"parcoords\"}],\"pie\":[{\"automargin\":true,\"type\":\"pie\"}],\"scatter\":[{\"marker\":{\"colorbar\":{\"outlinewidth\":0,\"ticks\":\"\"}},\"type\":\"scatter\"}],\"scatter3d\":[{\"line\":{\"colorbar\":{\"outlinewidth\":0,\"ticks\":\"\"}},\"marker\":{\"colorbar\":{\"outlinewidth\":0,\"ticks\":\"\"}},\"type\":\"scatter3d\"}],\"scattercarpet\":[{\"marker\":{\"colorbar\":{\"outlinewidth\":0,\"ticks\":\"\"}},\"type\":\"scattercarpet\"}],\"scattergeo\":[{\"marker\":{\"colorbar\":{\"outlinewidth\":0,\"ticks\":\"\"}},\"type\":\"scattergeo\"}],\"scattergl\":[{\"marker\":{\"colorbar\":{\"outlinewidth\":0,\"ticks\":\"\"}},\"type\":\"scattergl\"}],\"scattermapbox\":[{\"marker\":{\"colorbar\":{\"outlinewidth\":0,\"ticks\":\"\"}},\"type\":\"scattermapbox\"}],\"scatterpolar\":[{\"marker\":{\"colorbar\":{\"outlinewidth\":0,\"ticks\":\"\"}},\"type\":\"scatterpolar\"}],\"scatterpolargl\":[{\"marker\":{\"colorbar\":{\"outlinewidth\":0,\"ticks\":\"\"}},\"type\":\"scatterpolargl\"}],\"scatterternary\":[{\"marker\":{\"colorbar\":{\"outlinewidth\":0,\"ticks\":\"\"}},\"type\":\"scatterternary\"}],\"surface\":[{\"colorbar\":{\"outlinewidth\":0,\"ticks\":\"\"},\"colorscale\":[[0.0,\"#0d0887\"],[0.1111111111111111,\"#46039f\"],[0.2222222222222222,\"#7201a8\"],[0.3333333333333333,\"#9c179e\"],[0.4444444444444444,\"#bd3786\"],[0.5555555555555556,\"#d8576b\"],[0.6666666666666666,\"#ed7953\"],[0.7777777777777778,\"#fb9f3a\"],[0.8888888888888888,\"#fdca26\"],[1.0,\"#f0f921\"]],\"type\":\"surface\"}],\"table\":[{\"cells\":{\"fill\":{\"color\":\"#EBF0F8\"},\"line\":{\"color\":\"white\"}},\"header\":{\"fill\":{\"color\":\"#C8D4E3\"},\"line\":{\"color\":\"white\"}},\"type\":\"table\"}]},\"layout\":{\"annotationdefaults\":{\"arrowcolor\":\"#2a3f5f\",\"arrowhead\":0,\"arrowwidth\":1},\"autotypenumbers\":\"strict\",\"coloraxis\":{\"colorbar\":{\"outlinewidth\":0,\"ticks\":\"\"}},\"colorscale\":{\"diverging\":[[0,\"#8e0152\"],[0.1,\"#c51b7d\"],[0.2,\"#de77ae\"],[0.3,\"#f1b6da\"],[0.4,\"#fde0ef\"],[0.5,\"#f7f7f7\"],[0.6,\"#e6f5d0\"],[0.7,\"#b8e186\"],[0.8,\"#7fbc41\"],[0.9,\"#4d9221\"],[1,\"#276419\"]],\"sequential\":[[0.0,\"#0d0887\"],[0.1111111111111111,\"#46039f\"],[0.2222222222222222,\"#7201a8\"],[0.3333333333333333,\"#9c179e\"],[0.4444444444444444,\"#bd3786\"],[0.5555555555555556,\"#d8576b\"],[0.6666666666666666,\"#ed7953\"],[0.7777777777777778,\"#fb9f3a\"],[0.8888888888888888,\"#fdca26\"],[1.0,\"#f0f921\"]],\"sequentialminus\":[[0.0,\"#0d0887\"],[0.1111111111111111,\"#46039f\"],[0.2222222222222222,\"#7201a8\"],[0.3333333333333333,\"#9c179e\"],[0.4444444444444444,\"#bd3786\"],[0.5555555555555556,\"#d8576b\"],[0.6666666666666666,\"#ed7953\"],[0.7777777777777778,\"#fb9f3a\"],[0.8888888888888888,\"#fdca26\"],[1.0,\"#f0f921\"]]},\"colorway\":[\"#636efa\",\"#EF553B\",\"#00cc96\",\"#ab63fa\",\"#FFA15A\",\"#19d3f3\",\"#FF6692\",\"#B6E880\",\"#FF97FF\",\"#FECB52\"],\"font\":{\"color\":\"#2a3f5f\"},\"geo\":{\"bgcolor\":\"white\",\"lakecolor\":\"white\",\"landcolor\":\"#E5ECF6\",\"showlakes\":true,\"showland\":true,\"subunitcolor\":\"white\"},\"hoverlabel\":{\"align\":\"left\"},\"hovermode\":\"closest\",\"mapbox\":{\"style\":\"light\"},\"paper_bgcolor\":\"white\",\"plot_bgcolor\":\"#E5ECF6\",\"polar\":{\"angularaxis\":{\"gridcolor\":\"white\",\"linecolor\":\"white\",\"ticks\":\"\"},\"bgcolor\":\"#E5ECF6\",\"radialaxis\":{\"gridcolor\":\"white\",\"linecolor\":\"white\",\"ticks\":\"\"}},\"scene\":{\"xaxis\":{\"backgroundcolor\":\"#E5ECF6\",\"gridcolor\":\"white\",\"gridwidth\":2,\"linecolor\":\"white\",\"showbackground\":true,\"ticks\":\"\",\"zerolinecolor\":\"white\"},\"yaxis\":{\"backgroundcolor\":\"#E5ECF6\",\"gridcolor\":\"white\",\"gridwidth\":2,\"linecolor\":\"white\",\"showbackground\":true,\"ticks\":\"\",\"zerolinecolor\":\"white\"},\"zaxis\":{\"backgroundcolor\":\"#E5ECF6\",\"gridcolor\":\"white\",\"gridwidth\":2,\"linecolor\":\"white\",\"showbackground\":true,\"ticks\":\"\",\"zerolinecolor\":\"white\"}},\"shapedefaults\":{\"line\":{\"color\":\"#2a3f5f\"}},\"ternary\":{\"aaxis\":{\"gridcolor\":\"white\",\"linecolor\":\"white\",\"ticks\":\"\"},\"baxis\":{\"gridcolor\":\"white\",\"linecolor\":\"white\",\"ticks\":\"\"},\"bgcolor\":\"#E5ECF6\",\"caxis\":{\"gridcolor\":\"white\",\"linecolor\":\"white\",\"ticks\":\"\"}},\"title\":{\"x\":0.05},\"xaxis\":{\"automargin\":true,\"gridcolor\":\"white\",\"linecolor\":\"white\",\"ticks\":\"\",\"title\":{\"standoff\":15},\"zerolinecolor\":\"white\",\"zerolinewidth\":2},\"yaxis\":{\"automargin\":true,\"gridcolor\":\"white\",\"linecolor\":\"white\",\"ticks\":\"\",\"title\":{\"standoff\":15},\"zerolinecolor\":\"white\",\"zerolinewidth\":2}}},\"title\":{\"text\":\"Precision-Recall curve\"},\"width\":900,\"height\":500},                        {\"responsive\": true}                    ).then(function(){\n",
       "                            \n",
       "var gd = document.getElementById('30213415-eb95-4d23-b594-c49a8b4b315c');\n",
       "var x = new MutationObserver(function (mutations, observer) {{\n",
       "        var display = window.getComputedStyle(gd).display;\n",
       "        if (!display || display === 'none') {{\n",
       "            console.log([gd, 'removed!']);\n",
       "            Plotly.purge(gd);\n",
       "            observer.disconnect();\n",
       "        }}\n",
       "}});\n",
       "\n",
       "// Listen for the removal of the full notebook cells\n",
       "var notebookContainer = gd.closest('#notebook-container');\n",
       "if (notebookContainer) {{\n",
       "    x.observe(notebookContainer, {childList: true});\n",
       "}}\n",
       "\n",
       "// Listen for the clearing of the current output cell\n",
       "var outputEl = gd.closest('.output');\n",
       "if (outputEl) {{\n",
       "    x.observe(outputEl, {childList: true});\n",
       "}}\n",
       "\n",
       "                        })                };                });            </script>        </div>"
      ]
     },
     "metadata": {},
     "output_type": "display_data"
    }
   ],
   "source": [
    "# Display Metrics\n",
    "metrics_report(y_train, y_test, y_pred_train, y_pred_test, y_proba_train, y_proba_test, labels=['dead', 'survived'])"
   ]
  },
  {
   "cell_type": "markdown",
   "id": "5b931c38",
   "metadata": {},
   "source": [
    "## __E)__ Qual o modelo teve o melhor desempenho?"
   ]
  },
  {
   "cell_type": "code",
   "execution_count": 530,
   "id": "b78e3c77",
   "metadata": {
    "ExecuteTime": {
     "end_time": "2022-06-07T00:55:27.383364Z",
     "start_time": "2022-06-07T00:55:27.374237Z"
    }
   },
   "outputs": [],
   "source": [
    "## "
   ]
  },
  {
   "cell_type": "code",
   "execution_count": 531,
   "id": "05d25b59",
   "metadata": {
    "ExecuteTime": {
     "end_time": "2022-06-07T00:55:27.759832Z",
     "start_time": "2022-06-07T00:55:27.392173Z"
    }
   },
   "outputs": [
    {
     "data": {
      "text/html": [
       "<details>\n",
       "<summary>Click to view session information</summary>\n",
       "<pre>\n",
       "-----\n",
       "keras               2.9.0\n",
       "matplotlib          3.5.2\n",
       "mlxtend             0.20.0\n",
       "numpy               1.21.5\n",
       "pandas              1.4.2\n",
       "plotly              5.6.0\n",
       "scikeras            0.8.0\n",
       "seaborn             0.11.2\n",
       "session_info        1.0.0\n",
       "sklearn             1.0.2\n",
       "tensorflow          2.9.1\n",
       "-----\n",
       "</pre>\n",
       "<details>\n",
       "<summary>Click to view modules imported as dependencies</summary>\n",
       "<pre>\n",
       "PIL                                         9.0.1\n",
       "PyObjCTools                                 NA\n",
       "aa8f2297d25b4dc6fd3d98411eb3ba53823c4f42    NA\n",
       "absl                                        NA\n",
       "appnope                                     0.1.2\n",
       "asttokens                                   NA\n",
       "astunparse                                  1.6.3\n",
       "attr                                        21.4.0\n",
       "backcall                                    0.2.0\n",
       "beta_ufunc                                  NA\n",
       "binom_ufunc                                 NA\n",
       "bottleneck                                  1.3.4\n",
       "brotli                                      NA\n",
       "certifi                                     2022.05.18.1\n",
       "cffi                                        1.15.0\n",
       "chardet                                     4.0.0\n",
       "charset_normalizer                          2.0.4\n",
       "cloudpickle                                 2.0.0\n",
       "colorama                                    0.4.4\n",
       "cycler                                      0.10.0\n",
       "cython_runtime                              NA\n",
       "dateutil                                    2.8.2\n",
       "debugpy                                     1.5.1\n",
       "decorator                                   5.1.1\n",
       "defusedxml                                  0.7.1\n",
       "executing                                   0.8.3\n",
       "fastjsonschema                              NA\n",
       "flatbuffers                                 NA\n",
       "fsspec                                      2022.3.0\n",
       "gast                                        NA\n",
       "google                                      NA\n",
       "h5py                                        3.6.0\n",
       "idna                                        3.3\n",
       "importlib_metadata                          NA\n",
       "ipykernel                                   6.9.1\n",
       "ipython_genutils                            0.2.0\n",
       "ipywidgets                                  7.6.5\n",
       "jedi                                        0.18.1\n",
       "joblib                                      1.1.0\n",
       "jsonschema                                  4.4.0\n",
       "jupyter_server                              1.13.5\n",
       "kiwisolver                                  1.4.2\n",
       "lz4                                         3.1.3\n",
       "matplotlib_inline                           NA\n",
       "mkl                                         2.4.0\n",
       "mpl_toolkits                                NA\n",
       "nbformat                                    5.3.0\n",
       "nbinom_ufunc                                NA\n",
       "netifaces                                   0.11.0\n",
       "numexpr                                     2.8.1\n",
       "numpydoc                                    1.2\n",
       "opt_einsum                                  v3.3.0\n",
       "packaging                                   21.3\n",
       "parso                                       0.8.3\n",
       "pexpect                                     4.8.0\n",
       "pickle5                                     NA\n",
       "pickleshare                                 0.7.5\n",
       "pkg_resources                               NA\n",
       "prompt_toolkit                              3.0.20\n",
       "psutil                                      5.8.0\n",
       "ptyprocess                                  0.7.0\n",
       "pure_eval                                   0.2.2\n",
       "pvectorc                                    NA\n",
       "pyarrow                                     7.0.0\n",
       "pydev_ipython                               NA\n",
       "pydevconsole                                NA\n",
       "pydevd                                      2.6.0\n",
       "pydevd_concurrency_analyser                 NA\n",
       "pydevd_file_utils                           NA\n",
       "pydevd_plugins                              NA\n",
       "pydevd_tracing                              NA\n",
       "pygments                                    2.11.2\n",
       "pyparsing                                   3.0.4\n",
       "pyrsistent                                  NA\n",
       "pytz                                        2021.3\n",
       "requests                                    2.27.1\n",
       "scipy                                       1.7.3\n",
       "setuptools                                  61.2.0\n",
       "six                                         1.16.0\n",
       "socks                                       1.7.1\n",
       "sphinxcontrib                               NA\n",
       "stack_data                                  0.2.0\n",
       "statsmodels                                 0.13.2\n",
       "tblib                                       1.7.0\n",
       "tenacity                                    NA\n",
       "tensorboard                                 2.9.0\n",
       "termcolor                                   1.1.0\n",
       "threadpoolctl                               2.2.0\n",
       "tornado                                     6.1\n",
       "traitlets                                   5.1.1\n",
       "typing_extensions                           NA\n",
       "urllib3                                     1.26.9\n",
       "wcwidth                                     0.2.5\n",
       "wrapt                                       1.12.1\n",
       "zipp                                        NA\n",
       "zmq                                         22.3.0\n",
       "zope                                        NA\n",
       "</pre>\n",
       "</details> <!-- seems like this ends pre, so might as well be explicit -->\n",
       "<pre>\n",
       "-----\n",
       "IPython             8.3.0\n",
       "jupyter_client      6.1.12\n",
       "jupyter_core        4.10.0\n",
       "jupyterlab          3.3.2\n",
       "notebook            6.4.11\n",
       "-----\n",
       "Python 3.9.12 (main, Apr  5 2022, 01:53:17) [Clang 12.0.0 ]\n",
       "macOS-10.15.7-x86_64-i386-64bit\n",
       "-----\n",
       "Session information updated at 2022-06-06 21:55\n",
       "</pre>\n",
       "</details>"
      ],
      "text/plain": [
       "<IPython.core.display.HTML object>"
      ]
     },
     "execution_count": 531,
     "metadata": {},
     "output_type": "execute_result"
    }
   ],
   "source": [
    "import session_info\n",
    "session_info.show()"
   ]
  }
 ],
 "metadata": {
  "kernelspec": {
   "display_name": "Python 3 (ipykernel)",
   "language": "python",
   "name": "python3"
  },
  "language_info": {
   "codemirror_mode": {
    "name": "ipython",
    "version": 3
   },
   "file_extension": ".py",
   "mimetype": "text/x-python",
   "name": "python",
   "nbconvert_exporter": "python",
   "pygments_lexer": "ipython3",
   "version": "3.9.12"
  },
  "toc": {
   "base_numbering": 1,
   "nav_menu": {},
   "number_sections": true,
   "sideBar": true,
   "skip_h1_title": false,
   "title_cell": "Table of Contents",
   "title_sidebar": "Contents",
   "toc_cell": false,
   "toc_position": {},
   "toc_section_display": true,
   "toc_window_display": false
  }
 },
 "nbformat": 4,
 "nbformat_minor": 5
}
