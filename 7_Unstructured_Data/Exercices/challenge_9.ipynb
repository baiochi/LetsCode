{
 "cells": [
  {
   "cell_type": "markdown",
   "metadata": {},
   "source": [
    "# Imports"
   ]
  },
  {
   "cell_type": "code",
   "execution_count": 4,
   "metadata": {},
   "outputs": [
    {
     "name": "stdout",
     "output_type": "stream",
     "text": [
      "Libraries versions:\n",
      "Numpy: 1.20.3\n",
      "Pandas: 1.3.4\n",
      "Seaborn: 0.11.2\n",
      "Matplotlib: 3.4.3\n"
     ]
    },
    {
     "data": {
      "text/html": [
       "<style>\n",
       "\n",
       ".main_title {\n",
       "    font-family:Lato,sans-serif;\n",
       "    color:#f5b324;\n",
       "    font-size: 3em;\n",
       "}\n",
       "\n",
       "hr {\n",
       "  background: linear-gradient(to right, #00fafd, #f5b324);\n",
       "  height: 2px;\n",
       "}\n",
       "\n",
       "h1 {\n",
       "    font-family:Lato,sans-serif;\n",
       "    color:#f5b324;\n",
       "    font-style: bold;\n",
       "    font-size: 1em;\n",
       "}\n",
       "\n",
       "h2 {\n",
       "    font-family:Lato,sans-serif;\n",
       "    color:#07bbf7;\n",
       "    font-size: 1em;\n",
       "}\n",
       "\n",
       ".author {\n",
       "    font-family:Lato,sans-serif;\n",
       "    font-style: italic;\n",
       "    font-size: 1em;\n",
       "}\n",
       "</style>"
      ],
      "text/plain": [
       "<IPython.core.display.HTML object>"
      ]
     },
     "execution_count": 4,
     "metadata": {},
     "output_type": "execute_result"
    }
   ],
   "source": [
    "# Supress warnings\n",
    "import warnings; warnings.filterwarnings('ignore')\n",
    "\n",
    "# Data handling and visualization\n",
    "import numpy as np\n",
    "import pandas as pd\n",
    "import matplotlib\n",
    "import matplotlib.pyplot as plt\n",
    "import seaborn as sns\n",
    "\n",
    "# graphic visualization setup\n",
    "sns.set()\n",
    "matplotlib.rcParams['font.family'] = 'sans-serif'\n",
    "matplotlib.rcParams['font.sans-serif'] = ['Lato']\n",
    "\n",
    "# color pallete for graphics\n",
    "colors ={\n",
    "    'cyan': '#1696d2',\n",
    "    'gray': '#5c5859',\n",
    "    'black': '#000000',\n",
    "    'yellow': '#fdbf11',\n",
    "    'orange': '#ca5800',\n",
    "    'magenta': '#af1f6b',\n",
    "    'green': '#408941',\n",
    "    'red': '#a4201d'\n",
    "}\n",
    "\n",
    "# Image drawing colors\n",
    "BLUE   = '#00fafd'    # rgb(0,250,253)\n",
    "YELLOW = '#f5b324'    # rgb(245,179,36)\n",
    "\n",
    "# Terminal colors\n",
    "WHITE = '\\033[39m'\n",
    "CYAN = '\\033[36m'\n",
    "GREEN = '\\033[32m'\n",
    "RED = '\\033[31m'\n",
    "\n",
    "# Libraries version\n",
    "print('Libraries versions:')\n",
    "print(f'Numpy: {np.__version__}')\n",
    "print(f'Pandas: {pd.__version__}')\n",
    "print(f'Seaborn: {sns.__version__}')\n",
    "print(f'Matplotlib: {matplotlib.__version__}')\n",
    "\n",
    "# Styling notebook with CSS\n",
    "from IPython.core.display import HTML\n",
    "styles = open(\"/Users/baiochi/OneDrive/GitHub/LetsCode/misc/styles/custom_jupyter_notebook.css\", \"r\").read()\n",
    "HTML(styles)"
   ]
  },
  {
   "cell_type": "code",
   "execution_count": 13,
   "metadata": {},
   "outputs": [],
   "source": [
    "from sklearn.metrics import ConfusionMatrixDisplay, classification_report, roc_auc_score, roc_curve, precision_recall_curve\n",
    "\n",
    "def display_classification_metrics(estimator, X_train, X_test, y_train, y_test, \n",
    "\t\t\t\t\t\t\t\t\tplot_roc_auc=True, plot_confusion_matrix=True, plot_precision_recall=True):\n",
    "\n",
    "\t# predict for train/test\n",
    "\ty_pred_train = estimator.predict(X_train)\n",
    "\ty_pred_test = estimator.predict(X_test)\n",
    "\t# predict proba for train/test\n",
    "\ty_proba_train = estimator.predict_proba(X_train)\n",
    "\ty_proba_test = estimator.predict_proba(X_test)\n",
    "\n",
    "\t# Calculate ROC AUC Score\n",
    "\tprint(f'{CYAN}ROC AUC Score for Train dataset:{WHITE} {roc_auc_score(y_train, y_proba_train[:,1])}')\n",
    "\tprint(f'{CYAN}ROC AUC Score for Test dataset:{WHITE} {roc_auc_score(y_test, y_proba_test[:,1])}')\n",
    "\tprint()\n",
    "\t# Classification report: precision, recall, f1-score\n",
    "\tprint(f'{CYAN}Train data Classification Report:{WHITE}\\n',classification_report(y_train, y_pred_train))\n",
    "\tprint(f'{CYAN}Test data Classification Report:{WHITE}\\n',classification_report(y_test, y_pred_test))\n",
    "\n",
    "\tif plot_roc_auc:\n",
    "\t\t# get false positive rates and true positive rates\n",
    "\t\tfpr, tpr, _ = roc_curve(y_test, y_proba_test[:,1])\n",
    "\t\t# score for test dataset\n",
    "\t\tscore = round(roc_auc_score(y_test, y_proba_test[:,1]),3)\n",
    "\t\t# plot ROC AUC curve\n",
    "\t\tplt.figure(figsize=(8,6))\n",
    "\t\tplt.plot(fpr, tpr, label=f'Classifier AUC = {score}')\n",
    "\t\tplt.plot(np.linspace(0,1,100),np.linspace(0,1,100), ls=':', label='Random = 0.5')\n",
    "\t\tplt.title('ROC AUC curve', fontsize=18, pad=20, loc='left')\n",
    "\t\tplt.xlabel('False Positive Rate')\n",
    "\t\tplt.ylabel('True Positive Rate')\n",
    "\t\tplt.legend()\n",
    "\t\tplt.tight_layout()\n",
    "\t\tplt.show()\n",
    "\n",
    "\tif plot_precision_recall:\n",
    "\t\t# get precisions, recalls and thres\n",
    "\t\tprecisions, recalls, thresholds = precision_recall_curve(y_test, y_proba_test[:,1])\n",
    "\t\t# plot Precision-Recall curve\n",
    "\t\tplt.figure(figsize=(8,6))\n",
    "\t\tplt.plot(thresholds, precisions[:-1], label='Precision')\n",
    "\t\tplt.plot(thresholds, recalls[:-1], label='Recall', color='black')\n",
    "\t\tplt.title('Precision-Recall curve', fontsize=18, pad=20, loc='left')\n",
    "\t\tplt.xlabel('Tresholds cutoffs')\n",
    "\t\tplt.legend()\n",
    "\t\tplt.tight_layout()\n",
    "\t\tplt.show()\n",
    "\t\t\n",
    "\tif plot_confusion_matrix:\n",
    "\t\tfig, ax = plt.subplots(1,2,figsize=(10,6))\n",
    "\t\t# plot Confusion Matrix from Train dataset\n",
    "\t\tfig.suptitle('Confusion Matrix', size=22)\n",
    "\t\tConfusionMatrixDisplay.from_predictions(y_train, y_pred_train, ax=ax[0], colorbar=False)\n",
    "\t\tax[0].grid(False)\n",
    "\t\tax[0].set_title('Train dataset', size=18, pad=20)\n",
    "\n",
    "\t\t# plot Confusion Matrix from Test dataset\n",
    "\t\tcf = ConfusionMatrixDisplay.from_predictions(y_test, y_pred_test, ax=ax[1], colorbar=False)\n",
    "\t\tax[1].grid(False)\n",
    "\t\tax[1].set_title('Test dataset', size=18, pad=20)\n",
    "\t\t\n",
    "\t\t# coordinates to plot colorbar on the right plot\n",
    "\t\tcax = plt.axes([0.95, 0.21, 0.03, 0.60])\n",
    "\t\tplt.colorbar(cf.im_, cax=cax)\n",
    "\t\tplt.show()"
   ]
  },
  {
   "cell_type": "markdown",
   "metadata": {},
   "source": [
    "# Potato"
   ]
  },
  {
   "cell_type": "code",
   "execution_count": 5,
   "metadata": {},
   "outputs": [
    {
     "data": {
      "text/html": [
       "<div>\n",
       "<style scoped>\n",
       "    .dataframe tbody tr th:only-of-type {\n",
       "        vertical-align: middle;\n",
       "    }\n",
       "\n",
       "    .dataframe tbody tr th {\n",
       "        vertical-align: top;\n",
       "    }\n",
       "\n",
       "    .dataframe thead th {\n",
       "        text-align: right;\n",
       "    }\n",
       "</style>\n",
       "<table border=\"1\" class=\"dataframe\">\n",
       "  <thead>\n",
       "    <tr style=\"text-align: right;\">\n",
       "      <th></th>\n",
       "      <th>label</th>\n",
       "      <th>message</th>\n",
       "    </tr>\n",
       "  </thead>\n",
       "  <tbody>\n",
       "    <tr>\n",
       "      <th>0</th>\n",
       "      <td>ham</td>\n",
       "      <td>Go until jurong point, crazy.. Available only ...</td>\n",
       "    </tr>\n",
       "    <tr>\n",
       "      <th>1</th>\n",
       "      <td>ham</td>\n",
       "      <td>Ok lar... Joking wif u oni...</td>\n",
       "    </tr>\n",
       "    <tr>\n",
       "      <th>2</th>\n",
       "      <td>spam</td>\n",
       "      <td>Free entry in 2 a wkly comp to win FA Cup fina...</td>\n",
       "    </tr>\n",
       "    <tr>\n",
       "      <th>3</th>\n",
       "      <td>ham</td>\n",
       "      <td>U dun say so early hor... U c already then say...</td>\n",
       "    </tr>\n",
       "    <tr>\n",
       "      <th>4</th>\n",
       "      <td>ham</td>\n",
       "      <td>Nah I don't think he goes to usf, he lives aro...</td>\n",
       "    </tr>\n",
       "  </tbody>\n",
       "</table>\n",
       "</div>"
      ],
      "text/plain": [
       "  label                                            message\n",
       "0   ham  Go until jurong point, crazy.. Available only ...\n",
       "1   ham                      Ok lar... Joking wif u oni...\n",
       "2  spam  Free entry in 2 a wkly comp to win FA Cup fina...\n",
       "3   ham  U dun say so early hor... U c already then say...\n",
       "4   ham  Nah I don't think he goes to usf, he lives aro..."
      ]
     },
     "execution_count": 5,
     "metadata": {},
     "output_type": "execute_result"
    }
   ],
   "source": [
    "df = pd.read_csv('data/SMSSpamCollection', sep='\\t', names=['label', 'message'])\n",
    "\n",
    "df.head()"
   ]
  },
  {
   "cell_type": "code",
   "execution_count": 6,
   "metadata": {},
   "outputs": [
    {
     "data": {
      "text/plain": [
       "label      0\n",
       "message    0\n",
       "dtype: int64"
      ]
     },
     "execution_count": 6,
     "metadata": {},
     "output_type": "execute_result"
    }
   ],
   "source": [
    "df.isnull().sum()"
   ]
  },
  {
   "cell_type": "code",
   "execution_count": 24,
   "metadata": {},
   "outputs": [],
   "source": [
    "from sklearn.model_selection import train_test_split\n",
    "\n",
    "X = df['message']\n",
    "y = df['label']\n",
    "\n",
    "# 20 elements\n",
    "#X_train, X_test, y_train, y_test = train_test_split(X, y, test_size=20, random_state=52)\n",
    "\n",
    "# 20%\n",
    "X_train, X_test, y_train, y_test = train_test_split(X, y, test_size=0.5, random_state=52)"
   ]
  },
  {
   "cell_type": "code",
   "execution_count": 8,
   "metadata": {},
   "outputs": [
    {
     "data": {
      "text/plain": [
       "(4457, 7763)"
      ]
     },
     "execution_count": 8,
     "metadata": {},
     "output_type": "execute_result"
    }
   ],
   "source": [
    "from sklearn.feature_extraction.text import CountVectorizer\n",
    "\n",
    "count_vect = CountVectorizer()\n",
    "\n",
    "X_train_counts = count_vect.fit_transform(X_train)\n",
    "\n",
    "X_train_counts.shape"
   ]
  },
  {
   "cell_type": "code",
   "execution_count": 9,
   "metadata": {},
   "outputs": [],
   "source": [
    "# TF-IDF\n",
    "\n",
    "#TF: Freq de aparição de um termo\n",
    "#IDF: Inverso da freq que um termo aparece em diferentes \"corpus\"\n",
    "\n",
    "#TF-IDF: term freq * inverse document freq ---> classifica a imporrtância\n",
    "\n",
    "from sklearn.feature_extraction.text import TfidfTransformer\n",
    "\n",
    "#instancia a classe\n",
    "tfidf_transform = TfidfTransformer()\n",
    "\n",
    "X_train_tfidf = tfidf_transform.fit_transform(X_train_counts)"
   ]
  },
  {
   "cell_type": "code",
   "execution_count": 10,
   "metadata": {},
   "outputs": [],
   "source": [
    "from sklearn.feature_extraction.text import TfidfVectorizer\n",
    "\n",
    "#instancia a classe\n",
    "vectorizer = TfidfVectorizer()\n",
    "\n",
    "X_train_tfidf = vectorizer.fit_transform(X_train)"
   ]
  },
  {
   "cell_type": "code",
   "execution_count": 11,
   "metadata": {},
   "outputs": [
    {
     "data": {
      "text/plain": [
       "LinearSVC()"
      ]
     },
     "execution_count": 11,
     "metadata": {},
     "output_type": "execute_result"
    }
   ],
   "source": [
    "from sklearn.svm import LinearSVC\n",
    "\n",
    "#instancia a classe\n",
    "c = LinearSVC()\n",
    "\n",
    "c.fit(X_train_tfidf, y_train)"
   ]
  },
  {
   "cell_type": "code",
   "execution_count": 15,
   "metadata": {},
   "outputs": [],
   "source": [
    "from xgboost import XGBClassifier"
   ]
  },
  {
   "cell_type": "code",
   "execution_count": 25,
   "metadata": {},
   "outputs": [
    {
     "name": "stdout",
     "output_type": "stream",
     "text": [
      "[22:02:16] WARNING: /private/var/folders/_m/3m0bcc4n6h73gny0bt6_g4x80000gn/T/pip-install-4m5tp6_t/xgboost_17c0d7c1e7cb4a3aab80bf74764ec6a2/build/temp.macosx-10.9-x86_64-3.9/xgboost/src/learner.cc:1115: Starting in XGBoost 1.3.0, the default evaluation metric used with the objective 'binary:logistic' was changed from 'error' to 'logloss'. Explicitly set eval_metric if you'd like to restore the old behavior.\n"
     ]
    },
    {
     "data": {
      "text/plain": [
       "Pipeline(steps=[('tfidf', TfidfVectorizer()),\n",
       "                ('c',\n",
       "                 XGBClassifier(base_score=0.5, booster='gbtree',\n",
       "                               colsample_bylevel=1, colsample_bynode=1,\n",
       "                               colsample_bytree=1, enable_categorical=False,\n",
       "                               gamma=0, gpu_id=-1, importance_type=None,\n",
       "                               interaction_constraints='',\n",
       "                               learning_rate=0.300000012, max_delta_step=0,\n",
       "                               max_depth=6, min_child_weight=1, missing=nan,\n",
       "                               monotone_constraints='()', n_estimators=100,\n",
       "                               n_jobs=1, num_parallel_tree=1, predictor='auto',\n",
       "                               random_state=0, reg_alpha=0, reg_lambda=1,\n",
       "                               scale_pos_weight=1, subsample=1,\n",
       "                               tree_method='exact', validate_parameters=1,\n",
       "                               verbosity=None))])"
      ]
     },
     "execution_count": 25,
     "metadata": {},
     "output_type": "execute_result"
    }
   ],
   "source": [
    "from sklearn.pipeline import Pipeline\n",
    "\n",
    "#cria o pipeline com o vetorizador e o modelo\n",
    "xgb = Pipeline([('tfidf', TfidfVectorizer()),('xgbc', XGBClassifier())])\n",
    "\n",
    "xgb.fit(X_train, y_train)"
   ]
  },
  {
   "cell_type": "code",
   "execution_count": 26,
   "metadata": {},
   "outputs": [
    {
     "name": "stdout",
     "output_type": "stream",
     "text": [
      "\u001b[36mTrain data Classification Report:\u001b[39m\n",
      "               precision    recall  f1-score   support\n",
      "\n",
      "         ham       1.00      1.00      1.00      2422\n",
      "        spam       1.00      0.99      1.00       364\n",
      "\n",
      "    accuracy                           1.00      2786\n",
      "   macro avg       1.00      1.00      1.00      2786\n",
      "weighted avg       1.00      1.00      1.00      2786\n",
      "\n",
      "\u001b[36mTest data Classification Report:\u001b[39m\n",
      "               precision    recall  f1-score   support\n",
      "\n",
      "         ham       0.97      1.00      0.98      2403\n",
      "        spam       0.97      0.80      0.88       383\n",
      "\n",
      "    accuracy                           0.97      2786\n",
      "   macro avg       0.97      0.90      0.93      2786\n",
      "weighted avg       0.97      0.97      0.97      2786\n",
      "\n"
     ]
    },
    {
     "data": {
      "image/png": "[encoded data removed]",
      "text/plain": [
       "<Figure size 720x432 with 3 Axes>"
      ]
     },
     "metadata": {},
     "output_type": "display_data"
    }
   ],
   "source": [
    "# predict for train/test\n",
    "y_pred_train = xgb.predict(X_train)\n",
    "y_pred_test = xgb.predict(X_test)\n",
    "# Classification report: precision, recall, f1-score\n",
    "print(f'{CYAN}Train data Classification Report:{WHITE}\\n',classification_report(y_train, y_pred_train))\n",
    "print(f'{CYAN}Test data Classification Report:{WHITE}\\n',classification_report(y_test, y_pred_test))\n",
    "\n",
    "fig, ax = plt.subplots(1,2,figsize=(10,6))\n",
    "# plot Confusion Matrix from Train dataset\n",
    "fig.suptitle('Confusion Matrix', size=22)\n",
    "ConfusionMatrixDisplay.from_predictions(y_train, y_pred_train, ax=ax[0], colorbar=False)\n",
    "ax[0].grid(False)\n",
    "ax[0].set_title('Train dataset', size=18, pad=20)\n",
    "\n",
    "# plot Confusion Matrix from Test dataset\n",
    "cf = ConfusionMatrixDisplay.from_predictions(y_test, y_pred_test, ax=ax[1], colorbar=False)\n",
    "ax[1].grid(False)\n",
    "ax[1].set_title('Test dataset', size=18, pad=20)\n",
    "\n",
    "# coordinates to plot colorbar on the right plot\n",
    "cax = plt.axes([0.95, 0.21, 0.03, 0.60])\n",
    "plt.colorbar(cf.im_, cax=cax)\n",
    "plt.show()"
   ]
  },
  {
   "cell_type": "code",
   "execution_count": 27,
   "metadata": {},
   "outputs": [
    {
     "data": {
      "text/plain": [
       "array(['ham'], dtype=object)"
      ]
     },
     "execution_count": 27,
     "metadata": {},
     "output_type": "execute_result"
    }
   ],
   "source": [
    "xgb.predict(['Click here and I will get your password'])"
   ]
  },
  {
   "cell_type": "code",
   "execution_count": null,
   "metadata": {},
   "outputs": [],
   "source": []
  }
 ],
 "metadata": {
  "interpreter": {
   "hash": "4cc37c5bde6f2c4a9abbb0f88e1ba241d8320ce9d430498035b829e5a00e7fb9"
  },
  "kernelspec": {
   "display_name": "Python 3.9.7 ('base')",
   "language": "python",
   "name": "python3"
  },
  "language_info": {
   "codemirror_mode": {
    "name": "ipython",
    "version": 3
   },
   "file_extension": ".py",
   "mimetype": "text/x-python",
   "name": "python",
   "nbconvert_exporter": "python",
   "pygments_lexer": "ipython3",
   "version": "3.9.7"
  },
  "orig_nbformat": 4
 },
 "nbformat": 4,
 "nbformat_minor": 2
}
