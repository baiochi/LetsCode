{
 "cells": [
  {
   "cell_type": "code",
   "execution_count": 1,
   "metadata": {
    "ExecuteTime": {
     "end_time": "2022-04-25T19:54:45.365108Z",
     "start_time": "2022-04-25T19:54:43.767087Z"
    }
   },
   "outputs": [],
   "source": [
    "import numpy as np\n",
    "import cv2"
   ]
  },
  {
   "cell_type": "code",
   "execution_count": null,
   "metadata": {
    "ExecuteTime": {
     "start_time": "2022-04-25T19:53:06.865Z"
    }
   },
   "outputs": [],
   "source": [
    "imagem = cv2.imread(\"img.jpg\")\n",
    "res = cv2.resize(imagem, dsize=(480,720),interpolation=cv2.INTER_CUBIC)\n",
    "\n",
    "cv2.imshow('Ednaldo', res)\n",
    "\n",
    "cv2.waitKey(0)\n",
    "\n",
    "cv2.destroyWindow('Ednaldo')"
   ]
  },
  {
   "cell_type": "code",
   "execution_count": null,
   "metadata": {
    "ExecuteTime": {
     "start_time": "2022-04-25T19:53:28.573Z"
    }
   },
   "outputs": [],
   "source": [
    "imagem_cinza = cv2.cvtColor(res, cv2.COLOR_BGR2GRAY)\n",
    "\n",
    "cv2.imshow('Ednaldo_Gray', imagem_cinza)\n",
    "\n",
    "cv2.waitKey(0)\n",
    "\n",
    "cv2.destroyWindow('Ednaldo_Gray')"
   ]
  },
  {
   "cell_type": "code",
   "execution_count": 12,
   "metadata": {},
   "outputs": [],
   "source": [
    "m = cv2.medianBlur(imagem_cinza, 5)\n",
    "\n",
    "comparacao = np.concatenate((imagem_cinza, m), axis=1)\n",
    "\n",
    "cv2.imshow('comparacao', comparacao)\n",
    "\n",
    "cv2.waitKey(0)\n",
    "\n",
    "cv2.destroyWindow('comparacao')\n"
   ]
  },
  {
   "cell_type": "markdown",
   "metadata": {},
   "source": [
    "$$\n",
    "\\begin{vmatrix}\n",
    "\n",
    "\\cos{\\theta} & \\sin{\\theta} \\\\\n",
    "- \\sin{\\theta} & \\cos{\\theta}\n",
    "\\end{vmatrix}\n",
    "\n",
    "$$"
   ]
  },
  {
   "cell_type": "code",
   "execution_count": 19,
   "metadata": {},
   "outputs": [],
   "source": [
    "rows, cols, dim = res.shape\n",
    "\n",
    "M = cv2.getRotationMatrix2D((cols/2, rows/2), 90, 1)\n",
    "\n",
    "d = cv2.warpAffine(res, M, (cols, rows))\n",
    "\n",
    "cv2.imshow('Rotacao', d)\n",
    "\n",
    "cv2.waitKey(0)\n",
    "\n",
    "cv2.destroyWindow('Rotacao')\n"
   ]
  }
 ],
 "metadata": {
  "interpreter": {
   "hash": "b3ba2566441a7c06988d0923437866b63cedc61552a5af99d1f4fb67d367b25f"
  },
  "kernelspec": {
   "display_name": "Python 3 (ipykernel)",
   "language": "python",
   "name": "python3"
  },
  "language_info": {
   "codemirror_mode": {
    "name": "ipython",
    "version": 3
   },
   "file_extension": ".py",
   "mimetype": "text/x-python",
   "name": "python",
   "nbconvert_exporter": "python",
   "pygments_lexer": "ipython3",
   "version": "3.9.7"
  },
  "toc": {
   "base_numbering": 1,
   "nav_menu": {},
   "number_sections": true,
   "sideBar": true,
   "skip_h1_title": false,
   "title_cell": "Table of Contents",
   "title_sidebar": "Contents",
   "toc_cell": false,
   "toc_position": {},
   "toc_section_display": true,
   "toc_window_display": false
  }
 },
 "nbformat": 4,
 "nbformat_minor": 2
}
