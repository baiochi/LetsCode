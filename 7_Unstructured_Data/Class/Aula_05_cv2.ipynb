{
 "cells": [
  {
   "cell_type": "code",
   "execution_count": 1,
   "metadata": {
    "ExecuteTime": {
     "end_time": "2022-04-26T14:46:59.388737Z",
     "start_time": "2022-04-26T14:46:56.711011Z"
    },
    "id": "-iwQSPYfbMnO"
   },
   "outputs": [],
   "source": [
    "import cv2 as cv\n",
    "import numpy as np"
   ]
  },
  {
   "cell_type": "code",
   "execution_count": 6,
   "metadata": {
    "ExecuteTime": {
     "end_time": "2022-04-26T14:51:10.383244Z",
     "start_time": "2022-04-26T14:51:10.321895Z"
    },
    "id": "C2U7rLI-bMnY"
   },
   "outputs": [],
   "source": [
    "face_class = cv.CascadeClassifier('data/haarcascade_frontalface_default.xml')"
   ]
  },
  {
   "cell_type": "code",
   "execution_count": 7,
   "metadata": {
    "ExecuteTime": {
     "end_time": "2022-04-26T14:51:11.878890Z",
     "start_time": "2022-04-26T14:51:11.854282Z"
    },
    "id": "t7d2kwsebMna"
   },
   "outputs": [],
   "source": [
    "image = cv.imread('data/img.jpg')\n",
    "res = cv.resize(image, dsize=(480,720),interpolation=cv.INTER_CUBIC)\n",
    "image_gray = cv.cvtColor(res, cv.COLOR_BGR2GRAY)"
   ]
  },
  {
   "cell_type": "code",
   "execution_count": 4,
   "metadata": {
    "ExecuteTime": {
     "end_time": "2022-04-26T14:48:58.521940Z",
     "start_time": "2022-04-26T14:48:58.516693Z"
    },
    "id": "FSDURGHHbMnb"
   },
   "outputs": [],
   "source": [
    "eye_class = cv.CascadeClassifier('data/haarcascade_eye.xml')"
   ]
  },
  {
   "cell_type": "code",
   "execution_count": 8,
   "metadata": {
    "ExecuteTime": {
     "end_time": "2022-04-26T14:51:13.972769Z",
     "start_time": "2022-04-26T14:51:13.714085Z"
    },
    "id": "5kesgf5fbMnc"
   },
   "outputs": [],
   "source": [
    "faces = face_class.detectMultiScale(image_gray, 1.3, 5)\n",
    "\n",
    "for (x,y,w,h) in faces:\n",
    "    cv.rectangle(res, (x,y), (x+w, y+h), (255, 0, 0), 2)\n",
    "    roi_gray = image_gray[y:y+h, x:x+w]\n",
    "    roi_color = res[y:y+h, x:x+w]\n",
    "    eyes = eye_class.detectMultiScale(roi_gray)\n",
    "    for (ex, ey, ew, eh) in eyes:\n",
    "        cv.rectangle(roi_color,(ex, ey), (ex+ew, ey+eh),(255, 0, 0), 2)\n",
    "        \n"
   ]
  },
  {
   "cell_type": "code",
   "execution_count": 9,
   "metadata": {
    "ExecuteTime": {
     "end_time": "2022-04-26T14:51:51.560137Z",
     "start_time": "2022-04-26T14:51:34.719335Z"
    },
    "id": "7BeSj9eLbMnf"
   },
   "outputs": [],
   "source": [
    "cv.imshow('Ednaldo Pereira', res)\n",
    "\n",
    "cv.waitKey(0)\n",
    "\n",
    "cv.destroyWindow('Ednaldo Pereira')"
   ]
  },
  {
   "cell_type": "code",
   "execution_count": 12,
   "metadata": {
    "ExecuteTime": {
     "end_time": "2022-04-26T14:55:50.929911Z",
     "start_time": "2022-04-26T14:55:28.982290Z"
    },
    "id": "pDnhf7k9bMnh",
    "outputId": "d59f8fb8-40fb-4d01-bd60-6b338b403032"
   },
   "outputs": [
    {
     "data": {
      "text/plain": [
       "32"
      ]
     },
     "execution_count": 12,
     "metadata": {},
     "output_type": "execute_result"
    }
   ],
   "source": [
    "video = cv.VideoCapture(0)\n",
    "## Loop\n",
    "while True:\n",
    "    ## mantendo conectada a webcam e os frames\n",
    "    conectado, frame = video.read()\n",
    "    ## transformando em escala de cinza\n",
    "    frameCinza = cv.cvtColor(frame, cv.COLOR_BGR2GRAY)\n",
    "    ## detectando a face com o classificador treinado xml\n",
    "    faces = face_class.detectMultiScale(image_gray, 1.3, 5)\n",
    "    for (x,y,l,a) in faces:\n",
    "        cv.rectangle(frame, (x,y), (x+l, y+a), (0,0,255), 2)\n",
    "    \n",
    "    cv.imshow('Video',frame)\n",
    "    \n",
    "    ## Fechar janela do video\n",
    "    if cv.waitKey(1) == ord('s'):\n",
    "        break\n",
    "      \n",
    "## Liberar a captura\n",
    "video.release() \n",
    "## Liberar memória\n",
    "cv.destroyAllWindows()\n",
    "cv.waitKey(0)"
   ]
  },
  {
   "cell_type": "code",
   "execution_count": null,
   "metadata": {
    "id": "Xa0I0krBbMnm"
   },
   "outputs": [],
   "source": []
  }
 ],
 "metadata": {
  "colab": {
   "name": "Aula05_cv2.ipynb",
   "provenance": []
  },
  "interpreter": {
   "hash": "b3ba2566441a7c06988d0923437866b63cedc61552a5af99d1f4fb67d367b25f"
  },
  "kernelspec": {
   "display_name": "Python 3 (ipykernel)",
   "language": "python",
   "name": "python3"
  },
  "language_info": {
   "codemirror_mode": {
    "name": "ipython",
    "version": 3
   },
   "file_extension": ".py",
   "mimetype": "text/x-python",
   "name": "python",
   "nbconvert_exporter": "python",
   "pygments_lexer": "ipython3",
   "version": "3.9.7"
  },
  "toc": {
   "base_numbering": 1,
   "nav_menu": {},
   "number_sections": true,
   "sideBar": true,
   "skip_h1_title": false,
   "title_cell": "Table of Contents",
   "title_sidebar": "Contents",
   "toc_cell": false,
   "toc_position": {},
   "toc_section_display": true,
   "toc_window_display": false
  }
 },
 "nbformat": 4,
 "nbformat_minor": 1
}
