{
 "cells": [
  {
   "cell_type": "markdown",
   "id": "0f8a1783",
   "metadata": {
    "ExecuteTime": {
     "end_time": "2022-05-06T22:27:45.118310Z",
     "start_time": "2022-05-06T22:27:45.091894Z"
    }
   },
   "source": [
    "<span class='main_title'>Processamento de Linguagem Natural (PLN)</span>\n",
    "<hr>"
   ]
  },
  {
   "cell_type": "markdown",
   "id": "954d5dd1",
   "metadata": {},
   "source": [
    "# Imports"
   ]
  },
  {
   "cell_type": "code",
   "execution_count": 2,
   "id": "18b87283",
   "metadata": {
    "ExecuteTime": {
     "end_time": "2022-05-06T22:28:52.871417Z",
     "start_time": "2022-05-06T22:28:52.848218Z"
    }
   },
   "outputs": [
    {
     "data": {
      "text/html": [
       "<style>\n",
       "\n",
       ".main_title {\n",
       "    font-family:Lato,sans-serif;\n",
       "    color:#f5b324;\n",
       "    font-size: 3em;\n",
       "}\n",
       "\n",
       "hr {\n",
       "  background: linear-gradient(to right, #00fafd, #f5b324);\n",
       "  height: 2px;\n",
       "}\n",
       "\n",
       "h1 {\n",
       "    font-family:Lato,sans-serif;\n",
       "    color:#f5b324;\n",
       "    font-style: bold;\n",
       "    font-size: 1em;\n",
       "}\n",
       "\n",
       "h2 {\n",
       "    font-family:Lato,sans-serif;\n",
       "    color:#07bbf7;\n",
       "    font-size: 1em;\n",
       "}\n",
       "\n",
       ".author {\n",
       "    font-family:Lato,sans-serif;\n",
       "    font-style: italic;\n",
       "    font-size: 1em;\n",
       "}\n",
       "</style>"
      ],
      "text/plain": [
       "<IPython.core.display.HTML object>"
      ]
     },
     "execution_count": 2,
     "metadata": {},
     "output_type": "execute_result"
    }
   ],
   "source": [
    "# Styling notebook with CSS\n",
    "from IPython.core.display import HTML\n",
    "styles = open(\"./styles/custom.css\", \"r\").read()\n",
    "HTML(styles)"
   ]
  },
  {
   "cell_type": "code",
   "execution_count": 6,
   "id": "9d11dec7",
   "metadata": {
    "ExecuteTime": {
     "end_time": "2022-05-06T22:47:21.519791Z",
     "start_time": "2022-05-06T22:47:21.507465Z"
    }
   },
   "outputs": [],
   "source": [
    "from nltk.tokenize import sent_tokenize\n",
    "nltk.download('punkt')"
   ]
  },
  {
   "cell_type": "markdown",
   "id": "dfe7a1f4",
   "metadata": {},
   "source": [
    "# Intro"
   ]
  },
  {
   "cell_type": "code",
   "execution_count": 4,
   "id": "9f0b6a9f",
   "metadata": {
    "ExecuteTime": {
     "end_time": "2022-05-06T22:46:52.360365Z",
     "start_time": "2022-05-06T22:46:52.346874Z"
    }
   },
   "outputs": [
    {
     "data": {
      "text/plain": [
       "\"You don't need a reason to help people.\""
      ]
     },
     "execution_count": 4,
     "metadata": {},
     "output_type": "execute_result"
    }
   ],
   "source": [
    "text = 'You don\\'t need a reason to help people.'\n",
    "text"
   ]
  },
  {
   "cell_type": "code",
   "execution_count": 9,
   "id": "73603755",
   "metadata": {
    "ExecuteTime": {
     "end_time": "2022-05-06T22:48:20.052916Z",
     "start_time": "2022-05-06T22:48:20.031739Z"
    }
   },
   "outputs": [
    {
     "data": {
      "text/plain": [
       "[\"You don't need a reason to help people.\"]"
      ]
     },
     "execution_count": 9,
     "metadata": {},
     "output_type": "execute_result"
    }
   ],
   "source": [
    "sent_tokenize(text)"
   ]
  },
  {
   "cell_type": "code",
   "execution_count": 11,
   "id": "994a6e2c",
   "metadata": {
    "ExecuteTime": {
     "end_time": "2022-05-07T00:03:41.585373Z",
     "start_time": "2022-05-07T00:03:41.577201Z"
    }
   },
   "outputs": [
    {
     "name": "stdout",
     "output_type": "stream",
     "text": [
      "Array doesnt exist\n"
     ]
    }
   ],
   "source": [
    "try:\n",
    "    if len(potato)<0:\n",
    "        print(True)\n",
    "except NameError:\n",
    "    print('Array doesnt exist')"
   ]
  },
  {
   "cell_type": "code",
   "execution_count": null,
   "id": "69d2d996",
   "metadata": {},
   "outputs": [],
   "source": []
  }
 ],
 "metadata": {
  "kernelspec": {
   "display_name": "Python 3 (ipykernel)",
   "language": "python",
   "name": "python3"
  },
  "language_info": {
   "codemirror_mode": {
    "name": "ipython",
    "version": 3
   },
   "file_extension": ".py",
   "mimetype": "text/x-python",
   "name": "python",
   "nbconvert_exporter": "python",
   "pygments_lexer": "ipython3",
   "version": "3.9.7"
  },
  "toc": {
   "base_numbering": 1,
   "nav_menu": {},
   "number_sections": true,
   "sideBar": true,
   "skip_h1_title": false,
   "title_cell": "Table of Contents",
   "title_sidebar": "Contents",
   "toc_cell": false,
   "toc_position": {},
   "toc_section_display": true,
   "toc_window_display": false
  }
 },
 "nbformat": 4,
 "nbformat_minor": 5
}
