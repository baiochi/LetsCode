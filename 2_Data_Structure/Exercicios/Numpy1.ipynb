{
 "cells": [
  {
   "cell_type": "code",
   "execution_count": 7,
   "source": [
    "import numpy as np\r\n",
    "import random"
   ],
   "outputs": [],
   "metadata": {}
  },
  {
   "cell_type": "code",
   "execution_count": 83,
   "source": [
    "arr = np.arange(50)\r\n",
    "\r\n",
    "arr_atualizado = arr[(arr != 1) | (arr != 3)]\r\n",
    "print(arr_atualizado)"
   ],
   "outputs": [
    {
     "output_type": "stream",
     "name": "stdout",
     "text": [
      "[ 0  1  2  3  4  5  6  7  8  9 10 11 12 13 14 15 16 17 18 19 20 21 22 23\n",
      " 24 25 26 27 28 29 30 31 32 33 34 35 36 37 38 39 40 41 42 43 44 45 46 47\n",
      " 48 49]\n"
     ]
    }
   ],
   "metadata": {}
  },
  {
   "cell_type": "code",
   "execution_count": 84,
   "source": [
    "\"\"\"\r\n",
    "Agora, vamos explorar os arrays aleatórios e máscaras. Faça o que se pede:\r\n",
    "a) Crie um array aleatório de 15 itens entre 0 e 100;\r\n",
    "b) Qual o maior número do array?\r\n",
    "c) Qual a sua posição?\r\n",
    "d) Verifique quais números do array são maior que 10;\r\n",
    "e) Salve em uma nova lista apenas os itens entre 10 e 30.\r\n",
    "\"\"\"\r\n",
    "\r\n",
    "array = np.array(random.sample(range(0,100),15))\r\n",
    "print(f'A) Array: {array}')\r\n",
    "print(f'B) Max value: {max(array)}')\r\n",
    "print(f'C) Max value position: {int(np.where(array == max(array))[0])}')\r\n",
    "print(f'D) Values > 10: {array[array>10]}')\r\n",
    "filteredArray = array[(array >= 10) & (array <= 30)]\r\n",
    "print(f'E) {filteredArray}')"
   ],
   "outputs": [
    {
     "output_type": "stream",
     "name": "stdout",
     "text": [
      "A) Array: [78 14 70 41 12 90 95 85 44 82 81 51  5 94 66]\n",
      "B) Max value: 95\n",
      "C) Max value position: 6\n",
      "D) Values > 10: [78 14 70 41 12 90 95 85 44 82 81 51 94 66]\n",
      "E) [14 12]\n"
     ]
    }
   ],
   "metadata": {}
  },
  {
   "cell_type": "code",
   "execution_count": 170,
   "source": [
    "\"\"\"\r\n",
    "Nosso próximo foco serão as matrizes. Faça o que se pede:\r\n",
    "a) Gere uma matriz (3,2) com números linearmente espaçados entre 0 e 100 e intervalos de 20, usando o np.linspace();\r\n",
    "b) Gere uma matriz aleatória (5,2) com números entre 0 e 100;\r\n",
    "c) Crie um array com as dimensões apropriadas que, quando multiplicado pela matriz do item a), devolva essa mesma matriz. \r\n",
    "Use o método np.matmul().\r\n",
    "\"\"\"\r\n",
    "matrix = np.array(np.linspace(0,100,6)).reshape((3,2), order = \"C\")\r\n",
    "print(f'A) {matrix}')\r\n",
    "print(f'B) {np.random.randint(0,100, size=(5,2))}')\r\n",
    "identityMatrix = np.array([[1,0],[0,1]])\r\n",
    "print(f'C) {np.matmul(matrix , identityMatrix)}')"
   ],
   "outputs": [
    {
     "output_type": "stream",
     "name": "stdout",
     "text": [
      "A) [[  0.  20.]\n",
      " [ 40.  60.]\n",
      " [ 80. 100.]]\n",
      "B) [[34 24]\n",
      " [61 61]\n",
      " [46 69]\n",
      " [37 88]\n",
      " [16 93]]\n",
      "C) [[  0.  20.]\n",
      " [ 40.  60.]\n",
      " [ 80. 100.]]\n"
     ]
    }
   ],
   "metadata": {}
  }
 ],
 "metadata": {
  "orig_nbformat": 4,
  "language_info": {
   "name": "python",
   "version": "3.8.8",
   "mimetype": "text/x-python",
   "codemirror_mode": {
    "name": "ipython",
    "version": 3
   },
   "pygments_lexer": "ipython3",
   "nbconvert_exporter": "python",
   "file_extension": ".py"
  },
  "kernelspec": {
   "name": "python3",
   "display_name": "Python 3.8.8 64-bit (conda)"
  },
  "interpreter": {
   "hash": "b3ba2566441a7c06988d0923437866b63cedc61552a5af99d1f4fb67d367b25f"
  }
 },
 "nbformat": 4,
 "nbformat_minor": 2
}