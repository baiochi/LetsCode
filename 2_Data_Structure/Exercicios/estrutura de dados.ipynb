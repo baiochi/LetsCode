{
 "cells": [
  {
   "cell_type": "code",
   "execution_count": 1,
   "source": [
    "import numpy as np\r\n",
    "import random\r\n",
    "import csv\r\n",
    "from unidecode import unidecode\r\n",
    "\r\n",
    "random.seed(101)"
   ],
   "outputs": [],
   "metadata": {}
  },
  {
   "cell_type": "markdown",
   "source": [
    "__Questão__  \n",
    "a) Crie um array (numpy) formado por 25 números inteiros aleatórios entre 1 e 100. Para isso, utilize a seed 101.\n",
    "\n",
    "b) Em seguida, obtenha apenas os elementos que são maiores ou iguais a 80."
   ],
   "metadata": {}
  },
  {
   "cell_type": "code",
   "execution_count": 2,
   "source": [
    "array = np.array(random.sample(range(1,100),25))\r\n",
    "array[array>= 80]"
   ],
   "outputs": [
    {
     "output_type": "execute_result",
     "data": {
      "text/plain": [
       "array([85, 91, 98, 84, 81])"
      ]
     },
     "metadata": {},
     "execution_count": 2
    }
   ],
   "metadata": {}
  },
  {
   "cell_type": "markdown",
   "source": [
    "__Questão__  \n",
    "a) Converta o array da questão anterior (o array com os 25 elementos) em uma matriz com dimensão 5x5.\n",
    "\n",
    "b) Em seguida, crie uma outra matriz 5x5, com todos os elementos iguais a média dos elementos da primeira.\n",
    "\n",
    "c) Por fim, subtraia a primeira matriz pela segunda matriz."
   ],
   "metadata": {}
  },
  {
   "cell_type": "code",
   "execution_count": 3,
   "source": [
    "matrix1 = array.reshape(5,5)\r\n",
    "\r\n",
    "array2 = np.empty(25, dtype=float)\r\n",
    "array2.fill(array.mean())\r\n",
    "matrix2 = array2.reshape(5,5)\r\n",
    "\r\n",
    "result = matrix1 - matrix2\r\n",
    "result"
   ],
   "outputs": [
    {
     "output_type": "execute_result",
     "data": {
      "text/plain": [
       "array([[ 22.44, -27.56,  17.44,  -6.56,   7.44],\n",
       "       [-45.56,  32.44,  12.44, -24.56,  25.44],\n",
       "       [-23.56, -15.56,  10.44,  38.44,  -9.56],\n",
       "       [  4.44, -42.56, -19.56,  45.44, -31.56],\n",
       "       [-40.56,  31.44,  16.44,  -5.56,  28.44]])"
      ]
     },
     "metadata": {},
     "execution_count": 3
    }
   ],
   "metadata": {}
  },
  {
   "cell_type": "markdown",
   "source": [
    "__Questão desafio__\n",
    "Crie uma função recursiva que verifique se uma palavra é um palindromo.  \n",
    "Depois, o objetivo de vocês é dado o csv: ```palindromo_exemplo.csv```, iterar nas frases (palindromas) e retornar __True__ para todas as frases do CSV."
   ],
   "metadata": {}
  },
  {
   "cell_type": "markdown",
   "source": [
    "## normalize string, only alpha numeric, all to lower case"
   ],
   "metadata": {}
  },
  {
   "cell_type": "code",
   "execution_count": 32,
   "source": [
    "# format string before check palindrome \r\n",
    "def formatWord(word):\r\n",
    "    return ''.join([unidecode(char.lower()) for char in word if char.isalpha()])"
   ],
   "outputs": [],
   "metadata": {}
  },
  {
   "cell_type": "markdown",
   "source": [
    "## verify palindrome function"
   ],
   "metadata": {}
  },
  {
   "cell_type": "code",
   "execution_count": 33,
   "source": [
    "def verifyPalindrome(word, format=False):\r\n",
    "    # format word before checking characters\r\n",
    "    if format:\r\n",
    "        return verifyPalindrome(formatWord(word))\r\n",
    "    # base case for odd length\r\n",
    "    if len(word) == 1:\r\n",
    "        return True\r\n",
    "    # base case for even length\r\n",
    "    if len(word) == 2 and (len(word) % 2 == 0):\r\n",
    "        if word[0] == word[-1]:\r\n",
    "            return True\r\n",
    "        else:\r\n",
    "            return False\r\n",
    "    # enter recursion\r\n",
    "    if word[0] == word[-1]:\r\n",
    "        return verifyPalindrome(word[1:-1])\r\n",
    "    else:\r\n",
    "        # not a palindrome\r\n",
    "        return False"
   ],
   "outputs": [],
   "metadata": {}
  },
  {
   "cell_type": "markdown",
   "source": [
    "## reading cvs file"
   ],
   "metadata": {}
  },
  {
   "cell_type": "code",
   "execution_count": 34,
   "source": [
    "# reading csv file\r\n",
    "with open('palindromo_exemplo.csv', encoding='utf-8') as file:\r\n",
    "        reader = csv.reader(file)\r\n",
    "        wordList = [word[0] for word in reader]"
   ],
   "outputs": [],
   "metadata": {}
  },
  {
   "cell_type": "markdown",
   "source": [
    "## perform verify palindrome on the file"
   ],
   "metadata": {}
  },
  {
   "cell_type": "code",
   "execution_count": 35,
   "source": [
    "{word: verifyPalindrome(word, format=True) for word in wordList}\r\n"
   ],
   "outputs": [
    {
     "output_type": "execute_result",
     "data": {
      "text/plain": [
       "{'palindromos': False,\n",
       " 'A babá baba.': True,\n",
       " 'A base do teto desaba.': True,\n",
       " 'A cara rajada da jararaca.': True,\n",
       " 'A cera causa sua careca.': True,\n",
       " 'A dama admirou o rim da amada.': True,\n",
       " 'A Daniela ama a lei? Nada!': True,\n",
       " 'A diva ávida': True,\n",
       " 'A diva em Argel alegra-me a vida.': True,\n",
       " 'A droga do dote é todo da gorda.': True,\n",
       " 'A gorda ama a droga.': True,\n",
       " 'A grama é amarga.': True,\n",
       " 'A lupa pula.': True,\n",
       " 'A mãe te ama.': True,\n",
       " 'A mala nada na lama.': True,\n",
       " 'A miss é péssima!': True,\n",
       " 'A pateta ama até tapa.': True,\n",
       " 'A porta rangia à ignara tropa.': True,\n",
       " 'À Rita': False,\n",
       " 'A Rita': False,\n",
       " 'A rua Laura.': True,\n",
       " 'A sacada da casa.': True,\n",
       " 'A torre da derrota.': True,\n",
       " 'Acata o danado... e o danado ataca!': True,\n",
       " 'Acuda cadela da Leda caduca.': True,\n",
       " 'Adias a data da saída.': True,\n",
       " 'Ai': False,\n",
       " 'Aí': False,\n",
       " 'Ajudem Edu já!': True,\n",
       " 'Ali': False,\n",
       " 'Amar dá drama.': True,\n",
       " 'Ame o poema.': True,\n",
       " 'Amo Omã. Se Roma me tem amores': False,\n",
       " 'Amor a Roma.': True,\n",
       " 'Amora me tem aroma.': True,\n",
       " 'Ana lava Lana.': True,\n",
       " 'Ana Rita: a tirana!': True,\n",
       " 'Ana': True,\n",
       " 'Ande logo': False,\n",
       " 'Anotaram a data da maratona.': True,\n",
       " 'Anotaram? Meu erro comum ocorreu em maratona.': True,\n",
       " 'Após a sopa.': True,\n",
       " 'Arara rara.': True,\n",
       " 'Ari é fã da danada da feira.': True,\n",
       " 'Arroz é zorra.': True,\n",
       " 'Assim a aia ia à missa.': True,\n",
       " 'Assim a aluna anula a missa.': True,\n",
       " 'Até o poeta.': True,\n",
       " 'Até time demite': False,\n",
       " 'Atino…banana bonita.': True,\n",
       " 'Ato idiota.': True,\n",
       " 'Aula é a lua.': True,\n",
       " 'Ave veloz o leve. Vá!': True,\n",
       " 'E assim a missa é': True,\n",
       " 'E até o Papa poeta é.': True,\n",
       " 'E Leda': False,\n",
       " 'Eco: vejo hoje você.': True,\n",
       " 'Ele padece da pele.': True,\n",
       " 'Em roda, tropa; após a sopa, à porta dorme.': True,\n",
       " 'És sapo? Passe.': True,\n",
       " 'Ésio': False,\n",
       " 'Eva': False,\n",
       " 'Irene ri.': True,\n",
       " 'Lá tem metal.': True,\n",
       " 'Lá vou eu em meu eu oval.': True,\n",
       " 'Laço bacana para panaca boçal.': True,\n",
       " 'Ladra pardal.': True,\n",
       " 'Lava esse aval.': True,\n",
       " 'Livre do poder vil.': True,\n",
       " 'Luz azul.': True,\n",
       " 'Luza Rocelina': False,\n",
       " 'Marujos só juram.': True,\n",
       " 'Me vê se a panela da moça é de aço': False,\n",
       " 'Mega bobagem.': True,\n",
       " 'Missa é assim.': True,\n",
       " 'Morram após a sopa marrom.': True,\n",
       " 'No cabaré terá bacon?': True,\n",
       " 'Nos ligou o Gilson!': True,\n",
       " 'O Atari piratão.': True,\n",
       " 'O caso da droga da gorda do saco.': True,\n",
       " 'O céu sueco.': True,\n",
       " 'O Cid é médico.': True,\n",
       " 'O cotonete no toco.': True,\n",
       " 'O duplo pó do trote torpe de potro meu que morto pede protetor todo polpudo.': True,\n",
       " 'O galo ama o lago.': True,\n",
       " 'O lobo ama o bolo.': True,\n",
       " 'O mito é ótimo.': True,\n",
       " 'O muro: rever o rumo.': True,\n",
       " 'O pó de cocaína mata maníaco cedo': False,\n",
       " 'O romano acata amores a damas amadas e Roma ataca o namoro.': True,\n",
       " 'O teu dueto.': True,\n",
       " 'O treco certo.': True,\n",
       " 'O trote torto.': True,\n",
       " 'O voo do ovo.': True,\n",
       " 'Ódio do doido!': True,\n",
       " 'Oh nossas luvas avulsas': False,\n",
       " 'Oi': False,\n",
       " 'Olá': False,\n",
       " 'Olé! Maracujá': False,\n",
       " 'Orava o avaro.': True,\n",
       " 'Ótimo': False,\n",
       " 'Oto come doce seco de mocotó.': True,\n",
       " 'Oto come mocotó.': True,\n",
       " 'Pivete vip!': True,\n",
       " 'Rir': True,\n",
       " 'Roda esse corpo': False,\n",
       " 'Roma é amor.': True,\n",
       " 'Roma me tem amor.': True,\n",
       " 'Rota de redator.': True,\n",
       " 'Saíram o tio e oito marias.': True,\n",
       " 'Seco de raiva': False,\n",
       " 'Sem o dote': False,\n",
       " 'Ser belo: lebres.': True,\n",
       " 'Socorram-me': False,\n",
       " 'Soluço-me sem óculos.': True,\n",
       " 'Som': False,\n",
       " 'Zé de Lima': False}"
      ]
     },
     "metadata": {},
     "execution_count": 35
    }
   ],
   "metadata": {}
  },
  {
   "cell_type": "markdown",
   "source": [
    "## Testing"
   ],
   "metadata": {}
  },
  {
   "cell_type": "code",
   "execution_count": 25,
   "source": [
    "palindrome = 'ladrapardal'\r\n",
    "notPalindrome = 'ladrapordal'\r\n",
    "print(f'Test: verify palindrome word: {verifyPalindrome(palindrome) is True}')\r\n",
    "print(f'Test: verify normal word: {verifyPalindrome(notPalindrome) is False}')\r\n",
    "word = 'És sapo? Passe.'\r\n",
    "print(f'Test: format string: {(formatWord(word)).isalpha() is True}')"
   ],
   "outputs": [
    {
     "output_type": "stream",
     "name": "stdout",
     "text": [
      "Test: verify palindrome word: True\n",
      "Test: verify normal word: True\n",
      "Test: format string: True\n"
     ]
    }
   ],
   "metadata": {}
  }
 ],
 "metadata": {
  "kernelspec": {
   "name": "python3",
   "display_name": "Python 3.8.8 64-bit (conda)"
  },
  "language_info": {
   "codemirror_mode": {
    "name": "ipython",
    "version": 3
   },
   "file_extension": ".py",
   "mimetype": "text/x-python",
   "name": "python",
   "nbconvert_exporter": "python",
   "pygments_lexer": "ipython3",
   "version": "3.8.8"
  },
  "interpreter": {
   "hash": "b3ba2566441a7c06988d0923437866b63cedc61552a5af99d1f4fb67d367b25f"
  }
 },
 "nbformat": 4,
 "nbformat_minor": 5
}