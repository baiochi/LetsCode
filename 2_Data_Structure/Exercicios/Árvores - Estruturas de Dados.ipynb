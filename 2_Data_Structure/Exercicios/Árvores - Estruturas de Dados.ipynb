{
 "cells": [
  {
   "cell_type": "code",
   "execution_count": null,
   "source": [
    "# imports"
   ],
   "outputs": [],
   "metadata": {}
  },
  {
   "cell_type": "markdown",
   "source": [
    "# <span style='color:SlateBlue'>Exercício 1</span>    \r\n",
    "### Crie a árvore genealógica representada pela figura abaixo, utilizando a estrutura de dados Árvore. Em seguida, crie um método que recebe o nome de uma pessoa e informa se existe um integrante da família com esse nome (True) ou não (False).\r\n",
    "\r\n",
    "<img src='images/arvore-ex1.jpg' width=\"400\" height=\"500\"></img>"
   ],
   "metadata": {}
  },
  {
   "cell_type": "code",
   "execution_count": null,
   "source": [],
   "outputs": [],
   "metadata": {}
  },
  {
   "cell_type": "markdown",
   "source": [
    "# <span style='color:SlateBlue'>Exercício 2</span>    \r\n",
    "### Amplie a classe da árvore genealógica criada na questão anterior, adicionando um método que nos permita informar o nome de uma pessoa da família e, a partir disso, retorne quem é o ancestral (pai/mãe) dessa pessoa."
   ],
   "metadata": {}
  },
  {
   "cell_type": "code",
   "execution_count": null,
   "source": [],
   "outputs": [],
   "metadata": {}
  },
  {
   "cell_type": "markdown",
   "source": [
    "# <span style='color:SlateBlue'>Exercício 3</span>    \r\n",
    "### A startup ABC co. possui 4 funcionários, em que 2 desenvolvedores se reportam a um gerente, que, por sua vez, se reporta a um diretor. Sabendo que o colaborador possui uma ficha contendo um número de matrícula, um nome, um salário mensal e o seu cargo, construa uma árvore que apresente a hierarquia da empresa e uma função que retorne um dicionário em que a chave são os nomes do funcionários e o valor são seus salários, organizados em ordem decrescente de salário."
   ],
   "metadata": {}
  },
  {
   "cell_type": "code",
   "execution_count": null,
   "source": [],
   "outputs": [],
   "metadata": {}
  }
 ],
 "metadata": {
  "orig_nbformat": 4,
  "language_info": {
   "name": "python"
  }
 },
 "nbformat": 4,
 "nbformat_minor": 2
}