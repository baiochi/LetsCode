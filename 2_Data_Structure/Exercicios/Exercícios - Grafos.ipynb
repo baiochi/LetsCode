{
 "cells": [
  {
   "cell_type": "markdown",
   "metadata": {},
   "source": [
    "## Exercício\n",
    "\n",
    "Implemente o grafo abaixo utilizando a representação computacional de sua escolha (matriz ou lista de adjacências). Justifique a sua escolha.\n",
    "\n",
    "![](https://www.gta.ufrj.br/ensino/eel878/redes1-2018-1/trabalhos-vf/p2p/images/graph-example.png)\n",
    "\n",
    "Após implementar, crie dois métodos:\n",
    "\n",
    "1. Verificar se um elemento v é adjacente a um elemento u;\n",
    "\n",
    "2. Remover uma aresta entre dois elementos, caso essa aresta exista."
   ]
  },
  {
   "cell_type": "code",
   "execution_count": 1,
   "metadata": {},
   "outputs": [],
   "source": [
    "class Graph():\n",
    "    def __init__(self) -> None:\n",
    "        self.adjMatrix = {}\n",
    "\n",
    "    def addVertex(self, number):\n",
    "        if isinstance(number,list):\n",
    "            for value in number:\n",
    "                self.adjMatrix[value] = {}\n",
    "        else:\n",
    "            self.adjMatrix[number] = {}\n",
    "\n",
    "    def connectVertex(self, origin, destiny, weight=1, both=False):\n",
    "        self.adjMatrix[origin][destiny] = weight\n",
    "        if both:\n",
    "            self.adjMatrix[destiny][origin] = weight\n",
    "    \n",
    "    def verifyNeighboor(self, nodeA, nodeB):\n",
    "        if nodeA in self.adjMatrix[nodeB] or nodeB in self.adjMatrix[nodeA]:\n",
    "            return True\n",
    "        else:\n",
    "            return False\n",
    "        #return nodeA in self.adjMatrix[nodeB].keys()\n",
    "\n",
    "    def removeConnection(self, nodeA, nodeB):\n",
    "        if nodeA in self.adjMatrix[nodeB]:\n",
    "            self.adjMatrix[nodeB].pop(nodeA)\n",
    "            print(f'Removed connection from {nodeA} to {nodeB}')\n",
    "        if nodeB in self.adjMatrix[nodeA]:\n",
    "            self.adjMatrix[nodeA].pop(nodeB)\n",
    "            print(f'Removed connection from {nodeB} to {nodeA}')"
   ]
  },
  {
   "cell_type": "code",
   "execution_count": 5,
   "metadata": {},
   "outputs": [
    {
     "data": {
      "text/plain": [
       "<__main__.Graph at 0x25b5fa2cfa0>"
      ]
     },
     "execution_count": 5,
     "metadata": {},
     "output_type": "execute_result"
    }
   ],
   "source": [
    "myGraph = Graph()\n",
    "myGraph.addVertex(1)\n",
    "myGraph.addVertex([2,3,4,5,6,7])\n",
    "myGraph.connectVertex(1,2)\n",
    "myGraph.connectVertex(2,3)\n",
    "myGraph.connectVertex(2,4)\n",
    "myGraph.connectVertex(3,1)\n",
    "myGraph.connectVertex(4,1)\n",
    "myGraph.connectVertex(4,3)\n",
    "myGraph.connectVertex(5,6)\n",
    "myGraph.connectVertex(5,7)\n",
    "myGraph.connectVertex(6,2)\n",
    "myGraph.connectVertex(7,4)\n",
    "myGraph.connectVertex(7,6)\n",
    "myGraph"
   ]
  },
  {
   "cell_type": "code",
   "execution_count": 8,
   "metadata": {},
   "outputs": [
    {
     "data": {
      "text/plain": [
       "{1: {2: 1},\n",
       " 2: {3: 1, 4: 1},\n",
       " 3: {1: 1},\n",
       " 4: {1: 1},\n",
       " 5: {6: 1, 7: 1},\n",
       " 6: {2: 1},\n",
       " 7: {4: 1, 6: 1}}"
      ]
     },
     "execution_count": 8,
     "metadata": {},
     "output_type": "execute_result"
    }
   ],
   "source": [
    "myGraph.removeConnection(3,4)\n",
    "myGraph.adjMatrix\n"
   ]
  }
 ],
 "metadata": {
  "interpreter": {
   "hash": "b3ba2566441a7c06988d0923437866b63cedc61552a5af99d1f4fb67d367b25f"
  },
  "kernelspec": {
   "display_name": "Python 3.8.8 64-bit (conda)",
   "name": "python3"
  },
  "language_info": {
   "codemirror_mode": {
    "name": "ipython",
    "version": 3
   },
   "file_extension": ".py",
   "mimetype": "text/x-python",
   "name": "python",
   "nbconvert_exporter": "python",
   "pygments_lexer": "ipython3",
   "version": "3.8.8"
  }
 },
 "nbformat": 4,
 "nbformat_minor": 5
}
