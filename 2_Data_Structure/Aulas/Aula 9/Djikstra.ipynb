{
 "cells": [
  {
   "cell_type": "markdown",
   "source": [
    "## Implementação do algoritmo de Djikstra"
   ],
   "metadata": {}
  },
  {
   "cell_type": "code",
   "execution_count": 1,
   "source": [
    "import math"
   ],
   "outputs": [],
   "metadata": {
    "ExecuteTime": {
     "end_time": "2021-09-22T14:00:31.242131Z",
     "start_time": "2021-09-22T14:00:31.228562Z"
    }
   }
  },
  {
   "cell_type": "code",
   "execution_count": 2,
   "source": [
    "class Grafo():\r\n",
    "    def __init__(self):\r\n",
    "        # Iniciamos a nossa matriz de adjacencia, que nem vimos la em cima\r\n",
    "        self.adjacencia = {}\r\n",
    "    \r\n",
    "    def adiciona(self, vertice):\r\n",
    "        # Para adicionar um vertice, simplesmente criamos a chave dele dentro nosso dicionario de adjacencia\r\n",
    "        self.adjacencia[vertice] = {}\r\n",
    "    \r\n",
    "    def conecta(self, origem, destino, peso = 1):\r\n",
    "        # Acessamos nosso vertice e criamos uma chave para a conexao dele, atribuindo o valor como sendo o peso\r\n",
    "        self.adjacencia[origem][destino] = peso\r\n",
    "        self.adjacencia[destino][origem] = peso\r\n",
    "    \r\n",
    "    def djikstra(self, origem):\r\n",
    "        # iniciando as distancias\r\n",
    "        distancias = {vertice: math.inf for vertice in self.adjacencia.keys()}\r\n",
    "        distancias[origem] = 0\r\n",
    "        \r\n",
    "        #iniciando predecessores\r\n",
    "        predecessores = {vertice: None for vertice in self.adjacencia.keys()}\r\n",
    "        \r\n",
    "        # listas auxiliares para saber quem precisamos analisar ainda\r\n",
    "        visitados = []\r\n",
    "        nao_visitados = distancias.copy()\r\n",
    "        \r\n",
    "        while len(nao_visitados) > 0:\r\n",
    "            ## qual o nao visitado com a menor distancia\r\n",
    "            vertice_atual = sorted(nao_visitados.items(), key=lambda x: x[1])[0][0]\r\n",
    "            del nao_visitados[vertice_atual]\r\n",
    "            visitados.append(vertice_atual)\r\n",
    "            \r\n",
    "            ## para cada adjacente dele, verificar se temos que alterar a distancia\r\n",
    "            for adjacente in self.adjacencia[vertice_atual]:\r\n",
    "                if adjacente not in visitados:\r\n",
    "                    nova_distancia = distancias[vertice_atual] + self.adjacencia[vertice_atual][adjacente]\r\n",
    "                    if nova_distancia < distancias[adjacente]:\r\n",
    "                        distancias[adjacente] = nova_distancia\r\n",
    "                        nao_visitados[adjacente] = nova_distancia\r\n",
    "                        predecessores[adjacente] = vertice_atual\r\n",
    "    \r\n",
    "        return distancias, predecessores"
   ],
   "outputs": [],
   "metadata": {
    "ExecuteTime": {
     "end_time": "2021-09-22T14:21:42.065117Z",
     "start_time": "2021-09-22T14:21:42.049406Z"
    }
   }
  },
  {
   "cell_type": "code",
   "execution_count": 3,
   "source": [
    "g = Grafo()\r\n",
    "g.adiciona(1)\r\n",
    "g.adiciona(2)\r\n",
    "g.adiciona(3)\r\n",
    "g.adiciona(4)\r\n",
    "g.adiciona(5)\r\n",
    "g.adiciona(6)\r\n",
    "g.adiciona(7)\r\n",
    "g.adiciona(8)\r\n",
    "g.conecta(1, 2, 4)\r\n",
    "g.conecta(1, 5, 5)\r\n",
    "g.conecta(2, 6, 2)\r\n",
    "g.conecta(6, 3, 5)\r\n",
    "g.conecta(6, 7, 3)\r\n",
    "g.conecta(3, 7, 1)\r\n",
    "g.conecta(3, 4, 6)\r\n",
    "g.conecta(7, 4, 5)\r\n",
    "g.conecta(7, 8, 2)\r\n",
    "g.conecta(4, 8, 7)"
   ],
   "outputs": [],
   "metadata": {
    "ExecuteTime": {
     "end_time": "2021-09-22T14:21:42.211181Z",
     "start_time": "2021-09-22T14:21:42.196216Z"
    }
   }
  },
  {
   "cell_type": "code",
   "execution_count": 4,
   "source": [
    "g.adjacencia"
   ],
   "outputs": [
    {
     "output_type": "execute_result",
     "data": {
      "text/plain": [
       "{1: {2: 4, 5: 5},\n",
       " 2: {1: 4, 6: 2},\n",
       " 3: {6: 5, 7: 1, 4: 6},\n",
       " 4: {3: 6, 7: 5, 8: 7},\n",
       " 5: {1: 5},\n",
       " 6: {2: 2, 3: 5, 7: 3},\n",
       " 7: {6: 3, 3: 1, 4: 5, 8: 2},\n",
       " 8: {7: 2, 4: 7}}"
      ]
     },
     "metadata": {},
     "execution_count": 4
    }
   ],
   "metadata": {
    "ExecuteTime": {
     "end_time": "2021-09-22T14:21:42.318969Z",
     "start_time": "2021-09-22T14:21:42.303277Z"
    }
   }
  },
  {
   "cell_type": "code",
   "execution_count": 5,
   "source": [
    "g.djikstra(2)"
   ],
   "outputs": [
    {
     "output_type": "execute_result",
     "data": {
      "text/plain": [
       "({1: 4, 2: 0, 3: 6, 4: 10, 5: 9, 6: 2, 7: 5, 8: 7},\n",
       " {1: 2, 2: None, 3: 7, 4: 7, 5: 1, 6: 2, 7: 6, 8: 7})"
      ]
     },
     "metadata": {},
     "execution_count": 5
    }
   ],
   "metadata": {
    "ExecuteTime": {
     "end_time": "2021-09-22T14:21:42.770259Z",
     "start_time": "2021-09-22T14:21:42.748306Z"
    }
   }
  }
 ],
 "metadata": {
  "kernelspec": {
   "name": "python3",
   "display_name": "Python 3.8.8 64-bit (conda)"
  },
  "language_info": {
   "codemirror_mode": {
    "name": "ipython",
    "version": 3
   },
   "file_extension": ".py",
   "mimetype": "text/x-python",
   "name": "python",
   "nbconvert_exporter": "python",
   "pygments_lexer": "ipython3",
   "version": "3.8.8"
  },
  "interpreter": {
   "hash": "b3ba2566441a7c06988d0923437866b63cedc61552a5af99d1f4fb67d367b25f"
  }
 },
 "nbformat": 4,
 "nbformat_minor": 5
}