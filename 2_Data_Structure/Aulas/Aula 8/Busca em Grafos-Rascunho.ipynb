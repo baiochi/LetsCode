{
 "cells": [
  {
   "cell_type": "markdown",
   "id": "f1718f67",
   "metadata": {},
   "source": [
    "## Busca em grafos\n",
    "\n",
    "Partindo da implementação da última aula, onde conseguimos criar a nossa matriz de adjacência, iremos agora criar dois novos métodos para realizarmos buscas em grafos. Essas buscas podem ter diferentes aplicações, como:\n",
    "\n",
    "- Encontrar todos os nós que consigo chegar a partir de um;\n",
    "- Saber se existe um caminho entre dois nós;\n",
    "- Procurar loops.\n",
    "\n",
    "Focaremos nos métodos:\n",
    "\n",
    "- Busca em profundidade\n",
    "- Busca em largura"
   ]
  },
  {
   "cell_type": "markdown",
   "id": "b33be468",
   "metadata": {},
   "source": [
    "### Classe Grafo\n",
    "\n",
    "Para seguirmos o exemplo visto nos slides, utilizaremos um grafo não direcionado. Contudo, o método que escreveremos é válido para ambos os tipos de grafos."
   ]
  },
  {
   "cell_type": "code",
   "execution_count": 1,
   "id": "b1d3a0a5",
   "metadata": {
    "ExecuteTime": {
     "end_time": "2021-09-20T23:07:31.956021Z",
     "start_time": "2021-09-20T23:07:31.938018Z"
    }
   },
   "outputs": [],
   "source": [
    "class Grafo():\n",
    "    def __init__(self):\n",
    "        # Iniciamos a nossa matriz de adjacencia, que nem vimos la em cima\n",
    "        self.adjacencia = {}\n",
    "    \n",
    "    def adiciona(self, vertice):\n",
    "        # Para adicionar um vertice, simplesmente criamos a chave dele dentro nosso dicionario de adjacencia\n",
    "        self.adjacencia[vertice] = {}\n",
    "    \n",
    "    def conecta(self, origem, destino, peso = 1):\n",
    "        # Acessamos nosso vertice e criamos uma chave para a conexao dele, atribuindo o valor como sendo o peso\n",
    "        self.adjacencia[origem][destino] = peso\n",
    "        self.adjacencia[destino][origem] = peso\n",
    "    "
   ]
  },
  {
   "attachments": {
    "image.png": {
     "image/png": "[encoded data removed]"
    }
   },
   "cell_type": "markdown",
   "id": "f53b48c2",
   "metadata": {},
   "source": [
    "### Criando o grafo dos slides\n",
    "\n",
    "![image.png](attachment:image.png)"
   ]
  },
  {
   "cell_type": "code",
   "execution_count": 2,
   "id": "f8989654",
   "metadata": {
    "ExecuteTime": {
     "end_time": "2021-09-20T23:07:49.910516Z",
     "start_time": "2021-09-20T23:07:49.891518Z"
    }
   },
   "outputs": [],
   "source": [
    "def cria_grafo():\n",
    "    g = Grafo()\n",
    "    g.adiciona(1)\n",
    "    g.adiciona(2)\n",
    "    g.adiciona(3)\n",
    "    g.adiciona(4)\n",
    "    g.adiciona(5)\n",
    "    g.adiciona(6)\n",
    "    g.adiciona(7)\n",
    "    g.adiciona(8)\n",
    "    g.conecta(1, 2)\n",
    "    g.conecta(1, 5)\n",
    "    g.conecta(2, 6)\n",
    "    g.conecta(6, 3)\n",
    "    g.conecta(6, 7)\n",
    "    g.conecta(3, 7)\n",
    "    g.conecta(3, 4)\n",
    "    g.conecta(7, 4)\n",
    "    g.conecta(7, 8)\n",
    "    g.conecta(4, 8)\n",
    "    return g"
   ]
  },
  {
   "cell_type": "code",
   "execution_count": 3,
   "id": "7a66ce78",
   "metadata": {
    "ExecuteTime": {
     "end_time": "2021-09-20T23:07:56.460038Z",
     "start_time": "2021-09-20T23:07:56.437050Z"
    }
   },
   "outputs": [
    {
     "data": {
      "text/plain": [
       "{1: {2: 1, 5: 1},\n",
       " 2: {1: 1, 6: 1},\n",
       " 3: {6: 1, 7: 1, 4: 1},\n",
       " 4: {3: 1, 7: 1, 8: 1},\n",
       " 5: {1: 1},\n",
       " 6: {2: 1, 3: 1, 7: 1},\n",
       " 7: {6: 1, 3: 1, 4: 1, 8: 1},\n",
       " 8: {7: 1, 4: 1}}"
      ]
     },
     "execution_count": 3,
     "metadata": {},
     "output_type": "execute_result"
    }
   ],
   "source": [
    "g = cria_grafo()\n",
    "g.adjacencia"
   ]
  },
  {
   "cell_type": "markdown",
   "id": "8ad7eafd",
   "metadata": {},
   "source": [
    "## Busca em profundidade"
   ]
  },
  {
   "cell_type": "code",
   "execution_count": 29,
   "id": "750c6f6c",
   "metadata": {
    "ExecuteTime": {
     "end_time": "2021-09-20T23:19:02.552900Z",
     "start_time": "2021-09-20T23:19:02.545915Z"
    }
   },
   "outputs": [],
   "source": [
    "class Grafo():\n",
    "    def __init__(self):\n",
    "        # Iniciamos a nossa matriz de adjacencia, que nem vimos la em cima\n",
    "        self.adjacencia = {}\n",
    "    \n",
    "    def adiciona(self, vertice):\n",
    "        # Para adicionar um vertice, simplesmente criamos a chave dele dentro nosso dicionario de adjacencia\n",
    "        self.adjacencia[vertice] = {}\n",
    "    \n",
    "    def conecta(self, origem, destino, peso = 1):\n",
    "        # Acessamos nosso vertice e criamos uma chave para a conexao dele, atribuindo o valor como sendo o peso\n",
    "        self.adjacencia[origem][destino] = peso\n",
    "        self.adjacencia[destino][origem] = peso\n",
    "    \n",
    "    def busca_profundidade(self, origem):\n",
    "        return self._busca_profundidade(origem, [])\n",
    "        \n",
    "    def _busca_profundidade(self, origem, visitados):\n",
    "        visitados.append(origem)\n",
    "        for adjacente in self.adjacencia[origem].keys():\n",
    "            if adjacente not in visitados:\n",
    "                self._busca_profundidade(adjacente, visitados)\n",
    "        return visitados"
   ]
  },
  {
   "cell_type": "code",
   "execution_count": 30,
   "id": "e2fa208f",
   "metadata": {
    "ExecuteTime": {
     "end_time": "2021-09-20T23:19:02.707734Z",
     "start_time": "2021-09-20T23:19:02.696737Z"
    },
    "hide_input": true
   },
   "outputs": [],
   "source": [
    "class Grafo():\n",
    "    def __init__(self):\n",
    "        # Iniciamos a nossa matriz de adjacencia, que nem vimos la em cima\n",
    "        self.adjacencia = {}\n",
    "    \n",
    "    def adiciona(self, vertice):\n",
    "        # Para adicionar um vertice, simplesmente criamos a chave dele dentro nosso dicionario de adjacencia\n",
    "        self.adjacencia[vertice] = {}\n",
    "    \n",
    "    def conecta(self, origem, destino, peso = 1):\n",
    "        # Acessamos nosso vertice e criamos uma chave para a conexao dele, atribuindo o valor como sendo o peso\n",
    "        self.adjacencia[origem][destino] = peso\n",
    "        self.adjacencia[destino][origem] = peso\n",
    "    \n",
    "    def busca_profundidade(self, origem, visitados=None):\n",
    "        # Criando lista de visitados vazia na primeira iteracao\n",
    "        if visitados is None:\n",
    "            visitados = []\n",
    "\n",
    "        # Pegando os nós adjacentes, que são as chaves do meu dicionario interno\n",
    "        visitados.append(origem)\n",
    "        for adjacente in self.adjacencia[origem].keys():\n",
    "            if adjacente not in visitados:\n",
    "                self.busca_profundidade(adjacente, visitados)\n",
    "        return visitados"
   ]
  },
  {
   "cell_type": "code",
   "execution_count": 31,
   "id": "d845c59f",
   "metadata": {
    "ExecuteTime": {
     "end_time": "2021-09-20T23:19:02.924742Z",
     "start_time": "2021-09-20T23:19:02.911739Z"
    }
   },
   "outputs": [
    {
     "data": {
      "text/plain": [
       "{1: {2: 1, 5: 1},\n",
       " 2: {1: 1, 6: 1},\n",
       " 3: {6: 1, 7: 1, 4: 1},\n",
       " 4: {3: 1, 7: 1, 8: 1},\n",
       " 5: {1: 1},\n",
       " 6: {2: 1, 3: 1, 7: 1},\n",
       " 7: {6: 1, 3: 1, 4: 1, 8: 1},\n",
       " 8: {7: 1, 4: 1}}"
      ]
     },
     "execution_count": 31,
     "metadata": {},
     "output_type": "execute_result"
    }
   ],
   "source": [
    "g = cria_grafo()\n",
    "g.adjacencia"
   ]
  },
  {
   "cell_type": "code",
   "execution_count": 32,
   "id": "19d70c87",
   "metadata": {
    "ExecuteTime": {
     "end_time": "2021-09-20T23:19:03.188755Z",
     "start_time": "2021-09-20T23:19:03.173737Z"
    }
   },
   "outputs": [
    {
     "data": {
      "text/plain": [
       "[2, 1, 5, 6, 3, 7, 4, 8]"
      ]
     },
     "execution_count": 32,
     "metadata": {},
     "output_type": "execute_result"
    }
   ],
   "source": [
    "g.busca_profundidade(2)"
   ]
  },
  {
   "cell_type": "code",
   "execution_count": null,
   "id": "493d8104",
   "metadata": {
    "ExecuteTime": {
     "end_time": "2021-09-20T02:32:36.942346Z",
     "start_time": "2021-09-20T02:32:36.932388Z"
    },
    "hide_input": true
   },
   "outputs": [],
   "source": [
    "g = cria_grafo()\n",
    "g.busca_profundidade(2)"
   ]
  },
  {
   "cell_type": "markdown",
   "id": "af6bee0f",
   "metadata": {},
   "source": [
    "## Busca em largura"
   ]
  },
  {
   "cell_type": "code",
   "execution_count": 33,
   "id": "5b9efcac",
   "metadata": {
    "ExecuteTime": {
     "end_time": "2021-09-20T23:24:42.068663Z",
     "start_time": "2021-09-20T23:24:42.054659Z"
    }
   },
   "outputs": [],
   "source": [
    "class Grafo():\n",
    "    def __init__(self):\n",
    "        # Iniciamos a nossa matriz de adjacencia, que nem vimos la em cima\n",
    "        self.adjacencia = {}\n",
    "    \n",
    "    def adiciona(self, vertice):\n",
    "        # Para adicionar um vertice, simplesmente criamos a chave dele dentro nosso dicionario de adjacencia\n",
    "        self.adjacencia[vertice] = {}\n",
    "    \n",
    "    def conecta(self, origem, destino, peso = 1):\n",
    "        # Acessamos nosso vertice e criamos uma chave para a conexao dele, atribuindo o valor como sendo o peso\n",
    "        self.adjacencia[origem][destino] = peso\n",
    "        self.adjacencia[destino][origem] = peso\n",
    "    \n",
    "    def busca_profundidade(self, origem):\n",
    "        return self._busca_profundidade(origem, [])\n",
    "        \n",
    "    def _busca_profundidade(self, origem, visitados):\n",
    "        visitados.append(origem)\n",
    "        for adjacente in self.adjacencia[origem].keys():\n",
    "            if adjacente not in visitados:\n",
    "                self._busca_profundidade(adjacente, visitados)\n",
    "        return visitados\n",
    "    \n",
    "    def busca_largura(self, origem):\n",
    "        fila = [origem]\n",
    "        visitados = []\n",
    "        \n",
    "        while len(fila) > 0:\n",
    "            primeiro_elemento = fila[0]\n",
    "            fila = fila[1:]\n",
    "            visitados.append(primeiro_elemento)\n",
    "            for adjacente in self.adjacencia[primeiro_elemento].keys():\n",
    "                if adjacente not in visitados and adjacente not in fila:\n",
    "                    fila.append(adjacente)\n",
    "\n",
    "        return visitados"
   ]
  },
  {
   "cell_type": "code",
   "execution_count": 34,
   "id": "e106aab3",
   "metadata": {
    "ExecuteTime": {
     "end_time": "2021-09-20T23:24:49.144700Z",
     "start_time": "2021-09-20T23:24:49.136706Z"
    }
   },
   "outputs": [
    {
     "data": {
      "text/plain": [
       "{1: {2: 1, 5: 1},\n",
       " 2: {1: 1, 6: 1},\n",
       " 3: {6: 1, 7: 1, 4: 1},\n",
       " 4: {3: 1, 7: 1, 8: 1},\n",
       " 5: {1: 1},\n",
       " 6: {2: 1, 3: 1, 7: 1},\n",
       " 7: {6: 1, 3: 1, 4: 1, 8: 1},\n",
       " 8: {7: 1, 4: 1}}"
      ]
     },
     "execution_count": 34,
     "metadata": {},
     "output_type": "execute_result"
    }
   ],
   "source": [
    "g = cria_grafo()\n",
    "g.adjacencia"
   ]
  },
  {
   "cell_type": "code",
   "execution_count": 35,
   "id": "c6b5686f",
   "metadata": {
    "ExecuteTime": {
     "end_time": "2021-09-20T23:24:57.687043Z",
     "start_time": "2021-09-20T23:24:57.672034Z"
    }
   },
   "outputs": [
    {
     "data": {
      "text/plain": [
       "[2, 1, 6, 5, 3, 7, 4, 8]"
      ]
     },
     "execution_count": 35,
     "metadata": {},
     "output_type": "execute_result"
    }
   ],
   "source": [
    "g.busca_largura(2)"
   ]
  },
  {
   "cell_type": "code",
   "execution_count": 44,
   "id": "b437b693",
   "metadata": {
    "ExecuteTime": {
     "end_time": "2021-09-20T02:38:08.268897Z",
     "start_time": "2021-09-20T02:38:08.259903Z"
    },
    "hide_input": true
   },
   "outputs": [],
   "source": [
    "class Grafo():\n",
    "    def __init__(self):\n",
    "        # Iniciamos a nossa matriz de adjacencia, que nem vimos la em cima\n",
    "        self.adjacencia = {}\n",
    "    \n",
    "    def adiciona(self, vertice):\n",
    "        # Para adicionar um vertice, simplesmente criamos a chave dele dentro nosso dicionario de adjacencia\n",
    "        self.adjacencia[vertice] = {}\n",
    "    \n",
    "    def conecta(self, origem, destino, peso = 1):\n",
    "        # Acessamos nosso vertice e criamos uma chave para a conexao dele, atribuindo o valor como sendo o peso\n",
    "        self.adjacencia[origem][destino] = peso\n",
    "        self.adjacencia[destino][origem] = peso\n",
    "    \n",
    "    def busca_profundidade(self, origem, visitados=None):\n",
    "        # Criando lista de visitados vazia na primeira iteracao\n",
    "        if visitados is None:\n",
    "            visitados = []\n",
    "\n",
    "        # Pegando os nós adjacentes, que são as chaves do meu dicionario interno\n",
    "        visitados.append(origem)\n",
    "        for adjacente in self.adjacencia[origem].keys():\n",
    "            if adjacente not in visitados:\n",
    "                self.busca_profundidade(adjacente, visitados)\n",
    "        return visitados\n",
    "\n",
    "    def busca_largura(self, origem):\n",
    "        fila = [origem]\n",
    "        visitados = []\n",
    "        \n",
    "        # enquanto tiver elementos na minha fila\n",
    "        while len(fila) > 0:\n",
    "            primeiro_elemento = fila[0]\n",
    "            fila = fila[1:]\n",
    "            visitados.append(primeiro_elemento)\n",
    "            for adjacente in self.adjacencia[primeiro_elemento].keys():\n",
    "                if adjacente not in fila and adjacente not in visitados:\n",
    "                    fila.append(adjacente)\n",
    "        return visitados"
   ]
  },
  {
   "cell_type": "code",
   "execution_count": null,
   "id": "9a9928ef",
   "metadata": {
    "ExecuteTime": {
     "end_time": "2021-09-20T02:38:08.505616Z",
     "start_time": "2021-09-20T02:38:08.491616Z"
    },
    "hide_input": true
   },
   "outputs": [],
   "source": [
    "g = cria_grafo()\n",
    "g.busca_largura(2)"
   ]
  },
  {
   "cell_type": "markdown",
   "id": "2d6511df",
   "metadata": {},
   "source": [
    "## E se eu quiser saber se existe um caminho entre um ponto e outro?\n",
    "\n",
    "Podemos colocar uma verificação no meio dos nossos código e finalizar caso a gente encontre o ponto de destino :)"
   ]
  },
  {
   "cell_type": "code",
   "execution_count": 47,
   "id": "11fbff18",
   "metadata": {
    "ExecuteTime": {
     "end_time": "2021-09-20T23:38:40.336501Z",
     "start_time": "2021-09-20T23:38:40.306539Z"
    }
   },
   "outputs": [],
   "source": [
    "class Grafo():\n",
    "    def __init__(self):\n",
    "        # Iniciamos a nossa matriz de adjacencia, que nem vimos la em cima\n",
    "        self.adjacencia = {}\n",
    "    \n",
    "    def adiciona(self, vertice):\n",
    "        # Para adicionar um vertice, simplesmente criamos a chave dele dentro nosso dicionario de adjacencia\n",
    "        self.adjacencia[vertice] = {}\n",
    "    \n",
    "    def conecta(self, origem, destino, peso = 1):\n",
    "        # Acessamos nosso vertice e criamos uma chave para a conexao dele, atribuindo o valor como sendo o peso\n",
    "        self.adjacencia[origem][destino] = peso\n",
    "        self.adjacencia[destino][origem] = peso\n",
    "    \n",
    "    def busca_profundidade(self, origem):\n",
    "        return self._busca_profundidade(origem, [])\n",
    "        \n",
    "    def _busca_profundidade(self, origem, visitados):\n",
    "        visitados.append(origem)\n",
    "        for adjacente in self.adjacencia[origem].keys():\n",
    "            if adjacente not in visitados:\n",
    "                self._busca_profundidade(adjacente, visitados)\n",
    "        return visitados\n",
    "    \n",
    "    def busca_profundidade_verifica_caminho(self, origem, destino, visitados=None):\n",
    "        if visitados is None:\n",
    "            visitados = []\n",
    "        \n",
    "        if origem == destino:\n",
    "            return True\n",
    "        \n",
    "        visitados.append(origem)\n",
    "        for adjacente in self.adjacencia[origem].keys():\n",
    "            if adjacente not in visitados:\n",
    "                if self.busca_profundidade_verifica_caminho(adjacente, destino, visitados):\n",
    "                    return True\n",
    "        return False\n",
    "                \n",
    "    \n",
    "    def busca_largura(self, origem):\n",
    "        fila = [origem]\n",
    "        visitados = []\n",
    "        \n",
    "        while len(fila) > 0:\n",
    "            primeiro_elemento = fila[0]\n",
    "            fila = fila[1:]\n",
    "            visitados.append(primeiro_elemento)\n",
    "            for adjacente in self.adjacencia[primeiro_elemento].keys():\n",
    "                if adjacente not in visitados and adjacente not in fila:\n",
    "                    fila.append(adjacente)\n",
    "        return visitados\n",
    "                    \n",
    "    def busca_largura_verifica_caminho(self, origem, destino):\n",
    "        fila = [origem]\n",
    "        visitados = []\n",
    "        \n",
    "        while len(fila) > 0:\n",
    "            primeiro_elemento = fila[0]\n",
    "            if primeiro_elemento == destino:\n",
    "                return True\n",
    "            fila = fila[1:]\n",
    "            visitados.append(primeiro_elemento)\n",
    "            for adjacente in self.adjacencia[primeiro_elemento].keys():\n",
    "                if adjacente not in visitados and adjacente not in fila:\n",
    "                    fila.append(adjacente)\n",
    "        return False\n"
   ]
  },
  {
   "cell_type": "code",
   "execution_count": 48,
   "id": "14dee0f5",
   "metadata": {
    "ExecuteTime": {
     "end_time": "2021-09-20T23:38:40.821509Z",
     "start_time": "2021-09-20T23:38:40.802529Z"
    }
   },
   "outputs": [
    {
     "data": {
      "text/plain": [
       "{1: {2: 1, 5: 1},\n",
       " 2: {1: 1, 6: 1},\n",
       " 3: {6: 1, 7: 1, 4: 1},\n",
       " 4: {3: 1, 7: 1, 8: 1},\n",
       " 5: {1: 1},\n",
       " 6: {2: 1, 3: 1, 7: 1},\n",
       " 7: {6: 1, 3: 1, 4: 1, 8: 1},\n",
       " 8: {7: 1, 4: 1}}"
      ]
     },
     "execution_count": 48,
     "metadata": {},
     "output_type": "execute_result"
    }
   ],
   "source": [
    "g = cria_grafo()\n",
    "g.adjacencia"
   ]
  },
  {
   "cell_type": "code",
   "execution_count": 49,
   "id": "84bf817e",
   "metadata": {
    "ExecuteTime": {
     "end_time": "2021-09-20T23:38:41.480824Z",
     "start_time": "2021-09-20T23:38:41.464812Z"
    }
   },
   "outputs": [
    {
     "data": {
      "text/plain": [
       "True"
      ]
     },
     "execution_count": 49,
     "metadata": {},
     "output_type": "execute_result"
    }
   ],
   "source": [
    "g.busca_profundidade_verifica_caminho(2,5)"
   ]
  },
  {
   "cell_type": "code",
   "execution_count": 54,
   "id": "def27aa4",
   "metadata": {
    "ExecuteTime": {
     "end_time": "2021-09-20T23:39:10.029878Z",
     "start_time": "2021-09-20T23:39:10.021885Z"
    }
   },
   "outputs": [
    {
     "data": {
      "text/plain": [
       "False"
      ]
     },
     "execution_count": 54,
     "metadata": {},
     "output_type": "execute_result"
    }
   ],
   "source": [
    "g.busca_largura_verifica_caminho(2,20)"
   ]
  },
  {
   "cell_type": "code",
   "execution_count": 57,
   "id": "83536b82",
   "metadata": {
    "ExecuteTime": {
     "end_time": "2021-09-20T23:40:18.380317Z",
     "start_time": "2021-09-20T23:40:18.363318Z"
    }
   },
   "outputs": [
    {
     "data": {
      "text/plain": [
       "[2, 1, 6, 5, 3, 7, 4, 8]"
      ]
     },
     "execution_count": 57,
     "metadata": {},
     "output_type": "execute_result"
    }
   ],
   "source": [
    "g.busca_largura(2)"
   ]
  },
  {
   "cell_type": "code",
   "execution_count": null,
   "id": "c1442287",
   "metadata": {
    "ExecuteTime": {
     "end_time": "2021-09-20T02:49:28.678868Z",
     "start_time": "2021-09-20T02:49:28.658865Z"
    },
    "hide_input": true
   },
   "outputs": [],
   "source": [
    "g = cria_grafo()\n",
    "g.busca_profundidade_verifica_caminho(2, 4)"
   ]
  },
  {
   "cell_type": "code",
   "execution_count": null,
   "id": "06f3243b",
   "metadata": {
    "ExecuteTime": {
     "end_time": "2021-09-20T02:50:04.117607Z",
     "start_time": "2021-09-20T02:50:04.110608Z"
    },
    "hide_input": true
   },
   "outputs": [],
   "source": [
    "g.busca_largura_verifica_caminho(2, 3)"
   ]
  }
 ],
 "metadata": {
  "kernelspec": {
   "display_name": "Python 3",
   "language": "python",
   "name": "python3"
  },
  "language_info": {
   "codemirror_mode": {
    "name": "ipython",
    "version": 3
   },
   "file_extension": ".py",
   "mimetype": "text/x-python",
   "name": "python",
   "nbconvert_exporter": "python",
   "pygments_lexer": "ipython3",
   "version": "3.8.3"
  }
 },
 "nbformat": 4,
 "nbformat_minor": 5
}
