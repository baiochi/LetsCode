{
 "cells": [
  {
   "cell_type": "code",
   "execution_count": 8,
   "id": "d9d7b8a8",
   "metadata": {
    "ExecuteTime": {
     "end_time": "2021-09-03T21:45:36.276655Z",
     "start_time": "2021-09-03T21:45:36.260642Z"
    }
   },
   "outputs": [],
   "source": [
    "def juntar_lista(lista1, lista2):\n",
    "    lista_retorno = [None] * (len(lista1) + len(lista2))\n",
    "    cursor_lista_1 = 0\n",
    "    cursor_lista_2 = 0\n",
    "    \n",
    "    for i in range(len(lista_retorno)):\n",
    "        if cursor_lista_1 >= len(lista1):\n",
    "            lista_retorno[i] = lista2[cursor_lista_2]\n",
    "            cursor_lista_2 += 1\n",
    "        \n",
    "        elif cursor_lista_2 >= len(lista2):\n",
    "            lista_retorno[i] = lista1[cursor_lista_1]\n",
    "            cursor_lista_1 += 1\n",
    "        \n",
    "        elif lista1[cursor_lista_1] <= lista2[cursor_lista_2]:\n",
    "            lista_retorno[i] = lista1[cursor_lista_1]\n",
    "            cursor_lista_1 += 1\n",
    "        \n",
    "        elif lista2[cursor_lista_2] < lista1[cursor_lista_1]:\n",
    "            lista_retorno[i] = lista2[cursor_lista_2]\n",
    "            cursor_lista_2 += 1\n",
    "    return lista_retorno"
   ]
  },
  {
   "cell_type": "markdown",
   "id": "9244999f",
   "metadata": {},
   "source": [
    "Testes da função que une as duas listas ordenadas"
   ]
  },
  {
   "cell_type": "code",
   "execution_count": 6,
   "id": "c73f1293",
   "metadata": {
    "ExecuteTime": {
     "end_time": "2021-09-03T21:45:22.564668Z",
     "start_time": "2021-09-03T21:45:22.549671Z"
    }
   },
   "outputs": [],
   "source": [
    "lista1 = [2, 5, 9, 15]\n",
    "lista2 = [1, 7, 13, 18]\n",
    "\n",
    "#[1, 2, 5, 7, 9, 13, 15, 18]"
   ]
  },
  {
   "cell_type": "code",
   "execution_count": 7,
   "id": "fa23a6c4",
   "metadata": {
    "ExecuteTime": {
     "end_time": "2021-09-03T21:45:22.954799Z",
     "start_time": "2021-09-03T21:45:22.943801Z"
    }
   },
   "outputs": [
    {
     "data": {
      "text/plain": [
       "[1, 2, 5, 7, 9, 13, 15, 18]"
      ]
     },
     "execution_count": 7,
     "metadata": {},
     "output_type": "execute_result"
    }
   ],
   "source": [
    "juntar_lista(lista1, lista2)"
   ]
  },
  {
   "cell_type": "code",
   "execution_count": 14,
   "id": "8a331fd8",
   "metadata": {
    "ExecuteTime": {
     "end_time": "2021-09-03T22:05:11.005533Z",
     "start_time": "2021-09-03T22:05:10.981535Z"
    }
   },
   "outputs": [],
   "source": [
    "def dividir(lista):          #[1, 2, 5, 7, 9, 13, 15, 18]  | [1, 2, 5, 7] | [1, 2] ! [1]\n",
    "    if len(lista) <= 1: #Nao | Nao | Nao\n",
    "        return lista\n",
    "    \n",
    "    meio = len(lista) // 2 # meio = 4 | meio = 2 | meio = 1\n",
    "    lista1 = lista[:meio] # lista1 = [1, 2, 5, 7] | \n",
    "    lista2 = lista[meio:] # lista2 = [9, 13, 15, 18] |\n",
    "    resultado_divisao1 = dividir(lista1) # \n",
    "    resultado_divisao2 = dividir(lista2) # [2]\n",
    "    return juntar_lista(resultado_divisao1, resultado_divisao2) # [1, 2 , 5, 7]"
   ]
  },
  {
   "cell_type": "markdown",
   "id": "055df7b5",
   "metadata": {},
   "source": [
    "dividir([1, 2, 5, 7, 9, 13, 15, 18])\n",
    "    dividir([1,2,5,7])                       dividir([9,13,15,18])\n",
    "      dividir([1,2])                 dividir([5,7])           dividir([9,13])        dividir([15,18])\n",
    "        d([1])-> [1]  d([2])-> [2]            d([5])   d([7])           d([9])   d([13])       d([15])   d([18])"
   ]
  }
 ],
 "metadata": {
  "kernelspec": {
   "display_name": "Python 3",
   "language": "python",
   "name": "python3"
  },
  "language_info": {
   "codemirror_mode": {
    "name": "ipython",
    "version": 3
   },
   "file_extension": ".py",
   "mimetype": "text/x-python",
   "name": "python",
   "nbconvert_exporter": "python",
   "pygments_lexer": "ipython3",
   "version": "3.8.3"
  }
 },
 "nbformat": 4,
 "nbformat_minor": 5
}
