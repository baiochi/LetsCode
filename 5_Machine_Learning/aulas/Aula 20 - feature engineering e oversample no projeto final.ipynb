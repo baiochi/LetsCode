{
 "cells": [
  {
   "cell_type": "markdown",
   "metadata": {},
   "source": [
    "# Aula 20 - feature engineering e oversample no projeto final"
   ]
  },
  {
   "cell_type": "markdown",
   "metadata": {},
   "source": [
    "Vamos explorar algumas das técnicas apresentadas no fim da Aula 13, aplicando-as ao dataset do projeto final!"
   ]
  },
  {
   "cell_type": "code",
   "execution_count": 1,
   "metadata": {
    "ExecuteTime": {
     "end_time": "2022-03-19T00:19:52.098671Z",
     "start_time": "2022-03-19T00:19:51.890794Z"
    }
   },
   "outputs": [],
   "source": [
    "# recarregar automaticamente as alterações que fizermos no .py\n",
    "%load_ext autoreload\n",
    "%autoreload 2"
   ]
  },
  {
   "cell_type": "code",
   "execution_count": 2,
   "metadata": {
    "ExecuteTime": {
     "end_time": "2022-03-19T00:19:59.039803Z",
     "start_time": "2022-03-19T00:19:52.101650Z"
    }
   },
   "outputs": [],
   "source": [
    "from projeto_utils import *"
   ]
  },
  {
   "cell_type": "markdown",
   "metadata": {},
   "source": [
    "______________"
   ]
  },
  {
   "cell_type": "code",
   "execution_count": 3,
   "metadata": {
    "ExecuteTime": {
     "end_time": "2022-03-19T00:20:12.915759Z",
     "start_time": "2022-03-19T00:19:59.043804Z"
    }
   },
   "outputs": [],
   "source": [
    "X_train, X_val, y_train, y_val = read_tts_projeto()"
   ]
  },
  {
   "cell_type": "code",
   "execution_count": 4,
   "metadata": {
    "ExecuteTime": {
     "end_time": "2022-03-19T00:20:29.354283Z",
     "start_time": "2022-03-19T00:20:26.890291Z"
    }
   },
   "outputs": [],
   "source": [
    "df_test = pd.read_csv(\"../datasets/application_test_student.csv\")\n",
    "\n",
    "X_test = df_test.drop(columns=[\"SK_ID_CURR\"])"
   ]
  },
  {
   "cell_type": "markdown",
   "metadata": {},
   "source": [
    "## Feature engineering"
   ]
  },
  {
   "cell_type": "markdown",
   "metadata": {},
   "source": [
    "**Taxas relacionadas à receita**\n"
   ]
  },
  {
   "cell_type": "code",
   "execution_count": 9,
   "metadata": {
    "ExecuteTime": {
     "end_time": "2022-03-19T00:21:55.746072Z",
     "start_time": "2022-03-19T00:21:55.561180Z"
    }
   },
   "outputs": [
    {
     "data": {
      "text/plain": [
       "28631      2.399077\n",
       "183632     5.266667\n",
       "134136     0.666667\n",
       "12766      3.899315\n",
       "174805    10.000000\n",
       "            ...    \n",
       "132533     8.985000\n",
       "1407       3.330800\n",
       "40785      1.497500\n",
       "80125      4.844800\n",
       "3211       2.949333\n",
       "Length: 196806, dtype: float64"
      ]
     },
     "execution_count": 9,
     "metadata": {},
     "output_type": "execute_result"
    }
   ],
   "source": [
    "X_train[\"AMT_CREDIT\"]/X_train[\"AMT_INCOME_TOTAL\"]"
   ]
  },
  {
   "cell_type": "code",
   "execution_count": 12,
   "metadata": {
    "ExecuteTime": {
     "end_time": "2022-03-19T00:23:09.746547Z",
     "start_time": "2022-03-19T00:23:09.551688Z"
    }
   },
   "outputs": [
    {
     "data": {
      "text/plain": [
       "28631     0.246277\n",
       "183632    0.296500\n",
       "134136    0.052667\n",
       "12766     0.199589\n",
       "174805    0.347600\n",
       "            ...   \n",
       "132533    0.262700\n",
       "1407      0.127000\n",
       "40785     0.116600\n",
       "80125     0.225840\n",
       "3211      0.233967\n",
       "Length: 196806, dtype: float64"
      ]
     },
     "execution_count": 12,
     "metadata": {},
     "output_type": "execute_result"
    }
   ],
   "source": [
    "X_train[\"AMT_ANNUITY\"]/X_train[\"AMT_INCOME_TOTAL\"]"
   ]
  },
  {
   "cell_type": "code",
   "execution_count": 13,
   "metadata": {
    "ExecuteTime": {
     "end_time": "2022-03-19T00:23:14.562713Z",
     "start_time": "2022-03-19T00:23:14.334843Z"
    }
   },
   "outputs": [
    {
     "data": {
      "text/plain": [
       "28631      2.307692\n",
       "183632     4.166667\n",
       "134136     0.666667\n",
       "12766      3.424658\n",
       "174805    10.000000\n",
       "            ...    \n",
       "132533     7.500000\n",
       "1407       2.750000\n",
       "40785      1.250000\n",
       "80125      4.000000\n",
       "3211       2.333333\n",
       "Length: 196806, dtype: float64"
      ]
     },
     "execution_count": 13,
     "metadata": {},
     "output_type": "execute_result"
    }
   ],
   "source": [
    "X_train[\"AMT_GOODS_PRICE\"] / X_train[\"AMT_INCOME_TOTAL\"]"
   ]
  },
  {
   "cell_type": "code",
   "execution_count": 11,
   "metadata": {
    "ExecuteTime": {
     "end_time": "2022-03-19T00:23:04.008767Z",
     "start_time": "2022-03-19T00:23:03.818875Z"
    }
   },
   "outputs": [
    {
     "data": {
      "text/plain": [
       "28631     97500.0\n",
       "183632    18000.0\n",
       "134136    67500.0\n",
       "12766     87600.0\n",
       "174805    60000.0\n",
       "           ...   \n",
       "132533    90000.0\n",
       "1407      90000.0\n",
       "40785     60000.0\n",
       "80125     56250.0\n",
       "3211      45000.0\n",
       "Length: 196806, dtype: float64"
      ]
     },
     "execution_count": 11,
     "metadata": {},
     "output_type": "execute_result"
    }
   ],
   "source": [
    "X_train[\"AMT_INCOME_TOTAL\"] / X_train[\"CNT_FAM_MEMBERS\"]"
   ]
  },
  {
   "cell_type": "markdown",
   "metadata": {},
   "source": [
    "**Tempo empregado**"
   ]
  },
  {
   "cell_type": "code",
   "execution_count": 18,
   "metadata": {
    "ExecuteTime": {
     "end_time": "2022-03-19T00:25:57.401495Z",
     "start_time": "2022-03-19T00:25:57.217598Z"
    }
   },
   "outputs": [
    {
     "data": {
      "text/plain": [
       "28631     0.113107\n",
       "183632    0.008512\n",
       "134136    0.000000\n",
       "12766     0.029792\n",
       "174805    0.247751\n",
       "            ...   \n",
       "132533    0.145112\n",
       "1407      0.223674\n",
       "40785     0.266633\n",
       "80125     0.158881\n",
       "3211      0.049080\n",
       "Length: 196806, dtype: float64"
      ]
     },
     "execution_count": 18,
     "metadata": {},
     "output_type": "execute_result"
    }
   ],
   "source": [
    "np.clip(X_train[\"DAYS_EMPLOYED\"] / X_train[\"DAYS_BIRTH\"], 0, 1)"
   ]
  },
  {
   "cell_type": "markdown",
   "metadata": {
    "ExecuteTime": {
     "end_time": "2022-03-18T19:56:41.510400Z",
     "start_time": "2022-03-18T19:56:41.499407Z"
    }
   },
   "source": [
    "**Número de adultos e crianças na família**\n"
   ]
  },
  {
   "cell_type": "code",
   "execution_count": 19,
   "metadata": {
    "ExecuteTime": {
     "end_time": "2022-03-19T00:27:25.009962Z",
     "start_time": "2022-03-19T00:27:24.853747Z"
    }
   },
   "outputs": [
    {
     "data": {
      "text/plain": [
       "28631     0.333333\n",
       "183632    0.666667\n",
       "134136    0.000000\n",
       "12766     0.333333\n",
       "174805    0.333333\n",
       "            ...   \n",
       "132533    0.000000\n",
       "1407      0.000000\n",
       "40785     0.333333\n",
       "80125     0.000000\n",
       "3211      0.333333\n",
       "Length: 196806, dtype: float64"
      ]
     },
     "execution_count": 19,
     "metadata": {},
     "output_type": "execute_result"
    }
   ],
   "source": [
    "X_train[\"CNT_FAM_MEMBERS\"] - X_train[\"CNT_CHILDREN\"]\n",
    "\n",
    "X_train['CNT_CHILDREN'] / X_train['CNT_FAM_MEMBERS']"
   ]
  },
  {
   "cell_type": "markdown",
   "metadata": {},
   "source": [
    "**Quantidade de pagamentos**"
   ]
  },
  {
   "cell_type": "code",
   "execution_count": 20,
   "metadata": {
    "ExecuteTime": {
     "end_time": "2022-03-19T00:28:18.730166Z",
     "start_time": "2022-03-19T00:28:18.489303Z"
    }
   },
   "outputs": [
    {
     "data": {
      "text/plain": [
       "28631      9.741379\n",
       "183632    17.762788\n",
       "134136    12.658228\n",
       "12766     19.536719\n",
       "174805    28.768700\n",
       "            ...    \n",
       "132533    34.202512\n",
       "1407      26.226772\n",
       "40785     12.843053\n",
       "80125     21.452356\n",
       "3211      12.605784\n",
       "Length: 196806, dtype: float64"
      ]
     },
     "execution_count": 20,
     "metadata": {},
     "output_type": "execute_result"
    }
   ],
   "source": [
    "X_train['AMT_CREDIT'] / X_train['AMT_ANNUITY']"
   ]
  },
  {
   "cell_type": "markdown",
   "metadata": {},
   "source": [
    "**Estatísticas sobre dados externos**\n"
   ]
  },
  {
   "cell_type": "code",
   "execution_count": 21,
   "metadata": {
    "ExecuteTime": {
     "end_time": "2022-03-19T00:29:09.399916Z",
     "start_time": "2022-03-19T00:29:09.216019Z"
    }
   },
   "outputs": [
    {
     "data": {
      "text/html": [
       "<div>\n",
       "<style scoped>\n",
       "    .dataframe tbody tr th:only-of-type {\n",
       "        vertical-align: middle;\n",
       "    }\n",
       "\n",
       "    .dataframe tbody tr th {\n",
       "        vertical-align: top;\n",
       "    }\n",
       "\n",
       "    .dataframe thead th {\n",
       "        text-align: right;\n",
       "    }\n",
       "</style>\n",
       "<table border=\"1\" class=\"dataframe\">\n",
       "  <thead>\n",
       "    <tr style=\"text-align: right;\">\n",
       "      <th></th>\n",
       "      <th>EXT_SOURCE_1</th>\n",
       "      <th>EXT_SOURCE_2</th>\n",
       "      <th>EXT_SOURCE_3</th>\n",
       "    </tr>\n",
       "  </thead>\n",
       "  <tbody>\n",
       "    <tr>\n",
       "      <th>28631</th>\n",
       "      <td>0.862670</td>\n",
       "      <td>0.537364</td>\n",
       "      <td>0.735221</td>\n",
       "    </tr>\n",
       "    <tr>\n",
       "      <th>183632</th>\n",
       "      <td>NaN</td>\n",
       "      <td>0.484688</td>\n",
       "      <td>NaN</td>\n",
       "    </tr>\n",
       "    <tr>\n",
       "      <th>134136</th>\n",
       "      <td>0.558577</td>\n",
       "      <td>0.465365</td>\n",
       "      <td>0.380800</td>\n",
       "    </tr>\n",
       "    <tr>\n",
       "      <th>12766</th>\n",
       "      <td>0.330174</td>\n",
       "      <td>0.213449</td>\n",
       "      <td>0.297087</td>\n",
       "    </tr>\n",
       "    <tr>\n",
       "      <th>174805</th>\n",
       "      <td>0.629119</td>\n",
       "      <td>0.648341</td>\n",
       "      <td>0.506484</td>\n",
       "    </tr>\n",
       "    <tr>\n",
       "      <th>...</th>\n",
       "      <td>...</td>\n",
       "      <td>...</td>\n",
       "      <td>...</td>\n",
       "    </tr>\n",
       "    <tr>\n",
       "      <th>132533</th>\n",
       "      <td>NaN</td>\n",
       "      <td>0.162192</td>\n",
       "      <td>0.673830</td>\n",
       "    </tr>\n",
       "    <tr>\n",
       "      <th>1407</th>\n",
       "      <td>NaN</td>\n",
       "      <td>0.727673</td>\n",
       "      <td>0.835777</td>\n",
       "    </tr>\n",
       "    <tr>\n",
       "      <th>40785</th>\n",
       "      <td>NaN</td>\n",
       "      <td>0.537880</td>\n",
       "      <td>0.665855</td>\n",
       "    </tr>\n",
       "    <tr>\n",
       "      <th>80125</th>\n",
       "      <td>0.564393</td>\n",
       "      <td>0.443233</td>\n",
       "      <td>0.508287</td>\n",
       "    </tr>\n",
       "    <tr>\n",
       "      <th>3211</th>\n",
       "      <td>0.142344</td>\n",
       "      <td>0.404628</td>\n",
       "      <td>NaN</td>\n",
       "    </tr>\n",
       "  </tbody>\n",
       "</table>\n",
       "<p>196806 rows × 3 columns</p>\n",
       "</div>"
      ],
      "text/plain": [
       "        EXT_SOURCE_1  EXT_SOURCE_2  EXT_SOURCE_3\n",
       "28631       0.862670      0.537364      0.735221\n",
       "183632           NaN      0.484688           NaN\n",
       "134136      0.558577      0.465365      0.380800\n",
       "12766       0.330174      0.213449      0.297087\n",
       "174805      0.629119      0.648341      0.506484\n",
       "...              ...           ...           ...\n",
       "132533           NaN      0.162192      0.673830\n",
       "1407             NaN      0.727673      0.835777\n",
       "40785            NaN      0.537880      0.665855\n",
       "80125       0.564393      0.443233      0.508287\n",
       "3211        0.142344      0.404628           NaN\n",
       "\n",
       "[196806 rows x 3 columns]"
      ]
     },
     "execution_count": 21,
     "metadata": {},
     "output_type": "execute_result"
    }
   ],
   "source": [
    "X_train[[\"EXT_SOURCE_1\", \"EXT_SOURCE_2\", \"EXT_SOURCE_3\"]]"
   ]
  },
  {
   "cell_type": "code",
   "execution_count": 22,
   "metadata": {
    "ExecuteTime": {
     "end_time": "2022-03-19T00:30:36.244243Z",
     "start_time": "2022-03-19T00:30:36.054353Z"
    }
   },
   "outputs": [
    {
     "data": {
      "text/plain": [
       "28631     0.537364\n",
       "183632    0.484688\n",
       "134136    0.380800\n",
       "12766     0.213449\n",
       "174805    0.506484\n",
       "            ...   \n",
       "132533    0.162192\n",
       "1407      0.727673\n",
       "40785     0.537880\n",
       "80125     0.443233\n",
       "3211      0.142344\n",
       "Length: 196806, dtype: float64"
      ]
     },
     "execution_count": 22,
     "metadata": {},
     "output_type": "execute_result"
    }
   ],
   "source": [
    "X_train[[\"EXT_SOURCE_1\", \"EXT_SOURCE_2\", \"EXT_SOURCE_3\"]].min(axis = 1)"
   ]
  },
  {
   "cell_type": "code",
   "execution_count": 24,
   "metadata": {
    "ExecuteTime": {
     "end_time": "2022-03-19T00:31:28.343745Z",
     "start_time": "2022-03-19T00:31:28.015924Z"
    }
   },
   "outputs": [
    {
     "data": {
      "text/plain": [
       "28631     3\n",
       "183632    1\n",
       "134136    3\n",
       "12766     3\n",
       "174805    3\n",
       "         ..\n",
       "132533    2\n",
       "1407      2\n",
       "40785     2\n",
       "80125     3\n",
       "3211      2\n",
       "Length: 196806, dtype: int64"
      ]
     },
     "execution_count": 24,
     "metadata": {},
     "output_type": "execute_result"
    }
   ],
   "source": [
    "X_train[[\"EXT_SOURCE_1\", \"EXT_SOURCE_2\", \"EXT_SOURCE_3\"]].max(axis = 1)\n",
    "\n",
    "X_train[[\"EXT_SOURCE_1\", \"EXT_SOURCE_2\", \"EXT_SOURCE_3\"]].mean(axis = 1)\n",
    "\n",
    "X_train[[\"EXT_SOURCE_1\", \"EXT_SOURCE_2\", \"EXT_SOURCE_3\"]].std(axis = 1)\n",
    "\n",
    "(~X_train[[\"EXT_SOURCE_1\", \"EXT_SOURCE_2\", \"EXT_SOURCE_3\"]].isnull()).astype(int).sum(axis=1)"
   ]
  },
  {
   "cell_type": "markdown",
   "metadata": {},
   "source": [
    "**Número de documentos entregues**\n"
   ]
  },
  {
   "cell_type": "code",
   "execution_count": 25,
   "metadata": {
    "ExecuteTime": {
     "end_time": "2022-03-19T00:34:31.504999Z",
     "start_time": "2022-03-19T00:34:31.330101Z"
    }
   },
   "outputs": [
    {
     "data": {
      "text/plain": [
       "['FLAG_DOCUMENT_2',\n",
       " 'FLAG_DOCUMENT_3',\n",
       " 'FLAG_DOCUMENT_4',\n",
       " 'FLAG_DOCUMENT_5',\n",
       " 'FLAG_DOCUMENT_6',\n",
       " 'FLAG_DOCUMENT_7',\n",
       " 'FLAG_DOCUMENT_8',\n",
       " 'FLAG_DOCUMENT_9',\n",
       " 'FLAG_DOCUMENT_10',\n",
       " 'FLAG_DOCUMENT_11',\n",
       " 'FLAG_DOCUMENT_12',\n",
       " 'FLAG_DOCUMENT_13',\n",
       " 'FLAG_DOCUMENT_14',\n",
       " 'FLAG_DOCUMENT_15',\n",
       " 'FLAG_DOCUMENT_16',\n",
       " 'FLAG_DOCUMENT_17',\n",
       " 'FLAG_DOCUMENT_18',\n",
       " 'FLAG_DOCUMENT_19',\n",
       " 'FLAG_DOCUMENT_20',\n",
       " 'FLAG_DOCUMENT_21']"
      ]
     },
     "execution_count": 25,
     "metadata": {},
     "output_type": "execute_result"
    }
   ],
   "source": [
    "[x for x in X_train.columns if \"FLAG_DOCUMENT_\" in x]"
   ]
  },
  {
   "cell_type": "code",
   "execution_count": 27,
   "metadata": {
    "ExecuteTime": {
     "end_time": "2022-03-19T00:34:57.143182Z",
     "start_time": "2022-03-19T00:34:56.937299Z"
    }
   },
   "outputs": [
    {
     "data": {
      "text/html": [
       "<div>\n",
       "<style scoped>\n",
       "    .dataframe tbody tr th:only-of-type {\n",
       "        vertical-align: middle;\n",
       "    }\n",
       "\n",
       "    .dataframe tbody tr th {\n",
       "        vertical-align: top;\n",
       "    }\n",
       "\n",
       "    .dataframe thead th {\n",
       "        text-align: right;\n",
       "    }\n",
       "</style>\n",
       "<table border=\"1\" class=\"dataframe\">\n",
       "  <thead>\n",
       "    <tr style=\"text-align: right;\">\n",
       "      <th></th>\n",
       "      <th>FLAG_DOCUMENT_2</th>\n",
       "      <th>FLAG_DOCUMENT_3</th>\n",
       "      <th>FLAG_DOCUMENT_4</th>\n",
       "      <th>FLAG_DOCUMENT_5</th>\n",
       "      <th>FLAG_DOCUMENT_6</th>\n",
       "      <th>FLAG_DOCUMENT_7</th>\n",
       "      <th>FLAG_DOCUMENT_8</th>\n",
       "      <th>FLAG_DOCUMENT_9</th>\n",
       "      <th>FLAG_DOCUMENT_10</th>\n",
       "      <th>FLAG_DOCUMENT_11</th>\n",
       "      <th>FLAG_DOCUMENT_12</th>\n",
       "      <th>FLAG_DOCUMENT_13</th>\n",
       "      <th>FLAG_DOCUMENT_14</th>\n",
       "      <th>FLAG_DOCUMENT_15</th>\n",
       "      <th>FLAG_DOCUMENT_16</th>\n",
       "      <th>FLAG_DOCUMENT_17</th>\n",
       "      <th>FLAG_DOCUMENT_18</th>\n",
       "      <th>FLAG_DOCUMENT_19</th>\n",
       "      <th>FLAG_DOCUMENT_20</th>\n",
       "      <th>FLAG_DOCUMENT_21</th>\n",
       "    </tr>\n",
       "  </thead>\n",
       "  <tbody>\n",
       "    <tr>\n",
       "      <th>28631</th>\n",
       "      <td>0</td>\n",
       "      <td>1</td>\n",
       "      <td>0</td>\n",
       "      <td>0</td>\n",
       "      <td>0</td>\n",
       "      <td>0</td>\n",
       "      <td>0</td>\n",
       "      <td>0</td>\n",
       "      <td>0</td>\n",
       "      <td>0</td>\n",
       "      <td>0</td>\n",
       "      <td>0</td>\n",
       "      <td>0</td>\n",
       "      <td>0</td>\n",
       "      <td>0</td>\n",
       "      <td>0</td>\n",
       "      <td>0</td>\n",
       "      <td>0</td>\n",
       "      <td>0</td>\n",
       "      <td>0</td>\n",
       "    </tr>\n",
       "    <tr>\n",
       "      <th>183632</th>\n",
       "      <td>0</td>\n",
       "      <td>1</td>\n",
       "      <td>0</td>\n",
       "      <td>0</td>\n",
       "      <td>0</td>\n",
       "      <td>0</td>\n",
       "      <td>0</td>\n",
       "      <td>0</td>\n",
       "      <td>0</td>\n",
       "      <td>0</td>\n",
       "      <td>0</td>\n",
       "      <td>0</td>\n",
       "      <td>0</td>\n",
       "      <td>0</td>\n",
       "      <td>0</td>\n",
       "      <td>0</td>\n",
       "      <td>0</td>\n",
       "      <td>0</td>\n",
       "      <td>0</td>\n",
       "      <td>0</td>\n",
       "    </tr>\n",
       "    <tr>\n",
       "      <th>134136</th>\n",
       "      <td>0</td>\n",
       "      <td>0</td>\n",
       "      <td>0</td>\n",
       "      <td>0</td>\n",
       "      <td>1</td>\n",
       "      <td>0</td>\n",
       "      <td>0</td>\n",
       "      <td>0</td>\n",
       "      <td>0</td>\n",
       "      <td>0</td>\n",
       "      <td>0</td>\n",
       "      <td>0</td>\n",
       "      <td>0</td>\n",
       "      <td>0</td>\n",
       "      <td>0</td>\n",
       "      <td>0</td>\n",
       "      <td>0</td>\n",
       "      <td>0</td>\n",
       "      <td>0</td>\n",
       "      <td>0</td>\n",
       "    </tr>\n",
       "    <tr>\n",
       "      <th>12766</th>\n",
       "      <td>0</td>\n",
       "      <td>1</td>\n",
       "      <td>0</td>\n",
       "      <td>0</td>\n",
       "      <td>0</td>\n",
       "      <td>0</td>\n",
       "      <td>0</td>\n",
       "      <td>0</td>\n",
       "      <td>0</td>\n",
       "      <td>0</td>\n",
       "      <td>0</td>\n",
       "      <td>0</td>\n",
       "      <td>0</td>\n",
       "      <td>0</td>\n",
       "      <td>0</td>\n",
       "      <td>0</td>\n",
       "      <td>0</td>\n",
       "      <td>0</td>\n",
       "      <td>0</td>\n",
       "      <td>0</td>\n",
       "    </tr>\n",
       "    <tr>\n",
       "      <th>174805</th>\n",
       "      <td>0</td>\n",
       "      <td>1</td>\n",
       "      <td>0</td>\n",
       "      <td>0</td>\n",
       "      <td>0</td>\n",
       "      <td>0</td>\n",
       "      <td>0</td>\n",
       "      <td>0</td>\n",
       "      <td>0</td>\n",
       "      <td>0</td>\n",
       "      <td>0</td>\n",
       "      <td>0</td>\n",
       "      <td>0</td>\n",
       "      <td>0</td>\n",
       "      <td>0</td>\n",
       "      <td>0</td>\n",
       "      <td>0</td>\n",
       "      <td>0</td>\n",
       "      <td>0</td>\n",
       "      <td>0</td>\n",
       "    </tr>\n",
       "    <tr>\n",
       "      <th>...</th>\n",
       "      <td>...</td>\n",
       "      <td>...</td>\n",
       "      <td>...</td>\n",
       "      <td>...</td>\n",
       "      <td>...</td>\n",
       "      <td>...</td>\n",
       "      <td>...</td>\n",
       "      <td>...</td>\n",
       "      <td>...</td>\n",
       "      <td>...</td>\n",
       "      <td>...</td>\n",
       "      <td>...</td>\n",
       "      <td>...</td>\n",
       "      <td>...</td>\n",
       "      <td>...</td>\n",
       "      <td>...</td>\n",
       "      <td>...</td>\n",
       "      <td>...</td>\n",
       "      <td>...</td>\n",
       "      <td>...</td>\n",
       "    </tr>\n",
       "    <tr>\n",
       "      <th>132533</th>\n",
       "      <td>0</td>\n",
       "      <td>1</td>\n",
       "      <td>0</td>\n",
       "      <td>0</td>\n",
       "      <td>0</td>\n",
       "      <td>0</td>\n",
       "      <td>0</td>\n",
       "      <td>0</td>\n",
       "      <td>0</td>\n",
       "      <td>0</td>\n",
       "      <td>0</td>\n",
       "      <td>0</td>\n",
       "      <td>0</td>\n",
       "      <td>0</td>\n",
       "      <td>0</td>\n",
       "      <td>0</td>\n",
       "      <td>0</td>\n",
       "      <td>0</td>\n",
       "      <td>0</td>\n",
       "      <td>0</td>\n",
       "    </tr>\n",
       "    <tr>\n",
       "      <th>1407</th>\n",
       "      <td>0</td>\n",
       "      <td>1</td>\n",
       "      <td>0</td>\n",
       "      <td>0</td>\n",
       "      <td>0</td>\n",
       "      <td>0</td>\n",
       "      <td>0</td>\n",
       "      <td>0</td>\n",
       "      <td>0</td>\n",
       "      <td>0</td>\n",
       "      <td>0</td>\n",
       "      <td>0</td>\n",
       "      <td>0</td>\n",
       "      <td>0</td>\n",
       "      <td>0</td>\n",
       "      <td>0</td>\n",
       "      <td>0</td>\n",
       "      <td>0</td>\n",
       "      <td>0</td>\n",
       "      <td>0</td>\n",
       "    </tr>\n",
       "    <tr>\n",
       "      <th>40785</th>\n",
       "      <td>0</td>\n",
       "      <td>0</td>\n",
       "      <td>0</td>\n",
       "      <td>0</td>\n",
       "      <td>0</td>\n",
       "      <td>0</td>\n",
       "      <td>1</td>\n",
       "      <td>0</td>\n",
       "      <td>0</td>\n",
       "      <td>0</td>\n",
       "      <td>0</td>\n",
       "      <td>0</td>\n",
       "      <td>0</td>\n",
       "      <td>0</td>\n",
       "      <td>0</td>\n",
       "      <td>0</td>\n",
       "      <td>0</td>\n",
       "      <td>0</td>\n",
       "      <td>0</td>\n",
       "      <td>0</td>\n",
       "    </tr>\n",
       "    <tr>\n",
       "      <th>80125</th>\n",
       "      <td>0</td>\n",
       "      <td>1</td>\n",
       "      <td>0</td>\n",
       "      <td>0</td>\n",
       "      <td>0</td>\n",
       "      <td>0</td>\n",
       "      <td>0</td>\n",
       "      <td>0</td>\n",
       "      <td>0</td>\n",
       "      <td>0</td>\n",
       "      <td>0</td>\n",
       "      <td>0</td>\n",
       "      <td>0</td>\n",
       "      <td>0</td>\n",
       "      <td>0</td>\n",
       "      <td>0</td>\n",
       "      <td>0</td>\n",
       "      <td>0</td>\n",
       "      <td>0</td>\n",
       "      <td>0</td>\n",
       "    </tr>\n",
       "    <tr>\n",
       "      <th>3211</th>\n",
       "      <td>0</td>\n",
       "      <td>1</td>\n",
       "      <td>0</td>\n",
       "      <td>0</td>\n",
       "      <td>0</td>\n",
       "      <td>0</td>\n",
       "      <td>0</td>\n",
       "      <td>0</td>\n",
       "      <td>0</td>\n",
       "      <td>0</td>\n",
       "      <td>0</td>\n",
       "      <td>0</td>\n",
       "      <td>0</td>\n",
       "      <td>0</td>\n",
       "      <td>0</td>\n",
       "      <td>0</td>\n",
       "      <td>0</td>\n",
       "      <td>0</td>\n",
       "      <td>0</td>\n",
       "      <td>0</td>\n",
       "    </tr>\n",
       "  </tbody>\n",
       "</table>\n",
       "<p>196806 rows × 20 columns</p>\n",
       "</div>"
      ],
      "text/plain": [
       "        FLAG_DOCUMENT_2  FLAG_DOCUMENT_3  FLAG_DOCUMENT_4  FLAG_DOCUMENT_5  \\\n",
       "28631                 0                1                0                0   \n",
       "183632                0                1                0                0   \n",
       "134136                0                0                0                0   \n",
       "12766                 0                1                0                0   \n",
       "174805                0                1                0                0   \n",
       "...                 ...              ...              ...              ...   \n",
       "132533                0                1                0                0   \n",
       "1407                  0                1                0                0   \n",
       "40785                 0                0                0                0   \n",
       "80125                 0                1                0                0   \n",
       "3211                  0                1                0                0   \n",
       "\n",
       "        FLAG_DOCUMENT_6  FLAG_DOCUMENT_7  FLAG_DOCUMENT_8  FLAG_DOCUMENT_9  \\\n",
       "28631                 0                0                0                0   \n",
       "183632                0                0                0                0   \n",
       "134136                1                0                0                0   \n",
       "12766                 0                0                0                0   \n",
       "174805                0                0                0                0   \n",
       "...                 ...              ...              ...              ...   \n",
       "132533                0                0                0                0   \n",
       "1407                  0                0                0                0   \n",
       "40785                 0                0                1                0   \n",
       "80125                 0                0                0                0   \n",
       "3211                  0                0                0                0   \n",
       "\n",
       "        FLAG_DOCUMENT_10  FLAG_DOCUMENT_11  FLAG_DOCUMENT_12  \\\n",
       "28631                  0                 0                 0   \n",
       "183632                 0                 0                 0   \n",
       "134136                 0                 0                 0   \n",
       "12766                  0                 0                 0   \n",
       "174805                 0                 0                 0   \n",
       "...                  ...               ...               ...   \n",
       "132533                 0                 0                 0   \n",
       "1407                   0                 0                 0   \n",
       "40785                  0                 0                 0   \n",
       "80125                  0                 0                 0   \n",
       "3211                   0                 0                 0   \n",
       "\n",
       "        FLAG_DOCUMENT_13  FLAG_DOCUMENT_14  FLAG_DOCUMENT_15  \\\n",
       "28631                  0                 0                 0   \n",
       "183632                 0                 0                 0   \n",
       "134136                 0                 0                 0   \n",
       "12766                  0                 0                 0   \n",
       "174805                 0                 0                 0   \n",
       "...                  ...               ...               ...   \n",
       "132533                 0                 0                 0   \n",
       "1407                   0                 0                 0   \n",
       "40785                  0                 0                 0   \n",
       "80125                  0                 0                 0   \n",
       "3211                   0                 0                 0   \n",
       "\n",
       "        FLAG_DOCUMENT_16  FLAG_DOCUMENT_17  FLAG_DOCUMENT_18  \\\n",
       "28631                  0                 0                 0   \n",
       "183632                 0                 0                 0   \n",
       "134136                 0                 0                 0   \n",
       "12766                  0                 0                 0   \n",
       "174805                 0                 0                 0   \n",
       "...                  ...               ...               ...   \n",
       "132533                 0                 0                 0   \n",
       "1407                   0                 0                 0   \n",
       "40785                  0                 0                 0   \n",
       "80125                  0                 0                 0   \n",
       "3211                   0                 0                 0   \n",
       "\n",
       "        FLAG_DOCUMENT_19  FLAG_DOCUMENT_20  FLAG_DOCUMENT_21  \n",
       "28631                  0                 0                 0  \n",
       "183632                 0                 0                 0  \n",
       "134136                 0                 0                 0  \n",
       "12766                  0                 0                 0  \n",
       "174805                 0                 0                 0  \n",
       "...                  ...               ...               ...  \n",
       "132533                 0                 0                 0  \n",
       "1407                   0                 0                 0  \n",
       "40785                  0                 0                 0  \n",
       "80125                  0                 0                 0  \n",
       "3211                   0                 0                 0  \n",
       "\n",
       "[196806 rows x 20 columns]"
      ]
     },
     "execution_count": 27,
     "metadata": {},
     "output_type": "execute_result"
    }
   ],
   "source": [
    "features_docs = [x for x in X_train.columns if \"FLAG_DOCUMENT_\" in x]\n",
    "\n",
    "X_train[features_docs]"
   ]
  },
  {
   "cell_type": "code",
   "execution_count": 29,
   "metadata": {
    "ExecuteTime": {
     "end_time": "2022-03-19T00:35:18.071616Z",
     "start_time": "2022-03-19T00:35:17.847758Z"
    }
   },
   "outputs": [
    {
     "data": {
      "text/plain": [
       "1    172936\n",
       "0     18796\n",
       "2      4972\n",
       "3       101\n",
       "4         1\n",
       "dtype: int64"
      ]
     },
     "execution_count": 29,
     "metadata": {},
     "output_type": "execute_result"
    }
   ],
   "source": [
    "features_docs = [x for x in X_train.columns if \"FLAG_DOCUMENT_\" in x]\n",
    "\n",
    "X_train[features_docs].sum(axis = 1).value_counts()"
   ]
  },
  {
   "cell_type": "markdown",
   "metadata": {},
   "source": [
    "**Tipo de dia da data de aplicação**\n"
   ]
  },
  {
   "cell_type": "code",
   "execution_count": 30,
   "metadata": {
    "ExecuteTime": {
     "end_time": "2022-03-19T00:36:13.819088Z",
     "start_time": "2022-03-19T00:36:13.513265Z"
    }
   },
   "outputs": [
    {
     "data": {
      "text/plain": [
       "28631     Working day\n",
       "183632        Weekend\n",
       "134136        Weekend\n",
       "12766     Working day\n",
       "174805        Weekend\n",
       "             ...     \n",
       "132533        Weekend\n",
       "1407          Weekend\n",
       "40785     Working day\n",
       "80125     Working day\n",
       "3211      Working day\n",
       "Name: WEEKDAY_APPR_PROCESS_START, Length: 196806, dtype: object"
      ]
     },
     "execution_count": 30,
     "metadata": {},
     "output_type": "execute_result"
    }
   ],
   "source": [
    "X_train[\"WEEKDAY_APPR_PROCESS_START\"].apply(lambda x: \"Weekend\" if x in [\"SATURDAY\", \"SUNDAY\"] else \"Working day\")"
   ]
  },
  {
   "cell_type": "markdown",
   "metadata": {},
   "source": [
    "**Algumas outras razões temporais**"
   ]
  },
  {
   "cell_type": "code",
   "execution_count": 32,
   "metadata": {
    "ExecuteTime": {
     "end_time": "2022-03-19T00:37:18.403787Z",
     "start_time": "2022-03-19T00:37:18.209900Z"
    }
   },
   "outputs": [
    {
     "data": {
      "text/plain": [
       "28631     0.452775\n",
       "183632    0.078867\n",
       "134136    0.032721\n",
       "12766     0.060409\n",
       "174805    0.197993\n",
       "            ...   \n",
       "132533    0.469093\n",
       "1407      0.573774\n",
       "40785     0.158165\n",
       "80125     0.341684\n",
       "3211      0.170825\n",
       "Length: 196806, dtype: float64"
      ]
     },
     "execution_count": 32,
     "metadata": {},
     "output_type": "execute_result"
    }
   ],
   "source": [
    "X_train[\"OWN_CAR_AGE\"] / X_train[\"DAYS_BIRTH\"]\n",
    "\n",
    "X_train[\"DAYS_ID_PUBLISH\"] / X_train[\"DAYS_BIRTH\"]\n",
    "\n",
    "X_train[\"DAYS_REGISTRATION\"] / X_train[\"DAYS_BIRTH\"]"
   ]
  },
  {
   "cell_type": "markdown",
   "metadata": {},
   "source": [
    "___________________"
   ]
  },
  {
   "cell_type": "code",
   "execution_count": 33,
   "metadata": {
    "ExecuteTime": {
     "end_time": "2022-03-19T00:39:10.862450Z",
     "start_time": "2022-03-19T00:39:10.626586Z"
    }
   },
   "outputs": [
    {
     "data": {
      "text/plain": [
       "((196806, 120), (49202, 120), (61503, 120))"
      ]
     },
     "execution_count": 33,
     "metadata": {},
     "output_type": "execute_result"
    }
   ],
   "source": [
    "X_train.shape, X_val.shape, X_test.shape"
   ]
  },
  {
   "cell_type": "code",
   "execution_count": 34,
   "metadata": {
    "ExecuteTime": {
     "end_time": "2022-03-19T00:39:26.733674Z",
     "start_time": "2022-03-19T00:39:22.104907Z"
    }
   },
   "outputs": [],
   "source": [
    "cols_to_drop = [\"CODE_GENDER\"]\n",
    "\n",
    "pipe_pre = Pipeline([(\"create_surname\", FeaturesCreator()),\n",
    "                     (\"column_dropper\", ColumnDropper(cols_to_drop))])\n",
    "\n",
    "X_train, X_val, X_test, pre_processador = pipe_pre_process_projeto_with_pipe_pre(pipe_pre, X_train, X_val, X_test,\n",
    "                                                                                 inputer_num_strategy=\"mean\",\n",
    "                                                                                 encoding=\"onehot\",\n",
    "                                                                                 scaler=\"ss\")"
   ]
  },
  {
   "cell_type": "code",
   "execution_count": 35,
   "metadata": {
    "ExecuteTime": {
     "end_time": "2022-03-19T00:39:27.533668Z",
     "start_time": "2022-03-19T00:39:27.325783Z"
    }
   },
   "outputs": [
    {
     "data": {
      "text/plain": [
       "((196806, 137), (49202, 137), (61503, 137))"
      ]
     },
     "execution_count": 35,
     "metadata": {},
     "output_type": "execute_result"
    }
   ],
   "source": [
    "X_train.shape, X_val.shape, X_test.shape"
   ]
  },
  {
   "cell_type": "markdown",
   "metadata": {},
   "source": [
    "___________"
   ]
  },
  {
   "cell_type": "markdown",
   "metadata": {},
   "source": [
    "## Pipeline com feature engineering & undersampling (ajuda a reduzir o tamanho da base)"
   ]
  },
  {
   "cell_type": "code",
   "execution_count": 40,
   "metadata": {
    "ExecuteTime": {
     "end_time": "2022-03-19T00:45:15.840115Z",
     "start_time": "2022-03-19T00:45:15.628236Z"
    }
   },
   "outputs": [
    {
     "data": {
      "text/plain": [
       "0    0.918824\n",
       "1    0.081176\n",
       "Name: TARGET, dtype: float64"
      ]
     },
     "execution_count": 40,
     "metadata": {},
     "output_type": "execute_result"
    }
   ],
   "source": [
    "y_train.value_counts(normalize=True)"
   ]
  },
  {
   "cell_type": "code",
   "execution_count": 41,
   "metadata": {
    "ExecuteTime": {
     "end_time": "2022-03-19T00:45:26.239585Z",
     "start_time": "2022-03-19T00:45:26.045694Z"
    }
   },
   "outputs": [
    {
     "data": {
      "text/plain": [
       "0    180830\n",
       "1     15976\n",
       "Name: TARGET, dtype: int64"
      ]
     },
     "execution_count": 41,
     "metadata": {},
     "output_type": "execute_result"
    }
   ],
   "source": [
    "y_train.value_counts()"
   ]
  },
  {
   "cell_type": "code",
   "execution_count": 44,
   "metadata": {
    "ExecuteTime": {
     "end_time": "2022-03-19T00:46:29.613237Z",
     "start_time": "2022-03-19T00:46:29.438332Z"
    }
   },
   "outputs": [
    {
     "data": {
      "text/plain": [
       "'Após o undersampling, ficaremos com 31952 linha na base de treino!'"
      ]
     },
     "execution_count": 44,
     "metadata": {},
     "output_type": "execute_result"
    }
   ],
   "source": [
    "f\"Após o undersampling, ficaremos com {15976*2} linha na base de treino!\""
   ]
  },
  {
   "cell_type": "code",
   "execution_count": 36,
   "metadata": {
    "ExecuteTime": {
     "end_time": "2022-03-19T00:39:44.559317Z",
     "start_time": "2022-03-19T00:39:44.397130Z"
    }
   },
   "outputs": [],
   "source": [
    "from imblearn.under_sampling import RandomUnderSampler"
   ]
  },
  {
   "cell_type": "code",
   "execution_count": 37,
   "metadata": {
    "ExecuteTime": {
     "end_time": "2022-03-19T00:42:54.376362Z",
     "start_time": "2022-03-19T00:39:44.806696Z"
    },
    "scrolled": true
   },
   "outputs": [
    {
     "data": {
      "text/plain": [
       "Pipeline(steps=[('under_samp',\n",
       "                 RandomUnderSampler(random_state=42, sampling_strategy=0.5)),\n",
       "                ('pre_processador',\n",
       "                 ColumnTransformer(transformers=[('transf_num',\n",
       "                                                  Pipeline(steps=[('input_num',\n",
       "                                                                   SimpleImputer()),\n",
       "                                                                  ('ss',\n",
       "                                                                   StandardScaler())]),\n",
       "                                                  ['CNT_CHILDREN',\n",
       "                                                   'AMT_INCOME_TOTAL',\n",
       "                                                   'AMT_CREDIT', 'AMT_ANNUITY',\n",
       "                                                   'AMT_GOODS_PRICE',\n",
       "                                                   'REGION_POPULATION_RELATIVE',\n",
       "                                                   'DAYS_BIRTH',\n",
       "                                                   'D...\n",
       "                                                   'FLAG_OWN_CAR',\n",
       "                                                   'FLAG_OWN_REALTY',\n",
       "                                                   'NAME_TYPE_SUITE',\n",
       "                                                   'NAME_INCOME_TYPE',\n",
       "                                                   'NAME_EDUCATION_TYPE',\n",
       "                                                   'NAME_FAMILY_STATUS',\n",
       "                                                   'NAME_HOUSING_TYPE',\n",
       "                                                   'OCCUPATION_TYPE',\n",
       "                                                   'WEEKDAY_APPR_PROCESS_START',\n",
       "                                                   'ORGANIZATION_TYPE',\n",
       "                                                   'FONDKAPREMONT_MODE',\n",
       "                                                   'HOUSETYPE_MODE',\n",
       "                                                   'WALLSMATERIAL_MODE',\n",
       "                                                   'EMERGENCYSTATE_MODE',\n",
       "                                                   'DAY_APPR_PROCESS_START'])])),\n",
       "                ('gb', GradientBoostingClassifier(random_state=42))])"
      ]
     },
     "execution_count": 37,
     "metadata": {},
     "output_type": "execute_result"
    }
   ],
   "source": [
    "pipe_gb = Pipeline([(\"under_samp\", RandomUnderSampler(sampling_strategy=0.5,\n",
    "                                                      random_state=42)),\n",
    "                    (\"pre_processador\", pre_processador),\n",
    "                    (\"gb\", GradientBoostingClassifier(random_state=42))])\n",
    "\n",
    "pipe_gb.fit(X_train, y_train)"
   ]
  },
  {
   "cell_type": "code",
   "execution_count": 38,
   "metadata": {
    "ExecuteTime": {
     "end_time": "2022-03-19T00:43:14.164338Z",
     "start_time": "2022-03-19T00:42:54.396863Z"
    },
    "scrolled": true
   },
   "outputs": [
    {
     "name": "stdout",
     "output_type": "stream",
     "text": [
      "\n",
      "Métricas de avaliação de treino:\n"
     ]
    },
    {
     "data": {
      "image/png": "[encoded data removed]",
      "text/plain": [
       "<Figure size 432x288 with 2 Axes>"
      ]
     },
     "metadata": {
      "needs_background": "light"
     },
     "output_type": "display_data"
    },
    {
     "name": "stdout",
     "output_type": "stream",
     "text": [
      "              precision    recall  f1-score   support\n",
      "\n",
      "           0       0.95      0.89      0.91    180830\n",
      "           1       0.25      0.42      0.31     15976\n",
      "\n",
      "    accuracy                           0.85    196806\n",
      "   macro avg       0.60      0.65      0.61    196806\n",
      "weighted avg       0.89      0.85      0.87    196806\n",
      "\n"
     ]
    },
    {
     "data": {
      "image/png": "[encoded data removed]",
      "text/plain": [
       "<Figure size 432x288 with 1 Axes>"
      ]
     },
     "metadata": {
      "needs_background": "light"
     },
     "output_type": "display_data"
    },
    {
     "name": "stdout",
     "output_type": "stream",
     "text": [
      "\n",
      "Métricas de avaliação de teste:\n"
     ]
    },
    {
     "data": {
      "image/png": "[encoded data removed]",
      "text/plain": [
       "<Figure size 432x288 with 2 Axes>"
      ]
     },
     "metadata": {
      "needs_background": "light"
     },
     "output_type": "display_data"
    },
    {
     "name": "stdout",
     "output_type": "stream",
     "text": [
      "              precision    recall  f1-score   support\n",
      "\n",
      "           0       0.94      0.89      0.92     45208\n",
      "           1       0.24      0.40      0.30      3994\n",
      "\n",
      "    accuracy                           0.85     49202\n",
      "   macro avg       0.59      0.64      0.61     49202\n",
      "weighted avg       0.89      0.85      0.87     49202\n",
      "\n"
     ]
    },
    {
     "data": {
      "image/png": "[encoded data removed]",
      "text/plain": [
       "<Figure size 432x288 with 1 Axes>"
      ]
     },
     "metadata": {
      "needs_background": "light"
     },
     "output_type": "display_data"
    }
   ],
   "source": [
    "dados_split = (X_train, X_val, y_train, y_val)\n",
    "\n",
    "metricas_classificacao(pipe_gb, *dados_split)"
   ]
  },
  {
   "cell_type": "markdown",
   "metadata": {},
   "source": [
    "## Emulador de \"modelo em produção\" - base de teste"
   ]
  },
  {
   "cell_type": "code",
   "execution_count": 45,
   "metadata": {
    "ExecuteTime": {
     "end_time": "2022-03-19T00:46:48.030087Z",
     "start_time": "2022-03-19T00:46:43.743146Z"
    }
   },
   "outputs": [],
   "source": [
    "y_probs_test = pipe_gb.predict_proba(X_test)[:, 1]\n",
    "\n",
    "y_pred_test = pipe_gb.predict(X_test)"
   ]
  },
  {
   "cell_type": "code",
   "execution_count": 53,
   "metadata": {
    "ExecuteTime": {
     "end_time": "2022-03-19T00:48:05.476034Z",
     "start_time": "2022-03-19T00:48:05.200676Z"
    }
   },
   "outputs": [
    {
     "data": {
      "text/html": [
       "<div>\n",
       "<style scoped>\n",
       "    .dataframe tbody tr th:only-of-type {\n",
       "        vertical-align: middle;\n",
       "    }\n",
       "\n",
       "    .dataframe tbody tr th {\n",
       "        vertical-align: top;\n",
       "    }\n",
       "\n",
       "    .dataframe thead th {\n",
       "        text-align: right;\n",
       "    }\n",
       "</style>\n",
       "<table border=\"1\" class=\"dataframe\">\n",
       "  <thead>\n",
       "    <tr style=\"text-align: right;\">\n",
       "      <th></th>\n",
       "      <th>NAME_CONTRACT_TYPE</th>\n",
       "      <th>FLAG_OWN_CAR</th>\n",
       "      <th>FLAG_OWN_REALTY</th>\n",
       "      <th>CNT_CHILDREN</th>\n",
       "      <th>AMT_INCOME_TOTAL</th>\n",
       "      <th>AMT_CREDIT</th>\n",
       "      <th>AMT_ANNUITY</th>\n",
       "      <th>AMT_GOODS_PRICE</th>\n",
       "      <th>NAME_TYPE_SUITE</th>\n",
       "      <th>NAME_INCOME_TYPE</th>\n",
       "      <th>...</th>\n",
       "      <th>EXT_SOURCE_MIN</th>\n",
       "      <th>EXT_SOURCE_MAX</th>\n",
       "      <th>EXT_SOURCE_MEAN</th>\n",
       "      <th>EXT_SOURCE_SD</th>\n",
       "      <th>NUM_EXT_SOURCES</th>\n",
       "      <th>NUM_DOCUMENTS</th>\n",
       "      <th>DAY_APPR_PROCESS_START</th>\n",
       "      <th>OWN_CAR_AGE_RATIO</th>\n",
       "      <th>DAYS_ID_PUBLISHED_RATIO</th>\n",
       "      <th>DAYS_REGISTRATION_RATIO</th>\n",
       "    </tr>\n",
       "  </thead>\n",
       "  <tbody>\n",
       "    <tr>\n",
       "      <th>0</th>\n",
       "      <td>Cash loans</td>\n",
       "      <td>N</td>\n",
       "      <td>N</td>\n",
       "      <td>0</td>\n",
       "      <td>117000.0</td>\n",
       "      <td>417024.0</td>\n",
       "      <td>20191.5</td>\n",
       "      <td>360000.0</td>\n",
       "      <td>Spouse, partner</td>\n",
       "      <td>Working</td>\n",
       "      <td>...</td>\n",
       "      <td>0.145543</td>\n",
       "      <td>0.484936</td>\n",
       "      <td>0.271063</td>\n",
       "      <td>0.186150</td>\n",
       "      <td>3</td>\n",
       "      <td>1</td>\n",
       "      <td>Working day</td>\n",
       "      <td>NaN</td>\n",
       "      <td>0.213695</td>\n",
       "      <td>0.211766</td>\n",
       "    </tr>\n",
       "    <tr>\n",
       "      <th>1</th>\n",
       "      <td>Cash loans</td>\n",
       "      <td>N</td>\n",
       "      <td>Y</td>\n",
       "      <td>0</td>\n",
       "      <td>450000.0</td>\n",
       "      <td>640080.0</td>\n",
       "      <td>31261.5</td>\n",
       "      <td>450000.0</td>\n",
       "      <td>Unaccompanied</td>\n",
       "      <td>Commercial associate</td>\n",
       "      <td>...</td>\n",
       "      <td>0.624574</td>\n",
       "      <td>0.680139</td>\n",
       "      <td>0.657922</td>\n",
       "      <td>0.029407</td>\n",
       "      <td>3</td>\n",
       "      <td>1</td>\n",
       "      <td>Working day</td>\n",
       "      <td>NaN</td>\n",
       "      <td>0.109628</td>\n",
       "      <td>0.164982</td>\n",
       "    </tr>\n",
       "    <tr>\n",
       "      <th>2</th>\n",
       "      <td>Revolving loans</td>\n",
       "      <td>Y</td>\n",
       "      <td>Y</td>\n",
       "      <td>0</td>\n",
       "      <td>450000.0</td>\n",
       "      <td>900000.0</td>\n",
       "      <td>45000.0</td>\n",
       "      <td>900000.0</td>\n",
       "      <td>Unaccompanied</td>\n",
       "      <td>Commercial associate</td>\n",
       "      <td>...</td>\n",
       "      <td>0.173527</td>\n",
       "      <td>0.454279</td>\n",
       "      <td>0.313903</td>\n",
       "      <td>0.198521</td>\n",
       "      <td>2</td>\n",
       "      <td>0</td>\n",
       "      <td>Weekend</td>\n",
       "      <td>-0.000221</td>\n",
       "      <td>0.089361</td>\n",
       "      <td>0.471411</td>\n",
       "    </tr>\n",
       "    <tr>\n",
       "      <th>3</th>\n",
       "      <td>Cash loans</td>\n",
       "      <td>Y</td>\n",
       "      <td>N</td>\n",
       "      <td>1</td>\n",
       "      <td>360000.0</td>\n",
       "      <td>1125000.0</td>\n",
       "      <td>33025.5</td>\n",
       "      <td>1125000.0</td>\n",
       "      <td>Unaccompanied</td>\n",
       "      <td>Working</td>\n",
       "      <td>...</td>\n",
       "      <td>0.440058</td>\n",
       "      <td>0.688145</td>\n",
       "      <td>0.564101</td>\n",
       "      <td>0.175424</td>\n",
       "      <td>2</td>\n",
       "      <td>1</td>\n",
       "      <td>Working day</td>\n",
       "      <td>-0.000487</td>\n",
       "      <td>0.342154</td>\n",
       "      <td>0.998782</td>\n",
       "    </tr>\n",
       "    <tr>\n",
       "      <th>4</th>\n",
       "      <td>Cash loans</td>\n",
       "      <td>Y</td>\n",
       "      <td>Y</td>\n",
       "      <td>0</td>\n",
       "      <td>675000.0</td>\n",
       "      <td>835380.0</td>\n",
       "      <td>42840.0</td>\n",
       "      <td>675000.0</td>\n",
       "      <td>Unaccompanied</td>\n",
       "      <td>Working</td>\n",
       "      <td>...</td>\n",
       "      <td>0.081726</td>\n",
       "      <td>0.426409</td>\n",
       "      <td>0.254067</td>\n",
       "      <td>0.243728</td>\n",
       "      <td>2</td>\n",
       "      <td>1</td>\n",
       "      <td>Working day</td>\n",
       "      <td>-0.000591</td>\n",
       "      <td>0.279184</td>\n",
       "      <td>0.274751</td>\n",
       "    </tr>\n",
       "    <tr>\n",
       "      <th>...</th>\n",
       "      <td>...</td>\n",
       "      <td>...</td>\n",
       "      <td>...</td>\n",
       "      <td>...</td>\n",
       "      <td>...</td>\n",
       "      <td>...</td>\n",
       "      <td>...</td>\n",
       "      <td>...</td>\n",
       "      <td>...</td>\n",
       "      <td>...</td>\n",
       "      <td>...</td>\n",
       "      <td>...</td>\n",
       "      <td>...</td>\n",
       "      <td>...</td>\n",
       "      <td>...</td>\n",
       "      <td>...</td>\n",
       "      <td>...</td>\n",
       "      <td>...</td>\n",
       "      <td>...</td>\n",
       "      <td>...</td>\n",
       "      <td>...</td>\n",
       "    </tr>\n",
       "    <tr>\n",
       "      <th>61498</th>\n",
       "      <td>Cash loans</td>\n",
       "      <td>Y</td>\n",
       "      <td>N</td>\n",
       "      <td>0</td>\n",
       "      <td>225000.0</td>\n",
       "      <td>472500.0</td>\n",
       "      <td>46161.0</td>\n",
       "      <td>454500.0</td>\n",
       "      <td>Unaccompanied</td>\n",
       "      <td>Working</td>\n",
       "      <td>...</td>\n",
       "      <td>0.641852</td>\n",
       "      <td>0.641852</td>\n",
       "      <td>0.641852</td>\n",
       "      <td>NaN</td>\n",
       "      <td>1</td>\n",
       "      <td>1</td>\n",
       "      <td>Working day</td>\n",
       "      <td>-0.000505</td>\n",
       "      <td>0.076949</td>\n",
       "      <td>0.161980</td>\n",
       "    </tr>\n",
       "    <tr>\n",
       "      <th>61499</th>\n",
       "      <td>Cash loans</td>\n",
       "      <td>N</td>\n",
       "      <td>Y</td>\n",
       "      <td>0</td>\n",
       "      <td>112500.0</td>\n",
       "      <td>508495.5</td>\n",
       "      <td>24592.5</td>\n",
       "      <td>454500.0</td>\n",
       "      <td>Spouse, partner</td>\n",
       "      <td>Pensioner</td>\n",
       "      <td>...</td>\n",
       "      <td>0.297216</td>\n",
       "      <td>0.492060</td>\n",
       "      <td>0.394638</td>\n",
       "      <td>0.137776</td>\n",
       "      <td>2</td>\n",
       "      <td>1</td>\n",
       "      <td>Working day</td>\n",
       "      <td>NaN</td>\n",
       "      <td>0.201042</td>\n",
       "      <td>0.017297</td>\n",
       "    </tr>\n",
       "    <tr>\n",
       "      <th>61500</th>\n",
       "      <td>Cash loans</td>\n",
       "      <td>Y</td>\n",
       "      <td>Y</td>\n",
       "      <td>0</td>\n",
       "      <td>157500.0</td>\n",
       "      <td>808650.0</td>\n",
       "      <td>23643.0</td>\n",
       "      <td>675000.0</td>\n",
       "      <td>Unaccompanied</td>\n",
       "      <td>Pensioner</td>\n",
       "      <td>...</td>\n",
       "      <td>0.596971</td>\n",
       "      <td>0.654529</td>\n",
       "      <td>0.625750</td>\n",
       "      <td>0.040700</td>\n",
       "      <td>2</td>\n",
       "      <td>1</td>\n",
       "      <td>Weekend</td>\n",
       "      <td>-0.000899</td>\n",
       "      <td>0.176077</td>\n",
       "      <td>0.512491</td>\n",
       "    </tr>\n",
       "    <tr>\n",
       "      <th>61501</th>\n",
       "      <td>Cash loans</td>\n",
       "      <td>N</td>\n",
       "      <td>Y</td>\n",
       "      <td>0</td>\n",
       "      <td>202500.0</td>\n",
       "      <td>590337.0</td>\n",
       "      <td>30271.5</td>\n",
       "      <td>477000.0</td>\n",
       "      <td>Unaccompanied</td>\n",
       "      <td>Commercial associate</td>\n",
       "      <td>...</td>\n",
       "      <td>0.296855</td>\n",
       "      <td>0.701696</td>\n",
       "      <td>0.499275</td>\n",
       "      <td>0.286266</td>\n",
       "      <td>2</td>\n",
       "      <td>1</td>\n",
       "      <td>Working day</td>\n",
       "      <td>NaN</td>\n",
       "      <td>0.087794</td>\n",
       "      <td>0.150226</td>\n",
       "    </tr>\n",
       "    <tr>\n",
       "      <th>61502</th>\n",
       "      <td>Cash loans</td>\n",
       "      <td>Y</td>\n",
       "      <td>Y</td>\n",
       "      <td>1</td>\n",
       "      <td>135000.0</td>\n",
       "      <td>78192.0</td>\n",
       "      <td>9409.5</td>\n",
       "      <td>67500.0</td>\n",
       "      <td>Unaccompanied</td>\n",
       "      <td>Working</td>\n",
       "      <td>...</td>\n",
       "      <td>0.436956</td>\n",
       "      <td>0.436956</td>\n",
       "      <td>0.436956</td>\n",
       "      <td>NaN</td>\n",
       "      <td>1</td>\n",
       "      <td>1</td>\n",
       "      <td>Working day</td>\n",
       "      <td>-0.001908</td>\n",
       "      <td>0.326824</td>\n",
       "      <td>0.418294</td>\n",
       "    </tr>\n",
       "  </tbody>\n",
       "</table>\n",
       "<p>61503 rows × 137 columns</p>\n",
       "</div>"
      ],
      "text/plain": [
       "      NAME_CONTRACT_TYPE FLAG_OWN_CAR FLAG_OWN_REALTY  CNT_CHILDREN  \\\n",
       "0             Cash loans            N               N             0   \n",
       "1             Cash loans            N               Y             0   \n",
       "2        Revolving loans            Y               Y             0   \n",
       "3             Cash loans            Y               N             1   \n",
       "4             Cash loans            Y               Y             0   \n",
       "...                  ...          ...             ...           ...   \n",
       "61498         Cash loans            Y               N             0   \n",
       "61499         Cash loans            N               Y             0   \n",
       "61500         Cash loans            Y               Y             0   \n",
       "61501         Cash loans            N               Y             0   \n",
       "61502         Cash loans            Y               Y             1   \n",
       "\n",
       "       AMT_INCOME_TOTAL  AMT_CREDIT  AMT_ANNUITY  AMT_GOODS_PRICE  \\\n",
       "0              117000.0    417024.0      20191.5         360000.0   \n",
       "1              450000.0    640080.0      31261.5         450000.0   \n",
       "2              450000.0    900000.0      45000.0         900000.0   \n",
       "3              360000.0   1125000.0      33025.5        1125000.0   \n",
       "4              675000.0    835380.0      42840.0         675000.0   \n",
       "...                 ...         ...          ...              ...   \n",
       "61498          225000.0    472500.0      46161.0         454500.0   \n",
       "61499          112500.0    508495.5      24592.5         454500.0   \n",
       "61500          157500.0    808650.0      23643.0         675000.0   \n",
       "61501          202500.0    590337.0      30271.5         477000.0   \n",
       "61502          135000.0     78192.0       9409.5          67500.0   \n",
       "\n",
       "       NAME_TYPE_SUITE      NAME_INCOME_TYPE  ... EXT_SOURCE_MIN  \\\n",
       "0      Spouse, partner               Working  ...       0.145543   \n",
       "1        Unaccompanied  Commercial associate  ...       0.624574   \n",
       "2        Unaccompanied  Commercial associate  ...       0.173527   \n",
       "3        Unaccompanied               Working  ...       0.440058   \n",
       "4        Unaccompanied               Working  ...       0.081726   \n",
       "...                ...                   ...  ...            ...   \n",
       "61498    Unaccompanied               Working  ...       0.641852   \n",
       "61499  Spouse, partner             Pensioner  ...       0.297216   \n",
       "61500    Unaccompanied             Pensioner  ...       0.596971   \n",
       "61501    Unaccompanied  Commercial associate  ...       0.296855   \n",
       "61502    Unaccompanied               Working  ...       0.436956   \n",
       "\n",
       "      EXT_SOURCE_MAX EXT_SOURCE_MEAN  EXT_SOURCE_SD  NUM_EXT_SOURCES  \\\n",
       "0           0.484936        0.271063       0.186150                3   \n",
       "1           0.680139        0.657922       0.029407                3   \n",
       "2           0.454279        0.313903       0.198521                2   \n",
       "3           0.688145        0.564101       0.175424                2   \n",
       "4           0.426409        0.254067       0.243728                2   \n",
       "...              ...             ...            ...              ...   \n",
       "61498       0.641852        0.641852            NaN                1   \n",
       "61499       0.492060        0.394638       0.137776                2   \n",
       "61500       0.654529        0.625750       0.040700                2   \n",
       "61501       0.701696        0.499275       0.286266                2   \n",
       "61502       0.436956        0.436956            NaN                1   \n",
       "\n",
       "       NUM_DOCUMENTS  DAY_APPR_PROCESS_START  OWN_CAR_AGE_RATIO  \\\n",
       "0                  1             Working day                NaN   \n",
       "1                  1             Working day                NaN   \n",
       "2                  0                 Weekend          -0.000221   \n",
       "3                  1             Working day          -0.000487   \n",
       "4                  1             Working day          -0.000591   \n",
       "...              ...                     ...                ...   \n",
       "61498              1             Working day          -0.000505   \n",
       "61499              1             Working day                NaN   \n",
       "61500              1                 Weekend          -0.000899   \n",
       "61501              1             Working day                NaN   \n",
       "61502              1             Working day          -0.001908   \n",
       "\n",
       "       DAYS_ID_PUBLISHED_RATIO  DAYS_REGISTRATION_RATIO  \n",
       "0                     0.213695                 0.211766  \n",
       "1                     0.109628                 0.164982  \n",
       "2                     0.089361                 0.471411  \n",
       "3                     0.342154                 0.998782  \n",
       "4                     0.279184                 0.274751  \n",
       "...                        ...                      ...  \n",
       "61498                 0.076949                 0.161980  \n",
       "61499                 0.201042                 0.017297  \n",
       "61500                 0.176077                 0.512491  \n",
       "61501                 0.087794                 0.150226  \n",
       "61502                 0.326824                 0.418294  \n",
       "\n",
       "[61503 rows x 137 columns]"
      ]
     },
     "execution_count": 53,
     "metadata": {},
     "output_type": "execute_result"
    }
   ],
   "source": [
    "X_test"
   ]
  },
  {
   "cell_type": "code",
   "execution_count": 50,
   "metadata": {
    "ExecuteTime": {
     "end_time": "2022-03-19T00:47:33.481200Z",
     "start_time": "2022-03-19T00:47:33.302296Z"
    }
   },
   "outputs": [
    {
     "data": {
      "text/html": [
       "<div>\n",
       "<style scoped>\n",
       "    .dataframe tbody tr th:only-of-type {\n",
       "        vertical-align: middle;\n",
       "    }\n",
       "\n",
       "    .dataframe tbody tr th {\n",
       "        vertical-align: top;\n",
       "    }\n",
       "\n",
       "    .dataframe thead th {\n",
       "        text-align: right;\n",
       "    }\n",
       "</style>\n",
       "<table border=\"1\" class=\"dataframe\">\n",
       "  <thead>\n",
       "    <tr style=\"text-align: right;\">\n",
       "      <th></th>\n",
       "      <th>SK_ID_CURR</th>\n",
       "      <th>proba</th>\n",
       "    </tr>\n",
       "  </thead>\n",
       "  <tbody>\n",
       "    <tr>\n",
       "      <th>0</th>\n",
       "      <td>149741</td>\n",
       "      <td>0.646420</td>\n",
       "    </tr>\n",
       "    <tr>\n",
       "      <th>1</th>\n",
       "      <td>363290</td>\n",
       "      <td>0.165856</td>\n",
       "    </tr>\n",
       "    <tr>\n",
       "      <th>2</th>\n",
       "      <td>436006</td>\n",
       "      <td>0.333876</td>\n",
       "    </tr>\n",
       "    <tr>\n",
       "      <th>3</th>\n",
       "      <td>377703</td>\n",
       "      <td>0.206049</td>\n",
       "    </tr>\n",
       "    <tr>\n",
       "      <th>4</th>\n",
       "      <td>188624</td>\n",
       "      <td>0.650230</td>\n",
       "    </tr>\n",
       "    <tr>\n",
       "      <th>...</th>\n",
       "      <td>...</td>\n",
       "      <td>...</td>\n",
       "    </tr>\n",
       "    <tr>\n",
       "      <th>61498</th>\n",
       "      <td>102817</td>\n",
       "      <td>0.250371</td>\n",
       "    </tr>\n",
       "    <tr>\n",
       "      <th>61499</th>\n",
       "      <td>343961</td>\n",
       "      <td>0.370276</td>\n",
       "    </tr>\n",
       "    <tr>\n",
       "      <th>61500</th>\n",
       "      <td>427828</td>\n",
       "      <td>0.176911</td>\n",
       "    </tr>\n",
       "    <tr>\n",
       "      <th>61501</th>\n",
       "      <td>405956</td>\n",
       "      <td>0.319885</td>\n",
       "    </tr>\n",
       "    <tr>\n",
       "      <th>61502</th>\n",
       "      <td>425814</td>\n",
       "      <td>0.248679</td>\n",
       "    </tr>\n",
       "  </tbody>\n",
       "</table>\n",
       "<p>61503 rows × 2 columns</p>\n",
       "</div>"
      ],
      "text/plain": [
       "       SK_ID_CURR     proba\n",
       "0          149741  0.646420\n",
       "1          363290  0.165856\n",
       "2          436006  0.333876\n",
       "3          377703  0.206049\n",
       "4          188624  0.650230\n",
       "...           ...       ...\n",
       "61498      102817  0.250371\n",
       "61499      343961  0.370276\n",
       "61500      427828  0.176911\n",
       "61501      405956  0.319885\n",
       "61502      425814  0.248679\n",
       "\n",
       "[61503 rows x 2 columns]"
      ]
     },
     "execution_count": 50,
     "metadata": {},
     "output_type": "execute_result"
    }
   ],
   "source": [
    "pd.DataFrame({\"SK_ID_CURR\" : df_test[\"SK_ID_CURR\"],\n",
    "              \"proba\": y_probs_test})"
   ]
  },
  {
   "cell_type": "code",
   "execution_count": 52,
   "metadata": {
    "ExecuteTime": {
     "end_time": "2022-03-19T00:47:52.993407Z",
     "start_time": "2022-03-19T00:47:52.780528Z"
    }
   },
   "outputs": [
    {
     "data": {
      "text/html": [
       "<div>\n",
       "<style scoped>\n",
       "    .dataframe tbody tr th:only-of-type {\n",
       "        vertical-align: middle;\n",
       "    }\n",
       "\n",
       "    .dataframe tbody tr th {\n",
       "        vertical-align: top;\n",
       "    }\n",
       "\n",
       "    .dataframe thead th {\n",
       "        text-align: right;\n",
       "    }\n",
       "</style>\n",
       "<table border=\"1\" class=\"dataframe\">\n",
       "  <thead>\n",
       "    <tr style=\"text-align: right;\">\n",
       "      <th></th>\n",
       "      <th>SK_ID_CURR</th>\n",
       "      <th>TARGET</th>\n",
       "    </tr>\n",
       "  </thead>\n",
       "  <tbody>\n",
       "    <tr>\n",
       "      <th>0</th>\n",
       "      <td>149741</td>\n",
       "      <td>1</td>\n",
       "    </tr>\n",
       "    <tr>\n",
       "      <th>1</th>\n",
       "      <td>363290</td>\n",
       "      <td>0</td>\n",
       "    </tr>\n",
       "    <tr>\n",
       "      <th>2</th>\n",
       "      <td>436006</td>\n",
       "      <td>0</td>\n",
       "    </tr>\n",
       "    <tr>\n",
       "      <th>3</th>\n",
       "      <td>377703</td>\n",
       "      <td>0</td>\n",
       "    </tr>\n",
       "    <tr>\n",
       "      <th>4</th>\n",
       "      <td>188624</td>\n",
       "      <td>0</td>\n",
       "    </tr>\n",
       "    <tr>\n",
       "      <th>...</th>\n",
       "      <td>...</td>\n",
       "      <td>...</td>\n",
       "    </tr>\n",
       "    <tr>\n",
       "      <th>61498</th>\n",
       "      <td>102817</td>\n",
       "      <td>0</td>\n",
       "    </tr>\n",
       "    <tr>\n",
       "      <th>61499</th>\n",
       "      <td>343961</td>\n",
       "      <td>0</td>\n",
       "    </tr>\n",
       "    <tr>\n",
       "      <th>61500</th>\n",
       "      <td>427828</td>\n",
       "      <td>0</td>\n",
       "    </tr>\n",
       "    <tr>\n",
       "      <th>61501</th>\n",
       "      <td>405956</td>\n",
       "      <td>0</td>\n",
       "    </tr>\n",
       "    <tr>\n",
       "      <th>61502</th>\n",
       "      <td>425814</td>\n",
       "      <td>1</td>\n",
       "    </tr>\n",
       "  </tbody>\n",
       "</table>\n",
       "<p>61503 rows × 2 columns</p>\n",
       "</div>"
      ],
      "text/plain": [
       "       SK_ID_CURR  TARGET\n",
       "0          149741       1\n",
       "1          363290       0\n",
       "2          436006       0\n",
       "3          377703       0\n",
       "4          188624       0\n",
       "...           ...     ...\n",
       "61498      102817       0\n",
       "61499      343961       0\n",
       "61500      427828       0\n",
       "61501      405956       0\n",
       "61502      425814       1\n",
       "\n",
       "[61503 rows x 2 columns]"
      ]
     },
     "execution_count": 52,
     "metadata": {},
     "output_type": "execute_result"
    }
   ],
   "source": [
    "df_test_targets = pd.read_csv(\"../datasets/application_test_professor_targets.csv\")\n",
    "\n",
    "df_test_targets"
   ]
  },
  {
   "cell_type": "code",
   "execution_count": 54,
   "metadata": {
    "ExecuteTime": {
     "end_time": "2022-03-19T00:49:05.977232Z",
     "start_time": "2022-03-19T00:49:05.817022Z"
    }
   },
   "outputs": [],
   "source": [
    "y_test = df_test_targets[\"TARGET\"]"
   ]
  },
  {
   "cell_type": "code",
   "execution_count": 55,
   "metadata": {
    "ExecuteTime": {
     "end_time": "2022-03-19T00:49:18.061901Z",
     "start_time": "2022-03-19T00:49:17.182395Z"
    },
    "scrolled": false
   },
   "outputs": [
    {
     "data": {
      "image/png": "[encoded data removed]",
      "text/plain": [
       "<Figure size 432x288 with 2 Axes>"
      ]
     },
     "metadata": {
      "needs_background": "light"
     },
     "output_type": "display_data"
    },
    {
     "name": "stdout",
     "output_type": "stream",
     "text": [
      "              precision    recall  f1-score   support\n",
      "\n",
      "           0       0.95      0.89      0.91     56648\n",
      "           1       0.23      0.41      0.30      4855\n",
      "\n",
      "    accuracy                           0.85     61503\n",
      "   macro avg       0.59      0.65      0.61     61503\n",
      "weighted avg       0.89      0.85      0.87     61503\n",
      "\n"
     ]
    },
    {
     "data": {
      "image/png": "[encoded data removed]",
      "text/plain": [
       "<Figure size 432x288 with 1 Axes>"
      ]
     },
     "metadata": {
      "needs_background": "light"
     },
     "output_type": "display_data"
    }
   ],
   "source": [
    "ConfusionMatrixDisplay.from_predictions(y_test, y_pred_test)\n",
    "plt.show()\n",
    "\n",
    "print(classification_report(y_test, y_pred_test))\n",
    "\n",
    "disp = RocCurveDisplay.from_predictions(y_test, y_probs_test)\n",
    "disp.ax_.set_title(f\"AUC: {roc_auc_score(y_test, y_probs_test):.3f}\", fontsize=16)\n",
    "x = np.linspace(0, 1, 100)\n",
    "plt.plot(x, x, ls=\":\", color=\"black\")\n",
    "plt.show()"
   ]
  },
  {
   "cell_type": "markdown",
   "metadata": {},
   "source": [
    "____\n",
    "____\n",
    "____"
   ]
  }
 ],
 "metadata": {
  "kernelspec": {
   "display_name": "Python 3",
   "language": "python",
   "name": "python3"
  },
  "language_info": {
   "codemirror_mode": {
    "name": "ipython",
    "version": 3
   },
   "file_extension": ".py",
   "mimetype": "text/x-python",
   "name": "python",
   "nbconvert_exporter": "python",
   "pygments_lexer": "ipython3",
   "version": "3.8.3"
  }
 },
 "nbformat": 4,
 "nbformat_minor": 4
}
