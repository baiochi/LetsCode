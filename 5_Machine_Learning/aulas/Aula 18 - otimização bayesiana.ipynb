{
 "cells": [
  {
   "cell_type": "markdown",
   "metadata": {},
   "source": [
    "# Aula 18 - otimização bayesiana\n",
    "\n",
    "Na aula de hoje, vamos explorar os seguintes tópicos em Python:\n",
    "\n",
    "- 1) Introdução\n",
    "- 2) Otimização bayesiana"
   ]
  },
  {
   "cell_type": "markdown",
   "metadata": {},
   "source": [
    "Na parte prática da aula de hoje, usaremos a biblioteca [hyperopt](http://hyperopt.github.io/hyperopt/)\n",
    "\n",
    "Para instalá-la, o de sempre:\n",
    "\n",
    "`pip install hyperopt`"
   ]
  },
  {
   "cell_type": "markdown",
   "metadata": {},
   "source": [
    "__________"
   ]
  },
  {
   "cell_type": "code",
   "execution_count": 1,
   "metadata": {
    "ExecuteTime": {
     "end_time": "2022-03-14T21:24:59.590431Z",
     "start_time": "2022-03-14T21:24:57.146557Z"
    }
   },
   "outputs": [],
   "source": [
    "import numpy  as np\n",
    "import pandas as pd \n",
    "\n",
    "import matplotlib.pyplot as plt\n",
    "import seaborn as sns\n",
    "\n",
    "from sklearn.model_selection import train_test_split"
   ]
  },
  {
   "cell_type": "code",
   "execution_count": 2,
   "metadata": {
    "ExecuteTime": {
     "end_time": "2022-03-14T21:24:59.605057Z",
     "start_time": "2022-03-14T21:24:59.590431Z"
    }
   },
   "outputs": [],
   "source": [
    "from sklearn.metrics import confusion_matrix, classification_report, ConfusionMatrixDisplay\n",
    "\n",
    "def metricas_classificacao(estimator, X_train, X_test, y_train, y_test):\n",
    "    \n",
    "    # ============================================\n",
    "\n",
    "    print(\"\\nMétricas de avaliação de treino:\")\n",
    "\n",
    "    y_pred_train = estimator.predict(X_train)\n",
    "\n",
    "    print(confusion_matrix(y_train, y_pred_train))\n",
    "\n",
    "    ConfusionMatrixDisplay.from_predictions(y_train, y_pred_train)\n",
    "    plt.show()\n",
    "\n",
    "    print(classification_report(y_train, y_pred_train))\n",
    "\n",
    "    # ============================================\n",
    "\n",
    "    print(\"\\nMétricas de avaliação de teste:\")\n",
    "\n",
    "    y_pred_test = estimator.predict(X_test)\n",
    "\n",
    "    print(confusion_matrix(y_test, y_pred_test))\n",
    "\n",
    "    ConfusionMatrixDisplay.from_predictions(y_test, y_pred_test)\n",
    "    plt.show()\n",
    "\n",
    "    print(classification_report(y_test, y_pred_test))"
   ]
  },
  {
   "cell_type": "markdown",
   "metadata": {},
   "source": [
    "____\n",
    "____\n",
    "_____"
   ]
  },
  {
   "cell_type": "markdown",
   "metadata": {},
   "source": [
    "## 1) Introdução\n",
    "\n",
    "Desde que conhecemos os primeiros estimadores utilizados para a construção de modelos, uma preocupação adicional nos acompanhou: o ajuste de valores dos hiperparâmetros.\n",
    "\n",
    "Quase todos os estimadores que conhecemos têm um ou mais **hiperparâmetros** associados.\n",
    "\n",
    "Como vimos, os hiperparâmetros influenciam o comportamento do modelo (e, portanto, são muito importantes), mas eles não são determinados a partir dos dados! É nosso dever, como cientistas de dados, fornecer valores adequados para os hiperparâmetros.\n",
    "\n",
    "No começo de nossa jornada, nós utilizávamos os valores default para os hiperparâmetros, ou então, mudávamos manualmente alguns valores, para sensibilizar a influência dos hiperparâmetros no modelo final.\n",
    "\n",
    "Mas logo percebemos que essa não era a melhor abordagem --- precisávamos de um método mais sistemàtico para a busca de bons valores para os hiperparâmetros!"
   ]
  },
  {
   "cell_type": "markdown",
   "metadata": {},
   "source": [
    "_______\n",
    "\n",
    "Para este fim, introduzimos inicialmente o **grid search**, que **testa exaustivamente** combinações explícitas de valores de hiperparâmetros.\n",
    "\n",
    "Apesar de simples e direta, esta é uma abordagem computacionalmente muito custosa (sentimos isso na pele, ao rodar rotinas de grid search que demoram horas, ou até mesmo dias!). \n",
    "\n",
    "De fato, esta é uma abordagem de força bruta que, aliás, não nos dá garantia nenhuma: é perfeitamente possível que nenhuma das combinações que estabelecemos seja boa boa! Oras, há muitos casos em que o **espaço de hiperparâmetros** é infinito (basta considerar um hiperparâmetro dado por um float que não é limitado)."
   ]
  },
  {
   "cell_type": "markdown",
   "metadata": {},
   "source": [
    "______\n",
    "\n",
    "Para endereçar este problema, introduzimos então o **random search**.\n",
    "\n",
    "Neste caso, ao invés de disponibilizarmos valores específicos de hiperparâmetros a serem combinados, disponibilizamos **intervalos** ou explicitamente **distribuições de probabilidade** sobre o espaço de parâmetros de cada hiperparâmetro, e **amostramos valores aleatórios** destas distribuições para gerar as combinações.\n",
    "\n",
    "Com essa abordagem estocástica, há a possibilidade de encontrarmos boas combinações, que não estariam inclusas nos valores explícitos que passamos para o grid search.\n",
    "\n",
    "Por outro lado, com o random search também não temos garantia alguma que as melhores combinações serão encontradas, sobretudo porque **todas as combinações são amostradas de maneira aleatória**. Ou seja, todas as combinações são amostradas **sem considerar** a performance das combinações anteriores. Com esta metodologia, fica difícil garantirmos que efetivamente encontraremos boas combinações..."
   ]
  },
  {
   "cell_type": "markdown",
   "metadata": {},
   "source": [
    "Metodologia de grid search (à esquerda) vs random search (à direita):\n",
    "\n",
    "<img src=https://www.researchgate.net/profile/Minrui-Zheng/publication/328252103/figure/fig4/AS:766093471801344@1559662325592/Distribution-of-sampled-hyperparameters-a-grid-search-b-random-search.png width=600>"
   ]
  },
  {
   "cell_type": "markdown",
   "metadata": {},
   "source": [
    "_________\n",
    "\n",
    "Então, podemos nos perguntar: qual seria o próximo passo? Existiria um método ainda mais eficiente e \"educado\" para fazer a otimização de hiperparâmetros?\n",
    "\n",
    "A resposta é: sim! Hoje, conheceremos o método de **otimização Bayesiana**, aplicada à otimização de hiperparâmetros!"
   ]
  },
  {
   "cell_type": "markdown",
   "metadata": {},
   "source": [
    "_________\n",
    "_________\n",
    "_________"
   ]
  },
  {
   "cell_type": "markdown",
   "metadata": {},
   "source": [
    "## 2) Otimização Bayesiana\n",
    "\n",
    "O objetivo da otimização baeysiana é o mesmo que tínhamos com o grid e random search: **determinar os valores adequados para um conjunto de hiperparâmetros**, de modo que a combinação de valores **proporcione os melhores valores para uma métrica de avaliação calculada em dados de validação**.\n",
    "\n",
    "O que muda com a otimização baeysiana é a forma como isso será feito.\n",
    "\n",
    "Já descrevemos os problemas que ambos grid e random search têm. Sobretudo, o fato das combinações de valores dos hiperparâmetros serem independentes entre si, sem levar em consideração combinações anteriores, que poderiam ser boas.\n",
    "\n",
    ">Pra entender isso melhor, imagine o cenário em que queremos otimizar 3 hiperparâmetros.\n",
    "<br><br>\n",
    ">Pode ser que, em uma combinação, encontremos bons valores para 2 dos 3 hiperparâmetros; ja, na próxima, como os 3 valores serão novos, pode ser que os 3 sejam ruins. Não seria interessante de conseguíssemos manter a informação sobre os valores bons que encontramos?\n",
    "\n",
    "Esse é o espírito da otimização baeysiana!"
   ]
  },
  {
   "cell_type": "markdown",
   "metadata": {},
   "source": [
    "Pra entender isso intuitivamente, considere a figura a seguir (suponha que o \"score\" é um erro, então, quanto menor, melhor):\n",
    "\n",
    "<img src=https://miro.medium.com/max/1120/1*MiNXGrkk5BbjfkNAXZQSNA.png width=400>\n",
    "\n",
    "Pergunta: onde você concentraria a busca por valores do hiperparâmetro `n_estimators`?\n",
    "\n",
    "Olhando pro gráfico, existe claramente uma região no espaço do hiperparâmetro `n_estimators` que é melhor: menos de 200 árvores.\n",
    "\n",
    "**Uma vez que temos este conhecimento**, realmente não faz sentido algum que os próximos valores que vamos testar sejam maiores que 200, não é mesmo?\n",
    "\n",
    "Esse é o espírito da otimização bayesiana: **utilizamos a informação que temos quanto ao score alcançado com valores iniciais de hiperparâmetros para guiar a escolha dos próximos valores!**\n",
    "\n",
    "E aqui já fica claro o porquê do método receber o título \"bayesiano\": de fato, estamos nos utilizando da \"filosofia\" bayesiana de ajuste de estratégia conforme agregamos novas informações! "
   ]
  },
  {
   "cell_type": "markdown",
   "metadata": {},
   "source": [
    ">E é por isso que a otimização bayesiana é tão mais eficiente que as estratégias anteriores: gastamos um pouco mais de energia para propor combinações de hiperparâmetros **levando em consideração** as combinações passadas e suas respectivas perfomances.\n",
    "<br><br>\n",
    "Com isso, podemos focar apenas em testar **combinações promissoras**, e não precisamos gastar energia em procurar por combinações que sabemos não ser tão boas.\n",
    "\n",
    "Faz sentido, não é mesmo?\n",
    "\n",
    "Agora, precisamos apenas entender **como** é possível implementar isso. Vamos estab"
   ]
  },
  {
   "cell_type": "markdown",
   "metadata": {},
   "source": [
    "### 2.1) Função objetivo\n",
    "\n",
    "É razoável assumirmos que existe uma função que relaciona a métrica de performance (score) que temos interesse de otimizar e os hiperparâmetros, não é mesmo?\n",
    "\n",
    "Sabendo que as métricas de performance essencialmente comparam os targets preditos com os targets reais, e sabendo que os targets preditos (pela hipótese) são influenciados pelos hiperparâmetros, é bem natural que assumamos que esta função existe.\n",
    "\n",
    "Agora, o ponto é que pode ser extremamente difícil escrever esta função explicitamente. Como nosso objetivo será encontrar valores que **otimizam** a função, costumamos chamá-la de **função objetivo**. \n",
    "\n",
    "Mas, veja, queremos otimizar uma função onjetivo **sem nem saber qual é sua dependência funcional com os hiperparâmetros**. Problemas deste tipo são chamados de **otimização de caixa-preta**, e existem várias técnicas para abordá-los. Recomendo [este material](https://www.lix.polytechnique.fr/~dambrosio/blackbox_material/Cassioli_1.pdf) aos interessados.\n",
    "\n",
    "<img src=https://www.researchgate.net/profile/Abraham-Duarte/publication/236164556/figure/fig1/AS:393408515461120@1470807307227/Schematic-representation-of-the-black-box-optimization-framework.png width=500>\n",
    "\n",
    "Quando formos pra prática, construiremos a função objetivo implicitamente, como o resultado retornado por uma **métrica de avaliação** dado o treinamento de um modelo. \n",
    "\n",
    "Na prática, isso nos será suficiente, pois bastará que tomemos **alguns pontos** desta função, para seguir com sua otimização, isso graças à introdução do surrogate model."
   ]
  },
  {
   "cell_type": "markdown",
   "metadata": {},
   "source": [
    "### 2.2) Surrogate model\n",
    "\n",
    "Na prática, iremos apenas **avaliar alguns pontos da função objetivo** e construir um **modelo probabilístico dela** com base nestes pontos, que serão tratados como **amostras**.\n",
    "\n",
    "Este modelo probabílistico é conhecido como **surrogate model (modelo substituto ou emulador)**, pois ele emula probabilisticamente o que seria a função real, sem a necessidade dela ser reconstruída explicitamente. E o melhor, dado que o modelo surrogate é bem mais simples que a função objetivo, será muito mais fácil otimizá-lo do que a função objetivo em si!\n",
    "\n",
    "<img src=https://www.researchgate.net/profile/Seung-Seop-Jin-2/publication/297605027/figure/fig1/AS:339392045568000@1457928777016/Concept-of-sequential-surrogate-modelling.png width=600>\n",
    "\n",
    "O ponto é que nosso modelo surrogate será atualizado **de maneira bayesiana**, isto é, levando em consideração scores anteriores, para sugerir as próximas combinações de hiperparâmetros de maneira mais principada."
   ]
  },
  {
   "cell_type": "markdown",
   "metadata": {},
   "source": [
    "Operacionalmente, seguiremos o seguinte passo-a-passo:\n",
    "\n",
    "- Construiremos um modelo probabilístico surrogate para a função objetivo;\n",
    "- Otimizaremos o modelo surrogate, encontrando bons valores para os hiperparâmetros nesta função;\n",
    "- Utilizamos estes valores encontrados e damos de input para a função objetivo real, e amostramos um novo ponto;\n",
    "- Atualizamos o modelo surrogate, incorporando o novo ponto amostrado;\n",
    "- Repetimos os últimos 3 passos, até atingirmos o critério de parada (em geral, um número pré-definido de passos).\n"
   ]
  },
  {
   "cell_type": "markdown",
   "metadata": {},
   "source": [
    "Há muitas formas possíveis para o modelo surrogate. Um método muito interessante é o que utiliza processos gaussianos. Sugiro muito a leitura [deste post interativo](https://distill.pub/2019/visual-exploration-gaussian-processes/) para conhecer um pouco mais sobre este método; e [este post](https://towardsdatascience.com/the-intuitions-behind-bayesian-optimization-with-gaussian-processes-7e00fcc898a0) para uma intuição quanto a sua aplicação como modelo surrogate da otimização bayesiana.\n",
    "\n",
    "Na nossa implementação prática, utilizaremos o método conhecido como **Tree-structured Parzen Estimator** (TPE) para a construção do modelo surrogate.\n",
    "\n",
    "Não nos preocuparemos com a matemática por trás do método. (Aos interessados, sugiro a leitura [deste artigo](https://www.diva-portal.org/smash/get/diva2:1223709/FULLTEXT01.pdf), que compara diferentes modelos surrogates e técnicas de otimização de hiperparâmetros, no contexto de redes neurais, embora as ideias sejam válidas no geral)."
   ]
  },
  {
   "cell_type": "markdown",
   "metadata": {},
   "source": [
    "Basta sabermos o seguinte: o TPE precisa de um **threshold de score**:\n",
    "\n",
    "<img src=https://miro.medium.com/max/1120/1*H5pyf3G115WGJwPpg65yaQ.png width=400>\n",
    "\n",
    "Com base neste score, o método gera distribuições de probabilidade a priori, para ambos os valores de hiperparâmetros que estão acima e abaixo do threshold.\n",
    "\n",
    "Uma vez em posse destas distribuições, o método se utiliza então de um **critério de escolha** que favorece valores dos hiperparâmetros que estão do lado do threshold que nos interessa (no caso deste exemplo, abaixo do threshold), e estes valores são propostos como os próximos hiperparâmetros a serem escolhidos.\n",
    "\n",
    "E é assim que o TPE consegue \"focar nas regiões promissoras\" do espaço de hiperparâmetros. Muito legal, não é mesmo?\n",
    "\n",
    "Mas ainda resta uma pergunta: qual é exatamente este critério de escolha das regiões? **Como**, a cada iteração, os próximos valores de hiperparâmetros são propostos, com o objetivo de minimizar a função objetivo?\n",
    "\n",
    "Isto é feito de acordo com a chamada **função de seleção**."
   ]
  },
  {
   "cell_type": "markdown",
   "metadata": {},
   "source": [
    "### 2.3) Função de seleção\n",
    "\n",
    "O objetivo da função de seleção é muito simples: **determinar os valores dos hiperparâmetros que são escolhidos do modelo surrogate** a cada passo.\n",
    "\n",
    "Há vários critérios possíveis, mas o mais comum é conhecido como **Expected Improvement** (melhoria esperada), e ela é uma função do modelo surrogate. Seu uso é bem direto: **propomos novos valores de hiperparâmetros de modo que o expected improvement seja maximizado**. \n",
    "\n",
    "Podemos omitir aqui os detalhes matemáticos, o importante é lembrarmos que é o papel da função de seleção estabelecer o critério segundo o qual o modelo surrogate irá proporcionar os valores de hiperparâmetros a cada iteração.\n",
    "\n",
    "E, com isso, conseguimos, a cada iteração, propor candidatos a valores de hiperparâmetros que melhoram o modelo surrogate. O registro destes valores é muito importante, para que o teorema de Bayes entre em ação!"
   ]
  },
  {
   "cell_type": "markdown",
   "metadata": {},
   "source": [
    "### 2.4) Histórico de registros\n",
    "\n",
    "O histórico de registros, que é uma tupla com **(valores de hiperparâmetros, respectivo score)** é muitíssimo importante para que seja possível a construção de um modelo surrogate que, a cada passo, melhora a descrição probabilística da função objetivo.\n",
    "\n",
    "Isso é importante pois, quão melhor for nossa descrição da função objetivo, teremos que o passo disponibilizado pelo expected improvement irá proporcionar hiperparâmetros mais próximos do ótimo da função objetivo. \n",
    "\n",
    "E é aqui que o teorema de Bayes entra em ação: a partir de novas evidências (amostras do surrogate), atualizamos a nossa descrição da funcção objetivo com cada vez mais detalhes, e, assim, ela fica mais fácil de ser otimizada, sem precisar ser explicitamente construída!\n",
    "\n",
    "<img src=https://miro.medium.com/max/1400/1*RQ-pAwQ88yC904QppChGPQ.png width=500>\n",
    "\n",
    "<img src=https://miro.medium.com/max/1400/1*bSLAe1LCj3mMKfaZsQWCrw.png width=500>"
   ]
  },
  {
   "cell_type": "markdown",
   "metadata": {},
   "source": [
    "Agora que já conhecemos todos os ingredientes importantes, podemos dizer enunciar o passo-a-passo da otimização bayesiana:\n",
    "\n",
    "- Primeiro definimos um espaço de busca para cada um dos hiperparâmetros, impondo uma distribuição de probabilidade sobre o espaço;\n",
    "- Construímos implicitamente a função objetivo, que tem como inputs os hiperparâmetros, e como output o score a ser otimizado (que será a métrica de avaliação de interesse);\n",
    "- Construímos o modelo surrogate probabilístico da função objetivo;\n",
    "- Construímos a função de seleção, que irá determinar os próximos valores para os hiperparâmetros a serem escolhidos do modelo surrogate;\n",
    "- Atualizamos um histórico de valores de hiperparâmetros e respectivo score, que é utilizado pelo algoritmo para a atualização do modelo surrogate;\n",
    "- Repetimos o processo até o critério de parada.\n"
   ]
  },
  {
   "cell_type": "markdown",
   "metadata": {},
   "source": [
    "__________\n",
    "\n",
    "E é isso!\n",
    "\n",
    "Para os interessados em maiores detalhes matemáticos, recomendo fortemente [este artigo](http://proceedings.mlr.press/v28/bergstra13.pdf), e [este também](https://proceedings.neurips.cc/paper/2011/file/86e8f7ab32cfd12577bc2619bc635690-Paper.pdf), que reporta resultados incríveis a favor do uso de otimização bayesiana como alternativa aos métodos tradicionais de otimização de hiperparâmetros.\n",
    "\n",
    "Agora, vamos ver o método funcionando na prática!"
   ]
  },
  {
   "cell_type": "markdown",
   "metadata": {},
   "source": [
    "______________"
   ]
  },
  {
   "cell_type": "code",
   "execution_count": 3,
   "metadata": {
    "ExecuteTime": {
     "end_time": "2022-03-14T21:24:59.792521Z",
     "start_time": "2022-03-14T21:24:59.610054Z"
    }
   },
   "outputs": [],
   "source": [
    "from sklearn.compose import ColumnTransformer\n",
    "\n",
    "from sklearn.preprocessing import StandardScaler, OneHotEncoder, OrdinalEncoder\n",
    "\n",
    "from sklearn.impute import SimpleImputer\n",
    "\n",
    "from sklearn.model_selection import GridSearchCV, StratifiedKFold, train_test_split\n",
    "\n",
    "from sklearn.pipeline import Pipeline\n",
    "\n",
    "def pipe_pre_process_german(drop_not_features=[\"Risk\"], col_target=\"Risk\",\n",
    "                             inputer_num_strategy=\"mean\",\n",
    "                             encoding=\"ordinal\"):\n",
    "    '''\n",
    "    - inputer_num_strategy (str): \"mean\", \"median\";\n",
    "    - encoding (str): \"onehot\" para OneHotEncoder; \"ordinal\" OrdinalEncoder;\n",
    "    '''\n",
    "    \n",
    "    df = pd.read_csv(\"../datasets/german_credit_data.csv\", index_col=0)\n",
    "\n",
    "    X = df.drop(columns=drop_not_features)\n",
    "    y = df[col_target]\n",
    "    \n",
    "    X_train, X_test, y_train, y_test = train_test_split(X, y, test_size=0.2, random_state=42, stratify=y)\n",
    "\n",
    "    # ==========================================================\n",
    "\n",
    "    pipe_features_num = Pipeline([(\"input_num\", SimpleImputer(strategy=inputer_num_strategy)),\n",
    "                                  (\"std\", StandardScaler())])\n",
    "\n",
    "    features_num = X_train.select_dtypes(include=np.number).columns.tolist()\n",
    "\n",
    "    # ==========================================================\n",
    "\n",
    "    if encoding == \"onehot\":\n",
    "    \n",
    "        pipe_features_cat = Pipeline([(\"input_cat\", SimpleImputer(strategy=\"constant\", fill_value=\"unknown\")),\n",
    "                                      (\"onehot\", OneHotEncoder(handle_unknown=\"ignore\"))])\n",
    "        \n",
    "    elif encoding == \"ordinal\":\n",
    "        \n",
    "        pipe_features_cat = Pipeline([(\"input_cat\", SimpleImputer(strategy=\"constant\", fill_value=\"unknown\")),\n",
    "                                      (\"ordinal\", OrdinalEncoder(handle_unknown=\"use_encoded_value\",\n",
    "                                                                 unknown_value=-1))])\n",
    "    \n",
    "    else:\n",
    "        \n",
    "        raise ValueError(\"Únicos encodings disponíveis são 'ordinal' e 'onehot'\")\n",
    "        \n",
    "        \n",
    "    features_cat = X_train.select_dtypes(exclude=np.number).columns.tolist()\n",
    "\n",
    "    # ==========================================================\n",
    "\n",
    "    pre_processador = ColumnTransformer([(\"transf_num\", pipe_features_num, features_num),\n",
    "                                         (\"transf_cat\", pipe_features_cat, features_cat)])\n",
    "\n",
    "    return X_train, X_test, y_train, y_test, pre_processador"
   ]
  },
  {
   "cell_type": "markdown",
   "metadata": {},
   "source": [
    "Vamos construir um modelo com os hiperparâmetros default (mas `learning_rate=0.1`)"
   ]
  },
  {
   "cell_type": "code",
   "execution_count": 4,
   "metadata": {
    "ExecuteTime": {
     "end_time": "2022-03-14T21:24:59.839633Z",
     "start_time": "2022-03-14T21:24:59.794523Z"
    }
   },
   "outputs": [],
   "source": [
    "X_train, X_test, y_train, y_test, pre_processador = pipe_pre_process_german(drop_not_features=[\"Risk\"], \n",
    "                                                                            col_target=\"Risk\",\n",
    "                                                                            inputer_num_strategy=\"mean\",\n",
    "                                                                            encoding=\"ordinal\")"
   ]
  },
  {
   "cell_type": "code",
   "execution_count": 5,
   "metadata": {
    "ExecuteTime": {
     "end_time": "2022-03-14T21:24:59.901496Z",
     "start_time": "2022-03-14T21:24:59.841637Z"
    }
   },
   "outputs": [
    {
     "data": {
      "text/plain": [
       "ColumnTransformer(transformers=[('transf_num',\n",
       "                                 Pipeline(steps=[('input_num', SimpleImputer()),\n",
       "                                                 ('std', StandardScaler())]),\n",
       "                                 ['Age', 'Job', 'Credit amount', 'Duration']),\n",
       "                                ('transf_cat',\n",
       "                                 Pipeline(steps=[('input_cat',\n",
       "                                                  SimpleImputer(fill_value='unknown',\n",
       "                                                                strategy='constant')),\n",
       "                                                 ('ordinal',\n",
       "                                                  OrdinalEncoder(handle_unknown='use_encoded_value',\n",
       "                                                                 unknown_value=-1))]),\n",
       "                                 ['Sex', 'Housing', 'Saving accounts',\n",
       "                                  'Checking account', 'Purpose'])])"
      ]
     },
     "execution_count": 5,
     "metadata": {},
     "output_type": "execute_result"
    }
   ],
   "source": [
    "pre_processador"
   ]
  },
  {
   "cell_type": "code",
   "execution_count": 6,
   "metadata": {
    "ExecuteTime": {
     "end_time": "2022-03-14T21:25:00.118971Z",
     "start_time": "2022-03-14T21:24:59.904496Z"
    }
   },
   "outputs": [],
   "source": [
    "from sklearn.ensemble import GradientBoostingClassifier"
   ]
  },
  {
   "cell_type": "code",
   "execution_count": 7,
   "metadata": {
    "ExecuteTime": {
     "end_time": "2022-03-14T21:25:00.738744Z",
     "start_time": "2022-03-14T21:25:00.120856Z"
    },
    "scrolled": true
   },
   "outputs": [
    {
     "name": "stdout",
     "output_type": "stream",
     "text": [
      "\n",
      "Métricas de avaliação de treino:\n",
      "[[163  77]\n",
      " [ 19 541]]\n"
     ]
    },
    {
     "data": {
      "image/png": "[encoded data removed]",
      "text/plain": [
       "<Figure size 432x288 with 2 Axes>"
      ]
     },
     "metadata": {
      "needs_background": "light"
     },
     "output_type": "display_data"
    },
    {
     "name": "stdout",
     "output_type": "stream",
     "text": [
      "              precision    recall  f1-score   support\n",
      "\n",
      "         bad       0.90      0.68      0.77       240\n",
      "        good       0.88      0.97      0.92       560\n",
      "\n",
      "    accuracy                           0.88       800\n",
      "   macro avg       0.89      0.82      0.85       800\n",
      "weighted avg       0.88      0.88      0.87       800\n",
      "\n",
      "\n",
      "Métricas de avaliação de teste:\n",
      "[[ 26  34]\n",
      " [ 18 122]]\n"
     ]
    },
    {
     "data": {
      "image/png": "[encoded data removed]",
      "text/plain": [
       "<Figure size 432x288 with 2 Axes>"
      ]
     },
     "metadata": {
      "needs_background": "light"
     },
     "output_type": "display_data"
    },
    {
     "name": "stdout",
     "output_type": "stream",
     "text": [
      "              precision    recall  f1-score   support\n",
      "\n",
      "         bad       0.59      0.43      0.50        60\n",
      "        good       0.78      0.87      0.82       140\n",
      "\n",
      "    accuracy                           0.74       200\n",
      "   macro avg       0.69      0.65      0.66       200\n",
      "weighted avg       0.72      0.74      0.73       200\n",
      "\n"
     ]
    }
   ],
   "source": [
    "pipe = Pipeline([(\"pp\", pre_processador),\n",
    "                 (\"gb\", GradientBoostingClassifier(random_state=42))])\n",
    "\n",
    "pipe.fit(X_train, y_train)\n",
    "\n",
    "metricas_classificacao(pipe, X_train, X_test, y_train, y_test)"
   ]
  },
  {
   "cell_type": "markdown",
   "metadata": {},
   "source": [
    "Nada mal. Vamos ver se conseguimos melhorar com o Grid Search:"
   ]
  },
  {
   "cell_type": "code",
   "execution_count": 11,
   "metadata": {
    "ExecuteTime": {
     "end_time": "2022-03-14T22:13:48.985621Z",
     "start_time": "2022-03-14T22:13:48.949642Z"
    }
   },
   "outputs": [
    {
     "data": {
      "text/plain": [
       "array([100, 200, 300, 400, 500])"
      ]
     },
     "execution_count": 11,
     "metadata": {},
     "output_type": "execute_result"
    }
   ],
   "source": [
    "np.arange(1, 6)*100"
   ]
  },
  {
   "cell_type": "code",
   "execution_count": 8,
   "metadata": {
    "ExecuteTime": {
     "end_time": "2022-03-14T21:25:13.931556Z",
     "start_time": "2022-03-14T21:25:00.742614Z"
    },
    "scrolled": true
   },
   "outputs": [
    {
     "name": "stdout",
     "output_type": "stream",
     "text": [
      "Fitting 5 folds for each of 20 candidates, totalling 100 fits\n"
     ]
    },
    {
     "data": {
      "text/plain": [
       "GridSearchCV(cv=StratifiedKFold(n_splits=5, random_state=42, shuffle=True),\n",
       "             estimator=Pipeline(steps=[('pp',\n",
       "                                        ColumnTransformer(transformers=[('transf_num',\n",
       "                                                                         Pipeline(steps=[('input_num',\n",
       "                                                                                          SimpleImputer()),\n",
       "                                                                                         ('std',\n",
       "                                                                                          StandardScaler())]),\n",
       "                                                                         ['Age',\n",
       "                                                                          'Job',\n",
       "                                                                          'Credit '\n",
       "                                                                          'amount',\n",
       "                                                                          'Duration']),\n",
       "                                                                        ('transf_cat',\n",
       "                                                                         Pipeline(steps=[('input_cat',\n",
       "                                                                                          SimpleImputer(fill_value='unknown',\n",
       "                                                                                                        strat...\n",
       "                                                                                          OrdinalEncoder(handle_unknown='use_encoded_value',\n",
       "                                                                                                         unknown_value=-1))]),\n",
       "                                                                         ['Sex',\n",
       "                                                                          'Housing',\n",
       "                                                                          'Saving '\n",
       "                                                                          'accounts',\n",
       "                                                                          'Checking '\n",
       "                                                                          'account',\n",
       "                                                                          'Purpose'])])),\n",
       "                                       ('gb',\n",
       "                                        GradientBoostingClassifier(random_state=42))]),\n",
       "             n_jobs=-1,\n",
       "             param_grid={'gb__loss': ['deviance', 'exponential'],\n",
       "                         'gb__max_depth': [1, 2],\n",
       "                         'gb__n_estimators': array([100, 200, 300, 400, 500])},\n",
       "             scoring='f1_weighted', verbose=10)"
      ]
     },
     "execution_count": 8,
     "metadata": {},
     "output_type": "execute_result"
    }
   ],
   "source": [
    "pipe = Pipeline([(\"pp\", pre_processador),\n",
    "                 (\"gb\", GradientBoostingClassifier(random_state=42))])\n",
    "\n",
    "params_grid = {\"gb__loss\" : [\"deviance\", \"exponential\"],\n",
    "               \"gb__n_estimators\" : np.arange(1, 6)*100,\n",
    "               \"gb__max_depth\" : [1, 2]}\n",
    "\n",
    "splitter = StratifiedKFold(n_splits=5, random_state=42, shuffle=True)\n",
    "\n",
    "grid_gb = GridSearchCV(pipe,\n",
    "                       params_grid, \n",
    "                       cv=splitter,\n",
    "                       scoring=\"f1_weighted\",\n",
    "                       verbose=10,\n",
    "                       n_jobs=-1)\n",
    "\n",
    "grid_gb.fit(X_train, y_train)"
   ]
  },
  {
   "cell_type": "code",
   "execution_count": 9,
   "metadata": {
    "ExecuteTime": {
     "end_time": "2022-03-14T21:25:13.947547Z",
     "start_time": "2022-03-14T21:25:13.935556Z"
    }
   },
   "outputs": [
    {
     "data": {
      "text/plain": [
       "{'gb__loss': 'exponential', 'gb__max_depth': 2, 'gb__n_estimators': 200}"
      ]
     },
     "execution_count": 9,
     "metadata": {},
     "output_type": "execute_result"
    }
   ],
   "source": [
    "grid_gb.best_params_"
   ]
  },
  {
   "cell_type": "code",
   "execution_count": 10,
   "metadata": {
    "ExecuteTime": {
     "end_time": "2022-03-14T21:25:14.581839Z",
     "start_time": "2022-03-14T21:25:13.955544Z"
    },
    "scrolled": true
   },
   "outputs": [
    {
     "name": "stdout",
     "output_type": "stream",
     "text": [
      "\n",
      "Métricas de avaliação de treino:\n",
      "[[144  96]\n",
      " [ 32 528]]\n"
     ]
    },
    {
     "data": {
      "image/png": "[encoded data removed]",
      "text/plain": [
       "<Figure size 432x288 with 2 Axes>"
      ]
     },
     "metadata": {
      "needs_background": "light"
     },
     "output_type": "display_data"
    },
    {
     "name": "stdout",
     "output_type": "stream",
     "text": [
      "              precision    recall  f1-score   support\n",
      "\n",
      "         bad       0.82      0.60      0.69       240\n",
      "        good       0.85      0.94      0.89       560\n",
      "\n",
      "    accuracy                           0.84       800\n",
      "   macro avg       0.83      0.77      0.79       800\n",
      "weighted avg       0.84      0.84      0.83       800\n",
      "\n",
      "\n",
      "Métricas de avaliação de teste:\n",
      "[[ 28  32]\n",
      " [ 17 123]]\n"
     ]
    },
    {
     "data": {
      "image/png": "[encoded data removed]",
      "text/plain": [
       "<Figure size 432x288 with 2 Axes>"
      ]
     },
     "metadata": {
      "needs_background": "light"
     },
     "output_type": "display_data"
    },
    {
     "name": "stdout",
     "output_type": "stream",
     "text": [
      "              precision    recall  f1-score   support\n",
      "\n",
      "         bad       0.62      0.47      0.53        60\n",
      "        good       0.79      0.88      0.83       140\n",
      "\n",
      "    accuracy                           0.76       200\n",
      "   macro avg       0.71      0.67      0.68       200\n",
      "weighted avg       0.74      0.76      0.74       200\n",
      "\n"
     ]
    }
   ],
   "source": [
    "metricas_classificacao(grid_gb, X_train, X_test, y_train, y_test)"
   ]
  },
  {
   "cell_type": "markdown",
   "metadata": {
    "ExecuteTime": {
     "end_time": "2022-03-11T20:02:39.023720Z",
     "start_time": "2022-03-11T20:02:39.000730Z"
    }
   },
   "source": [
    "Resultado legal, melhoramos um pouco o f1.\n",
    "\n",
    "Mas será que não dá pra melhorar ainda mais? Vamos pra otimização Bayesiana!"
   ]
  },
  {
   "cell_type": "code",
   "execution_count": 12,
   "metadata": {
    "ExecuteTime": {
     "end_time": "2022-03-14T22:17:27.823992Z",
     "start_time": "2022-03-14T22:17:21.333564Z"
    }
   },
   "outputs": [],
   "source": [
    "from hyperopt import hp, tpe, fmin, Trials, space_eval"
   ]
  },
  {
   "cell_type": "markdown",
   "metadata": {},
   "source": [
    "Primeiramente, definimos o espaço de parâmetros. [Veja aqui](http://hyperopt.github.io/hyperopt/getting-started/search_spaces/) outras opções!"
   ]
  },
  {
   "cell_type": "code",
   "execution_count": 13,
   "metadata": {
    "ExecuteTime": {
     "end_time": "2022-03-14T22:18:06.659890Z",
     "start_time": "2022-03-14T22:18:06.637883Z"
    }
   },
   "outputs": [],
   "source": [
    "hps_space = {\"loss\" : hp.choice(\"loss\", [\"deviance\", \"exponential\"]),\n",
    "             \"n_estimators\" : hp.choice(\"n_estimators\", range(1, 501)),\n",
    "             \"max_depth\" : hp.choice(\"max_depth\", [1, 2])}"
   ]
  },
  {
   "cell_type": "markdown",
   "metadata": {},
   "source": [
    "Agora, definimos a função objetivo!"
   ]
  },
  {
   "cell_type": "code",
   "execution_count": 15,
   "metadata": {
    "ExecuteTime": {
     "end_time": "2022-03-14T22:20:59.008320Z",
     "start_time": "2022-03-14T22:20:58.989348Z"
    }
   },
   "outputs": [],
   "source": [
    "from sklearn.model_selection import cross_validate"
   ]
  },
  {
   "cell_type": "code",
   "execution_count": 16,
   "metadata": {
    "ExecuteTime": {
     "end_time": "2022-03-14T22:23:01.152630Z",
     "start_time": "2022-03-14T22:23:01.141638Z"
    }
   },
   "outputs": [],
   "source": [
    "def objective(hps_space):\n",
    "    \n",
    "    pipe = Pipeline([(\"pp\", pre_processador),\n",
    "                     (\"gb\", GradientBoostingClassifier(**hps_space))])\n",
    "\n",
    "    # =============================================\n",
    "\n",
    "    splitter = StratifiedKFold(n_splits=5, random_state=42, shuffle=True)\n",
    "\n",
    "    results = cross_validate(pipe,\n",
    "                             X_train, y_train, \n",
    "                             cv=splitter,\n",
    "                             scoring=\"f1_weighted\",\n",
    "                             n_jobs=-1)\n",
    "\n",
    "    mean_f1 = results[\"test_score\"].mean()\n",
    "\n",
    "    # como o valor vai ser minimizado, mas queremos MAXIMIZAR o f1, colocamos esse sinal negativo\n",
    "    return -mean_f1"
   ]
  },
  {
   "cell_type": "markdown",
   "metadata": {},
   "source": [
    "Agora, instanciamos a classe [Trials()](http://hyperopt.github.io/hyperopt/getting-started/minimizing_functions/#the-trials-object), que é a interface que nos permitirá realizar a otimização bayesiana, e que guarada o histórico, como veremos.\n",
    "\n",
    "Note que também passamos o TPE como algoritmo para o modelo surrogate, o que é dado pelo `tpe.suggest`.\n",
    "\n",
    "Indicamos também o número máximo de passos que queremos, com o `max_evals`.\n",
    "\n",
    "A otimização em si é realizada com a chamada da função `fmin()`."
   ]
  },
  {
   "cell_type": "code",
   "execution_count": 17,
   "metadata": {
    "ExecuteTime": {
     "end_time": "2022-03-14T22:38:07.823908Z",
     "start_time": "2022-03-14T22:38:07.781950Z"
    }
   },
   "outputs": [
    {
     "data": {
      "text/plain": [
       "Generator(PCG64) at 0x1B956993040"
      ]
     },
     "execution_count": 17,
     "metadata": {},
     "output_type": "execute_result"
    }
   ],
   "source": [
    "np.random.default_rng(42)"
   ]
  },
  {
   "cell_type": "code",
   "execution_count": 18,
   "metadata": {
    "ExecuteTime": {
     "end_time": "2022-03-14T22:38:51.325954Z",
     "start_time": "2022-03-14T22:38:36.933578Z"
    }
   },
   "outputs": [
    {
     "name": "stdout",
     "output_type": "stream",
     "text": [
      "100%|███████████████████████████████████████████████| 10/10 [00:14<00:00,  1.42s/trial, best loss: -0.7250929025867049]\n"
     ]
    }
   ],
   "source": [
    "trials = Trials()\n",
    "\n",
    "best_hps = fmin(objective,\n",
    "                space=hps_space,\n",
    "                algo=tpe.suggest,\n",
    "                trials=trials,\n",
    "                rstate=np.random.default_rng(42),\n",
    "                max_evals=10)"
   ]
  },
  {
   "cell_type": "code",
   "execution_count": 19,
   "metadata": {
    "ExecuteTime": {
     "end_time": "2022-03-14T22:38:59.248979Z",
     "start_time": "2022-03-14T22:38:59.239980Z"
    }
   },
   "outputs": [
    {
     "data": {
      "text/plain": [
       "{'loss': 1, 'max_depth': 1, 'n_estimators': 153}"
      ]
     },
     "execution_count": 19,
     "metadata": {},
     "output_type": "execute_result"
    }
   ],
   "source": [
    "# pré-resposta da otimização\n",
    "best_hps"
   ]
  },
  {
   "cell_type": "markdown",
   "metadata": {},
   "source": [
    "Para transformar os hiperparâmetros para a o espaço correto"
   ]
  },
  {
   "cell_type": "code",
   "execution_count": 20,
   "metadata": {
    "ExecuteTime": {
     "end_time": "2022-03-14T22:39:12.096017Z",
     "start_time": "2022-03-14T22:39:12.079006Z"
    }
   },
   "outputs": [],
   "source": [
    "# a resposta final, vem com o space_eval\n",
    "best_hps = space_eval(hps_space, best_hps)"
   ]
  },
  {
   "cell_type": "code",
   "execution_count": 21,
   "metadata": {
    "ExecuteTime": {
     "end_time": "2022-03-14T22:39:18.589550Z",
     "start_time": "2022-03-14T22:39:18.582557Z"
    }
   },
   "outputs": [
    {
     "data": {
      "text/plain": [
       "{'loss': 'exponential', 'max_depth': 2, 'n_estimators': 154}"
      ]
     },
     "execution_count": 21,
     "metadata": {},
     "output_type": "execute_result"
    }
   ],
   "source": [
    "best_hps"
   ]
  },
  {
   "cell_type": "code",
   "execution_count": 22,
   "metadata": {
    "ExecuteTime": {
     "end_time": "2022-03-14T22:39:26.010789Z",
     "start_time": "2022-03-14T22:39:25.990805Z"
    }
   },
   "outputs": [
    {
     "data": {
      "text/plain": [
       "{'gb__loss': 'exponential', 'gb__max_depth': 2, 'gb__n_estimators': 200}"
      ]
     },
     "execution_count": 22,
     "metadata": {},
     "output_type": "execute_result"
    }
   ],
   "source": [
    "grid_gb.best_params_"
   ]
  },
  {
   "cell_type": "code",
   "execution_count": 23,
   "metadata": {
    "ExecuteTime": {
     "end_time": "2022-03-14T22:41:08.535575Z",
     "start_time": "2022-03-14T22:41:08.520586Z"
    }
   },
   "outputs": [
    {
     "data": {
      "text/plain": [
       "GradientBoostingClassifier(loss='exponential', max_depth=2, n_estimators=154)"
      ]
     },
     "execution_count": 23,
     "metadata": {},
     "output_type": "execute_result"
    }
   ],
   "source": [
    "GradientBoostingClassifier(**best_hps)"
   ]
  },
  {
   "cell_type": "code",
   "execution_count": 24,
   "metadata": {
    "ExecuteTime": {
     "end_time": "2022-03-14T22:41:32.267586Z",
     "start_time": "2022-03-14T22:41:31.212176Z"
    }
   },
   "outputs": [
    {
     "name": "stdout",
     "output_type": "stream",
     "text": [
      "\n",
      "Métricas de avaliação de treino:\n",
      "[[136 104]\n",
      " [ 35 525]]\n"
     ]
    },
    {
     "data": {
      "image/png": "[encoded data removed]",
      "text/plain": [
       "<Figure size 432x288 with 2 Axes>"
      ]
     },
     "metadata": {
      "needs_background": "light"
     },
     "output_type": "display_data"
    },
    {
     "name": "stdout",
     "output_type": "stream",
     "text": [
      "              precision    recall  f1-score   support\n",
      "\n",
      "         bad       0.80      0.57      0.66       240\n",
      "        good       0.83      0.94      0.88       560\n",
      "\n",
      "    accuracy                           0.83       800\n",
      "   macro avg       0.81      0.75      0.77       800\n",
      "weighted avg       0.82      0.83      0.82       800\n",
      "\n",
      "\n",
      "Métricas de avaliação de teste:\n",
      "[[ 26  34]\n",
      " [ 13 127]]\n"
     ]
    },
    {
     "data": {
      "image/png": "[encoded data removed]",
      "text/plain": [
       "<Figure size 432x288 with 2 Axes>"
      ]
     },
     "metadata": {
      "needs_background": "light"
     },
     "output_type": "display_data"
    },
    {
     "name": "stdout",
     "output_type": "stream",
     "text": [
      "              precision    recall  f1-score   support\n",
      "\n",
      "         bad       0.67      0.43      0.53        60\n",
      "        good       0.79      0.91      0.84       140\n",
      "\n",
      "    accuracy                           0.77       200\n",
      "   macro avg       0.73      0.67      0.68       200\n",
      "weighted avg       0.75      0.77      0.75       200\n",
      "\n"
     ]
    }
   ],
   "source": [
    "pipe = Pipeline([(\"pp\", pre_processador),\n",
    "                 (\"gb\", GradientBoostingClassifier(**best_hps))])\n",
    "\n",
    "pipe.fit(X_train, y_train)\n",
    "\n",
    "metricas_classificacao(pipe, X_train, X_test, y_train, y_test)"
   ]
  },
  {
   "cell_type": "markdown",
   "metadata": {},
   "source": [
    "Brincando com a seed..."
   ]
  },
  {
   "cell_type": "code",
   "execution_count": 26,
   "metadata": {
    "ExecuteTime": {
     "end_time": "2022-03-14T22:51:34.977481Z",
     "start_time": "2022-03-14T22:51:23.392023Z"
    }
   },
   "outputs": [
    {
     "name": "stdout",
     "output_type": "stream",
     "text": [
      "100%|███████████████████████████████████████████████| 10/10 [00:10<00:00,  1.05s/trial, best loss: -0.7264138002352106]\n",
      "\n",
      "{'loss': 'exponential', 'max_depth': 2, 'n_estimators': 125}\n",
      "\n",
      "\n",
      "Métricas de avaliação de treino:\n",
      "[[129 111]\n",
      " [ 33 527]]\n"
     ]
    },
    {
     "data": {
      "image/png": "[encoded data removed]",
      "text/plain": [
       "<Figure size 432x288 with 2 Axes>"
      ]
     },
     "metadata": {
      "needs_background": "light"
     },
     "output_type": "display_data"
    },
    {
     "name": "stdout",
     "output_type": "stream",
     "text": [
      "              precision    recall  f1-score   support\n",
      "\n",
      "         bad       0.80      0.54      0.64       240\n",
      "        good       0.83      0.94      0.88       560\n",
      "\n",
      "    accuracy                           0.82       800\n",
      "   macro avg       0.81      0.74      0.76       800\n",
      "weighted avg       0.82      0.82      0.81       800\n",
      "\n",
      "\n",
      "Métricas de avaliação de teste:\n",
      "[[ 25  35]\n",
      " [ 12 128]]\n"
     ]
    },
    {
     "data": {
      "image/png": "[encoded data removed]",
      "text/plain": [
       "<Figure size 432x288 with 2 Axes>"
      ]
     },
     "metadata": {
      "needs_background": "light"
     },
     "output_type": "display_data"
    },
    {
     "name": "stdout",
     "output_type": "stream",
     "text": [
      "              precision    recall  f1-score   support\n",
      "\n",
      "         bad       0.68      0.42      0.52        60\n",
      "        good       0.79      0.91      0.84       140\n",
      "\n",
      "    accuracy                           0.77       200\n",
      "   macro avg       0.73      0.67      0.68       200\n",
      "weighted avg       0.75      0.77      0.75       200\n",
      "\n"
     ]
    }
   ],
   "source": [
    "hps_space = {\"loss\" : hp.choice(\"loss\", [\"deviance\", \"exponential\"]),\n",
    "             \"n_estimators\" : hp.choice(\"n_estimators\", range(1, 501)),\n",
    "             \"max_depth\" : hp.choice(\"max_depth\", [1, 2])}\n",
    "\n",
    "trials = Trials()\n",
    "\n",
    "best_hps = fmin(objective,\n",
    "                space=hps_space,\n",
    "                algo=tpe.suggest,\n",
    "                trials=trials,\n",
    "                max_evals=10)\n",
    "\n",
    "best_hps = space_eval(hps_space, best_hps)\n",
    "\n",
    "print()\n",
    "print(best_hps)\n",
    "print()\n",
    "\n",
    "pipe = Pipeline([(\"pp\", pre_processador),\n",
    "                 (\"gb\", GradientBoostingClassifier(**best_hps))])\n",
    "\n",
    "pipe.fit(X_train, y_train)\n",
    "\n",
    "metricas_classificacao(pipe, X_train, X_test, y_train, y_test)"
   ]
  },
  {
   "cell_type": "code",
   "execution_count": 27,
   "metadata": {
    "ExecuteTime": {
     "end_time": "2022-03-14T22:51:54.295657Z",
     "start_time": "2022-03-14T22:51:40.111462Z"
    }
   },
   "outputs": [
    {
     "name": "stdout",
     "output_type": "stream",
     "text": [
      "100%|███████████████████████████████████████████████| 10/10 [00:12<00:00,  1.29s/trial, best loss: -0.7234945892895522]\n",
      "\n",
      "{'loss': 'deviance', 'max_depth': 2, 'n_estimators': 256}\n",
      "\n",
      "\n",
      "Métricas de avaliação de treino:\n",
      "[[157  83]\n",
      " [ 27 533]]\n"
     ]
    },
    {
     "data": {
      "image/png": "[encoded data removed]",
      "text/plain": [
       "<Figure size 432x288 with 2 Axes>"
      ]
     },
     "metadata": {
      "needs_background": "light"
     },
     "output_type": "display_data"
    },
    {
     "name": "stdout",
     "output_type": "stream",
     "text": [
      "              precision    recall  f1-score   support\n",
      "\n",
      "         bad       0.85      0.65      0.74       240\n",
      "        good       0.87      0.95      0.91       560\n",
      "\n",
      "    accuracy                           0.86       800\n",
      "   macro avg       0.86      0.80      0.82       800\n",
      "weighted avg       0.86      0.86      0.86       800\n",
      "\n",
      "\n",
      "Métricas de avaliação de teste:\n",
      "[[ 27  33]\n",
      " [ 18 122]]\n"
     ]
    },
    {
     "data": {
      "image/png": "[encoded data removed]",
      "text/plain": [
       "<Figure size 432x288 with 2 Axes>"
      ]
     },
     "metadata": {
      "needs_background": "light"
     },
     "output_type": "display_data"
    },
    {
     "name": "stdout",
     "output_type": "stream",
     "text": [
      "              precision    recall  f1-score   support\n",
      "\n",
      "         bad       0.60      0.45      0.51        60\n",
      "        good       0.79      0.87      0.83       140\n",
      "\n",
      "    accuracy                           0.74       200\n",
      "   macro avg       0.69      0.66      0.67       200\n",
      "weighted avg       0.73      0.74      0.73       200\n",
      "\n"
     ]
    }
   ],
   "source": [
    "hps_space = {\"loss\" : hp.choice(\"loss\", [\"deviance\", \"exponential\"]),\n",
    "             \"n_estimators\" : hp.choice(\"n_estimators\", range(1, 1001)),\n",
    "             \"max_depth\" : hp.choice(\"max_depth\", [1, 2])}\n",
    "\n",
    "trials = Trials()\n",
    "\n",
    "best_hps = fmin(objective,\n",
    "                space=hps_space,\n",
    "                algo=tpe.suggest,\n",
    "                trials=trials,\n",
    "                max_evals=10)\n",
    "\n",
    "best_hps = space_eval(hps_space, best_hps)\n",
    "\n",
    "print()\n",
    "print(best_hps)\n",
    "print()\n",
    "\n",
    "pipe = Pipeline([(\"pp\", pre_processador),\n",
    "                 (\"gb\", GradientBoostingClassifier(**best_hps))])\n",
    "\n",
    "pipe.fit(X_train, y_train)\n",
    "\n",
    "metricas_classificacao(pipe, X_train, X_test, y_train, y_test)"
   ]
  }
 ],
 "metadata": {
  "kernelspec": {
   "display_name": "Python 3",
   "language": "python",
   "name": "python3"
  },
  "language_info": {
   "codemirror_mode": {
    "name": "ipython",
    "version": 3
   },
   "file_extension": ".py",
   "mimetype": "text/x-python",
   "name": "python",
   "nbconvert_exporter": "python",
   "pygments_lexer": "ipython3",
   "version": "3.9.7"
  }
 },
 "nbformat": 4,
 "nbformat_minor": 4
}
