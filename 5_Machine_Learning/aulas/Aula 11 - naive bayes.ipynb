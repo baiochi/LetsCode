{
 "cells": [
  {
   "cell_type": "markdown",
   "metadata": {},
   "source": [
    "# Aula 11 - Naive Bayes\n",
    "\n",
    "Na aula de hoje, vamos explorar os seguintes tópicos em Python:\n",
    "\n",
    "- 1) Introdução\n",
    "- 2) Naive Bayes\n",
    "- 3) A matemática do Naive Bayes\n",
    "- 4) Outras versões do Naive Bayes"
   ]
  },
  {
   "cell_type": "code",
   "execution_count": 1,
   "metadata": {
    "ExecuteTime": {
     "end_time": "2022-02-21T21:08:21.326487Z",
     "start_time": "2022-02-21T21:08:20.364035Z"
    }
   },
   "outputs": [],
   "source": [
    "import numpy as np\n",
    "import pandas as pd"
   ]
  },
  {
   "cell_type": "markdown",
   "metadata": {},
   "source": [
    "_____\n",
    "_____\n",
    "_____"
   ]
  },
  {
   "cell_type": "markdown",
   "metadata": {
    "ExecuteTime": {
     "end_time": "2021-09-16T16:08:15.515224Z",
     "start_time": "2021-09-16T16:08:15.447243Z"
    }
   },
   "source": [
    "## 1) Introdução\n",
    "\n",
    "Em estatística, fomos apresentados ao Teorema de Bayes:\n",
    "\n",
    "$P(A|B) = \\frac{P(B | A)P(A)}{P(B)}$\n",
    "\n",
    "O teorema de Bayes nos permite descobrir a probabilidade condicional $P(A|B)$, que é chamada de **posterior**, com base na probabilidade condicional inversa, $P(B|A)$ (a chamada **likelihood**), e a probabilidade $P(A)$, a **priori**.\n",
    "\n",
    "A ideia é que nós **atualizamos as nossas crenças sobre $A$**, conforme novas informações sobre $B$ são agregadas!\n",
    "\n",
    "Vimos como o teorema de Bayes é bem útil para modelar experimentos estatísticos, de caracter probabilístico. A esta altura, é justo que nos perguntemos: seria o teorema de Bayes útil em modelagem? A resposta é: sim, através do método **Naive Bayes**!"
   ]
  },
  {
   "cell_type": "markdown",
   "metadata": {},
   "source": [
    "_____\n",
    "_____\n",
    "_____"
   ]
  },
  {
   "cell_type": "markdown",
   "metadata": {
    "ExecuteTime": {
     "end_time": "2021-09-16T16:08:15.515224Z",
     "start_time": "2021-09-16T16:08:15.447243Z"
    }
   },
   "source": [
    "## 2) Naive Bayes\n",
    "\n",
    "O Naive Bayes é um dos métodos mais simples e intuitivos para classificação, embora seja cheio de sutilezas importantes.\n",
    "\n",
    "Por este motivo, vamos primeiramente construir a ideia do método, aplicá-lo, e só depois nos preocuparemos com seus detalhes mais matemáticos!\n",
    "\n",
    "Uma das principais e mais bem-sucedidas aplicações deste método é no **filtro de spam**: dado um e-mail, como determinar se ele é spam ou não?\n",
    "\n",
    "<img src=https://repository-images.githubusercontent.com/218616244/c4183680-fb99-11e9-8191-d7c5dfb6a11e width=500>\n",
    "\n",
    "Pra resolvermos este problema (e introduzir o Naive Bayes), vamos considerar o seguinte toy dataset:"
   ]
  },
  {
   "cell_type": "code",
   "execution_count": 2,
   "metadata": {
    "ExecuteTime": {
     "end_time": "2022-02-21T21:08:21.372460Z",
     "start_time": "2022-02-21T21:08:21.330485Z"
    }
   },
   "outputs": [
    {
     "data": {
      "text/html": [
       "<div>\n",
       "<style scoped>\n",
       "    .dataframe tbody tr th:only-of-type {\n",
       "        vertical-align: middle;\n",
       "    }\n",
       "\n",
       "    .dataframe tbody tr th {\n",
       "        vertical-align: top;\n",
       "    }\n",
       "\n",
       "    .dataframe thead th {\n",
       "        text-align: right;\n",
       "    }\n",
       "</style>\n",
       "<table border=\"1\" class=\"dataframe\">\n",
       "  <thead>\n",
       "    <tr style=\"text-align: right;\">\n",
       "      <th></th>\n",
       "      <th>y</th>\n",
       "      <th>frases</th>\n",
       "    </tr>\n",
       "  </thead>\n",
       "  <tbody>\n",
       "    <tr>\n",
       "      <th>0</th>\n",
       "      <td>spam</td>\n",
       "      <td>digite sua senha</td>\n",
       "    </tr>\n",
       "    <tr>\n",
       "      <th>1</th>\n",
       "      <td>spam</td>\n",
       "      <td>digite sua senha aqui</td>\n",
       "    </tr>\n",
       "    <tr>\n",
       "      <th>2</th>\n",
       "      <td>spam</td>\n",
       "      <td>cupom de desconto aqui</td>\n",
       "    </tr>\n",
       "    <tr>\n",
       "      <th>3</th>\n",
       "      <td>spam</td>\n",
       "      <td>envie senha e ganhe cupom de desconto</td>\n",
       "    </tr>\n",
       "    <tr>\n",
       "      <th>4</th>\n",
       "      <td>spam</td>\n",
       "      <td>clique aqui ganhou desconto</td>\n",
       "    </tr>\n",
       "    <tr>\n",
       "      <th>5</th>\n",
       "      <td>spam</td>\n",
       "      <td>cupom de desconto e senha</td>\n",
       "    </tr>\n",
       "    <tr>\n",
       "      <th>6</th>\n",
       "      <td>spam</td>\n",
       "      <td>desconto de senha</td>\n",
       "    </tr>\n",
       "    <tr>\n",
       "      <th>7</th>\n",
       "      <td>spam</td>\n",
       "      <td>sua senha aqui</td>\n",
       "    </tr>\n",
       "    <tr>\n",
       "      <th>8</th>\n",
       "      <td>spam</td>\n",
       "      <td>você ganhou clique aqui</td>\n",
       "    </tr>\n",
       "    <tr>\n",
       "      <th>9</th>\n",
       "      <td>ham</td>\n",
       "      <td>segue relatório</td>\n",
       "    </tr>\n",
       "    <tr>\n",
       "      <th>10</th>\n",
       "      <td>ham</td>\n",
       "      <td>segue o orçamento</td>\n",
       "    </tr>\n",
       "    <tr>\n",
       "      <th>11</th>\n",
       "      <td>ham</td>\n",
       "      <td>relatório em anexo</td>\n",
       "    </tr>\n",
       "    <tr>\n",
       "      <th>12</th>\n",
       "      <td>ham</td>\n",
       "      <td>pauta da reunião em anexo</td>\n",
       "    </tr>\n",
       "    <tr>\n",
       "      <th>13</th>\n",
       "      <td>ham</td>\n",
       "      <td>relatório hoje</td>\n",
       "    </tr>\n",
       "    <tr>\n",
       "      <th>14</th>\n",
       "      <td>ham</td>\n",
       "      <td>relatório de orçamento</td>\n",
       "    </tr>\n",
       "    <tr>\n",
       "      <th>15</th>\n",
       "      <td>ham</td>\n",
       "      <td>relatório em anexo</td>\n",
       "    </tr>\n",
       "    <tr>\n",
       "      <th>16</th>\n",
       "      <td>ham</td>\n",
       "      <td>pauta do relatório</td>\n",
       "    </tr>\n",
       "    <tr>\n",
       "      <th>17</th>\n",
       "      <td>ham</td>\n",
       "      <td>segue pauta da reunião</td>\n",
       "    </tr>\n",
       "  </tbody>\n",
       "</table>\n",
       "</div>"
      ],
      "text/plain": [
       "       y                                 frases\n",
       "0   spam                       digite sua senha\n",
       "1   spam                  digite sua senha aqui\n",
       "2   spam                 cupom de desconto aqui\n",
       "3   spam  envie senha e ganhe cupom de desconto\n",
       "4   spam            clique aqui ganhou desconto\n",
       "5   spam              cupom de desconto e senha\n",
       "6   spam                      desconto de senha\n",
       "7   spam                         sua senha aqui\n",
       "8   spam                você ganhou clique aqui\n",
       "9    ham                        segue relatório\n",
       "10   ham                      segue o orçamento\n",
       "11   ham                     relatório em anexo\n",
       "12   ham              pauta da reunião em anexo\n",
       "13   ham                         relatório hoje\n",
       "14   ham                 relatório de orçamento\n",
       "15   ham                     relatório em anexo\n",
       "16   ham                     pauta do relatório\n",
       "17   ham                 segue pauta da reunião"
      ]
     },
     "execution_count": 2,
     "metadata": {},
     "output_type": "execute_result"
    }
   ],
   "source": [
    "train_spam = ['digite sua senha', 'digite sua senha aqui', 'cupom de desconto aqui',\n",
    "              'envie senha e ganhe cupom de desconto', 'clique aqui ganhou desconto',\n",
    "              'cupom de desconto e senha', 'desconto de senha',\n",
    "              'sua senha aqui', 'você ganhou clique aqui']\n",
    "\n",
    "train_ham = ['segue relatório', 'segue o orçamento', 'relatório em anexo',\n",
    "             'pauta da reunião em anexo', 'relatório hoje', 'relatório de orçamento',\n",
    "             'relatório em anexo', 'pauta do relatório', 'segue pauta da reunião']\n",
    "\n",
    "df_train = pd.DataFrame([[\"spam\", x] for x in train_spam] + [[\"ham\", x] for x in train_ham],\n",
    "                        columns = [\"y\", \"frases\"])\n",
    "\n",
    "df_train"
   ]
  },
  {
   "cell_type": "code",
   "execution_count": 3,
   "metadata": {
    "ExecuteTime": {
     "end_time": "2022-02-21T21:08:21.452417Z",
     "start_time": "2022-02-21T21:08:21.377457Z"
    }
   },
   "outputs": [
    {
     "data": {
      "text/html": [
       "<div>\n",
       "<style scoped>\n",
       "    .dataframe tbody tr th:only-of-type {\n",
       "        vertical-align: middle;\n",
       "    }\n",
       "\n",
       "    .dataframe tbody tr th {\n",
       "        vertical-align: top;\n",
       "    }\n",
       "\n",
       "    .dataframe thead th {\n",
       "        text-align: right;\n",
       "    }\n",
       "</style>\n",
       "<table border=\"1\" class=\"dataframe\">\n",
       "  <thead>\n",
       "    <tr style=\"text-align: right;\">\n",
       "      <th></th>\n",
       "      <th>y</th>\n",
       "      <th>frases</th>\n",
       "    </tr>\n",
       "  </thead>\n",
       "  <tbody>\n",
       "    <tr>\n",
       "      <th>0</th>\n",
       "      <td>spam</td>\n",
       "      <td>digite aqui sua senha</td>\n",
       "    </tr>\n",
       "    <tr>\n",
       "      <th>1</th>\n",
       "      <td>spam</td>\n",
       "      <td>cupom de desconto em anexo</td>\n",
       "    </tr>\n",
       "    <tr>\n",
       "      <th>2</th>\n",
       "      <td>ham</td>\n",
       "      <td>cadê o relatório da pauta da reunião</td>\n",
       "    </tr>\n",
       "    <tr>\n",
       "      <th>3</th>\n",
       "      <td>ham</td>\n",
       "      <td>envio ainda hoje em anexo</td>\n",
       "    </tr>\n",
       "  </tbody>\n",
       "</table>\n",
       "</div>"
      ],
      "text/plain": [
       "      y                                frases\n",
       "0  spam                 digite aqui sua senha\n",
       "1  spam            cupom de desconto em anexo\n",
       "2   ham  cadê o relatório da pauta da reunião\n",
       "3   ham             envio ainda hoje em anexo"
      ]
     },
     "execution_count": 3,
     "metadata": {},
     "output_type": "execute_result"
    }
   ],
   "source": [
    "test_spam = ['digite aqui sua senha', 'cupom de desconto em anexo']\n",
    "\n",
    "test_ham = ['cadê o relatório da pauta da reunião', 'envio ainda hoje em anexo']\n",
    "\n",
    "df_test = pd.DataFrame([[\"spam\", x] for x in test_spam] + [[\"ham\", x] for x in test_ham],\n",
    "                       columns = [\"y\", \"frases\"])\n",
    "\n",
    "df_test"
   ]
  },
  {
   "cell_type": "markdown",
   "metadata": {},
   "source": [
    "O nosso target é binário e representa se as mensagens são `spam` ou não-spam (que são comumente chamadas de `ham`). Nosso objetivo é construir um classificados que seja capaz de **determinar se uma mensagem é spam ou ham, com base únicamente no texto da mensagem**.\n",
    "\n",
    "O tipo de dados que estamos trabalhando é bem particular: temos **dados não estruturados**, pois (apesar de termos artificialmente construído um dataframe), os dados originais não vieram na forma tabular **com número fixo de features**. Aliás, uma pergunta justíssima é: **quais são as features?** Estas e outras perguntas serão respondidas em detalhes no **módulo de dados não estruturados!**\n",
    "\n",
    "Aqui, não vamos nos preocupar com estes detalhes - seguiremos com uma abordagem (baseada no teorema de Bayes) que tratará estes detalhes de maneira mais indireta.\n",
    "\n",
    "\n",
    "Vamos começar a construir o classificador!\n",
    "\n",
    "______"
   ]
  },
  {
   "cell_type": "markdown",
   "metadata": {},
   "source": [
    "Uma vez que queremos classificar uma mensagem como spam ou ham, estamos preocupados com a **separabilidade do target**.\n",
    "\n",
    "Inspirados pela regressão logística, uma boa abordagem pra fazer isso é nos basear na **probabilidade de uma mensagem pertencer a uma ou outra classe**, justo?\n",
    "\n",
    "O legal e que, antes de fazer qualquer coisa, já temos uma estimativa pra essa probabilidade: basta olhar para a frequência de cada classe nos dados! (semelhante à proporção anterior à primeira quebra de uma árvore):"
   ]
  },
  {
   "cell_type": "code",
   "execution_count": 4,
   "metadata": {
    "ExecuteTime": {
     "end_time": "2022-02-21T21:08:21.548362Z",
     "start_time": "2022-02-21T21:08:21.457413Z"
    }
   },
   "outputs": [
    {
     "data": {
      "text/plain": [
       "spam    0.5\n",
       "ham     0.5\n",
       "Name: y, dtype: float64"
      ]
     },
     "execution_count": 4,
     "metadata": {},
     "output_type": "execute_result"
    }
   ],
   "source": [
    "P = df_train[\"y\"].value_counts(normalize=True)\n",
    "\n",
    "P"
   ]
  },
  {
   "cell_type": "markdown",
   "metadata": {},
   "source": [
    "Essas são as **probabilidades a priori**! Nada muito informativo (temos a situação de maior entropia/impureza!), mas essa é uma informação relevante, então vamos anotar:\n",
    "\n",
    "$P(y = \\text{spam}) = 0.5 $\n",
    "\n",
    "$ P(y = \\text{ham}) = 0.5 $"
   ]
  },
  {
   "cell_type": "code",
   "execution_count": 5,
   "metadata": {
    "ExecuteTime": {
     "end_time": "2022-02-21T21:08:21.626315Z",
     "start_time": "2022-02-21T21:08:21.552359Z"
    }
   },
   "outputs": [
    {
     "data": {
      "text/plain": [
       "(0.5, 0.5)"
      ]
     },
     "execution_count": 5,
     "metadata": {},
     "output_type": "execute_result"
    }
   ],
   "source": [
    "P_spam, P_ham = P[\"spam\"], P[\"ham\"]\n",
    "\n",
    "P_spam, P_ham"
   ]
  },
  {
   "cell_type": "markdown",
   "metadata": {},
   "source": [
    "Uma vez que temos isso, como podemos proceder pra **ganhar mais informação quanto à separabilidade do target**?\n",
    "\n",
    "A ideia é a seguinte: vamos **olhar pro target**, e nos perguntar: \n",
    "\n",
    "> **Quais palavras aparecem mais frequentemente em e-mails que são spam/ham?**. \n",
    "\n",
    "Parece justo, né?\n",
    "\n",
    "A ideia vai ser associar um grau de \"spamicity\" (e \"hamicity\") à cada palavra!\n",
    "\n",
    "Vamos ver em ação..."
   ]
  },
  {
   "cell_type": "code",
   "execution_count": 6,
   "metadata": {
    "ExecuteTime": {
     "end_time": "2022-02-21T21:08:21.718954Z",
     "start_time": "2022-02-21T21:08:21.629316Z"
    }
   },
   "outputs": [
    {
     "data": {
      "text/plain": [
       "['digite sua senha',\n",
       " 'digite sua senha aqui',\n",
       " 'cupom de desconto aqui',\n",
       " 'envie senha e ganhe cupom de desconto',\n",
       " 'clique aqui ganhou desconto',\n",
       " 'cupom de desconto e senha',\n",
       " 'desconto de senha',\n",
       " 'sua senha aqui',\n",
       " 'você ganhou clique aqui']"
      ]
     },
     "execution_count": 6,
     "metadata": {},
     "output_type": "execute_result"
    }
   ],
   "source": [
    "# isso dá a informação de y=\"spam\"\n",
    "\n",
    "train_spam"
   ]
  },
  {
   "cell_type": "code",
   "execution_count": 7,
   "metadata": {
    "ExecuteTime": {
     "end_time": "2022-02-21T21:08:21.829913Z",
     "start_time": "2022-02-21T21:08:21.722952Z"
    }
   },
   "outputs": [
    {
     "data": {
      "text/plain": [
       "{'digite': 2,\n",
       " 'sua': 3,\n",
       " 'senha': 6,\n",
       " 'aqui': 5,\n",
       " 'cupom': 3,\n",
       " 'de': 4,\n",
       " 'desconto': 5,\n",
       " 'envie': 1,\n",
       " 'e': 2,\n",
       " 'ganhe': 1,\n",
       " 'clique': 2,\n",
       " 'ganhou': 2,\n",
       " 'você': 1}"
      ]
     },
     "execution_count": 7,
     "metadata": {},
     "output_type": "execute_result"
    }
   ],
   "source": [
    "# dicionário que conta quantas aparições de cada palavra há no conjunto de palavras spam\n",
    "# estrutura: {\"palavra\" : frequencia nas frases spam}\n",
    "\n",
    "palavras_spam = {}\n",
    "\n",
    "for frase in train_spam:\n",
    "    \n",
    "    for palavra in frase.split():\n",
    "        \n",
    "        if palavra not in palavras_spam:\n",
    "            \n",
    "            palavras_spam[palavra] = 1\n",
    "            \n",
    "        else:\n",
    "            \n",
    "            palavras_spam[palavra] += 1\n",
    "            \n",
    "palavras_spam            "
   ]
  },
  {
   "cell_type": "code",
   "execution_count": 76,
   "metadata": {},
   "outputs": [
    {
     "data": {
      "text/plain": [
       "senha       6\n",
       "aqui        5\n",
       "desconto    5\n",
       "de          4\n",
       "sua         3\n",
       "cupom       3\n",
       "digite      2\n",
       "e           2\n",
       "clique      2\n",
       "ganhou      2\n",
       "envie       1\n",
       "ganhe       1\n",
       "você        1\n",
       "Name: count, dtype: int64"
      ]
     },
     "execution_count": 76,
     "metadata": {},
     "output_type": "execute_result"
    }
   ],
   "source": [
    "spam_count = pd.Series( ' '.join(train_spam).split(), name='count' ).value_counts()\n",
    "spam_count"
   ]
  },
  {
   "cell_type": "code",
   "execution_count": 8,
   "metadata": {
    "ExecuteTime": {
     "end_time": "2022-02-21T21:08:21.956072Z",
     "start_time": "2022-02-21T21:08:21.832913Z"
    }
   },
   "outputs": [
    {
     "data": {
      "text/plain": [
       "{'segue': 3,\n",
       " 'relatório': 6,\n",
       " 'o': 1,\n",
       " 'orçamento': 2,\n",
       " 'em': 3,\n",
       " 'anexo': 3,\n",
       " 'pauta': 3,\n",
       " 'da': 2,\n",
       " 'reunião': 2,\n",
       " 'hoje': 1,\n",
       " 'de': 1,\n",
       " 'do': 1}"
      ]
     },
     "execution_count": 8,
     "metadata": {},
     "output_type": "execute_result"
    }
   ],
   "source": [
    "# dicionário que conta quantas aparições de cada palavra há no conjunto de palavras ham\n",
    "# estrutura: {\"palavra\" : frequencia nas frases ham}\n",
    "\n",
    "palavras_ham = {}\n",
    "\n",
    "for frase in train_ham:\n",
    "    \n",
    "    for palavra in frase.split():\n",
    "        \n",
    "        if palavra not in palavras_ham:\n",
    "            \n",
    "            palavras_ham[palavra] = 1\n",
    "            \n",
    "        else:\n",
    "            palavras_ham[palavra] += 1\n",
    "            \n",
    "palavras_ham   "
   ]
  },
  {
   "cell_type": "code",
   "execution_count": 77,
   "metadata": {},
   "outputs": [
    {
     "data": {
      "text/plain": [
       "segue        1\n",
       "relatório    1\n",
       "ganhou       1\n",
       "clique       1\n",
       "ganhe        1\n",
       "e            1\n",
       "envie        1\n",
       "desconto     1\n",
       "cupom        1\n",
       "aqui         1\n",
       "senha        1\n",
       "sua          1\n",
       "digite       1\n",
       "do           1\n",
       "de           1\n",
       "hoje         1\n",
       "reunião      1\n",
       "da           1\n",
       "pauta        1\n",
       "anexo        1\n",
       "em           1\n",
       "orçamento    1\n",
       "o            1\n",
       "você         1\n",
       "Name: count, dtype: int64"
      ]
     },
     "execution_count": 77,
     "metadata": {},
     "output_type": "execute_result"
    }
   ],
   "source": [
    "ham_count = pd.Series( ' '.join(palavras_ham).split(), name='count' ).value_counts()\n",
    "ham_count"
   ]
  },
  {
   "cell_type": "markdown",
   "metadata": {},
   "source": [
    "Agora vamos fazer algo que pode não parecer muito natural, mas que será de grande importância operacional: vamos adicionar aos dicionários até mesmo as palavras que não aparecem no respectivo conjunto de palavras, todas com contagem zero. Isso é importante pra \"homogeinizar\" os dados, marcando presença de todas as palavras que aparecem nos dados de treino como um todo nos dicionários de ambas as classes -- mas, claro, deixando claro a ausência delas com a contagem nula. Adiante, vamos entender porque isso é importante!"
   ]
  },
  {
   "cell_type": "code",
   "execution_count": 9,
   "metadata": {
    "ExecuteTime": {
     "end_time": "2022-02-21T21:08:22.082320Z",
     "start_time": "2022-02-21T21:08:21.959068Z"
    }
   },
   "outputs": [],
   "source": [
    "for palavra in palavras_spam:\n",
    "    \n",
    "    if palavra not in palavras_ham:\n",
    "        \n",
    "        palavras_ham[palavra] = 0\n",
    "        \n",
    "############################################\n",
    "\n",
    "for palavra in palavras_ham:\n",
    "    \n",
    "    if palavra not in palavras_spam:\n",
    "        \n",
    "        palavras_spam[palavra] = 0"
   ]
  },
  {
   "cell_type": "code",
   "execution_count": 10,
   "metadata": {
    "ExecuteTime": {
     "end_time": "2022-02-21T21:08:22.191514Z",
     "start_time": "2022-02-21T21:08:22.085317Z"
    }
   },
   "outputs": [
    {
     "data": {
      "text/plain": [
       "{'digite': 2,\n",
       " 'sua': 3,\n",
       " 'senha': 6,\n",
       " 'aqui': 5,\n",
       " 'cupom': 3,\n",
       " 'de': 4,\n",
       " 'desconto': 5,\n",
       " 'envie': 1,\n",
       " 'e': 2,\n",
       " 'ganhe': 1,\n",
       " 'clique': 2,\n",
       " 'ganhou': 2,\n",
       " 'você': 1,\n",
       " 'segue': 0,\n",
       " 'relatório': 0,\n",
       " 'o': 0,\n",
       " 'orçamento': 0,\n",
       " 'em': 0,\n",
       " 'anexo': 0,\n",
       " 'pauta': 0,\n",
       " 'da': 0,\n",
       " 'reunião': 0,\n",
       " 'hoje': 0,\n",
       " 'do': 0}"
      ]
     },
     "execution_count": 10,
     "metadata": {},
     "output_type": "execute_result"
    }
   ],
   "source": [
    "palavras_spam"
   ]
  },
  {
   "cell_type": "code",
   "execution_count": 11,
   "metadata": {
    "ExecuteTime": {
     "end_time": "2022-02-21T21:08:22.286674Z",
     "start_time": "2022-02-21T21:08:22.194496Z"
    }
   },
   "outputs": [
    {
     "data": {
      "text/plain": [
       "{'segue': 3,\n",
       " 'relatório': 6,\n",
       " 'o': 1,\n",
       " 'orçamento': 2,\n",
       " 'em': 3,\n",
       " 'anexo': 3,\n",
       " 'pauta': 3,\n",
       " 'da': 2,\n",
       " 'reunião': 2,\n",
       " 'hoje': 1,\n",
       " 'de': 1,\n",
       " 'do': 1,\n",
       " 'digite': 0,\n",
       " 'sua': 0,\n",
       " 'senha': 0,\n",
       " 'aqui': 0,\n",
       " 'cupom': 0,\n",
       " 'desconto': 0,\n",
       " 'envie': 0,\n",
       " 'e': 0,\n",
       " 'ganhe': 0,\n",
       " 'clique': 0,\n",
       " 'ganhou': 0,\n",
       " 'você': 0}"
      ]
     },
     "execution_count": 11,
     "metadata": {},
     "output_type": "execute_result"
    }
   ],
   "source": [
    "palavras_ham"
   ]
  },
  {
   "cell_type": "code",
   "execution_count": 12,
   "metadata": {
    "ExecuteTime": {
     "end_time": "2022-02-21T21:08:22.413021Z",
     "start_time": "2022-02-21T21:08:22.293670Z"
    }
   },
   "outputs": [
    {
     "data": {
      "text/plain": [
       "[]"
      ]
     },
     "execution_count": 12,
     "metadata": {},
     "output_type": "execute_result"
    }
   ],
   "source": [
    "# check - deve vir vazia\n",
    "[x for x in palavras_ham.keys() if x not in palavras_spam.keys()]"
   ]
  },
  {
   "cell_type": "code",
   "execution_count": 13,
   "metadata": {
    "ExecuteTime": {
     "end_time": "2022-02-21T21:08:22.541191Z",
     "start_time": "2022-02-21T21:08:22.416023Z"
    }
   },
   "outputs": [
    {
     "data": {
      "text/plain": [
       "[]"
      ]
     },
     "execution_count": 13,
     "metadata": {},
     "output_type": "execute_result"
    }
   ],
   "source": [
    "# check - deve vir vazia\n",
    "[x for x in palavras_spam.keys() if x not in palavras_ham.keys()]"
   ]
  },
  {
   "cell_type": "code",
   "execution_count": 14,
   "metadata": {
    "ExecuteTime": {
     "end_time": "2022-02-21T21:08:22.684172Z",
     "start_time": "2022-02-21T21:08:22.544193Z"
    }
   },
   "outputs": [
    {
     "data": {
      "text/plain": [
       "24"
      ]
     },
     "execution_count": 14,
     "metadata": {},
     "output_type": "execute_result"
    }
   ],
   "source": [
    "# número de palavras no vocabulário\n",
    "n_vocab = len(palavras_ham)\n",
    "\n",
    "n_vocab"
   ]
  },
  {
   "cell_type": "markdown",
   "metadata": {},
   "source": [
    "Os dicionários acima indicam a **frequência absoluta** de cada palavra dentro de cada contexto (spam vs ham). Pra tornar nossa abordagem mais robusta, seria interessante se tivéssemos as **frequências relativas**, que possam ser entendidas como **probabilidades**! \n",
    "\n",
    "Note que o que estamos querendo calcular é uma **probabilidade condicional**. Por exemplo:\n",
    "\n",
    "> qual é a probabilidade de encontrar a palavra \"senha\" em um e-mail **dado que** o e-mail foi marcado como \"spam\"? <br><br> \n",
    "$$P(x_i = \\text{\"senha\"} \\mid y = \\text{\"spam\"})$$\n",
    "\n",
    "Este cálculo é muito simples: basta calcular a **frequência relativa** da palavra \"senha\" dentro dos e-mails de spam:\n",
    "\n",
    "$$ P(x_i = \\text{\"senha\"} \\mid y = \\text{\"spam\"}) = \\frac{\\text{# \"senha\"}}{\\text{# total palavras em \"spam\"}} $$\n",
    "\n",
    "Vamos ver no código:"
   ]
  },
  {
   "cell_type": "code",
   "execution_count": 15,
   "metadata": {
    "ExecuteTime": {
     "end_time": "2022-02-21T21:08:22.778968Z",
     "start_time": "2022-02-21T21:08:22.687098Z"
    }
   },
   "outputs": [
    {
     "data": {
      "text/html": [
       "<div>\n",
       "<style scoped>\n",
       "    .dataframe tbody tr th:only-of-type {\n",
       "        vertical-align: middle;\n",
       "    }\n",
       "\n",
       "    .dataframe tbody tr th {\n",
       "        vertical-align: top;\n",
       "    }\n",
       "\n",
       "    .dataframe thead th {\n",
       "        text-align: right;\n",
       "    }\n",
       "</style>\n",
       "<table border=\"1\" class=\"dataframe\">\n",
       "  <thead>\n",
       "    <tr style=\"text-align: right;\">\n",
       "      <th></th>\n",
       "      <th>palavras</th>\n",
       "      <th>contagem</th>\n",
       "      <th>prob</th>\n",
       "    </tr>\n",
       "  </thead>\n",
       "  <tbody>\n",
       "    <tr>\n",
       "      <th>2</th>\n",
       "      <td>senha</td>\n",
       "      <td>6</td>\n",
       "      <td>0.162162</td>\n",
       "    </tr>\n",
       "    <tr>\n",
       "      <th>3</th>\n",
       "      <td>aqui</td>\n",
       "      <td>5</td>\n",
       "      <td>0.135135</td>\n",
       "    </tr>\n",
       "    <tr>\n",
       "      <th>6</th>\n",
       "      <td>desconto</td>\n",
       "      <td>5</td>\n",
       "      <td>0.135135</td>\n",
       "    </tr>\n",
       "    <tr>\n",
       "      <th>5</th>\n",
       "      <td>de</td>\n",
       "      <td>4</td>\n",
       "      <td>0.108108</td>\n",
       "    </tr>\n",
       "    <tr>\n",
       "      <th>4</th>\n",
       "      <td>cupom</td>\n",
       "      <td>3</td>\n",
       "      <td>0.081081</td>\n",
       "    </tr>\n",
       "    <tr>\n",
       "      <th>1</th>\n",
       "      <td>sua</td>\n",
       "      <td>3</td>\n",
       "      <td>0.081081</td>\n",
       "    </tr>\n",
       "    <tr>\n",
       "      <th>0</th>\n",
       "      <td>digite</td>\n",
       "      <td>2</td>\n",
       "      <td>0.054054</td>\n",
       "    </tr>\n",
       "    <tr>\n",
       "      <th>10</th>\n",
       "      <td>clique</td>\n",
       "      <td>2</td>\n",
       "      <td>0.054054</td>\n",
       "    </tr>\n",
       "    <tr>\n",
       "      <th>8</th>\n",
       "      <td>e</td>\n",
       "      <td>2</td>\n",
       "      <td>0.054054</td>\n",
       "    </tr>\n",
       "    <tr>\n",
       "      <th>11</th>\n",
       "      <td>ganhou</td>\n",
       "      <td>2</td>\n",
       "      <td>0.054054</td>\n",
       "    </tr>\n",
       "    <tr>\n",
       "      <th>12</th>\n",
       "      <td>você</td>\n",
       "      <td>1</td>\n",
       "      <td>0.027027</td>\n",
       "    </tr>\n",
       "    <tr>\n",
       "      <th>9</th>\n",
       "      <td>ganhe</td>\n",
       "      <td>1</td>\n",
       "      <td>0.027027</td>\n",
       "    </tr>\n",
       "    <tr>\n",
       "      <th>7</th>\n",
       "      <td>envie</td>\n",
       "      <td>1</td>\n",
       "      <td>0.027027</td>\n",
       "    </tr>\n",
       "    <tr>\n",
       "      <th>13</th>\n",
       "      <td>segue</td>\n",
       "      <td>0</td>\n",
       "      <td>0.000000</td>\n",
       "    </tr>\n",
       "    <tr>\n",
       "      <th>14</th>\n",
       "      <td>relatório</td>\n",
       "      <td>0</td>\n",
       "      <td>0.000000</td>\n",
       "    </tr>\n",
       "    <tr>\n",
       "      <th>15</th>\n",
       "      <td>o</td>\n",
       "      <td>0</td>\n",
       "      <td>0.000000</td>\n",
       "    </tr>\n",
       "    <tr>\n",
       "      <th>16</th>\n",
       "      <td>orçamento</td>\n",
       "      <td>0</td>\n",
       "      <td>0.000000</td>\n",
       "    </tr>\n",
       "    <tr>\n",
       "      <th>17</th>\n",
       "      <td>em</td>\n",
       "      <td>0</td>\n",
       "      <td>0.000000</td>\n",
       "    </tr>\n",
       "    <tr>\n",
       "      <th>18</th>\n",
       "      <td>anexo</td>\n",
       "      <td>0</td>\n",
       "      <td>0.000000</td>\n",
       "    </tr>\n",
       "    <tr>\n",
       "      <th>19</th>\n",
       "      <td>pauta</td>\n",
       "      <td>0</td>\n",
       "      <td>0.000000</td>\n",
       "    </tr>\n",
       "    <tr>\n",
       "      <th>20</th>\n",
       "      <td>da</td>\n",
       "      <td>0</td>\n",
       "      <td>0.000000</td>\n",
       "    </tr>\n",
       "    <tr>\n",
       "      <th>21</th>\n",
       "      <td>reunião</td>\n",
       "      <td>0</td>\n",
       "      <td>0.000000</td>\n",
       "    </tr>\n",
       "    <tr>\n",
       "      <th>22</th>\n",
       "      <td>hoje</td>\n",
       "      <td>0</td>\n",
       "      <td>0.000000</td>\n",
       "    </tr>\n",
       "    <tr>\n",
       "      <th>23</th>\n",
       "      <td>do</td>\n",
       "      <td>0</td>\n",
       "      <td>0.000000</td>\n",
       "    </tr>\n",
       "  </tbody>\n",
       "</table>\n",
       "</div>"
      ],
      "text/plain": [
       "     palavras  contagem      prob\n",
       "2       senha         6  0.162162\n",
       "3        aqui         5  0.135135\n",
       "6    desconto         5  0.135135\n",
       "5          de         4  0.108108\n",
       "4       cupom         3  0.081081\n",
       "1         sua         3  0.081081\n",
       "0      digite         2  0.054054\n",
       "10     clique         2  0.054054\n",
       "8           e         2  0.054054\n",
       "11     ganhou         2  0.054054\n",
       "12       você         1  0.027027\n",
       "9       ganhe         1  0.027027\n",
       "7       envie         1  0.027027\n",
       "13      segue         0  0.000000\n",
       "14  relatório         0  0.000000\n",
       "15          o         0  0.000000\n",
       "16  orçamento         0  0.000000\n",
       "17         em         0  0.000000\n",
       "18      anexo         0  0.000000\n",
       "19      pauta         0  0.000000\n",
       "20         da         0  0.000000\n",
       "21    reunião         0  0.000000\n",
       "22       hoje         0  0.000000\n",
       "23         do         0  0.000000"
      ]
     },
     "execution_count": 15,
     "metadata": {},
     "output_type": "execute_result"
    }
   ],
   "source": [
    "df_palavras_spam = pd.DataFrame([[k, v] for k, v in palavras_spam.items()],\n",
    "                                columns = [\"palavras\", \"contagem\"])\n",
    "\n",
    "df_palavras_spam[\"prob\"] = df_palavras_spam[\"contagem\"]/df_palavras_spam[\"contagem\"].sum()\n",
    "\n",
    "df_palavras_spam = df_palavras_spam.sort_values(\"prob\", ascending=False)\n",
    "\n",
    "df_palavras_spam"
   ]
  },
  {
   "cell_type": "code",
   "execution_count": 16,
   "metadata": {
    "ExecuteTime": {
     "end_time": "2022-02-21T21:08:22.858924Z",
     "start_time": "2022-02-21T21:08:22.781970Z"
    }
   },
   "outputs": [
    {
     "data": {
      "text/html": [
       "<div>\n",
       "<style scoped>\n",
       "    .dataframe tbody tr th:only-of-type {\n",
       "        vertical-align: middle;\n",
       "    }\n",
       "\n",
       "    .dataframe tbody tr th {\n",
       "        vertical-align: top;\n",
       "    }\n",
       "\n",
       "    .dataframe thead th {\n",
       "        text-align: right;\n",
       "    }\n",
       "</style>\n",
       "<table border=\"1\" class=\"dataframe\">\n",
       "  <thead>\n",
       "    <tr style=\"text-align: right;\">\n",
       "      <th></th>\n",
       "      <th>palavras</th>\n",
       "      <th>contagem</th>\n",
       "      <th>prob</th>\n",
       "    </tr>\n",
       "  </thead>\n",
       "  <tbody>\n",
       "    <tr>\n",
       "      <th>1</th>\n",
       "      <td>relatório</td>\n",
       "      <td>6</td>\n",
       "      <td>0.214286</td>\n",
       "    </tr>\n",
       "    <tr>\n",
       "      <th>0</th>\n",
       "      <td>segue</td>\n",
       "      <td>3</td>\n",
       "      <td>0.107143</td>\n",
       "    </tr>\n",
       "    <tr>\n",
       "      <th>6</th>\n",
       "      <td>pauta</td>\n",
       "      <td>3</td>\n",
       "      <td>0.107143</td>\n",
       "    </tr>\n",
       "    <tr>\n",
       "      <th>4</th>\n",
       "      <td>em</td>\n",
       "      <td>3</td>\n",
       "      <td>0.107143</td>\n",
       "    </tr>\n",
       "    <tr>\n",
       "      <th>5</th>\n",
       "      <td>anexo</td>\n",
       "      <td>3</td>\n",
       "      <td>0.107143</td>\n",
       "    </tr>\n",
       "    <tr>\n",
       "      <th>7</th>\n",
       "      <td>da</td>\n",
       "      <td>2</td>\n",
       "      <td>0.071429</td>\n",
       "    </tr>\n",
       "    <tr>\n",
       "      <th>8</th>\n",
       "      <td>reunião</td>\n",
       "      <td>2</td>\n",
       "      <td>0.071429</td>\n",
       "    </tr>\n",
       "    <tr>\n",
       "      <th>3</th>\n",
       "      <td>orçamento</td>\n",
       "      <td>2</td>\n",
       "      <td>0.071429</td>\n",
       "    </tr>\n",
       "    <tr>\n",
       "      <th>9</th>\n",
       "      <td>hoje</td>\n",
       "      <td>1</td>\n",
       "      <td>0.035714</td>\n",
       "    </tr>\n",
       "    <tr>\n",
       "      <th>10</th>\n",
       "      <td>de</td>\n",
       "      <td>1</td>\n",
       "      <td>0.035714</td>\n",
       "    </tr>\n",
       "    <tr>\n",
       "      <th>11</th>\n",
       "      <td>do</td>\n",
       "      <td>1</td>\n",
       "      <td>0.035714</td>\n",
       "    </tr>\n",
       "    <tr>\n",
       "      <th>2</th>\n",
       "      <td>o</td>\n",
       "      <td>1</td>\n",
       "      <td>0.035714</td>\n",
       "    </tr>\n",
       "    <tr>\n",
       "      <th>18</th>\n",
       "      <td>envie</td>\n",
       "      <td>0</td>\n",
       "      <td>0.000000</td>\n",
       "    </tr>\n",
       "    <tr>\n",
       "      <th>22</th>\n",
       "      <td>ganhou</td>\n",
       "      <td>0</td>\n",
       "      <td>0.000000</td>\n",
       "    </tr>\n",
       "    <tr>\n",
       "      <th>21</th>\n",
       "      <td>clique</td>\n",
       "      <td>0</td>\n",
       "      <td>0.000000</td>\n",
       "    </tr>\n",
       "    <tr>\n",
       "      <th>20</th>\n",
       "      <td>ganhe</td>\n",
       "      <td>0</td>\n",
       "      <td>0.000000</td>\n",
       "    </tr>\n",
       "    <tr>\n",
       "      <th>19</th>\n",
       "      <td>e</td>\n",
       "      <td>0</td>\n",
       "      <td>0.000000</td>\n",
       "    </tr>\n",
       "    <tr>\n",
       "      <th>12</th>\n",
       "      <td>digite</td>\n",
       "      <td>0</td>\n",
       "      <td>0.000000</td>\n",
       "    </tr>\n",
       "    <tr>\n",
       "      <th>17</th>\n",
       "      <td>desconto</td>\n",
       "      <td>0</td>\n",
       "      <td>0.000000</td>\n",
       "    </tr>\n",
       "    <tr>\n",
       "      <th>16</th>\n",
       "      <td>cupom</td>\n",
       "      <td>0</td>\n",
       "      <td>0.000000</td>\n",
       "    </tr>\n",
       "    <tr>\n",
       "      <th>15</th>\n",
       "      <td>aqui</td>\n",
       "      <td>0</td>\n",
       "      <td>0.000000</td>\n",
       "    </tr>\n",
       "    <tr>\n",
       "      <th>14</th>\n",
       "      <td>senha</td>\n",
       "      <td>0</td>\n",
       "      <td>0.000000</td>\n",
       "    </tr>\n",
       "    <tr>\n",
       "      <th>13</th>\n",
       "      <td>sua</td>\n",
       "      <td>0</td>\n",
       "      <td>0.000000</td>\n",
       "    </tr>\n",
       "    <tr>\n",
       "      <th>23</th>\n",
       "      <td>você</td>\n",
       "      <td>0</td>\n",
       "      <td>0.000000</td>\n",
       "    </tr>\n",
       "  </tbody>\n",
       "</table>\n",
       "</div>"
      ],
      "text/plain": [
       "     palavras  contagem      prob\n",
       "1   relatório         6  0.214286\n",
       "0       segue         3  0.107143\n",
       "6       pauta         3  0.107143\n",
       "4          em         3  0.107143\n",
       "5       anexo         3  0.107143\n",
       "7          da         2  0.071429\n",
       "8     reunião         2  0.071429\n",
       "3   orçamento         2  0.071429\n",
       "9        hoje         1  0.035714\n",
       "10         de         1  0.035714\n",
       "11         do         1  0.035714\n",
       "2           o         1  0.035714\n",
       "18      envie         0  0.000000\n",
       "22     ganhou         0  0.000000\n",
       "21     clique         0  0.000000\n",
       "20      ganhe         0  0.000000\n",
       "19          e         0  0.000000\n",
       "12     digite         0  0.000000\n",
       "17   desconto         0  0.000000\n",
       "16      cupom         0  0.000000\n",
       "15       aqui         0  0.000000\n",
       "14      senha         0  0.000000\n",
       "13        sua         0  0.000000\n",
       "23       você         0  0.000000"
      ]
     },
     "execution_count": 16,
     "metadata": {},
     "output_type": "execute_result"
    }
   ],
   "source": [
    "df_palavras_ham = pd.DataFrame([[k, v] for k, v in palavras_ham.items()],\n",
    "                                columns = [\"palavras\", \"contagem\"])\n",
    "\n",
    "df_palavras_ham[\"prob\"] = df_palavras_ham[\"contagem\"]/df_palavras_ham[\"contagem\"].sum()\n",
    "\n",
    "df_palavras_ham = df_palavras_ham.sort_values(\"prob\", ascending=False)\n",
    "\n",
    "df_palavras_ham"
   ]
  },
  {
   "cell_type": "markdown",
   "metadata": {},
   "source": [
    "### MUITO IMPORTANTE:\n",
    "\n",
    "> Note que com esses dataframes temos os **graus de \"spamicity\" e \"hamicity\"**, respectivamente, **para cada palavra na base de treino**, expresso através justamente das probabilidades $P(x_i \\mid y)$. Esse é um dos pontos mais importantes do Naive Bayes!!\n",
    "\n",
    "Ou seja, é possível ver que as palavras \"senha\" e \"aqui\" têm o maior grau de spamicity; enquanto \"relatório\" é a palavra com maior grau de hamicity. Faz sentido??"
   ]
  },
  {
   "cell_type": "markdown",
   "metadata": {},
   "source": [
    "Agora, vamos fazer mais uma coisa que parece não natural a princípio, mas que vai ser operacionalmente bastante importante!\n",
    "\n",
    "Acima, nós incluímos artificialmente palavras que não aparecem em spam também ao dataframe de spam, e vice-versa, para garantir que ambos os dataframes contanham exatamente as mesmas palavras (isso vai ser impotante operacionalmente, como veremos abaixo). \n",
    "\n",
    "No entanto, da forma que fizemos, todas etas palavras têm contagem nula, e, portanto, probabilidade (e spamicity e hamicity) nula. Operacionalmente isso é um problema (já vamos entender o porquê). Pra evitar que esse problema se manifeste, vamos fazer o seguinte: **adicionar +1 na contagem de todas as palavras** (na verdade, podemos adicionar qualquer valor, comumente denotado $\\alpha > 0$, e chamado de **parâmetro de suavização (smoothing)**. \n",
    "\n",
    "Fazendo isso, todas as palavras em cada classe terão uma probabilidade associada, de maneira homogênea -- até mesmo as palavras que não fazem parte das frases daquela classe! \n",
    "\n",
    "Mas, naturalmente, a probabilidade destas palavras será baixíssima (as palavras que aparecem apenas em \"spam\" tem uma hamicity muito baixa (como \"senha\", por exemplo); e as que aparecem apenas em \"ham\" tem uma spamicity muito baixa (como \"relatório\", por exemplo). \n",
    "\n",
    "Então, apesar da spamicity e hamicity ser afetada pra todas as palavras, teremos o aspecto **relativo** mantido, e isso que importa, como veremos!"
   ]
  },
  {
   "cell_type": "code",
   "execution_count": 17,
   "metadata": {
    "ExecuteTime": {
     "end_time": "2022-02-21T21:08:22.952772Z",
     "start_time": "2022-02-21T21:08:22.861922Z"
    }
   },
   "outputs": [],
   "source": [
    "alpha = 1\n",
    "\n",
    "# adicionando 1 à contagem de TODAS as palavras de spam\n",
    "df_palavras_spam[\"contagem\"] = df_palavras_spam[\"contagem\"] + alpha\n",
    "\n",
    "df_palavras_spam[\"prob\"] = df_palavras_spam[\"contagem\"]/df_palavras_spam[\"contagem\"].sum()\n",
    "\n",
    "## outra possibilidade de suavização\n",
    "# df_palavras_spam[\"prob\"] = df_palavras_spam[\"contagem\"]/(df_palavras_spam[\"contagem\"].sum() + alpha*n_vocab)\n",
    "\n",
    "df_palavras_spam = df_palavras_spam.sort_values(\"prob\", ascending=False)\n",
    "\n",
    "#################################################################################\n",
    "#################################################################################\n",
    "\n",
    "# adicionando 1 à contagem de TODAS as palavras de ham\n",
    "df_palavras_ham[\"contagem\"] = df_palavras_ham[\"contagem\"] + alpha\n",
    "\n",
    "df_palavras_ham[\"prob\"] = df_palavras_ham[\"contagem\"]/df_palavras_ham[\"contagem\"].sum()\n",
    "\n",
    "## outra possibilidade de suavização\n",
    "# df_palavras_ham[\"prob\"] = df_palavras_ham[\"contagem\"]/(df_palavras_ham[\"contagem\"].sum() + alpha*n_vocab)\n",
    "\n",
    "df_palavras_ham = df_palavras_ham.sort_values(\"prob\", ascending=False)"
   ]
  },
  {
   "cell_type": "code",
   "execution_count": 18,
   "metadata": {
    "ExecuteTime": {
     "end_time": "2022-02-21T21:08:23.032263Z",
     "start_time": "2022-02-21T21:08:22.955774Z"
    },
    "scrolled": true
   },
   "outputs": [
    {
     "data": {
      "text/html": [
       "<div>\n",
       "<style scoped>\n",
       "    .dataframe tbody tr th:only-of-type {\n",
       "        vertical-align: middle;\n",
       "    }\n",
       "\n",
       "    .dataframe tbody tr th {\n",
       "        vertical-align: top;\n",
       "    }\n",
       "\n",
       "    .dataframe thead th {\n",
       "        text-align: right;\n",
       "    }\n",
       "</style>\n",
       "<table border=\"1\" class=\"dataframe\">\n",
       "  <thead>\n",
       "    <tr style=\"text-align: right;\">\n",
       "      <th></th>\n",
       "      <th>palavras</th>\n",
       "      <th>contagem</th>\n",
       "      <th>prob</th>\n",
       "    </tr>\n",
       "  </thead>\n",
       "  <tbody>\n",
       "    <tr>\n",
       "      <th>2</th>\n",
       "      <td>senha</td>\n",
       "      <td>7</td>\n",
       "      <td>0.114754</td>\n",
       "    </tr>\n",
       "    <tr>\n",
       "      <th>6</th>\n",
       "      <td>desconto</td>\n",
       "      <td>6</td>\n",
       "      <td>0.098361</td>\n",
       "    </tr>\n",
       "    <tr>\n",
       "      <th>3</th>\n",
       "      <td>aqui</td>\n",
       "      <td>6</td>\n",
       "      <td>0.098361</td>\n",
       "    </tr>\n",
       "    <tr>\n",
       "      <th>5</th>\n",
       "      <td>de</td>\n",
       "      <td>5</td>\n",
       "      <td>0.081967</td>\n",
       "    </tr>\n",
       "    <tr>\n",
       "      <th>4</th>\n",
       "      <td>cupom</td>\n",
       "      <td>4</td>\n",
       "      <td>0.065574</td>\n",
       "    </tr>\n",
       "    <tr>\n",
       "      <th>1</th>\n",
       "      <td>sua</td>\n",
       "      <td>4</td>\n",
       "      <td>0.065574</td>\n",
       "    </tr>\n",
       "    <tr>\n",
       "      <th>0</th>\n",
       "      <td>digite</td>\n",
       "      <td>3</td>\n",
       "      <td>0.049180</td>\n",
       "    </tr>\n",
       "    <tr>\n",
       "      <th>10</th>\n",
       "      <td>clique</td>\n",
       "      <td>3</td>\n",
       "      <td>0.049180</td>\n",
       "    </tr>\n",
       "    <tr>\n",
       "      <th>8</th>\n",
       "      <td>e</td>\n",
       "      <td>3</td>\n",
       "      <td>0.049180</td>\n",
       "    </tr>\n",
       "    <tr>\n",
       "      <th>11</th>\n",
       "      <td>ganhou</td>\n",
       "      <td>3</td>\n",
       "      <td>0.049180</td>\n",
       "    </tr>\n",
       "    <tr>\n",
       "      <th>9</th>\n",
       "      <td>ganhe</td>\n",
       "      <td>2</td>\n",
       "      <td>0.032787</td>\n",
       "    </tr>\n",
       "    <tr>\n",
       "      <th>7</th>\n",
       "      <td>envie</td>\n",
       "      <td>2</td>\n",
       "      <td>0.032787</td>\n",
       "    </tr>\n",
       "    <tr>\n",
       "      <th>12</th>\n",
       "      <td>você</td>\n",
       "      <td>2</td>\n",
       "      <td>0.032787</td>\n",
       "    </tr>\n",
       "    <tr>\n",
       "      <th>13</th>\n",
       "      <td>segue</td>\n",
       "      <td>1</td>\n",
       "      <td>0.016393</td>\n",
       "    </tr>\n",
       "    <tr>\n",
       "      <th>14</th>\n",
       "      <td>relatório</td>\n",
       "      <td>1</td>\n",
       "      <td>0.016393</td>\n",
       "    </tr>\n",
       "    <tr>\n",
       "      <th>15</th>\n",
       "      <td>o</td>\n",
       "      <td>1</td>\n",
       "      <td>0.016393</td>\n",
       "    </tr>\n",
       "    <tr>\n",
       "      <th>16</th>\n",
       "      <td>orçamento</td>\n",
       "      <td>1</td>\n",
       "      <td>0.016393</td>\n",
       "    </tr>\n",
       "    <tr>\n",
       "      <th>17</th>\n",
       "      <td>em</td>\n",
       "      <td>1</td>\n",
       "      <td>0.016393</td>\n",
       "    </tr>\n",
       "    <tr>\n",
       "      <th>18</th>\n",
       "      <td>anexo</td>\n",
       "      <td>1</td>\n",
       "      <td>0.016393</td>\n",
       "    </tr>\n",
       "    <tr>\n",
       "      <th>19</th>\n",
       "      <td>pauta</td>\n",
       "      <td>1</td>\n",
       "      <td>0.016393</td>\n",
       "    </tr>\n",
       "    <tr>\n",
       "      <th>20</th>\n",
       "      <td>da</td>\n",
       "      <td>1</td>\n",
       "      <td>0.016393</td>\n",
       "    </tr>\n",
       "    <tr>\n",
       "      <th>21</th>\n",
       "      <td>reunião</td>\n",
       "      <td>1</td>\n",
       "      <td>0.016393</td>\n",
       "    </tr>\n",
       "    <tr>\n",
       "      <th>22</th>\n",
       "      <td>hoje</td>\n",
       "      <td>1</td>\n",
       "      <td>0.016393</td>\n",
       "    </tr>\n",
       "    <tr>\n",
       "      <th>23</th>\n",
       "      <td>do</td>\n",
       "      <td>1</td>\n",
       "      <td>0.016393</td>\n",
       "    </tr>\n",
       "  </tbody>\n",
       "</table>\n",
       "</div>"
      ],
      "text/plain": [
       "     palavras  contagem      prob\n",
       "2       senha         7  0.114754\n",
       "6    desconto         6  0.098361\n",
       "3        aqui         6  0.098361\n",
       "5          de         5  0.081967\n",
       "4       cupom         4  0.065574\n",
       "1         sua         4  0.065574\n",
       "0      digite         3  0.049180\n",
       "10     clique         3  0.049180\n",
       "8           e         3  0.049180\n",
       "11     ganhou         3  0.049180\n",
       "9       ganhe         2  0.032787\n",
       "7       envie         2  0.032787\n",
       "12       você         2  0.032787\n",
       "13      segue         1  0.016393\n",
       "14  relatório         1  0.016393\n",
       "15          o         1  0.016393\n",
       "16  orçamento         1  0.016393\n",
       "17         em         1  0.016393\n",
       "18      anexo         1  0.016393\n",
       "19      pauta         1  0.016393\n",
       "20         da         1  0.016393\n",
       "21    reunião         1  0.016393\n",
       "22       hoje         1  0.016393\n",
       "23         do         1  0.016393"
      ]
     },
     "execution_count": 18,
     "metadata": {},
     "output_type": "execute_result"
    }
   ],
   "source": [
    "df_palavras_spam"
   ]
  },
  {
   "cell_type": "code",
   "execution_count": 19,
   "metadata": {
    "ExecuteTime": {
     "end_time": "2022-02-21T21:08:23.128068Z",
     "start_time": "2022-02-21T21:08:23.035238Z"
    }
   },
   "outputs": [
    {
     "data": {
      "text/html": [
       "<div>\n",
       "<style scoped>\n",
       "    .dataframe tbody tr th:only-of-type {\n",
       "        vertical-align: middle;\n",
       "    }\n",
       "\n",
       "    .dataframe tbody tr th {\n",
       "        vertical-align: top;\n",
       "    }\n",
       "\n",
       "    .dataframe thead th {\n",
       "        text-align: right;\n",
       "    }\n",
       "</style>\n",
       "<table border=\"1\" class=\"dataframe\">\n",
       "  <thead>\n",
       "    <tr style=\"text-align: right;\">\n",
       "      <th></th>\n",
       "      <th>palavras</th>\n",
       "      <th>contagem</th>\n",
       "      <th>prob</th>\n",
       "    </tr>\n",
       "  </thead>\n",
       "  <tbody>\n",
       "    <tr>\n",
       "      <th>1</th>\n",
       "      <td>relatório</td>\n",
       "      <td>7</td>\n",
       "      <td>0.134615</td>\n",
       "    </tr>\n",
       "    <tr>\n",
       "      <th>6</th>\n",
       "      <td>pauta</td>\n",
       "      <td>4</td>\n",
       "      <td>0.076923</td>\n",
       "    </tr>\n",
       "    <tr>\n",
       "      <th>4</th>\n",
       "      <td>em</td>\n",
       "      <td>4</td>\n",
       "      <td>0.076923</td>\n",
       "    </tr>\n",
       "    <tr>\n",
       "      <th>5</th>\n",
       "      <td>anexo</td>\n",
       "      <td>4</td>\n",
       "      <td>0.076923</td>\n",
       "    </tr>\n",
       "    <tr>\n",
       "      <th>0</th>\n",
       "      <td>segue</td>\n",
       "      <td>4</td>\n",
       "      <td>0.076923</td>\n",
       "    </tr>\n",
       "    <tr>\n",
       "      <th>7</th>\n",
       "      <td>da</td>\n",
       "      <td>3</td>\n",
       "      <td>0.057692</td>\n",
       "    </tr>\n",
       "    <tr>\n",
       "      <th>8</th>\n",
       "      <td>reunião</td>\n",
       "      <td>3</td>\n",
       "      <td>0.057692</td>\n",
       "    </tr>\n",
       "    <tr>\n",
       "      <th>3</th>\n",
       "      <td>orçamento</td>\n",
       "      <td>3</td>\n",
       "      <td>0.057692</td>\n",
       "    </tr>\n",
       "    <tr>\n",
       "      <th>11</th>\n",
       "      <td>do</td>\n",
       "      <td>2</td>\n",
       "      <td>0.038462</td>\n",
       "    </tr>\n",
       "    <tr>\n",
       "      <th>2</th>\n",
       "      <td>o</td>\n",
       "      <td>2</td>\n",
       "      <td>0.038462</td>\n",
       "    </tr>\n",
       "    <tr>\n",
       "      <th>9</th>\n",
       "      <td>hoje</td>\n",
       "      <td>2</td>\n",
       "      <td>0.038462</td>\n",
       "    </tr>\n",
       "    <tr>\n",
       "      <th>10</th>\n",
       "      <td>de</td>\n",
       "      <td>2</td>\n",
       "      <td>0.038462</td>\n",
       "    </tr>\n",
       "    <tr>\n",
       "      <th>17</th>\n",
       "      <td>desconto</td>\n",
       "      <td>1</td>\n",
       "      <td>0.019231</td>\n",
       "    </tr>\n",
       "    <tr>\n",
       "      <th>13</th>\n",
       "      <td>sua</td>\n",
       "      <td>1</td>\n",
       "      <td>0.019231</td>\n",
       "    </tr>\n",
       "    <tr>\n",
       "      <th>14</th>\n",
       "      <td>senha</td>\n",
       "      <td>1</td>\n",
       "      <td>0.019231</td>\n",
       "    </tr>\n",
       "    <tr>\n",
       "      <th>15</th>\n",
       "      <td>aqui</td>\n",
       "      <td>1</td>\n",
       "      <td>0.019231</td>\n",
       "    </tr>\n",
       "    <tr>\n",
       "      <th>16</th>\n",
       "      <td>cupom</td>\n",
       "      <td>1</td>\n",
       "      <td>0.019231</td>\n",
       "    </tr>\n",
       "    <tr>\n",
       "      <th>18</th>\n",
       "      <td>envie</td>\n",
       "      <td>1</td>\n",
       "      <td>0.019231</td>\n",
       "    </tr>\n",
       "    <tr>\n",
       "      <th>12</th>\n",
       "      <td>digite</td>\n",
       "      <td>1</td>\n",
       "      <td>0.019231</td>\n",
       "    </tr>\n",
       "    <tr>\n",
       "      <th>19</th>\n",
       "      <td>e</td>\n",
       "      <td>1</td>\n",
       "      <td>0.019231</td>\n",
       "    </tr>\n",
       "    <tr>\n",
       "      <th>20</th>\n",
       "      <td>ganhe</td>\n",
       "      <td>1</td>\n",
       "      <td>0.019231</td>\n",
       "    </tr>\n",
       "    <tr>\n",
       "      <th>21</th>\n",
       "      <td>clique</td>\n",
       "      <td>1</td>\n",
       "      <td>0.019231</td>\n",
       "    </tr>\n",
       "    <tr>\n",
       "      <th>22</th>\n",
       "      <td>ganhou</td>\n",
       "      <td>1</td>\n",
       "      <td>0.019231</td>\n",
       "    </tr>\n",
       "    <tr>\n",
       "      <th>23</th>\n",
       "      <td>você</td>\n",
       "      <td>1</td>\n",
       "      <td>0.019231</td>\n",
       "    </tr>\n",
       "  </tbody>\n",
       "</table>\n",
       "</div>"
      ],
      "text/plain": [
       "     palavras  contagem      prob\n",
       "1   relatório         7  0.134615\n",
       "6       pauta         4  0.076923\n",
       "4          em         4  0.076923\n",
       "5       anexo         4  0.076923\n",
       "0       segue         4  0.076923\n",
       "7          da         3  0.057692\n",
       "8     reunião         3  0.057692\n",
       "3   orçamento         3  0.057692\n",
       "11         do         2  0.038462\n",
       "2           o         2  0.038462\n",
       "9        hoje         2  0.038462\n",
       "10         de         2  0.038462\n",
       "17   desconto         1  0.019231\n",
       "13        sua         1  0.019231\n",
       "14      senha         1  0.019231\n",
       "15       aqui         1  0.019231\n",
       "16      cupom         1  0.019231\n",
       "18      envie         1  0.019231\n",
       "12     digite         1  0.019231\n",
       "19          e         1  0.019231\n",
       "20      ganhe         1  0.019231\n",
       "21     clique         1  0.019231\n",
       "22     ganhou         1  0.019231\n",
       "23       você         1  0.019231"
      ]
     },
     "execution_count": 19,
     "metadata": {},
     "output_type": "execute_result"
    }
   ],
   "source": [
    "df_palavras_ham"
   ]
  },
  {
   "cell_type": "markdown",
   "metadata": {},
   "source": [
    "Lembrando o teorema de Bayes:\n",
    "\n",
    "$P(A|B) = \\frac{P(B | A)P(A)}{P(B)}$\n",
    "\n",
    "Vamos tomar:\n",
    "\n",
    "$A= y$; $B = \\vec{x}$\n",
    "\n",
    "Ou seja,\n",
    "\n",
    "$P(y| \\vec{x}) = \\frac{P( \\vec{x} | y)P(y)}{P( \\vec{x})}$\n",
    "\n",
    "$P(y|\\vec{x}) \\propto P( \\vec{x}| y)P(y)$"
   ]
  },
  {
   "cell_type": "markdown",
   "metadata": {},
   "source": [
    "Agora temos todos os ingredientes que precisamos! Utilizando o teorema de Bayes (na próxima seção vamos entender melhor de onde veio isso), podemos **classificar frases de teste** olhando para **cada palavra como feature** para que possamos calcular qual é a **probabilidade que a frase seja ham ou spam**, usando a seguinte relação:\n",
    "\n",
    "$$P(y \\mid \\vec{x}) \\propto P(\\vec{x} \\mid y) P(y) \\ , $$\n",
    "\n",
    "sendo avaliada para ambas as classes possíveis para $y$:\n",
    "\n",
    "$$P(y = \\text{\"spam\"} \\mid \\vec{x} = \\text{\"texto do email\"}) \\propto P(\\vec{x} = \\text{\"texto do email\"} \\mid y = \\text{\"spam\"}) P(y = \\text{\"spam\"})$$\n",
    "\n",
    "E, analogamente,\n",
    "\n",
    "$$P(y = \\text{\"ham\"} \\mid \\vec{x} = \\text{\"texto do email\"}) \\propto P(\\vec{x} = \\text{\"texto do email\"} \\mid y = \\text{\"ham\"}) P(y = \\text{\"ham\"})$$\n",
    "\n"
   ]
  },
  {
   "cell_type": "markdown",
   "metadata": {},
   "source": [
    "Nas equações acima, a proporcionalidade já basta, pois no final a decisão a ser tomada é:\n",
    "\n",
    "$$ \\text{Se} \\qquad P(y = \\text{\"spam\"} \\mid \\vec{x} = \\text{\"texto do email\"}) > P(y = \\text{\"ham\"} \\mid \\vec{x} = \\text{\"texto do email\"}) \\qquad \\text{então} \\qquad \\hat{y} = \\text{\"spam\"}$$\n",
    "\n",
    "E, caso contrário, \n",
    "\n",
    "$$ \\text{Se} \\qquad P(y = \\text{\"ham\"} \\mid \\vec{x} = \\text{\"texto do email\"}) > P(y = \\text{\"spam\"} \\mid \\vec{x} = \\text{\"texto do email\"}) \\qquad \\text{então} \\qquad \\hat{y} = \\text{\"ham\"}$$"
   ]
  },
  {
   "cell_type": "markdown",
   "metadata": {},
   "source": [
    "A esta altura, nós já temos os valores das **prioris** $P(y)$! \n",
    "\n",
    "O único elemento que tá faltando é $P(\\vec{x} \\mid y)$, que é a **likelihood**. No entanto, tudo o que fizemo acima foi justamente pra ter a likelihood, que é dada por:\n",
    "\n",
    "$P(\\vec{x} \\mid y) = \\prod_{i=1}^{n} P(x_i \\mid y) $\n",
    "\n",
    "Onde cada $x_i$ representa uma palavra que compõe a frase de teste -- e essas probabilidades são exatamente o que temos nos dataframes acima!"
   ]
  },
  {
   "cell_type": "markdown",
   "metadata": {},
   "source": [
    "Agora sim, podemos calcular $P(y \\mid \\vec{x})$!\n",
    "\n",
    "Vamos começar com a primeira frase de teste:"
   ]
  },
  {
   "cell_type": "code",
   "execution_count": 20,
   "metadata": {
    "ExecuteTime": {
     "end_time": "2022-02-21T21:08:23.208025Z",
     "start_time": "2022-02-21T21:08:23.131049Z"
    }
   },
   "outputs": [
    {
     "data": {
      "text/plain": [
       "'digite aqui sua senha'"
      ]
     },
     "execution_count": 20,
     "metadata": {},
     "output_type": "execute_result"
    }
   ],
   "source": [
    "frase = df_test.loc[0, \"frases\"]\n",
    "\n",
    "frase"
   ]
  },
  {
   "cell_type": "markdown",
   "metadata": {},
   "source": [
    "$P(\\vec{x} = \\text{'digite aqui sua senha'} \\mid y = \\text{\"spam\"}) = \\prod_{i=1}^{n} P(x_i \\mid y = \\text{\"spam\"}) = $\n",
    "\n",
    "\n",
    "$  P(x = \\text{'digite'} \\mid y = \\text{\"spam\"})  P(x = \\text{'aqui'}  \\mid y = \\text{\"spam\"})  P(x = \\text{'sua'} \\mid y = \\text{\"spam\"})  P(x = \\text{'senha'} \\mid y = \\text{\"spam\"}) $"
   ]
  },
  {
   "cell_type": "code",
   "execution_count": 21,
   "metadata": {
    "ExecuteTime": {
     "end_time": "2022-02-21T21:08:23.288078Z",
     "start_time": "2022-02-21T21:08:23.211023Z"
    }
   },
   "outputs": [
    {
     "name": "stdout",
     "output_type": "stream",
     "text": [
      "digite 0.04918032786885246\n",
      "aqui 0.09836065573770492\n",
      "sua 0.06557377049180328\n",
      "senha 0.11475409836065574\n",
      "\n",
      "P(y='spam' | x='digite aqui sua senha') = 1.820041122818036e-05\n"
     ]
    }
   ],
   "source": [
    "P_spam_dado_x = 1\n",
    "\n",
    "for palavra in frase.split():\n",
    "    \n",
    "    if palavra in df_palavras_spam[\"palavras\"].values:\n",
    "        \n",
    "        P_x_dado_spam = df_palavras_spam.loc[df_palavras_spam[\"palavras\"] == palavra, \"prob\"].squeeze()\n",
    "        \n",
    "        print(palavra, P_x_dado_spam)\n",
    "        \n",
    "        P_spam_dado_x = P_spam_dado_x*P_x_dado_spam\n",
    "        \n",
    "# multiplicando pela priori, no fim\n",
    "P_spam_dado_x = P_spam_dado_x*P_spam\n",
    "\n",
    "print(f\"\\nP(y='spam' | x='{frase}') = {P_spam_dado_x}\")"
   ]
  },
  {
   "cell_type": "code",
   "execution_count": 22,
   "metadata": {
    "ExecuteTime": {
     "end_time": "2022-02-21T21:08:23.366348Z",
     "start_time": "2022-02-21T21:08:23.291077Z"
    }
   },
   "outputs": [
    {
     "name": "stdout",
     "output_type": "stream",
     "text": [
      "digite 0.019230769230769232\n",
      "aqui 0.019230769230769232\n",
      "sua 0.019230769230769232\n",
      "senha 0.019230769230769232\n",
      "\n",
      "P(y='ham' | x='digite aqui sua senha') = 6.838433528237808e-08\n"
     ]
    }
   ],
   "source": [
    "P_ham_dado_x = 1\n",
    "\n",
    "for palavra in frase.split():\n",
    "    \n",
    "    if palavra in df_palavras_ham[\"palavras\"].values:\n",
    "        \n",
    "        P_x_dado_ham = df_palavras_ham.loc[df_palavras_ham[\"palavras\"] == palavra, \"prob\"].squeeze()\n",
    "        \n",
    "        print(palavra, P_x_dado_ham)\n",
    "        \n",
    "        P_ham_dado_x = P_ham_dado_x*P_x_dado_ham\n",
    "        \n",
    "# multiplicando pela priori, no fim\n",
    "P_ham_dado_x = P_ham_dado_x*P_ham\n",
    "        \n",
    "print(f\"\\nP(y='ham' | x='{frase}') = {P_ham_dado_x}\")"
   ]
  },
  {
   "cell_type": "markdown",
   "metadata": {},
   "source": [
    "Note que no código acima há um `if` que testa se a palavra de teste faz parte do conjunto de palavras de treino. Isso é importante, porque se houver uma palavra desconhecida, não é possível avaliarmos qual é o seu grau de \"spamicity\" ou \"hamicity\".\n",
    "\n",
    "Note, ainda, que fazemos esse check para ambos os casos, então não há nenhuma preferência em detrimento do spam ou do ham! (E por isso que foi importante que garantíssemos que todas as palavras estivessem contempladas em ambos os dataframes)"
   ]
  },
  {
   "cell_type": "markdown",
   "metadata": {},
   "source": [
    "Uma vez que temos as probabilidades, basta tomar a decisão baseada na maior probabilidade:"
   ]
  },
  {
   "cell_type": "code",
   "execution_count": 23,
   "metadata": {
    "ExecuteTime": {
     "end_time": "2022-02-21T21:08:23.460537Z",
     "start_time": "2022-02-21T21:08:23.369334Z"
    }
   },
   "outputs": [
    {
     "data": {
      "text/plain": [
       "0.9962567682666971"
      ]
     },
     "execution_count": 23,
     "metadata": {},
     "output_type": "execute_result"
    }
   ],
   "source": [
    "P_spam_dado_x/(P_spam_dado_x + P_ham_dado_x)"
   ]
  },
  {
   "cell_type": "code",
   "execution_count": 24,
   "metadata": {
    "ExecuteTime": {
     "end_time": "2022-02-21T21:08:23.539656Z",
     "start_time": "2022-02-21T21:08:23.463536Z"
    }
   },
   "outputs": [
    {
     "data": {
      "text/plain": [
       "0.0037432317333029623"
      ]
     },
     "execution_count": 24,
     "metadata": {},
     "output_type": "execute_result"
    }
   ],
   "source": [
    "P_ham_dado_x/(P_spam_dado_x + P_ham_dado_x)"
   ]
  },
  {
   "cell_type": "code",
   "execution_count": 25,
   "metadata": {
    "ExecuteTime": {
     "end_time": "2022-02-21T21:08:23.603817Z",
     "start_time": "2022-02-21T21:08:23.541655Z"
    }
   },
   "outputs": [],
   "source": [
    "if P_spam_dado_x > P_ham_dado_x:\n",
    "    \n",
    "    y_pred = \"spam\"\n",
    "    \n",
    "else:\n",
    "    \n",
    "    y_pred = \"ham\""
   ]
  },
  {
   "cell_type": "code",
   "execution_count": 26,
   "metadata": {
    "ExecuteTime": {
     "end_time": "2022-02-21T21:08:23.697285Z",
     "start_time": "2022-02-21T21:08:23.607781Z"
    }
   },
   "outputs": [],
   "source": [
    "y_true = df_test.loc[0, \"y\"]"
   ]
  },
  {
   "cell_type": "code",
   "execution_count": 27,
   "metadata": {
    "ExecuteTime": {
     "end_time": "2022-02-21T21:08:23.823207Z",
     "start_time": "2022-02-21T21:08:23.700209Z"
    }
   },
   "outputs": [
    {
     "name": "stdout",
     "output_type": "stream",
     "text": [
      "Frase: 'digite aqui sua senha'\n",
      "Target real: 'spam'\n",
      "Target predito: 'spam'\n"
     ]
    }
   ],
   "source": [
    "print(f\"Frase: '{frase}'\\nTarget real: '{y_true}'\\nTarget predito: '{y_pred}'\")"
   ]
  },
  {
   "cell_type": "markdown",
   "metadata": {},
   "source": [
    "Deu certo!!\n",
    "\n",
    "Vamos agora colocar tudo num loop pra classificarmos todas as frases:"
   ]
  },
  {
   "cell_type": "code",
   "execution_count": 28,
   "metadata": {
    "ExecuteTime": {
     "end_time": "2022-02-21T21:08:23.934207Z",
     "start_time": "2022-02-21T21:08:23.825181Z"
    },
    "scrolled": true
   },
   "outputs": [
    {
     "name": "stdout",
     "output_type": "stream",
     "text": [
      "P(y='spam' | x='digite aqui sua senha') = 1.820041122818036e-05\n",
      "P(y='ham' | x='digite aqui sua senha') = 6.838433528237808e-08\n",
      "\n",
      "Frase: 'digite aqui sua senha'\n",
      "\n",
      "Target real: 'spam'\n",
      "Target predito: 'spam'\n",
      "\n",
      "Probs normalizadas:\n",
      "\n",
      "[0.0037432317333029623, 0.9962567682666971]\n",
      "\n",
      "\n",
      "==================================================\n",
      "\n",
      "\n",
      "P(y='spam' | x='cupom de desconto em anexo') = 7.103985647221064e-08\n",
      "P(y='ham' | x='cupom de desconto em anexo') = 4.2082667866078824e-08\n",
      "\n",
      "Frase: 'cupom de desconto em anexo'\n",
      "\n",
      "Target real: 'spam'\n",
      "Target predito: 'spam'\n",
      "\n",
      "Probs normalizadas:\n",
      "\n",
      "[0.3720096250701751, 0.6279903749298248]\n",
      "\n",
      "\n",
      "==================================================\n",
      "\n",
      "\n",
      "P(y='spam' | x='cadê o relatório da pauta da reunião') = 9.70489842516539e-12\n",
      "P(y='ham' | x='cadê o relatório da pauta da reunião') = 3.823857801292739e-08\n",
      "\n",
      "Frase: 'cadê o relatório da pauta da reunião'\n",
      "\n",
      "Target real: 'ham'\n",
      "Target predito: 'ham'\n",
      "\n",
      "Probs normalizadas:\n",
      "\n",
      "[0.9997462657749197, 0.00025373422508033315]\n",
      "\n",
      "\n",
      "==================================================\n",
      "\n",
      "\n",
      "P(y='spam' | x='envio ainda hoje em anexo') = 2.202827549442465e-06\n",
      "P(y='ham' | x='envio ainda hoje em anexo') = 0.00011379153390987712\n",
      "\n",
      "Frase: 'envio ainda hoje em anexo'\n",
      "\n",
      "Target real: 'ham'\n",
      "Target predito: 'ham'\n",
      "\n",
      "Probs normalizadas:\n",
      "\n",
      "[0.9810091842247434, 0.018990815775256617]\n",
      "\n",
      "\n",
      "==================================================\n",
      "\n",
      "\n"
     ]
    }
   ],
   "source": [
    "lista_probs = []\n",
    "\n",
    "for i in df_test.index:\n",
    "\n",
    "    frase = df_test.loc[i, \"frases\"]\n",
    "    y_true = df_test.loc[i, \"y\"]\n",
    "    \n",
    "    ###################################################################\n",
    "    \n",
    "    P_spam_dado_x = 1\n",
    "\n",
    "    for palavra in frase.split():\n",
    "\n",
    "        if palavra in df_palavras_spam[\"palavras\"].values:\n",
    "\n",
    "            P_x_dado_spam = df_palavras_spam.loc[df_palavras_spam[\"palavras\"] == palavra, \"prob\"].squeeze()\n",
    "\n",
    "            P_spam_dado_x = P_spam_dado_x*P_x_dado_spam\n",
    "\n",
    "    P_spam_dado_x = P_spam_dado_x*P_spam\n",
    "\n",
    "    print(f\"P(y='spam' | x='{frase}') = {P_spam_dado_x}\")\n",
    "    \n",
    "    ###################################################################\n",
    "\n",
    "    P_ham_dado_x = 1\n",
    "\n",
    "    for palavra in frase.split():\n",
    "\n",
    "        if palavra in df_palavras_ham[\"palavras\"].values:\n",
    "\n",
    "            P_x_dado_ham = df_palavras_ham.loc[df_palavras_ham[\"palavras\"] == palavra, \"prob\"].squeeze()\n",
    "\n",
    "            P_ham_dado_x = P_ham_dado_x*P_x_dado_ham\n",
    "\n",
    "    P_ham_dado_x = P_ham_dado_x*P_ham\n",
    "\n",
    "    print(f\"P(y='ham' | x='{frase}') = {P_ham_dado_x}\")\n",
    "    \n",
    "    ###################################################################\n",
    "    \n",
    "    y_pred = \"spam\" if P_spam_dado_x > P_ham_dado_x else \"ham\"\n",
    "    \n",
    "    ###################################################################\n",
    "    \n",
    "    # normalizando as probabilidades, pra somar 1\n",
    "    probs_aux = [P_ham_dado_x/(P_spam_dado_x + P_ham_dado_x), P_spam_dado_x/(P_spam_dado_x + P_ham_dado_x)]\n",
    "    \n",
    "    lista_probs.append(probs_aux)\n",
    "    \n",
    "    print(f\"\\nFrase: '{frase}'\\n\\nTarget real: '{y_true}'\\nTarget predito: '{y_pred}'\")\n",
    "    \n",
    "    print(f\"\\nProbs normalizadas:\\n\\n{probs_aux}\")\n",
    "    \n",
    "    print(\"\\n\")\n",
    "    print(\"=\"*50)\n",
    "    print(\"\\n\")\n"
   ]
  },
  {
   "cell_type": "code",
   "execution_count": 29,
   "metadata": {
    "ExecuteTime": {
     "end_time": "2022-02-21T21:08:24.030151Z",
     "start_time": "2022-02-21T21:08:23.937205Z"
    }
   },
   "outputs": [
    {
     "data": {
      "text/plain": [
       "[[0.0037432317333029623, 0.9962567682666971],\n",
       " [0.3720096250701751, 0.6279903749298248],\n",
       " [0.9997462657749197, 0.00025373422508033315],\n",
       " [0.9810091842247434, 0.018990815775256617]]"
      ]
     },
     "execution_count": 29,
     "metadata": {},
     "output_type": "execute_result"
    }
   ],
   "source": [
    "lista_probs"
   ]
  },
  {
   "cell_type": "markdown",
   "metadata": {},
   "source": [
    "_______________"
   ]
  },
  {
   "cell_type": "markdown",
   "metadata": {
    "ExecuteTime": {
     "end_time": "2021-09-17T19:13:59.925492Z",
     "start_time": "2021-09-17T19:13:59.833876Z"
    }
   },
   "source": [
    "Vamos ver agora como construir um modelo NB com o sklearn!\n",
    "\n",
    "Um ponto muito importante é que, para que o modelo possa ser treinado, um importante pré-processamento deve ser feito de modo a **representar os dados textuais de maneira tabular**.\n",
    "\n",
    "Como falamos acima, todos os detalhes acerca disso serão introduzidos no módulo de **dados não estruturados**. Aqui, vamos usar as técnicas pragmaticamente apenas como uma etapa necessária de pré-processamento.\n",
    "\n",
    "A ideia é bem parecida com a representação numérica de features categóricas - só que neste caso precisamos, de alguma forma, representar **frases inteiras** de alguma forma numérica.\n",
    "\n",
    "A abordagem que seguiremos é conhecida como [bag of words](https://machinelearningmastery.com/gentle-introduction-bag-words-model/#:~:text=A%20bag%2Dof%2Dwords%20is,the%20presence%20of%20known%20words.), e consiste, essencialmente, em criarmos uma matriz que represente todo o **vocabulário** de treino como **colunas**; e cujas linhas representam as frases do vocabulário, de modo que cada entrada da matriz indica a presença ou ausência de uma dada palavra do vocabulário na respectiva frase:\n",
    "\n",
    "<img src=https://ichi.pro/assets/images/max/724/1*hLvya7MXjsSc3NS2SoLMEg.png width=600>\n",
    "\n",
    "<img src=https://www.askpython.com/wp-content/uploads/2020/12/Bag-of-Words-model-1024x335.jpg width=700>\n",
    "\n",
    "A representação bag of words é implementada através da classe [CountVectorizer](https://scikit-learn.org/stable/modules/generated/sklearn.feature_extraction.text.CountVectorizer.html) do sklearn. Vamos utilizá-la!"
   ]
  },
  {
   "cell_type": "code",
   "execution_count": 30,
   "metadata": {
    "ExecuteTime": {
     "end_time": "2022-02-21T21:08:24.140208Z",
     "start_time": "2022-02-21T21:08:24.035148Z"
    }
   },
   "outputs": [],
   "source": [
    "# features: frases\n",
    "\n",
    "X_train = df_train[\"frases\"]\n",
    "y_train = df_train[\"y\"]\n",
    "\n",
    "X_test = df_test[\"frases\"]\n",
    "y_test = df_test[\"y\"]"
   ]
  },
  {
   "cell_type": "code",
   "execution_count": 31,
   "metadata": {
    "ExecuteTime": {
     "end_time": "2022-02-21T21:08:24.982359Z",
     "start_time": "2022-02-21T21:08:24.144204Z"
    }
   },
   "outputs": [
    {
     "data": {
      "text/plain": [
       "<18x22 sparse matrix of type '<class 'numpy.int64'>'\n",
       "\twith 62 stored elements in Compressed Sparse Row format>"
      ]
     },
     "execution_count": 31,
     "metadata": {},
     "output_type": "execute_result"
    }
   ],
   "source": [
    "# importando o countvectorizer\n",
    "from sklearn.feature_extraction.text import CountVectorizer\n",
    "\n",
    "# instanciando a classe\n",
    "vec = CountVectorizer().fit(X_train)\n",
    "\n",
    "X_train = vec.transform(X_train)\n",
    "X_test = vec.transform(X_test)\n",
    "\n",
    "X_train"
   ]
  },
  {
   "cell_type": "code",
   "execution_count": 32,
   "metadata": {
    "ExecuteTime": {
     "end_time": "2022-02-21T21:08:25.013343Z",
     "start_time": "2022-02-21T21:08:24.988353Z"
    }
   },
   "outputs": [
    {
     "data": {
      "text/plain": [
       "array(['anexo', 'aqui', 'clique', 'cupom', 'da', 'de', 'desconto',\n",
       "       'digite', 'do', 'em', 'envie', 'ganhe', 'ganhou', 'hoje',\n",
       "       'orçamento', 'pauta', 'relatório', 'reunião', 'segue', 'senha',\n",
       "       'sua', 'você'], dtype=object)"
      ]
     },
     "execution_count": 32,
     "metadata": {},
     "output_type": "execute_result"
    }
   ],
   "source": [
    "# método get_feature_names_out()\n",
    "\n",
    "vec.get_feature_names_out()"
   ]
  },
  {
   "cell_type": "code",
   "execution_count": 33,
   "metadata": {
    "ExecuteTime": {
     "end_time": "2022-02-21T21:08:25.108954Z",
     "start_time": "2022-02-21T21:08:25.017337Z"
    }
   },
   "outputs": [
    {
     "data": {
      "text/plain": [
       "array([[0, 0, 0, 0, 0, 0, 0, 1, 0, 0, 0, 0, 0, 0, 0, 0, 0, 0, 0, 1, 1, 0],\n",
       "       [0, 1, 0, 0, 0, 0, 0, 1, 0, 0, 0, 0, 0, 0, 0, 0, 0, 0, 0, 1, 1, 0],\n",
       "       [0, 1, 0, 1, 0, 1, 1, 0, 0, 0, 0, 0, 0, 0, 0, 0, 0, 0, 0, 0, 0, 0],\n",
       "       [0, 0, 0, 1, 0, 1, 1, 0, 0, 0, 1, 1, 0, 0, 0, 0, 0, 0, 0, 1, 0, 0],\n",
       "       [0, 1, 1, 0, 0, 0, 1, 0, 0, 0, 0, 0, 1, 0, 0, 0, 0, 0, 0, 0, 0, 0],\n",
       "       [0, 0, 0, 1, 0, 1, 1, 0, 0, 0, 0, 0, 0, 0, 0, 0, 0, 0, 0, 1, 0, 0],\n",
       "       [0, 0, 0, 0, 0, 1, 1, 0, 0, 0, 0, 0, 0, 0, 0, 0, 0, 0, 0, 1, 0, 0],\n",
       "       [0, 1, 0, 0, 0, 0, 0, 0, 0, 0, 0, 0, 0, 0, 0, 0, 0, 0, 0, 1, 1, 0],\n",
       "       [0, 1, 1, 0, 0, 0, 0, 0, 0, 0, 0, 0, 1, 0, 0, 0, 0, 0, 0, 0, 0, 1],\n",
       "       [0, 0, 0, 0, 0, 0, 0, 0, 0, 0, 0, 0, 0, 0, 0, 0, 1, 0, 1, 0, 0, 0],\n",
       "       [0, 0, 0, 0, 0, 0, 0, 0, 0, 0, 0, 0, 0, 0, 1, 0, 0, 0, 1, 0, 0, 0],\n",
       "       [1, 0, 0, 0, 0, 0, 0, 0, 0, 1, 0, 0, 0, 0, 0, 0, 1, 0, 0, 0, 0, 0],\n",
       "       [1, 0, 0, 0, 1, 0, 0, 0, 0, 1, 0, 0, 0, 0, 0, 1, 0, 1, 0, 0, 0, 0],\n",
       "       [0, 0, 0, 0, 0, 0, 0, 0, 0, 0, 0, 0, 0, 1, 0, 0, 1, 0, 0, 0, 0, 0],\n",
       "       [0, 0, 0, 0, 0, 1, 0, 0, 0, 0, 0, 0, 0, 0, 1, 0, 1, 0, 0, 0, 0, 0],\n",
       "       [1, 0, 0, 0, 0, 0, 0, 0, 0, 1, 0, 0, 0, 0, 0, 0, 1, 0, 0, 0, 0, 0],\n",
       "       [0, 0, 0, 0, 0, 0, 0, 0, 1, 0, 0, 0, 0, 0, 0, 1, 1, 0, 0, 0, 0, 0],\n",
       "       [0, 0, 0, 0, 1, 0, 0, 0, 0, 0, 0, 0, 0, 0, 0, 1, 0, 1, 1, 0, 0, 0]])"
      ]
     },
     "execution_count": 33,
     "metadata": {},
     "output_type": "execute_result"
    }
   ],
   "source": [
    "# método toarray()\n",
    "\n",
    "X_train.toarray()"
   ]
  },
  {
   "cell_type": "code",
   "execution_count": 34,
   "metadata": {
    "ExecuteTime": {
     "end_time": "2022-02-21T21:08:25.205016Z",
     "start_time": "2022-02-21T21:08:25.111953Z"
    }
   },
   "outputs": [
    {
     "data": {
      "text/html": [
       "<div>\n",
       "<style scoped>\n",
       "    .dataframe tbody tr th:only-of-type {\n",
       "        vertical-align: middle;\n",
       "    }\n",
       "\n",
       "    .dataframe tbody tr th {\n",
       "        vertical-align: top;\n",
       "    }\n",
       "\n",
       "    .dataframe thead th {\n",
       "        text-align: right;\n",
       "    }\n",
       "</style>\n",
       "<table border=\"1\" class=\"dataframe\">\n",
       "  <thead>\n",
       "    <tr style=\"text-align: right;\">\n",
       "      <th></th>\n",
       "      <th>anexo</th>\n",
       "      <th>aqui</th>\n",
       "      <th>clique</th>\n",
       "      <th>cupom</th>\n",
       "      <th>da</th>\n",
       "      <th>de</th>\n",
       "      <th>desconto</th>\n",
       "      <th>digite</th>\n",
       "      <th>do</th>\n",
       "      <th>em</th>\n",
       "      <th>...</th>\n",
       "      <th>ganhou</th>\n",
       "      <th>hoje</th>\n",
       "      <th>orçamento</th>\n",
       "      <th>pauta</th>\n",
       "      <th>relatório</th>\n",
       "      <th>reunião</th>\n",
       "      <th>segue</th>\n",
       "      <th>senha</th>\n",
       "      <th>sua</th>\n",
       "      <th>você</th>\n",
       "    </tr>\n",
       "  </thead>\n",
       "  <tbody>\n",
       "    <tr>\n",
       "      <th>0</th>\n",
       "      <td>0</td>\n",
       "      <td>0</td>\n",
       "      <td>0</td>\n",
       "      <td>0</td>\n",
       "      <td>0</td>\n",
       "      <td>0</td>\n",
       "      <td>0</td>\n",
       "      <td>1</td>\n",
       "      <td>0</td>\n",
       "      <td>0</td>\n",
       "      <td>...</td>\n",
       "      <td>0</td>\n",
       "      <td>0</td>\n",
       "      <td>0</td>\n",
       "      <td>0</td>\n",
       "      <td>0</td>\n",
       "      <td>0</td>\n",
       "      <td>0</td>\n",
       "      <td>1</td>\n",
       "      <td>1</td>\n",
       "      <td>0</td>\n",
       "    </tr>\n",
       "    <tr>\n",
       "      <th>1</th>\n",
       "      <td>0</td>\n",
       "      <td>1</td>\n",
       "      <td>0</td>\n",
       "      <td>0</td>\n",
       "      <td>0</td>\n",
       "      <td>0</td>\n",
       "      <td>0</td>\n",
       "      <td>1</td>\n",
       "      <td>0</td>\n",
       "      <td>0</td>\n",
       "      <td>...</td>\n",
       "      <td>0</td>\n",
       "      <td>0</td>\n",
       "      <td>0</td>\n",
       "      <td>0</td>\n",
       "      <td>0</td>\n",
       "      <td>0</td>\n",
       "      <td>0</td>\n",
       "      <td>1</td>\n",
       "      <td>1</td>\n",
       "      <td>0</td>\n",
       "    </tr>\n",
       "    <tr>\n",
       "      <th>2</th>\n",
       "      <td>0</td>\n",
       "      <td>1</td>\n",
       "      <td>0</td>\n",
       "      <td>1</td>\n",
       "      <td>0</td>\n",
       "      <td>1</td>\n",
       "      <td>1</td>\n",
       "      <td>0</td>\n",
       "      <td>0</td>\n",
       "      <td>0</td>\n",
       "      <td>...</td>\n",
       "      <td>0</td>\n",
       "      <td>0</td>\n",
       "      <td>0</td>\n",
       "      <td>0</td>\n",
       "      <td>0</td>\n",
       "      <td>0</td>\n",
       "      <td>0</td>\n",
       "      <td>0</td>\n",
       "      <td>0</td>\n",
       "      <td>0</td>\n",
       "    </tr>\n",
       "    <tr>\n",
       "      <th>3</th>\n",
       "      <td>0</td>\n",
       "      <td>0</td>\n",
       "      <td>0</td>\n",
       "      <td>1</td>\n",
       "      <td>0</td>\n",
       "      <td>1</td>\n",
       "      <td>1</td>\n",
       "      <td>0</td>\n",
       "      <td>0</td>\n",
       "      <td>0</td>\n",
       "      <td>...</td>\n",
       "      <td>0</td>\n",
       "      <td>0</td>\n",
       "      <td>0</td>\n",
       "      <td>0</td>\n",
       "      <td>0</td>\n",
       "      <td>0</td>\n",
       "      <td>0</td>\n",
       "      <td>1</td>\n",
       "      <td>0</td>\n",
       "      <td>0</td>\n",
       "    </tr>\n",
       "    <tr>\n",
       "      <th>4</th>\n",
       "      <td>0</td>\n",
       "      <td>1</td>\n",
       "      <td>1</td>\n",
       "      <td>0</td>\n",
       "      <td>0</td>\n",
       "      <td>0</td>\n",
       "      <td>1</td>\n",
       "      <td>0</td>\n",
       "      <td>0</td>\n",
       "      <td>0</td>\n",
       "      <td>...</td>\n",
       "      <td>1</td>\n",
       "      <td>0</td>\n",
       "      <td>0</td>\n",
       "      <td>0</td>\n",
       "      <td>0</td>\n",
       "      <td>0</td>\n",
       "      <td>0</td>\n",
       "      <td>0</td>\n",
       "      <td>0</td>\n",
       "      <td>0</td>\n",
       "    </tr>\n",
       "    <tr>\n",
       "      <th>5</th>\n",
       "      <td>0</td>\n",
       "      <td>0</td>\n",
       "      <td>0</td>\n",
       "      <td>1</td>\n",
       "      <td>0</td>\n",
       "      <td>1</td>\n",
       "      <td>1</td>\n",
       "      <td>0</td>\n",
       "      <td>0</td>\n",
       "      <td>0</td>\n",
       "      <td>...</td>\n",
       "      <td>0</td>\n",
       "      <td>0</td>\n",
       "      <td>0</td>\n",
       "      <td>0</td>\n",
       "      <td>0</td>\n",
       "      <td>0</td>\n",
       "      <td>0</td>\n",
       "      <td>1</td>\n",
       "      <td>0</td>\n",
       "      <td>0</td>\n",
       "    </tr>\n",
       "    <tr>\n",
       "      <th>6</th>\n",
       "      <td>0</td>\n",
       "      <td>0</td>\n",
       "      <td>0</td>\n",
       "      <td>0</td>\n",
       "      <td>0</td>\n",
       "      <td>1</td>\n",
       "      <td>1</td>\n",
       "      <td>0</td>\n",
       "      <td>0</td>\n",
       "      <td>0</td>\n",
       "      <td>...</td>\n",
       "      <td>0</td>\n",
       "      <td>0</td>\n",
       "      <td>0</td>\n",
       "      <td>0</td>\n",
       "      <td>0</td>\n",
       "      <td>0</td>\n",
       "      <td>0</td>\n",
       "      <td>1</td>\n",
       "      <td>0</td>\n",
       "      <td>0</td>\n",
       "    </tr>\n",
       "    <tr>\n",
       "      <th>7</th>\n",
       "      <td>0</td>\n",
       "      <td>1</td>\n",
       "      <td>0</td>\n",
       "      <td>0</td>\n",
       "      <td>0</td>\n",
       "      <td>0</td>\n",
       "      <td>0</td>\n",
       "      <td>0</td>\n",
       "      <td>0</td>\n",
       "      <td>0</td>\n",
       "      <td>...</td>\n",
       "      <td>0</td>\n",
       "      <td>0</td>\n",
       "      <td>0</td>\n",
       "      <td>0</td>\n",
       "      <td>0</td>\n",
       "      <td>0</td>\n",
       "      <td>0</td>\n",
       "      <td>1</td>\n",
       "      <td>1</td>\n",
       "      <td>0</td>\n",
       "    </tr>\n",
       "    <tr>\n",
       "      <th>8</th>\n",
       "      <td>0</td>\n",
       "      <td>1</td>\n",
       "      <td>1</td>\n",
       "      <td>0</td>\n",
       "      <td>0</td>\n",
       "      <td>0</td>\n",
       "      <td>0</td>\n",
       "      <td>0</td>\n",
       "      <td>0</td>\n",
       "      <td>0</td>\n",
       "      <td>...</td>\n",
       "      <td>1</td>\n",
       "      <td>0</td>\n",
       "      <td>0</td>\n",
       "      <td>0</td>\n",
       "      <td>0</td>\n",
       "      <td>0</td>\n",
       "      <td>0</td>\n",
       "      <td>0</td>\n",
       "      <td>0</td>\n",
       "      <td>1</td>\n",
       "    </tr>\n",
       "    <tr>\n",
       "      <th>9</th>\n",
       "      <td>0</td>\n",
       "      <td>0</td>\n",
       "      <td>0</td>\n",
       "      <td>0</td>\n",
       "      <td>0</td>\n",
       "      <td>0</td>\n",
       "      <td>0</td>\n",
       "      <td>0</td>\n",
       "      <td>0</td>\n",
       "      <td>0</td>\n",
       "      <td>...</td>\n",
       "      <td>0</td>\n",
       "      <td>0</td>\n",
       "      <td>0</td>\n",
       "      <td>0</td>\n",
       "      <td>1</td>\n",
       "      <td>0</td>\n",
       "      <td>1</td>\n",
       "      <td>0</td>\n",
       "      <td>0</td>\n",
       "      <td>0</td>\n",
       "    </tr>\n",
       "    <tr>\n",
       "      <th>10</th>\n",
       "      <td>0</td>\n",
       "      <td>0</td>\n",
       "      <td>0</td>\n",
       "      <td>0</td>\n",
       "      <td>0</td>\n",
       "      <td>0</td>\n",
       "      <td>0</td>\n",
       "      <td>0</td>\n",
       "      <td>0</td>\n",
       "      <td>0</td>\n",
       "      <td>...</td>\n",
       "      <td>0</td>\n",
       "      <td>0</td>\n",
       "      <td>1</td>\n",
       "      <td>0</td>\n",
       "      <td>0</td>\n",
       "      <td>0</td>\n",
       "      <td>1</td>\n",
       "      <td>0</td>\n",
       "      <td>0</td>\n",
       "      <td>0</td>\n",
       "    </tr>\n",
       "    <tr>\n",
       "      <th>11</th>\n",
       "      <td>1</td>\n",
       "      <td>0</td>\n",
       "      <td>0</td>\n",
       "      <td>0</td>\n",
       "      <td>0</td>\n",
       "      <td>0</td>\n",
       "      <td>0</td>\n",
       "      <td>0</td>\n",
       "      <td>0</td>\n",
       "      <td>1</td>\n",
       "      <td>...</td>\n",
       "      <td>0</td>\n",
       "      <td>0</td>\n",
       "      <td>0</td>\n",
       "      <td>0</td>\n",
       "      <td>1</td>\n",
       "      <td>0</td>\n",
       "      <td>0</td>\n",
       "      <td>0</td>\n",
       "      <td>0</td>\n",
       "      <td>0</td>\n",
       "    </tr>\n",
       "    <tr>\n",
       "      <th>12</th>\n",
       "      <td>1</td>\n",
       "      <td>0</td>\n",
       "      <td>0</td>\n",
       "      <td>0</td>\n",
       "      <td>1</td>\n",
       "      <td>0</td>\n",
       "      <td>0</td>\n",
       "      <td>0</td>\n",
       "      <td>0</td>\n",
       "      <td>1</td>\n",
       "      <td>...</td>\n",
       "      <td>0</td>\n",
       "      <td>0</td>\n",
       "      <td>0</td>\n",
       "      <td>1</td>\n",
       "      <td>0</td>\n",
       "      <td>1</td>\n",
       "      <td>0</td>\n",
       "      <td>0</td>\n",
       "      <td>0</td>\n",
       "      <td>0</td>\n",
       "    </tr>\n",
       "    <tr>\n",
       "      <th>13</th>\n",
       "      <td>0</td>\n",
       "      <td>0</td>\n",
       "      <td>0</td>\n",
       "      <td>0</td>\n",
       "      <td>0</td>\n",
       "      <td>0</td>\n",
       "      <td>0</td>\n",
       "      <td>0</td>\n",
       "      <td>0</td>\n",
       "      <td>0</td>\n",
       "      <td>...</td>\n",
       "      <td>0</td>\n",
       "      <td>1</td>\n",
       "      <td>0</td>\n",
       "      <td>0</td>\n",
       "      <td>1</td>\n",
       "      <td>0</td>\n",
       "      <td>0</td>\n",
       "      <td>0</td>\n",
       "      <td>0</td>\n",
       "      <td>0</td>\n",
       "    </tr>\n",
       "    <tr>\n",
       "      <th>14</th>\n",
       "      <td>0</td>\n",
       "      <td>0</td>\n",
       "      <td>0</td>\n",
       "      <td>0</td>\n",
       "      <td>0</td>\n",
       "      <td>1</td>\n",
       "      <td>0</td>\n",
       "      <td>0</td>\n",
       "      <td>0</td>\n",
       "      <td>0</td>\n",
       "      <td>...</td>\n",
       "      <td>0</td>\n",
       "      <td>0</td>\n",
       "      <td>1</td>\n",
       "      <td>0</td>\n",
       "      <td>1</td>\n",
       "      <td>0</td>\n",
       "      <td>0</td>\n",
       "      <td>0</td>\n",
       "      <td>0</td>\n",
       "      <td>0</td>\n",
       "    </tr>\n",
       "    <tr>\n",
       "      <th>15</th>\n",
       "      <td>1</td>\n",
       "      <td>0</td>\n",
       "      <td>0</td>\n",
       "      <td>0</td>\n",
       "      <td>0</td>\n",
       "      <td>0</td>\n",
       "      <td>0</td>\n",
       "      <td>0</td>\n",
       "      <td>0</td>\n",
       "      <td>1</td>\n",
       "      <td>...</td>\n",
       "      <td>0</td>\n",
       "      <td>0</td>\n",
       "      <td>0</td>\n",
       "      <td>0</td>\n",
       "      <td>1</td>\n",
       "      <td>0</td>\n",
       "      <td>0</td>\n",
       "      <td>0</td>\n",
       "      <td>0</td>\n",
       "      <td>0</td>\n",
       "    </tr>\n",
       "    <tr>\n",
       "      <th>16</th>\n",
       "      <td>0</td>\n",
       "      <td>0</td>\n",
       "      <td>0</td>\n",
       "      <td>0</td>\n",
       "      <td>0</td>\n",
       "      <td>0</td>\n",
       "      <td>0</td>\n",
       "      <td>0</td>\n",
       "      <td>1</td>\n",
       "      <td>0</td>\n",
       "      <td>...</td>\n",
       "      <td>0</td>\n",
       "      <td>0</td>\n",
       "      <td>0</td>\n",
       "      <td>1</td>\n",
       "      <td>1</td>\n",
       "      <td>0</td>\n",
       "      <td>0</td>\n",
       "      <td>0</td>\n",
       "      <td>0</td>\n",
       "      <td>0</td>\n",
       "    </tr>\n",
       "    <tr>\n",
       "      <th>17</th>\n",
       "      <td>0</td>\n",
       "      <td>0</td>\n",
       "      <td>0</td>\n",
       "      <td>0</td>\n",
       "      <td>1</td>\n",
       "      <td>0</td>\n",
       "      <td>0</td>\n",
       "      <td>0</td>\n",
       "      <td>0</td>\n",
       "      <td>0</td>\n",
       "      <td>...</td>\n",
       "      <td>0</td>\n",
       "      <td>0</td>\n",
       "      <td>0</td>\n",
       "      <td>1</td>\n",
       "      <td>0</td>\n",
       "      <td>1</td>\n",
       "      <td>1</td>\n",
       "      <td>0</td>\n",
       "      <td>0</td>\n",
       "      <td>0</td>\n",
       "    </tr>\n",
       "  </tbody>\n",
       "</table>\n",
       "<p>18 rows × 22 columns</p>\n",
       "</div>"
      ],
      "text/plain": [
       "    anexo  aqui  clique  cupom  da  de  desconto  digite  do  em  ...  ganhou  \\\n",
       "0       0     0       0      0   0   0         0       1   0   0  ...       0   \n",
       "1       0     1       0      0   0   0         0       1   0   0  ...       0   \n",
       "2       0     1       0      1   0   1         1       0   0   0  ...       0   \n",
       "3       0     0       0      1   0   1         1       0   0   0  ...       0   \n",
       "4       0     1       1      0   0   0         1       0   0   0  ...       1   \n",
       "5       0     0       0      1   0   1         1       0   0   0  ...       0   \n",
       "6       0     0       0      0   0   1         1       0   0   0  ...       0   \n",
       "7       0     1       0      0   0   0         0       0   0   0  ...       0   \n",
       "8       0     1       1      0   0   0         0       0   0   0  ...       1   \n",
       "9       0     0       0      0   0   0         0       0   0   0  ...       0   \n",
       "10      0     0       0      0   0   0         0       0   0   0  ...       0   \n",
       "11      1     0       0      0   0   0         0       0   0   1  ...       0   \n",
       "12      1     0       0      0   1   0         0       0   0   1  ...       0   \n",
       "13      0     0       0      0   0   0         0       0   0   0  ...       0   \n",
       "14      0     0       0      0   0   1         0       0   0   0  ...       0   \n",
       "15      1     0       0      0   0   0         0       0   0   1  ...       0   \n",
       "16      0     0       0      0   0   0         0       0   1   0  ...       0   \n",
       "17      0     0       0      0   1   0         0       0   0   0  ...       0   \n",
       "\n",
       "    hoje  orçamento  pauta  relatório  reunião  segue  senha  sua  você  \n",
       "0      0          0      0          0        0      0      1    1     0  \n",
       "1      0          0      0          0        0      0      1    1     0  \n",
       "2      0          0      0          0        0      0      0    0     0  \n",
       "3      0          0      0          0        0      0      1    0     0  \n",
       "4      0          0      0          0        0      0      0    0     0  \n",
       "5      0          0      0          0        0      0      1    0     0  \n",
       "6      0          0      0          0        0      0      1    0     0  \n",
       "7      0          0      0          0        0      0      1    1     0  \n",
       "8      0          0      0          0        0      0      0    0     1  \n",
       "9      0          0      0          1        0      1      0    0     0  \n",
       "10     0          1      0          0        0      1      0    0     0  \n",
       "11     0          0      0          1        0      0      0    0     0  \n",
       "12     0          0      1          0        1      0      0    0     0  \n",
       "13     1          0      0          1        0      0      0    0     0  \n",
       "14     0          1      0          1        0      0      0    0     0  \n",
       "15     0          0      0          1        0      0      0    0     0  \n",
       "16     0          0      1          1        0      0      0    0     0  \n",
       "17     0          0      1          0        1      1      0    0     0  \n",
       "\n",
       "[18 rows x 22 columns]"
      ]
     },
     "execution_count": 34,
     "metadata": {},
     "output_type": "execute_result"
    }
   ],
   "source": [
    "# se quiser transformar num dataframe...\n",
    "\n",
    "pd.DataFrame(X_train.toarray(), columns=vec.get_feature_names_out())"
   ]
  },
  {
   "cell_type": "markdown",
   "metadata": {},
   "source": [
    "Agora que o pré-processamento foi feito, podemos treinar o NB!\n",
    "\n",
    "A classe do modelo que discutimos acima é o [MultinomialNB](https://scikit-learn.org/stable/modules/generated/sklearn.naive_bayes.MultinomialNB.html#sklearn.naive_bayes.MultinomialNB). Note que há pouquíssimos hiperparâmetros, dada a simplicidade deste método!"
   ]
  },
  {
   "cell_type": "code",
   "execution_count": 35,
   "metadata": {
    "ExecuteTime": {
     "end_time": "2022-02-21T21:08:25.299719Z",
     "start_time": "2022-02-21T21:08:25.209996Z"
    }
   },
   "outputs": [],
   "source": [
    "# importando o NB\n",
    "from sklearn.naive_bayes import MultinomialNB\n",
    "\n",
    "# instanciando e treinando - não precisa mudar nenhum hiperparametro\n",
    "nb = MultinomialNB().fit(X_train, y_train)"
   ]
  },
  {
   "cell_type": "code",
   "execution_count": 36,
   "metadata": {
    "ExecuteTime": {
     "end_time": "2022-02-21T21:08:25.662664Z",
     "start_time": "2022-02-21T21:08:25.556395Z"
    }
   },
   "outputs": [
    {
     "data": {
      "text/plain": [
       "array(['spam', 'spam', 'ham', 'ham'], dtype='<U4')"
      ]
     },
     "execution_count": 36,
     "metadata": {},
     "output_type": "execute_result"
    }
   ],
   "source": [
    "# fazendo predições com o predict \n",
    "\n",
    "nb.predict(X_test)"
   ]
  },
  {
   "cell_type": "code",
   "execution_count": 37,
   "metadata": {
    "ExecuteTime": {
     "end_time": "2022-02-21T21:08:25.757902Z",
     "start_time": "2022-02-21T21:08:25.665645Z"
    }
   },
   "outputs": [
    {
     "data": {
      "text/plain": [
       "0    spam\n",
       "1    spam\n",
       "2     ham\n",
       "3     ham\n",
       "Name: y, dtype: object"
      ]
     },
     "execution_count": 37,
     "metadata": {},
     "output_type": "execute_result"
    }
   ],
   "source": [
    "# comparando com o target real\n",
    "\n",
    "y_test"
   ]
  },
  {
   "cell_type": "code",
   "execution_count": 38,
   "metadata": {
    "ExecuteTime": {
     "end_time": "2022-02-21T21:08:25.899500Z",
     "start_time": "2022-02-21T21:08:25.760900Z"
    }
   },
   "outputs": [
    {
     "data": {
      "text/plain": [
       "array([[3.62000828e-03, 9.96379992e-01],\n",
       "       [3.62252491e-01, 6.37747509e-01],\n",
       "       [9.99379396e-01, 6.20604210e-04],\n",
       "       [9.80534016e-01, 1.94659839e-02]])"
      ]
     },
     "execution_count": 38,
     "metadata": {},
     "output_type": "execute_result"
    }
   ],
   "source": [
    "# predict_proba dá o p(y|x)\n",
    "\n",
    "nb.predict_proba(X_test)"
   ]
  },
  {
   "cell_type": "markdown",
   "metadata": {},
   "source": [
    "Vamos comparar com as probabilidades que encontramos na mão antes:"
   ]
  },
  {
   "cell_type": "code",
   "execution_count": 39,
   "metadata": {
    "ExecuteTime": {
     "end_time": "2022-02-21T21:08:26.026006Z",
     "start_time": "2022-02-21T21:08:25.902521Z"
    }
   },
   "outputs": [
    {
     "data": {
      "text/plain": [
       "[[0.0037432317333029623, 0.9962567682666971],\n",
       " [0.3720096250701751, 0.6279903749298248],\n",
       " [0.9997462657749197, 0.00025373422508033315],\n",
       " [0.9810091842247434, 0.018990815775256617]]"
      ]
     },
     "execution_count": 39,
     "metadata": {},
     "output_type": "execute_result"
    }
   ],
   "source": [
    "lista_probs"
   ]
  },
  {
   "cell_type": "markdown",
   "metadata": {},
   "source": [
    "O valor não bate na vírgula, mas é bem próximo!"
   ]
  },
  {
   "cell_type": "markdown",
   "metadata": {},
   "source": [
    "Esse é o Naive Bayes! :)\n",
    "\n",
    "Vamos agora entender um pouco mais da matemática por trás deste método!"
   ]
  },
  {
   "cell_type": "markdown",
   "metadata": {},
   "source": [
    "_____\n",
    "_____\n",
    "_____"
   ]
  },
  {
   "cell_type": "markdown",
   "metadata": {
    "ExecuteTime": {
     "end_time": "2021-09-16T16:08:15.515224Z",
     "start_time": "2021-09-16T16:08:15.447243Z"
    }
   },
   "source": [
    "## 3) A matemática do Naive Bayes\n",
    "\n",
    "Agora que vimos o Naive Bayes em ação, vamos entender um pouco mais formalmente o seu funcionamento!\n",
    "\n",
    "Considere novamente o teorema de Bayes\n",
    "\n",
    "$P(A \\mid B) = \\frac{P(B \\mid A)P(A)}{P(B)}$\n",
    "\n",
    "\n",
    "Considerando que o evento $A$ é o target $y$; e que o evento $B$ é o conjunto de features $\\vec{x} = (x_1, x_2, ..., x_n) $, temos que:\n",
    "\n",
    "$P(y \\mid \\vec{x}) = \\frac{ P(\\vec{x} \\mid y) P(y)}{P(\\vec{x})}$\n",
    "\n",
    "Note que o termo do denominador, $P(\\vec{x})$, é independente de $y$. Portanto, dado que queremos usar o método para classificação (ou seja, **determinação da separabilidade dos dados no que diz respeito a $y$**), podemos desconsiderar o denominador, e dizer simplesmente que:\n",
    "\n",
    "$P(y \\mid \\vec{x}) \\propto P(\\vec{x} \\mid y) P(y) \\ , $\n",
    "\n",
    "que é exatamente o que fizemos no exemplo acima, quando falamos que o que importa pra previsão final é a diferença relativa de probabilidades, não seu valor absoluto, por isso a proporcionalidade basta, e não precisamos nos preocupar com $P(\\vec{x})$."
   ]
  },
  {
   "cell_type": "markdown",
   "metadata": {
    "ExecuteTime": {
     "end_time": "2021-09-16T16:08:15.515224Z",
     "start_time": "2021-09-16T16:08:15.447243Z"
    }
   },
   "source": [
    "                                 \n",
    "A ideia do Naive Bayes (um método de **classificação**) é bem simples:\n",
    "\n",
    "- Inicialmente, temos uma crença inicial sobre a probabilidade de que as observações pertencem a cada classe: a probabilidade a priori $P(y)$, que é simplesmente a proporção de cada classe (`value_counts`);\n",
    "\n",
    "- Como podemos mudar esta crença inicial ao considerarmos as likelihoods $P(\\vec{x} \\mid y)$ (ou seja, as probabilidades **das features de uma observação terem determinado valor, dado que a observação pertence à classe y?**"
   ]
  },
  {
   "cell_type": "markdown",
   "metadata": {
    "ExecuteTime": {
     "end_time": "2021-09-16T16:08:15.515224Z",
     "start_time": "2021-09-16T16:08:15.447243Z"
    }
   },
   "source": [
    "Note que o cálculo da probabilidade likelihood não é trivial **se as features forem dependentes entre si**. Pra entender isso, vamos pensar no caso de 3 features apenas, $\\vec{x} = (x_1, x_2, x_3)$. \n",
    "\n",
    "Note que $P(\\vec{x} \\mid y) P(y)$ é exatamente equivalente à **probabilidade conjunta** $P(\\vec{x}, y)$, ou seja, $P(\\vec{x} \\mid y) P(y) = P(\\vec{x}, y)$. Assim, no nosso caso, temos:\n",
    "\n",
    "$P(x_1, x_2, x_3 \\mid y) P(y) = P(x_1, x_2, x_3, y) $\n",
    "\n",
    "Podemos escrever esta probabilidade conjunta, de acordo com a [regra da cadeia](https://en.wikipedia.org/wiki/Chain_rule_(probability)) para probabilidades condicionais conforme:\n",
    "\n",
    "$ P(x_1, x_2, x_3, y) = P(x_1 \\mid x_2, x_3, y) P(x_2 \\mid x_3, y) P (x_3 \\mid y) P(y) $\n",
    "\n",
    "Note que os termos iniciais desse produto não são triviais, segundo nossa intuição: seria legal se tivéssemos apenas termos parecidos com o penúltimo termo, não é mesmo?"
   ]
  },
  {
   "cell_type": "markdown",
   "metadata": {
    "ExecuteTime": {
     "end_time": "2021-09-16T16:08:15.515224Z",
     "start_time": "2021-09-16T16:08:15.447243Z"
    }
   },
   "source": [
    "É aqui que entra o \"naive\" que nomeia o método: vamos assumir **independência condicional** entre as features, ou seja, assumimos que as features são **mutuamente independentes** quando condicionadas à $y$. Isso equivale a dizer que:\n",
    "\n",
    "$P(x_i \\mid x_{i+1}, \\cdots , x_n, y) = P(x_i \\mid y)$\n",
    "\n",
    "Ou, no nosso exemplo,\n",
    "\n",
    "- $P(x_1 \\mid x_2, x_3, y) = P(x_1 \\mid y)$\n",
    "\n",
    "- $P(x_2 \\mid x_3, y) = P(x_2 \\mid y)$\n",
    "\n",
    "Assim, seguindo a hipótese **naive**, temos que:\n",
    "\n",
    "$ P(x_1, x_2, x_3, y) \\approx P(x_1 \\mid y) P(x_2 \\mid y) P (x_3 \\mid y) P(y) $\n",
    "\n",
    "Ou, de maneira mais genérica,\n",
    "\n",
    "$ P(\\vec{x}, y) = P(y) \\prod_{i=1}^{n} P(x_i \\mid y) $\n",
    "\n",
    "Ou, ainda, pensando apenas na probabilidade condicional (como introduzimos na seção prática acima), temos:\n",
    "\n",
    "$P(\\vec{x} \\mid y) = \\prod_{i=1}^{n} P(x_i \\mid y) $\n",
    "\n",
    "Sendo assim, escrevemos a **posteriori** como:\n",
    "\n",
    "$$ P(y \\mid \\vec{x}) \\propto P(y) \\prod_{i=1}^{n} P(x_i \\mid y) $$\n",
    "\n",
    "Isso foi exatamente o que usamos na implementação acima! Com a distinção de que, claro, tomamos o target predito como sendo aquele que **maximiza** a posteriori, isso é,\n",
    "\n",
    "$$ \\boxed{\\hat{y} = \\arg\\max_y \\left ( P(y) \\prod_{i=1}^{n} P(x_i \\mid y)  \\right )}$$\n",
    "\n",
    "A equação acima pode ser vista como a hipótese atrelada ao Naive Bayes. Note que não há parametrização explícita, e que (como vimos no exemplo), sua aplicação é rápida e direta!"
   ]
  },
  {
   "cell_type": "markdown",
   "metadata": {
    "ExecuteTime": {
     "end_time": "2021-09-16T16:08:15.515224Z",
     "start_time": "2021-09-16T16:08:15.447243Z"
    }
   },
   "source": [
    "______\n",
    "\n",
    "Entendido o método, algumas observações importantes:\n",
    "\n",
    "A suposição de independência condicional das features é **muito forte**, e em casos práticos não ocorre com frequência, o que acaba sendo uma grande desvantagem do Naive Bayes. \n",
    "\n",
    "Porém, por não ter nenhum hiperparâmetro a ser ajustado, e ser extremamente simples e rápido, o Naive Bayes é comumente utilizado como um primeiro modelo (*baseline*), ou seja, primeira passada pelo ciclo. \n",
    "\n",
    "Por outro lado, embora o método não seja robusto para problemas genéricos de classificação, é conhecido que o Naive Bayes funciona de forma satisfatória para problemas que envolvem texto (**tarefas de Natural Language Processing - NLP**), como o que vimos no exemplo."
   ]
  },
  {
   "cell_type": "markdown",
   "metadata": {
    "ExecuteTime": {
     "end_time": "2021-09-16T16:08:15.515224Z",
     "start_time": "2021-09-16T16:08:15.447243Z"
    }
   },
   "source": [
    "> Interlúdio matemático: O Naive Bayes é fundamentalmente diferente dos classificadores que estudamos até o momento. <br><br>\n",
    "De um ponto de vista probabilístico, os algoritmos que estudamos até o momento tinham como objetivo (direto ou indireto) modelar $P(y \\mid \\vec{x})$, ou seja, **determinar o target $y$ como sendo condicionado pelas features $\\vec{x}$**. Por este motivo, eles são conhecidos como **classificadores discriminativos**, pois o objetivo é separar (discriminar) o target, gerando uma **fronteira de decisão** aprendida com base nas features.<br><br> \n",
    "Por outro lado, o Naive Bayes é um exemplo **classificador generativo**, pois o que ele estima é, na verdade, $P(\\vec{x} \\mid y)$. A ideia aqui é bem diferente: nós **utilizamos o target para determinar quais features são mais adequadas àquele valor de target**. Por este motivo, é possível utilizar modelos deste tipo para **gerar novas observações**, baseadas no que foi aprendido (um uso interessante de modelos generativos é justamente no [oversampling!](https://arxiv.org/pdf/2005.03773.pdf)).<br><br>\n",
    "[Neste post](https://www.analyticsvidhya.com/blog/2021/07/deep-understanding-of-discriminative-and-generative-models-in-machine-learning/), a diferença entre estes métodos é explorada de maneira mais conceitual. [Neste ótimo material](http://cs229.stanford.edu/notes-spring2019/cs229-notes2.pdf), a discussão toma um rumo mais matemático. E para ainda mais detalhes matemáticos, recomendo [este artigo](http://ai.stanford.edu/~ang/papers/nips01-discriminativegenerative.pdf)."
   ]
  },
  {
   "cell_type": "markdown",
   "metadata": {},
   "source": [
    "<img src=\"https://miro.medium.com/max/500/1*1jV03DHuQeVkdzUKrwmX4w.png\">"
   ]
  },
  {
   "cell_type": "markdown",
   "metadata": {},
   "source": [
    "_____\n",
    "_____\n",
    "____"
   ]
  },
  {
   "cell_type": "markdown",
   "metadata": {
    "ExecuteTime": {
     "end_time": "2021-09-16T16:08:15.515224Z",
     "start_time": "2021-09-16T16:08:15.447243Z"
    }
   },
   "source": [
    "\n",
    "## 4) Outras versões do Naive Bayes\n",
    "\n",
    "Para aplicação no sklearn, existem algumas possibilidades diferentes de implementações do Naive Bayes. No submódulo [sklearn.naive_bayes](https://scikit-learn.org/stable/modules/classes.html#module-sklearn.naive_bayes) você pode encontrá-las. As três versões mais utilizadas são:\n",
    "\n",
    "\n",
    "- [MultinomialNB](https://scikit-learn.org/stable/modules/generated/sklearn.naive_bayes.MultinomialNB.html#sklearn.naive_bayes.MultinomialNB) - essa é a versão do modelo que estudamos acima. Ele admite apenas **features discretas** que representam **contagens de ocorrência**, ou seja, **frequência absoluta**. Por este motivo, o método associa a [distribuição multinomial](https://en.wikipedia.org/wiki/Multinomial_distribution) às likelihoods $P(x_i \\mid y)$.\n",
    "- [BernoulliNB](https://scikit-learn.org/stable/modules/generated/sklearn.naive_bayes.BernoulliNB.html#sklearn.naive_bayes.BernoulliNB) - esta versão também é adequada para o uso de features discretas, mas deve ser utilizada quando há **features binárias**, isto é, tal que $P(x_i \\mid y)$ seguem uma [distribuição de bernoulli](https://en.wikipedia.org/wiki/Bernoulli_distribution): $P(x_i \\mid y) = P(i \\mid y) x_i + (1 - P(i \\mid y)) (1 - x_i)$.\n",
    "- [GaussianNB](https://scikit-learn.org/stable/modules/generated/sklearn.naive_bayes.GaussianNB.html#sklearn.naive_bayes.GaussianNB) - esta versão pode ser utilizada para features contínuas, que são assumidas estarem [normalmente distribuídas](https://en.wikipedia.org/wiki/Normal_distribution), isto é, $P(x_i \\mid y) = \\frac{1}{\\sqrt{2\\pi\\sigma^2_y}} \\exp\\left(-\\frac{(x_i - \\mu_y)^2}{2\\sigma^2_y}\\right)$. \n",
    "\n",
    "Todos os métodos NB são bem simples, rápidos e com pouquíssimos hiperparâmetros a serem ajustados. Escolha o método adequado para os seus dados, e os experimente!"
   ]
  },
  {
   "cell_type": "code",
   "execution_count": 40,
   "metadata": {
    "ExecuteTime": {
     "end_time": "2022-02-21T21:09:09.129317Z",
     "start_time": "2022-02-21T21:09:06.712859Z"
    }
   },
   "outputs": [],
   "source": [
    "import pandas as pd\n",
    "from sklearn.model_selection import train_test_split\n",
    "\n",
    "from sklearn.metrics import confusion_matrix, classification_report, ConfusionMatrixDisplay\n",
    "\n",
    "import matplotlib.pyplot as plt"
   ]
  },
  {
   "cell_type": "code",
   "execution_count": 41,
   "metadata": {
    "ExecuteTime": {
     "end_time": "2022-02-21T21:09:09.161244Z",
     "start_time": "2022-02-21T21:09:09.132240Z"
    }
   },
   "outputs": [],
   "source": [
    "from sklearn.naive_bayes import GaussianNB"
   ]
  },
  {
   "cell_type": "markdown",
   "metadata": {},
   "source": [
    "Credit risk dataset, só com features numéricas"
   ]
  },
  {
   "cell_type": "code",
   "execution_count": 42,
   "metadata": {
    "ExecuteTime": {
     "end_time": "2022-02-21T21:09:23.895023Z",
     "start_time": "2022-02-21T21:09:23.865040Z"
    }
   },
   "outputs": [],
   "source": [
    "df = pd.read_csv(\"../datasets/german_credit_data.csv\", index_col=0)\n",
    "\n",
    "df_model = df.select_dtypes(include=np.number)\n",
    "df_model = pd.concat([df_model, df[\"Risk\"]], axis=1)\n",
    "\n",
    "X = df_model.drop(columns=\"Risk\")\n",
    "y = df_model[\"Risk\"]\n",
    "\n",
    "X_train, X_test, y_train, y_test = train_test_split(X, y, test_size=0.2, random_state=42, stratify=y)"
   ]
  },
  {
   "cell_type": "code",
   "execution_count": 43,
   "metadata": {
    "ExecuteTime": {
     "end_time": "2022-02-21T21:09:27.680897Z",
     "start_time": "2022-02-21T21:09:27.177106Z"
    }
   },
   "outputs": [
    {
     "name": "stdout",
     "output_type": "stream",
     "text": [
      "\n",
      "Métricas de avaliação de treino:\n",
      "[[ 57 183]\n",
      " [ 51 509]]\n"
     ]
    },
    {
     "data": {
      "image/png": "[encoded data removed]",
      "text/plain": [
       "<Figure size 432x288 with 2 Axes>"
      ]
     },
     "metadata": {
      "needs_background": "light"
     },
     "output_type": "display_data"
    },
    {
     "name": "stdout",
     "output_type": "stream",
     "text": [
      "              precision    recall  f1-score   support\n",
      "\n",
      "         bad       0.53      0.24      0.33       240\n",
      "        good       0.74      0.91      0.81       560\n",
      "\n",
      "    accuracy                           0.71       800\n",
      "   macro avg       0.63      0.57      0.57       800\n",
      "weighted avg       0.67      0.71      0.67       800\n",
      "\n",
      "\n",
      "Métricas de avaliação de teste:\n",
      "[[ 17  43]\n",
      " [ 15 125]]\n"
     ]
    },
    {
     "data": {
      "image/png": "[encoded data removed]",
      "text/plain": [
       "<Figure size 432x288 with 2 Axes>"
      ]
     },
     "metadata": {
      "needs_background": "light"
     },
     "output_type": "display_data"
    },
    {
     "name": "stdout",
     "output_type": "stream",
     "text": [
      "              precision    recall  f1-score   support\n",
      "\n",
      "         bad       0.53      0.28      0.37        60\n",
      "        good       0.74      0.89      0.81       140\n",
      "\n",
      "    accuracy                           0.71       200\n",
      "   macro avg       0.64      0.59      0.59       200\n",
      "weighted avg       0.68      0.71      0.68       200\n",
      "\n"
     ]
    }
   ],
   "source": [
    "# ============================================\n",
    "\n",
    "gnb = GaussianNB().fit(X_train, y_train)\n",
    "\n",
    "# ============================================\n",
    "\n",
    "print(\"\\nMétricas de avaliação de treino:\")\n",
    "\n",
    "y_pred_train = gnb.predict(X_train)\n",
    "\n",
    "print(confusion_matrix(y_train, y_pred_train))\n",
    "\n",
    "ConfusionMatrixDisplay.from_predictions(y_train, y_pred_train)\n",
    "plt.show()\n",
    "\n",
    "print(classification_report(y_train, y_pred_train))\n",
    "\n",
    "# ============================================\n",
    "\n",
    "print(\"\\nMétricas de avaliação de teste:\")\n",
    "\n",
    "y_pred_test = gnb.predict(X_test)\n",
    "\n",
    "print(confusion_matrix(y_test, y_pred_test))\n",
    "\n",
    "ConfusionMatrixDisplay.from_predictions(y_test, y_pred_test)\n",
    "plt.show()\n",
    "\n",
    "print(classification_report(y_test, y_pred_test))"
   ]
  },
  {
   "cell_type": "markdown",
   "metadata": {},
   "source": [
    "Agora, com o multinomial NB..."
   ]
  },
  {
   "cell_type": "code",
   "execution_count": 44,
   "metadata": {
    "ExecuteTime": {
     "end_time": "2022-02-21T21:10:38.952428Z",
     "start_time": "2022-02-21T21:10:38.514529Z"
    }
   },
   "outputs": [
    {
     "name": "stdout",
     "output_type": "stream",
     "text": [
      "\n",
      "Métricas de avaliação de treino:\n",
      "[[100 140]\n",
      " [154 406]]\n"
     ]
    },
    {
     "data": {
      "image/png": "[encoded data removed]",
      "text/plain": [
       "<Figure size 432x288 with 2 Axes>"
      ]
     },
     "metadata": {
      "needs_background": "light"
     },
     "output_type": "display_data"
    },
    {
     "name": "stdout",
     "output_type": "stream",
     "text": [
      "              precision    recall  f1-score   support\n",
      "\n",
      "         bad       0.39      0.42      0.40       240\n",
      "        good       0.74      0.72      0.73       560\n",
      "\n",
      "    accuracy                           0.63       800\n",
      "   macro avg       0.57      0.57      0.57       800\n",
      "weighted avg       0.64      0.63      0.64       800\n",
      "\n",
      "\n",
      "Métricas de avaliação de teste:\n",
      "[[26 34]\n",
      " [45 95]]\n"
     ]
    },
    {
     "data": {
      "image/png": "[encoded data removed]",
      "text/plain": [
       "<Figure size 432x288 with 2 Axes>"
      ]
     },
     "metadata": {
      "needs_background": "light"
     },
     "output_type": "display_data"
    },
    {
     "name": "stdout",
     "output_type": "stream",
     "text": [
      "              precision    recall  f1-score   support\n",
      "\n",
      "         bad       0.37      0.43      0.40        60\n",
      "        good       0.74      0.68      0.71       140\n",
      "\n",
      "    accuracy                           0.60       200\n",
      "   macro avg       0.55      0.56      0.55       200\n",
      "weighted avg       0.63      0.60      0.61       200\n",
      "\n"
     ]
    }
   ],
   "source": [
    "# ============================================\n",
    "\n",
    "mnb = MultinomialNB().fit(X_train, y_train)\n",
    "\n",
    "# ============================================\n",
    "\n",
    "print(\"\\nMétricas de avaliação de treino:\")\n",
    "\n",
    "y_pred_train = mnb.predict(X_train)\n",
    "\n",
    "print(confusion_matrix(y_train, y_pred_train))\n",
    "\n",
    "ConfusionMatrixDisplay.from_predictions(y_train, y_pred_train)\n",
    "plt.show()\n",
    "\n",
    "print(classification_report(y_train, y_pred_train))\n",
    "\n",
    "# ============================================\n",
    "\n",
    "print(\"\\nMétricas de avaliação de teste:\")\n",
    "\n",
    "y_pred_test = mnb.predict(X_test)\n",
    "\n",
    "print(confusion_matrix(y_test, y_pred_test))\n",
    "\n",
    "ConfusionMatrixDisplay.from_predictions(y_test, y_pred_test)\n",
    "plt.show()\n",
    "\n",
    "print(classification_report(y_test, y_pred_test))"
   ]
  },
  {
   "cell_type": "markdown",
   "metadata": {},
   "source": [
    "Já com o Bernoulli..."
   ]
  },
  {
   "cell_type": "code",
   "execution_count": 45,
   "metadata": {
    "ExecuteTime": {
     "end_time": "2022-02-21T21:11:57.914879Z",
     "start_time": "2022-02-21T21:11:57.908885Z"
    }
   },
   "outputs": [],
   "source": [
    "from sklearn.naive_bayes import BernoulliNB"
   ]
  },
  {
   "cell_type": "code",
   "execution_count": 46,
   "metadata": {
    "ExecuteTime": {
     "end_time": "2022-02-21T21:12:00.807714Z",
     "start_time": "2022-02-21T21:12:00.194062Z"
    }
   },
   "outputs": [
    {
     "name": "stdout",
     "output_type": "stream",
     "text": [
      "\n",
      "Métricas de avaliação de treino:\n",
      "[[  0 240]\n",
      " [  0 560]]\n"
     ]
    },
    {
     "data": {
      "image/png": "[encoded data removed]",
      "text/plain": [
       "<Figure size 432x288 with 2 Axes>"
      ]
     },
     "metadata": {
      "needs_background": "light"
     },
     "output_type": "display_data"
    },
    {
     "name": "stdout",
     "output_type": "stream",
     "text": [
      "              precision    recall  f1-score   support\n",
      "\n",
      "         bad       0.00      0.00      0.00       240\n",
      "        good       0.70      1.00      0.82       560\n",
      "\n",
      "    accuracy                           0.70       800\n",
      "   macro avg       0.35      0.50      0.41       800\n",
      "weighted avg       0.49      0.70      0.58       800\n",
      "\n",
      "\n",
      "Métricas de avaliação de teste:\n",
      "[[  0  60]\n",
      " [  0 140]]\n"
     ]
    },
    {
     "name": "stderr",
     "output_type": "stream",
     "text": [
      "/Users/baiochi/opt/anaconda3/lib/python3.9/site-packages/sklearn/metrics/_classification.py:1318: UndefinedMetricWarning: Precision and F-score are ill-defined and being set to 0.0 in labels with no predicted samples. Use `zero_division` parameter to control this behavior.\n",
      "  _warn_prf(average, modifier, msg_start, len(result))\n",
      "/Users/baiochi/opt/anaconda3/lib/python3.9/site-packages/sklearn/metrics/_classification.py:1318: UndefinedMetricWarning: Precision and F-score are ill-defined and being set to 0.0 in labels with no predicted samples. Use `zero_division` parameter to control this behavior.\n",
      "  _warn_prf(average, modifier, msg_start, len(result))\n",
      "/Users/baiochi/opt/anaconda3/lib/python3.9/site-packages/sklearn/metrics/_classification.py:1318: UndefinedMetricWarning: Precision and F-score are ill-defined and being set to 0.0 in labels with no predicted samples. Use `zero_division` parameter to control this behavior.\n",
      "  _warn_prf(average, modifier, msg_start, len(result))\n"
     ]
    },
    {
     "data": {
      "image/png": "[encoded data removed]",
      "text/plain": [
       "<Figure size 432x288 with 2 Axes>"
      ]
     },
     "metadata": {
      "needs_background": "light"
     },
     "output_type": "display_data"
    },
    {
     "name": "stdout",
     "output_type": "stream",
     "text": [
      "              precision    recall  f1-score   support\n",
      "\n",
      "         bad       0.00      0.00      0.00        60\n",
      "        good       0.70      1.00      0.82       140\n",
      "\n",
      "    accuracy                           0.70       200\n",
      "   macro avg       0.35      0.50      0.41       200\n",
      "weighted avg       0.49      0.70      0.58       200\n",
      "\n"
     ]
    },
    {
     "name": "stderr",
     "output_type": "stream",
     "text": [
      "/Users/baiochi/opt/anaconda3/lib/python3.9/site-packages/sklearn/metrics/_classification.py:1318: UndefinedMetricWarning: Precision and F-score are ill-defined and being set to 0.0 in labels with no predicted samples. Use `zero_division` parameter to control this behavior.\n",
      "  _warn_prf(average, modifier, msg_start, len(result))\n",
      "/Users/baiochi/opt/anaconda3/lib/python3.9/site-packages/sklearn/metrics/_classification.py:1318: UndefinedMetricWarning: Precision and F-score are ill-defined and being set to 0.0 in labels with no predicted samples. Use `zero_division` parameter to control this behavior.\n",
      "  _warn_prf(average, modifier, msg_start, len(result))\n",
      "/Users/baiochi/opt/anaconda3/lib/python3.9/site-packages/sklearn/metrics/_classification.py:1318: UndefinedMetricWarning: Precision and F-score are ill-defined and being set to 0.0 in labels with no predicted samples. Use `zero_division` parameter to control this behavior.\n",
      "  _warn_prf(average, modifier, msg_start, len(result))\n"
     ]
    }
   ],
   "source": [
    "# ============================================\n",
    "\n",
    "bnb = BernoulliNB().fit(X_train, y_train)\n",
    "\n",
    "# ============================================\n",
    "\n",
    "print(\"\\nMétricas de avaliação de treino:\")\n",
    "\n",
    "y_pred_train = bnb.predict(X_train)\n",
    "\n",
    "print(confusion_matrix(y_train, y_pred_train))\n",
    "\n",
    "ConfusionMatrixDisplay.from_predictions(y_train, y_pred_train)\n",
    "plt.show()\n",
    "\n",
    "print(classification_report(y_train, y_pred_train))\n",
    "\n",
    "# ============================================\n",
    "\n",
    "print(\"\\nMétricas de avaliação de teste:\")\n",
    "\n",
    "y_pred_test = bnb.predict(X_test)\n",
    "\n",
    "print(confusion_matrix(y_test, y_pred_test))\n",
    "\n",
    "ConfusionMatrixDisplay.from_predictions(y_test, y_pred_test)\n",
    "plt.show()\n",
    "\n",
    "print(classification_report(y_test, y_pred_test))"
   ]
  },
  {
   "cell_type": "markdown",
   "metadata": {},
   "source": [
    "____\n",
    "____\n",
    "____"
   ]
  }
 ],
 "metadata": {
  "kernelspec": {
   "display_name": "Python 3",
   "language": "python",
   "name": "python3"
  },
  "language_info": {
   "codemirror_mode": {
    "name": "ipython",
    "version": 3
   },
   "file_extension": ".py",
   "mimetype": "text/x-python",
   "name": "python",
   "nbconvert_exporter": "python",
   "pygments_lexer": "ipython3",
   "version": "3.9.7"
  }
 },
 "nbformat": 4,
 "nbformat_minor": 2
}
