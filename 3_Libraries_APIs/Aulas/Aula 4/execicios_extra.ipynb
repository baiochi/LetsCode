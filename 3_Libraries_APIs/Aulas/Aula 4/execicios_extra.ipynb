{
 "cells": [
  {
   "cell_type": "markdown",
   "id": "transsexual-overview",
   "metadata": {},
   "source": [
    "#### Exercício 1\n",
    "\n",
    "Faça a leitura do arquivo casas.csv e renomeie as colunas de acordo com a regra abaixo:\n",
    "\n",
    "```yaml\n",
    "{\n",
    "   \"LotFrontage\": \"FACHADA\",\n",
    "   \"LotArea\": \"AREA\",\n",
    "   \"Street\": \"RUA\",\n",
    "   \"Condition1\": \"CONDICAO1\",\n",
    "   \"Condition2\": \"CONDICAO2\",\n",
    "   \"YearBuilt\": \"ANO_CONSTRUCAO\",\n",
    "   \"ExterQual\": \"QUALIDADE_EXTERNA\",\n",
    "   \"FullBath\": \"BANHEIROS\",\n",
    "   \"BedroomAbvGr\": \"QUARTOS\",\n",
    "   \"Color\": \"COR\",\n",
    "   \"email_info\": \"EMAIL_INFO\",\n",
    "   \"SalePrice\": \"VALOR_VENDA\",\n",
    "}\n",
    "```\n",
    "\n",
    "Utilize o método .info() para verificar as informações sobre o DataFrame. Existem dados faltantes?"
   ]
  },
  {
   "cell_type": "code",
   "execution_count": null,
   "id": "frank-summary",
   "metadata": {},
   "outputs": [],
   "source": []
  },
  {
   "cell_type": "markdown",
   "id": "adjustable-alaska",
   "metadata": {},
   "source": [
    "#### Exercício 2\n",
    "\n",
    "Utilize o dataset casas.csv.\n",
    "\n",
    "Verifique se o dataset possui dados duplicados e trate-os com o .drop_duplicates(). Quantos dados duplicados existiam no DataFrame original?"
   ]
  },
  {
   "cell_type": "code",
   "execution_count": null,
   "id": "occasional-liberty",
   "metadata": {},
   "outputs": [],
   "source": []
  },
  {
   "cell_type": "markdown",
   "id": "returning-trance",
   "metadata": {},
   "source": [
    "#### Exercício 3\n",
    "\n",
    "Após tratar os dados duplicados, verifique se há dados faltantes no seu DataFrame. Trate cada coluna com dados faltantes separadamente, de maneira que não haja mais esse problema.\n",
    "\n",
    "Dica: utilize o .fillna()"
   ]
  },
  {
   "cell_type": "code",
   "execution_count": null,
   "id": "prompt-mathematics",
   "metadata": {},
   "outputs": [],
   "source": []
  },
  {
   "cell_type": "markdown",
   "id": "demographic-pointer",
   "metadata": {},
   "source": [
    "#### Exercício 4\n",
    "\n",
    "Utilize o método .describe() para analisar as colunas do seu DataFrame. Alguma coluna possui dados inconsistentes? Trate esse problema da maneira que achar adequada e, depois, monte uma pivot_table em que as linhas são o número de banheiros, as colunas são o número de quartos e os valores são os preçoes de venda agrupados pela mediana.\n",
    "\n",
    "Dica: faz sentido uma casa com -10 banheiros?\n",
    "\n",
    "**DESAFIO**: monte um segundo pivot_table, mas com a contagem proporcional de apartamentos em vez da mediana"
   ]
  },
  {
   "cell_type": "code",
   "execution_count": null,
   "id": "forced-nomination",
   "metadata": {},
   "outputs": [],
   "source": []
  },
  {
   "cell_type": "markdown",
   "id": "polar-flash",
   "metadata": {},
   "source": [
    "#### Exercício 5\n",
    "\n",
    "Depois de realizar todos os tratamentos necessários, analise os dados para responder as perguntas abaixo com VERDADEIRO ou FALSO. O seu código deve justificar as respostas:\n",
    "\n",
    "1. Imóveis mais antigos são mais caros (V ou F)\n",
    "2. Imóveis maiores são mais caros (V ou F)\n",
    "3. Quanto maior o número de banheiros, maior a área total (V ou F)\n",
    "4. Vendas associadas ao domínio de email do Yahoo são mais caras (V ou F) **(DESAFIO!)**"
   ]
  }
 ],
 "metadata": {
  "kernelspec": {
   "display_name": "Python 3",
   "language": "python",
   "name": "python3"
  },
  "language_info": {
   "codemirror_mode": {
    "name": "ipython",
    "version": 3
   },
   "file_extension": ".py",
   "mimetype": "text/x-python",
   "name": "python",
   "nbconvert_exporter": "python",
   "pygments_lexer": "ipython3",
   "version": "3.8.7"
  }
 },
 "nbformat": 4,
 "nbformat_minor": 5
}
