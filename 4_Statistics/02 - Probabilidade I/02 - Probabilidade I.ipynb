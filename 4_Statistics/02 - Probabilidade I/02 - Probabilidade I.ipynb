{
 "cells": [
  {
   "cell_type": "markdown",
   "metadata": {},
   "source": [
    "# 2. Princípio da Contagem e Probabilidade I\n",
    "---\n",
    "\n",
    "<img src=\"https://selecao.letscode.com.br/favicon.png\" width=\"40px\" height=\"40px\" style=\"position: absolute; top: 12px; right: 20px;\" />\n",
    "\n",
    "### Objetivos\n",
    "\n",
    "O objetivo desta aula é introduzir a ideia de probabilidade, conceitos de variáveis aleatórias, probabilidade condicional e independência de eventos."
   ]
  },
  {
   "cell_type": "code",
   "execution_count": null,
   "metadata": {},
   "outputs": [],
   "source": []
  },
  {
   "cell_type": "markdown",
   "metadata": {},
   "source": [
    "# Probabilidade com combinação e permutação \n",
    "\n",
    "## Princípio Básico da Contagem\n",
    "\n",
    "É o princípio utilizado para encontrar o número de possibilidades para um evento constituído de $n$ etapas. Para isso, as etapas devem ser sucessivas e independentes. Se a primeira etapa do evento possui $x$ possibilidades e a segunda etapa é constituída de $y$ possibilidades, então existem $x \\times y$ possibilidades. Portanto, o princípio fundamental da contagem é **a multiplicação das opções dadas para determinar o total de possibilidades**.\n",
    "\n",
    "<center><img src=\"images/permutacao.png\" width=\"40%\" style=\"background-color: #eee; padding: 30px; border-radius: 20px; margin: 30px 0\" /></center>  \n",
    "\n",
    "### Exemplos\n",
    "\n",
    "- $Ex_1$.: O grêmio da faculdade é formado por 3 calouros, 4 estudantes do segundo ano, 5 estudantes do terceiro ano e 2 formandos. Quantos subcomitês podemos formar? (supondo que estes estarão sentados em ordem no comitê)\n",
    "\n",
    "- $Ex_2$.: De quantos modos distintos eu posso ir a uma festa, se tenho: 5 camisas, 3 calças e dois pares de sapatos?\n",
    "\n",
    "- $Ex_3$.: Quantas diferentes placas de automóvel com  caracteres são possíveis se os 3 primeiros campos forem ocupados por letras e os 4 campos finais por números?\n",
    "\n",
    "- $Ex_4$.: No exemplo anterior quantas placas de automóvel seriam possíveis se a repetição entre letras ou número fosse proibida?\n",
    "\n",
    "- $Ex_5$.: Uma sala possui 3 portas. De quantas maneiras a sala pode **estar aberta**?\n",
    "\n",
    "- $Ex_6$.: A Sra. Jones possui dez livros que pretende colocar em sua prateleira. Destes, quatro são de matemática, três são de química, dois são de história e um é um livro de línguas. A Sra. Jones deseja arranjá-los de forma que todos os livros que tratam do mesmo assunto permaneçam juntos na prateleira. Quantos diferentes arranjos são possíveis?"
   ]
  },
  {
   "cell_type": "code",
   "execution_count": 2,
   "metadata": {
    "tags": []
   },
   "outputs": [
    {
     "data": {
      "text/plain": [
       "175760000"
      ]
     },
     "execution_count": 2,
     "metadata": {},
     "output_type": "execute_result"
    }
   ],
   "source": [
    "26**3 * 10**4"
   ]
  },
  {
   "cell_type": "code",
   "execution_count": 3,
   "metadata": {
    "tags": []
   },
   "outputs": [
    {
     "data": {
      "text/plain": [
       "456976000"
      ]
     },
     "execution_count": 3,
     "metadata": {},
     "output_type": "execute_result"
    }
   ],
   "source": [
    "26**4 * 10**3"
   ]
  },
  {
   "cell_type": "code",
   "execution_count": 4,
   "metadata": {},
   "outputs": [],
   "source": [
    "from math import factorial"
   ]
  },
  {
   "cell_type": "code",
   "execution_count": 5,
   "metadata": {},
   "outputs": [
    {
     "data": {
      "text/plain": [
       "6912"
      ]
     },
     "execution_count": 5,
     "metadata": {},
     "output_type": "execute_result"
    }
   ],
   "source": [
    "factorial(4) * factorial(4) * factorial(3) * 2 * 1"
   ]
  },
  {
   "cell_type": "markdown",
   "metadata": {},
   "source": [
    "## 1. Permutação\n",
    "---\n",
    "\n",
    "Nesta seção, discutiremos grupos de objetos exclusivos nos quais **a ordem é importante**.\n",
    "\n",
    "### 1.1 Definição de permutação\n",
    "\n",
    "Considerando uma sequência ordenada qualquer com um número \"n\" de elementos distintos, qualquer outra sequência formada pelos mesmos “n” elementos reordenados é chamada de permutação.\n",
    "    \n",
    "### 1.2. Permutação simples:\n",
    "\n",
    "**Um arranjo de objetos sem repetição, onde a ordem é importante.**\n",
    "\n",
    "    \n",
    "Matematicamente, temos:\n",
    "    \n",
    "$$ P_n = n\\cdot (n-1)\\cdot (n-2)\\cdot (n-3) ... \\, 3 \\cdot 2 \\cdot 1 = n! $$\n",
    "    \n",
    "    \n",
    "- $Ex_1$.: Uma turma de teoria de probabilidade é formada por 6 homens e 4 mulheres. Aplica-se uma prova e os estudantes são classificados de acordo com seu desempenho. Suponha que nenhum tenha tirado a mesma nota. Se os homens forem classificados apenas entre si e as mulheres apenas entre si, quantas diferentes classificações são possíveis?\n",
    "\n",
    "- $Ex_2$.: Cinco amigos querem sentar em um sofá para tirar uma foto. De quantas formas diferentes eles podem aparecer na foto, a depender da posição em que eles se acomodem no sofá?\n",
    "\n",
    "\n",
    "### 1.3. Permutação com repetição:\n",
    "\n",
    "**Vamos agora determinar o número de permutações de um conjunto de n objetos quando não for possível distinguir certos objetos de outros.**\n",
    "      \n",
    "**Exemplos**\n",
    "\n",
    "1. Quantos diferentes arranjos de letras podem ser formados a partir das letras AAB?\n",
    "2. Quantos diferentes arranjos de letras podem ser formados a partir da palavra MAPA?\n",
    "\n",
    "*Respostas*\n",
    "\n",
    "1. $P_{3}^{2} = \\frac{3!}{2!} = \\frac{6}{2} = 3$\n",
    "2. $P_{4}^{2} = \\frac{4!}{2!} = \\frac{24}{2} = 12$\n",
    "\n",
    "**Outro Exemplo**: Um torneio de xadrez tem 10 competidores, dos quais 4 são russos, 3 estadunidenses, 2 ingleses e 1 brasileiro. Se o resultado listar apenas a nacionalidade são possiveis quantos resultados diferentes?\n",
    "      \n",
    "*Fórmula:*\n",
    "     $$P_{n}^{r,s,\\dots} = \\frac{n!}{r!s!\\dots} $$\n"
   ]
  },
  {
   "cell_type": "code",
   "execution_count": 6,
   "metadata": {},
   "outputs": [
    {
     "data": {
      "text/plain": [
       "17280"
      ]
     },
     "execution_count": 6,
     "metadata": {},
     "output_type": "execute_result"
    }
   ],
   "source": [
    "# Exemplo 01\n",
    "factorial(6) * factorial(4)"
   ]
  },
  {
   "cell_type": "code",
   "execution_count": 7,
   "metadata": {},
   "outputs": [
    {
     "data": {
      "text/plain": [
       "3628800"
      ]
     },
     "execution_count": 7,
     "metadata": {},
     "output_type": "execute_result"
    }
   ],
   "source": [
    "factorial(10)"
   ]
  },
  {
   "cell_type": "code",
   "execution_count": 8,
   "metadata": {},
   "outputs": [
    {
     "data": {
      "text/plain": [
       "120"
      ]
     },
     "execution_count": 8,
     "metadata": {},
     "output_type": "execute_result"
    }
   ],
   "source": [
    "# Exemplo 02\n",
    "factorial(5)"
   ]
  },
  {
   "cell_type": "code",
   "execution_count": 10,
   "metadata": {},
   "outputs": [
    {
     "data": {
      "text/plain": [
       "12600.0"
      ]
     },
     "execution_count": 10,
     "metadata": {},
     "output_type": "execute_result"
    }
   ],
   "source": [
    "factorial(10) / (factorial(4) * factorial(3) * factorial(2))"
   ]
  },
  {
   "cell_type": "code",
   "execution_count": null,
   "metadata": {},
   "outputs": [],
   "source": []
  },
  {
   "cell_type": "code",
   "execution_count": 11,
   "metadata": {
    "tags": []
   },
   "outputs": [],
   "source": [
    "# Utilizando o permutations para resolver exemplo de permutação com repetição\n",
    "from itertools import permutations"
   ]
  },
  {
   "cell_type": "code",
   "execution_count": 15,
   "metadata": {},
   "outputs": [
    {
     "name": "stdout",
     "output_type": "stream",
     "text": [
      "('1', '2', '3')\n",
      "('1', '3', '2')\n",
      "('2', '1', '3')\n",
      "('2', '3', '1')\n",
      "('3', '1', '2')\n",
      "('3', '2', '1')\n"
     ]
    }
   ],
   "source": [
    "for perm in permutations('123'):\n",
    "    print(perm)"
   ]
  },
  {
   "cell_type": "code",
   "execution_count": 16,
   "metadata": {},
   "outputs": [
    {
     "name": "stdout",
     "output_type": "stream",
     "text": [
      "(1, 2, 3)\n",
      "(1, 3, 2)\n",
      "(2, 1, 3)\n",
      "(2, 3, 1)\n",
      "(3, 1, 2)\n",
      "(3, 2, 1)\n"
     ]
    }
   ],
   "source": [
    "for perm in permutations([1, 2, 3]):\n",
    "    print(perm)"
   ]
  },
  {
   "cell_type": "code",
   "execution_count": 17,
   "metadata": {},
   "outputs": [
    {
     "name": "stdout",
     "output_type": "stream",
     "text": [
      "('A', 'A', 'B')\n",
      "('A', 'B', 'A')\n",
      "('A', 'A', 'B')\n",
      "('A', 'B', 'A')\n",
      "('B', 'A', 'A')\n",
      "('B', 'A', 'A')\n"
     ]
    }
   ],
   "source": [
    "for perm in permutations('AAB'):\n",
    "    print(perm)"
   ]
  },
  {
   "cell_type": "code",
   "execution_count": 18,
   "metadata": {},
   "outputs": [],
   "source": [
    "from scipy.special import perm"
   ]
  },
  {
   "cell_type": "code",
   "execution_count": null,
   "metadata": {},
   "outputs": [],
   "source": [
    "perm()"
   ]
  },
  {
   "cell_type": "code",
   "execution_count": null,
   "metadata": {},
   "outputs": [],
   "source": []
  },
  {
   "cell_type": "code",
   "execution_count": null,
   "metadata": {},
   "outputs": [],
   "source": []
  },
  {
   "cell_type": "markdown",
   "metadata": {},
   "source": [
    "## 2. Arranjo\n",
    "---\n",
    "\n",
    "Arranjos são agrupamentos formados com $p$ elementos de um conjunto de $n$ elementos. Arranjos são como permutações, trocas de posição entre os elementos. Mas no caso dos arranjos, são escolhidos $p$ elementos para ocupar as posições ordenadas. Os arranjos são um caso particular de permutações, já que $p \\leq n$.\n",
    "\n",
    "- $Ex_1$.: Cinco amigos querem sentar em um sofá para tirar uma foto. De quantas formas diferentes eles podem aparecer na foto, considerando um sofá de 3 lugares, a depender da posição em que eles se acomodem no sofá?\n",
    "\n",
    "- $Ex_2$.: Você tem um site no qual os usuários podem se registrar. Eles precisam fornecer uma senha que precise ter exatamente 8 caracteres e os caracteres não podem ser repetidos. Primeiro, precisamos determinar quantos caracteres e dígitos existem no alfabeto inglês:\n",
    "\n",
    "    - o número de letras: 26\n",
    "    - o número de dígitos: 10\n",
    "\n",
    "\n",
    "Matematicamente, temos:\n",
    "\n",
    "$$A_{n}^{p} = \\frac{n!}{(n - p)!}$$"
   ]
  },
  {
   "cell_type": "code",
   "execution_count": 19,
   "metadata": {},
   "outputs": [
    {
     "data": {
      "text/plain": [
       "60"
      ]
     },
     "execution_count": 19,
     "metadata": {},
     "output_type": "execute_result"
    }
   ],
   "source": [
    "5 * 4 * 3"
   ]
  },
  {
   "cell_type": "code",
   "execution_count": 20,
   "metadata": {},
   "outputs": [
    {
     "data": {
      "text/plain": [
       "60.0"
      ]
     },
     "execution_count": 20,
     "metadata": {},
     "output_type": "execute_result"
    }
   ],
   "source": [
    "factorial(5) / factorial(5 - 3)"
   ]
  },
  {
   "cell_type": "code",
   "execution_count": 21,
   "metadata": {},
   "outputs": [
    {
     "data": {
      "text/plain": [
       "1220096908800"
      ]
     },
     "execution_count": 21,
     "metadata": {},
     "output_type": "execute_result"
    }
   ],
   "source": [
    "36 * 35 * 34 * 33 * 32 * 31 * 30 * 29"
   ]
  },
  {
   "cell_type": "code",
   "execution_count": 22,
   "metadata": {},
   "outputs": [
    {
     "data": {
      "text/plain": [
       "1220096908800.0"
      ]
     },
     "execution_count": 22,
     "metadata": {},
     "output_type": "execute_result"
    }
   ],
   "source": [
    "factorial(36) / factorial(36 - 8)"
   ]
  },
  {
   "cell_type": "code",
   "execution_count": 23,
   "metadata": {},
   "outputs": [
    {
     "data": {
      "text/plain": [
       "1220096908800.0"
      ]
     },
     "execution_count": 23,
     "metadata": {},
     "output_type": "execute_result"
    }
   ],
   "source": [
    "perm(36, 8)"
   ]
  },
  {
   "cell_type": "code",
   "execution_count": 24,
   "metadata": {},
   "outputs": [
    {
     "data": {
      "text/plain": [
       "120.0"
      ]
     },
     "execution_count": 24,
     "metadata": {},
     "output_type": "execute_result"
    }
   ],
   "source": [
    "perm(5, 5)"
   ]
  },
  {
   "cell_type": "markdown",
   "metadata": {},
   "source": [
    "## 3. Combinação \n",
    "---\n",
    "\n",
    "<center><img src=\"images/Combination.png\" width=\"30%\" style=\"background-color: #eee; padding: 30px; border-radius: 20px; margin: 30px 0\" /></center>  \n",
    "\n",
    "Na combinação simples, **a ordem dos elementos no agrupamento não interfere**. São arranjos que se diferenciam somente pela natureza de seus elementos. Portanto, se temos um conjunto A formado por n elementos tomados p a p, qualquer subconjunto de A formado por p elementos será uma combinação, por exemplo quando temos 5 itens (A, B, C, D, E), quantos grupos de 3 conseguimos selecionar? Pense no caso que quando for selecionado ABC, ACB, BAC, BCA, CAB, CBA temos o mesmo grupo sendo contado 6 vezes.\n",
    "    \n",
    "Podemos pensar em:\n",
    "    \n",
    "$$5 * 4 * 3$$\n",
    "\n",
    "mas, como a permutação é limitada por r e dividir pela quantidade de vezes que um elemento se repete:\n",
    "    \n",
    "$$\\frac{5 * 4 * 3}{3 * 2 * 1}$$"
   ]
  },
  {
   "cell_type": "code",
   "execution_count": null,
   "metadata": {
    "tags": []
   },
   "outputs": [],
   "source": []
  },
  {
   "cell_type": "code",
   "execution_count": 30,
   "metadata": {},
   "outputs": [],
   "source": [
    "# itertools\n",
    "from itertools import combinations, combinations_with_replacement"
   ]
  },
  {
   "cell_type": "code",
   "execution_count": 26,
   "metadata": {},
   "outputs": [
    {
     "name": "stdout",
     "output_type": "stream",
     "text": [
      "('Pessoa1', 'Pessoa2')\n",
      "('Pessoa1', 'Pessoa3')\n",
      "('Pessoa2', 'Pessoa3')\n"
     ]
    }
   ],
   "source": [
    "for comb in combinations(['Pessoa1', 'Pessoa2', 'Pessoa3'], 2):\n",
    "    print(comb)"
   ]
  },
  {
   "cell_type": "code",
   "execution_count": 27,
   "metadata": {},
   "outputs": [
    {
     "name": "stdout",
     "output_type": "stream",
     "text": [
      "(0, 1)\n",
      "(0, 2)\n",
      "(1, 2)\n"
     ]
    }
   ],
   "source": [
    "for comb in combinations(range(3), 2):\n",
    "    print(comb)"
   ]
  },
  {
   "cell_type": "code",
   "execution_count": 35,
   "metadata": {},
   "outputs": [
    {
     "name": "stdout",
     "output_type": "stream",
     "text": [
      "('Pessoa1', 'Pessoa1')\n",
      "('Pessoa1', 'Pessoa2')\n",
      "('Pessoa1', 'Pessoa3')\n",
      "('Pessoa2', 'Pessoa2')\n",
      "('Pessoa2', 'Pessoa3')\n",
      "('Pessoa3', 'Pessoa3')\n"
     ]
    }
   ],
   "source": [
    "for comb in combinations_with_replacement(['Pessoa1', 'Pessoa2', 'Pessoa3'], 2):\n",
    "    print(comb)"
   ]
  },
  {
   "cell_type": "code",
   "execution_count": 32,
   "metadata": {},
   "outputs": [],
   "source": [
    "# Scipy\n",
    "from scipy.special import comb"
   ]
  },
  {
   "cell_type": "code",
   "execution_count": 34,
   "metadata": {},
   "outputs": [
    {
     "data": {
      "text/plain": [
       "3"
      ]
     },
     "execution_count": 34,
     "metadata": {},
     "output_type": "execute_result"
    }
   ],
   "source": [
    "comb(3, 2, exact=True)"
   ]
  },
  {
   "cell_type": "markdown",
   "metadata": {},
   "source": [
    "Matematicamente, temos:\n",
    "\n",
    "$$C_{n}^{k} = \\frac{n!}{k! \\cdot (n - k)!}$$"
   ]
  },
  {
   "cell_type": "markdown",
   "metadata": {},
   "source": [
    "<center><img src=\"images/line-png-16827.png\" width=\"500\" height=\"450\" /></center>\n",
    "\n",
    "## Exercícios\n",
    "\n",
    "**1. Existem quantos arranjos lineares diferentes das letras A, B, C, D, E, F para os quais A e B estão uma do lado da outra.**\n",
    "\n",
    "**2. João, Juliano, Jonas e Jackes formaram uma banda com quatro instrumentos. Se cada um é capaz de tocar todos instrumentos, quantas diferentes combinações é possivel se realizar?**\n",
    "\n",
    "**3. Por muitos anos, os códigos telefônicos de área nos EUA e no Canadá eram formados por uma sequência de 3 algarismos. O primeiro algarismo era um inteiro entre 2 e 9, o segundo algarismo era entre 0 e 1, e o terceiro digito era um inteiro entre 1 e 9. Quantos códigos da área eram possíveis? Quantos códigos de área começando com um 4 eram possíveis?**\n",
    "\n",
    "**4. De quantas maneiras diferentes 3 garotos e 3 garotas podem sentar-se em fila?**\n",
    "\n",
    "**5. Um comitê de 7 pessoas, formado por 2 petistas, 2 democratas e 3 peemedebistas devem ser escolhidos de um grupo de 5 petistas, 6 democratas, e 4 peemedebistas. Quantas configurações diferentes podemos ter para o comitê?**\n",
    "\n",
    "**6. Um torneio de xadrez tem dez competidores, dos quais quatro são russos, três são dos Estados Unidos, dois são da Grã-Bretanha e um é do Brasil. Se o resultado do torneio listar apenas a nacionalidade dos jogadores em sua ordem de colocação, quantos resultados serão possíveis?**\n",
    "\n",
    "**7. Quantos arranjos diferentes podem ser feitos a partir de:**\n",
    "\n",
    "    a) sorte\n",
    "    b) mississipi\n",
    "    c) arranjo\n",
    "\n",
    "**8. Uma pessoa tem 8 amigos dos quais 5 serão convidados para uma festa.**\n",
    "\n",
    "    a) Quantas escolhas existem se dois dos amigos estiverem brigados e por esse motivo não puderem comparecer?\n",
    "    b) Quantas escolhas existem se dois amigos puderem ir apenas se forem juntos?\n",
    "    \n",
    "**9. De um grupo de cinco mulheres e sete homens, quantos comitês diferentes formados por duas mulheres e três homens podem ser formados? E se dois dos\n",
    "homens estiverem brigados e se recusarem a trabalhar juntos?**\n",
    "\n",
    "\n",
    "<center><img src=\"images/line-png-16827.png\" width=\"500\" height=\"450\" /></center>"
   ]
  },
  {
   "cell_type": "code",
   "execution_count": 25,
   "metadata": {},
   "outputs": [],
   "source": [
    "# Questão 5\n",
    "from scipy.special import comb"
   ]
  },
  {
   "cell_type": "code",
   "execution_count": 26,
   "metadata": {},
   "outputs": [
    {
     "data": {
      "text/plain": [
       "600.0"
      ]
     },
     "execution_count": 26,
     "metadata": {},
     "output_type": "execute_result"
    }
   ],
   "source": [
    "comb(5, 2) * comb(6, 2) * comb(4, 3)"
   ]
  },
  {
   "cell_type": "code",
   "execution_count": 29,
   "metadata": {},
   "outputs": [],
   "source": [
    "# Questão 6\n",
    "from math import factorial"
   ]
  },
  {
   "cell_type": "code",
   "execution_count": 30,
   "metadata": {},
   "outputs": [
    {
     "data": {
      "text/plain": [
       "12600.0"
      ]
     },
     "execution_count": 30,
     "metadata": {},
     "output_type": "execute_result"
    }
   ],
   "source": [
    "factorial(10) / (factorial(4)* factorial(3) * factorial(2) * 1)"
   ]
  },
  {
   "cell_type": "code",
   "execution_count": 31,
   "metadata": {},
   "outputs": [],
   "source": [
    "# Questão 7\n",
    "from itertools import permutations"
   ]
  },
  {
   "cell_type": "code",
   "execution_count": null,
   "metadata": {
    "collapsed": true,
    "jupyter": {
     "outputs_hidden": true
    },
    "tags": []
   },
   "outputs": [],
   "source": [
    "palavras = ['sorte', 'mississipi', 'arranjo']\n",
    "\n",
    "for palavra in palavras:\n",
    "    # Um set para guardar cada permutação de cada uma das palavras\n",
    "    permutacoes_distintas = set() # Estrutura de dados que não permite repetições\n",
    "    \n",
    "    for perm in permutations(palavra):\n",
    "        permutacoes_distintas.add(perm)\n",
    "    \n",
    "    print(permutacoes_distintas)\n",
    "    print(len(permutacoes_distintas), '\\n')"
   ]
  },
  {
   "cell_type": "code",
   "execution_count": 42,
   "metadata": {},
   "outputs": [
    {
     "data": {
      "text/plain": [
       "<itertools.permutations at 0x7fd751a8bc70>"
      ]
     },
     "execution_count": 42,
     "metadata": {},
     "output_type": "execute_result"
    }
   ],
   "source": [
    "permutations('AB')"
   ]
  },
  {
   "cell_type": "markdown",
   "metadata": {},
   "source": [
    "#### Questão 07, letra b\n",
    "\n",
    "> mississipi\n",
    "\n",
    "$$\n",
    "    P_{10}^{4, 4} = \\frac{10!}{4!\\times4!}\n",
    "$$\n"
   ]
  },
  {
   "cell_type": "code",
   "execution_count": 41,
   "metadata": {},
   "outputs": [
    {
     "data": {
      "text/plain": [
       "6300.0"
      ]
     },
     "execution_count": 41,
     "metadata": {},
     "output_type": "execute_result"
    }
   ],
   "source": [
    "factorial(10) / (factorial(4) * factorial(4))"
   ]
  },
  {
   "cell_type": "markdown",
   "metadata": {},
   "source": [
    "## 2. Probabilidade: conceitos introdutórios \n",
    "\n",
    "### 2.1 Espaço amostral\n",
    "\n",
    "**Definição**: Chamamos de espaço amostral ao conjunto de todos os resultados possíveis de um certo fenômeno aleatório. Ele é muitas vezes representado pela letra grega $\\Omega$. Os subconjuntos de $\\Omega$ são denominados eventos e representados pelas letras latinas maiúsculas $A, B, \\dots$ . O conjunto vazio é denotado por $\\emptyset$.\n",
    "\n",
    "A união de dois eventos A e B, denotado por $A \\cup B$ representa a ocorrência de pelo menos um dos eventos A ou B. A intersecção do evento A com B, denotado por $A \\cap B$ é a ocorrência simultanea de A e B \n",
    "\n",
    "Dois eventos A e B são disjuntos ou mutualmente exclusivos quando não têm elemento em comum. Isto é, $A \\cap B$ =  $\\emptyset$.\n",
    "\n",
    "\n",
    "Caso dois eventos sejam disjuntos, mas a sua união seja igual à todo o Espaço Amostral, significa que eles são complementares. Ou seja, eles são os únicos eventos possíveis de ocorrer. Matematicamente, se $A \\cap B = \\emptyset$ e $A \\cup B = \\Omega$, então os eventos são complementares. O complementar de A será representado por $A^{c}$. Nesse caso, então, $A^{c} = B$ e $B^{c} = A$.\n",
    "\n",
    "<center><img src=\"images/conjuntos.png\" width=\"300\" height=\"350\" /></center>\n",
    "\n",
    "**Definição 2.1: Probabilidade**\n",
    "\n",
    "Podemos definir então uma função P(.) denominada probabilidade se satisfaz as seguintes condições:\n",
    "    \n",
    "1. A probabilidade de um evento é sempre um número entre 0 e 1. Ou seja, $0 \\leq P(A) \\leq 1$.\n",
    "\n",
    "\n",
    "2. A Probabilidade de ocorrer algo dentro do Espaço Amostral é 1. Ou seja, $ P(\\Omega) = 1$.\n",
    "\n",
    "3. A Probabilidade de ocorrer a união de todos os Pontos Amostrais é igual à soma da Probabilidade de ocorrer cada um dos Pontos Amostrais. Ou seja:\n",
    "\n",
    "$$\n",
    "    \\sum_{w\\in \\Omega} P{(w)} = P\\left(\\bigcup_{w\\in \\Omega} \\{w\\}\\right)\n",
    "$$\n",
    "\n",
    "\n",
    "#### 2.2 **Como definir probabilidade aos elementos do espaço amostral?**\n",
    "\n",
    "A primeira consiste na atribuição de probabilidades. Por exemplo, baseando-se em características teóricas da realização do fenômeno. Por exemplo, ao lançarmos um dado, temos o espaço amostral $\\omega={1,2,3,4,5,6}$.Admitindo que o dado foi construído de forma homogênea e com medidas rigorosamente simétricas , não temos nenhuma razão para privilegiar essa ou aquela face. Assim consideramos $p(1)=p(2)=p(3)\\dots$\n",
    "\n",
    "**Exemplos:** \n",
    "\n",
    "1. Lançamos uma moeda duas vezes, se C indicar cara e K indicar coroa, então, temos um espaço amostral:\n",
    "    \n",
    "$$\\Omega=[CC,CK,KC,KK]$$\n",
    "\n",
    "\n",
    "> Se designarmos por A o evento que consiste na obtenção de face iguais nos dois lançamentos, então: \n",
    "\n",
    "$$ P(A) = P(CC) + P(KK) = \\frac{1}{4} + \\frac{1}{4} = \\frac{2}{4} = 0.5 $$ \n",
    "\n",
    "2. Uma Fábrica produz um determinado artigo. Da linha de produção são retirados 3 artigos, e cada um é classificado como bom (B), ou defeituoso (D). Um espaço amostral do experimento é:\n",
    "    \n",
    "$$ \\Omega = [BBB,BBD,BDB,DBB,DDB,DBD,BDD,DDD] $$\n",
    "\n",
    "\n",
    "> Se designarmos por A o evento que consiste em obter dois artigos defeituosos:\n",
    "\n",
    "$$ P(A) = P(DDB) + P(DBD) + P(BDD) = \\frac{1}{8} + \\frac{1}{8} + \\frac{1}{8} = \\frac{3}{8} = 0.375 $$ \n",
    "\n",
    "1.3 Considere o experimento que consiste em retirar uma lâmpada de um lote e medir seu tempo de vida antes de queimar. Um espaço amostral conveniente será:\n",
    "    \n",
    "$$ \\Omega = [t], \\quad \\textrm{em que}, t \\geq 0 $$\n"
   ]
  },
  {
   "cell_type": "code",
   "execution_count": null,
   "metadata": {},
   "outputs": [],
   "source": []
  },
  {
   "cell_type": "code",
   "execution_count": null,
   "metadata": {},
   "outputs": [],
   "source": []
  },
  {
   "cell_type": "code",
   "execution_count": null,
   "metadata": {},
   "outputs": [],
   "source": []
  },
  {
   "cell_type": "code",
   "execution_count": null,
   "metadata": {},
   "outputs": [],
   "source": []
  },
  {
   "cell_type": "code",
   "execution_count": null,
   "metadata": {},
   "outputs": [],
   "source": []
  },
  {
   "cell_type": "code",
   "execution_count": null,
   "metadata": {},
   "outputs": [],
   "source": []
  },
  {
   "cell_type": "markdown",
   "metadata": {},
   "source": [
    "<center><img src=\"images/line-png-16827.png\" width=\"500\" height=\"450\" /></center>\n",
    "\n",
    "\n",
    "<center><img src=\"https://selecao.letscode.com.br/favicon.png\" width=\"150\" height=\"150\" /></center>\n",
    "\n",
    "## Exercícios\n",
    "**1. Lance um dados até que a face 5 apareça pela primeira vez. Enumere os possíveis resultados.**\n",
    "\n",
    "**2. Uma urna contém 10 bolas azuis, 10 bolas vermelhas,com dimensões rigorosamente iguais. Três (3) bolas são selecionadas ao acaso com reposição e as cores são anotadas.**\n",
    "\n",
    "**3. Uma moeda é lançada, consecutivamente, até o aparecimento da primeira cara.**\n",
    "\n",
    "**4. Dois dados são lançados, simultâneamente, e estamos interessados na soma das faces obtidas.**\n",
    "\n",
    "**4. Três jogadores $A < B < C$ disputam um torneio de tênis. Inicialmente, A joga com B e o vencedor joga com C, e assim por diante. O torneio termina quando um jogador ganha 2 vez em seguida ou quando são disputadas, ao todo, quatro partidas. Quais são os resultados possíveis do torneio?**\n",
    "\n",
    "**5. Em uma entrevista telefônica com 250 assinantes, anota-se o número se o proprietário tem ou não tem uma máquina de lavar roupa.**\n",
    "\n",
    "**6. De um grupo de 5 pessoas (A, B, C, D, E) são sorteadas 2 pessoas, uma após a outra, com reposição; e anota-se a configuração formada.**\n",
    "\n",
    "**7. Uma moeda e um dado são lançados. Dê o espaço amostral do experimento.**\n",
    "\n",
    "**8. Escolhe-se ao acaso um número natural, de 1 a 20. Qual a probabilidade de que o número escolhido seja par?**\n",
    "\n",
    "**9. Em um jogo há duas urnas com dez bolas de mesmo tamanho em cada urna. A tabela a seguir indica as quantidades de bolas de cada cor em cada urna.**\n",
    "\n",
    "Cor | Urna 1 | Urna 2\n",
    "----|--------|------\n",
    "Amarela\t|4\t|0\n",
    "Azul\t|3\t|1\n",
    "Branca\t|2\t|2\n",
    "Verde\t|1\t|3\n",
    "Vermelha\t|0\t|4\n",
    "\n",
    "Uma jogada consiste em:\n",
    "\n",
    "1º) o jogador apresenta um palpite sobre a cor da bola que será retirada por ele da urna 2  \n",
    "2º) ele retira, aleatoriamente, uma bola da urna 1 e a coloca na urna 2, misturando-a com as que lá estão  \n",
    "3º) em seguida ele retira, também aleatoriamente, uma bola da urna 2  \n",
    "4º) se a cor da última bola retirada for a mesma do palpite inicial, ele ganha o jogo  \n",
    "\n",
    "Qual cor deve ser escolhida pelo jogador para que ele tenha a maior probabilidade de ganhar?\n",
    "\n",
    "a) Azul  \n",
    "b) Amarela  \n",
    "c) Branca  \n",
    "d) Verde  \n",
    "e) **Vermelha**\n",
    "\n",
    "<center><img src=\"images/line-png-16827.png\" width=\"500\" height=\"450\" /></center>"
   ]
  },
  {
   "cell_type": "code",
   "execution_count": null,
   "metadata": {},
   "outputs": [],
   "source": [
    "Omega = {não 5, não 5, 5}"
   ]
  },
  {
   "cell_type": "code",
   "execution_count": 44,
   "metadata": {},
   "outputs": [],
   "source": [
    "import pandas as pd"
   ]
  },
  {
   "cell_type": "code",
   "execution_count": 45,
   "metadata": {},
   "outputs": [],
   "source": [
    "df = pd.read_csv('https://s3-sa-east-1.amazonaws.com/lcpi/5729687e-ae14-4978-8cd7-7ef18277813d.csv')"
   ]
  },
  {
   "cell_type": "code",
   "execution_count": 47,
   "metadata": {},
   "outputs": [
    {
     "data": {
      "text/html": [
       "<div>\n",
       "<style scoped>\n",
       "    .dataframe tbody tr th:only-of-type {\n",
       "        vertical-align: middle;\n",
       "    }\n",
       "\n",
       "    .dataframe tbody tr th {\n",
       "        vertical-align: top;\n",
       "    }\n",
       "\n",
       "    .dataframe thead th {\n",
       "        text-align: right;\n",
       "    }\n",
       "</style>\n",
       "<table border=\"1\" class=\"dataframe\">\n",
       "  <thead>\n",
       "    <tr style=\"text-align: right;\">\n",
       "      <th></th>\n",
       "      <th>PassengerId</th>\n",
       "      <th>Survived</th>\n",
       "      <th>Pclass</th>\n",
       "      <th>Name</th>\n",
       "      <th>Sex</th>\n",
       "      <th>Age</th>\n",
       "      <th>SibSp</th>\n",
       "      <th>Parch</th>\n",
       "      <th>Ticket</th>\n",
       "      <th>Fare</th>\n",
       "      <th>Cabin</th>\n",
       "      <th>Embarked</th>\n",
       "    </tr>\n",
       "  </thead>\n",
       "  <tbody>\n",
       "    <tr>\n",
       "      <th>0</th>\n",
       "      <td>1</td>\n",
       "      <td>0</td>\n",
       "      <td>3</td>\n",
       "      <td>Braund, Mr. Owen Harris</td>\n",
       "      <td>male</td>\n",
       "      <td>22.0</td>\n",
       "      <td>1</td>\n",
       "      <td>0</td>\n",
       "      <td>A/5 21171</td>\n",
       "      <td>7.2500</td>\n",
       "      <td>NaN</td>\n",
       "      <td>S</td>\n",
       "    </tr>\n",
       "    <tr>\n",
       "      <th>1</th>\n",
       "      <td>2</td>\n",
       "      <td>1</td>\n",
       "      <td>1</td>\n",
       "      <td>Cumings, Mrs. John Bradley (Florence Briggs Th...</td>\n",
       "      <td>female</td>\n",
       "      <td>38.0</td>\n",
       "      <td>1</td>\n",
       "      <td>0</td>\n",
       "      <td>PC 17599</td>\n",
       "      <td>71.2833</td>\n",
       "      <td>C85</td>\n",
       "      <td>C</td>\n",
       "    </tr>\n",
       "    <tr>\n",
       "      <th>2</th>\n",
       "      <td>3</td>\n",
       "      <td>1</td>\n",
       "      <td>3</td>\n",
       "      <td>Heikkinen, Miss. Laina</td>\n",
       "      <td>female</td>\n",
       "      <td>26.0</td>\n",
       "      <td>0</td>\n",
       "      <td>0</td>\n",
       "      <td>STON/O2. 3101282</td>\n",
       "      <td>7.9250</td>\n",
       "      <td>NaN</td>\n",
       "      <td>S</td>\n",
       "    </tr>\n",
       "    <tr>\n",
       "      <th>3</th>\n",
       "      <td>4</td>\n",
       "      <td>1</td>\n",
       "      <td>1</td>\n",
       "      <td>Futrelle, Mrs. Jacques Heath (Lily May Peel)</td>\n",
       "      <td>female</td>\n",
       "      <td>35.0</td>\n",
       "      <td>1</td>\n",
       "      <td>0</td>\n",
       "      <td>113803</td>\n",
       "      <td>53.1000</td>\n",
       "      <td>C123</td>\n",
       "      <td>S</td>\n",
       "    </tr>\n",
       "    <tr>\n",
       "      <th>4</th>\n",
       "      <td>5</td>\n",
       "      <td>0</td>\n",
       "      <td>3</td>\n",
       "      <td>Allen, Mr. William Henry</td>\n",
       "      <td>male</td>\n",
       "      <td>35.0</td>\n",
       "      <td>0</td>\n",
       "      <td>0</td>\n",
       "      <td>373450</td>\n",
       "      <td>8.0500</td>\n",
       "      <td>NaN</td>\n",
       "      <td>S</td>\n",
       "    </tr>\n",
       "  </tbody>\n",
       "</table>\n",
       "</div>"
      ],
      "text/plain": [
       "   PassengerId  Survived  Pclass  \\\n",
       "0            1         0       3   \n",
       "1            2         1       1   \n",
       "2            3         1       3   \n",
       "3            4         1       1   \n",
       "4            5         0       3   \n",
       "\n",
       "                                                Name     Sex   Age  SibSp  \\\n",
       "0                            Braund, Mr. Owen Harris    male  22.0      1   \n",
       "1  Cumings, Mrs. John Bradley (Florence Briggs Th...  female  38.0      1   \n",
       "2                             Heikkinen, Miss. Laina  female  26.0      0   \n",
       "3       Futrelle, Mrs. Jacques Heath (Lily May Peel)  female  35.0      1   \n",
       "4                           Allen, Mr. William Henry    male  35.0      0   \n",
       "\n",
       "   Parch            Ticket     Fare Cabin Embarked  \n",
       "0      0         A/5 21171   7.2500   NaN        S  \n",
       "1      0          PC 17599  71.2833   C85        C  \n",
       "2      0  STON/O2. 3101282   7.9250   NaN        S  \n",
       "3      0            113803  53.1000  C123        S  \n",
       "4      0            373450   8.0500   NaN        S  "
      ]
     },
     "execution_count": 47,
     "metadata": {},
     "output_type": "execute_result"
    }
   ],
   "source": [
    "df.head()"
   ]
  },
  {
   "cell_type": "code",
   "execution_count": 49,
   "metadata": {},
   "outputs": [
    {
     "data": {
      "text/plain": [
       "0    0.616162\n",
       "1    0.383838\n",
       "Name: Survived, dtype: float64"
      ]
     },
     "execution_count": 49,
     "metadata": {},
     "output_type": "execute_result"
    }
   ],
   "source": [
    "df.Survived.value_counts(True)"
   ]
  },
  {
   "cell_type": "markdown",
   "metadata": {},
   "source": [
    "## Propriedades da União e Intersecção\n",
    "---\n",
    "\n",
    "Vamos supor a tabela abaixo  para idades\n",
    "\n",
    "| idade | $n_{i}$ | $F_{i}$ | $f_{ac}$ |\n",
    "|-------|---------|---------|----------|\n",
    "| 17    | 9       |         |          |\n",
    "| 18    | 22      |         |          |\n",
    "| 19    | 7       |         |          |\n",
    "| 20    | 4       |         |          |\n",
    "| 21    | 3       |         |          |\n",
    "| 22    | 0       |         |          |\n",
    "| 23    | 2       |         |          |\n",
    "| 24    | 1       |         |          |\n",
    "| 25    | 2       |         |          |\n",
    "|-------|---------|---------|----------|\n",
    "| total |   n=50  |    1    |          |\n",
    "|-------|---------|---------|----------|\n",
    "\n",
    "Qual nosso espaço amostral ? \n",
    "\n",
    "quais são as probabilidades associadas ?\n",
    "\n",
    "P(17) ? \n",
    "\n",
    "#### **Probabilidade de união de eventos**\n",
    "\n",
    "A probabilidade de união de eventos é calculada através da regra da adição de probabilidades apresentada abaixo :\n",
    "\n",
    "$$ P(A \\cup B) = P(A) + P(B) - P ( A \\cap B) $$\n",
    "\n",
    "Temos também a definição de que um evento pode ser definido pela não ocorrência dele, ou seja, $$A^{c}$$ é a não ocorrência de A. Logo,\n",
    "\n",
    "$$P(A) = 1 - P(A^{c})$$\n",
    "\n",
    "\n",
    "Se isso é correto, então: $P(A) + P(A^{c}) = 1$.\n",
    "\n",
    "Podemos visualizar por:\n",
    "\n",
    "$$P (A \\cup A^{c}) = P(A) + P(A^{c}) - P(A\\cap A^{c}) $$"
   ]
  },
  {
   "cell_type": "markdown",
   "metadata": {},
   "source": [
    "## Probabilidade condicional e Independência\n",
    "---\n",
    "\n",
    "![venn](images/venn.gif)\n"
   ]
  },
  {
   "cell_type": "markdown",
   "metadata": {},
   "source": [
    "Para eventos dependentes, o cálculo da Probabilidade muda. Vamos estabelecer que:\n",
    "\n",
    "$P(A|B)$ -> Probabilidade condicional de A dado B, ou seja, probabilidade do evento A ocorrer, dado que ocorreu o evento B\n",
    "\n",
    "$P(A \\cap B)$ -> Como já vimos, é a probabilidade dos dois eventos ocorrerem\n",
    "\n",
    "\n",
    "Para eventos dependentes, Temos a seguinte função:\n",
    "\n",
    "$$P(A|B)= \\frac{P(A\\cap B)}{P(B)}$$\n",
    "\n",
    "\n",
    "\n",
    "$$ P(A|B) = \\frac{\\frac{A \\cap B}{\\omega}}{\\frac{B}{\\omega}}$$\n",
    "\n",
    "\n",
    "\n",
    "E algumas vezes, passamos P(B) para o outro lado da igualdade, e a equação fica assim:\n",
    "\n",
    "$$P(A\\cap B) = P(A|B) × P(B)$$\n",
    "\n",
    "### Exemplos\n",
    "\n",
    "$Ex_1$.: Uma moeda é lançada duas vezes, sucessivamente. Qual é a probabilidade de tirarmos cara no segundo lançamento, sabendo que foi obtido coroa no primeiro?\n",
    "\n",
    "$Ex_2$.: De uma com 4 bolas brancas e 6 bolas pretas, retiram-se 2 bolas, sucessivamente, e sem reposição. Qual é a probabilidade de:\n",
    "\n",
    "1. Ambas serem brancas?\n",
    "2. A segunda ser branca?\n",
    "3. A 2ª ser branca, sabendo que a 1ª é branca?\n",
    "\n",
    "#### Exercício\n",
    "\n",
    "Em um blog de variedades, músicas, mantras e informações diversas, foram postados “Contos de Halloween”. Após a leitura, os visitantes poderiam opinar, assinalando suas reações em: “Divertido”, “Assustador” ou “Chato”. Ao final de uma semana, o blog registrou que 500 visitantes distintos acessaram esta postagem.\n",
    "\n",
    "O gráfico a seguir apresenta o resultado da enquete.\n",
    "\n",
    "![](https://static.todamateria.com.br/upload/en/em/enem_1_2_3.jpg)\n",
    "\n",
    "O administrador do blog irá sortear um livro entre os visitantes que opinaram na postagem “Contos de Halloween”.\n",
    "\n",
    "Sabendo que nenhum visitante votou mais de uma vez, a probabilidade de uma pessoa escolhida ao acaso entre as que opinaram ter assinalado que o conto “Contos de Halloween” é “Chato” é mais aproximada por:\n",
    "\n",
    "a) 0,09    \n",
    "b) 0,12   \n",
    "c) 0,14  \n",
    "d) 0,15  \n",
    "e) 0,18  \n",
    "\n",
    "### Eventos independentes \n",
    "\n",
    "Quanto a ocorrência de um evento não intefere na ocorrência do outro, e vice-versa. Em outras palavras, quando a probabilidade de ocorrência de um evento A, não alterar a probabilidade de ocorrência de um evento B, e vice-versa."
   ]
  },
  {
   "cell_type": "code",
   "execution_count": null,
   "metadata": {},
   "outputs": [],
   "source": []
  },
  {
   "cell_type": "code",
   "execution_count": null,
   "metadata": {},
   "outputs": [],
   "source": []
  },
  {
   "cell_type": "code",
   "execution_count": null,
   "metadata": {},
   "outputs": [],
   "source": []
  },
  {
   "cell_type": "markdown",
   "metadata": {},
   "source": [
    "<center><img src=\"images/line-png-16827.png\" width=\"500\" height=\"450\" /></center>"
   ]
  },
  {
   "cell_type": "markdown",
   "metadata": {},
   "source": [
    "## Teorema de Bayes\n",
    "O **Teorema de Bayes** é um conceito importantíssimo da probabilidade e uma das ferramentas mais importantes de serem aprendidas para um Cientista de Dados. Este já foi usado em diversas aplicações reais, como por exemplo a classificação de um email como spam ou não. O Teorema de Bayes é uma forma de calcular probabilidades condicionais de forma reversa.\n",
    "\n",
    "Vamos considerar o clássico exemplo para explicar o teorema. Temos uma determinada doença A, e um teste T utilizado para detectar esta doença. O teste não é 100% confiável, indicando pessoas que não tem a doença como doentes (falsos positivos) e não detectando a doença em pessoas que a possuem (falsos negativos), como ilustra a figura abaixo: \n",
    "\n",
    "\n",
    "<center><img src=\"images/bayes_teste.jpg\" width=\"80%\" /></center>\n",
    "\n",
    "\n",
    "Consideremos que 1% das pessoas possui esta doença e, logo, 99% das pessoas não a possui. O teste detecta a doença em pessoas efetivamente doentes 90% das vezes e, consequentemente, não detecta a doença em pessoas doentes em 10% dos casos. Em pessoas não doentes, o teste detecta a doença (erradamente) `em 5% dos casos` e não detecta em 95% dos casos. Podemos resumir desta forma:\n",
    "\n",
    "|                | Pessoa Doente | Pessoa Não Doente |\n",
    "|----------------|---------------|-------------------|\n",
    "| Teste positivo | 90 %          | 5 %               |\n",
    "| Teste Negativo | 10 %          | 95 %              |\n",
    "\n",
    "Agora, vamos supor que você fez o teste e o resultado deu positivo. Como devemos interpretar este resultado? Obviamente, existe uma chance de você possuir a doença e uma chance de não possuir. A chance de você ter a doença e o teste detecta-la (verdadeiro positivo) é igual a chance de você ter a doença multiplicado pela chance do teste ter dado positivo corretamente. Analogamente, a chance de você não ter a doença e o teste detecta-la mesmo assim (falso positivo) é igual a chance de você não ter a doença multiplicado pela chance do teste ter dado positivo incorretamente, e assim por diante, para todos os resultados. Atualizamos então a tabela, que fica assim:\n",
    "\n",
    "|                | Pessoa Doente                            | Pessoa Não Doente                               |\n",
    "|----------------|------------------------------------------|-------------------------------------------------|\n",
    "| Teste positivo | Prob Doente e teste pos: 1% × 90% = 0,9% | Prob Não Doente e teste pos: 99% × 5% = 4,95%   |\n",
    "| Teste Negativo | Prob Doente e teste neg: 1% × 10% = 0,1% | Prob Não Doente e teste neg: 99% × 95% = 94,05% |\n",
    "\n",
    "Estas então são nossas probabilidades para cada evento. Note que, se somadas, o resultado é 1, ou 100%. Mas agora temos uma dúvida. Se nosso teste deu positivo, qual a chance de termos a doença? Considerando o cálculo básico de probabilidade, temos que a chance de ter a doença é igual à chance do evento desejado dividido por todas as possibilidades. O evento desejado é um positivo verdadeiro, ou seja, teste positivo e a pessoa com doença. Para este caso, a probabilidade é de 0,9%. O total de possibilidades com relação ao teste positivo seria a soma da probabilidade de “Doente e teste pos” (verdadeiro positivo) com “Não Doente e teste pos” (falso positivo), que resultará em 0,9% + 4,95%, igual a 5,85%. Fazendo toda a conta então, nossa chance de ter a doença se temos um teste positivo é de 0,9%/5,85% = 0.1538, ou 15,38%. É uma chance bem mais baixa do que imaginamos apenas ao olhar para o problema e para a suposta precisão do teste.\n",
    "\n",
    "### Considerando o seguinte:\n",
    "\n",
    "* P(D|A) = Probabilidade de ter a doença dado um teste positivo (este é a probabilidade que desejamos saber)\n",
    "\n",
    "* P(D) = Probabilidade da pessoa ter a doença = 1%\n",
    "\n",
    "* P(A|D) = Probabilidade de um teste positivo se a pessoa tem a doença = 0,9% (\n",
    "\n",
    "* P(A|¬D) = Probabilidade de um teste positivo se a pessoa não tem a doença = 4,95%\n",
    "\n",
    "    **O Teorema de bayes diz que :**\n",
    "    \n",
    "    \n",
    "$$ P(D|A) = \\frac{P(A|D) * P(D)}{P(A|D) * P(D)  + P(A|nao D) * P(nao D)}    $$"
   ]
  },
  {
   "cell_type": "code",
   "execution_count": 5,
   "metadata": {},
   "outputs": [],
   "source": [
    "# A probabilidade de uma pessoa ter certa doença A é de 1%\n",
    "# consequentemente, a probabilidade de não ter a doença é de 99%\n",
    "\n",
    "probabilidade_doenca = 0.01\n",
    "probabilidade_nao_doenca = 1 - probabilidade_doenca\n",
    "\n",
    "# Um teste T para detectar a doença não é 100% confiável, detectando\n",
    "# a doença em pessoas não doentes e não detectando em pessoas doentes\n",
    "\n",
    "# O teste detecta a doença em pessoas doentes em 90% dos casos\n",
    "# e não detecta a doença em pessoas doentes em 10% dos casos\n",
    "\n",
    "prob_teste_pos_e_doenca = 0.9\n",
    "prob_teste_neg_e_doenca = 0.1\n",
    "\n",
    "# O teste detecta a doença em pessoas não doentes em 5% dos casos\n",
    "# e não detecta a doença em pessoas não doentes em 95% dos casos\n",
    "\n",
    "prob_teste_pos_e_nao_doenca = 0.05\n",
    "prob_teste_neg_e_nao_doenca = 0.95\n",
    "\n",
    "\n",
    "# Verdadeiro positivo: chance de ter a doença e o teste dar positivo\n",
    "prob_verdadeiro_positivo = probabilidade_doenca * prob_teste_pos_e_doenca\n",
    "\n",
    "\n",
    "# Verdadeiro negativo: chance de não ter a doença e o teste dar negativo\n",
    "prob_verdadeiro_negativo = probabilidade_nao_doenca * prob_teste_neg_e_nao_doenca\n",
    "\n",
    "# Falso positivo: chance de não ter a doença e o teste dar positivo\n",
    "prob_falso_positivo = probabilidade_nao_doenca * prob_teste_pos_e_nao_doenca\n",
    "\n",
    "# Falso negativo: chance de ter a doença e o teste dar negativo\n",
    "prob_falso_negativo = probabilidade_doenca * prob_teste_neg_e_doenca\n",
    "\n",
    "\n",
    "# Fizemos o teste e o resultado foi positivo. Qual a chance de eu ter a doença?\n",
    "# Teorema de Bayes: P(D|A) = (P(A|D) * P(D)) / (P(A|D) * P(D) + P(A|¬D) * P(¬D))\n",
    "\n"
   ]
  },
  {
   "cell_type": "markdown",
   "metadata": {},
   "source": [
    "### Exemplos\n",
    "\n",
    "1. Uma companhia multinacional tem três fábricas que produzem o mesmo tipo de produto. A fábrica I é responsável por 30% do total produzido, a fábrica II produz 45% do total, e o restante vem da fábrica III. Cada uma das fábricas, no entanto, produz uma proporção de produtos que não atendem aos padrões estabelecidos pelas normas internacionais. Tais produtos são considerados \"defeituosos\" e correspondem a 1%, 2% e 1,5%, respectivamente, dos totais produzidos por fábrica.\n",
    "\n",
    "    No centro de distribuição, é feito o controle de qualidade da produção combinada das fábricas.\n",
    "\n",
    "    a. Qual é a probabilidade de encontrar um produto defeituoso durante a inspeção de qualidade?  \n",
    "    b. Se durante a inspeção encontrarmos um produto defeituoso, qual é a probabilidade de que ele tenha sido produzido na Fábrica II?\n",
    "    \n",
    "2. Vamos utilizar o dataset do Titanic para calcular a probabilidade de uma pessoa ter sobrevivido, dado que é do sexo masculino."
   ]
  },
  {
   "cell_type": "code",
   "execution_count": 4,
   "metadata": {},
   "outputs": [],
   "source": [
    "import pandas as pd\n",
    "import numpy as np"
   ]
  },
  {
   "cell_type": "code",
   "execution_count": 5,
   "metadata": {},
   "outputs": [],
   "source": [
    "df = pd.read_csv('https://s3-sa-east-1.amazonaws.com/lcpi/5729687e-ae14-4978-8cd7-7ef18277813d.csv')"
   ]
  },
  {
   "cell_type": "code",
   "execution_count": 6,
   "metadata": {},
   "outputs": [
    {
     "data": {
      "text/html": [
       "<div>\n",
       "<style scoped>\n",
       "    .dataframe tbody tr th:only-of-type {\n",
       "        vertical-align: middle;\n",
       "    }\n",
       "\n",
       "    .dataframe tbody tr th {\n",
       "        vertical-align: top;\n",
       "    }\n",
       "\n",
       "    .dataframe thead th {\n",
       "        text-align: right;\n",
       "    }\n",
       "</style>\n",
       "<table border=\"1\" class=\"dataframe\">\n",
       "  <thead>\n",
       "    <tr style=\"text-align: right;\">\n",
       "      <th></th>\n",
       "      <th>PassengerId</th>\n",
       "      <th>Survived</th>\n",
       "      <th>Pclass</th>\n",
       "      <th>Name</th>\n",
       "      <th>Sex</th>\n",
       "      <th>Age</th>\n",
       "      <th>SibSp</th>\n",
       "      <th>Parch</th>\n",
       "      <th>Ticket</th>\n",
       "      <th>Fare</th>\n",
       "      <th>Cabin</th>\n",
       "      <th>Embarked</th>\n",
       "    </tr>\n",
       "  </thead>\n",
       "  <tbody>\n",
       "    <tr>\n",
       "      <th>0</th>\n",
       "      <td>1</td>\n",
       "      <td>0</td>\n",
       "      <td>3</td>\n",
       "      <td>Braund, Mr. Owen Harris</td>\n",
       "      <td>male</td>\n",
       "      <td>22.0</td>\n",
       "      <td>1</td>\n",
       "      <td>0</td>\n",
       "      <td>A/5 21171</td>\n",
       "      <td>7.2500</td>\n",
       "      <td>NaN</td>\n",
       "      <td>S</td>\n",
       "    </tr>\n",
       "    <tr>\n",
       "      <th>1</th>\n",
       "      <td>2</td>\n",
       "      <td>1</td>\n",
       "      <td>1</td>\n",
       "      <td>Cumings, Mrs. John Bradley (Florence Briggs Th...</td>\n",
       "      <td>female</td>\n",
       "      <td>38.0</td>\n",
       "      <td>1</td>\n",
       "      <td>0</td>\n",
       "      <td>PC 17599</td>\n",
       "      <td>71.2833</td>\n",
       "      <td>C85</td>\n",
       "      <td>C</td>\n",
       "    </tr>\n",
       "    <tr>\n",
       "      <th>2</th>\n",
       "      <td>3</td>\n",
       "      <td>1</td>\n",
       "      <td>3</td>\n",
       "      <td>Heikkinen, Miss. Laina</td>\n",
       "      <td>female</td>\n",
       "      <td>26.0</td>\n",
       "      <td>0</td>\n",
       "      <td>0</td>\n",
       "      <td>STON/O2. 3101282</td>\n",
       "      <td>7.9250</td>\n",
       "      <td>NaN</td>\n",
       "      <td>S</td>\n",
       "    </tr>\n",
       "    <tr>\n",
       "      <th>3</th>\n",
       "      <td>4</td>\n",
       "      <td>1</td>\n",
       "      <td>1</td>\n",
       "      <td>Futrelle, Mrs. Jacques Heath (Lily May Peel)</td>\n",
       "      <td>female</td>\n",
       "      <td>35.0</td>\n",
       "      <td>1</td>\n",
       "      <td>0</td>\n",
       "      <td>113803</td>\n",
       "      <td>53.1000</td>\n",
       "      <td>C123</td>\n",
       "      <td>S</td>\n",
       "    </tr>\n",
       "    <tr>\n",
       "      <th>4</th>\n",
       "      <td>5</td>\n",
       "      <td>0</td>\n",
       "      <td>3</td>\n",
       "      <td>Allen, Mr. William Henry</td>\n",
       "      <td>male</td>\n",
       "      <td>35.0</td>\n",
       "      <td>0</td>\n",
       "      <td>0</td>\n",
       "      <td>373450</td>\n",
       "      <td>8.0500</td>\n",
       "      <td>NaN</td>\n",
       "      <td>S</td>\n",
       "    </tr>\n",
       "  </tbody>\n",
       "</table>\n",
       "</div>"
      ],
      "text/plain": [
       "   PassengerId  Survived  Pclass  \\\n",
       "0            1         0       3   \n",
       "1            2         1       1   \n",
       "2            3         1       3   \n",
       "3            4         1       1   \n",
       "4            5         0       3   \n",
       "\n",
       "                                                Name     Sex   Age  SibSp  \\\n",
       "0                            Braund, Mr. Owen Harris    male  22.0      1   \n",
       "1  Cumings, Mrs. John Bradley (Florence Briggs Th...  female  38.0      1   \n",
       "2                             Heikkinen, Miss. Laina  female  26.0      0   \n",
       "3       Futrelle, Mrs. Jacques Heath (Lily May Peel)  female  35.0      1   \n",
       "4                           Allen, Mr. William Henry    male  35.0      0   \n",
       "\n",
       "   Parch            Ticket     Fare Cabin Embarked  \n",
       "0      0         A/5 21171   7.2500   NaN        S  \n",
       "1      0          PC 17599  71.2833   C85        C  \n",
       "2      0  STON/O2. 3101282   7.9250   NaN        S  \n",
       "3      0            113803  53.1000  C123        S  \n",
       "4      0            373450   8.0500   NaN        S  "
      ]
     },
     "execution_count": 6,
     "metadata": {},
     "output_type": "execute_result"
    }
   ],
   "source": [
    "df.head()"
   ]
  },
  {
   "cell_type": "code",
   "execution_count": 7,
   "metadata": {},
   "outputs": [
    {
     "data": {
      "text/plain": [
       "(891, 12)"
      ]
     },
     "execution_count": 7,
     "metadata": {},
     "output_type": "execute_result"
    }
   ],
   "source": [
    "df.shape"
   ]
  },
  {
   "cell_type": "markdown",
   "metadata": {},
   "source": [
    "### Definição de eventos\n",
    "\n",
    "- S: ter sobrevivido\n",
    "- M: ser do sexo masculino\n",
    "\n",
    "$$\n",
    "P(S|M) = \\, ?\n",
    "$$\n",
    "\n",
    "### Equação do Teorema de Bayes\n",
    "\n",
    "$$ P(S|M) = \\frac{P(M|S) \\times P(S)}{P(M|S) \\times P(S)  + P(M|\\bar S) \\times P(\\bar S)}    $$"
   ]
  },
  {
   "cell_type": "code",
   "execution_count": 18,
   "metadata": {},
   "outputs": [],
   "source": [
    "# 𝑃(𝑀|𝑆) = 0.318713\n",
    "df.query('Survived == 1')['Sex'].value_counts(normalize=True)\n",
    "\n",
    "p_masculino_sobreviveu = 0.318713"
   ]
  },
  {
   "cell_type": "code",
   "execution_count": 19,
   "metadata": {},
   "outputs": [],
   "source": [
    "# P(S) = 0.383838\n",
    "df.Survived.value_counts(True)\n",
    "\n",
    "p_sobreviveu = 0.383838"
   ]
  },
  {
   "cell_type": "code",
   "execution_count": 20,
   "metadata": {},
   "outputs": [],
   "source": [
    "# 𝑃(𝑀|𝑆') = 0.852459\n",
    "df.query('Survived == 0')['Sex'].value_counts(normalize=True)\n",
    "\n",
    "p_masculino_nao_sobreviveu = 0.852459"
   ]
  },
  {
   "cell_type": "code",
   "execution_count": 21,
   "metadata": {},
   "outputs": [],
   "source": [
    "# 𝑃(𝑆') = 0.616162\n",
    "df.Survived.value_counts(True)\n",
    "\n",
    "p_nao_sobreviveu = 1 - p_sobreviveu"
   ]
  },
  {
   "cell_type": "code",
   "execution_count": 22,
   "metadata": {},
   "outputs": [],
   "source": [
    "p_sobreviver_masculino = (p_masculino_sobreviveu * p_sobreviveu) / ((p_masculino_sobreviveu * p_sobreviveu) + (p_masculino_nao_sobreviveu * p_nao_sobreviveu))"
   ]
  },
  {
   "cell_type": "code",
   "execution_count": 23,
   "metadata": {},
   "outputs": [
    {
     "data": {
      "text/plain": [
       "0.1889076833772687"
      ]
     },
     "execution_count": 23,
     "metadata": {},
     "output_type": "execute_result"
    }
   ],
   "source": [
    "p_sobreviver_masculino"
   ]
  },
  {
   "cell_type": "code",
   "execution_count": 24,
   "metadata": {},
   "outputs": [
    {
     "data": {
      "text/plain": [
       "0    0.811092\n",
       "1    0.188908\n",
       "Name: Survived, dtype: float64"
      ]
     },
     "execution_count": 24,
     "metadata": {},
     "output_type": "execute_result"
    }
   ],
   "source": [
    "# Forma direta\n",
    "df.query('Sex == \"male\"')['Survived'].value_counts(True)"
   ]
  },
  {
   "cell_type": "code",
   "execution_count": null,
   "metadata": {},
   "outputs": [],
   "source": []
  }
 ],
 "metadata": {
  "kernelspec": {
   "display_name": "Python 3 (ipykernel)",
   "language": "python",
   "name": "python3"
  },
  "language_info": {
   "codemirror_mode": {
    "name": "ipython",
    "version": 3
   },
   "file_extension": ".py",
   "mimetype": "text/x-python",
   "name": "python",
   "nbconvert_exporter": "python",
   "pygments_lexer": "ipython3",
   "version": "3.9.7"
  }
 },
 "nbformat": 4,
 "nbformat_minor": 4
}
