{
 "cells": [
  {
   "cell_type": "markdown",
   "id": "6db76a18",
   "metadata": {},
   "source": [
    "<p class='main_title'>Neural Network Raw Implementation</p>\n",
    "<hr>"
   ]
  },
  {
   "cell_type": "markdown",
   "id": "84d4e45b",
   "metadata": {},
   "source": [
    "Data source: <a href='https://www.kaggle.com/c/digit-recognizer/data'> Kaggle MNIST Database<a>"
   ]
  },
  {
   "cell_type": "markdown",
   "id": "8d3f8bfc",
   "metadata": {
    "heading_collapsed": true
   },
   "source": [
    "# Imports and functions"
   ]
  },
  {
   "cell_type": "code",
   "execution_count": 424,
   "id": "556b0621",
   "metadata": {
    "ExecuteTime": {
     "end_time": "2022-06-03T13:00:38.016244Z",
     "start_time": "2022-06-03T13:00:37.999564Z"
    },
    "hidden": true
   },
   "outputs": [
    {
     "data": {
      "text/html": [
       "\n",
       "        <style>\n",
       "            .jupyter-widgets {color: #d5d5d5 !important;}\n",
       "            .widget-label {color: #d5d5d5 !important;}\n",
       "        </style>\n",
       "    "
      ],
      "text/plain": [
       "<IPython.core.display.HTML object>"
      ]
     },
     "metadata": {},
     "output_type": "display_data"
    }
   ],
   "source": [
    "# Read zip file\n",
    "import zipfile\n",
    "# Math operations and data manipulation\n",
    "import numpy as np\n",
    "import pandas as pd\n",
    "# Data Visualization\n",
    "import matplotlib.pyplot as plt\n",
    "import seaborn as sns; sns.set()\n",
    "import plotly.express as px\n",
    "import plotly.graph_objects as go\n",
    "# Progress bar\n",
    "from tqdm.auto import tqdm\n",
    "# Temp fix for tqdm text in dark theme\n",
    "from IPython.display import HTML, display\n",
    "\n",
    "display(HTML('''\n",
    "        <style>\n",
    "            .jupyter-widgets {color: #d5d5d5 !important;}\n",
    "            .widget-label {color: #d5d5d5 !important;}\n",
    "        </style>\n",
    "    '''))"
   ]
  },
  {
   "cell_type": "code",
   "execution_count": 261,
   "id": "919fef38",
   "metadata": {
    "ExecuteTime": {
     "end_time": "2022-06-03T01:42:31.379247Z",
     "start_time": "2022-06-03T01:42:31.365402Z"
    },
    "hidden": true
   },
   "outputs": [],
   "source": [
    "def plot_ReLU_function():\n",
    "    ticks_frequency = 1\n",
    "    # Plot points\n",
    "    fig, ax = plt.subplots(figsize=(5, 5))\n",
    "    # Draw lines connecting points to axes\n",
    "    ax.plot([-6, 0], [0, 0], c='gray', ls='-', lw=5, alpha=0.5)\n",
    "    ax.arrow(0, 0, 5, 5, width=0.1, color='gray', edgecolor=None, alpha=0.5)\n",
    "    # Scale coordinates\n",
    "    xmin, xmax, ymin, ymax = -5, 5, -5, 5\n",
    "    ax.set(xlim=(xmin-1, xmax+1), ylim=(ymin-1, ymax+1), aspect='equal')\n",
    "    # Change spines coordinate system\n",
    "    ax.spines['bottom'].set_position('zero'); ax.spines['left'].set_position('zero'); ax.spines['top'].set_visible(False); ax.spines['right'].set_visible(False)\n",
    "    # Add X and Y labels\n",
    "    ax.set_xlabel('x', size=14, labelpad=-24, x=1.03); ax.set_ylabel('y', size=14, labelpad=-21, y=1.02, rotation=0)\n",
    "    # Draw grid lined up with ticks\n",
    "    ax.grid(which='both', color='grey', linewidth=0.8, linestyle='-', alpha=0.2)\n",
    "    ax.spines['bottom'].set_edgecolor('black'); ax.spines['left'].set_edgecolor('black'); \n",
    "    arrow_fmt = dict(markersize=10, color='black', clip_on=False)\n",
    "    ax.plot((1), (0), marker='>', transform=ax.get_yaxis_transform(), **arrow_fmt)\n",
    "    ax.plot((0), (1), marker='^', transform=ax.get_xaxis_transform(), **arrow_fmt)\n",
    "\n",
    "    ax.annotate('Returns:\\n\\nx if x > 0    \\n\\n0 if x < 0', xy=(7, 2), xycoords='data', size=14, annotation_clip=False)\n",
    "    plt.title('ReLU function', size=18, pad=20, loc='left')\n",
    "    plt.show()"
   ]
  },
  {
   "cell_type": "code",
   "execution_count": 425,
   "id": "bb576398",
   "metadata": {
    "ExecuteTime": {
     "end_time": "2022-06-03T13:00:55.595759Z",
     "start_time": "2022-06-03T13:00:55.452909Z"
    },
    "hidden": true
   },
   "outputs": [
    {
     "data": {
      "text/html": [
       "<details>\n",
       "<summary>Click to view session information</summary>\n",
       "<pre>\n",
       "-----\n",
       "ipywidgets          7.6.5\n",
       "matplotlib          3.5.2\n",
       "numpy               1.21.5\n",
       "pandas              1.4.2\n",
       "panel               0.13.1\n",
       "plotly              5.6.0\n",
       "seaborn             0.11.2\n",
       "session_info        1.0.0\n",
       "sklearn             1.0.2\n",
       "tqdm                4.64.0\n",
       "traitlets           5.1.1\n",
       "-----\n",
       "</pre>\n",
       "<details>\n",
       "<summary>Click to view modules imported as dependencies</summary>\n",
       "<pre>\n",
       "PIL                         9.0.1\n",
       "PyObjCTools                 NA\n",
       "appnope                     0.1.2\n",
       "asttokens                   NA\n",
       "backcall                    0.2.0\n",
       "beta_ufunc                  NA\n",
       "binom_ufunc                 NA\n",
       "bleach                      4.1.0\n",
       "bokeh                       2.4.2\n",
       "bottleneck                  1.3.4\n",
       "brotli                      NA\n",
       "certifi                     2022.05.18.1\n",
       "cffi                        1.15.0\n",
       "chardet                     4.0.0\n",
       "charset_normalizer          2.0.4\n",
       "cloudpickle                 2.0.0\n",
       "colorama                    0.4.4\n",
       "cycler                      0.10.0\n",
       "cython_runtime              NA\n",
       "dateutil                    2.8.2\n",
       "debugpy                     1.5.1\n",
       "decorator                   5.1.1\n",
       "defusedxml                  0.7.1\n",
       "executing                   0.8.3\n",
       "google                      NA\n",
       "idna                        3.3\n",
       "importlib_metadata          NA\n",
       "ipykernel                   6.9.1\n",
       "ipython_genutils            0.2.0\n",
       "jedi                        0.18.1\n",
       "jinja2                      2.11.3\n",
       "joblib                      1.1.0\n",
       "jupyter_server              1.13.5\n",
       "kiwisolver                  1.4.2\n",
       "lz4                         3.1.3\n",
       "markupsafe                  2.0.1\n",
       "matplotlib_inline           NA\n",
       "mkl                         2.4.0\n",
       "mpl_toolkits                NA\n",
       "nbinom_ufunc                NA\n",
       "netifaces                   0.11.0\n",
       "numexpr                     2.8.1\n",
       "numpydoc                    1.2\n",
       "packaging                   21.3\n",
       "param                       1.12.1\n",
       "parso                       0.8.3\n",
       "pexpect                     4.8.0\n",
       "pickle5                     NA\n",
       "pickleshare                 0.7.5\n",
       "pkg_resources               NA\n",
       "prompt_toolkit              3.0.20\n",
       "psutil                      5.8.0\n",
       "ptyprocess                  0.7.0\n",
       "pure_eval                   0.2.2\n",
       "pyarrow                     7.0.0\n",
       "pydev_ipython               NA\n",
       "pydevconsole                NA\n",
       "pydevd                      2.6.0\n",
       "pydevd_concurrency_analyser NA\n",
       "pydevd_file_utils           NA\n",
       "pydevd_plugins              NA\n",
       "pydevd_tracing              NA\n",
       "pygments                    2.11.2\n",
       "pyparsing                   3.0.4\n",
       "pytz                        2021.3\n",
       "pyviz_comms                 2.2.0\n",
       "requests                    2.27.1\n",
       "scipy                       1.7.3\n",
       "setuptools                  61.2.0\n",
       "six                         1.16.0\n",
       "socks                       1.7.1\n",
       "sphinxcontrib               NA\n",
       "stack_data                  0.2.0\n",
       "statsmodels                 0.13.2\n",
       "threadpoolctl               2.2.0\n",
       "tornado                     6.1\n",
       "typing_extensions           NA\n",
       "urllib3                     1.26.9\n",
       "wcwidth                     0.2.5\n",
       "webencodings                0.5.1\n",
       "yaml                        6.0\n",
       "zipp                        NA\n",
       "zmq                         22.3.0\n",
       "zope                        NA\n",
       "</pre>\n",
       "</details> <!-- seems like this ends pre, so might as well be explicit -->\n",
       "<pre>\n",
       "-----\n",
       "IPython             8.3.0\n",
       "jupyter_client      6.1.12\n",
       "jupyter_core        4.10.0\n",
       "jupyterlab          3.3.2\n",
       "notebook            6.4.11\n",
       "-----\n",
       "Python 3.9.12 (main, Apr  5 2022, 01:53:17) [Clang 12.0.0 ]\n",
       "macOS-10.15.7-x86_64-i386-64bit\n",
       "-----\n",
       "Session information updated at 2022-06-03 10:00\n",
       "</pre>\n",
       "</details>"
      ],
      "text/plain": [
       "<IPython.core.display.HTML object>"
      ]
     },
     "execution_count": 425,
     "metadata": {},
     "output_type": "execute_result"
    }
   ],
   "source": [
    "# Display libraries version\n",
    "import session_info\n",
    "session_info.show()"
   ]
  },
  {
   "cell_type": "markdown",
   "id": "55f42242",
   "metadata": {
    "heading_collapsed": true
   },
   "source": [
    "# Load data"
   ]
  },
  {
   "cell_type": "markdown",
   "id": "20ea7ea4",
   "metadata": {
    "hidden": true
   },
   "source": [
    "## Loading dataset using `kaggle API`"
   ]
  },
  {
   "cell_type": "code",
   "execution_count": 11,
   "id": "d90a9375",
   "metadata": {
    "ExecuteTime": {
     "end_time": "2022-06-02T23:32:40.702122Z",
     "start_time": "2022-06-02T23:32:36.699351Z"
    },
    "hidden": true
   },
   "outputs": [
    {
     "name": "stdout",
     "output_type": "stream",
     "text": [
      "Downloading digit-recognizer.zip to /Users/baiochi/OneDrive/GitHub/LetsCode/8_RNN\n",
      " 98%|█████████████████████████████████████▏| 15.0M/15.3M [00:02<00:00, 9.43MB/s]\n",
      "100%|██████████████████████████████████████| 15.3M/15.3M [00:02<00:00, 7.68MB/s]\n"
     ]
    }
   ],
   "source": [
    "!kaggle competitions download -c digit-recognizer"
   ]
  },
  {
   "cell_type": "markdown",
   "id": "87d40cb3",
   "metadata": {
    "hidden": true
   },
   "source": [
    "## Reading files from zip with `pandas`"
   ]
  },
  {
   "cell_type": "code",
   "execution_count": 29,
   "id": "ac0e2b59",
   "metadata": {
    "ExecuteTime": {
     "end_time": "2022-06-02T23:55:22.828646Z",
     "start_time": "2022-06-02T23:55:22.822705Z"
    },
    "hidden": true
   },
   "outputs": [
    {
     "name": "stdout",
     "output_type": "stream",
     "text": [
      "['sample_submission.csv', 'test.csv', 'train.csv']\n"
     ]
    }
   ],
   "source": [
    "# Check files inside the zip\n",
    "with zipfile.ZipFile('datasets/digit-recognizer.zip', 'r') as myzip:\n",
    "     print(myzip.namelist())"
   ]
  },
  {
   "cell_type": "code",
   "execution_count": 30,
   "id": "61fcdb52",
   "metadata": {
    "ExecuteTime": {
     "end_time": "2022-06-02T23:56:55.767019Z",
     "start_time": "2022-06-02T23:56:49.876728Z"
    },
    "hidden": true
   },
   "outputs": [],
   "source": [
    "# read train/test data with pandas\n",
    "with zipfile.ZipFile('datasets/digit-recognizer.zip', 'r') as myzip:\n",
    "    train_df = pd.read_csv(myzip.open('train.csv'))\n",
    "    test_df = pd.read_csv(myzip.open('test.csv'))"
   ]
  },
  {
   "cell_type": "markdown",
   "id": "263359f2",
   "metadata": {
    "hidden": true
   },
   "source": [
    "## Exploring the dataset"
   ]
  },
  {
   "cell_type": "code",
   "execution_count": 33,
   "id": "0e6fd0f5",
   "metadata": {
    "ExecuteTime": {
     "end_time": "2022-06-02T23:57:17.812156Z",
     "start_time": "2022-06-02T23:57:17.792444Z"
    },
    "hidden": true
   },
   "outputs": [
    {
     "name": "stdout",
     "output_type": "stream",
     "text": [
      "<class 'pandas.core.frame.DataFrame'>\n",
      "RangeIndex: 42000 entries, 0 to 41999\n",
      "Columns: 785 entries, label to pixel783\n",
      "dtypes: int64(785)\n",
      "memory usage: 251.5 MB\n"
     ]
    }
   ],
   "source": [
    "train_df.info()"
   ]
  },
  {
   "cell_type": "code",
   "execution_count": 35,
   "id": "aacdbf04",
   "metadata": {
    "ExecuteTime": {
     "end_time": "2022-06-02T23:57:27.582690Z",
     "start_time": "2022-06-02T23:57:27.535479Z"
    },
    "hidden": true
   },
   "outputs": [
    {
     "name": "stdout",
     "output_type": "stream",
     "text": [
      "<class 'pandas.core.frame.DataFrame'>\n",
      "RangeIndex: 28000 entries, 0 to 27999\n",
      "Columns: 784 entries, pixel0 to pixel783\n",
      "dtypes: int64(784)\n",
      "memory usage: 167.5 MB\n"
     ]
    }
   ],
   "source": [
    "test_df.info()"
   ]
  },
  {
   "cell_type": "code",
   "execution_count": 36,
   "id": "d711f16d",
   "metadata": {
    "ExecuteTime": {
     "end_time": "2022-06-02T23:57:47.369598Z",
     "start_time": "2022-06-02T23:57:47.349714Z"
    },
    "hidden": true
   },
   "outputs": [
    {
     "data": {
      "text/html": [
       "<div>\n",
       "<style scoped>\n",
       "    .dataframe tbody tr th:only-of-type {\n",
       "        vertical-align: middle;\n",
       "    }\n",
       "\n",
       "    .dataframe tbody tr th {\n",
       "        vertical-align: top;\n",
       "    }\n",
       "\n",
       "    .dataframe thead th {\n",
       "        text-align: right;\n",
       "    }\n",
       "</style>\n",
       "<table border=\"1\" class=\"dataframe\">\n",
       "  <thead>\n",
       "    <tr style=\"text-align: right;\">\n",
       "      <th></th>\n",
       "      <th>label</th>\n",
       "      <th>pixel0</th>\n",
       "      <th>pixel1</th>\n",
       "      <th>pixel2</th>\n",
       "      <th>pixel3</th>\n",
       "      <th>pixel4</th>\n",
       "      <th>pixel5</th>\n",
       "      <th>pixel6</th>\n",
       "      <th>pixel7</th>\n",
       "      <th>pixel8</th>\n",
       "      <th>...</th>\n",
       "      <th>pixel774</th>\n",
       "      <th>pixel775</th>\n",
       "      <th>pixel776</th>\n",
       "      <th>pixel777</th>\n",
       "      <th>pixel778</th>\n",
       "      <th>pixel779</th>\n",
       "      <th>pixel780</th>\n",
       "      <th>pixel781</th>\n",
       "      <th>pixel782</th>\n",
       "      <th>pixel783</th>\n",
       "    </tr>\n",
       "  </thead>\n",
       "  <tbody>\n",
       "    <tr>\n",
       "      <th>0</th>\n",
       "      <td>1</td>\n",
       "      <td>0</td>\n",
       "      <td>0</td>\n",
       "      <td>0</td>\n",
       "      <td>0</td>\n",
       "      <td>0</td>\n",
       "      <td>0</td>\n",
       "      <td>0</td>\n",
       "      <td>0</td>\n",
       "      <td>0</td>\n",
       "      <td>...</td>\n",
       "      <td>0</td>\n",
       "      <td>0</td>\n",
       "      <td>0</td>\n",
       "      <td>0</td>\n",
       "      <td>0</td>\n",
       "      <td>0</td>\n",
       "      <td>0</td>\n",
       "      <td>0</td>\n",
       "      <td>0</td>\n",
       "      <td>0</td>\n",
       "    </tr>\n",
       "    <tr>\n",
       "      <th>1</th>\n",
       "      <td>0</td>\n",
       "      <td>0</td>\n",
       "      <td>0</td>\n",
       "      <td>0</td>\n",
       "      <td>0</td>\n",
       "      <td>0</td>\n",
       "      <td>0</td>\n",
       "      <td>0</td>\n",
       "      <td>0</td>\n",
       "      <td>0</td>\n",
       "      <td>...</td>\n",
       "      <td>0</td>\n",
       "      <td>0</td>\n",
       "      <td>0</td>\n",
       "      <td>0</td>\n",
       "      <td>0</td>\n",
       "      <td>0</td>\n",
       "      <td>0</td>\n",
       "      <td>0</td>\n",
       "      <td>0</td>\n",
       "      <td>0</td>\n",
       "    </tr>\n",
       "    <tr>\n",
       "      <th>2</th>\n",
       "      <td>1</td>\n",
       "      <td>0</td>\n",
       "      <td>0</td>\n",
       "      <td>0</td>\n",
       "      <td>0</td>\n",
       "      <td>0</td>\n",
       "      <td>0</td>\n",
       "      <td>0</td>\n",
       "      <td>0</td>\n",
       "      <td>0</td>\n",
       "      <td>...</td>\n",
       "      <td>0</td>\n",
       "      <td>0</td>\n",
       "      <td>0</td>\n",
       "      <td>0</td>\n",
       "      <td>0</td>\n",
       "      <td>0</td>\n",
       "      <td>0</td>\n",
       "      <td>0</td>\n",
       "      <td>0</td>\n",
       "      <td>0</td>\n",
       "    </tr>\n",
       "    <tr>\n",
       "      <th>3</th>\n",
       "      <td>4</td>\n",
       "      <td>0</td>\n",
       "      <td>0</td>\n",
       "      <td>0</td>\n",
       "      <td>0</td>\n",
       "      <td>0</td>\n",
       "      <td>0</td>\n",
       "      <td>0</td>\n",
       "      <td>0</td>\n",
       "      <td>0</td>\n",
       "      <td>...</td>\n",
       "      <td>0</td>\n",
       "      <td>0</td>\n",
       "      <td>0</td>\n",
       "      <td>0</td>\n",
       "      <td>0</td>\n",
       "      <td>0</td>\n",
       "      <td>0</td>\n",
       "      <td>0</td>\n",
       "      <td>0</td>\n",
       "      <td>0</td>\n",
       "    </tr>\n",
       "    <tr>\n",
       "      <th>4</th>\n",
       "      <td>0</td>\n",
       "      <td>0</td>\n",
       "      <td>0</td>\n",
       "      <td>0</td>\n",
       "      <td>0</td>\n",
       "      <td>0</td>\n",
       "      <td>0</td>\n",
       "      <td>0</td>\n",
       "      <td>0</td>\n",
       "      <td>0</td>\n",
       "      <td>...</td>\n",
       "      <td>0</td>\n",
       "      <td>0</td>\n",
       "      <td>0</td>\n",
       "      <td>0</td>\n",
       "      <td>0</td>\n",
       "      <td>0</td>\n",
       "      <td>0</td>\n",
       "      <td>0</td>\n",
       "      <td>0</td>\n",
       "      <td>0</td>\n",
       "    </tr>\n",
       "  </tbody>\n",
       "</table>\n",
       "<p>5 rows × 785 columns</p>\n",
       "</div>"
      ],
      "text/plain": [
       "   label  pixel0  pixel1  pixel2  pixel3  pixel4  pixel5  pixel6  pixel7  \\\n",
       "0      1       0       0       0       0       0       0       0       0   \n",
       "1      0       0       0       0       0       0       0       0       0   \n",
       "2      1       0       0       0       0       0       0       0       0   \n",
       "3      4       0       0       0       0       0       0       0       0   \n",
       "4      0       0       0       0       0       0       0       0       0   \n",
       "\n",
       "   pixel8  ...  pixel774  pixel775  pixel776  pixel777  pixel778  pixel779  \\\n",
       "0       0  ...         0         0         0         0         0         0   \n",
       "1       0  ...         0         0         0         0         0         0   \n",
       "2       0  ...         0         0         0         0         0         0   \n",
       "3       0  ...         0         0         0         0         0         0   \n",
       "4       0  ...         0         0         0         0         0         0   \n",
       "\n",
       "   pixel780  pixel781  pixel782  pixel783  \n",
       "0         0         0         0         0  \n",
       "1         0         0         0         0  \n",
       "2         0         0         0         0  \n",
       "3         0         0         0         0  \n",
       "4         0         0         0         0  \n",
       "\n",
       "[5 rows x 785 columns]"
      ]
     },
     "execution_count": 36,
     "metadata": {},
     "output_type": "execute_result"
    }
   ],
   "source": [
    "train_df.head()"
   ]
  },
  {
   "cell_type": "code",
   "execution_count": 51,
   "id": "385741d2",
   "metadata": {
    "ExecuteTime": {
     "end_time": "2022-06-03T00:01:26.232691Z",
     "start_time": "2022-06-03T00:01:26.036086Z"
    },
    "hidden": true
   },
   "outputs": [
    {
     "data": {
      "image/png": "[encoded data removed]",
      "text/plain": [
       "<Figure size 432x288 with 1 Axes>"
      ]
     },
     "metadata": {
      "needs_background": "light"
     },
     "output_type": "display_data"
    }
   ],
   "source": [
    "# Label = Number 1\n",
    "label_example = train_df.iloc[0,0]\n",
    "# Get only pixel columns and reshape into a 28x28 matrix\n",
    "image_example = train_df.loc[0][1:].values.reshape(28,28)\n",
    "# Display image\n",
    "plt.imshow(image_example)\n",
    "plt.grid(False);\n",
    "# Thats a..."
   ]
  },
  {
   "cell_type": "markdown",
   "id": "67f0ad69",
   "metadata": {},
   "source": [
    "# NN Examples"
   ]
  },
  {
   "cell_type": "markdown",
   "id": "705d66ba",
   "metadata": {
    "heading_collapsed": true
   },
   "source": [
    "## Single Neuron"
   ]
  },
  {
   "cell_type": "markdown",
   "id": "4ae205ac",
   "metadata": {
    "hidden": true
   },
   "source": [
    "Activation function:  \n",
    "$a_{output}$\n",
    "$=$\n",
    "<font color='#fdbf11' size=5>$\\sigma($</font>\n",
    "$\\sum$\n",
    "<font color='#1696d2' size=5>$a_n$</font>\n",
    "<font color='#55b748' size=5>$w_n$</font>\n",
    "+\n",
    "<font color='#e54096' size=5>$b$</font>\n",
    "<font color='#fdbf11' size=5>$)$</font>\n",
    "  \n",
    "- <font color='#1696d2' size=5>$a_n$</font> input neurons  \n",
    "- <font color='#55b748' size=5>$w_n$</font> neuron associated weight  \n",
    "- <font color='#e54096' size=5>$b$</font> bias for the weighted sum get meaningfully active   \n",
    "- <font color='#fdbf11' size=5>$\\sigma(x)$</font> sigmoid (activation function)  \n",
    "- $a_{output}$ neuron output  "
   ]
  },
  {
   "cell_type": "code",
   "execution_count": 667,
   "id": "c2706a23",
   "metadata": {
    "ExecuteTime": {
     "end_time": "2022-06-03T17:32:44.050522Z",
     "start_time": "2022-06-03T17:32:44.039151Z"
    },
    "hidden": true
   },
   "outputs": [
    {
     "data": {
      "text/plain": [
       "-3.187944804682159"
      ]
     },
     "execution_count": 667,
     "metadata": {},
     "output_type": "execute_result"
    }
   ],
   "source": [
    "# Set seed for reproducibility\n",
    "np.random.seed(42)\n",
    "# Define some inputs (X)\n",
    "input_layer = np.random.uniform(0, 1, size=5)\n",
    "# Define random weights\n",
    "weights = np.random.uniform(-0.5, 0.5, size=5)\n",
    "# Define a random bias value\n",
    "bias = 3\n",
    "# Calculate output value\n",
    "output = sum(input_layer*weights) - bias\n",
    "output"
   ]
  },
  {
   "cell_type": "markdown",
   "id": "bda60203",
   "metadata": {
    "hidden": true
   },
   "source": [
    "Sigmoid function  \n",
    "$f(x) = \\sigma(x) = \\frac{1}{1 + e^{-x}}  $  "
   ]
  },
  {
   "cell_type": "code",
   "execution_count": 948,
   "id": "ddde579a",
   "metadata": {
    "ExecuteTime": {
     "end_time": "2022-06-06T02:09:15.176457Z",
     "start_time": "2022-06-06T02:09:14.681219Z"
    },
    "hidden": true
   },
   "outputs": [
    {
     "data": {
      "image/png": "[encoded data removed]",
      "text/plain": [
       "<Figure size 432x288 with 1 Axes>"
      ]
     },
     "metadata": {},
     "output_type": "display_data"
    }
   ],
   "source": [
    "from scipy.special import expit # Avoids exp overflow error\n",
    "sigmoid = lambda x: 1/(1 + expit(-x))\n",
    "# Plot sigmoid function\n",
    "x = np.linspace(-output-10, output+10, 200)\n",
    "z = sigmoid(x)\n",
    "plt.plot(x, z)\n",
    "plt.title('Sigmoid activation function example', size=18, pad=10, loc='left')\n",
    "plt.xlabel(\"x\"); plt.ylabel(\"Sigmoid(X)\"); plt.show()"
   ]
  },
  {
   "cell_type": "code",
   "execution_count": 669,
   "id": "942c548b",
   "metadata": {
    "ExecuteTime": {
     "end_time": "2022-06-03T17:33:02.590119Z",
     "start_time": "2022-06-03T17:33:02.582740Z"
    },
    "hidden": true
   },
   "outputs": [
    {
     "data": {
      "text/plain": [
       "0.03962190992044933"
      ]
     },
     "execution_count": 669,
     "metadata": {},
     "output_type": "execute_result"
    }
   ],
   "source": [
    "# Apply sigmoid function\n",
    "output = sigmoid(output)\n",
    "output"
   ]
  },
  {
   "cell_type": "markdown",
   "id": "5a0e35bc",
   "metadata": {
    "heading_collapsed": true,
    "hidden": true
   },
   "source": [
    "### Visualizing the Neural network"
   ]
  },
  {
   "cell_type": "code",
   "execution_count": 670,
   "id": "7a693f17",
   "metadata": {
    "ExecuteTime": {
     "end_time": "2022-06-03T17:34:32.895969Z",
     "start_time": "2022-06-03T17:34:32.270541Z"
    },
    "hidden": true
   },
   "outputs": [
    {
     "name": "stdout",
     "output_type": "stream",
     "text": [
      "Neural network representation with 1 neuron\n",
      "Inputs:  [0.37454012 0.95071431 0.73199394 0.59865848 0.15601864]\n",
      "Weights:  [-0.34400548 -0.44191639  0.36617615  0.10111501  0.20807258]\n",
      "Activation function:  0.03962190992044933\n"
     ]
    },
    {
     "data": {
      "image/svg+xml": [
       "<?xml version=\"1.0\" encoding=\"UTF-8\" standalone=\"no\"?>\n",
       "<!DOCTYPE svg PUBLIC \"-//W3C//DTD SVG 1.1//EN\"\n",
       " \"http://www.w3.org/Graphics/SVG/1.1/DTD/svg11.dtd\">\n",
       "<!-- Generated by graphviz version 3.0.0 (20220226.1711)\n",
       " -->\n",
       "<!-- Pages: 1 -->\n",
       "<svg width=\"245pt\" height=\"288pt\"\n",
       " viewBox=\"0.00 0.00 244.80 288.00\" xmlns=\"http://www.w3.org/2000/svg\" xmlns:xlink=\"http://www.w3.org/1999/xlink\">\n",
       "<g id=\"graph0\" class=\"graph\" transform=\"scale(0.790567 0.790567) rotate(0) translate(4 360.3)\">\n",
       "<polygon fill=\"white\" stroke=\"transparent\" points=\"-4,4 -4,-360.3 305.66,-360.3 305.66,4 -4,4\"/>\n",
       "<!-- output -->\n",
       "<g id=\"node1\" class=\"node\">\n",
       "<title>output</title>\n",
       "<ellipse fill=\"#ff0000\" fill-opacity=\"0.501961\" stroke=\"#ff0000\" stroke-opacity=\"0.501961\" cx=\"275.01\" cy=\"-185.71\" rx=\"26.8\" ry=\"26.8\"/>\n",
       "<text text-anchor=\"middle\" x=\"275.01\" y=\"-182.01\" font-family=\"Times,serif\" font-size=\"14.00\">0.04</text>\n",
       "<text text-anchor=\"middle\" x=\"237.86\" y=\"-216.16\" font-family=\"Times,serif\" font-size=\"14.00\">f(x)</text>\n",
       "</g>\n",
       "<!-- a0 -->\n",
       "<g id=\"node2\" class=\"node\">\n",
       "<title>a0</title>\n",
       "<ellipse fill=\"#0000ff\" fill-opacity=\"0.501961\" stroke=\"#0000ff\" stroke-opacity=\"0.501961\" cx=\"39.65\" cy=\"-314.65\" rx=\"26.8\" ry=\"26.8\"/>\n",
       "<text text-anchor=\"middle\" x=\"39.65\" y=\"-310.95\" font-family=\"Times,serif\" font-size=\"14.00\">0.37</text>\n",
       "<text text-anchor=\"middle\" x=\"6.5\" y=\"-345.1\" font-family=\"Times,serif\" font-size=\"14.00\">a0</text>\n",
       "</g>\n",
       "<!-- a0&#45;&gt;output -->\n",
       "<g id=\"edge1\" class=\"edge\">\n",
       "<title>a0&#45;&gt;output</title>\n",
       "<path fill=\"none\" stroke=\"#424242\" stroke-opacity=\"0.501961\" d=\"M63.08,-301.81C105.26,-278.7 194.08,-230.05 242.26,-203.65\"/>\n",
       "<polygon fill=\"#424242\" fill-opacity=\"0.501961\" stroke=\"#424242\" stroke-opacity=\"0.501961\" points=\"244.24,-206.56 251.33,-198.68 240.87,-200.42 244.24,-206.56\"/>\n",
       "<text text-anchor=\"middle\" x=\"138.17\" y=\"-256.53\" font-family=\"Times,serif\" font-size=\"14.00\">&#45;0.34</text>\n",
       "<text text-anchor=\"middle\" x=\"144.17\" y=\"-241.53\" font-family=\"Times,serif\" font-size=\"14.00\">w0</text>\n",
       "</g>\n",
       "<!-- a1 -->\n",
       "<g id=\"node3\" class=\"node\">\n",
       "<title>a1</title>\n",
       "<ellipse fill=\"#0000ff\" fill-opacity=\"0.501961\" stroke=\"#0000ff\" stroke-opacity=\"0.501961\" cx=\"39.65\" cy=\"-242.65\" rx=\"26.8\" ry=\"26.8\"/>\n",
       "<text text-anchor=\"middle\" x=\"39.65\" y=\"-238.95\" font-family=\"Times,serif\" font-size=\"14.00\">0.95</text>\n",
       "<text text-anchor=\"middle\" x=\"6.5\" y=\"-273.1\" font-family=\"Times,serif\" font-size=\"14.00\">a1</text>\n",
       "</g>\n",
       "<!-- a1&#45;&gt;output -->\n",
       "<g id=\"edge2\" class=\"edge\">\n",
       "<title>a1&#45;&gt;output</title>\n",
       "<path fill=\"none\" stroke=\"#424242\" stroke-opacity=\"0.501961\" d=\"M65.73,-236.34C107.88,-226.14 191.06,-206.02 238.88,-194.45\"/>\n",
       "<polygon fill=\"#424242\" fill-opacity=\"0.501961\" stroke=\"#424242\" stroke-opacity=\"0.501961\" points=\"239.91,-197.8 248.8,-192.05 238.26,-191 239.91,-197.8\"/>\n",
       "<text text-anchor=\"middle\" x=\"137.81\" y=\"-219.19\" font-family=\"Times,serif\" font-size=\"14.00\">&#45;0.44</text>\n",
       "<text text-anchor=\"middle\" x=\"143.81\" y=\"-204.19\" font-family=\"Times,serif\" font-size=\"14.00\">w1</text>\n",
       "</g>\n",
       "<!-- a2 -->\n",
       "<g id=\"node4\" class=\"node\">\n",
       "<title>a2</title>\n",
       "<ellipse fill=\"#0000ff\" fill-opacity=\"0.501961\" stroke=\"#0000ff\" stroke-opacity=\"0.501961\" cx=\"39.65\" cy=\"-170.65\" rx=\"26.8\" ry=\"26.8\"/>\n",
       "<text text-anchor=\"middle\" x=\"39.65\" y=\"-166.95\" font-family=\"Times,serif\" font-size=\"14.00\">0.73</text>\n",
       "<text text-anchor=\"middle\" x=\"6.5\" y=\"-201.1\" font-family=\"Times,serif\" font-size=\"14.00\">a2</text>\n",
       "</g>\n",
       "<!-- a2&#45;&gt;output -->\n",
       "<g id=\"edge3\" class=\"edge\">\n",
       "<title>a2&#45;&gt;output</title>\n",
       "<path fill=\"none\" stroke=\"#424242\" stroke-opacity=\"0.501961\" d=\"M66.65,-172.38C108.85,-175.08 190.55,-180.31 238.14,-183.35\"/>\n",
       "<polygon fill=\"#424242\" fill-opacity=\"0.501961\" stroke=\"#424242\" stroke-opacity=\"0.501961\" points=\"238.12,-186.86 248.32,-184 238.57,-179.87 238.12,-186.86\"/>\n",
       "<text text-anchor=\"middle\" x=\"139.89\" y=\"-181.66\" font-family=\"Times,serif\" font-size=\"14.00\">0.37</text>\n",
       "<text text-anchor=\"middle\" x=\"143.89\" y=\"-166.66\" font-family=\"Times,serif\" font-size=\"14.00\">w2</text>\n",
       "</g>\n",
       "<!-- a3 -->\n",
       "<g id=\"node5\" class=\"node\">\n",
       "<title>a3</title>\n",
       "<ellipse fill=\"#0000ff\" fill-opacity=\"0.501961\" stroke=\"#0000ff\" stroke-opacity=\"0.501961\" cx=\"39.65\" cy=\"-98.65\" rx=\"22.2\" ry=\"22.2\"/>\n",
       "<text text-anchor=\"middle\" x=\"39.65\" y=\"-94.95\" font-family=\"Times,serif\" font-size=\"14.00\">0.6</text>\n",
       "<text text-anchor=\"middle\" x=\"11.05\" y=\"-124.55\" font-family=\"Times,serif\" font-size=\"14.00\">a3</text>\n",
       "</g>\n",
       "<!-- a3&#45;&gt;output -->\n",
       "<g id=\"edge4\" class=\"edge\">\n",
       "<title>a3&#45;&gt;output</title>\n",
       "<path fill=\"none\" stroke=\"#424242\" stroke-opacity=\"0.501961\" d=\"M60.53,-106.37C101.06,-121.36 190.71,-154.53 240.31,-172.87\"/>\n",
       "<polygon fill=\"#424242\" fill-opacity=\"0.501961\" stroke=\"#424242\" stroke-opacity=\"0.501961\" points=\"239.37,-176.26 249.96,-176.45 241.8,-169.69 239.37,-176.26\"/>\n",
       "<text text-anchor=\"middle\" x=\"141.42\" y=\"-143.42\" font-family=\"Times,serif\" font-size=\"14.00\">0.1</text>\n",
       "<text text-anchor=\"middle\" x=\"141.92\" y=\"-128.42\" font-family=\"Times,serif\" font-size=\"14.00\">w3</text>\n",
       "</g>\n",
       "<!-- a4 -->\n",
       "<g id=\"node6\" class=\"node\">\n",
       "<title>a4</title>\n",
       "<ellipse fill=\"#0000ff\" fill-opacity=\"0.501961\" stroke=\"#0000ff\" stroke-opacity=\"0.501961\" cx=\"39.65\" cy=\"-26.65\" rx=\"26.8\" ry=\"26.8\"/>\n",
       "<text text-anchor=\"middle\" x=\"39.65\" y=\"-22.95\" font-family=\"Times,serif\" font-size=\"14.00\">0.16</text>\n",
       "<text text-anchor=\"middle\" x=\"6.5\" y=\"-57.1\" font-family=\"Times,serif\" font-size=\"14.00\">a4</text>\n",
       "</g>\n",
       "<!-- a4&#45;&gt;output -->\n",
       "<g id=\"edge5\" class=\"edge\">\n",
       "<title>a4&#45;&gt;output</title>\n",
       "<path fill=\"none\" stroke=\"#424242\" stroke-opacity=\"0.501961\" d=\"M61.79,-41.61C104.02,-70.15 196.14,-132.41 244.3,-164.95\"/>\n",
       "<polygon fill=\"#424242\" fill-opacity=\"0.501961\" stroke=\"#424242\" stroke-opacity=\"0.501961\" points=\"242.51,-167.97 252.75,-170.67 246.43,-162.17 242.51,-167.97\"/>\n",
       "<text text-anchor=\"middle\" x=\"140.54\" y=\"-107.08\" font-family=\"Times,serif\" font-size=\"14.00\">0.21</text>\n",
       "<text text-anchor=\"middle\" x=\"144.54\" y=\"-92.08\" font-family=\"Times,serif\" font-size=\"14.00\">w4</text>\n",
       "</g>\n",
       "</g>\n",
       "</svg>\n"
      ],
      "text/plain": [
       "<graphviz.graphs.Digraph at 0x7fe507f00310>"
      ]
     },
     "execution_count": 670,
     "metadata": {},
     "output_type": "execute_result"
    }
   ],
   "source": [
    "from graphviz import Digraph\n",
    "\n",
    "graph = Digraph(engine='neato')\n",
    "graph.attr(size='4')\n",
    "# Add output node\n",
    "graph.node('output', str(output.round(2)), xlabel='f(x)', color='#ff000080', style='filled', shape='circle', pos='15,-1')\n",
    "# Add node for each input and it respective weight\n",
    "for index, value in enumerate(input_layer):\n",
    "    current_node = 'a' + str(index)\n",
    "    current_weight = 'w' + str(index)\n",
    "    graph.node(name=current_node, \n",
    "               label=str(value.round(2)),\n",
    "               xlabel=current_node,\n",
    "               color='#0000ff80', style='filled', shape='circle', pos=f'0,{-index}!')\n",
    "    graph.edge(current_node, 'output',\n",
    "               label=str(weights[index].round(2)),\n",
    "               xlabel=current_weight,\n",
    "               color='#42424280',)\n",
    "\n",
    "print('Neural network representation with 1 neuron')\n",
    "print('Inputs: ', input_layer)\n",
    "print('Weights: ', weights)\n",
    "print('Activation function: ', output)\n",
    "graph"
   ]
  },
  {
   "cell_type": "markdown",
   "id": "f739db11",
   "metadata": {
    "heading_collapsed": true
   },
   "source": [
    "## Multiple neurons"
   ]
  },
  {
   "cell_type": "markdown",
   "id": "2b5ecbfd",
   "metadata": {
    "hidden": true
   },
   "source": [
    "<font size=5>$a^{(1)}_{0}$\n",
    "$=$\n",
    "<font color='#fdbf11'>$\\sigma($</font>\n",
    "<font color='#55b748'>$w_{0,0}$</font>\n",
    "$a^{(0)}_1 + ... +  $\n",
    "<font color='#55b748'>$w_{0,n}$</font>\n",
    "$a^{(0)}_n + $\n",
    "<font color='#1696d2'>$b_0$</font>\n",
    "<font color='#fdbf11'>$)$</font>   \n",
    "</font>  \n",
    "Given $a^{(L)}_{i}$:  \n",
    "- superscript $L$ corresponds to the layer  \n",
    "- subscript $i$ corresponds to the neuron in that layer  \n",
    "  "
   ]
  },
  {
   "cell_type": "markdown",
   "id": "d327444f",
   "metadata": {
    "heading_collapsed": true,
    "hidden": true
   },
   "source": [
    "### Layers configuration"
   ]
  },
  {
   "cell_type": "code",
   "execution_count": 681,
   "id": "13df95dd",
   "metadata": {
    "ExecuteTime": {
     "end_time": "2022-06-03T17:41:33.572019Z",
     "start_time": "2022-06-03T17:41:33.567489Z"
    },
    "hidden": true
   },
   "outputs": [],
   "source": [
    "input_layer_size = 5\n",
    "second_layer_size = 3\n",
    "output_layer_size = 1"
   ]
  },
  {
   "cell_type": "markdown",
   "id": "49aea2ac",
   "metadata": {
    "heading_collapsed": true,
    "hidden": true
   },
   "source": [
    "### Input layer"
   ]
  },
  {
   "cell_type": "code",
   "execution_count": 683,
   "id": "51429c43",
   "metadata": {
    "ExecuteTime": {
     "end_time": "2022-06-03T17:41:41.044495Z",
     "start_time": "2022-06-03T17:41:41.037700Z"
    },
    "hidden": true
   },
   "outputs": [],
   "source": [
    "np.random.seed(42)\n",
    "# Create inputs\n",
    "input_layer = np.random.uniform(0, 1, size=input_layer_size)\n",
    "# Create weights, 1 vector with 5 connections(from input) for each neuron in second layer(total of 3 vectors)\n",
    "input_layer_weights = [np.random.uniform(-0.5, 0.5, size=input_layer_size) for index in range(second_layer_size)]\n",
    "# Create biases for each neuron in the second layer\n",
    "first_layer_bias = np.random.randint(1, 5, size=second_layer_size)"
   ]
  },
  {
   "cell_type": "markdown",
   "id": "a0824a6d",
   "metadata": {
    "heading_collapsed": true,
    "hidden": true
   },
   "source": [
    "### Second layer"
   ]
  },
  {
   "cell_type": "code",
   "execution_count": 686,
   "id": "c7946990",
   "metadata": {
    "ExecuteTime": {
     "end_time": "2022-06-03T17:43:36.171817Z",
     "start_time": "2022-06-03T17:43:36.164114Z"
    },
    "hidden": true
   },
   "outputs": [
    {
     "data": {
      "text/plain": [
       "[0.03962190992044933, 0.06230890666593959, 0.08628367892884775]"
      ]
     },
     "execution_count": 686,
     "metadata": {},
     "output_type": "execute_result"
    }
   ],
   "source": [
    "# Compute the actiation function for each neuron in the second layer\n",
    "second_layer = [sigmoid(sum(input_layer*weights) - first_layer_bias[index]) for index, weights in enumerate(input_layer_weights)]\n",
    "second_layer"
   ]
  },
  {
   "cell_type": "code",
   "execution_count": 687,
   "id": "41c7f2c7",
   "metadata": {
    "ExecuteTime": {
     "end_time": "2022-06-03T17:45:09.457907Z",
     "start_time": "2022-06-03T17:45:09.449577Z"
    },
    "hidden": true
   },
   "outputs": [
    {
     "data": {
      "text/plain": [
       "[array([-0.45333434,  0.47375552, -0.26722866])]"
      ]
     },
     "execution_count": 687,
     "metadata": {},
     "output_type": "execute_result"
    }
   ],
   "source": [
    "# Create weights for the second layer\n",
    "second_layer_weights = [np.random.uniform(-0.5, 0.5, size=second_layer_size) for index in range(output_layer_size)]\n",
    "second_layer_weights"
   ]
  },
  {
   "cell_type": "code",
   "execution_count": 688,
   "id": "dc843f6e",
   "metadata": {
    "ExecuteTime": {
     "end_time": "2022-06-03T17:45:56.914295Z",
     "start_time": "2022-06-03T17:45:56.906851Z"
    },
    "hidden": true
   },
   "outputs": [
    {
     "data": {
      "text/plain": [
       "array([2, 3, 2])"
      ]
     },
     "execution_count": 688,
     "metadata": {},
     "output_type": "execute_result"
    }
   ],
   "source": [
    "# Create biases for each neuron in the output layer\n",
    "second_layer_bias = np.random.randint(1, 5, size=second_layer_size)\n",
    "second_layer_bias"
   ]
  },
  {
   "cell_type": "markdown",
   "id": "3b0882ce",
   "metadata": {
    "heading_collapsed": true,
    "hidden": true
   },
   "source": [
    "### Output layer"
   ]
  },
  {
   "cell_type": "code",
   "execution_count": 690,
   "id": "4168be86",
   "metadata": {
    "ExecuteTime": {
     "end_time": "2022-06-03T17:46:43.403648Z",
     "start_time": "2022-06-03T17:46:43.396113Z"
    },
    "hidden": true
   },
   "outputs": [
    {
     "data": {
      "text/plain": [
       "[0.11800074683354274]"
      ]
     },
     "execution_count": 690,
     "metadata": {},
     "output_type": "execute_result"
    }
   ],
   "source": [
    "# Compute the actiation function for each neuron in the output layer\n",
    "output_layer = [sigmoid(sum(second_layer*weights) - second_layer_bias[index]) for index, weights in enumerate(second_layer_weights)]\n",
    "output_layer"
   ]
  },
  {
   "cell_type": "markdown",
   "id": "e7d4c490",
   "metadata": {
    "heading_collapsed": true,
    "hidden": true
   },
   "source": [
    "### Multiple NN visualization"
   ]
  },
  {
   "cell_type": "code",
   "execution_count": 745,
   "id": "2c1c98b1",
   "metadata": {
    "ExecuteTime": {
     "end_time": "2022-06-03T19:09:44.990232Z",
     "start_time": "2022-06-03T19:09:44.641707Z"
    },
    "hidden": true
   },
   "outputs": [
    {
     "name": "stdout",
     "output_type": "stream",
     "text": [
      "Neural network representation with multiple neuron\n",
      "Neurons from input layer:  [0.37454012 0.95071431 0.73199394 0.59865848 0.15601864]\n",
      "Weights from input layer:  [array([-0.34400548, -0.44191639,  0.36617615,  0.10111501,  0.20807258]), array([-0.47941551,  0.46990985,  0.33244264, -0.28766089, -0.31817503]), array([-0.31659549, -0.19575776,  0.02475643, -0.06805498, -0.20877086])]\n",
      "Neurons from second layer:  [0.03962190992044933, 0.06230890666593959, 0.08628367892884775]\n",
      "Weights from second layer:  [array([-0.45333434,  0.47375552, -0.26722866])]\n",
      "Neurons from output layer:  [0.11800074683354274]\n"
     ]
    },
    {
     "data": {
      "image/svg+xml": [
       "<?xml version=\"1.0\" encoding=\"UTF-8\" standalone=\"no\"?>\n",
       "<!DOCTYPE svg PUBLIC \"-//W3C//DTD SVG 1.1//EN\"\n",
       " \"http://www.w3.org/Graphics/SVG/1.1/DTD/svg11.dtd\">\n",
       "<!-- Generated by graphviz version 3.0.0 (20220226.1711)\n",
       " -->\n",
       "<!-- Pages: 1 -->\n",
       "<svg width=\"288pt\" height=\"268pt\"\n",
       " viewBox=\"0.00 0.00 288.00 267.62\" xmlns=\"http://www.w3.org/2000/svg\" xmlns:xlink=\"http://www.w3.org/1999/xlink\">\n",
       "<g id=\"graph0\" class=\"graph\" transform=\"scale(0.734617 0.734617) rotate(0) translate(4 360.3)\">\n",
       "<polygon fill=\"white\" stroke=\"transparent\" points=\"-4,4 -4,-360.3 388.04,-360.3 388.04,4 -4,4\"/>\n",
       "<!-- output -->\n",
       "<g id=\"node1\" class=\"node\">\n",
       "<title>output</title>\n",
       "<ellipse fill=\"#ff0000\" fill-opacity=\"0.501961\" stroke=\"#ff0000\" stroke-opacity=\"0.501961\" cx=\"357.39\" cy=\"-182.85\" rx=\"26.8\" ry=\"26.8\"/>\n",
       "<text text-anchor=\"middle\" x=\"357.39\" y=\"-179.15\" font-family=\"Times,serif\" font-size=\"14.00\">0.12</text>\n",
       "<text text-anchor=\"middle\" x=\"323.25\" y=\"-213.3\" font-family=\"Times,serif\" font-size=\"14.00\">aL</text>\n",
       "</g>\n",
       "<!-- a2_0 -->\n",
       "<g id=\"node2\" class=\"node\">\n",
       "<title>a2_0</title>\n",
       "<ellipse fill=\"#0000ff\" fill-opacity=\"0.501961\" stroke=\"#0000ff\" stroke-opacity=\"0.501961\" cx=\"197.65\" cy=\"-242.65\" rx=\"26.8\" ry=\"26.8\"/>\n",
       "<text text-anchor=\"middle\" x=\"197.65\" y=\"-238.95\" font-family=\"Times,serif\" font-size=\"14.00\">0.04</text>\n",
       "<text text-anchor=\"middle\" x=\"157.5\" y=\"-273.1\" font-family=\"Times,serif\" font-size=\"14.00\">a2_0</text>\n",
       "</g>\n",
       "<!-- a2_0&#45;&gt;output -->\n",
       "<g id=\"edge1\" class=\"edge\">\n",
       "<title>a2_0&#45;&gt;output</title>\n",
       "<path fill=\"none\" stroke=\"#424242\" stroke-opacity=\"0.501961\" d=\"M222.61,-233.3C249.49,-223.24 292.46,-207.15 322.64,-195.86\"/>\n",
       "<polygon fill=\"#424242\" fill-opacity=\"0.501961\" stroke=\"#424242\" stroke-opacity=\"0.501961\" points=\"324.21,-199.01 332.35,-192.22 321.75,-192.45 324.21,-199.01\"/>\n",
       "<text text-anchor=\"middle\" x=\"258.13\" y=\"-218.38\" font-family=\"Times,serif\" font-size=\"14.00\">&#45;0.32</text>\n",
       "<text text-anchor=\"middle\" x=\"257.13\" y=\"-203.38\" font-family=\"Times,serif\" font-size=\"14.00\">w2_0</text>\n",
       "</g>\n",
       "<!-- a2_1 -->\n",
       "<g id=\"node3\" class=\"node\">\n",
       "<title>a2_1</title>\n",
       "<ellipse fill=\"#0000ff\" fill-opacity=\"0.501961\" stroke=\"#0000ff\" stroke-opacity=\"0.501961\" cx=\"197.65\" cy=\"-170.65\" rx=\"26.8\" ry=\"26.8\"/>\n",
       "<text text-anchor=\"middle\" x=\"197.65\" y=\"-166.95\" font-family=\"Times,serif\" font-size=\"14.00\">0.06</text>\n",
       "<text text-anchor=\"middle\" x=\"157.5\" y=\"-201.1\" font-family=\"Times,serif\" font-size=\"14.00\">a2_1</text>\n",
       "</g>\n",
       "<!-- a2_1&#45;&gt;output -->\n",
       "<g id=\"edge2\" class=\"edge\">\n",
       "<title>a2_1&#45;&gt;output</title>\n",
       "<path fill=\"none\" stroke=\"#424242\" stroke-opacity=\"0.501961\" d=\"M224.39,-172.69C250.65,-174.7 290.94,-177.77 320.29,-180.01\"/>\n",
       "<polygon fill=\"#424242\" fill-opacity=\"0.501961\" stroke=\"#424242\" stroke-opacity=\"0.501961\" points=\"320.33,-183.53 330.57,-180.8 320.86,-176.55 320.33,-183.53\"/>\n",
       "<text text-anchor=\"middle\" x=\"261.34\" y=\"-180.15\" font-family=\"Times,serif\" font-size=\"14.00\">&#45;0.2</text>\n",
       "<text text-anchor=\"middle\" x=\"256.84\" y=\"-165.15\" font-family=\"Times,serif\" font-size=\"14.00\">w2_1</text>\n",
       "</g>\n",
       "<!-- a2_2 -->\n",
       "<g id=\"node4\" class=\"node\">\n",
       "<title>a2_2</title>\n",
       "<ellipse fill=\"#0000ff\" fill-opacity=\"0.501961\" stroke=\"#0000ff\" stroke-opacity=\"0.501961\" cx=\"197.65\" cy=\"-98.65\" rx=\"26.8\" ry=\"26.8\"/>\n",
       "<text text-anchor=\"middle\" x=\"197.65\" y=\"-94.95\" font-family=\"Times,serif\" font-size=\"14.00\">0.09</text>\n",
       "<text text-anchor=\"middle\" x=\"157.5\" y=\"-129.1\" font-family=\"Times,serif\" font-size=\"14.00\">a2_2</text>\n",
       "</g>\n",
       "<!-- a2_2&#45;&gt;output -->\n",
       "<g id=\"edge3\" class=\"edge\">\n",
       "<title>a2_2&#45;&gt;output</title>\n",
       "<path fill=\"none\" stroke=\"#424242\" stroke-opacity=\"0.501961\" d=\"M221.56,-111.25C248.93,-125.68 293.92,-149.39 324.56,-165.54\"/>\n",
       "<polygon fill=\"#424242\" fill-opacity=\"0.501961\" stroke=\"#424242\" stroke-opacity=\"0.501961\" points=\"323.1,-168.73 333.58,-170.29 326.36,-162.54 323.1,-168.73\"/>\n",
       "<text text-anchor=\"middle\" x=\"260.56\" y=\"-142.2\" font-family=\"Times,serif\" font-size=\"14.00\">0.02</text>\n",
       "<text text-anchor=\"middle\" x=\"257.56\" y=\"-127.2\" font-family=\"Times,serif\" font-size=\"14.00\">w2_2</text>\n",
       "</g>\n",
       "<!-- a1_0 -->\n",
       "<g id=\"node5\" class=\"node\">\n",
       "<title>a1_0</title>\n",
       "<ellipse fill=\"#0000ff\" fill-opacity=\"0.501961\" stroke=\"#0000ff\" stroke-opacity=\"0.501961\" cx=\"53.65\" cy=\"-314.65\" rx=\"26.8\" ry=\"26.8\"/>\n",
       "<text text-anchor=\"middle\" x=\"53.65\" y=\"-310.95\" font-family=\"Times,serif\" font-size=\"14.00\">0.37</text>\n",
       "<text text-anchor=\"middle\" x=\"13.5\" y=\"-345.1\" font-family=\"Times,serif\" font-size=\"14.00\">a1_0</text>\n",
       "</g>\n",
       "<!-- a1_0&#45;&gt;a2_0 -->\n",
       "<g id=\"edge4\" class=\"edge\">\n",
       "<title>a1_0&#45;&gt;a2_0</title>\n",
       "<path fill=\"none\" stroke=\"#062635\" stroke-opacity=\"0.501961\" d=\"M77.75,-302.6C101.42,-290.76 137.74,-272.6 164.2,-259.37\"/>\n",
       "<polygon fill=\"#062635\" fill-opacity=\"0.501961\" stroke=\"#062635\" stroke-opacity=\"0.501961\" points=\"166.09,-262.34 173.47,-254.74 162.96,-256.08 166.09,-262.34\"/>\n",
       "</g>\n",
       "<!-- a1_0&#45;&gt;a2_1 -->\n",
       "<g id=\"edge5\" class=\"edge\">\n",
       "<title>a1_0&#45;&gt;a2_1</title>\n",
       "<path fill=\"none\" stroke=\"#062635\" stroke-opacity=\"0.501961\" d=\"M72.77,-295.53C98.05,-270.24 142.72,-225.57 171.22,-197.08\"/>\n",
       "<polygon fill=\"#062635\" fill-opacity=\"0.501961\" stroke=\"#062635\" stroke-opacity=\"0.501961\" points=\"173.85,-199.39 178.45,-189.85 168.9,-194.45 173.85,-199.39\"/>\n",
       "</g>\n",
       "<!-- a1_0&#45;&gt;a2_2 -->\n",
       "<g id=\"edge6\" class=\"edge\">\n",
       "<title>a1_0&#45;&gt;a2_2</title>\n",
       "<path fill=\"none\" stroke=\"#062635\" stroke-opacity=\"0.501961\" d=\"M68.52,-292.35C94.4,-253.52 147.77,-173.46 177.15,-129.4\"/>\n",
       "<polygon fill=\"#062635\" fill-opacity=\"0.501961\" stroke=\"#062635\" stroke-opacity=\"0.501961\" points=\"180.23,-131.09 182.86,-120.83 174.4,-127.21 180.23,-131.09\"/>\n",
       "</g>\n",
       "<!-- a1_1 -->\n",
       "<g id=\"node6\" class=\"node\">\n",
       "<title>a1_1</title>\n",
       "<ellipse fill=\"#0000ff\" fill-opacity=\"0.501961\" stroke=\"#0000ff\" stroke-opacity=\"0.501961\" cx=\"53.65\" cy=\"-242.65\" rx=\"26.8\" ry=\"26.8\"/>\n",
       "<text text-anchor=\"middle\" x=\"53.65\" y=\"-238.95\" font-family=\"Times,serif\" font-size=\"14.00\">0.95</text>\n",
       "<text text-anchor=\"middle\" x=\"13.5\" y=\"-273.1\" font-family=\"Times,serif\" font-size=\"14.00\">a1_1</text>\n",
       "</g>\n",
       "<!-- a1_1&#45;&gt;a2_0 -->\n",
       "<g id=\"edge7\" class=\"edge\">\n",
       "<title>a1_1&#45;&gt;a2_0</title>\n",
       "<path fill=\"none\" stroke=\"#55b748\" stroke-opacity=\"0.501961\" d=\"M80.4,-242.65C102.88,-242.65 135.28,-242.65 160.32,-242.65\"/>\n",
       "<polygon fill=\"#55b748\" fill-opacity=\"0.501961\" stroke=\"#55b748\" stroke-opacity=\"0.501961\" points=\"160.55,-246.15 170.55,-242.65 160.55,-239.15 160.55,-246.15\"/>\n",
       "</g>\n",
       "<!-- a1_1&#45;&gt;a2_1 -->\n",
       "<g id=\"edge8\" class=\"edge\">\n",
       "<title>a1_1&#45;&gt;a2_1</title>\n",
       "<path fill=\"none\" stroke=\"#55b748\" stroke-opacity=\"0.501961\" d=\"M77.75,-230.6C101.42,-218.76 137.74,-200.6 164.2,-187.37\"/>\n",
       "<polygon fill=\"#55b748\" fill-opacity=\"0.501961\" stroke=\"#55b748\" stroke-opacity=\"0.501961\" points=\"166.09,-190.34 173.47,-182.74 162.96,-184.08 166.09,-190.34\"/>\n",
       "</g>\n",
       "<!-- a1_1&#45;&gt;a2_2 -->\n",
       "<g id=\"edge9\" class=\"edge\">\n",
       "<title>a1_1&#45;&gt;a2_2</title>\n",
       "<path fill=\"none\" stroke=\"#55b748\" stroke-opacity=\"0.501961\" d=\"M72.77,-223.53C98.05,-198.24 142.72,-153.57 171.22,-125.08\"/>\n",
       "<polygon fill=\"#55b748\" fill-opacity=\"0.501961\" stroke=\"#55b748\" stroke-opacity=\"0.501961\" points=\"173.85,-127.39 178.45,-117.85 168.9,-122.45 173.85,-127.39\"/>\n",
       "</g>\n",
       "<!-- a1_2 -->\n",
       "<g id=\"node7\" class=\"node\">\n",
       "<title>a1_2</title>\n",
       "<ellipse fill=\"#0000ff\" fill-opacity=\"0.501961\" stroke=\"#0000ff\" stroke-opacity=\"0.501961\" cx=\"53.65\" cy=\"-170.65\" rx=\"26.8\" ry=\"26.8\"/>\n",
       "<text text-anchor=\"middle\" x=\"53.65\" y=\"-166.95\" font-family=\"Times,serif\" font-size=\"14.00\">0.73</text>\n",
       "<text text-anchor=\"middle\" x=\"13.5\" y=\"-201.1\" font-family=\"Times,serif\" font-size=\"14.00\">a1_2</text>\n",
       "</g>\n",
       "<!-- a1_2&#45;&gt;a2_0 -->\n",
       "<g id=\"edge10\" class=\"edge\">\n",
       "<title>a1_2&#45;&gt;a2_0</title>\n",
       "<path fill=\"none\" stroke=\"#761548\" stroke-opacity=\"0.501961\" d=\"M77.75,-182.7C101.42,-194.54 137.74,-212.7 164.2,-225.93\"/>\n",
       "<polygon fill=\"#761548\" fill-opacity=\"0.501961\" stroke=\"#761548\" stroke-opacity=\"0.501961\" points=\"162.96,-229.22 173.47,-230.56 166.09,-222.95 162.96,-229.22\"/>\n",
       "</g>\n",
       "<!-- a1_2&#45;&gt;a2_1 -->\n",
       "<g id=\"edge11\" class=\"edge\">\n",
       "<title>a1_2&#45;&gt;a2_1</title>\n",
       "<path fill=\"none\" stroke=\"#761548\" stroke-opacity=\"0.501961\" d=\"M80.4,-170.65C102.88,-170.65 135.28,-170.65 160.32,-170.65\"/>\n",
       "<polygon fill=\"#761548\" fill-opacity=\"0.501961\" stroke=\"#761548\" stroke-opacity=\"0.501961\" points=\"160.55,-174.15 170.55,-170.65 160.55,-167.15 160.55,-174.15\"/>\n",
       "</g>\n",
       "<!-- a1_2&#45;&gt;a2_2 -->\n",
       "<g id=\"edge12\" class=\"edge\">\n",
       "<title>a1_2&#45;&gt;a2_2</title>\n",
       "<path fill=\"none\" stroke=\"#761548\" stroke-opacity=\"0.501961\" d=\"M77.75,-158.6C101.42,-146.76 137.74,-128.6 164.2,-115.37\"/>\n",
       "<polygon fill=\"#761548\" fill-opacity=\"0.501961\" stroke=\"#761548\" stroke-opacity=\"0.501961\" points=\"166.09,-118.34 173.47,-110.74 162.96,-112.08 166.09,-118.34\"/>\n",
       "</g>\n",
       "<!-- a1_3 -->\n",
       "<g id=\"node8\" class=\"node\">\n",
       "<title>a1_3</title>\n",
       "<ellipse fill=\"#0000ff\" fill-opacity=\"0.501961\" stroke=\"#0000ff\" stroke-opacity=\"0.501961\" cx=\"53.65\" cy=\"-98.65\" rx=\"22.2\" ry=\"22.2\"/>\n",
       "<text text-anchor=\"middle\" x=\"53.65\" y=\"-94.95\" font-family=\"Times,serif\" font-size=\"14.00\">0.6</text>\n",
       "<text text-anchor=\"middle\" x=\"18.05\" y=\"-124.55\" font-family=\"Times,serif\" font-size=\"14.00\">a1_3</text>\n",
       "</g>\n",
       "<!-- a1_3&#45;&gt;a2_0 -->\n",
       "<g id=\"edge13\" class=\"edge\">\n",
       "<title>a1_3&#45;&gt;a2_0</title>\n",
       "<path fill=\"none\" stroke=\"#1696d2\" stroke-opacity=\"0.501961\" d=\"M69.33,-114.33C93.93,-138.93 141.83,-186.83 171.64,-216.64\"/>\n",
       "<polygon fill=\"#1696d2\" fill-opacity=\"0.501961\" stroke=\"#1696d2\" stroke-opacity=\"0.501961\" points=\"169.26,-219.21 178.8,-223.8 174.21,-214.26 169.26,-219.21\"/>\n",
       "</g>\n",
       "<!-- a1_3&#45;&gt;a2_1 -->\n",
       "<g id=\"edge14\" class=\"edge\">\n",
       "<title>a1_3&#45;&gt;a2_1</title>\n",
       "<path fill=\"none\" stroke=\"#1696d2\" stroke-opacity=\"0.501961\" d=\"M73.67,-108.66C97.14,-120.39 136.38,-140.01 164.43,-154.04\"/>\n",
       "<polygon fill=\"#1696d2\" fill-opacity=\"0.501961\" stroke=\"#1696d2\" stroke-opacity=\"0.501961\" points=\"162.96,-157.22 173.47,-158.56 166.1,-150.96 162.96,-157.22\"/>\n",
       "</g>\n",
       "<!-- a1_3&#45;&gt;a2_2 -->\n",
       "<g id=\"edge15\" class=\"edge\">\n",
       "<title>a1_3&#45;&gt;a2_2</title>\n",
       "<path fill=\"none\" stroke=\"#1696d2\" stroke-opacity=\"0.501961\" d=\"M75.83,-98.65C98.4,-98.65 133.77,-98.65 160.59,-98.65\"/>\n",
       "<polygon fill=\"#1696d2\" fill-opacity=\"0.501961\" stroke=\"#1696d2\" stroke-opacity=\"0.501961\" points=\"160.78,-102.15 170.78,-98.65 160.78,-95.15 160.78,-102.15\"/>\n",
       "</g>\n",
       "<!-- a1_4 -->\n",
       "<g id=\"node9\" class=\"node\">\n",
       "<title>a1_4</title>\n",
       "<ellipse fill=\"#0000ff\" fill-opacity=\"0.501961\" stroke=\"#0000ff\" stroke-opacity=\"0.501961\" cx=\"53.65\" cy=\"-26.65\" rx=\"26.8\" ry=\"26.8\"/>\n",
       "<text text-anchor=\"middle\" x=\"53.65\" y=\"-22.95\" font-family=\"Times,serif\" font-size=\"14.00\">0.16</text>\n",
       "<text text-anchor=\"middle\" x=\"13.5\" y=\"-57.1\" font-family=\"Times,serif\" font-size=\"14.00\">a1_4</text>\n",
       "</g>\n",
       "<!-- a1_4&#45;&gt;a2_0 -->\n",
       "<g id=\"edge16\" class=\"edge\">\n",
       "<title>a1_4&#45;&gt;a2_0</title>\n",
       "<path fill=\"none\" stroke=\"#e88e2d\" stroke-opacity=\"0.501961\" d=\"M68.52,-48.95C94.4,-87.77 147.77,-167.83 177.15,-211.9\"/>\n",
       "<polygon fill=\"#e88e2d\" fill-opacity=\"0.501961\" stroke=\"#e88e2d\" stroke-opacity=\"0.501961\" points=\"174.4,-214.09 182.86,-220.47 180.23,-210.2 174.4,-214.09\"/>\n",
       "</g>\n",
       "<!-- a1_4&#45;&gt;a2_1 -->\n",
       "<g id=\"edge17\" class=\"edge\">\n",
       "<title>a1_4&#45;&gt;a2_1</title>\n",
       "<path fill=\"none\" stroke=\"#e88e2d\" stroke-opacity=\"0.501961\" d=\"M72.77,-45.77C98.05,-71.05 142.72,-115.72 171.22,-144.22\"/>\n",
       "<polygon fill=\"#e88e2d\" fill-opacity=\"0.501961\" stroke=\"#e88e2d\" stroke-opacity=\"0.501961\" points=\"168.9,-146.85 178.45,-151.45 173.85,-141.9 168.9,-146.85\"/>\n",
       "</g>\n",
       "<!-- a1_4&#45;&gt;a2_2 -->\n",
       "<g id=\"edge18\" class=\"edge\">\n",
       "<title>a1_4&#45;&gt;a2_2</title>\n",
       "<path fill=\"none\" stroke=\"#e88e2d\" stroke-opacity=\"0.501961\" d=\"M77.75,-38.7C101.42,-50.54 137.74,-68.7 164.2,-81.93\"/>\n",
       "<polygon fill=\"#e88e2d\" fill-opacity=\"0.501961\" stroke=\"#e88e2d\" stroke-opacity=\"0.501961\" points=\"162.96,-85.22 173.47,-86.56 166.09,-78.95 162.96,-85.22\"/>\n",
       "</g>\n",
       "</g>\n",
       "</svg>\n"
      ],
      "text/plain": [
       "<graphviz.graphs.Digraph at 0x7fe5067e7340>"
      ]
     },
     "execution_count": 745,
     "metadata": {},
     "output_type": "execute_result"
    }
   ],
   "source": [
    "graph = Digraph(engine='neato')\n",
    "graph.attr(size='4')\n",
    "\n",
    "# create color gradient for weigths\n",
    "color_gradient = ['#06263580', '#55b74880', '#76154880', '#1696d280', '#e88e2d80', '#0a4c6a80']\n",
    "\n",
    "# Add output node\n",
    "graph.node('output', str(output_layer[0].round(2)), xlabel='aL', color='#ff000080', style='filled', shape='circle', pos='20,-1')\n",
    "# Add second layer nodes\n",
    "for index, value in enumerate(second_layer):\n",
    "    current_node = 'a2_' + str(index)\n",
    "    current_weight = 'w2_' + str(index)\n",
    "    graph.node(name=current_node, \n",
    "               label=str(value.round(2)),\n",
    "               xlabel=current_node,\n",
    "               color='#0000ff80', style='filled', shape='circle', pos=f'2,{-index-1}!')\n",
    "    graph.edge(current_node, 'output',\n",
    "               label=str(weights[index].round(2)),\n",
    "               xlabel=current_weight,\n",
    "               color='#42424280',)\n",
    "    \n",
    "# Add node for each input and it respective weight\n",
    "for index_i, value in enumerate(input_layer):\n",
    "    current_node = 'a1_' + str(index_i)\n",
    "    current_weight = 'w1_' + str(index_i)\n",
    "    graph.node(name=current_node, \n",
    "               label=str(value.round(2)),\n",
    "               xlabel=current_node,\n",
    "               color='#0000ff80', style='filled', shape='circle', pos=f'0,{-index_i}!')\n",
    "    for index_j, value in enumerate(second_layer):\n",
    "        child_node = 'a2_' + str(index_j)\n",
    "        graph.edge(current_node, child_node,\n",
    "                   #label=str(weights[index].round(2)),\n",
    "                   #xlabel=current_weight,\n",
    "                   color=color_gradient[index_i],)\n",
    "\n",
    "print('Neural network representation with multiple neuron')\n",
    "print('Neurons from input layer: ', input_layer)\n",
    "print('Weights from input layer: ', input_layer_weights)\n",
    "print('Neurons from second layer: ', second_layer)\n",
    "print('Weights from second layer: ', second_layer_weights)\n",
    "print('Neurons from output layer: ', output_layer)\n",
    "graph"
   ]
  },
  {
   "cell_type": "markdown",
   "id": "46a8af05",
   "metadata": {},
   "source": [
    "## Network Functions"
   ]
  },
  {
   "cell_type": "markdown",
   "id": "71530c11",
   "metadata": {
    "heading_collapsed": true
   },
   "source": [
    "###  Activation Functions"
   ]
  },
  {
   "cell_type": "code",
   "execution_count": 964,
   "id": "09348c3d",
   "metadata": {
    "ExecuteTime": {
     "end_time": "2022-06-06T02:25:09.146468Z",
     "start_time": "2022-06-06T02:25:09.137864Z"
    },
    "hidden": true
   },
   "outputs": [
    {
     "data": {
      "text/plain": [
       "array([False,  True,  True,  True,  True,  True, False, False])"
      ]
     },
     "execution_count": 964,
     "metadata": {},
     "output_type": "execute_result"
    }
   ],
   "source": [
    "ReLU_derivative(np.array([0,1,2,3,4,5,-1,-3]))\n"
   ]
  },
  {
   "cell_type": "code",
   "execution_count": 960,
   "id": "351fab15",
   "metadata": {
    "ExecuteTime": {
     "end_time": "2022-06-06T02:23:49.835305Z",
     "start_time": "2022-06-06T02:23:49.347175Z"
    },
    "hidden": true
   },
   "outputs": [
    {
     "data": {
      "image/png": "[encoded data removed]",
      "text/plain": [
       "<Figure size 360x360 with 1 Axes>"
      ]
     },
     "metadata": {},
     "output_type": "display_data"
    }
   ],
   "source": [
    "def ReLU(x:np.ndarray) -> np.ndarray:\n",
    "    '''\n",
    "    Linear function for ReLU(x)  \n",
    "    Compute element-wise maximum of array elements.  \n",
    "    '''\n",
    "    return np.maximum(x, 0)\n",
    "\n",
    "def ReLU_derivative(x:np.ndarray) -> np.ndarray:\n",
    "    ''' Return True if x > 0, False if x < 0 '''\n",
    "    return x > 0\n",
    "\n",
    "plot_ReLU_function()"
   ]
  },
  {
   "cell_type": "markdown",
   "id": "2d5fa0fc",
   "metadata": {
    "hidden": true
   },
   "source": [
    "Softmax function:  \n",
    "  \n",
    "<p style='font-size:1.75em'>$\\frac{e^{z_i}}{\\sum_{j=1}^{K} e^{z_j}}$</p>  \n",
    "  \n",
    "Output layer → Softmax activation function → Probabilities vector"
   ]
  },
  {
   "cell_type": "code",
   "execution_count": 967,
   "id": "6a00c6ad",
   "metadata": {
    "ExecuteTime": {
     "end_time": "2022-06-06T02:28:06.865861Z",
     "start_time": "2022-06-06T02:28:06.861028Z"
    },
    "hidden": true
   },
   "outputs": [],
   "source": [
    "def softmax(x):\n",
    "    exp = expit(x - np.max(x))\n",
    "    return exp / exp.sum(axis=0)"
   ]
  },
  {
   "cell_type": "markdown",
   "id": "60139eb9",
   "metadata": {
    "heading_collapsed": true
   },
   "source": [
    "### Init Neural Network layers"
   ]
  },
  {
   "cell_type": "code",
   "execution_count": 950,
   "id": "2f590ecd",
   "metadata": {
    "ExecuteTime": {
     "end_time": "2022-06-06T02:16:21.348890Z",
     "start_time": "2022-06-06T02:16:21.333502Z"
    },
    "hidden": true
   },
   "outputs": [],
   "source": [
    "def init_grid(grid_size:list):\n",
    "    '''\n",
    "    layer_size: each element of the list corresponds to the number of neurons in that layer,\n",
    "    index 0 = input layer; index -1 = output layer.\n",
    "    '''\n",
    "    if len(grid_size) < 3:\n",
    "        raise 'Grid must have at least one hidden layer.'\n",
    "    \n",
    "    weights_list, biases_list = [], []\n",
    "    for index, layer_size in enumerate(grid_size[:-1]):\n",
    "        weights_list.append(np.random.uniform(-0.5, 0.5, size=[grid_size[index+1], layer_size]) )\n",
    "        biases_list.append(np.random.randint(1, 5, size=grid_size[index+1]).reshape(-1,1) )\n",
    "    \n",
    "    return weights_list, biases_list"
   ]
  },
  {
   "cell_type": "markdown",
   "id": "82e64de6",
   "metadata": {},
   "source": [
    "### Foward Propagation"
   ]
  },
  {
   "cell_type": "code",
   "execution_count": null,
   "id": "0e9e98ea",
   "metadata": {},
   "outputs": [],
   "source": [
    "np.dot()"
   ]
  },
  {
   "cell_type": "code",
   "execution_count": null,
   "id": "05aeefad",
   "metadata": {},
   "outputs": [],
   "source": [
    "find * -size +50M | cat >> .gitignore"
   ]
  },
  {
   "cell_type": "code",
   "execution_count": 991,
   "id": "1ba36150",
   "metadata": {
    "ExecuteTime": {
     "end_time": "2022-06-06T04:20:53.780821Z",
     "start_time": "2022-06-06T04:20:53.768848Z"
    }
   },
   "outputs": [],
   "source": [
    "def foward_propagation(X:np.ndarray, weights:list, biases:list, act_func:any, cost_func:any, layer_grid:list):\n",
    "    '''\n",
    "    X : Features to be trained  \n",
    "    weights: list of weights, shape[i,j], where i = number of nodes, j = number of connections  \n",
    "    biases: list of biases, shape[i], where i = number of nodes  \n",
    "    act_func: activation function to be used  \n",
    "    cost_func: functions used to calculate the ouput cost  \n",
    "    layer_grid: list containing each layer size, including input and output. \n",
    "    '''\n",
    "    previous_layer = X\n",
    "    # Iterate over input and all the hidden layers\n",
    "    for layer_index, layer_size in enumerate(layer_grid[:-1]):\n",
    "        # Compute the actiation function for each neuron in the next layer\n",
    "        current_layer = act_func(weights[layer_index].dot(previous_layer) + biases[layer_index])\n",
    "        # Update layer\n",
    "        previous_layer = current_layer\n",
    "    # Compute the cost function for each neuron in the output layer\n",
    "    output_layer = cost_func(weights[-1].dot(current_layer) + biases[-1])\n",
    "\n",
    "    return output_layer"
   ]
  },
  {
   "cell_type": "code",
   "execution_count": 994,
   "id": "22495b25",
   "metadata": {
    "ExecuteTime": {
     "end_time": "2022-06-06T04:21:06.187923Z",
     "start_time": "2022-06-06T04:21:05.775792Z"
    }
   },
   "outputs": [
    {
     "data": {
      "text/plain": [
       "array([[0.89490748, 0.89490748, 0.89490748, ..., 0.89490748, 0.89490748,\n",
       "        0.89490748],\n",
       "       [0.10509252, 0.10509252, 0.10509252, ..., 0.10509252, 0.10509252,\n",
       "        0.10509252]])"
      ]
     },
     "execution_count": 994,
     "metadata": {},
     "output_type": "execute_result"
    }
   ],
   "source": [
    "# Build sample NN and test Foawrd Propagation\n",
    "X_ = np.array(train_df.iloc[:,1:])             # Select data\n",
    "layer_grid = [X_.shape[0], 2, 2, 2]            # Define layer grid\n",
    "weights, biases = init_grid(layer_grid)        # Init random weights and biases based on grid values\n",
    "foward_propagation(                            # Apply one step of foward_propagation\n",
    "    X_, weights, biases, \n",
    "    ReLU, softmax, layer_grid)"
   ]
  },
  {
   "cell_type": "code",
   "execution_count": null,
   "id": "4fb40bc4",
   "metadata": {},
   "outputs": [],
   "source": []
  },
  {
   "cell_type": "code",
   "execution_count": null,
   "id": "50d38dba",
   "metadata": {},
   "outputs": [],
   "source": []
  },
  {
   "cell_type": "code",
   "execution_count": null,
   "id": "5b096829",
   "metadata": {},
   "outputs": [],
   "source": []
  },
  {
   "cell_type": "code",
   "execution_count": null,
   "id": "f74a96a4",
   "metadata": {},
   "outputs": [],
   "source": []
  },
  {
   "cell_type": "code",
   "execution_count": null,
   "id": "c68bf9ef",
   "metadata": {},
   "outputs": [],
   "source": []
  },
  {
   "cell_type": "markdown",
   "id": "b6979809",
   "metadata": {},
   "source": [
    "# Creating the Neural Network"
   ]
  },
  {
   "cell_type": "markdown",
   "id": "b0f0cd47",
   "metadata": {
    "heading_collapsed": true
   },
   "source": [
    "## Split data into train/test"
   ]
  },
  {
   "cell_type": "code",
   "execution_count": 346,
   "id": "a8925dfa",
   "metadata": {
    "ExecuteTime": {
     "end_time": "2022-06-03T02:57:50.814602Z",
     "start_time": "2022-06-03T02:57:50.324211Z"
    },
    "hidden": true,
    "scrolled": true
   },
   "outputs": [
    {
     "data": {
      "text/plain": [
       "(42000, 785)"
      ]
     },
     "execution_count": 346,
     "metadata": {},
     "output_type": "execute_result"
    }
   ],
   "source": [
    "# Convert from pd.DataFrame to numpy.ndarray\n",
    "data = np.array(train_df)\n",
    "# 42000 obervations, 1 class + 784 features\n",
    "m, n = data.shape\n",
    "(m, n)"
   ]
  },
  {
   "cell_type": "code",
   "execution_count": 349,
   "id": "33ba7923",
   "metadata": {
    "ExecuteTime": {
     "end_time": "2022-06-03T02:58:26.613146Z",
     "start_time": "2022-06-03T02:58:24.330381Z"
    },
    "hidden": true
   },
   "outputs": [],
   "source": [
    "# Shuffle the data\n",
    "np.random.seed(42)\n",
    "np.random.shuffle(data)\n",
    "\n",
    "# Define train size of 80%\n",
    "train_size = int(42000 * 0.8)\n",
    "\n",
    "# Transpose data, so each image tays in columns instead of rows\n",
    "# First row is the target labels, and the others is pixels 0 to 783\n",
    "train_data = data[:train_size].T\n",
    "test_data  = data[train_size:].T\n",
    "\n",
    "# Train data split\n",
    "X_train , y_train = train_data[1:], train_data[0]\n",
    "# Test data split\n",
    "X_test, y_test = test_data[1:], test_data[0]\n",
    "\n",
    "# Scale values to range (0,1)\n",
    "X_train = X_train / 255.\n",
    "X_test = X_test / 255."
   ]
  },
  {
   "cell_type": "code",
   "execution_count": 350,
   "id": "8dd4b518",
   "metadata": {
    "ExecuteTime": {
     "end_time": "2022-06-03T02:59:08.261029Z",
     "start_time": "2022-06-03T02:59:08.097603Z"
    },
    "hidden": true,
    "scrolled": true
   },
   "outputs": [
    {
     "name": "stdout",
     "output_type": "stream",
     "text": [
      "X_train index 0 shape:  (784,)\n",
      "y_train index 0 label:  3\n"
     ]
    },
    {
     "data": {
      "image/png": "[encoded data removed]",
      "text/plain": [
       "<Figure size 432x288 with 1 Axes>"
      ]
     },
     "metadata": {},
     "output_type": "display_data"
    }
   ],
   "source": [
    "# Data example\n",
    "print('X_train index 0 shape: ', X_train[:, 0].shape)\n",
    "print('y_train index 0 label: ', y_train[0])\n",
    "# Show image\n",
    "plt.title('Image of X_train first observation', size=18, pad=20, loc='left')\n",
    "plt.imshow(X_train[:, 0].reshape(28,28))\n",
    "plt.grid(False); plt.axis(False);"
   ]
  },
  {
   "cell_type": "markdown",
   "id": "089f7cfc",
   "metadata": {
    "heading_collapsed": true
   },
   "source": [
    "## Create random weight parameters"
   ]
  },
  {
   "cell_type": "code",
   "execution_count": 355,
   "id": "0ae5a8cb",
   "metadata": {
    "ExecuteTime": {
     "end_time": "2022-06-03T03:04:03.775130Z",
     "start_time": "2022-06-03T03:04:03.767268Z"
    },
    "hidden": true
   },
   "outputs": [],
   "source": [
    "def init_params():\n",
    "    # Create random arrays for weights and biases\n",
    "    w1 = np.random.rand(10, 784) - .5    # 784 from input and 10 for the next layer\n",
    "    w2 = np.random.rand(10, 10) - 0.5    # 10 neurons for the current layer and 10 for the next\n",
    "    b1 = np.random.rand(10, 1) - 0.5     # 1 bias for each neuron\n",
    "    b2 = b1.copy()\n",
    "    return w1, b1, w2, b2"
   ]
  },
  {
   "cell_type": "markdown",
   "id": "30ef785c",
   "metadata": {
    "heading_collapsed": true
   },
   "source": [
    "## Define activation functions"
   ]
  },
  {
   "cell_type": "code",
   "execution_count": 356,
   "id": "2173719f",
   "metadata": {
    "ExecuteTime": {
     "end_time": "2022-06-03T03:04:04.061481Z",
     "start_time": "2022-06-03T03:04:03.780866Z"
    },
    "hidden": true
   },
   "outputs": [
    {
     "data": {
      "image/png": "[encoded data removed]",
      "text/plain": [
       "<Figure size 360x360 with 1 Axes>"
      ]
     },
     "metadata": {},
     "output_type": "display_data"
    }
   ],
   "source": [
    "plot_ReLU_function()"
   ]
  },
  {
   "cell_type": "code",
   "execution_count": 408,
   "id": "aa2450a2",
   "metadata": {
    "ExecuteTime": {
     "end_time": "2022-06-03T03:47:12.119365Z",
     "start_time": "2022-06-03T03:47:12.110246Z"
    },
    "hidden": true
   },
   "outputs": [],
   "source": [
    "def ReLU(x):\n",
    "    '''\n",
    "    Linear function for ReLU(x)  \n",
    "    Compute element-wise maximum of array elements.  \n",
    "    '''\n",
    "    return np.maximum(x, 0)\n",
    "\n",
    "def ReLU_derivative(x:np.ndarray) -> np.ndarray:\n",
    "    ''' Return True if x > 0, False if x < 0 '''\n",
    "    return x > 0"
   ]
  },
  {
   "cell_type": "markdown",
   "id": "d4a05ed5",
   "metadata": {
    "hidden": true
   },
   "source": [
    "Softmax function:  \n",
    "  \n",
    "<p style='font-size:1.75em'>$\\frac{e^{z_i}}{\\sum_{j=1}^{K} e^{z_j}}$</p>  \n",
    "  \n",
    "Output layer → Softmax activation function → Probabilities vector"
   ]
  },
  {
   "cell_type": "code",
   "execution_count": 421,
   "id": "8a7bbf83",
   "metadata": {
    "ExecuteTime": {
     "end_time": "2022-06-03T03:57:30.007151Z",
     "start_time": "2022-06-03T03:57:30.001845Z"
    },
    "hidden": true
   },
   "outputs": [],
   "source": [
    "def softmax(x):\n",
    "    exp = np.exp(x - np.max(x))\n",
    "    return exp / exp.sum(axis=0)"
   ]
  },
  {
   "cell_type": "markdown",
   "id": "1175e9df",
   "metadata": {},
   "source": [
    "## Foward Propagation"
   ]
  },
  {
   "cell_type": "code",
   "execution_count": 818,
   "id": "edcf3b88",
   "metadata": {
    "ExecuteTime": {
     "end_time": "2022-06-05T04:31:24.558153Z",
     "start_time": "2022-06-05T04:31:24.551649Z"
    }
   },
   "outputs": [],
   "source": [
    "def foward_propagation(w1, b1, w2, b2, X):\n",
    "    # Calculate z1\n",
    "    z1 = w1.dot(X) + b1\n",
    "    a1 = ReLU(z1)\n",
    "    # Calculate z2\n",
    "    z2 = w2.dot(a1) + b2\n",
    "    a2 = softmax(z2)\n",
    "    return z1, a1, z2, a1"
   ]
  },
  {
   "cell_type": "markdown",
   "id": "07caa602",
   "metadata": {
    "heading_collapsed": true
   },
   "source": [
    "## OneHot Encoding"
   ]
  },
  {
   "cell_type": "code",
   "execution_count": 361,
   "id": "e1db44f2",
   "metadata": {
    "ExecuteTime": {
     "end_time": "2022-06-03T03:04:04.181214Z",
     "start_time": "2022-06-03T03:04:04.156257Z"
    },
    "hidden": true
   },
   "outputs": [],
   "source": [
    "def one_hot_encoding(X):\n",
    "    n_labels = len(np.unique(X))           # Get number of labels\n",
    "    encode = np.zeros((X.size, n_labels))  # Create matrix with zeros, arrays of n_labels size\n",
    "    encode[np.arange(X.size), X] = 1       # Apply one hot encoding. [i,j]; i: n observations range; j: label value corresponds to onehot index\n",
    "    encode = encode.T                      # Return observations from row to columns\n",
    "    return encode"
   ]
  },
  {
   "cell_type": "markdown",
   "id": "b773cf45",
   "metadata": {},
   "source": [
    "## Back propagation"
   ]
  },
  {
   "cell_type": "code",
   "execution_count": 418,
   "id": "51094d14",
   "metadata": {
    "ExecuteTime": {
     "end_time": "2022-06-03T03:54:19.797380Z",
     "start_time": "2022-06-03T03:54:19.789436Z"
    }
   },
   "outputs": [],
   "source": [
    "def back_propagation(z1, a1, z2, a2, w2, X, y):\n",
    "    # Apply one hot encoding to target\n",
    "    y_enc = one_hot_encoding(y)\n",
    "    # Compute layer 2\n",
    "    dz2 = a2 - y_enc\n",
    "    dw2 = 1 / y.size * dz2.dot(a1.T)\n",
    "    db2 = 1 / y.size * np.sum(dz2)\n",
    "    # Compute layer 1\n",
    "    dz1 = w2.T.dot(dz2) * ReLU_derivative(z1)\n",
    "    dw1 = 1 / y.size * dz1.dot(X.T)\n",
    "    db1 = 1 / y.size * np.sum(dz1)\n",
    "    # Return derivatives values\n",
    "    return dw1, db1, dw2, db2\n",
    "\n",
    "def update_params(w1, b1, w2, b2, dw1, db1, dw2, db2, alpha):\n",
    "    w1 -= alpha * dw1\n",
    "    b1 -= alpha * db1\n",
    "    w2 -= alpha * dw2\n",
    "    b2 -= alpha * db2\n",
    "    return w1, b1, w2, b2\n",
    "    "
   ]
  },
  {
   "cell_type": "markdown",
   "id": "38223351",
   "metadata": {},
   "source": [
    "## Gradient Descent"
   ]
  },
  {
   "cell_type": "code",
   "execution_count": null,
   "id": "e41cc681",
   "metadata": {},
   "outputs": [],
   "source": [
    "def predict(y):\n",
    "    return np.argmax(y, 0)\n",
    "\n",
    "def acc_score(predictions, true_labels):\n",
    "fro    return np.sum(predictions==true_labels) / true_labels.size"
   ]
  },
  {
   "cell_type": "code",
   "execution_count": 406,
   "id": "9fa958ff",
   "metadata": {
    "ExecuteTime": {
     "end_time": "2022-06-03T03:38:03.167391Z",
     "start_time": "2022-06-03T03:38:03.157152Z"
    }
   },
   "outputs": [],
   "source": [
    "\n",
    "\n",
    "def gradient_descent(X, y, itter, alpha, verbose=True):\n",
    "    \n",
    "    # Create progress bar\n",
    "    pbar = tqdm(range(itter), desc='Training NN: ')\n",
    "    \n",
    "    w1, b1, w2, b2 = init_params()\n",
    "    for i in pbar:\n",
    "        # Apply foward propagation\n",
    "        z1, a1, z2, a2 = foward_propagation(w1, b1, w2, b2, X)\n",
    "        # Apply back propagation\n",
    "        dw1, db1, dw2, db2 = back_propagation(z1, a1, z2, a2, w2, X, y)\n",
    "        w1, b1, w2, b2 = update_params(w1, b1, w2, b2, dw1, db1, dw2, db2, alpha)\n",
    "        # Update progress bar\n",
    "        pbar.set_description(f'Accuracy: {acc_score(predict(a2), y):.3f}  ')\n",
    "            \n",
    "    return w1, b1, w2, b2\n",
    "    \n",
    "    "
   ]
  },
  {
   "cell_type": "code",
   "execution_count": 819,
   "id": "67c92158",
   "metadata": {
    "ExecuteTime": {
     "end_time": "2022-06-05T04:31:37.341430Z",
     "start_time": "2022-06-05T04:31:28.155529Z"
    }
   },
   "outputs": [
    {
     "data": {
      "application/vnd.jupyter.widget-view+json": {
       "model_id": "cf863d605d9f408cafa74d62303f815b",
       "version_major": 2,
       "version_minor": 0
      },
      "text/plain": [
       "Training NN:   0%|          | 0/100 [00:00<?, ?it/s]"
      ]
     },
     "metadata": {},
     "output_type": "display_data"
    },
    {
     "name": "stderr",
     "output_type": "stream",
     "text": [
      "/var/folders/_m/3m0bcc4n6h73gny0bt6_g4x80000gn/T/ipykernel_6638/2826461118.py:3: RuntimeWarning:\n",
      "\n",
      "invalid value encountered in true_divide\n",
      "\n",
      "/var/folders/_m/3m0bcc4n6h73gny0bt6_g4x80000gn/T/ipykernel_6638/2826461118.py:2: RuntimeWarning:\n",
      "\n",
      "invalid value encountered in subtract\n",
      "\n"
     ]
    }
   ],
   "source": [
    "w1, b1, w2, b2 = gradient_descent(X_train, y_train, itter=100, alpha=0.1)"
   ]
  },
  {
   "cell_type": "code",
   "execution_count": 394,
   "id": "9073a081",
   "metadata": {
    "ExecuteTime": {
     "end_time": "2022-06-03T03:33:28.973918Z",
     "start_time": "2022-06-03T03:33:28.964758Z"
    }
   },
   "outputs": [
    {
     "data": {
      "text/html": [
       "\n",
       "        <style>\n",
       "            .jupyter-widgets {color: #d5d5d5 !important;}\n",
       "            .widget-label {color: #d5d5d5 !important;}\n",
       "        </style>\n",
       "    "
      ],
      "text/plain": [
       "<IPython.core.display.HTML object>"
      ]
     },
     "metadata": {},
     "output_type": "display_data"
    }
   ],
   "source": []
  },
  {
   "cell_type": "code",
   "execution_count": null,
   "id": "c9adc2f8",
   "metadata": {},
   "outputs": [],
   "source": []
  },
  {
   "cell_type": "code",
   "execution_count": null,
   "id": "9d0d60e0",
   "metadata": {},
   "outputs": [],
   "source": []
  },
  {
   "cell_type": "code",
   "execution_count": null,
   "id": "4c30973c",
   "metadata": {},
   "outputs": [],
   "source": []
  },
  {
   "cell_type": "code",
   "execution_count": null,
   "id": "3fd91f63",
   "metadata": {},
   "outputs": [],
   "source": []
  },
  {
   "cell_type": "code",
   "execution_count": null,
   "id": "6c06c4a9",
   "metadata": {},
   "outputs": [],
   "source": []
  }
 ],
 "metadata": {
  "kernelspec": {
   "display_name": "Python 3 (ipykernel)",
   "language": "python",
   "name": "python3"
  },
  "language_info": {
   "codemirror_mode": {
    "name": "ipython",
    "version": 3
   },
   "file_extension": ".py",
   "mimetype": "text/x-python",
   "name": "python",
   "nbconvert_exporter": "python",
   "pygments_lexer": "ipython3",
   "version": "3.9.12"
  },
  "toc": {
   "base_numbering": 1,
   "nav_menu": {},
   "number_sections": true,
   "sideBar": true,
   "skip_h1_title": false,
   "title_cell": "Table of Contents",
   "title_sidebar": "Contents",
   "toc_cell": false,
   "toc_position": {},
   "toc_section_display": true,
   "toc_window_display": false
  }
 },
 "nbformat": 4,
 "nbformat_minor": 5
}
