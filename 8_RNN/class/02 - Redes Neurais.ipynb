{
 "cells": [
  {
   "cell_type": "markdown",
   "metadata": {},
   "source": [
    "# Redes Neurais\n",
    "\n",
    "Na aula de hoje, vamos explorar os seguintes tópicos em Python:\n",
    "\n",
    "- TensorFlow e Keras;\n",
    "- MLP;\n",
    "- Treinando uma Rede Neural;\n",
    "- MNIST;\n",
    "- Exercícios"
   ]
  },
  {
   "cell_type": "markdown",
   "metadata": {},
   "source": [
    "##   "
   ]
  },
  {
   "cell_type": "markdown",
   "metadata": {},
   "source": [
    "## TensorFlow e Keras"
   ]
  },
  {
   "cell_type": "markdown",
   "metadata": {},
   "source": [
    "Hoje vamos trabalhar com __as principais bibliotecas de redes neurais__, sendo a principal delas desenvolvida para Python, o [__TensorFlow__](https://www.tensorflow.org/).<br>\n",
    " <br>\n",
    "<img src=\"https://www.ambientelivre.com.br/images/logos_open_source/tensorflow_logo.png\" width=500>\n",
    " <br>\n",
    "O __TensorFlow__ é um __framework extremamente poderoso__, mas que apresenta uma __sintaxe consideravelmeente complicada__. Para facilitar a vida e descomplicar Redes Neurais, que surgiu uma outra biblioteca construída encima do TensorFlow, conhecida como [__Keras__](https://keras.io/) <br>\n",
    " <br>\n",
    " <img src=\"https://www.pyimagesearch.com/wp-content/uploads/2020/02/keras_autoencoders_header.png\" width=500>\n",
    " <br>\n",
    "Diferente com o que estamos acostumados do _SciKit-Learn_, o __Keras__ é focada exclusivamente em Redes Neurais, oferencendo implementação de funções de alto nível, construindo essas redes de forma prática e simples!<br><br>\n",
    " \n",
    "Claro que infelizmente até o __Keras__ têm suas limitações, quando precisar de modificações muito especificas, pode ser precise recorrer ao __TensorFlow__, apesar do __Keras__ possuir a __maioria das principais arquiteturas__ de Redes Neurais do __TensorFLow__ completamente integradas. \n",
    "<br><br>\n",
    "Para instalar tanto o __TensorFlow__ quanto o __Keras__ basta seguir o código abaixo:"
   ]
  },
  {
   "cell_type": "code",
   "execution_count": 130,
   "metadata": {
    "ExecuteTime": {
     "end_time": "2022-06-03T23:02:26.564021Z",
     "start_time": "2022-06-03T23:02:26.560791Z"
    }
   },
   "outputs": [],
   "source": [
    "# Instalando as Bibliotecas\n",
    "#!pip install tensorflow\n",
    "#!pip install keras"
   ]
  },
  {
   "cell_type": "markdown",
   "metadata": {},
   "source": [
    "## "
   ]
  },
  {
   "cell_type": "markdown",
   "metadata": {},
   "source": [
    "## Multi Layer Perceptron (MLP)"
   ]
  },
  {
   "cell_type": "markdown",
   "metadata": {},
   "source": [
    "Vimos na aula anterior a respeito do _Perceptron_, onde montamos uma rede neural a partir de um neurônio. É importante o conceito do _Perceptron_ para justamente entender o que existe por trás das redes neurais mais complexas.\n",
    "\n",
    "As redes __Multi Layer Perceptron__ (pela sigla MLP) sõa todos tipos de redes onde temos __diversas camadas de neurônios totalmente conectada__.\n",
    "\n",
    "<br>\n",
    "\n",
    "<img src=\"https://miro.medium.com/max/1400/1*piYTTh83qsQJVUMOZKmN5w.png\" width= 600>\n",
    "\n",
    "<br>\n",
    "\n",
    "Conhecido já os principais conceitos por trás das redes neurais e agora fazendo a abstração para redes mais complexas, vamos treinar uma rede agora baseado no _MLP_."
   ]
  },
  {
   "cell_type": "markdown",
   "metadata": {},
   "source": [
    "##   "
   ]
  },
  {
   "cell_type": "markdown",
   "metadata": {},
   "source": [
    "## Treinando uma Rede Neural"
   ]
  },
  {
   "cell_type": "markdown",
   "metadata": {},
   "source": [
    "A \"aprendizagem\" da Rede Neural a partir dos dados se dá através de duas etapas, o **Forward Propagation** e o **Backward Propagation**.\n",
    "\n",
    "### Forward Propagation\n",
    "\n",
    "No __Forward Propagation__, a informação propaga na direção habitual (da esquerda para direita) na rede neural: features são lidas na camada de input, passam pelo processamento nas camadas ocultas, e a resposta (target) é predita na camada de output. \n",
    "\n",
    "Para que a predição seja realizada, os neurônios nas camadas ocultas realizam as seguintes duas etapas de cálculo:\n",
    "\n",
    "- Uma combinação linear entre o output (que denotamos pela letra **a**) da camada enterior e os pesos da camada atual. Isto é, se tivermos n ligações. a combinação linear é:\n",
    "\n",
    "![](https://latex.codecogs.com/gif.latex?z%5E%7Batual%7D%20%3D%20W_0%5E%7Batual%7D%20&plus;%20%5Cleft%20%28%20W_1%5E%7Batual%7D%5Ctimes%20a_1%5E%7Banterior%7D%20%5Cright%29%20&plus;%20%5Cleft%28%20W_2%5E%7Batual%7D%20%5Ctimes%20a_2%5E%7Banterior%7D%20%5Cright%20%29%20&plus;%20%5Ccdots%20&plus;%20%5Cleft%20%28%20W_n%5E%7Batual%7D%20%5Ctimes%20a_n%5E%7Banterior%7D%20%5Cright%29)\n",
    "\n",
    "- Aplica-se uma __função de ativação não-linear__ à combinação linear acima. As principais funções de ativação utilizadas são:\n",
    "<br><br>\n",
    "\n",
    "<img src=\"https://cdn-images-1.medium.com/max/1000/1*4ZEDRpFuCIpUjNgjDdT2Lg.png\n",
    "\" width=\"800\" />\n",
    "\n",
    "O cálculo realizado por um único neurônio é bem parecido com um **perceptron**, ilustrado a seguir:\n",
    "<br>\n",
    "\n",
    "<img src=\"https://img2.gratispng.com/20180619/oav/kisspng-multilayer-perceptron-machine-learning-statistical-5b2996bdb9dcd2.4724873615294522217613.jpg\" width=\"400\" />\n",
    "<br>\n",
    "\n",
    "A escolha das funções de ativação também pode ser variável, mas costuma-se utilizar:\n",
    "\n",
    "- **ReLu** nas camadas ocultas;\n",
    "- **Sigmoid** (para problemas de classificação binários) ou **Softmax** (para probelams de classificação multiclasse) na camada de output.\n",
    "\n",
    "\n",
    "Ao fim do __Forward Propagation__, na camada de output, calculamos a **Função de Perda**, que quantifica qual a **diferença entre as predições feitas pela rede neural e os valores reais do target dos dados**. Cada tipo de problema tem uma função de perda própria.\n",
    "<br><br>\n",
    "\n",
    "Queremos que as predições sejam sempre o mais próximas o possível dos valores reais. Então, o que fazemos é **minimizar** a função de perda. \n",
    "\n",
    "\n",
    "### Backward Propagation\n",
    "\n",
    "Isto é feito ao propagarmos a informação na direção contrária (da direita para esquerda) na rede neural, o que caracteriza o chamado __Backward Propagation__. \n",
    "\n",
    "Para minimizar a função de perda, utilizamos um **Otimizador**, que são objetos que representam o procedimento matemático de minimização da função de perda. Os principais otimizadores utilizados são: __gradiente descendente (GD)__, **Adam** e **RMSProp**.\n",
    "\n",
    "Este processo de __Forward e Backward Propagation__ é feito iterativamente, ou seja por diversas vezes no desenvolvimento do modelo. Cada rodada é chamada de __época__ (**epoch**).\n",
    "\n",
    "O objetivo do Backward Propagation é **determinar os Pesos que miminizem a Função de Perda.** A cada epoch, os pesos são **atualizados**, de modo que a função de perda é sempre reduzida em direção ao seu mínimo!\n",
    "\n",
    "Para quem quiser saber mais, segue uma sugestão de leitura adicional: [Neural Networks Explained](https://medium.com/datadriveninvestor/neural-networks-explained-6e21c70d7818)\n",
    "\n",
    "Vamos agora ao nosso exemplo prático: construiremos nossa própria rede neural!"
   ]
  },
  {
   "cell_type": "markdown",
   "metadata": {},
   "source": [
    "##   "
   ]
  },
  {
   "cell_type": "markdown",
   "metadata": {},
   "source": [
    "## 5) O exemplo clássico: MNIST\n",
    "\n",
    "Neste exemplo, usaremos o **[MNIST](https://www.kaggle.com/c/digit-recognizer/data)**, o famoso dataset de dígitos (números de 0 a 9) escritos à mão, onde vocês podem conhecer mais a respeito neste [link](http://yann.lecun.com/exdb/mnist/)\n",
    "\n",
    "<br><br>\n",
    "<img src=\"https://i2.wp.com/syncedreview.com/wp-content/uploads/2019/06/MNIST.png?fit=530%2C297&ssl=1\" width=700>\n",
    "\n",
    "<br><br>\n",
    "O objetivo do nosso modelo será o de **classificar digítos, com base em imagens**. Assim sendo, temos um **problema de classificação multiclasse** (pois os dados serão classificados em uma dentre 10 classes possíveis, de 0 a 9)."
   ]
  },
  {
   "cell_type": "code",
   "execution_count": 131,
   "metadata": {
    "ExecuteTime": {
     "end_time": "2022-06-03T23:02:26.583331Z",
     "start_time": "2022-06-03T23:02:26.571909Z"
    }
   },
   "outputs": [],
   "source": [
    "# importe as bibliotecas padrões\n",
    "import numpy as np\n",
    "import pandas as pd\n",
    "import seaborn as sns; sns.set()\n",
    "import matplotlib.pyplot as plt\n",
    "import plotly.express as px\n",
    "import plotly.graph_objects as go"
   ]
  },
  {
   "cell_type": "markdown",
   "metadata": {},
   "source": [
    "__Algumas observações sobre a base :__\n",
    "\n",
    "- A base do MNIST é composta por imagens de números manuscritos, onde cada imagem é uma **matriz 28 x 28**, contendo assim **784 pixels**; \n",
    "\n",
    "- As imagens estão em escala de cinza, na qual cada pixel pode variar de **0 a 255**, e foram centralizadas, de forma que o número não fique \"cortado\" por estar na borda;\n",
    "\n",
    "- A base está dividida em 60 mil casos para treino e 10 mil casos para teste;\n",
    "\n",
    "\n",
    "Na função ``carrega_mnist()``, o objetivo é ler a base e retornar dois numpy arrays (a = 60000 ou a = 10000, a depender do tipo): \n",
    "\n",
    "- o primeiro da forma (a, 784), que são os 784 pixels da imagem organizados de forma sequencial;\n",
    "- o segundo da forma (a, 1), que é o identificador (label) da imagem, sendo um número que varia de 0 a 9.\n"
   ]
  },
  {
   "cell_type": "code",
   "execution_count": 132,
   "metadata": {
    "ExecuteTime": {
     "end_time": "2022-06-03T23:02:27.926508Z",
     "start_time": "2022-06-03T23:02:26.594298Z"
    }
   },
   "outputs": [],
   "source": [
    "# Função essencial para ler a base do MNIST\n",
    "import os\n",
    "import gzip\n",
    "\n",
    "def carrega_mnist(caminho, tipo = 'train'):\n",
    "    label_caminho = os.path.join(caminho, '%s-labels-idx1-ubyte.gz' % tipo)\n",
    "    imagens_caminho = os.path.join(caminho, '%s-images-idx3-ubyte.gz' % tipo)\n",
    "        \n",
    "    with gzip.open(label_caminho, 'rb') as lbpath:\n",
    "        lbpath.read(8)\n",
    "        buffer = lbpath.read()\n",
    "        labels = np.frombuffer(buffer, dtype=np.uint8)\n",
    "\n",
    "    with gzip.open(imagens_caminho, 'rb') as imgpath:\n",
    "        imgpath.read(16)\n",
    "        buffer = imgpath.read()\n",
    "        imagens = np.frombuffer(buffer, \n",
    "                               dtype=np.uint8).reshape(\n",
    "            len(labels), 784).astype(np.float64)\n",
    " \n",
    "    return imagens, labels\n",
    "\n",
    "X, y = carrega_mnist('../datasets/')\n",
    "X_eval, y_eval = carrega_mnist('../datasets/', \"t10k\")"
   ]
  },
  {
   "cell_type": "markdown",
   "metadata": {},
   "source": [
    "Fazendo uma visualização do Dataset:"
   ]
  },
  {
   "cell_type": "code",
   "execution_count": 133,
   "metadata": {
    "ExecuteTime": {
     "end_time": "2022-06-03T23:02:28.045135Z",
     "start_time": "2022-06-03T23:02:27.930284Z"
    }
   },
   "outputs": [
    {
     "data": {
      "application/vnd.plotly.v1+json": {
       "config": {
        "plotlyServerURL": "https://plot.ly"
       },
       "data": [
        {
         "coloraxis": "coloraxis",
         "hovertemplate": "x: %{x}<br>y: %{y}<br>color: %{z}<extra></extra>",
         "name": "0",
         "type": "heatmap",
         "xaxis": "x",
         "yaxis": "y",
         "z": [
          [
           0,
           0,
           0,
           0,
           0,
           0,
           0,
           0,
           0,
           0,
           0,
           0,
           0,
           0,
           0,
           0,
           0,
           0,
           0,
           0,
           0,
           0,
           0,
           0,
           0,
           0,
           0,
           0
          ],
          [
           0,
           0,
           0,
           0,
           0,
           0,
           0,
           0,
           0,
           0,
           0,
           0,
           0,
           0,
           0,
           0,
           0,
           0,
           0,
           0,
           0,
           0,
           0,
           0,
           0,
           0,
           0,
           0
          ],
          [
           0,
           0,
           0,
           0,
           0,
           0,
           0,
           0,
           0,
           0,
           0,
           0,
           0,
           0,
           0,
           0.14901960784313725,
           0.9333333333333333,
           0.8392156862745098,
           0,
           0,
           0,
           0,
           0,
           0,
           0,
           0,
           0,
           0
          ],
          [
           0,
           0,
           0,
           0,
           0,
           0,
           0,
           0,
           0,
           0,
           0,
           0,
           0,
           0,
           0.14901960784313725,
           0.5647058823529412,
           0.9529411764705882,
           0.14901960784313725,
           0,
           0,
           0,
           0,
           0,
           0,
           0,
           0,
           0,
           0
          ],
          [
           0,
           0,
           0,
           0,
           0,
           0,
           0,
           0,
           0,
           0,
           0,
           0,
           0,
           0.0392156862745098,
           0.7725490196078432,
           0.9882352941176471,
           0.8392156862745098,
           0,
           0,
           0,
           0,
           0,
           0,
           0,
           0,
           0,
           0,
           0
          ],
          [
           0,
           0,
           0,
           0,
           0,
           0,
           0,
           0,
           0,
           0,
           0,
           0,
           0,
           0.5019607843137255,
           0.9882352941176471,
           0.9882352941176471,
           0.35294117647058826,
           0,
           0,
           0,
           0,
           0,
           0,
           0,
           0,
           0,
           0,
           0
          ],
          [
           0,
           0,
           0,
           0,
           0,
           0,
           0,
           0,
           0,
           0,
           0,
           0,
           0,
           1,
           0.9921568627450981,
           0.6588235294117647,
           0,
           0,
           0,
           0,
           0,
           0,
           0,
           0,
           0,
           0,
           0,
           0
          ],
          [
           0,
           0,
           0,
           0,
           0,
           0,
           0,
           0,
           0,
           0,
           0,
           0,
           0.10196078431372549,
           0.9921568627450981,
           0.9882352941176471,
           0.36470588235294116,
           0,
           0,
           0,
           0,
           0,
           0,
           0,
           0,
           0,
           0,
           0,
           0
          ],
          [
           0,
           0,
           0,
           0,
           0,
           0,
           0,
           0,
           0,
           0,
           0,
           0.11372549019607843,
           0.8235294117647058,
           0.9921568627450981,
           0.6666666666666666,
           0.050980392156862744,
           0,
           0,
           0,
           0,
           0,
           0,
           0,
           0,
           0,
           0,
           0,
           0
          ],
          [
           0,
           0,
           0,
           0,
           0,
           0,
           0,
           0,
           0,
           0,
           0,
           0.5254901960784314,
           0.9882352941176471,
           0.9450980392156862,
           0.1843137254901961,
           0,
           0,
           0,
           0,
           0,
           0,
           0,
           0,
           0,
           0,
           0,
           0,
           0
          ],
          [
           0,
           0,
           0,
           0,
           0,
           0,
           0,
           0,
           0,
           0,
           0.27450980392156865,
           0.9921568627450981,
           0.9921568627450981,
           0.396078431372549,
           0,
           0,
           0,
           0,
           0,
           0,
           0,
           0,
           0,
           0,
           0,
           0,
           0,
           0
          ],
          [
           0,
           0,
           0,
           0,
           0,
           0,
           0,
           0,
           0,
           0,
           0.6627450980392157,
           0.9882352941176471,
           0.8901960784313725,
           0,
           0,
           0,
           0,
           0,
           0,
           0,
           0,
           0,
           0,
           0,
           0,
           0,
           0,
           0
          ],
          [
           0,
           0,
           0,
           0,
           0,
           0,
           0,
           0,
           0,
           0.09019607843137255,
           0.9176470588235294,
           0.9882352941176471,
           0.403921568627451,
           0,
           0,
           0,
           0,
           0,
           0,
           0,
           0,
           0,
           0,
           0,
           0,
           0,
           0,
           0
          ],
          [
           0,
           0,
           0,
           0,
           0,
           0,
           0,
           0,
           0,
           0.7019607843137254,
           0.9882352941176471,
           0.8392156862745098,
           0.058823529411764705,
           0,
           0,
           0,
           0,
           0,
           0,
           0,
           0,
           0,
           0,
           0,
           0,
           0,
           0,
           0
          ],
          [
           0,
           0,
           0,
           0,
           0,
           0,
           0,
           0,
           0,
           0.996078431372549,
           0.9921568627450981,
           0.611764705882353,
           0,
           0,
           0.07450980392156863,
           0.6039215686274509,
           0.9921568627450981,
           0.996078431372549,
           0.9921568627450981,
           0.8470588235294118,
           0.1607843137254902,
           0,
           0,
           0,
           0,
           0,
           0,
           0
          ],
          [
           0,
           0,
           0,
           0,
           0,
           0,
           0,
           0,
           0.2980392156862745,
           0.9921568627450981,
           0.9411764705882353,
           0.16862745098039217,
           0,
           0.027450980392156862,
           0.7333333333333333,
           0.9882352941176471,
           0.9882352941176471,
           0.9921568627450981,
           0.9882352941176471,
           0.9882352941176471,
           0.9882352941176471,
           0.10196078431372549,
           0,
           0,
           0,
           0,
           0,
           0
          ],
          [
           0,
           0,
           0,
           0,
           0,
           0,
           0,
           0,
           0.44313725490196076,
           0.9921568627450981,
           0.6196078431372549,
           0,
           0,
           0.6039215686274509,
           0.9882352941176471,
           0.8784313725490196,
           0.6588235294117647,
           0.2196078431372549,
           0.2196078431372549,
           0.8196078431372549,
           0.9882352941176471,
           0.44313725490196076,
           0,
           0,
           0,
           0,
           0,
           0
          ],
          [
           0,
           0,
           0,
           0,
           0,
           0,
           0,
           0,
           0.44313725490196076,
           0.9921568627450981,
           0.5215686274509804,
           0,
           0,
           0.796078431372549,
           0.9882352941176471,
           0.6588235294117647,
           0,
           0,
           0.396078431372549,
           0.9647058823529412,
           0.9882352941176471,
           0.24705882352941178,
           0,
           0,
           0,
           0,
           0,
           0
          ],
          [
           0,
           0,
           0,
           0,
           0,
           0,
           0,
           0,
           0.2,
           0.996078431372549,
           0.9921568627450981,
           0.27058823529411763,
           0,
           0.5058823529411764,
           0.9921568627450981,
           0.8470588235294118,
           0.5529411764705883,
           0.6039215686274509,
           0.9921568627450981,
           0.9568627450980393,
           0.49019607843137253,
           0,
           0,
           0,
           0,
           0,
           0,
           0
          ],
          [
           0,
           0,
           0,
           0,
           0,
           0,
           0,
           0,
           0,
           0.9921568627450981,
           0.9882352941176471,
           0.8784313725490196,
           0.27058823529411763,
           0.30980392156862746,
           0.9882352941176471,
           0.9882352941176471,
           0.9882352941176471,
           0.9921568627450981,
           0.9882352941176471,
           0.5568627450980392,
           0,
           0,
           0,
           0,
           0,
           0,
           0,
           0
          ],
          [
           0,
           0,
           0,
           0,
           0,
           0,
           0,
           0,
           0,
           0.5019607843137255,
           0.9882352941176471,
           0.9882352941176471,
           0.9882352941176471,
           0.9921568627450981,
           0.9882352941176471,
           0.9882352941176471,
           0.9882352941176471,
           0.807843137254902,
           0.36470588235294116,
           0.050980392156862744,
           0,
           0,
           0,
           0,
           0,
           0,
           0,
           0
          ],
          [
           0,
           0,
           0,
           0,
           0,
           0,
           0,
           0,
           0,
           0.01568627450980392,
           0.10980392156862745,
           0.4549019607843137,
           0.9411764705882353,
           0.9921568627450981,
           0.6941176470588235,
           0.5450980392156862,
           0.35294117647058826,
           0.050980392156862744,
           0,
           0,
           0,
           0,
           0,
           0,
           0,
           0,
           0,
           0
          ],
          [
           0,
           0,
           0,
           0,
           0,
           0,
           0,
           0,
           0,
           0,
           0,
           0,
           0,
           0,
           0,
           0,
           0,
           0,
           0,
           0,
           0,
           0,
           0,
           0,
           0,
           0,
           0,
           0
          ],
          [
           0,
           0,
           0,
           0,
           0,
           0,
           0,
           0,
           0,
           0,
           0,
           0,
           0,
           0,
           0,
           0,
           0,
           0,
           0,
           0,
           0,
           0,
           0,
           0,
           0,
           0,
           0,
           0
          ],
          [
           0,
           0,
           0,
           0,
           0,
           0,
           0,
           0,
           0,
           0,
           0,
           0,
           0,
           0,
           0,
           0,
           0,
           0,
           0,
           0,
           0,
           0,
           0,
           0,
           0,
           0,
           0,
           0
          ],
          [
           0,
           0,
           0,
           0,
           0,
           0,
           0,
           0,
           0,
           0,
           0,
           0,
           0,
           0,
           0,
           0,
           0,
           0,
           0,
           0,
           0,
           0,
           0,
           0,
           0,
           0,
           0,
           0
          ],
          [
           0,
           0,
           0,
           0,
           0,
           0,
           0,
           0,
           0,
           0,
           0,
           0,
           0,
           0,
           0,
           0,
           0,
           0,
           0,
           0,
           0,
           0,
           0,
           0,
           0,
           0,
           0,
           0
          ],
          [
           0,
           0,
           0,
           0,
           0,
           0,
           0,
           0,
           0,
           0,
           0,
           0,
           0,
           0,
           0,
           0,
           0,
           0,
           0,
           0,
           0,
           0,
           0,
           0,
           0,
           0,
           0,
           0
          ]
         ]
        }
       ],
       "layout": {
        "coloraxis": {
         "colorscale": [
          [
           0,
           "#0d0887"
          ],
          [
           0.1111111111111111,
           "#46039f"
          ],
          [
           0.2222222222222222,
           "#7201a8"
          ],
          [
           0.3333333333333333,
           "#9c179e"
          ],
          [
           0.4444444444444444,
           "#bd3786"
          ],
          [
           0.5555555555555556,
           "#d8576b"
          ],
          [
           0.6666666666666666,
           "#ed7953"
          ],
          [
           0.7777777777777778,
           "#fb9f3a"
          ],
          [
           0.8888888888888888,
           "#fdca26"
          ],
          [
           1,
           "#f0f921"
          ]
         ]
        },
        "margin": {
         "t": 60
        },
        "template": {
         "data": {
          "bar": [
           {
            "error_x": {
             "color": "#2a3f5f"
            },
            "error_y": {
             "color": "#2a3f5f"
            },
            "marker": {
             "line": {
              "color": "#E5ECF6",
              "width": 0.5
             },
             "pattern": {
              "fillmode": "overlay",
              "size": 10,
              "solidity": 0.2
             }
            },
            "type": "bar"
           }
          ],
          "barpolar": [
           {
            "marker": {
             "line": {
              "color": "#E5ECF6",
              "width": 0.5
             },
             "pattern": {
              "fillmode": "overlay",
              "size": 10,
              "solidity": 0.2
             }
            },
            "type": "barpolar"
           }
          ],
          "carpet": [
           {
            "aaxis": {
             "endlinecolor": "#2a3f5f",
             "gridcolor": "white",
             "linecolor": "white",
             "minorgridcolor": "white",
             "startlinecolor": "#2a3f5f"
            },
            "baxis": {
             "endlinecolor": "#2a3f5f",
             "gridcolor": "white",
             "linecolor": "white",
             "minorgridcolor": "white",
             "startlinecolor": "#2a3f5f"
            },
            "type": "carpet"
           }
          ],
          "choropleth": [
           {
            "colorbar": {
             "outlinewidth": 0,
             "ticks": ""
            },
            "type": "choropleth"
           }
          ],
          "contour": [
           {
            "colorbar": {
             "outlinewidth": 0,
             "ticks": ""
            },
            "colorscale": [
             [
              0,
              "#0d0887"
             ],
             [
              0.1111111111111111,
              "#46039f"
             ],
             [
              0.2222222222222222,
              "#7201a8"
             ],
             [
              0.3333333333333333,
              "#9c179e"
             ],
             [
              0.4444444444444444,
              "#bd3786"
             ],
             [
              0.5555555555555556,
              "#d8576b"
             ],
             [
              0.6666666666666666,
              "#ed7953"
             ],
             [
              0.7777777777777778,
              "#fb9f3a"
             ],
             [
              0.8888888888888888,
              "#fdca26"
             ],
             [
              1,
              "#f0f921"
             ]
            ],
            "type": "contour"
           }
          ],
          "contourcarpet": [
           {
            "colorbar": {
             "outlinewidth": 0,
             "ticks": ""
            },
            "type": "contourcarpet"
           }
          ],
          "heatmap": [
           {
            "colorbar": {
             "outlinewidth": 0,
             "ticks": ""
            },
            "colorscale": [
             [
              0,
              "#0d0887"
             ],
             [
              0.1111111111111111,
              "#46039f"
             ],
             [
              0.2222222222222222,
              "#7201a8"
             ],
             [
              0.3333333333333333,
              "#9c179e"
             ],
             [
              0.4444444444444444,
              "#bd3786"
             ],
             [
              0.5555555555555556,
              "#d8576b"
             ],
             [
              0.6666666666666666,
              "#ed7953"
             ],
             [
              0.7777777777777778,
              "#fb9f3a"
             ],
             [
              0.8888888888888888,
              "#fdca26"
             ],
             [
              1,
              "#f0f921"
             ]
            ],
            "type": "heatmap"
           }
          ],
          "heatmapgl": [
           {
            "colorbar": {
             "outlinewidth": 0,
             "ticks": ""
            },
            "colorscale": [
             [
              0,
              "#0d0887"
             ],
             [
              0.1111111111111111,
              "#46039f"
             ],
             [
              0.2222222222222222,
              "#7201a8"
             ],
             [
              0.3333333333333333,
              "#9c179e"
             ],
             [
              0.4444444444444444,
              "#bd3786"
             ],
             [
              0.5555555555555556,
              "#d8576b"
             ],
             [
              0.6666666666666666,
              "#ed7953"
             ],
             [
              0.7777777777777778,
              "#fb9f3a"
             ],
             [
              0.8888888888888888,
              "#fdca26"
             ],
             [
              1,
              "#f0f921"
             ]
            ],
            "type": "heatmapgl"
           }
          ],
          "histogram": [
           {
            "marker": {
             "pattern": {
              "fillmode": "overlay",
              "size": 10,
              "solidity": 0.2
             }
            },
            "type": "histogram"
           }
          ],
          "histogram2d": [
           {
            "colorbar": {
             "outlinewidth": 0,
             "ticks": ""
            },
            "colorscale": [
             [
              0,
              "#0d0887"
             ],
             [
              0.1111111111111111,
              "#46039f"
             ],
             [
              0.2222222222222222,
              "#7201a8"
             ],
             [
              0.3333333333333333,
              "#9c179e"
             ],
             [
              0.4444444444444444,
              "#bd3786"
             ],
             [
              0.5555555555555556,
              "#d8576b"
             ],
             [
              0.6666666666666666,
              "#ed7953"
             ],
             [
              0.7777777777777778,
              "#fb9f3a"
             ],
             [
              0.8888888888888888,
              "#fdca26"
             ],
             [
              1,
              "#f0f921"
             ]
            ],
            "type": "histogram2d"
           }
          ],
          "histogram2dcontour": [
           {
            "colorbar": {
             "outlinewidth": 0,
             "ticks": ""
            },
            "colorscale": [
             [
              0,
              "#0d0887"
             ],
             [
              0.1111111111111111,
              "#46039f"
             ],
             [
              0.2222222222222222,
              "#7201a8"
             ],
             [
              0.3333333333333333,
              "#9c179e"
             ],
             [
              0.4444444444444444,
              "#bd3786"
             ],
             [
              0.5555555555555556,
              "#d8576b"
             ],
             [
              0.6666666666666666,
              "#ed7953"
             ],
             [
              0.7777777777777778,
              "#fb9f3a"
             ],
             [
              0.8888888888888888,
              "#fdca26"
             ],
             [
              1,
              "#f0f921"
             ]
            ],
            "type": "histogram2dcontour"
           }
          ],
          "mesh3d": [
           {
            "colorbar": {
             "outlinewidth": 0,
             "ticks": ""
            },
            "type": "mesh3d"
           }
          ],
          "parcoords": [
           {
            "line": {
             "colorbar": {
              "outlinewidth": 0,
              "ticks": ""
             }
            },
            "type": "parcoords"
           }
          ],
          "pie": [
           {
            "automargin": true,
            "type": "pie"
           }
          ],
          "scatter": [
           {
            "marker": {
             "colorbar": {
              "outlinewidth": 0,
              "ticks": ""
             }
            },
            "type": "scatter"
           }
          ],
          "scatter3d": [
           {
            "line": {
             "colorbar": {
              "outlinewidth": 0,
              "ticks": ""
             }
            },
            "marker": {
             "colorbar": {
              "outlinewidth": 0,
              "ticks": ""
             }
            },
            "type": "scatter3d"
           }
          ],
          "scattercarpet": [
           {
            "marker": {
             "colorbar": {
              "outlinewidth": 0,
              "ticks": ""
             }
            },
            "type": "scattercarpet"
           }
          ],
          "scattergeo": [
           {
            "marker": {
             "colorbar": {
              "outlinewidth": 0,
              "ticks": ""
             }
            },
            "type": "scattergeo"
           }
          ],
          "scattergl": [
           {
            "marker": {
             "colorbar": {
              "outlinewidth": 0,
              "ticks": ""
             }
            },
            "type": "scattergl"
           }
          ],
          "scattermapbox": [
           {
            "marker": {
             "colorbar": {
              "outlinewidth": 0,
              "ticks": ""
             }
            },
            "type": "scattermapbox"
           }
          ],
          "scatterpolar": [
           {
            "marker": {
             "colorbar": {
              "outlinewidth": 0,
              "ticks": ""
             }
            },
            "type": "scatterpolar"
           }
          ],
          "scatterpolargl": [
           {
            "marker": {
             "colorbar": {
              "outlinewidth": 0,
              "ticks": ""
             }
            },
            "type": "scatterpolargl"
           }
          ],
          "scatterternary": [
           {
            "marker": {
             "colorbar": {
              "outlinewidth": 0,
              "ticks": ""
             }
            },
            "type": "scatterternary"
           }
          ],
          "surface": [
           {
            "colorbar": {
             "outlinewidth": 0,
             "ticks": ""
            },
            "colorscale": [
             [
              0,
              "#0d0887"
             ],
             [
              0.1111111111111111,
              "#46039f"
             ],
             [
              0.2222222222222222,
              "#7201a8"
             ],
             [
              0.3333333333333333,
              "#9c179e"
             ],
             [
              0.4444444444444444,
              "#bd3786"
             ],
             [
              0.5555555555555556,
              "#d8576b"
             ],
             [
              0.6666666666666666,
              "#ed7953"
             ],
             [
              0.7777777777777778,
              "#fb9f3a"
             ],
             [
              0.8888888888888888,
              "#fdca26"
             ],
             [
              1,
              "#f0f921"
             ]
            ],
            "type": "surface"
           }
          ],
          "table": [
           {
            "cells": {
             "fill": {
              "color": "#EBF0F8"
             },
             "line": {
              "color": "white"
             }
            },
            "header": {
             "fill": {
              "color": "#C8D4E3"
             },
             "line": {
              "color": "white"
             }
            },
            "type": "table"
           }
          ]
         },
         "layout": {
          "annotationdefaults": {
           "arrowcolor": "#2a3f5f",
           "arrowhead": 0,
           "arrowwidth": 1
          },
          "autotypenumbers": "strict",
          "coloraxis": {
           "colorbar": {
            "outlinewidth": 0,
            "ticks": ""
           }
          },
          "colorscale": {
           "diverging": [
            [
             0,
             "#8e0152"
            ],
            [
             0.1,
             "#c51b7d"
            ],
            [
             0.2,
             "#de77ae"
            ],
            [
             0.3,
             "#f1b6da"
            ],
            [
             0.4,
             "#fde0ef"
            ],
            [
             0.5,
             "#f7f7f7"
            ],
            [
             0.6,
             "#e6f5d0"
            ],
            [
             0.7,
             "#b8e186"
            ],
            [
             0.8,
             "#7fbc41"
            ],
            [
             0.9,
             "#4d9221"
            ],
            [
             1,
             "#276419"
            ]
           ],
           "sequential": [
            [
             0,
             "#0d0887"
            ],
            [
             0.1111111111111111,
             "#46039f"
            ],
            [
             0.2222222222222222,
             "#7201a8"
            ],
            [
             0.3333333333333333,
             "#9c179e"
            ],
            [
             0.4444444444444444,
             "#bd3786"
            ],
            [
             0.5555555555555556,
             "#d8576b"
            ],
            [
             0.6666666666666666,
             "#ed7953"
            ],
            [
             0.7777777777777778,
             "#fb9f3a"
            ],
            [
             0.8888888888888888,
             "#fdca26"
            ],
            [
             1,
             "#f0f921"
            ]
           ],
           "sequentialminus": [
            [
             0,
             "#0d0887"
            ],
            [
             0.1111111111111111,
             "#46039f"
            ],
            [
             0.2222222222222222,
             "#7201a8"
            ],
            [
             0.3333333333333333,
             "#9c179e"
            ],
            [
             0.4444444444444444,
             "#bd3786"
            ],
            [
             0.5555555555555556,
             "#d8576b"
            ],
            [
             0.6666666666666666,
             "#ed7953"
            ],
            [
             0.7777777777777778,
             "#fb9f3a"
            ],
            [
             0.8888888888888888,
             "#fdca26"
            ],
            [
             1,
             "#f0f921"
            ]
           ]
          },
          "colorway": [
           "#636efa",
           "#EF553B",
           "#00cc96",
           "#ab63fa",
           "#FFA15A",
           "#19d3f3",
           "#FF6692",
           "#B6E880",
           "#FF97FF",
           "#FECB52"
          ],
          "font": {
           "color": "#2a3f5f"
          },
          "geo": {
           "bgcolor": "white",
           "lakecolor": "white",
           "landcolor": "#E5ECF6",
           "showlakes": true,
           "showland": true,
           "subunitcolor": "white"
          },
          "hoverlabel": {
           "align": "left"
          },
          "hovermode": "closest",
          "mapbox": {
           "style": "light"
          },
          "paper_bgcolor": "white",
          "plot_bgcolor": "#E5ECF6",
          "polar": {
           "angularaxis": {
            "gridcolor": "white",
            "linecolor": "white",
            "ticks": ""
           },
           "bgcolor": "#E5ECF6",
           "radialaxis": {
            "gridcolor": "white",
            "linecolor": "white",
            "ticks": ""
           }
          },
          "scene": {
           "xaxis": {
            "backgroundcolor": "#E5ECF6",
            "gridcolor": "white",
            "gridwidth": 2,
            "linecolor": "white",
            "showbackground": true,
            "ticks": "",
            "zerolinecolor": "white"
           },
           "yaxis": {
            "backgroundcolor": "#E5ECF6",
            "gridcolor": "white",
            "gridwidth": 2,
            "linecolor": "white",
            "showbackground": true,
            "ticks": "",
            "zerolinecolor": "white"
           },
           "zaxis": {
            "backgroundcolor": "#E5ECF6",
            "gridcolor": "white",
            "gridwidth": 2,
            "linecolor": "white",
            "showbackground": true,
            "ticks": "",
            "zerolinecolor": "white"
           }
          },
          "shapedefaults": {
           "line": {
            "color": "#2a3f5f"
           }
          },
          "ternary": {
           "aaxis": {
            "gridcolor": "white",
            "linecolor": "white",
            "ticks": ""
           },
           "baxis": {
            "gridcolor": "white",
            "linecolor": "white",
            "ticks": ""
           },
           "bgcolor": "#E5ECF6",
           "caxis": {
            "gridcolor": "white",
            "linecolor": "white",
            "ticks": ""
           }
          },
          "title": {
           "x": 0.05
          },
          "xaxis": {
           "automargin": true,
           "gridcolor": "white",
           "linecolor": "white",
           "ticks": "",
           "title": {
            "standoff": 15
           },
           "zerolinecolor": "white",
           "zerolinewidth": 2
          },
          "yaxis": {
           "automargin": true,
           "gridcolor": "white",
           "linecolor": "white",
           "ticks": "",
           "title": {
            "standoff": 15
           },
           "zerolinecolor": "white",
           "zerolinewidth": 2
          }
         }
        },
        "xaxis": {
         "anchor": "y",
         "constrain": "domain",
         "domain": [
          0,
          1
         ],
         "scaleanchor": "y"
        },
        "yaxis": {
         "anchor": "x",
         "autorange": "reversed",
         "constrain": "domain",
         "domain": [
          0,
          1
         ]
        }
       }
      },
      "text/html": [
       "<div>                            <div id=\"33b25607-e9e6-45c0-8c98-ad94a3304ef1\" class=\"plotly-graph-div\" style=\"height:525px; width:100%;\"></div>            <script type=\"text/javascript\">                require([\"plotly\"], function(Plotly) {                    window.PLOTLYENV=window.PLOTLYENV || {};                                    if (document.getElementById(\"33b25607-e9e6-45c0-8c98-ad94a3304ef1\")) {                    Plotly.newPlot(                        \"33b25607-e9e6-45c0-8c98-ad94a3304ef1\",                        [{\"coloraxis\":\"coloraxis\",\"name\":\"0\",\"z\":[[0.0,0.0,0.0,0.0,0.0,0.0,0.0,0.0,0.0,0.0,0.0,0.0,0.0,0.0,0.0,0.0,0.0,0.0,0.0,0.0,0.0,0.0,0.0,0.0,0.0,0.0,0.0,0.0],[0.0,0.0,0.0,0.0,0.0,0.0,0.0,0.0,0.0,0.0,0.0,0.0,0.0,0.0,0.0,0.0,0.0,0.0,0.0,0.0,0.0,0.0,0.0,0.0,0.0,0.0,0.0,0.0],[0.0,0.0,0.0,0.0,0.0,0.0,0.0,0.0,0.0,0.0,0.0,0.0,0.0,0.0,0.0,0.14901960784313725,0.9333333333333333,0.8392156862745098,0.0,0.0,0.0,0.0,0.0,0.0,0.0,0.0,0.0,0.0],[0.0,0.0,0.0,0.0,0.0,0.0,0.0,0.0,0.0,0.0,0.0,0.0,0.0,0.0,0.14901960784313725,0.5647058823529412,0.9529411764705882,0.14901960784313725,0.0,0.0,0.0,0.0,0.0,0.0,0.0,0.0,0.0,0.0],[0.0,0.0,0.0,0.0,0.0,0.0,0.0,0.0,0.0,0.0,0.0,0.0,0.0,0.0392156862745098,0.7725490196078432,0.9882352941176471,0.8392156862745098,0.0,0.0,0.0,0.0,0.0,0.0,0.0,0.0,0.0,0.0,0.0],[0.0,0.0,0.0,0.0,0.0,0.0,0.0,0.0,0.0,0.0,0.0,0.0,0.0,0.5019607843137255,0.9882352941176471,0.9882352941176471,0.35294117647058826,0.0,0.0,0.0,0.0,0.0,0.0,0.0,0.0,0.0,0.0,0.0],[0.0,0.0,0.0,0.0,0.0,0.0,0.0,0.0,0.0,0.0,0.0,0.0,0.0,1.0,0.9921568627450981,0.6588235294117647,0.0,0.0,0.0,0.0,0.0,0.0,0.0,0.0,0.0,0.0,0.0,0.0],[0.0,0.0,0.0,0.0,0.0,0.0,0.0,0.0,0.0,0.0,0.0,0.0,0.10196078431372549,0.9921568627450981,0.9882352941176471,0.36470588235294116,0.0,0.0,0.0,0.0,0.0,0.0,0.0,0.0,0.0,0.0,0.0,0.0],[0.0,0.0,0.0,0.0,0.0,0.0,0.0,0.0,0.0,0.0,0.0,0.11372549019607843,0.8235294117647058,0.9921568627450981,0.6666666666666666,0.050980392156862744,0.0,0.0,0.0,0.0,0.0,0.0,0.0,0.0,0.0,0.0,0.0,0.0],[0.0,0.0,0.0,0.0,0.0,0.0,0.0,0.0,0.0,0.0,0.0,0.5254901960784314,0.9882352941176471,0.9450980392156862,0.1843137254901961,0.0,0.0,0.0,0.0,0.0,0.0,0.0,0.0,0.0,0.0,0.0,0.0,0.0],[0.0,0.0,0.0,0.0,0.0,0.0,0.0,0.0,0.0,0.0,0.27450980392156865,0.9921568627450981,0.9921568627450981,0.396078431372549,0.0,0.0,0.0,0.0,0.0,0.0,0.0,0.0,0.0,0.0,0.0,0.0,0.0,0.0],[0.0,0.0,0.0,0.0,0.0,0.0,0.0,0.0,0.0,0.0,0.6627450980392157,0.9882352941176471,0.8901960784313725,0.0,0.0,0.0,0.0,0.0,0.0,0.0,0.0,0.0,0.0,0.0,0.0,0.0,0.0,0.0],[0.0,0.0,0.0,0.0,0.0,0.0,0.0,0.0,0.0,0.09019607843137255,0.9176470588235294,0.9882352941176471,0.403921568627451,0.0,0.0,0.0,0.0,0.0,0.0,0.0,0.0,0.0,0.0,0.0,0.0,0.0,0.0,0.0],[0.0,0.0,0.0,0.0,0.0,0.0,0.0,0.0,0.0,0.7019607843137254,0.9882352941176471,0.8392156862745098,0.058823529411764705,0.0,0.0,0.0,0.0,0.0,0.0,0.0,0.0,0.0,0.0,0.0,0.0,0.0,0.0,0.0],[0.0,0.0,0.0,0.0,0.0,0.0,0.0,0.0,0.0,0.996078431372549,0.9921568627450981,0.611764705882353,0.0,0.0,0.07450980392156863,0.6039215686274509,0.9921568627450981,0.996078431372549,0.9921568627450981,0.8470588235294118,0.1607843137254902,0.0,0.0,0.0,0.0,0.0,0.0,0.0],[0.0,0.0,0.0,0.0,0.0,0.0,0.0,0.0,0.2980392156862745,0.9921568627450981,0.9411764705882353,0.16862745098039217,0.0,0.027450980392156862,0.7333333333333333,0.9882352941176471,0.9882352941176471,0.9921568627450981,0.9882352941176471,0.9882352941176471,0.9882352941176471,0.10196078431372549,0.0,0.0,0.0,0.0,0.0,0.0],[0.0,0.0,0.0,0.0,0.0,0.0,0.0,0.0,0.44313725490196076,0.9921568627450981,0.6196078431372549,0.0,0.0,0.6039215686274509,0.9882352941176471,0.8784313725490196,0.6588235294117647,0.2196078431372549,0.2196078431372549,0.8196078431372549,0.9882352941176471,0.44313725490196076,0.0,0.0,0.0,0.0,0.0,0.0],[0.0,0.0,0.0,0.0,0.0,0.0,0.0,0.0,0.44313725490196076,0.9921568627450981,0.5215686274509804,0.0,0.0,0.796078431372549,0.9882352941176471,0.6588235294117647,0.0,0.0,0.396078431372549,0.9647058823529412,0.9882352941176471,0.24705882352941178,0.0,0.0,0.0,0.0,0.0,0.0],[0.0,0.0,0.0,0.0,0.0,0.0,0.0,0.0,0.2,0.996078431372549,0.9921568627450981,0.27058823529411763,0.0,0.5058823529411764,0.9921568627450981,0.8470588235294118,0.5529411764705883,0.6039215686274509,0.9921568627450981,0.9568627450980393,0.49019607843137253,0.0,0.0,0.0,0.0,0.0,0.0,0.0],[0.0,0.0,0.0,0.0,0.0,0.0,0.0,0.0,0.0,0.9921568627450981,0.9882352941176471,0.8784313725490196,0.27058823529411763,0.30980392156862746,0.9882352941176471,0.9882352941176471,0.9882352941176471,0.9921568627450981,0.9882352941176471,0.5568627450980392,0.0,0.0,0.0,0.0,0.0,0.0,0.0,0.0],[0.0,0.0,0.0,0.0,0.0,0.0,0.0,0.0,0.0,0.5019607843137255,0.9882352941176471,0.9882352941176471,0.9882352941176471,0.9921568627450981,0.9882352941176471,0.9882352941176471,0.9882352941176471,0.807843137254902,0.36470588235294116,0.050980392156862744,0.0,0.0,0.0,0.0,0.0,0.0,0.0,0.0],[0.0,0.0,0.0,0.0,0.0,0.0,0.0,0.0,0.0,0.01568627450980392,0.10980392156862745,0.4549019607843137,0.9411764705882353,0.9921568627450981,0.6941176470588235,0.5450980392156862,0.35294117647058826,0.050980392156862744,0.0,0.0,0.0,0.0,0.0,0.0,0.0,0.0,0.0,0.0],[0.0,0.0,0.0,0.0,0.0,0.0,0.0,0.0,0.0,0.0,0.0,0.0,0.0,0.0,0.0,0.0,0.0,0.0,0.0,0.0,0.0,0.0,0.0,0.0,0.0,0.0,0.0,0.0],[0.0,0.0,0.0,0.0,0.0,0.0,0.0,0.0,0.0,0.0,0.0,0.0,0.0,0.0,0.0,0.0,0.0,0.0,0.0,0.0,0.0,0.0,0.0,0.0,0.0,0.0,0.0,0.0],[0.0,0.0,0.0,0.0,0.0,0.0,0.0,0.0,0.0,0.0,0.0,0.0,0.0,0.0,0.0,0.0,0.0,0.0,0.0,0.0,0.0,0.0,0.0,0.0,0.0,0.0,0.0,0.0],[0.0,0.0,0.0,0.0,0.0,0.0,0.0,0.0,0.0,0.0,0.0,0.0,0.0,0.0,0.0,0.0,0.0,0.0,0.0,0.0,0.0,0.0,0.0,0.0,0.0,0.0,0.0,0.0],[0.0,0.0,0.0,0.0,0.0,0.0,0.0,0.0,0.0,0.0,0.0,0.0,0.0,0.0,0.0,0.0,0.0,0.0,0.0,0.0,0.0,0.0,0.0,0.0,0.0,0.0,0.0,0.0],[0.0,0.0,0.0,0.0,0.0,0.0,0.0,0.0,0.0,0.0,0.0,0.0,0.0,0.0,0.0,0.0,0.0,0.0,0.0,0.0,0.0,0.0,0.0,0.0,0.0,0.0,0.0,0.0]],\"type\":\"heatmap\",\"xaxis\":\"x\",\"yaxis\":\"y\",\"hovertemplate\":\"x: %{x}<br>y: %{y}<br>color: %{z}<extra></extra>\"}],                        {\"template\":{\"data\":{\"bar\":[{\"error_x\":{\"color\":\"#2a3f5f\"},\"error_y\":{\"color\":\"#2a3f5f\"},\"marker\":{\"line\":{\"color\":\"#E5ECF6\",\"width\":0.5},\"pattern\":{\"fillmode\":\"overlay\",\"size\":10,\"solidity\":0.2}},\"type\":\"bar\"}],\"barpolar\":[{\"marker\":{\"line\":{\"color\":\"#E5ECF6\",\"width\":0.5},\"pattern\":{\"fillmode\":\"overlay\",\"size\":10,\"solidity\":0.2}},\"type\":\"barpolar\"}],\"carpet\":[{\"aaxis\":{\"endlinecolor\":\"#2a3f5f\",\"gridcolor\":\"white\",\"linecolor\":\"white\",\"minorgridcolor\":\"white\",\"startlinecolor\":\"#2a3f5f\"},\"baxis\":{\"endlinecolor\":\"#2a3f5f\",\"gridcolor\":\"white\",\"linecolor\":\"white\",\"minorgridcolor\":\"white\",\"startlinecolor\":\"#2a3f5f\"},\"type\":\"carpet\"}],\"choropleth\":[{\"colorbar\":{\"outlinewidth\":0,\"ticks\":\"\"},\"type\":\"choropleth\"}],\"contour\":[{\"colorbar\":{\"outlinewidth\":0,\"ticks\":\"\"},\"colorscale\":[[0.0,\"#0d0887\"],[0.1111111111111111,\"#46039f\"],[0.2222222222222222,\"#7201a8\"],[0.3333333333333333,\"#9c179e\"],[0.4444444444444444,\"#bd3786\"],[0.5555555555555556,\"#d8576b\"],[0.6666666666666666,\"#ed7953\"],[0.7777777777777778,\"#fb9f3a\"],[0.8888888888888888,\"#fdca26\"],[1.0,\"#f0f921\"]],\"type\":\"contour\"}],\"contourcarpet\":[{\"colorbar\":{\"outlinewidth\":0,\"ticks\":\"\"},\"type\":\"contourcarpet\"}],\"heatmap\":[{\"colorbar\":{\"outlinewidth\":0,\"ticks\":\"\"},\"colorscale\":[[0.0,\"#0d0887\"],[0.1111111111111111,\"#46039f\"],[0.2222222222222222,\"#7201a8\"],[0.3333333333333333,\"#9c179e\"],[0.4444444444444444,\"#bd3786\"],[0.5555555555555556,\"#d8576b\"],[0.6666666666666666,\"#ed7953\"],[0.7777777777777778,\"#fb9f3a\"],[0.8888888888888888,\"#fdca26\"],[1.0,\"#f0f921\"]],\"type\":\"heatmap\"}],\"heatmapgl\":[{\"colorbar\":{\"outlinewidth\":0,\"ticks\":\"\"},\"colorscale\":[[0.0,\"#0d0887\"],[0.1111111111111111,\"#46039f\"],[0.2222222222222222,\"#7201a8\"],[0.3333333333333333,\"#9c179e\"],[0.4444444444444444,\"#bd3786\"],[0.5555555555555556,\"#d8576b\"],[0.6666666666666666,\"#ed7953\"],[0.7777777777777778,\"#fb9f3a\"],[0.8888888888888888,\"#fdca26\"],[1.0,\"#f0f921\"]],\"type\":\"heatmapgl\"}],\"histogram\":[{\"marker\":{\"pattern\":{\"fillmode\":\"overlay\",\"size\":10,\"solidity\":0.2}},\"type\":\"histogram\"}],\"histogram2d\":[{\"colorbar\":{\"outlinewidth\":0,\"ticks\":\"\"},\"colorscale\":[[0.0,\"#0d0887\"],[0.1111111111111111,\"#46039f\"],[0.2222222222222222,\"#7201a8\"],[0.3333333333333333,\"#9c179e\"],[0.4444444444444444,\"#bd3786\"],[0.5555555555555556,\"#d8576b\"],[0.6666666666666666,\"#ed7953\"],[0.7777777777777778,\"#fb9f3a\"],[0.8888888888888888,\"#fdca26\"],[1.0,\"#f0f921\"]],\"type\":\"histogram2d\"}],\"histogram2dcontour\":[{\"colorbar\":{\"outlinewidth\":0,\"ticks\":\"\"},\"colorscale\":[[0.0,\"#0d0887\"],[0.1111111111111111,\"#46039f\"],[0.2222222222222222,\"#7201a8\"],[0.3333333333333333,\"#9c179e\"],[0.4444444444444444,\"#bd3786\"],[0.5555555555555556,\"#d8576b\"],[0.6666666666666666,\"#ed7953\"],[0.7777777777777778,\"#fb9f3a\"],[0.8888888888888888,\"#fdca26\"],[1.0,\"#f0f921\"]],\"type\":\"histogram2dcontour\"}],\"mesh3d\":[{\"colorbar\":{\"outlinewidth\":0,\"ticks\":\"\"},\"type\":\"mesh3d\"}],\"parcoords\":[{\"line\":{\"colorbar\":{\"outlinewidth\":0,\"ticks\":\"\"}},\"type\":\"parcoords\"}],\"pie\":[{\"automargin\":true,\"type\":\"pie\"}],\"scatter\":[{\"marker\":{\"colorbar\":{\"outlinewidth\":0,\"ticks\":\"\"}},\"type\":\"scatter\"}],\"scatter3d\":[{\"line\":{\"colorbar\":{\"outlinewidth\":0,\"ticks\":\"\"}},\"marker\":{\"colorbar\":{\"outlinewidth\":0,\"ticks\":\"\"}},\"type\":\"scatter3d\"}],\"scattercarpet\":[{\"marker\":{\"colorbar\":{\"outlinewidth\":0,\"ticks\":\"\"}},\"type\":\"scattercarpet\"}],\"scattergeo\":[{\"marker\":{\"colorbar\":{\"outlinewidth\":0,\"ticks\":\"\"}},\"type\":\"scattergeo\"}],\"scattergl\":[{\"marker\":{\"colorbar\":{\"outlinewidth\":0,\"ticks\":\"\"}},\"type\":\"scattergl\"}],\"scattermapbox\":[{\"marker\":{\"colorbar\":{\"outlinewidth\":0,\"ticks\":\"\"}},\"type\":\"scattermapbox\"}],\"scatterpolar\":[{\"marker\":{\"colorbar\":{\"outlinewidth\":0,\"ticks\":\"\"}},\"type\":\"scatterpolar\"}],\"scatterpolargl\":[{\"marker\":{\"colorbar\":{\"outlinewidth\":0,\"ticks\":\"\"}},\"type\":\"scatterpolargl\"}],\"scatterternary\":[{\"marker\":{\"colorbar\":{\"outlinewidth\":0,\"ticks\":\"\"}},\"type\":\"scatterternary\"}],\"surface\":[{\"colorbar\":{\"outlinewidth\":0,\"ticks\":\"\"},\"colorscale\":[[0.0,\"#0d0887\"],[0.1111111111111111,\"#46039f\"],[0.2222222222222222,\"#7201a8\"],[0.3333333333333333,\"#9c179e\"],[0.4444444444444444,\"#bd3786\"],[0.5555555555555556,\"#d8576b\"],[0.6666666666666666,\"#ed7953\"],[0.7777777777777778,\"#fb9f3a\"],[0.8888888888888888,\"#fdca26\"],[1.0,\"#f0f921\"]],\"type\":\"surface\"}],\"table\":[{\"cells\":{\"fill\":{\"color\":\"#EBF0F8\"},\"line\":{\"color\":\"white\"}},\"header\":{\"fill\":{\"color\":\"#C8D4E3\"},\"line\":{\"color\":\"white\"}},\"type\":\"table\"}]},\"layout\":{\"annotationdefaults\":{\"arrowcolor\":\"#2a3f5f\",\"arrowhead\":0,\"arrowwidth\":1},\"autotypenumbers\":\"strict\",\"coloraxis\":{\"colorbar\":{\"outlinewidth\":0,\"ticks\":\"\"}},\"colorscale\":{\"diverging\":[[0,\"#8e0152\"],[0.1,\"#c51b7d\"],[0.2,\"#de77ae\"],[0.3,\"#f1b6da\"],[0.4,\"#fde0ef\"],[0.5,\"#f7f7f7\"],[0.6,\"#e6f5d0\"],[0.7,\"#b8e186\"],[0.8,\"#7fbc41\"],[0.9,\"#4d9221\"],[1,\"#276419\"]],\"sequential\":[[0.0,\"#0d0887\"],[0.1111111111111111,\"#46039f\"],[0.2222222222222222,\"#7201a8\"],[0.3333333333333333,\"#9c179e\"],[0.4444444444444444,\"#bd3786\"],[0.5555555555555556,\"#d8576b\"],[0.6666666666666666,\"#ed7953\"],[0.7777777777777778,\"#fb9f3a\"],[0.8888888888888888,\"#fdca26\"],[1.0,\"#f0f921\"]],\"sequentialminus\":[[0.0,\"#0d0887\"],[0.1111111111111111,\"#46039f\"],[0.2222222222222222,\"#7201a8\"],[0.3333333333333333,\"#9c179e\"],[0.4444444444444444,\"#bd3786\"],[0.5555555555555556,\"#d8576b\"],[0.6666666666666666,\"#ed7953\"],[0.7777777777777778,\"#fb9f3a\"],[0.8888888888888888,\"#fdca26\"],[1.0,\"#f0f921\"]]},\"colorway\":[\"#636efa\",\"#EF553B\",\"#00cc96\",\"#ab63fa\",\"#FFA15A\",\"#19d3f3\",\"#FF6692\",\"#B6E880\",\"#FF97FF\",\"#FECB52\"],\"font\":{\"color\":\"#2a3f5f\"},\"geo\":{\"bgcolor\":\"white\",\"lakecolor\":\"white\",\"landcolor\":\"#E5ECF6\",\"showlakes\":true,\"showland\":true,\"subunitcolor\":\"white\"},\"hoverlabel\":{\"align\":\"left\"},\"hovermode\":\"closest\",\"mapbox\":{\"style\":\"light\"},\"paper_bgcolor\":\"white\",\"plot_bgcolor\":\"#E5ECF6\",\"polar\":{\"angularaxis\":{\"gridcolor\":\"white\",\"linecolor\":\"white\",\"ticks\":\"\"},\"bgcolor\":\"#E5ECF6\",\"radialaxis\":{\"gridcolor\":\"white\",\"linecolor\":\"white\",\"ticks\":\"\"}},\"scene\":{\"xaxis\":{\"backgroundcolor\":\"#E5ECF6\",\"gridcolor\":\"white\",\"gridwidth\":2,\"linecolor\":\"white\",\"showbackground\":true,\"ticks\":\"\",\"zerolinecolor\":\"white\"},\"yaxis\":{\"backgroundcolor\":\"#E5ECF6\",\"gridcolor\":\"white\",\"gridwidth\":2,\"linecolor\":\"white\",\"showbackground\":true,\"ticks\":\"\",\"zerolinecolor\":\"white\"},\"zaxis\":{\"backgroundcolor\":\"#E5ECF6\",\"gridcolor\":\"white\",\"gridwidth\":2,\"linecolor\":\"white\",\"showbackground\":true,\"ticks\":\"\",\"zerolinecolor\":\"white\"}},\"shapedefaults\":{\"line\":{\"color\":\"#2a3f5f\"}},\"ternary\":{\"aaxis\":{\"gridcolor\":\"white\",\"linecolor\":\"white\",\"ticks\":\"\"},\"baxis\":{\"gridcolor\":\"white\",\"linecolor\":\"white\",\"ticks\":\"\"},\"bgcolor\":\"#E5ECF6\",\"caxis\":{\"gridcolor\":\"white\",\"linecolor\":\"white\",\"ticks\":\"\"}},\"title\":{\"x\":0.05},\"xaxis\":{\"automargin\":true,\"gridcolor\":\"white\",\"linecolor\":\"white\",\"ticks\":\"\",\"title\":{\"standoff\":15},\"zerolinecolor\":\"white\",\"zerolinewidth\":2},\"yaxis\":{\"automargin\":true,\"gridcolor\":\"white\",\"linecolor\":\"white\",\"ticks\":\"\",\"title\":{\"standoff\":15},\"zerolinecolor\":\"white\",\"zerolinewidth\":2}}},\"xaxis\":{\"anchor\":\"y\",\"domain\":[0.0,1.0],\"scaleanchor\":\"y\",\"constrain\":\"domain\"},\"yaxis\":{\"anchor\":\"x\",\"domain\":[0.0,1.0],\"autorange\":\"reversed\",\"constrain\":\"domain\"},\"coloraxis\":{\"colorscale\":[[0.0,\"#0d0887\"],[0.1111111111111111,\"#46039f\"],[0.2222222222222222,\"#7201a8\"],[0.3333333333333333,\"#9c179e\"],[0.4444444444444444,\"#bd3786\"],[0.5555555555555556,\"#d8576b\"],[0.6666666666666666,\"#ed7953\"],[0.7777777777777778,\"#fb9f3a\"],[0.8888888888888888,\"#fdca26\"],[1.0,\"#f0f921\"]]},\"margin\":{\"t\":60}},                        {\"responsive\": true}                    ).then(function(){\n",
       "                            \n",
       "var gd = document.getElementById('33b25607-e9e6-45c0-8c98-ad94a3304ef1');\n",
       "var x = new MutationObserver(function (mutations, observer) {{\n",
       "        var display = window.getComputedStyle(gd).display;\n",
       "        if (!display || display === 'none') {{\n",
       "            console.log([gd, 'removed!']);\n",
       "            Plotly.purge(gd);\n",
       "            observer.disconnect();\n",
       "        }}\n",
       "}});\n",
       "\n",
       "// Listen for the removal of the full notebook cells\n",
       "var notebookContainer = gd.closest('#notebook-container');\n",
       "if (notebookContainer) {{\n",
       "    x.observe(notebookContainer, {childList: true});\n",
       "}}\n",
       "\n",
       "// Listen for the clearing of the current output cell\n",
       "var outputEl = gd.closest('.output');\n",
       "if (outputEl) {{\n",
       "    x.observe(outputEl, {childList: true});\n",
       "}}\n",
       "\n",
       "                        })                };                });            </script>        </div>"
      ]
     },
     "metadata": {},
     "output_type": "display_data"
    }
   ],
   "source": [
    "px.imshow(X_train[32].reshape(28,28))"
   ]
  },
  {
   "cell_type": "markdown",
   "metadata": {},
   "source": [
    "## Pré-Processamento dos Dados\n",
    "\n",
    "Um processo muito importante quando trabalhamos com Redes Neurais é o __Rescalamento__, pois é interessante que o os valores sejam rescalados **entre 0 e 1 para que o tempo de treinamento seja otimizado**. Não iremos enttrar em tantos detalhes sobre o motivo dessa otimização, mas [nesse link](https://stackoverflow.com/questions/4674623/why-do-we-have-to-normalize-the-input-for-an-artificial-neural-network) poderam ter mais detalhes sobre esse processo. \n",
    "\n",
    "Então, fazemos a divisão correpondentes aos pixels das imagens pelo pixel de valor máximo do **conjunto de treino**:"
   ]
  },
  {
   "cell_type": "code",
   "execution_count": 134,
   "metadata": {
    "ExecuteTime": {
     "end_time": "2022-06-03T23:02:28.127514Z",
     "start_time": "2022-06-03T23:02:28.052519Z"
    }
   },
   "outputs": [
    {
     "data": {
      "text/plain": [
       "255.0"
      ]
     },
     "execution_count": 134,
     "metadata": {},
     "output_type": "execute_result"
    }
   ],
   "source": [
    "np.max(X)"
   ]
  },
  {
   "cell_type": "code",
   "execution_count": 135,
   "metadata": {
    "ExecuteTime": {
     "end_time": "2022-06-03T23:02:29.178476Z",
     "start_time": "2022-06-03T23:02:28.134741Z"
    }
   },
   "outputs": [],
   "source": [
    "# Scale transform\n",
    "X = X/255.0\n",
    "X_eval = X_eval/255.0"
   ]
  },
  {
   "cell_type": "markdown",
   "metadata": {},
   "source": [
    "Em modelos de rede neural de classificação, necessariamente **devemos ter o target transformado em variáveis dummy**, pois nossa resposta precisa ter a estrutura de output correta, como vimos na animação (GIF) acima. Podemos fazer isso com o __OneHot Encoder__, como já vimos anteriormente.<br><br>\n",
    "\n",
    "Esse tipo de mapeamento é um vetor com a mesma quantidade de classes existentes, com cada posição desse vetor correspondendo a uma das classes. (No nosso caso, como temos 10 classes possíveis, este vetor terá 10 elementos!)"
   ]
  },
  {
   "cell_type": "code",
   "execution_count": 136,
   "metadata": {
    "ExecuteTime": {
     "end_time": "2022-06-03T23:02:29.196630Z",
     "start_time": "2022-06-03T23:02:29.185132Z"
    }
   },
   "outputs": [
    {
     "data": {
      "text/plain": [
       "array([5, 0, 4, 1, 9], dtype=uint8)"
      ]
     },
     "execution_count": 136,
     "metadata": {},
     "output_type": "execute_result"
    }
   ],
   "source": [
    "y[0:5]"
   ]
  },
  {
   "cell_type": "code",
   "execution_count": 137,
   "metadata": {
    "ExecuteTime": {
     "end_time": "2022-06-03T23:02:29.221937Z",
     "start_time": "2022-06-03T23:02:29.204948Z"
    },
    "scrolled": false
   },
   "outputs": [],
   "source": [
    "# OneHotEndocing\n",
    "from sklearn.preprocessing import OneHotEncoder\n",
    "enc = OneHotEncoder()"
   ]
  },
  {
   "cell_type": "code",
   "execution_count": 138,
   "metadata": {
    "ExecuteTime": {
     "end_time": "2022-06-03T23:02:29.264971Z",
     "start_time": "2022-06-03T23:02:29.234279Z"
    }
   },
   "outputs": [],
   "source": [
    "y = enc.fit_transform(y.reshape(-1,1)).toarray()\n",
    "y_eval = enc.fit_transform(y_eval.reshape(-1,1)).toarray()"
   ]
  },
  {
   "cell_type": "code",
   "execution_count": 139,
   "metadata": {
    "ExecuteTime": {
     "end_time": "2022-06-03T23:02:29.279888Z",
     "start_time": "2022-06-03T23:02:29.269145Z"
    }
   },
   "outputs": [
    {
     "data": {
      "text/plain": [
       "array([[0., 0., 0., 0., 0., 1., 0., 0., 0., 0.],\n",
       "       [1., 0., 0., 0., 0., 0., 0., 0., 0., 0.],\n",
       "       [0., 0., 0., 0., 1., 0., 0., 0., 0., 0.],\n",
       "       [0., 1., 0., 0., 0., 0., 0., 0., 0., 0.],\n",
       "       [0., 0., 0., 0., 0., 0., 0., 0., 0., 1.]])"
      ]
     },
     "execution_count": 139,
     "metadata": {},
     "output_type": "execute_result"
    }
   ],
   "source": [
    "y[0:5]"
   ]
  },
  {
   "cell_type": "code",
   "execution_count": null,
   "metadata": {},
   "outputs": [],
   "source": []
  },
  {
   "cell_type": "markdown",
   "metadata": {},
   "source": [
    "## Conjunto de Validação\n",
    "\n",
    "Em modelos de rede neural, é importante que exista um terceiro conjunto além de treino e teste, o **conjunto de validação**.\n",
    "\n",
    "Durante o treinamento, a depender do caso, **risco de ocorrer overfitting é bastante alto**.\n",
    "\n",
    "Uma forma de verificar e evitar isso é por meio do conjunto de validação, o qual é um subconjunto do conjunto de treino que não é utilizado pelo otimizador.  \n",
    "\n",
    "Espera-se que a o valor da função de perda (loss) vá diminuindo a cada época, tanto para o conjunto de treino como para o conjunto de validação. Porém, se a função de perda diminui para o conjunto de treino e aumenta para o conjunto de validação (ocorrendo assim um descolamento), podemos concluir que está ocorrendo um overfitting para o conjunto de treino.\n",
    "\n",
    "Deve-se então interromper o processo de treinamento. Esse comportamento pode ser visto com mais facilidade nos próximos tópicos.\n",
    "\n",
    "Para fazer a divisão, usamos a função ``train_test_split`` do ``sklearn`` e definimos que o conjunto de validação será 10% do conjunto de treino."
   ]
  },
  {
   "cell_type": "code",
   "execution_count": 140,
   "metadata": {
    "ExecuteTime": {
     "end_time": "2022-06-03T23:02:30.801233Z",
     "start_time": "2022-06-03T23:02:29.290001Z"
    }
   },
   "outputs": [],
   "source": [
    "from sklearn.model_selection import train_test_split\n",
    "\n",
    "X_train, X_test, y_train, y_test = train_test_split(X, y, test_size=0.1, stratify=y, random_state=42)"
   ]
  },
  {
   "cell_type": "code",
   "execution_count": 141,
   "metadata": {
    "ExecuteTime": {
     "end_time": "2022-06-03T23:02:30.842925Z",
     "start_time": "2022-06-03T23:02:30.806436Z"
    }
   },
   "outputs": [
    {
     "data": {
      "text/plain": [
       "0    2\n",
       "1    2\n",
       "2    2\n",
       "3    2\n",
       "4    2\n",
       "5    2\n",
       "6    2\n",
       "7    2\n",
       "8    2\n",
       "9    2\n",
       "dtype: int64"
      ]
     },
     "execution_count": 141,
     "metadata": {},
     "output_type": "execute_result"
    }
   ],
   "source": [
    "pd.DataFrame(y_train).nunique()"
   ]
  },
  {
   "cell_type": "markdown",
   "metadata": {},
   "source": [
    "## Arquitetura da Rede\n",
    "\n",
    "Faremos uma rede simples, com:\n",
    "\n",
    "- **3 camadas**;\n",
    "- **25 neurônios cada**; \n",
    "- **Camadas densas**;\n",
    "- **função de ativação ReLu nas camadas escondidas**;\n",
    "- **10 neurônios e ativação Softmax na camada de saída**. \n",
    "\n",
    "Para a construção da rede neural, utilizaremos a biblioteca [Keras](https://keras.io/).\n",
    "\n",
    "Primeiro definimos que nossa rede é do tipo **sequencial**, utilizando a função ``Sequential()``. \n",
    "\n",
    "O Keras funciona de forma super intuitiva: construímos **a arquitetura** de nossa rede neural camada a camada, construindo assim a rede neural da forma que queiramos!\n",
    "\n",
    "[Clique aqui](https://keras.io/api/layers/) para conhecer melhor sobre a estrutura de camadas do Keras, e dar uma olhada nas camadas disponíveis!\n",
    "\n",
    "Dessa forma, utilizamos o método ``.add()`` para adicionar as camadas, uma após a outra, de forma que a saída da camada anterior camada seja a entrada da próxima camada. \n",
    "\n",
    "> A primeira camada adicionada é uma **camada densa (fully connected)** com 25 neurônios. Para isso, é usada a função ``Dense()``, que conecta todos os valores de input e todos o neurônios da camada. \n",
    "Na primeira camada, é necessário **definir a dimensão dos dados de entrada**. Em camadas subsequentes isso não será necessário, já que o Keras automaticamente determinará que a dimensão de entrada será a dimensão da saída da camada anterior. \n",
    "No caso da rede em questão, os **784 pixels da imagem estarão todos conectados, um a um, aos 25 neurônios da primeira camada, produzindo 25 saídas nessa camada**.\n",
    "\n",
    "> Após a camada densa, é necessário inserir **a camada de ativação**, por meio da função ``Activation()``. Ao usar essa função, é necessário definir qual função de fato será usada passando uma string como parâmetro pra função. Dentre as disponíveis no Keras estão ``'tanh'``, ``'sigmoid'``, ``'softmax'`` e ``'relu'``. Nessa camada, a `ReLu` será usada.\n",
    "\n",
    "Esse processo de ``Dense()`` e ``Activation()`` é repetido mais duas vezes com os mesmos parâmetros. \n",
    "\n",
    "> Posteriormente, por ser um problema de classificação com 10 classes diferentes, é importante que a **a camada de saída possua 10 neurônios**. Dessa forma, cada neurônio representará uma classe, e a predição final será a correspondente ao neurônio **com maior valor de saída**. \n",
    "Outro fator importante é o uso de uma **camada de ativação Softmax após essa última camada com 10 neurônios**. \n",
    "A ativação Softmax funciona como uma versão mais generalizada da função sigmóide (ou logística), usada para **predições multiclasse**\n",
    "Ou seja, com valores entre 0 e 1, a saída de cada neurônio pode ser interpretada como a **probabilidade daquela instância pertencer àquela classe**."
   ]
  },
  {
   "cell_type": "code",
   "execution_count": 143,
   "metadata": {
    "ExecuteTime": {
     "end_time": "2022-06-03T23:02:50.132937Z",
     "start_time": "2022-06-03T23:02:50.129563Z"
    }
   },
   "outputs": [],
   "source": [
    "from tensorflow.keras.models import Sequential\n",
    "from tensorflow.keras.layers import Dense, Activation"
   ]
  },
  {
   "cell_type": "code",
   "execution_count": 144,
   "metadata": {
    "ExecuteTime": {
     "end_time": "2022-06-03T23:02:50.274638Z",
     "start_time": "2022-06-03T23:02:50.137247Z"
    }
   },
   "outputs": [],
   "source": [
    "# Network instance\n",
    "simple_network = Sequential()\n",
    "# Define input layer and first hiden layer\n",
    "simple_network.add(Dense(\n",
    "    units=25,                     # Number of neurons\n",
    "    input_dim=X_train.shape[1])   # Number of features  (774 pixels)\n",
    ")\n",
    "simple_network.add(Activation('relu')) # add activation function\n",
    "\n",
    "# Define second hidden layer\n",
    "simple_network.add(Dense(25))\n",
    "simple_network.add(Activation('relu'))\n",
    "# Define second hidden layer\n",
    "simple_network.add(Dense(25))\n",
    "simple_network.add(Activation('relu'))\n",
    "\n",
    "# Output layer\n",
    "simple_network.add(Dense(y_train.shape[1]))\n",
    "simple_network.add(Activation('softmax'))\n"
   ]
  },
  {
   "cell_type": "markdown",
   "metadata": {},
   "source": [
    "A rede então deve ser compilada usando o método ``compile()``. Devem ser passados a [função de perda](https://keras.io/losses/) e o [otimizador](https://keras.io/optimizers/) a serem utilizados. \n",
    "\n",
    "Para a função de perda, usamos ``categorial_crossentropy`` por ser um **problema de classificação multiclasse** (não binário). \n",
    "\n",
    "Já o otimizador escolhido foi o ``RMSprop()``.\n",
    "\n",
    "Diferentes funções de perda possuem diferentes propósitos, devendo ser escolhido caso a caso. Já os otimizadores possuem maior liberdade de escolha, não existindo uma regra fechada.\n",
    "\n",
    "Artigo sobre `RMSprop`: [aqui](https://towardsdatascience.com/understanding-rmsprop-faster-neural-network-learning-62e116fcf29a)\n",
    "\n",
    "Artigo sobre o Gradiente descendente, Adam e outros métodos: [aqui](https://towardsdatascience.com/how-do-we-train-neural-networks-edd985562b73)\n",
    "\n",
    "A arquitetura da rede pode ser visualizada com o método ``.summary()``."
   ]
  },
  {
   "cell_type": "code",
   "execution_count": 145,
   "metadata": {
    "ExecuteTime": {
     "end_time": "2022-06-03T23:02:50.283268Z",
     "start_time": "2022-06-03T23:02:50.278394Z"
    }
   },
   "outputs": [],
   "source": [
    "from tensorflow.keras.optimizers import RMSprop"
   ]
  },
  {
   "cell_type": "code",
   "execution_count": 146,
   "metadata": {
    "ExecuteTime": {
     "end_time": "2022-06-03T23:02:50.330558Z",
     "start_time": "2022-06-03T23:02:50.287619Z"
    },
    "scrolled": false
   },
   "outputs": [
    {
     "name": "stdout",
     "output_type": "stream",
     "text": [
      "Model: \"sequential_4\"\n",
      "_________________________________________________________________\n",
      " Layer (type)                Output Shape              Param #   \n",
      "=================================================================\n",
      " dense_12 (Dense)            (None, 25)                19625     \n",
      "                                                                 \n",
      " activation_11 (Activation)  (None, 25)                0         \n",
      "                                                                 \n",
      " dense_13 (Dense)            (None, 25)                650       \n",
      "                                                                 \n",
      " activation_12 (Activation)  (None, 25)                0         \n",
      "                                                                 \n",
      " dense_14 (Dense)            (None, 25)                650       \n",
      "                                                                 \n",
      " activation_13 (Activation)  (None, 25)                0         \n",
      "                                                                 \n",
      " dense_15 (Dense)            (None, 10)                260       \n",
      "                                                                 \n",
      " activation_14 (Activation)  (None, 10)                0         \n",
      "                                                                 \n",
      "=================================================================\n",
      "Total params: 21,185\n",
      "Trainable params: 21,185\n",
      "Non-trainable params: 0\n",
      "_________________________________________________________________\n"
     ]
    }
   ],
   "source": [
    "simple_network.compile(\n",
    "    loss='categorical_crossentropy',\n",
    "    optimizer = RMSprop()\n",
    ")\n",
    "init_weights = simple_network.get_weights()\n",
    "simple_network.summary()"
   ]
  },
  {
   "cell_type": "code",
   "execution_count": 147,
   "metadata": {
    "ExecuteTime": {
     "end_time": "2022-06-03T23:02:50.345720Z",
     "start_time": "2022-06-03T23:02:50.335663Z"
    }
   },
   "outputs": [
    {
     "data": {
      "text/plain": [
       "8"
      ]
     },
     "execution_count": 147,
     "metadata": {},
     "output_type": "execute_result"
    }
   ],
   "source": [
    "len(init_weights)"
   ]
  },
  {
   "cell_type": "markdown",
   "metadata": {},
   "source": [
    "## Treinamento\n",
    "\n",
    "Agora vem a parte de treinamento da rede neural. Para isso, basta usar o método ``.fit()`` e definir a quantidade de epochs, conjunto de treino e conjunto de validação. O parâmetro ``verbose`` define se informações de treinamento devem ser exibidas na tela a cada epoch."
   ]
  },
  {
   "cell_type": "code",
   "execution_count": 148,
   "metadata": {
    "ExecuteTime": {
     "end_time": "2022-06-03T23:02:50.358153Z",
     "start_time": "2022-06-03T23:02:50.349236Z"
    }
   },
   "outputs": [
    {
     "data": {
      "text/plain": [
       "keras.engine.sequential.Sequential"
      ]
     },
     "execution_count": 148,
     "metadata": {},
     "output_type": "execute_result"
    }
   ],
   "source": [
    "type(simple_network)"
   ]
  },
  {
   "cell_type": "code",
   "execution_count": 150,
   "metadata": {
    "ExecuteTime": {
     "end_time": "2022-06-03T23:08:09.640831Z",
     "start_time": "2022-06-03T23:04:53.335532Z"
    },
    "scrolled": true
   },
   "outputs": [
    {
     "name": "stdout",
     "output_type": "stream",
     "text": [
      "Epoch 1/30\n",
      "1688/1688 [==============================] - 6s 3ms/step - loss: 0.0689 - val_loss: 0.1843\n",
      "Epoch 2/30\n",
      "1688/1688 [==============================] - 6s 3ms/step - loss: 0.0687 - val_loss: 0.1857\n",
      "Epoch 3/30\n",
      "1688/1688 [==============================] - 5s 3ms/step - loss: 0.0658 - val_loss: 0.2087\n",
      "Epoch 4/30\n",
      "1688/1688 [==============================] - 5s 3ms/step - loss: 0.0671 - val_loss: 0.2102\n",
      "Epoch 5/30\n",
      "1688/1688 [==============================] - 5s 3ms/step - loss: 0.0654 - val_loss: 0.2283\n",
      "Epoch 6/30\n",
      "1688/1688 [==============================] - 5s 3ms/step - loss: 0.0652 - val_loss: 0.2060\n",
      "Epoch 7/30\n",
      "1688/1688 [==============================] - 7s 4ms/step - loss: 0.0616 - val_loss: 0.2144\n",
      "Epoch 8/30\n",
      "1688/1688 [==============================] - 6s 4ms/step - loss: 0.0626 - val_loss: 0.2105\n",
      "Epoch 9/30\n",
      "1688/1688 [==============================] - 10s 6ms/step - loss: 0.0617 - val_loss: 0.2246\n",
      "Epoch 10/30\n",
      "1688/1688 [==============================] - 9s 5ms/step - loss: 0.0602 - val_loss: 0.2223\n",
      "Epoch 11/30\n",
      "1688/1688 [==============================] - 6s 4ms/step - loss: 0.0611 - val_loss: 0.2317\n",
      "Epoch 12/30\n",
      "1688/1688 [==============================] - 5s 3ms/step - loss: 0.0590 - val_loss: 0.2380\n",
      "Epoch 13/30\n",
      "1688/1688 [==============================] - 5s 3ms/step - loss: 0.0590 - val_loss: 0.2354\n",
      "Epoch 14/30\n",
      "1688/1688 [==============================] - 4s 3ms/step - loss: 0.0589 - val_loss: 0.2478\n",
      "Epoch 15/30\n",
      "1688/1688 [==============================] - 5s 3ms/step - loss: 0.0587 - val_loss: 0.2566\n",
      "Epoch 16/30\n",
      "1688/1688 [==============================] - 5s 3ms/step - loss: 0.0572 - val_loss: 0.2393\n",
      "Epoch 17/30\n",
      "1688/1688 [==============================] - 6s 4ms/step - loss: 0.0562 - val_loss: 0.2645\n",
      "Epoch 18/30\n",
      "1688/1688 [==============================] - 5s 3ms/step - loss: 0.0563 - val_loss: 0.2584\n",
      "Epoch 19/30\n",
      "1688/1688 [==============================] - 5s 3ms/step - loss: 0.0567 - val_loss: 0.2842\n",
      "Epoch 20/30\n",
      "1688/1688 [==============================] - 8s 5ms/step - loss: 0.0580 - val_loss: 0.2865\n",
      "Epoch 21/30\n",
      "1688/1688 [==============================] - 7s 4ms/step - loss: 0.0541 - val_loss: 0.2898\n",
      "Epoch 22/30\n",
      "1688/1688 [==============================] - 8s 5ms/step - loss: 0.0553 - val_loss: 0.2925\n",
      "Epoch 23/30\n",
      "1688/1688 [==============================] - 7s 4ms/step - loss: 0.0550 - val_loss: 0.3107\n",
      "Epoch 24/30\n",
      "1688/1688 [==============================] - 9s 5ms/step - loss: 0.0550 - val_loss: 0.2794\n",
      "Epoch 25/30\n",
      "1688/1688 [==============================] - 8s 5ms/step - loss: 0.0551 - val_loss: 0.2945\n",
      "Epoch 26/30\n",
      "1688/1688 [==============================] - 9s 5ms/step - loss: 0.0556 - val_loss: 0.3153\n",
      "Epoch 27/30\n",
      "1688/1688 [==============================] - 8s 5ms/step - loss: 0.0531 - val_loss: 0.2883\n",
      "Epoch 28/30\n",
      "1688/1688 [==============================] - 10s 6ms/step - loss: 0.0534 - val_loss: 0.3026\n",
      "Epoch 29/30\n",
      "1688/1688 [==============================] - 9s 5ms/step - loss: 0.0525 - val_loss: 0.3502\n",
      "Epoch 30/30\n",
      "1688/1688 [==============================] - 5s 3ms/step - loss: 0.0513 - val_loss: 0.3257\n"
     ]
    }
   ],
   "source": [
    "historic = simple_network.fit(\n",
    "    X_train, y_train,\n",
    "    epochs=30,\n",
    "    verbose=1,\n",
    "    validation_data=(X_eval, y_eval)\n",
    ")"
   ]
  },
  {
   "cell_type": "markdown",
   "metadata": {},
   "source": [
    "O que está acontecendo acima?\n",
    "\n",
    "O treinamento de uma rede neural (e de todo modelo de machine learning, na verdade) consiste em um **problema de otimização**, em que queremos encontrar **o valor mínimo da função de perda**\n",
    "\n",
    "No nosso caso, a função de perda é a \"__categorical crossentropy__, cuja expressão matemática é:\n",
    "\n",
    "$$ L(y, \\hat{y}) = - \\sum_i{y_i \\log \\hat{y}_i}$$, \n",
    "\n",
    "onde $\\hat{y}$, a previsão do modelo, é uma expressão bem complicada, que relaciona todos os pesos e funções de ativação de toda a rede neural.\n",
    "\n",
    "Como mencionamos, as redes neurais utilizam o procedimento de **Backward Propagation** em seu treinamento (cujo objetivo é **determinar os pesos**):\n",
    "\n",
    "<img src=\"https://machinelearningknowledge.ai/wp-content/uploads/2019/10/Backpropagation.gif\" width=600>\n",
    "\n",
    "Matematicamente, o Backward Propagation é implementado através de algum **método de otimização**, com o fim de **determinar os pesos que minimizam a função de perda**. O principal método utilizado para este fim é o **gradiente descendente**:\n",
    "\n",
    "<img src=\"https://thumbs.gfycat.com/AngryInconsequentialDiplodocus-size_restricted.gif\" width=1000>\n",
    "\n",
    "Então, o que está acontecendo acima, é que **em cada epoch**, o Keras faz o Forward Propagation, avalia as predições, e depois segue com o Backward Propagation para atualizar os pesos. Este processo é realizado pelo número de vezes (epochs) que determinarmos!"
   ]
  },
  {
   "cell_type": "markdown",
   "metadata": {},
   "source": [
    "Após o __modelo treinado__, agora devemos **fazer predições** e **avaliar a performance**:"
   ]
  },
  {
   "cell_type": "code",
   "execution_count": 151,
   "metadata": {
    "ExecuteTime": {
     "end_time": "2022-06-03T23:08:13.511278Z",
     "start_time": "2022-06-03T23:08:09.654685Z"
    }
   },
   "outputs": [
    {
     "name": "stdout",
     "output_type": "stream",
     "text": [
      "1688/1688 [==============================] - 3s 2ms/step\n",
      "188/188 [==============================] - 0s 1ms/step\n"
     ]
    }
   ],
   "source": [
    "y_pred_train = np.argmax(simple_network.predict(X_train), axis=1)\n",
    "y_pred_test = np.argmax(simple_network.predict(X_test), axis=1)"
   ]
  },
  {
   "cell_type": "code",
   "execution_count": 152,
   "metadata": {
    "ExecuteTime": {
     "end_time": "2022-06-03T23:08:13.635514Z",
     "start_time": "2022-06-03T23:08:13.515124Z"
    },
    "scrolled": true
   },
   "outputs": [
    {
     "name": "stdout",
     "output_type": "stream",
     "text": [
      "              precision    recall  f1-score   support\n",
      "\n",
      "           0       0.99      1.00      0.99      5331\n",
      "           1       1.00      0.99      0.99      6068\n",
      "           2       0.99      0.98      0.99      5362\n",
      "           3       0.99      0.98      0.99      5518\n",
      "           4       0.99      0.99      0.99      5258\n",
      "           5       0.99      0.99      0.99      4879\n",
      "           6       1.00      0.99      0.99      5326\n",
      "           7       0.98      1.00      0.99      5638\n",
      "           8       0.98      0.99      0.99      5266\n",
      "           9       0.99      0.99      0.99      5354\n",
      "\n",
      "    accuracy                           0.99     54000\n",
      "   macro avg       0.99      0.99      0.99     54000\n",
      "weighted avg       0.99      0.99      0.99     54000\n",
      "\n"
     ]
    }
   ],
   "source": [
    "from sklearn.metrics import classification_report\n",
    "\n",
    "# decode y labels\n",
    "y_train = np.argmax(y_train, axis = 1)\n",
    "y_test = np.argmax(y_test, axis = 1)\n",
    "\n",
    "print(classification_report(y_train, y_pred_train))"
   ]
  },
  {
   "cell_type": "code",
   "execution_count": 157,
   "metadata": {
    "ExecuteTime": {
     "end_time": "2022-06-03T23:16:36.693075Z",
     "start_time": "2022-06-03T23:16:36.651636Z"
    }
   },
   "outputs": [
    {
     "name": "stdout",
     "output_type": "stream",
     "text": [
      "              precision    recall  f1-score   support\n",
      "\n",
      "           0       0.95      0.98      0.96       592\n",
      "           1       0.98      0.98      0.98       674\n",
      "           2       0.96      0.94      0.95       596\n",
      "           3       0.97      0.93      0.95       613\n",
      "           4       0.96      0.95      0.95       584\n",
      "           5       0.94      0.95      0.95       542\n",
      "           6       0.98      0.97      0.97       592\n",
      "           7       0.95      0.98      0.96       627\n",
      "           8       0.94      0.95      0.94       585\n",
      "           9       0.95      0.95      0.95       595\n",
      "\n",
      "    accuracy                           0.96      6000\n",
      "   macro avg       0.96      0.96      0.96      6000\n",
      "weighted avg       0.96      0.96      0.96      6000\n",
      "\n"
     ]
    }
   ],
   "source": [
    "print(classification_report(y_test, y_pred_test))"
   ]
  },
  {
   "cell_type": "code",
   "execution_count": 158,
   "metadata": {
    "ExecuteTime": {
     "end_time": "2022-06-03T23:16:42.799740Z",
     "start_time": "2022-06-03T23:16:42.246395Z"
    }
   },
   "outputs": [
    {
     "data": {
      "image/png": "[encoded data removed]",
      "text/plain": [
       "<Figure size 432x288 with 1 Axes>"
      ]
     },
     "metadata": {},
     "output_type": "display_data"
    }
   ],
   "source": [
    "from mlxtend.plotting import plot_confusion_matrix\n",
    "from sklearn.metrics import confusion_matrix\n",
    "\n",
    "cm = confusion_matrix(y_test, y_pred_test)\n",
    "\n",
    "plot_confusion_matrix(conf_mat = cm)\n",
    "plt.show()"
   ]
  },
  {
   "cell_type": "markdown",
   "metadata": {},
   "source": [
    "O modelo teve uma performance muito boa, com uma acurácia de 96%, mas algumas coisas devem ser observadas a partir desse resultado como por exemplo a possibilidade de __Overfitting!__"
   ]
  },
  {
   "cell_type": "markdown",
   "metadata": {},
   "source": [
    "O **Overfitting** é algo que pode ser bastante comum em redes neurais se não for bem tratado, porque ele é um modelo altamente não linear. Relembrando, o overfitting está intimamente relacionado com o tradeoff viés-variância:\n",
    "\n",
    "<img src=\"https://www.learnopencv.com/wp-content/uploads/2017/02/Bias-Variance-Tradeoff-In-Machine-Learning-1.png\" width=600>\n",
    "\n",
    "Podemos visualizar esta característica em nosso modelo ao **plotar** o valor da **função de perda** a cada epoch:"
   ]
  },
  {
   "cell_type": "code",
   "execution_count": 159,
   "metadata": {
    "ExecuteTime": {
     "end_time": "2022-06-03T23:16:46.746823Z",
     "start_time": "2022-06-03T23:16:46.742467Z"
    }
   },
   "outputs": [],
   "source": [
    "# loss e val_loss\n",
    "loss = historic.history['loss']\n",
    "val_loss = historic.history['val_loss']\n",
    "epochs = range(len(loss))"
   ]
  },
  {
   "cell_type": "code",
   "execution_count": 160,
   "metadata": {
    "ExecuteTime": {
     "end_time": "2022-06-03T23:16:48.614059Z",
     "start_time": "2022-06-03T23:16:48.331608Z"
    }
   },
   "outputs": [
    {
     "data": {
      "image/png": "[encoded data removed]",
      "text/plain": [
       "<Figure size 864x432 with 1 Axes>"
      ]
     },
     "metadata": {},
     "output_type": "display_data"
    }
   ],
   "source": [
    "plt.figure(figsize = (12, 6))\n",
    "plt.plot(epochs, loss, 'blue', label = 'Training Loss')\n",
    "plt.plot(epochs, val_loss, 'green', label = 'Validation Loss')\n",
    "plt.legend()\n",
    "plt.show()"
   ]
  },
  {
   "cell_type": "markdown",
   "metadata": {},
   "source": [
    "Pelo gráfico, é possível perceber que mais ou menos a partir da 15ª época a função de perda continuou decrescedo pro conjunto de treinamento, mas no conjunto de validação isso se manteve fixo por um tempo e depois começou a perder desempenho.\n",
    "\n",
    "A curva acima é muito parecida com o nosso exemplo do tradeoff vié-variância, não é mesmo?!\n",
    "\n",
    "Temos, portanto, um forte indício que está começando a ocorrer overfitting!\n",
    "\n",
    "Para evitarmos isso, pode ser interessante que o **treinamento seja interrompido antes do overfitting começar a ocorrer**! Esta técnica é conhecida como **early stopping**:\n",
    "<br><br>\n",
    "\n",
    "### Early Stopping\n",
    "\n",
    "Para interromper um treinamento, podemos usar o callback de ``EarlyStopping()``. Esse callback pode receber alguns parâmetros, como o que ele deve monitorar (``monitor``), a diferença mínima que deve ser considerada pra ser um avanço (``min_delta``) e a quantidade de épocas que devem se manter sem avanço até de fato interromper o treinamento (``patience``). No exemplo a seguir, estamos monitorando a função de perda do conjunto de validação, consideramos um avanço mínimo o valor de 0.001 e paciência de 10 épocas. \n",
    "\n",
    "Ou seja, **se a função de perda na validação não tiver uma redução de pelo menos 0.001 por 10 épocas**, o treinamento será interrompido."
   ]
  },
  {
   "cell_type": "code",
   "execution_count": 161,
   "metadata": {
    "ExecuteTime": {
     "end_time": "2022-06-03T23:17:05.046017Z",
     "start_time": "2022-06-03T23:17:05.038391Z"
    },
    "scrolled": true
   },
   "outputs": [],
   "source": [
    "from tensorflow.keras.callbacks import EarlyStopping\n",
    "\n",
    "early_stop = EarlyStopping(\n",
    "    monitor = 'val_loss',     # Monitor the validation loss\n",
    "    min_delta = 0.001,\n",
    "    patience = 10,\n",
    "    mode = 'auto',\n",
    "    verbose = 1\n",
    ")"
   ]
  },
  {
   "cell_type": "code",
   "execution_count": 163,
   "metadata": {
    "ExecuteTime": {
     "end_time": "2022-06-03T23:20:55.530894Z",
     "start_time": "2022-06-03T23:19:31.889125Z"
    }
   },
   "outputs": [
    {
     "name": "stdout",
     "output_type": "stream",
     "text": [
      "Epoch 1/100\n",
      "1688/1688 [==============================] - 6s 3ms/step - loss: 0.4027 - val_loss: 0.2215\n",
      "Epoch 2/100\n",
      "1688/1688 [==============================] - 6s 4ms/step - loss: 0.1955 - val_loss: 0.1723\n",
      "Epoch 3/100\n",
      "1688/1688 [==============================] - 6s 3ms/step - loss: 0.1594 - val_loss: 0.1786\n",
      "Epoch 4/100\n",
      "1688/1688 [==============================] - 4s 2ms/step - loss: 0.1416 - val_loss: 0.1516\n",
      "Epoch 5/100\n",
      "1688/1688 [==============================] - 4s 2ms/step - loss: 0.1271 - val_loss: 0.1439\n",
      "Epoch 6/100\n",
      "1688/1688 [==============================] - 4s 2ms/step - loss: 0.1185 - val_loss: 0.1515\n",
      "Epoch 7/100\n",
      "1688/1688 [==============================] - 4s 2ms/step - loss: 0.1115 - val_loss: 0.1631\n",
      "Epoch 8/100\n",
      "1688/1688 [==============================] - 4s 2ms/step - loss: 0.1051 - val_loss: 0.1496\n",
      "Epoch 9/100\n",
      "1688/1688 [==============================] - 4s 2ms/step - loss: 0.0998 - val_loss: 0.1423\n",
      "Epoch 10/100\n",
      "1688/1688 [==============================] - 4s 2ms/step - loss: 0.0956 - val_loss: 0.1439\n",
      "Epoch 11/100\n",
      "1688/1688 [==============================] - 4s 2ms/step - loss: 0.0917 - val_loss: 0.1459\n",
      "Epoch 12/100\n",
      "1688/1688 [==============================] - 4s 2ms/step - loss: 0.0887 - val_loss: 0.1444\n",
      "Epoch 13/100\n",
      "1688/1688 [==============================] - 5s 3ms/step - loss: 0.0854 - val_loss: 0.1484\n",
      "Epoch 14/100\n",
      "1688/1688 [==============================] - 4s 2ms/step - loss: 0.0826 - val_loss: 0.1554\n",
      "Epoch 15/100\n",
      "1688/1688 [==============================] - 4s 3ms/step - loss: 0.0807 - val_loss: 0.1572\n",
      "Epoch 16/100\n",
      "1688/1688 [==============================] - 4s 2ms/step - loss: 0.0772 - val_loss: 0.1660\n",
      "Epoch 17/100\n",
      "1688/1688 [==============================] - 4s 2ms/step - loss: 0.0752 - val_loss: 0.1770\n",
      "Epoch 18/100\n",
      "1688/1688 [==============================] - 4s 2ms/step - loss: 0.0737 - val_loss: 0.1774\n",
      "Epoch 19/100\n",
      "1688/1688 [==============================] - 5s 3ms/step - loss: 0.0715 - val_loss: 0.1647\n",
      "Epoch 19: early stopping\n"
     ]
    }
   ],
   "source": [
    "# Train the network again with EarlyStoping\n",
    "\n",
    "# Resetting weights\n",
    "simple_network.set_weights(init_weights)\n",
    "\n",
    "y_train = enc.fit_transform(y_train.reshape(-1,1)).toarray()\n",
    "# Fit model\n",
    "historic_es = simple_network.fit(\n",
    "    X_train, y_train,\n",
    "    epochs=100,\n",
    "    verbose=1,\n",
    "    validation_data=(X_eval, y_eval),\n",
    "    callbacks=[early_stop]\n",
    ")"
   ]
  },
  {
   "cell_type": "markdown",
   "metadata": {},
   "source": [
    "É possível perceber que o treinamento foi interrompido pouco depois da __epoch 15__, bem antes do total de epochs definido inicialmente. Vamos agora fazer predições e avaliar o modelo:"
   ]
  },
  {
   "cell_type": "code",
   "execution_count": null,
   "metadata": {},
   "outputs": [],
   "source": []
  },
  {
   "cell_type": "markdown",
   "metadata": {},
   "source": [
    "Agora garantindo que não houvesse o deslocamento entre o __treino__ e a __validação__ obtemos uma resultado muito bom para o nosso modeolo, e isso é um forte indicativo de que o Early Stopping ajudou a evitar o Overfitting."
   ]
  },
  {
   "cell_type": "markdown",
   "metadata": {},
   "source": [
    "Vimos acima uma forma de evitar o Overfitting em Redes Neurais, mas esta definitivamente não é a única maneira! Existem inúmeras técnicas para mitigar este problema, entre elas a aplicação de **técnicas de regularização** (leia sobre isso [aqui](https://towardsdatascience.com/how-to-improve-a-neural-network-with-regularization-8a18ecda9fe3) e [aqui](https://towardsdatascience.com/regularization-techniques-and-their-implementation-in-tensorflow-keras-c06e7551e709))), cuja implementação existe no Keras! (mais informações [aqui](https://keras.io/api/layers/regularization_layers/) e [aqui](https://keras.io/api/layers/regularizers/)))"
   ]
  },
  {
   "cell_type": "markdown",
   "metadata": {},
   "source": [
    "## Exercício"
   ]
  },
  {
   "cell_type": "markdown",
   "metadata": {},
   "source": [
    "__1)__ Refaça o exercício exemplo da aula para fixar conceitos!"
   ]
  },
  {
   "cell_type": "code",
   "execution_count": null,
   "metadata": {},
   "outputs": [],
   "source": []
  },
  {
   "cell_type": "markdown",
   "metadata": {},
   "source": [
    "__2)__ Preencha os códigos nos __locais indicados!!!__\n",
    "\n",
    "O exercicio será montar uma Rede Neural de uma importante base de dados, muito conhecida também, chamada de __Fashion MNIST__, onde queremos classificar roupas em algumas categorias. Está base de dados contém 70,000 imagens em tons de cinza em 10 categorias. As imagens mostram artigos individuais de roupas com baixa resolução (28 por 28 pixels), como vemos aqui:\n",
    "\n",
    "<img src=\"https://tensorflow.org/images/fashion-mnist-sprite.png\" width=\"600\">"
   ]
  },
  {
   "cell_type": "code",
   "execution_count": 164,
   "metadata": {
    "ExecuteTime": {
     "end_time": "2022-06-03T23:33:38.264291Z",
     "start_time": "2022-06-03T23:33:38.258644Z"
    }
   },
   "outputs": [],
   "source": [
    "# TensorFlow e tf.keras\n",
    "import tensorflow\n",
    "import keras\n",
    "\n",
    "# Bibliotecas Auxiliares\n",
    "import pandas as pd\n",
    "import numpy as np\n",
    "import matplotlib.pyplot as plt"
   ]
  },
  {
   "cell_type": "code",
   "execution_count": 185,
   "metadata": {
    "ExecuteTime": {
     "end_time": "2022-06-03T23:46:23.624927Z",
     "start_time": "2022-06-03T23:46:23.006459Z"
    }
   },
   "outputs": [],
   "source": [
    "#Baixando a nossa base de dados\n",
    "\n",
    "fashion_mnist = keras.datasets.fashion_mnist\n",
    "\n",
    "(train_images, train_labels), (test_images, test_labels) = fashion_mnist.load_data()"
   ]
  },
  {
   "cell_type": "markdown",
   "metadata": {},
   "source": [
    "Carregamos 4 arrays NumPy divididos em treino e teste, e além disso as imagens são arrays NumPy de 28x28, com os valores de pixels entre 0 to 255. As labels (alvo da classificação) são um array de inteiros, no intervalo de 0 a 9. Esse corresponde com a classe de roupa que cada imagem representa:\n",
    "\n",
    "<table>\n",
    "  <tr>\n",
    "    <th>Label</th>\n",
    "    <th>Classe</th>\n",
    "  </tr>\n",
    "  <tr>\n",
    "    <td>0</td>\n",
    "    <td>Camisetas/Top (T-shirt/top)</td>\n",
    "  </tr>\n",
    "  <tr>\n",
    "    <td>1</td>\n",
    "    <td>Calça (Trouser)</td>\n",
    "  </tr>\n",
    "    <tr>\n",
    "    <td>2</td>\n",
    "    <td>Suéter (Pullover)</td>\n",
    "  </tr>\n",
    "    <tr>\n",
    "    <td>3</td>\n",
    "    <td>Vestidos (Dress)</td>\n",
    "  </tr>\n",
    "    <tr>\n",
    "    <td>4</td>\n",
    "    <td>Casaco (Coat)</td>\n",
    "  </tr>\n",
    "    <tr>\n",
    "    <td>5</td>\n",
    "    <td>Sandálias (Sandal)</td>\n",
    "  </tr>\n",
    "    <tr>\n",
    "    <td>6</td>\n",
    "    <td>Camisas (Shirt)</td>\n",
    "  </tr>\n",
    "    <tr>\n",
    "    <td>7</td>\n",
    "    <td>Tênis (Sneaker)</td>\n",
    "  </tr>\n",
    "    <tr>\n",
    "    <td>8</td>\n",
    "    <td>Bolsa (Bag)</td>\n",
    "  </tr>\n",
    "    <tr>\n",
    "    <td>9</td>\n",
    "    <td>Botas (Ankle boot)</td>\n",
    "  </tr>\n",
    "</table>\n"
   ]
  },
  {
   "cell_type": "code",
   "execution_count": 186,
   "metadata": {
    "ExecuteTime": {
     "end_time": "2022-06-03T23:46:23.634980Z",
     "start_time": "2022-06-03T23:46:23.629314Z"
    }
   },
   "outputs": [],
   "source": [
    "class_names = ['T-shirt/top', \n",
    "               'Trouser', \n",
    "               'Pullover', \n",
    "               'Dress', \n",
    "               'Coat',\n",
    "               'Sandal', \n",
    "               'Shirt', \n",
    "               'Sneaker', \n",
    "               'Bag', \n",
    "               'Ankle boot']"
   ]
  },
  {
   "cell_type": "code",
   "execution_count": 187,
   "metadata": {
    "ExecuteTime": {
     "end_time": "2022-06-03T23:46:23.650377Z",
     "start_time": "2022-06-03T23:46:23.640076Z"
    }
   },
   "outputs": [
    {
     "data": {
      "text/plain": [
       "(60000, 28, 28)"
      ]
     },
     "execution_count": 187,
     "metadata": {},
     "output_type": "execute_result"
    }
   ],
   "source": [
    "train_images.shape"
   ]
  },
  {
   "cell_type": "code",
   "execution_count": 188,
   "metadata": {
    "ExecuteTime": {
     "end_time": "2022-06-03T23:46:23.674964Z",
     "start_time": "2022-06-03T23:46:23.662025Z"
    }
   },
   "outputs": [
    {
     "data": {
      "text/plain": [
       "60000"
      ]
     },
     "execution_count": 188,
     "metadata": {},
     "output_type": "execute_result"
    }
   ],
   "source": [
    "len(train_labels)"
   ]
  },
  {
   "cell_type": "code",
   "execution_count": 189,
   "metadata": {
    "ExecuteTime": {
     "end_time": "2022-06-03T23:46:23.693988Z",
     "start_time": "2022-06-03T23:46:23.679999Z"
    }
   },
   "outputs": [
    {
     "data": {
      "text/plain": [
       "array([9, 0, 0, ..., 3, 0, 5], dtype=uint8)"
      ]
     },
     "execution_count": 189,
     "metadata": {},
     "output_type": "execute_result"
    }
   ],
   "source": [
    "train_labels"
   ]
  },
  {
   "cell_type": "code",
   "execution_count": 190,
   "metadata": {
    "ExecuteTime": {
     "end_time": "2022-06-03T23:46:23.709376Z",
     "start_time": "2022-06-03T23:46:23.699149Z"
    }
   },
   "outputs": [
    {
     "data": {
      "text/plain": [
       "(10000, 28, 28)"
      ]
     },
     "execution_count": 190,
     "metadata": {},
     "output_type": "execute_result"
    }
   ],
   "source": [
    "test_images.shape"
   ]
  },
  {
   "cell_type": "code",
   "execution_count": 191,
   "metadata": {
    "ExecuteTime": {
     "end_time": "2022-06-03T23:46:23.728292Z",
     "start_time": "2022-06-03T23:46:23.717392Z"
    }
   },
   "outputs": [
    {
     "data": {
      "text/plain": [
       "10000"
      ]
     },
     "execution_count": 191,
     "metadata": {},
     "output_type": "execute_result"
    }
   ],
   "source": [
    "len(test_labels)"
   ]
  },
  {
   "cell_type": "markdown",
   "metadata": {},
   "source": [
    "## Pré-Processamento dos Dados"
   ]
  },
  {
   "cell_type": "code",
   "execution_count": 192,
   "metadata": {
    "ExecuteTime": {
     "end_time": "2022-06-03T23:46:24.281333Z",
     "start_time": "2022-06-03T23:46:23.734265Z"
    }
   },
   "outputs": [
    {
     "name": "stderr",
     "output_type": "stream",
     "text": [
      "/var/folders/_m/3m0bcc4n6h73gny0bt6_g4x80000gn/T/ipykernel_3918/2862198986.py:3: MatplotlibDeprecationWarning:\n",
      "\n",
      "Auto-removal of grids by pcolor() and pcolormesh() is deprecated since 3.5 and will be removed two minor releases later; please call grid(False) first.\n",
      "\n"
     ]
    },
    {
     "data": {
      "image/png": "[encoded data removed]",
      "text/plain": [
       "<Figure size 432x288 with 2 Axes>"
      ]
     },
     "metadata": {},
     "output_type": "display_data"
    }
   ],
   "source": [
    "plt.figure()\n",
    "plt.imshow(train_images[0])\n",
    "plt.colorbar()\n",
    "plt.grid(False)\n",
    "plt.show()"
   ]
  },
  {
   "cell_type": "code",
   "execution_count": 193,
   "metadata": {
    "ExecuteTime": {
     "end_time": "2022-06-03T23:46:25.192490Z",
     "start_time": "2022-06-03T23:46:24.287614Z"
    }
   },
   "outputs": [],
   "source": [
    "# Reshape\n",
    "\n",
    "#Faça o reshape da train_images dividindo por 255. e salvando na mesma variavel\n",
    "train_images = train_images/255.\n",
    "\n",
    "#Faça o reshape da test_images dividindo por 255. e salvando na mesma variavel\n",
    "test_images = test_images/255."
   ]
  },
  {
   "cell_type": "code",
   "execution_count": 194,
   "metadata": {
    "ExecuteTime": {
     "end_time": "2022-06-03T23:46:28.309292Z",
     "start_time": "2022-06-03T23:46:25.198540Z"
    }
   },
   "outputs": [
    {
     "data": {
      "image/png": "[encoded data removed]",
      "text/plain": [
       "<Figure size 720x720 with 25 Axes>"
      ]
     },
     "metadata": {},
     "output_type": "display_data"
    }
   ],
   "source": [
    "# alguns plots da base de teste\n",
    "\n",
    "plt.figure(figsize=(10,10))\n",
    "for i in range(25):\n",
    "    plt.subplot(5,5,i+1)\n",
    "    plt.xticks([])\n",
    "    plt.yticks([])\n",
    "    plt.grid(False)\n",
    "    plt.imshow(train_images[i], cmap=plt.cm.binary)\n",
    "    plt.xlabel(class_names[train_labels[i]])\n",
    "plt.show()"
   ]
  },
  {
   "cell_type": "code",
   "execution_count": 195,
   "metadata": {
    "ExecuteTime": {
     "end_time": "2022-06-03T23:46:28.452519Z",
     "start_time": "2022-06-03T23:46:28.326440Z"
    }
   },
   "outputs": [],
   "source": [
    "# Uma outra forma de criarmos a Rede Neural camada a camada é da seguinte forma:\n",
    "\n",
    "model = keras.Sequential([\n",
    "    keras.layers.Flatten(input_shape=(28, 28)),\n",
    "    keras.layers.Dense(128, activation='relu'),\n",
    "    keras.layers.Dense(10, activation='softmax')\n",
    "])"
   ]
  },
  {
   "cell_type": "code",
   "execution_count": 196,
   "metadata": {
    "ExecuteTime": {
     "end_time": "2022-06-03T23:46:28.505768Z",
     "start_time": "2022-06-03T23:46:28.458180Z"
    }
   },
   "outputs": [
    {
     "name": "stdout",
     "output_type": "stream",
     "text": [
      "Model: \"sequential_6\"\n",
      "_________________________________________________________________\n",
      " Layer (type)                Output Shape              Param #   \n",
      "=================================================================\n",
      " flatten_1 (Flatten)         (None, 784)               0         \n",
      "                                                                 \n",
      " dense_18 (Dense)            (None, 128)               100480    \n",
      "                                                                 \n",
      " dense_19 (Dense)            (None, 10)                1290      \n",
      "                                                                 \n",
      "=================================================================\n",
      "Total params: 101,770\n",
      "Trainable params: 101,770\n",
      "Non-trainable params: 0\n",
      "_________________________________________________________________\n"
     ]
    }
   ],
   "source": [
    "# Crie um compile() com os seguintes parametros:\n",
    "model.compile(\n",
    "    optimizer = 'adam',\n",
    "    loss = 'sparse_categorical_crossentropy',\n",
    "    metrics = ['accuracy']\n",
    ")\n",
    "\n",
    "# Crie o summary() para o modelo\n",
    "model.summary()"
   ]
  },
  {
   "cell_type": "code",
   "execution_count": 197,
   "metadata": {
    "ExecuteTime": {
     "end_time": "2022-06-03T23:47:51.370171Z",
     "start_time": "2022-06-03T23:46:28.511299Z"
    }
   },
   "outputs": [
    {
     "name": "stdout",
     "output_type": "stream",
     "text": [
      "Epoch 1/10\n",
      "1875/1875 [==============================] - 6s 3ms/step - loss: 0.4928 - accuracy: 0.8271\n",
      "Epoch 2/10\n",
      "1875/1875 [==============================] - 5s 3ms/step - loss: 0.3728 - accuracy: 0.8644\n",
      "Epoch 3/10\n",
      "1875/1875 [==============================] - 6s 3ms/step - loss: 0.3335 - accuracy: 0.8783\n",
      "Epoch 4/10\n",
      "1875/1875 [==============================] - 6s 3ms/step - loss: 0.3121 - accuracy: 0.8861\n",
      "Epoch 5/10\n",
      "1875/1875 [==============================] - 6s 3ms/step - loss: 0.2940 - accuracy: 0.8912\n",
      "Epoch 6/10\n",
      "1875/1875 [==============================] - 6s 3ms/step - loss: 0.2811 - accuracy: 0.8961\n",
      "Epoch 7/10\n",
      "1875/1875 [==============================] - 6s 3ms/step - loss: 0.2691 - accuracy: 0.9011\n",
      "Epoch 8/10\n",
      "1875/1875 [==============================] - 6s 3ms/step - loss: 0.2581 - accuracy: 0.9036\n",
      "Epoch 9/10\n",
      "1875/1875 [==============================] - 5s 3ms/step - loss: 0.2481 - accuracy: 0.9074\n",
      "Epoch 10/10\n",
      "1875/1875 [==============================] - 6s 3ms/step - loss: 0.2410 - accuracy: 0.9103\n"
     ]
    },
    {
     "data": {
      "text/plain": [
       "<keras.callbacks.History at 0x7f9a8c8e6640>"
      ]
     },
     "execution_count": 197,
     "metadata": {},
     "output_type": "execute_result"
    }
   ],
   "source": [
    "# Faça o fit do modelo passando train_images, train_labels e epochs = 10\n",
    "model.fit(train_images, train_labels, epochs=10)"
   ]
  },
  {
   "cell_type": "code",
   "execution_count": 198,
   "metadata": {
    "ExecuteTime": {
     "end_time": "2022-06-03T23:47:52.215936Z",
     "start_time": "2022-06-03T23:47:51.373699Z"
    }
   },
   "outputs": [
    {
     "name": "stdout",
     "output_type": "stream",
     "text": [
      "313/313 - 1s - loss: 0.3286 - accuracy: 0.8849 - 737ms/epoch - 2ms/step\n",
      "\n",
      "Test accuracy: 0.8848999738693237\n"
     ]
    }
   ],
   "source": [
    "# Avaliando a acurácia no teste\n",
    "test_loss, test_acc = model.evaluate(test_images,  test_labels, verbose=2)\n",
    "\n",
    "print('\\nTest accuracy:', test_acc)"
   ]
  },
  {
   "cell_type": "code",
   "execution_count": 199,
   "metadata": {
    "ExecuteTime": {
     "end_time": "2022-06-03T23:47:53.656925Z",
     "start_time": "2022-06-03T23:47:52.219899Z"
    },
    "scrolled": true
   },
   "outputs": [
    {
     "name": "stdout",
     "output_type": "stream",
     "text": [
      "313/313 [==============================] - 1s 3ms/step\n"
     ]
    },
    {
     "data": {
      "text/plain": [
       "array([9, 2, 1, ..., 8, 1, 5])"
      ]
     },
     "execution_count": 199,
     "metadata": {},
     "output_type": "execute_result"
    }
   ],
   "source": [
    "# crie o pred_labels usando a função predict_classes para o test_images\n",
    "pred_labels = np.argmax(model.predict(test_images), axis=1)\n",
    "pred_labels"
   ]
  },
  {
   "cell_type": "code",
   "execution_count": 200,
   "metadata": {
    "ExecuteTime": {
     "end_time": "2022-06-03T23:47:53.757049Z",
     "start_time": "2022-06-03T23:47:53.664604Z"
    }
   },
   "outputs": [
    {
     "name": "stdout",
     "output_type": "stream",
     "text": [
      "              precision    recall  f1-score   support\n",
      "\n",
      "           0       0.83      0.85      0.84       974\n",
      "           1       0.97      0.99      0.98       984\n",
      "           2       0.80      0.78      0.79      1018\n",
      "           3       0.88      0.91      0.89       960\n",
      "           4       0.85      0.76      0.80      1121\n",
      "           5       0.95      0.98      0.96       971\n",
      "           6       0.68      0.72      0.70       953\n",
      "           7       0.96      0.95      0.95      1008\n",
      "           8       0.96      0.98      0.97       986\n",
      "           9       0.97      0.95      0.96      1025\n",
      "\n",
      "    accuracy                           0.88     10000\n",
      "   macro avg       0.88      0.89      0.89     10000\n",
      "weighted avg       0.89      0.88      0.88     10000\n",
      "\n"
     ]
    }
   ],
   "source": [
    "from mlxtend.plotting import plot_confusion_matrix\n",
    "from sklearn.metrics import classification_report\n",
    "\n",
    "# Faça o print do classification_report para pred_labels e test_labels\n",
    "print(classification_report(pred_labels, test_labels))"
   ]
  },
  {
   "cell_type": "code",
   "execution_count": 201,
   "metadata": {
    "ExecuteTime": {
     "end_time": "2022-06-03T23:47:54.370828Z",
     "start_time": "2022-06-03T23:47:53.768285Z"
    },
    "scrolled": false
   },
   "outputs": [
    {
     "name": "stdout",
     "output_type": "stream",
     "text": [
      "Matriz de confusão do modelo nos dados de teste:\n",
      "\n"
     ]
    },
    {
     "data": {
      "image/png": "[encoded data removed]",
      "text/plain": [
       "<Figure size 432x288 with 1 Axes>"
      ]
     },
     "metadata": {},
     "output_type": "display_data"
    }
   ],
   "source": [
    "# Crie a matriz de confusão para o pred_labels e test_labels\n",
    "### COLOQUE SEU CODIGO AQUI ###\n",
    "\n",
    "print(\"Matriz de confusão do modelo nos dados de teste:\\n\")\n",
    "plot_confusion_matrix(conf_mat=cm)\n",
    "plt.show()"
   ]
  },
  {
   "cell_type": "code",
   "execution_count": null,
   "metadata": {},
   "outputs": [],
   "source": [
    "# Função para plotar as imagens\n",
    "\n",
    "def plot_image(i, predictions_array, true_label, img):\n",
    "  predictions_array, true_label, img = predictions_array[i], true_label[i], img[i]\n",
    "  plt.grid(False)\n",
    "  plt.xticks([])\n",
    "  plt.yticks([])\n",
    "\n",
    "  plt.imshow(img, cmap=plt.cm.binary)\n",
    "\n",
    "  predicted_label = np.argmax(predictions_array)\n",
    "  if predicted_label == true_label:\n",
    "    color = 'blue'\n",
    "  else:\n",
    "    color = 'red'\n",
    "\n",
    "  plt.xlabel(\"{} {:2.0f}% ({})\".format(class_names[predicted_label],\n",
    "                                100*np.max(predictions_array),\n",
    "                                class_names[true_label]),\n",
    "                                color=color)\n",
    "\n",
    "# Cria o gráfico com as probabilidades\n",
    "\n",
    "def plot_value_array(i, predictions_array, true_label):\n",
    "  predictions_array, true_label = predictions_array[i], true_label[i]\n",
    "  plt.grid(False)\n",
    "  plt.xticks([])\n",
    "  plt.yticks([])\n",
    "  thisplot = plt.bar(range(10), predictions_array, color=\"#777777\")\n",
    "  plt.ylim([0, 1])\n",
    "  predicted_label = np.argmax(predictions_array)\n",
    "\n",
    "  thisplot[predicted_label].set_color('red')\n",
    "  thisplot[true_label].set_color('blue')"
   ]
  },
  {
   "cell_type": "code",
   "execution_count": null,
   "metadata": {},
   "outputs": [],
   "source": [
    "# Teste com o id = 1\n",
    "\n",
    "i = 0\n",
    "plt.figure(figsize=(6,3))\n",
    "plt.subplot(1,2,1)\n",
    "plot_image(i, predictions, test_labels, test_images)\n",
    "plt.subplot(1,2,2)\n",
    "plot_value_array(i, predictions,  test_labels)\n",
    "plt.show()"
   ]
  },
  {
   "cell_type": "code",
   "execution_count": null,
   "metadata": {},
   "outputs": [],
   "source": [
    "# Plota o primeiro X test images, e as labels preditas, e as labels verdadeiras.\n",
    "# Colore as predições corretas de azul e as incorretas de vermelho.\n",
    "\n",
    "num_rows = 5\n",
    "num_cols = 3\n",
    "num_images = num_rows*num_cols\n",
    "plt.figure(figsize=(2*2*num_cols, 2*num_rows))\n",
    "for i in range(num_images):\n",
    "  plt.subplot(num_rows, 2*num_cols, 2*i+1)\n",
    "  plot_image(i, predictions, test_labels, test_images)\n",
    "  plt.subplot(num_rows, 2*num_cols, 2*i+2)\n",
    "  plot_value_array(i, predictions, test_labels)\n",
    "plt.show()"
   ]
  },
  {
   "cell_type": "code",
   "execution_count": null,
   "metadata": {},
   "outputs": [],
   "source": []
  },
  {
   "cell_type": "code",
   "execution_count": null,
   "metadata": {},
   "outputs": [],
   "source": []
  }
 ],
 "metadata": {
  "kernelspec": {
   "display_name": "Python 3 (ipykernel)",
   "language": "python",
   "name": "python3"
  },
  "language_info": {
   "codemirror_mode": {
    "name": "ipython",
    "version": 3
   },
   "file_extension": ".py",
   "mimetype": "text/x-python",
   "name": "python",
   "nbconvert_exporter": "python",
   "pygments_lexer": "ipython3",
   "version": "3.9.12"
  },
  "toc": {
   "base_numbering": 1,
   "nav_menu": {},
   "number_sections": true,
   "sideBar": true,
   "skip_h1_title": false,
   "title_cell": "Table of Contents",
   "title_sidebar": "Contents",
   "toc_cell": false,
   "toc_position": {},
   "toc_section_display": true,
   "toc_window_display": false
  }
 },
 "nbformat": 4,
 "nbformat_minor": 2
}
