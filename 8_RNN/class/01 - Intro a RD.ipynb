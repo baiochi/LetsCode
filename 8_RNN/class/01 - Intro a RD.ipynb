{
 "cells": [
  {
   "cell_type": "markdown",
   "id": "bc86332b",
   "metadata": {},
   "source": [
    "# Redes Neurais - Conceitos Básicos\n",
    "\n",
    "Nessa aula, iremos tratar dos seguintes conteúdos:\n",
    "- Introdução a Redes Neurais;\n",
    "- Componentes de uma Rede Neural;\n",
    "- Aplicações de Redes Neurais;\n",
    "- Quando utilizar Redes Neurais?;\n",
    "- Diferenças entre Redes Neurais e _Deep Learning_;\n",
    "- Modelando uma Rede Neural - Perceptron;\n",
    "- Implementação em Python;\n",
    "- Exercícios."
   ]
  },
  {
   "cell_type": "markdown",
   "id": "12006384",
   "metadata": {},
   "source": [
    "## "
   ]
  },
  {
   "cell_type": "markdown",
   "id": "6ef63f46",
   "metadata": {},
   "source": [
    "## Introdução"
   ]
  },
  {
   "cell_type": "markdown",
   "id": "ca9ff112",
   "metadata": {},
   "source": [
    "\n",
    "A inspiração para o desenvolvimento de Redes Neurais partiu justamente dos __seres humanos__, somos muito bons em __aprender__ e __reconhecer padrões__. Isto se deve ao nosso __sistema nervoso__, que pode ser entendido como uma __grande rede de neurônios interligados__.\n",
    "\n",
    "<br>\n",
    "\n",
    "<img src=\"https://www.tiopen.com.br/wp-content/uploads/2019/08/rede-neural.jpeg.webp\" width=\"600\" />\n",
    "\n",
    "<br>\n",
    "\n",
    "Um dos objetivos da Inteligência Artificial é __construir sistemas inteligentes__, com __capacidade cognitiva__ similar à dos __humanos__, ou seja, com a mesma capacidade de analisar e reconhecer padrões.Foi assim que começaram a desenvolver as chamadas __Redes Neurais Artificiais (RNAs)__. \n",
    "\n",
    "<br>\n",
    "\n",
    "<img src=\"https://s3-sa-east-1.amazonaws.com/lcpi/fcba5e37-3815-43d7-ad9f-25686c045ee9.png\" width=600>\n",
    "\n",
    "<br>"
   ]
  },
  {
   "cell_type": "markdown",
   "id": "11516c40",
   "metadata": {},
   "source": [
    "## "
   ]
  },
  {
   "cell_type": "markdown",
   "id": "86708f20",
   "metadata": {},
   "source": [
    "## Componentes de uma Redes Neural"
   ]
  },
  {
   "cell_type": "markdown",
   "id": "cd414f43",
   "metadata": {},
   "source": [
    "Uma Rede Neural Artificial é composta pelos seguintes elementos básicos:\n",
    "\n",
    "- **Unidades (ou neurônios)**: são as unidades mínimas de processamento da rede neural, onde as operações matemáticas são realizadas;\n",
    "\n",
    "<br>\n",
    "\n",
    "- **Camadas**: são os conjuntos de neurônios, que podem ser agrupados em 3 tipos de camadas:\n",
    "\n",
    "    - **Camada de entrada (_input layer_)**: é a camada de entrada de dados. O número de unidades nesta camada é igual ao número de atributos (_features_) do modelo;\n",
    "\n",
    "    - **Camadas ocultas (_hidden layers_)**: são as camadas de processamento. O número de camadas ocultas, bem como o número de neurônios em cada uma delas, é variável, dependendo do problema e dos dados. Em geral, a melhor estratégia é experimentar diferentes números de camadas e de neurônios;\n",
    "\n",
    "    - **Camada de saída (_output layer_)**: é a camada que dá a resposta da rede neural, isto é, o valor predito por ela. O número de unidades nesta camada depende do tipo de output desejado, e é o que determina a variável resposta (_target_) do modelo.\n",
    "\n",
    "<br>\n",
    "\t\n",
    "<img src=\"https://www.monolitonimbus.com.br/wp-content/uploads/2017/05/neuronios_rna.gif\" width=\"600\" />\n",
    "\n",
    "<br>\n",
    "\n",
    "Os últimos elementos extremamente importantes para a construção da rede neural são os __pesos__ (atribuído a sigla _W_), que são as conexões que interligam os neurônios de uma camada com a outra. Na ligação entre os neurônios, os pesos fazem justamente o balanço durante as __operações matemáticas__, então a partir dos dados oriundos da camada de entrada, são feitas operações matemáticas ao longo da rede para chegar no final as predições do modelo.\n",
    "\n",
    "<br>"
   ]
  },
  {
   "cell_type": "markdown",
   "id": "43580d23",
   "metadata": {},
   "source": [
    "## Aplicações de Redes Neurais"
   ]
  },
  {
   "cell_type": "markdown",
   "id": "3e2c7cfd",
   "metadata": {},
   "source": [
    "De forma análoga ao modelos de _Machine Learning_ mais tradicionais, as redes neurais podem também ser divididas em 3 tipos de aplicações:\n",
    "\n",
    "<br>\n",
    "\n",
    "- __Aprendizado Supervisionado:__ Recapitulando, aprendizagem supervisionado é quando o modelo têm uma variável resposta (_target_) de referência para treinar e aprender os padrões;\n",
    "\n",
    "- __Aprendizado Não Supervisionado:__, neste caso não existe a resposta de referência e o modelo aprende a partir das características dos dados a respeito de similariedade por exemplo;\n",
    "\n",
    "- __Aprendizado por Reforço:__ é um método de aprendizagem onde o modelo é penalizado pelas respostas incorretas que ele gerar e a partir das penalizações, ele deve se adaptar para fazer melhores predições."
   ]
  },
  {
   "cell_type": "markdown",
   "id": "707f861a",
   "metadata": {},
   "source": [
    "## "
   ]
  },
  {
   "cell_type": "markdown",
   "id": "0ad1527e",
   "metadata": {},
   "source": [
    "## Quando utilizar Redes Neurais?"
   ]
  },
  {
   "cell_type": "markdown",
   "id": "d36d2f0d",
   "metadata": {},
   "source": [
    "No atual cenário de _Big Data_ em que vivemos (há muitos dados em todo o lugar!), os modelos de Redes Neurais e _Deep Learning_ são cada vez mais utilizados!\n",
    "\n",
    "Isto é possível porque a performance destes modelos aumenta conforme mais dados são utilizados, diferentemente dos modelos tradicionais, cuja performance é estabilizada depois de certa quantidade de dados!\n",
    "\n",
    "\n",
    "<img src=\"https://www.sumologic.com/wp-content/uploads/performances_vs_data.png\" width=\"600\" />\n",
    "\n",
    "\n",
    "Então, é de se esperar que os modelos de _Deep Learning_ funcionem melhor nos cenários em que há **muitos dados disponíveis**.\n",
    "\n",
    "No entanto, se houver tempo e recursos computacionais disponíveis, é sempre uma ideia construir também um modelo de _Deep Learning_ juntamente de outros modelos de Machine Learning, e então comparar qual tem melhor performance!"
   ]
  },
  {
   "cell_type": "markdown",
   "id": "68cf82c3",
   "metadata": {},
   "source": [
    "## "
   ]
  },
  {
   "cell_type": "markdown",
   "id": "e414446a",
   "metadata": {},
   "source": [
    "## Diferenças entre Redes Neurais e _Deep Learning_"
   ]
  },
  {
   "cell_type": "markdown",
   "id": "4a592921",
   "metadata": {},
   "source": [
    "De forma geral, uma rede neural é chamada de \"profunda\", se ela tiver mais de uma camada oculta. Neste caso, temos uma **\"Rede Neural Profunda\" (_Deep Neural Network_)**.\n",
    "\n",
    "<img src=\"https://thedatascientist.com/wp-content/uploads/2018/03/simple_neural_network_vs_deep_learning.jpg\" width=500>\n",
    "\n",
    "O termo \"_Deep Learning_\" é utilizado pra se referir a modelos que usam Redes Neurais Profundas, mas este termo engloba também outras **arquiteturas** de redes neurais mais especializadas e complexas, como CNNs e RNNs, que inevitavelmente são \"profundas\", por construção."
   ]
  },
  {
   "cell_type": "markdown",
   "id": "18877e72",
   "metadata": {},
   "source": [
    "## "
   ]
  },
  {
   "cell_type": "markdown",
   "id": "2f63de28",
   "metadata": {},
   "source": [
    "## Modelando uma Rede Neural - Perceptron"
   ]
  },
  {
   "cell_type": "markdown",
   "id": "ff8e4ca7",
   "metadata": {},
   "source": [
    "Vamos começar a trabalhar de fato com Redes Neurais e ao longo do desenvolvimento do modelo, será introduzido alguns conceitos fundamentais para a construção de uma Rede Neural qualquer.\n",
    "\n",
    "O primeiro modelo que iremos utilizar é o __Perceptron__, que pode ser entendido como a concepção mais simples possível de uma Rede Neural, onde vamos utilizar de apenas __um neurônio__. O _Perceptron_ foi criado em 1957 por Frank Rosenblatt e é um algoritmo de classificação que busca uma separação lineares entre as observações de um conjunto de dados, tentando assim predizer para qual classe pertence cada dado.\n",
    "\n",
    "O _Perceptron_ foi claramente inspirado no funcionamento de um neurônio biológico! Conforme podemos comparar na figura abaixo:\n",
    "\n",
    "<br>\n",
    "\n",
    "<img src=\"https://www.ee.co.za/wp-content/uploads/2019/07/Application-of-machine-learning-algorithms-in-boiler-plant-root-cause-analysis-Fig-1.jpg\" width=\"600\">\n",
    "\n",
    "<br><br>\n",
    "\n",
    "### Como funciona o _Perceptron_?\n",
    "\n",
    "<br>\n",
    "\n",
    "O _Perceptron_ irá receber o conjunto de dados ao longo da camada de entrada (_input layer_), lembrando que ela têm a __mesma dimensão da quantidade de atributos disponíveis no conjunto de dados__.\n",
    "\n",
    "<br>\n",
    "\n",
    "<img src=\"https://www.deeplearningbook.com.br/wp-content/uploads/2018/01/neuronio-matematico.png\" width=600>\n",
    "\n",
    "<br>\n",
    "\n",
    "E no processo que interliga os neurônios da camada de entrada com o neurônio do _Perceptron_ em si, será feito um __produto escalar__ com os valores dos respectivos pesos. Ou seja, cada um dos dados de entrada srá multiplicado pelo respectivo peso, assim o modelo pode ponderar os valores de acordo com o tipo de resposta esperado na aprendizagem. Veremos um pouco mais pra frente que o processo de treinamento de uma Rede Neural será justamente __definir os valores dos pesos__.\n",
    "\n",
    "Um termo importante para o desenvolvimento da Rede é o que chamamos de __viés__ (em inglês _bias_), sendo um valor de peso que não está associado a valores de entrada do conjunto de dados. O _bias_ serve um ajuste da rede independente do que acontecer ao longo da rede e ajuda a corrigir problemas como por exemplo _overfitting_.\n",
    "\n",
    "Dessa forma, vamos calcular de acordo com o exemplo da imagem:\n",
    "\n",
    "<br>\n",
    "\n",
    "<img src=\"https://miro.medium.com/max/1400/1*SaQMHTLi4C7MIA4IzjAXJw.png\" width=500>\n",
    "\n",
    "<br>\n",
    "\n",
    "A cálculo do _Perceptron_ será feito da seguinte forma:\n",
    "\n",
    "<br>\n",
    "\n",
    "$$ h = (\\sum x_i w_i) + b  = x_1 w_1 + x_2 w_2 + x_3 w_3 + b = 0,57$$\n",
    "\n",
    "<br>\n",
    "\n",
    "Calculado o valor $h$ de saída do neurônio, o próximo passo seria aplicar uma __função de ativiação__ no resultado.\n",
    "\n",
    "<br>\n",
    "\n",
    "### Função de Ativação\n",
    "\n",
    "<br>\n",
    "\n",
    "Como comentado anteriormente, o principal desafio na determinação de uma Rede Neural é na __definição dos pesos__, pois o comportamento da Rede Neural será bem sensível aos valores de pesos utilizados. Ou seja, se aplicarmos uma pequena diferença em um dos pesos o resultado final da predição pode ser __completamente diferente__.\n",
    "\n",
    "Uma forma de contornar este tipo de problema e transformar a nossa Rede Neural em um modelo funcional é a aplicação de __função de ativação__.\n",
    "\n",
    "<br>\n",
    "\n",
    "<img src=\"https://www.researchgate.net/profile/Auzuir-Alexandria/publication/268740641/figure/fig2/AS:392100567896071@1470495468400/Figura-4-Exemplos-de-funcoes-tipicas-de-ativacao-de-neuronios-a-degrau-b.png\" width=500>\n",
    "\n",
    "<br>\n",
    "\n",
    "A __função de ativação__ é uma transformação matemática não linear, que faz controle do comportamento ao longo do treinamento da Rede Neural. Este tipo de transformação que faz com que uma pequena modificação nos valores de peso não impacte na predição final do modelo e é importante para identificar o __comportamento dos dados__, ou seja, como cada um dos atributos pode estar influenciando na resposta final. Existem diversas funções de ativação (que serão detalhadas e utilziadas ao longo do curso), mas aqui na aplicação do _Perceptron_ vamos nos limitar a utilizada de um função de ativação do __tipo degrau__ (_Step Function_):\n",
    "\n",
    "<br>\n",
    "\n",
    "$$ f(h) = \\left \\{ \\begin{matrix} 1, & \\mbox{se }h \\mbox{>= 0} \\\\ -1, & \\mbox{se }h \\mbox{ < 0} \\end{matrix} \\right. $$\n",
    "\n",
    "<br>\n",
    "\n",
    "No caso do exemplo numérico aplicado anteriormente, têm-se que:\n",
    "\n",
    "<br>\n",
    "\n",
    "$$ f(h) = f(0,57) = 1 $$\n",
    "\n",
    "<br>\n",
    "\n",
    "### Otimização de Pesos e Função de Perda (_Loss Function_)\n",
    "\n",
    "<br>\n",
    "\n",
    "Agora que temos a resposta da predição do modelo, dado que está resposta pode estar correta ou não, como que pode-se ajustar os valores de peso de maneira a conseguir um melhor resultado da rede?\n",
    "\n",
    "Todo o processo de treinamento de uma Rede Neural pode ser dividido em dois trajeto, o __Feed Forward Propagation__ que é basicamente o processo que fizemos até então, recebe os valores de entrada, faz as transformações matemática utilizando os pesos e a função de ativação e obtem a resposta do modelo.\n",
    "\n",
    "O segundo trajeto seria o __Backward Propagation__, onde iremos ajustar os valores dos pesos de acordo com __o erro cometido pelo modelo__. Da mesma forma, existe algumas técnicas de otimiação dos pesos, para o exemplo do _Perceptron_ iremos utilizar uma variação simples da otimização por __gradiente descendente__:\n",
    "\n",
    "<br>\n",
    "\n",
    "$$ w_i = w_i + \\eta (y_i - f(h_i)) x_i $$\n",
    "\n",
    "<br>\n",
    "\n",
    "$$ b = b + \\eta(y_i - f(h_i)) $$\n",
    "\n",
    "<br>\n",
    "\n",
    "Onde o grau de correção que será feito nos pesos está relacionada a __taxa de aprendizagem__ (valor $\\eta$ em inglês _learning rate_). Dessa forma, o processo de modelagem com Redes Neurais se transforma em um processo __iterativo__, onde a cada __época__ (em inglês _epoch_) o modelo ajusta os pesos de forma a minimizar os erros cometidos."
   ]
  },
  {
   "cell_type": "markdown",
   "id": "f4cbf47d",
   "metadata": {},
   "source": [
    "## "
   ]
  },
  {
   "cell_type": "markdown",
   "id": "dd75d998",
   "metadata": {},
   "source": [
    "## Implementação em _Python_"
   ]
  },
  {
   "cell_type": "code",
   "execution_count": 30,
   "id": "1f6bde1f",
   "metadata": {
    "ExecuteTime": {
     "end_time": "2022-06-03T22:29:27.397108Z",
     "start_time": "2022-06-03T22:29:27.386432Z"
    }
   },
   "outputs": [],
   "source": [
    "# Principais bibliotecas\n",
    "import pandas as pd\n",
    "import numpy as np\n",
    "import seaborn as sns; sns.set()\n",
    "import matplotlib.pyplot as plt\n",
    "from sklearn.linear_model import Perceptron\n",
    "from sklearn.datasets import make_classification\n",
    "from sklearn.model_selection import RepeatedStratifiedKFold, cross_val_score"
   ]
  },
  {
   "cell_type": "markdown",
   "id": "10345fdf",
   "metadata": {},
   "source": [
    "Vamos ver duas formas de implementar o _Perceptron_ na prática, sendo elas:\n",
    "\n",
    "<br>\n",
    "\n",
    "- Criando uma __classe__ para o _Perceptron_:"
   ]
  },
  {
   "cell_type": "code",
   "execution_count": 31,
   "id": "84eb2e94",
   "metadata": {
    "ExecuteTime": {
     "end_time": "2022-06-03T22:29:27.414601Z",
     "start_time": "2022-06-03T22:29:27.401697Z"
    }
   },
   "outputs": [],
   "source": [
    "# Definindo uma classe para o perceptron\n",
    "class PPN:\n",
    "    def __init__(self,\n",
    "                 eta = 0.01,   # learning rate\n",
    "                 n_iter = 10): # numero de iterações\n",
    "        self.eta = eta\n",
    "        self.n_iter = n_iter\n",
    "        \n",
    "    # Criar fit do modelo\n",
    "    def fit(self, X, y):\n",
    "        # inicializando os pesos (zerados)\n",
    "        self.w_ = np.zeros(1 + X.shape[1])\n",
    "        # inicializa uma lista vazia para os erros\n",
    "        self.errors_ = []\n",
    "        # Looping para as iterações\n",
    "        for _ in range(self.n_iter):\n",
    "            # Zerar o erro\n",
    "            errors = 0\n",
    "            # Comparativo valor predito e o valor real\n",
    "            for xi, target in zip(X, y):\n",
    "                # Calcular o delta para os pesos\n",
    "                delta = self.eta * (target - self.predict(xi))\n",
    "                # Atualizar os pesos\n",
    "                self.w_[1:] += delta * xi\n",
    "                # atualizar o bias\n",
    "                self.w_[0] += delta\n",
    "                # calculo do erro\n",
    "                errors += int(delta != 0.0)\n",
    "            # salvar o erro\n",
    "            self.errors_.append(errors)\n",
    "            \n",
    "    # Função para a predição\n",
    "    def predict(self, X):\n",
    "        return np.where(self.net_input(X) >= 0.0, 1, -1)\n",
    "    \n",
    "    # Calculo dos produtos escalares + bias\n",
    "    def net_input(self, X):\n",
    "        return np.dot(X, self.w_[1:]) + self.w_[0]"
   ]
  },
  {
   "cell_type": "markdown",
   "id": "8af798f1",
   "metadata": {},
   "source": [
    "Vamos aplicar o _Perceptron_ ao _dataset_ `iris`:"
   ]
  },
  {
   "cell_type": "code",
   "execution_count": 32,
   "id": "f8203e0d",
   "metadata": {
    "ExecuteTime": {
     "end_time": "2022-06-03T22:29:27.479980Z",
     "start_time": "2022-06-03T22:29:27.427838Z"
    }
   },
   "outputs": [
    {
     "data": {
      "text/html": [
       "<div>\n",
       "<style scoped>\n",
       "    .dataframe tbody tr th:only-of-type {\n",
       "        vertical-align: middle;\n",
       "    }\n",
       "\n",
       "    .dataframe tbody tr th {\n",
       "        vertical-align: top;\n",
       "    }\n",
       "\n",
       "    .dataframe thead th {\n",
       "        text-align: right;\n",
       "    }\n",
       "</style>\n",
       "<table border=\"1\" class=\"dataframe\">\n",
       "  <thead>\n",
       "    <tr style=\"text-align: right;\">\n",
       "      <th></th>\n",
       "      <th>sepal_length</th>\n",
       "      <th>sepal_width</th>\n",
       "      <th>petal_length</th>\n",
       "      <th>petal_width</th>\n",
       "      <th>species</th>\n",
       "    </tr>\n",
       "  </thead>\n",
       "  <tbody>\n",
       "    <tr>\n",
       "      <th>0</th>\n",
       "      <td>5.1</td>\n",
       "      <td>3.5</td>\n",
       "      <td>1.4</td>\n",
       "      <td>0.2</td>\n",
       "      <td>setosa</td>\n",
       "    </tr>\n",
       "    <tr>\n",
       "      <th>1</th>\n",
       "      <td>4.9</td>\n",
       "      <td>3.0</td>\n",
       "      <td>1.4</td>\n",
       "      <td>0.2</td>\n",
       "      <td>setosa</td>\n",
       "    </tr>\n",
       "    <tr>\n",
       "      <th>2</th>\n",
       "      <td>4.7</td>\n",
       "      <td>3.2</td>\n",
       "      <td>1.3</td>\n",
       "      <td>0.2</td>\n",
       "      <td>setosa</td>\n",
       "    </tr>\n",
       "    <tr>\n",
       "      <th>3</th>\n",
       "      <td>4.6</td>\n",
       "      <td>3.1</td>\n",
       "      <td>1.5</td>\n",
       "      <td>0.2</td>\n",
       "      <td>setosa</td>\n",
       "    </tr>\n",
       "    <tr>\n",
       "      <th>4</th>\n",
       "      <td>5.0</td>\n",
       "      <td>3.6</td>\n",
       "      <td>1.4</td>\n",
       "      <td>0.2</td>\n",
       "      <td>setosa</td>\n",
       "    </tr>\n",
       "    <tr>\n",
       "      <th>...</th>\n",
       "      <td>...</td>\n",
       "      <td>...</td>\n",
       "      <td>...</td>\n",
       "      <td>...</td>\n",
       "      <td>...</td>\n",
       "    </tr>\n",
       "    <tr>\n",
       "      <th>145</th>\n",
       "      <td>6.7</td>\n",
       "      <td>3.0</td>\n",
       "      <td>5.2</td>\n",
       "      <td>2.3</td>\n",
       "      <td>virginica</td>\n",
       "    </tr>\n",
       "    <tr>\n",
       "      <th>146</th>\n",
       "      <td>6.3</td>\n",
       "      <td>2.5</td>\n",
       "      <td>5.0</td>\n",
       "      <td>1.9</td>\n",
       "      <td>virginica</td>\n",
       "    </tr>\n",
       "    <tr>\n",
       "      <th>147</th>\n",
       "      <td>6.5</td>\n",
       "      <td>3.0</td>\n",
       "      <td>5.2</td>\n",
       "      <td>2.0</td>\n",
       "      <td>virginica</td>\n",
       "    </tr>\n",
       "    <tr>\n",
       "      <th>148</th>\n",
       "      <td>6.2</td>\n",
       "      <td>3.4</td>\n",
       "      <td>5.4</td>\n",
       "      <td>2.3</td>\n",
       "      <td>virginica</td>\n",
       "    </tr>\n",
       "    <tr>\n",
       "      <th>149</th>\n",
       "      <td>5.9</td>\n",
       "      <td>3.0</td>\n",
       "      <td>5.1</td>\n",
       "      <td>1.8</td>\n",
       "      <td>virginica</td>\n",
       "    </tr>\n",
       "  </tbody>\n",
       "</table>\n",
       "<p>150 rows × 5 columns</p>\n",
       "</div>"
      ],
      "text/plain": [
       "     sepal_length  sepal_width  petal_length  petal_width    species\n",
       "0             5.1          3.5           1.4          0.2     setosa\n",
       "1             4.9          3.0           1.4          0.2     setosa\n",
       "2             4.7          3.2           1.3          0.2     setosa\n",
       "3             4.6          3.1           1.5          0.2     setosa\n",
       "4             5.0          3.6           1.4          0.2     setosa\n",
       "..            ...          ...           ...          ...        ...\n",
       "145           6.7          3.0           5.2          2.3  virginica\n",
       "146           6.3          2.5           5.0          1.9  virginica\n",
       "147           6.5          3.0           5.2          2.0  virginica\n",
       "148           6.2          3.4           5.4          2.3  virginica\n",
       "149           5.9          3.0           5.1          1.8  virginica\n",
       "\n",
       "[150 rows x 5 columns]"
      ]
     },
     "execution_count": 32,
     "metadata": {},
     "output_type": "execute_result"
    }
   ],
   "source": [
    "iris = sns.load_dataset('iris')\n",
    "iris"
   ]
  },
  {
   "cell_type": "code",
   "execution_count": 33,
   "id": "5ab20f39",
   "metadata": {
    "ExecuteTime": {
     "end_time": "2022-06-03T22:29:27.504848Z",
     "start_time": "2022-06-03T22:29:27.487322Z"
    }
   },
   "outputs": [],
   "source": [
    "# Separando o dataset em setosa e não-setosa\n",
    "iris_set = iris[iris['species'] == 'setosa']\n",
    "iris_noset = iris[iris['species'] != 'setosa']"
   ]
  },
  {
   "cell_type": "code",
   "execution_count": 34,
   "id": "afb7fa8b",
   "metadata": {
    "ExecuteTime": {
     "end_time": "2022-06-03T22:29:28.123593Z",
     "start_time": "2022-06-03T22:29:27.510472Z"
    }
   },
   "outputs": [
    {
     "data": {
      "image/png": "[encoded data removed]",
      "text/plain": [
       "<Figure size 432x288 with 1 Axes>"
      ]
     },
     "metadata": {},
     "output_type": "display_data"
    }
   ],
   "source": [
    "# Plot dos dados sepal_length e petal_length\n",
    "plt.scatter(iris_set['sepal_length'],\n",
    "            iris_set['petal_length'],\n",
    "            color = 'green',\n",
    "            marker = 'o',\n",
    "            label = 'setosa')\n",
    "\n",
    "plt.scatter(iris_noset['sepal_length'],\n",
    "            iris_noset['petal_length'],\n",
    "            color = 'blue',\n",
    "            marker = 'x',\n",
    "            label = 'não-setosa')\n",
    "\n",
    "plt.xlabel('Sepal Length')\n",
    "plt.ylabel('Petal Length')\n",
    "\n",
    "plt.legend()\n",
    "plt.show()"
   ]
  },
  {
   "cell_type": "code",
   "execution_count": 35,
   "id": "5af82a74",
   "metadata": {
    "ExecuteTime": {
     "end_time": "2022-06-03T22:29:28.138582Z",
     "start_time": "2022-06-03T22:29:28.128753Z"
    }
   },
   "outputs": [],
   "source": [
    "# Features para alimentar o modelo\n",
    "X = iris[['sepal_length', 'petal_length']].values\n",
    "# Montando a target\n",
    "y = iris['species'].values\n",
    "y = np.where(y == 'setosa', 1, -1)"
   ]
  },
  {
   "cell_type": "code",
   "execution_count": 36,
   "id": "fa540d3b",
   "metadata": {
    "ExecuteTime": {
     "end_time": "2022-06-03T22:29:28.158240Z",
     "start_time": "2022-06-03T22:29:28.151969Z"
    }
   },
   "outputs": [],
   "source": [
    "# instancia a rede perceptron\n",
    "model = PPN()"
   ]
  },
  {
   "cell_type": "code",
   "execution_count": 37,
   "id": "63d7a127",
   "metadata": {
    "ExecuteTime": {
     "end_time": "2022-06-03T22:29:28.278882Z",
     "start_time": "2022-06-03T22:29:28.166795Z"
    }
   },
   "outputs": [],
   "source": [
    "# Fit do Modelo\n",
    "model.fit(X, y)"
   ]
  },
  {
   "cell_type": "code",
   "execution_count": 38,
   "id": "00d880d7",
   "metadata": {
    "ExecuteTime": {
     "end_time": "2022-06-03T22:29:28.294752Z",
     "start_time": "2022-06-03T22:29:28.285743Z"
    }
   },
   "outputs": [],
   "source": [
    "# Biblioteca mlxtend (biblioteca auxiliar para os plots)\n",
    "# !pip install mlxtend\n",
    "# Carrega a função plot_decision_regions\n",
    "from mlxtend.plotting import plot_decision_regions"
   ]
  },
  {
   "cell_type": "code",
   "execution_count": 39,
   "id": "d9e3bdf8",
   "metadata": {
    "ExecuteTime": {
     "end_time": "2022-06-03T22:29:28.732265Z",
     "start_time": "2022-06-03T22:29:28.309383Z"
    }
   },
   "outputs": [
    {
     "data": {
      "image/png": "[encoded data removed]",
      "text/plain": [
       "<Figure size 432x288 with 1 Axes>"
      ]
     },
     "metadata": {},
     "output_type": "display_data"
    }
   ],
   "source": [
    "# Plotando a região de separação linear - Perceptron\n",
    "plot_decision_regions(X,\n",
    "                      y,\n",
    "                      clf = model,\n",
    "                      legend = 2)\n",
    "plt.xlabel('Sepal Length')\n",
    "plt.ylabel('Petal Length')\n",
    "plt.title('Região de Separação - Perceptron')\n",
    "plt.legend()\n",
    "plt.show()"
   ]
  },
  {
   "cell_type": "markdown",
   "id": "6822eb6e",
   "metadata": {},
   "source": [
    "- Utilizando a função diretamente do `scikit-learn`:"
   ]
  },
  {
   "cell_type": "code",
   "execution_count": 40,
   "id": "34281c45",
   "metadata": {
    "ExecuteTime": {
     "end_time": "2022-06-03T22:29:28.748155Z",
     "start_time": "2022-06-03T22:29:28.736610Z"
    }
   },
   "outputs": [],
   "source": [
    "X, y = make_classification(\n",
    "    n_samples=1000,\n",
    "    n_features=10,\n",
    "    n_classes=2,\n",
    "    random_state=42)"
   ]
  },
  {
   "cell_type": "code",
   "execution_count": 41,
   "id": "e85ce0f6",
   "metadata": {
    "ExecuteTime": {
     "end_time": "2022-06-03T22:29:28.771031Z",
     "start_time": "2022-06-03T22:29:28.764857Z"
    }
   },
   "outputs": [],
   "source": [
    "# Split rule\n",
    "cv = RepeatedStratifiedKFold(\n",
    "    n_splits=10,\n",
    "    n_repeats=3,\n",
    "    random_state=42)"
   ]
  },
  {
   "cell_type": "code",
   "execution_count": 42,
   "id": "85bdb21a",
   "metadata": {
    "ExecuteTime": {
     "end_time": "2022-06-03T22:29:34.685270Z",
     "start_time": "2022-06-03T22:29:28.775520Z"
    }
   },
   "outputs": [],
   "source": [
    "clf = Perceptron()\n",
    "\n",
    "scores = cross_val_score(\n",
    "    clf, X, y, \n",
    "    scoring='accuracy', \n",
    "    cv=cv, n_jobs=-1)"
   ]
  },
  {
   "cell_type": "code",
   "execution_count": 43,
   "id": "c285b2ca",
   "metadata": {
    "ExecuteTime": {
     "end_time": "2022-06-03T22:29:34.701220Z",
     "start_time": "2022-06-03T22:29:34.690091Z"
    }
   },
   "outputs": [
    {
     "name": "stdout",
     "output_type": "stream",
     "text": [
      "Accuracy mean: 0.800\n",
      "SD mean: 0.071\n"
     ]
    }
   ],
   "source": [
    "print('Accuracy mean: %.3f' % scores.mean())\n",
    "print('SD mean: %.3f' % scores.std())"
   ]
  },
  {
   "cell_type": "markdown",
   "id": "63413495",
   "metadata": {},
   "source": [
    "Vamos criar um conjunto de dados genericos com 10 atributos e 2 classes. Com a função _Perceptron_ do `scikit-learn`, podemos fazer muito mais coisas nativas da própria biblioteca:"
   ]
  },
  {
   "cell_type": "code",
   "execution_count": 44,
   "id": "5dc6235f",
   "metadata": {
    "ExecuteTime": {
     "end_time": "2022-06-03T22:29:35.228688Z",
     "start_time": "2022-06-03T22:29:34.708612Z"
    }
   },
   "outputs": [],
   "source": [
    "X,y = make_classification(n_samples = 1000, # quantidade de dados\n",
    "                          n_features = 10, # quantidade de features\n",
    "                          n_classes = 2, # quantidade de classes\n",
    "                          random_state = 42) # semente aleatoria"
   ]
  },
  {
   "cell_type": "code",
   "execution_count": 45,
   "id": "25a483e9",
   "metadata": {
    "ExecuteTime": {
     "end_time": "2022-06-03T22:29:35.236493Z",
     "start_time": "2022-06-03T22:29:35.231086Z"
    }
   },
   "outputs": [],
   "source": [
    "# cria a regra dos splits\n",
    "cv = RepeatedStratifiedKFold(n_splits = 10,\n",
    "                             n_repeats = 3,\n",
    "                             random_state = 42)"
   ]
  },
  {
   "cell_type": "code",
   "execution_count": 46,
   "id": "dad02371",
   "metadata": {
    "ExecuteTime": {
     "end_time": "2022-06-03T22:29:35.330394Z",
     "start_time": "2022-06-03T22:29:35.244262Z"
    }
   },
   "outputs": [],
   "source": [
    "# instancia o modelo\n",
    "clf = Perceptron()\n",
    "# Calcula o cross_val_score\n",
    "scores = cross_val_score(clf,\n",
    "                         X,\n",
    "                         y,\n",
    "                         scoring = 'accuracy',\n",
    "                         cv = cv,\n",
    "                         n_jobs = -1)"
   ]
  },
  {
   "cell_type": "code",
   "execution_count": 47,
   "id": "c6701514",
   "metadata": {
    "ExecuteTime": {
     "end_time": "2022-06-03T22:29:35.339270Z",
     "start_time": "2022-06-03T22:29:35.333476Z"
    }
   },
   "outputs": [
    {
     "name": "stdout",
     "output_type": "stream",
     "text": [
      "Acurácia Média: 0.800\n",
      "Desvio Padrão Médio: 0.071\n"
     ]
    }
   ],
   "source": [
    "print('Acurácia Média: %.3f' % (np.mean(scores)))\n",
    "print('Desvio Padrão Médio: %.3f' % (np.std(scores)))"
   ]
  },
  {
   "cell_type": "markdown",
   "id": "37e7620e",
   "metadata": {},
   "source": [
    "## Exercícios"
   ]
  },
  {
   "cell_type": "markdown",
   "id": "69d7f7af",
   "metadata": {},
   "source": [
    "__1)__ Aplique o _Perceptron_ no _dataset_ `iris` e classifique utilizando a Rede Neural entre flores que são da espécie `virginica` e `versicolor`(mantenha só estas espécies no conjunto de dados). O modelo consegue determinar a região de separação? Para isso façam 3 testes:\n",
    "\n",
    "- utilizando apenas as variáveis `sepal_length` e `petal_length`;\n",
    "\n",
    "- utilizando apenas as variáveis `sepal_width` e `petal_width`;\n",
    "\n",
    "- Utilizando todas as variáveis disponíveis (__Obs.:__ Neste caso para tentar visualizar a região de separação será necessário realizar uma redução de dimensionalidade)."
   ]
  },
  {
   "cell_type": "code",
   "execution_count": 48,
   "id": "7c10485d",
   "metadata": {
    "ExecuteTime": {
     "end_time": "2022-06-03T22:29:35.527294Z",
     "start_time": "2022-06-03T22:29:35.342891Z"
    }
   },
   "outputs": [],
   "source": [
    "iris_subset = iris[iris['species'].isin(['virginica', 'versicolor'])]\n",
    "iris_noset = iris[iris['species']=='setosa']"
   ]
  },
  {
   "cell_type": "code",
   "execution_count": 55,
   "id": "d7f8d0b3",
   "metadata": {
    "ExecuteTime": {
     "end_time": "2022-06-03T22:33:38.793625Z",
     "start_time": "2022-06-03T22:33:38.786802Z"
    }
   },
   "outputs": [],
   "source": [
    "from sklearn.model_selection import train_test_split"
   ]
  },
  {
   "cell_type": "markdown",
   "id": "3e844e8b",
   "metadata": {},
   "source": [
    "### sepal_length and petal_length"
   ]
  },
  {
   "cell_type": "code",
   "execution_count": 103,
   "id": "7a9c9cd9",
   "metadata": {
    "ExecuteTime": {
     "end_time": "2022-06-03T22:40:26.165031Z",
     "start_time": "2022-06-03T22:40:26.153871Z"
    }
   },
   "outputs": [],
   "source": [
    "X = iris_subset[['sepal_length', 'petal_length']].values\n",
    "y = iris_subset['species'].map({'virginica':0, 'versicolor':1}).values\n",
    "\n",
    "X_train, X_test, y_train, y_test = train_test_split(X, y, test_size=0.2, random_state=42)"
   ]
  },
  {
   "cell_type": "code",
   "execution_count": 104,
   "id": "ff9c5dfc",
   "metadata": {
    "ExecuteTime": {
     "end_time": "2022-06-03T22:40:26.641165Z",
     "start_time": "2022-06-03T22:40:26.597135Z"
    }
   },
   "outputs": [],
   "source": [
    "model = PPN()\n",
    "model.fit(X_train, y_train)"
   ]
  },
  {
   "cell_type": "code",
   "execution_count": 105,
   "id": "37f94d2a",
   "metadata": {
    "ExecuteTime": {
     "end_time": "2022-06-03T22:40:27.457159Z",
     "start_time": "2022-06-03T22:40:27.124534Z"
    }
   },
   "outputs": [
    {
     "data": {
      "image/png": "[encoded data removed]",
      "text/plain": [
       "<Figure size 432x288 with 1 Axes>"
      ]
     },
     "metadata": {},
     "output_type": "display_data"
    }
   ],
   "source": [
    "plot_decision_regions(X_train,\n",
    "                      y_train,\n",
    "                      clf = model,\n",
    "                      legend = 2)\n",
    "plt.xlabel('Sepal Length')\n",
    "plt.ylabel('Petal Length')\n",
    "plt.title('Região de Separação - Perceptron')\n",
    "plt.legend()\n",
    "plt.show()"
   ]
  },
  {
   "cell_type": "markdown",
   "id": "709f6b4f",
   "metadata": {},
   "source": [
    "### sepal_width and petal_width"
   ]
  },
  {
   "cell_type": "code",
   "execution_count": 106,
   "id": "2b43d7f3",
   "metadata": {
    "ExecuteTime": {
     "end_time": "2022-06-03T22:40:39.396007Z",
     "start_time": "2022-06-03T22:40:39.379026Z"
    }
   },
   "outputs": [],
   "source": [
    "X = iris_subset[['sepal_width', 'petal_width']].values\n",
    "y = iris_subset['species'].map({'virginica':0, 'versicolor':1}).values\n",
    "#X_train, X_test, y_train, y_test = train_test_split(X, y, test_size=0.2)"
   ]
  },
  {
   "cell_type": "code",
   "execution_count": 107,
   "id": "2a32844c",
   "metadata": {
    "ExecuteTime": {
     "end_time": "2022-06-03T22:40:40.165990Z",
     "start_time": "2022-06-03T22:40:40.114958Z"
    }
   },
   "outputs": [],
   "source": [
    "model = PPN()\n",
    "model.fit(X, y)"
   ]
  },
  {
   "cell_type": "code",
   "execution_count": 108,
   "id": "b762b524",
   "metadata": {
    "ExecuteTime": {
     "end_time": "2022-06-03T22:40:41.106240Z",
     "start_time": "2022-06-03T22:40:40.830534Z"
    }
   },
   "outputs": [
    {
     "data": {
      "image/png": "[encoded data removed]",
      "text/plain": [
       "<Figure size 432x288 with 1 Axes>"
      ]
     },
     "metadata": {},
     "output_type": "display_data"
    }
   ],
   "source": [
    "plot_decision_regions(X,\n",
    "                      y,\n",
    "                      clf = model,\n",
    "                      legend = 2)\n",
    "plt.xlabel('Sepal Length')\n",
    "plt.ylabel('Petal Length')\n",
    "plt.title('Região de Separação - Perceptron')\n",
    "plt.legend()\n",
    "plt.show()"
   ]
  },
  {
   "cell_type": "markdown",
   "id": "caa5481d",
   "metadata": {},
   "source": [
    "### All features"
   ]
  },
  {
   "cell_type": "code",
   "execution_count": 110,
   "id": "8d46a4e8",
   "metadata": {
    "ExecuteTime": {
     "end_time": "2022-06-03T22:42:39.579737Z",
     "start_time": "2022-06-03T22:42:39.571856Z"
    }
   },
   "outputs": [],
   "source": [
    "X = iris_subset.drop('species', axis=1).values\n",
    "y = iris_subset['species'].map({'virginica':0, 'versicolor':1}).values"
   ]
  },
  {
   "cell_type": "code",
   "execution_count": 111,
   "id": "feb36cdc",
   "metadata": {
    "ExecuteTime": {
     "end_time": "2022-06-03T22:42:39.972220Z",
     "start_time": "2022-06-03T22:42:39.918658Z"
    }
   },
   "outputs": [],
   "source": [
    "model = PPN()\n",
    "model.fit(X, y)"
   ]
  },
  {
   "cell_type": "code",
   "execution_count": 113,
   "id": "663e5f58",
   "metadata": {
    "ExecuteTime": {
     "end_time": "2022-06-03T22:44:15.952277Z",
     "start_time": "2022-06-03T22:44:15.769678Z"
    }
   },
   "outputs": [],
   "source": [
    "from sklearn.decomposition import PCA\n",
    "\n",
    "pca = PCA(n_components = 2)\n",
    "X_transf = pca.fit_transform(X)\n",
    "model = PPN()\n",
    "model.fit(X_transf, y)"
   ]
  },
  {
   "cell_type": "code",
   "execution_count": 116,
   "id": "f181b454",
   "metadata": {
    "ExecuteTime": {
     "end_time": "2022-06-03T22:44:38.232239Z",
     "start_time": "2022-06-03T22:44:37.949551Z"
    }
   },
   "outputs": [
    {
     "data": {
      "image/png": "[encoded data removed]",
      "text/plain": [
       "<Figure size 432x288 with 1 Axes>"
      ]
     },
     "metadata": {},
     "output_type": "display_data"
    }
   ],
   "source": [
    "plot_decision_regions(X_transf, y, clf = model, legend = 2)\n",
    "plt.xlabel('Sepal Length')\n",
    "plt.ylabel('Petal Length')\n",
    "plt.title('Região de Separação - Perceptron')\n",
    "plt.legend()\n",
    "plt.show()"
   ]
  },
  {
   "cell_type": "code",
   "execution_count": null,
   "id": "55b8050b",
   "metadata": {},
   "outputs": [],
   "source": []
  }
 ],
 "metadata": {
  "kernelspec": {
   "display_name": "Python 3 (ipykernel)",
   "language": "python",
   "name": "python3"
  },
  "language_info": {
   "codemirror_mode": {
    "name": "ipython",
    "version": 3
   },
   "file_extension": ".py",
   "mimetype": "text/x-python",
   "name": "python",
   "nbconvert_exporter": "python",
   "pygments_lexer": "ipython3",
   "version": "3.9.12"
  },
  "toc": {
   "base_numbering": 1,
   "nav_menu": {},
   "number_sections": true,
   "sideBar": true,
   "skip_h1_title": false,
   "title_cell": "Table of Contents",
   "title_sidebar": "Contents",
   "toc_cell": false,
   "toc_position": {
    "height": "892.688px",
    "left": "1192.5px",
    "top": "108.312px",
    "width": "463.5px"
   },
   "toc_section_display": true,
   "toc_window_display": false
  }
 },
 "nbformat": 4,
 "nbformat_minor": 5
}
