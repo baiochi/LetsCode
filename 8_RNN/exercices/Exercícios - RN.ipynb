{
 "cells": [
  {
   "cell_type": "markdown",
   "id": "a4412aef",
   "metadata": {},
   "source": [
    "# Imports and Functions"
   ]
  },
  {
   "cell_type": "code",
   "execution_count": 360,
   "id": "74083e23",
   "metadata": {
    "ExecuteTime": {
     "end_time": "2022-06-05T02:15:42.088000Z",
     "start_time": "2022-06-05T02:15:42.075160Z"
    }
   },
   "outputs": [],
   "source": [
    "import numpy as np\n",
    "import pandas as pd\n",
    "import matplotlib.pyplot as plt\n",
    "import seaborn as sns; sns.set()\n",
    "import plotly.express as px\n",
    "import plotly.graph_objects as go\n",
    "from plotly.subplots import make_subplots\n",
    "from IPython.display import display"
   ]
  },
  {
   "cell_type": "markdown",
   "id": "1a854a1a",
   "metadata": {
    "heading_collapsed": true
   },
   "source": [
    "## Colors"
   ]
  },
  {
   "cell_type": "code",
   "execution_count": 333,
   "id": "f198af56",
   "metadata": {
    "ExecuteTime": {
     "end_time": "2022-06-05T02:04:10.413312Z",
     "start_time": "2022-06-05T02:04:10.405888Z"
    },
    "hidden": true
   },
   "outputs": [],
   "source": [
    "# Terminal ASCII colors\n",
    "WHITE = '\\033[39m'; CYAN  = '\\033[36m'; ORANGE = '\\033[93m';\n",
    "\n",
    "# Palettes\n",
    "URBAN_PALETTE_CONTINUOUS = {\n",
    "    'cyan'    : '#1696d2',\n",
    "    'gray'    : '#d2d2d2',\n",
    "    'black'   : '#000000',\n",
    "    'yellow'  : '#fdbf11',\n",
    "    'magenta' : '#ec008b',\n",
    "    'green'   : '#55b748',\n",
    "    'red'     : '#db2b27',\n",
    "}\n",
    "URBAN_PALETTE_CATEGORICAL = {\n",
    "    'cyan'    : '#1696d2',\n",
    "    'gray'    : '#d2d2d2',\n",
    "    'magenta' : '#ec008b',\n",
    "    'yellow'  : '#fdbf11',\n",
    "    'dark'    : '#332d2f',\n",
    "    'ocean'   : '#0a4c6a',\n",
    "}\n",
    "BLUE_SHADE = [\"#CFE8F3\",\"#A2D4EC\",\"#73BFE2\",\"#46ABDB\",\"#1696D2\",\"#12719E\",\"#0A4C6A\",\"#062635\"]\n",
    "YELLOW_SHADE = [\"#FFF2CF\",\"#FCE39E\",\"#FDD870\",\"#FCCB41\",\"#FDBF11\",\"#E88E2D\",\"#CA5800\",\"#843215\"]"
   ]
  },
  {
   "cell_type": "markdown",
   "id": "0b5542f8",
   "metadata": {},
   "source": [
    "## Classification Metrics"
   ]
  },
  {
   "cell_type": "markdown",
   "id": "2922cc87",
   "metadata": {
    "heading_collapsed": true
   },
   "source": [
    "### Precision-recall curve"
   ]
  },
  {
   "cell_type": "code",
   "execution_count": 331,
   "id": "256e6fe9",
   "metadata": {
    "ExecuteTime": {
     "end_time": "2022-06-05T02:02:51.734816Z",
     "start_time": "2022-06-05T02:02:51.726999Z"
    },
    "hidden": true
   },
   "outputs": [],
   "source": [
    "def plot_precision_recall_curve(y_train, y_proba_train, y_test, y_proba_test):\n",
    "    \n",
    "    # Get precisions, recalls and thresholds\n",
    "    train_precisions, train_recalls, train_thresholds = precision_recall_curve(y_train, y_proba_train)\n",
    "    test_precisions, test_recalls, test_thresholds = precision_recall_curve(y_test, y_proba_test)\n",
    "    # Create Precision-Recall curve figure\n",
    "    fig = go.Figure()\n",
    "    # Add Precision lines\n",
    "    fig.add_trace(go.Scatter(x=train_thresholds, y=train_precisions[:-1], name='Train Precision', line_color=YELLOW_SHADE[5]))\n",
    "    fig.add_trace(go.Scatter(x=test_thresholds, y=test_precisions[:-1], name='Test Precision', line_color=BLUE_SHADE[5]))\n",
    "    # Add Recall lines\n",
    "    fig.add_trace(go.Scatter(x=train_thresholds, y=train_recalls[:-1], name='Train Recall', line_color=YELLOW_SHADE[-1]) )\n",
    "    fig.add_trace(go.Scatter(x=test_thresholds, y=test_recalls[:-1], name='Test Recall', line_color=BLUE_SHADE[-1]) )\n",
    "    # Layout update\n",
    "    fig.update_layout(title_text='Precision-Recall curve', width=900, height=500)\n",
    "    \n",
    "    return fig"
   ]
  },
  {
   "cell_type": "markdown",
   "id": "9f200f29",
   "metadata": {
    "heading_collapsed": true
   },
   "source": [
    "### ROC_AUC curve"
   ]
  },
  {
   "cell_type": "code",
   "execution_count": 368,
   "id": "8c34961c",
   "metadata": {
    "ExecuteTime": {
     "end_time": "2022-06-05T02:19:33.142843Z",
     "start_time": "2022-06-05T02:19:33.133095Z"
    },
    "hidden": true
   },
   "outputs": [],
   "source": [
    "def plot_roc_auc_curve(y_train, y_proba_train, y_test, y_proba_test):\n",
    "    \n",
    "    train_fpr, train_tpr, _ = roc_curve(y_train, y_proba_train)\n",
    "    test_fpr, test_tpr, _ = roc_curve(y_test, y_proba_test)\n",
    "\n",
    "    fig = go.Figure()\n",
    "\n",
    "    fig.add_traces([\n",
    "        go.Scatter(\n",
    "            x=train_fpr, y=train_tpr, fill='tozeroy',\n",
    "            name=f'Train dataset AUC={auc(train_fpr, train_tpr):.3f}',\n",
    "            line=dict(width=2, color=URBAN_PALETTE_CATEGORICAL['yellow']), \n",
    "            stackgroup='one'\n",
    "        ),\n",
    "        go.Scatter(\n",
    "            x=test_fpr, y=test_tpr, fill='tozeroy',\n",
    "            name=f'Test dataset AUC={auc(test_fpr, test_tpr):.3f}',\n",
    "            line=dict(width=2, color=URBAN_PALETTE_CATEGORICAL['cyan']),\n",
    "            \n",
    "        )\n",
    "    ]).update_layout(\n",
    "        title_text='ROC AUC Curve',\n",
    "        xaxis_title='False Positive Rate',\n",
    "        yaxis_title='True Positive Rate',\n",
    "        width=700, height=500)\n",
    "\n",
    "    # Add curve line\n",
    "    fig.add_shape(\n",
    "        type='line', line=dict(dash='dash'),\n",
    "        x0=0, x1=1, y0=0, y1=1\n",
    "    )\n",
    "    # Layout update\n",
    "    fig.update_yaxes(scaleanchor='x', scaleratio=1)\n",
    "    fig.update_xaxes(constrain='domain')\n",
    "    \n",
    "    return fig"
   ]
  },
  {
   "cell_type": "markdown",
   "id": "a89b2225",
   "metadata": {
    "heading_collapsed": true
   },
   "source": [
    "### Confusion Matrix"
   ]
  },
  {
   "cell_type": "code",
   "execution_count": 362,
   "id": "eac08485",
   "metadata": {
    "ExecuteTime": {
     "end_time": "2022-06-05T02:16:51.317711Z",
     "start_time": "2022-06-05T02:16:51.307012Z"
    },
    "hidden": true
   },
   "outputs": [],
   "source": [
    "def plot_confusion_matrix(y_train, y_pred_train, y_test, y_pred_test, labels=None):\n",
    "    \n",
    "    if not labels:\n",
    "        labels = y_train.unique().tolist()\n",
    "    # Calculate confusion matrix\n",
    "    train_matrix = confusion_matrix(y_train, y_pred_train)\n",
    "    test_matrix = confusion_matrix(y_test, y_pred_test)\n",
    "    \n",
    "    # Create subplots\n",
    "    cf_matrix = make_subplots(rows=1, cols=2, shared_xaxes=True, horizontal_spacing=0.2,\n",
    "                       subplot_titles=('Train Dataset', 'Test Dataset'))\n",
    "    cf_matrix.add_trace(\n",
    "        # Plot Train CF Matrix\n",
    "        go.Heatmap(\n",
    "            z=train_matrix,\n",
    "            x=labels, y=labels,\n",
    "            text=train_matrix,\n",
    "            texttemplate=\"%{text}\", textfont={\"size\":14},\n",
    "            hovertemplate='Predicted Label: %{x}<br>True Label: %{y}<br>#: %{z}<extra></extra>',\n",
    "            colorscale=YELLOW_SHADE,\n",
    "            colorbar_x=0.4), \n",
    "            row=1, col=1\n",
    "    ).add_trace(\n",
    "        # Plot Test CF Matrix\n",
    "        go.Heatmap(\n",
    "            z=test_matrix,\n",
    "            x=labels, y=labels,\n",
    "            text=test_matrix,\n",
    "            texttemplate=\"%{text}\", textfont={\"size\":14},\n",
    "            hovertemplate='Predicted Label: %{x}<br>True Label: %{y}<br>#: %{z}<extra></extra>',\n",
    "            colorscale=BLUE_SHADE,\n",
    "            colorbar_x=1), \n",
    "            row=1, col=2\n",
    "    ).update_layout(width=900, height=500, title_text='Confusion Matrix')\n",
    "    \n",
    "    return cf_matrix"
   ]
  },
  {
   "cell_type": "markdown",
   "id": "732c8f2e",
   "metadata": {
    "heading_collapsed": true
   },
   "source": [
    "### Display classification report"
   ]
  },
  {
   "cell_type": "code",
   "execution_count": 357,
   "id": "23475cbc",
   "metadata": {
    "ExecuteTime": {
     "end_time": "2022-06-05T02:15:08.233172Z",
     "start_time": "2022-06-05T02:15:08.226337Z"
    },
    "hidden": true
   },
   "outputs": [],
   "source": [
    "def display_clasification_report(y_train, y_pred_train, y_test, y_pred_test):\n",
    "    train_report = pd.DataFrame(classification_report(y_train, y_pred_train, output_dict=True)).T\n",
    "    test_report =pd.DataFrame(classification_report(y_test, y_pred_test, output_dict=True)).T\n",
    "    report = pd.concat([train_report, test_report], axis=1, keys=['Train dataset', 'Test dataset']).apply(round, ndigits=3)\n",
    "    return report"
   ]
  },
  {
   "cell_type": "markdown",
   "id": "b813efb3",
   "metadata": {},
   "source": [
    "### Metrics all in one"
   ]
  },
  {
   "cell_type": "code",
   "execution_count": 385,
   "id": "a26c5a48",
   "metadata": {
    "ExecuteTime": {
     "end_time": "2022-06-05T03:32:20.829167Z",
     "start_time": "2022-06-05T03:32:20.819727Z"
    }
   },
   "outputs": [],
   "source": [
    "def metrics_report(y_train, y_test, y_pred_train, y_pred_test, y_proba_train=None, y_proba_test=None, plot_roc=True, plot_pr=True): \n",
    "    display(display_clasification_report(y_train, y_pred_train, y_test, y_pred_test))\n",
    "    plot_confusion_matrix(y_train, y_pred_train, y_test, y_pred_test, labels=['dead', 'survived']).show()\n",
    "    if plot_roc:\n",
    "        plot_roc_auc_curve(y_train, y_proba_train[:,1], y_test, y_proba_test[:,1]).show()\n",
    "    if plot_pr:\n",
    "        plot_precision_recall_curve(y_train, y_proba_train[:,1], y_test, y_proba_test[:,1]).show()"
   ]
  },
  {
   "cell_type": "markdown",
   "id": "ccd63212",
   "metadata": {},
   "source": [
    "# Exercícios"
   ]
  },
  {
   "cell_type": "markdown",
   "id": "15605527",
   "metadata": {},
   "source": [
    "## Utilizando o dataset do `titanic`, faça os itens a seguir:"
   ]
  },
  {
   "cell_type": "markdown",
   "id": "bf88f71f",
   "metadata": {
    "heading_collapsed": true
   },
   "source": [
    "### __A)__  Prepare os dados para ser treinados nos modelos;"
   ]
  },
  {
   "cell_type": "code",
   "execution_count": 57,
   "id": "fe70debf",
   "metadata": {
    "ExecuteTime": {
     "end_time": "2022-06-04T00:34:52.675650Z",
     "start_time": "2022-06-04T00:34:52.629109Z"
    },
    "hidden": true,
    "scrolled": true
   },
   "outputs": [
    {
     "data": {
      "text/html": [
       "<div>\n",
       "<style scoped>\n",
       "    .dataframe tbody tr th:only-of-type {\n",
       "        vertical-align: middle;\n",
       "    }\n",
       "\n",
       "    .dataframe tbody tr th {\n",
       "        vertical-align: top;\n",
       "    }\n",
       "\n",
       "    .dataframe thead th {\n",
       "        text-align: right;\n",
       "    }\n",
       "</style>\n",
       "<table border=\"1\" class=\"dataframe\">\n",
       "  <thead>\n",
       "    <tr style=\"text-align: right;\">\n",
       "      <th></th>\n",
       "      <th>survived</th>\n",
       "      <th>sex</th>\n",
       "      <th>age</th>\n",
       "      <th>sibsp</th>\n",
       "      <th>parch</th>\n",
       "      <th>fare</th>\n",
       "      <th>embarked</th>\n",
       "      <th>class</th>\n",
       "      <th>who</th>\n",
       "      <th>adult_male</th>\n",
       "      <th>embark_town</th>\n",
       "      <th>alone</th>\n",
       "    </tr>\n",
       "  </thead>\n",
       "  <tbody>\n",
       "    <tr>\n",
       "      <th>0</th>\n",
       "      <td>0</td>\n",
       "      <td>male</td>\n",
       "      <td>22.0</td>\n",
       "      <td>1</td>\n",
       "      <td>0</td>\n",
       "      <td>7.2500</td>\n",
       "      <td>S</td>\n",
       "      <td>Third</td>\n",
       "      <td>man</td>\n",
       "      <td>True</td>\n",
       "      <td>Southampton</td>\n",
       "      <td>False</td>\n",
       "    </tr>\n",
       "    <tr>\n",
       "      <th>1</th>\n",
       "      <td>1</td>\n",
       "      <td>female</td>\n",
       "      <td>38.0</td>\n",
       "      <td>1</td>\n",
       "      <td>0</td>\n",
       "      <td>71.2833</td>\n",
       "      <td>C</td>\n",
       "      <td>First</td>\n",
       "      <td>woman</td>\n",
       "      <td>False</td>\n",
       "      <td>Cherbourg</td>\n",
       "      <td>False</td>\n",
       "    </tr>\n",
       "    <tr>\n",
       "      <th>2</th>\n",
       "      <td>1</td>\n",
       "      <td>female</td>\n",
       "      <td>26.0</td>\n",
       "      <td>0</td>\n",
       "      <td>0</td>\n",
       "      <td>7.9250</td>\n",
       "      <td>S</td>\n",
       "      <td>Third</td>\n",
       "      <td>woman</td>\n",
       "      <td>False</td>\n",
       "      <td>Southampton</td>\n",
       "      <td>True</td>\n",
       "    </tr>\n",
       "    <tr>\n",
       "      <th>3</th>\n",
       "      <td>1</td>\n",
       "      <td>female</td>\n",
       "      <td>35.0</td>\n",
       "      <td>1</td>\n",
       "      <td>0</td>\n",
       "      <td>53.1000</td>\n",
       "      <td>S</td>\n",
       "      <td>First</td>\n",
       "      <td>woman</td>\n",
       "      <td>False</td>\n",
       "      <td>Southampton</td>\n",
       "      <td>False</td>\n",
       "    </tr>\n",
       "    <tr>\n",
       "      <th>4</th>\n",
       "      <td>0</td>\n",
       "      <td>male</td>\n",
       "      <td>35.0</td>\n",
       "      <td>0</td>\n",
       "      <td>0</td>\n",
       "      <td>8.0500</td>\n",
       "      <td>S</td>\n",
       "      <td>Third</td>\n",
       "      <td>man</td>\n",
       "      <td>True</td>\n",
       "      <td>Southampton</td>\n",
       "      <td>True</td>\n",
       "    </tr>\n",
       "  </tbody>\n",
       "</table>\n",
       "</div>"
      ],
      "text/plain": [
       "   survived     sex   age  sibsp  parch     fare embarked  class    who  \\\n",
       "0         0    male  22.0      1      0   7.2500        S  Third    man   \n",
       "1         1  female  38.0      1      0  71.2833        C  First  woman   \n",
       "2         1  female  26.0      0      0   7.9250        S  Third  woman   \n",
       "3         1  female  35.0      1      0  53.1000        S  First  woman   \n",
       "4         0    male  35.0      0      0   8.0500        S  Third    man   \n",
       "\n",
       "   adult_male  embark_town  alone  \n",
       "0        True  Southampton  False  \n",
       "1       False    Cherbourg  False  \n",
       "2       False  Southampton   True  \n",
       "3       False  Southampton  False  \n",
       "4        True  Southampton   True  "
      ]
     },
     "execution_count": 57,
     "metadata": {},
     "output_type": "execute_result"
    }
   ],
   "source": [
    "df = sns.load_dataset('titanic')\n",
    "df.drop(['alive', 'deck', 'pclass'], axis=1, inplace=True)\n",
    "df.head()"
   ]
  },
  {
   "cell_type": "code",
   "execution_count": 58,
   "id": "fd250d06",
   "metadata": {
    "ExecuteTime": {
     "end_time": "2022-06-04T00:34:53.001126Z",
     "start_time": "2022-06-04T00:34:52.983852Z"
    },
    "hidden": true,
    "scrolled": true
   },
   "outputs": [
    {
     "name": "stdout",
     "output_type": "stream",
     "text": [
      "<class 'pandas.core.frame.DataFrame'>\n",
      "RangeIndex: 891 entries, 0 to 890\n",
      "Data columns (total 12 columns):\n",
      " #   Column       Non-Null Count  Dtype   \n",
      "---  ------       --------------  -----   \n",
      " 0   survived     891 non-null    int64   \n",
      " 1   sex          891 non-null    object  \n",
      " 2   age          714 non-null    float64 \n",
      " 3   sibsp        891 non-null    int64   \n",
      " 4   parch        891 non-null    int64   \n",
      " 5   fare         891 non-null    float64 \n",
      " 6   embarked     889 non-null    object  \n",
      " 7   class        891 non-null    category\n",
      " 8   who          891 non-null    object  \n",
      " 9   adult_male   891 non-null    bool    \n",
      " 10  embark_town  889 non-null    object  \n",
      " 11  alone        891 non-null    bool    \n",
      "dtypes: bool(2), category(1), float64(2), int64(3), object(4)\n",
      "memory usage: 65.5+ KB\n"
     ]
    }
   ],
   "source": [
    "df.info()"
   ]
  },
  {
   "cell_type": "code",
   "execution_count": 88,
   "id": "77641f24",
   "metadata": {
    "ExecuteTime": {
     "end_time": "2022-06-04T00:51:35.140391Z",
     "start_time": "2022-06-04T00:51:35.124372Z"
    },
    "hidden": true
   },
   "outputs": [
    {
     "data": {
      "text/plain": [
       "Index(['age', 'sibsp', 'parch', 'fare'], dtype='object')"
      ]
     },
     "execution_count": 88,
     "metadata": {},
     "output_type": "execute_result"
    }
   ],
   "source": [
    "numeric_features = df.drop('survived', axis=1).select_dtypes(include=np.number).columns\n",
    "numeric_features"
   ]
  },
  {
   "cell_type": "code",
   "execution_count": 69,
   "id": "d83d67f2",
   "metadata": {
    "ExecuteTime": {
     "end_time": "2022-06-04T00:36:20.839574Z",
     "start_time": "2022-06-04T00:36:20.829916Z"
    },
    "hidden": true
   },
   "outputs": [
    {
     "data": {
      "text/plain": [
       "Index(['class'], dtype='object')"
      ]
     },
     "execution_count": 69,
     "metadata": {},
     "output_type": "execute_result"
    }
   ],
   "source": [
    "ordinal_features = df.select_dtypes(include='category').columns\n",
    "ordinal_features"
   ]
  },
  {
   "cell_type": "code",
   "execution_count": 70,
   "id": "c9047cc5",
   "metadata": {
    "ExecuteTime": {
     "end_time": "2022-06-04T00:36:21.413418Z",
     "start_time": "2022-06-04T00:36:21.401770Z"
    },
    "hidden": true
   },
   "outputs": [
    {
     "data": {
      "text/plain": [
       "Index(['sex', 'embarked', 'who', 'embark_town'], dtype='object')"
      ]
     },
     "execution_count": 70,
     "metadata": {},
     "output_type": "execute_result"
    }
   ],
   "source": [
    "categorical_features = df.select_dtypes(include='object').columns\n",
    "categorical_features"
   ]
  },
  {
   "cell_type": "code",
   "execution_count": null,
   "id": "43b889fd",
   "metadata": {
    "hidden": true
   },
   "outputs": [],
   "source": [
    "# Split data\n",
    "from sklearn.model_selection import train_test_split\n",
    "X = df.drop('survived', axis=1) \n",
    "y = df['survived']\n",
    "X_train, X_test, y_train, y_test = train_test_split(X, y, test_size=0.2, random_state=42)"
   ]
  },
  {
   "cell_type": "code",
   "execution_count": null,
   "id": "fec495ef",
   "metadata": {
    "hidden": true
   },
   "outputs": [],
   "source": [
    "# Preprocessing steps\n",
    "from sklearn.preprocessing import StandardScaler, OneHotEncoder, OrdinalEncoder\n",
    "from sklearn.impute import SimpleImputer\n",
    "from sklearn.compose import ColumnTransformer\n",
    "from sklearn.pipeline import Pipeline\n",
    "\n",
    "numeric_features_pipeline = Pipeline([\n",
    "    ('impute_num', SimpleImputer(strategy='mean')),\n",
    "    ('std', StandardScaler())\n",
    "])\n",
    "\n",
    "categorical_features_pipeline = Pipeline([\n",
    "    ('cat_imputer', SimpleImputer(strategy='constant', fill_value='unknow')),\n",
    "    ('onehot', OneHotEncoder())\n",
    "])\n",
    "\n",
    "ordinal_features_pipeline = Pipeline([\n",
    "    ('ord_imputer', SimpleImputer(strategy='constant', fill_value='unknow')),\n",
    "    ('ord_enc', OrdinalEncoder())\n",
    "])\n",
    "\n",
    "ct_pipeline = ColumnTransformer([\n",
    "    ('numeric_transformer', numeric_features_pipeline, numeric_features),\n",
    "    ('categorical_transformer', categorical_features_pipeline, categorical_features),\n",
    "    ('ordinal_transformer', ordinal_features_pipeline , ordinal_features),\n",
    "])"
   ]
  },
  {
   "cell_type": "markdown",
   "id": "69c16bbb",
   "metadata": {
    "heading_collapsed": true
   },
   "source": [
    "### __B)__ Utilizando o modelo _Random Forest_, faça a predição dos sobreviventes seperando a base de treino e teste na proporção 80%/20%."
   ]
  },
  {
   "cell_type": "code",
   "execution_count": 377,
   "id": "428273d8",
   "metadata": {
    "ExecuteTime": {
     "end_time": "2022-06-05T03:29:07.193605Z",
     "start_time": "2022-06-05T03:29:06.985328Z"
    },
    "hidden": true
   },
   "outputs": [],
   "source": [
    "from sklearn.ensemble import RandomForestClassifier\n",
    "\n",
    "# Build RandomForest pipeline and fit model\n",
    "rf_pipeline = Pipeline([\n",
    "    ('preprocess', ct_pipeline),\n",
    "    ('rf', RandomForestClassifier(random_state=42))\n",
    "]).fit(X_train, y_train)"
   ]
  },
  {
   "cell_type": "code",
   "execution_count": 378,
   "id": "85c608e4",
   "metadata": {
    "ExecuteTime": {
     "end_time": "2022-06-05T03:29:08.707568Z",
     "start_time": "2022-06-05T03:29:08.585944Z"
    },
    "hidden": true
   },
   "outputs": [],
   "source": [
    "# Make predictions\n",
    "y_pred_train, y_pred_test = rf_pipeline.predict(X_train), rf_pipeline.predict(X_test)\n",
    "y_proba_train, y_proba_test = rf_pipeline.predict_proba(X_train), rf_pipeline.predict_proba(X_test)"
   ]
  },
  {
   "cell_type": "code",
   "execution_count": 379,
   "id": "1c92e03e",
   "metadata": {
    "ExecuteTime": {
     "end_time": "2022-06-05T03:29:10.432825Z",
     "start_time": "2022-06-05T03:29:10.307828Z"
    },
    "hidden": true,
    "scrolled": false
   },
   "outputs": [
    {
     "data": {
      "text/html": [
       "<div>\n",
       "<style scoped>\n",
       "    .dataframe tbody tr th:only-of-type {\n",
       "        vertical-align: middle;\n",
       "    }\n",
       "\n",
       "    .dataframe tbody tr th {\n",
       "        vertical-align: top;\n",
       "    }\n",
       "\n",
       "    .dataframe thead tr th {\n",
       "        text-align: left;\n",
       "    }\n",
       "</style>\n",
       "<table border=\"1\" class=\"dataframe\">\n",
       "  <thead>\n",
       "    <tr>\n",
       "      <th></th>\n",
       "      <th colspan=\"4\" halign=\"left\">Train dataset</th>\n",
       "      <th colspan=\"4\" halign=\"left\">Test dataset</th>\n",
       "    </tr>\n",
       "    <tr>\n",
       "      <th></th>\n",
       "      <th>precision</th>\n",
       "      <th>recall</th>\n",
       "      <th>f1-score</th>\n",
       "      <th>support</th>\n",
       "      <th>precision</th>\n",
       "      <th>recall</th>\n",
       "      <th>f1-score</th>\n",
       "      <th>support</th>\n",
       "    </tr>\n",
       "  </thead>\n",
       "  <tbody>\n",
       "    <tr>\n",
       "      <th>0</th>\n",
       "      <td>0.976</td>\n",
       "      <td>0.993</td>\n",
       "      <td>0.984</td>\n",
       "      <td>444.00</td>\n",
       "      <td>0.841</td>\n",
       "      <td>0.857</td>\n",
       "      <td>0.849</td>\n",
       "      <td>105.000</td>\n",
       "    </tr>\n",
       "    <tr>\n",
       "      <th>1</th>\n",
       "      <td>0.988</td>\n",
       "      <td>0.959</td>\n",
       "      <td>0.973</td>\n",
       "      <td>268.00</td>\n",
       "      <td>0.792</td>\n",
       "      <td>0.770</td>\n",
       "      <td>0.781</td>\n",
       "      <td>74.000</td>\n",
       "    </tr>\n",
       "    <tr>\n",
       "      <th>accuracy</th>\n",
       "      <td>0.980</td>\n",
       "      <td>0.980</td>\n",
       "      <td>0.980</td>\n",
       "      <td>0.98</td>\n",
       "      <td>0.821</td>\n",
       "      <td>0.821</td>\n",
       "      <td>0.821</td>\n",
       "      <td>0.821</td>\n",
       "    </tr>\n",
       "    <tr>\n",
       "      <th>macro avg</th>\n",
       "      <td>0.982</td>\n",
       "      <td>0.976</td>\n",
       "      <td>0.979</td>\n",
       "      <td>712.00</td>\n",
       "      <td>0.816</td>\n",
       "      <td>0.814</td>\n",
       "      <td>0.815</td>\n",
       "      <td>179.000</td>\n",
       "    </tr>\n",
       "    <tr>\n",
       "      <th>weighted avg</th>\n",
       "      <td>0.980</td>\n",
       "      <td>0.980</td>\n",
       "      <td>0.980</td>\n",
       "      <td>712.00</td>\n",
       "      <td>0.821</td>\n",
       "      <td>0.821</td>\n",
       "      <td>0.821</td>\n",
       "      <td>179.000</td>\n",
       "    </tr>\n",
       "  </tbody>\n",
       "</table>\n",
       "</div>"
      ],
      "text/plain": [
       "             Train dataset                         Test dataset         \\\n",
       "                 precision recall f1-score support    precision recall   \n",
       "0                    0.976  0.993    0.984  444.00        0.841  0.857   \n",
       "1                    0.988  0.959    0.973  268.00        0.792  0.770   \n",
       "accuracy             0.980  0.980    0.980    0.98        0.821  0.821   \n",
       "macro avg            0.982  0.976    0.979  712.00        0.816  0.814   \n",
       "weighted avg         0.980  0.980    0.980  712.00        0.821  0.821   \n",
       "\n",
       "                                \n",
       "             f1-score  support  \n",
       "0               0.849  105.000  \n",
       "1               0.781   74.000  \n",
       "accuracy        0.821    0.821  \n",
       "macro avg       0.815  179.000  \n",
       "weighted avg    0.821  179.000  "
      ]
     },
     "metadata": {},
     "output_type": "display_data"
    },
    {
     "data": {
      "application/vnd.plotly.v1+json": {
       "config": {
        "plotlyServerURL": "https://plot.ly"
       },
       "data": [
        {
         "colorbar": {
          "x": 0.4
         },
         "colorscale": [
          [
           0,
           "#FFF2CF"
          ],
          [
           0.14285714285714285,
           "#FCE39E"
          ],
          [
           0.2857142857142857,
           "#FDD870"
          ],
          [
           0.42857142857142855,
           "#FCCB41"
          ],
          [
           0.5714285714285714,
           "#FDBF11"
          ],
          [
           0.7142857142857143,
           "#E88E2D"
          ],
          [
           0.8571428571428571,
           "#CA5800"
          ],
          [
           1,
           "#843215"
          ]
         ],
         "hovertemplate": "Predicted Label: %{x}<br>True Label: %{y}<br>#: %{z}<extra></extra>",
         "text": [
          [
           441,
           3
          ],
          [
           11,
           257
          ]
         ],
         "textfont": {
          "size": 14
         },
         "texttemplate": "%{text}",
         "type": "heatmap",
         "x": [
          "dead",
          "survived"
         ],
         "xaxis": "x",
         "y": [
          "dead",
          "survived"
         ],
         "yaxis": "y",
         "z": [
          [
           441,
           3
          ],
          [
           11,
           257
          ]
         ]
        },
        {
         "colorbar": {
          "x": 1
         },
         "colorscale": [
          [
           0,
           "#CFE8F3"
          ],
          [
           0.14285714285714285,
           "#A2D4EC"
          ],
          [
           0.2857142857142857,
           "#73BFE2"
          ],
          [
           0.42857142857142855,
           "#46ABDB"
          ],
          [
           0.5714285714285714,
           "#1696D2"
          ],
          [
           0.7142857142857143,
           "#12719E"
          ],
          [
           0.8571428571428571,
           "#0A4C6A"
          ],
          [
           1,
           "#062635"
          ]
         ],
         "hovertemplate": "Predicted Label: %{x}<br>True Label: %{y}<br>#: %{z}<extra></extra>",
         "text": [
          [
           90,
           15
          ],
          [
           17,
           57
          ]
         ],
         "textfont": {
          "size": 14
         },
         "texttemplate": "%{text}",
         "type": "heatmap",
         "x": [
          "dead",
          "survived"
         ],
         "xaxis": "x2",
         "y": [
          "dead",
          "survived"
         ],
         "yaxis": "y2",
         "z": [
          [
           90,
           15
          ],
          [
           17,
           57
          ]
         ]
        }
       ],
       "layout": {
        "annotations": [
         {
          "font": {
           "size": 16
          },
          "showarrow": false,
          "text": "Train Dataset",
          "x": 0.2,
          "xanchor": "center",
          "xref": "paper",
          "y": 1,
          "yanchor": "bottom",
          "yref": "paper"
         },
         {
          "font": {
           "size": 16
          },
          "showarrow": false,
          "text": "Test Dataset",
          "x": 0.8,
          "xanchor": "center",
          "xref": "paper",
          "y": 1,
          "yanchor": "bottom",
          "yref": "paper"
         }
        ],
        "height": 500,
        "template": {
         "data": {
          "bar": [
           {
            "error_x": {
             "color": "#2a3f5f"
            },
            "error_y": {
             "color": "#2a3f5f"
            },
            "marker": {
             "line": {
              "color": "#E5ECF6",
              "width": 0.5
             },
             "pattern": {
              "fillmode": "overlay",
              "size": 10,
              "solidity": 0.2
             }
            },
            "type": "bar"
           }
          ],
          "barpolar": [
           {
            "marker": {
             "line": {
              "color": "#E5ECF6",
              "width": 0.5
             },
             "pattern": {
              "fillmode": "overlay",
              "size": 10,
              "solidity": 0.2
             }
            },
            "type": "barpolar"
           }
          ],
          "carpet": [
           {
            "aaxis": {
             "endlinecolor": "#2a3f5f",
             "gridcolor": "white",
             "linecolor": "white",
             "minorgridcolor": "white",
             "startlinecolor": "#2a3f5f"
            },
            "baxis": {
             "endlinecolor": "#2a3f5f",
             "gridcolor": "white",
             "linecolor": "white",
             "minorgridcolor": "white",
             "startlinecolor": "#2a3f5f"
            },
            "type": "carpet"
           }
          ],
          "choropleth": [
           {
            "colorbar": {
             "outlinewidth": 0,
             "ticks": ""
            },
            "type": "choropleth"
           }
          ],
          "contour": [
           {
            "colorbar": {
             "outlinewidth": 0,
             "ticks": ""
            },
            "colorscale": [
             [
              0,
              "#0d0887"
             ],
             [
              0.1111111111111111,
              "#46039f"
             ],
             [
              0.2222222222222222,
              "#7201a8"
             ],
             [
              0.3333333333333333,
              "#9c179e"
             ],
             [
              0.4444444444444444,
              "#bd3786"
             ],
             [
              0.5555555555555556,
              "#d8576b"
             ],
             [
              0.6666666666666666,
              "#ed7953"
             ],
             [
              0.7777777777777778,
              "#fb9f3a"
             ],
             [
              0.8888888888888888,
              "#fdca26"
             ],
             [
              1,
              "#f0f921"
             ]
            ],
            "type": "contour"
           }
          ],
          "contourcarpet": [
           {
            "colorbar": {
             "outlinewidth": 0,
             "ticks": ""
            },
            "type": "contourcarpet"
           }
          ],
          "heatmap": [
           {
            "colorbar": {
             "outlinewidth": 0,
             "ticks": ""
            },
            "colorscale": [
             [
              0,
              "#0d0887"
             ],
             [
              0.1111111111111111,
              "#46039f"
             ],
             [
              0.2222222222222222,
              "#7201a8"
             ],
             [
              0.3333333333333333,
              "#9c179e"
             ],
             [
              0.4444444444444444,
              "#bd3786"
             ],
             [
              0.5555555555555556,
              "#d8576b"
             ],
             [
              0.6666666666666666,
              "#ed7953"
             ],
             [
              0.7777777777777778,
              "#fb9f3a"
             ],
             [
              0.8888888888888888,
              "#fdca26"
             ],
             [
              1,
              "#f0f921"
             ]
            ],
            "type": "heatmap"
           }
          ],
          "heatmapgl": [
           {
            "colorbar": {
             "outlinewidth": 0,
             "ticks": ""
            },
            "colorscale": [
             [
              0,
              "#0d0887"
             ],
             [
              0.1111111111111111,
              "#46039f"
             ],
             [
              0.2222222222222222,
              "#7201a8"
             ],
             [
              0.3333333333333333,
              "#9c179e"
             ],
             [
              0.4444444444444444,
              "#bd3786"
             ],
             [
              0.5555555555555556,
              "#d8576b"
             ],
             [
              0.6666666666666666,
              "#ed7953"
             ],
             [
              0.7777777777777778,
              "#fb9f3a"
             ],
             [
              0.8888888888888888,
              "#fdca26"
             ],
             [
              1,
              "#f0f921"
             ]
            ],
            "type": "heatmapgl"
           }
          ],
          "histogram": [
           {
            "marker": {
             "pattern": {
              "fillmode": "overlay",
              "size": 10,
              "solidity": 0.2
             }
            },
            "type": "histogram"
           }
          ],
          "histogram2d": [
           {
            "colorbar": {
             "outlinewidth": 0,
             "ticks": ""
            },
            "colorscale": [
             [
              0,
              "#0d0887"
             ],
             [
              0.1111111111111111,
              "#46039f"
             ],
             [
              0.2222222222222222,
              "#7201a8"
             ],
             [
              0.3333333333333333,
              "#9c179e"
             ],
             [
              0.4444444444444444,
              "#bd3786"
             ],
             [
              0.5555555555555556,
              "#d8576b"
             ],
             [
              0.6666666666666666,
              "#ed7953"
             ],
             [
              0.7777777777777778,
              "#fb9f3a"
             ],
             [
              0.8888888888888888,
              "#fdca26"
             ],
             [
              1,
              "#f0f921"
             ]
            ],
            "type": "histogram2d"
           }
          ],
          "histogram2dcontour": [
           {
            "colorbar": {
             "outlinewidth": 0,
             "ticks": ""
            },
            "colorscale": [
             [
              0,
              "#0d0887"
             ],
             [
              0.1111111111111111,
              "#46039f"
             ],
             [
              0.2222222222222222,
              "#7201a8"
             ],
             [
              0.3333333333333333,
              "#9c179e"
             ],
             [
              0.4444444444444444,
              "#bd3786"
             ],
             [
              0.5555555555555556,
              "#d8576b"
             ],
             [
              0.6666666666666666,
              "#ed7953"
             ],
             [
              0.7777777777777778,
              "#fb9f3a"
             ],
             [
              0.8888888888888888,
              "#fdca26"
             ],
             [
              1,
              "#f0f921"
             ]
            ],
            "type": "histogram2dcontour"
           }
          ],
          "mesh3d": [
           {
            "colorbar": {
             "outlinewidth": 0,
             "ticks": ""
            },
            "type": "mesh3d"
           }
          ],
          "parcoords": [
           {
            "line": {
             "colorbar": {
              "outlinewidth": 0,
              "ticks": ""
             }
            },
            "type": "parcoords"
           }
          ],
          "pie": [
           {
            "automargin": true,
            "type": "pie"
           }
          ],
          "scatter": [
           {
            "marker": {
             "colorbar": {
              "outlinewidth": 0,
              "ticks": ""
             }
            },
            "type": "scatter"
           }
          ],
          "scatter3d": [
           {
            "line": {
             "colorbar": {
              "outlinewidth": 0,
              "ticks": ""
             }
            },
            "marker": {
             "colorbar": {
              "outlinewidth": 0,
              "ticks": ""
             }
            },
            "type": "scatter3d"
           }
          ],
          "scattercarpet": [
           {
            "marker": {
             "colorbar": {
              "outlinewidth": 0,
              "ticks": ""
             }
            },
            "type": "scattercarpet"
           }
          ],
          "scattergeo": [
           {
            "marker": {
             "colorbar": {
              "outlinewidth": 0,
              "ticks": ""
             }
            },
            "type": "scattergeo"
           }
          ],
          "scattergl": [
           {
            "marker": {
             "colorbar": {
              "outlinewidth": 0,
              "ticks": ""
             }
            },
            "type": "scattergl"
           }
          ],
          "scattermapbox": [
           {
            "marker": {
             "colorbar": {
              "outlinewidth": 0,
              "ticks": ""
             }
            },
            "type": "scattermapbox"
           }
          ],
          "scatterpolar": [
           {
            "marker": {
             "colorbar": {
              "outlinewidth": 0,
              "ticks": ""
             }
            },
            "type": "scatterpolar"
           }
          ],
          "scatterpolargl": [
           {
            "marker": {
             "colorbar": {
              "outlinewidth": 0,
              "ticks": ""
             }
            },
            "type": "scatterpolargl"
           }
          ],
          "scatterternary": [
           {
            "marker": {
             "colorbar": {
              "outlinewidth": 0,
              "ticks": ""
             }
            },
            "type": "scatterternary"
           }
          ],
          "surface": [
           {
            "colorbar": {
             "outlinewidth": 0,
             "ticks": ""
            },
            "colorscale": [
             [
              0,
              "#0d0887"
             ],
             [
              0.1111111111111111,
              "#46039f"
             ],
             [
              0.2222222222222222,
              "#7201a8"
             ],
             [
              0.3333333333333333,
              "#9c179e"
             ],
             [
              0.4444444444444444,
              "#bd3786"
             ],
             [
              0.5555555555555556,
              "#d8576b"
             ],
             [
              0.6666666666666666,
              "#ed7953"
             ],
             [
              0.7777777777777778,
              "#fb9f3a"
             ],
             [
              0.8888888888888888,
              "#fdca26"
             ],
             [
              1,
              "#f0f921"
             ]
            ],
            "type": "surface"
           }
          ],
          "table": [
           {
            "cells": {
             "fill": {
              "color": "#EBF0F8"
             },
             "line": {
              "color": "white"
             }
            },
            "header": {
             "fill": {
              "color": "#C8D4E3"
             },
             "line": {
              "color": "white"
             }
            },
            "type": "table"
           }
          ]
         },
         "layout": {
          "annotationdefaults": {
           "arrowcolor": "#2a3f5f",
           "arrowhead": 0,
           "arrowwidth": 1
          },
          "autotypenumbers": "strict",
          "coloraxis": {
           "colorbar": {
            "outlinewidth": 0,
            "ticks": ""
           }
          },
          "colorscale": {
           "diverging": [
            [
             0,
             "#8e0152"
            ],
            [
             0.1,
             "#c51b7d"
            ],
            [
             0.2,
             "#de77ae"
            ],
            [
             0.3,
             "#f1b6da"
            ],
            [
             0.4,
             "#fde0ef"
            ],
            [
             0.5,
             "#f7f7f7"
            ],
            [
             0.6,
             "#e6f5d0"
            ],
            [
             0.7,
             "#b8e186"
            ],
            [
             0.8,
             "#7fbc41"
            ],
            [
             0.9,
             "#4d9221"
            ],
            [
             1,
             "#276419"
            ]
           ],
           "sequential": [
            [
             0,
             "#0d0887"
            ],
            [
             0.1111111111111111,
             "#46039f"
            ],
            [
             0.2222222222222222,
             "#7201a8"
            ],
            [
             0.3333333333333333,
             "#9c179e"
            ],
            [
             0.4444444444444444,
             "#bd3786"
            ],
            [
             0.5555555555555556,
             "#d8576b"
            ],
            [
             0.6666666666666666,
             "#ed7953"
            ],
            [
             0.7777777777777778,
             "#fb9f3a"
            ],
            [
             0.8888888888888888,
             "#fdca26"
            ],
            [
             1,
             "#f0f921"
            ]
           ],
           "sequentialminus": [
            [
             0,
             "#0d0887"
            ],
            [
             0.1111111111111111,
             "#46039f"
            ],
            [
             0.2222222222222222,
             "#7201a8"
            ],
            [
             0.3333333333333333,
             "#9c179e"
            ],
            [
             0.4444444444444444,
             "#bd3786"
            ],
            [
             0.5555555555555556,
             "#d8576b"
            ],
            [
             0.6666666666666666,
             "#ed7953"
            ],
            [
             0.7777777777777778,
             "#fb9f3a"
            ],
            [
             0.8888888888888888,
             "#fdca26"
            ],
            [
             1,
             "#f0f921"
            ]
           ]
          },
          "colorway": [
           "#636efa",
           "#EF553B",
           "#00cc96",
           "#ab63fa",
           "#FFA15A",
           "#19d3f3",
           "#FF6692",
           "#B6E880",
           "#FF97FF",
           "#FECB52"
          ],
          "font": {
           "color": "#2a3f5f"
          },
          "geo": {
           "bgcolor": "white",
           "lakecolor": "white",
           "landcolor": "#E5ECF6",
           "showlakes": true,
           "showland": true,
           "subunitcolor": "white"
          },
          "hoverlabel": {
           "align": "left"
          },
          "hovermode": "closest",
          "mapbox": {
           "style": "light"
          },
          "paper_bgcolor": "white",
          "plot_bgcolor": "#E5ECF6",
          "polar": {
           "angularaxis": {
            "gridcolor": "white",
            "linecolor": "white",
            "ticks": ""
           },
           "bgcolor": "#E5ECF6",
           "radialaxis": {
            "gridcolor": "white",
            "linecolor": "white",
            "ticks": ""
           }
          },
          "scene": {
           "xaxis": {
            "backgroundcolor": "#E5ECF6",
            "gridcolor": "white",
            "gridwidth": 2,
            "linecolor": "white",
            "showbackground": true,
            "ticks": "",
            "zerolinecolor": "white"
           },
           "yaxis": {
            "backgroundcolor": "#E5ECF6",
            "gridcolor": "white",
            "gridwidth": 2,
            "linecolor": "white",
            "showbackground": true,
            "ticks": "",
            "zerolinecolor": "white"
           },
           "zaxis": {
            "backgroundcolor": "#E5ECF6",
            "gridcolor": "white",
            "gridwidth": 2,
            "linecolor": "white",
            "showbackground": true,
            "ticks": "",
            "zerolinecolor": "white"
           }
          },
          "shapedefaults": {
           "line": {
            "color": "#2a3f5f"
           }
          },
          "ternary": {
           "aaxis": {
            "gridcolor": "white",
            "linecolor": "white",
            "ticks": ""
           },
           "baxis": {
            "gridcolor": "white",
            "linecolor": "white",
            "ticks": ""
           },
           "bgcolor": "#E5ECF6",
           "caxis": {
            "gridcolor": "white",
            "linecolor": "white",
            "ticks": ""
           }
          },
          "title": {
           "x": 0.05
          },
          "xaxis": {
           "automargin": true,
           "gridcolor": "white",
           "linecolor": "white",
           "ticks": "",
           "title": {
            "standoff": 15
           },
           "zerolinecolor": "white",
           "zerolinewidth": 2
          },
          "yaxis": {
           "automargin": true,
           "gridcolor": "white",
           "linecolor": "white",
           "ticks": "",
           "title": {
            "standoff": 15
           },
           "zerolinecolor": "white",
           "zerolinewidth": 2
          }
         }
        },
        "title": {
         "text": "Confusion Matrix"
        },
        "width": 900,
        "xaxis": {
         "anchor": "y",
         "domain": [
          0,
          0.4
         ]
        },
        "xaxis2": {
         "anchor": "y2",
         "domain": [
          0.6000000000000001,
          1
         ]
        },
        "yaxis": {
         "anchor": "x",
         "domain": [
          0,
          1
         ]
        },
        "yaxis2": {
         "anchor": "x2",
         "domain": [
          0,
          1
         ]
        }
       }
      },
      "text/html": [
       "<div>                            <div id=\"aa6c6ab7-3ed6-46e1-a381-1be101c91217\" class=\"plotly-graph-div\" style=\"height:500px; width:900px;\"></div>            <script type=\"text/javascript\">                require([\"plotly\"], function(Plotly) {                    window.PLOTLYENV=window.PLOTLYENV || {};                                    if (document.getElementById(\"aa6c6ab7-3ed6-46e1-a381-1be101c91217\")) {                    Plotly.newPlot(                        \"aa6c6ab7-3ed6-46e1-a381-1be101c91217\",                        [{\"colorbar\":{\"x\":0.4},\"colorscale\":[[0.0,\"#FFF2CF\"],[0.14285714285714285,\"#FCE39E\"],[0.2857142857142857,\"#FDD870\"],[0.42857142857142855,\"#FCCB41\"],[0.5714285714285714,\"#FDBF11\"],[0.7142857142857143,\"#E88E2D\"],[0.8571428571428571,\"#CA5800\"],[1.0,\"#843215\"]],\"hovertemplate\":\"Predicted Label: %{x}<br>True Label: %{y}<br>#: %{z}<extra></extra>\",\"text\":[[441,3],[11,257]],\"textfont\":{\"size\":14},\"texttemplate\":\"%{text}\",\"x\":[\"dead\",\"survived\"],\"y\":[\"dead\",\"survived\"],\"z\":[[441,3],[11,257]],\"type\":\"heatmap\",\"xaxis\":\"x\",\"yaxis\":\"y\"},{\"colorbar\":{\"x\":1},\"colorscale\":[[0.0,\"#CFE8F3\"],[0.14285714285714285,\"#A2D4EC\"],[0.2857142857142857,\"#73BFE2\"],[0.42857142857142855,\"#46ABDB\"],[0.5714285714285714,\"#1696D2\"],[0.7142857142857143,\"#12719E\"],[0.8571428571428571,\"#0A4C6A\"],[1.0,\"#062635\"]],\"hovertemplate\":\"Predicted Label: %{x}<br>True Label: %{y}<br>#: %{z}<extra></extra>\",\"text\":[[90,15],[17,57]],\"textfont\":{\"size\":14},\"texttemplate\":\"%{text}\",\"x\":[\"dead\",\"survived\"],\"y\":[\"dead\",\"survived\"],\"z\":[[90,15],[17,57]],\"type\":\"heatmap\",\"xaxis\":\"x2\",\"yaxis\":\"y2\"}],                        {\"template\":{\"data\":{\"bar\":[{\"error_x\":{\"color\":\"#2a3f5f\"},\"error_y\":{\"color\":\"#2a3f5f\"},\"marker\":{\"line\":{\"color\":\"#E5ECF6\",\"width\":0.5},\"pattern\":{\"fillmode\":\"overlay\",\"size\":10,\"solidity\":0.2}},\"type\":\"bar\"}],\"barpolar\":[{\"marker\":{\"line\":{\"color\":\"#E5ECF6\",\"width\":0.5},\"pattern\":{\"fillmode\":\"overlay\",\"size\":10,\"solidity\":0.2}},\"type\":\"barpolar\"}],\"carpet\":[{\"aaxis\":{\"endlinecolor\":\"#2a3f5f\",\"gridcolor\":\"white\",\"linecolor\":\"white\",\"minorgridcolor\":\"white\",\"startlinecolor\":\"#2a3f5f\"},\"baxis\":{\"endlinecolor\":\"#2a3f5f\",\"gridcolor\":\"white\",\"linecolor\":\"white\",\"minorgridcolor\":\"white\",\"startlinecolor\":\"#2a3f5f\"},\"type\":\"carpet\"}],\"choropleth\":[{\"colorbar\":{\"outlinewidth\":0,\"ticks\":\"\"},\"type\":\"choropleth\"}],\"contour\":[{\"colorbar\":{\"outlinewidth\":0,\"ticks\":\"\"},\"colorscale\":[[0.0,\"#0d0887\"],[0.1111111111111111,\"#46039f\"],[0.2222222222222222,\"#7201a8\"],[0.3333333333333333,\"#9c179e\"],[0.4444444444444444,\"#bd3786\"],[0.5555555555555556,\"#d8576b\"],[0.6666666666666666,\"#ed7953\"],[0.7777777777777778,\"#fb9f3a\"],[0.8888888888888888,\"#fdca26\"],[1.0,\"#f0f921\"]],\"type\":\"contour\"}],\"contourcarpet\":[{\"colorbar\":{\"outlinewidth\":0,\"ticks\":\"\"},\"type\":\"contourcarpet\"}],\"heatmap\":[{\"colorbar\":{\"outlinewidth\":0,\"ticks\":\"\"},\"colorscale\":[[0.0,\"#0d0887\"],[0.1111111111111111,\"#46039f\"],[0.2222222222222222,\"#7201a8\"],[0.3333333333333333,\"#9c179e\"],[0.4444444444444444,\"#bd3786\"],[0.5555555555555556,\"#d8576b\"],[0.6666666666666666,\"#ed7953\"],[0.7777777777777778,\"#fb9f3a\"],[0.8888888888888888,\"#fdca26\"],[1.0,\"#f0f921\"]],\"type\":\"heatmap\"}],\"heatmapgl\":[{\"colorbar\":{\"outlinewidth\":0,\"ticks\":\"\"},\"colorscale\":[[0.0,\"#0d0887\"],[0.1111111111111111,\"#46039f\"],[0.2222222222222222,\"#7201a8\"],[0.3333333333333333,\"#9c179e\"],[0.4444444444444444,\"#bd3786\"],[0.5555555555555556,\"#d8576b\"],[0.6666666666666666,\"#ed7953\"],[0.7777777777777778,\"#fb9f3a\"],[0.8888888888888888,\"#fdca26\"],[1.0,\"#f0f921\"]],\"type\":\"heatmapgl\"}],\"histogram\":[{\"marker\":{\"pattern\":{\"fillmode\":\"overlay\",\"size\":10,\"solidity\":0.2}},\"type\":\"histogram\"}],\"histogram2d\":[{\"colorbar\":{\"outlinewidth\":0,\"ticks\":\"\"},\"colorscale\":[[0.0,\"#0d0887\"],[0.1111111111111111,\"#46039f\"],[0.2222222222222222,\"#7201a8\"],[0.3333333333333333,\"#9c179e\"],[0.4444444444444444,\"#bd3786\"],[0.5555555555555556,\"#d8576b\"],[0.6666666666666666,\"#ed7953\"],[0.7777777777777778,\"#fb9f3a\"],[0.8888888888888888,\"#fdca26\"],[1.0,\"#f0f921\"]],\"type\":\"histogram2d\"}],\"histogram2dcontour\":[{\"colorbar\":{\"outlinewidth\":0,\"ticks\":\"\"},\"colorscale\":[[0.0,\"#0d0887\"],[0.1111111111111111,\"#46039f\"],[0.2222222222222222,\"#7201a8\"],[0.3333333333333333,\"#9c179e\"],[0.4444444444444444,\"#bd3786\"],[0.5555555555555556,\"#d8576b\"],[0.6666666666666666,\"#ed7953\"],[0.7777777777777778,\"#fb9f3a\"],[0.8888888888888888,\"#fdca26\"],[1.0,\"#f0f921\"]],\"type\":\"histogram2dcontour\"}],\"mesh3d\":[{\"colorbar\":{\"outlinewidth\":0,\"ticks\":\"\"},\"type\":\"mesh3d\"}],\"parcoords\":[{\"line\":{\"colorbar\":{\"outlinewidth\":0,\"ticks\":\"\"}},\"type\":\"parcoords\"}],\"pie\":[{\"automargin\":true,\"type\":\"pie\"}],\"scatter\":[{\"marker\":{\"colorbar\":{\"outlinewidth\":0,\"ticks\":\"\"}},\"type\":\"scatter\"}],\"scatter3d\":[{\"line\":{\"colorbar\":{\"outlinewidth\":0,\"ticks\":\"\"}},\"marker\":{\"colorbar\":{\"outlinewidth\":0,\"ticks\":\"\"}},\"type\":\"scatter3d\"}],\"scattercarpet\":[{\"marker\":{\"colorbar\":{\"outlinewidth\":0,\"ticks\":\"\"}},\"type\":\"scattercarpet\"}],\"scattergeo\":[{\"marker\":{\"colorbar\":{\"outlinewidth\":0,\"ticks\":\"\"}},\"type\":\"scattergeo\"}],\"scattergl\":[{\"marker\":{\"colorbar\":{\"outlinewidth\":0,\"ticks\":\"\"}},\"type\":\"scattergl\"}],\"scattermapbox\":[{\"marker\":{\"colorbar\":{\"outlinewidth\":0,\"ticks\":\"\"}},\"type\":\"scattermapbox\"}],\"scatterpolar\":[{\"marker\":{\"colorbar\":{\"outlinewidth\":0,\"ticks\":\"\"}},\"type\":\"scatterpolar\"}],\"scatterpolargl\":[{\"marker\":{\"colorbar\":{\"outlinewidth\":0,\"ticks\":\"\"}},\"type\":\"scatterpolargl\"}],\"scatterternary\":[{\"marker\":{\"colorbar\":{\"outlinewidth\":0,\"ticks\":\"\"}},\"type\":\"scatterternary\"}],\"surface\":[{\"colorbar\":{\"outlinewidth\":0,\"ticks\":\"\"},\"colorscale\":[[0.0,\"#0d0887\"],[0.1111111111111111,\"#46039f\"],[0.2222222222222222,\"#7201a8\"],[0.3333333333333333,\"#9c179e\"],[0.4444444444444444,\"#bd3786\"],[0.5555555555555556,\"#d8576b\"],[0.6666666666666666,\"#ed7953\"],[0.7777777777777778,\"#fb9f3a\"],[0.8888888888888888,\"#fdca26\"],[1.0,\"#f0f921\"]],\"type\":\"surface\"}],\"table\":[{\"cells\":{\"fill\":{\"color\":\"#EBF0F8\"},\"line\":{\"color\":\"white\"}},\"header\":{\"fill\":{\"color\":\"#C8D4E3\"},\"line\":{\"color\":\"white\"}},\"type\":\"table\"}]},\"layout\":{\"annotationdefaults\":{\"arrowcolor\":\"#2a3f5f\",\"arrowhead\":0,\"arrowwidth\":1},\"autotypenumbers\":\"strict\",\"coloraxis\":{\"colorbar\":{\"outlinewidth\":0,\"ticks\":\"\"}},\"colorscale\":{\"diverging\":[[0,\"#8e0152\"],[0.1,\"#c51b7d\"],[0.2,\"#de77ae\"],[0.3,\"#f1b6da\"],[0.4,\"#fde0ef\"],[0.5,\"#f7f7f7\"],[0.6,\"#e6f5d0\"],[0.7,\"#b8e186\"],[0.8,\"#7fbc41\"],[0.9,\"#4d9221\"],[1,\"#276419\"]],\"sequential\":[[0.0,\"#0d0887\"],[0.1111111111111111,\"#46039f\"],[0.2222222222222222,\"#7201a8\"],[0.3333333333333333,\"#9c179e\"],[0.4444444444444444,\"#bd3786\"],[0.5555555555555556,\"#d8576b\"],[0.6666666666666666,\"#ed7953\"],[0.7777777777777778,\"#fb9f3a\"],[0.8888888888888888,\"#fdca26\"],[1.0,\"#f0f921\"]],\"sequentialminus\":[[0.0,\"#0d0887\"],[0.1111111111111111,\"#46039f\"],[0.2222222222222222,\"#7201a8\"],[0.3333333333333333,\"#9c179e\"],[0.4444444444444444,\"#bd3786\"],[0.5555555555555556,\"#d8576b\"],[0.6666666666666666,\"#ed7953\"],[0.7777777777777778,\"#fb9f3a\"],[0.8888888888888888,\"#fdca26\"],[1.0,\"#f0f921\"]]},\"colorway\":[\"#636efa\",\"#EF553B\",\"#00cc96\",\"#ab63fa\",\"#FFA15A\",\"#19d3f3\",\"#FF6692\",\"#B6E880\",\"#FF97FF\",\"#FECB52\"],\"font\":{\"color\":\"#2a3f5f\"},\"geo\":{\"bgcolor\":\"white\",\"lakecolor\":\"white\",\"landcolor\":\"#E5ECF6\",\"showlakes\":true,\"showland\":true,\"subunitcolor\":\"white\"},\"hoverlabel\":{\"align\":\"left\"},\"hovermode\":\"closest\",\"mapbox\":{\"style\":\"light\"},\"paper_bgcolor\":\"white\",\"plot_bgcolor\":\"#E5ECF6\",\"polar\":{\"angularaxis\":{\"gridcolor\":\"white\",\"linecolor\":\"white\",\"ticks\":\"\"},\"bgcolor\":\"#E5ECF6\",\"radialaxis\":{\"gridcolor\":\"white\",\"linecolor\":\"white\",\"ticks\":\"\"}},\"scene\":{\"xaxis\":{\"backgroundcolor\":\"#E5ECF6\",\"gridcolor\":\"white\",\"gridwidth\":2,\"linecolor\":\"white\",\"showbackground\":true,\"ticks\":\"\",\"zerolinecolor\":\"white\"},\"yaxis\":{\"backgroundcolor\":\"#E5ECF6\",\"gridcolor\":\"white\",\"gridwidth\":2,\"linecolor\":\"white\",\"showbackground\":true,\"ticks\":\"\",\"zerolinecolor\":\"white\"},\"zaxis\":{\"backgroundcolor\":\"#E5ECF6\",\"gridcolor\":\"white\",\"gridwidth\":2,\"linecolor\":\"white\",\"showbackground\":true,\"ticks\":\"\",\"zerolinecolor\":\"white\"}},\"shapedefaults\":{\"line\":{\"color\":\"#2a3f5f\"}},\"ternary\":{\"aaxis\":{\"gridcolor\":\"white\",\"linecolor\":\"white\",\"ticks\":\"\"},\"baxis\":{\"gridcolor\":\"white\",\"linecolor\":\"white\",\"ticks\":\"\"},\"bgcolor\":\"#E5ECF6\",\"caxis\":{\"gridcolor\":\"white\",\"linecolor\":\"white\",\"ticks\":\"\"}},\"title\":{\"x\":0.05},\"xaxis\":{\"automargin\":true,\"gridcolor\":\"white\",\"linecolor\":\"white\",\"ticks\":\"\",\"title\":{\"standoff\":15},\"zerolinecolor\":\"white\",\"zerolinewidth\":2},\"yaxis\":{\"automargin\":true,\"gridcolor\":\"white\",\"linecolor\":\"white\",\"ticks\":\"\",\"title\":{\"standoff\":15},\"zerolinecolor\":\"white\",\"zerolinewidth\":2}}},\"xaxis\":{\"anchor\":\"y\",\"domain\":[0.0,0.4]},\"yaxis\":{\"anchor\":\"x\",\"domain\":[0.0,1.0]},\"xaxis2\":{\"anchor\":\"y2\",\"domain\":[0.6000000000000001,1.0]},\"yaxis2\":{\"anchor\":\"x2\",\"domain\":[0.0,1.0]},\"annotations\":[{\"font\":{\"size\":16},\"showarrow\":false,\"text\":\"Train Dataset\",\"x\":0.2,\"xanchor\":\"center\",\"xref\":\"paper\",\"y\":1.0,\"yanchor\":\"bottom\",\"yref\":\"paper\"},{\"font\":{\"size\":16},\"showarrow\":false,\"text\":\"Test Dataset\",\"x\":0.8,\"xanchor\":\"center\",\"xref\":\"paper\",\"y\":1.0,\"yanchor\":\"bottom\",\"yref\":\"paper\"}],\"title\":{\"text\":\"Confusion Matrix\"},\"width\":900,\"height\":500},                        {\"responsive\": true}                    ).then(function(){\n",
       "                            \n",
       "var gd = document.getElementById('aa6c6ab7-3ed6-46e1-a381-1be101c91217');\n",
       "var x = new MutationObserver(function (mutations, observer) {{\n",
       "        var display = window.getComputedStyle(gd).display;\n",
       "        if (!display || display === 'none') {{\n",
       "            console.log([gd, 'removed!']);\n",
       "            Plotly.purge(gd);\n",
       "            observer.disconnect();\n",
       "        }}\n",
       "}});\n",
       "\n",
       "// Listen for the removal of the full notebook cells\n",
       "var notebookContainer = gd.closest('#notebook-container');\n",
       "if (notebookContainer) {{\n",
       "    x.observe(notebookContainer, {childList: true});\n",
       "}}\n",
       "\n",
       "// Listen for the clearing of the current output cell\n",
       "var outputEl = gd.closest('.output');\n",
       "if (outputEl) {{\n",
       "    x.observe(outputEl, {childList: true});\n",
       "}}\n",
       "\n",
       "                        })                };                });            </script>        </div>"
      ]
     },
     "metadata": {},
     "output_type": "display_data"
    },
    {
     "data": {
      "application/vnd.plotly.v1+json": {
       "config": {
        "plotlyServerURL": "https://plot.ly"
       },
       "data": [
        {
         "fill": "tozeroy",
         "line": {
          "color": "#fdbf11",
          "width": 2
         },
         "name": "Train dataset AUC=0.997",
         "stackgroup": "one",
         "type": "scatter",
         "x": [
          0,
          0,
          0,
          0,
          0,
          0,
          0,
          0,
          0,
          0,
          0,
          0,
          0,
          0,
          0,
          0,
          0,
          0,
          0,
          0,
          0,
          0,
          0,
          0,
          0,
          0.0022522522522522522,
          0.0022522522522522522,
          0.0022522522522522522,
          0.0022522522522522522,
          0.0022522522522522522,
          0.0022522522522522522,
          0.0022522522522522522,
          0.0022522522522522522,
          0.0022522522522522522,
          0.0022522522522522522,
          0.0022522522522522522,
          0.0022522522522522522,
          0.0022522522522522522,
          0.0022522522522522522,
          0.0022522522522522522,
          0.0022522522522522522,
          0.0022522522522522522,
          0.0022522522522522522,
          0.0022522522522522522,
          0.0045045045045045045,
          0.0045045045045045045,
          0.0045045045045045045,
          0.0045045045045045045,
          0.0045045045045045045,
          0.013513513513513514,
          0.018018018018018018,
          0.02027027027027027,
          0.02252252252252252,
          0.02702702702702703,
          0.033783783783783786,
          0.036036036036036036,
          0.04054054054054054,
          0.04504504504504504,
          0.04954954954954955,
          0.05405405405405406,
          0.06306306306306306,
          0.06981981981981981,
          0.07432432432432433,
          0.07882882882882883,
          0.08108108108108109,
          0.0945945945945946,
          0.0990990990990991,
          0.11036036036036036,
          0.11261261261261261,
          0.12162162162162163,
          0.13513513513513514,
          0.1463963963963964,
          0.15090090090090091,
          0.15765765765765766,
          0.18018018018018017,
          0.19594594594594594,
          0.20945945945945946,
          0.21171171171171171,
          0.22522522522522523,
          0.23198198198198197,
          0.24774774774774774,
          0.26126126126126126,
          0.268018018018018,
          0.27702702702702703,
          0.27927927927927926,
          0.29954954954954954,
          0.3063063063063063,
          0.32657657657657657,
          0.3333333333333333,
          0.34684684684684686,
          0.35585585585585583,
          0.3716216216216216,
          0.3761261261261261,
          0.39414414414414417,
          0.4009009009009009,
          0.4436936936936937,
          0.45045045045045046,
          0.46846846846846846,
          0.47297297297297297,
          0.4774774774774775,
          0.5180180180180181,
          0.5225225225225225,
          0.5405405405405406,
          0.5788288288288288,
          0.5923423423423423,
          0.5968468468468469,
          0.6013513513513513,
          0.713963963963964,
          0.7162162162162162,
          0.722972972972973,
          0.7252252252252253,
          0.7319819819819819,
          0.7364864864864865,
          0.7387387387387387,
          1
         ],
         "y": [
          0,
          0.22014925373134328,
          0.22388059701492538,
          0.23134328358208955,
          0.332089552238806,
          0.3358208955223881,
          0.40298507462686567,
          0.40671641791044777,
          0.4253731343283582,
          0.43283582089552236,
          0.4626865671641791,
          0.4701492537313433,
          0.4925373134328358,
          0.4962686567164179,
          0.5149253731343284,
          0.5223880597014925,
          0.5559701492537313,
          0.5671641791044776,
          0.5708955223880597,
          0.6007462686567164,
          0.6082089552238806,
          0.6119402985074627,
          0.6305970149253731,
          0.6455223880597015,
          0.664179104477612,
          0.6828358208955224,
          0.6940298507462687,
          0.7014925373134329,
          0.7126865671641791,
          0.7164179104477612,
          0.7313432835820896,
          0.746268656716418,
          0.7649253731343284,
          0.7761194029850746,
          0.7835820895522388,
          0.7910447761194029,
          0.8097014925373134,
          0.8171641791044776,
          0.835820895522388,
          0.8470149253731343,
          0.8656716417910447,
          0.8768656716417911,
          0.8955223880597015,
          0.9067164179104478,
          0.9104477611940298,
          0.9216417910447762,
          0.9253731343283582,
          0.9440298507462687,
          0.9552238805970149,
          0.9701492537313433,
          0.9738805970149254,
          0.9776119402985075,
          0.9776119402985075,
          0.9850746268656716,
          0.9850746268656716,
          0.9888059701492538,
          0.9925373134328358,
          0.9925373134328358,
          0.9925373134328358,
          0.9925373134328358,
          0.9925373134328358,
          0.9925373134328358,
          0.9925373134328358,
          0.9925373134328358,
          0.9925373134328358,
          0.9925373134328358,
          0.9925373134328358,
          0.9925373134328358,
          0.9925373134328358,
          0.9925373134328358,
          0.9925373134328358,
          0.996268656716418,
          0.996268656716418,
          0.996268656716418,
          0.996268656716418,
          0.996268656716418,
          0.996268656716418,
          0.996268656716418,
          0.996268656716418,
          0.996268656716418,
          1,
          1,
          1,
          1,
          1,
          1,
          1,
          1,
          1,
          1,
          1,
          1,
          1,
          1,
          1,
          1,
          1,
          1,
          1,
          1,
          1,
          1,
          1,
          1,
          1,
          1,
          1,
          1,
          1,
          1,
          1,
          1,
          1,
          1,
          1
         ]
        },
        {
         "fill": "tozeroy",
         "line": {
          "color": "#1696d2",
          "width": 2
         },
         "name": "Test dataset AUC=0.895",
         "type": "scatter",
         "x": [
          0,
          0.01904761904761905,
          0.02857142857142857,
          0.02857142857142857,
          0.02857142857142857,
          0.02857142857142857,
          0.02857142857142857,
          0.02857142857142857,
          0.02857142857142857,
          0.02857142857142857,
          0.02857142857142857,
          0.0380952380952381,
          0.0380952380952381,
          0.0380952380952381,
          0.047619047619047616,
          0.047619047619047616,
          0.047619047619047616,
          0.05714285714285714,
          0.05714285714285714,
          0.06666666666666667,
          0.0761904761904762,
          0.08571428571428572,
          0.08571428571428572,
          0.09523809523809523,
          0.09523809523809523,
          0.12380952380952381,
          0.13333333333333333,
          0.13333333333333333,
          0.14285714285714285,
          0.14285714285714285,
          0.1523809523809524,
          0.1523809523809524,
          0.20952380952380953,
          0.20952380952380953,
          0.21904761904761905,
          0.21904761904761905,
          0.22857142857142856,
          0.22857142857142856,
          0.23809523809523808,
          0.24761904761904763,
          0.26666666666666666,
          0.26666666666666666,
          0.2857142857142857,
          0.2857142857142857,
          0.34285714285714286,
          0.34285714285714286,
          0.3619047619047619,
          0.38095238095238093,
          0.4,
          0.4,
          0.4095238095238095,
          0.42857142857142855,
          0.4380952380952381,
          0.45714285714285713,
          0.45714285714285713,
          0.4857142857142857,
          0.5047619047619047,
          0.5333333333333333,
          0.5428571428571428,
          0.5619047619047619,
          0.6190476190476191,
          0.638095238095238,
          0.638095238095238,
          0.6761904761904762,
          0.7047619047619048,
          0.7619047619047619,
          0.780952380952381,
          0.7904761904761904,
          0.8476190476190476,
          0.8571428571428571,
          1
         ],
         "y": [
          0,
          0.20270270270270271,
          0.2702702702702703,
          0.3108108108108108,
          0.32432432432432434,
          0.3783783783783784,
          0.3918918918918919,
          0.43243243243243246,
          0.47297297297297297,
          0.5,
          0.527027027027027,
          0.527027027027027,
          0.5405405405405406,
          0.581081081081081,
          0.581081081081081,
          0.6081081081081081,
          0.6621621621621622,
          0.6621621621621622,
          0.6756756756756757,
          0.6756756756756757,
          0.6891891891891891,
          0.6891891891891891,
          0.7162162162162162,
          0.7162162162162162,
          0.7297297297297297,
          0.7297297297297297,
          0.7432432432432432,
          0.7567567567567568,
          0.7567567567567568,
          0.7837837837837838,
          0.7837837837837838,
          0.7972972972972973,
          0.7972972972972973,
          0.8108108108108109,
          0.8108108108108109,
          0.8243243243243243,
          0.8243243243243243,
          0.8378378378378378,
          0.8513513513513513,
          0.8513513513513513,
          0.8513513513513513,
          0.8648648648648649,
          0.8648648648648649,
          0.9054054054054054,
          0.9054054054054054,
          0.918918918918919,
          0.918918918918919,
          0.918918918918919,
          0.918918918918919,
          0.9324324324324325,
          0.9459459459459459,
          0.9459459459459459,
          0.9594594594594594,
          0.9594594594594594,
          0.972972972972973,
          0.972972972972973,
          0.972972972972973,
          0.972972972972973,
          0.972972972972973,
          0.972972972972973,
          0.972972972972973,
          0.972972972972973,
          0.9864864864864865,
          0.9864864864864865,
          0.9864864864864865,
          1,
          1,
          1,
          1,
          1,
          1
         ]
        }
       ],
       "layout": {
        "height": 500,
        "shapes": [
         {
          "line": {
           "dash": "dash"
          },
          "type": "line",
          "x0": 0,
          "x1": 1,
          "y0": 0,
          "y1": 1
         }
        ],
        "template": {
         "data": {
          "bar": [
           {
            "error_x": {
             "color": "#2a3f5f"
            },
            "error_y": {
             "color": "#2a3f5f"
            },
            "marker": {
             "line": {
              "color": "#E5ECF6",
              "width": 0.5
             },
             "pattern": {
              "fillmode": "overlay",
              "size": 10,
              "solidity": 0.2
             }
            },
            "type": "bar"
           }
          ],
          "barpolar": [
           {
            "marker": {
             "line": {
              "color": "#E5ECF6",
              "width": 0.5
             },
             "pattern": {
              "fillmode": "overlay",
              "size": 10,
              "solidity": 0.2
             }
            },
            "type": "barpolar"
           }
          ],
          "carpet": [
           {
            "aaxis": {
             "endlinecolor": "#2a3f5f",
             "gridcolor": "white",
             "linecolor": "white",
             "minorgridcolor": "white",
             "startlinecolor": "#2a3f5f"
            },
            "baxis": {
             "endlinecolor": "#2a3f5f",
             "gridcolor": "white",
             "linecolor": "white",
             "minorgridcolor": "white",
             "startlinecolor": "#2a3f5f"
            },
            "type": "carpet"
           }
          ],
          "choropleth": [
           {
            "colorbar": {
             "outlinewidth": 0,
             "ticks": ""
            },
            "type": "choropleth"
           }
          ],
          "contour": [
           {
            "colorbar": {
             "outlinewidth": 0,
             "ticks": ""
            },
            "colorscale": [
             [
              0,
              "#0d0887"
             ],
             [
              0.1111111111111111,
              "#46039f"
             ],
             [
              0.2222222222222222,
              "#7201a8"
             ],
             [
              0.3333333333333333,
              "#9c179e"
             ],
             [
              0.4444444444444444,
              "#bd3786"
             ],
             [
              0.5555555555555556,
              "#d8576b"
             ],
             [
              0.6666666666666666,
              "#ed7953"
             ],
             [
              0.7777777777777778,
              "#fb9f3a"
             ],
             [
              0.8888888888888888,
              "#fdca26"
             ],
             [
              1,
              "#f0f921"
             ]
            ],
            "type": "contour"
           }
          ],
          "contourcarpet": [
           {
            "colorbar": {
             "outlinewidth": 0,
             "ticks": ""
            },
            "type": "contourcarpet"
           }
          ],
          "heatmap": [
           {
            "colorbar": {
             "outlinewidth": 0,
             "ticks": ""
            },
            "colorscale": [
             [
              0,
              "#0d0887"
             ],
             [
              0.1111111111111111,
              "#46039f"
             ],
             [
              0.2222222222222222,
              "#7201a8"
             ],
             [
              0.3333333333333333,
              "#9c179e"
             ],
             [
              0.4444444444444444,
              "#bd3786"
             ],
             [
              0.5555555555555556,
              "#d8576b"
             ],
             [
              0.6666666666666666,
              "#ed7953"
             ],
             [
              0.7777777777777778,
              "#fb9f3a"
             ],
             [
              0.8888888888888888,
              "#fdca26"
             ],
             [
              1,
              "#f0f921"
             ]
            ],
            "type": "heatmap"
           }
          ],
          "heatmapgl": [
           {
            "colorbar": {
             "outlinewidth": 0,
             "ticks": ""
            },
            "colorscale": [
             [
              0,
              "#0d0887"
             ],
             [
              0.1111111111111111,
              "#46039f"
             ],
             [
              0.2222222222222222,
              "#7201a8"
             ],
             [
              0.3333333333333333,
              "#9c179e"
             ],
             [
              0.4444444444444444,
              "#bd3786"
             ],
             [
              0.5555555555555556,
              "#d8576b"
             ],
             [
              0.6666666666666666,
              "#ed7953"
             ],
             [
              0.7777777777777778,
              "#fb9f3a"
             ],
             [
              0.8888888888888888,
              "#fdca26"
             ],
             [
              1,
              "#f0f921"
             ]
            ],
            "type": "heatmapgl"
           }
          ],
          "histogram": [
           {
            "marker": {
             "pattern": {
              "fillmode": "overlay",
              "size": 10,
              "solidity": 0.2
             }
            },
            "type": "histogram"
           }
          ],
          "histogram2d": [
           {
            "colorbar": {
             "outlinewidth": 0,
             "ticks": ""
            },
            "colorscale": [
             [
              0,
              "#0d0887"
             ],
             [
              0.1111111111111111,
              "#46039f"
             ],
             [
              0.2222222222222222,
              "#7201a8"
             ],
             [
              0.3333333333333333,
              "#9c179e"
             ],
             [
              0.4444444444444444,
              "#bd3786"
             ],
             [
              0.5555555555555556,
              "#d8576b"
             ],
             [
              0.6666666666666666,
              "#ed7953"
             ],
             [
              0.7777777777777778,
              "#fb9f3a"
             ],
             [
              0.8888888888888888,
              "#fdca26"
             ],
             [
              1,
              "#f0f921"
             ]
            ],
            "type": "histogram2d"
           }
          ],
          "histogram2dcontour": [
           {
            "colorbar": {
             "outlinewidth": 0,
             "ticks": ""
            },
            "colorscale": [
             [
              0,
              "#0d0887"
             ],
             [
              0.1111111111111111,
              "#46039f"
             ],
             [
              0.2222222222222222,
              "#7201a8"
             ],
             [
              0.3333333333333333,
              "#9c179e"
             ],
             [
              0.4444444444444444,
              "#bd3786"
             ],
             [
              0.5555555555555556,
              "#d8576b"
             ],
             [
              0.6666666666666666,
              "#ed7953"
             ],
             [
              0.7777777777777778,
              "#fb9f3a"
             ],
             [
              0.8888888888888888,
              "#fdca26"
             ],
             [
              1,
              "#f0f921"
             ]
            ],
            "type": "histogram2dcontour"
           }
          ],
          "mesh3d": [
           {
            "colorbar": {
             "outlinewidth": 0,
             "ticks": ""
            },
            "type": "mesh3d"
           }
          ],
          "parcoords": [
           {
            "line": {
             "colorbar": {
              "outlinewidth": 0,
              "ticks": ""
             }
            },
            "type": "parcoords"
           }
          ],
          "pie": [
           {
            "automargin": true,
            "type": "pie"
           }
          ],
          "scatter": [
           {
            "marker": {
             "colorbar": {
              "outlinewidth": 0,
              "ticks": ""
             }
            },
            "type": "scatter"
           }
          ],
          "scatter3d": [
           {
            "line": {
             "colorbar": {
              "outlinewidth": 0,
              "ticks": ""
             }
            },
            "marker": {
             "colorbar": {
              "outlinewidth": 0,
              "ticks": ""
             }
            },
            "type": "scatter3d"
           }
          ],
          "scattercarpet": [
           {
            "marker": {
             "colorbar": {
              "outlinewidth": 0,
              "ticks": ""
             }
            },
            "type": "scattercarpet"
           }
          ],
          "scattergeo": [
           {
            "marker": {
             "colorbar": {
              "outlinewidth": 0,
              "ticks": ""
             }
            },
            "type": "scattergeo"
           }
          ],
          "scattergl": [
           {
            "marker": {
             "colorbar": {
              "outlinewidth": 0,
              "ticks": ""
             }
            },
            "type": "scattergl"
           }
          ],
          "scattermapbox": [
           {
            "marker": {
             "colorbar": {
              "outlinewidth": 0,
              "ticks": ""
             }
            },
            "type": "scattermapbox"
           }
          ],
          "scatterpolar": [
           {
            "marker": {
             "colorbar": {
              "outlinewidth": 0,
              "ticks": ""
             }
            },
            "type": "scatterpolar"
           }
          ],
          "scatterpolargl": [
           {
            "marker": {
             "colorbar": {
              "outlinewidth": 0,
              "ticks": ""
             }
            },
            "type": "scatterpolargl"
           }
          ],
          "scatterternary": [
           {
            "marker": {
             "colorbar": {
              "outlinewidth": 0,
              "ticks": ""
             }
            },
            "type": "scatterternary"
           }
          ],
          "surface": [
           {
            "colorbar": {
             "outlinewidth": 0,
             "ticks": ""
            },
            "colorscale": [
             [
              0,
              "#0d0887"
             ],
             [
              0.1111111111111111,
              "#46039f"
             ],
             [
              0.2222222222222222,
              "#7201a8"
             ],
             [
              0.3333333333333333,
              "#9c179e"
             ],
             [
              0.4444444444444444,
              "#bd3786"
             ],
             [
              0.5555555555555556,
              "#d8576b"
             ],
             [
              0.6666666666666666,
              "#ed7953"
             ],
             [
              0.7777777777777778,
              "#fb9f3a"
             ],
             [
              0.8888888888888888,
              "#fdca26"
             ],
             [
              1,
              "#f0f921"
             ]
            ],
            "type": "surface"
           }
          ],
          "table": [
           {
            "cells": {
             "fill": {
              "color": "#EBF0F8"
             },
             "line": {
              "color": "white"
             }
            },
            "header": {
             "fill": {
              "color": "#C8D4E3"
             },
             "line": {
              "color": "white"
             }
            },
            "type": "table"
           }
          ]
         },
         "layout": {
          "annotationdefaults": {
           "arrowcolor": "#2a3f5f",
           "arrowhead": 0,
           "arrowwidth": 1
          },
          "autotypenumbers": "strict",
          "coloraxis": {
           "colorbar": {
            "outlinewidth": 0,
            "ticks": ""
           }
          },
          "colorscale": {
           "diverging": [
            [
             0,
             "#8e0152"
            ],
            [
             0.1,
             "#c51b7d"
            ],
            [
             0.2,
             "#de77ae"
            ],
            [
             0.3,
             "#f1b6da"
            ],
            [
             0.4,
             "#fde0ef"
            ],
            [
             0.5,
             "#f7f7f7"
            ],
            [
             0.6,
             "#e6f5d0"
            ],
            [
             0.7,
             "#b8e186"
            ],
            [
             0.8,
             "#7fbc41"
            ],
            [
             0.9,
             "#4d9221"
            ],
            [
             1,
             "#276419"
            ]
           ],
           "sequential": [
            [
             0,
             "#0d0887"
            ],
            [
             0.1111111111111111,
             "#46039f"
            ],
            [
             0.2222222222222222,
             "#7201a8"
            ],
            [
             0.3333333333333333,
             "#9c179e"
            ],
            [
             0.4444444444444444,
             "#bd3786"
            ],
            [
             0.5555555555555556,
             "#d8576b"
            ],
            [
             0.6666666666666666,
             "#ed7953"
            ],
            [
             0.7777777777777778,
             "#fb9f3a"
            ],
            [
             0.8888888888888888,
             "#fdca26"
            ],
            [
             1,
             "#f0f921"
            ]
           ],
           "sequentialminus": [
            [
             0,
             "#0d0887"
            ],
            [
             0.1111111111111111,
             "#46039f"
            ],
            [
             0.2222222222222222,
             "#7201a8"
            ],
            [
             0.3333333333333333,
             "#9c179e"
            ],
            [
             0.4444444444444444,
             "#bd3786"
            ],
            [
             0.5555555555555556,
             "#d8576b"
            ],
            [
             0.6666666666666666,
             "#ed7953"
            ],
            [
             0.7777777777777778,
             "#fb9f3a"
            ],
            [
             0.8888888888888888,
             "#fdca26"
            ],
            [
             1,
             "#f0f921"
            ]
           ]
          },
          "colorway": [
           "#636efa",
           "#EF553B",
           "#00cc96",
           "#ab63fa",
           "#FFA15A",
           "#19d3f3",
           "#FF6692",
           "#B6E880",
           "#FF97FF",
           "#FECB52"
          ],
          "font": {
           "color": "#2a3f5f"
          },
          "geo": {
           "bgcolor": "white",
           "lakecolor": "white",
           "landcolor": "#E5ECF6",
           "showlakes": true,
           "showland": true,
           "subunitcolor": "white"
          },
          "hoverlabel": {
           "align": "left"
          },
          "hovermode": "closest",
          "mapbox": {
           "style": "light"
          },
          "paper_bgcolor": "white",
          "plot_bgcolor": "#E5ECF6",
          "polar": {
           "angularaxis": {
            "gridcolor": "white",
            "linecolor": "white",
            "ticks": ""
           },
           "bgcolor": "#E5ECF6",
           "radialaxis": {
            "gridcolor": "white",
            "linecolor": "white",
            "ticks": ""
           }
          },
          "scene": {
           "xaxis": {
            "backgroundcolor": "#E5ECF6",
            "gridcolor": "white",
            "gridwidth": 2,
            "linecolor": "white",
            "showbackground": true,
            "ticks": "",
            "zerolinecolor": "white"
           },
           "yaxis": {
            "backgroundcolor": "#E5ECF6",
            "gridcolor": "white",
            "gridwidth": 2,
            "linecolor": "white",
            "showbackground": true,
            "ticks": "",
            "zerolinecolor": "white"
           },
           "zaxis": {
            "backgroundcolor": "#E5ECF6",
            "gridcolor": "white",
            "gridwidth": 2,
            "linecolor": "white",
            "showbackground": true,
            "ticks": "",
            "zerolinecolor": "white"
           }
          },
          "shapedefaults": {
           "line": {
            "color": "#2a3f5f"
           }
          },
          "ternary": {
           "aaxis": {
            "gridcolor": "white",
            "linecolor": "white",
            "ticks": ""
           },
           "baxis": {
            "gridcolor": "white",
            "linecolor": "white",
            "ticks": ""
           },
           "bgcolor": "#E5ECF6",
           "caxis": {
            "gridcolor": "white",
            "linecolor": "white",
            "ticks": ""
           }
          },
          "title": {
           "x": 0.05
          },
          "xaxis": {
           "automargin": true,
           "gridcolor": "white",
           "linecolor": "white",
           "ticks": "",
           "title": {
            "standoff": 15
           },
           "zerolinecolor": "white",
           "zerolinewidth": 2
          },
          "yaxis": {
           "automargin": true,
           "gridcolor": "white",
           "linecolor": "white",
           "ticks": "",
           "title": {
            "standoff": 15
           },
           "zerolinecolor": "white",
           "zerolinewidth": 2
          }
         }
        },
        "title": {
         "text": "ROC AUC Curve"
        },
        "width": 700,
        "xaxis": {
         "constrain": "domain",
         "title": {
          "text": "False Positive Rate"
         }
        },
        "yaxis": {
         "scaleanchor": "x",
         "scaleratio": 1,
         "title": {
          "text": "True Positive Rate"
         }
        }
       }
      },
      "text/html": [
       "<div>                            <div id=\"14f6c004-4aa1-40e0-a991-1bf729dd7d66\" class=\"plotly-graph-div\" style=\"height:500px; width:700px;\"></div>            <script type=\"text/javascript\">                require([\"plotly\"], function(Plotly) {                    window.PLOTLYENV=window.PLOTLYENV || {};                                    if (document.getElementById(\"14f6c004-4aa1-40e0-a991-1bf729dd7d66\")) {                    Plotly.newPlot(                        \"14f6c004-4aa1-40e0-a991-1bf729dd7d66\",                        [{\"fill\":\"tozeroy\",\"line\":{\"color\":\"#fdbf11\",\"width\":2},\"name\":\"Train dataset AUC=0.997\",\"stackgroup\":\"one\",\"x\":[0.0,0.0,0.0,0.0,0.0,0.0,0.0,0.0,0.0,0.0,0.0,0.0,0.0,0.0,0.0,0.0,0.0,0.0,0.0,0.0,0.0,0.0,0.0,0.0,0.0,0.0022522522522522522,0.0022522522522522522,0.0022522522522522522,0.0022522522522522522,0.0022522522522522522,0.0022522522522522522,0.0022522522522522522,0.0022522522522522522,0.0022522522522522522,0.0022522522522522522,0.0022522522522522522,0.0022522522522522522,0.0022522522522522522,0.0022522522522522522,0.0022522522522522522,0.0022522522522522522,0.0022522522522522522,0.0022522522522522522,0.0022522522522522522,0.0045045045045045045,0.0045045045045045045,0.0045045045045045045,0.0045045045045045045,0.0045045045045045045,0.013513513513513514,0.018018018018018018,0.02027027027027027,0.02252252252252252,0.02702702702702703,0.033783783783783786,0.036036036036036036,0.04054054054054054,0.04504504504504504,0.04954954954954955,0.05405405405405406,0.06306306306306306,0.06981981981981981,0.07432432432432433,0.07882882882882883,0.08108108108108109,0.0945945945945946,0.0990990990990991,0.11036036036036036,0.11261261261261261,0.12162162162162163,0.13513513513513514,0.1463963963963964,0.15090090090090091,0.15765765765765766,0.18018018018018017,0.19594594594594594,0.20945945945945946,0.21171171171171171,0.22522522522522523,0.23198198198198197,0.24774774774774774,0.26126126126126126,0.268018018018018,0.27702702702702703,0.27927927927927926,0.29954954954954954,0.3063063063063063,0.32657657657657657,0.3333333333333333,0.34684684684684686,0.35585585585585583,0.3716216216216216,0.3761261261261261,0.39414414414414417,0.4009009009009009,0.4436936936936937,0.45045045045045046,0.46846846846846846,0.47297297297297297,0.4774774774774775,0.5180180180180181,0.5225225225225225,0.5405405405405406,0.5788288288288288,0.5923423423423423,0.5968468468468469,0.6013513513513513,0.713963963963964,0.7162162162162162,0.722972972972973,0.7252252252252253,0.7319819819819819,0.7364864864864865,0.7387387387387387,1.0],\"y\":[0.0,0.22014925373134328,0.22388059701492538,0.23134328358208955,0.332089552238806,0.3358208955223881,0.40298507462686567,0.40671641791044777,0.4253731343283582,0.43283582089552236,0.4626865671641791,0.4701492537313433,0.4925373134328358,0.4962686567164179,0.5149253731343284,0.5223880597014925,0.5559701492537313,0.5671641791044776,0.5708955223880597,0.6007462686567164,0.6082089552238806,0.6119402985074627,0.6305970149253731,0.6455223880597015,0.664179104477612,0.6828358208955224,0.6940298507462687,0.7014925373134329,0.7126865671641791,0.7164179104477612,0.7313432835820896,0.746268656716418,0.7649253731343284,0.7761194029850746,0.7835820895522388,0.7910447761194029,0.8097014925373134,0.8171641791044776,0.835820895522388,0.8470149253731343,0.8656716417910447,0.8768656716417911,0.8955223880597015,0.9067164179104478,0.9104477611940298,0.9216417910447762,0.9253731343283582,0.9440298507462687,0.9552238805970149,0.9701492537313433,0.9738805970149254,0.9776119402985075,0.9776119402985075,0.9850746268656716,0.9850746268656716,0.9888059701492538,0.9925373134328358,0.9925373134328358,0.9925373134328358,0.9925373134328358,0.9925373134328358,0.9925373134328358,0.9925373134328358,0.9925373134328358,0.9925373134328358,0.9925373134328358,0.9925373134328358,0.9925373134328358,0.9925373134328358,0.9925373134328358,0.9925373134328358,0.996268656716418,0.996268656716418,0.996268656716418,0.996268656716418,0.996268656716418,0.996268656716418,0.996268656716418,0.996268656716418,0.996268656716418,1.0,1.0,1.0,1.0,1.0,1.0,1.0,1.0,1.0,1.0,1.0,1.0,1.0,1.0,1.0,1.0,1.0,1.0,1.0,1.0,1.0,1.0,1.0,1.0,1.0,1.0,1.0,1.0,1.0,1.0,1.0,1.0,1.0,1.0,1.0],\"type\":\"scatter\"},{\"fill\":\"tozeroy\",\"line\":{\"color\":\"#1696d2\",\"width\":2},\"name\":\"Test dataset AUC=0.895\",\"x\":[0.0,0.01904761904761905,0.02857142857142857,0.02857142857142857,0.02857142857142857,0.02857142857142857,0.02857142857142857,0.02857142857142857,0.02857142857142857,0.02857142857142857,0.02857142857142857,0.0380952380952381,0.0380952380952381,0.0380952380952381,0.047619047619047616,0.047619047619047616,0.047619047619047616,0.05714285714285714,0.05714285714285714,0.06666666666666667,0.0761904761904762,0.08571428571428572,0.08571428571428572,0.09523809523809523,0.09523809523809523,0.12380952380952381,0.13333333333333333,0.13333333333333333,0.14285714285714285,0.14285714285714285,0.1523809523809524,0.1523809523809524,0.20952380952380953,0.20952380952380953,0.21904761904761905,0.21904761904761905,0.22857142857142856,0.22857142857142856,0.23809523809523808,0.24761904761904763,0.26666666666666666,0.26666666666666666,0.2857142857142857,0.2857142857142857,0.34285714285714286,0.34285714285714286,0.3619047619047619,0.38095238095238093,0.4,0.4,0.4095238095238095,0.42857142857142855,0.4380952380952381,0.45714285714285713,0.45714285714285713,0.4857142857142857,0.5047619047619047,0.5333333333333333,0.5428571428571428,0.5619047619047619,0.6190476190476191,0.638095238095238,0.638095238095238,0.6761904761904762,0.7047619047619048,0.7619047619047619,0.780952380952381,0.7904761904761904,0.8476190476190476,0.8571428571428571,1.0],\"y\":[0.0,0.20270270270270271,0.2702702702702703,0.3108108108108108,0.32432432432432434,0.3783783783783784,0.3918918918918919,0.43243243243243246,0.47297297297297297,0.5,0.527027027027027,0.527027027027027,0.5405405405405406,0.581081081081081,0.581081081081081,0.6081081081081081,0.6621621621621622,0.6621621621621622,0.6756756756756757,0.6756756756756757,0.6891891891891891,0.6891891891891891,0.7162162162162162,0.7162162162162162,0.7297297297297297,0.7297297297297297,0.7432432432432432,0.7567567567567568,0.7567567567567568,0.7837837837837838,0.7837837837837838,0.7972972972972973,0.7972972972972973,0.8108108108108109,0.8108108108108109,0.8243243243243243,0.8243243243243243,0.8378378378378378,0.8513513513513513,0.8513513513513513,0.8513513513513513,0.8648648648648649,0.8648648648648649,0.9054054054054054,0.9054054054054054,0.918918918918919,0.918918918918919,0.918918918918919,0.918918918918919,0.9324324324324325,0.9459459459459459,0.9459459459459459,0.9594594594594594,0.9594594594594594,0.972972972972973,0.972972972972973,0.972972972972973,0.972972972972973,0.972972972972973,0.972972972972973,0.972972972972973,0.972972972972973,0.9864864864864865,0.9864864864864865,0.9864864864864865,1.0,1.0,1.0,1.0,1.0,1.0],\"type\":\"scatter\"}],                        {\"template\":{\"data\":{\"bar\":[{\"error_x\":{\"color\":\"#2a3f5f\"},\"error_y\":{\"color\":\"#2a3f5f\"},\"marker\":{\"line\":{\"color\":\"#E5ECF6\",\"width\":0.5},\"pattern\":{\"fillmode\":\"overlay\",\"size\":10,\"solidity\":0.2}},\"type\":\"bar\"}],\"barpolar\":[{\"marker\":{\"line\":{\"color\":\"#E5ECF6\",\"width\":0.5},\"pattern\":{\"fillmode\":\"overlay\",\"size\":10,\"solidity\":0.2}},\"type\":\"barpolar\"}],\"carpet\":[{\"aaxis\":{\"endlinecolor\":\"#2a3f5f\",\"gridcolor\":\"white\",\"linecolor\":\"white\",\"minorgridcolor\":\"white\",\"startlinecolor\":\"#2a3f5f\"},\"baxis\":{\"endlinecolor\":\"#2a3f5f\",\"gridcolor\":\"white\",\"linecolor\":\"white\",\"minorgridcolor\":\"white\",\"startlinecolor\":\"#2a3f5f\"},\"type\":\"carpet\"}],\"choropleth\":[{\"colorbar\":{\"outlinewidth\":0,\"ticks\":\"\"},\"type\":\"choropleth\"}],\"contour\":[{\"colorbar\":{\"outlinewidth\":0,\"ticks\":\"\"},\"colorscale\":[[0.0,\"#0d0887\"],[0.1111111111111111,\"#46039f\"],[0.2222222222222222,\"#7201a8\"],[0.3333333333333333,\"#9c179e\"],[0.4444444444444444,\"#bd3786\"],[0.5555555555555556,\"#d8576b\"],[0.6666666666666666,\"#ed7953\"],[0.7777777777777778,\"#fb9f3a\"],[0.8888888888888888,\"#fdca26\"],[1.0,\"#f0f921\"]],\"type\":\"contour\"}],\"contourcarpet\":[{\"colorbar\":{\"outlinewidth\":0,\"ticks\":\"\"},\"type\":\"contourcarpet\"}],\"heatmap\":[{\"colorbar\":{\"outlinewidth\":0,\"ticks\":\"\"},\"colorscale\":[[0.0,\"#0d0887\"],[0.1111111111111111,\"#46039f\"],[0.2222222222222222,\"#7201a8\"],[0.3333333333333333,\"#9c179e\"],[0.4444444444444444,\"#bd3786\"],[0.5555555555555556,\"#d8576b\"],[0.6666666666666666,\"#ed7953\"],[0.7777777777777778,\"#fb9f3a\"],[0.8888888888888888,\"#fdca26\"],[1.0,\"#f0f921\"]],\"type\":\"heatmap\"}],\"heatmapgl\":[{\"colorbar\":{\"outlinewidth\":0,\"ticks\":\"\"},\"colorscale\":[[0.0,\"#0d0887\"],[0.1111111111111111,\"#46039f\"],[0.2222222222222222,\"#7201a8\"],[0.3333333333333333,\"#9c179e\"],[0.4444444444444444,\"#bd3786\"],[0.5555555555555556,\"#d8576b\"],[0.6666666666666666,\"#ed7953\"],[0.7777777777777778,\"#fb9f3a\"],[0.8888888888888888,\"#fdca26\"],[1.0,\"#f0f921\"]],\"type\":\"heatmapgl\"}],\"histogram\":[{\"marker\":{\"pattern\":{\"fillmode\":\"overlay\",\"size\":10,\"solidity\":0.2}},\"type\":\"histogram\"}],\"histogram2d\":[{\"colorbar\":{\"outlinewidth\":0,\"ticks\":\"\"},\"colorscale\":[[0.0,\"#0d0887\"],[0.1111111111111111,\"#46039f\"],[0.2222222222222222,\"#7201a8\"],[0.3333333333333333,\"#9c179e\"],[0.4444444444444444,\"#bd3786\"],[0.5555555555555556,\"#d8576b\"],[0.6666666666666666,\"#ed7953\"],[0.7777777777777778,\"#fb9f3a\"],[0.8888888888888888,\"#fdca26\"],[1.0,\"#f0f921\"]],\"type\":\"histogram2d\"}],\"histogram2dcontour\":[{\"colorbar\":{\"outlinewidth\":0,\"ticks\":\"\"},\"colorscale\":[[0.0,\"#0d0887\"],[0.1111111111111111,\"#46039f\"],[0.2222222222222222,\"#7201a8\"],[0.3333333333333333,\"#9c179e\"],[0.4444444444444444,\"#bd3786\"],[0.5555555555555556,\"#d8576b\"],[0.6666666666666666,\"#ed7953\"],[0.7777777777777778,\"#fb9f3a\"],[0.8888888888888888,\"#fdca26\"],[1.0,\"#f0f921\"]],\"type\":\"histogram2dcontour\"}],\"mesh3d\":[{\"colorbar\":{\"outlinewidth\":0,\"ticks\":\"\"},\"type\":\"mesh3d\"}],\"parcoords\":[{\"line\":{\"colorbar\":{\"outlinewidth\":0,\"ticks\":\"\"}},\"type\":\"parcoords\"}],\"pie\":[{\"automargin\":true,\"type\":\"pie\"}],\"scatter\":[{\"marker\":{\"colorbar\":{\"outlinewidth\":0,\"ticks\":\"\"}},\"type\":\"scatter\"}],\"scatter3d\":[{\"line\":{\"colorbar\":{\"outlinewidth\":0,\"ticks\":\"\"}},\"marker\":{\"colorbar\":{\"outlinewidth\":0,\"ticks\":\"\"}},\"type\":\"scatter3d\"}],\"scattercarpet\":[{\"marker\":{\"colorbar\":{\"outlinewidth\":0,\"ticks\":\"\"}},\"type\":\"scattercarpet\"}],\"scattergeo\":[{\"marker\":{\"colorbar\":{\"outlinewidth\":0,\"ticks\":\"\"}},\"type\":\"scattergeo\"}],\"scattergl\":[{\"marker\":{\"colorbar\":{\"outlinewidth\":0,\"ticks\":\"\"}},\"type\":\"scattergl\"}],\"scattermapbox\":[{\"marker\":{\"colorbar\":{\"outlinewidth\":0,\"ticks\":\"\"}},\"type\":\"scattermapbox\"}],\"scatterpolar\":[{\"marker\":{\"colorbar\":{\"outlinewidth\":0,\"ticks\":\"\"}},\"type\":\"scatterpolar\"}],\"scatterpolargl\":[{\"marker\":{\"colorbar\":{\"outlinewidth\":0,\"ticks\":\"\"}},\"type\":\"scatterpolargl\"}],\"scatterternary\":[{\"marker\":{\"colorbar\":{\"outlinewidth\":0,\"ticks\":\"\"}},\"type\":\"scatterternary\"}],\"surface\":[{\"colorbar\":{\"outlinewidth\":0,\"ticks\":\"\"},\"colorscale\":[[0.0,\"#0d0887\"],[0.1111111111111111,\"#46039f\"],[0.2222222222222222,\"#7201a8\"],[0.3333333333333333,\"#9c179e\"],[0.4444444444444444,\"#bd3786\"],[0.5555555555555556,\"#d8576b\"],[0.6666666666666666,\"#ed7953\"],[0.7777777777777778,\"#fb9f3a\"],[0.8888888888888888,\"#fdca26\"],[1.0,\"#f0f921\"]],\"type\":\"surface\"}],\"table\":[{\"cells\":{\"fill\":{\"color\":\"#EBF0F8\"},\"line\":{\"color\":\"white\"}},\"header\":{\"fill\":{\"color\":\"#C8D4E3\"},\"line\":{\"color\":\"white\"}},\"type\":\"table\"}]},\"layout\":{\"annotationdefaults\":{\"arrowcolor\":\"#2a3f5f\",\"arrowhead\":0,\"arrowwidth\":1},\"autotypenumbers\":\"strict\",\"coloraxis\":{\"colorbar\":{\"outlinewidth\":0,\"ticks\":\"\"}},\"colorscale\":{\"diverging\":[[0,\"#8e0152\"],[0.1,\"#c51b7d\"],[0.2,\"#de77ae\"],[0.3,\"#f1b6da\"],[0.4,\"#fde0ef\"],[0.5,\"#f7f7f7\"],[0.6,\"#e6f5d0\"],[0.7,\"#b8e186\"],[0.8,\"#7fbc41\"],[0.9,\"#4d9221\"],[1,\"#276419\"]],\"sequential\":[[0.0,\"#0d0887\"],[0.1111111111111111,\"#46039f\"],[0.2222222222222222,\"#7201a8\"],[0.3333333333333333,\"#9c179e\"],[0.4444444444444444,\"#bd3786\"],[0.5555555555555556,\"#d8576b\"],[0.6666666666666666,\"#ed7953\"],[0.7777777777777778,\"#fb9f3a\"],[0.8888888888888888,\"#fdca26\"],[1.0,\"#f0f921\"]],\"sequentialminus\":[[0.0,\"#0d0887\"],[0.1111111111111111,\"#46039f\"],[0.2222222222222222,\"#7201a8\"],[0.3333333333333333,\"#9c179e\"],[0.4444444444444444,\"#bd3786\"],[0.5555555555555556,\"#d8576b\"],[0.6666666666666666,\"#ed7953\"],[0.7777777777777778,\"#fb9f3a\"],[0.8888888888888888,\"#fdca26\"],[1.0,\"#f0f921\"]]},\"colorway\":[\"#636efa\",\"#EF553B\",\"#00cc96\",\"#ab63fa\",\"#FFA15A\",\"#19d3f3\",\"#FF6692\",\"#B6E880\",\"#FF97FF\",\"#FECB52\"],\"font\":{\"color\":\"#2a3f5f\"},\"geo\":{\"bgcolor\":\"white\",\"lakecolor\":\"white\",\"landcolor\":\"#E5ECF6\",\"showlakes\":true,\"showland\":true,\"subunitcolor\":\"white\"},\"hoverlabel\":{\"align\":\"left\"},\"hovermode\":\"closest\",\"mapbox\":{\"style\":\"light\"},\"paper_bgcolor\":\"white\",\"plot_bgcolor\":\"#E5ECF6\",\"polar\":{\"angularaxis\":{\"gridcolor\":\"white\",\"linecolor\":\"white\",\"ticks\":\"\"},\"bgcolor\":\"#E5ECF6\",\"radialaxis\":{\"gridcolor\":\"white\",\"linecolor\":\"white\",\"ticks\":\"\"}},\"scene\":{\"xaxis\":{\"backgroundcolor\":\"#E5ECF6\",\"gridcolor\":\"white\",\"gridwidth\":2,\"linecolor\":\"white\",\"showbackground\":true,\"ticks\":\"\",\"zerolinecolor\":\"white\"},\"yaxis\":{\"backgroundcolor\":\"#E5ECF6\",\"gridcolor\":\"white\",\"gridwidth\":2,\"linecolor\":\"white\",\"showbackground\":true,\"ticks\":\"\",\"zerolinecolor\":\"white\"},\"zaxis\":{\"backgroundcolor\":\"#E5ECF6\",\"gridcolor\":\"white\",\"gridwidth\":2,\"linecolor\":\"white\",\"showbackground\":true,\"ticks\":\"\",\"zerolinecolor\":\"white\"}},\"shapedefaults\":{\"line\":{\"color\":\"#2a3f5f\"}},\"ternary\":{\"aaxis\":{\"gridcolor\":\"white\",\"linecolor\":\"white\",\"ticks\":\"\"},\"baxis\":{\"gridcolor\":\"white\",\"linecolor\":\"white\",\"ticks\":\"\"},\"bgcolor\":\"#E5ECF6\",\"caxis\":{\"gridcolor\":\"white\",\"linecolor\":\"white\",\"ticks\":\"\"}},\"title\":{\"x\":0.05},\"xaxis\":{\"automargin\":true,\"gridcolor\":\"white\",\"linecolor\":\"white\",\"ticks\":\"\",\"title\":{\"standoff\":15},\"zerolinecolor\":\"white\",\"zerolinewidth\":2},\"yaxis\":{\"automargin\":true,\"gridcolor\":\"white\",\"linecolor\":\"white\",\"ticks\":\"\",\"title\":{\"standoff\":15},\"zerolinecolor\":\"white\",\"zerolinewidth\":2}}},\"title\":{\"text\":\"ROC AUC Curve\"},\"xaxis\":{\"title\":{\"text\":\"False Positive Rate\"},\"constrain\":\"domain\"},\"yaxis\":{\"title\":{\"text\":\"True Positive Rate\"},\"scaleanchor\":\"x\",\"scaleratio\":1},\"width\":700,\"height\":500,\"shapes\":[{\"line\":{\"dash\":\"dash\"},\"type\":\"line\",\"x0\":0,\"x1\":1,\"y0\":0,\"y1\":1}]},                        {\"responsive\": true}                    ).then(function(){\n",
       "                            \n",
       "var gd = document.getElementById('14f6c004-4aa1-40e0-a991-1bf729dd7d66');\n",
       "var x = new MutationObserver(function (mutations, observer) {{\n",
       "        var display = window.getComputedStyle(gd).display;\n",
       "        if (!display || display === 'none') {{\n",
       "            console.log([gd, 'removed!']);\n",
       "            Plotly.purge(gd);\n",
       "            observer.disconnect();\n",
       "        }}\n",
       "}});\n",
       "\n",
       "// Listen for the removal of the full notebook cells\n",
       "var notebookContainer = gd.closest('#notebook-container');\n",
       "if (notebookContainer) {{\n",
       "    x.observe(notebookContainer, {childList: true});\n",
       "}}\n",
       "\n",
       "// Listen for the clearing of the current output cell\n",
       "var outputEl = gd.closest('.output');\n",
       "if (outputEl) {{\n",
       "    x.observe(outputEl, {childList: true});\n",
       "}}\n",
       "\n",
       "                        })                };                });            </script>        </div>"
      ]
     },
     "metadata": {},
     "output_type": "display_data"
    },
    {
     "data": {
      "application/vnd.plotly.v1+json": {
       "config": {
        "plotlyServerURL": "https://plot.ly"
       },
       "data": [
        {
         "line": {
          "color": "#E88E2D"
         },
         "name": "Train Precision",
         "type": "scatter",
         "x": [
          0.12042657342657336,
          0.13,
          0.14,
          0.14666666666666667,
          0.15,
          0.16,
          0.17,
          0.18,
          0.18060028860028857,
          0.1875,
          0.18966666666666668,
          0.19,
          0.19596103896103886,
          0.2,
          0.21,
          0.22,
          0.23,
          0.24,
          0.24333333333333335,
          0.25,
          0.26,
          0.2612539682539683,
          0.28,
          0.2833333333333333,
          0.2876666666666667,
          0.29,
          0.3,
          0.32,
          0.3205555555555556,
          0.33,
          0.34,
          0.3507142857142857,
          0.3675,
          0.36875,
          0.37,
          0.37875,
          0.39730952380952383,
          0.3992619047619047,
          0.4,
          0.4103333333333334,
          0.43157142857142866,
          0.4356666666666667,
          0.4717500000000001,
          0.472,
          0.55375,
          0.57,
          0.59,
          0.6,
          0.61,
          0.6116666666666667,
          0.62,
          0.6231190476190476,
          0.63,
          0.6380709013209015,
          0.64,
          0.65,
          0.6591666666666666,
          0.66,
          0.67,
          0.68,
          0.6866666666666668,
          0.69,
          0.6905,
          0.7,
          0.71,
          0.72,
          0.73,
          0.74,
          0.75,
          0.7505555555555554,
          0.7525,
          0.76,
          0.77,
          0.7750000000000001,
          0.7835,
          0.79,
          0.7991666666666667,
          0.8,
          0.8025,
          0.81,
          0.82,
          0.83,
          0.8340490620490619,
          0.84,
          0.85,
          0.86,
          0.87,
          0.88,
          0.89,
          0.9,
          0.91,
          0.9166666666666667,
          0.92,
          0.93,
          0.9358333333333333,
          0.94,
          0.9440000000000001,
          0.95,
          0.9508333333333334,
          0.9575,
          0.96,
          0.9638690476190476,
          0.97,
          0.9740000000000001,
          0.98,
          0.9833333333333334,
          0.99,
          0.9929880952380954,
          0.995,
          1
         ],
         "y": [
          0.708994708994709,
          0.7216216216216216,
          0.7275204359673024,
          0.739612188365651,
          0.7416666666666667,
          0.7542372881355932,
          0.7694524495677233,
          0.7807017543859649,
          0.7922848664688428,
          0.7946428571428571,
          0.7970149253731343,
          0.7994011976047904,
          0.8042168674698795,
          0.8159509202453987,
          0.83125,
          0.8364779874213837,
          0.8417721518987342,
          0.8444444444444444,
          0.8580645161290322,
          0.8636363636363636,
          0.8721311475409836,
          0.8807947019867549,
          0.8837209302325582,
          0.8896321070234113,
          0.8926174496644296,
          0.8956228956228957,
          0.9047619047619048,
          0.9172413793103448,
          0.9236111111111112,
          0.926829268292683,
          0.9300699300699301,
          0.9366197183098591,
          0.9430604982206405,
          0.946236559139785,
          0.9496402877697842,
          0.9530685920577617,
          0.9565217391304348,
          0.9598540145985401,
          0.9632352941176471,
          0.966789667896679,
          0.9702602230483272,
          0.9774436090225563,
          0.9810606060606061,
          0.9847328244274809,
          0.9884615384615385,
          0.9922480620155039,
          0.9922178988326849,
          0.9921875,
          0.9921568627450981,
          0.992,
          0.9919678714859438,
          0.991869918699187,
          0.9959016393442623,
          0.995850622406639,
          0.9958333333333333,
          0.99581589958159,
          0.9957983193277311,
          0.9957805907172996,
          0.9957627118644068,
          0.9957081545064378,
          0.9956140350877193,
          0.9955947136563876,
          0.995575221238938,
          0.9955555555555555,
          0.9954545454545455,
          0.9954128440366973,
          0.9953051643192489,
          0.9952830188679245,
          0.995260663507109,
          0.9952153110047847,
          0.9951923076923077,
          0.9951690821256038,
          0.9951456310679612,
          0.9950248756218906,
          0.995,
          0.9949748743718593,
          0.9949494949494949,
          0.9949238578680203,
          0.9948186528497409,
          0.9947916666666666,
          0.9947089947089947,
          0.9946524064171123,
          0.9945652173913043,
          1,
          1,
          1,
          1,
          1,
          1,
          1,
          1,
          1,
          1,
          1,
          1,
          1,
          1,
          1,
          1,
          1,
          1,
          1,
          1,
          1,
          1,
          1,
          1,
          1,
          1,
          1
         ]
        },
        {
         "line": {
          "color": "#12719E"
         },
         "name": "Test Precision",
         "type": "scatter",
         "x": [
          0.02,
          0.021111111111111112,
          0.023333333333333334,
          0.029472582972582977,
          0.03,
          0.04,
          0.04166666666666667,
          0.04666666666666666,
          0.05,
          0.06,
          0.06666666666666667,
          0.07,
          0.08,
          0.085,
          0.08916666666666666,
          0.09666666666666668,
          0.1,
          0.11,
          0.1155,
          0.12,
          0.12042657342657336,
          0.13,
          0.13399999999999998,
          0.14800000000000002,
          0.16,
          0.17,
          0.18,
          0.18583333333333332,
          0.19,
          0.2,
          0.21,
          0.2296666666666666,
          0.23,
          0.24,
          0.25,
          0.26,
          0.27,
          0.28,
          0.2833333333333333,
          0.29,
          0.3,
          0.32,
          0.33080952380952383,
          0.34,
          0.38,
          0.39,
          0.39888888888888885,
          0.42366666666666675,
          0.43,
          0.45,
          0.46,
          0.4629761904761905,
          0.47,
          0.4717500000000001,
          0.48,
          0.49,
          0.51,
          0.52,
          0.5268333333333334,
          0.55,
          0.56,
          0.57,
          0.58,
          0.5816666666666667,
          0.6,
          0.64,
          0.66,
          0.68,
          0.7,
          0.71,
          0.72,
          0.74,
          0.75,
          0.76,
          0.7609999999999999,
          0.8,
          0.8075,
          0.8262279942279942,
          0.8340490620490619,
          0.84,
          0.86,
          0.868452380952381,
          0.87,
          0.92,
          0.9266666666666667,
          0.93,
          0.95,
          0.96,
          0.9638690476190476,
          0.97,
          0.9705357142857142,
          0.98,
          0.99,
          1
         ],
         "y": [
          0.4805194805194805,
          0.4965986394557823,
          0.5,
          0.503448275862069,
          0.5069444444444444,
          0.5214285714285715,
          0.5179856115107914,
          0.5217391304347826,
          0.5255474452554745,
          0.549618320610687,
          0.5581395348837209,
          0.5625,
          0.576,
          0.5853658536585366,
          0.5901639344262295,
          0.5950413223140496,
          0.6,
          0.5966386554621849,
          0.6016949152542372,
          0.6068376068376068,
          0.6086956521739131,
          0.6194690265486725,
          0.6216216216216216,
          0.6181818181818182,
          0.6238532110091743,
          0.6296296296296297,
          0.6415094339622641,
          0.6476190476190476,
          0.6538461538461539,
          0.6504854368932039,
          0.6568627450980392,
          0.6633663366336634,
          0.67,
          0.6767676767676768,
          0.6836734693877551,
          0.6907216494845361,
          0.6808510638297872,
          0.6881720430107527,
          0.6956521739130435,
          0.6923076923076923,
          0.7078651685393258,
          0.7159090909090909,
          0.7209302325581395,
          0.7176470588235294,
          0.7261904761904762,
          0.7228915662650602,
          0.7317073170731707,
          0.7283950617283951,
          0.7375,
          0.7468354430379747,
          0.7564102564102564,
          0.7662337662337663,
          0.7763157894736842,
          0.7866666666666666,
          0.7837837837837838,
          0.7945205479452054,
          0.7916666666666666,
          0.7887323943661971,
          0.8,
          0.7971014492753623,
          0.8059701492537313,
          0.8181818181818182,
          0.8307692307692308,
          0.84375,
          0.8412698412698413,
          0.8548387096774194,
          0.8524590163934426,
          0.85,
          0.864406779661017,
          0.8771929824561403,
          0.8928571428571429,
          0.8909090909090909,
          0.9074074074074074,
          0.9056603773584906,
          0.9038461538461539,
          0.9019607843137255,
          0.9,
          0.8958333333333334,
          0.9148936170212766,
          0.9090909090909091,
          0.9069767441860465,
          0.9285714285714286,
          0.926829268292683,
          0.925,
          0.9210526315789473,
          0.918918918918919,
          0.9166666666666666,
          0.9142857142857143,
          0.90625,
          0.9032258064516129,
          0.8888888888888888,
          0.8846153846153846,
          0.8695652173913043,
          0.8823529411764706
         ]
        },
        {
         "line": {
          "color": "#843215"
         },
         "name": "Train Recall",
         "type": "scatter",
         "x": [
          0.12042657342657336,
          0.13,
          0.14,
          0.14666666666666667,
          0.15,
          0.16,
          0.17,
          0.18,
          0.18060028860028857,
          0.1875,
          0.18966666666666668,
          0.19,
          0.19596103896103886,
          0.2,
          0.21,
          0.22,
          0.23,
          0.24,
          0.24333333333333335,
          0.25,
          0.26,
          0.2612539682539683,
          0.28,
          0.2833333333333333,
          0.2876666666666667,
          0.29,
          0.3,
          0.32,
          0.3205555555555556,
          0.33,
          0.34,
          0.3507142857142857,
          0.3675,
          0.36875,
          0.37,
          0.37875,
          0.39730952380952383,
          0.3992619047619047,
          0.4,
          0.4103333333333334,
          0.43157142857142866,
          0.4356666666666667,
          0.4717500000000001,
          0.472,
          0.55375,
          0.57,
          0.59,
          0.6,
          0.61,
          0.6116666666666667,
          0.62,
          0.6231190476190476,
          0.63,
          0.6380709013209015,
          0.64,
          0.65,
          0.6591666666666666,
          0.66,
          0.67,
          0.68,
          0.6866666666666668,
          0.69,
          0.6905,
          0.7,
          0.71,
          0.72,
          0.73,
          0.74,
          0.75,
          0.7505555555555554,
          0.7525,
          0.76,
          0.77,
          0.7750000000000001,
          0.7835,
          0.79,
          0.7991666666666667,
          0.8,
          0.8025,
          0.81,
          0.82,
          0.83,
          0.8340490620490619,
          0.84,
          0.85,
          0.86,
          0.87,
          0.88,
          0.89,
          0.9,
          0.91,
          0.9166666666666667,
          0.92,
          0.93,
          0.9358333333333333,
          0.94,
          0.9440000000000001,
          0.95,
          0.9508333333333334,
          0.9575,
          0.96,
          0.9638690476190476,
          0.97,
          0.9740000000000001,
          0.98,
          0.9833333333333334,
          0.99,
          0.9929880952380954,
          0.995,
          1
         ],
         "y": [
          1,
          0.996268656716418,
          0.996268656716418,
          0.996268656716418,
          0.996268656716418,
          0.996268656716418,
          0.996268656716418,
          0.996268656716418,
          0.996268656716418,
          0.996268656716418,
          0.996268656716418,
          0.996268656716418,
          0.996268656716418,
          0.9925373134328358,
          0.9925373134328358,
          0.9925373134328358,
          0.9925373134328358,
          0.9925373134328358,
          0.9925373134328358,
          0.9925373134328358,
          0.9925373134328358,
          0.9925373134328358,
          0.9925373134328358,
          0.9925373134328358,
          0.9925373134328358,
          0.9925373134328358,
          0.9925373134328358,
          0.9925373134328358,
          0.9925373134328358,
          0.9925373134328358,
          0.9925373134328358,
          0.9925373134328358,
          0.9888059701492538,
          0.9850746268656716,
          0.9850746268656716,
          0.9850746268656716,
          0.9850746268656716,
          0.9813432835820896,
          0.9776119402985075,
          0.9776119402985075,
          0.9738805970149254,
          0.9701492537313433,
          0.9664179104477612,
          0.9626865671641791,
          0.9589552238805971,
          0.9552238805970149,
          0.9514925373134329,
          0.9477611940298507,
          0.9440298507462687,
          0.9253731343283582,
          0.9216417910447762,
          0.9104477611940298,
          0.9067164179104478,
          0.8955223880597015,
          0.8917910447761194,
          0.8880597014925373,
          0.8843283582089553,
          0.8805970149253731,
          0.8768656716417911,
          0.8656716417910447,
          0.8470149253731343,
          0.8432835820895522,
          0.8395522388059702,
          0.835820895522388,
          0.8171641791044776,
          0.8097014925373134,
          0.7910447761194029,
          0.7873134328358209,
          0.7835820895522388,
          0.7761194029850746,
          0.7723880597014925,
          0.7686567164179104,
          0.7649253731343284,
          0.746268656716418,
          0.7425373134328358,
          0.7388059701492538,
          0.7350746268656716,
          0.7313432835820896,
          0.7164179104477612,
          0.7126865671641791,
          0.7014925373134329,
          0.6940298507462687,
          0.6828358208955224,
          0.664179104477612,
          0.6455223880597015,
          0.6380597014925373,
          0.6305970149253731,
          0.6119402985074627,
          0.6082089552238806,
          0.6007462686567164,
          0.585820895522388,
          0.5708955223880597,
          0.5671641791044776,
          0.5559701492537313,
          0.5223880597014925,
          0.5149253731343284,
          0.4962686567164179,
          0.4925373134328358,
          0.4701492537313433,
          0.4664179104477612,
          0.4626865671641791,
          0.43283582089552236,
          0.4253731343283582,
          0.40671641791044777,
          0.40298507462686567,
          0.3358208955223881,
          0.332089552238806,
          0.23134328358208955,
          0.22388059701492538,
          0.22014925373134328
         ]
        },
        {
         "line": {
          "color": "#062635"
         },
         "name": "Test Recall",
         "type": "scatter",
         "x": [
          0.02,
          0.021111111111111112,
          0.023333333333333334,
          0.029472582972582977,
          0.03,
          0.04,
          0.04166666666666667,
          0.04666666666666666,
          0.05,
          0.06,
          0.06666666666666667,
          0.07,
          0.08,
          0.085,
          0.08916666666666666,
          0.09666666666666668,
          0.1,
          0.11,
          0.1155,
          0.12,
          0.12042657342657336,
          0.13,
          0.13399999999999998,
          0.14800000000000002,
          0.16,
          0.17,
          0.18,
          0.18583333333333332,
          0.19,
          0.2,
          0.21,
          0.2296666666666666,
          0.23,
          0.24,
          0.25,
          0.26,
          0.27,
          0.28,
          0.2833333333333333,
          0.29,
          0.3,
          0.32,
          0.33080952380952383,
          0.34,
          0.38,
          0.39,
          0.39888888888888885,
          0.42366666666666675,
          0.43,
          0.45,
          0.46,
          0.4629761904761905,
          0.47,
          0.4717500000000001,
          0.48,
          0.49,
          0.51,
          0.52,
          0.5268333333333334,
          0.55,
          0.56,
          0.57,
          0.58,
          0.5816666666666667,
          0.6,
          0.64,
          0.66,
          0.68,
          0.7,
          0.71,
          0.72,
          0.74,
          0.75,
          0.76,
          0.7609999999999999,
          0.8,
          0.8075,
          0.8262279942279942,
          0.8340490620490619,
          0.84,
          0.86,
          0.868452380952381,
          0.87,
          0.92,
          0.9266666666666667,
          0.93,
          0.95,
          0.96,
          0.9638690476190476,
          0.97,
          0.9705357142857142,
          0.98,
          0.99,
          1
         ],
         "y": [
          1,
          0.9864864864864865,
          0.9864864864864865,
          0.9864864864864865,
          0.9864864864864865,
          0.9864864864864865,
          0.972972972972973,
          0.972972972972973,
          0.972972972972973,
          0.972972972972973,
          0.972972972972973,
          0.972972972972973,
          0.972972972972973,
          0.972972972972973,
          0.972972972972973,
          0.972972972972973,
          0.972972972972973,
          0.9594594594594594,
          0.9594594594594594,
          0.9594594594594594,
          0.9459459459459459,
          0.9459459459459459,
          0.9324324324324325,
          0.918918918918919,
          0.918918918918919,
          0.918918918918919,
          0.918918918918919,
          0.918918918918919,
          0.918918918918919,
          0.9054054054054054,
          0.9054054054054054,
          0.9054054054054054,
          0.9054054054054054,
          0.9054054054054054,
          0.9054054054054054,
          0.9054054054054054,
          0.8648648648648649,
          0.8648648648648649,
          0.8648648648648649,
          0.8513513513513513,
          0.8513513513513513,
          0.8513513513513513,
          0.8378378378378378,
          0.8243243243243243,
          0.8243243243243243,
          0.8108108108108109,
          0.8108108108108109,
          0.7972972972972973,
          0.7972972972972973,
          0.7972972972972973,
          0.7972972972972973,
          0.7972972972972973,
          0.7972972972972973,
          0.7972972972972973,
          0.7837837837837838,
          0.7837837837837838,
          0.7702702702702703,
          0.7567567567567568,
          0.7567567567567568,
          0.7432432432432432,
          0.7297297297297297,
          0.7297297297297297,
          0.7297297297297297,
          0.7297297297297297,
          0.7162162162162162,
          0.7162162162162162,
          0.7027027027027027,
          0.6891891891891891,
          0.6891891891891891,
          0.6756756756756757,
          0.6756756756756757,
          0.6621621621621622,
          0.6621621621621622,
          0.6486486486486487,
          0.6351351351351351,
          0.6216216216216216,
          0.6081081081081081,
          0.581081081081081,
          0.581081081081081,
          0.5405405405405406,
          0.527027027027027,
          0.527027027027027,
          0.5135135135135135,
          0.5,
          0.47297297297297297,
          0.4594594594594595,
          0.44594594594594594,
          0.43243243243243246,
          0.3918918918918919,
          0.3783783783783784,
          0.32432432432432434,
          0.3108108108108108,
          0.2702702702702703,
          0.20270270270270271
         ]
        }
       ],
       "layout": {
        "height": 500,
        "template": {
         "data": {
          "bar": [
           {
            "error_x": {
             "color": "#2a3f5f"
            },
            "error_y": {
             "color": "#2a3f5f"
            },
            "marker": {
             "line": {
              "color": "#E5ECF6",
              "width": 0.5
             },
             "pattern": {
              "fillmode": "overlay",
              "size": 10,
              "solidity": 0.2
             }
            },
            "type": "bar"
           }
          ],
          "barpolar": [
           {
            "marker": {
             "line": {
              "color": "#E5ECF6",
              "width": 0.5
             },
             "pattern": {
              "fillmode": "overlay",
              "size": 10,
              "solidity": 0.2
             }
            },
            "type": "barpolar"
           }
          ],
          "carpet": [
           {
            "aaxis": {
             "endlinecolor": "#2a3f5f",
             "gridcolor": "white",
             "linecolor": "white",
             "minorgridcolor": "white",
             "startlinecolor": "#2a3f5f"
            },
            "baxis": {
             "endlinecolor": "#2a3f5f",
             "gridcolor": "white",
             "linecolor": "white",
             "minorgridcolor": "white",
             "startlinecolor": "#2a3f5f"
            },
            "type": "carpet"
           }
          ],
          "choropleth": [
           {
            "colorbar": {
             "outlinewidth": 0,
             "ticks": ""
            },
            "type": "choropleth"
           }
          ],
          "contour": [
           {
            "colorbar": {
             "outlinewidth": 0,
             "ticks": ""
            },
            "colorscale": [
             [
              0,
              "#0d0887"
             ],
             [
              0.1111111111111111,
              "#46039f"
             ],
             [
              0.2222222222222222,
              "#7201a8"
             ],
             [
              0.3333333333333333,
              "#9c179e"
             ],
             [
              0.4444444444444444,
              "#bd3786"
             ],
             [
              0.5555555555555556,
              "#d8576b"
             ],
             [
              0.6666666666666666,
              "#ed7953"
             ],
             [
              0.7777777777777778,
              "#fb9f3a"
             ],
             [
              0.8888888888888888,
              "#fdca26"
             ],
             [
              1,
              "#f0f921"
             ]
            ],
            "type": "contour"
           }
          ],
          "contourcarpet": [
           {
            "colorbar": {
             "outlinewidth": 0,
             "ticks": ""
            },
            "type": "contourcarpet"
           }
          ],
          "heatmap": [
           {
            "colorbar": {
             "outlinewidth": 0,
             "ticks": ""
            },
            "colorscale": [
             [
              0,
              "#0d0887"
             ],
             [
              0.1111111111111111,
              "#46039f"
             ],
             [
              0.2222222222222222,
              "#7201a8"
             ],
             [
              0.3333333333333333,
              "#9c179e"
             ],
             [
              0.4444444444444444,
              "#bd3786"
             ],
             [
              0.5555555555555556,
              "#d8576b"
             ],
             [
              0.6666666666666666,
              "#ed7953"
             ],
             [
              0.7777777777777778,
              "#fb9f3a"
             ],
             [
              0.8888888888888888,
              "#fdca26"
             ],
             [
              1,
              "#f0f921"
             ]
            ],
            "type": "heatmap"
           }
          ],
          "heatmapgl": [
           {
            "colorbar": {
             "outlinewidth": 0,
             "ticks": ""
            },
            "colorscale": [
             [
              0,
              "#0d0887"
             ],
             [
              0.1111111111111111,
              "#46039f"
             ],
             [
              0.2222222222222222,
              "#7201a8"
             ],
             [
              0.3333333333333333,
              "#9c179e"
             ],
             [
              0.4444444444444444,
              "#bd3786"
             ],
             [
              0.5555555555555556,
              "#d8576b"
             ],
             [
              0.6666666666666666,
              "#ed7953"
             ],
             [
              0.7777777777777778,
              "#fb9f3a"
             ],
             [
              0.8888888888888888,
              "#fdca26"
             ],
             [
              1,
              "#f0f921"
             ]
            ],
            "type": "heatmapgl"
           }
          ],
          "histogram": [
           {
            "marker": {
             "pattern": {
              "fillmode": "overlay",
              "size": 10,
              "solidity": 0.2
             }
            },
            "type": "histogram"
           }
          ],
          "histogram2d": [
           {
            "colorbar": {
             "outlinewidth": 0,
             "ticks": ""
            },
            "colorscale": [
             [
              0,
              "#0d0887"
             ],
             [
              0.1111111111111111,
              "#46039f"
             ],
             [
              0.2222222222222222,
              "#7201a8"
             ],
             [
              0.3333333333333333,
              "#9c179e"
             ],
             [
              0.4444444444444444,
              "#bd3786"
             ],
             [
              0.5555555555555556,
              "#d8576b"
             ],
             [
              0.6666666666666666,
              "#ed7953"
             ],
             [
              0.7777777777777778,
              "#fb9f3a"
             ],
             [
              0.8888888888888888,
              "#fdca26"
             ],
             [
              1,
              "#f0f921"
             ]
            ],
            "type": "histogram2d"
           }
          ],
          "histogram2dcontour": [
           {
            "colorbar": {
             "outlinewidth": 0,
             "ticks": ""
            },
            "colorscale": [
             [
              0,
              "#0d0887"
             ],
             [
              0.1111111111111111,
              "#46039f"
             ],
             [
              0.2222222222222222,
              "#7201a8"
             ],
             [
              0.3333333333333333,
              "#9c179e"
             ],
             [
              0.4444444444444444,
              "#bd3786"
             ],
             [
              0.5555555555555556,
              "#d8576b"
             ],
             [
              0.6666666666666666,
              "#ed7953"
             ],
             [
              0.7777777777777778,
              "#fb9f3a"
             ],
             [
              0.8888888888888888,
              "#fdca26"
             ],
             [
              1,
              "#f0f921"
             ]
            ],
            "type": "histogram2dcontour"
           }
          ],
          "mesh3d": [
           {
            "colorbar": {
             "outlinewidth": 0,
             "ticks": ""
            },
            "type": "mesh3d"
           }
          ],
          "parcoords": [
           {
            "line": {
             "colorbar": {
              "outlinewidth": 0,
              "ticks": ""
             }
            },
            "type": "parcoords"
           }
          ],
          "pie": [
           {
            "automargin": true,
            "type": "pie"
           }
          ],
          "scatter": [
           {
            "marker": {
             "colorbar": {
              "outlinewidth": 0,
              "ticks": ""
             }
            },
            "type": "scatter"
           }
          ],
          "scatter3d": [
           {
            "line": {
             "colorbar": {
              "outlinewidth": 0,
              "ticks": ""
             }
            },
            "marker": {
             "colorbar": {
              "outlinewidth": 0,
              "ticks": ""
             }
            },
            "type": "scatter3d"
           }
          ],
          "scattercarpet": [
           {
            "marker": {
             "colorbar": {
              "outlinewidth": 0,
              "ticks": ""
             }
            },
            "type": "scattercarpet"
           }
          ],
          "scattergeo": [
           {
            "marker": {
             "colorbar": {
              "outlinewidth": 0,
              "ticks": ""
             }
            },
            "type": "scattergeo"
           }
          ],
          "scattergl": [
           {
            "marker": {
             "colorbar": {
              "outlinewidth": 0,
              "ticks": ""
             }
            },
            "type": "scattergl"
           }
          ],
          "scattermapbox": [
           {
            "marker": {
             "colorbar": {
              "outlinewidth": 0,
              "ticks": ""
             }
            },
            "type": "scattermapbox"
           }
          ],
          "scatterpolar": [
           {
            "marker": {
             "colorbar": {
              "outlinewidth": 0,
              "ticks": ""
             }
            },
            "type": "scatterpolar"
           }
          ],
          "scatterpolargl": [
           {
            "marker": {
             "colorbar": {
              "outlinewidth": 0,
              "ticks": ""
             }
            },
            "type": "scatterpolargl"
           }
          ],
          "scatterternary": [
           {
            "marker": {
             "colorbar": {
              "outlinewidth": 0,
              "ticks": ""
             }
            },
            "type": "scatterternary"
           }
          ],
          "surface": [
           {
            "colorbar": {
             "outlinewidth": 0,
             "ticks": ""
            },
            "colorscale": [
             [
              0,
              "#0d0887"
             ],
             [
              0.1111111111111111,
              "#46039f"
             ],
             [
              0.2222222222222222,
              "#7201a8"
             ],
             [
              0.3333333333333333,
              "#9c179e"
             ],
             [
              0.4444444444444444,
              "#bd3786"
             ],
             [
              0.5555555555555556,
              "#d8576b"
             ],
             [
              0.6666666666666666,
              "#ed7953"
             ],
             [
              0.7777777777777778,
              "#fb9f3a"
             ],
             [
              0.8888888888888888,
              "#fdca26"
             ],
             [
              1,
              "#f0f921"
             ]
            ],
            "type": "surface"
           }
          ],
          "table": [
           {
            "cells": {
             "fill": {
              "color": "#EBF0F8"
             },
             "line": {
              "color": "white"
             }
            },
            "header": {
             "fill": {
              "color": "#C8D4E3"
             },
             "line": {
              "color": "white"
             }
            },
            "type": "table"
           }
          ]
         },
         "layout": {
          "annotationdefaults": {
           "arrowcolor": "#2a3f5f",
           "arrowhead": 0,
           "arrowwidth": 1
          },
          "autotypenumbers": "strict",
          "coloraxis": {
           "colorbar": {
            "outlinewidth": 0,
            "ticks": ""
           }
          },
          "colorscale": {
           "diverging": [
            [
             0,
             "#8e0152"
            ],
            [
             0.1,
             "#c51b7d"
            ],
            [
             0.2,
             "#de77ae"
            ],
            [
             0.3,
             "#f1b6da"
            ],
            [
             0.4,
             "#fde0ef"
            ],
            [
             0.5,
             "#f7f7f7"
            ],
            [
             0.6,
             "#e6f5d0"
            ],
            [
             0.7,
             "#b8e186"
            ],
            [
             0.8,
             "#7fbc41"
            ],
            [
             0.9,
             "#4d9221"
            ],
            [
             1,
             "#276419"
            ]
           ],
           "sequential": [
            [
             0,
             "#0d0887"
            ],
            [
             0.1111111111111111,
             "#46039f"
            ],
            [
             0.2222222222222222,
             "#7201a8"
            ],
            [
             0.3333333333333333,
             "#9c179e"
            ],
            [
             0.4444444444444444,
             "#bd3786"
            ],
            [
             0.5555555555555556,
             "#d8576b"
            ],
            [
             0.6666666666666666,
             "#ed7953"
            ],
            [
             0.7777777777777778,
             "#fb9f3a"
            ],
            [
             0.8888888888888888,
             "#fdca26"
            ],
            [
             1,
             "#f0f921"
            ]
           ],
           "sequentialminus": [
            [
             0,
             "#0d0887"
            ],
            [
             0.1111111111111111,
             "#46039f"
            ],
            [
             0.2222222222222222,
             "#7201a8"
            ],
            [
             0.3333333333333333,
             "#9c179e"
            ],
            [
             0.4444444444444444,
             "#bd3786"
            ],
            [
             0.5555555555555556,
             "#d8576b"
            ],
            [
             0.6666666666666666,
             "#ed7953"
            ],
            [
             0.7777777777777778,
             "#fb9f3a"
            ],
            [
             0.8888888888888888,
             "#fdca26"
            ],
            [
             1,
             "#f0f921"
            ]
           ]
          },
          "colorway": [
           "#636efa",
           "#EF553B",
           "#00cc96",
           "#ab63fa",
           "#FFA15A",
           "#19d3f3",
           "#FF6692",
           "#B6E880",
           "#FF97FF",
           "#FECB52"
          ],
          "font": {
           "color": "#2a3f5f"
          },
          "geo": {
           "bgcolor": "white",
           "lakecolor": "white",
           "landcolor": "#E5ECF6",
           "showlakes": true,
           "showland": true,
           "subunitcolor": "white"
          },
          "hoverlabel": {
           "align": "left"
          },
          "hovermode": "closest",
          "mapbox": {
           "style": "light"
          },
          "paper_bgcolor": "white",
          "plot_bgcolor": "#E5ECF6",
          "polar": {
           "angularaxis": {
            "gridcolor": "white",
            "linecolor": "white",
            "ticks": ""
           },
           "bgcolor": "#E5ECF6",
           "radialaxis": {
            "gridcolor": "white",
            "linecolor": "white",
            "ticks": ""
           }
          },
          "scene": {
           "xaxis": {
            "backgroundcolor": "#E5ECF6",
            "gridcolor": "white",
            "gridwidth": 2,
            "linecolor": "white",
            "showbackground": true,
            "ticks": "",
            "zerolinecolor": "white"
           },
           "yaxis": {
            "backgroundcolor": "#E5ECF6",
            "gridcolor": "white",
            "gridwidth": 2,
            "linecolor": "white",
            "showbackground": true,
            "ticks": "",
            "zerolinecolor": "white"
           },
           "zaxis": {
            "backgroundcolor": "#E5ECF6",
            "gridcolor": "white",
            "gridwidth": 2,
            "linecolor": "white",
            "showbackground": true,
            "ticks": "",
            "zerolinecolor": "white"
           }
          },
          "shapedefaults": {
           "line": {
            "color": "#2a3f5f"
           }
          },
          "ternary": {
           "aaxis": {
            "gridcolor": "white",
            "linecolor": "white",
            "ticks": ""
           },
           "baxis": {
            "gridcolor": "white",
            "linecolor": "white",
            "ticks": ""
           },
           "bgcolor": "#E5ECF6",
           "caxis": {
            "gridcolor": "white",
            "linecolor": "white",
            "ticks": ""
           }
          },
          "title": {
           "x": 0.05
          },
          "xaxis": {
           "automargin": true,
           "gridcolor": "white",
           "linecolor": "white",
           "ticks": "",
           "title": {
            "standoff": 15
           },
           "zerolinecolor": "white",
           "zerolinewidth": 2
          },
          "yaxis": {
           "automargin": true,
           "gridcolor": "white",
           "linecolor": "white",
           "ticks": "",
           "title": {
            "standoff": 15
           },
           "zerolinecolor": "white",
           "zerolinewidth": 2
          }
         }
        },
        "title": {
         "text": "Precision-Recall curve"
        },
        "width": 900
       }
      },
      "text/html": [
       "<div>                            <div id=\"e17a7e80-fdd0-41f5-b579-c8928372db10\" class=\"plotly-graph-div\" style=\"height:500px; width:900px;\"></div>            <script type=\"text/javascript\">                require([\"plotly\"], function(Plotly) {                    window.PLOTLYENV=window.PLOTLYENV || {};                                    if (document.getElementById(\"e17a7e80-fdd0-41f5-b579-c8928372db10\")) {                    Plotly.newPlot(                        \"e17a7e80-fdd0-41f5-b579-c8928372db10\",                        [{\"line\":{\"color\":\"#E88E2D\"},\"name\":\"Train Precision\",\"x\":[0.12042657342657336,0.13,0.14,0.14666666666666667,0.15,0.16,0.17,0.18,0.18060028860028857,0.1875,0.18966666666666668,0.19,0.19596103896103886,0.2,0.21,0.22,0.23,0.24,0.24333333333333335,0.25,0.26,0.2612539682539683,0.28,0.2833333333333333,0.2876666666666667,0.29,0.3,0.32,0.3205555555555556,0.33,0.34,0.3507142857142857,0.3675,0.36875,0.37,0.37875,0.39730952380952383,0.3992619047619047,0.4,0.4103333333333334,0.43157142857142866,0.4356666666666667,0.4717500000000001,0.472,0.55375,0.57,0.59,0.6,0.61,0.6116666666666667,0.62,0.6231190476190476,0.63,0.6380709013209015,0.64,0.65,0.6591666666666666,0.66,0.67,0.68,0.6866666666666668,0.69,0.6905,0.7,0.71,0.72,0.73,0.74,0.75,0.7505555555555554,0.7525,0.76,0.77,0.7750000000000001,0.7835,0.79,0.7991666666666667,0.8,0.8025,0.81,0.82,0.83,0.8340490620490619,0.84,0.85,0.86,0.87,0.88,0.89,0.9,0.91,0.9166666666666667,0.92,0.93,0.9358333333333333,0.94,0.9440000000000001,0.95,0.9508333333333334,0.9575,0.96,0.9638690476190476,0.97,0.9740000000000001,0.98,0.9833333333333334,0.99,0.9929880952380954,0.995,1.0],\"y\":[0.708994708994709,0.7216216216216216,0.7275204359673024,0.739612188365651,0.7416666666666667,0.7542372881355932,0.7694524495677233,0.7807017543859649,0.7922848664688428,0.7946428571428571,0.7970149253731343,0.7994011976047904,0.8042168674698795,0.8159509202453987,0.83125,0.8364779874213837,0.8417721518987342,0.8444444444444444,0.8580645161290322,0.8636363636363636,0.8721311475409836,0.8807947019867549,0.8837209302325582,0.8896321070234113,0.8926174496644296,0.8956228956228957,0.9047619047619048,0.9172413793103448,0.9236111111111112,0.926829268292683,0.9300699300699301,0.9366197183098591,0.9430604982206405,0.946236559139785,0.9496402877697842,0.9530685920577617,0.9565217391304348,0.9598540145985401,0.9632352941176471,0.966789667896679,0.9702602230483272,0.9774436090225563,0.9810606060606061,0.9847328244274809,0.9884615384615385,0.9922480620155039,0.9922178988326849,0.9921875,0.9921568627450981,0.992,0.9919678714859438,0.991869918699187,0.9959016393442623,0.995850622406639,0.9958333333333333,0.99581589958159,0.9957983193277311,0.9957805907172996,0.9957627118644068,0.9957081545064378,0.9956140350877193,0.9955947136563876,0.995575221238938,0.9955555555555555,0.9954545454545455,0.9954128440366973,0.9953051643192489,0.9952830188679245,0.995260663507109,0.9952153110047847,0.9951923076923077,0.9951690821256038,0.9951456310679612,0.9950248756218906,0.995,0.9949748743718593,0.9949494949494949,0.9949238578680203,0.9948186528497409,0.9947916666666666,0.9947089947089947,0.9946524064171123,0.9945652173913043,1.0,1.0,1.0,1.0,1.0,1.0,1.0,1.0,1.0,1.0,1.0,1.0,1.0,1.0,1.0,1.0,1.0,1.0,1.0,1.0,1.0,1.0,1.0,1.0,1.0,1.0,1.0],\"type\":\"scatter\"},{\"line\":{\"color\":\"#12719E\"},\"name\":\"Test Precision\",\"x\":[0.02,0.021111111111111112,0.023333333333333334,0.029472582972582977,0.03,0.04,0.04166666666666667,0.04666666666666666,0.05,0.06,0.06666666666666667,0.07,0.08,0.085,0.08916666666666666,0.09666666666666668,0.1,0.11,0.1155,0.12,0.12042657342657336,0.13,0.13399999999999998,0.14800000000000002,0.16,0.17,0.18,0.18583333333333332,0.19,0.2,0.21,0.2296666666666666,0.23,0.24,0.25,0.26,0.27,0.28,0.2833333333333333,0.29,0.3,0.32,0.33080952380952383,0.34,0.38,0.39,0.39888888888888885,0.42366666666666675,0.43,0.45,0.46,0.4629761904761905,0.47,0.4717500000000001,0.48,0.49,0.51,0.52,0.5268333333333334,0.55,0.56,0.57,0.58,0.5816666666666667,0.6,0.64,0.66,0.68,0.7,0.71,0.72,0.74,0.75,0.76,0.7609999999999999,0.8,0.8075,0.8262279942279942,0.8340490620490619,0.84,0.86,0.868452380952381,0.87,0.92,0.9266666666666667,0.93,0.95,0.96,0.9638690476190476,0.97,0.9705357142857142,0.98,0.99,1.0],\"y\":[0.4805194805194805,0.4965986394557823,0.5,0.503448275862069,0.5069444444444444,0.5214285714285715,0.5179856115107914,0.5217391304347826,0.5255474452554745,0.549618320610687,0.5581395348837209,0.5625,0.576,0.5853658536585366,0.5901639344262295,0.5950413223140496,0.6,0.5966386554621849,0.6016949152542372,0.6068376068376068,0.6086956521739131,0.6194690265486725,0.6216216216216216,0.6181818181818182,0.6238532110091743,0.6296296296296297,0.6415094339622641,0.6476190476190476,0.6538461538461539,0.6504854368932039,0.6568627450980392,0.6633663366336634,0.67,0.6767676767676768,0.6836734693877551,0.6907216494845361,0.6808510638297872,0.6881720430107527,0.6956521739130435,0.6923076923076923,0.7078651685393258,0.7159090909090909,0.7209302325581395,0.7176470588235294,0.7261904761904762,0.7228915662650602,0.7317073170731707,0.7283950617283951,0.7375,0.7468354430379747,0.7564102564102564,0.7662337662337663,0.7763157894736842,0.7866666666666666,0.7837837837837838,0.7945205479452054,0.7916666666666666,0.7887323943661971,0.8,0.7971014492753623,0.8059701492537313,0.8181818181818182,0.8307692307692308,0.84375,0.8412698412698413,0.8548387096774194,0.8524590163934426,0.85,0.864406779661017,0.8771929824561403,0.8928571428571429,0.8909090909090909,0.9074074074074074,0.9056603773584906,0.9038461538461539,0.9019607843137255,0.9,0.8958333333333334,0.9148936170212766,0.9090909090909091,0.9069767441860465,0.9285714285714286,0.926829268292683,0.925,0.9210526315789473,0.918918918918919,0.9166666666666666,0.9142857142857143,0.90625,0.9032258064516129,0.8888888888888888,0.8846153846153846,0.8695652173913043,0.8823529411764706],\"type\":\"scatter\"},{\"line\":{\"color\":\"#843215\"},\"name\":\"Train Recall\",\"x\":[0.12042657342657336,0.13,0.14,0.14666666666666667,0.15,0.16,0.17,0.18,0.18060028860028857,0.1875,0.18966666666666668,0.19,0.19596103896103886,0.2,0.21,0.22,0.23,0.24,0.24333333333333335,0.25,0.26,0.2612539682539683,0.28,0.2833333333333333,0.2876666666666667,0.29,0.3,0.32,0.3205555555555556,0.33,0.34,0.3507142857142857,0.3675,0.36875,0.37,0.37875,0.39730952380952383,0.3992619047619047,0.4,0.4103333333333334,0.43157142857142866,0.4356666666666667,0.4717500000000001,0.472,0.55375,0.57,0.59,0.6,0.61,0.6116666666666667,0.62,0.6231190476190476,0.63,0.6380709013209015,0.64,0.65,0.6591666666666666,0.66,0.67,0.68,0.6866666666666668,0.69,0.6905,0.7,0.71,0.72,0.73,0.74,0.75,0.7505555555555554,0.7525,0.76,0.77,0.7750000000000001,0.7835,0.79,0.7991666666666667,0.8,0.8025,0.81,0.82,0.83,0.8340490620490619,0.84,0.85,0.86,0.87,0.88,0.89,0.9,0.91,0.9166666666666667,0.92,0.93,0.9358333333333333,0.94,0.9440000000000001,0.95,0.9508333333333334,0.9575,0.96,0.9638690476190476,0.97,0.9740000000000001,0.98,0.9833333333333334,0.99,0.9929880952380954,0.995,1.0],\"y\":[1.0,0.996268656716418,0.996268656716418,0.996268656716418,0.996268656716418,0.996268656716418,0.996268656716418,0.996268656716418,0.996268656716418,0.996268656716418,0.996268656716418,0.996268656716418,0.996268656716418,0.9925373134328358,0.9925373134328358,0.9925373134328358,0.9925373134328358,0.9925373134328358,0.9925373134328358,0.9925373134328358,0.9925373134328358,0.9925373134328358,0.9925373134328358,0.9925373134328358,0.9925373134328358,0.9925373134328358,0.9925373134328358,0.9925373134328358,0.9925373134328358,0.9925373134328358,0.9925373134328358,0.9925373134328358,0.9888059701492538,0.9850746268656716,0.9850746268656716,0.9850746268656716,0.9850746268656716,0.9813432835820896,0.9776119402985075,0.9776119402985075,0.9738805970149254,0.9701492537313433,0.9664179104477612,0.9626865671641791,0.9589552238805971,0.9552238805970149,0.9514925373134329,0.9477611940298507,0.9440298507462687,0.9253731343283582,0.9216417910447762,0.9104477611940298,0.9067164179104478,0.8955223880597015,0.8917910447761194,0.8880597014925373,0.8843283582089553,0.8805970149253731,0.8768656716417911,0.8656716417910447,0.8470149253731343,0.8432835820895522,0.8395522388059702,0.835820895522388,0.8171641791044776,0.8097014925373134,0.7910447761194029,0.7873134328358209,0.7835820895522388,0.7761194029850746,0.7723880597014925,0.7686567164179104,0.7649253731343284,0.746268656716418,0.7425373134328358,0.7388059701492538,0.7350746268656716,0.7313432835820896,0.7164179104477612,0.7126865671641791,0.7014925373134329,0.6940298507462687,0.6828358208955224,0.664179104477612,0.6455223880597015,0.6380597014925373,0.6305970149253731,0.6119402985074627,0.6082089552238806,0.6007462686567164,0.585820895522388,0.5708955223880597,0.5671641791044776,0.5559701492537313,0.5223880597014925,0.5149253731343284,0.4962686567164179,0.4925373134328358,0.4701492537313433,0.4664179104477612,0.4626865671641791,0.43283582089552236,0.4253731343283582,0.40671641791044777,0.40298507462686567,0.3358208955223881,0.332089552238806,0.23134328358208955,0.22388059701492538,0.22014925373134328],\"type\":\"scatter\"},{\"line\":{\"color\":\"#062635\"},\"name\":\"Test Recall\",\"x\":[0.02,0.021111111111111112,0.023333333333333334,0.029472582972582977,0.03,0.04,0.04166666666666667,0.04666666666666666,0.05,0.06,0.06666666666666667,0.07,0.08,0.085,0.08916666666666666,0.09666666666666668,0.1,0.11,0.1155,0.12,0.12042657342657336,0.13,0.13399999999999998,0.14800000000000002,0.16,0.17,0.18,0.18583333333333332,0.19,0.2,0.21,0.2296666666666666,0.23,0.24,0.25,0.26,0.27,0.28,0.2833333333333333,0.29,0.3,0.32,0.33080952380952383,0.34,0.38,0.39,0.39888888888888885,0.42366666666666675,0.43,0.45,0.46,0.4629761904761905,0.47,0.4717500000000001,0.48,0.49,0.51,0.52,0.5268333333333334,0.55,0.56,0.57,0.58,0.5816666666666667,0.6,0.64,0.66,0.68,0.7,0.71,0.72,0.74,0.75,0.76,0.7609999999999999,0.8,0.8075,0.8262279942279942,0.8340490620490619,0.84,0.86,0.868452380952381,0.87,0.92,0.9266666666666667,0.93,0.95,0.96,0.9638690476190476,0.97,0.9705357142857142,0.98,0.99,1.0],\"y\":[1.0,0.9864864864864865,0.9864864864864865,0.9864864864864865,0.9864864864864865,0.9864864864864865,0.972972972972973,0.972972972972973,0.972972972972973,0.972972972972973,0.972972972972973,0.972972972972973,0.972972972972973,0.972972972972973,0.972972972972973,0.972972972972973,0.972972972972973,0.9594594594594594,0.9594594594594594,0.9594594594594594,0.9459459459459459,0.9459459459459459,0.9324324324324325,0.918918918918919,0.918918918918919,0.918918918918919,0.918918918918919,0.918918918918919,0.918918918918919,0.9054054054054054,0.9054054054054054,0.9054054054054054,0.9054054054054054,0.9054054054054054,0.9054054054054054,0.9054054054054054,0.8648648648648649,0.8648648648648649,0.8648648648648649,0.8513513513513513,0.8513513513513513,0.8513513513513513,0.8378378378378378,0.8243243243243243,0.8243243243243243,0.8108108108108109,0.8108108108108109,0.7972972972972973,0.7972972972972973,0.7972972972972973,0.7972972972972973,0.7972972972972973,0.7972972972972973,0.7972972972972973,0.7837837837837838,0.7837837837837838,0.7702702702702703,0.7567567567567568,0.7567567567567568,0.7432432432432432,0.7297297297297297,0.7297297297297297,0.7297297297297297,0.7297297297297297,0.7162162162162162,0.7162162162162162,0.7027027027027027,0.6891891891891891,0.6891891891891891,0.6756756756756757,0.6756756756756757,0.6621621621621622,0.6621621621621622,0.6486486486486487,0.6351351351351351,0.6216216216216216,0.6081081081081081,0.581081081081081,0.581081081081081,0.5405405405405406,0.527027027027027,0.527027027027027,0.5135135135135135,0.5,0.47297297297297297,0.4594594594594595,0.44594594594594594,0.43243243243243246,0.3918918918918919,0.3783783783783784,0.32432432432432434,0.3108108108108108,0.2702702702702703,0.20270270270270271],\"type\":\"scatter\"}],                        {\"template\":{\"data\":{\"bar\":[{\"error_x\":{\"color\":\"#2a3f5f\"},\"error_y\":{\"color\":\"#2a3f5f\"},\"marker\":{\"line\":{\"color\":\"#E5ECF6\",\"width\":0.5},\"pattern\":{\"fillmode\":\"overlay\",\"size\":10,\"solidity\":0.2}},\"type\":\"bar\"}],\"barpolar\":[{\"marker\":{\"line\":{\"color\":\"#E5ECF6\",\"width\":0.5},\"pattern\":{\"fillmode\":\"overlay\",\"size\":10,\"solidity\":0.2}},\"type\":\"barpolar\"}],\"carpet\":[{\"aaxis\":{\"endlinecolor\":\"#2a3f5f\",\"gridcolor\":\"white\",\"linecolor\":\"white\",\"minorgridcolor\":\"white\",\"startlinecolor\":\"#2a3f5f\"},\"baxis\":{\"endlinecolor\":\"#2a3f5f\",\"gridcolor\":\"white\",\"linecolor\":\"white\",\"minorgridcolor\":\"white\",\"startlinecolor\":\"#2a3f5f\"},\"type\":\"carpet\"}],\"choropleth\":[{\"colorbar\":{\"outlinewidth\":0,\"ticks\":\"\"},\"type\":\"choropleth\"}],\"contour\":[{\"colorbar\":{\"outlinewidth\":0,\"ticks\":\"\"},\"colorscale\":[[0.0,\"#0d0887\"],[0.1111111111111111,\"#46039f\"],[0.2222222222222222,\"#7201a8\"],[0.3333333333333333,\"#9c179e\"],[0.4444444444444444,\"#bd3786\"],[0.5555555555555556,\"#d8576b\"],[0.6666666666666666,\"#ed7953\"],[0.7777777777777778,\"#fb9f3a\"],[0.8888888888888888,\"#fdca26\"],[1.0,\"#f0f921\"]],\"type\":\"contour\"}],\"contourcarpet\":[{\"colorbar\":{\"outlinewidth\":0,\"ticks\":\"\"},\"type\":\"contourcarpet\"}],\"heatmap\":[{\"colorbar\":{\"outlinewidth\":0,\"ticks\":\"\"},\"colorscale\":[[0.0,\"#0d0887\"],[0.1111111111111111,\"#46039f\"],[0.2222222222222222,\"#7201a8\"],[0.3333333333333333,\"#9c179e\"],[0.4444444444444444,\"#bd3786\"],[0.5555555555555556,\"#d8576b\"],[0.6666666666666666,\"#ed7953\"],[0.7777777777777778,\"#fb9f3a\"],[0.8888888888888888,\"#fdca26\"],[1.0,\"#f0f921\"]],\"type\":\"heatmap\"}],\"heatmapgl\":[{\"colorbar\":{\"outlinewidth\":0,\"ticks\":\"\"},\"colorscale\":[[0.0,\"#0d0887\"],[0.1111111111111111,\"#46039f\"],[0.2222222222222222,\"#7201a8\"],[0.3333333333333333,\"#9c179e\"],[0.4444444444444444,\"#bd3786\"],[0.5555555555555556,\"#d8576b\"],[0.6666666666666666,\"#ed7953\"],[0.7777777777777778,\"#fb9f3a\"],[0.8888888888888888,\"#fdca26\"],[1.0,\"#f0f921\"]],\"type\":\"heatmapgl\"}],\"histogram\":[{\"marker\":{\"pattern\":{\"fillmode\":\"overlay\",\"size\":10,\"solidity\":0.2}},\"type\":\"histogram\"}],\"histogram2d\":[{\"colorbar\":{\"outlinewidth\":0,\"ticks\":\"\"},\"colorscale\":[[0.0,\"#0d0887\"],[0.1111111111111111,\"#46039f\"],[0.2222222222222222,\"#7201a8\"],[0.3333333333333333,\"#9c179e\"],[0.4444444444444444,\"#bd3786\"],[0.5555555555555556,\"#d8576b\"],[0.6666666666666666,\"#ed7953\"],[0.7777777777777778,\"#fb9f3a\"],[0.8888888888888888,\"#fdca26\"],[1.0,\"#f0f921\"]],\"type\":\"histogram2d\"}],\"histogram2dcontour\":[{\"colorbar\":{\"outlinewidth\":0,\"ticks\":\"\"},\"colorscale\":[[0.0,\"#0d0887\"],[0.1111111111111111,\"#46039f\"],[0.2222222222222222,\"#7201a8\"],[0.3333333333333333,\"#9c179e\"],[0.4444444444444444,\"#bd3786\"],[0.5555555555555556,\"#d8576b\"],[0.6666666666666666,\"#ed7953\"],[0.7777777777777778,\"#fb9f3a\"],[0.8888888888888888,\"#fdca26\"],[1.0,\"#f0f921\"]],\"type\":\"histogram2dcontour\"}],\"mesh3d\":[{\"colorbar\":{\"outlinewidth\":0,\"ticks\":\"\"},\"type\":\"mesh3d\"}],\"parcoords\":[{\"line\":{\"colorbar\":{\"outlinewidth\":0,\"ticks\":\"\"}},\"type\":\"parcoords\"}],\"pie\":[{\"automargin\":true,\"type\":\"pie\"}],\"scatter\":[{\"marker\":{\"colorbar\":{\"outlinewidth\":0,\"ticks\":\"\"}},\"type\":\"scatter\"}],\"scatter3d\":[{\"line\":{\"colorbar\":{\"outlinewidth\":0,\"ticks\":\"\"}},\"marker\":{\"colorbar\":{\"outlinewidth\":0,\"ticks\":\"\"}},\"type\":\"scatter3d\"}],\"scattercarpet\":[{\"marker\":{\"colorbar\":{\"outlinewidth\":0,\"ticks\":\"\"}},\"type\":\"scattercarpet\"}],\"scattergeo\":[{\"marker\":{\"colorbar\":{\"outlinewidth\":0,\"ticks\":\"\"}},\"type\":\"scattergeo\"}],\"scattergl\":[{\"marker\":{\"colorbar\":{\"outlinewidth\":0,\"ticks\":\"\"}},\"type\":\"scattergl\"}],\"scattermapbox\":[{\"marker\":{\"colorbar\":{\"outlinewidth\":0,\"ticks\":\"\"}},\"type\":\"scattermapbox\"}],\"scatterpolar\":[{\"marker\":{\"colorbar\":{\"outlinewidth\":0,\"ticks\":\"\"}},\"type\":\"scatterpolar\"}],\"scatterpolargl\":[{\"marker\":{\"colorbar\":{\"outlinewidth\":0,\"ticks\":\"\"}},\"type\":\"scatterpolargl\"}],\"scatterternary\":[{\"marker\":{\"colorbar\":{\"outlinewidth\":0,\"ticks\":\"\"}},\"type\":\"scatterternary\"}],\"surface\":[{\"colorbar\":{\"outlinewidth\":0,\"ticks\":\"\"},\"colorscale\":[[0.0,\"#0d0887\"],[0.1111111111111111,\"#46039f\"],[0.2222222222222222,\"#7201a8\"],[0.3333333333333333,\"#9c179e\"],[0.4444444444444444,\"#bd3786\"],[0.5555555555555556,\"#d8576b\"],[0.6666666666666666,\"#ed7953\"],[0.7777777777777778,\"#fb9f3a\"],[0.8888888888888888,\"#fdca26\"],[1.0,\"#f0f921\"]],\"type\":\"surface\"}],\"table\":[{\"cells\":{\"fill\":{\"color\":\"#EBF0F8\"},\"line\":{\"color\":\"white\"}},\"header\":{\"fill\":{\"color\":\"#C8D4E3\"},\"line\":{\"color\":\"white\"}},\"type\":\"table\"}]},\"layout\":{\"annotationdefaults\":{\"arrowcolor\":\"#2a3f5f\",\"arrowhead\":0,\"arrowwidth\":1},\"autotypenumbers\":\"strict\",\"coloraxis\":{\"colorbar\":{\"outlinewidth\":0,\"ticks\":\"\"}},\"colorscale\":{\"diverging\":[[0,\"#8e0152\"],[0.1,\"#c51b7d\"],[0.2,\"#de77ae\"],[0.3,\"#f1b6da\"],[0.4,\"#fde0ef\"],[0.5,\"#f7f7f7\"],[0.6,\"#e6f5d0\"],[0.7,\"#b8e186\"],[0.8,\"#7fbc41\"],[0.9,\"#4d9221\"],[1,\"#276419\"]],\"sequential\":[[0.0,\"#0d0887\"],[0.1111111111111111,\"#46039f\"],[0.2222222222222222,\"#7201a8\"],[0.3333333333333333,\"#9c179e\"],[0.4444444444444444,\"#bd3786\"],[0.5555555555555556,\"#d8576b\"],[0.6666666666666666,\"#ed7953\"],[0.7777777777777778,\"#fb9f3a\"],[0.8888888888888888,\"#fdca26\"],[1.0,\"#f0f921\"]],\"sequentialminus\":[[0.0,\"#0d0887\"],[0.1111111111111111,\"#46039f\"],[0.2222222222222222,\"#7201a8\"],[0.3333333333333333,\"#9c179e\"],[0.4444444444444444,\"#bd3786\"],[0.5555555555555556,\"#d8576b\"],[0.6666666666666666,\"#ed7953\"],[0.7777777777777778,\"#fb9f3a\"],[0.8888888888888888,\"#fdca26\"],[1.0,\"#f0f921\"]]},\"colorway\":[\"#636efa\",\"#EF553B\",\"#00cc96\",\"#ab63fa\",\"#FFA15A\",\"#19d3f3\",\"#FF6692\",\"#B6E880\",\"#FF97FF\",\"#FECB52\"],\"font\":{\"color\":\"#2a3f5f\"},\"geo\":{\"bgcolor\":\"white\",\"lakecolor\":\"white\",\"landcolor\":\"#E5ECF6\",\"showlakes\":true,\"showland\":true,\"subunitcolor\":\"white\"},\"hoverlabel\":{\"align\":\"left\"},\"hovermode\":\"closest\",\"mapbox\":{\"style\":\"light\"},\"paper_bgcolor\":\"white\",\"plot_bgcolor\":\"#E5ECF6\",\"polar\":{\"angularaxis\":{\"gridcolor\":\"white\",\"linecolor\":\"white\",\"ticks\":\"\"},\"bgcolor\":\"#E5ECF6\",\"radialaxis\":{\"gridcolor\":\"white\",\"linecolor\":\"white\",\"ticks\":\"\"}},\"scene\":{\"xaxis\":{\"backgroundcolor\":\"#E5ECF6\",\"gridcolor\":\"white\",\"gridwidth\":2,\"linecolor\":\"white\",\"showbackground\":true,\"ticks\":\"\",\"zerolinecolor\":\"white\"},\"yaxis\":{\"backgroundcolor\":\"#E5ECF6\",\"gridcolor\":\"white\",\"gridwidth\":2,\"linecolor\":\"white\",\"showbackground\":true,\"ticks\":\"\",\"zerolinecolor\":\"white\"},\"zaxis\":{\"backgroundcolor\":\"#E5ECF6\",\"gridcolor\":\"white\",\"gridwidth\":2,\"linecolor\":\"white\",\"showbackground\":true,\"ticks\":\"\",\"zerolinecolor\":\"white\"}},\"shapedefaults\":{\"line\":{\"color\":\"#2a3f5f\"}},\"ternary\":{\"aaxis\":{\"gridcolor\":\"white\",\"linecolor\":\"white\",\"ticks\":\"\"},\"baxis\":{\"gridcolor\":\"white\",\"linecolor\":\"white\",\"ticks\":\"\"},\"bgcolor\":\"#E5ECF6\",\"caxis\":{\"gridcolor\":\"white\",\"linecolor\":\"white\",\"ticks\":\"\"}},\"title\":{\"x\":0.05},\"xaxis\":{\"automargin\":true,\"gridcolor\":\"white\",\"linecolor\":\"white\",\"ticks\":\"\",\"title\":{\"standoff\":15},\"zerolinecolor\":\"white\",\"zerolinewidth\":2},\"yaxis\":{\"automargin\":true,\"gridcolor\":\"white\",\"linecolor\":\"white\",\"ticks\":\"\",\"title\":{\"standoff\":15},\"zerolinecolor\":\"white\",\"zerolinewidth\":2}}},\"title\":{\"text\":\"Precision-Recall curve\"},\"width\":900,\"height\":500},                        {\"responsive\": true}                    ).then(function(){\n",
       "                            \n",
       "var gd = document.getElementById('e17a7e80-fdd0-41f5-b579-c8928372db10');\n",
       "var x = new MutationObserver(function (mutations, observer) {{\n",
       "        var display = window.getComputedStyle(gd).display;\n",
       "        if (!display || display === 'none') {{\n",
       "            console.log([gd, 'removed!']);\n",
       "            Plotly.purge(gd);\n",
       "            observer.disconnect();\n",
       "        }}\n",
       "}});\n",
       "\n",
       "// Listen for the removal of the full notebook cells\n",
       "var notebookContainer = gd.closest('#notebook-container');\n",
       "if (notebookContainer) {{\n",
       "    x.observe(notebookContainer, {childList: true});\n",
       "}}\n",
       "\n",
       "// Listen for the clearing of the current output cell\n",
       "var outputEl = gd.closest('.output');\n",
       "if (outputEl) {{\n",
       "    x.observe(outputEl, {childList: true});\n",
       "}}\n",
       "\n",
       "                        })                };                });            </script>        </div>"
      ]
     },
     "metadata": {},
     "output_type": "display_data"
    }
   ],
   "source": [
    "# Display Metrics\n",
    "metrics_report(y_train, y_test, y_pred_train, y_pred_test, y_proba_train, y_proba_test)"
   ]
  },
  {
   "cell_type": "markdown",
   "id": "381c3473",
   "metadata": {},
   "source": [
    "### __C)__ Treine um modelo _Perceptron_ para a classificação dos sobreviventes na mesma proporção (80/20%)."
   ]
  },
  {
   "cell_type": "code",
   "execution_count": 380,
   "id": "82a533dc",
   "metadata": {
    "ExecuteTime": {
     "end_time": "2022-06-05T03:29:55.591709Z",
     "start_time": "2022-06-05T03:29:55.558228Z"
    }
   },
   "outputs": [],
   "source": [
    "from sklearn.linear_model import Perceptron\n",
    "\n",
    "# Build RandomForest pipeline and fit model\n",
    "perc_pipeline = Pipeline([\n",
    "    ('preprocess', ct_pipeline),\n",
    "    ('rf', Perceptron(random_state=42))\n",
    "]).fit(X_train, y_train)"
   ]
  },
  {
   "cell_type": "code",
   "execution_count": 384,
   "id": "4c717dee",
   "metadata": {
    "ExecuteTime": {
     "end_time": "2022-06-05T03:30:33.165449Z",
     "start_time": "2022-06-05T03:30:33.129857Z"
    }
   },
   "outputs": [],
   "source": [
    "# Make predictions\n",
    "y_pred_train, y_pred_test = perc_pipeline.predict(X_train), perc_pipeline.predict(X_test)"
   ]
  },
  {
   "cell_type": "code",
   "execution_count": 386,
   "id": "64dc5683",
   "metadata": {
    "ExecuteTime": {
     "end_time": "2022-06-05T03:32:38.761042Z",
     "start_time": "2022-06-05T03:32:38.659127Z"
    }
   },
   "outputs": [
    {
     "data": {
      "text/html": [
       "<div>\n",
       "<style scoped>\n",
       "    .dataframe tbody tr th:only-of-type {\n",
       "        vertical-align: middle;\n",
       "    }\n",
       "\n",
       "    .dataframe tbody tr th {\n",
       "        vertical-align: top;\n",
       "    }\n",
       "\n",
       "    .dataframe thead tr th {\n",
       "        text-align: left;\n",
       "    }\n",
       "</style>\n",
       "<table border=\"1\" class=\"dataframe\">\n",
       "  <thead>\n",
       "    <tr>\n",
       "      <th></th>\n",
       "      <th colspan=\"4\" halign=\"left\">Train dataset</th>\n",
       "      <th colspan=\"4\" halign=\"left\">Test dataset</th>\n",
       "    </tr>\n",
       "    <tr>\n",
       "      <th></th>\n",
       "      <th>precision</th>\n",
       "      <th>recall</th>\n",
       "      <th>f1-score</th>\n",
       "      <th>support</th>\n",
       "      <th>precision</th>\n",
       "      <th>recall</th>\n",
       "      <th>f1-score</th>\n",
       "      <th>support</th>\n",
       "    </tr>\n",
       "  </thead>\n",
       "  <tbody>\n",
       "    <tr>\n",
       "      <th>0</th>\n",
       "      <td>0.853</td>\n",
       "      <td>0.743</td>\n",
       "      <td>0.794</td>\n",
       "      <td>444.00</td>\n",
       "      <td>0.857</td>\n",
       "      <td>0.743</td>\n",
       "      <td>0.796</td>\n",
       "      <td>105.000</td>\n",
       "    </tr>\n",
       "    <tr>\n",
       "      <th>1</th>\n",
       "      <td>0.649</td>\n",
       "      <td>0.787</td>\n",
       "      <td>0.712</td>\n",
       "      <td>268.00</td>\n",
       "      <td>0.693</td>\n",
       "      <td>0.824</td>\n",
       "      <td>0.753</td>\n",
       "      <td>74.000</td>\n",
       "    </tr>\n",
       "    <tr>\n",
       "      <th>accuracy</th>\n",
       "      <td>0.760</td>\n",
       "      <td>0.760</td>\n",
       "      <td>0.760</td>\n",
       "      <td>0.76</td>\n",
       "      <td>0.777</td>\n",
       "      <td>0.777</td>\n",
       "      <td>0.777</td>\n",
       "      <td>0.777</td>\n",
       "    </tr>\n",
       "    <tr>\n",
       "      <th>macro avg</th>\n",
       "      <td>0.751</td>\n",
       "      <td>0.765</td>\n",
       "      <td>0.753</td>\n",
       "      <td>712.00</td>\n",
       "      <td>0.775</td>\n",
       "      <td>0.784</td>\n",
       "      <td>0.775</td>\n",
       "      <td>179.000</td>\n",
       "    </tr>\n",
       "    <tr>\n",
       "      <th>weighted avg</th>\n",
       "      <td>0.776</td>\n",
       "      <td>0.760</td>\n",
       "      <td>0.763</td>\n",
       "      <td>712.00</td>\n",
       "      <td>0.789</td>\n",
       "      <td>0.777</td>\n",
       "      <td>0.778</td>\n",
       "      <td>179.000</td>\n",
       "    </tr>\n",
       "  </tbody>\n",
       "</table>\n",
       "</div>"
      ],
      "text/plain": [
       "             Train dataset                         Test dataset         \\\n",
       "                 precision recall f1-score support    precision recall   \n",
       "0                    0.853  0.743    0.794  444.00        0.857  0.743   \n",
       "1                    0.649  0.787    0.712  268.00        0.693  0.824   \n",
       "accuracy             0.760  0.760    0.760    0.76        0.777  0.777   \n",
       "macro avg            0.751  0.765    0.753  712.00        0.775  0.784   \n",
       "weighted avg         0.776  0.760    0.763  712.00        0.789  0.777   \n",
       "\n",
       "                                \n",
       "             f1-score  support  \n",
       "0               0.796  105.000  \n",
       "1               0.753   74.000  \n",
       "accuracy        0.777    0.777  \n",
       "macro avg       0.775  179.000  \n",
       "weighted avg    0.778  179.000  "
      ]
     },
     "metadata": {},
     "output_type": "display_data"
    },
    {
     "data": {
      "application/vnd.plotly.v1+json": {
       "config": {
        "plotlyServerURL": "https://plot.ly"
       },
       "data": [
        {
         "colorbar": {
          "x": 0.4
         },
         "colorscale": [
          [
           0,
           "#FFF2CF"
          ],
          [
           0.14285714285714285,
           "#FCE39E"
          ],
          [
           0.2857142857142857,
           "#FDD870"
          ],
          [
           0.42857142857142855,
           "#FCCB41"
          ],
          [
           0.5714285714285714,
           "#FDBF11"
          ],
          [
           0.7142857142857143,
           "#E88E2D"
          ],
          [
           0.8571428571428571,
           "#CA5800"
          ],
          [
           1,
           "#843215"
          ]
         ],
         "hovertemplate": "Predicted Label: %{x}<br>True Label: %{y}<br>#: %{z}<extra></extra>",
         "text": [
          [
           330,
           114
          ],
          [
           57,
           211
          ]
         ],
         "textfont": {
          "size": 14
         },
         "texttemplate": "%{text}",
         "type": "heatmap",
         "x": [
          "dead",
          "survived"
         ],
         "xaxis": "x",
         "y": [
          "dead",
          "survived"
         ],
         "yaxis": "y",
         "z": [
          [
           330,
           114
          ],
          [
           57,
           211
          ]
         ]
        },
        {
         "colorbar": {
          "x": 1
         },
         "colorscale": [
          [
           0,
           "#CFE8F3"
          ],
          [
           0.14285714285714285,
           "#A2D4EC"
          ],
          [
           0.2857142857142857,
           "#73BFE2"
          ],
          [
           0.42857142857142855,
           "#46ABDB"
          ],
          [
           0.5714285714285714,
           "#1696D2"
          ],
          [
           0.7142857142857143,
           "#12719E"
          ],
          [
           0.8571428571428571,
           "#0A4C6A"
          ],
          [
           1,
           "#062635"
          ]
         ],
         "hovertemplate": "Predicted Label: %{x}<br>True Label: %{y}<br>#: %{z}<extra></extra>",
         "text": [
          [
           78,
           27
          ],
          [
           13,
           61
          ]
         ],
         "textfont": {
          "size": 14
         },
         "texttemplate": "%{text}",
         "type": "heatmap",
         "x": [
          "dead",
          "survived"
         ],
         "xaxis": "x2",
         "y": [
          "dead",
          "survived"
         ],
         "yaxis": "y2",
         "z": [
          [
           78,
           27
          ],
          [
           13,
           61
          ]
         ]
        }
       ],
       "layout": {
        "annotations": [
         {
          "font": {
           "size": 16
          },
          "showarrow": false,
          "text": "Train Dataset",
          "x": 0.2,
          "xanchor": "center",
          "xref": "paper",
          "y": 1,
          "yanchor": "bottom",
          "yref": "paper"
         },
         {
          "font": {
           "size": 16
          },
          "showarrow": false,
          "text": "Test Dataset",
          "x": 0.8,
          "xanchor": "center",
          "xref": "paper",
          "y": 1,
          "yanchor": "bottom",
          "yref": "paper"
         }
        ],
        "height": 500,
        "template": {
         "data": {
          "bar": [
           {
            "error_x": {
             "color": "#2a3f5f"
            },
            "error_y": {
             "color": "#2a3f5f"
            },
            "marker": {
             "line": {
              "color": "#E5ECF6",
              "width": 0.5
             },
             "pattern": {
              "fillmode": "overlay",
              "size": 10,
              "solidity": 0.2
             }
            },
            "type": "bar"
           }
          ],
          "barpolar": [
           {
            "marker": {
             "line": {
              "color": "#E5ECF6",
              "width": 0.5
             },
             "pattern": {
              "fillmode": "overlay",
              "size": 10,
              "solidity": 0.2
             }
            },
            "type": "barpolar"
           }
          ],
          "carpet": [
           {
            "aaxis": {
             "endlinecolor": "#2a3f5f",
             "gridcolor": "white",
             "linecolor": "white",
             "minorgridcolor": "white",
             "startlinecolor": "#2a3f5f"
            },
            "baxis": {
             "endlinecolor": "#2a3f5f",
             "gridcolor": "white",
             "linecolor": "white",
             "minorgridcolor": "white",
             "startlinecolor": "#2a3f5f"
            },
            "type": "carpet"
           }
          ],
          "choropleth": [
           {
            "colorbar": {
             "outlinewidth": 0,
             "ticks": ""
            },
            "type": "choropleth"
           }
          ],
          "contour": [
           {
            "colorbar": {
             "outlinewidth": 0,
             "ticks": ""
            },
            "colorscale": [
             [
              0,
              "#0d0887"
             ],
             [
              0.1111111111111111,
              "#46039f"
             ],
             [
              0.2222222222222222,
              "#7201a8"
             ],
             [
              0.3333333333333333,
              "#9c179e"
             ],
             [
              0.4444444444444444,
              "#bd3786"
             ],
             [
              0.5555555555555556,
              "#d8576b"
             ],
             [
              0.6666666666666666,
              "#ed7953"
             ],
             [
              0.7777777777777778,
              "#fb9f3a"
             ],
             [
              0.8888888888888888,
              "#fdca26"
             ],
             [
              1,
              "#f0f921"
             ]
            ],
            "type": "contour"
           }
          ],
          "contourcarpet": [
           {
            "colorbar": {
             "outlinewidth": 0,
             "ticks": ""
            },
            "type": "contourcarpet"
           }
          ],
          "heatmap": [
           {
            "colorbar": {
             "outlinewidth": 0,
             "ticks": ""
            },
            "colorscale": [
             [
              0,
              "#0d0887"
             ],
             [
              0.1111111111111111,
              "#46039f"
             ],
             [
              0.2222222222222222,
              "#7201a8"
             ],
             [
              0.3333333333333333,
              "#9c179e"
             ],
             [
              0.4444444444444444,
              "#bd3786"
             ],
             [
              0.5555555555555556,
              "#d8576b"
             ],
             [
              0.6666666666666666,
              "#ed7953"
             ],
             [
              0.7777777777777778,
              "#fb9f3a"
             ],
             [
              0.8888888888888888,
              "#fdca26"
             ],
             [
              1,
              "#f0f921"
             ]
            ],
            "type": "heatmap"
           }
          ],
          "heatmapgl": [
           {
            "colorbar": {
             "outlinewidth": 0,
             "ticks": ""
            },
            "colorscale": [
             [
              0,
              "#0d0887"
             ],
             [
              0.1111111111111111,
              "#46039f"
             ],
             [
              0.2222222222222222,
              "#7201a8"
             ],
             [
              0.3333333333333333,
              "#9c179e"
             ],
             [
              0.4444444444444444,
              "#bd3786"
             ],
             [
              0.5555555555555556,
              "#d8576b"
             ],
             [
              0.6666666666666666,
              "#ed7953"
             ],
             [
              0.7777777777777778,
              "#fb9f3a"
             ],
             [
              0.8888888888888888,
              "#fdca26"
             ],
             [
              1,
              "#f0f921"
             ]
            ],
            "type": "heatmapgl"
           }
          ],
          "histogram": [
           {
            "marker": {
             "pattern": {
              "fillmode": "overlay",
              "size": 10,
              "solidity": 0.2
             }
            },
            "type": "histogram"
           }
          ],
          "histogram2d": [
           {
            "colorbar": {
             "outlinewidth": 0,
             "ticks": ""
            },
            "colorscale": [
             [
              0,
              "#0d0887"
             ],
             [
              0.1111111111111111,
              "#46039f"
             ],
             [
              0.2222222222222222,
              "#7201a8"
             ],
             [
              0.3333333333333333,
              "#9c179e"
             ],
             [
              0.4444444444444444,
              "#bd3786"
             ],
             [
              0.5555555555555556,
              "#d8576b"
             ],
             [
              0.6666666666666666,
              "#ed7953"
             ],
             [
              0.7777777777777778,
              "#fb9f3a"
             ],
             [
              0.8888888888888888,
              "#fdca26"
             ],
             [
              1,
              "#f0f921"
             ]
            ],
            "type": "histogram2d"
           }
          ],
          "histogram2dcontour": [
           {
            "colorbar": {
             "outlinewidth": 0,
             "ticks": ""
            },
            "colorscale": [
             [
              0,
              "#0d0887"
             ],
             [
              0.1111111111111111,
              "#46039f"
             ],
             [
              0.2222222222222222,
              "#7201a8"
             ],
             [
              0.3333333333333333,
              "#9c179e"
             ],
             [
              0.4444444444444444,
              "#bd3786"
             ],
             [
              0.5555555555555556,
              "#d8576b"
             ],
             [
              0.6666666666666666,
              "#ed7953"
             ],
             [
              0.7777777777777778,
              "#fb9f3a"
             ],
             [
              0.8888888888888888,
              "#fdca26"
             ],
             [
              1,
              "#f0f921"
             ]
            ],
            "type": "histogram2dcontour"
           }
          ],
          "mesh3d": [
           {
            "colorbar": {
             "outlinewidth": 0,
             "ticks": ""
            },
            "type": "mesh3d"
           }
          ],
          "parcoords": [
           {
            "line": {
             "colorbar": {
              "outlinewidth": 0,
              "ticks": ""
             }
            },
            "type": "parcoords"
           }
          ],
          "pie": [
           {
            "automargin": true,
            "type": "pie"
           }
          ],
          "scatter": [
           {
            "marker": {
             "colorbar": {
              "outlinewidth": 0,
              "ticks": ""
             }
            },
            "type": "scatter"
           }
          ],
          "scatter3d": [
           {
            "line": {
             "colorbar": {
              "outlinewidth": 0,
              "ticks": ""
             }
            },
            "marker": {
             "colorbar": {
              "outlinewidth": 0,
              "ticks": ""
             }
            },
            "type": "scatter3d"
           }
          ],
          "scattercarpet": [
           {
            "marker": {
             "colorbar": {
              "outlinewidth": 0,
              "ticks": ""
             }
            },
            "type": "scattercarpet"
           }
          ],
          "scattergeo": [
           {
            "marker": {
             "colorbar": {
              "outlinewidth": 0,
              "ticks": ""
             }
            },
            "type": "scattergeo"
           }
          ],
          "scattergl": [
           {
            "marker": {
             "colorbar": {
              "outlinewidth": 0,
              "ticks": ""
             }
            },
            "type": "scattergl"
           }
          ],
          "scattermapbox": [
           {
            "marker": {
             "colorbar": {
              "outlinewidth": 0,
              "ticks": ""
             }
            },
            "type": "scattermapbox"
           }
          ],
          "scatterpolar": [
           {
            "marker": {
             "colorbar": {
              "outlinewidth": 0,
              "ticks": ""
             }
            },
            "type": "scatterpolar"
           }
          ],
          "scatterpolargl": [
           {
            "marker": {
             "colorbar": {
              "outlinewidth": 0,
              "ticks": ""
             }
            },
            "type": "scatterpolargl"
           }
          ],
          "scatterternary": [
           {
            "marker": {
             "colorbar": {
              "outlinewidth": 0,
              "ticks": ""
             }
            },
            "type": "scatterternary"
           }
          ],
          "surface": [
           {
            "colorbar": {
             "outlinewidth": 0,
             "ticks": ""
            },
            "colorscale": [
             [
              0,
              "#0d0887"
             ],
             [
              0.1111111111111111,
              "#46039f"
             ],
             [
              0.2222222222222222,
              "#7201a8"
             ],
             [
              0.3333333333333333,
              "#9c179e"
             ],
             [
              0.4444444444444444,
              "#bd3786"
             ],
             [
              0.5555555555555556,
              "#d8576b"
             ],
             [
              0.6666666666666666,
              "#ed7953"
             ],
             [
              0.7777777777777778,
              "#fb9f3a"
             ],
             [
              0.8888888888888888,
              "#fdca26"
             ],
             [
              1,
              "#f0f921"
             ]
            ],
            "type": "surface"
           }
          ],
          "table": [
           {
            "cells": {
             "fill": {
              "color": "#EBF0F8"
             },
             "line": {
              "color": "white"
             }
            },
            "header": {
             "fill": {
              "color": "#C8D4E3"
             },
             "line": {
              "color": "white"
             }
            },
            "type": "table"
           }
          ]
         },
         "layout": {
          "annotationdefaults": {
           "arrowcolor": "#2a3f5f",
           "arrowhead": 0,
           "arrowwidth": 1
          },
          "autotypenumbers": "strict",
          "coloraxis": {
           "colorbar": {
            "outlinewidth": 0,
            "ticks": ""
           }
          },
          "colorscale": {
           "diverging": [
            [
             0,
             "#8e0152"
            ],
            [
             0.1,
             "#c51b7d"
            ],
            [
             0.2,
             "#de77ae"
            ],
            [
             0.3,
             "#f1b6da"
            ],
            [
             0.4,
             "#fde0ef"
            ],
            [
             0.5,
             "#f7f7f7"
            ],
            [
             0.6,
             "#e6f5d0"
            ],
            [
             0.7,
             "#b8e186"
            ],
            [
             0.8,
             "#7fbc41"
            ],
            [
             0.9,
             "#4d9221"
            ],
            [
             1,
             "#276419"
            ]
           ],
           "sequential": [
            [
             0,
             "#0d0887"
            ],
            [
             0.1111111111111111,
             "#46039f"
            ],
            [
             0.2222222222222222,
             "#7201a8"
            ],
            [
             0.3333333333333333,
             "#9c179e"
            ],
            [
             0.4444444444444444,
             "#bd3786"
            ],
            [
             0.5555555555555556,
             "#d8576b"
            ],
            [
             0.6666666666666666,
             "#ed7953"
            ],
            [
             0.7777777777777778,
             "#fb9f3a"
            ],
            [
             0.8888888888888888,
             "#fdca26"
            ],
            [
             1,
             "#f0f921"
            ]
           ],
           "sequentialminus": [
            [
             0,
             "#0d0887"
            ],
            [
             0.1111111111111111,
             "#46039f"
            ],
            [
             0.2222222222222222,
             "#7201a8"
            ],
            [
             0.3333333333333333,
             "#9c179e"
            ],
            [
             0.4444444444444444,
             "#bd3786"
            ],
            [
             0.5555555555555556,
             "#d8576b"
            ],
            [
             0.6666666666666666,
             "#ed7953"
            ],
            [
             0.7777777777777778,
             "#fb9f3a"
            ],
            [
             0.8888888888888888,
             "#fdca26"
            ],
            [
             1,
             "#f0f921"
            ]
           ]
          },
          "colorway": [
           "#636efa",
           "#EF553B",
           "#00cc96",
           "#ab63fa",
           "#FFA15A",
           "#19d3f3",
           "#FF6692",
           "#B6E880",
           "#FF97FF",
           "#FECB52"
          ],
          "font": {
           "color": "#2a3f5f"
          },
          "geo": {
           "bgcolor": "white",
           "lakecolor": "white",
           "landcolor": "#E5ECF6",
           "showlakes": true,
           "showland": true,
           "subunitcolor": "white"
          },
          "hoverlabel": {
           "align": "left"
          },
          "hovermode": "closest",
          "mapbox": {
           "style": "light"
          },
          "paper_bgcolor": "white",
          "plot_bgcolor": "#E5ECF6",
          "polar": {
           "angularaxis": {
            "gridcolor": "white",
            "linecolor": "white",
            "ticks": ""
           },
           "bgcolor": "#E5ECF6",
           "radialaxis": {
            "gridcolor": "white",
            "linecolor": "white",
            "ticks": ""
           }
          },
          "scene": {
           "xaxis": {
            "backgroundcolor": "#E5ECF6",
            "gridcolor": "white",
            "gridwidth": 2,
            "linecolor": "white",
            "showbackground": true,
            "ticks": "",
            "zerolinecolor": "white"
           },
           "yaxis": {
            "backgroundcolor": "#E5ECF6",
            "gridcolor": "white",
            "gridwidth": 2,
            "linecolor": "white",
            "showbackground": true,
            "ticks": "",
            "zerolinecolor": "white"
           },
           "zaxis": {
            "backgroundcolor": "#E5ECF6",
            "gridcolor": "white",
            "gridwidth": 2,
            "linecolor": "white",
            "showbackground": true,
            "ticks": "",
            "zerolinecolor": "white"
           }
          },
          "shapedefaults": {
           "line": {
            "color": "#2a3f5f"
           }
          },
          "ternary": {
           "aaxis": {
            "gridcolor": "white",
            "linecolor": "white",
            "ticks": ""
           },
           "baxis": {
            "gridcolor": "white",
            "linecolor": "white",
            "ticks": ""
           },
           "bgcolor": "#E5ECF6",
           "caxis": {
            "gridcolor": "white",
            "linecolor": "white",
            "ticks": ""
           }
          },
          "title": {
           "x": 0.05
          },
          "xaxis": {
           "automargin": true,
           "gridcolor": "white",
           "linecolor": "white",
           "ticks": "",
           "title": {
            "standoff": 15
           },
           "zerolinecolor": "white",
           "zerolinewidth": 2
          },
          "yaxis": {
           "automargin": true,
           "gridcolor": "white",
           "linecolor": "white",
           "ticks": "",
           "title": {
            "standoff": 15
           },
           "zerolinecolor": "white",
           "zerolinewidth": 2
          }
         }
        },
        "title": {
         "text": "Confusion Matrix"
        },
        "width": 900,
        "xaxis": {
         "anchor": "y",
         "domain": [
          0,
          0.4
         ]
        },
        "xaxis2": {
         "anchor": "y2",
         "domain": [
          0.6000000000000001,
          1
         ]
        },
        "yaxis": {
         "anchor": "x",
         "domain": [
          0,
          1
         ]
        },
        "yaxis2": {
         "anchor": "x2",
         "domain": [
          0,
          1
         ]
        }
       }
      },
      "text/html": [
       "<div>                            <div id=\"0ac07dde-2e41-473d-805d-195f812b4a4c\" class=\"plotly-graph-div\" style=\"height:500px; width:900px;\"></div>            <script type=\"text/javascript\">                require([\"plotly\"], function(Plotly) {                    window.PLOTLYENV=window.PLOTLYENV || {};                                    if (document.getElementById(\"0ac07dde-2e41-473d-805d-195f812b4a4c\")) {                    Plotly.newPlot(                        \"0ac07dde-2e41-473d-805d-195f812b4a4c\",                        [{\"colorbar\":{\"x\":0.4},\"colorscale\":[[0.0,\"#FFF2CF\"],[0.14285714285714285,\"#FCE39E\"],[0.2857142857142857,\"#FDD870\"],[0.42857142857142855,\"#FCCB41\"],[0.5714285714285714,\"#FDBF11\"],[0.7142857142857143,\"#E88E2D\"],[0.8571428571428571,\"#CA5800\"],[1.0,\"#843215\"]],\"hovertemplate\":\"Predicted Label: %{x}<br>True Label: %{y}<br>#: %{z}<extra></extra>\",\"text\":[[330,114],[57,211]],\"textfont\":{\"size\":14},\"texttemplate\":\"%{text}\",\"x\":[\"dead\",\"survived\"],\"y\":[\"dead\",\"survived\"],\"z\":[[330,114],[57,211]],\"type\":\"heatmap\",\"xaxis\":\"x\",\"yaxis\":\"y\"},{\"colorbar\":{\"x\":1},\"colorscale\":[[0.0,\"#CFE8F3\"],[0.14285714285714285,\"#A2D4EC\"],[0.2857142857142857,\"#73BFE2\"],[0.42857142857142855,\"#46ABDB\"],[0.5714285714285714,\"#1696D2\"],[0.7142857142857143,\"#12719E\"],[0.8571428571428571,\"#0A4C6A\"],[1.0,\"#062635\"]],\"hovertemplate\":\"Predicted Label: %{x}<br>True Label: %{y}<br>#: %{z}<extra></extra>\",\"text\":[[78,27],[13,61]],\"textfont\":{\"size\":14},\"texttemplate\":\"%{text}\",\"x\":[\"dead\",\"survived\"],\"y\":[\"dead\",\"survived\"],\"z\":[[78,27],[13,61]],\"type\":\"heatmap\",\"xaxis\":\"x2\",\"yaxis\":\"y2\"}],                        {\"template\":{\"data\":{\"bar\":[{\"error_x\":{\"color\":\"#2a3f5f\"},\"error_y\":{\"color\":\"#2a3f5f\"},\"marker\":{\"line\":{\"color\":\"#E5ECF6\",\"width\":0.5},\"pattern\":{\"fillmode\":\"overlay\",\"size\":10,\"solidity\":0.2}},\"type\":\"bar\"}],\"barpolar\":[{\"marker\":{\"line\":{\"color\":\"#E5ECF6\",\"width\":0.5},\"pattern\":{\"fillmode\":\"overlay\",\"size\":10,\"solidity\":0.2}},\"type\":\"barpolar\"}],\"carpet\":[{\"aaxis\":{\"endlinecolor\":\"#2a3f5f\",\"gridcolor\":\"white\",\"linecolor\":\"white\",\"minorgridcolor\":\"white\",\"startlinecolor\":\"#2a3f5f\"},\"baxis\":{\"endlinecolor\":\"#2a3f5f\",\"gridcolor\":\"white\",\"linecolor\":\"white\",\"minorgridcolor\":\"white\",\"startlinecolor\":\"#2a3f5f\"},\"type\":\"carpet\"}],\"choropleth\":[{\"colorbar\":{\"outlinewidth\":0,\"ticks\":\"\"},\"type\":\"choropleth\"}],\"contour\":[{\"colorbar\":{\"outlinewidth\":0,\"ticks\":\"\"},\"colorscale\":[[0.0,\"#0d0887\"],[0.1111111111111111,\"#46039f\"],[0.2222222222222222,\"#7201a8\"],[0.3333333333333333,\"#9c179e\"],[0.4444444444444444,\"#bd3786\"],[0.5555555555555556,\"#d8576b\"],[0.6666666666666666,\"#ed7953\"],[0.7777777777777778,\"#fb9f3a\"],[0.8888888888888888,\"#fdca26\"],[1.0,\"#f0f921\"]],\"type\":\"contour\"}],\"contourcarpet\":[{\"colorbar\":{\"outlinewidth\":0,\"ticks\":\"\"},\"type\":\"contourcarpet\"}],\"heatmap\":[{\"colorbar\":{\"outlinewidth\":0,\"ticks\":\"\"},\"colorscale\":[[0.0,\"#0d0887\"],[0.1111111111111111,\"#46039f\"],[0.2222222222222222,\"#7201a8\"],[0.3333333333333333,\"#9c179e\"],[0.4444444444444444,\"#bd3786\"],[0.5555555555555556,\"#d8576b\"],[0.6666666666666666,\"#ed7953\"],[0.7777777777777778,\"#fb9f3a\"],[0.8888888888888888,\"#fdca26\"],[1.0,\"#f0f921\"]],\"type\":\"heatmap\"}],\"heatmapgl\":[{\"colorbar\":{\"outlinewidth\":0,\"ticks\":\"\"},\"colorscale\":[[0.0,\"#0d0887\"],[0.1111111111111111,\"#46039f\"],[0.2222222222222222,\"#7201a8\"],[0.3333333333333333,\"#9c179e\"],[0.4444444444444444,\"#bd3786\"],[0.5555555555555556,\"#d8576b\"],[0.6666666666666666,\"#ed7953\"],[0.7777777777777778,\"#fb9f3a\"],[0.8888888888888888,\"#fdca26\"],[1.0,\"#f0f921\"]],\"type\":\"heatmapgl\"}],\"histogram\":[{\"marker\":{\"pattern\":{\"fillmode\":\"overlay\",\"size\":10,\"solidity\":0.2}},\"type\":\"histogram\"}],\"histogram2d\":[{\"colorbar\":{\"outlinewidth\":0,\"ticks\":\"\"},\"colorscale\":[[0.0,\"#0d0887\"],[0.1111111111111111,\"#46039f\"],[0.2222222222222222,\"#7201a8\"],[0.3333333333333333,\"#9c179e\"],[0.4444444444444444,\"#bd3786\"],[0.5555555555555556,\"#d8576b\"],[0.6666666666666666,\"#ed7953\"],[0.7777777777777778,\"#fb9f3a\"],[0.8888888888888888,\"#fdca26\"],[1.0,\"#f0f921\"]],\"type\":\"histogram2d\"}],\"histogram2dcontour\":[{\"colorbar\":{\"outlinewidth\":0,\"ticks\":\"\"},\"colorscale\":[[0.0,\"#0d0887\"],[0.1111111111111111,\"#46039f\"],[0.2222222222222222,\"#7201a8\"],[0.3333333333333333,\"#9c179e\"],[0.4444444444444444,\"#bd3786\"],[0.5555555555555556,\"#d8576b\"],[0.6666666666666666,\"#ed7953\"],[0.7777777777777778,\"#fb9f3a\"],[0.8888888888888888,\"#fdca26\"],[1.0,\"#f0f921\"]],\"type\":\"histogram2dcontour\"}],\"mesh3d\":[{\"colorbar\":{\"outlinewidth\":0,\"ticks\":\"\"},\"type\":\"mesh3d\"}],\"parcoords\":[{\"line\":{\"colorbar\":{\"outlinewidth\":0,\"ticks\":\"\"}},\"type\":\"parcoords\"}],\"pie\":[{\"automargin\":true,\"type\":\"pie\"}],\"scatter\":[{\"marker\":{\"colorbar\":{\"outlinewidth\":0,\"ticks\":\"\"}},\"type\":\"scatter\"}],\"scatter3d\":[{\"line\":{\"colorbar\":{\"outlinewidth\":0,\"ticks\":\"\"}},\"marker\":{\"colorbar\":{\"outlinewidth\":0,\"ticks\":\"\"}},\"type\":\"scatter3d\"}],\"scattercarpet\":[{\"marker\":{\"colorbar\":{\"outlinewidth\":0,\"ticks\":\"\"}},\"type\":\"scattercarpet\"}],\"scattergeo\":[{\"marker\":{\"colorbar\":{\"outlinewidth\":0,\"ticks\":\"\"}},\"type\":\"scattergeo\"}],\"scattergl\":[{\"marker\":{\"colorbar\":{\"outlinewidth\":0,\"ticks\":\"\"}},\"type\":\"scattergl\"}],\"scattermapbox\":[{\"marker\":{\"colorbar\":{\"outlinewidth\":0,\"ticks\":\"\"}},\"type\":\"scattermapbox\"}],\"scatterpolar\":[{\"marker\":{\"colorbar\":{\"outlinewidth\":0,\"ticks\":\"\"}},\"type\":\"scatterpolar\"}],\"scatterpolargl\":[{\"marker\":{\"colorbar\":{\"outlinewidth\":0,\"ticks\":\"\"}},\"type\":\"scatterpolargl\"}],\"scatterternary\":[{\"marker\":{\"colorbar\":{\"outlinewidth\":0,\"ticks\":\"\"}},\"type\":\"scatterternary\"}],\"surface\":[{\"colorbar\":{\"outlinewidth\":0,\"ticks\":\"\"},\"colorscale\":[[0.0,\"#0d0887\"],[0.1111111111111111,\"#46039f\"],[0.2222222222222222,\"#7201a8\"],[0.3333333333333333,\"#9c179e\"],[0.4444444444444444,\"#bd3786\"],[0.5555555555555556,\"#d8576b\"],[0.6666666666666666,\"#ed7953\"],[0.7777777777777778,\"#fb9f3a\"],[0.8888888888888888,\"#fdca26\"],[1.0,\"#f0f921\"]],\"type\":\"surface\"}],\"table\":[{\"cells\":{\"fill\":{\"color\":\"#EBF0F8\"},\"line\":{\"color\":\"white\"}},\"header\":{\"fill\":{\"color\":\"#C8D4E3\"},\"line\":{\"color\":\"white\"}},\"type\":\"table\"}]},\"layout\":{\"annotationdefaults\":{\"arrowcolor\":\"#2a3f5f\",\"arrowhead\":0,\"arrowwidth\":1},\"autotypenumbers\":\"strict\",\"coloraxis\":{\"colorbar\":{\"outlinewidth\":0,\"ticks\":\"\"}},\"colorscale\":{\"diverging\":[[0,\"#8e0152\"],[0.1,\"#c51b7d\"],[0.2,\"#de77ae\"],[0.3,\"#f1b6da\"],[0.4,\"#fde0ef\"],[0.5,\"#f7f7f7\"],[0.6,\"#e6f5d0\"],[0.7,\"#b8e186\"],[0.8,\"#7fbc41\"],[0.9,\"#4d9221\"],[1,\"#276419\"]],\"sequential\":[[0.0,\"#0d0887\"],[0.1111111111111111,\"#46039f\"],[0.2222222222222222,\"#7201a8\"],[0.3333333333333333,\"#9c179e\"],[0.4444444444444444,\"#bd3786\"],[0.5555555555555556,\"#d8576b\"],[0.6666666666666666,\"#ed7953\"],[0.7777777777777778,\"#fb9f3a\"],[0.8888888888888888,\"#fdca26\"],[1.0,\"#f0f921\"]],\"sequentialminus\":[[0.0,\"#0d0887\"],[0.1111111111111111,\"#46039f\"],[0.2222222222222222,\"#7201a8\"],[0.3333333333333333,\"#9c179e\"],[0.4444444444444444,\"#bd3786\"],[0.5555555555555556,\"#d8576b\"],[0.6666666666666666,\"#ed7953\"],[0.7777777777777778,\"#fb9f3a\"],[0.8888888888888888,\"#fdca26\"],[1.0,\"#f0f921\"]]},\"colorway\":[\"#636efa\",\"#EF553B\",\"#00cc96\",\"#ab63fa\",\"#FFA15A\",\"#19d3f3\",\"#FF6692\",\"#B6E880\",\"#FF97FF\",\"#FECB52\"],\"font\":{\"color\":\"#2a3f5f\"},\"geo\":{\"bgcolor\":\"white\",\"lakecolor\":\"white\",\"landcolor\":\"#E5ECF6\",\"showlakes\":true,\"showland\":true,\"subunitcolor\":\"white\"},\"hoverlabel\":{\"align\":\"left\"},\"hovermode\":\"closest\",\"mapbox\":{\"style\":\"light\"},\"paper_bgcolor\":\"white\",\"plot_bgcolor\":\"#E5ECF6\",\"polar\":{\"angularaxis\":{\"gridcolor\":\"white\",\"linecolor\":\"white\",\"ticks\":\"\"},\"bgcolor\":\"#E5ECF6\",\"radialaxis\":{\"gridcolor\":\"white\",\"linecolor\":\"white\",\"ticks\":\"\"}},\"scene\":{\"xaxis\":{\"backgroundcolor\":\"#E5ECF6\",\"gridcolor\":\"white\",\"gridwidth\":2,\"linecolor\":\"white\",\"showbackground\":true,\"ticks\":\"\",\"zerolinecolor\":\"white\"},\"yaxis\":{\"backgroundcolor\":\"#E5ECF6\",\"gridcolor\":\"white\",\"gridwidth\":2,\"linecolor\":\"white\",\"showbackground\":true,\"ticks\":\"\",\"zerolinecolor\":\"white\"},\"zaxis\":{\"backgroundcolor\":\"#E5ECF6\",\"gridcolor\":\"white\",\"gridwidth\":2,\"linecolor\":\"white\",\"showbackground\":true,\"ticks\":\"\",\"zerolinecolor\":\"white\"}},\"shapedefaults\":{\"line\":{\"color\":\"#2a3f5f\"}},\"ternary\":{\"aaxis\":{\"gridcolor\":\"white\",\"linecolor\":\"white\",\"ticks\":\"\"},\"baxis\":{\"gridcolor\":\"white\",\"linecolor\":\"white\",\"ticks\":\"\"},\"bgcolor\":\"#E5ECF6\",\"caxis\":{\"gridcolor\":\"white\",\"linecolor\":\"white\",\"ticks\":\"\"}},\"title\":{\"x\":0.05},\"xaxis\":{\"automargin\":true,\"gridcolor\":\"white\",\"linecolor\":\"white\",\"ticks\":\"\",\"title\":{\"standoff\":15},\"zerolinecolor\":\"white\",\"zerolinewidth\":2},\"yaxis\":{\"automargin\":true,\"gridcolor\":\"white\",\"linecolor\":\"white\",\"ticks\":\"\",\"title\":{\"standoff\":15},\"zerolinecolor\":\"white\",\"zerolinewidth\":2}}},\"xaxis\":{\"anchor\":\"y\",\"domain\":[0.0,0.4]},\"yaxis\":{\"anchor\":\"x\",\"domain\":[0.0,1.0]},\"xaxis2\":{\"anchor\":\"y2\",\"domain\":[0.6000000000000001,1.0]},\"yaxis2\":{\"anchor\":\"x2\",\"domain\":[0.0,1.0]},\"annotations\":[{\"font\":{\"size\":16},\"showarrow\":false,\"text\":\"Train Dataset\",\"x\":0.2,\"xanchor\":\"center\",\"xref\":\"paper\",\"y\":1.0,\"yanchor\":\"bottom\",\"yref\":\"paper\"},{\"font\":{\"size\":16},\"showarrow\":false,\"text\":\"Test Dataset\",\"x\":0.8,\"xanchor\":\"center\",\"xref\":\"paper\",\"y\":1.0,\"yanchor\":\"bottom\",\"yref\":\"paper\"}],\"title\":{\"text\":\"Confusion Matrix\"},\"width\":900,\"height\":500},                        {\"responsive\": true}                    ).then(function(){\n",
       "                            \n",
       "var gd = document.getElementById('0ac07dde-2e41-473d-805d-195f812b4a4c');\n",
       "var x = new MutationObserver(function (mutations, observer) {{\n",
       "        var display = window.getComputedStyle(gd).display;\n",
       "        if (!display || display === 'none') {{\n",
       "            console.log([gd, 'removed!']);\n",
       "            Plotly.purge(gd);\n",
       "            observer.disconnect();\n",
       "        }}\n",
       "}});\n",
       "\n",
       "// Listen for the removal of the full notebook cells\n",
       "var notebookContainer = gd.closest('#notebook-container');\n",
       "if (notebookContainer) {{\n",
       "    x.observe(notebookContainer, {childList: true});\n",
       "}}\n",
       "\n",
       "// Listen for the clearing of the current output cell\n",
       "var outputEl = gd.closest('.output');\n",
       "if (outputEl) {{\n",
       "    x.observe(outputEl, {childList: true});\n",
       "}}\n",
       "\n",
       "                        })                };                });            </script>        </div>"
      ]
     },
     "metadata": {},
     "output_type": "display_data"
    }
   ],
   "source": [
    "# Display Metrics\n",
    "metrics_report(y_train, y_test, y_pred_train, y_pred_test, plot_roc=False, plot_pr=False)"
   ]
  },
  {
   "cell_type": "markdown",
   "id": "b0995214",
   "metadata": {},
   "source": [
    "### __D)__ Treine uma rede neural simples com as seguintes características:\n",
    "- Uma camada oculta com 18 neurônios e ativação ReLU;\n",
    "- Uma camada oculta com 50 neurônios e ativação ReLU;\n",
    "- Uma camada oculta com 5 neurônios e ativação ReLU;\n",
    "- Camada de Saída com ativação Sigmoíde;  \n",
    "Utilize como otimizador o `adam`, função de perda o `binary_corssentropy` e me´trica de acompanhamento a acurácia."
   ]
  },
  {
   "cell_type": "code",
   "execution_count": null,
   "id": "d11548e1",
   "metadata": {},
   "outputs": [],
   "source": []
  },
  {
   "cell_type": "markdown",
   "id": "5b931c38",
   "metadata": {},
   "source": [
    "### __E)__ Qual o modelo teve o melhor desempenho?"
   ]
  },
  {
   "cell_type": "code",
   "execution_count": null,
   "id": "cf6e5f71",
   "metadata": {},
   "outputs": [],
   "source": [
    "## "
   ]
  }
 ],
 "metadata": {
  "kernelspec": {
   "display_name": "Python 3 (ipykernel)",
   "language": "python",
   "name": "python3"
  },
  "language_info": {
   "codemirror_mode": {
    "name": "ipython",
    "version": 3
   },
   "file_extension": ".py",
   "mimetype": "text/x-python",
   "name": "python",
   "nbconvert_exporter": "python",
   "pygments_lexer": "ipython3",
   "version": "3.9.12"
  },
  "toc": {
   "base_numbering": 1,
   "nav_menu": {},
   "number_sections": true,
   "sideBar": true,
   "skip_h1_title": false,
   "title_cell": "Table of Contents",
   "title_sidebar": "Contents",
   "toc_cell": false,
   "toc_position": {},
   "toc_section_display": true,
   "toc_window_display": false
  }
 },
 "nbformat": 4,
 "nbformat_minor": 5
}
