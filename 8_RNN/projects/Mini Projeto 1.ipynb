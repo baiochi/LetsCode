{
 "cells": [
  {
   "cell_type": "markdown",
   "id": "ccd63212",
   "metadata": {},
   "source": [
    "# Mini Projeto 1 - Perceptron e Redes Neurais"
   ]
  },
  {
   "cell_type": "markdown",
   "id": "15605527",
   "metadata": {},
   "source": [
    "## "
   ]
  },
  {
   "cell_type": "markdown",
   "id": "5b931c38",
   "metadata": {},
   "source": [
    "Para resolver o primeiro mini projeto, o aluno ou o grupo de alunos (grupo de no máximo 3 pessoas) devem escolher um dos `datasets` indicados no _Drive_ da turma para realizar o projeto. A partir do `dataset` escolhido, desenvolva os itens abaixo:\n",
    "\n",
    "__A)__ (10 pontos) Desenvolva uma análise exploratória dos dados adequada;\n",
    "\n",
    "__B)__ (5 pontos) Faça a preparação dos dados para treinar os modelos;\n",
    "\n",
    "__C)__ (15 pontos) Teste pelo menos 3 modelos de _Machine Learning_ convencional, sendo algumas sugestões como Regressão Logística, Árvore de Decisão, _Random Forest_ entre outros;\n",
    "\n",
    "__D)__ (30 pontos) Desenvolva uma rede neural _Perceptron_ para fazer a separação entre as classes. O modelo consegue fazer a separação linear dos dados? Avaliar utilizando o PCA caso necessário;\n",
    "\n",
    "__E)__ (30 pontos) Monte duas redes neurais MLP utilizando combinações de camadas diferentes (teste algumas combinações para chegar em uma melhor performance dos resultados).\n",
    "\n",
    "__F)__ (10 pontos) Qual dos modelos teve a melhor performance entre os modelos convencionais, _Perceptron_ e MLP? Discuta um pouco a respeito.\n",
    "\n",
    "\n",
    "__Entrega:__ até o dia 10/06 pelo Class (vou criar uma atividade como projeto para que vocês entreguem por lá)\n",
    "\n",
    "__Monitoria:__ dia 07/06;"
   ]
  },
  {
   "cell_type": "markdown",
   "id": "1849bba4",
   "metadata": {},
   "source": [
    "## "
   ]
  }
 ],
 "metadata": {
  "kernelspec": {
   "display_name": "Python 3 (ipykernel)",
   "language": "python",
   "name": "python3"
  },
  "language_info": {
   "codemirror_mode": {
    "name": "ipython",
    "version": 3
   },
   "file_extension": ".py",
   "mimetype": "text/x-python",
   "name": "python",
   "nbconvert_exporter": "python",
   "pygments_lexer": "ipython3",
   "version": "3.9.7"
  }
 },
 "nbformat": 4,
 "nbformat_minor": 5
}
